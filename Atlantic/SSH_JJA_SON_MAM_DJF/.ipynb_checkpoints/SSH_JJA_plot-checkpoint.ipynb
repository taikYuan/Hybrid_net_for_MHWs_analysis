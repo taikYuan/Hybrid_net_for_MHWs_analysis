{
 "cells": [
  {
   "cell_type": "code",
   "execution_count": 1,
   "id": "3488f1bf",
   "metadata": {},
   "outputs": [],
   "source": [
    "import random\n",
    "\n",
    "import numpy as np\n",
    "import torch\n",
    "from sklearn.metrics import mean_squared_error\n",
    "from sklearn.preprocessing import MinMaxScaler\n",
    "from torch import nn\n",
    "from tqdm import tqdm\n",
    "from torch.autograd import Variable\n",
    "from torch.utils.data import Dataset, DataLoader"
   ]
  },
  {
   "cell_type": "code",
   "execution_count": 4,
   "id": "e7c37a20",
   "metadata": {},
   "outputs": [
    {
     "name": "stdout",
     "output_type": "stream",
     "text": [
      "['time', 'lat', 'lon', 'sea_surface_height_above_geoid', 'surface_geostrophic_eastward_sea_water_velocity', 'surface_geostrophic_northward_sea_water_velocity', 'sea_surface_height_above_sea_level', 'surface_geostrophic_eastward_sea_water_velocity_assuming_sea_level_for_geoid', 'surface_geostrophic_northward_sea_water_velocity_assuming_sea_level_for_geoid']\n"
     ]
    }
   ],
   "source": [
    "data = np.load(r'D:\\heat_wave\\atlantic\\expand_area1\\ssh\\ssh_93_19_atlantic_area.npz')\n",
    "print(data.files) # ['sst_obser', 'slfh', 'sshf', 'ssr', 'str', 'mld', 'analysis_temp', 'u', 'v', 'T_d', 'u_d', 'v_d', 'xx', 'yy', 'dT_dt', 'dT_dx', 'dT_dy']"
   ]
  },
  {
   "cell_type": "code",
   "execution_count": 5,
   "id": "17d9c8df",
   "metadata": {},
   "outputs": [],
   "source": [
    "sea_surface_height_above_geoid = data['sea_surface_height_above_geoid'][:]\n",
    "sea_surface_height_above_sea_level = data['sea_surface_height_above_sea_level'][:]"
   ]
  },
  {
   "cell_type": "code",
   "execution_count": 6,
   "id": "1dc11b80",
   "metadata": {},
   "outputs": [],
   "source": [
    "# JJA   93\n",
    "date_93_1 = 151\n",
    "date_93_2 = 243\n",
    "data_1 = date_93_1\n",
    "data_2 = date_93_2\n",
    "\n",
    "sea_surface_height_above_geoid_93 = sea_surface_height_above_geoid[data_1:data_2,:,:]\n",
    "sea_surface_height_above_sea_level_93 = sea_surface_height_above_sea_level[data_1:data_2,:,:]"
   ]
  },
  {
   "cell_type": "code",
   "execution_count": 7,
   "id": "2abd41c2",
   "metadata": {},
   "outputs": [],
   "source": [
    "# JJA   94\n",
    "date_94_1 = 516\n",
    "date_94_2 = 608\n",
    "data_1 = date_94_1\n",
    "data_2 = date_94_2\n",
    "\n",
    "sea_surface_height_above_geoid_94 = sea_surface_height_above_geoid[data_1:data_2,:,:]\n",
    "sea_surface_height_above_sea_level_94 = sea_surface_height_above_sea_level[data_1:data_2,:,:]"
   ]
  },
  {
   "cell_type": "code",
   "execution_count": 8,
   "id": "37a70844",
   "metadata": {},
   "outputs": [],
   "source": [
    "# JJA   95\n",
    "date_95_1 = 881\n",
    "date_95_2 = 973\n",
    "data_1 = date_95_1\n",
    "data_2 = date_95_2\n",
    "\n",
    "sea_surface_height_above_geoid_95 = sea_surface_height_above_geoid[data_1:data_2,:,:]\n",
    "sea_surface_height_above_sea_level_95 = sea_surface_height_above_sea_level[data_1:data_2,:,:]"
   ]
  },
  {
   "cell_type": "code",
   "execution_count": 9,
   "id": "ab4a0bf2",
   "metadata": {},
   "outputs": [],
   "source": [
    "# JJA   96\n",
    "date_96_1 = 1247\n",
    "date_96_2 = 1339\n",
    "data_1 = date_96_1\n",
    "data_2 = date_96_2\n",
    "\n",
    "sea_surface_height_above_geoid_96 = sea_surface_height_above_geoid[data_1:data_2,:,:]\n",
    "sea_surface_height_above_sea_level_96 = sea_surface_height_above_sea_level[data_1:data_2,:,:]"
   ]
  },
  {
   "cell_type": "code",
   "execution_count": 10,
   "id": "dbb0338b",
   "metadata": {},
   "outputs": [],
   "source": [
    "# JJA   97\n",
    "date_97_1 = 1612\n",
    "date_97_2 = 1704\n",
    "data_1 = date_97_1\n",
    "data_2 = date_97_2\n",
    "\n",
    "sea_surface_height_above_geoid_97 = sea_surface_height_above_geoid[data_1:data_2,:,:]\n",
    "sea_surface_height_above_sea_level_97 = sea_surface_height_above_sea_level[data_1:data_2,:,:]"
   ]
  },
  {
   "cell_type": "code",
   "execution_count": 11,
   "id": "3882cd8b",
   "metadata": {},
   "outputs": [],
   "source": [
    "# JJA   98\n",
    "date_98_1 = 1977\n",
    "date_98_2 = 2069\n",
    "data_1 = date_98_1\n",
    "data_2 = date_98_2\n",
    "\n",
    "sea_surface_height_above_geoid_98 = sea_surface_height_above_geoid[data_1:data_2,:,:]\n",
    "sea_surface_height_above_sea_level_98 = sea_surface_height_above_sea_level[data_1:data_2,:,:]"
   ]
  },
  {
   "cell_type": "code",
   "execution_count": 12,
   "id": "12ed99a2",
   "metadata": {},
   "outputs": [],
   "source": [
    "# JJA   99\n",
    "date_99_1 = 2324\n",
    "date_99_2 = 2434\n",
    "data_1 = date_99_1\n",
    "data_2 = date_99_2\n",
    "\n",
    "sea_surface_height_above_geoid_99 = sea_surface_height_above_geoid[data_1:data_2,:,:]\n",
    "sea_surface_height_above_sea_level_99 = sea_surface_height_above_sea_level[data_1:data_2,:,:]"
   ]
  },
  {
   "cell_type": "code",
   "execution_count": 13,
   "id": "6daa335c",
   "metadata": {},
   "outputs": [],
   "source": [
    "# JJA   00\n",
    "date_00_1 = 2708\n",
    "date_00_2 = 2799\n",
    "data_1 = date_00_1\n",
    "data_2 = date_00_2\n",
    "\n",
    "sea_surface_height_above_geoid_00 = sea_surface_height_above_geoid[data_1:data_2,:,:]\n",
    "sea_surface_height_above_sea_level_00 = sea_surface_height_above_sea_level[data_1:data_2,:,:]"
   ]
  },
  {
   "cell_type": "code",
   "execution_count": 14,
   "id": "d1440bd4",
   "metadata": {},
   "outputs": [],
   "source": [
    "# JJA   01\n",
    "date_01_1 = 3073\n",
    "date_01_2 = 3165\n",
    "data_1 = date_01_1\n",
    "data_2 = date_01_2\n",
    "\n",
    "sea_surface_height_above_geoid_01 = sea_surface_height_above_geoid[data_1:data_2,:,:]\n",
    "sea_surface_height_above_sea_level_01 = sea_surface_height_above_sea_level[data_1:data_2,:,:]"
   ]
  },
  {
   "cell_type": "code",
   "execution_count": 15,
   "id": "8acad56e",
   "metadata": {},
   "outputs": [],
   "source": [
    "# JJA   02\n",
    "date_02_1 = 3438\n",
    "date_02_2 = 3529\n",
    "data_1 = date_02_1\n",
    "data_2 = date_02_2\n",
    "\n",
    "sea_surface_height_above_geoid_02 = sea_surface_height_above_geoid[data_1:data_2,:,:]\n",
    "sea_surface_height_above_sea_level_02 = sea_surface_height_above_sea_level[data_1:data_2,:,:]"
   ]
  },
  {
   "cell_type": "code",
   "execution_count": 16,
   "id": "07c91386",
   "metadata": {},
   "outputs": [],
   "source": [
    "# JJA   03\n",
    "date_03_1 = 3803\n",
    "date_03_2 = 3895\n",
    "data_1 = date_03_1\n",
    "data_2 = date_03_2\n",
    "\n",
    "sea_surface_height_above_geoid_03 = sea_surface_height_above_geoid[data_1:data_2,:,:]\n",
    "sea_surface_height_above_sea_level_03 = sea_surface_height_above_sea_level[data_1:data_2,:,:]"
   ]
  },
  {
   "cell_type": "code",
   "execution_count": 17,
   "id": "7715ab8a",
   "metadata": {},
   "outputs": [],
   "source": [
    "# JJA   04\n",
    "date_04_1 = 4169\n",
    "date_04_2 = 4261\n",
    "data_1 = date_04_1\n",
    "data_2 = date_04_2\n",
    "\n",
    "sea_surface_height_above_geoid_04 = sea_surface_height_above_geoid[data_1:data_2,:,:]\n",
    "sea_surface_height_above_sea_level_04 = sea_surface_height_above_sea_level[data_1:data_2,:,:]"
   ]
  },
  {
   "cell_type": "code",
   "execution_count": 18,
   "id": "a2ba051f",
   "metadata": {},
   "outputs": [],
   "source": [
    "# JJA   05\n",
    "date_05_1 = 4534\n",
    "date_05_2 = 4626\n",
    "data_1 = date_05_1\n",
    "data_2 = date_05_2\n",
    "\n",
    "sea_surface_height_above_geoid_05 = sea_surface_height_above_geoid[data_1:data_2,:,:]\n",
    "sea_surface_height_above_sea_level_05 = sea_surface_height_above_sea_level[data_1:data_2,:,:]"
   ]
  },
  {
   "cell_type": "code",
   "execution_count": 19,
   "id": "9f939e11",
   "metadata": {},
   "outputs": [],
   "source": [
    "# JJA   06\n",
    "date_06_1 = 4899\n",
    "date_06_2 = 4990\n",
    "data_1 = date_06_1\n",
    "data_2 = date_06_2\n",
    "\n",
    "sea_surface_height_above_geoid_06 = sea_surface_height_above_geoid[data_1:data_2,:,:]\n",
    "sea_surface_height_above_sea_level_06 = sea_surface_height_above_sea_level[data_1:data_2,:,:]"
   ]
  },
  {
   "cell_type": "code",
   "execution_count": 20,
   "id": "7860f216",
   "metadata": {},
   "outputs": [],
   "source": [
    "# JJA   07\n",
    "date_07_1 = 5264\n",
    "date_07_2 = 5356\n",
    "data_1 = date_07_1\n",
    "data_2 = date_07_2\n",
    "\n",
    "sea_surface_height_above_geoid_07 = sea_surface_height_above_geoid[data_1:data_2,:,:]\n",
    "sea_surface_height_above_sea_level_07 = sea_surface_height_above_sea_level[data_1:data_2,:,:]"
   ]
  },
  {
   "cell_type": "code",
   "execution_count": 21,
   "id": "e0a7f638",
   "metadata": {},
   "outputs": [],
   "source": [
    "# JJA   08\n",
    "date_08_1 = 5630\n",
    "date_08_2 = 5722\n",
    "data_1 = date_08_1\n",
    "data_2 = date_08_2\n",
    "\n",
    "sea_surface_height_above_geoid_08 = sea_surface_height_above_geoid[data_1:data_2,:,:]\n",
    "sea_surface_height_above_sea_level_08 = sea_surface_height_above_sea_level[data_1:data_2,:,:]"
   ]
  },
  {
   "cell_type": "code",
   "execution_count": 22,
   "id": "7fd72ad5",
   "metadata": {},
   "outputs": [],
   "source": [
    "# JJA   09\n",
    "date_09_1 = 5995\n",
    "date_09_2 = 6087\n",
    "data_1 = date_09_1\n",
    "data_2 = date_09_2\n",
    "\n",
    "sea_surface_height_above_geoid_09 = sea_surface_height_above_geoid[data_1:data_2,:,:]\n",
    "sea_surface_height_above_sea_level_09 = sea_surface_height_above_sea_level[data_1:data_2,:,:]"
   ]
  },
  {
   "cell_type": "code",
   "execution_count": 23,
   "id": "0766481e",
   "metadata": {},
   "outputs": [],
   "source": [
    "# JJA   10\n",
    "date_10_1 = 6360\n",
    "date_10_2 = 6452\n",
    "data_1 = date_10_1\n",
    "data_2 = date_10_2\n",
    "\n",
    "sea_surface_height_above_geoid_10 = sea_surface_height_above_geoid[data_1:data_2,:,:]\n",
    "sea_surface_height_above_sea_level_10 = sea_surface_height_above_sea_level[data_1:data_2,:,:]"
   ]
  },
  {
   "cell_type": "code",
   "execution_count": 24,
   "id": "0bba1f43",
   "metadata": {},
   "outputs": [],
   "source": [
    "# JJA   11\n",
    "date_11_1 = 6725\n",
    "date_11_2 = 6817\n",
    "data_1 = date_11_1\n",
    "data_2 = date_11_2\n",
    "\n",
    "sea_surface_height_above_geoid_11 = sea_surface_height_above_geoid[data_1:data_2,:,:]\n",
    "sea_surface_height_above_sea_level_11 = sea_surface_height_above_sea_level[data_1:data_2,:,:]"
   ]
  },
  {
   "cell_type": "code",
   "execution_count": 25,
   "id": "e51fcc9e",
   "metadata": {},
   "outputs": [],
   "source": [
    "# JJA   12\n",
    "date_12_1 = 7091\n",
    "date_12_2 = 7183\n",
    "data_1 = date_12_1\n",
    "data_2 = date_12_2\n",
    "\n",
    "sea_surface_height_above_geoid_12 = sea_surface_height_above_geoid[data_1:data_2,:,:]\n",
    "sea_surface_height_above_sea_level_12 = sea_surface_height_above_sea_level[data_1:data_2,:,:]"
   ]
  },
  {
   "cell_type": "code",
   "execution_count": 26,
   "id": "ab9145c0",
   "metadata": {},
   "outputs": [],
   "source": [
    "# JJA   13\n",
    "date_13_1 = 7456\n",
    "date_13_2 = 7548\n",
    "data_1 = date_13_1\n",
    "data_2 = date_13_2\n",
    "\n",
    "sea_surface_height_above_geoid_13 = sea_surface_height_above_geoid[data_1:data_2,:,:]\n",
    "sea_surface_height_above_sea_level_13 = sea_surface_height_above_sea_level[data_1:data_2,:,:]"
   ]
  },
  {
   "cell_type": "code",
   "execution_count": 27,
   "id": "7c015438",
   "metadata": {},
   "outputs": [],
   "source": [
    "# JJA   14\n",
    "date_14_1 = 7821\n",
    "date_14_2 = 7913\n",
    "data_1 = date_14_1\n",
    "data_2 = date_14_2\n",
    "\n",
    "sea_surface_height_above_geoid_14 = sea_surface_height_above_geoid[data_1:data_2,:,:]\n",
    "sea_surface_height_above_sea_level_14 = sea_surface_height_above_sea_level[data_1:data_2,:,:]"
   ]
  },
  {
   "cell_type": "code",
   "execution_count": 28,
   "id": "35111a8b",
   "metadata": {},
   "outputs": [],
   "source": [
    "# JJA   15\n",
    "date_15_1 = 8186\n",
    "date_15_2 = 8278\n",
    "data_1 = date_15_1\n",
    "data_2 = date_15_2\n",
    "\n",
    "sea_surface_height_above_geoid_15 = sea_surface_height_above_geoid[data_1:data_2,:,:]\n",
    "sea_surface_height_above_sea_level_15 = sea_surface_height_above_sea_level[data_1:data_2,:,:]"
   ]
  },
  {
   "cell_type": "code",
   "execution_count": 29,
   "id": "3dc65ff4",
   "metadata": {},
   "outputs": [],
   "source": [
    "# JJA   16\n",
    "date_16_1 = 8552\n",
    "date_16_2 = 8644\n",
    "data_1 = date_16_1\n",
    "data_2 = date_16_2\n",
    "\n",
    "sea_surface_height_above_geoid_16 = sea_surface_height_above_geoid[data_1:data_2,:,:]\n",
    "sea_surface_height_above_sea_level_16 = sea_surface_height_above_sea_level[data_1:data_2,:,:]"
   ]
  },
  {
   "cell_type": "code",
   "execution_count": 30,
   "id": "8acb687f",
   "metadata": {},
   "outputs": [],
   "source": [
    "# JJA   17\n",
    "date_17_1 = 8917\n",
    "date_17_2 = 9009\n",
    "data_1 = date_17_1\n",
    "data_2 = date_17_2\n",
    "\n",
    "sea_surface_height_above_geoid_17 = sea_surface_height_above_geoid[data_1:data_2,:,:]\n",
    "sea_surface_height_above_sea_level_17 = sea_surface_height_above_sea_level[data_1:data_2,:,:]"
   ]
  },
  {
   "cell_type": "code",
   "execution_count": 31,
   "id": "efc13914",
   "metadata": {},
   "outputs": [],
   "source": [
    "# JJA   18\n",
    "date_18_1 = 9282\n",
    "date_18_2 = 9374\n",
    "data_1 = date_18_1\n",
    "data_2 = date_18_2\n",
    "\n",
    "sea_surface_height_above_geoid_18 = sea_surface_height_above_geoid[data_1:data_2,:,:]\n",
    "sea_surface_height_above_sea_level_18 = sea_surface_height_above_sea_level[data_1:data_2,:,:]"
   ]
  },
  {
   "cell_type": "code",
   "execution_count": 32,
   "id": "e46292aa",
   "metadata": {},
   "outputs": [],
   "source": [
    "# JJA   19\n",
    "date_19_1 = 9647\n",
    "date_19_2 = 9739\n",
    "data_1 = date_19_1\n",
    "data_2 = date_19_2\n",
    "\n",
    "sea_surface_height_above_geoid_19 = sea_surface_height_above_geoid[data_1:data_2,:,:]\n",
    "sea_surface_height_above_sea_level_19 = sea_surface_height_above_sea_level[data_1:data_2,:,:]"
   ]
  },
  {
   "cell_type": "code",
   "execution_count": 33,
   "id": "633ae845",
   "metadata": {},
   "outputs": [
    {
     "data": {
      "text/plain": [
       "(92, 82, 81)"
      ]
     },
     "execution_count": 33,
     "metadata": {},
     "output_type": "execute_result"
    }
   ],
   "source": [
    "sea_surface_height_above_geoid_19.shape"
   ]
  },
  {
   "cell_type": "code",
   "execution_count": null,
   "id": "f9221993",
   "metadata": {},
   "outputs": [],
   "source": []
  },
  {
   "cell_type": "code",
   "execution_count": 34,
   "id": "7e24840c",
   "metadata": {},
   "outputs": [],
   "source": [
    "sea_surface_height_above_geoid_93_mean = np.mean((sea_surface_height_above_geoid_93), axis = (0,1,2)).reshape(-1,1)"
   ]
  },
  {
   "cell_type": "code",
   "execution_count": 35,
   "id": "50e0f7a7",
   "metadata": {},
   "outputs": [],
   "source": [
    "sea_surface_height_above_geoid_94_mean = np.mean((sea_surface_height_above_geoid_94), axis = (0,1,2)).reshape(-1,1)\n",
    "sea_surface_height_above_geoid_95_mean = np.mean((sea_surface_height_above_geoid_95), axis = (0,1,2)).reshape(-1,1)\n",
    "sea_surface_height_above_geoid_96_mean = np.mean((sea_surface_height_above_geoid_96), axis = (0,1,2)).reshape(-1,1)\n",
    "sea_surface_height_above_geoid_97_mean = np.mean((sea_surface_height_above_geoid_97), axis = (0,1,2)).reshape(-1,1)\n",
    "sea_surface_height_above_geoid_98_mean = np.mean((sea_surface_height_above_geoid_98), axis = (0,1,2)).reshape(-1,1)\n",
    "sea_surface_height_above_geoid_99_mean = np.mean((sea_surface_height_above_geoid_99), axis = (0,1,2)).reshape(-1,1)\n",
    "sea_surface_height_above_geoid_00_mean = np.mean((sea_surface_height_above_geoid_00), axis = (0,1,2)).reshape(-1,1)\n",
    "sea_surface_height_above_geoid_01_mean = np.mean((sea_surface_height_above_geoid_01), axis = (0,1,2)).reshape(-1,1)\n",
    "sea_surface_height_above_geoid_02_mean = np.mean((sea_surface_height_above_geoid_02), axis = (0,1,2)).reshape(-1,1)\n",
    "sea_surface_height_above_geoid_03_mean = np.mean((sea_surface_height_above_geoid_03), axis = (0,1,2)).reshape(-1,1)\n",
    "sea_surface_height_above_geoid_04_mean = np.mean((sea_surface_height_above_geoid_04), axis = (0,1,2)).reshape(-1,1)\n",
    "sea_surface_height_above_geoid_05_mean = np.mean((sea_surface_height_above_geoid_05), axis = (0,1,2)).reshape(-1,1)\n",
    "sea_surface_height_above_geoid_06_mean = np.mean((sea_surface_height_above_geoid_06), axis = (0,1,2)).reshape(-1,1)\n",
    "sea_surface_height_above_geoid_07_mean = np.mean((sea_surface_height_above_geoid_07), axis = (0,1,2)).reshape(-1,1)\n",
    "sea_surface_height_above_geoid_08_mean = np.mean((sea_surface_height_above_geoid_08), axis = (0,1,2)).reshape(-1,1)\n",
    "sea_surface_height_above_geoid_09_mean = np.mean((sea_surface_height_above_geoid_09), axis = (0,1,2)).reshape(-1,1)\n",
    "sea_surface_height_above_geoid_10_mean = np.mean((sea_surface_height_above_geoid_10), axis = (0,1,2)).reshape(-1,1)\n",
    "sea_surface_height_above_geoid_11_mean = np.mean((sea_surface_height_above_geoid_11), axis = (0,1,2)).reshape(-1,1)\n",
    "sea_surface_height_above_geoid_12_mean = np.mean((sea_surface_height_above_geoid_12), axis = (0,1,2)).reshape(-1,1)\n",
    "sea_surface_height_above_geoid_13_mean = np.mean((sea_surface_height_above_geoid_13), axis = (0,1,2)).reshape(-1,1)\n",
    "sea_surface_height_above_geoid_14_mean = np.mean((sea_surface_height_above_geoid_14), axis = (0,1,2)).reshape(-1,1)\n",
    "sea_surface_height_above_geoid_15_mean = np.mean((sea_surface_height_above_geoid_15), axis = (0,1,2)).reshape(-1,1)\n",
    "sea_surface_height_above_geoid_16_mean = np.mean((sea_surface_height_above_geoid_16), axis = (0,1,2)).reshape(-1,1)\n",
    "sea_surface_height_above_geoid_17_mean = np.mean((sea_surface_height_above_geoid_17), axis = (0,1,2)).reshape(-1,1)\n",
    "sea_surface_height_above_geoid_18_mean = np.mean((sea_surface_height_above_geoid_18), axis = (0,1,2)).reshape(-1,1)\n",
    "sea_surface_height_above_geoid_19_mean = np.mean((sea_surface_height_above_geoid_19), axis = (0,1,2)).reshape(-1,1)"
   ]
  },
  {
   "cell_type": "code",
   "execution_count": 36,
   "id": "7c9b4ee1",
   "metadata": {},
   "outputs": [],
   "source": [
    "sea_surface_height_above_geoid_93_19_mean = np.concatenate((sea_surface_height_above_geoid_93,\n",
    "sea_surface_height_above_geoid_94, sea_surface_height_above_geoid_95, sea_surface_height_above_geoid_96,\n",
    "                                                           sea_surface_height_above_geoid_97, sea_surface_height_above_geoid_98,\n",
    "                                                           sea_surface_height_above_geoid_99, sea_surface_height_above_geoid_00,\n",
    "                                                           sea_surface_height_above_geoid_01, sea_surface_height_above_geoid_02,\n",
    "                                                           sea_surface_height_above_geoid_03, sea_surface_height_above_geoid_04,\n",
    "                                                           sea_surface_height_above_geoid_05, sea_surface_height_above_geoid_06,\n",
    "                                                           sea_surface_height_above_geoid_07, sea_surface_height_above_geoid_08,\n",
    "                                                           sea_surface_height_above_geoid_09, sea_surface_height_above_geoid_10,\n",
    "                                                           sea_surface_height_above_geoid_11, sea_surface_height_above_geoid_12,\n",
    "                                                           sea_surface_height_above_geoid_13, sea_surface_height_above_geoid_14,\n",
    "                                                           sea_surface_height_above_geoid_15, sea_surface_height_above_geoid_16,\n",
    "                                                           sea_surface_height_above_geoid_17, sea_surface_height_above_geoid_18,\n",
    "                                                           sea_surface_height_above_geoid_19), axis = 0)"
   ]
  },
  {
   "cell_type": "code",
   "execution_count": 37,
   "id": "d1cdfd73",
   "metadata": {},
   "outputs": [],
   "source": [
    "sea_surface_height_above_geoid_93_19_mean = np.mean((sea_surface_height_above_geoid_93_19_mean), axis = (1,2))"
   ]
  },
  {
   "cell_type": "code",
   "execution_count": 38,
   "id": "2694c249",
   "metadata": {},
   "outputs": [],
   "source": [
    "sea_surface_height_above_geoid_93_19_mean_all = np.concatenate((sea_surface_height_above_geoid_93_mean,\n",
    "sea_surface_height_above_geoid_94_mean, sea_surface_height_above_geoid_95_mean, \n",
    "                                                                sea_surface_height_above_geoid_96_mean,\n",
    "                                                           sea_surface_height_above_geoid_97_mean, sea_surface_height_above_geoid_98_mean,\n",
    "                                                           sea_surface_height_above_geoid_99_mean, sea_surface_height_above_geoid_00_mean,\n",
    "                                                           sea_surface_height_above_geoid_01_mean, sea_surface_height_above_geoid_02_mean,\n",
    "                                                           sea_surface_height_above_geoid_03_mean, sea_surface_height_above_geoid_04_mean,\n",
    "                                                           sea_surface_height_above_geoid_05_mean, sea_surface_height_above_geoid_06_mean,\n",
    "                                                           sea_surface_height_above_geoid_07_mean, sea_surface_height_above_geoid_08_mean,\n",
    "                                                           sea_surface_height_above_geoid_09_mean, sea_surface_height_above_geoid_10_mean,\n",
    "                                                           sea_surface_height_above_geoid_11_mean, sea_surface_height_above_geoid_12_mean,\n",
    "                                                           sea_surface_height_above_geoid_13_mean, sea_surface_height_above_geoid_14_mean,\n",
    "                                                           sea_surface_height_above_geoid_15_mean, sea_surface_height_above_geoid_16_mean,\n",
    "                                                           sea_surface_height_above_geoid_17_mean, sea_surface_height_above_geoid_18_mean,\n",
    "                                                           sea_surface_height_above_geoid_19_mean), axis = 0)"
   ]
  },
  {
   "cell_type": "code",
   "execution_count": 39,
   "id": "74b321a8",
   "metadata": {},
   "outputs": [
    {
     "data": {
      "text/plain": [
       "(27, 1)"
      ]
     },
     "execution_count": 39,
     "metadata": {},
     "output_type": "execute_result"
    }
   ],
   "source": [
    "sea_surface_height_above_geoid_93_19_mean_all.shape"
   ]
  },
  {
   "cell_type": "code",
   "execution_count": 40,
   "id": "e3eb711c",
   "metadata": {},
   "outputs": [],
   "source": [
    "sea_surface_height_above_sea_level_93_mean = np.mean((sea_surface_height_above_sea_level_93), axis = (0,1,2)).reshape(-1,1)\n",
    "sea_surface_height_above_sea_level_94_mean = np.mean((sea_surface_height_above_sea_level_94), axis = (0,1,2)).reshape(-1,1)\n",
    "sea_surface_height_above_sea_level_95_mean = np.mean((sea_surface_height_above_sea_level_95), axis = (0,1,2)).reshape(-1,1)\n",
    "sea_surface_height_above_sea_level_96_mean = np.mean((sea_surface_height_above_sea_level_96), axis = (0,1,2)).reshape(-1,1)\n",
    "sea_surface_height_above_sea_level_97_mean = np.mean((sea_surface_height_above_sea_level_97), axis = (0,1,2)).reshape(-1,1)\n",
    "sea_surface_height_above_sea_level_98_mean = np.mean((sea_surface_height_above_sea_level_98), axis = (0,1,2)).reshape(-1,1)\n",
    "sea_surface_height_above_sea_level_99_mean = np.mean((sea_surface_height_above_sea_level_99), axis = (0,1,2)).reshape(-1,1)\n",
    "sea_surface_height_above_sea_level_00_mean = np.mean((sea_surface_height_above_sea_level_00), axis = (0,1,2)).reshape(-1,1)\n",
    "sea_surface_height_above_sea_level_01_mean = np.mean((sea_surface_height_above_sea_level_01), axis = (0,1,2)).reshape(-1,1)\n",
    "sea_surface_height_above_sea_level_02_mean = np.mean((sea_surface_height_above_sea_level_02), axis = (0,1,2)).reshape(-1,1)\n",
    "sea_surface_height_above_sea_level_03_mean = np.mean((sea_surface_height_above_sea_level_03), axis = (0,1,2)).reshape(-1,1)\n",
    "sea_surface_height_above_sea_level_04_mean = np.mean((sea_surface_height_above_sea_level_04), axis = (0,1,2)).reshape(-1,1)\n",
    "sea_surface_height_above_sea_level_05_mean = np.mean((sea_surface_height_above_sea_level_05), axis = (0,1,2)).reshape(-1,1)\n",
    "sea_surface_height_above_sea_level_06_mean = np.mean((sea_surface_height_above_sea_level_06), axis = (0,1,2)).reshape(-1,1)\n",
    "sea_surface_height_above_sea_level_07_mean = np.mean((sea_surface_height_above_sea_level_07), axis = (0,1,2)).reshape(-1,1)\n",
    "sea_surface_height_above_sea_level_08_mean = np.mean((sea_surface_height_above_sea_level_08), axis = (0,1,2)).reshape(-1,1)\n",
    "sea_surface_height_above_sea_level_09_mean = np.mean((sea_surface_height_above_sea_level_09), axis = (0,1,2)).reshape(-1,1)\n",
    "sea_surface_height_above_sea_level_10_mean = np.mean((sea_surface_height_above_sea_level_10), axis = (0,1,2)).reshape(-1,1)\n",
    "sea_surface_height_above_sea_level_11_mean = np.mean((sea_surface_height_above_sea_level_11), axis = (0,1,2)).reshape(-1,1)\n",
    "sea_surface_height_above_sea_level_12_mean = np.mean((sea_surface_height_above_sea_level_12), axis = (0,1,2)).reshape(-1,1)\n",
    "sea_surface_height_above_sea_level_13_mean = np.mean((sea_surface_height_above_sea_level_13), axis = (0,1,2)).reshape(-1,1)\n",
    "sea_surface_height_above_sea_level_14_mean = np.mean((sea_surface_height_above_sea_level_14), axis = (0,1,2)).reshape(-1,1)\n",
    "sea_surface_height_above_sea_level_15_mean = np.mean((sea_surface_height_above_sea_level_15), axis = (0,1,2)).reshape(-1,1)\n",
    "sea_surface_height_above_sea_level_16_mean = np.mean((sea_surface_height_above_sea_level_16), axis = (0,1,2)).reshape(-1,1)\n",
    "sea_surface_height_above_sea_level_17_mean = np.mean((sea_surface_height_above_sea_level_17), axis = (0,1,2)).reshape(-1,1)\n",
    "sea_surface_height_above_sea_level_18_mean = np.mean((sea_surface_height_above_sea_level_18), axis = (0,1,2)).reshape(-1,1)\n",
    "sea_surface_height_above_sea_level_19_mean = np.mean((sea_surface_height_above_sea_level_19), axis = (0,1,2)).reshape(-1,1)"
   ]
  },
  {
   "cell_type": "code",
   "execution_count": 41,
   "id": "a2337f7c",
   "metadata": {},
   "outputs": [],
   "source": [
    "sea_surface_height_above_sea_level_93_19_mean_all = np.concatenate((\n",
    "sea_surface_height_above_sea_level_93_mean, sea_surface_height_above_sea_level_94_mean,\n",
    "sea_surface_height_above_sea_level_95_mean, sea_surface_height_above_sea_level_96_mean,\n",
    "sea_surface_height_above_sea_level_97_mean, sea_surface_height_above_sea_level_98_mean,\n",
    "sea_surface_height_above_sea_level_99_mean, sea_surface_height_above_sea_level_00_mean,\n",
    "sea_surface_height_above_sea_level_01_mean, sea_surface_height_above_sea_level_02_mean,\n",
    "sea_surface_height_above_sea_level_03_mean, sea_surface_height_above_sea_level_04_mean,\n",
    "sea_surface_height_above_sea_level_05_mean, sea_surface_height_above_sea_level_06_mean,\n",
    "sea_surface_height_above_sea_level_07_mean, sea_surface_height_above_sea_level_08_mean,\n",
    "sea_surface_height_above_sea_level_09_mean, sea_surface_height_above_sea_level_10_mean,\n",
    "sea_surface_height_above_sea_level_11_mean, sea_surface_height_above_sea_level_12_mean,\n",
    "sea_surface_height_above_sea_level_13_mean, sea_surface_height_above_sea_level_14_mean,\n",
    "sea_surface_height_above_sea_level_15_mean, sea_surface_height_above_sea_level_16_mean,\n",
    "sea_surface_height_above_sea_level_17_mean, sea_surface_height_above_sea_level_18_mean,\n",
    "sea_surface_height_above_sea_level_19_mean), axis = 0)"
   ]
  },
  {
   "cell_type": "code",
   "execution_count": 42,
   "id": "0d7da741",
   "metadata": {},
   "outputs": [
    {
     "data": {
      "text/plain": [
       "(27, 1)"
      ]
     },
     "execution_count": 42,
     "metadata": {},
     "output_type": "execute_result"
    }
   ],
   "source": [
    "sea_surface_height_above_geoid_93_19_mean_all.shape"
   ]
  },
  {
   "cell_type": "code",
   "execution_count": 43,
   "id": "09e22057",
   "metadata": {},
   "outputs": [],
   "source": [
    "np.savez(r'D:\\heat_wave\\atlantic\\expand_area1\\ssh\\SSH_JJA_with_MHW_Plot.npz',\n",
    "        sea_surface_height_above_sea_level_93_mean_all = sea_surface_height_above_sea_level_93_19_mean_all,\n",
    "        sea_surface_height_above_geoid_93_19_mean = sea_surface_height_above_geoid_93_19_mean_all)"
   ]
  },
  {
   "cell_type": "code",
   "execution_count": null,
   "id": "5ea920d9",
   "metadata": {},
   "outputs": [],
   "source": []
  },
  {
   "cell_type": "code",
   "execution_count": null,
   "id": "faec71fb",
   "metadata": {},
   "outputs": [],
   "source": []
  },
  {
   "cell_type": "code",
   "execution_count": null,
   "id": "63c89b40",
   "metadata": {},
   "outputs": [],
   "source": []
  },
  {
   "cell_type": "code",
   "execution_count": 44,
   "id": "083f903f",
   "metadata": {},
   "outputs": [],
   "source": [
    "# 去除MHW"
   ]
  },
  {
   "cell_type": "code",
   "execution_count": 45,
   "id": "8f0a3557",
   "metadata": {},
   "outputs": [],
   "source": [
    "sea_surface_height_above_geoid_93_19 = np.concatenate((sea_surface_height_above_geoid_93,\n",
    "                                                      sea_surface_height_above_geoid_94, sea_surface_height_above_geoid_95,\n",
    "                                                      sea_surface_height_above_geoid_96, sea_surface_height_above_geoid_97,\n",
    "                                                      sea_surface_height_above_geoid_98, sea_surface_height_above_geoid_99,\n",
    "                                                      sea_surface_height_above_geoid_00,\n",
    "                                                      sea_surface_height_above_geoid_01, sea_surface_height_above_geoid_02,\n",
    "                                                      sea_surface_height_above_geoid_03, sea_surface_height_above_geoid_04,\n",
    "                                                      sea_surface_height_above_geoid_05, sea_surface_height_above_geoid_06,\n",
    "                                                      sea_surface_height_above_geoid_07, sea_surface_height_above_geoid_08,\n",
    "                                                      sea_surface_height_above_geoid_09, sea_surface_height_above_geoid_10,\n",
    "                                                      sea_surface_height_above_geoid_11, sea_surface_height_above_geoid_12,\n",
    "                                                      sea_surface_height_above_geoid_13, sea_surface_height_above_geoid_14,\n",
    "                                                      sea_surface_height_above_geoid_15, sea_surface_height_above_geoid_16,\n",
    "                                                      sea_surface_height_above_geoid_17, sea_surface_height_above_geoid_18,\n",
    "                                                      sea_surface_height_above_geoid_19),axis = 0)"
   ]
  },
  {
   "cell_type": "code",
   "execution_count": 46,
   "id": "64e1d7ca",
   "metadata": {},
   "outputs": [],
   "source": [
    "sea_surface_height_above_sea_level_93_19 = np.concatenate((sea_surface_height_above_sea_level_93,\n",
    "sea_surface_height_above_sea_level_94, sea_surface_height_above_sea_level_95,\n",
    "                                                          sea_surface_height_above_sea_level_96, sea_surface_height_above_sea_level_97,\n",
    "                                                          sea_surface_height_above_sea_level_98, sea_surface_height_above_sea_level_99,\n",
    "                                                          sea_surface_height_above_sea_level_00, sea_surface_height_above_sea_level_01,\n",
    "                                                          sea_surface_height_above_sea_level_02, sea_surface_height_above_sea_level_03,\n",
    "                                                          sea_surface_height_above_sea_level_04, sea_surface_height_above_sea_level_05,\n",
    "                                                          sea_surface_height_above_sea_level_06, sea_surface_height_above_sea_level_07,\n",
    "                                                          sea_surface_height_above_sea_level_08, sea_surface_height_above_sea_level_09,\n",
    "                                                          sea_surface_height_above_sea_level_10, sea_surface_height_above_sea_level_11,\n",
    "                                                          sea_surface_height_above_sea_level_12, sea_surface_height_above_sea_level_13,\n",
    "                                                          sea_surface_height_above_sea_level_14, sea_surface_height_above_sea_level_15,\n",
    "                                                          sea_surface_height_above_sea_level_16, sea_surface_height_above_sea_level_17,\n",
    "                                                          sea_surface_height_above_sea_level_18, sea_surface_height_above_sea_level_19),axis = 0)"
   ]
  },
  {
   "cell_type": "code",
   "execution_count": 47,
   "id": "3ea4a695",
   "metadata": {},
   "outputs": [],
   "source": [
    "sea_surface_height_above_geoid_93_19_mean = np.mean((sea_surface_height_above_geoid_93_19), axis = (1,2)).reshape(-1,1)"
   ]
  },
  {
   "cell_type": "code",
   "execution_count": 48,
   "id": "416fee95",
   "metadata": {},
   "outputs": [
    {
     "data": {
      "text/plain": [
       "(2499, 1)"
      ]
     },
     "execution_count": 48,
     "metadata": {},
     "output_type": "execute_result"
    }
   ],
   "source": [
    "sea_surface_height_above_geoid_93_19_mean.shape"
   ]
  },
  {
   "cell_type": "code",
   "execution_count": 49,
   "id": "90d25b71",
   "metadata": {},
   "outputs": [],
   "source": [
    "sea_surface_height_above_sea_level_93_19_mean = np.mean((sea_surface_height_above_sea_level_93_19), axis = (1,2)).reshape(-1,1)"
   ]
  },
  {
   "cell_type": "code",
   "execution_count": 50,
   "id": "94f171e2",
   "metadata": {},
   "outputs": [
    {
     "data": {
      "text/plain": [
       "(2499, 1)"
      ]
     },
     "execution_count": 50,
     "metadata": {},
     "output_type": "execute_result"
    }
   ],
   "source": [
    "sea_surface_height_above_sea_level_93_19_mean.shape"
   ]
  },
  {
   "cell_type": "code",
   "execution_count": 51,
   "id": "855e21fc",
   "metadata": {},
   "outputs": [],
   "source": [
    "sea_surface_height_above_geoid_JJA_93 = sea_surface_height_above_geoid_93_19_mean[:92]\n",
    "sea_surface_height_above_geoid_JJA_94 = sea_surface_height_above_geoid_93_19_mean[92:184]\n",
    "sea_surface_height_above_geoid_JJA_95 = sea_surface_height_above_geoid_93_19_mean[184:276]\n",
    "sea_surface_height_above_geoid_JJA_96 = sea_surface_height_above_geoid_93_19_mean[276:368]\n",
    "sea_surface_height_above_geoid_JJA_97 = sea_surface_height_above_geoid_93_19_mean[368:460]\n",
    "sea_surface_height_above_geoid_JJA_98_1 = sea_surface_height_above_geoid_93_19_mean[460:463]\n",
    "sea_surface_height_above_geoid_JJA_98_2 = sea_surface_height_above_geoid_93_19_mean[469:552]\n",
    "sea_surface_height_above_geoid_JJA_98 = np.concatenate((sea_surface_height_above_geoid_JJA_98_1, sea_surface_height_above_geoid_JJA_98_2), axis = 0)\n",
    "sea_surface_height_above_geoid_JJA_99 = sea_surface_height_above_geoid_93_19_mean[552:644]\n",
    "sea_surface_height_above_geoid_JJA_00 = sea_surface_height_above_geoid_93_19_mean[644:736]\n",
    "sea_surface_height_above_geoid_JJA_01 = sea_surface_height_above_geoid_93_19_mean[736:828]\n",
    "sea_surface_height_above_geoid_JJA_02 = sea_surface_height_above_geoid_93_19_mean[828:920]\n",
    "sea_surface_height_above_geoid_JJA_03 = sea_surface_height_above_geoid_93_19_mean[920:1012]\n",
    "sea_surface_height_above_geoid_JJA_04 = sea_surface_height_above_geoid_93_19_mean[1012:1104]\n",
    "sea_surface_height_above_geoid_JJA_05 = sea_surface_height_above_geoid_93_19_mean[1104:1196]\n",
    "sea_surface_height_above_geoid_JJA_06_1 = sea_surface_height_above_geoid_93_19_mean[1196:1282]\n",
    "sea_surface_height_above_geoid_JJA_06_2 = sea_surface_height_above_geoid_93_19_mean[1287:1288]\n",
    "sea_surface_height_above_geoid_JJA_06 = np.concatenate((sea_surface_height_above_geoid_JJA_06_1, sea_surface_height_above_geoid_JJA_06_2), axis = 0)\n",
    "sea_surface_height_above_geoid_JJA_07_1 = sea_surface_height_above_geoid_93_19_mean[1288:1297]\n",
    "sea_surface_height_above_geoid_JJA_07_2 = sea_surface_height_above_geoid_93_19_mean[1306:1380]\n",
    "sea_surface_height_above_geoid_JJA_07 = np.concatenate((sea_surface_height_above_geoid_JJA_07_1, sea_surface_height_above_geoid_JJA_07_2), axis = 0)\n",
    "sea_surface_height_above_geoid_JJA_08 = sea_surface_height_above_geoid_93_19_mean[1380:1472]\n",
    "sea_surface_height_above_geoid_JJA_09 = sea_surface_height_above_geoid_93_19_mean[1472:1564]\n",
    "sea_surface_height_above_geoid_JJA_10_1 = sea_surface_height_above_geoid_93_19_mean[1564:1604]\n",
    "sea_surface_height_above_geoid_JJA_10_2 = sea_surface_height_above_geoid_93_19_mean[1612:1656]\n",
    "sea_surface_height_above_geoid_JJA_10 = np.concatenate((sea_surface_height_above_geoid_JJA_10_1, sea_surface_height_above_geoid_JJA_10_2), axis = 0)\n",
    "sea_surface_height_above_geoid_JJA_11 = sea_surface_height_above_geoid_93_19_mean[1656:1748]\n",
    "sea_surface_height_above_geoid_JJA_12_1 = sea_surface_height_above_geoid_93_19_mean[1748:1807]\n",
    "sea_surface_height_above_geoid_JJA_12_2 = sea_surface_height_above_geoid_93_19_mean[1820:1840]\n",
    "sea_surface_height_above_geoid_JJA_12 = np.concatenate((sea_surface_height_above_geoid_JJA_12_1, sea_surface_height_above_geoid_JJA_12_2), axis = 0)\n",
    "sea_surface_height_above_geoid_JJA_13 = sea_surface_height_above_geoid_93_19_mean[1840:1932]\n",
    "sea_surface_height_above_geoid_JJA_14 = sea_surface_height_above_geoid_93_19_mean[1932:2024]\n",
    "sea_surface_height_above_geoid_JJA_15_1 = sea_surface_height_above_geoid_93_19_mean[2032:2054]\n",
    "sea_surface_height_above_geoid_JJA_15_2 = sea_surface_height_above_geoid_93_19_mean[2061:2081]\n",
    "sea_surface_height_above_geoid_JJA_15 = np.concatenate((sea_surface_height_above_geoid_JJA_15_1, sea_surface_height_above_geoid_JJA_15_2), axis = 0)\n",
    "sea_surface_height_above_geoid_JJA_16 = sea_surface_height_above_geoid_93_19_mean[2116:2208]\n",
    "sea_surface_height_above_geoid_JJA_17_1 = sea_surface_height_above_geoid_93_19_mean[2208:2251]\n",
    "sea_surface_height_above_geoid_JJA_17_2 = sea_surface_height_above_geoid_93_19_mean[2257:2264]\n",
    "sea_surface_height_above_geoid_JJA_17 = np.concatenate((sea_surface_height_above_geoid_JJA_17_1, sea_surface_height_above_geoid_JJA_17_2), axis = 0)\n",
    "sea_surface_height_above_geoid_JJA_18 = sea_surface_height_above_geoid_93_19_mean[2300:2392]\n",
    "sea_surface_height_above_geoid_JJA_19_1 = sea_surface_height_above_geoid_93_19_mean[2410:2451]\n",
    "sea_surface_height_above_geoid_JJA_19_2 = sea_surface_height_above_geoid_93_19_mean[2462:2472]\n",
    "sea_surface_height_above_geoid_JJA_19_3 = sea_surface_height_above_geoid_93_19_mean[2478:]\n",
    "sea_surface_height_above_geoid_JJA_19 = np.concatenate((sea_surface_height_above_geoid_JJA_19_1, sea_surface_height_above_geoid_JJA_19_2, sea_surface_height_above_geoid_JJA_19_3), axis = 0)"
   ]
  },
  {
   "cell_type": "code",
   "execution_count": 52,
   "id": "c1e70ee9",
   "metadata": {},
   "outputs": [],
   "source": [
    "sea_surface_height_above_geoid_JJA_93_mean = np.mean(sea_surface_height_above_geoid_JJA_93, axis = 0)\n",
    "sea_surface_height_above_geoid_JJA_94_mean = np.mean(sea_surface_height_above_geoid_JJA_94, axis = 0)\n",
    "sea_surface_height_above_geoid_JJA_95_mean = np.mean(sea_surface_height_above_geoid_JJA_95, axis = 0)\n",
    "sea_surface_height_above_geoid_JJA_96_mean = np.mean(sea_surface_height_above_geoid_JJA_96, axis = 0)\n",
    "sea_surface_height_above_geoid_JJA_97_mean = np.mean(sea_surface_height_above_geoid_JJA_97, axis = 0)\n",
    "sea_surface_height_above_geoid_JJA_98_mean = np.mean(sea_surface_height_above_geoid_JJA_98, axis = 0)\n",
    "sea_surface_height_above_geoid_JJA_99_mean = np.mean(sea_surface_height_above_geoid_JJA_99, axis = 0)\n",
    "sea_surface_height_above_geoid_JJA_00_mean = np.mean(sea_surface_height_above_geoid_JJA_00, axis = 0)\n",
    "sea_surface_height_above_geoid_JJA_01_mean = np.mean(sea_surface_height_above_geoid_JJA_01, axis = 0)\n",
    "sea_surface_height_above_geoid_JJA_02_mean = np.mean(sea_surface_height_above_geoid_JJA_02, axis = 0)\n",
    "sea_surface_height_above_geoid_JJA_03_mean = np.mean(sea_surface_height_above_geoid_JJA_03, axis = 0)\n",
    "sea_surface_height_above_geoid_JJA_04_mean = np.mean(sea_surface_height_above_geoid_JJA_04, axis = 0)\n",
    "sea_surface_height_above_geoid_JJA_05_mean = np.mean(sea_surface_height_above_geoid_JJA_05, axis = 0)\n",
    "sea_surface_height_above_geoid_JJA_06_mean = np.mean(sea_surface_height_above_geoid_JJA_06, axis = 0)\n",
    "sea_surface_height_above_geoid_JJA_07_mean = np.mean(sea_surface_height_above_geoid_JJA_07, axis = 0)\n",
    "sea_surface_height_above_geoid_JJA_08_mean = np.mean(sea_surface_height_above_geoid_JJA_08, axis = 0)\n",
    "sea_surface_height_above_geoid_JJA_09_mean = np.mean(sea_surface_height_above_geoid_JJA_09, axis = 0)\n",
    "sea_surface_height_above_geoid_JJA_10_mean = np.mean(sea_surface_height_above_geoid_JJA_10, axis = 0)\n",
    "sea_surface_height_above_geoid_JJA_11_mean = np.mean(sea_surface_height_above_geoid_JJA_11, axis = 0)\n",
    "sea_surface_height_above_geoid_JJA_12_mean = np.mean(sea_surface_height_above_geoid_JJA_12, axis = 0)\n",
    "sea_surface_height_above_geoid_JJA_13_mean = np.mean(sea_surface_height_above_geoid_JJA_13, axis = 0)\n",
    "sea_surface_height_above_geoid_JJA_14_mean = np.mean(sea_surface_height_above_geoid_JJA_14, axis = 0)\n",
    "sea_surface_height_above_geoid_JJA_15_mean = np.mean(sea_surface_height_above_geoid_JJA_15, axis = 0)\n",
    "sea_surface_height_above_geoid_JJA_16_mean = np.mean(sea_surface_height_above_geoid_JJA_16, axis = 0)\n",
    "sea_surface_height_above_geoid_JJA_17_mean = np.mean(sea_surface_height_above_geoid_JJA_17, axis = 0)\n",
    "sea_surface_height_above_geoid_JJA_18_mean = np.mean(sea_surface_height_above_geoid_JJA_18, axis = 0)\n",
    "sea_surface_height_above_geoid_JJA_19_mean = np.mean(sea_surface_height_above_geoid_JJA_19, axis = 0)"
   ]
  },
  {
   "cell_type": "code",
   "execution_count": null,
   "id": "46e55590",
   "metadata": {},
   "outputs": [],
   "source": []
  },
  {
   "cell_type": "code",
   "execution_count": 53,
   "id": "dd59612b",
   "metadata": {},
   "outputs": [],
   "source": [
    "sea_surface_height_above_geoid_JJA_93_19_without_MHW = np.concatenate((\n",
    "sea_surface_height_above_geoid_JJA_93, sea_surface_height_above_geoid_JJA_94,\n",
    "sea_surface_height_above_geoid_JJA_95, sea_surface_height_above_geoid_JJA_96,\n",
    "sea_surface_height_above_geoid_JJA_97, sea_surface_height_above_geoid_JJA_98,\n",
    "sea_surface_height_above_geoid_JJA_99, sea_surface_height_above_geoid_JJA_00,\n",
    "sea_surface_height_above_geoid_JJA_01, sea_surface_height_above_geoid_JJA_02,\n",
    "sea_surface_height_above_geoid_JJA_03, sea_surface_height_above_geoid_JJA_04,\n",
    "sea_surface_height_above_geoid_JJA_05, sea_surface_height_above_geoid_JJA_06,\n",
    "sea_surface_height_above_geoid_JJA_07, sea_surface_height_above_geoid_JJA_08,\n",
    "sea_surface_height_above_geoid_JJA_09, sea_surface_height_above_geoid_JJA_10,\n",
    "sea_surface_height_above_geoid_JJA_11, sea_surface_height_above_geoid_JJA_12,\n",
    "sea_surface_height_above_geoid_JJA_13, sea_surface_height_above_geoid_JJA_14,\n",
    "sea_surface_height_above_geoid_JJA_15, sea_surface_height_above_geoid_JJA_16,\n",
    "sea_surface_height_above_geoid_JJA_17, sea_surface_height_above_geoid_JJA_18,\n",
    "sea_surface_height_above_geoid_JJA_19), axis = 0)"
   ]
  },
  {
   "cell_type": "code",
   "execution_count": 54,
   "id": "506acbf3",
   "metadata": {},
   "outputs": [],
   "source": [
    "sea_surface_height_above_geoid_JJA_93_19_without_MHW_mean = np.concatenate((\n",
    "sea_surface_height_above_geoid_JJA_93_mean, sea_surface_height_above_geoid_JJA_94_mean,\n",
    "sea_surface_height_above_geoid_JJA_95_mean, sea_surface_height_above_geoid_JJA_96_mean,\n",
    "sea_surface_height_above_geoid_JJA_97_mean, sea_surface_height_above_geoid_JJA_98_mean,\n",
    "sea_surface_height_above_geoid_JJA_99_mean, sea_surface_height_above_geoid_JJA_00_mean,\n",
    "sea_surface_height_above_geoid_JJA_01_mean, sea_surface_height_above_geoid_JJA_02_mean,\n",
    "sea_surface_height_above_geoid_JJA_03_mean, sea_surface_height_above_geoid_JJA_04_mean,\n",
    "sea_surface_height_above_geoid_JJA_05_mean, sea_surface_height_above_geoid_JJA_06_mean,\n",
    "sea_surface_height_above_geoid_JJA_07_mean, sea_surface_height_above_geoid_JJA_08_mean,\n",
    "sea_surface_height_above_geoid_JJA_09_mean, sea_surface_height_above_geoid_JJA_10_mean,\n",
    "sea_surface_height_above_geoid_JJA_11_mean, sea_surface_height_above_geoid_JJA_12_mean,\n",
    "sea_surface_height_above_geoid_JJA_13_mean, sea_surface_height_above_geoid_JJA_14_mean,\n",
    "sea_surface_height_above_geoid_JJA_15_mean, sea_surface_height_above_geoid_JJA_16_mean,\n",
    "sea_surface_height_above_geoid_JJA_17_mean, sea_surface_height_above_geoid_JJA_18_mean,\n",
    "sea_surface_height_above_geoid_JJA_19_mean), axis = 0).reshape(-1,1)"
   ]
  },
  {
   "cell_type": "code",
   "execution_count": null,
   "id": "9c89cbf5",
   "metadata": {},
   "outputs": [],
   "source": []
  },
  {
   "cell_type": "code",
   "execution_count": 55,
   "id": "5d13f955",
   "metadata": {},
   "outputs": [],
   "source": [
    "sea_surface_height_above_sea_level_JJA_93 = sea_surface_height_above_sea_level_93_19_mean[:92]\n",
    "sea_surface_height_above_sea_level_JJA_94 = sea_surface_height_above_sea_level_93_19_mean[92:184]\n",
    "sea_surface_height_above_sea_level_JJA_95 = sea_surface_height_above_sea_level_93_19_mean[184:276]\n",
    "sea_surface_height_above_sea_level_JJA_96 = sea_surface_height_above_sea_level_93_19_mean[276:368]\n",
    "sea_surface_height_above_sea_level_JJA_97 = sea_surface_height_above_sea_level_93_19_mean[368:460]\n",
    "sea_surface_height_above_sea_level_JJA_98_1 = sea_surface_height_above_sea_level_93_19_mean[460:463]\n",
    "sea_surface_height_above_sea_level_JJA_98_2 = sea_surface_height_above_sea_level_93_19_mean[469:552]\n",
    "sea_surface_height_above_sea_level_JJA_98 = np.concatenate((sea_surface_height_above_sea_level_JJA_98_1, sea_surface_height_above_sea_level_JJA_98_2), axis = 0)\n",
    "sea_surface_height_above_sea_level_JJA_99 = sea_surface_height_above_sea_level_93_19_mean[552:644]\n",
    "sea_surface_height_above_sea_level_JJA_00 = sea_surface_height_above_sea_level_93_19_mean[644:736]\n",
    "sea_surface_height_above_sea_level_JJA_01 = sea_surface_height_above_sea_level_93_19_mean[736:828]\n",
    "sea_surface_height_above_sea_level_JJA_02 = sea_surface_height_above_sea_level_93_19_mean[828:920]\n",
    "sea_surface_height_above_sea_level_JJA_03 = sea_surface_height_above_sea_level_93_19_mean[920:1012]\n",
    "sea_surface_height_above_sea_level_JJA_04 = sea_surface_height_above_sea_level_93_19_mean[1012:1104]\n",
    "sea_surface_height_above_sea_level_JJA_05 = sea_surface_height_above_sea_level_93_19_mean[1104:1196]\n",
    "sea_surface_height_above_sea_level_JJA_06_1 = sea_surface_height_above_sea_level_93_19_mean[1196:1282]\n",
    "sea_surface_height_above_sea_level_JJA_06_2 = sea_surface_height_above_sea_level_93_19_mean[1287:1288]\n",
    "sea_surface_height_above_sea_level_JJA_06 = np.concatenate((sea_surface_height_above_sea_level_JJA_06_1, sea_surface_height_above_sea_level_JJA_06_2), axis = 0)\n",
    "sea_surface_height_above_sea_level_JJA_07_1 = sea_surface_height_above_sea_level_93_19_mean[1288:1297]\n",
    "sea_surface_height_above_sea_level_JJA_07_2 = sea_surface_height_above_sea_level_93_19_mean[1306:1380]\n",
    "sea_surface_height_above_sea_level_JJA_07 = np.concatenate((sea_surface_height_above_sea_level_JJA_07_1, sea_surface_height_above_sea_level_JJA_07_2), axis = 0)\n",
    "sea_surface_height_above_sea_level_JJA_08 = sea_surface_height_above_sea_level_93_19_mean[1380:1472]\n",
    "sea_surface_height_above_sea_level_JJA_09 = sea_surface_height_above_sea_level_93_19_mean[1472:1564]\n",
    "sea_surface_height_above_sea_level_JJA_10_1 = sea_surface_height_above_sea_level_93_19_mean[1564:1604]\n",
    "sea_surface_height_above_sea_level_JJA_10_2 = sea_surface_height_above_sea_level_93_19_mean[1612:1656]\n",
    "sea_surface_height_above_sea_level_JJA_10 = np.concatenate((sea_surface_height_above_sea_level_JJA_10_1, sea_surface_height_above_sea_level_JJA_10_2), axis = 0)\n",
    "sea_surface_height_above_sea_level_JJA_11 = sea_surface_height_above_sea_level_93_19_mean[1656:1748]\n",
    "sea_surface_height_above_sea_level_JJA_12_1 = sea_surface_height_above_sea_level_93_19_mean[1748:1807]\n",
    "sea_surface_height_above_sea_level_JJA_12_2 = sea_surface_height_above_sea_level_93_19_mean[1820:1840]\n",
    "sea_surface_height_above_sea_level_JJA_12 = np.concatenate((sea_surface_height_above_sea_level_JJA_12_1, sea_surface_height_above_sea_level_JJA_12_2), axis = 0)\n",
    "sea_surface_height_above_sea_level_JJA_13 = sea_surface_height_above_sea_level_93_19_mean[1840:1932]\n",
    "sea_surface_height_above_sea_level_JJA_14 = sea_surface_height_above_sea_level_93_19_mean[1932:2024]\n",
    "sea_surface_height_above_sea_level_JJA_15_1 = sea_surface_height_above_sea_level_93_19_mean[2032:2054]\n",
    "sea_surface_height_above_sea_level_JJA_15_2 = sea_surface_height_above_sea_level_93_19_mean[2061:2081]\n",
    "sea_surface_height_above_sea_level_JJA_15 = np.concatenate((sea_surface_height_above_sea_level_JJA_15_1, sea_surface_height_above_sea_level_JJA_15_2), axis = 0)\n",
    "sea_surface_height_above_sea_level_JJA_16 = sea_surface_height_above_sea_level_93_19_mean[2116:2208]\n",
    "sea_surface_height_above_sea_level_JJA_17_1 = sea_surface_height_above_sea_level_93_19_mean[2208:2251]\n",
    "sea_surface_height_above_sea_level_JJA_17_2 = sea_surface_height_above_sea_level_93_19_mean[2257:2264]\n",
    "sea_surface_height_above_sea_level_JJA_17 = np.concatenate((sea_surface_height_above_sea_level_JJA_17_1, sea_surface_height_above_sea_level_JJA_17_2), axis = 0)\n",
    "sea_surface_height_above_sea_level_JJA_18 = sea_surface_height_above_sea_level_93_19_mean[2300:2392]\n",
    "sea_surface_height_above_sea_level_JJA_19_1 = sea_surface_height_above_sea_level_93_19_mean[2410:2451]\n",
    "sea_surface_height_above_sea_level_JJA_19_2 = sea_surface_height_above_sea_level_93_19_mean[2462:2472]\n",
    "sea_surface_height_above_sea_level_JJA_19_3 = sea_surface_height_above_sea_level_93_19_mean[2478:]\n",
    "sea_surface_height_above_sea_level_JJA_19 = np.concatenate((sea_surface_height_above_sea_level_JJA_19_1, sea_surface_height_above_sea_level_JJA_19_2, sea_surface_height_above_sea_level_JJA_19_3), axis = 0)"
   ]
  },
  {
   "cell_type": "code",
   "execution_count": 56,
   "id": "f7a7942a",
   "metadata": {},
   "outputs": [],
   "source": [
    "sea_surface_height_above_sea_level_JJA_93_mean = np.mean(sea_surface_height_above_sea_level_JJA_93, axis = 0)\n",
    "sea_surface_height_above_sea_level_JJA_94_mean = np.mean(sea_surface_height_above_sea_level_JJA_94, axis = 0)\n",
    "sea_surface_height_above_sea_level_JJA_95_mean = np.mean(sea_surface_height_above_sea_level_JJA_95, axis = 0)\n",
    "sea_surface_height_above_sea_level_JJA_96_mean = np.mean(sea_surface_height_above_sea_level_JJA_96, axis = 0)\n",
    "sea_surface_height_above_sea_level_JJA_97_mean = np.mean(sea_surface_height_above_sea_level_JJA_97, axis = 0)\n",
    "sea_surface_height_above_sea_level_JJA_98_mean = np.mean(sea_surface_height_above_sea_level_JJA_98, axis = 0)\n",
    "sea_surface_height_above_sea_level_JJA_99_mean = np.mean(sea_surface_height_above_sea_level_JJA_99, axis = 0)\n",
    "sea_surface_height_above_sea_level_JJA_00_mean = np.mean(sea_surface_height_above_sea_level_JJA_00, axis = 0)\n",
    "sea_surface_height_above_sea_level_JJA_01_mean = np.mean(sea_surface_height_above_sea_level_JJA_01, axis = 0)\n",
    "sea_surface_height_above_sea_level_JJA_02_mean = np.mean(sea_surface_height_above_sea_level_JJA_02, axis = 0)\n",
    "sea_surface_height_above_sea_level_JJA_03_mean = np.mean(sea_surface_height_above_sea_level_JJA_03, axis = 0)\n",
    "sea_surface_height_above_sea_level_JJA_04_mean = np.mean(sea_surface_height_above_sea_level_JJA_04, axis = 0)\n",
    "sea_surface_height_above_sea_level_JJA_05_mean = np.mean(sea_surface_height_above_sea_level_JJA_05, axis = 0)\n",
    "sea_surface_height_above_sea_level_JJA_06_mean = np.mean(sea_surface_height_above_sea_level_JJA_06, axis = 0)\n",
    "sea_surface_height_above_sea_level_JJA_07_mean = np.mean(sea_surface_height_above_sea_level_JJA_07, axis = 0)\n",
    "sea_surface_height_above_sea_level_JJA_08_mean = np.mean(sea_surface_height_above_sea_level_JJA_08, axis = 0)\n",
    "sea_surface_height_above_sea_level_JJA_09_mean = np.mean(sea_surface_height_above_sea_level_JJA_09, axis = 0)\n",
    "sea_surface_height_above_sea_level_JJA_10_mean = np.mean(sea_surface_height_above_sea_level_JJA_10, axis = 0)\n",
    "sea_surface_height_above_sea_level_JJA_11_mean = np.mean(sea_surface_height_above_sea_level_JJA_11, axis = 0)\n",
    "sea_surface_height_above_sea_level_JJA_12_mean = np.mean(sea_surface_height_above_sea_level_JJA_12, axis = 0)\n",
    "sea_surface_height_above_sea_level_JJA_13_mean = np.mean(sea_surface_height_above_sea_level_JJA_13, axis = 0)\n",
    "sea_surface_height_above_sea_level_JJA_14_mean = np.mean(sea_surface_height_above_sea_level_JJA_14, axis = 0)\n",
    "sea_surface_height_above_sea_level_JJA_15_mean = np.mean(sea_surface_height_above_sea_level_JJA_15, axis = 0)\n",
    "sea_surface_height_above_sea_level_JJA_16_mean = np.mean(sea_surface_height_above_sea_level_JJA_16, axis = 0)\n",
    "sea_surface_height_above_sea_level_JJA_17_mean = np.mean(sea_surface_height_above_sea_level_JJA_17, axis = 0)\n",
    "sea_surface_height_above_sea_level_JJA_18_mean = np.mean(sea_surface_height_above_sea_level_JJA_18, axis = 0)\n",
    "sea_surface_height_above_sea_level_JJA_19_mean = np.mean(sea_surface_height_above_sea_level_JJA_19, axis = 0)"
   ]
  },
  {
   "cell_type": "code",
   "execution_count": 57,
   "id": "9c568c66",
   "metadata": {},
   "outputs": [],
   "source": [
    "sea_surface_height_above_sea_level_JJA_93_19_without_MHW = np.concatenate((\n",
    "sea_surface_height_above_sea_level_JJA_93, sea_surface_height_above_sea_level_JJA_94,\n",
    "sea_surface_height_above_sea_level_JJA_95, sea_surface_height_above_sea_level_JJA_96,\n",
    "sea_surface_height_above_sea_level_JJA_97, sea_surface_height_above_sea_level_JJA_98,\n",
    "sea_surface_height_above_sea_level_JJA_99, sea_surface_height_above_sea_level_JJA_00,\n",
    "sea_surface_height_above_sea_level_JJA_01, sea_surface_height_above_sea_level_JJA_02,\n",
    "sea_surface_height_above_sea_level_JJA_03, sea_surface_height_above_sea_level_JJA_04,\n",
    "sea_surface_height_above_sea_level_JJA_05, sea_surface_height_above_sea_level_JJA_06,\n",
    "sea_surface_height_above_sea_level_JJA_07, sea_surface_height_above_sea_level_JJA_08,\n",
    "sea_surface_height_above_sea_level_JJA_09, sea_surface_height_above_sea_level_JJA_10,\n",
    "sea_surface_height_above_sea_level_JJA_11, sea_surface_height_above_sea_level_JJA_12,\n",
    "sea_surface_height_above_sea_level_JJA_13, sea_surface_height_above_sea_level_JJA_14,\n",
    "sea_surface_height_above_sea_level_JJA_15, sea_surface_height_above_sea_level_JJA_16,\n",
    "sea_surface_height_above_sea_level_JJA_17, sea_surface_height_above_sea_level_JJA_18,\n",
    "sea_surface_height_above_sea_level_JJA_19), axis = 0)"
   ]
  },
  {
   "cell_type": "code",
   "execution_count": 58,
   "id": "e62ff4ba",
   "metadata": {},
   "outputs": [],
   "source": [
    "sea_surface_height_above_sea_level_JJA_93_19_without_MHW_mean = np.concatenate((\n",
    "sea_surface_height_above_sea_level_JJA_93_mean, sea_surface_height_above_sea_level_JJA_94_mean,\n",
    "sea_surface_height_above_sea_level_JJA_95_mean, sea_surface_height_above_sea_level_JJA_96_mean,\n",
    "sea_surface_height_above_sea_level_JJA_97_mean, sea_surface_height_above_sea_level_JJA_98_mean,\n",
    "sea_surface_height_above_sea_level_JJA_99_mean, sea_surface_height_above_sea_level_JJA_00_mean,\n",
    "sea_surface_height_above_sea_level_JJA_01_mean, sea_surface_height_above_sea_level_JJA_02_mean,\n",
    "sea_surface_height_above_sea_level_JJA_03_mean, sea_surface_height_above_sea_level_JJA_04_mean,\n",
    "sea_surface_height_above_sea_level_JJA_05_mean, sea_surface_height_above_sea_level_JJA_06_mean,\n",
    "sea_surface_height_above_sea_level_JJA_07_mean, sea_surface_height_above_sea_level_JJA_08_mean,\n",
    "sea_surface_height_above_sea_level_JJA_09_mean, sea_surface_height_above_sea_level_JJA_10_mean,\n",
    "sea_surface_height_above_sea_level_JJA_11_mean, sea_surface_height_above_sea_level_JJA_12_mean,\n",
    "sea_surface_height_above_sea_level_JJA_13_mean, sea_surface_height_above_sea_level_JJA_14_mean,\n",
    "sea_surface_height_above_sea_level_JJA_15_mean, sea_surface_height_above_sea_level_JJA_16_mean,\n",
    "sea_surface_height_above_sea_level_JJA_17_mean, sea_surface_height_above_sea_level_JJA_18_mean,\n",
    "sea_surface_height_above_sea_level_JJA_19_mean), axis = 0).reshape(-1,1)"
   ]
  },
  {
   "cell_type": "code",
   "execution_count": null,
   "id": "6de97b14",
   "metadata": {},
   "outputs": [],
   "source": []
  },
  {
   "cell_type": "code",
   "execution_count": null,
   "id": "cd4616a5",
   "metadata": {},
   "outputs": [],
   "source": []
  },
  {
   "cell_type": "code",
   "execution_count": 59,
   "id": "9e2da6d2",
   "metadata": {},
   "outputs": [
    {
     "data": {
      "text/plain": [
       "(27, 1)"
      ]
     },
     "execution_count": 59,
     "metadata": {},
     "output_type": "execute_result"
    }
   ],
   "source": [
    "sea_surface_height_above_geoid_JJA_93_19_without_MHW_mean.shape"
   ]
  },
  {
   "cell_type": "code",
   "execution_count": 60,
   "id": "350be623",
   "metadata": {},
   "outputs": [
    {
     "data": {
      "text/plain": [
       "(27, 1)"
      ]
     },
     "execution_count": 60,
     "metadata": {},
     "output_type": "execute_result"
    }
   ],
   "source": [
    "sea_surface_height_above_sea_level_JJA_93_19_without_MHW_mean.shape"
   ]
  },
  {
   "cell_type": "code",
   "execution_count": 61,
   "id": "f3d5fc0f",
   "metadata": {},
   "outputs": [
    {
     "data": {
      "text/plain": [
       "(27, 1)"
      ]
     },
     "execution_count": 61,
     "metadata": {},
     "output_type": "execute_result"
    }
   ],
   "source": [
    "sea_surface_height_above_sea_level_93_19_mean_all.shape"
   ]
  },
  {
   "cell_type": "code",
   "execution_count": 62,
   "id": "32b9de77",
   "metadata": {},
   "outputs": [
    {
     "data": {
      "text/plain": [
       "(27, 1)"
      ]
     },
     "execution_count": 62,
     "metadata": {},
     "output_type": "execute_result"
    }
   ],
   "source": [
    "sea_surface_height_above_geoid_93_19_mean_all.shape"
   ]
  },
  {
   "cell_type": "code",
   "execution_count": 63,
   "id": "f06e5b3c",
   "metadata": {},
   "outputs": [],
   "source": [
    "np.savez(r'D:\\heat_wave\\atlantic\\expand_area1\\ssh\\SSH_JJA_Plot_with_without_MHW.npz',\n",
    "        sea_surface_height_above_geoid_93_19_mean_all = sea_surface_height_above_geoid_93_19_mean_all,\n",
    "        sea_surface_height_above_sea_level_93_19_mean_all = sea_surface_height_above_sea_level_93_19_mean_all,\n",
    "        sea_surface_height_above_geoid_JJA_93_19_without_MHW_mean = sea_surface_height_above_geoid_JJA_93_19_without_MHW_mean,\n",
    "        sea_surface_height_above_sea_level_JJA_93_19_without_MHW_mean = sea_surface_height_above_sea_level_JJA_93_19_without_MHW_mean)"
   ]
  },
  {
   "cell_type": "code",
   "execution_count": null,
   "id": "43b251a7",
   "metadata": {},
   "outputs": [],
   "source": []
  }
 ],
 "metadata": {
  "kernelspec": {
   "display_name": "Python 3 (ipykernel)",
   "language": "python",
   "name": "python3"
  },
  "language_info": {
   "codemirror_mode": {
    "name": "ipython",
    "version": 3
   },
   "file_extension": ".py",
   "mimetype": "text/x-python",
   "name": "python",
   "nbconvert_exporter": "python",
   "pygments_lexer": "ipython3",
   "version": "3.8.12"
  }
 },
 "nbformat": 4,
 "nbformat_minor": 5
}

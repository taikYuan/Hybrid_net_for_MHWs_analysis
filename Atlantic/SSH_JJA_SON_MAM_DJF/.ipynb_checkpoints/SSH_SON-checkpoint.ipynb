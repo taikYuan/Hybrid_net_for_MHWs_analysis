{
 "cells": [
  {
   "cell_type": "code",
   "execution_count": 1,
   "id": "061281ab",
   "metadata": {},
   "outputs": [],
   "source": [
    "import random\n",
    "\n",
    "import numpy as np\n",
    "import torch\n",
    "from sklearn.metrics import mean_squared_error\n",
    "from sklearn.preprocessing import MinMaxScaler\n",
    "from torch import nn\n",
    "from tqdm import tqdm\n",
    "from torch.autograd import Variable\n",
    "from torch.utils.data import Dataset, DataLoader"
   ]
  },
  {
   "cell_type": "code",
   "execution_count": 2,
   "id": "3241f546",
   "metadata": {},
   "outputs": [
    {
     "name": "stdout",
     "output_type": "stream",
     "text": [
      "['time', 'lat', 'lon', 'sea_surface_height_above_geoid', 'surface_geostrophic_eastward_sea_water_velocity', 'surface_geostrophic_northward_sea_water_velocity', 'sea_surface_height_above_sea_level', 'surface_geostrophic_eastward_sea_water_velocity_assuming_sea_level_for_geoid', 'surface_geostrophic_northward_sea_water_velocity_assuming_sea_level_for_geoid']\n"
     ]
    }
   ],
   "source": [
    "data = np.load(r'D:\\heat_wave\\atlantic\\expand_area1\\ssh\\ssh_93_19_atlantic_area.npz')\n",
    "print(data.files) # ['sst_obser', 'slfh', 'sshf', 'ssr', 'str', 'mld', 'analysis_temp', 'u', 'v', 'T_d', 'u_d', 'v_d', 'xx', 'yy', 'dT_dt', 'dT_dx', 'dT_dy']"
   ]
  },
  {
   "cell_type": "code",
   "execution_count": 3,
   "id": "654e1206",
   "metadata": {},
   "outputs": [],
   "source": [
    "sea_surface_height_above_geoid = data['sea_surface_height_above_geoid'][:]\n",
    "sea_surface_height_above_sea_level = data['sea_surface_height_above_sea_level'][:]"
   ]
  },
  {
   "cell_type": "code",
   "execution_count": 4,
   "id": "1f4c58d7",
   "metadata": {},
   "outputs": [],
   "source": [
    "# SON   93\n",
    "date_93_1 = 243\n",
    "date_93_2 = 334\n",
    "data_1 = date_93_1\n",
    "data_2 = date_93_2\n",
    "\n",
    "sea_surface_height_above_geoid_93 = sea_surface_height_above_geoid[data_1:data_2,:,:]\n",
    "sea_surface_height_above_sea_level_93 = sea_surface_height_above_sea_level[data_1:data_2,:,:]"
   ]
  },
  {
   "cell_type": "code",
   "execution_count": 5,
   "id": "f631cdbc",
   "metadata": {},
   "outputs": [],
   "source": [
    "# SON   94\n",
    "date_94_1 = 608\n",
    "date_94_2 = 699\n",
    "data_1 = date_94_1\n",
    "data_2 = date_94_2\n",
    "\n",
    "sea_surface_height_above_geoid_94 = sea_surface_height_above_geoid[data_1:data_2,:,:]\n",
    "sea_surface_height_above_sea_level_94 = sea_surface_height_above_sea_level[data_1:data_2,:,:]"
   ]
  },
  {
   "cell_type": "code",
   "execution_count": 6,
   "id": "8b76e125",
   "metadata": {},
   "outputs": [],
   "source": [
    "# SON   95\n",
    "date_95_1 = 973\n",
    "date_95_2 = 1064\n",
    "data_1 = date_95_1\n",
    "data_2 = date_95_2\n",
    "\n",
    "sea_surface_height_above_geoid_95 = sea_surface_height_above_geoid[data_1:data_2,:,:]\n",
    "sea_surface_height_above_sea_level_95 = sea_surface_height_above_sea_level[data_1:data_2,:,:]"
   ]
  },
  {
   "cell_type": "code",
   "execution_count": 7,
   "id": "6ffcf6c3",
   "metadata": {},
   "outputs": [],
   "source": [
    "# SON   96\n",
    "date_96_1 = 1339\n",
    "date_96_2 = 1430\n",
    "data_1 = date_96_1\n",
    "data_2 = date_96_2\n",
    "\n",
    "sea_surface_height_above_geoid_96 = sea_surface_height_above_geoid[data_1:data_2,:,:]\n",
    "sea_surface_height_above_sea_level_96 = sea_surface_height_above_sea_level[data_1:data_2,:,:]"
   ]
  },
  {
   "cell_type": "code",
   "execution_count": 8,
   "id": "8541aedf",
   "metadata": {},
   "outputs": [],
   "source": [
    "# SON   97\n",
    "date_97_1 = 1704\n",
    "date_97_2 = 1795\n",
    "data_1 = date_97_1\n",
    "data_2 = date_97_2\n",
    "\n",
    "sea_surface_height_above_geoid_97 = sea_surface_height_above_geoid[data_1:data_2,:,:]\n",
    "sea_surface_height_above_sea_level_97 = sea_surface_height_above_sea_level[data_1:data_2,:,:]"
   ]
  },
  {
   "cell_type": "code",
   "execution_count": 9,
   "id": "d38e6847",
   "metadata": {},
   "outputs": [],
   "source": [
    "# SON   98\n",
    "date_98_1 = 2069\n",
    "date_98_2 = 2160\n",
    "data_1 = date_98_1\n",
    "data_2 = date_98_2\n",
    "\n",
    "sea_surface_height_above_geoid_98 = sea_surface_height_above_geoid[data_1:data_2,:,:]\n",
    "sea_surface_height_above_sea_level_98 = sea_surface_height_above_sea_level[data_1:data_2,:,:]"
   ]
  },
  {
   "cell_type": "code",
   "execution_count": 10,
   "id": "d1311d11",
   "metadata": {},
   "outputs": [],
   "source": [
    "# SON   99\n",
    "date_99_1 = 2434\n",
    "date_99_2 = 2525\n",
    "data_1 = date_99_1\n",
    "data_2 = date_99_2\n",
    "\n",
    "sea_surface_height_above_geoid_99 = sea_surface_height_above_geoid[data_1:data_2,:,:]\n",
    "sea_surface_height_above_sea_level_99 = sea_surface_height_above_sea_level[data_1:data_2,:,:]"
   ]
  },
  {
   "cell_type": "code",
   "execution_count": 11,
   "id": "9752034e",
   "metadata": {},
   "outputs": [],
   "source": [
    "# SON   00\n",
    "date_00_1 = 2800\n",
    "date_00_2 = 2891\n",
    "data_1 = date_00_1\n",
    "data_2 = date_00_2\n",
    "\n",
    "sea_surface_height_above_geoid_00 = sea_surface_height_above_geoid[data_1:data_2,:,:]\n",
    "sea_surface_height_above_sea_level_00 = sea_surface_height_above_sea_level[data_1:data_2,:,:]"
   ]
  },
  {
   "cell_type": "code",
   "execution_count": 12,
   "id": "854c5b89",
   "metadata": {},
   "outputs": [],
   "source": [
    "# SON   01\n",
    "date_01_1 = 3165\n",
    "date_01_2 = 3256\n",
    "data_1 = date_01_1\n",
    "data_2 = date_01_2\n",
    "\n",
    "sea_surface_height_above_geoid_01 = sea_surface_height_above_geoid[data_1:data_2,:,:]\n",
    "sea_surface_height_above_sea_level_01 = sea_surface_height_above_sea_level[data_1:data_2,:,:]"
   ]
  },
  {
   "cell_type": "code",
   "execution_count": 13,
   "id": "5a2caf64",
   "metadata": {},
   "outputs": [],
   "source": [
    "# SON   02\n",
    "date_02_1 = 3529\n",
    "date_02_2 = 3620\n",
    "data_1 = date_02_1\n",
    "data_2 = date_02_2\n",
    "\n",
    "sea_surface_height_above_geoid_02 = sea_surface_height_above_geoid[data_1:data_2,:,:]\n",
    "sea_surface_height_above_sea_level_02 = sea_surface_height_above_sea_level[data_1:data_2,:,:]"
   ]
  },
  {
   "cell_type": "code",
   "execution_count": 14,
   "id": "5d965c62",
   "metadata": {},
   "outputs": [],
   "source": [
    "# SON   03\n",
    "date_03_1 = 3895\n",
    "date_03_2 = 3986\n",
    "data_1 = date_03_1\n",
    "data_2 = date_03_2\n",
    "\n",
    "sea_surface_height_above_geoid_03 = sea_surface_height_above_geoid[data_1:data_2,:,:]\n",
    "sea_surface_height_above_sea_level_03 = sea_surface_height_above_sea_level[data_1:data_2,:,:]"
   ]
  },
  {
   "cell_type": "code",
   "execution_count": 15,
   "id": "b7519763",
   "metadata": {},
   "outputs": [],
   "source": [
    "# SON   04\n",
    "date_04_1 = 4261\n",
    "date_04_2 = 4352\n",
    "data_1 = date_04_1\n",
    "data_2 = date_04_2\n",
    "\n",
    "sea_surface_height_above_geoid_04 = sea_surface_height_above_geoid[data_1:data_2,:,:]\n",
    "sea_surface_height_above_sea_level_04 = sea_surface_height_above_sea_level[data_1:data_2,:,:]"
   ]
  },
  {
   "cell_type": "code",
   "execution_count": 16,
   "id": "a4e25e2e",
   "metadata": {},
   "outputs": [],
   "source": [
    "# SON   05\n",
    "date_05_1 = 4626\n",
    "date_05_2 = 4717\n",
    "data_1 = date_05_1\n",
    "data_2 = date_05_2\n",
    "\n",
    "sea_surface_height_above_geoid_05 = sea_surface_height_above_geoid[data_1:data_2,:,:]\n",
    "sea_surface_height_above_sea_level_05 = sea_surface_height_above_sea_level[data_1:data_2,:,:]"
   ]
  },
  {
   "cell_type": "code",
   "execution_count": 17,
   "id": "67044c38",
   "metadata": {},
   "outputs": [],
   "source": [
    "# SON   06\n",
    "date_06_1 = 4990\n",
    "date_06_2 = 5081\n",
    "data_1 = date_06_1\n",
    "data_2 = date_06_2\n",
    "\n",
    "sea_surface_height_above_geoid_06 = sea_surface_height_above_geoid[data_1:data_2,:,:]\n",
    "sea_surface_height_above_sea_level_06 = sea_surface_height_above_sea_level[data_1:data_2,:,:]"
   ]
  },
  {
   "cell_type": "code",
   "execution_count": 18,
   "id": "78189aeb",
   "metadata": {},
   "outputs": [],
   "source": [
    "# SON   07\n",
    "date_07_1 = 5356\n",
    "date_07_2 = 5447\n",
    "data_1 = date_07_1\n",
    "data_2 = date_07_2\n",
    "\n",
    "sea_surface_height_above_geoid_07 = sea_surface_height_above_geoid[data_1:data_2,:,:]\n",
    "sea_surface_height_above_sea_level_07 = sea_surface_height_above_sea_level[data_1:data_2,:,:]"
   ]
  },
  {
   "cell_type": "code",
   "execution_count": 19,
   "id": "e75b23b8",
   "metadata": {},
   "outputs": [],
   "source": [
    "# SON   08\n",
    "date_08_1 = 5722\n",
    "date_08_2 = 5813\n",
    "data_1 = date_08_1\n",
    "data_2 = date_08_2\n",
    "\n",
    "sea_surface_height_above_geoid_08 = sea_surface_height_above_geoid[data_1:data_2,:,:]\n",
    "sea_surface_height_above_sea_level_08 = sea_surface_height_above_sea_level[data_1:data_2,:,:]"
   ]
  },
  {
   "cell_type": "code",
   "execution_count": 20,
   "id": "218653cf",
   "metadata": {},
   "outputs": [],
   "source": [
    "# SON   09\n",
    "date_09_1 = 6087\n",
    "date_09_2 = 6178\n",
    "data_1 = date_09_1\n",
    "data_2 = date_09_2\n",
    "\n",
    "sea_surface_height_above_geoid_09 = sea_surface_height_above_geoid[data_1:data_2,:,:]\n",
    "sea_surface_height_above_sea_level_09 = sea_surface_height_above_sea_level[data_1:data_2,:,:]"
   ]
  },
  {
   "cell_type": "code",
   "execution_count": 21,
   "id": "25291d3e",
   "metadata": {},
   "outputs": [],
   "source": [
    "# SON   10\n",
    "date_10_1 = 6452\n",
    "date_10_2 = 6543\n",
    "data_1 = date_10_1\n",
    "data_2 = date_10_2\n",
    "\n",
    "sea_surface_height_above_geoid_10 = sea_surface_height_above_geoid[data_1:data_2,:,:]\n",
    "sea_surface_height_above_sea_level_10 = sea_surface_height_above_sea_level[data_1:data_2,:,:]"
   ]
  },
  {
   "cell_type": "code",
   "execution_count": 22,
   "id": "1482eda0",
   "metadata": {},
   "outputs": [],
   "source": [
    "# SON   11\n",
    "date_11_1 = 6817\n",
    "date_11_2 = 6908\n",
    "data_1 = date_11_1\n",
    "data_2 = date_11_2\n",
    "\n",
    "sea_surface_height_above_geoid_11 = sea_surface_height_above_geoid[data_1:data_2,:,:]\n",
    "sea_surface_height_above_sea_level_11 = sea_surface_height_above_sea_level[data_1:data_2,:,:]"
   ]
  },
  {
   "cell_type": "code",
   "execution_count": 23,
   "id": "ddf108d6",
   "metadata": {},
   "outputs": [],
   "source": [
    "# SON   12\n",
    "date_12_1 = 7183\n",
    "date_12_2 = 7274\n",
    "data_1 = date_12_1\n",
    "data_2 = date_12_2\n",
    "\n",
    "sea_surface_height_above_geoid_12 = sea_surface_height_above_geoid[data_1:data_2,:,:]\n",
    "sea_surface_height_above_sea_level_12 = sea_surface_height_above_sea_level[data_1:data_2,:,:]"
   ]
  },
  {
   "cell_type": "code",
   "execution_count": 24,
   "id": "9f9d673b",
   "metadata": {},
   "outputs": [],
   "source": [
    "# SON   13\n",
    "date_13_1 = 7548\n",
    "date_13_2 = 7639\n",
    "data_1 = date_13_1\n",
    "data_2 = date_13_2\n",
    "\n",
    "sea_surface_height_above_geoid_13 = sea_surface_height_above_geoid[data_1:data_2,:,:]\n",
    "sea_surface_height_above_sea_level_13 = sea_surface_height_above_sea_level[data_1:data_2,:,:]"
   ]
  },
  {
   "cell_type": "code",
   "execution_count": 25,
   "id": "482ae24d",
   "metadata": {},
   "outputs": [],
   "source": [
    "# SON   14\n",
    "date_14_1 = 7913\n",
    "date_14_2 = 8004\n",
    "data_1 = date_14_1\n",
    "data_2 = date_14_2\n",
    "\n",
    "sea_surface_height_above_geoid_14 = sea_surface_height_above_geoid[data_1:data_2,:,:]\n",
    "sea_surface_height_above_sea_level_14 = sea_surface_height_above_sea_level[data_1:data_2,:,:]"
   ]
  },
  {
   "cell_type": "code",
   "execution_count": 26,
   "id": "77287aee",
   "metadata": {},
   "outputs": [],
   "source": [
    "# SON   15\n",
    "date_15_1 = 8278\n",
    "date_15_2 = 8369\n",
    "data_1 = date_15_1\n",
    "data_2 = date_15_2\n",
    "\n",
    "sea_surface_height_above_geoid_15 = sea_surface_height_above_geoid[data_1:data_2,:,:]\n",
    "sea_surface_height_above_sea_level_15 = sea_surface_height_above_sea_level[data_1:data_2,:,:]"
   ]
  },
  {
   "cell_type": "code",
   "execution_count": 27,
   "id": "f2fc7867",
   "metadata": {},
   "outputs": [],
   "source": [
    "# SON   16\n",
    "date_16_1 = 8644\n",
    "date_16_2 = 8735\n",
    "data_1 = date_16_1\n",
    "data_2 = date_16_2\n",
    "\n",
    "sea_surface_height_above_geoid_16 = sea_surface_height_above_geoid[data_1:data_2,:,:]\n",
    "sea_surface_height_above_sea_level_16 = sea_surface_height_above_sea_level[data_1:data_2,:,:]"
   ]
  },
  {
   "cell_type": "code",
   "execution_count": 28,
   "id": "588d4c49",
   "metadata": {},
   "outputs": [],
   "source": [
    "# SON   17\n",
    "date_17_1 = 9009\n",
    "date_17_2 = 9100\n",
    "data_1 = date_17_1\n",
    "data_2 = date_17_2\n",
    "\n",
    "sea_surface_height_above_geoid_17 = sea_surface_height_above_geoid[data_1:data_2,:,:]\n",
    "sea_surface_height_above_sea_level_17 = sea_surface_height_above_sea_level[data_1:data_2,:,:]"
   ]
  },
  {
   "cell_type": "code",
   "execution_count": 29,
   "id": "cf7cca26",
   "metadata": {},
   "outputs": [],
   "source": [
    "# SON   18\n",
    "date_18_1 = 9374\n",
    "date_18_2 = 9465\n",
    "data_1 = date_18_1\n",
    "data_2 = date_18_2\n",
    "\n",
    "sea_surface_height_above_geoid_18 = sea_surface_height_above_geoid[data_1:data_2,:,:]\n",
    "sea_surface_height_above_sea_level_18 = sea_surface_height_above_sea_level[data_1:data_2,:,:]"
   ]
  },
  {
   "cell_type": "code",
   "execution_count": 30,
   "id": "dc2c9960",
   "metadata": {},
   "outputs": [],
   "source": [
    "# SON   19\n",
    "date_19_1 = 9739\n",
    "date_19_2 = 9830\n",
    "data_1 = date_19_1\n",
    "data_2 = date_19_2\n",
    "\n",
    "sea_surface_height_above_geoid_19 = sea_surface_height_above_geoid[data_1:data_2,:,:]\n",
    "sea_surface_height_above_sea_level_19 = sea_surface_height_above_sea_level[data_1:data_2,:,:]"
   ]
  },
  {
   "cell_type": "code",
   "execution_count": 31,
   "id": "de6a4586",
   "metadata": {},
   "outputs": [],
   "source": [
    "sea_surface_height_above_geoid_93_19 = np.concatenate((sea_surface_height_above_geoid_93,\n",
    "                                                      sea_surface_height_above_geoid_94, sea_surface_height_above_geoid_95,\n",
    "                                                      sea_surface_height_above_geoid_96, sea_surface_height_above_geoid_97,\n",
    "                                                      sea_surface_height_above_geoid_98, sea_surface_height_above_geoid_99,\n",
    "                                                      sea_surface_height_above_geoid_00,\n",
    "                                                      sea_surface_height_above_geoid_01, sea_surface_height_above_geoid_02,\n",
    "                                                      sea_surface_height_above_geoid_03, sea_surface_height_above_geoid_04,\n",
    "                                                      sea_surface_height_above_geoid_05, sea_surface_height_above_geoid_06,\n",
    "                                                      sea_surface_height_above_geoid_07, sea_surface_height_above_geoid_08,\n",
    "                                                      sea_surface_height_above_geoid_09, sea_surface_height_above_geoid_10,\n",
    "                                                      sea_surface_height_above_geoid_11, sea_surface_height_above_geoid_12,\n",
    "                                                      sea_surface_height_above_geoid_13, sea_surface_height_above_geoid_14,\n",
    "                                                      sea_surface_height_above_geoid_15, sea_surface_height_above_geoid_16,\n",
    "                                                      sea_surface_height_above_geoid_17, sea_surface_height_above_geoid_18,\n",
    "                                                      sea_surface_height_above_geoid_19),axis = 0)"
   ]
  },
  {
   "cell_type": "code",
   "execution_count": 32,
   "id": "781d3fc2",
   "metadata": {},
   "outputs": [],
   "source": [
    "sea_surface_height_above_sea_level_93_19 = np.concatenate((\n",
    "sea_surface_height_above_sea_level_93, sea_surface_height_above_sea_level_94,\n",
    "sea_surface_height_above_sea_level_95, sea_surface_height_above_sea_level_96,\n",
    "sea_surface_height_above_sea_level_97, sea_surface_height_above_sea_level_98,\n",
    "sea_surface_height_above_sea_level_99, sea_surface_height_above_sea_level_00,\n",
    "sea_surface_height_above_sea_level_01, sea_surface_height_above_sea_level_02,\n",
    "sea_surface_height_above_sea_level_03, sea_surface_height_above_sea_level_04,\n",
    "sea_surface_height_above_sea_level_05, sea_surface_height_above_sea_level_06,\n",
    "sea_surface_height_above_sea_level_07, sea_surface_height_above_sea_level_08,\n",
    "sea_surface_height_above_sea_level_09, sea_surface_height_above_sea_level_10,\n",
    "sea_surface_height_above_sea_level_11, sea_surface_height_above_sea_level_12,\n",
    "sea_surface_height_above_sea_level_13, sea_surface_height_above_sea_level_14,\n",
    "sea_surface_height_above_sea_level_15, sea_surface_height_above_sea_level_16,\n",
    "sea_surface_height_above_sea_level_17, sea_surface_height_above_sea_level_18,\n",
    "sea_surface_height_above_sea_level_19),axis = 0)"
   ]
  },
  {
   "cell_type": "code",
   "execution_count": 33,
   "id": "9954cace",
   "metadata": {},
   "outputs": [],
   "source": [
    "np.savez(r'D:\\heat_wave\\atlantic\\expand_area1\\ssh\\SON_SSH.npz',\n",
    "        sea_surface_height_above_geoid =  sea_surface_height_above_geoid_93_19,\n",
    "        sea_surface_height_above_sea_level = sea_surface_height_above_sea_level_93_19)"
   ]
  },
  {
   "cell_type": "code",
   "execution_count": 35,
   "id": "5806c3cc",
   "metadata": {},
   "outputs": [
    {
     "data": {
      "text/plain": [
       "(9861, 65, 49)"
      ]
     },
     "execution_count": 35,
     "metadata": {},
     "output_type": "execute_result"
    }
   ],
   "source": [
    "sea_surface_height_above_geoid.shape"
   ]
  },
  {
   "cell_type": "code",
   "execution_count": 36,
   "id": "e71fe751",
   "metadata": {},
   "outputs": [
    {
     "data": {
      "text/plain": [
       "(9861, 65, 49)"
      ]
     },
     "execution_count": 36,
     "metadata": {},
     "output_type": "execute_result"
    }
   ],
   "source": [
    "sea_surface_height_above_sea_level.shape"
   ]
  },
  {
   "cell_type": "code",
   "execution_count": null,
   "id": "a9f95564",
   "metadata": {},
   "outputs": [],
   "source": []
  },
  {
   "cell_type": "code",
   "execution_count": null,
   "id": "5023ae5e",
   "metadata": {},
   "outputs": [],
   "source": []
  },
  {
   "cell_type": "code",
   "execution_count": null,
   "id": "b065db2c",
   "metadata": {},
   "outputs": [],
   "source": []
  },
  {
   "cell_type": "code",
   "execution_count": null,
   "id": "3fac2eed",
   "metadata": {},
   "outputs": [],
   "source": []
  }
 ],
 "metadata": {
  "kernelspec": {
   "display_name": "Python 3 (ipykernel)",
   "language": "python",
   "name": "python3"
  },
  "language_info": {
   "codemirror_mode": {
    "name": "ipython",
    "version": 3
   },
   "file_extension": ".py",
   "mimetype": "text/x-python",
   "name": "python",
   "nbconvert_exporter": "python",
   "pygments_lexer": "ipython3",
   "version": "3.8.12"
  }
 },
 "nbformat": 4,
 "nbformat_minor": 5
}

{
 "cells": [
  {
   "cell_type": "code",
   "execution_count": 1,
   "id": "5a382c33",
   "metadata": {},
   "outputs": [],
   "source": [
    "import random\n",
    "\n",
    "import numpy as np\n",
    "import torch\n",
    "from sklearn.metrics import mean_squared_error\n",
    "from sklearn.preprocessing import MinMaxScaler\n",
    "from torch import nn\n",
    "from tqdm import tqdm\n",
    "from torch.autograd import Variable\n",
    "from torch.utils.data import Dataset, DataLoader"
   ]
  },
  {
   "cell_type": "code",
   "execution_count": 4,
   "id": "9fff1461",
   "metadata": {},
   "outputs": [
    {
     "name": "stdout",
     "output_type": "stream",
     "text": [
      "['time', 'lat', 'lon', 'sea_surface_height_above_geoid', 'surface_geostrophic_eastward_sea_water_velocity', 'surface_geostrophic_northward_sea_water_velocity', 'sea_surface_height_above_sea_level', 'surface_geostrophic_eastward_sea_water_velocity_assuming_sea_level_for_geoid', 'surface_geostrophic_northward_sea_water_velocity_assuming_sea_level_for_geoid']\n"
     ]
    }
   ],
   "source": [
    "data = np.load(r'D:\\heat_wave\\atlantic\\expand_area1\\ssh\\ssh_93_19_atlantic_area.npz')\n",
    "print(data.files) # ['sst_obser', 'slfh', 'sshf', 'ssr', 'str', 'mld', 'analysis_temp', 'u', 'v', 'T_d', 'u_d', 'v_d', 'xx', 'yy', 'dT_dt', 'dT_dx', 'dT_dy']"
   ]
  },
  {
   "cell_type": "code",
   "execution_count": 5,
   "id": "511ec0d6",
   "metadata": {},
   "outputs": [],
   "source": [
    "sea_surface_height_above_geoid = data['sea_surface_height_above_geoid'][:]\n",
    "sea_surface_height_above_sea_level = data['sea_surface_height_above_sea_level'][:]"
   ]
  },
  {
   "cell_type": "code",
   "execution_count": 6,
   "id": "5ae890de",
   "metadata": {},
   "outputs": [
    {
     "data": {
      "text/plain": [
       "(9861, 82, 81)"
      ]
     },
     "execution_count": 6,
     "metadata": {},
     "output_type": "execute_result"
    }
   ],
   "source": [
    "sea_surface_height_above_geoid.shape"
   ]
  },
  {
   "cell_type": "code",
   "execution_count": 7,
   "id": "048ee35a",
   "metadata": {},
   "outputs": [],
   "source": [
    "# JJA   93\n",
    "date_93_1 = 151\n",
    "date_93_2 = 243\n",
    "data_1 = date_93_1\n",
    "data_2 = date_93_2\n",
    "\n",
    "sea_surface_height_above_geoid_93 = sea_surface_height_above_geoid[data_1:data_2,:,:]\n",
    "sea_surface_height_above_sea_level_93 = sea_surface_height_above_sea_level[data_1:data_2,:,:]"
   ]
  },
  {
   "cell_type": "code",
   "execution_count": 8,
   "id": "6dff16b7",
   "metadata": {},
   "outputs": [],
   "source": [
    "# JJA   94\n",
    "date_94_1 = 516\n",
    "date_94_2 = 608\n",
    "data_1 = date_94_1\n",
    "data_2 = date_94_2\n",
    "\n",
    "sea_surface_height_above_geoid_94 = sea_surface_height_above_geoid[data_1:data_2,:,:]\n",
    "sea_surface_height_above_sea_level_94 = sea_surface_height_above_sea_level[data_1:data_2,:,:]"
   ]
  },
  {
   "cell_type": "code",
   "execution_count": 9,
   "id": "0e0f13b9",
   "metadata": {},
   "outputs": [],
   "source": [
    "# JJA   95\n",
    "date_95_1 = 881\n",
    "date_95_2 = 973\n",
    "data_1 = date_95_1\n",
    "data_2 = date_95_2\n",
    "\n",
    "sea_surface_height_above_geoid_95 = sea_surface_height_above_geoid[data_1:data_2,:,:]\n",
    "sea_surface_height_above_sea_level_95 = sea_surface_height_above_sea_level[data_1:data_2,:,:]"
   ]
  },
  {
   "cell_type": "code",
   "execution_count": 10,
   "id": "517c902c",
   "metadata": {},
   "outputs": [],
   "source": [
    "# JJA   96\n",
    "date_96_1 = 1247\n",
    "date_96_2 = 1339\n",
    "data_1 = date_96_1\n",
    "data_2 = date_96_2\n",
    "\n",
    "sea_surface_height_above_geoid_96 = sea_surface_height_above_geoid[data_1:data_2,:,:]\n",
    "sea_surface_height_above_sea_level_96 = sea_surface_height_above_sea_level[data_1:data_2,:,:]"
   ]
  },
  {
   "cell_type": "code",
   "execution_count": 11,
   "id": "d7724c70",
   "metadata": {},
   "outputs": [],
   "source": [
    "# JJA   97\n",
    "date_97_1 = 1612\n",
    "date_97_2 = 1704\n",
    "data_1 = date_97_1\n",
    "data_2 = date_97_2\n",
    "\n",
    "sea_surface_height_above_geoid_97 = sea_surface_height_above_geoid[data_1:data_2,:,:]\n",
    "sea_surface_height_above_sea_level_97 = sea_surface_height_above_sea_level[data_1:data_2,:,:]"
   ]
  },
  {
   "cell_type": "code",
   "execution_count": 12,
   "id": "e2bb469a",
   "metadata": {},
   "outputs": [],
   "source": [
    "# JJA   98\n",
    "date_98_1 = 1977\n",
    "date_98_2 = 2069\n",
    "data_1 = date_98_1\n",
    "data_2 = date_98_2\n",
    "\n",
    "sea_surface_height_above_geoid_98 = sea_surface_height_above_geoid[data_1:data_2,:,:]\n",
    "sea_surface_height_above_sea_level_98 = sea_surface_height_above_sea_level[data_1:data_2,:,:]"
   ]
  },
  {
   "cell_type": "code",
   "execution_count": 13,
   "id": "c82e9cd3",
   "metadata": {},
   "outputs": [],
   "source": [
    "# JJA   99\n",
    "date_99_1 = 2324\n",
    "date_99_2 = 2434\n",
    "data_1 = date_99_1\n",
    "data_2 = date_99_2\n",
    "\n",
    "sea_surface_height_above_geoid_99 = sea_surface_height_above_geoid[data_1:data_2,:,:]\n",
    "sea_surface_height_above_sea_level_99 = sea_surface_height_above_sea_level[data_1:data_2,:,:]"
   ]
  },
  {
   "cell_type": "code",
   "execution_count": 14,
   "id": "4c1ab6ab",
   "metadata": {},
   "outputs": [],
   "source": [
    "# JJA   00\n",
    "date_00_1 = 2708\n",
    "date_00_2 = 2799\n",
    "data_1 = date_00_1\n",
    "data_2 = date_00_2\n",
    "\n",
    "sea_surface_height_above_geoid_00 = sea_surface_height_above_geoid[data_1:data_2,:,:]\n",
    "sea_surface_height_above_sea_level_00 = sea_surface_height_above_sea_level[data_1:data_2,:,:]"
   ]
  },
  {
   "cell_type": "code",
   "execution_count": 15,
   "id": "fdb44326",
   "metadata": {},
   "outputs": [],
   "source": [
    "# JJA   01\n",
    "date_01_1 = 3073\n",
    "date_01_2 = 3165\n",
    "data_1 = date_01_1\n",
    "data_2 = date_01_2\n",
    "\n",
    "sea_surface_height_above_geoid_01 = sea_surface_height_above_geoid[data_1:data_2,:,:]\n",
    "sea_surface_height_above_sea_level_01 = sea_surface_height_above_sea_level[data_1:data_2,:,:]"
   ]
  },
  {
   "cell_type": "code",
   "execution_count": 16,
   "id": "fb102ebd",
   "metadata": {},
   "outputs": [],
   "source": [
    "# JJA   02\n",
    "date_02_1 = 3438\n",
    "date_02_2 = 3529\n",
    "data_1 = date_02_1\n",
    "data_2 = date_02_2\n",
    "\n",
    "sea_surface_height_above_geoid_02 = sea_surface_height_above_geoid[data_1:data_2,:,:]\n",
    "sea_surface_height_above_sea_level_02 = sea_surface_height_above_sea_level[data_1:data_2,:,:]"
   ]
  },
  {
   "cell_type": "code",
   "execution_count": 17,
   "id": "5eb030ae",
   "metadata": {},
   "outputs": [],
   "source": [
    "# JJA   03\n",
    "date_03_1 = 3803\n",
    "date_03_2 = 3895\n",
    "data_1 = date_03_1\n",
    "data_2 = date_03_2\n",
    "\n",
    "sea_surface_height_above_geoid_03 = sea_surface_height_above_geoid[data_1:data_2,:,:]\n",
    "sea_surface_height_above_sea_level_03 = sea_surface_height_above_sea_level[data_1:data_2,:,:]"
   ]
  },
  {
   "cell_type": "code",
   "execution_count": 18,
   "id": "f8f0aea4",
   "metadata": {},
   "outputs": [],
   "source": [
    "# JJA   04\n",
    "date_04_1 = 4169\n",
    "date_04_2 = 4261\n",
    "data_1 = date_04_1\n",
    "data_2 = date_04_2\n",
    "\n",
    "sea_surface_height_above_geoid_04 = sea_surface_height_above_geoid[data_1:data_2,:,:]\n",
    "sea_surface_height_above_sea_level_04 = sea_surface_height_above_sea_level[data_1:data_2,:,:]"
   ]
  },
  {
   "cell_type": "code",
   "execution_count": 19,
   "id": "5d90dc3b",
   "metadata": {},
   "outputs": [],
   "source": [
    "# JJA   05\n",
    "date_05_1 = 4534\n",
    "date_05_2 = 4626\n",
    "data_1 = date_05_1\n",
    "data_2 = date_05_2\n",
    "\n",
    "sea_surface_height_above_geoid_05 = sea_surface_height_above_geoid[data_1:data_2,:,:]\n",
    "sea_surface_height_above_sea_level_05 = sea_surface_height_above_sea_level[data_1:data_2,:,:]"
   ]
  },
  {
   "cell_type": "code",
   "execution_count": 20,
   "id": "22375d89",
   "metadata": {},
   "outputs": [],
   "source": [
    "# JJA   06\n",
    "date_06_1 = 4899\n",
    "date_06_2 = 4990\n",
    "data_1 = date_06_1\n",
    "data_2 = date_06_2\n",
    "\n",
    "sea_surface_height_above_geoid_06 = sea_surface_height_above_geoid[data_1:data_2,:,:]\n",
    "sea_surface_height_above_sea_level_06 = sea_surface_height_above_sea_level[data_1:data_2,:,:]"
   ]
  },
  {
   "cell_type": "code",
   "execution_count": 21,
   "id": "75df8cac",
   "metadata": {},
   "outputs": [],
   "source": [
    "# JJA   07\n",
    "date_07_1 = 5264\n",
    "date_07_2 = 5356\n",
    "data_1 = date_07_1\n",
    "data_2 = date_07_2\n",
    "\n",
    "sea_surface_height_above_geoid_07 = sea_surface_height_above_geoid[data_1:data_2,:,:]\n",
    "sea_surface_height_above_sea_level_07 = sea_surface_height_above_sea_level[data_1:data_2,:,:]"
   ]
  },
  {
   "cell_type": "code",
   "execution_count": 22,
   "id": "0f3b8cd1",
   "metadata": {},
   "outputs": [],
   "source": [
    "# JJA   08\n",
    "date_08_1 = 5630\n",
    "date_08_2 = 5722\n",
    "data_1 = date_08_1\n",
    "data_2 = date_08_2\n",
    "\n",
    "sea_surface_height_above_geoid_08 = sea_surface_height_above_geoid[data_1:data_2,:,:]\n",
    "sea_surface_height_above_sea_level_08 = sea_surface_height_above_sea_level[data_1:data_2,:,:]"
   ]
  },
  {
   "cell_type": "code",
   "execution_count": 23,
   "id": "4799fe43",
   "metadata": {},
   "outputs": [],
   "source": [
    "# JJA   09\n",
    "date_09_1 = 5995\n",
    "date_09_2 = 6087\n",
    "data_1 = date_09_1\n",
    "data_2 = date_09_2\n",
    "\n",
    "sea_surface_height_above_geoid_09 = sea_surface_height_above_geoid[data_1:data_2,:,:]\n",
    "sea_surface_height_above_sea_level_09 = sea_surface_height_above_sea_level[data_1:data_2,:,:]"
   ]
  },
  {
   "cell_type": "code",
   "execution_count": 24,
   "id": "53aeda71",
   "metadata": {},
   "outputs": [],
   "source": [
    "# JJA   10\n",
    "date_10_1 = 6360\n",
    "date_10_2 = 6452\n",
    "data_1 = date_10_1\n",
    "data_2 = date_10_2\n",
    "\n",
    "sea_surface_height_above_geoid_10 = sea_surface_height_above_geoid[data_1:data_2,:,:]\n",
    "sea_surface_height_above_sea_level_10 = sea_surface_height_above_sea_level[data_1:data_2,:,:]"
   ]
  },
  {
   "cell_type": "code",
   "execution_count": 25,
   "id": "c744e6c6",
   "metadata": {},
   "outputs": [],
   "source": [
    "# JJA   11\n",
    "date_11_1 = 6725\n",
    "date_11_2 = 6817\n",
    "data_1 = date_11_1\n",
    "data_2 = date_11_2\n",
    "\n",
    "sea_surface_height_above_geoid_11 = sea_surface_height_above_geoid[data_1:data_2,:,:]\n",
    "sea_surface_height_above_sea_level_11 = sea_surface_height_above_sea_level[data_1:data_2,:,:]"
   ]
  },
  {
   "cell_type": "code",
   "execution_count": 26,
   "id": "92674162",
   "metadata": {},
   "outputs": [],
   "source": [
    "# JJA   12\n",
    "date_12_1 = 7091\n",
    "date_12_2 = 7183\n",
    "data_1 = date_12_1\n",
    "data_2 = date_12_2\n",
    "\n",
    "sea_surface_height_above_geoid_12 = sea_surface_height_above_geoid[data_1:data_2,:,:]\n",
    "sea_surface_height_above_sea_level_12 = sea_surface_height_above_sea_level[data_1:data_2,:,:]"
   ]
  },
  {
   "cell_type": "code",
   "execution_count": 27,
   "id": "8abdc3d9",
   "metadata": {},
   "outputs": [],
   "source": [
    "# JJA   13\n",
    "date_13_1 = 7456\n",
    "date_13_2 = 7548\n",
    "data_1 = date_13_1\n",
    "data_2 = date_13_2\n",
    "\n",
    "sea_surface_height_above_geoid_13 = sea_surface_height_above_geoid[data_1:data_2,:,:]\n",
    "sea_surface_height_above_sea_level_13 = sea_surface_height_above_sea_level[data_1:data_2,:,:]"
   ]
  },
  {
   "cell_type": "code",
   "execution_count": 28,
   "id": "dfee3154",
   "metadata": {},
   "outputs": [],
   "source": [
    "# JJA   14\n",
    "date_14_1 = 7821\n",
    "date_14_2 = 7913\n",
    "data_1 = date_14_1\n",
    "data_2 = date_14_2\n",
    "\n",
    "sea_surface_height_above_geoid_14 = sea_surface_height_above_geoid[data_1:data_2,:,:]\n",
    "sea_surface_height_above_sea_level_14 = sea_surface_height_above_sea_level[data_1:data_2,:,:]"
   ]
  },
  {
   "cell_type": "code",
   "execution_count": 29,
   "id": "bbe33aba",
   "metadata": {},
   "outputs": [],
   "source": [
    "# JJA   15\n",
    "date_15_1 = 8186\n",
    "date_15_2 = 8278\n",
    "data_1 = date_15_1\n",
    "data_2 = date_15_2\n",
    "\n",
    "sea_surface_height_above_geoid_15 = sea_surface_height_above_geoid[data_1:data_2,:,:]\n",
    "sea_surface_height_above_sea_level_15 = sea_surface_height_above_sea_level[data_1:data_2,:,:]"
   ]
  },
  {
   "cell_type": "code",
   "execution_count": 30,
   "id": "0018b419",
   "metadata": {},
   "outputs": [],
   "source": [
    "# JJA   16\n",
    "date_16_1 = 8552\n",
    "date_16_2 = 8644\n",
    "data_1 = date_16_1\n",
    "data_2 = date_16_2\n",
    "\n",
    "sea_surface_height_above_geoid_16 = sea_surface_height_above_geoid[data_1:data_2,:,:]\n",
    "sea_surface_height_above_sea_level_16 = sea_surface_height_above_sea_level[data_1:data_2,:,:]"
   ]
  },
  {
   "cell_type": "code",
   "execution_count": 31,
   "id": "7b1a5cb6",
   "metadata": {},
   "outputs": [],
   "source": [
    "# JJA   17\n",
    "date_17_1 = 8917\n",
    "date_17_2 = 9009\n",
    "data_1 = date_17_1\n",
    "data_2 = date_17_2\n",
    "\n",
    "sea_surface_height_above_geoid_17 = sea_surface_height_above_geoid[data_1:data_2,:,:]\n",
    "sea_surface_height_above_sea_level_17 = sea_surface_height_above_sea_level[data_1:data_2,:,:]"
   ]
  },
  {
   "cell_type": "code",
   "execution_count": 32,
   "id": "4ecd466e",
   "metadata": {},
   "outputs": [],
   "source": [
    "# JJA   18\n",
    "date_18_1 = 9282\n",
    "date_18_2 = 9374\n",
    "data_1 = date_18_1\n",
    "data_2 = date_18_2\n",
    "\n",
    "sea_surface_height_above_geoid_18 = sea_surface_height_above_geoid[data_1:data_2,:,:]\n",
    "sea_surface_height_above_sea_level_18 = sea_surface_height_above_sea_level[data_1:data_2,:,:]"
   ]
  },
  {
   "cell_type": "code",
   "execution_count": 33,
   "id": "abcb04e2",
   "metadata": {},
   "outputs": [],
   "source": [
    "# JJA   19\n",
    "date_19_1 = 9647\n",
    "date_19_2 = 9739\n",
    "data_1 = date_19_1\n",
    "data_2 = date_19_2\n",
    "\n",
    "sea_surface_height_above_geoid_19 = sea_surface_height_above_geoid[data_1:data_2,:,:]\n",
    "sea_surface_height_above_sea_level_19 = sea_surface_height_above_sea_level[data_1:data_2,:,:]"
   ]
  },
  {
   "cell_type": "code",
   "execution_count": 34,
   "id": "4794357c",
   "metadata": {},
   "outputs": [],
   "source": [
    "sea_surface_height_above_geoid_93_19 = np.concatenate((sea_surface_height_above_geoid_93,\n",
    "                                                      sea_surface_height_above_geoid_94, sea_surface_height_above_geoid_95,\n",
    "                                                      sea_surface_height_above_geoid_96, sea_surface_height_above_geoid_97,\n",
    "                                                      sea_surface_height_above_geoid_98, sea_surface_height_above_geoid_99,\n",
    "                                                      sea_surface_height_above_geoid_00,\n",
    "                                                      sea_surface_height_above_geoid_01, sea_surface_height_above_geoid_02,\n",
    "                                                      sea_surface_height_above_geoid_03, sea_surface_height_above_geoid_04,\n",
    "                                                      sea_surface_height_above_geoid_05, sea_surface_height_above_geoid_06,\n",
    "                                                      sea_surface_height_above_geoid_07, sea_surface_height_above_geoid_08,\n",
    "                                                      sea_surface_height_above_geoid_09, sea_surface_height_above_geoid_10,\n",
    "                                                      sea_surface_height_above_geoid_11, sea_surface_height_above_geoid_12,\n",
    "                                                      sea_surface_height_above_geoid_13, sea_surface_height_above_geoid_14,\n",
    "                                                      sea_surface_height_above_geoid_15, sea_surface_height_above_geoid_16,\n",
    "                                                      sea_surface_height_above_geoid_17, sea_surface_height_above_geoid_18,\n",
    "                                                      sea_surface_height_above_geoid_19),axis = 0)"
   ]
  },
  {
   "cell_type": "code",
   "execution_count": 35,
   "id": "a597f364",
   "metadata": {},
   "outputs": [],
   "source": [
    "sea_surface_height_above_sea_level_93_19 = np.concatenate((\n",
    "sea_surface_height_above_sea_level_93, sea_surface_height_above_sea_level_94,\n",
    "sea_surface_height_above_sea_level_95, sea_surface_height_above_sea_level_96,\n",
    "sea_surface_height_above_sea_level_97, sea_surface_height_above_sea_level_98,\n",
    "sea_surface_height_above_sea_level_99, sea_surface_height_above_sea_level_00,\n",
    "sea_surface_height_above_sea_level_01, sea_surface_height_above_sea_level_02,\n",
    "sea_surface_height_above_sea_level_03, sea_surface_height_above_sea_level_04,\n",
    "sea_surface_height_above_sea_level_05, sea_surface_height_above_sea_level_06,\n",
    "sea_surface_height_above_sea_level_07, sea_surface_height_above_sea_level_08,\n",
    "sea_surface_height_above_sea_level_09, sea_surface_height_above_sea_level_10,\n",
    "sea_surface_height_above_sea_level_11, sea_surface_height_above_sea_level_12,\n",
    "sea_surface_height_above_sea_level_13, sea_surface_height_above_sea_level_14,\n",
    "sea_surface_height_above_sea_level_15, sea_surface_height_above_sea_level_16,\n",
    "sea_surface_height_above_sea_level_17, sea_surface_height_above_sea_level_18,\n",
    "sea_surface_height_above_sea_level_19),axis = 0)"
   ]
  },
  {
   "cell_type": "code",
   "execution_count": 36,
   "id": "a054720c",
   "metadata": {},
   "outputs": [],
   "source": [
    "np.savez(r'D:\\heat_wave\\atlantic\\expand_area1\\ssh\\JJA_SSH.npz',\n",
    "        sea_surface_height_above_geoid =  sea_surface_height_above_geoid_93_19,\n",
    "        sea_surface_height_above_sea_level = sea_surface_height_above_sea_level_93_19)"
   ]
  },
  {
   "cell_type": "code",
   "execution_count": null,
   "id": "6fe867df",
   "metadata": {},
   "outputs": [],
   "source": []
  },
  {
   "cell_type": "code",
   "execution_count": 34,
   "id": "ba97146f",
   "metadata": {},
   "outputs": [
    {
     "data": {
      "text/plain": [
       "(2499, 65, 49)"
      ]
     },
     "execution_count": 34,
     "metadata": {},
     "output_type": "execute_result"
    }
   ],
   "source": [
    "sea_surface_height_above_sea_level_93_19.shape"
   ]
  },
  {
   "cell_type": "code",
   "execution_count": 35,
   "id": "06fb55e7",
   "metadata": {},
   "outputs": [
    {
     "data": {
      "text/plain": [
       "(2499, 65, 49)"
      ]
     },
     "execution_count": 35,
     "metadata": {},
     "output_type": "execute_result"
    }
   ],
   "source": [
    "sea_surface_height_above_geoid_93_19.shape"
   ]
  },
  {
   "cell_type": "code",
   "execution_count": null,
   "id": "e92793e4",
   "metadata": {},
   "outputs": [],
   "source": []
  }
 ],
 "metadata": {
  "kernelspec": {
   "display_name": "Python 3 (ipykernel)",
   "language": "python",
   "name": "python3"
  },
  "language_info": {
   "codemirror_mode": {
    "name": "ipython",
    "version": 3
   },
   "file_extension": ".py",
   "mimetype": "text/x-python",
   "name": "python",
   "nbconvert_exporter": "python",
   "pygments_lexer": "ipython3",
   "version": "3.8.12"
  }
 },
 "nbformat": 4,
 "nbformat_minor": 5
}

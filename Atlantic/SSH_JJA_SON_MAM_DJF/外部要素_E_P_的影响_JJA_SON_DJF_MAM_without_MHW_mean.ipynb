{
 "cells": [
  {
   "cell_type": "code",
   "execution_count": 1,
   "id": "ffd935fe",
   "metadata": {},
   "outputs": [],
   "source": [
    "import numpy as np \n",
    "import matplotlib.pyplot as plt"
   ]
  },
  {
   "cell_type": "code",
   "execution_count": 3,
   "id": "1ddf92e6",
   "metadata": {},
   "outputs": [
    {
     "name": "stdout",
     "output_type": "stream",
     "text": [
      "['lat', 'lon', 'low_cloud_cover']\n"
     ]
    }
   ],
   "source": [
    "data = np.load(r'D:\\博士工作\\第三篇论文_MHW_AI\\data\\atlantic\\expand_area1\\low_cloud\\low_cloud_cover_atlantic_chazhi.npz')\n",
    "print(data.files) # ['sst_obser', 'slfh', 'sshf', 'ssr', 'str', 'mld', 'analysis_temp', 'u', 'v', 'T_d', 'u_d', 'v_d', 'xx', 'yy', 'dT_dt', 'dT_dx', 'dT_dy']"
   ]
  },
  {
   "cell_type": "code",
   "execution_count": 4,
   "id": "63f67028",
   "metadata": {},
   "outputs": [
    {
     "data": {
      "text/plain": [
       "(9861, 81, 81)"
      ]
     },
     "execution_count": 4,
     "metadata": {},
     "output_type": "execute_result"
    }
   ],
   "source": [
    "low_cloud_cover = data['low_cloud_cover'][:]\n",
    "low_cloud_cover.shape"
   ]
  },
  {
   "cell_type": "code",
   "execution_count": 5,
   "id": "5d5ee742",
   "metadata": {},
   "outputs": [
    {
     "name": "stdout",
     "output_type": "stream",
     "text": [
      "['lat', 'lon', 'potential_evaporation']\n"
     ]
    }
   ],
   "source": [
    "data1 = np.load(r'D:\\博士工作\\第三篇论文_MHW_AI\\data\\atlantic\\expand_area1\\low_cloud\\potential_evaporation_atlantic_chazhi.npz')\n",
    "print(data1.files) # ['sst_obser', 'slfh', 'sshf', 'ssr', 'str', 'mld', 'analysis_temp', 'u', 'v', 'T_d', 'u_d', 'v_d', 'xx', 'yy', 'dT_dt', 'dT_dx', 'dT_dy']"
   ]
  },
  {
   "cell_type": "code",
   "execution_count": 6,
   "id": "6b016c9f",
   "metadata": {},
   "outputs": [
    {
     "data": {
      "text/plain": [
       "(9861, 81, 81)"
      ]
     },
     "execution_count": 6,
     "metadata": {},
     "output_type": "execute_result"
    }
   ],
   "source": [
    "potential_evaporation = data1['potential_evaporation'][:]\n",
    "potential_evaporation.shape"
   ]
  },
  {
   "cell_type": "code",
   "execution_count": 7,
   "id": "d133b6db",
   "metadata": {},
   "outputs": [],
   "source": [
    "sea_surface_height_above_geoid = low_cloud_cover\n",
    "sea_surface_height_above_sea_level = potential_evaporation"
   ]
  },
  {
   "cell_type": "code",
   "execution_count": 8,
   "id": "c81044cc",
   "metadata": {},
   "outputs": [],
   "source": [
    "# JJA   93\n",
    "date_93_1 = 151\n",
    "date_93_2 = 243\n",
    "data_1 = date_93_1\n",
    "data_2 = date_93_2\n",
    "\n",
    "sea_surface_height_above_geoid_93 = sea_surface_height_above_geoid[data_1:data_2,:,:]\n",
    "sea_surface_height_above_sea_level_93 = sea_surface_height_above_sea_level[data_1:data_2,:,:]"
   ]
  },
  {
   "cell_type": "code",
   "execution_count": 9,
   "id": "b0922dce",
   "metadata": {},
   "outputs": [],
   "source": [
    "# JJA   94\n",
    "date_94_1 = 516\n",
    "date_94_2 = 608\n",
    "data_1 = date_94_1\n",
    "data_2 = date_94_2\n",
    "\n",
    "sea_surface_height_above_geoid_94 = sea_surface_height_above_geoid[data_1:data_2,:,:]\n",
    "sea_surface_height_above_sea_level_94 = sea_surface_height_above_sea_level[data_1:data_2,:,:]"
   ]
  },
  {
   "cell_type": "code",
   "execution_count": 10,
   "id": "68103759",
   "metadata": {},
   "outputs": [],
   "source": [
    "# JJA   95\n",
    "date_95_1 = 881\n",
    "date_95_2 = 973\n",
    "data_1 = date_95_1\n",
    "data_2 = date_95_2\n",
    "\n",
    "sea_surface_height_above_geoid_95 = sea_surface_height_above_geoid[data_1:data_2,:,:]\n",
    "sea_surface_height_above_sea_level_95 = sea_surface_height_above_sea_level[data_1:data_2,:,:]"
   ]
  },
  {
   "cell_type": "code",
   "execution_count": 11,
   "id": "cbeb79c4",
   "metadata": {},
   "outputs": [],
   "source": [
    "# JJA   96\n",
    "date_96_1 = 1247\n",
    "date_96_2 = 1339\n",
    "data_1 = date_96_1\n",
    "data_2 = date_96_2\n",
    "\n",
    "sea_surface_height_above_geoid_96 = sea_surface_height_above_geoid[data_1:data_2,:,:]\n",
    "sea_surface_height_above_sea_level_96 = sea_surface_height_above_sea_level[data_1:data_2,:,:]"
   ]
  },
  {
   "cell_type": "code",
   "execution_count": 12,
   "id": "2ef579cb",
   "metadata": {},
   "outputs": [],
   "source": [
    "# JJA   97\n",
    "date_97_1 = 1612\n",
    "date_97_2 = 1704\n",
    "data_1 = date_97_1\n",
    "data_2 = date_97_2\n",
    "\n",
    "sea_surface_height_above_geoid_97 = sea_surface_height_above_geoid[data_1:data_2,:,:]\n",
    "sea_surface_height_above_sea_level_97 = sea_surface_height_above_sea_level[data_1:data_2,:,:]"
   ]
  },
  {
   "cell_type": "code",
   "execution_count": 13,
   "id": "70c2f2a4",
   "metadata": {},
   "outputs": [],
   "source": [
    "# JJA   98\n",
    "date_98_1 = 1977\n",
    "date_98_2 = 2069\n",
    "data_1 = date_98_1\n",
    "data_2 = date_98_2\n",
    "\n",
    "sea_surface_height_above_geoid_98 = sea_surface_height_above_geoid[data_1:data_2,:,:]\n",
    "sea_surface_height_above_sea_level_98 = sea_surface_height_above_sea_level[data_1:data_2,:,:]"
   ]
  },
  {
   "cell_type": "code",
   "execution_count": 14,
   "id": "8eb596a7",
   "metadata": {},
   "outputs": [],
   "source": [
    "# JJA   99\n",
    "date_99_1 = 2324\n",
    "date_99_2 = 2434\n",
    "data_1 = date_99_1\n",
    "data_2 = date_99_2\n",
    "\n",
    "sea_surface_height_above_geoid_99 = sea_surface_height_above_geoid[data_1:data_2,:,:]\n",
    "sea_surface_height_above_sea_level_99 = sea_surface_height_above_sea_level[data_1:data_2,:,:]"
   ]
  },
  {
   "cell_type": "code",
   "execution_count": 15,
   "id": "dbe5f543",
   "metadata": {},
   "outputs": [],
   "source": [
    "# JJA   00\n",
    "date_00_1 = 2708\n",
    "date_00_2 = 2799\n",
    "data_1 = date_00_1\n",
    "data_2 = date_00_2\n",
    "\n",
    "sea_surface_height_above_geoid_00 = sea_surface_height_above_geoid[data_1:data_2,:,:]\n",
    "sea_surface_height_above_sea_level_00 = sea_surface_height_above_sea_level[data_1:data_2,:,:]"
   ]
  },
  {
   "cell_type": "code",
   "execution_count": 16,
   "id": "4159924b",
   "metadata": {},
   "outputs": [],
   "source": [
    "# JJA   01\n",
    "date_01_1 = 3073\n",
    "date_01_2 = 3165\n",
    "data_1 = date_01_1\n",
    "data_2 = date_01_2\n",
    "\n",
    "sea_surface_height_above_geoid_01 = sea_surface_height_above_geoid[data_1:data_2,:,:]\n",
    "sea_surface_height_above_sea_level_01 = sea_surface_height_above_sea_level[data_1:data_2,:,:]"
   ]
  },
  {
   "cell_type": "code",
   "execution_count": 17,
   "id": "74b7717e",
   "metadata": {},
   "outputs": [],
   "source": [
    "# JJA   02\n",
    "date_02_1 = 3438\n",
    "date_02_2 = 3529\n",
    "data_1 = date_02_1\n",
    "data_2 = date_02_2\n",
    "\n",
    "sea_surface_height_above_geoid_02 = sea_surface_height_above_geoid[data_1:data_2,:,:]\n",
    "sea_surface_height_above_sea_level_02 = sea_surface_height_above_sea_level[data_1:data_2,:,:]"
   ]
  },
  {
   "cell_type": "code",
   "execution_count": 18,
   "id": "4a0726ca",
   "metadata": {},
   "outputs": [],
   "source": [
    "# JJA   03\n",
    "date_03_1 = 3803\n",
    "date_03_2 = 3895\n",
    "data_1 = date_03_1\n",
    "data_2 = date_03_2\n",
    "\n",
    "sea_surface_height_above_geoid_03 = sea_surface_height_above_geoid[data_1:data_2,:,:]\n",
    "sea_surface_height_above_sea_level_03 = sea_surface_height_above_sea_level[data_1:data_2,:,:]"
   ]
  },
  {
   "cell_type": "code",
   "execution_count": 19,
   "id": "c4d0afd0",
   "metadata": {},
   "outputs": [],
   "source": [
    "# JJA   04\n",
    "date_04_1 = 4169\n",
    "date_04_2 = 4261\n",
    "data_1 = date_04_1\n",
    "data_2 = date_04_2\n",
    "\n",
    "sea_surface_height_above_geoid_04 = sea_surface_height_above_geoid[data_1:data_2,:,:]\n",
    "sea_surface_height_above_sea_level_04 = sea_surface_height_above_sea_level[data_1:data_2,:,:]"
   ]
  },
  {
   "cell_type": "code",
   "execution_count": 20,
   "id": "7fe80e07",
   "metadata": {},
   "outputs": [],
   "source": [
    "# JJA   05\n",
    "date_05_1 = 4534\n",
    "date_05_2 = 4626\n",
    "data_1 = date_05_1\n",
    "data_2 = date_05_2\n",
    "\n",
    "sea_surface_height_above_geoid_05 = sea_surface_height_above_geoid[data_1:data_2,:,:]\n",
    "sea_surface_height_above_sea_level_05 = sea_surface_height_above_sea_level[data_1:data_2,:,:]"
   ]
  },
  {
   "cell_type": "code",
   "execution_count": 21,
   "id": "37cb3cc2",
   "metadata": {},
   "outputs": [],
   "source": [
    "# JJA   06\n",
    "date_06_1 = 4899\n",
    "date_06_2 = 4990\n",
    "data_1 = date_06_1\n",
    "data_2 = date_06_2\n",
    "\n",
    "sea_surface_height_above_geoid_06 = sea_surface_height_above_geoid[data_1:data_2,:,:]\n",
    "sea_surface_height_above_sea_level_06 = sea_surface_height_above_sea_level[data_1:data_2,:,:]"
   ]
  },
  {
   "cell_type": "code",
   "execution_count": 22,
   "id": "76dc1398",
   "metadata": {},
   "outputs": [],
   "source": [
    "# JJA   07\n",
    "date_07_1 = 5264\n",
    "date_07_2 = 5356\n",
    "data_1 = date_07_1\n",
    "data_2 = date_07_2\n",
    "\n",
    "sea_surface_height_above_geoid_07 = sea_surface_height_above_geoid[data_1:data_2,:,:]\n",
    "sea_surface_height_above_sea_level_07 = sea_surface_height_above_sea_level[data_1:data_2,:,:]"
   ]
  },
  {
   "cell_type": "code",
   "execution_count": 23,
   "id": "be4cb007",
   "metadata": {},
   "outputs": [],
   "source": [
    "# JJA   08\n",
    "date_08_1 = 5630\n",
    "date_08_2 = 5722\n",
    "data_1 = date_08_1\n",
    "data_2 = date_08_2\n",
    "\n",
    "sea_surface_height_above_geoid_08 = sea_surface_height_above_geoid[data_1:data_2,:,:]\n",
    "sea_surface_height_above_sea_level_08 = sea_surface_height_above_sea_level[data_1:data_2,:,:]"
   ]
  },
  {
   "cell_type": "code",
   "execution_count": 24,
   "id": "08b7a4de",
   "metadata": {},
   "outputs": [],
   "source": [
    "# JJA   09\n",
    "date_09_1 = 5995\n",
    "date_09_2 = 6087\n",
    "data_1 = date_09_1\n",
    "data_2 = date_09_2\n",
    "\n",
    "sea_surface_height_above_geoid_09 = sea_surface_height_above_geoid[data_1:data_2,:,:]\n",
    "sea_surface_height_above_sea_level_09 = sea_surface_height_above_sea_level[data_1:data_2,:,:]"
   ]
  },
  {
   "cell_type": "code",
   "execution_count": 25,
   "id": "d3d5c1ac",
   "metadata": {},
   "outputs": [],
   "source": [
    "# JJA   10\n",
    "date_10_1 = 6360\n",
    "date_10_2 = 6452\n",
    "data_1 = date_10_1\n",
    "data_2 = date_10_2\n",
    "\n",
    "sea_surface_height_above_geoid_10 = sea_surface_height_above_geoid[data_1:data_2,:,:]\n",
    "sea_surface_height_above_sea_level_10 = sea_surface_height_above_sea_level[data_1:data_2,:,:]"
   ]
  },
  {
   "cell_type": "code",
   "execution_count": 26,
   "id": "614d8f3b",
   "metadata": {},
   "outputs": [],
   "source": [
    "# JJA   11\n",
    "date_11_1 = 6725\n",
    "date_11_2 = 6817\n",
    "data_1 = date_11_1\n",
    "data_2 = date_11_2\n",
    "\n",
    "sea_surface_height_above_geoid_11 = sea_surface_height_above_geoid[data_1:data_2,:,:]\n",
    "sea_surface_height_above_sea_level_11 = sea_surface_height_above_sea_level[data_1:data_2,:,:]"
   ]
  },
  {
   "cell_type": "code",
   "execution_count": 27,
   "id": "72ec1a33",
   "metadata": {},
   "outputs": [],
   "source": [
    "# JJA   12\n",
    "date_12_1 = 7091\n",
    "date_12_2 = 7183\n",
    "data_1 = date_12_1\n",
    "data_2 = date_12_2\n",
    "\n",
    "sea_surface_height_above_geoid_12 = sea_surface_height_above_geoid[data_1:data_2,:,:]\n",
    "sea_surface_height_above_sea_level_12 = sea_surface_height_above_sea_level[data_1:data_2,:,:]"
   ]
  },
  {
   "cell_type": "code",
   "execution_count": 28,
   "id": "1f31ea1d",
   "metadata": {},
   "outputs": [],
   "source": [
    "# JJA   13\n",
    "date_13_1 = 7456\n",
    "date_13_2 = 7548\n",
    "data_1 = date_13_1\n",
    "data_2 = date_13_2\n",
    "\n",
    "sea_surface_height_above_geoid_13 = sea_surface_height_above_geoid[data_1:data_2,:,:]\n",
    "sea_surface_height_above_sea_level_13 = sea_surface_height_above_sea_level[data_1:data_2,:,:]"
   ]
  },
  {
   "cell_type": "code",
   "execution_count": 30,
   "id": "c19ad58f",
   "metadata": {},
   "outputs": [],
   "source": [
    "# JJA   14\n",
    "date_14_1 = 7821\n",
    "date_14_2 = 7913\n",
    "data_1 = date_14_1\n",
    "data_2 = date_14_2\n",
    "\n",
    "sea_surface_height_above_geoid_14 = sea_surface_height_above_geoid[data_1:data_2,:,:]\n",
    "sea_surface_height_above_sea_level_14 = sea_surface_height_above_sea_level[data_1:data_2,:,:]"
   ]
  },
  {
   "cell_type": "code",
   "execution_count": 31,
   "id": "3740e44a",
   "metadata": {},
   "outputs": [],
   "source": [
    "# JJA   15\n",
    "date_15_1 = 8186\n",
    "date_15_2 = 8278\n",
    "data_1 = date_15_1\n",
    "data_2 = date_15_2\n",
    "\n",
    "sea_surface_height_above_geoid_15 = sea_surface_height_above_geoid[data_1:data_2,:,:]\n",
    "sea_surface_height_above_sea_level_15 = sea_surface_height_above_sea_level[data_1:data_2,:,:]"
   ]
  },
  {
   "cell_type": "code",
   "execution_count": 32,
   "id": "6d49576a",
   "metadata": {},
   "outputs": [],
   "source": [
    "# JJA   16\n",
    "date_16_1 = 8552\n",
    "date_16_2 = 8644\n",
    "data_1 = date_16_1\n",
    "data_2 = date_16_2\n",
    "\n",
    "sea_surface_height_above_geoid_16 = sea_surface_height_above_geoid[data_1:data_2,:,:]\n",
    "sea_surface_height_above_sea_level_16 = sea_surface_height_above_sea_level[data_1:data_2,:,:]"
   ]
  },
  {
   "cell_type": "code",
   "execution_count": 33,
   "id": "5d935e14",
   "metadata": {},
   "outputs": [],
   "source": [
    "# JJA   17\n",
    "date_17_1 = 8917\n",
    "date_17_2 = 9009\n",
    "data_1 = date_17_1\n",
    "data_2 = date_17_2\n",
    "\n",
    "sea_surface_height_above_geoid_17 = sea_surface_height_above_geoid[data_1:data_2,:,:]\n",
    "sea_surface_height_above_sea_level_17 = sea_surface_height_above_sea_level[data_1:data_2,:,:]"
   ]
  },
  {
   "cell_type": "code",
   "execution_count": 34,
   "id": "d2e4cc15",
   "metadata": {},
   "outputs": [],
   "source": [
    "# JJA   18\n",
    "date_18_1 = 9282\n",
    "date_18_2 = 9374\n",
    "data_1 = date_18_1\n",
    "data_2 = date_18_2\n",
    "\n",
    "sea_surface_height_above_geoid_18 = sea_surface_height_above_geoid[data_1:data_2,:,:]\n",
    "sea_surface_height_above_sea_level_18 = sea_surface_height_above_sea_level[data_1:data_2,:,:]"
   ]
  },
  {
   "cell_type": "code",
   "execution_count": 35,
   "id": "021aaaac",
   "metadata": {},
   "outputs": [],
   "source": [
    "# JJA   19\n",
    "date_19_1 = 9647\n",
    "date_19_2 = 9739\n",
    "data_1 = date_19_1\n",
    "data_2 = date_19_2\n",
    "\n",
    "sea_surface_height_above_geoid_19 = sea_surface_height_above_geoid[data_1:data_2,:,:]\n",
    "sea_surface_height_above_sea_level_19 = sea_surface_height_above_sea_level[data_1:data_2,:,:]"
   ]
  },
  {
   "cell_type": "code",
   "execution_count": 36,
   "id": "24b5c0e0",
   "metadata": {},
   "outputs": [
    {
     "data": {
      "text/plain": [
       "(92, 81, 81)"
      ]
     },
     "execution_count": 36,
     "metadata": {},
     "output_type": "execute_result"
    }
   ],
   "source": [
    "sea_surface_height_above_geoid_19.shape"
   ]
  },
  {
   "cell_type": "code",
   "execution_count": 37,
   "id": "c4cf7f7d",
   "metadata": {},
   "outputs": [],
   "source": [
    "sea_surface_height_above_geoid_93_mean = np.mean((sea_surface_height_above_geoid_93), axis = (0,1,2)).reshape(-1,1)"
   ]
  },
  {
   "cell_type": "code",
   "execution_count": 38,
   "id": "cb2e5a5d",
   "metadata": {},
   "outputs": [],
   "source": [
    "sea_surface_height_above_geoid_94_mean = np.mean((sea_surface_height_above_geoid_94), axis = (0,1,2)).reshape(-1,1)\n",
    "sea_surface_height_above_geoid_95_mean = np.mean((sea_surface_height_above_geoid_95), axis = (0,1,2)).reshape(-1,1)\n",
    "sea_surface_height_above_geoid_96_mean = np.mean((sea_surface_height_above_geoid_96), axis = (0,1,2)).reshape(-1,1)\n",
    "sea_surface_height_above_geoid_97_mean = np.mean((sea_surface_height_above_geoid_97), axis = (0,1,2)).reshape(-1,1)\n",
    "sea_surface_height_above_geoid_98_mean = np.mean((sea_surface_height_above_geoid_98), axis = (0,1,2)).reshape(-1,1)\n",
    "sea_surface_height_above_geoid_99_mean = np.mean((sea_surface_height_above_geoid_99), axis = (0,1,2)).reshape(-1,1)\n",
    "sea_surface_height_above_geoid_00_mean = np.mean((sea_surface_height_above_geoid_00), axis = (0,1,2)).reshape(-1,1)\n",
    "sea_surface_height_above_geoid_01_mean = np.mean((sea_surface_height_above_geoid_01), axis = (0,1,2)).reshape(-1,1)\n",
    "sea_surface_height_above_geoid_02_mean = np.mean((sea_surface_height_above_geoid_02), axis = (0,1,2)).reshape(-1,1)\n",
    "sea_surface_height_above_geoid_03_mean = np.mean((sea_surface_height_above_geoid_03), axis = (0,1,2)).reshape(-1,1)\n",
    "sea_surface_height_above_geoid_04_mean = np.mean((sea_surface_height_above_geoid_04), axis = (0,1,2)).reshape(-1,1)\n",
    "sea_surface_height_above_geoid_05_mean = np.mean((sea_surface_height_above_geoid_05), axis = (0,1,2)).reshape(-1,1)\n",
    "sea_surface_height_above_geoid_06_mean = np.mean((sea_surface_height_above_geoid_06), axis = (0,1,2)).reshape(-1,1)\n",
    "sea_surface_height_above_geoid_07_mean = np.mean((sea_surface_height_above_geoid_07), axis = (0,1,2)).reshape(-1,1)\n",
    "sea_surface_height_above_geoid_08_mean = np.mean((sea_surface_height_above_geoid_08), axis = (0,1,2)).reshape(-1,1)\n",
    "sea_surface_height_above_geoid_09_mean = np.mean((sea_surface_height_above_geoid_09), axis = (0,1,2)).reshape(-1,1)\n",
    "sea_surface_height_above_geoid_10_mean = np.mean((sea_surface_height_above_geoid_10), axis = (0,1,2)).reshape(-1,1)\n",
    "sea_surface_height_above_geoid_11_mean = np.mean((sea_surface_height_above_geoid_11), axis = (0,1,2)).reshape(-1,1)\n",
    "sea_surface_height_above_geoid_12_mean = np.mean((sea_surface_height_above_geoid_12), axis = (0,1,2)).reshape(-1,1)\n",
    "sea_surface_height_above_geoid_13_mean = np.mean((sea_surface_height_above_geoid_13), axis = (0,1,2)).reshape(-1,1)\n",
    "sea_surface_height_above_geoid_14_mean = np.mean((sea_surface_height_above_geoid_14), axis = (0,1,2)).reshape(-1,1)\n",
    "sea_surface_height_above_geoid_15_mean = np.mean((sea_surface_height_above_geoid_15), axis = (0,1,2)).reshape(-1,1)\n",
    "sea_surface_height_above_geoid_16_mean = np.mean((sea_surface_height_above_geoid_16), axis = (0,1,2)).reshape(-1,1)\n",
    "sea_surface_height_above_geoid_17_mean = np.mean((sea_surface_height_above_geoid_17), axis = (0,1,2)).reshape(-1,1)\n",
    "sea_surface_height_above_geoid_18_mean = np.mean((sea_surface_height_above_geoid_18), axis = (0,1,2)).reshape(-1,1)\n",
    "sea_surface_height_above_geoid_19_mean = np.mean((sea_surface_height_above_geoid_19), axis = (0,1,2)).reshape(-1,1)"
   ]
  },
  {
   "cell_type": "code",
   "execution_count": 39,
   "id": "7189a4ea",
   "metadata": {},
   "outputs": [],
   "source": [
    "sea_surface_height_above_geoid_93_19_mean = np.concatenate((sea_surface_height_above_geoid_93,\n",
    "sea_surface_height_above_geoid_94, sea_surface_height_above_geoid_95, sea_surface_height_above_geoid_96,\n",
    "                                                           sea_surface_height_above_geoid_97, sea_surface_height_above_geoid_98,\n",
    "                                                           sea_surface_height_above_geoid_99, sea_surface_height_above_geoid_00,\n",
    "                                                           sea_surface_height_above_geoid_01, sea_surface_height_above_geoid_02,\n",
    "                                                           sea_surface_height_above_geoid_03, sea_surface_height_above_geoid_04,\n",
    "                                                           sea_surface_height_above_geoid_05, sea_surface_height_above_geoid_06,\n",
    "                                                           sea_surface_height_above_geoid_07, sea_surface_height_above_geoid_08,\n",
    "                                                           sea_surface_height_above_geoid_09, sea_surface_height_above_geoid_10,\n",
    "                                                           sea_surface_height_above_geoid_11, sea_surface_height_above_geoid_12,\n",
    "                                                           sea_surface_height_above_geoid_13, sea_surface_height_above_geoid_14,\n",
    "                                                           sea_surface_height_above_geoid_15, sea_surface_height_above_geoid_16,\n",
    "                                                           sea_surface_height_above_geoid_17, sea_surface_height_above_geoid_18,\n",
    "                                                           sea_surface_height_above_geoid_19), axis = 0)"
   ]
  },
  {
   "cell_type": "code",
   "execution_count": 40,
   "id": "aafff319",
   "metadata": {},
   "outputs": [],
   "source": [
    "sea_surface_height_above_geoid_93_19_mean = np.mean((sea_surface_height_above_geoid_93_19_mean), axis = (1,2))"
   ]
  },
  {
   "cell_type": "code",
   "execution_count": 41,
   "id": "d9776d5b",
   "metadata": {},
   "outputs": [],
   "source": [
    "sea_surface_height_above_geoid_93_19_mean_all = np.concatenate((sea_surface_height_above_geoid_93_mean,\n",
    "sea_surface_height_above_geoid_94_mean, sea_surface_height_above_geoid_95_mean, \n",
    "                                                                sea_surface_height_above_geoid_96_mean,\n",
    "                                                           sea_surface_height_above_geoid_97_mean, sea_surface_height_above_geoid_98_mean,\n",
    "                                                           sea_surface_height_above_geoid_99_mean, sea_surface_height_above_geoid_00_mean,\n",
    "                                                           sea_surface_height_above_geoid_01_mean, sea_surface_height_above_geoid_02_mean,\n",
    "                                                           sea_surface_height_above_geoid_03_mean, sea_surface_height_above_geoid_04_mean,\n",
    "                                                           sea_surface_height_above_geoid_05_mean, sea_surface_height_above_geoid_06_mean,\n",
    "                                                           sea_surface_height_above_geoid_07_mean, sea_surface_height_above_geoid_08_mean,\n",
    "                                                           sea_surface_height_above_geoid_09_mean, sea_surface_height_above_geoid_10_mean,\n",
    "                                                           sea_surface_height_above_geoid_11_mean, sea_surface_height_above_geoid_12_mean,\n",
    "                                                           sea_surface_height_above_geoid_13_mean, sea_surface_height_above_geoid_14_mean,\n",
    "                                                           sea_surface_height_above_geoid_15_mean, sea_surface_height_above_geoid_16_mean,\n",
    "                                                           sea_surface_height_above_geoid_17_mean, sea_surface_height_above_geoid_18_mean,\n",
    "                                                           sea_surface_height_above_geoid_19_mean), axis = 0)"
   ]
  },
  {
   "cell_type": "code",
   "execution_count": 42,
   "id": "d8ef2107",
   "metadata": {},
   "outputs": [
    {
     "data": {
      "text/plain": [
       "(27, 1)"
      ]
     },
     "execution_count": 42,
     "metadata": {},
     "output_type": "execute_result"
    }
   ],
   "source": [
    "sea_surface_height_above_geoid_93_19_mean_all.shape"
   ]
  },
  {
   "cell_type": "code",
   "execution_count": 43,
   "id": "2763d683",
   "metadata": {},
   "outputs": [],
   "source": [
    "sea_surface_height_above_sea_level_93_mean = np.mean((sea_surface_height_above_sea_level_93), axis = (0,1,2)).reshape(-1,1)\n",
    "sea_surface_height_above_sea_level_94_mean = np.mean((sea_surface_height_above_sea_level_94), axis = (0,1,2)).reshape(-1,1)\n",
    "sea_surface_height_above_sea_level_95_mean = np.mean((sea_surface_height_above_sea_level_95), axis = (0,1,2)).reshape(-1,1)\n",
    "sea_surface_height_above_sea_level_96_mean = np.mean((sea_surface_height_above_sea_level_96), axis = (0,1,2)).reshape(-1,1)\n",
    "sea_surface_height_above_sea_level_97_mean = np.mean((sea_surface_height_above_sea_level_97), axis = (0,1,2)).reshape(-1,1)\n",
    "sea_surface_height_above_sea_level_98_mean = np.mean((sea_surface_height_above_sea_level_98), axis = (0,1,2)).reshape(-1,1)\n",
    "sea_surface_height_above_sea_level_99_mean = np.mean((sea_surface_height_above_sea_level_99), axis = (0,1,2)).reshape(-1,1)\n",
    "sea_surface_height_above_sea_level_00_mean = np.mean((sea_surface_height_above_sea_level_00), axis = (0,1,2)).reshape(-1,1)\n",
    "sea_surface_height_above_sea_level_01_mean = np.mean((sea_surface_height_above_sea_level_01), axis = (0,1,2)).reshape(-1,1)\n",
    "sea_surface_height_above_sea_level_02_mean = np.mean((sea_surface_height_above_sea_level_02), axis = (0,1,2)).reshape(-1,1)\n",
    "sea_surface_height_above_sea_level_03_mean = np.mean((sea_surface_height_above_sea_level_03), axis = (0,1,2)).reshape(-1,1)\n",
    "sea_surface_height_above_sea_level_04_mean = np.mean((sea_surface_height_above_sea_level_04), axis = (0,1,2)).reshape(-1,1)\n",
    "sea_surface_height_above_sea_level_05_mean = np.mean((sea_surface_height_above_sea_level_05), axis = (0,1,2)).reshape(-1,1)\n",
    "sea_surface_height_above_sea_level_06_mean = np.mean((sea_surface_height_above_sea_level_06), axis = (0,1,2)).reshape(-1,1)\n",
    "sea_surface_height_above_sea_level_07_mean = np.mean((sea_surface_height_above_sea_level_07), axis = (0,1,2)).reshape(-1,1)\n",
    "sea_surface_height_above_sea_level_08_mean = np.mean((sea_surface_height_above_sea_level_08), axis = (0,1,2)).reshape(-1,1)\n",
    "sea_surface_height_above_sea_level_09_mean = np.mean((sea_surface_height_above_sea_level_09), axis = (0,1,2)).reshape(-1,1)\n",
    "sea_surface_height_above_sea_level_10_mean = np.mean((sea_surface_height_above_sea_level_10), axis = (0,1,2)).reshape(-1,1)\n",
    "sea_surface_height_above_sea_level_11_mean = np.mean((sea_surface_height_above_sea_level_11), axis = (0,1,2)).reshape(-1,1)\n",
    "sea_surface_height_above_sea_level_12_mean = np.mean((sea_surface_height_above_sea_level_12), axis = (0,1,2)).reshape(-1,1)\n",
    "sea_surface_height_above_sea_level_13_mean = np.mean((sea_surface_height_above_sea_level_13), axis = (0,1,2)).reshape(-1,1)\n",
    "sea_surface_height_above_sea_level_14_mean = np.mean((sea_surface_height_above_sea_level_14), axis = (0,1,2)).reshape(-1,1)\n",
    "sea_surface_height_above_sea_level_15_mean = np.mean((sea_surface_height_above_sea_level_15), axis = (0,1,2)).reshape(-1,1)\n",
    "sea_surface_height_above_sea_level_16_mean = np.mean((sea_surface_height_above_sea_level_16), axis = (0,1,2)).reshape(-1,1)\n",
    "sea_surface_height_above_sea_level_17_mean = np.mean((sea_surface_height_above_sea_level_17), axis = (0,1,2)).reshape(-1,1)\n",
    "sea_surface_height_above_sea_level_18_mean = np.mean((sea_surface_height_above_sea_level_18), axis = (0,1,2)).reshape(-1,1)\n",
    "sea_surface_height_above_sea_level_19_mean = np.mean((sea_surface_height_above_sea_level_19), axis = (0,1,2)).reshape(-1,1)"
   ]
  },
  {
   "cell_type": "code",
   "execution_count": 44,
   "id": "5ccf577c",
   "metadata": {},
   "outputs": [],
   "source": [
    "sea_surface_height_above_sea_level_93_19_mean_all = np.concatenate((\n",
    "sea_surface_height_above_sea_level_93_mean, sea_surface_height_above_sea_level_94_mean,\n",
    "sea_surface_height_above_sea_level_95_mean, sea_surface_height_above_sea_level_96_mean,\n",
    "sea_surface_height_above_sea_level_97_mean, sea_surface_height_above_sea_level_98_mean,\n",
    "sea_surface_height_above_sea_level_99_mean, sea_surface_height_above_sea_level_00_mean,\n",
    "sea_surface_height_above_sea_level_01_mean, sea_surface_height_above_sea_level_02_mean,\n",
    "sea_surface_height_above_sea_level_03_mean, sea_surface_height_above_sea_level_04_mean,\n",
    "sea_surface_height_above_sea_level_05_mean, sea_surface_height_above_sea_level_06_mean,\n",
    "sea_surface_height_above_sea_level_07_mean, sea_surface_height_above_sea_level_08_mean,\n",
    "sea_surface_height_above_sea_level_09_mean, sea_surface_height_above_sea_level_10_mean,\n",
    "sea_surface_height_above_sea_level_11_mean, sea_surface_height_above_sea_level_12_mean,\n",
    "sea_surface_height_above_sea_level_13_mean, sea_surface_height_above_sea_level_14_mean,\n",
    "sea_surface_height_above_sea_level_15_mean, sea_surface_height_above_sea_level_16_mean,\n",
    "sea_surface_height_above_sea_level_17_mean, sea_surface_height_above_sea_level_18_mean,\n",
    "sea_surface_height_above_sea_level_19_mean), axis = 0)"
   ]
  },
  {
   "cell_type": "code",
   "execution_count": 45,
   "id": "200706b8",
   "metadata": {},
   "outputs": [
    {
     "data": {
      "text/plain": [
       "(27, 1)"
      ]
     },
     "execution_count": 45,
     "metadata": {},
     "output_type": "execute_result"
    }
   ],
   "source": [
    "sea_surface_height_above_geoid_93_19_mean_all.shape"
   ]
  },
  {
   "cell_type": "code",
   "execution_count": 46,
   "id": "818ec506",
   "metadata": {},
   "outputs": [],
   "source": [
    "sea_surface_height_above_geoid_93_19 = np.concatenate((sea_surface_height_above_geoid_93,\n",
    "                                                      sea_surface_height_above_geoid_94, sea_surface_height_above_geoid_95,\n",
    "                                                      sea_surface_height_above_geoid_96, sea_surface_height_above_geoid_97,\n",
    "                                                      sea_surface_height_above_geoid_98, sea_surface_height_above_geoid_99,\n",
    "                                                      sea_surface_height_above_geoid_00,\n",
    "                                                      sea_surface_height_above_geoid_01, sea_surface_height_above_geoid_02,\n",
    "                                                      sea_surface_height_above_geoid_03, sea_surface_height_above_geoid_04,\n",
    "                                                      sea_surface_height_above_geoid_05, sea_surface_height_above_geoid_06,\n",
    "                                                      sea_surface_height_above_geoid_07, sea_surface_height_above_geoid_08,\n",
    "                                                      sea_surface_height_above_geoid_09, sea_surface_height_above_geoid_10,\n",
    "                                                      sea_surface_height_above_geoid_11, sea_surface_height_above_geoid_12,\n",
    "                                                      sea_surface_height_above_geoid_13, sea_surface_height_above_geoid_14,\n",
    "                                                      sea_surface_height_above_geoid_15, sea_surface_height_above_geoid_16,\n",
    "                                                      sea_surface_height_above_geoid_17, sea_surface_height_above_geoid_18,\n",
    "                                                      sea_surface_height_above_geoid_19),axis = 0)"
   ]
  },
  {
   "cell_type": "code",
   "execution_count": 47,
   "id": "2f6a1543",
   "metadata": {},
   "outputs": [],
   "source": [
    "sea_surface_height_above_sea_level_93_19 = np.concatenate((sea_surface_height_above_sea_level_93,\n",
    "sea_surface_height_above_sea_level_94, sea_surface_height_above_sea_level_95,\n",
    "                                                          sea_surface_height_above_sea_level_96, sea_surface_height_above_sea_level_97,\n",
    "                                                          sea_surface_height_above_sea_level_98, sea_surface_height_above_sea_level_99,\n",
    "                                                          sea_surface_height_above_sea_level_00, sea_surface_height_above_sea_level_01,\n",
    "                                                          sea_surface_height_above_sea_level_02, sea_surface_height_above_sea_level_03,\n",
    "                                                          sea_surface_height_above_sea_level_04, sea_surface_height_above_sea_level_05,\n",
    "                                                          sea_surface_height_above_sea_level_06, sea_surface_height_above_sea_level_07,\n",
    "                                                          sea_surface_height_above_sea_level_08, sea_surface_height_above_sea_level_09,\n",
    "                                                          sea_surface_height_above_sea_level_10, sea_surface_height_above_sea_level_11,\n",
    "                                                          sea_surface_height_above_sea_level_12, sea_surface_height_above_sea_level_13,\n",
    "                                                          sea_surface_height_above_sea_level_14, sea_surface_height_above_sea_level_15,\n",
    "                                                          sea_surface_height_above_sea_level_16, sea_surface_height_above_sea_level_17,\n",
    "                                                          sea_surface_height_above_sea_level_18, sea_surface_height_above_sea_level_19),axis = 0)"
   ]
  },
  {
   "cell_type": "code",
   "execution_count": null,
   "id": "9c9bf681",
   "metadata": {},
   "outputs": [],
   "source": []
  }
 ],
 "metadata": {
  "kernelspec": {
   "display_name": "Python 3 (ipykernel)",
   "language": "python",
   "name": "python3"
  },
  "language_info": {
   "codemirror_mode": {
    "name": "ipython",
    "version": 3
   },
   "file_extension": ".py",
   "mimetype": "text/x-python",
   "name": "python",
   "nbconvert_exporter": "python",
   "pygments_lexer": "ipython3",
   "version": "3.8.18"
  }
 },
 "nbformat": 4,
 "nbformat_minor": 5
}

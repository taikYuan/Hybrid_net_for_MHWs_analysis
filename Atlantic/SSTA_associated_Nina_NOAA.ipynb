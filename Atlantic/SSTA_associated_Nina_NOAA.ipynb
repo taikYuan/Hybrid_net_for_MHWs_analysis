{
 "cells": [
  {
   "cell_type": "code",
   "execution_count": 1,
   "id": "d7c07ce0",
   "metadata": {},
   "outputs": [],
   "source": [
    "import numpy as np"
   ]
  },
  {
   "cell_type": "code",
   "execution_count": 2,
   "id": "29bbfdbd",
   "metadata": {},
   "outputs": [
    {
     "data": {
      "text/plain": [
       "(14588, 66, 49)"
      ]
     },
     "execution_count": 2,
     "metadata": {},
     "output_type": "execute_result"
    }
   ],
   "source": [
    "data = np.load(r'D:\\heat_wave\\WEIO\\expand_WEIO\\SSTa_82_21_expand_WEIO_area.npz')['anom']\n",
    "data.shape"
   ]
  },
  {
   "cell_type": "code",
   "execution_count": 3,
   "id": "ebac5041",
   "metadata": {},
   "outputs": [],
   "source": [
    "# 83/84  98/99   07/08   10/11   16/17    20/21"
   ]
  },
  {
   "cell_type": "code",
   "execution_count": 5,
   "id": "5d634952",
   "metadata": {},
   "outputs": [
    {
     "name": "stdout",
     "output_type": "stream",
     "text": [
      "(424, 66, 49)\n",
      "(306, 66, 49)\n",
      "-0.15340509\n"
     ]
    }
   ],
   "source": [
    "# 完整的1983/84的数据\n",
    "start_date = np.datetime64('1982-01-01')\n",
    "dates = start_date + np.arange(14610) * np.timedelta64(1, 'D')\n",
    "\n",
    "# 选择特定日期范围的数据\n",
    "start_date1 = np.datetime64('1983-01-01')\n",
    "end_date1 = np.datetime64('1984-02-28')\n",
    "start_index1 = np.where(dates == start_date1)[0][0]\n",
    "end_index1 = np.where(dates == end_date1)[0][0] + 1  # 注意要加 1，因为切片时 end_index 是开区间\n",
    "target_data1 = data[start_index1:end_index1]\n",
    "\n",
    "print(target_data1.shape)  # (424, 82, 82)\n",
    "\n",
    "start_date11 = np.datetime64('1984-03-01')\n",
    "end_date11 = np.datetime64('1984-12-31')\n",
    "start_index11 = np.where(dates == start_date11)[0][0]\n",
    "end_index11 = np.where(dates == end_date11)[0][0] + 1  # 注意要加 1，因为切片时 end_index 是开区间\n",
    "target_data11 = data[start_index11:end_index11]\n",
    "\n",
    "print(target_data11.shape)  # (306, 82, 82)\n",
    "\n",
    "\n",
    "target_data1 = np.concatenate((target_data1, target_data11), axis = 0)\n",
    "target_noaa_ssta_83_84 = target_data1\n",
    "print(np.mean(target_noaa_ssta_83_84)) "
   ]
  },
  {
   "cell_type": "code",
   "execution_count": 6,
   "id": "10234758",
   "metadata": {},
   "outputs": [
    {
     "name": "stdout",
     "output_type": "stream",
     "text": [
      "0.08206937\n"
     ]
    }
   ],
   "source": [
    "import numpy as np\n",
    "# 完整的1998/99的数据\n",
    "start_date = np.datetime64('1982-01-01')\n",
    "dates = start_date + np.arange(14610) * np.timedelta64(1, 'D')\n",
    "\n",
    "# 选择特定日期范围的数据\n",
    "start_date2 = np.datetime64('1998-01-01')\n",
    "end_date2 = np.datetime64('1999-12-31')\n",
    "start_index2 = np.where(dates == start_date2)[0][0]\n",
    "end_index2 = np.where(dates == end_date2)[0][0] + 1  # 注意要加 1，因为切片时 end_index 是开区间\n",
    "target_data2 = data[start_index2:end_index2]\n",
    "target_noaa_ssta_98_99 = target_data2\n",
    "print(np.mean(target_noaa_ssta_98_99))  # (730, 82, 82)"
   ]
  },
  {
   "cell_type": "code",
   "execution_count": 7,
   "id": "1d151698",
   "metadata": {},
   "outputs": [
    {
     "name": "stdout",
     "output_type": "stream",
     "text": [
      "(424, 66, 49)\n",
      "(306, 66, 49)\n",
      "0.1493055\n"
     ]
    }
   ],
   "source": [
    "# 完整的2007/08的数据\n",
    "start_date = np.datetime64('1982-01-01')\n",
    "dates = start_date + np.arange(14610) * np.timedelta64(1, 'D')\n",
    "\n",
    "# 选择特定日期范围的数据\n",
    "start_date3 = np.datetime64('2007-01-01')\n",
    "end_date3 = np.datetime64('2008-02-28')\n",
    "start_index3 = np.where(dates == start_date3)[0][0]\n",
    "end_index3 = np.where(dates == end_date3)[0][0] + 1  # 注意要加 1，因为切片时 end_index 是开区间\n",
    "target_data3 = data[start_index3:end_index3]\n",
    "\n",
    "print(target_data3.shape)  # (424, 82, 82)\n",
    "\n",
    "start_date33 = np.datetime64('2008-03-01')\n",
    "end_date33 = np.datetime64('2008-12-31')\n",
    "start_index33 = np.where(dates == start_date33)[0][0]\n",
    "end_index33 = np.where(dates == end_date33)[0][0] + 1  # 注意要加 1，因为切片时 end_index 是开区间\n",
    "target_data33 = data[start_index33:end_index33]\n",
    "\n",
    "print(target_data33.shape)  # (306, 82, 82)\n",
    "\n",
    "\n",
    "target_data3 = np.concatenate((target_data3, target_data33), axis = 0)\n",
    "target_noaa_ssta_07_08 = target_data3\n",
    "print(np.mean(target_noaa_ssta_07_08)) "
   ]
  },
  {
   "cell_type": "code",
   "execution_count": 8,
   "id": "3167d370",
   "metadata": {},
   "outputs": [
    {
     "name": "stdout",
     "output_type": "stream",
     "text": [
      "0.31905013\n"
     ]
    }
   ],
   "source": [
    "import numpy as np\n",
    "# 完整的2010/2011的数据\n",
    "start_date = np.datetime64('1982-01-01')\n",
    "dates = start_date + np.arange(14610) * np.timedelta64(1, 'D')\n",
    "\n",
    "# 选择特定日期范围的数据\n",
    "start_date4 = np.datetime64('2010-01-01')\n",
    "end_date4 = np.datetime64('2011-12-31')\n",
    "start_index4 = np.where(dates == start_date4)[0][0]\n",
    "end_index4 = np.where(dates == end_date4)[0][0] + 1  # 注意要加 1，因为切片时 end_index 是开区间\n",
    "target_data4 = data[start_index4:end_index4]\n",
    "target_noaa_ssta_10_11 = target_data4\n",
    "print(np.mean(target_noaa_ssta_10_11))  # (730, 82, 82)"
   ]
  },
  {
   "cell_type": "code",
   "execution_count": 9,
   "id": "85d0a062",
   "metadata": {},
   "outputs": [
    {
     "name": "stdout",
     "output_type": "stream",
     "text": [
      "(59, 66, 49)\n",
      "(671, 66, 49)\n",
      "0.5492669\n"
     ]
    }
   ],
   "source": [
    "# 完整的2016/17的数据\n",
    "start_date = np.datetime64('1982-01-01')\n",
    "dates = start_date + np.arange(14610) * np.timedelta64(1, 'D')\n",
    "\n",
    "# 选择特定日期范围的数据\n",
    "start_date5 = np.datetime64('2016-01-01')\n",
    "end_date5 = np.datetime64('2016-02-28')\n",
    "start_index5 = np.where(dates == start_date5)[0][0]\n",
    "end_index5 = np.where(dates == end_date5)[0][0] + 1  # 注意要加 1，因为切片时 end_index 是开区间\n",
    "target_data5 = data[start_index5:end_index5]\n",
    "\n",
    "print(target_data5.shape)  # (424, 82, 82)\n",
    "\n",
    "start_date55 = np.datetime64('2016-03-01')\n",
    "end_date55 = np.datetime64('2017-12-31')\n",
    "start_index55 = np.where(dates == start_date55)[0][0]\n",
    "end_index55 = np.where(dates == end_date55)[0][0] + 1  # 注意要加 1，因为切片时 end_index 是开区间\n",
    "target_data55 = data[start_index55:end_index55]\n",
    "\n",
    "print(target_data55.shape)  # (306, 82, 82)\n",
    "\n",
    "\n",
    "target_data5 = np.concatenate((target_data5, target_data55), axis = 0)\n",
    "target_noaa_ssta_16_17 = target_data5\n",
    "print(np.mean(target_noaa_ssta_16_17)) "
   ]
  },
  {
   "cell_type": "code",
   "execution_count": 10,
   "id": "5d42f8ed",
   "metadata": {},
   "outputs": [
    {
     "name": "stdout",
     "output_type": "stream",
     "text": [
      "(730, 66, 49)\n",
      "(649, 66, 49)\n",
      "0.4437081\n"
     ]
    }
   ],
   "source": [
    "# 完整的2020/21的数据\n",
    "start_date = np.datetime64('1982-01-01')\n",
    "dates = start_date + np.arange(14610) * np.timedelta64(1, 'D')\n",
    "\n",
    "# 选择特定日期范围的数据\n",
    "start_date6 = np.datetime64('2020-01-01')\n",
    "end_date6 = np.datetime64('2020-02-28')\n",
    "start_index6 = np.where(dates == start_date6)[0][0]\n",
    "end_index6 = np.where(dates == end_date6)[0][0] + 1  # 注意要加 1，因为切片时 end_index 是开区间\n",
    "target_data6 = data[start_index6:end_index6]\n",
    "\n",
    "print(target_data5.shape)  # (424, 82, 82)\n",
    "\n",
    "start_date66 = np.datetime64('2020-03-01')\n",
    "end_date66 = np.datetime64('2021-12-31')\n",
    "start_index66 = np.where(dates == start_date66)[0][0]\n",
    "end_index66 = np.where(dates == end_date66)[0][0] + 1  # 注意要加 1，因为切片时 end_index 是开区间\n",
    "target_data66 = data[start_index66:end_index66]\n",
    "\n",
    "print(target_data66.shape)  # (306, 82, 82)\n",
    "\n",
    "\n",
    "target_data6 = np.concatenate((target_data6, target_data66), axis = 0)\n",
    "target_noaa_ssta_20_21 = target_data6\n",
    "print(np.mean(target_noaa_ssta_20_21)) "
   ]
  },
  {
   "cell_type": "code",
   "execution_count": 11,
   "id": "502722a1",
   "metadata": {},
   "outputs": [],
   "source": [
    "np.savez(r'D:\\heat_wave\\WEIO\\expand_WEIO\\EINO_NINA_plot\\Nina_noaa_ssta_with_MHW.npz', \n",
    "        target_noaa_ssta_83_84 = target_noaa_ssta_83_84, target_noaa_ssta_98_99 = target_noaa_ssta_98_99, \n",
    "        target_noaa_ssta_07_08 = target_noaa_ssta_07_08, target_noaa_ssta_10_11 = target_noaa_ssta_10_11,\n",
    "         target_noaa_ssta_16_17 = target_noaa_ssta_16_17, \n",
    "        target_noaa_ssta_20_21 = target_noaa_ssta_20_21)"
   ]
  },
  {
   "cell_type": "code",
   "execution_count": 12,
   "id": "fdfd4bdd",
   "metadata": {},
   "outputs": [],
   "source": [
    "# 把MHW发生日期设置为nan"
   ]
  },
  {
   "cell_type": "code",
   "execution_count": 13,
   "id": "22de5f8a",
   "metadata": {},
   "outputs": [
    {
     "name": "stdout",
     "output_type": "stream",
     "text": [
      "(424, 66, 49)\n",
      "(306, 66, 49)\n",
      "nan\n"
     ]
    }
   ],
   "source": [
    "# 完整的1983/84的数据\n",
    "start_date = np.datetime64('1982-01-01')\n",
    "dates = start_date + np.arange(14610) * np.timedelta64(1, 'D')\n",
    "\n",
    "# 选择特定日期范围的数据\n",
    "start_date_without1 = np.datetime64('1983-01-01')\n",
    "end_date_without1 = np.datetime64('1984-02-28')\n",
    "start_index_without1 = np.where(dates == start_date_without1)[0][0]\n",
    "end_index_without1 = np.where(dates == end_date_without1)[0][0] + 1  # 注意要加 1，因为切片时 end_index 是开区间\n",
    "target_data_without1 = data[start_index_without1:end_index_without1]\n",
    "\n",
    "print(target_data_without1.shape)  # (424, 82, 82)\n",
    "\n",
    "start_date_without11 = np.datetime64('1983-01-01')\n",
    "end_date_without11 = np.datetime64('1984-02-28')\n",
    "start_index_without11 = np.where(dates == start_date_without11)[0][0]\n",
    "end_index_without11 = np.where(dates == end_date_without11)[0][0] + 1  # 注意要加 1，因为切片时 end_index 是开区间\n",
    "target_data_without11 = data[start_index_without11:end_index_without11]\n",
    "\n",
    "print(target_data11.shape)  # (306, 82, 82)\n",
    "\n",
    "\n",
    "target_data_without1 = np.concatenate((target_data_without1, target_data_without11), axis = 0)\n",
    "\n",
    "\n",
    "#  整个1983-1984的数据\n",
    "start_date_nan = np.datetime64('1983-01-01') \n",
    "end_date_nan = np.datetime64('1984-12-31') \n",
    "dates_nan = np.arange(start_date_nan, end_date_nan + np.timedelta64(1,'D'), dtype = 'datetime64[D]')\n",
    "\n",
    "\n",
    "#将热浪事件设置为nan的时间\n",
    "start_without_index_nan1 = np.datetime64('1983-08-14')\n",
    "end_without_index_nan1 = np.datetime64('1983-08-18')\n",
    "\n",
    "#获取对应日期的索引\n",
    "start_index_nan1 = np.where(dates_nan == start_without_index_nan1)[0][0]\n",
    "end_index_nan1 = np.where(dates_nan == end_without_index_nan1)[0][0]\n",
    "\n",
    "target_data_without1[start_index_nan1 :end_index_nan1 ] = np.nan\n",
    "\n",
    "target_noaa_ssta_83_84 = target_data_without1\n",
    "print(np.mean(target_noaa_ssta_83_84)) "
   ]
  },
  {
   "cell_type": "code",
   "execution_count": 14,
   "id": "92af16bd",
   "metadata": {},
   "outputs": [
    {
     "name": "stdout",
     "output_type": "stream",
     "text": [
      "nan\n"
     ]
    }
   ],
   "source": [
    "import numpy as np\n",
    "# 完整的1998/99的数据\n",
    "start_date = np.datetime64('1982-01-01')\n",
    "dates = start_date + np.arange(14610) * np.timedelta64(1, 'D')\n",
    "\n",
    "# 选择特定日期范围的数据\n",
    "start_date_without2 = np.datetime64('1998-01-01')\n",
    "end_date_without2 = np.datetime64('1999-12-31')\n",
    "start_index_without2 = np.where(dates == start_date_without2)[0][0]\n",
    "end_index_without2 = np.where(dates == end_date_without2)[0][0] + 1  # 注意要加 1，因为切片时 end_index 是开区间\n",
    "target_data_without2 = data[start_index_without2:end_index_without2]\n",
    "\n",
    "#  整个1998-1989的数据\n",
    "start_date_nan = np.datetime64('1998-01-01') \n",
    "end_date_nan = np.datetime64('1999-12-31') \n",
    "dates_nan = np.arange(start_date_nan, end_date_nan + np.timedelta64(1,'D'), dtype = 'datetime64[D]')\n",
    "\n",
    "#将热浪事件设置为nan的时间\n",
    "start_without_index_nan1 = np.datetime64('1998-06-04')\n",
    "end_without_index_nan1 = np.datetime64('1998-06-09')\n",
    "\n",
    "#获取对应日期的索引\n",
    "start_index_nan1 = np.where(dates_nan == start_without_index_nan1)[0][0]\n",
    "end_index_nan1 = np.where(dates_nan == end_without_index_nan1)[0][0]\n",
    "\n",
    "target_data_without2[start_index_nan1 :end_index_nan1 ] = np.nan\n",
    "\n",
    "\n",
    "target_noaa_ssta_98_99 = target_data_without2\n",
    "print(np.mean(target_noaa_ssta_98_99))  # (730, 82, 82)"
   ]
  },
  {
   "cell_type": "code",
   "execution_count": 15,
   "id": "e03c9e4a",
   "metadata": {},
   "outputs": [
    {
     "name": "stdout",
     "output_type": "stream",
     "text": [
      "(424, 66, 49)\n",
      "(306, 66, 49)\n",
      "nan\n"
     ]
    }
   ],
   "source": [
    "# 完整的2007/08的数据\n",
    "start_date = np.datetime64('1982-01-01')\n",
    "dates = start_date + np.arange(14610) * np.timedelta64(1, 'D')\n",
    "\n",
    "# 选择特定日期范围的数据\n",
    "start_date_without3 = np.datetime64('2007-01-01')\n",
    "end_date_without3 = np.datetime64('2008-02-28')\n",
    "start_index_without3 = np.where(dates == start_date_without3)[0][0]\n",
    "end_index_without3 = np.where(dates == end_date_without3)[0][0] + 1  # 注意要加 1，因为切片时 end_index 是开区间\n",
    "target_data_without3 = data[start_index_without3:end_index_without3]\n",
    "\n",
    "print(target_data_without3.shape)  # (424, 82, 82)\n",
    "\n",
    "start_date_without33 = np.datetime64('2008-03-01')\n",
    "end_date_without33 = np.datetime64('2008-12-31')\n",
    "start_index_without33 = np.where(dates == start_date_without33)[0][0]\n",
    "end_index_without33 = np.where(dates == end_date_without33)[0][0] + 1  # 注意要加 1，因为切片时 end_index 是开区间\n",
    "target_data_without33 = data[start_index_without33:end_index_without33]\n",
    "\n",
    "print(target_data_without33.shape)  # (306, 82, 82)\n",
    "\n",
    "\n",
    "target_data_without3 = np.concatenate((target_data_without3, target_data_without33), axis = 0)\n",
    "\n",
    "\n",
    "#  整个2007-2008的数据\n",
    "start_date_nan = np.datetime64('2007-01-01') \n",
    "end_date_nan = np.datetime64('2008-12-31') \n",
    "dates_nan = np.arange(start_date_nan, end_date_nan + np.timedelta64(1,'D'), dtype = 'datetime64[D]')\n",
    "\n",
    "\n",
    "#将热浪事件设置为nan的时间\n",
    "start_without_index_nan1 = np.datetime64('2007-06-10')\n",
    "end_without_index_nan1 = np.datetime64('2007-06-18')\n",
    "\n",
    "\n",
    "#获取对应日期的索引\n",
    "start_index_nan1 = np.where(dates_nan == start_without_index_nan1)[0][0]\n",
    "end_index_nan1 = np.where(dates_nan == end_without_index_nan1)[0][0]\n",
    "\n",
    "target_data_without3[start_index_nan1 :end_index_nan1 ] = np.nan\n",
    "\n",
    "\n",
    "target_noaa_ssta_07_08 = target_data_without3\n",
    "print(np.mean(target_noaa_ssta_07_08)) "
   ]
  },
  {
   "cell_type": "code",
   "execution_count": 16,
   "id": "9f7f2933",
   "metadata": {},
   "outputs": [
    {
     "name": "stdout",
     "output_type": "stream",
     "text": [
      "nan\n"
     ]
    }
   ],
   "source": [
    "import numpy as np\n",
    "# 完整的2010/2011的数据\n",
    "start_date = np.datetime64('1982-01-01')\n",
    "dates = start_date + np.arange(14610) * np.timedelta64(1, 'D')\n",
    "\n",
    "# 选择特定日期范围的数据\n",
    "start_date_without4 = np.datetime64('2010-01-01')\n",
    "end_date_without4 = np.datetime64('2011-12-31')\n",
    "start_index_without4 = np.where(dates == start_date_without4)[0][0]\n",
    "end_index_without4 = np.where(dates == end_date_without4)[0][0] + 1  # 注意要加 1，因为切片时 end_index 是开区间\n",
    "target_data_without4 = data[start_index_without4:end_index_without4]\n",
    "\n",
    "#  整个2010-2011的数据\n",
    "start_date_nan = np.datetime64('2010-01-01') \n",
    "end_date_nan = np.datetime64('2011-12-31') \n",
    "dates_nan = np.arange(start_date_nan, end_date_nan + np.timedelta64(1,'D'), dtype = 'datetime64[D]')\n",
    "\n",
    "\n",
    "#将热浪事件设置为nan的时间\n",
    "start_without_index_nan1 = np.datetime64('2010-07-11')\n",
    "end_without_index_nan1 = np.datetime64('2010-07-18')\n",
    "\n",
    "#获取对应日期的索引\n",
    "start_index_nan1 = np.where(dates_nan == start_without_index_nan1)[0][0]\n",
    "end_index_nan1 = np.where(dates_nan == end_without_index_nan1)[0][0]\n",
    "\n",
    "\n",
    "target_data_without4[start_index_nan1 :end_index_nan1 ] = np.nan\n",
    "\n",
    "\n",
    "target_noaa_ssta_10_11 = target_data_without4\n",
    "print(np.mean(target_noaa_ssta_10_11))  # (730, 82, 82)"
   ]
  },
  {
   "cell_type": "code",
   "execution_count": 17,
   "id": "29724628",
   "metadata": {},
   "outputs": [
    {
     "name": "stdout",
     "output_type": "stream",
     "text": [
      "(59, 66, 49)\n",
      "(671, 66, 49)\n",
      "nan\n"
     ]
    }
   ],
   "source": [
    "# 完整的2016/17的数据\n",
    "start_date = np.datetime64('1982-01-01')\n",
    "dates = start_date + np.arange(14610) * np.timedelta64(1, 'D')\n",
    "\n",
    "# 选择特定日期范围的数据\n",
    "start_date_without5 = np.datetime64('2016-01-01')\n",
    "end_date_without5 = np.datetime64('2016-02-28')\n",
    "start_index_without5 = np.where(dates == start_date_without5)[0][0]\n",
    "end_index_without5 = np.where(dates == end_date_without5)[0][0] + 1  # 注意要加 1，因为切片时 end_index 是开区间\n",
    "target_data_without5 = data[start_index_without5:end_index_without5]\n",
    "\n",
    "print(target_data_without5.shape)  # (424, 82, 82)\n",
    "\n",
    "start_date_without55 = np.datetime64('2016-03-01')\n",
    "end_date_without55 = np.datetime64('2017-12-31')\n",
    "start_index_without55 = np.where(dates == start_date_without55)[0][0]\n",
    "end_index_without55 = np.where(dates == end_date_without55)[0][0] + 1  # 注意要加 1，因为切片时 end_index 是开区间\n",
    "target_data_without55 = data[start_index_without55:end_index_without55]\n",
    "\n",
    "print(target_data_without55.shape)  # (306, 82, 82)\n",
    "\n",
    "\n",
    "target_data_without5 = np.concatenate((target_data_without5, target_data_without55), axis = 0)\n",
    "\n",
    "\n",
    "#  整个2016-2017的数据\n",
    "start_date_nan = np.datetime64('2016-01-01') \n",
    "end_date_nan = np.datetime64('2017-12-31') \n",
    "dates_nan = np.arange(start_date_nan, end_date_nan + np.timedelta64(1,'D'), dtype = 'datetime64[D]')\n",
    "\n",
    "\n",
    "#将热浪事件设置为nan的时间\n",
    "start_without_index_nan1 = np.datetime64('2017-10-23')\n",
    "end_without_index_nan1 = np.datetime64('2017-11-10')\n",
    "\n",
    "#获取对应日期的索引\n",
    "start_index_nan1 = np.where(dates_nan == start_without_index_nan1)[0][0]\n",
    "end_index_nan1 = np.where(dates_nan == end_without_index_nan1)[0][0]\n",
    "\n",
    "target_data_without5[start_index_nan1 :end_index_nan1 ] = np.nan\n",
    "\n",
    "\n",
    "target_noaa_ssta_16_17 = target_data_without5\n",
    "print(np.mean(target_noaa_ssta_16_17)) "
   ]
  },
  {
   "cell_type": "code",
   "execution_count": 19,
   "id": "06c2665b",
   "metadata": {},
   "outputs": [
    {
     "name": "stdout",
     "output_type": "stream",
     "text": [
      "(59, 66, 49)\n",
      "(649, 66, 49)\n",
      "nan\n"
     ]
    }
   ],
   "source": [
    "# 完整的2020/21的数据\n",
    "start_date = np.datetime64('1982-01-01')\n",
    "dates = start_date + np.arange(14610) * np.timedelta64(1, 'D')\n",
    "\n",
    "# 选择特定日期范围的数据\n",
    "start_date_without6 = np.datetime64('2020-01-01')\n",
    "end_date_without6 = np.datetime64('2020-02-28')\n",
    "start_index_without6 = np.where(dates == start_date_without6)[0][0]\n",
    "end_index_without6 = np.where(dates == end_date_without6)[0][0] + 1  # 注意要加 1，因为切片时 end_index 是开区间\n",
    "target_data_without6 = data[start_index_without6:end_index_without6]\n",
    "\n",
    "print(target_data_without6.shape)  # (424, 82, 82)\n",
    "\n",
    "start_date_without66 = np.datetime64('2020-03-01')\n",
    "end_date_without66 = np.datetime64('2021-12-31')\n",
    "start_index_without66 = np.where(dates == start_date_without66)[0][0]\n",
    "end_index_without66 = np.where(dates == end_date_without66)[0][0] + 1  # 注意要加 1，因为切片时 end_index 是开区间\n",
    "target_data_without66 = data[start_index_without66:end_index_without66]\n",
    "\n",
    "print(target_data_without66.shape)  # (306, 82, 82)\n",
    "\n",
    "\n",
    "target_data_without6 = np.concatenate((target_data_without6, target_data_without66), axis = 0)\n",
    "\n",
    "#  整个2020-2021的数据\n",
    "start_date_nan = np.datetime64('2020-01-01') \n",
    "end_date_nan = np.datetime64('2021-12-31') \n",
    "dates_nan = np.arange(start_date_nan, end_date_nan + np.timedelta64(1,'D'), dtype = 'datetime64[D]')\n",
    "\n",
    "\n",
    "#将热浪事件设置为nan的时间\n",
    "start_without_index_nan1 = np.datetime64('2020-07-27')\n",
    "end_without_index_nan1 = np.datetime64('2020-08-01')\n",
    "\n",
    "#获取对应日期的索引\n",
    "start_index_nan1 = np.where(dates_nan == start_without_index_nan1)[0][0]\n",
    "end_index_nan1 = np.where(dates_nan == end_without_index_nan1)[0][0]\n",
    "\n",
    "target_data_without6[start_index_nan1 :end_index_nan1 ] = np.nan\n",
    "\n",
    "\n",
    "#将热浪事件设置为nan的时间\n",
    "start_without_index_nan2 = np.datetime64('2020-10-08')\n",
    "end_without_index_nan2 = np.datetime64('2020-10-17')\n",
    "\n",
    "#获取对应日期的索引\n",
    "start_index_nan2 = np.where(dates_nan == start_without_index_nan2)[0][0]\n",
    "end_index_nan2 = np.where(dates_nan == end_without_index_nan2)[0][0]\n",
    "\n",
    "target_data_without6[start_index_nan2 :end_index_nan2 ] = np.nan\n",
    "\n",
    "#将热浪事件设置为nan的时间\n",
    "start_without_index_nan3 = np.datetime64('2020-10-28')\n",
    "end_without_index_nan3 = np.datetime64('2020-11-07')\n",
    "\n",
    "\n",
    "#获取对应日期的索引\n",
    "start_index_nan3 = np.where(dates_nan == start_without_index_nan3)[0][0]\n",
    "end_index_nan3 = np.where(dates_nan == end_without_index_nan3)[0][0]\n",
    "\n",
    "target_data_without6[start_index_nan3 :end_index_nan3 ] = np.nan\n",
    "\n",
    "\n",
    "\n",
    "\n",
    "target_noaa_ssta_20_21 = target_data_without6\n",
    "print(np.mean(target_noaa_ssta_20_21)) "
   ]
  },
  {
   "cell_type": "code",
   "execution_count": 20,
   "id": "4fe105f6",
   "metadata": {},
   "outputs": [],
   "source": [
    "np.savez(r'D:\\heat_wave\\WEIO\\expand_WEIO\\EINO_NINA_plot\\Nina_noaa_ssta_without_MHW.npz', \n",
    "        target_Nino_noaa_ssta_without_data_83_84 = target_noaa_ssta_83_84,\n",
    "        target_Nino_noaa_ssta_without_data_98_99 = target_noaa_ssta_98_99,\n",
    "        target_Nino_noaa_ssta_without_data_07_08 = target_noaa_ssta_07_08,\n",
    "        target_Nino_noaa_ssta_without_data_10_11 = target_noaa_ssta_10_11,\n",
    "        target_Nino_noaa_ssta_without_data_16_17 = target_noaa_ssta_16_17,\n",
    "        target_Nino_noaa_ssta_without_data_20_21 = target_noaa_ssta_20_21)"
   ]
  },
  {
   "cell_type": "code",
   "execution_count": null,
   "id": "675a5c47",
   "metadata": {},
   "outputs": [],
   "source": []
  }
 ],
 "metadata": {
  "kernelspec": {
   "display_name": "Python 3 (ipykernel)",
   "language": "python",
   "name": "python3"
  },
  "language_info": {
   "codemirror_mode": {
    "name": "ipython",
    "version": 3
   },
   "file_extension": ".py",
   "mimetype": "text/x-python",
   "name": "python",
   "nbconvert_exporter": "python",
   "pygments_lexer": "ipython3",
   "version": "3.8.12"
  }
 },
 "nbformat": 4,
 "nbformat_minor": 5
}

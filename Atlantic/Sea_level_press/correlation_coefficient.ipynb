{
 "cells": [
  {
   "cell_type": "code",
   "execution_count": 7,
   "id": "860a0e16",
   "metadata": {},
   "outputs": [
    {
     "name": "stdout",
     "output_type": "stream",
     "text": [
      "(27,)\n",
      "Pearson相关系数为: 0.6258690364494156\n"
     ]
    }
   ],
   "source": [
    "import numpy as np\n",
    "data1 = np.load(r'D:\\heat_wave\\WEIO\\SLP_SLPA_plot_JJA.npz')\n",
    "slpa_JJA = data1['slpa'][:].reshape(-1,)\n",
    "print(slpa_JJA.shape)\n",
    "\n",
    "data5 = np.load(r'D:\\heat_wave\\WEIO\\SSTA_plot_JJA.npz')\n",
    "ssta_JJA = data5['ssta'][:].reshape(-1,)\n",
    "\n",
    "# 第一组数据\n",
    "\n",
    "# 第二组数据\n",
    "\n",
    "# 标准化数据\n",
    "z1 = (slpa_JJA - np.mean(slpa_JJA)) / np.std(slpa_JJA)\n",
    "z2 = (ssta_JJA - np.mean(ssta_JJA)) / np.std(ssta_JJA)\n",
    "\n",
    "# 计算协方差\n",
    "covariance = np.cov(z1, z2, ddof=1)[0][1]\n",
    "\n",
    "# 计算标准差\n",
    "std1 = np.std(z1, ddof=1)\n",
    "std2 = np.std(z2, ddof=1)\n",
    "\n",
    "# 计算相关系数\n",
    "corr = covariance / (std1 * std2)\n",
    "\n",
    "print(\"Pearson相关系数为:\", corr)"
   ]
  },
  {
   "cell_type": "code",
   "execution_count": 8,
   "id": "2b1b5aab",
   "metadata": {},
   "outputs": [
    {
     "name": "stdout",
     "output_type": "stream",
     "text": [
      "(27,)\n",
      "Pearson相关系数为: -0.7682962618441163\n"
     ]
    }
   ],
   "source": [
    "import numpy as np\n",
    "data1 = np.load(r'D:\\heat_wave\\WEIO\\SLP_SLPA_plot_SON.npz')\n",
    "slpa_JJA = data1['slpa'][:].reshape(-1,)\n",
    "print(slpa_JJA.shape)\n",
    "\n",
    "data5 = np.load(r'D:\\heat_wave\\WEIO\\SSTA_plot_SON.npz')\n",
    "ssta_JJA = data5['ssta'][:].reshape(-1,)\n",
    "\n",
    "# 第一组数据\n",
    "\n",
    "# 第二组数据\n",
    "\n",
    "# 标准化数据\n",
    "z1 = (slpa_JJA - np.mean(slpa_JJA)) / np.std(slpa_JJA)\n",
    "z2 = (ssta_JJA - np.mean(ssta_JJA)) / np.std(ssta_JJA)\n",
    "\n",
    "# 计算协方差\n",
    "covariance = np.cov(z1, z2, ddof=1)[0][1]\n",
    "\n",
    "# 计算标准差\n",
    "std1 = np.std(z1, ddof=1)\n",
    "std2 = np.std(z2, ddof=1)\n",
    "\n",
    "# 计算相关系数\n",
    "corr = covariance / (std1 * std2)\n",
    "\n",
    "print(\"Pearson相关系数为:\", corr)"
   ]
  },
  {
   "cell_type": "code",
   "execution_count": 9,
   "id": "772363dc",
   "metadata": {},
   "outputs": [
    {
     "name": "stdout",
     "output_type": "stream",
     "text": [
      "(27,)\n",
      "Pearson相关系数为: 0.0009053736394672291\n"
     ]
    }
   ],
   "source": [
    "import numpy as np\n",
    "data1 = np.load(r'D:\\heat_wave\\WEIO\\SLP_SLPA_plot_DJF.npz')\n",
    "slpa_JJA = data1['slpa'][:].reshape(-1,)\n",
    "print(slpa_JJA.shape)\n",
    "\n",
    "data5 = np.load(r'D:\\heat_wave\\WEIO\\SSTA_plot_DJF.npz')\n",
    "ssta_JJA = data5['ssta'][:].reshape(-1,)\n",
    "\n",
    "# 第一组数据\n",
    "\n",
    "# 第二组数据\n",
    "\n",
    "# 标准化数据\n",
    "z1 = (slpa_JJA - np.mean(slpa_JJA)) / np.std(slpa_JJA)\n",
    "z2 = (ssta_JJA - np.mean(ssta_JJA)) / np.std(ssta_JJA)\n",
    "\n",
    "# 计算协方差\n",
    "covariance = np.cov(z1, z2, ddof=1)[0][1]\n",
    "\n",
    "# 计算标准差\n",
    "std1 = np.std(z1, ddof=1)\n",
    "std2 = np.std(z2, ddof=1)\n",
    "\n",
    "# 计算相关系数\n",
    "corr = covariance / (std1 * std2)\n",
    "\n",
    "print(\"Pearson相关系数为:\", corr)"
   ]
  },
  {
   "cell_type": "code",
   "execution_count": 10,
   "id": "2ecf4b4f",
   "metadata": {},
   "outputs": [
    {
     "name": "stdout",
     "output_type": "stream",
     "text": [
      "(27,)\n",
      "Pearson相关系数为: -0.2565991122288913\n"
     ]
    }
   ],
   "source": [
    "import numpy as np\n",
    "data1 = np.load(r'D:\\heat_wave\\WEIO\\SLP_SLPA_plot_MAM.npz')\n",
    "slpa_JJA = data1['slpa'][:].reshape(-1,)\n",
    "print(slpa_JJA.shape)\n",
    "\n",
    "data5 = np.load(r'D:\\heat_wave\\WEIO\\SSTA_plot_MAM.npz')\n",
    "ssta_JJA = data5['ssta'][:].reshape(-1,)\n",
    "\n",
    "# 第一组数据\n",
    "\n",
    "# 第二组数据\n",
    "\n",
    "# 标准化数据\n",
    "z1 = (slpa_JJA - np.mean(slpa_JJA)) / np.std(slpa_JJA)\n",
    "z2 = (ssta_JJA - np.mean(ssta_JJA)) / np.std(ssta_JJA)\n",
    "\n",
    "# 计算协方差\n",
    "covariance = np.cov(z1, z2, ddof=1)[0][1]\n",
    "\n",
    "# 计算标准差\n",
    "std1 = np.std(z1, ddof=1)\n",
    "std2 = np.std(z2, ddof=1)\n",
    "\n",
    "# 计算相关系数\n",
    "corr = covariance / (std1 * std2)\n",
    "\n",
    "print(\"Pearson相关系数为:\", corr)"
   ]
  },
  {
   "cell_type": "code",
   "execution_count": null,
   "id": "8feec48e",
   "metadata": {},
   "outputs": [],
   "source": []
  }
 ],
 "metadata": {
  "kernelspec": {
   "display_name": "Python 3 (ipykernel)",
   "language": "python",
   "name": "python3"
  },
  "language_info": {
   "codemirror_mode": {
    "name": "ipython",
    "version": 3
   },
   "file_extension": ".py",
   "mimetype": "text/x-python",
   "name": "python",
   "nbconvert_exporter": "python",
   "pygments_lexer": "ipython3",
   "version": "3.8.12"
  }
 },
 "nbformat": 4,
 "nbformat_minor": 5
}

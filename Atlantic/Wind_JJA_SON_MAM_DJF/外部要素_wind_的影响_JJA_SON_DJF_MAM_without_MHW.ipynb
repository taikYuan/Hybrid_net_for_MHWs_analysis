{
 "cells": [
  {
   "cell_type": "code",
   "execution_count": 1,
   "id": "edc41caa",
   "metadata": {},
   "outputs": [],
   "source": [
    "import numpy as np \n",
    "import matplotlib.pyplot as plt"
   ]
  },
  {
   "cell_type": "code",
   "execution_count": 2,
   "id": "e51e9045",
   "metadata": {},
   "outputs": [
    {
     "data": {
      "text/plain": [
       "['wind_stress_JJA',\n",
       " 'surface_type_JJA',\n",
       " 'eastward_wind_JJA',\n",
       " 'wind_stress_curl_JJA',\n",
       " 'northward_wind_JJA',\n",
       " 'wind_speed_rms_JJA',\n",
       " 'sampling_length_JJA',\n",
       " 'eastward_wind_rms_JJA',\n",
       " 'northward_wind_rms_JJA',\n",
       " 'surface_downward_northward_stress_JJA',\n",
       " 'surface_downward_eastward_stress_JJA']"
      ]
     },
     "execution_count": 2,
     "metadata": {},
     "output_type": "execute_result"
    }
   ],
   "source": [
    "data_jja = np.load(r'D:\\heat_wave\\atlantic\\expand_area1\\wind\\wind_93_19_atlantic_area_JJA.npz')\n",
    "data_jja.files"
   ]
  },
  {
   "cell_type": "code",
   "execution_count": 3,
   "id": "28b9390a",
   "metadata": {},
   "outputs": [
    {
     "data": {
      "text/plain": [
       "(2478, 80, 79)"
      ]
     },
     "execution_count": 3,
     "metadata": {},
     "output_type": "execute_result"
    }
   ],
   "source": [
    "northward_wind_JJA = data_jja['northward_wind_JJA'][:]\n",
    "northward_wind_JJA.shape"
   ]
  },
  {
   "cell_type": "code",
   "execution_count": 4,
   "id": "461f7be9",
   "metadata": {},
   "outputs": [
    {
     "data": {
      "text/plain": [
       "(2478, 80, 79)"
      ]
     },
     "execution_count": 4,
     "metadata": {},
     "output_type": "execute_result"
    }
   ],
   "source": [
    "eastward_wind_JJA = data_jja['eastward_wind_JJA'][:]\n",
    "eastward_wind_JJA.shape"
   ]
  },
  {
   "cell_type": "code",
   "execution_count": 5,
   "id": "1c9e7500",
   "metadata": {},
   "outputs": [
    {
     "data": {
      "text/plain": [
       "(2478, 80, 79)"
      ]
     },
     "execution_count": 5,
     "metadata": {},
     "output_type": "execute_result"
    }
   ],
   "source": [
    "surface_downward_eastward_stress_JJA = data_jja['surface_downward_eastward_stress_JJA'][:]\n",
    "surface_downward_eastward_stress_JJA.shape"
   ]
  },
  {
   "cell_type": "code",
   "execution_count": 6,
   "id": "4ffa82b2",
   "metadata": {},
   "outputs": [
    {
     "data": {
      "text/plain": [
       "(2478, 80, 79)"
      ]
     },
     "execution_count": 6,
     "metadata": {},
     "output_type": "execute_result"
    }
   ],
   "source": [
    "surface_downward_northward_stress_JJA = data_jja['surface_downward_northward_stress_JJA'][:]\n",
    "surface_downward_northward_stress_JJA.shape"
   ]
  },
  {
   "cell_type": "code",
   "execution_count": 7,
   "id": "56c4f1c8",
   "metadata": {},
   "outputs": [
    {
     "data": {
      "text/plain": [
       "['wind_stress_SON',\n",
       " 'surface_type_SON',\n",
       " 'eastward_wind_SON',\n",
       " 'wind_stress_curl_SON',\n",
       " 'northward_wind_SON',\n",
       " 'wind_speed_rms_SON',\n",
       " 'sampling_length_SON',\n",
       " 'eastward_wind_rms_SON',\n",
       " 'northward_wind_rms_SON',\n",
       " 'surface_downward_eastward_stress_SON',\n",
       " 'surface_downward_northward_stress_SON']"
      ]
     },
     "execution_count": 7,
     "metadata": {},
     "output_type": "execute_result"
    }
   ],
   "source": [
    "data_son = np.load(r'D:\\heat_wave\\atlantic\\expand_area1\\wind\\wind_93_19_atlantic_area_SON.npz')\n",
    "data_son.files"
   ]
  },
  {
   "cell_type": "code",
   "execution_count": 8,
   "id": "e2af60ba",
   "metadata": {},
   "outputs": [
    {
     "data": {
      "text/plain": [
       "(2431, 80, 79)"
      ]
     },
     "execution_count": 8,
     "metadata": {},
     "output_type": "execute_result"
    }
   ],
   "source": [
    "northward_wind_SON = data_son['northward_wind_SON'][:]\n",
    "northward_wind_SON.shape"
   ]
  },
  {
   "cell_type": "code",
   "execution_count": 9,
   "id": "273fd984",
   "metadata": {},
   "outputs": [
    {
     "data": {
      "text/plain": [
       "(2431, 80, 79)"
      ]
     },
     "execution_count": 9,
     "metadata": {},
     "output_type": "execute_result"
    }
   ],
   "source": [
    "eastward_wind_SON = data_son['eastward_wind_SON'][:]\n",
    "eastward_wind_SON.shape"
   ]
  },
  {
   "cell_type": "code",
   "execution_count": 10,
   "id": "4232f133",
   "metadata": {},
   "outputs": [
    {
     "data": {
      "text/plain": [
       "(2431, 80, 79)"
      ]
     },
     "execution_count": 10,
     "metadata": {},
     "output_type": "execute_result"
    }
   ],
   "source": [
    "surface_downward_eastward_stress_SON = data_son['surface_downward_eastward_stress_SON'][:]\n",
    "surface_downward_eastward_stress_SON.shape"
   ]
  },
  {
   "cell_type": "code",
   "execution_count": 11,
   "id": "e76bae5e",
   "metadata": {},
   "outputs": [
    {
     "data": {
      "text/plain": [
       "(2431, 80, 79)"
      ]
     },
     "execution_count": 11,
     "metadata": {},
     "output_type": "execute_result"
    }
   ],
   "source": [
    "surface_downward_northward_stress_SON = data_son['surface_downward_northward_stress_SON'][:]\n",
    "surface_downward_northward_stress_SON.shape"
   ]
  },
  {
   "cell_type": "code",
   "execution_count": 12,
   "id": "f4009029",
   "metadata": {},
   "outputs": [
    {
     "data": {
      "text/plain": [
       "['wind_stress_MAM',\n",
       " 'surface_type_MAM',\n",
       " 'eastward_wind_MAM',\n",
       " 'wind_stress_curl_MAM',\n",
       " 'northward_wind_MAM',\n",
       " 'wind_speed_rms_MAM',\n",
       " 'sampling_length_MAM',\n",
       " 'eastward_wind_rms_MAM',\n",
       " 'northward_wind_rms_MAM',\n",
       " 'surface_downward_eastward_stress_MAM',\n",
       " 'surface_downward_northward_stress_MAM']"
      ]
     },
     "execution_count": 12,
     "metadata": {},
     "output_type": "execute_result"
    }
   ],
   "source": [
    "data_mam = np.load(r'D:\\heat_wave\\atlantic\\expand_area1\\wind\\wind_93_19_atlantic_area_MAM.npz')\n",
    "data_mam.files"
   ]
  },
  {
   "cell_type": "code",
   "execution_count": 13,
   "id": "c3b90a3e",
   "metadata": {},
   "outputs": [
    {
     "data": {
      "text/plain": [
       "(2478, 80, 79)"
      ]
     },
     "execution_count": 13,
     "metadata": {},
     "output_type": "execute_result"
    }
   ],
   "source": [
    "northward_wind_MAM = data_mam['northward_wind_MAM'][:]\n",
    "northward_wind_MAM.shape"
   ]
  },
  {
   "cell_type": "code",
   "execution_count": 14,
   "id": "2d1b924b",
   "metadata": {},
   "outputs": [
    {
     "data": {
      "text/plain": [
       "(2478, 80, 79)"
      ]
     },
     "execution_count": 14,
     "metadata": {},
     "output_type": "execute_result"
    }
   ],
   "source": [
    "eastward_wind_MAM = data_mam['eastward_wind_MAM'][:]\n",
    "eastward_wind_MAM.shape"
   ]
  },
  {
   "cell_type": "code",
   "execution_count": 15,
   "id": "e5147544",
   "metadata": {},
   "outputs": [
    {
     "data": {
      "text/plain": [
       "(2478, 80, 79)"
      ]
     },
     "execution_count": 15,
     "metadata": {},
     "output_type": "execute_result"
    }
   ],
   "source": [
    "surface_downward_eastward_stress_MAM = data_mam['surface_downward_eastward_stress_MAM'][:]\n",
    "surface_downward_eastward_stress_MAM.shape"
   ]
  },
  {
   "cell_type": "code",
   "execution_count": 16,
   "id": "2de20c76",
   "metadata": {},
   "outputs": [
    {
     "data": {
      "text/plain": [
       "(2478, 80, 79)"
      ]
     },
     "execution_count": 16,
     "metadata": {},
     "output_type": "execute_result"
    }
   ],
   "source": [
    "surface_downward_northward_stress_MAM = data_mam['surface_downward_northward_stress_MAM'][:]\n",
    "surface_downward_northward_stress_MAM.shape"
   ]
  },
  {
   "cell_type": "code",
   "execution_count": 21,
   "id": "4d36aafd",
   "metadata": {},
   "outputs": [
    {
     "data": {
      "text/plain": [
       "['wind_stress_DJF',\n",
       " 'surface_type_DJF',\n",
       " 'eastward_wind_DJF',\n",
       " 'wind_stress_curl_DJF',\n",
       " 'northward_wind_DJF',\n",
       " 'wind_speed_rms_DJF',\n",
       " 'sampling_length_DJF',\n",
       " 'eastward_wind_rms_DJF',\n",
       " 'northward_wind_rms_DJF',\n",
       " 'surface_downward_eastward_stress_DJF',\n",
       " 'surface_downward_northward_stress_DJF']"
      ]
     },
     "execution_count": 21,
     "metadata": {},
     "output_type": "execute_result"
    }
   ],
   "source": [
    "data_djf = np.load(r'D:\\heat_wave\\atlantic\\expand_area1\\wind\\wind_93_19_atlantic_area_DJF.npz')\n",
    "data_djf.files"
   ]
  },
  {
   "cell_type": "code",
   "execution_count": 22,
   "id": "8d3a3a87",
   "metadata": {},
   "outputs": [
    {
     "data": {
      "text/plain": [
       "(2405, 80, 79)"
      ]
     },
     "execution_count": 22,
     "metadata": {},
     "output_type": "execute_result"
    }
   ],
   "source": [
    "eastward_wind_DJF = data_djf['eastward_wind_DJF'][:]\n",
    "eastward_wind_DJF.shape"
   ]
  },
  {
   "cell_type": "code",
   "execution_count": 23,
   "id": "3054d739",
   "metadata": {},
   "outputs": [
    {
     "data": {
      "text/plain": [
       "(2405, 80, 79)"
      ]
     },
     "execution_count": 23,
     "metadata": {},
     "output_type": "execute_result"
    }
   ],
   "source": [
    "northward_wind_DJF = data_djf['northward_wind_DJF'][:]\n",
    "northward_wind_DJF.shape"
   ]
  },
  {
   "cell_type": "code",
   "execution_count": 24,
   "id": "cdd82843",
   "metadata": {},
   "outputs": [
    {
     "data": {
      "text/plain": [
       "(2405, 80, 79)"
      ]
     },
     "execution_count": 24,
     "metadata": {},
     "output_type": "execute_result"
    }
   ],
   "source": [
    "surface_downward_eastward_stress_DJF = data_djf['surface_downward_eastward_stress_DJF'][:]\n",
    "surface_downward_eastward_stress_DJF.shape"
   ]
  },
  {
   "cell_type": "code",
   "execution_count": 25,
   "id": "570c11c7",
   "metadata": {},
   "outputs": [
    {
     "data": {
      "text/plain": [
       "(2405, 80, 79)"
      ]
     },
     "execution_count": 25,
     "metadata": {},
     "output_type": "execute_result"
    }
   ],
   "source": [
    "surface_downward_northward_stress_DJF = data_djf['surface_downward_northward_stress_DJF'][:]\n",
    "surface_downward_northward_stress_DJF.shape"
   ]
  },
  {
   "cell_type": "code",
   "execution_count": 26,
   "id": "a5d2c229",
   "metadata": {},
   "outputs": [],
   "source": [
    "# 去除MHW的风"
   ]
  },
  {
   "cell_type": "code",
   "execution_count": 27,
   "id": "efdc144d",
   "metadata": {},
   "outputs": [],
   "source": [
    "northward_wind_JJA_mean = np.mean((northward_wind_JJA), axis = (1,2))\n",
    "eastward_wind_JJA_mean = np.mean((eastward_wind_JJA), axis = (1,2))"
   ]
  },
  {
   "cell_type": "code",
   "execution_count": 28,
   "id": "e36f8ea1",
   "metadata": {},
   "outputs": [],
   "source": [
    "northward_wind_JJA_mean_93 = northward_wind_JJA_mean[:92].reshape(-1,1)\n",
    "northward_wind_JJA_mean_94 = northward_wind_JJA_mean[92:184].reshape(-1,1)\n",
    "northward_wind_JJA_mean_95 = northward_wind_JJA_mean[184:276].reshape(-1,1)\n",
    "northward_wind_JJA_mean_96 = northward_wind_JJA_mean[276:368].reshape(-1,1)\n",
    "northward_wind_JJA_mean_97 = northward_wind_JJA_mean[276:368].reshape(-1,1)\n",
    "northward_wind_JJA_mean_98_1 = northward_wind_JJA_mean[368:371].reshape(-1,1)\n",
    "northward_wind_JJA_mean_98_2 = northward_wind_JJA_mean[377:460].reshape(-1,1)\n",
    "northward_wind_JJA_mean_98 = np.concatenate((northward_wind_JJA_mean_98_1, northward_wind_JJA_mean_98_2), axis = 0)\n",
    "northward_wind_JJA_mean_99 = northward_wind_JJA_mean[552:644].reshape(-1,1)\n",
    "northward_wind_JJA_mean_00 = northward_wind_JJA_mean[644:736].reshape(-1,1)\n",
    "northward_wind_JJA_mean_01 = northward_wind_JJA_mean[736:828].reshape(-1,1)\n",
    "northward_wind_JJA_mean_02 = northward_wind_JJA_mean[828:920].reshape(-1,1)\n",
    "northward_wind_JJA_mean_03 = northward_wind_JJA_mean[920:1012].reshape(-1,1)\n",
    "northward_wind_JJA_mean_04 = northward_wind_JJA_mean[1012:1104].reshape(-1,1)\n",
    "northward_wind_JJA_mean_05 = northward_wind_JJA_mean[1104:1196].reshape(-1,1)\n",
    "northward_wind_JJA_mean_06_1 = northward_wind_JJA_mean[1196:1282].reshape(-1,1)\n",
    "northward_wind_JJA_mean_06_2 = northward_wind_JJA_mean[1287:1288].reshape(-1,1)\n",
    "northward_wind_JJA_mean_06 = np.concatenate((northward_wind_JJA_mean_06_1, northward_wind_JJA_mean_06_2), axis = 0)\n",
    "northward_wind_JJA_mean_07_1 = northward_wind_JJA_mean[1288:1297].reshape(-1,1)\n",
    "northward_wind_JJA_mean_07_2 = northward_wind_JJA_mean[1306:1380].reshape(-1,1)\n",
    "northward_wind_JJA_mean_07 = np.concatenate((northward_wind_JJA_mean_07_1, northward_wind_JJA_mean_07_2), axis = 0)\n",
    "northward_wind_JJA_mean_08 = northward_wind_JJA_mean[1380:1472].reshape(-1,1)\n",
    "northward_wind_JJA_mean_09 = northward_wind_JJA_mean[1472:1564].reshape(-1,1)\n",
    "northward_wind_JJA_mean_10_1 = northward_wind_JJA_mean[1564:1604].reshape(-1,1)\n",
    "northward_wind_JJA_mean_10_2 = northward_wind_JJA_mean[1612:1656].reshape(-1,1)\n",
    "northward_wind_JJA_mean_10 = np.concatenate((northward_wind_JJA_mean_10_1, northward_wind_JJA_mean_10_2), axis = 0)\n",
    "northward_wind_JJA_mean_11 = northward_wind_JJA_mean[1656:1748].reshape(-1,1)\n",
    "northward_wind_JJA_mean_12_1 = northward_wind_JJA_mean[1748:1807].reshape(-1,1)\n",
    "northward_wind_JJA_mean_12_2 = northward_wind_JJA_mean[1820:1840].reshape(-1,1)\n",
    "northward_wind_JJA_mean_12 = np.concatenate((northward_wind_JJA_mean_12_1, northward_wind_JJA_mean_12_2), axis = 0)\n",
    "northward_wind_JJA_mean_13 = northward_wind_JJA_mean[1840:1932].reshape(-1,1)\n",
    "northward_wind_JJA_mean_14 = northward_wind_JJA_mean[1932:2024].reshape(-1,1)\n",
    "northward_wind_JJA_mean_15_1 = northward_wind_JJA_mean[2032:2054].reshape(-1,1)\n",
    "northward_wind_JJA_mean_15_2 = northward_wind_JJA_mean[2061:2081].reshape(-1,1)\n",
    "northward_wind_JJA_mean_15 = np.concatenate((northward_wind_JJA_mean_15_1, northward_wind_JJA_mean_15_2), axis = 0)\n",
    "northward_wind_JJA_mean_16 = northward_wind_JJA_mean[2116:2208].reshape(-1,1)\n",
    "northward_wind_JJA_mean_17_1 = northward_wind_JJA_mean[2208:2251].reshape(-1,1)\n",
    "northward_wind_JJA_mean_17_2 = northward_wind_JJA_mean[2257:2264].reshape(-1,1)\n",
    "northward_wind_JJA_mean_17 = np.concatenate((northward_wind_JJA_mean_17_1, northward_wind_JJA_mean_17_2), axis = 0)\n",
    "northward_wind_JJA_mean_18 = northward_wind_JJA_mean[2300:2389].reshape(-1,1)\n",
    "northward_wind_JJA_mean_19_1 = northward_wind_JJA_mean[2407:2448].reshape(-1,1)\n",
    "northward_wind_JJA_mean_19_2 = northward_wind_JJA_mean[2459:2469].reshape(-1,1)\n",
    "northward_wind_JJA_mean_19_3 = northward_wind_JJA_mean[2475:].reshape(-1,1)\n",
    "northward_wind_JJA_mean_19 = np.concatenate((northward_wind_JJA_mean_19_1, northward_wind_JJA_mean_19_2, northward_wind_JJA_mean_19_3), axis = 0)\n"
   ]
  },
  {
   "cell_type": "code",
   "execution_count": 29,
   "id": "83897400",
   "metadata": {},
   "outputs": [],
   "source": [
    "eastward_wind_JJA_mean_93 = eastward_wind_JJA_mean[:92].reshape(-1,1)\n",
    "eastward_wind_JJA_mean_94 = eastward_wind_JJA_mean[92:184].reshape(-1,1)\n",
    "eastward_wind_JJA_mean_95 = eastward_wind_JJA_mean[184:276].reshape(-1,1)\n",
    "eastward_wind_JJA_mean_96 = eastward_wind_JJA_mean[276:368].reshape(-1,1)\n",
    "eastward_wind_JJA_mean_97 = eastward_wind_JJA_mean[276:368].reshape(-1,1)\n",
    "eastward_wind_JJA_mean_98_1 = eastward_wind_JJA_mean[368:371].reshape(-1,1)\n",
    "eastward_wind_JJA_mean_98_2 = eastward_wind_JJA_mean[377:460].reshape(-1,1)\n",
    "eastward_wind_JJA_mean_98 = np.concatenate((eastward_wind_JJA_mean_98_1, eastward_wind_JJA_mean_98_2), axis = 0)\n",
    "eastward_wind_JJA_mean_99 = eastward_wind_JJA_mean[552:644].reshape(-1,1)\n",
    "eastward_wind_JJA_mean_00 = eastward_wind_JJA_mean[644:736].reshape(-1,1)\n",
    "eastward_wind_JJA_mean_01 = eastward_wind_JJA_mean[736:828].reshape(-1,1)\n",
    "eastward_wind_JJA_mean_02 = eastward_wind_JJA_mean[828:920].reshape(-1,1)\n",
    "eastward_wind_JJA_mean_03 = eastward_wind_JJA_mean[920:1012].reshape(-1,1)\n",
    "eastward_wind_JJA_mean_04 = eastward_wind_JJA_mean[1012:1104].reshape(-1,1)\n",
    "eastward_wind_JJA_mean_05 = eastward_wind_JJA_mean[1104:1196].reshape(-1,1)\n",
    "eastward_wind_JJA_mean_06_1 = eastward_wind_JJA_mean[1196:1282].reshape(-1,1)\n",
    "eastward_wind_JJA_mean_06_2 = eastward_wind_JJA_mean[1287:1288].reshape(-1,1)\n",
    "eastward_wind_JJA_mean_06 = np.concatenate((eastward_wind_JJA_mean_06_1, eastward_wind_JJA_mean_06_2), axis = 0)\n",
    "eastward_wind_JJA_mean_07_1 = eastward_wind_JJA_mean[1288:1297].reshape(-1,1)\n",
    "eastward_wind_JJA_mean_07_2 = eastward_wind_JJA_mean[1306:1380].reshape(-1,1)\n",
    "eastward_wind_JJA_mean_07 = np.concatenate((eastward_wind_JJA_mean_07_1, eastward_wind_JJA_mean_07_2), axis = 0)\n",
    "eastward_wind_JJA_mean_08 = eastward_wind_JJA_mean[1380:1472].reshape(-1,1)\n",
    "eastward_wind_JJA_mean_09 = eastward_wind_JJA_mean[1472:1564].reshape(-1,1)\n",
    "eastward_wind_JJA_mean_10_1 = eastward_wind_JJA_mean[1564:1604].reshape(-1,1)\n",
    "eastward_wind_JJA_mean_10_2 = eastward_wind_JJA_mean[1612:1656].reshape(-1,1)\n",
    "eastward_wind_JJA_mean_10 = np.concatenate((eastward_wind_JJA_mean_10_1, eastward_wind_JJA_mean_10_2), axis = 0)\n",
    "eastward_wind_JJA_mean_11 = eastward_wind_JJA_mean[1656:1748].reshape(-1,1)\n",
    "eastward_wind_JJA_mean_12_1 = eastward_wind_JJA_mean[1748:1807].reshape(-1,1)\n",
    "eastward_wind_JJA_mean_12_2 = eastward_wind_JJA_mean[1820:1840].reshape(-1,1)\n",
    "eastward_wind_JJA_mean_12 = np.concatenate((eastward_wind_JJA_mean_12_1, eastward_wind_JJA_mean_12_2), axis = 0)\n",
    "eastward_wind_JJA_mean_13 = eastward_wind_JJA_mean[1840:1932].reshape(-1,1)\n",
    "eastward_wind_JJA_mean_14 = eastward_wind_JJA_mean[1932:2024].reshape(-1,1)\n",
    "eastward_wind_JJA_mean_15_1 = eastward_wind_JJA_mean[2032:2054].reshape(-1,1)\n",
    "eastward_wind_JJA_mean_15_2 = eastward_wind_JJA_mean[2061:2081].reshape(-1,1)\n",
    "eastward_wind_JJA_mean_15 = np.concatenate((eastward_wind_JJA_mean_15_1, eastward_wind_JJA_mean_15_2), axis = 0)\n",
    "eastward_wind_JJA_mean_16 = eastward_wind_JJA_mean[2116:2208].reshape(-1,1)\n",
    "eastward_wind_JJA_mean_17_1 = eastward_wind_JJA_mean[2208:2251].reshape(-1,1)\n",
    "eastward_wind_JJA_mean_17_2 = eastward_wind_JJA_mean[2257:2264].reshape(-1,1)\n",
    "eastward_wind_JJA_mean_17 = np.concatenate((eastward_wind_JJA_mean_17_1, eastward_wind_JJA_mean_17_2), axis = 0)\n",
    "eastward_wind_JJA_mean_18 = eastward_wind_JJA_mean[2300:2389].reshape(-1,1)\n",
    "eastward_wind_JJA_mean_19_1 = eastward_wind_JJA_mean[2407:2448].reshape(-1,1)\n",
    "eastward_wind_JJA_mean_19_2 = eastward_wind_JJA_mean[2459:2469].reshape(-1,1)\n",
    "eastward_wind_JJA_mean_19_3 = eastward_wind_JJA_mean[2475:].reshape(-1,1)\n",
    "eastward_wind_JJA_mean_19 = np.concatenate((eastward_wind_JJA_mean_19_1, eastward_wind_JJA_mean_19_2, eastward_wind_JJA_mean_19_3), axis = 0)\n"
   ]
  },
  {
   "cell_type": "code",
   "execution_count": 30,
   "id": "20190979",
   "metadata": {},
   "outputs": [],
   "source": [
    "surface_downward_eastward_stress_JJA_93 = surface_downward_eastward_stress_JJA[:92]\n",
    "surface_downward_eastward_stress_JJA_94 = surface_downward_eastward_stress_JJA[92:184]\n",
    "surface_downward_eastward_stress_JJA_95 = surface_downward_eastward_stress_JJA[184:276]\n",
    "surface_downward_eastward_stress_JJA_96 = surface_downward_eastward_stress_JJA[276:368]\n",
    "surface_downward_eastward_stress_JJA_97 = surface_downward_eastward_stress_JJA[276:368]\n",
    "surface_downward_eastward_stress_JJA_98_1 = surface_downward_eastward_stress_JJA[368:371]\n",
    "surface_downward_eastward_stress_JJA_98_2 = surface_downward_eastward_stress_JJA[377:460]\n",
    "surface_downward_eastward_stress_JJA_98 = np.concatenate((surface_downward_eastward_stress_JJA_98_1, surface_downward_eastward_stress_JJA_98_2), axis = 0)\n",
    "surface_downward_eastward_stress_JJA_99 = surface_downward_eastward_stress_JJA[552:644]\n",
    "surface_downward_eastward_stress_JJA_00 = surface_downward_eastward_stress_JJA[644:736]\n",
    "surface_downward_eastward_stress_JJA_01 = surface_downward_eastward_stress_JJA[736:828]\n",
    "surface_downward_eastward_stress_JJA_02 = surface_downward_eastward_stress_JJA[828:920]\n",
    "surface_downward_eastward_stress_JJA_03 = surface_downward_eastward_stress_JJA[920:1012]\n",
    "surface_downward_eastward_stress_JJA_04 = surface_downward_eastward_stress_JJA[1012:1104]\n",
    "surface_downward_eastward_stress_JJA_05 = surface_downward_eastward_stress_JJA[1104:1196]\n",
    "surface_downward_eastward_stress_JJA_06_1 = surface_downward_eastward_stress_JJA[1196:1282]\n",
    "surface_downward_eastward_stress_JJA_06_2 = surface_downward_eastward_stress_JJA[1287:1288]\n",
    "surface_downward_eastward_stress_JJA_06 = np.concatenate((surface_downward_eastward_stress_JJA_06_1, surface_downward_eastward_stress_JJA_06_2), axis = 0)\n",
    "surface_downward_eastward_stress_JJA_07_1 = surface_downward_eastward_stress_JJA[1288:1297]\n",
    "surface_downward_eastward_stress_JJA_07_2 = surface_downward_eastward_stress_JJA[1306:1380]\n",
    "surface_downward_eastward_stress_JJA_07 = np.concatenate((surface_downward_eastward_stress_JJA_07_1, surface_downward_eastward_stress_JJA_07_2), axis = 0)\n",
    "surface_downward_eastward_stress_JJA_08 = surface_downward_eastward_stress_JJA[1380:1472]\n",
    "surface_downward_eastward_stress_JJA_09 = surface_downward_eastward_stress_JJA[1472:1564]\n",
    "surface_downward_eastward_stress_JJA_10_1 = surface_downward_eastward_stress_JJA[1564:1604]\n",
    "surface_downward_eastward_stress_JJA_10_2 = surface_downward_eastward_stress_JJA[1612:1656]\n",
    "surface_downward_eastward_stress_JJA_10 = np.concatenate((surface_downward_eastward_stress_JJA_10_1, surface_downward_eastward_stress_JJA_10_2), axis = 0)\n",
    "surface_downward_eastward_stress_JJA_11 = surface_downward_eastward_stress_JJA[1656:1748]\n",
    "surface_downward_eastward_stress_JJA_12_1 = surface_downward_eastward_stress_JJA[1748:1807]\n",
    "surface_downward_eastward_stress_JJA_12_2 = surface_downward_eastward_stress_JJA[1820:1840]\n",
    "surface_downward_eastward_stress_JJA_12 = np.concatenate((surface_downward_eastward_stress_JJA_12_1, surface_downward_eastward_stress_JJA_12_2), axis = 0)\n",
    "surface_downward_eastward_stress_JJA_13 = surface_downward_eastward_stress_JJA[1840:1932]\n",
    "surface_downward_eastward_stress_JJA_14 = surface_downward_eastward_stress_JJA[1932:2024]\n",
    "surface_downward_eastward_stress_JJA_15_1 = surface_downward_eastward_stress_JJA[2032:2054]\n",
    "surface_downward_eastward_stress_JJA_15_2 = surface_downward_eastward_stress_JJA[2061:2081]\n",
    "surface_downward_eastward_stress_JJA_15 = np.concatenate((surface_downward_eastward_stress_JJA_15_1, surface_downward_eastward_stress_JJA_15_2), axis = 0)\n",
    "surface_downward_eastward_stress_JJA_16 = surface_downward_eastward_stress_JJA[2116:2208]\n",
    "surface_downward_eastward_stress_JJA_17_1 = surface_downward_eastward_stress_JJA[2208:2251]\n",
    "surface_downward_eastward_stress_JJA_17_2 = surface_downward_eastward_stress_JJA[2257:2264]\n",
    "surface_downward_eastward_stress_JJA_17 = np.concatenate((surface_downward_eastward_stress_JJA_17_1, surface_downward_eastward_stress_JJA_17_2), axis = 0)\n",
    "surface_downward_eastward_stress_JJA_18 = surface_downward_eastward_stress_JJA[2300:2389]\n",
    "surface_downward_eastward_stress_JJA_19_1 = surface_downward_eastward_stress_JJA[2407:2448]\n",
    "surface_downward_eastward_stress_JJA_19_2 = surface_downward_eastward_stress_JJA[2459:2469]\n",
    "surface_downward_eastward_stress_JJA_19_3 = surface_downward_eastward_stress_JJA[2475:]\n",
    "surface_downward_eastward_stress_JJA_19 = np.concatenate((surface_downward_eastward_stress_JJA_19_1, surface_downward_eastward_stress_JJA_19_2, surface_downward_eastward_stress_JJA_19_3), axis = 0)\n"
   ]
  },
  {
   "cell_type": "code",
   "execution_count": 31,
   "id": "79a207f2",
   "metadata": {},
   "outputs": [],
   "source": [
    "surface_downward_northward_stress_JJA_93 = surface_downward_northward_stress_JJA[:92]\n",
    "surface_downward_northward_stress_JJA_94 = surface_downward_northward_stress_JJA[92:184]\n",
    "surface_downward_northward_stress_JJA_95 = surface_downward_northward_stress_JJA[184:276]\n",
    "surface_downward_northward_stress_JJA_96 = surface_downward_northward_stress_JJA[276:368]\n",
    "surface_downward_northward_stress_JJA_97 = surface_downward_northward_stress_JJA[276:368]\n",
    "surface_downward_northward_stress_JJA_98_1 = surface_downward_northward_stress_JJA[368:371]\n",
    "surface_downward_northward_stress_JJA_98_2 = surface_downward_northward_stress_JJA[377:460]\n",
    "surface_downward_northward_stress_JJA_98 = np.concatenate((surface_downward_northward_stress_JJA_98_1, surface_downward_northward_stress_JJA_98_2), axis = 0)\n",
    "surface_downward_northward_stress_JJA_99 = surface_downward_northward_stress_JJA[552:644]\n",
    "surface_downward_northward_stress_JJA_00 = surface_downward_northward_stress_JJA[644:736]\n",
    "surface_downward_northward_stress_JJA_01 = surface_downward_northward_stress_JJA[736:828]\n",
    "surface_downward_northward_stress_JJA_02 = surface_downward_northward_stress_JJA[828:920]\n",
    "surface_downward_northward_stress_JJA_03 = surface_downward_northward_stress_JJA[920:1012]\n",
    "surface_downward_northward_stress_JJA_04 = surface_downward_northward_stress_JJA[1012:1104]\n",
    "surface_downward_northward_stress_JJA_05 = surface_downward_northward_stress_JJA[1104:1196]\n",
    "surface_downward_northward_stress_JJA_06_1 = surface_downward_northward_stress_JJA[1196:1282]\n",
    "surface_downward_northward_stress_JJA_06_2 = surface_downward_northward_stress_JJA[1287:1288]\n",
    "surface_downward_northward_stress_JJA_06 = np.concatenate((surface_downward_northward_stress_JJA_06_1, surface_downward_northward_stress_JJA_06_2), axis = 0)\n",
    "surface_downward_northward_stress_JJA_07_1 = surface_downward_northward_stress_JJA[1288:1297]\n",
    "surface_downward_northward_stress_JJA_07_2 = surface_downward_northward_stress_JJA[1306:1380]\n",
    "surface_downward_northward_stress_JJA_07 = np.concatenate((surface_downward_northward_stress_JJA_07_1, surface_downward_northward_stress_JJA_07_2), axis = 0)\n",
    "surface_downward_northward_stress_JJA_08 = surface_downward_northward_stress_JJA[1380:1472]\n",
    "surface_downward_northward_stress_JJA_09 = surface_downward_northward_stress_JJA[1472:1564]\n",
    "surface_downward_northward_stress_JJA_10_1 = surface_downward_northward_stress_JJA[1564:1604]\n",
    "surface_downward_northward_stress_JJA_10_2 = surface_downward_northward_stress_JJA[1612:1656]\n",
    "surface_downward_northward_stress_JJA_10 = np.concatenate((surface_downward_northward_stress_JJA_10_1, surface_downward_northward_stress_JJA_10_2), axis = 0)\n",
    "surface_downward_northward_stress_JJA_11 = surface_downward_northward_stress_JJA[1656:1748]\n",
    "surface_downward_northward_stress_JJA_12_1 = surface_downward_northward_stress_JJA[1748:1807]\n",
    "surface_downward_northward_stress_JJA_12_2 = surface_downward_northward_stress_JJA[1820:1840]\n",
    "surface_downward_northward_stress_JJA_12 = np.concatenate((surface_downward_northward_stress_JJA_12_1, surface_downward_northward_stress_JJA_12_2), axis = 0)\n",
    "surface_downward_northward_stress_JJA_13 = surface_downward_northward_stress_JJA[1840:1932]\n",
    "surface_downward_northward_stress_JJA_14 = surface_downward_northward_stress_JJA[1932:2024]\n",
    "surface_downward_northward_stress_JJA_15_1 = surface_downward_northward_stress_JJA[2032:2054]\n",
    "surface_downward_northward_stress_JJA_15_2 = surface_downward_northward_stress_JJA[2061:2081]\n",
    "surface_downward_northward_stress_JJA_15 = np.concatenate((surface_downward_northward_stress_JJA_15_1, surface_downward_northward_stress_JJA_15_2), axis = 0)\n",
    "surface_downward_northward_stress_JJA_16 = surface_downward_northward_stress_JJA[2116:2208]\n",
    "surface_downward_northward_stress_JJA_17_1 = surface_downward_northward_stress_JJA[2208:2251]\n",
    "surface_downward_northward_stress_JJA_17_2 = surface_downward_northward_stress_JJA[2257:2264]\n",
    "surface_downward_northward_stress_JJA_17 = np.concatenate((surface_downward_northward_stress_JJA_17_1, surface_downward_northward_stress_JJA_17_2), axis = 0)\n",
    "surface_downward_northward_stress_JJA_18 = surface_downward_northward_stress_JJA[2300:2389]\n",
    "surface_downward_northward_stress_JJA_19_1 = surface_downward_northward_stress_JJA[2407:2448]\n",
    "surface_downward_northward_stress_JJA_19_2 = surface_downward_northward_stress_JJA[2459:2469]\n",
    "surface_downward_northward_stress_JJA_19_3 = surface_downward_northward_stress_JJA[2475:]\n",
    "surface_downward_northward_stress_JJA_19 = np.concatenate((surface_downward_northward_stress_JJA_19_1, surface_downward_northward_stress_JJA_19_2, surface_downward_northward_stress_JJA_19_3), axis = 0)\n"
   ]
  },
  {
   "cell_type": "code",
   "execution_count": 32,
   "id": "a6d94794",
   "metadata": {},
   "outputs": [],
   "source": [
    "northward_wind_SON_mean = np.mean((northward_wind_SON), axis = (1,2))\n",
    "eastward_wind_SON_mean = np.mean((eastward_wind_SON), axis = (1,2))"
   ]
  },
  {
   "cell_type": "code",
   "execution_count": 33,
   "id": "7eb0e546",
   "metadata": {},
   "outputs": [],
   "source": [
    "eastward_wind_SON_mean_93 = eastward_wind_SON_mean[:91].reshape(-1,1)\n",
    "eastward_wind_SON_mean_94 = eastward_wind_SON_mean[91:182].reshape(-1,1)\n",
    "eastward_wind_SON_mean_95 = eastward_wind_SON_mean[182:273].reshape(-1,1)\n",
    "eastward_wind_SON_mean_96 = eastward_wind_SON_mean[273:364].reshape(-1,1)\n",
    "eastward_wind_SON_mean_97_1 = eastward_wind_SON_mean[364:447].reshape(-1,1)\n",
    "eastward_wind_SON_mean_97_2 = eastward_wind_SON_mean[452:455].reshape(-1,1)\n",
    "eastward_wind_SON_mean_97 = np.concatenate((eastward_wind_SON_mean_97_1, eastward_wind_SON_mean_97_2), axis = 0)\n",
    "eastward_wind_SON_mean_98 = eastward_wind_SON_mean[455:546].reshape(-1,1)\n",
    "eastward_wind_SON_mean_99 = eastward_wind_SON_mean[546:637].reshape(-1,1)\n",
    "eastward_wind_SON_mean_00 = eastward_wind_SON_mean[637:728].reshape(-1,1)\n",
    "eastward_wind_SON_mean_01 = eastward_wind_SON_mean[728:819].reshape(-1,1)\n",
    "eastward_wind_SON_mean_02 = eastward_wind_SON_mean[819:910].reshape(-1,1)\n",
    "eastward_wind_SON_mean_03 = eastward_wind_SON_mean[910:1001].reshape(-1,1)\n",
    "eastward_wind_SON_mean_04 = eastward_wind_SON_mean[1001:1092].reshape(-1,1)\n",
    "eastward_wind_SON_mean_05 = eastward_wind_SON_mean[1092:1183].reshape(-1,1)\n",
    "eastward_wind_SON_mean_06_1 = eastward_wind_SON_mean[1183:1250].reshape(-1,1)\n",
    "eastward_wind_SON_mean_06_2 = eastward_wind_SON_mean[1255:1274].reshape(-1,1)\n",
    "eastward_wind_SON_mean_06 = np.concatenate((eastward_wind_SON_mean_06_1, eastward_wind_SON_mean_06_2), axis = 0)\n",
    "eastward_wind_SON_mean_07 = eastward_wind_SON_mean[1274:1365].reshape(-1,1)\n",
    "eastward_wind_SON_mean_08 = eastward_wind_SON_mean[1365:1456].reshape(-1,1)\n",
    "eastward_wind_SON_mean_09 = eastward_wind_SON_mean[1456:1547].reshape(-1,1)\n",
    "eastward_wind_SON_mean_10 = eastward_wind_SON_mean[1547:1638].reshape(-1,1)\n",
    "eastward_wind_SON_mean_11 = eastward_wind_SON_mean[1638:1729].reshape(-1,1)\n",
    "eastward_wind_SON_mean_12_1 = eastward_wind_SON_mean[1732:1738].reshape(-1,1)\n",
    "eastward_wind_SON_mean_12_2 = eastward_wind_SON_mean[1747:1752].reshape(-1,1)\n",
    "eastward_wind_SON_mean_12_3 = eastward_wind_SON_mean[1757:1820].reshape(-1,1)\n",
    "eastward_wind_SON_mean_12 = np.concatenate((eastward_wind_SON_mean_12_1, eastward_wind_SON_mean_12_2, eastward_wind_SON_mean_12_3), axis = 0)\n",
    "eastward_wind_SON_mean_13_1 = eastward_wind_SON_mean[1820:1880].reshape(-1,1)\n",
    "eastward_wind_SON_mean_13_2 = eastward_wind_SON_mean[1885:1903].reshape(-1,1)\n",
    "eastward_wind_SON_mean_13_3 = eastward_wind_SON_mean[1908:1911].reshape(-1,1)\n",
    "eastward_wind_SON_mean_13 = np.concatenate((eastward_wind_SON_mean_13_1, eastward_wind_SON_mean_13_2, eastward_wind_SON_mean_13_3), axis = 0)\n",
    "eastward_wind_SON_mean_14_1 = eastward_wind_SON_mean[1911:1944].reshape(-1,1)\n",
    "eastward_wind_SON_mean_14_2 = eastward_wind_SON_mean[1949:1972].reshape(-1,1)\n",
    "eastward_wind_SON_mean_14_3 = eastward_wind_SON_mean[1977:1986].reshape(-1,1)\n",
    "eastward_wind_SON_mean_14 = np.concatenate((eastward_wind_SON_mean_14_1, eastward_wind_SON_mean_14_2, eastward_wind_SON_mean_14_3), axis = 0)\n",
    "eastward_wind_SON_mean_15 = eastward_wind_SON_mean[2078:2084].reshape(-1,1)\n",
    "eastward_wind_SON_mean_16 = eastward_wind_SON_mean[2093:2184].reshape(-1,1)\n",
    "eastward_wind_SON_mean_17_1 = eastward_wind_SON_mean[2192:2236].reshape(-1,1)\n",
    "eastward_wind_SON_mean_17_2 = eastward_wind_SON_mean[2254:2262].reshape(-1,1)\n",
    "eastward_wind_SON_mean_17 = np.concatenate((eastward_wind_SON_mean_17_1, eastward_wind_SON_mean_17_2), axis = 0)\n",
    "eastward_wind_SON_mean_18_1 = eastward_wind_SON_mean[2262:2267].reshape(-1,1)\n",
    "eastward_wind_SON_mean_18_2 = eastward_wind_SON_mean[2290:2332].reshape(-1,1)\n",
    "eastward_wind_SON_mean_18 = np.concatenate((eastward_wind_SON_mean_18_1, eastward_wind_SON_mean_18_2), axis = 0)\n",
    "eastward_wind_SON_mean_19 = eastward_wind_SON_mean[2340:].reshape(-1,1)\n"
   ]
  },
  {
   "cell_type": "code",
   "execution_count": 34,
   "id": "e4fb2285",
   "metadata": {},
   "outputs": [],
   "source": [
    "northward_wind_SON_mean_93 = northward_wind_SON_mean[:91].reshape(-1,1)\n",
    "northward_wind_SON_mean_94 = northward_wind_SON_mean[91:182].reshape(-1,1)\n",
    "northward_wind_SON_mean_95 = northward_wind_SON_mean[182:273].reshape(-1,1)\n",
    "northward_wind_SON_mean_96 = northward_wind_SON_mean[273:364].reshape(-1,1)\n",
    "northward_wind_SON_mean_97_1 = northward_wind_SON_mean[364:447].reshape(-1,1)\n",
    "northward_wind_SON_mean_97_2 = northward_wind_SON_mean[452:455].reshape(-1,1)\n",
    "northward_wind_SON_mean_97 = np.concatenate((northward_wind_SON_mean_97_1, northward_wind_SON_mean_97_2), axis = 0)\n",
    "northward_wind_SON_mean_98 = northward_wind_SON_mean[455:546].reshape(-1,1)\n",
    "northward_wind_SON_mean_99 = northward_wind_SON_mean[546:637].reshape(-1,1)\n",
    "northward_wind_SON_mean_00 = northward_wind_SON_mean[637:728].reshape(-1,1)\n",
    "northward_wind_SON_mean_01 = northward_wind_SON_mean[728:819].reshape(-1,1)\n",
    "northward_wind_SON_mean_02 = northward_wind_SON_mean[819:910].reshape(-1,1)\n",
    "northward_wind_SON_mean_03 = northward_wind_SON_mean[910:1001].reshape(-1,1)\n",
    "northward_wind_SON_mean_04 = northward_wind_SON_mean[1001:1092].reshape(-1,1)\n",
    "northward_wind_SON_mean_05 = eastward_wind_SON_mean[1092:1183].reshape(-1,1)\n",
    "northward_wind_SON_mean_06_1 = northward_wind_SON_mean[1183:1250].reshape(-1,1)\n",
    "northward_wind_SON_mean_06_2 = northward_wind_SON_mean[1255:1274].reshape(-1,1)\n",
    "northward_wind_SON_mean_06 = np.concatenate((northward_wind_SON_mean_06_1, northward_wind_SON_mean_06_2), axis = 0)\n",
    "northward_wind_SON_mean_07 = northward_wind_SON_mean[1274:1365].reshape(-1,1)\n",
    "northward_wind_SON_mean_08 = northward_wind_SON_mean[1365:1456].reshape(-1,1)\n",
    "northward_wind_SON_mean_09 = northward_wind_SON_mean[1456:1547].reshape(-1,1)\n",
    "northward_wind_SON_mean_10 = northward_wind_SON_mean[1547:1638].reshape(-1,1)\n",
    "northward_wind_SON_mean_11 = northward_wind_SON_mean[1638:1729].reshape(-1,1)\n",
    "northward_wind_SON_mean_12_1 = northward_wind_SON_mean[1732:1738].reshape(-1,1)\n",
    "northward_wind_SON_mean_12_2 = northward_wind_SON_mean[1747:1752].reshape(-1,1)\n",
    "northward_wind_SON_mean_12_3 = northward_wind_SON_mean[1757:1820].reshape(-1,1)\n",
    "northward_wind_SON_mean_12 = np.concatenate((northward_wind_SON_mean_12_1, northward_wind_SON_mean_12_2, northward_wind_SON_mean_12_3), axis = 0)\n",
    "northward_wind_SON_mean_13_1 = northward_wind_SON_mean[1820:1880].reshape(-1,1)\n",
    "northward_wind_SON_mean_13_2 = northward_wind_SON_mean[1885:1903].reshape(-1,1)\n",
    "northward_wind_SON_mean_13_3 = northward_wind_SON_mean[1908:1911].reshape(-1,1)\n",
    "northward_wind_SON_mean_13 = np.concatenate((northward_wind_SON_mean_13_1, northward_wind_SON_mean_13_2, northward_wind_SON_mean_13_3), axis = 0)\n",
    "northward_wind_SON_mean_14_1 = northward_wind_SON_mean[1911:1944].reshape(-1,1)\n",
    "northward_wind_SON_mean_14_2 = northward_wind_SON_mean[1949:1972].reshape(-1,1)\n",
    "northward_wind_SON_mean_14_3 = northward_wind_SON_mean[1977:1986].reshape(-1,1)\n",
    "northward_wind_SON_mean_14 = np.concatenate((northward_wind_SON_mean_14_1, northward_wind_SON_mean_14_2, northward_wind_SON_mean_14_3), axis = 0)\n",
    "northward_wind_SON_mean_15 = northward_wind_SON_mean[2078:2084].reshape(-1,1)\n",
    "northward_wind_SON_mean_16 = northward_wind_SON_mean[2093:2184].reshape(-1,1)\n",
    "northward_wind_SON_mean_17_1 = northward_wind_SON_mean[2192:2236].reshape(-1,1)\n",
    "northward_wind_SON_mean_17_2 = northward_wind_SON_mean[2254:2262].reshape(-1,1)\n",
    "northward_wind_SON_mean_17 = np.concatenate((northward_wind_SON_mean_17_1, northward_wind_SON_mean_17_2), axis = 0)\n",
    "northward_wind_SON_mean_18_1 = northward_wind_SON_mean[2262:2267].reshape(-1,1)\n",
    "northward_wind_SON_mean_18_2 = northward_wind_SON_mean[2290:2332].reshape(-1,1)\n",
    "northward_wind_SON_mean_18 = np.concatenate((northward_wind_SON_mean_18_1, northward_wind_SON_mean_18_2), axis = 0)\n",
    "northward_wind_SON_mean_19 = northward_wind_SON_mean[2340:].reshape(-1,1)"
   ]
  },
  {
   "cell_type": "code",
   "execution_count": 35,
   "id": "75e861f9",
   "metadata": {},
   "outputs": [],
   "source": [
    "surface_downward_eastward_stress_SON_93 = surface_downward_eastward_stress_SON[:91]\n",
    "surface_downward_eastward_stress_SON_94 = surface_downward_eastward_stress_SON[91:182]\n",
    "surface_downward_eastward_stress_SON_95 = surface_downward_eastward_stress_SON[182:273]\n",
    "surface_downward_eastward_stress_SON_96 = surface_downward_eastward_stress_SON[273:364]\n",
    "surface_downward_eastward_stress_SON_97_1 = surface_downward_eastward_stress_SON[364:447]\n",
    "surface_downward_eastward_stress_SON_97_2 = surface_downward_eastward_stress_SON[452:455]\n",
    "surface_downward_eastward_stress_SON_97 = np.concatenate((surface_downward_eastward_stress_SON_97_1, surface_downward_eastward_stress_SON_97_2), axis = 0)\n",
    "surface_downward_eastward_stress_SON_98 = surface_downward_eastward_stress_SON[455:546]\n",
    "surface_downward_eastward_stress_SON_99 = surface_downward_eastward_stress_SON[546:637]\n",
    "surface_downward_eastward_stress_SON_00 = surface_downward_eastward_stress_SON[637:728]\n",
    "surface_downward_eastward_stress_SON_01 = surface_downward_eastward_stress_SON[728:819]\n",
    "surface_downward_eastward_stress_SON_02 = surface_downward_eastward_stress_SON[819:910]\n",
    "surface_downward_eastward_stress_SON_03 = surface_downward_eastward_stress_SON[910:1001]\n",
    "surface_downward_eastward_stress_SON_04 = surface_downward_eastward_stress_SON[1001:1092]\n",
    "surface_downward_eastward_stress_SON_05 = surface_downward_eastward_stress_SON[1092:1183]\n",
    "surface_downward_eastward_stress_SON_06_1 = surface_downward_eastward_stress_SON[1183:1250]\n",
    "surface_downward_eastward_stress_SON_06_2 = surface_downward_eastward_stress_SON[1255:1274]\n",
    "surface_downward_eastward_stress_SON_06 = np.concatenate((surface_downward_eastward_stress_SON_06_1, surface_downward_eastward_stress_SON_06_2), axis = 0)\n",
    "surface_downward_eastward_stress_SON_07 = surface_downward_eastward_stress_SON[1274:1365]\n",
    "surface_downward_eastward_stress_SON_08 = surface_downward_eastward_stress_SON[1365:1456]\n",
    "surface_downward_eastward_stress_SON_09 = surface_downward_eastward_stress_SON[1456:1547]\n",
    "surface_downward_eastward_stress_SON_10 = surface_downward_eastward_stress_SON[1547:1638]\n",
    "surface_downward_eastward_stress_SON_11 = surface_downward_eastward_stress_SON[1638:1729]\n",
    "surface_downward_eastward_stress_SON_12_1 = surface_downward_eastward_stress_SON[1732:1738]\n",
    "surface_downward_eastward_stress_SON_12_2 = surface_downward_eastward_stress_SON[1747:1752]\n",
    "surface_downward_eastward_stress_SON_12_3 = surface_downward_eastward_stress_SON[1757:1820]\n",
    "surface_downward_eastward_stress_SON_12 = np.concatenate((surface_downward_eastward_stress_SON_12_1, surface_downward_eastward_stress_SON_12_2, surface_downward_eastward_stress_SON_12_3), axis = 0)\n",
    "surface_downward_eastward_stress_SON_13_1 = surface_downward_eastward_stress_SON[1820:1880]\n",
    "surface_downward_eastward_stress_SON_13_2 = surface_downward_eastward_stress_SON[1885:1903]\n",
    "surface_downward_eastward_stress_SON_13_3 = surface_downward_eastward_stress_SON[1908:1911]\n",
    "surface_downward_eastward_stress_SON_13 = np.concatenate((surface_downward_eastward_stress_SON_13_1, surface_downward_eastward_stress_SON_13_2, surface_downward_eastward_stress_SON_13_3), axis = 0)\n",
    "surface_downward_eastward_stress_SON_14_1 = surface_downward_eastward_stress_SON[1911:1944]\n",
    "surface_downward_eastward_stress_SON_14_2 = surface_downward_eastward_stress_SON[1949:1972]\n",
    "surface_downward_eastward_stress_SON_14_3 = surface_downward_eastward_stress_SON[1977:1986]\n",
    "surface_downward_eastward_stress_SON_14 = np.concatenate((surface_downward_eastward_stress_SON_14_1, surface_downward_eastward_stress_SON_14_2, surface_downward_eastward_stress_SON_14_3), axis = 0)\n",
    "surface_downward_eastward_stress_SON_15 = surface_downward_eastward_stress_SON[2078:2084]\n",
    "surface_downward_eastward_stress_SON_16 = surface_downward_eastward_stress_SON[2093:2184]\n",
    "surface_downward_eastward_stress_SON_17_1 = surface_downward_eastward_stress_SON[2192:2236]\n",
    "surface_downward_eastward_stress_SON_17_2 = surface_downward_eastward_stress_SON[2254:2262]\n",
    "surface_downward_eastward_stress_SON_17 = np.concatenate((surface_downward_eastward_stress_SON_17_1, surface_downward_eastward_stress_SON_17_2), axis = 0)\n",
    "surface_downward_eastward_stress_SON_18_1 = surface_downward_eastward_stress_SON[2262:2267]\n",
    "surface_downward_eastward_stress_SON_18_2 = surface_downward_eastward_stress_SON[2290:2332]\n",
    "surface_downward_eastward_stress_SON_18 = np.concatenate((surface_downward_eastward_stress_SON_18_1, surface_downward_eastward_stress_SON_18_2), axis = 0)\n",
    "surface_downward_eastward_stress_SON_19 = surface_downward_eastward_stress_SON[2340:]"
   ]
  },
  {
   "cell_type": "code",
   "execution_count": 36,
   "id": "9c765855",
   "metadata": {},
   "outputs": [],
   "source": [
    "surface_downward_northward_stress_SON_93 = surface_downward_northward_stress_SON[:91]\n",
    "surface_downward_northward_stress_SON_94 = surface_downward_northward_stress_SON[91:182]\n",
    "surface_downward_northward_stress_SON_95 = surface_downward_northward_stress_SON[182:273]\n",
    "surface_downward_northward_stress_SON_96 = surface_downward_northward_stress_SON[273:364]\n",
    "surface_downward_northward_stress_SON_97_1 = surface_downward_northward_stress_SON[364:447]\n",
    "surface_downward_northward_stress_SON_97_2 = surface_downward_northward_stress_SON[452:455]\n",
    "surface_downward_northward_stress_SON_97 = np.concatenate((surface_downward_northward_stress_SON_97_1, surface_downward_northward_stress_SON_97_2), axis = 0)\n",
    "surface_downward_northward_stress_SON_98 = surface_downward_northward_stress_SON[455:546]\n",
    "surface_downward_northward_stress_SON_99 = surface_downward_northward_stress_SON[546:637]\n",
    "surface_downward_northward_stress_SON_00 = surface_downward_northward_stress_SON[637:728]\n",
    "surface_downward_northward_stress_SON_01 = surface_downward_northward_stress_SON[728:819]\n",
    "surface_downward_northward_stress_SON_02 = surface_downward_northward_stress_SON[819:910]\n",
    "surface_downward_northward_stress_SON_03 = surface_downward_northward_stress_SON[910:1001]\n",
    "surface_downward_northward_stress_SON_04 = surface_downward_northward_stress_SON[1001:1092]\n",
    "surface_downward_northward_stress_SON_05 = surface_downward_northward_stress_SON[1092:1183]\n",
    "surface_downward_northward_stress_SON_06_1 = surface_downward_northward_stress_SON[1183:1250]\n",
    "surface_downward_northward_stress_SON_06_2 = surface_downward_northward_stress_SON[1255:1274]\n",
    "surface_downward_northward_stress_SON_06 = np.concatenate((surface_downward_northward_stress_SON_06_1, surface_downward_northward_stress_SON_06_2), axis = 0)\n",
    "surface_downward_northward_stress_SON_07 = surface_downward_northward_stress_SON[1274:1365]\n",
    "surface_downward_northward_stress_SON_08 = surface_downward_northward_stress_SON[1365:1456]\n",
    "surface_downward_northward_stress_SON_09 = surface_downward_northward_stress_SON[1456:1547]\n",
    "surface_downward_northward_stress_SON_10 = surface_downward_northward_stress_SON[1547:1638]\n",
    "surface_downward_northward_stress_SON_11 = surface_downward_northward_stress_SON[1638:1729]\n",
    "surface_downward_northward_stress_SON_12_1 = surface_downward_northward_stress_SON[1732:1738]\n",
    "surface_downward_northward_stress_SON_12_2 = surface_downward_northward_stress_SON[1747:1752]\n",
    "surface_downward_northward_stress_SON_12_3 = surface_downward_northward_stress_SON[1757:1820]\n",
    "surface_downward_northward_stress_SON_12 = np.concatenate((surface_downward_northward_stress_SON_12_1, surface_downward_northward_stress_SON_12_2, surface_downward_northward_stress_SON_12_3), axis = 0)\n",
    "surface_downward_northward_stress_SON_13_1 = surface_downward_northward_stress_SON[1820:1880]\n",
    "surface_downward_northward_stress_SON_13_2 = surface_downward_northward_stress_SON[1885:1903]\n",
    "surface_downward_northward_stress_SON_13_3 = surface_downward_northward_stress_SON[1908:1911]\n",
    "surface_downward_northward_stress_SON_13 = np.concatenate((surface_downward_northward_stress_SON_13_1, surface_downward_northward_stress_SON_13_2, surface_downward_northward_stress_SON_13_3), axis = 0)\n",
    "surface_downward_northward_stress_SON_14_1 = surface_downward_northward_stress_SON[1911:1944]\n",
    "surface_downward_northward_stress_SON_14_2 = surface_downward_northward_stress_SON[1949:1972]\n",
    "surface_downward_northward_stress_SON_14_3 = surface_downward_northward_stress_SON[1977:1986]\n",
    "surface_downward_northward_stress_SON_14 = np.concatenate((surface_downward_northward_stress_SON_14_1, surface_downward_northward_stress_SON_14_2, surface_downward_northward_stress_SON_14_3), axis = 0)\n",
    "surface_downward_northward_stress_SON_15 = surface_downward_northward_stress_SON[2078:2084]\n",
    "surface_downward_northward_stress_SON_16 = surface_downward_northward_stress_SON[2093:2184]\n",
    "surface_downward_northward_stress_SON_17_1 = surface_downward_northward_stress_SON[2192:2236]\n",
    "surface_downward_northward_stress_SON_17_2 = surface_downward_northward_stress_SON[2254:2262]\n",
    "surface_downward_northward_stress_SON_17 = np.concatenate((surface_downward_northward_stress_SON_17_1, surface_downward_northward_stress_SON_17_2), axis = 0)\n",
    "surface_downward_northward_stress_SON_18_1 = surface_downward_northward_stress_SON[2262:2267]\n",
    "surface_downward_northward_stress_SON_18_2 = surface_downward_northward_stress_SON[2290:2332]\n",
    "surface_downward_northward_stress_SON_18 = np.concatenate((surface_downward_northward_stress_SON_18_1, surface_downward_northward_stress_SON_18_2), axis = 0)\n",
    "surface_downward_northward_stress_SON_19 = surface_downward_northward_stress_SON[2340:]"
   ]
  },
  {
   "cell_type": "code",
   "execution_count": 37,
   "id": "3de93797",
   "metadata": {},
   "outputs": [],
   "source": [
    "northward_wind_MAM_mean = np.mean((northward_wind_MAM), axis = (1,2))\n",
    "eastward_wind_MAM_mean = np.mean((eastward_wind_MAM), axis = (1,2))"
   ]
  },
  {
   "cell_type": "code",
   "execution_count": 38,
   "id": "9d8432cb",
   "metadata": {},
   "outputs": [],
   "source": [
    "eastward_wind_MAM_mean_93 = eastward_wind_MAM_mean[:92].reshape(-1,1)\n",
    "eastward_wind_MAM_mean_94 = eastward_wind_MAM_mean[92:184].reshape(-1,1)\n",
    "eastward_wind_MAM_mean_95 = eastward_wind_MAM_mean[184:276].reshape(-1,1)\n",
    "eastward_wind_MAM_mean_96 = eastward_wind_MAM_mean[276:368].reshape(-1,1)\n",
    "eastward_wind_MAM_mean_97 = eastward_wind_MAM_mean[368:460].reshape(-1,1)\n",
    "eastward_wind_MAM_mean_98_1 = eastward_wind_MAM_mean[467:494].reshape(-1,1)\n",
    "eastward_wind_MAM_mean_98_2 = eastward_wind_MAM_mean[507:552].reshape(-1,1)\n",
    "eastward_wind_MAM_mean_98 = np.concatenate((eastward_wind_MAM_mean_98_1, eastward_wind_MAM_mean_98_2), axis = 0)\n",
    "eastward_wind_MAM_mean_99 = eastward_wind_MAM_mean[552:644].reshape(-1,1)\n",
    "eastward_wind_MAM_mean_00 = eastward_wind_MAM_mean[644:736].reshape(-1,1)\n",
    "eastward_wind_MAM_mean_01 = eastward_wind_MAM_mean[736:828].reshape(-1,1)\n",
    "eastward_wind_MAM_mean_02 = eastward_wind_MAM_mean[828:920].reshape(-1,1)\n",
    "eastward_wind_MAM_mean_03 = eastward_wind_MAM_mean[920:1012].reshape(-1,1)\n",
    "eastward_wind_MAM_mean_04 = eastward_wind_MAM_mean[1012:1104].reshape(-1,1)\n",
    "eastward_wind_MAM_mean_05 = eastward_wind_MAM_mean[1104:1196].reshape(-1,1)\n",
    "eastward_wind_MAM_mean_06 = eastward_wind_MAM_mean[1196:1288].reshape(-1,1)\n",
    "eastward_wind_MAM_mean_07 = eastward_wind_MAM_mean[1288:1380].reshape(-1,1)\n",
    "eastward_wind_MAM_mean_08 = eastward_wind_MAM_mean[1380:1472].reshape(-1,1)\n",
    "eastward_wind_MAM_mean_09 = eastward_wind_MAM_mean[1472:1564].reshape(-1,1)\n",
    "eastward_wind_MAM_mean_10_1 = eastward_wind_MAM_mean[1573:1576].reshape(-1,1)\n",
    "eastward_wind_MAM_mean_10_2 = eastward_wind_MAM_mean[1622:1656].reshape(-1,1)\n",
    "eastward_wind_MAM_mean_10 = np.concatenate((eastward_wind_MAM_mean_10_1, eastward_wind_MAM_mean_10_2), axis = 0)\n",
    "eastward_wind_MAM_mean_11 = eastward_wind_MAM_mean[1656:1748].reshape(-1,1)\n",
    "eastward_wind_MAM_mean_12 = eastward_wind_MAM_mean[1748:1840].reshape(-1,1)\n",
    "eastward_wind_MAM_mean_13 = eastward_wind_MAM_mean[1840:1932].reshape(-1,1)\n",
    "eastward_wind_MAM_mean_14 = eastward_wind_MAM_mean[1932:2024].reshape(-1,1)\n",
    "eastward_wind_MAM_mean_15_1 = eastward_wind_MAM_mean[2024:2049].reshape(-1,1)\n",
    "eastward_wind_MAM_mean_15_2 = eastward_wind_MAM_mean[2064:2079].reshape(-1,1)\n",
    "eastward_wind_MAM_mean_15_3 = eastward_wind_MAM_mean[2089:2093].reshape(-1,1)\n",
    "eastward_wind_MAM_mean_15 = np.concatenate((eastward_wind_MAM_mean_15_1, eastward_wind_MAM_mean_15_2, eastward_wind_MAM_mean_15_3), axis = 0)\n",
    "eastward_wind_MAM_mean_16 = eastward_wind_MAM_mean[2134:2208].reshape(-1,1)\n",
    "eastward_wind_MAM_mean_17_1 = eastward_wind_MAM_mean[2208:2261].reshape(-1,1)\n",
    "eastward_wind_MAM_mean_17_2 = eastward_wind_MAM_mean[2268:2274].reshape(-1,1)\n",
    "eastward_wind_MAM_mean_17_3 = eastward_wind_MAM_mean[2280:2300].reshape(-1,1)\n",
    "eastward_wind_MAM_mean_17 = np.concatenate((eastward_wind_MAM_mean_17_1, eastward_wind_MAM_mean_17_2, eastward_wind_MAM_mean_17_3), axis = 0)\n",
    "eastward_wind_MAM_mean_18 = eastward_wind_MAM_mean[2300:2389].reshape(-1,1)\n",
    "eastward_wind_MAM_mean_19_1 = eastward_wind_MAM_mean[2389:2428].reshape(-1,1)\n",
    "eastward_wind_MAM_mean_19_2 = eastward_wind_MAM_mean[2435:2441].reshape(-1,1)\n",
    "eastward_wind_MAM_mean_19_3 = eastward_wind_MAM_mean[2448:].reshape(-1,1)\n",
    "eastward_wind_MAM_mean_19 = np.concatenate((eastward_wind_MAM_mean_19_1, eastward_wind_MAM_mean_19_2, eastward_wind_MAM_mean_19_3), axis = 0)"
   ]
  },
  {
   "cell_type": "code",
   "execution_count": 39,
   "id": "0484588c",
   "metadata": {},
   "outputs": [],
   "source": [
    "northward_wind_MAM_mean_93 = northward_wind_MAM_mean[:92].reshape(-1,1)\n",
    "northward_wind_MAM_mean_94 = northward_wind_MAM_mean[92:184].reshape(-1,1)\n",
    "northward_wind_MAM_mean_95 = northward_wind_MAM_mean[184:276].reshape(-1,1)\n",
    "northward_wind_MAM_mean_96 = northward_wind_MAM_mean[276:368].reshape(-1,1)\n",
    "northward_wind_MAM_mean_97 = northward_wind_MAM_mean[368:460].reshape(-1,1)\n",
    "northward_wind_MAM_mean_98_1 = northward_wind_MAM_mean[467:494].reshape(-1,1)\n",
    "northward_wind_MAM_mean_98_2 = northward_wind_MAM_mean[507:552].reshape(-1,1)\n",
    "northward_wind_MAM_mean_98 = np.concatenate((northward_wind_MAM_mean_98_1, northward_wind_MAM_mean_98_2), axis = 0)\n",
    "northward_wind_MAM_mean_99 = northward_wind_MAM_mean[552:644].reshape(-1,1)\n",
    "northward_wind_MAM_mean_00 = northward_wind_MAM_mean[644:736].reshape(-1,1)\n",
    "northward_wind_MAM_mean_01 = northward_wind_MAM_mean[736:828].reshape(-1,1)\n",
    "northward_wind_MAM_mean_02 = northward_wind_MAM_mean[828:920].reshape(-1,1)\n",
    "northward_wind_MAM_mean_03 = northward_wind_MAM_mean[920:1012].reshape(-1,1)\n",
    "northward_wind_MAM_mean_04 = northward_wind_MAM_mean[1012:1104].reshape(-1,1)\n",
    "northward_wind_MAM_mean_05 = northward_wind_MAM_mean[1104:1196].reshape(-1,1)\n",
    "northward_wind_MAM_mean_06 = northward_wind_MAM_mean[1196:1288].reshape(-1,1)\n",
    "northward_wind_MAM_mean_07 = northward_wind_MAM_mean[1288:1380].reshape(-1,1)\n",
    "northward_wind_MAM_mean_08 = northward_wind_MAM_mean[1380:1472].reshape(-1,1)\n",
    "northward_wind_MAM_mean_09 = northward_wind_MAM_mean[1472:1564].reshape(-1,1)\n",
    "northward_wind_MAM_mean_10_1 = northward_wind_MAM_mean[1573:1576].reshape(-1,1)\n",
    "northward_wind_MAM_mean_10_2 = northward_wind_MAM_mean[1622:1656].reshape(-1,1)\n",
    "northward_wind_MAM_mean_10 = np.concatenate((northward_wind_MAM_mean_10_1, northward_wind_MAM_mean_10_2), axis = 0)\n",
    "northward_wind_MAM_mean_11 = northward_wind_MAM_mean[1656:1748].reshape(-1,1)\n",
    "northward_wind_MAM_mean_12 = northward_wind_MAM_mean[1748:1840].reshape(-1,1)\n",
    "northward_wind_MAM_mean_13 = northward_wind_MAM_mean[1840:1932].reshape(-1,1)\n",
    "northward_wind_MAM_mean_14 = northward_wind_MAM_mean[1932:2024].reshape(-1,1)\n",
    "northward_wind_MAM_mean_15_1 = northward_wind_MAM_mean[2024:2049].reshape(-1,1)\n",
    "northward_wind_MAM_mean_15_2 = northward_wind_MAM_mean[2064:2079].reshape(-1,1)\n",
    "northward_wind_MAM_mean_15_3 = northward_wind_MAM_mean[2089:2093].reshape(-1,1)\n",
    "northward_wind_MAM_mean_15 = np.concatenate((northward_wind_MAM_mean_15_1, northward_wind_MAM_mean_15_2, northward_wind_MAM_mean_15_3), axis = 0)\n",
    "northward_wind_MAM_mean_16 = northward_wind_MAM_mean[2134:2208].reshape(-1,1)\n",
    "northward_wind_MAM_mean_17_1 = northward_wind_MAM_mean[2208:2261].reshape(-1,1)\n",
    "northward_wind_MAM_mean_17_2 = northward_wind_MAM_mean[2268:2274].reshape(-1,1)\n",
    "northward_wind_MAM_mean_17_3 = northward_wind_MAM_mean[2280:2300].reshape(-1,1)\n",
    "northward_wind_MAM_mean_17 = np.concatenate((northward_wind_MAM_mean_17_1, northward_wind_MAM_mean_17_2, northward_wind_MAM_mean_17_3), axis = 0)\n",
    "northward_wind_MAM_mean_18 = northward_wind_MAM_mean[2300:2389].reshape(-1,1)\n",
    "northward_wind_MAM_mean_19_1 = northward_wind_MAM_mean[2389:2428].reshape(-1,1)\n",
    "northward_wind_MAM_mean_19_2 = northward_wind_MAM_mean[2435:2441].reshape(-1,1)\n",
    "northward_wind_MAM_mean_19_3 = northward_wind_MAM_mean[2448:].reshape(-1,1)\n",
    "northward_wind_MAM_mean_19 = np.concatenate((northward_wind_MAM_mean_19_1, northward_wind_MAM_mean_19_2, northward_wind_MAM_mean_19_3), axis = 0)"
   ]
  },
  {
   "cell_type": "code",
   "execution_count": 40,
   "id": "f40cecea",
   "metadata": {},
   "outputs": [],
   "source": [
    "surface_downward_northward_stress_MAM_93 = surface_downward_northward_stress_MAM[:92]\n",
    "surface_downward_northward_stress_MAM_94 = surface_downward_northward_stress_MAM[92:184]\n",
    "surface_downward_northward_stress_MAM_95 = surface_downward_northward_stress_MAM[184:276]\n",
    "surface_downward_northward_stress_MAM_96 = surface_downward_northward_stress_MAM[276:368]\n",
    "surface_downward_northward_stress_MAM_97 = surface_downward_northward_stress_MAM[368:460]\n",
    "surface_downward_northward_stress_MAM_98_1 = surface_downward_northward_stress_MAM[467:494]\n",
    "surface_downward_northward_stress_MAM_98_2 = surface_downward_northward_stress_MAM[507:552]\n",
    "surface_downward_northward_stress_MAM_98 = np.concatenate((surface_downward_northward_stress_MAM_98_1, surface_downward_northward_stress_MAM_98_2), axis = 0)\n",
    "surface_downward_northward_stress_MAM_99 = surface_downward_northward_stress_MAM[552:644]\n",
    "surface_downward_northward_stress_MAM_00 = surface_downward_northward_stress_MAM[644:736]\n",
    "surface_downward_northward_stress_MAM_01 = surface_downward_northward_stress_MAM[736:828]\n",
    "surface_downward_northward_stress_MAM_02 = surface_downward_northward_stress_MAM[828:920]\n",
    "surface_downward_northward_stress_MAM_03 = surface_downward_northward_stress_MAM[920:1012]\n",
    "surface_downward_northward_stress_MAM_04 = surface_downward_northward_stress_MAM[1012:1104]\n",
    "surface_downward_northward_stress_MAM_05 = surface_downward_northward_stress_MAM[1104:1196]\n",
    "surface_downward_northward_stress_MAM_06 = surface_downward_northward_stress_MAM[1196:1288]\n",
    "surface_downward_northward_stress_MAM_07 = surface_downward_northward_stress_MAM[1288:1380]\n",
    "surface_downward_northward_stress_MAM_08 = surface_downward_northward_stress_MAM[1380:1472]\n",
    "surface_downward_northward_stress_MAM_09 = surface_downward_northward_stress_MAM[1472:1564]\n",
    "surface_downward_northward_stress_MAM_10_1 = surface_downward_northward_stress_MAM[1573:1576]\n",
    "surface_downward_northward_stress_MAM_10_2 = surface_downward_northward_stress_MAM[1622:1656]\n",
    "surface_downward_northward_stress_MAM_10 = np.concatenate((surface_downward_northward_stress_MAM_10_1, surface_downward_northward_stress_MAM_10_2), axis = 0)\n",
    "surface_downward_northward_stress_MAM_11 = surface_downward_northward_stress_MAM[1656:1748]\n",
    "surface_downward_northward_stress_MAM_12 = surface_downward_northward_stress_MAM[1748:1840]\n",
    "surface_downward_northward_stress_MAM_13 = surface_downward_northward_stress_MAM[1840:1932]\n",
    "surface_downward_northward_stress_MAM_14 = surface_downward_northward_stress_MAM[1932:2024]\n",
    "surface_downward_northward_stress_MAM_15_1 = surface_downward_northward_stress_MAM[2024:2049]\n",
    "surface_downward_northward_stress_MAM_15_2 = surface_downward_northward_stress_MAM[2064:2079]\n",
    "surface_downward_northward_stress_MAM_15_3 = surface_downward_northward_stress_MAM[2089:2093]\n",
    "surface_downward_northward_stress_MAM_15 = np.concatenate((surface_downward_northward_stress_MAM_15_1, surface_downward_northward_stress_MAM_15_2, surface_downward_northward_stress_MAM_15_3), axis = 0)\n",
    "surface_downward_northward_stress_MAM_16 = surface_downward_northward_stress_MAM[2134:2208]\n",
    "surface_downward_northward_stress_MAM_17_1 = surface_downward_northward_stress_MAM[2208:2261]\n",
    "surface_downward_northward_stress_MAM_17_2 = surface_downward_northward_stress_MAM[2268:2274]\n",
    "surface_downward_northward_stress_MAM_17_3 = surface_downward_northward_stress_MAM[2280:2300]\n",
    "surface_downward_northward_stress_MAM_17 = np.concatenate((surface_downward_northward_stress_MAM_17_1, surface_downward_northward_stress_MAM_17_2, surface_downward_northward_stress_MAM_17_3), axis = 0)\n",
    "surface_downward_northward_stress_MAM_18 = surface_downward_northward_stress_MAM[2300:2389]\n",
    "surface_downward_northward_stress_MAM_19_1 = surface_downward_northward_stress_MAM[2389:2428]\n",
    "surface_downward_northward_stress_MAM_19_2 = surface_downward_northward_stress_MAM[2435:2441]\n",
    "surface_downward_northward_stress_MAM_19_3 = surface_downward_northward_stress_MAM[2448:]\n",
    "surface_downward_northward_stress_MAM_19 = np.concatenate((surface_downward_northward_stress_MAM_19_1, surface_downward_northward_stress_MAM_19_2, surface_downward_northward_stress_MAM_19_3), axis = 0)"
   ]
  },
  {
   "cell_type": "code",
   "execution_count": 41,
   "id": "6bf3d671",
   "metadata": {},
   "outputs": [],
   "source": [
    "surface_downward_eastward_stress_MAM_93 = surface_downward_eastward_stress_MAM[:92]\n",
    "surface_downward_eastward_stress_MAM_94 = surface_downward_eastward_stress_MAM[92:184]\n",
    "surface_downward_eastward_stress_MAM_95 = surface_downward_eastward_stress_MAM[184:276]\n",
    "surface_downward_eastward_stress_MAM_96 = surface_downward_eastward_stress_MAM[276:368]\n",
    "surface_downward_eastward_stress_MAM_97 = surface_downward_eastward_stress_MAM[368:460]\n",
    "surface_downward_eastward_stress_MAM_98_1 = surface_downward_eastward_stress_MAM[467:494]\n",
    "surface_downward_eastward_stress_MAM_98_2 = surface_downward_eastward_stress_MAM[507:552]\n",
    "surface_downward_eastward_stress_MAM_98 = np.concatenate((surface_downward_eastward_stress_MAM_98_1, surface_downward_eastward_stress_MAM_98_2), axis = 0)\n",
    "surface_downward_eastward_stress_MAM_99 = surface_downward_eastward_stress_MAM[552:644]\n",
    "surface_downward_eastward_stress_MAM_00 = surface_downward_eastward_stress_MAM[644:736]\n",
    "surface_downward_eastward_stress_MAM_01 = surface_downward_eastward_stress_MAM[736:828]\n",
    "surface_downward_eastward_stress_MAM_02 = surface_downward_eastward_stress_MAM[828:920]\n",
    "surface_downward_eastward_stress_MAM_03 = surface_downward_eastward_stress_MAM[920:1012]\n",
    "surface_downward_eastward_stress_MAM_04 = surface_downward_eastward_stress_MAM[1012:1104]\n",
    "surface_downward_eastward_stress_MAM_05 = surface_downward_eastward_stress_MAM[1104:1196]\n",
    "surface_downward_eastward_stress_MAM_06 = surface_downward_eastward_stress_MAM[1196:1288]\n",
    "surface_downward_eastward_stress_MAM_07 = surface_downward_eastward_stress_MAM[1288:1380]\n",
    "surface_downward_eastward_stress_MAM_08 = surface_downward_eastward_stress_MAM[1380:1472]\n",
    "surface_downward_eastward_stress_MAM_09 = surface_downward_eastward_stress_MAM[1472:1564]\n",
    "surface_downward_eastward_stress_MAM_10_1 = surface_downward_eastward_stress_MAM[1573:1576]\n",
    "surface_downward_eastward_stress_MAM_10_2 = surface_downward_eastward_stress_MAM[1622:1656]\n",
    "surface_downward_eastward_stress_MAM_10 = np.concatenate((surface_downward_eastward_stress_MAM_10_1, surface_downward_eastward_stress_MAM_10_2), axis = 0)\n",
    "surface_downward_eastward_stress_MAM_11 = surface_downward_eastward_stress_MAM[1656:1748]\n",
    "surface_downward_eastward_stress_MAM_12 = surface_downward_eastward_stress_MAM[1748:1840]\n",
    "surface_downward_eastward_stress_MAM_13 = surface_downward_eastward_stress_MAM[1840:1932]\n",
    "surface_downward_eastward_stress_MAM_14 = surface_downward_eastward_stress_MAM[1932:2024]\n",
    "surface_downward_eastward_stress_MAM_15_1 = surface_downward_eastward_stress_MAM[2024:2049]\n",
    "surface_downward_eastward_stress_MAM_15_2 = surface_downward_eastward_stress_MAM[2064:2079]\n",
    "surface_downward_eastward_stress_MAM_15_3 = surface_downward_eastward_stress_MAM[2089:2093]\n",
    "surface_downward_eastward_stress_MAM_15 = np.concatenate((surface_downward_eastward_stress_MAM_15_1, surface_downward_eastward_stress_MAM_15_2, surface_downward_eastward_stress_MAM_15_3), axis = 0)\n",
    "surface_downward_eastward_stress_MAM_16 = surface_downward_eastward_stress_MAM[2134:2208]\n",
    "surface_downward_eastward_stress_MAM_17_1 = surface_downward_eastward_stress_MAM[2208:2261]\n",
    "surface_downward_eastward_stress_MAM_17_2 = surface_downward_eastward_stress_MAM[2268:2274]\n",
    "surface_downward_eastward_stress_MAM_17_3 = surface_downward_eastward_stress_MAM[2280:2300]\n",
    "surface_downward_eastward_stress_MAM_17 = np.concatenate((surface_downward_eastward_stress_MAM_17_1, surface_downward_eastward_stress_MAM_17_2, surface_downward_eastward_stress_MAM_17_3), axis = 0)\n",
    "surface_downward_eastward_stress_MAM_18 = surface_downward_eastward_stress_MAM[2300:2389]\n",
    "surface_downward_eastward_stress_MAM_19_1 = surface_downward_eastward_stress_MAM[2389:2428]\n",
    "surface_downward_eastward_stress_MAM_19_2 = surface_downward_eastward_stress_MAM[2435:2441]\n",
    "surface_downward_eastward_stress_MAM_19_3 = surface_downward_eastward_stress_MAM[2448:]\n",
    "surface_downward_eastward_stress_MAM_19 = np.concatenate((surface_downward_eastward_stress_MAM_19_1, surface_downward_eastward_stress_MAM_19_2, surface_downward_eastward_stress_MAM_19_3), axis = 0)"
   ]
  },
  {
   "cell_type": "code",
   "execution_count": null,
   "id": "8c2c8931",
   "metadata": {},
   "outputs": [],
   "source": []
  },
  {
   "cell_type": "code",
   "execution_count": 42,
   "id": "a6dc351a",
   "metadata": {},
   "outputs": [],
   "source": [
    "northward_wind_DJF_mean = np.mean((northward_wind_DJF), axis = (1,2))\n",
    "eastward_wind_DJF_mean = np.mean((eastward_wind_DJF), axis = (1,2))"
   ]
  },
  {
   "cell_type": "code",
   "execution_count": 43,
   "id": "d4ecf22d",
   "metadata": {},
   "outputs": [],
   "source": [
    "eastward_wind_DJF_mean_93 = eastward_wind_DJF_mean[:59].reshape(-1,1)\n",
    "eastward_wind_DJF_mean_94 = eastward_wind_DJF_mean[59:149].reshape(-1,1)\n",
    "eastward_wind_DJF_mean_95 = eastward_wind_DJF_mean[149:239].reshape(-1,1)\n",
    "eastward_wind_DJF_mean_96 = eastward_wind_DJF_mean[239:330].reshape(-1,1)\n",
    "eastward_wind_DJF_mean_97 = eastward_wind_DJF_mean[330:420].reshape(-1,1)\n",
    "eastward_wind_DJF_mean_98_1 = eastward_wind_DJF_mean[420:444].reshape(-1,1)\n",
    "eastward_wind_DJF_mean_98_2 = eastward_wind_DJF_mean[459:466].reshape(-1,1)\n",
    "eastward_wind_DJF_mean_98_3 = eastward_wind_DJF_mean[490:497].reshape(-1,1)\n",
    "eastward_wind_DJF_mean_98 = np.concatenate((eastward_wind_DJF_mean_98_1, eastward_wind_DJF_mean_98_2, eastward_wind_DJF_mean_98_3), axis = 0)\n",
    "eastward_wind_DJF_mean_99 = eastward_wind_DJF_mean[510:600].reshape(-1,1)\n",
    "eastward_wind_DJF_mean_00 = eastward_wind_DJF_mean[600:691].reshape(-1,1)\n",
    "eastward_wind_DJF_mean_01 = eastward_wind_DJF_mean[691:781].reshape(-1,1)\n",
    "eastward_wind_DJF_mean_02 = eastward_wind_DJF_mean[781:871].reshape(-1,1)\n",
    "eastward_wind_DJF_mean_03 = eastward_wind_DJF_mean[871:961].reshape(-1,1)\n",
    "eastward_wind_DJF_mean_04 = eastward_wind_DJF_mean[961:1052].reshape(-1,1)\n",
    "eastward_wind_DJF_mean_05 = eastward_wind_DJF_mean[1052:1142].reshape(-1,1)\n",
    "eastward_wind_DJF_mean_06 = eastward_wind_DJF_mean[1142:1232].reshape(-1,1)\n",
    "eastward_wind_DJF_mean_07_1 = eastward_wind_DJF_mean[1232:1284].reshape(-1,1)\n",
    "eastward_wind_DJF_mean_07_2 = eastward_wind_DJF_mean[1289:1322].reshape(-1,1)\n",
    "eastward_wind_DJF_mean_07 = np.concatenate((eastward_wind_DJF_mean_07_1, eastward_wind_DJF_mean_07_2), axis = 0)\n",
    "eastward_wind_DJF_mean_08 = eastward_wind_DJF_mean[1322:1413].reshape(-1,1)\n",
    "eastward_wind_DJF_mean_09 = eastward_wind_DJF_mean[1413:1503].reshape(-1,1)\n",
    "eastward_wind_DJF_mean_10_1 = eastward_wind_DJF_mean[1413:1417].reshape(-1,1)\n",
    "eastward_wind_DJF_mean_10_2 = eastward_wind_DJF_mean[1433:1457].reshape(-1,1)\n",
    "eastward_wind_DJF_mean_10_3 = eastward_wind_DJF_mean[1480:1487].reshape(-1,1)\n",
    "eastward_wind_DJF_mean_10 = np.concatenate((eastward_wind_DJF_mean_10_1, eastward_wind_DJF_mean_10_2, eastward_wind_DJF_mean_10_3), axis = 0)\n",
    "eastward_wind_DJF_mean_11 = eastward_wind_DJF_mean[1594:1684].reshape(-1,1)\n",
    "eastward_wind_DJF_mean_12 = eastward_wind_DJF_mean[1684:1774].reshape(-1,1)\n",
    "eastward_wind_DJF_mean_13_1 = eastward_wind_DJF_mean[1774:1784].reshape(-1,1)\n",
    "eastward_wind_DJF_mean_13_2 = eastward_wind_DJF_mean[1794:1812].reshape(-1,1)\n",
    "eastward_wind_DJF_mean_13_3 = eastward_wind_DJF_mean[1820:1864].reshape(-1,1)\n",
    "eastward_wind_DJF_mean_13 = np.concatenate((eastward_wind_DJF_mean_13_1, eastward_wind_DJF_mean_13_2, eastward_wind_DJF_mean_13_3), axis = 0)\n",
    "eastward_wind_DJF_mean_14 = eastward_wind_DJF_mean[1864:1955].reshape(-1,1)\n",
    "eastward_wind_DJF_mean_15 = eastward_wind_DJF_mean[1958:2045].reshape(-1,1)\n",
    "eastward_wind_DJF_mean_17 = eastward_wind_DJF_mean[2135:2225].reshape(-1,1)\n",
    "eastward_wind_DJF_mean_18 = eastward_wind_DJF_mean[2225:2315].reshape(-1,1)\n",
    "eastward_wind_DJF_mean_19_1 = eastward_wind_DJF_mean[2325:2363].reshape(-1,1)\n",
    "eastward_wind_DJF_mean_19_2 = eastward_wind_DJF_mean[2369:2393].reshape(-1,1)\n",
    "eastward_wind_DJF_mean_19_3 = eastward_wind_DJF_mean[2398:].reshape(-1,1)\n",
    "eastward_wind_DJF_mean_19 = np.concatenate((eastward_wind_DJF_mean_19_1, eastward_wind_DJF_mean_19_2, eastward_wind_DJF_mean_19_3), axis = 0)\n"
   ]
  },
  {
   "cell_type": "code",
   "execution_count": 44,
   "id": "a8e86a88",
   "metadata": {},
   "outputs": [],
   "source": [
    "northward_wind_DJF_mean_93 = northward_wind_DJF_mean[:59].reshape(-1,1)\n",
    "northward_wind_DJF_mean_94 = northward_wind_DJF_mean[59:149].reshape(-1,1)\n",
    "northward_wind_DJF_mean_95 = northward_wind_DJF_mean[149:239].reshape(-1,1)\n",
    "northward_wind_DJF_mean_96 = northward_wind_DJF_mean[239:330].reshape(-1,1)\n",
    "northward_wind_DJF_mean_97 = northward_wind_DJF_mean[330:420].reshape(-1,1)\n",
    "northward_wind_DJF_mean_98_1 = northward_wind_DJF_mean[420:444].reshape(-1,1)\n",
    "northward_wind_DJF_mean_98_2 = northward_wind_DJF_mean[459:466].reshape(-1,1)\n",
    "northward_wind_DJF_mean_98_3 = northward_wind_DJF_mean[490:497].reshape(-1,1)\n",
    "northward_wind_DJF_mean_98 = np.concatenate((northward_wind_DJF_mean_98_1, northward_wind_DJF_mean_98_2, northward_wind_DJF_mean_98_3), axis = 0)\n",
    "northward_wind_DJF_mean_99 = northward_wind_DJF_mean[510:600].reshape(-1,1)\n",
    "northward_wind_DJF_mean_00 = northward_wind_DJF_mean[600:691].reshape(-1,1)\n",
    "northward_wind_DJF_mean_01 = northward_wind_DJF_mean[691:781].reshape(-1,1)\n",
    "northward_wind_DJF_mean_02 = northward_wind_DJF_mean[781:871].reshape(-1,1)\n",
    "northward_wind_DJF_mean_03 = northward_wind_DJF_mean[871:961].reshape(-1,1)\n",
    "northward_wind_DJF_mean_04 = northward_wind_DJF_mean[961:1052].reshape(-1,1)\n",
    "northward_wind_DJF_mean_05 = northward_wind_DJF_mean[1052:1142].reshape(-1,1)\n",
    "northward_wind_DJF_mean_06 = northward_wind_DJF_mean[1142:1232].reshape(-1,1)\n",
    "northward_wind_DJF_mean_07_1 = northward_wind_DJF_mean[1232:1284].reshape(-1,1)\n",
    "northward_wind_DJF_mean_07_2 = northward_wind_DJF_mean[1289:1322].reshape(-1,1)\n",
    "northward_wind_DJF_mean_07 = np.concatenate((northward_wind_DJF_mean_07_1, northward_wind_DJF_mean_07_2), axis = 0)\n",
    "northward_wind_DJF_mean_08 = northward_wind_DJF_mean[1322:1413].reshape(-1,1)\n",
    "northward_wind_DJF_mean_09 = northward_wind_DJF_mean[1413:1503].reshape(-1,1)\n",
    "northward_wind_DJF_mean_10_1 = northward_wind_DJF_mean[1413:1417].reshape(-1,1)\n",
    "northward_wind_DJF_mean_10_2 = northward_wind_DJF_mean[1433:1457].reshape(-1,1)\n",
    "northward_wind_DJF_mean_10_3 = northward_wind_DJF_mean[1480:1487].reshape(-1,1)\n",
    "northward_wind_DJF_mean_10 = np.concatenate((northward_wind_DJF_mean_10_1, northward_wind_DJF_mean_10_2, northward_wind_DJF_mean_10_3), axis = 0)\n",
    "northward_wind_DJF_mean_11 = northward_wind_DJF_mean[1594:1684].reshape(-1,1)\n",
    "northward_wind_DJF_mean_12 = northward_wind_DJF_mean[1684:1774].reshape(-1,1)\n",
    "northward_wind_DJF_mean_13_1 = northward_wind_DJF_mean[1774:1784].reshape(-1,1)\n",
    "northward_wind_DJF_mean_13_2 = northward_wind_DJF_mean[1794:1812].reshape(-1,1)\n",
    "northward_wind_DJF_mean_13_3 = northward_wind_DJF_mean[1820:1864].reshape(-1,1)\n",
    "northward_wind_DJF_mean_13 = np.concatenate((northward_wind_DJF_mean_13_1, northward_wind_DJF_mean_13_2, northward_wind_DJF_mean_13_3), axis = 0)\n",
    "northward_wind_DJF_mean_14 = northward_wind_DJF_mean[1864:1955].reshape(-1,1)\n",
    "northward_wind_DJF_mean_15 = northward_wind_DJF_mean[1958:2045].reshape(-1,1)\n",
    "northward_wind_DJF_mean_17 = northward_wind_DJF_mean[2135:2225].reshape(-1,1)\n",
    "northward_wind_DJF_mean_18 = northward_wind_DJF_mean[2225:2315].reshape(-1,1)\n",
    "northward_wind_DJF_mean_19_1 = northward_wind_DJF_mean[2325:2363].reshape(-1,1)\n",
    "northward_wind_DJF_mean_19_2 = northward_wind_DJF_mean[2369:2393].reshape(-1,1)\n",
    "northward_wind_DJF_mean_19_3 = northward_wind_DJF_mean[2398:].reshape(-1,1)\n",
    "northward_wind_DJF_mean_19 = np.concatenate((northward_wind_DJF_mean_19_1, northward_wind_DJF_mean_19_2, northward_wind_DJF_mean_19_3), axis = 0)\n"
   ]
  },
  {
   "cell_type": "code",
   "execution_count": 45,
   "id": "58bbe9b1",
   "metadata": {},
   "outputs": [],
   "source": [
    "surface_downward_eastward_stress_DJF_93 = surface_downward_eastward_stress_DJF[:59]\n",
    "surface_downward_eastward_stress_DJF_94 = surface_downward_eastward_stress_DJF[59:149]\n",
    "surface_downward_eastward_stress_DJF_95 = surface_downward_eastward_stress_DJF[149:239]\n",
    "surface_downward_eastward_stress_DJF_96 = surface_downward_eastward_stress_DJF[239:330]\n",
    "surface_downward_eastward_stress_DJF_97 = surface_downward_eastward_stress_DJF[330:420]\n",
    "surface_downward_eastward_stress_DJF_98_1 = surface_downward_eastward_stress_DJF[420:444]\n",
    "surface_downward_eastward_stress_DJF_98_2 = surface_downward_eastward_stress_DJF[459:466]\n",
    "surface_downward_eastward_stress_DJF_98_3 = surface_downward_eastward_stress_DJF[490:497]\n",
    "surface_downward_eastward_stress_DJF_98 = np.concatenate((surface_downward_eastward_stress_DJF_98_1, surface_downward_eastward_stress_DJF_98_2, surface_downward_eastward_stress_DJF_98_3), axis = 0)\n",
    "surface_downward_eastward_stress_DJF_99 = surface_downward_eastward_stress_DJF[510:600]\n",
    "surface_downward_eastward_stress_DJF_00 = surface_downward_eastward_stress_DJF[600:691]\n",
    "surface_downward_eastward_stress_DJF_01 = surface_downward_eastward_stress_DJF[691:781]\n",
    "surface_downward_eastward_stress_DJF_02 = surface_downward_eastward_stress_DJF[781:871]\n",
    "surface_downward_eastward_stress_DJF_03 = surface_downward_eastward_stress_DJF[871:961]\n",
    "surface_downward_eastward_stress_DJF_04 = surface_downward_eastward_stress_DJF[961:1052]\n",
    "surface_downward_eastward_stress_DJF_05 = surface_downward_eastward_stress_DJF[1052:1142]\n",
    "surface_downward_eastward_stress_DJF_06 = surface_downward_eastward_stress_DJF[1142:1232]\n",
    "surface_downward_eastward_stress_DJF_07_1 = surface_downward_eastward_stress_DJF[1232:1284]\n",
    "surface_downward_eastward_stress_DJF_07_2 = surface_downward_eastward_stress_DJF[1289:1322]\n",
    "surface_downward_eastward_stress_DJF_07 = np.concatenate((surface_downward_eastward_stress_DJF_07_1, surface_downward_eastward_stress_DJF_07_2), axis = 0)\n",
    "surface_downward_eastward_stress_DJF_08 = surface_downward_eastward_stress_DJF[1322:1413]\n",
    "surface_downward_eastward_stress_DJF_09 = surface_downward_eastward_stress_DJF[1413:1503]\n",
    "surface_downward_eastward_stress_DJF_10_1 = surface_downward_eastward_stress_DJF[1413:1417]\n",
    "surface_downward_eastward_stress_DJF_10_2 = surface_downward_eastward_stress_DJF[1433:1457]\n",
    "surface_downward_eastward_stress_DJF_10_3 = surface_downward_eastward_stress_DJF[1480:1487]\n",
    "surface_downward_eastward_stress_DJF_10 = np.concatenate((surface_downward_eastward_stress_DJF_10_1, surface_downward_eastward_stress_DJF_10_2, surface_downward_eastward_stress_DJF_10_3), axis = 0)\n",
    "surface_downward_eastward_stress_DJF_11 = surface_downward_eastward_stress_DJF[1594:1684]\n",
    "surface_downward_eastward_stress_DJF_12 = surface_downward_eastward_stress_DJF[1684:1774]\n",
    "surface_downward_eastward_stress_DJF_13_1 = surface_downward_eastward_stress_DJF[1774:1784]\n",
    "surface_downward_eastward_stress_DJF_13_2 = surface_downward_eastward_stress_DJF[1794:1812]\n",
    "surface_downward_eastward_stress_DJF_13_3 = surface_downward_eastward_stress_DJF[1820:1864]\n",
    "surface_downward_eastward_stress_DJF_13 = np.concatenate((surface_downward_eastward_stress_DJF_13_1, surface_downward_eastward_stress_DJF_13_2, surface_downward_eastward_stress_DJF_13_3), axis = 0)\n",
    "surface_downward_eastward_stress_DJF_14 = surface_downward_eastward_stress_DJF[1864:1955]\n",
    "surface_downward_eastward_stress_DJF_15 = surface_downward_eastward_stress_DJF[1958:2045]\n",
    "surface_downward_eastward_stress_DJF_17 = surface_downward_eastward_stress_DJF[2135:2225]\n",
    "surface_downward_eastward_stress_DJF_18 = surface_downward_eastward_stress_DJF[2225:2315]\n",
    "surface_downward_eastward_stress_DJF_19_1 = surface_downward_eastward_stress_DJF[2325:2363]\n",
    "surface_downward_eastward_stress_DJF_19_2 = surface_downward_eastward_stress_DJF[2369:2393]\n",
    "surface_downward_eastward_stress_DJF_19_3 = surface_downward_eastward_stress_DJF[2398:]\n",
    "surface_downward_eastward_stress_DJF_19 = np.concatenate((surface_downward_eastward_stress_DJF_19_1, surface_downward_eastward_stress_DJF_19_2, surface_downward_eastward_stress_DJF_19_3), axis = 0)\n"
   ]
  },
  {
   "cell_type": "code",
   "execution_count": 46,
   "id": "ccc9f211",
   "metadata": {},
   "outputs": [],
   "source": [
    "surface_downward_northward_stress_DJF_93 = surface_downward_northward_stress_DJF[:59]\n",
    "surface_downward_northward_stress_DJF_94 = surface_downward_northward_stress_DJF[59:149]\n",
    "surface_downward_northward_stress_DJF_95 = surface_downward_northward_stress_DJF[149:239]\n",
    "surface_downward_northward_stress_DJF_96 = surface_downward_northward_stress_DJF[239:330]\n",
    "surface_downward_northward_stress_DJF_97 = surface_downward_northward_stress_DJF[330:420]\n",
    "surface_downward_northward_stress_DJF_98_1 = surface_downward_northward_stress_DJF[420:444]\n",
    "surface_downward_northward_stress_DJF_98_2 = surface_downward_northward_stress_DJF[459:466]\n",
    "surface_downward_northward_stress_DJF_98_3 = surface_downward_northward_stress_DJF[490:497]\n",
    "surface_downward_northward_stress_DJF_98 = np.concatenate((surface_downward_northward_stress_DJF_98_1, surface_downward_northward_stress_DJF_98_2, surface_downward_northward_stress_DJF_98_3), axis = 0)\n",
    "surface_downward_northward_stress_DJF_99 = surface_downward_northward_stress_DJF[510:600]\n",
    "surface_downward_northward_stress_DJF_00 = surface_downward_northward_stress_DJF[600:691]\n",
    "surface_downward_northward_stress_DJF_01 = surface_downward_northward_stress_DJF[691:781]\n",
    "surface_downward_northward_stress_DJF_02 = surface_downward_northward_stress_DJF[781:871]\n",
    "surface_downward_northward_stress_DJF_03 = surface_downward_northward_stress_DJF[871:961]\n",
    "surface_downward_northward_stress_DJF_04 = surface_downward_northward_stress_DJF[961:1052]\n",
    "surface_downward_northward_stress_DJF_05 = surface_downward_northward_stress_DJF[1052:1142]\n",
    "surface_downward_northward_stress_DJF_06 = surface_downward_northward_stress_DJF[1142:1232]\n",
    "surface_downward_northward_stress_DJF_07_1 = surface_downward_northward_stress_DJF[1232:1284]\n",
    "surface_downward_northward_stress_DJF_07_2 = surface_downward_northward_stress_DJF[1289:1322]\n",
    "surface_downward_northward_stress_DJF_07 = np.concatenate((surface_downward_northward_stress_DJF_07_1, surface_downward_northward_stress_DJF_07_2), axis = 0)\n",
    "surface_downward_northward_stress_DJF_08 = surface_downward_northward_stress_DJF[1322:1413]\n",
    "surface_downward_northward_stress_DJF_09 = surface_downward_northward_stress_DJF[1413:1503]\n",
    "surface_downward_northward_stress_DJF_10_1 = surface_downward_northward_stress_DJF[1413:1417]\n",
    "surface_downward_northward_stress_DJF_10_2 = surface_downward_northward_stress_DJF[1433:1457]\n",
    "surface_downward_northward_stress_DJF_10_3 = surface_downward_northward_stress_DJF[1480:1487]\n",
    "surface_downward_northward_stress_DJF_10 = np.concatenate((surface_downward_northward_stress_DJF_10_1, surface_downward_northward_stress_DJF_10_2, surface_downward_eastward_stress_DJF_10_3), axis = 0)\n",
    "surface_downward_northward_stress_DJF_11 = surface_downward_northward_stress_DJF[1594:1684]\n",
    "surface_downward_northward_stress_DJF_12 = surface_downward_northward_stress_DJF[1684:1774]\n",
    "surface_downward_northward_stress_DJF_13_1 = surface_downward_northward_stress_DJF[1774:1784]\n",
    "surface_downward_northward_stress_DJF_13_2 = surface_downward_northward_stress_DJF[1794:1812]\n",
    "surface_downward_northward_stress_DJF_13_3 = surface_downward_northward_stress_DJF[1820:1864]\n",
    "surface_downward_northward_stress_DJF_13 = np.concatenate((surface_downward_northward_stress_DJF_13_1, surface_downward_northward_stress_DJF_13_2, surface_downward_northward_stress_DJF_13_3), axis = 0)\n",
    "surface_downward_northward_stress_DJF_14 = surface_downward_northward_stress_DJF[1864:1955]\n",
    "surface_downward_northward_stress_DJF_15 = surface_downward_northward_stress_DJF[1958:2045]\n",
    "surface_downward_northward_stress_DJF_17 = surface_downward_northward_stress_DJF[2135:2225]\n",
    "surface_downward_northward_stress_DJF_18 = surface_downward_northward_stress_DJF[2225:2315]\n",
    "surface_downward_northward_stress_DJF_19_1 = surface_downward_northward_stress_DJF[2325:2363]\n",
    "surface_downward_northward_stress_DJF_19_2 = surface_downward_northward_stress_DJF[2369:2393]\n",
    "surface_downward_northward_stress_DJF_19_3 = surface_downward_northward_stress_DJF[2398:]\n",
    "surface_downward_northward_stress_DJF_19 = np.concatenate((surface_downward_northward_stress_DJF_19_1, surface_downward_northward_stress_DJF_19_2, surface_downward_northward_stress_DJF_19_3), axis = 0)\n"
   ]
  },
  {
   "cell_type": "code",
   "execution_count": null,
   "id": "84bc55fb",
   "metadata": {},
   "outputs": [],
   "source": []
  },
  {
   "cell_type": "code",
   "execution_count": null,
   "id": "ebfcb305",
   "metadata": {},
   "outputs": [],
   "source": []
  },
  {
   "cell_type": "code",
   "execution_count": null,
   "id": "e8699ed5",
   "metadata": {},
   "outputs": [],
   "source": []
  },
  {
   "cell_type": "code",
   "execution_count": 47,
   "id": "7a295e23",
   "metadata": {},
   "outputs": [],
   "source": [
    "eastward_wind_DJF_mean_93_19_without_MHW = np.concatenate((eastward_wind_DJF_mean_93, eastward_wind_DJF_mean_94,\n",
    "                                              eastward_wind_DJF_mean_95, eastward_wind_DJF_mean_96,\n",
    "                                              eastward_wind_DJF_mean_97, eastward_wind_DJF_mean_98,\n",
    "                                              eastward_wind_DJF_mean_99, eastward_wind_DJF_mean_00,\n",
    "                                              eastward_wind_DJF_mean_01, eastward_wind_DJF_mean_02,\n",
    "                                              eastward_wind_DJF_mean_03, eastward_wind_DJF_mean_04,\n",
    "                                              eastward_wind_DJF_mean_05, eastward_wind_DJF_mean_06,\n",
    "                                              eastward_wind_DJF_mean_07, eastward_wind_DJF_mean_08,\n",
    "                                              eastward_wind_DJF_mean_09, eastward_wind_DJF_mean_10,\n",
    "                                              eastward_wind_DJF_mean_11, eastward_wind_DJF_mean_12,\n",
    "                                              eastward_wind_DJF_mean_13, eastward_wind_DJF_mean_14,\n",
    "                                              eastward_wind_DJF_mean_15,\n",
    "                                              eastward_wind_DJF_mean_17, eastward_wind_DJF_mean_18,eastward_wind_DJF_mean_19), axis = 0)"
   ]
  },
  {
   "cell_type": "code",
   "execution_count": 48,
   "id": "79795701",
   "metadata": {},
   "outputs": [],
   "source": [
    "northward_wind_DJF_mean_93_19_without_MHW = np.concatenate((northward_wind_DJF_mean_93, northward_wind_DJF_mean_94,\n",
    "                                              northward_wind_DJF_mean_95, northward_wind_DJF_mean_96,\n",
    "                                              northward_wind_DJF_mean_97, northward_wind_DJF_mean_98,\n",
    "                                              northward_wind_DJF_mean_99, northward_wind_DJF_mean_00,\n",
    "                                              northward_wind_DJF_mean_01, northward_wind_DJF_mean_02,\n",
    "                                              northward_wind_DJF_mean_03, northward_wind_DJF_mean_04,\n",
    "                                              northward_wind_DJF_mean_05, northward_wind_DJF_mean_06,\n",
    "                                              northward_wind_DJF_mean_07, northward_wind_DJF_mean_08,\n",
    "                                              northward_wind_DJF_mean_09, northward_wind_DJF_mean_10,\n",
    "                                              northward_wind_DJF_mean_11, northward_wind_DJF_mean_12,\n",
    "                                              northward_wind_DJF_mean_13, northward_wind_DJF_mean_14,\n",
    "                                              northward_wind_DJF_mean_15, \n",
    "                                              northward_wind_DJF_mean_17, northward_wind_DJF_mean_18,northward_wind_DJF_mean_19), axis = 0)"
   ]
  },
  {
   "cell_type": "code",
   "execution_count": 49,
   "id": "53cc5860",
   "metadata": {},
   "outputs": [],
   "source": [
    "surface_downward_eastward_stress_DJF_93_19_without_MHW = np.concatenate((\n",
    "surface_downward_eastward_stress_DJF_93, surface_downward_eastward_stress_DJF_94,\n",
    "surface_downward_eastward_stress_DJF_95, surface_downward_eastward_stress_DJF_96,\n",
    "surface_downward_eastward_stress_DJF_97, surface_downward_eastward_stress_DJF_98,\n",
    "surface_downward_eastward_stress_DJF_99, surface_downward_eastward_stress_DJF_00,\n",
    "surface_downward_eastward_stress_DJF_01, surface_downward_eastward_stress_DJF_02,\n",
    "surface_downward_eastward_stress_DJF_03, surface_downward_eastward_stress_DJF_04,\n",
    "surface_downward_eastward_stress_DJF_05, surface_downward_eastward_stress_DJF_06,\n",
    "surface_downward_eastward_stress_DJF_07, surface_downward_eastward_stress_DJF_08,\n",
    "surface_downward_eastward_stress_DJF_09, surface_downward_eastward_stress_DJF_10,\n",
    "surface_downward_eastward_stress_DJF_11, surface_downward_eastward_stress_DJF_12,\n",
    "surface_downward_eastward_stress_DJF_13, surface_downward_eastward_stress_DJF_14,\n",
    "surface_downward_eastward_stress_DJF_15, surface_downward_eastward_stress_DJF_17,\n",
    "surface_downward_eastward_stress_DJF_18, surface_downward_eastward_stress_DJF_19), axis = 0)"
   ]
  },
  {
   "cell_type": "code",
   "execution_count": 50,
   "id": "314b0c66",
   "metadata": {},
   "outputs": [],
   "source": [
    "surface_downward_northward_stress_DJF_93_19_without_MHW = np.concatenate((\n",
    "surface_downward_northward_stress_DJF_93, surface_downward_northward_stress_DJF_94,\n",
    "surface_downward_northward_stress_DJF_95, surface_downward_northward_stress_DJF_96,\n",
    "surface_downward_northward_stress_DJF_97, surface_downward_northward_stress_DJF_98, \n",
    "surface_downward_northward_stress_DJF_99, surface_downward_northward_stress_DJF_00,\n",
    "surface_downward_northward_stress_DJF_01, surface_downward_northward_stress_DJF_02,\n",
    "surface_downward_northward_stress_DJF_03, surface_downward_northward_stress_DJF_04,\n",
    "surface_downward_northward_stress_DJF_05, surface_downward_northward_stress_DJF_06,\n",
    "surface_downward_northward_stress_DJF_07, surface_downward_northward_stress_DJF_08,\n",
    "surface_downward_northward_stress_DJF_09, surface_downward_northward_stress_DJF_10,\n",
    "surface_downward_northward_stress_DJF_11, surface_downward_northward_stress_DJF_12,\n",
    "surface_downward_northward_stress_DJF_13, surface_downward_northward_stress_DJF_14,\n",
    "surface_downward_northward_stress_DJF_15, surface_downward_northward_stress_DJF_17,\n",
    "surface_downward_northward_stress_DJF_18, surface_downward_northward_stress_DJF_19), axis = 0)"
   ]
  },
  {
   "cell_type": "code",
   "execution_count": 51,
   "id": "21dda1d0",
   "metadata": {},
   "outputs": [],
   "source": [
    "eastward_wind_MAM_mean_93_19_without_MHW = np.concatenate((eastward_wind_MAM_mean_93, eastward_wind_MAM_mean_94,\n",
    "                                              eastward_wind_MAM_mean_95, eastward_wind_MAM_mean_96,\n",
    "                                              eastward_wind_MAM_mean_97, eastward_wind_MAM_mean_98,\n",
    "                                              eastward_wind_MAM_mean_99, eastward_wind_MAM_mean_00,\n",
    "                                              eastward_wind_MAM_mean_01, eastward_wind_MAM_mean_02,\n",
    "                                              eastward_wind_MAM_mean_03, eastward_wind_MAM_mean_04,\n",
    "                                              eastward_wind_MAM_mean_05, eastward_wind_MAM_mean_06,\n",
    "                                              eastward_wind_MAM_mean_07, eastward_wind_MAM_mean_08,\n",
    "                                              eastward_wind_MAM_mean_09, eastward_wind_MAM_mean_10,\n",
    "                                              eastward_wind_MAM_mean_11, eastward_wind_MAM_mean_12,\n",
    "                                              eastward_wind_MAM_mean_13, eastward_wind_MAM_mean_14,\n",
    "                                              eastward_wind_MAM_mean_15, eastward_wind_MAM_mean_16,\n",
    "                                              eastward_wind_MAM_mean_17, eastward_wind_MAM_mean_18,eastward_wind_MAM_mean_19), axis = 0)"
   ]
  },
  {
   "cell_type": "code",
   "execution_count": 52,
   "id": "100f14cf",
   "metadata": {},
   "outputs": [],
   "source": [
    "northward_wind_MAM_mean_93_19_without_MHW = np.concatenate((northward_wind_MAM_mean_93, northward_wind_MAM_mean_94,\n",
    "                                              northward_wind_MAM_mean_95, northward_wind_MAM_mean_96,\n",
    "                                              northward_wind_MAM_mean_97, northward_wind_MAM_mean_98,\n",
    "                                              northward_wind_MAM_mean_99, northward_wind_MAM_mean_00,\n",
    "                                              northward_wind_MAM_mean_01, northward_wind_MAM_mean_02,\n",
    "                                              northward_wind_MAM_mean_03, northward_wind_MAM_mean_04,\n",
    "                                              northward_wind_MAM_mean_05, northward_wind_MAM_mean_06,\n",
    "                                              northward_wind_MAM_mean_07, northward_wind_MAM_mean_08,\n",
    "                                              northward_wind_MAM_mean_09, northward_wind_MAM_mean_10,\n",
    "                                              northward_wind_MAM_mean_11, northward_wind_MAM_mean_12,\n",
    "                                              northward_wind_MAM_mean_13, northward_wind_MAM_mean_14,\n",
    "                                              northward_wind_MAM_mean_15, northward_wind_MAM_mean_16,\n",
    "                                              northward_wind_MAM_mean_17, northward_wind_MAM_mean_18,northward_wind_MAM_mean_19), axis = 0)"
   ]
  },
  {
   "cell_type": "code",
   "execution_count": 53,
   "id": "1cee33a9",
   "metadata": {},
   "outputs": [],
   "source": [
    "surface_downward_eastward_stress_MAM_93_19_without_MHW = np.concatenate((\n",
    "surface_downward_eastward_stress_MAM_93, surface_downward_eastward_stress_MAM_94,\n",
    "surface_downward_eastward_stress_MAM_95, surface_downward_eastward_stress_MAM_96,\n",
    "surface_downward_eastward_stress_MAM_97, surface_downward_eastward_stress_MAM_98,\n",
    "surface_downward_eastward_stress_MAM_99, surface_downward_eastward_stress_MAM_00,\n",
    "surface_downward_eastward_stress_MAM_01, surface_downward_eastward_stress_MAM_02,\n",
    "surface_downward_eastward_stress_MAM_03, surface_downward_eastward_stress_MAM_04,\n",
    "surface_downward_eastward_stress_MAM_05, surface_downward_eastward_stress_MAM_06,\n",
    "surface_downward_eastward_stress_MAM_07, surface_downward_eastward_stress_MAM_08,\n",
    "surface_downward_eastward_stress_MAM_09, surface_downward_eastward_stress_MAM_10,\n",
    "surface_downward_eastward_stress_MAM_11, surface_downward_eastward_stress_MAM_12,\n",
    "surface_downward_eastward_stress_MAM_13, surface_downward_eastward_stress_MAM_14,\n",
    "surface_downward_eastward_stress_MAM_15, surface_downward_eastward_stress_MAM_16,\n",
    "surface_downward_eastward_stress_MAM_17, surface_downward_eastward_stress_MAM_18,\n",
    "surface_downward_eastward_stress_MAM_19), axis = 0)"
   ]
  },
  {
   "cell_type": "code",
   "execution_count": 54,
   "id": "d07015fc",
   "metadata": {},
   "outputs": [],
   "source": [
    "surface_downward_northward_stress_MAM_93_19_without_MHW = np.concatenate((\n",
    "surface_downward_northward_stress_MAM_93, surface_downward_northward_stress_MAM_94,\n",
    "surface_downward_northward_stress_MAM_95, surface_downward_northward_stress_MAM_96,\n",
    "surface_downward_northward_stress_MAM_97, surface_downward_northward_stress_MAM_98,\n",
    "surface_downward_northward_stress_MAM_99, surface_downward_northward_stress_MAM_00,\n",
    "surface_downward_northward_stress_MAM_01, surface_downward_northward_stress_MAM_02,\n",
    "surface_downward_northward_stress_MAM_03, surface_downward_northward_stress_MAM_04,\n",
    "surface_downward_northward_stress_MAM_05, surface_downward_northward_stress_MAM_06,\n",
    "surface_downward_northward_stress_MAM_07, surface_downward_northward_stress_MAM_08,\n",
    "surface_downward_northward_stress_MAM_09, surface_downward_northward_stress_MAM_10,\n",
    "surface_downward_northward_stress_MAM_11, surface_downward_northward_stress_MAM_12,\n",
    "surface_downward_northward_stress_MAM_13, surface_downward_northward_stress_MAM_14,\n",
    "surface_downward_northward_stress_MAM_15, surface_downward_northward_stress_MAM_16,\n",
    "surface_downward_northward_stress_MAM_17, surface_downward_northward_stress_MAM_18,\n",
    "surface_downward_northward_stress_MAM_19), axis = 0)"
   ]
  },
  {
   "cell_type": "code",
   "execution_count": 55,
   "id": "24dce93d",
   "metadata": {},
   "outputs": [
    {
     "data": {
      "text/plain": [
       "(2310, 80, 79)"
      ]
     },
     "execution_count": 55,
     "metadata": {},
     "output_type": "execute_result"
    }
   ],
   "source": [
    "surface_downward_eastward_stress_MAM_93_19_without_MHW.shape"
   ]
  },
  {
   "cell_type": "code",
   "execution_count": 56,
   "id": "f572e385",
   "metadata": {},
   "outputs": [],
   "source": [
    "eastward_wind_SON_mean_93_19_without_MHW = np.concatenate((eastward_wind_SON_mean_93, eastward_wind_SON_mean_94,\n",
    "                                              eastward_wind_SON_mean_95, eastward_wind_SON_mean_96,\n",
    "                                              eastward_wind_SON_mean_97, eastward_wind_SON_mean_98,\n",
    "                                              eastward_wind_SON_mean_99, eastward_wind_SON_mean_00,\n",
    "                                              eastward_wind_SON_mean_01, eastward_wind_SON_mean_02,\n",
    "                                              eastward_wind_SON_mean_03, eastward_wind_SON_mean_04,\n",
    "                                              eastward_wind_SON_mean_05, eastward_wind_SON_mean_06,\n",
    "                                              eastward_wind_SON_mean_07, eastward_wind_SON_mean_08,\n",
    "                                              eastward_wind_SON_mean_09, eastward_wind_SON_mean_10,\n",
    "                                              eastward_wind_SON_mean_11, eastward_wind_SON_mean_12,\n",
    "                                              eastward_wind_SON_mean_13, eastward_wind_SON_mean_14,\n",
    "                                              eastward_wind_SON_mean_15, eastward_wind_SON_mean_16,\n",
    "                                              eastward_wind_SON_mean_17, eastward_wind_SON_mean_18,eastward_wind_SON_mean_19), axis = 0)"
   ]
  },
  {
   "cell_type": "code",
   "execution_count": 57,
   "id": "e1755d90",
   "metadata": {},
   "outputs": [],
   "source": [
    "northward_wind_SON_mean_93_19_without_MHW = np.concatenate((northward_wind_SON_mean_93,northward_wind_SON_mean_94,\n",
    "                                              northward_wind_SON_mean_95, northward_wind_SON_mean_96,\n",
    "                                              northward_wind_SON_mean_97, northward_wind_SON_mean_98,\n",
    "                                              northward_wind_SON_mean_99, northward_wind_SON_mean_00,\n",
    "                                              northward_wind_SON_mean_01, northward_wind_SON_mean_02,\n",
    "                                              northward_wind_SON_mean_03, northward_wind_SON_mean_04,\n",
    "                                              northward_wind_SON_mean_05, northward_wind_SON_mean_06,\n",
    "                                              northward_wind_SON_mean_07, northward_wind_SON_mean_08,\n",
    "                                              northward_wind_SON_mean_09, northward_wind_SON_mean_10,\n",
    "                                              northward_wind_SON_mean_11, northward_wind_SON_mean_12,\n",
    "                                              northward_wind_SON_mean_13, northward_wind_SON_mean_14,\n",
    "                                              northward_wind_SON_mean_15, northward_wind_SON_mean_16,\n",
    "                                              northward_wind_SON_mean_17, northward_wind_SON_mean_18,northward_wind_SON_mean_19), axis = 0)"
   ]
  },
  {
   "cell_type": "code",
   "execution_count": 58,
   "id": "bcaced32",
   "metadata": {},
   "outputs": [],
   "source": [
    "surface_downward_eastward_stress_SON_93_19_without_MHW = np.concatenate((\n",
    "surface_downward_eastward_stress_SON_93, surface_downward_eastward_stress_SON_94,\n",
    "surface_downward_eastward_stress_SON_95, surface_downward_eastward_stress_SON_96,\n",
    "surface_downward_eastward_stress_SON_97, surface_downward_eastward_stress_SON_98,\n",
    "surface_downward_eastward_stress_SON_99, surface_downward_eastward_stress_SON_00,\n",
    "surface_downward_eastward_stress_SON_01, surface_downward_eastward_stress_SON_02,\n",
    "surface_downward_eastward_stress_SON_03, surface_downward_eastward_stress_SON_04,\n",
    "surface_downward_eastward_stress_SON_05, surface_downward_eastward_stress_SON_06,\n",
    "surface_downward_eastward_stress_SON_07, surface_downward_eastward_stress_SON_08,\n",
    "surface_downward_eastward_stress_SON_09, surface_downward_eastward_stress_SON_10,\n",
    "surface_downward_eastward_stress_SON_11, surface_downward_eastward_stress_SON_12,\n",
    "surface_downward_eastward_stress_SON_13, surface_downward_eastward_stress_SON_14,\n",
    "surface_downward_eastward_stress_SON_15, surface_downward_eastward_stress_SON_16,\n",
    "surface_downward_eastward_stress_SON_17, surface_downward_eastward_stress_SON_18,\n",
    "surface_downward_eastward_stress_SON_19), axis = 0)"
   ]
  },
  {
   "cell_type": "code",
   "execution_count": 59,
   "id": "75b65013",
   "metadata": {},
   "outputs": [],
   "source": [
    "surface_downward_northward_stress_SON_93_19_without_MHW = np.concatenate((\n",
    "surface_downward_northward_stress_SON_93, surface_downward_northward_stress_SON_94,\n",
    "surface_downward_northward_stress_SON_95, surface_downward_northward_stress_SON_96,\n",
    "surface_downward_northward_stress_SON_97, surface_downward_northward_stress_SON_98,\n",
    "surface_downward_northward_stress_SON_99, surface_downward_northward_stress_SON_00,\n",
    "surface_downward_northward_stress_SON_01, surface_downward_northward_stress_SON_02,\n",
    "surface_downward_northward_stress_SON_03, surface_downward_northward_stress_SON_04,\n",
    "surface_downward_northward_stress_SON_05, surface_downward_northward_stress_SON_06,\n",
    "surface_downward_northward_stress_SON_07, surface_downward_northward_stress_SON_08,\n",
    "surface_downward_northward_stress_SON_09, surface_downward_northward_stress_SON_10,\n",
    "surface_downward_northward_stress_SON_11, surface_downward_northward_stress_SON_12,\n",
    "surface_downward_northward_stress_SON_13, surface_downward_northward_stress_SON_14,\n",
    "surface_downward_northward_stress_SON_15, surface_downward_northward_stress_SON_16,\n",
    "surface_downward_northward_stress_SON_17, surface_downward_northward_stress_SON_18,\n",
    "surface_downward_northward_stress_SON_19), axis = 0)"
   ]
  },
  {
   "cell_type": "code",
   "execution_count": 60,
   "id": "7d69b022",
   "metadata": {},
   "outputs": [],
   "source": [
    "eastward_wind_JJA_mean_93_19_without_MHW = np.concatenate((eastward_wind_JJA_mean_93, eastward_wind_JJA_mean_94,\n",
    "                                              eastward_wind_JJA_mean_95, eastward_wind_JJA_mean_96,\n",
    "                                              eastward_wind_JJA_mean_97, eastward_wind_JJA_mean_98,\n",
    "                                              eastward_wind_JJA_mean_99, eastward_wind_JJA_mean_00,\n",
    "                                              eastward_wind_JJA_mean_01, eastward_wind_JJA_mean_02,\n",
    "                                              eastward_wind_JJA_mean_03, eastward_wind_JJA_mean_04,\n",
    "                                              eastward_wind_JJA_mean_05, eastward_wind_JJA_mean_06,\n",
    "                                              eastward_wind_JJA_mean_07, eastward_wind_JJA_mean_08,\n",
    "                                              eastward_wind_JJA_mean_09, eastward_wind_JJA_mean_10,\n",
    "                                              eastward_wind_JJA_mean_11, eastward_wind_JJA_mean_12,\n",
    "                                              eastward_wind_JJA_mean_13, eastward_wind_JJA_mean_14,\n",
    "                                              eastward_wind_JJA_mean_15, eastward_wind_JJA_mean_16,\n",
    "                                              eastward_wind_JJA_mean_17, eastward_wind_JJA_mean_18,eastward_wind_JJA_mean_19), axis = 0)"
   ]
  },
  {
   "cell_type": "code",
   "execution_count": 61,
   "id": "ce6e7550",
   "metadata": {},
   "outputs": [],
   "source": [
    "northward_wind_JJA_mean_93_19_without_MHW = np.concatenate((northward_wind_JJA_mean_93,northward_wind_JJA_mean_94,\n",
    "                                              northward_wind_JJA_mean_95, northward_wind_JJA_mean_96,\n",
    "                                              northward_wind_JJA_mean_97, northward_wind_JJA_mean_98,\n",
    "                                              northward_wind_JJA_mean_99, northward_wind_JJA_mean_00,\n",
    "                                              northward_wind_JJA_mean_01, northward_wind_JJA_mean_02,\n",
    "                                              northward_wind_JJA_mean_03, northward_wind_JJA_mean_04,\n",
    "                                              northward_wind_JJA_mean_05, northward_wind_JJA_mean_06,\n",
    "                                              northward_wind_JJA_mean_07, northward_wind_JJA_mean_08,\n",
    "                                              northward_wind_JJA_mean_09, northward_wind_JJA_mean_10,\n",
    "                                              northward_wind_JJA_mean_11, northward_wind_JJA_mean_12,\n",
    "                                              northward_wind_JJA_mean_13, northward_wind_JJA_mean_14,\n",
    "                                              northward_wind_JJA_mean_15, northward_wind_JJA_mean_16,\n",
    "                                              northward_wind_JJA_mean_17, northward_wind_JJA_mean_18,northward_wind_JJA_mean_19), axis = 0)"
   ]
  },
  {
   "cell_type": "code",
   "execution_count": 62,
   "id": "015f66e7",
   "metadata": {},
   "outputs": [],
   "source": [
    "surface_downward_eastward_stress_JJA_93_19_without_MHW = np.concatenate((\n",
    "surface_downward_eastward_stress_JJA_93, surface_downward_eastward_stress_JJA_94,\n",
    "surface_downward_eastward_stress_JJA_95, surface_downward_eastward_stress_JJA_96,\n",
    "surface_downward_eastward_stress_JJA_97, surface_downward_eastward_stress_JJA_98,\n",
    "surface_downward_eastward_stress_JJA_99, surface_downward_eastward_stress_JJA_00,\n",
    "surface_downward_eastward_stress_JJA_01, surface_downward_eastward_stress_JJA_02,\n",
    "surface_downward_eastward_stress_JJA_03, surface_downward_eastward_stress_JJA_04,\n",
    "surface_downward_eastward_stress_JJA_05, surface_downward_eastward_stress_JJA_06,\n",
    "surface_downward_eastward_stress_JJA_07, surface_downward_eastward_stress_JJA_08,\n",
    "surface_downward_eastward_stress_JJA_09, surface_downward_eastward_stress_JJA_10,\n",
    "surface_downward_eastward_stress_JJA_11, surface_downward_eastward_stress_JJA_12,\n",
    "surface_downward_eastward_stress_JJA_13, surface_downward_eastward_stress_JJA_14,\n",
    "surface_downward_eastward_stress_JJA_15, surface_downward_eastward_stress_JJA_16,\n",
    "surface_downward_eastward_stress_JJA_17, surface_downward_eastward_stress_JJA_18,\n",
    "surface_downward_eastward_stress_JJA_19), axis = 0)"
   ]
  },
  {
   "cell_type": "code",
   "execution_count": 63,
   "id": "c8b3c1bd",
   "metadata": {},
   "outputs": [],
   "source": [
    "surface_downward_northward_stress_JJA_93_19_without_MHW = np.concatenate((\n",
    "surface_downward_northward_stress_JJA_93, surface_downward_northward_stress_JJA_94,\n",
    "surface_downward_northward_stress_JJA_95, surface_downward_northward_stress_JJA_96,\n",
    "surface_downward_northward_stress_JJA_97, surface_downward_northward_stress_JJA_98,\n",
    "surface_downward_northward_stress_JJA_99, surface_downward_northward_stress_JJA_00,\n",
    "surface_downward_northward_stress_JJA_01, surface_downward_northward_stress_JJA_02,\n",
    "surface_downward_northward_stress_JJA_03, surface_downward_northward_stress_JJA_04,\n",
    "surface_downward_northward_stress_JJA_05, surface_downward_northward_stress_JJA_06,\n",
    "surface_downward_northward_stress_JJA_07, surface_downward_northward_stress_JJA_08,\n",
    "surface_downward_northward_stress_JJA_09, surface_downward_northward_stress_JJA_10,\n",
    "surface_downward_northward_stress_JJA_11, surface_downward_northward_stress_JJA_12,\n",
    "surface_downward_northward_stress_JJA_13, surface_downward_northward_stress_JJA_14,\n",
    "surface_downward_northward_stress_JJA_15, surface_downward_northward_stress_JJA_16,\n",
    "surface_downward_northward_stress_JJA_17, surface_downward_northward_stress_JJA_18,\n",
    "surface_downward_northward_stress_JJA_19), axis = 0)"
   ]
  },
  {
   "cell_type": "code",
   "execution_count": 63,
   "id": "a953152c",
   "metadata": {},
   "outputs": [
    {
     "data": {
      "text/plain": [
       "(2160, 64, 48)"
      ]
     },
     "execution_count": 63,
     "metadata": {},
     "output_type": "execute_result"
    }
   ],
   "source": []
  },
  {
   "cell_type": "code",
   "execution_count": 64,
   "id": "61d5a637",
   "metadata": {},
   "outputs": [],
   "source": [
    "np.savez(r'D:\\heat_wave\\atlantic\\expand_area1\\wind\\wind_93_19_WEIO_area_JJA_SON_DJF_MAM_without_MHW.npz',\n",
    "        eastward_wind_JJA_mean_93_19_without_MHW = eastward_wind_JJA_mean_93_19_without_MHW,\n",
    "        northward_wind_JJA_mean_93_19_without_MHW = northward_wind_JJA_mean_93_19_without_MHW,\n",
    "        surface_downward_eastward_stress_JJA_93_19_without_MHW = surface_downward_eastward_stress_JJA_93_19_without_MHW,\n",
    "        surface_downward_northward_stress_JJA_93_19_without_MHW = surface_downward_northward_stress_JJA_93_19_without_MHW,\n",
    "        \n",
    "        eastward_wind_MAM_mean_93_19_without_MHW = eastward_wind_MAM_mean_93_19_without_MHW,\n",
    "        northward_wind_MAM_mean_93_19_without_MHW = northward_wind_MAM_mean_93_19_without_MHW,\n",
    "        surface_downward_eastward_stress_MAM_93_19_without_MHW = surface_downward_eastward_stress_MAM_93_19_without_MHW,\n",
    "        surface_downward_northward_stress_MAM_93_19_without_MHW = surface_downward_northward_stress_MAM_93_19_without_MHW,\n",
    "        \n",
    "        eastward_wind_SON_mean_93_19_without_MHW = eastward_wind_SON_mean_93_19_without_MHW,\n",
    "        northward_wind_SON_mean_93_19_without_MHW = northward_wind_SON_mean_93_19_without_MHW,\n",
    "        surface_downward_eastward_stress_SON_93_19_without_MHW = surface_downward_eastward_stress_SON_93_19_without_MHW,\n",
    "        surface_downward_northward_stress_SON_93_19_without_MHW = surface_downward_northward_stress_SON_93_19_without_MHW,\n",
    "        \n",
    "        eastward_wind_DJF_mean_93_19_without_MHW = eastward_wind_DJF_mean_93_19_without_MHW,\n",
    "        northward_wind_DJF_mean_93_19_without_MHW = northward_wind_DJF_mean_93_19_without_MHW,\n",
    "        surface_downward_eastward_stress_DJF_93_19_without_MHW = surface_downward_eastward_stress_DJF_93_19_without_MHW,\n",
    "        surface_downward_northward_stress_DJF_93_19_without_MHW = surface_downward_northward_stress_DJF_93_19_without_MHW,)"
   ]
  },
  {
   "cell_type": "code",
   "execution_count": null,
   "id": "1eca81f7",
   "metadata": {},
   "outputs": [],
   "source": []
  }
 ],
 "metadata": {
  "kernelspec": {
   "display_name": "Python 3 (ipykernel)",
   "language": "python",
   "name": "python3"
  },
  "language_info": {
   "codemirror_mode": {
    "name": "ipython",
    "version": 3
   },
   "file_extension": ".py",
   "mimetype": "text/x-python",
   "name": "python",
   "nbconvert_exporter": "python",
   "pygments_lexer": "ipython3",
   "version": "3.8.12"
  }
 },
 "nbformat": 4,
 "nbformat_minor": 5
}

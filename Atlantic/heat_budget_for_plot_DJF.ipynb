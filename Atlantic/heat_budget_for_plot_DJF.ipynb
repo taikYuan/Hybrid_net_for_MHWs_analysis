{
 "cells": [
  {
   "cell_type": "code",
   "execution_count": 1,
   "id": "fa8be539",
   "metadata": {},
   "outputs": [],
   "source": [
    "import random\n",
    "\n",
    "import numpy as np\n",
    "import torch\n",
    "from sklearn.metrics import mean_squared_error\n",
    "from sklearn.preprocessing import MinMaxScaler\n",
    "from torch import nn\n",
    "from tqdm import tqdm\n",
    "from torch.autograd import Variable\n",
    "from torch.utils.data import Dataset, DataLoader"
   ]
  },
  {
   "cell_type": "code",
   "execution_count": 2,
   "id": "6d82fa3a",
   "metadata": {},
   "outputs": [
    {
     "name": "stdout",
     "output_type": "stream",
     "text": [
      "['slfh', 'sshf', 'ssr', 'str', 'sst_obser', 'T_d', 'u_d', 'v_d', 'mld', 'analysis_temp', 'u', 'v', 'dT_dt', 'xx', 'yy', 'dT_dx', 'dT_dy']\n",
      "(9861, 80, 79)\n",
      "22.492352\n",
      "36.701355\n"
     ]
    }
   ],
   "source": [
    "data = np.load(r'D:\\heat_wave\\atlantic\\expand_area1\\last\\optimized_formula_all_variables_expand_atlantic1_surface.npz')\n",
    "print(data.files)  # ['sst_obser', 'slfh', 'sshf', 'ssr', 'str', 'mld', 'analysis_temp', 'u', 'v', 'T_d', 'u_d', 'v_d', 'xx', 'yy', 'dT_dt', 'dT_dx', 'dT_dy']\n",
    "\n",
    "sst_obser = data['sst_obser'][:, :80, :79]  # (9861, 41, 201)  #\n",
    "print(sst_obser.shape)  # (9861, 41, 201)\n",
    "slfh = data['slfh'][:, :80, :79]  # (9861, 41, 201)\n",
    "sshf = data['sshf'][:, :80, :79]  # (9861, 41, 201)\n",
    "ssr = data['ssr'][:, :80, :79]  # (9861, 41, 201)   # 可惜这个是 0\n",
    "str = data['str'][:, :80, :79]  # (9861, 41, 201)\n",
    "mld = data['mld'][:, :80, :79]  # (9861, 41, 201)\n",
    "analysis_temp = data['analysis_temp'][:, :80, :79]  # (9861, 41, 201)\n",
    "u = data['u'][:, :80, :79]  # (9861, 41, 201)\n",
    "v = data['v'][:, :80, :79]  # (9861, 41, 201)\n",
    "T_d = data['T_d'][:, :80, :79]  # (9861, 41, 201)\n",
    "u_d = data['u_d'][:, :80, :79]  # (9861, 41, 201)\n",
    "v_d = data['v_d'][:, :80, :79]  # (9861, 41, 201)\n",
    "xx = data['xx'][:, :80, :79]  # (9861, 41, 201)\n",
    "yy = data['yy'][:, :80, :79]  # (9861, 41, 201)\n",
    "print(np.min(T_d))\n",
    "print(np.max(T_d))\n",
    "# print(xx)  # -5 -4.75 ... 4.75\n",
    "# print(yy)  # 190  190.25 ... 239.75\n",
    "\n",
    "dT_dt = data['dT_dt'][:, :80, :79]\n",
    "dT_dx = data['dT_dx'][:, :80, :79]\n",
    "dT_dy = data['dT_dy'][:, :80, :79]\n"
   ]
  },
  {
   "cell_type": "code",
   "execution_count": 3,
   "id": "492cf5da",
   "metadata": {},
   "outputs": [],
   "source": [
    "Q_net = (slfh + sshf + ssr + str)\n",
    "Q_net.shape\n",
    "Q_net = Q_net / (1025 * 4000 * mld)"
   ]
  },
  {
   "cell_type": "code",
   "execution_count": 4,
   "id": "4abf1bbd",
   "metadata": {},
   "outputs": [
    {
     "data": {
      "text/plain": [
       "(9861, 80, 79)"
      ]
     },
     "execution_count": 4,
     "metadata": {},
     "output_type": "execute_result"
    }
   ],
   "source": [
    "ZAdv = u * dT_dx\n",
    "ZAdv.shape"
   ]
  },
  {
   "cell_type": "code",
   "execution_count": 5,
   "id": "572e09e4",
   "metadata": {},
   "outputs": [
    {
     "data": {
      "text/plain": [
       "(9861, 80, 79)"
      ]
     },
     "execution_count": 5,
     "metadata": {},
     "output_type": "execute_result"
    }
   ],
   "source": [
    "MAdv = v * dT_dy\n",
    "MAdv.shape"
   ]
  },
  {
   "cell_type": "code",
   "execution_count": 6,
   "id": "3f9746a4",
   "metadata": {},
   "outputs": [
    {
     "data": {
      "text/plain": [
       "(9861, 80, 79)"
      ]
     },
     "execution_count": 6,
     "metadata": {},
     "output_type": "execute_result"
    }
   ],
   "source": [
    "VAdv = v_d * ((sst_obser -T_d ) / mld)\n",
    "VAdv.shape"
   ]
  },
  {
   "cell_type": "code",
   "execution_count": 7,
   "id": "5a08902f",
   "metadata": {},
   "outputs": [
    {
     "data": {
      "text/plain": [
       "(9860, 80, 79)"
      ]
     },
     "execution_count": 7,
     "metadata": {},
     "output_type": "execute_result"
    }
   ],
   "source": [
    "R_origin = dT_dt - (Q_net[:9860,:,:] + ZAdv[:9860,:,:] + MAdv[:9860,:,:] + VAdv[:9860,:,:])\n",
    "R_origin.shape"
   ]
  },
  {
   "cell_type": "code",
   "execution_count": 8,
   "id": "326f4376",
   "metadata": {},
   "outputs": [
    {
     "data": {
      "text/plain": [
       "array([[[ 2.25986163e-02,  1.79070158e-02,  1.82793162e-02, ...,\n",
       "         -1.50163984e-01, -1.37361457e-01, -1.27189136e-01],\n",
       "        [ 2.61324760e-02, -4.57396224e-04,  3.37320117e-03, ...,\n",
       "         -1.66030826e-01, -1.64492540e-01, -1.70399839e-01],\n",
       "        [ 2.69705964e-02, -1.07957653e-02, -5.77729044e-03, ...,\n",
       "         -1.54066561e-01, -1.62170512e-01, -1.68532832e-01],\n",
       "        ...,\n",
       "        [-2.49378948e-01, -2.44532482e-01, -2.37633666e-01, ...,\n",
       "         -1.83548602e-01, -1.62871337e-01, -1.08691781e-01],\n",
       "        [-1.25916565e-01, -1.35792703e-01, -1.53699831e-01, ...,\n",
       "         -2.86955438e-01, -2.24425183e-01, -1.32034447e-01],\n",
       "        [-1.01521705e-01, -1.05638542e-01, -1.22241551e-01, ...,\n",
       "         -3.03139633e-01, -2.51333593e-01, -1.92406380e-01]],\n",
       "\n",
       "       [[ 3.37394313e-02,  3.09242139e-02,  2.91341337e-02, ...,\n",
       "          5.88443828e-02,  6.64448233e-02,  5.70306986e-02],\n",
       "        [ 4.39173256e-02,  2.93294996e-02,  2.64490937e-02, ...,\n",
       "          3.99114435e-02,  3.93643879e-02,  3.76460468e-02],\n",
       "        [ 4.53207664e-02,  2.49284548e-02,  2.27386838e-02, ...,\n",
       "          3.16138841e-03, -7.41699677e-03, -1.70822571e-02],\n",
       "        ...,\n",
       "        [-2.06076976e-01, -2.39271790e-01, -2.55266864e-01, ...,\n",
       "         -2.52752401e-01, -2.38193356e-01, -2.10487848e-01],\n",
       "        [-1.40725808e-01, -1.54238245e-01, -1.56195768e-01, ...,\n",
       "         -3.42992768e-01, -2.56942164e-01, -2.13906704e-01],\n",
       "        [-9.96198414e-02, -9.53025270e-02, -1.28797884e-01, ...,\n",
       "         -3.86443866e-01, -2.47298032e-01, -2.79556594e-01]],\n",
       "\n",
       "       [[-2.18964420e-02, -9.56592931e-03,  4.84717904e-03, ...,\n",
       "          1.52372740e-01,  1.46928661e-01,  1.48554108e-01],\n",
       "        [ 1.71066373e-04,  2.46613593e-03,  1.33724737e-02, ...,\n",
       "          1.59005108e-01,  1.51412333e-01,  1.56582650e-01],\n",
       "        [ 9.61815724e-03,  5.71681485e-03,  1.96171822e-02, ...,\n",
       "          1.51681353e-01,  1.59270103e-01,  1.45730905e-01],\n",
       "        ...,\n",
       "        [-2.48998608e-01, -2.96271998e-01, -2.97870345e-01, ...,\n",
       "         -2.14784240e-01, -1.74057753e-01, -9.73900434e-02],\n",
       "        [-1.13300110e-01, -1.47296902e-01, -1.76997446e-01, ...,\n",
       "         -3.74580579e-01, -2.07764686e-01, -1.55678052e-01],\n",
       "        [-4.87880091e-02, -6.41749589e-02, -1.02188824e-01, ...,\n",
       "         -3.25759783e-01, -2.15316255e-01, -2.54435393e-01]],\n",
       "\n",
       "       ...,\n",
       "\n",
       "       [[-1.26554188e-01, -1.54045562e-01, -1.62417419e-01, ...,\n",
       "          6.78613173e-02,  7.24222917e-02,  7.49096419e-02],\n",
       "        [-1.58754878e-01, -1.87548205e-01, -1.68319155e-01, ...,\n",
       "          9.10923088e-02,  8.80236014e-02,  9.91245708e-02],\n",
       "        [-2.01335191e-01, -2.09874063e-01, -1.68890143e-01, ...,\n",
       "          9.15958238e-02,  1.00038370e-01,  1.01464268e-01],\n",
       "        ...,\n",
       "        [-1.11376814e-01, -7.22671258e-02, -4.74587145e-02, ...,\n",
       "         -8.01418758e-02, -4.30781886e-02, -3.16017967e-02],\n",
       "        [-6.58077574e-02, -6.79846967e-02, -6.95573817e-02, ...,\n",
       "         -9.15603337e-02, -7.38024223e-02, -1.06106860e-01],\n",
       "        [-4.61258903e-02, -3.45866029e-02, -4.44511257e-02, ...,\n",
       "         -1.31886242e-01, -1.47097880e-01, -1.68356309e-01]],\n",
       "\n",
       "       [[-7.63622306e-02, -9.60769447e-02, -9.48848543e-02, ...,\n",
       "         -2.35260327e-02, -2.68210017e-02, -3.79962074e-02],\n",
       "        [-1.02329876e-01, -1.23339026e-01, -1.02794087e-01, ...,\n",
       "         -3.72870102e-02, -3.84571200e-02, -4.09544331e-02],\n",
       "        [-1.49553830e-01, -1.60221107e-01, -1.23262038e-01, ...,\n",
       "         -5.69804359e-02, -6.19475484e-02, -5.67557341e-02],\n",
       "        ...,\n",
       "        [-9.19209471e-02, -7.11602302e-02, -5.60377536e-02, ...,\n",
       "         -5.69985052e-02,  1.17390285e-02,  2.72333717e-02],\n",
       "        [-1.10693795e-01, -8.23232062e-02, -4.98434827e-02, ...,\n",
       "         -2.16341406e-02,  1.94821066e-02, -2.84752555e-03],\n",
       "        [-9.20770666e-02, -7.86542787e-02, -4.17141118e-02, ...,\n",
       "         -7.51124973e-02, -7.12830924e-02, -8.84284152e-02]],\n",
       "\n",
       "       [[ 5.59616565e-02,  4.25150964e-02,  3.54372711e-02, ...,\n",
       "         -1.90179165e-02, -1.44688053e-02, -1.29230037e-02],\n",
       "        [ 1.71900573e-02,  2.72640837e-02,  4.35281201e-02, ...,\n",
       "         -3.09928623e-02, -2.72723588e-02, -7.59925641e-03],\n",
       "        [-2.06585799e-02, -3.28949932e-03,  4.03530812e-02, ...,\n",
       "         -4.92967152e-02, -4.76341270e-02, -2.67962609e-02],\n",
       "        ...,\n",
       "        [-1.54531116e-01, -1.31116963e-01, -1.18978216e-01, ...,\n",
       "          1.87875009e-01,  1.95531071e-01,  1.22888747e-01],\n",
       "        [-1.53110428e-01, -1.58005611e-01, -1.55040623e-01, ...,\n",
       "          2.61617834e-01,  2.73829504e-01,  1.62131769e-01],\n",
       "        [-1.57413435e-01, -1.78339933e-01, -1.91598878e-01, ...,\n",
       "          1.72693313e-01,  1.60855561e-01,  1.03093984e-01]]])"
      ]
     },
     "execution_count": 8,
     "metadata": {},
     "output_type": "execute_result"
    }
   ],
   "source": [
    "R_origin"
   ]
  },
  {
   "cell_type": "code",
   "execution_count": 9,
   "id": "9e6d8f8f",
   "metadata": {},
   "outputs": [
    {
     "data": {
      "text/plain": [
       "'我们方法修正项'"
      ]
     },
     "execution_count": 9,
     "metadata": {},
     "output_type": "execute_result"
    }
   ],
   "source": [
    "\"\"\"我们方法修正项\"\"\""
   ]
  },
  {
   "cell_type": "code",
   "execution_count": 10,
   "id": "79f51025",
   "metadata": {},
   "outputs": [
    {
     "data": {
      "text/plain": [
       "['dt_R']"
      ]
     },
     "execution_count": 10,
     "metadata": {},
     "output_type": "execute_result"
    }
   ],
   "source": [
    "data1 = np.load(r'D:\\heat_wave\\atlantic\\expand_area1\\last\\Dt_with_R_e1.npz')\n",
    "data2 = np.load(r'D:\\heat_wave\\atlantic\\expand_area1\\last\\Dt_with_R_e2.npz')\n",
    "data3 = np.load(r'D:\\heat_wave\\atlantic\\expand_area1\\last\\Dt_with_R_e3.npz')\n",
    "data4 = np.load(r'D:\\heat_wave\\atlantic\\expand_area1\\last\\Dt_with_R_e4.npz')\n",
    "data5 = np.load(r'D:\\heat_wave\\atlantic\\expand_area1\\last\\Dt_with_R_e5.npz')\n",
    "data1.files"
   ]
  },
  {
   "cell_type": "code",
   "execution_count": 11,
   "id": "b1887044",
   "metadata": {},
   "outputs": [
    {
     "data": {
      "text/plain": [
       "(9860, 80, 79)"
      ]
     },
     "execution_count": 11,
     "metadata": {},
     "output_type": "execute_result"
    }
   ],
   "source": [
    "dt_R1 = data1['dt_R'][:].reshape(9860,80,79)\n",
    "dt_R2 = data2['dt_R'][:].reshape(9860,80,79)\n",
    "dt_R3 = data3['dt_R'][:].reshape(9860,80,79)\n",
    "dt_R4 = data4['dt_R'][:].reshape(9860,80,79)\n",
    "dt_R5 = data5['dt_R'][:].reshape(9860,80,79)\n",
    "dt_R1.shape"
   ]
  },
  {
   "cell_type": "code",
   "execution_count": 12,
   "id": "8590db6d",
   "metadata": {},
   "outputs": [
    {
     "data": {
      "text/plain": [
       "array([[[ 0.03586979,  0.03347259,  0.05957322, ...,  0.18646735,\n",
       "          0.19701599,  0.20121458],\n",
       "        [ 0.05055882,  0.04700889,  0.06782705, ...,  0.19567284,\n",
       "          0.20308302,  0.20796981],\n",
       "        [ 0.05712174,  0.06273837,  0.07854559, ...,  0.19160873,\n",
       "          0.20715764,  0.20956194],\n",
       "        ...,\n",
       "        [ 0.15932229,  0.11547898,  0.10034126, ...,  0.16585273,\n",
       "          0.16188954,  0.13897759],\n",
       "        [ 0.15250617,  0.14199658,  0.14207235, ...,  0.21118517,\n",
       "          0.19232756,  0.13984802],\n",
       "        [ 0.16378003,  0.16585186,  0.16543409, ...,  0.2001392 ,\n",
       "          0.17457803,  0.13594787]],\n",
       "\n",
       "       [[ 0.03044586,  0.02774056,  0.04302625, ...,  0.0486625 ,\n",
       "          0.06338446,  0.06865058],\n",
       "        [ 0.03752837,  0.03035252,  0.04698587, ...,  0.07801766,\n",
       "          0.10162099,  0.09557401],\n",
       "        [ 0.04620308,  0.03525616,  0.04793969, ...,  0.09887834,\n",
       "          0.12548174,  0.12663248],\n",
       "        ...,\n",
       "        [ 0.12780592,  0.09289791,  0.08991582, ...,  0.26558197,\n",
       "          0.2884437 ,  0.2842329 ],\n",
       "        [ 0.14236909,  0.1305039 ,  0.1224844 , ...,  0.29804647,\n",
       "          0.28405413,  0.26668867],\n",
       "        [ 0.13925055,  0.13627602,  0.14446688, ...,  0.31669098,\n",
       "          0.27019006,  0.28245217]],\n",
       "\n",
       "       [[ 0.0859335 ,  0.07842611,  0.07675063, ..., -0.07835499,\n",
       "         -0.05167246, -0.04109338],\n",
       "        [ 0.07062455,  0.06318348,  0.06506613, ..., -0.05671986,\n",
       "         -0.02644266, -0.02384204],\n",
       "        [ 0.07308298,  0.05840319,  0.06039921, ..., -0.0447851 ,\n",
       "         -0.01789809, -0.0061905 ],\n",
       "        ...,\n",
       "        [ 0.10773902,  0.0684675 ,  0.06578929, ...,  0.1346883 ,\n",
       "          0.16319284,  0.13739817],\n",
       "        [ 0.11466619,  0.10435028,  0.09786879, ...,  0.17717244,\n",
       "          0.14200363,  0.12594908],\n",
       "        [ 0.10997416,  0.10165317,  0.11614703, ...,  0.13954836,\n",
       "          0.12470944,  0.15229186]],\n",
       "\n",
       "       ...,\n",
       "\n",
       "       [[ 0.23103285,  0.23302504,  0.24607739, ..., -0.016951  ,\n",
       "          0.00258715,  0.00967999],\n",
       "        [ 0.22331306,  0.2366654 ,  0.24675152, ..., -0.04036333,\n",
       "         -0.0189658 , -0.00922472],\n",
       "        [ 0.22580332,  0.23970965,  0.24179216, ..., -0.05214778,\n",
       "         -0.04062286, -0.02207841],\n",
       "        ...,\n",
       "        [ 0.09318309,  0.07707012,  0.07477836, ...,  0.09904848,\n",
       "          0.1197011 ,  0.13040513],\n",
       "        [ 0.07785337,  0.057848  ,  0.05178154, ...,  0.10735454,\n",
       "          0.13759561,  0.1600686 ],\n",
       "        [ 0.0826904 ,  0.0495027 ,  0.04819603, ...,  0.13131584,\n",
       "          0.18659773,  0.19713715]],\n",
       "\n",
       "       [[ 0.19059858,  0.18484233,  0.18819693, ...,  0.08918987,\n",
       "          0.1152054 ,  0.13362253],\n",
       "        [ 0.19492373,  0.17825294,  0.1839318 , ...,  0.0960575 ,\n",
       "          0.12246497,  0.13974978],\n",
       "        [ 0.19191787,  0.18140265,  0.18459809, ...,  0.1040448 ,\n",
       "          0.1289085 ,  0.1441029 ],\n",
       "        ...,\n",
       "        [ 0.12860242,  0.1219762 ,  0.1188167 , ...,  0.11515063,\n",
       "          0.12476894,  0.13054799],\n",
       "        [ 0.15169203,  0.13249768,  0.1240522 , ...,  0.10472304,\n",
       "          0.15147753,  0.17315102],\n",
       "        [ 0.16731533,  0.15710925,  0.13990365, ...,  0.13147673,\n",
       "          0.18092373,  0.19672182]],\n",
       "\n",
       "       [[ 0.05231597,  0.0394363 ,  0.04129383, ...,  0.06759427,\n",
       "          0.0856821 ,  0.09328072],\n",
       "        [ 0.06559249,  0.03528504,  0.03319478, ...,  0.07461733,\n",
       "          0.0959716 ,  0.10157938],\n",
       "        [ 0.06454694,  0.0319089 ,  0.02613589, ...,  0.09111762,\n",
       "          0.11236481,  0.11848237],\n",
       "        ...,\n",
       "        [ 0.2119411 ,  0.20145461,  0.20638195, ..., -0.06451263,\n",
       "          0.02432893,  0.08311199],\n",
       "        [ 0.23847185,  0.2414209 ,  0.2586131 , ..., -0.03633751,\n",
       "          0.04596604,  0.11245629],\n",
       "        [ 0.2519201 ,  0.26147878,  0.2686857 , ..., -0.00799877,\n",
       "          0.04496371,  0.09725346]]], dtype=float32)"
      ]
     },
     "execution_count": 12,
     "metadata": {},
     "output_type": "execute_result"
    }
   ],
   "source": [
    "\"修正后的R\"\n",
    "R_recur1 = dt_R1 - dT_dt\n",
    "R_recur2 = dt_R2 - dT_dt\n",
    "R_recur3 = dt_R3 - dT_dt\n",
    "R_recur4 = dt_R4 - dT_dt\n",
    "R_recur5 = dt_R5 - dT_dt\n",
    "R_recur1"
   ]
  },
  {
   "cell_type": "code",
   "execution_count": 13,
   "id": "634b9e25",
   "metadata": {},
   "outputs": [
    {
     "data": {
      "text/plain": [
       "array([[[ 0.02390832,  0.02725428,  0.05739463, ...,  0.18423201,\n",
       "          0.20143357,  0.212904  ],\n",
       "        [ 0.03836343,  0.04028901,  0.06597659, ...,  0.19318132,\n",
       "          0.20801635,  0.21969919],\n",
       "        [ 0.04502613,  0.05579453,  0.07682253, ...,  0.18921772,\n",
       "          0.21201761,  0.22122557],\n",
       "        ...,\n",
       "        [ 0.14401527,  0.11933136,  0.09818447, ...,  0.16285832,\n",
       "          0.16673253,  0.15164636],\n",
       "        [ 0.14027078,  0.13991936,  0.14181487, ...,  0.20777342,\n",
       "          0.19717088,  0.15250286],\n",
       "        [ 0.15274742,  0.16048196,  0.16502085, ...,  0.1965462 ,\n",
       "          0.18078193,  0.14906101]],\n",
       "\n",
       "       [[ 0.01874388,  0.02132713,  0.04093076, ...,  0.04672079,\n",
       "          0.06744719,  0.07988962],\n",
       "        [ 0.02589727,  0.02345898,  0.0454662 , ...,  0.07614927,\n",
       "          0.1055768 ,  0.10671985],\n",
       "        [ 0.03458868,  0.02821356,  0.04669535, ...,  0.09688549,\n",
       "          0.12964737,  0.1379139 ],\n",
       "        ...,\n",
       "        [ 0.11189172,  0.09634877,  0.08805746, ...,  0.2629678 ,\n",
       "          0.29277122,  0.2964142 ],\n",
       "        [ 0.12952498,  0.12986353,  0.12207182, ...,  0.29505864,\n",
       "          0.28848568,  0.2786921 ],\n",
       "        [ 0.12770395,  0.13250694,  0.14424902, ...,  0.3126265 ,\n",
       "          0.27515286,  0.2951641 ]],\n",
       "\n",
       "       [[ 0.07468342,  0.07209505,  0.07491026, ..., -0.08023242,\n",
       "         -0.0474142 , -0.029653  ],\n",
       "        [ 0.05924045,  0.05671798,  0.06343631, ..., -0.05827558,\n",
       "         -0.02264334, -0.01254528],\n",
       "        [ 0.06162561,  0.05154975,  0.05896307, ..., -0.04654189,\n",
       "         -0.01407529,  0.0049265 ],\n",
       "        ...,\n",
       "        [ 0.09030386,  0.07460582,  0.06295197, ...,  0.13165167,\n",
       "          0.16762783,  0.14939061],\n",
       "        [ 0.10199969,  0.10442406,  0.09717604, ...,  0.17359163,\n",
       "          0.146835  ,  0.13912016],\n",
       "        [ 0.09829149,  0.09778185,  0.11589682, ...,  0.13444796,\n",
       "          0.13221447,  0.16709806]],\n",
       "\n",
       "       ...,\n",
       "\n",
       "       [[ 0.21981189,  0.22535856,  0.24479547, ..., -0.01900946,\n",
       "          0.0065743 ,  0.02112888],\n",
       "        [ 0.21130164,  0.23046425,  0.24474183, ..., -0.04197208,\n",
       "         -0.01513215,  0.00216874],\n",
       "        [ 0.21335661,  0.23498884,  0.23914917, ..., -0.05375754,\n",
       "         -0.03657113, -0.01083975],\n",
       "        ...,\n",
       "        [ 0.08088335,  0.07474779,  0.0727287 , ...,  0.09685081,\n",
       "          0.12384357,  0.14200696],\n",
       "        [ 0.06505179,  0.05473669,  0.0505958 , ...,  0.10474914,\n",
       "          0.14261362,  0.1717881 ],\n",
       "        [ 0.06997834,  0.04490357,  0.04590959, ...,  0.12850465,\n",
       "          0.19148749,  0.20919147]],\n",
       "\n",
       "       [[ 0.17946559,  0.17656554,  0.18667403, ...,  0.08715892,\n",
       "          0.11911526,  0.14508829],\n",
       "        [ 0.18273723,  0.1708852 ,  0.181972  , ...,  0.09436284,\n",
       "          0.12630394,  0.15110138],\n",
       "        [ 0.17875043,  0.17609031,  0.18183526, ...,  0.1023462 ,\n",
       "          0.13294643,  0.15545571],\n",
       "        ...,\n",
       "        [ 0.11692425,  0.11718039,  0.11675551, ...,  0.11329503,\n",
       "          0.12826356,  0.14196834],\n",
       "        [ 0.139536  ,  0.12639853,  0.12134997, ...,  0.10281599,\n",
       "          0.15504467,  0.18455033],\n",
       "        [ 0.15535827,  0.14827748,  0.13674757, ...,  0.12923929,\n",
       "          0.18504807,  0.20840248]],\n",
       "\n",
       "       [[ 0.04131789,  0.03145737,  0.03982022, ...,  0.06545184,\n",
       "          0.08947865,  0.10478668],\n",
       "        [ 0.05406876,  0.02816052,  0.03114863, ...,  0.07312027,\n",
       "          0.09953772,  0.1128803 ],\n",
       "        [ 0.05197831,  0.0262178 ,  0.02332308, ...,  0.08951025,\n",
       "          0.11620073,  0.1297445 ],\n",
       "        ...,\n",
       "        [ 0.20055827,  0.1943275 ,  0.20336524, ..., -0.06619982,\n",
       "          0.02774649,  0.09415879],\n",
       "        [ 0.2272658 ,  0.23260835,  0.25550398, ..., -0.03769689,\n",
       "          0.04918291,  0.12349342],\n",
       "        [ 0.24021678,  0.25232148,  0.26485333, ..., -0.00909368,\n",
       "          0.04898238,  0.10830612]]], dtype=float32)"
      ]
     },
     "execution_count": 13,
     "metadata": {},
     "output_type": "execute_result"
    }
   ],
   "source": [
    "R_recur = ((R_recur1 + R_recur2 + R_recur3 + R_recur4 + R_recur5) / 5)\n",
    "R_recur"
   ]
  },
  {
   "cell_type": "code",
   "execution_count": 14,
   "id": "59cc50b9",
   "metadata": {},
   "outputs": [],
   "source": [
    "# 首先 我们先画 DJF季节的贡献图   DJF： 12  1  2 月  即  12/01 - 02/31  当然，会做一个区域平均\n",
    "# 同时，我们也会对每一年的DJF做一个平均  ---》1993 - 2019年"
   ]
  },
  {
   "cell_type": "code",
   "execution_count": 15,
   "id": "5e7e99a5",
   "metadata": {},
   "outputs": [
    {
     "data": {
      "text/plain": [
       "4442"
      ]
     },
     "execution_count": 15,
     "metadata": {},
     "output_type": "execute_result"
    }
   ],
   "source": [
    "#  计算索引\n",
    "import pandas as pd\n",
    "import datetime\n",
    "\n",
    "#创建时间范围\n",
    "start_date = datetime.datetime(1993,1,1)\n",
    "end_date = datetime.datetime(2019,12,31)\n",
    "dates = pd.date_range(start = start_date, end = end_date, freq = 'D')\n",
    "\n",
    "index = dates.get_loc(datetime.datetime(2005,3,1)) \n",
    "index"
   ]
  },
  {
   "cell_type": "code",
   "execution_count": 16,
   "id": "94d3b005",
   "metadata": {},
   "outputs": [],
   "source": [
    "# DJF   93\n",
    "Q_net_DJF_93 = Q_net[:59,:,:]\n",
    "ZAdv_DJF_93 = ZAdv[:59,:,:]\n",
    "MAdv_DJF_93 = MAdv[:59,:,:]\n",
    "VAdv_DJF_93 = VAdv[:59,:,:]\n",
    "R_origin_DJF_93 = R_origin[:59,:,:]\n",
    "dT_dt_DJF_93 = dT_dt[:59,:,:]\n",
    "R_recur_DJF_93 = R_recur[:59,:,:]"
   ]
  },
  {
   "cell_type": "code",
   "execution_count": 17,
   "id": "8676772d",
   "metadata": {},
   "outputs": [],
   "source": [
    "# DJF   94\n",
    "Q_net_DJF_94 = Q_net[334:424,:,:]\n",
    "ZAdv_DJF_94 = ZAdv[334:424,:,:]\n",
    "MAdv_DJF_94 = MAdv[334:424,:,:]\n",
    "VAdv_DJF_94 = VAdv[334:424,:,:]\n",
    "R_origin_DJF_94 = R_origin[334:424,:,:]\n",
    "dT_dt_DJF_94 = dT_dt[334:424,:,:]\n",
    "R_recur_DJF_94 = R_recur[334:424,:,:]"
   ]
  },
  {
   "cell_type": "code",
   "execution_count": 18,
   "id": "ad5c5d45",
   "metadata": {},
   "outputs": [],
   "source": [
    "# DJF   95\n",
    "Q_net_DJF_95 = Q_net[699:789,:,:]\n",
    "ZAdv_DJF_95 = ZAdv[699:789,:,:]\n",
    "MAdv_DJF_95 = MAdv[699:789,:,:]\n",
    "VAdv_DJF_95 = VAdv[699:789,:,:]\n",
    "R_origin_DJF_95 = R_origin[699:789,:,:]\n",
    "dT_dt_DJF_95 = dT_dt[699:789,:,:]\n",
    "R_recur_DJF_95 = R_recur[699:789,:,:]"
   ]
  },
  {
   "cell_type": "code",
   "execution_count": 19,
   "id": "af68c9cc",
   "metadata": {},
   "outputs": [],
   "source": [
    "# DJF   96\n",
    "Q_net_DJF_96 = Q_net[1064:1155,:,:]\n",
    "ZAdv_DJF_96 = ZAdv[1064:1155,:,:]\n",
    "MAdv_DJF_96 = MAdv[1064:1155,:,:]\n",
    "VAdv_DJF_96 = VAdv[1064:1155,:,:]\n",
    "R_origin_DJF_96 = R_origin[1064:1155,:,:]\n",
    "dT_dt_DJF_96 = dT_dt[1064:1155,:,:]\n",
    "R_recur_DJF_96 = R_recur[1064:1155,:,:]"
   ]
  },
  {
   "cell_type": "code",
   "execution_count": 20,
   "id": "ca830fcd",
   "metadata": {},
   "outputs": [],
   "source": [
    "# DJF   97\n",
    "Q_net_DJF_97 = Q_net[1430:1520,:,:]\n",
    "ZAdv_DJF_97 = ZAdv[1430:1520,:,:]\n",
    "MAdv_DJF_97 = MAdv[1430:1520,:,:]\n",
    "VAdv_DJF_97 = VAdv[1430:1520,:,:]\n",
    "R_origin_DJF_97 = R_origin[1430:1520,:,:]\n",
    "dT_dt_DJF_97 = dT_dt[1430:1520,:,:]\n",
    "R_recur_DJF_97 = R_recur[1430:1520,:,:]"
   ]
  },
  {
   "cell_type": "code",
   "execution_count": 21,
   "id": "fed4e534",
   "metadata": {},
   "outputs": [],
   "source": [
    "# DJF   98\n",
    "Q_net_DJF_98 = Q_net[1795:1885,:,:]\n",
    "ZAdv_DJF_98 = ZAdv[1795:1885,:,:]\n",
    "MAdv_DJF_98 = MAdv[1795:1885,:,:]\n",
    "VAdv_DJF_98 = VAdv[1795:1885,:,:]\n",
    "R_origin_DJF_98 = R_origin[1795:1885,:,:]\n",
    "dT_dt_DJF_98 = dT_dt[1795:1885,:,:]\n",
    "R_recur_DJF_98 = R_recur[1795:1885,:,:]"
   ]
  },
  {
   "cell_type": "code",
   "execution_count": 22,
   "id": "cb023fa5",
   "metadata": {},
   "outputs": [],
   "source": [
    "# DJF   99\n",
    "Q_net_DJF_99 = Q_net[2160:2250,:,:]\n",
    "ZAdv_DJF_99 = ZAdv[2160:2250,:,:]\n",
    "MAdv_DJF_99 = MAdv[2160:2250,:,:]\n",
    "VAdv_DJF_99 = VAdv[2160:2250,:,:]\n",
    "R_origin_DJF_99 = R_origin[2160:2250,:,:]\n",
    "dT_dt_DJF_99 = dT_dt[2160:2250,:,:]\n",
    "R_recur_DJF_99 = R_recur[2160:2250,:,:]"
   ]
  },
  {
   "cell_type": "code",
   "execution_count": 23,
   "id": "eabcc9e2",
   "metadata": {},
   "outputs": [],
   "source": [
    "# DJF   00\n",
    "Q_net_DJF_00 = Q_net[2525:2616,:,:]\n",
    "ZAdv_DJF_00 = ZAdv[2525:2616,:,:]\n",
    "MAdv_DJF_00 = MAdv[2525:2616,:,:]\n",
    "VAdv_DJF_00 = VAdv[2525:2616,:,:]\n",
    "R_origin_DJF_00 = R_origin[2525:2616,:,:]\n",
    "dT_dt_DJF_00 = dT_dt[2525:2616,:,:]\n",
    "R_recur_DJF_00 = R_recur[2525:2616,:,:]"
   ]
  },
  {
   "cell_type": "code",
   "execution_count": 24,
   "id": "e4ff6c64",
   "metadata": {},
   "outputs": [],
   "source": [
    "# DJF   01\n",
    "Q_net_DJF_01 = Q_net[2891:2981,:,:]\n",
    "ZAdv_DJF_01 = ZAdv[2891:2981,:,:]\n",
    "MAdv_DJF_01 = MAdv[2891:2981,:,:]\n",
    "VAdv_DJF_01 = VAdv[2891:2981,:,:]\n",
    "R_origin_DJF_01 = R_origin[2891:2981,:,:]\n",
    "dT_dt_DJF_01 = dT_dt[2891:2981,:,:]\n",
    "R_recur_DJF_01 = R_recur[2891:2981,:,:]"
   ]
  },
  {
   "cell_type": "code",
   "execution_count": 25,
   "id": "82d5aff9",
   "metadata": {},
   "outputs": [],
   "source": [
    "# DJF   02\n",
    "Q_net_DJF_02 = Q_net[3256:3346,:,:]\n",
    "ZAdv_DJF_02 = ZAdv[3256:3346,:,:]\n",
    "MAdv_DJF_02 = MAdv[3256:3346,:,:]\n",
    "VAdv_DJF_02 = VAdv[3256:3346,:,:]\n",
    "R_origin_DJF_02 = R_origin[3256:3346,:,:]\n",
    "dT_dt_DJF_02 = dT_dt[3256:3346,:,:]\n",
    "R_recur_DJF_02 = R_recur[3256:3346,:,:]"
   ]
  },
  {
   "cell_type": "code",
   "execution_count": 26,
   "id": "a332b97f",
   "metadata": {},
   "outputs": [],
   "source": [
    "# DJF   03\n",
    "Q_net_DJF_03 = Q_net[3621:3711,:,:]\n",
    "ZAdv_DJF_03 = ZAdv[3621:3711,:,:]\n",
    "MAdv_DJF_03 = MAdv[3621:3711,:,:]\n",
    "VAdv_DJF_03 = VAdv[3621:3711,:,:]\n",
    "R_origin_DJF_03 = R_origin[3621:3711,:,:]\n",
    "dT_dt_DJF_03 = dT_dt[3621:3711,:,:]\n",
    "R_recur_DJF_03 = R_recur[3621:3711,:,:]"
   ]
  },
  {
   "cell_type": "code",
   "execution_count": 27,
   "id": "a530be25",
   "metadata": {},
   "outputs": [],
   "source": [
    "# DJF   04\n",
    "Q_net_DJF_04 = Q_net[3986:4077,:,:]\n",
    "ZAdv_DJF_04 = ZAdv[3986:4077,:,:]\n",
    "MAdv_DJF_04 = MAdv[3986:4077,:,:]\n",
    "VAdv_DJF_04 = VAdv[3986:4077,:,:]\n",
    "R_origin_DJF_04 = R_origin[3986:4077,:,:]\n",
    "dT_dt_DJF_04 = dT_dt[3986:4077,:,:]\n",
    "R_recur_DJF_04 = R_recur[3986:4077,:,:]"
   ]
  },
  {
   "cell_type": "code",
   "execution_count": 28,
   "id": "4123dc4a",
   "metadata": {},
   "outputs": [],
   "source": [
    "# DJF   05\n",
    "Q_net_DJF_05 = Q_net[4352:4442,:,:]\n",
    "ZAdv_DJF_05 = ZAdv[4352:4442,:,:]\n",
    "MAdv_DJF_05 = MAdv[4352:4442,:,:]\n",
    "VAdv_DJF_05 = VAdv[4352:4442,:,:]\n",
    "R_origin_DJF_05 = R_origin[4352:4442,:,:]\n",
    "dT_dt_DJF_05 = dT_dt[4352:4442,:,:]\n",
    "R_recur_DJF_05 = R_recur[4352:4442,:,:]"
   ]
  },
  {
   "cell_type": "code",
   "execution_count": 29,
   "id": "1d23f863",
   "metadata": {},
   "outputs": [],
   "source": [
    "# DJF   06\n",
    "Q_net_DJF_06 = Q_net[4717:4807,:,:]\n",
    "ZAdv_DJF_06 = ZAdv[4717:4807,:,:]\n",
    "MAdv_DJF_06 = MAdv[4717:4807,:,:]\n",
    "VAdv_DJF_06 = VAdv[4717:4807,:,:]\n",
    "R_origin_DJF_06 = R_origin[4717:4807,:,:]\n",
    "dT_dt_DJF_06 = dT_dt[4717:4807,:,:]\n",
    "R_recur_DJF_06 = R_recur[4717:4807,:,:]"
   ]
  },
  {
   "cell_type": "code",
   "execution_count": 30,
   "id": "0012c05c",
   "metadata": {},
   "outputs": [],
   "source": [
    "# DJF   07\n",
    "Q_net_DJF_07 = Q_net[5082:5172,:,:]\n",
    "ZAdv_DJF_07 = ZAdv[5082:5172,:,:]\n",
    "MAdv_DJF_07 = MAdv[5082:5172,:,:]\n",
    "VAdv_DJF_07 = VAdv[5082:5172,:,:]\n",
    "R_origin_DJF_07 = R_origin[5082:5172,:,:]\n",
    "dT_dt_DJF_07 = dT_dt[5082:5172,:,:]\n",
    "R_recur_DJF_07 = R_recur[5082:5172,:,:]"
   ]
  },
  {
   "cell_type": "code",
   "execution_count": 31,
   "id": "5b88c3fd",
   "metadata": {},
   "outputs": [],
   "source": [
    "# DJF   08\n",
    "Q_net_DJF_08 = Q_net[5447:5538,:,:]\n",
    "ZAdv_DJF_08 = ZAdv[5447:5538,:,:]\n",
    "MAdv_DJF_08 = MAdv[5447:5538,:,:]\n",
    "VAdv_DJF_08 = VAdv[5447:5538,:,:]\n",
    "R_origin_DJF_08 = R_origin[5447:5538,:,:]\n",
    "dT_dt_DJF_08 = dT_dt[5447:5538,:,:]\n",
    "R_recur_DJF_08 = R_recur[5447:5538,:,:]"
   ]
  },
  {
   "cell_type": "code",
   "execution_count": 32,
   "id": "232705eb",
   "metadata": {},
   "outputs": [],
   "source": [
    "# DJF   09\n",
    "Q_net_DJF_09 = Q_net[5813:5903,:,:]\n",
    "ZAdv_DJF_09 = ZAdv[5813:5903,:,:]\n",
    "MAdv_DJF_09 = MAdv[5813:5903,:,:]\n",
    "VAdv_DJF_09 = VAdv[5813:5903,:,:]\n",
    "R_origin_DJF_09 = R_origin[5813:5903,:,:]\n",
    "dT_dt_DJF_09 = dT_dt[5813:5903,:,:]\n",
    "R_recur_DJF_09 = R_recur[5813:5903,:,:]"
   ]
  },
  {
   "cell_type": "code",
   "execution_count": 33,
   "id": "a56f9b62",
   "metadata": {},
   "outputs": [],
   "source": [
    "# DJF   10\n",
    "Q_net_DJF_10 = Q_net[6178:6268,:,:]\n",
    "ZAdv_DJF_10 = ZAdv[6178:6268,:,:]\n",
    "MAdv_DJF_10 = MAdv[6178:6268,:,:]\n",
    "VAdv_DJF_10 = VAdv[6178:6268,:,:]\n",
    "R_origin_DJF_10 = R_origin[6178:6268,:,:]\n",
    "dT_dt_DJF_10 = dT_dt[6178:6268,:,:]\n",
    "R_recur_DJF_10 = R_recur[6178:6268,:,:]"
   ]
  },
  {
   "cell_type": "code",
   "execution_count": 34,
   "id": "9a97216e",
   "metadata": {},
   "outputs": [],
   "source": [
    "# DJF   11\n",
    "Q_net_DJF_11 = Q_net[6543:6633,:,:]\n",
    "ZAdv_DJF_11 = ZAdv[6543:6633,:,:]\n",
    "MAdv_DJF_11 = MAdv[6543:6633,:,:]\n",
    "VAdv_DJF_11 = VAdv[6543:6633,:,:]\n",
    "R_origin_DJF_11 = R_origin[6543:6633,:,:]\n",
    "dT_dt_DJF_11 = dT_dt[6543:6633,:,:]\n",
    "R_recur_DJF_11 = R_recur[6543:6633,:,:]"
   ]
  },
  {
   "cell_type": "code",
   "execution_count": 35,
   "id": "0d6962b5",
   "metadata": {},
   "outputs": [],
   "source": [
    "# DJF   12\n",
    "Q_net_DJF_12 = Q_net[6908:6999,:,:]\n",
    "ZAdv_DJF_12 = ZAdv[6908:6999,:,:]\n",
    "MAdv_DJF_12 = MAdv[6908:6999,:,:]\n",
    "VAdv_DJF_12 = VAdv[6908:6999,:,:]\n",
    "R_origin_DJF_12 = R_origin[6908:6999,:,:]\n",
    "dT_dt_DJF_12 = dT_dt[6908:6999,:,:]\n",
    "R_recur_DJF_12 = R_recur[6908:6999,:,:]"
   ]
  },
  {
   "cell_type": "code",
   "execution_count": 36,
   "id": "0bb314f8",
   "metadata": {},
   "outputs": [],
   "source": [
    "# DJF   13\n",
    "Q_net_DJF_13 = Q_net[7274:7364,:,:]\n",
    "ZAdv_DJF_13 = ZAdv[7274:7364,:,:]\n",
    "MAdv_DJF_13 = MAdv[7274:7364,:,:]\n",
    "VAdv_DJF_13 = VAdv[7274:7364,:,:]\n",
    "R_origin_DJF_13 = R_origin[7274:7364,:,:]\n",
    "dT_dt_DJF_13 = dT_dt[7274:7364,:,:]\n",
    "R_recur_DJF_13 = R_recur[7274:7364,:,:]"
   ]
  },
  {
   "cell_type": "code",
   "execution_count": 37,
   "id": "d7e3b175",
   "metadata": {},
   "outputs": [],
   "source": [
    "# DJF   14\n",
    "Q_net_DJF_14 = Q_net[7639:7729,:,:]\n",
    "ZAdv_DJF_14 = ZAdv[7639:7729,:,:]\n",
    "MAdv_DJF_14 = MAdv[7639:7729,:,:]\n",
    "VAdv_DJF_14 = VAdv[7639:7729,:,:]\n",
    "R_origin_DJF_14 = R_origin[7639:7729,:,:]\n",
    "dT_dt_DJF_14 = dT_dt[7639:7729,:,:]\n",
    "R_recur_DJF_14 = R_recur[7639:7729,:,:]"
   ]
  },
  {
   "cell_type": "code",
   "execution_count": 38,
   "id": "2b3c451a",
   "metadata": {},
   "outputs": [],
   "source": [
    "# DJF   15\n",
    "Q_net_DJF_15 = Q_net[8004:8094,:,:]\n",
    "ZAdv_DJF_15 = ZAdv[8004:8094,:,:]\n",
    "MAdv_DJF_15 = MAdv[8004:8094,:,:]\n",
    "VAdv_DJF_15 = VAdv[8004:8094,:,:]\n",
    "R_origin_DJF_15 = R_origin[8004:8094,:,:]\n",
    "dT_dt_DJF_15 = dT_dt[8004:8094,:,:]\n",
    "R_recur_DJF_15 = R_recur[8004:8094,:,:]"
   ]
  },
  {
   "cell_type": "code",
   "execution_count": 39,
   "id": "58452d3b",
   "metadata": {},
   "outputs": [],
   "source": [
    "# DJF   16\n",
    "Q_net_DJF_16 = Q_net[8369:8460,:,:]\n",
    "ZAdv_DJF_16 = ZAdv[8369:8460,:,:]\n",
    "MAdv_DJF_16 = MAdv[8369:8460,:,:]\n",
    "VAdv_DJF_16 = VAdv[8369:8460,:,:]\n",
    "R_origin_DJF_16 = R_origin[8369:8460,:,:]\n",
    "dT_dt_DJF_16 = dT_dt[8369:8460,:,:]\n",
    "R_recur_DJF_16 = R_recur[8369:8460,:,:]"
   ]
  },
  {
   "cell_type": "code",
   "execution_count": 40,
   "id": "0780fc34",
   "metadata": {},
   "outputs": [],
   "source": [
    "# DJF   17\n",
    "Q_net_DJF_17 = Q_net[8735:8825,:,:]\n",
    "ZAdv_DJF_17 = ZAdv[8735:8825,:,:]\n",
    "MAdv_DJF_17 = MAdv[8735:8825,:,:]\n",
    "VAdv_DJF_17 = VAdv[8735:8825,:,:]\n",
    "R_origin_DJF_17 = R_origin[8735:8825,:,:]\n",
    "dT_dt_DJF_17 = dT_dt[8735:8825,:,:]\n",
    "R_recur_DJF_17 = R_recur[8735:8825,:,:]"
   ]
  },
  {
   "cell_type": "code",
   "execution_count": 41,
   "id": "6060b223",
   "metadata": {},
   "outputs": [],
   "source": [
    "# DJF   18\n",
    "Q_net_DJF_18 = Q_net[9100:9190,:,:]\n",
    "ZAdv_DJF_18 = ZAdv[9100:9190,:,:]\n",
    "MAdv_DJF_18 = MAdv[9100:9190,:,:]\n",
    "VAdv_DJF_18 = VAdv[9100:9190,:,:]\n",
    "R_origin_DJF_18 = R_origin[9100:9190,:,:]\n",
    "dT_dt_DJF_18 = dT_dt[9100:9190,:,:]\n",
    "R_recur_DJF_18 = R_recur[9100:9190,:,:]"
   ]
  },
  {
   "cell_type": "code",
   "execution_count": 42,
   "id": "abc719f7",
   "metadata": {},
   "outputs": [],
   "source": [
    "# DJF   19\n",
    "Q_net_DJF_19 = Q_net[9465:9555,:,:]\n",
    "ZAdv_DJF_19 = ZAdv[9465:9555,:,:]\n",
    "MAdv_DJF_19 = MAdv[9465:9555,:,:]\n",
    "VAdv_DJF_19 = VAdv[9465:9555,:,:]\n",
    "R_origin_DJF_19 = R_origin[9465:9555,:,:]\n",
    "dT_dt_DJF_19 = dT_dt[9465:9555,:,:]\n",
    "R_recur_DJF_19 = R_recur[9465:9555,:,:]"
   ]
  },
  {
   "cell_type": "code",
   "execution_count": 43,
   "id": "afc9de5e",
   "metadata": {},
   "outputs": [],
   "source": [
    "Q_net_DJF_93 = np.mean(Q_net_DJF_93, axis = (1,2)).reshape(-1,1)\n",
    "Q_net_DJF_94 = np.mean(Q_net_DJF_94, axis = (1,2)).reshape(-1,1)\n",
    "Q_net_DJF_95 = np.mean(Q_net_DJF_95, axis = (1,2)).reshape(-1,1)\n",
    "Q_net_DJF_96 = np.mean(Q_net_DJF_96, axis = (1,2)).reshape(-1,1)\n",
    "Q_net_DJF_97 = np.mean(Q_net_DJF_97, axis = (1,2)).reshape(-1,1)\n",
    "Q_net_DJF_98 = np.mean(Q_net_DJF_98, axis = (1,2)).reshape(-1,1)\n",
    "Q_net_DJF_99 = np.mean(Q_net_DJF_99, axis = (1,2)).reshape(-1,1)\n",
    "Q_net_DJF_00 = np.mean(Q_net_DJF_00, axis = (1,2)).reshape(-1,1)\n",
    "Q_net_DJF_01 = np.mean(Q_net_DJF_01, axis = (1,2)).reshape(-1,1)\n",
    "Q_net_DJF_02 = np.mean(Q_net_DJF_02, axis = (1,2)).reshape(-1,1)\n",
    "Q_net_DJF_03 = np.mean(Q_net_DJF_03, axis = (1,2)).reshape(-1,1)\n",
    "Q_net_DJF_04 = np.mean(Q_net_DJF_04, axis = (1,2)).reshape(-1,1)\n",
    "Q_net_DJF_05 = np.mean(Q_net_DJF_05, axis = (1,2)).reshape(-1,1)\n",
    "Q_net_DJF_06 = np.mean(Q_net_DJF_06, axis = (1,2)).reshape(-1,1)\n",
    "Q_net_DJF_07 = np.mean(Q_net_DJF_07,axis = (1,2)).reshape(-1,1)\n",
    "Q_net_DJF_08 = np.mean(Q_net_DJF_08, axis = (1,2)).reshape(-1,1)\n",
    "Q_net_DJF_09 = np.mean(Q_net_DJF_09, axis = (1,2)).reshape(-1,1)\n",
    "Q_net_DJF_10 = np.mean(Q_net_DJF_10, axis = (1,2)).reshape(-1,1)\n",
    "Q_net_DJF_11 = np.mean(Q_net_DJF_11, axis = (1,2)).reshape(-1,1)\n",
    "Q_net_DJF_12 = np.mean(Q_net_DJF_12, axis = (1,2)).reshape(-1,1)\n",
    "Q_net_DJF_13 = np.mean(Q_net_DJF_13, axis = (1,2)).reshape(-1,1)\n",
    "Q_net_DJF_14 = np.mean(Q_net_DJF_14, axis = (1,2)).reshape(-1,1)\n",
    "Q_net_DJF_15 = np.mean(Q_net_DJF_15, axis = (1,2)).reshape(-1,1)\n",
    "Q_net_DJF_16 = np.mean(Q_net_DJF_16, axis = (1,2)).reshape(-1,1)\n",
    "Q_net_DJF_17 = np.mean(Q_net_DJF_17, axis = (1,2)).reshape(-1,1)\n",
    "Q_net_DJF_18 = np.mean(Q_net_DJF_18, axis = (1,2)).reshape(-1,1)\n",
    "Q_net_DJF_19 = np.mean(Q_net_DJF_19, axis = (1,2)).reshape(-1,1)"
   ]
  },
  {
   "cell_type": "code",
   "execution_count": 44,
   "id": "2e4c6122",
   "metadata": {},
   "outputs": [],
   "source": [
    "Q_net_DJF_93 = np.mean(Q_net_DJF_93).reshape(-1,1)\n",
    "Q_net_DJF_94 = np.mean(Q_net_DJF_94).reshape(-1,1)\n",
    "Q_net_DJF_95 = np.mean(Q_net_DJF_95).reshape(-1,1)\n",
    "Q_net_DJF_96 = np.mean(Q_net_DJF_96).reshape(-1,1)\n",
    "Q_net_DJF_97 = np.mean(Q_net_DJF_97).reshape(-1,1)\n",
    "Q_net_DJF_98 = np.mean(Q_net_DJF_98).reshape(-1,1)\n",
    "Q_net_DJF_99 = np.mean(Q_net_DJF_99).reshape(-1,1)\n",
    "Q_net_DJF_00 = np.mean(Q_net_DJF_00).reshape(-1,1)\n",
    "Q_net_DJF_01 = np.mean(Q_net_DJF_01).reshape(-1,1)\n",
    "Q_net_DJF_02 = np.mean(Q_net_DJF_02).reshape(-1,1)\n",
    "Q_net_DJF_03 = np.mean(Q_net_DJF_03).reshape(-1,1)\n",
    "Q_net_DJF_04 = np.mean(Q_net_DJF_04).reshape(-1,1)\n",
    "Q_net_DJF_05 = np.mean(Q_net_DJF_05).reshape(-1,1)\n",
    "Q_net_DJF_06 = np.mean(Q_net_DJF_06).reshape(-1,1)\n",
    "Q_net_DJF_07 = np.mean(Q_net_DJF_07).reshape(-1,1)\n",
    "Q_net_DJF_08 = np.mean(Q_net_DJF_08).reshape(-1,1)\n",
    "Q_net_DJF_09 = np.mean(Q_net_DJF_09).reshape(-1,1)\n",
    "Q_net_DJF_10 = np.mean(Q_net_DJF_10).reshape(-1,1)\n",
    "Q_net_DJF_11 = np.mean(Q_net_DJF_11).reshape(-1,1)\n",
    "Q_net_DJF_12 = np.mean(Q_net_DJF_12).reshape(-1,1)\n",
    "Q_net_DJF_13 = np.mean(Q_net_DJF_13).reshape(-1,1)\n",
    "Q_net_DJF_14 = np.mean(Q_net_DJF_14).reshape(-1,1)\n",
    "Q_net_DJF_15 = np.mean(Q_net_DJF_15).reshape(-1,1)\n",
    "Q_net_DJF_16 = np.mean(Q_net_DJF_16).reshape(-1,1)\n",
    "Q_net_DJF_17 = np.mean(Q_net_DJF_17).reshape(-1,1)\n",
    "Q_net_DJF_18 = np.mean(Q_net_DJF_18).reshape(-1,1)\n",
    "Q_net_DJF_19 = np.mean(Q_net_DJF_19).reshape(-1,1)"
   ]
  },
  {
   "cell_type": "code",
   "execution_count": 45,
   "id": "7464a358",
   "metadata": {},
   "outputs": [],
   "source": [
    "ZAdv_DJF_93 = np.mean(ZAdv_DJF_93, axis = (1,2)).reshape(-1,1)\n",
    "ZAdv_DJF_94 = np.mean(ZAdv_DJF_94, axis = (1,2)).reshape(-1,1)\n",
    "ZAdv_DJF_95 = np.mean(ZAdv_DJF_95, axis = (1,2)).reshape(-1,1)\n",
    "ZAdv_DJF_96 = np.mean(ZAdv_DJF_96, axis = (1,2)).reshape(-1,1)\n",
    "ZAdv_DJF_97 = np.mean(ZAdv_DJF_97, axis = (1,2)).reshape(-1,1)\n",
    "ZAdv_DJF_98 = np.mean(ZAdv_DJF_98, axis = (1,2)).reshape(-1,1)\n",
    "ZAdv_DJF_99 = np.mean(ZAdv_DJF_99, axis = (1,2)).reshape(-1,1)\n",
    "ZAdv_DJF_00 = np.mean(ZAdv_DJF_00, axis = (1,2)).reshape(-1,1)\n",
    "ZAdv_DJF_01 = np.mean(ZAdv_DJF_01, axis = (1,2)).reshape(-1,1)\n",
    "ZAdv_DJF_02 = np.mean(ZAdv_DJF_02, axis = (1,2)).reshape(-1,1)\n",
    "ZAdv_DJF_03 = np.mean(ZAdv_DJF_03, axis = (1,2)).reshape(-1,1)\n",
    "ZAdv_DJF_04 = np.mean(ZAdv_DJF_04, axis = (1,2)).reshape(-1,1)\n",
    "ZAdv_DJF_05 = np.mean(ZAdv_DJF_05, axis = (1,2)).reshape(-1,1)\n",
    "ZAdv_DJF_06 = np.mean(ZAdv_DJF_06, axis = (1,2)).reshape(-1,1)\n",
    "ZAdv_DJF_07 = np.mean(ZAdv_DJF_07, axis = (1,2)).reshape(-1,1)\n",
    "ZAdv_DJF_08 = np.mean(ZAdv_DJF_08, axis = (1,2)).reshape(-1,1)\n",
    "ZAdv_DJF_09 = np.mean(ZAdv_DJF_09, axis = (1,2)).reshape(-1,1)\n",
    "ZAdv_DJF_10 = np.mean(ZAdv_DJF_10, axis = (1,2)).reshape(-1,1)\n",
    "ZAdv_DJF_11 = np.mean(ZAdv_DJF_11, axis = (1,2)).reshape(-1,1)\n",
    "ZAdv_DJF_12 = np.mean(ZAdv_DJF_12, axis = (1,2)).reshape(-1,1)\n",
    "ZAdv_DJF_13 = np.mean(ZAdv_DJF_13, axis = (1,2)).reshape(-1,1)\n",
    "ZAdv_DJF_14 = np.mean(ZAdv_DJF_14, axis = (1,2)).reshape(-1,1)\n",
    "ZAdv_DJF_15 = np.mean(ZAdv_DJF_15, axis = (1,2)).reshape(-1,1)\n",
    "ZAdv_DJF_16 = np.mean(ZAdv_DJF_16, axis = (1,2)).reshape(-1,1)\n",
    "ZAdv_DJF_17 = np.mean(ZAdv_DJF_17, axis = (1,2)).reshape(-1,1)\n",
    "ZAdv_DJF_18 = np.mean(ZAdv_DJF_18, axis = (1,2)).reshape(-1,1)\n",
    "ZAdv_DJF_19 = np.mean(ZAdv_DJF_19, axis = (1,2)).reshape(-1,1)"
   ]
  },
  {
   "cell_type": "code",
   "execution_count": 46,
   "id": "c014a763",
   "metadata": {},
   "outputs": [],
   "source": [
    "ZAdv_DJF_93 = np.mean(ZAdv_DJF_93).reshape(-1,1)\n",
    "ZAdv_DJF_94 = np.mean(ZAdv_DJF_94).reshape(-1,1)\n",
    "ZAdv_DJF_95 = np.mean(ZAdv_DJF_95).reshape(-1,1)\n",
    "ZAdv_DJF_96 = np.mean(ZAdv_DJF_96).reshape(-1,1)\n",
    "ZAdv_DJF_97 = np.mean(ZAdv_DJF_97).reshape(-1,1)\n",
    "ZAdv_DJF_98 = np.mean(ZAdv_DJF_98).reshape(-1,1)\n",
    "ZAdv_DJF_99 = np.mean(ZAdv_DJF_99).reshape(-1,1)\n",
    "ZAdv_DJF_00 = np.mean(ZAdv_DJF_00).reshape(-1,1)\n",
    "ZAdv_DJF_01 = np.mean(ZAdv_DJF_01).reshape(-1,1)\n",
    "ZAdv_DJF_02 = np.mean(ZAdv_DJF_02).reshape(-1,1)\n",
    "ZAdv_DJF_03 = np.mean(ZAdv_DJF_03).reshape(-1,1)\n",
    "ZAdv_DJF_04 = np.mean(ZAdv_DJF_04).reshape(-1,1)\n",
    "ZAdv_DJF_05 = np.mean(ZAdv_DJF_05).reshape(-1,1)\n",
    "ZAdv_DJF_06 = np.mean(ZAdv_DJF_06).reshape(-1,1)\n",
    "ZAdv_DJF_07 = np.mean(ZAdv_DJF_07).reshape(-1,1)\n",
    "ZAdv_DJF_08 = np.mean(ZAdv_DJF_08).reshape(-1,1)\n",
    "ZAdv_DJF_09 = np.mean(ZAdv_DJF_09).reshape(-1,1)\n",
    "ZAdv_DJF_10 = np.mean(ZAdv_DJF_10).reshape(-1,1)\n",
    "ZAdv_DJF_11 = np.mean(ZAdv_DJF_11).reshape(-1,1)\n",
    "ZAdv_DJF_12 = np.mean(ZAdv_DJF_12).reshape(-1,1)\n",
    "ZAdv_DJF_13 = np.mean(ZAdv_DJF_13).reshape(-1,1)\n",
    "ZAdv_DJF_14 = np.mean(ZAdv_DJF_14).reshape(-1,1)\n",
    "ZAdv_DJF_15 = np.mean(ZAdv_DJF_15).reshape(-1,1)\n",
    "ZAdv_DJF_16 = np.mean(ZAdv_DJF_16).reshape(-1,1)\n",
    "ZAdv_DJF_17 = np.mean(ZAdv_DJF_17).reshape(-1,1)\n",
    "ZAdv_DJF_18 = np.mean(ZAdv_DJF_18).reshape(-1,1)\n",
    "ZAdv_DJF_19 = np.mean(ZAdv_DJF_19).reshape(-1,1)"
   ]
  },
  {
   "cell_type": "code",
   "execution_count": 47,
   "id": "da47cf5c",
   "metadata": {},
   "outputs": [],
   "source": [
    "MAdv_DJF_93 = np.mean(MAdv_DJF_93, axis = (1,2)).reshape(-1,1)\n",
    "MAdv_DJF_94 = np.mean(MAdv_DJF_94, axis = (1,2)).reshape(-1,1)\n",
    "MAdv_DJF_95 = np.mean(MAdv_DJF_95, axis = (1,2)).reshape(-1,1)\n",
    "MAdv_DJF_96 = np.mean(MAdv_DJF_96, axis = (1,2)).reshape(-1,1)\n",
    "MAdv_DJF_97 = np.mean(MAdv_DJF_97, axis = (1,2)).reshape(-1,1)\n",
    "MAdv_DJF_98 = np.mean(MAdv_DJF_98, axis = (1,2)).reshape(-1,1)\n",
    "MAdv_DJF_99 = np.mean(MAdv_DJF_99, axis = (1,2)).reshape(-1,1)\n",
    "MAdv_DJF_00 = np.mean(MAdv_DJF_00, axis = (1,2)).reshape(-1,1)\n",
    "MAdv_DJF_01 = np.mean(MAdv_DJF_01, axis = (1,2)).reshape(-1,1)\n",
    "MAdv_DJF_02 = np.mean(MAdv_DJF_02, axis = (1,2)).reshape(-1,1)\n",
    "MAdv_DJF_03 = np.mean(MAdv_DJF_03, axis = (1,2)).reshape(-1,1)\n",
    "MAdv_DJF_04 = np.mean(MAdv_DJF_04, axis = (1,2)).reshape(-1,1)\n",
    "MAdv_DJF_05 = np.mean(MAdv_DJF_05, axis = (1,2)).reshape(-1,1)\n",
    "MAdv_DJF_06 = np.mean(MAdv_DJF_06, axis = (1,2)).reshape(-1,1)\n",
    "MAdv_DJF_07 = np.mean(MAdv_DJF_07, axis = (1,2)).reshape(-1,1)\n",
    "MAdv_DJF_08 = np.mean(MAdv_DJF_08, axis = (1,2)).reshape(-1,1)\n",
    "MAdv_DJF_09 = np.mean(MAdv_DJF_09, axis = (1,2)).reshape(-1,1)\n",
    "MAdv_DJF_10 = np.mean(MAdv_DJF_10, axis = (1,2)).reshape(-1,1)\n",
    "MAdv_DJF_11 = np.mean(MAdv_DJF_11, axis = (1,2)).reshape(-1,1)\n",
    "MAdv_DJF_12 = np.mean(MAdv_DJF_12, axis = (1,2)).reshape(-1,1)\n",
    "MAdv_DJF_13 = np.mean(MAdv_DJF_13, axis = (1,2)).reshape(-1,1)\n",
    "MAdv_DJF_14 = np.mean(MAdv_DJF_14, axis = (1,2)).reshape(-1,1)\n",
    "MAdv_DJF_15 = np.mean(MAdv_DJF_15, axis = (1,2)).reshape(-1,1)\n",
    "MAdv_DJF_16 = np.mean(MAdv_DJF_16, axis = (1,2)).reshape(-1,1)\n",
    "MAdv_DJF_17 = np.mean(MAdv_DJF_17, axis = (1,2)).reshape(-1,1)\n",
    "MAdv_DJF_18 = np.mean(MAdv_DJF_18, axis = (1,2)).reshape(-1,1)\n",
    "MAdv_DJF_19 = np.mean(MAdv_DJF_19, axis = (1,2)).reshape(-1,1)"
   ]
  },
  {
   "cell_type": "code",
   "execution_count": 48,
   "id": "987b19ea",
   "metadata": {},
   "outputs": [],
   "source": [
    "MAdv_DJF_93 = np.mean(MAdv_DJF_93).reshape(-1,1)\n",
    "MAdv_DJF_94 = np.mean(MAdv_DJF_94).reshape(-1,1)\n",
    "MAdv_DJF_95 = np.mean(MAdv_DJF_95).reshape(-1,1)\n",
    "MAdv_DJF_96 = np.mean(MAdv_DJF_96).reshape(-1,1)\n",
    "MAdv_DJF_97 = np.mean(MAdv_DJF_97).reshape(-1,1)\n",
    "MAdv_DJF_98 = np.mean(MAdv_DJF_98).reshape(-1,1)\n",
    "MAdv_DJF_99 = np.mean(MAdv_DJF_99).reshape(-1,1)\n",
    "MAdv_DJF_00 = np.mean(MAdv_DJF_00).reshape(-1,1)\n",
    "MAdv_DJF_01 = np.mean(MAdv_DJF_01).reshape(-1,1)\n",
    "MAdv_DJF_02 = np.mean(MAdv_DJF_02).reshape(-1,1)\n",
    "MAdv_DJF_03 = np.mean(MAdv_DJF_03).reshape(-1,1)\n",
    "MAdv_DJF_04 = np.mean(MAdv_DJF_04).reshape(-1,1)\n",
    "MAdv_DJF_05 = np.mean(MAdv_DJF_05).reshape(-1,1)\n",
    "MAdv_DJF_06 = np.mean(MAdv_DJF_06).reshape(-1,1)\n",
    "MAdv_DJF_07 = np.mean(MAdv_DJF_07).reshape(-1,1)\n",
    "MAdv_DJF_08 = np.mean(MAdv_DJF_08).reshape(-1,1)\n",
    "MAdv_DJF_09 = np.mean(MAdv_DJF_09).reshape(-1,1)\n",
    "MAdv_DJF_10 = np.mean(MAdv_DJF_10).reshape(-1,1)\n",
    "MAdv_DJF_11 = np.mean(MAdv_DJF_11).reshape(-1,1)\n",
    "MAdv_DJF_12 = np.mean(MAdv_DJF_12).reshape(-1,1)\n",
    "MAdv_DJF_13 = np.mean(MAdv_DJF_13).reshape(-1,1)\n",
    "MAdv_DJF_14 = np.mean(MAdv_DJF_14).reshape(-1,1)\n",
    "MAdv_DJF_15 = np.mean(MAdv_DJF_15).reshape(-1,1)\n",
    "MAdv_DJF_16 = np.mean(MAdv_DJF_16).reshape(-1,1)\n",
    "MAdv_DJF_17 = np.mean(MAdv_DJF_17).reshape(-1,1)\n",
    "MAdv_DJF_18 = np.mean(MAdv_DJF_18).reshape(-1,1)\n",
    "MAdv_DJF_19 = np.mean(MAdv_DJF_19).reshape(-1,1)"
   ]
  },
  {
   "cell_type": "code",
   "execution_count": 49,
   "id": "feba7879",
   "metadata": {},
   "outputs": [],
   "source": [
    "VAdv_DJF_93 = np.mean(VAdv_DJF_93, axis = (1,2)).reshape(-1,1)\n",
    "VAdv_DJF_94 = np.mean(VAdv_DJF_94, axis = (1,2)).reshape(-1,1)\n",
    "VAdv_DJF_95 = np.mean(VAdv_DJF_95, axis = (1,2)).reshape(-1,1)\n",
    "VAdv_DJF_96 = np.mean(VAdv_DJF_96, axis = (1,2)).reshape(-1,1)\n",
    "VAdv_DJF_97 = np.mean(VAdv_DJF_97, axis = (1,2)).reshape(-1,1)\n",
    "VAdv_DJF_98 = np.mean(VAdv_DJF_98, axis = (1,2)).reshape(-1,1)\n",
    "VAdv_DJF_99 = np.mean(VAdv_DJF_99, axis = (1,2)).reshape(-1,1)\n",
    "VAdv_DJF_00 = np.mean(VAdv_DJF_00, axis = (1,2)).reshape(-1,1)\n",
    "VAdv_DJF_01 = np.mean(VAdv_DJF_01, axis = (1,2)).reshape(-1,1)\n",
    "VAdv_DJF_02 = np.mean(VAdv_DJF_02, axis = (1,2)).reshape(-1,1)\n",
    "VAdv_DJF_03 = np.mean(VAdv_DJF_03, axis = (1,2)).reshape(-1,1)\n",
    "VAdv_DJF_04 = np.mean(VAdv_DJF_04, axis = (1,2)).reshape(-1,1)\n",
    "VAdv_DJF_05 = np.mean(VAdv_DJF_05, axis = (1,2)).reshape(-1,1)\n",
    "VAdv_DJF_06 = np.mean(VAdv_DJF_06, axis = (1,2)).reshape(-1,1)\n",
    "VAdv_DJF_07 = np.mean(VAdv_DJF_07, axis = (1,2)).reshape(-1,1)\n",
    "VAdv_DJF_08 = np.mean(VAdv_DJF_08, axis = (1,2)).reshape(-1,1)\n",
    "VAdv_DJF_09 = np.mean(VAdv_DJF_09, axis = (1,2)).reshape(-1,1)\n",
    "VAdv_DJF_10 = np.mean(VAdv_DJF_10, axis = (1,2)).reshape(-1,1)\n",
    "VAdv_DJF_11 = np.mean(VAdv_DJF_11, axis = (1,2)).reshape(-1,1)\n",
    "VAdv_DJF_12 = np.mean(VAdv_DJF_12, axis = (1,2)).reshape(-1,1)\n",
    "VAdv_DJF_13 = np.mean(VAdv_DJF_13, axis = (1,2)).reshape(-1,1)\n",
    "VAdv_DJF_14 = np.mean(VAdv_DJF_14, axis = (1,2)).reshape(-1,1)\n",
    "VAdv_DJF_15 = np.mean(VAdv_DJF_15, axis = (1,2)).reshape(-1,1)\n",
    "VAdv_DJF_16 = np.mean(VAdv_DJF_16, axis = (1,2)).reshape(-1,1)\n",
    "VAdv_DJF_17 = np.mean(VAdv_DJF_17, axis = (1,2)).reshape(-1,1)\n",
    "VAdv_DJF_18 = np.mean(VAdv_DJF_18, axis = (1,2)).reshape(-1,1)\n",
    "VAdv_DJF_19 = np.mean(VAdv_DJF_19, axis = (1,2)).reshape(-1,1)"
   ]
  },
  {
   "cell_type": "code",
   "execution_count": 50,
   "id": "4d22e22d",
   "metadata": {},
   "outputs": [],
   "source": [
    "VAdv_DJF_93 = np.mean(VAdv_DJF_93).reshape(-1,1)\n",
    "VAdv_DJF_94 = np.mean(VAdv_DJF_94).reshape(-1,1)\n",
    "VAdv_DJF_95 = np.mean(VAdv_DJF_95).reshape(-1,1)\n",
    "VAdv_DJF_96 = np.mean(VAdv_DJF_96).reshape(-1,1)\n",
    "VAdv_DJF_97 = np.mean(VAdv_DJF_97).reshape(-1,1)\n",
    "VAdv_DJF_98 = np.mean(VAdv_DJF_98).reshape(-1,1)\n",
    "VAdv_DJF_99 = np.mean(VAdv_DJF_99).reshape(-1,1)\n",
    "VAdv_DJF_00 = np.mean(VAdv_DJF_00).reshape(-1,1)\n",
    "VAdv_DJF_01 = np.mean(VAdv_DJF_01).reshape(-1,1)\n",
    "VAdv_DJF_02 = np.mean(VAdv_DJF_02).reshape(-1,1)\n",
    "VAdv_DJF_03 = np.mean(VAdv_DJF_03).reshape(-1,1)\n",
    "VAdv_DJF_04 = np.mean(VAdv_DJF_04).reshape(-1,1)\n",
    "VAdv_DJF_05 = np.mean(VAdv_DJF_05).reshape(-1,1)\n",
    "VAdv_DJF_06 = np.mean(VAdv_DJF_06).reshape(-1,1)\n",
    "VAdv_DJF_07 = np.mean(VAdv_DJF_07).reshape(-1,1)\n",
    "VAdv_DJF_08 = np.mean(VAdv_DJF_08).reshape(-1,1)\n",
    "VAdv_DJF_09 = np.mean(VAdv_DJF_09).reshape(-1,1)\n",
    "VAdv_DJF_10 = np.mean(VAdv_DJF_10).reshape(-1,1)\n",
    "VAdv_DJF_11 = np.mean(VAdv_DJF_11).reshape(-1,1)\n",
    "VAdv_DJF_12 = np.mean(VAdv_DJF_12).reshape(-1,1)\n",
    "VAdv_DJF_13 = np.mean(VAdv_DJF_13).reshape(-1,1)\n",
    "VAdv_DJF_14 = np.mean(VAdv_DJF_14).reshape(-1,1)\n",
    "VAdv_DJF_15 = np.mean(VAdv_DJF_15).reshape(-1,1)\n",
    "VAdv_DJF_16 = np.mean(VAdv_DJF_16).reshape(-1,1)\n",
    "VAdv_DJF_17 = np.mean(VAdv_DJF_17).reshape(-1,1)\n",
    "VAdv_DJF_18 = np.mean(VAdv_DJF_18).reshape(-1,1)\n",
    "VAdv_DJF_19 = np.mean(VAdv_DJF_19).reshape(-1,1)"
   ]
  },
  {
   "cell_type": "code",
   "execution_count": 51,
   "id": "8b87836f",
   "metadata": {},
   "outputs": [],
   "source": [
    "R_origin_DJF_93 = np.mean(R_origin_DJF_93, axis = (1,2)).reshape(-1,1)\n",
    "R_origin_DJF_94 = np.mean(R_origin_DJF_94, axis = (1,2)).reshape(-1,1)\n",
    "R_origin_DJF_95 = np.mean(R_origin_DJF_95, axis = (1,2)).reshape(-1,1)\n",
    "R_origin_DJF_96 = np.mean(R_origin_DJF_96, axis = (1,2)).reshape(-1,1)\n",
    "R_origin_DJF_97 = np.mean(R_origin_DJF_97, axis = (1,2)).reshape(-1,1)\n",
    "R_origin_DJF_98 = np.mean(R_origin_DJF_98, axis = (1,2)).reshape(-1,1)\n",
    "R_origin_DJF_99 = np.mean(R_origin_DJF_99, axis = (1,2)).reshape(-1,1)\n",
    "R_origin_DJF_00 = np.mean(R_origin_DJF_00, axis = (1,2)).reshape(-1,1)\n",
    "R_origin_DJF_01 = np.mean(R_origin_DJF_01, axis = (1,2)).reshape(-1,1)\n",
    "R_origin_DJF_02 = np.mean(R_origin_DJF_02, axis = (1,2)).reshape(-1,1)\n",
    "R_origin_DJF_03 = np.mean(R_origin_DJF_03, axis = (1,2)).reshape(-1,1)\n",
    "R_origin_DJF_04 = np.mean(R_origin_DJF_04, axis = (1,2)).reshape(-1,1)\n",
    "R_origin_DJF_05 = np.mean(R_origin_DJF_05, axis = (1,2)).reshape(-1,1)\n",
    "R_origin_DJF_06 = np.mean(R_origin_DJF_06, axis = (1,2)).reshape(-1,1)\n",
    "R_origin_DJF_07 = np.mean(R_origin_DJF_07, axis = (1,2)).reshape(-1,1)\n",
    "R_origin_DJF_08 = np.mean(R_origin_DJF_08, axis = (1,2)).reshape(-1,1)\n",
    "R_origin_DJF_09 = np.mean(R_origin_DJF_09, axis = (1,2)).reshape(-1,1)\n",
    "R_origin_DJF_10 = np.mean(R_origin_DJF_10, axis = (1,2)).reshape(-1,1)\n",
    "R_origin_DJF_11 = np.mean(R_origin_DJF_11, axis = (1,2)).reshape(-1,1)\n",
    "R_origin_DJF_12 = np.mean(R_origin_DJF_12, axis = (1,2)).reshape(-1,1)\n",
    "R_origin_DJF_13 = np.mean(R_origin_DJF_13, axis = (1,2)).reshape(-1,1)\n",
    "R_origin_DJF_14 = np.mean(R_origin_DJF_14, axis = (1,2)).reshape(-1,1)\n",
    "R_origin_DJF_15 = np.mean(R_origin_DJF_15, axis = (1,2)).reshape(-1,1)\n",
    "R_origin_DJF_16 = np.mean(R_origin_DJF_16, axis = (1,2)).reshape(-1,1)\n",
    "R_origin_DJF_17 = np.mean(R_origin_DJF_17, axis = (1,2)).reshape(-1,1)\n",
    "R_origin_DJF_18 = np.mean(R_origin_DJF_18, axis = (1,2)).reshape(-1,1)\n",
    "R_origin_DJF_19 = np.mean(R_origin_DJF_19, axis = (1,2)).reshape(-1,1)"
   ]
  },
  {
   "cell_type": "code",
   "execution_count": 52,
   "id": "722b847a",
   "metadata": {},
   "outputs": [],
   "source": [
    "R_origin_DJF_93 = np.mean(R_origin_DJF_93).reshape(-1,1)\n",
    "R_origin_DJF_94 = np.mean(R_origin_DJF_94).reshape(-1,1)\n",
    "R_origin_DJF_95 = np.mean(R_origin_DJF_95).reshape(-1,1)\n",
    "R_origin_DJF_96 = np.mean(R_origin_DJF_96).reshape(-1,1)\n",
    "R_origin_DJF_97 = np.mean(R_origin_DJF_97).reshape(-1,1)\n",
    "R_origin_DJF_98 = np.mean(R_origin_DJF_98).reshape(-1,1)\n",
    "R_origin_DJF_99 = np.mean(R_origin_DJF_99).reshape(-1,1)\n",
    "R_origin_DJF_00 = np.mean(R_origin_DJF_00).reshape(-1,1)\n",
    "R_origin_DJF_01 = np.mean(R_origin_DJF_01).reshape(-1,1)\n",
    "R_origin_DJF_02 = np.mean(R_origin_DJF_02).reshape(-1,1)\n",
    "R_origin_DJF_03 = np.mean(R_origin_DJF_03).reshape(-1,1)\n",
    "R_origin_DJF_04 = np.mean(R_origin_DJF_04).reshape(-1,1)\n",
    "R_origin_DJF_05 = np.mean(R_origin_DJF_05).reshape(-1,1)\n",
    "R_origin_DJF_06 = np.mean(R_origin_DJF_06).reshape(-1,1)\n",
    "R_origin_DJF_07 = np.mean(R_origin_DJF_07).reshape(-1,1)\n",
    "R_origin_DJF_08 = np.mean(R_origin_DJF_08).reshape(-1,1)\n",
    "R_origin_DJF_09 = np.mean(R_origin_DJF_09).reshape(-1,1)\n",
    "R_origin_DJF_10 = np.mean(R_origin_DJF_10).reshape(-1,1)\n",
    "R_origin_DJF_11 = np.mean(R_origin_DJF_11).reshape(-1,1)\n",
    "R_origin_DJF_12 = np.mean(R_origin_DJF_12).reshape(-1,1)\n",
    "R_origin_DJF_13 = np.mean(R_origin_DJF_13).reshape(-1,1)\n",
    "R_origin_DJF_14 = np.mean(R_origin_DJF_14).reshape(-1,1)\n",
    "R_origin_DJF_15 = np.mean(R_origin_DJF_15).reshape(-1,1)\n",
    "R_origin_DJF_16 = np.mean(R_origin_DJF_16).reshape(-1,1)\n",
    "R_origin_DJF_17 = np.mean(R_origin_DJF_17).reshape(-1,1)\n",
    "R_origin_DJF_18 = np.mean(R_origin_DJF_18).reshape(-1,1)\n",
    "R_origin_DJF_19 = np.mean(R_origin_DJF_19).reshape(-1,1)"
   ]
  },
  {
   "cell_type": "code",
   "execution_count": 53,
   "id": "3b6b9b2b",
   "metadata": {},
   "outputs": [],
   "source": [
    "dT_dt_DJF_93 = np.mean(dT_dt_DJF_93, axis = (1,2)).reshape(-1,1)\n",
    "dT_dt_DJF_94 = np.mean(dT_dt_DJF_94, axis = (1,2)).reshape(-1,1)\n",
    "dT_dt_DJF_95 = np.mean(dT_dt_DJF_95, axis = (1,2)).reshape(-1,1)\n",
    "dT_dt_DJF_96 = np.mean(dT_dt_DJF_96, axis = (1,2)).reshape(-1,1)\n",
    "dT_dt_DJF_97 = np.mean(dT_dt_DJF_97, axis = (1,2)).reshape(-1,1)\n",
    "dT_dt_DJF_98 = np.mean(dT_dt_DJF_98, axis = (1,2)).reshape(-1,1)\n",
    "dT_dt_DJF_99 = np.mean(dT_dt_DJF_99, axis = (1,2)).reshape(-1,1)\n",
    "dT_dt_DJF_00 = np.mean(dT_dt_DJF_00, axis = (1,2)).reshape(-1,1)\n",
    "dT_dt_DJF_01 = np.mean(dT_dt_DJF_01, axis = (1,2)).reshape(-1,1)\n",
    "dT_dt_DJF_02 = np.mean(dT_dt_DJF_02, axis = (1,2)).reshape(-1,1)\n",
    "dT_dt_DJF_03 = np.mean(dT_dt_DJF_03, axis = (1,2)).reshape(-1,1)\n",
    "dT_dt_DJF_04 = np.mean(dT_dt_DJF_04, axis = (1,2)).reshape(-1,1)\n",
    "dT_dt_DJF_05 = np.mean(dT_dt_DJF_05, axis = (1,2)).reshape(-1,1)\n",
    "dT_dt_DJF_06 = np.mean(dT_dt_DJF_06, axis = (1,2)).reshape(-1,1)\n",
    "dT_dt_DJF_07 = np.mean(dT_dt_DJF_07, axis = (1,2)).reshape(-1,1)\n",
    "dT_dt_DJF_08 = np.mean(dT_dt_DJF_08, axis = (1,2)).reshape(-1,1)\n",
    "dT_dt_DJF_09 = np.mean(dT_dt_DJF_09, axis = (1,2)).reshape(-1,1)\n",
    "dT_dt_DJF_10 = np.mean(dT_dt_DJF_10, axis = (1,2)).reshape(-1,1)\n",
    "dT_dt_DJF_11 = np.mean(dT_dt_DJF_11, axis = (1,2)).reshape(-1,1)\n",
    "dT_dt_DJF_12 = np.mean(dT_dt_DJF_12, axis = (1,2)).reshape(-1,1)\n",
    "dT_dt_DJF_13 = np.mean(dT_dt_DJF_13, axis = (1,2)).reshape(-1,1)\n",
    "dT_dt_DJF_14 = np.mean(dT_dt_DJF_14, axis = (1,2)).reshape(-1,1)\n",
    "dT_dt_DJF_15 = np.mean(dT_dt_DJF_15, axis = (1,2)).reshape(-1,1)\n",
    "dT_dt_DJF_16 = np.mean(dT_dt_DJF_16, axis = (1,2)).reshape(-1,1)\n",
    "dT_dt_DJF_17 = np.mean(dT_dt_DJF_17, axis = (1,2)).reshape(-1,1)\n",
    "dT_dt_DJF_18 = np.mean(dT_dt_DJF_18, axis = (1,2)).reshape(-1,1)\n",
    "dT_dt_DJF_19 = np.mean(dT_dt_DJF_19, axis = (1,2)).reshape(-1,1)"
   ]
  },
  {
   "cell_type": "code",
   "execution_count": 54,
   "id": "092838a8",
   "metadata": {},
   "outputs": [],
   "source": [
    "dT_dt_DJF_93 = np.mean(dT_dt_DJF_93).reshape(-1,1)\n",
    "dT_dt_DJF_94 = np.mean(dT_dt_DJF_94).reshape(-1,1)\n",
    "dT_dt_DJF_95 = np.mean(dT_dt_DJF_95).reshape(-1,1)\n",
    "dT_dt_DJF_96 = np.mean(dT_dt_DJF_96).reshape(-1,1)\n",
    "dT_dt_DJF_97 = np.mean(dT_dt_DJF_97).reshape(-1,1)\n",
    "dT_dt_DJF_98 = np.mean(dT_dt_DJF_98).reshape(-1,1)\n",
    "dT_dt_DJF_99 = np.mean(dT_dt_DJF_99).reshape(-1,1)\n",
    "dT_dt_DJF_00 = np.mean(dT_dt_DJF_00).reshape(-1,1)\n",
    "dT_dt_DJF_01 = np.mean(dT_dt_DJF_01).reshape(-1,1)\n",
    "dT_dt_DJF_02 = np.mean(dT_dt_DJF_02).reshape(-1,1)\n",
    "dT_dt_DJF_03 = np.mean(dT_dt_DJF_03).reshape(-1,1)\n",
    "dT_dt_DJF_04 = np.mean(dT_dt_DJF_04).reshape(-1,1)\n",
    "dT_dt_DJF_05 = np.mean(dT_dt_DJF_05).reshape(-1,1)\n",
    "dT_dt_DJF_06 = np.mean(dT_dt_DJF_06).reshape(-1,1)\n",
    "dT_dt_DJF_07 = np.mean(dT_dt_DJF_07).reshape(-1,1)\n",
    "dT_dt_DJF_08 = np.mean(dT_dt_DJF_08).reshape(-1,1)\n",
    "dT_dt_DJF_09 = np.mean(dT_dt_DJF_09).reshape(-1,1)\n",
    "dT_dt_DJF_10 = np.mean(dT_dt_DJF_10).reshape(-1,1)\n",
    "dT_dt_DJF_11 = np.mean(dT_dt_DJF_11).reshape(-1,1)\n",
    "dT_dt_DJF_12 = np.mean(dT_dt_DJF_12).reshape(-1,1)\n",
    "dT_dt_DJF_13 = np.mean(dT_dt_DJF_13).reshape(-1,1)\n",
    "dT_dt_DJF_14 = np.mean(dT_dt_DJF_14).reshape(-1,1)\n",
    "dT_dt_DJF_15 = np.mean(dT_dt_DJF_15).reshape(-1,1)\n",
    "dT_dt_DJF_16 = np.mean(dT_dt_DJF_16).reshape(-1,1)\n",
    "dT_dt_DJF_17 = np.mean(dT_dt_DJF_17).reshape(-1,1)\n",
    "dT_dt_DJF_18 = np.mean(dT_dt_DJF_18).reshape(-1,1)\n",
    "dT_dt_DJF_19 = np.mean(dT_dt_DJF_19).reshape(-1,1)"
   ]
  },
  {
   "cell_type": "code",
   "execution_count": 55,
   "id": "4a31cd2a",
   "metadata": {},
   "outputs": [],
   "source": [
    "R_recur_DJF_93 = np.mean(R_recur_DJF_93, axis = (1,2)).reshape(-1,1)\n",
    "R_recur_DJF_94 = np.mean(R_recur_DJF_94, axis = (1,2)).reshape(-1,1)\n",
    "R_recur_DJF_95 = np.mean(R_recur_DJF_95, axis = (1,2)).reshape(-1,1)\n",
    "R_recur_DJF_96 = np.mean(R_recur_DJF_96, axis = (1,2)).reshape(-1,1)\n",
    "R_recur_DJF_97 = np.mean(R_recur_DJF_97, axis = (1,2)).reshape(-1,1)\n",
    "R_recur_DJF_98 = np.mean(R_recur_DJF_98, axis = (1,2)).reshape(-1,1)\n",
    "R_recur_DJF_99 = np.mean(R_recur_DJF_99, axis = (1,2)).reshape(-1,1)\n",
    "R_recur_DJF_00 = np.mean(R_recur_DJF_00, axis = (1,2)).reshape(-1,1)\n",
    "R_recur_DJF_01 = np.mean(R_recur_DJF_01, axis = (1,2)).reshape(-1,1)\n",
    "R_recur_DJF_02 = np.mean(R_recur_DJF_02, axis = (1,2)).reshape(-1,1)\n",
    "R_recur_DJF_03 = np.mean(R_recur_DJF_03, axis = (1,2)).reshape(-1,1)\n",
    "R_recur_DJF_04 = np.mean(R_recur_DJF_04, axis = (1,2)).reshape(-1,1)\n",
    "R_recur_DJF_05 = np.mean(R_recur_DJF_05, axis = (1,2)).reshape(-1,1)\n",
    "R_recur_DJF_06 = np.mean(R_recur_DJF_06, axis = (1,2)).reshape(-1,1)\n",
    "R_recur_DJF_07 = np.mean(R_recur_DJF_07, axis = (1,2)).reshape(-1,1)\n",
    "R_recur_DJF_08 = np.mean(R_recur_DJF_08, axis = (1,2)).reshape(-1,1)\n",
    "R_recur_DJF_09 = np.mean(R_recur_DJF_09, axis = (1,2)).reshape(-1,1)\n",
    "R_recur_DJF_10 = np.mean(R_recur_DJF_10, axis = (1,2)).reshape(-1,1)\n",
    "R_recur_DJF_11 = np.mean(R_recur_DJF_11, axis = (1,2)).reshape(-1,1)\n",
    "R_recur_DJF_12 = np.mean(R_recur_DJF_12, axis = (1,2)).reshape(-1,1)\n",
    "R_recur_DJF_13 = np.mean(R_recur_DJF_13, axis = (1,2)).reshape(-1,1)\n",
    "R_recur_DJF_14 = np.mean(R_recur_DJF_14, axis = (1,2)).reshape(-1,1)\n",
    "R_recur_DJF_15 = np.mean(R_recur_DJF_15, axis = (1,2)).reshape(-1,1)\n",
    "R_recur_DJF_16 = np.mean(R_recur_DJF_16, axis = (1,2)).reshape(-1,1)\n",
    "R_recur_DJF_17 = np.mean(R_recur_DJF_17, axis = (1,2)).reshape(-1,1)\n",
    "R_recur_DJF_18 = np.mean(R_recur_DJF_18, axis = (1,2)).reshape(-1,1)\n",
    "R_recur_DJF_19 = np.mean(R_recur_DJF_19, axis = (1,2)).reshape(-1,1)"
   ]
  },
  {
   "cell_type": "code",
   "execution_count": 56,
   "id": "763363d3",
   "metadata": {},
   "outputs": [],
   "source": [
    "R_recur_DJF_93 = np.mean(R_recur_DJF_93).reshape(-1,1)\n",
    "R_recur_DJF_94 = np.mean(R_recur_DJF_94).reshape(-1,1)\n",
    "R_recur_DJF_95 = np.mean(R_recur_DJF_95).reshape(-1,1)\n",
    "R_recur_DJF_96 = np.mean(R_recur_DJF_96).reshape(-1,1)\n",
    "R_recur_DJF_97 = np.mean(R_recur_DJF_97).reshape(-1,1)\n",
    "R_recur_DJF_98 = np.mean(R_recur_DJF_98).reshape(-1,1)\n",
    "R_recur_DJF_99 = np.mean(R_recur_DJF_99).reshape(-1,1)\n",
    "R_recur_DJF_00 = np.mean(R_recur_DJF_00).reshape(-1,1)\n",
    "R_recur_DJF_01 = np.mean(R_recur_DJF_01).reshape(-1,1)\n",
    "R_recur_DJF_02 = np.mean(R_recur_DJF_02).reshape(-1,1)\n",
    "R_recur_DJF_03 = np.mean(R_recur_DJF_03).reshape(-1,1)\n",
    "R_recur_DJF_04 = np.mean(R_recur_DJF_04).reshape(-1,1)\n",
    "R_recur_DJF_05 = np.mean(R_recur_DJF_05).reshape(-1,1)\n",
    "R_recur_DJF_06 = np.mean(R_recur_DJF_06).reshape(-1,1)\n",
    "R_recur_DJF_07 = np.mean(R_recur_DJF_07).reshape(-1,1)\n",
    "R_recur_DJF_08 = np.mean(R_recur_DJF_08).reshape(-1,1)\n",
    "R_recur_DJF_09 = np.mean(R_recur_DJF_09).reshape(-1,1)\n",
    "R_recur_DJF_10 = np.mean(R_recur_DJF_10).reshape(-1,1)\n",
    "R_recur_DJF_11 = np.mean(R_recur_DJF_11).reshape(-1,1)\n",
    "R_recur_DJF_12 = np.mean(R_recur_DJF_12).reshape(-1,1)\n",
    "R_recur_DJF_13 = np.mean(R_recur_DJF_13).reshape(-1,1)\n",
    "R_recur_DJF_14 = np.mean(R_recur_DJF_14).reshape(-1,1)\n",
    "R_recur_DJF_15 = np.mean(R_recur_DJF_15).reshape(-1,1)\n",
    "R_recur_DJF_16 = np.mean(R_recur_DJF_16).reshape(-1,1)\n",
    "R_recur_DJF_17 = np.mean(R_recur_DJF_17).reshape(-1,1)\n",
    "R_recur_DJF_18 = np.mean(R_recur_DJF_18).reshape(-1,1)\n",
    "R_recur_DJF_19 = np.mean(R_recur_DJF_19).reshape(-1,1)"
   ]
  },
  {
   "cell_type": "code",
   "execution_count": 57,
   "id": "b22e6950",
   "metadata": {},
   "outputs": [
    {
     "data": {
      "text/plain": [
       "(1, 1)"
      ]
     },
     "execution_count": 57,
     "metadata": {},
     "output_type": "execute_result"
    }
   ],
   "source": [
    "Q_net_DJF_93.shape"
   ]
  },
  {
   "cell_type": "code",
   "execution_count": 58,
   "id": "71369c9d",
   "metadata": {},
   "outputs": [
    {
     "data": {
      "text/plain": [
       "(27, 1)"
      ]
     },
     "execution_count": 58,
     "metadata": {},
     "output_type": "execute_result"
    }
   ],
   "source": [
    "Q_net_DJF_93_19 = np.concatenate((Q_net_DJF_93, Q_net_DJF_94, Q_net_DJF_95, Q_net_DJF_96,\n",
    "                                 Q_net_DJF_97, Q_net_DJF_98, Q_net_DJF_99, Q_net_DJF_00, Q_net_DJF_01,\n",
    "                                 Q_net_DJF_02, Q_net_DJF_03, Q_net_DJF_04, Q_net_DJF_05, Q_net_DJF_06,\n",
    "                                 Q_net_DJF_07, Q_net_DJF_08, Q_net_DJF_09, Q_net_DJF_10, Q_net_DJF_11,\n",
    "                                 Q_net_DJF_12, Q_net_DJF_13, Q_net_DJF_14, Q_net_DJF_15, Q_net_DJF_16,\n",
    "                                 Q_net_DJF_17, Q_net_DJF_18, Q_net_DJF_19), axis = 0)\n",
    "Q_net_DJF_93_19.shape"
   ]
  },
  {
   "cell_type": "code",
   "execution_count": 59,
   "id": "4f9029bf",
   "metadata": {},
   "outputs": [
    {
     "data": {
      "text/plain": [
       "(27, 1)"
      ]
     },
     "execution_count": 59,
     "metadata": {},
     "output_type": "execute_result"
    }
   ],
   "source": [
    "ZAdv_DJF_93_19 = np.concatenate((ZAdv_DJF_93, ZAdv_DJF_94, ZAdv_DJF_95, ZAdv_DJF_96,\n",
    "                                 ZAdv_DJF_97, ZAdv_DJF_98, ZAdv_DJF_99, ZAdv_DJF_00, ZAdv_DJF_01,\n",
    "                                 ZAdv_DJF_02, ZAdv_DJF_03, ZAdv_DJF_04, ZAdv_DJF_05, ZAdv_DJF_06,\n",
    "                                 ZAdv_DJF_07, ZAdv_DJF_08, ZAdv_DJF_09, ZAdv_DJF_10, ZAdv_DJF_11,\n",
    "                                 ZAdv_DJF_12, ZAdv_DJF_13, ZAdv_DJF_14, ZAdv_DJF_15, ZAdv_DJF_16,\n",
    "                                 ZAdv_DJF_17, ZAdv_DJF_18, ZAdv_DJF_19), axis = 0)\n",
    "ZAdv_DJF_93_19.shape"
   ]
  },
  {
   "cell_type": "code",
   "execution_count": 60,
   "id": "92bd22ca",
   "metadata": {},
   "outputs": [
    {
     "data": {
      "text/plain": [
       "(27, 1)"
      ]
     },
     "execution_count": 60,
     "metadata": {},
     "output_type": "execute_result"
    }
   ],
   "source": [
    "MAdv_DJF_93_19 = np.concatenate((MAdv_DJF_93, MAdv_DJF_94, MAdv_DJF_95, MAdv_DJF_96,\n",
    "                                 MAdv_DJF_97, MAdv_DJF_98, MAdv_DJF_99, MAdv_DJF_00, MAdv_DJF_01,\n",
    "                                 MAdv_DJF_02, MAdv_DJF_03, MAdv_DJF_04, MAdv_DJF_05, MAdv_DJF_06,\n",
    "                                 MAdv_DJF_07, MAdv_DJF_08, MAdv_DJF_09, MAdv_DJF_10, MAdv_DJF_11,\n",
    "                                 MAdv_DJF_12, MAdv_DJF_13, MAdv_DJF_14, MAdv_DJF_15, MAdv_DJF_16,\n",
    "                                 MAdv_DJF_17, MAdv_DJF_18, MAdv_DJF_19), axis = 0)\n",
    "MAdv_DJF_93_19.shape"
   ]
  },
  {
   "cell_type": "code",
   "execution_count": 61,
   "id": "8b87c5ab",
   "metadata": {},
   "outputs": [
    {
     "data": {
      "text/plain": [
       "(27, 1)"
      ]
     },
     "execution_count": 61,
     "metadata": {},
     "output_type": "execute_result"
    }
   ],
   "source": [
    "VAdv_DJF_93_19 = np.concatenate((VAdv_DJF_93, VAdv_DJF_94, VAdv_DJF_95, VAdv_DJF_96,\n",
    "                                 VAdv_DJF_97, VAdv_DJF_98, VAdv_DJF_99, VAdv_DJF_00, VAdv_DJF_01,\n",
    "                                 VAdv_DJF_02, VAdv_DJF_03, VAdv_DJF_04, VAdv_DJF_05, VAdv_DJF_06,\n",
    "                                 VAdv_DJF_07, VAdv_DJF_08, VAdv_DJF_09, VAdv_DJF_10, VAdv_DJF_11,\n",
    "                                 VAdv_DJF_12, VAdv_DJF_13, VAdv_DJF_14, VAdv_DJF_15, VAdv_DJF_16,\n",
    "                                 VAdv_DJF_17, VAdv_DJF_18, VAdv_DJF_19), axis = 0)\n",
    "VAdv_DJF_93_19.shape"
   ]
  },
  {
   "cell_type": "code",
   "execution_count": 62,
   "id": "701c4146",
   "metadata": {},
   "outputs": [
    {
     "data": {
      "text/plain": [
       "(27, 1)"
      ]
     },
     "execution_count": 62,
     "metadata": {},
     "output_type": "execute_result"
    }
   ],
   "source": [
    "R_origin_DJF_93_19  = np.concatenate((R_origin_DJF_93 , R_origin_DJF_94, R_origin_DJF_95, R_origin_DJF_96,\n",
    "                                 R_origin_DJF_97, R_origin_DJF_98, R_origin_DJF_99, R_origin_DJF_00, R_origin_DJF_01,\n",
    "                                 R_origin_DJF_02, R_origin_DJF_03, R_origin_DJF_04, R_origin_DJF_05, R_origin_DJF_06,\n",
    "                                 R_origin_DJF_07, R_origin_DJF_08, R_origin_DJF_09, R_origin_DJF_10, R_origin_DJF_11,\n",
    "                                 R_origin_DJF_12, R_origin_DJF_13, R_origin_DJF_14, R_origin_DJF_15, R_origin_DJF_16,\n",
    "                                 R_origin_DJF_17, R_origin_DJF_18, R_origin_DJF_19), axis = 0)\n",
    "R_origin_DJF_93_19.shape"
   ]
  },
  {
   "cell_type": "code",
   "execution_count": 63,
   "id": "29823cdf",
   "metadata": {},
   "outputs": [
    {
     "data": {
      "text/plain": [
       "(27, 1)"
      ]
     },
     "execution_count": 63,
     "metadata": {},
     "output_type": "execute_result"
    }
   ],
   "source": [
    "dT_dt_DJF_93_19  = np.concatenate((dT_dt_DJF_93 , dT_dt_DJF_94, dT_dt_DJF_95, dT_dt_DJF_96,\n",
    "                                 dT_dt_DJF_97, dT_dt_DJF_98, dT_dt_DJF_99, dT_dt_DJF_00, dT_dt_DJF_01,\n",
    "                                 dT_dt_DJF_02, dT_dt_DJF_03, dT_dt_DJF_04, dT_dt_DJF_05, dT_dt_DJF_06,\n",
    "                                 dT_dt_DJF_07, dT_dt_DJF_08, dT_dt_DJF_09, dT_dt_DJF_10, dT_dt_DJF_11,\n",
    "                                 dT_dt_DJF_12, dT_dt_DJF_13, dT_dt_DJF_14, dT_dt_DJF_15, dT_dt_DJF_16,\n",
    "                                 dT_dt_DJF_17, dT_dt_DJF_18, dT_dt_DJF_19), axis = 0)\n",
    "dT_dt_DJF_93_19.shape"
   ]
  },
  {
   "cell_type": "code",
   "execution_count": 64,
   "id": "b8f32923",
   "metadata": {},
   "outputs": [
    {
     "data": {
      "text/plain": [
       "(27, 1)"
      ]
     },
     "execution_count": 64,
     "metadata": {},
     "output_type": "execute_result"
    }
   ],
   "source": [
    "R_recur_DJF_93_19  = np.concatenate((R_recur_DJF_93 , R_recur_DJF_94, R_recur_DJF_95, R_recur_DJF_96,\n",
    "                                 R_recur_DJF_97, R_recur_DJF_98, R_recur_DJF_99, R_recur_DJF_00, R_recur_DJF_01,\n",
    "                                 R_recur_DJF_02, R_recur_DJF_03, R_recur_DJF_04, R_recur_DJF_05, R_recur_DJF_06,\n",
    "                                 R_recur_DJF_07, R_recur_DJF_08, R_recur_DJF_09, R_recur_DJF_10, R_recur_DJF_11,\n",
    "                                 R_recur_DJF_12, R_recur_DJF_13, R_recur_DJF_14, R_recur_DJF_15, R_recur_DJF_16,\n",
    "                                 R_recur_DJF_17, R_recur_DJF_18, R_recur_DJF_19), axis = 0)\n",
    "R_recur_DJF_93_19.shape"
   ]
  },
  {
   "cell_type": "code",
   "execution_count": 65,
   "id": "748401bb",
   "metadata": {},
   "outputs": [],
   "source": [
    "np.savez(r'D:\\heat_wave\\atlantic\\expand_area1\\MLD_PLOT\\MLD_equa_DJF.npz',\n",
    "        Q_net_DJF_93_19 = Q_net_DJF_93_19, ZAdv_DJF_93_19 = ZAdv_DJF_93_19,\n",
    "        MAdv_DJF_93_19 = MAdv_DJF_93_19, VAdv_DJF_93_19 = VAdv_DJF_93_19,\n",
    "        R_origin_DJF_93_19 = R_origin_DJF_93_19, dT_dt_DJF_93_19 = dT_dt_DJF_93_19,\n",
    "        R_recur_DJF_93_19 = R_recur_DJF_93_19)"
   ]
  },
  {
   "cell_type": "code",
   "execution_count": null,
   "id": "43630aef",
   "metadata": {},
   "outputs": [],
   "source": []
  }
 ],
 "metadata": {
  "kernelspec": {
   "display_name": "Python 3 (ipykernel)",
   "language": "python",
   "name": "python3"
  },
  "language_info": {
   "codemirror_mode": {
    "name": "ipython",
    "version": 3
   },
   "file_extension": ".py",
   "mimetype": "text/x-python",
   "name": "python",
   "nbconvert_exporter": "python",
   "pygments_lexer": "ipython3",
   "version": "3.8.12"
  }
 },
 "nbformat": 4,
 "nbformat_minor": 5
}

{
 "cells": [
  {
   "cell_type": "code",
   "execution_count": 1,
   "id": "12a34dae",
   "metadata": {},
   "outputs": [],
   "source": [
    "import random\n",
    "\n",
    "import numpy as np\n",
    "import torch\n",
    "from sklearn.metrics import mean_squared_error\n",
    "from sklearn.preprocessing import MinMaxScaler\n",
    "from torch import nn\n",
    "from tqdm import tqdm\n",
    "from torch.autograd import Variable\n",
    "from torch.utils.data import Dataset, DataLoader"
   ]
  },
  {
   "cell_type": "code",
   "execution_count": 2,
   "id": "1105356a",
   "metadata": {},
   "outputs": [
    {
     "name": "stdout",
     "output_type": "stream",
     "text": [
      "['slfh', 'sshf', 'ssr', 'str', 'sst_obser', 'T_d', 'u_d', 'v_d', 'mld', 'analysis_temp', 'u', 'v', 'dT_dt', 'xx', 'yy', 'dT_dx', 'dT_dy']\n",
      "(9861, 80, 79)\n",
      "22.492352\n",
      "36.701355\n"
     ]
    }
   ],
   "source": [
    "data = np.load(r'D:\\heat_wave\\atlantic\\expand_area1\\last\\optimized_formula_all_variables_expand_atlantic1_surface.npz')\n",
    "print(data.files)  # ['sst_obser', 'slfh', 'sshf', 'ssr', 'str', 'mld', 'analysis_temp', 'u', 'v', 'T_d', 'u_d', 'v_d', 'xx', 'yy', 'dT_dt', 'dT_dx', 'dT_dy']\n",
    "\n",
    "sst_obser = data['sst_obser'][:, :80, :79]  # (9861, 41, 201)  #\n",
    "print(sst_obser.shape)  # (9861, 41, 201)\n",
    "slfh = data['slfh'][:, :80, :79]  # (9861, 41, 201)\n",
    "sshf = data['sshf'][:, :80, :79]  # (9861, 41, 201)\n",
    "ssr = data['ssr'][:, :80, :79]  # (9861, 41, 201)   # 可惜这个是 0\n",
    "str = data['str'][:, :80, :79]  # (9861, 41, 201)\n",
    "mld = data['mld'][:, :80, :79]  # (9861, 41, 201)\n",
    "analysis_temp = data['analysis_temp'][:, :80, :79]  # (9861, 41, 201)\n",
    "u = data['u'][:, :80, :79]  # (9861, 41, 201)\n",
    "v = data['v'][:, :80, :79]  # (9861, 41, 201)\n",
    "T_d = data['T_d'][:, :80, :79]  # (9861, 41, 201)\n",
    "u_d = data['u_d'][:, :80, :79]  # (9861, 41, 201)\n",
    "v_d = data['v_d'][:, :80, :79]  # (9861, 41, 201)\n",
    "xx = data['xx'][:, :80, :79]  # (9861, 41, 201)\n",
    "yy = data['yy'][:, :80, :79]  # (9861, 41, 201)\n",
    "print(np.min(T_d))\n",
    "print(np.max(T_d))\n",
    "# print(xx)  # -5 -4.75 ... 4.75\n",
    "# print(yy)  # 190  190.25 ... 239.75\n",
    "\n",
    "dT_dt = data['dT_dt'][:, :80, :79]\n",
    "dT_dx = data['dT_dx'][:, :80, :79]\n",
    "dT_dy = data['dT_dy'][:, :80, :79]\n"
   ]
  },
  {
   "cell_type": "code",
   "execution_count": 3,
   "id": "0dd88afe",
   "metadata": {},
   "outputs": [],
   "source": [
    "Q_net = (slfh + sshf + ssr + str)\n",
    "Q_net.shape\n",
    "Q_net = Q_net / (1025 * 4000 * mld)"
   ]
  },
  {
   "cell_type": "code",
   "execution_count": 4,
   "id": "447114bf",
   "metadata": {},
   "outputs": [
    {
     "data": {
      "text/plain": [
       "(9861, 80, 79)"
      ]
     },
     "execution_count": 4,
     "metadata": {},
     "output_type": "execute_result"
    }
   ],
   "source": [
    "ZAdv = u * dT_dx\n",
    "ZAdv.shape"
   ]
  },
  {
   "cell_type": "code",
   "execution_count": 7,
   "id": "e52db87b",
   "metadata": {},
   "outputs": [
    {
     "data": {
      "text/plain": [
       "(9861, 80, 79)"
      ]
     },
     "execution_count": 7,
     "metadata": {},
     "output_type": "execute_result"
    }
   ],
   "source": [
    "MAdv = v * dT_dy\n",
    "MAdv.shape"
   ]
  },
  {
   "cell_type": "code",
   "execution_count": 8,
   "id": "102fb93d",
   "metadata": {},
   "outputs": [
    {
     "data": {
      "text/plain": [
       "(9861, 80, 79)"
      ]
     },
     "execution_count": 8,
     "metadata": {},
     "output_type": "execute_result"
    }
   ],
   "source": [
    "VAdv = v_d * ((sst_obser -T_d ) / mld)\n",
    "VAdv.shape"
   ]
  },
  {
   "cell_type": "code",
   "execution_count": 9,
   "id": "ac8e3697",
   "metadata": {},
   "outputs": [
    {
     "data": {
      "text/plain": [
       "(9860, 80, 79)"
      ]
     },
     "execution_count": 9,
     "metadata": {},
     "output_type": "execute_result"
    }
   ],
   "source": [
    "R_origin = dT_dt - (Q_net[:9860,:,:] + ZAdv[:9860,:,:] + MAdv[:9860,:,:] + VAdv[:9860,:,:])\n",
    "R_origin.shape"
   ]
  },
  {
   "cell_type": "code",
   "execution_count": 10,
   "id": "929ff1f2",
   "metadata": {},
   "outputs": [
    {
     "data": {
      "text/plain": [
       "'我们方法修正项'"
      ]
     },
     "execution_count": 10,
     "metadata": {},
     "output_type": "execute_result"
    }
   ],
   "source": [
    "\"\"\"我们方法修正项\"\"\""
   ]
  },
  {
   "cell_type": "code",
   "execution_count": 11,
   "id": "49b45696",
   "metadata": {},
   "outputs": [
    {
     "data": {
      "text/plain": [
       "['dt_R']"
      ]
     },
     "execution_count": 11,
     "metadata": {},
     "output_type": "execute_result"
    }
   ],
   "source": [
    "data1 = np.load(r'D:\\heat_wave\\atlantic\\expand_area1\\last\\Dt_with_R_e1.npz')\n",
    "data2 = np.load(r'D:\\heat_wave\\atlantic\\expand_area1\\last\\Dt_with_R_e2.npz')\n",
    "data3 = np.load(r'D:\\heat_wave\\atlantic\\expand_area1\\last\\Dt_with_R_e3.npz')\n",
    "data4 = np.load(r'D:\\heat_wave\\atlantic\\expand_area1\\last\\Dt_with_R_e4.npz')\n",
    "data5 = np.load(r'D:\\heat_wave\\atlantic\\expand_area1\\last\\Dt_with_R_e5.npz')\n",
    "data1.files"
   ]
  },
  {
   "cell_type": "code",
   "execution_count": 12,
   "id": "145f0cc5",
   "metadata": {},
   "outputs": [
    {
     "data": {
      "text/plain": [
       "(9860, 80, 79)"
      ]
     },
     "execution_count": 12,
     "metadata": {},
     "output_type": "execute_result"
    }
   ],
   "source": [
    "dt_R1 = data1['dt_R'][:].reshape(9860,80,79)\n",
    "dt_R2 = data2['dt_R'][:].reshape(9860,80,79)\n",
    "dt_R3 = data3['dt_R'][:].reshape(9860,80,79)\n",
    "dt_R4 = data4['dt_R'][:].reshape(9860,80,79)\n",
    "dt_R5 = data5['dt_R'][:].reshape(9860,80,79)\n",
    "dt_R1.shape"
   ]
  },
  {
   "cell_type": "code",
   "execution_count": 13,
   "id": "913493e6",
   "metadata": {},
   "outputs": [
    {
     "data": {
      "text/plain": [
       "array([[[ 0.03586979,  0.03347259,  0.05957322, ...,  0.18646735,\n",
       "          0.19701599,  0.20121458],\n",
       "        [ 0.05055882,  0.04700889,  0.06782705, ...,  0.19567284,\n",
       "          0.20308302,  0.20796981],\n",
       "        [ 0.05712174,  0.06273837,  0.07854559, ...,  0.19160873,\n",
       "          0.20715764,  0.20956194],\n",
       "        ...,\n",
       "        [ 0.15932229,  0.11547898,  0.10034126, ...,  0.16585273,\n",
       "          0.16188954,  0.13897759],\n",
       "        [ 0.15250617,  0.14199658,  0.14207235, ...,  0.21118517,\n",
       "          0.19232756,  0.13984802],\n",
       "        [ 0.16378003,  0.16585186,  0.16543409, ...,  0.2001392 ,\n",
       "          0.17457803,  0.13594787]],\n",
       "\n",
       "       [[ 0.03044586,  0.02774056,  0.04302625, ...,  0.0486625 ,\n",
       "          0.06338446,  0.06865058],\n",
       "        [ 0.03752837,  0.03035252,  0.04698587, ...,  0.07801766,\n",
       "          0.10162099,  0.09557401],\n",
       "        [ 0.04620308,  0.03525616,  0.04793969, ...,  0.09887834,\n",
       "          0.12548174,  0.12663248],\n",
       "        ...,\n",
       "        [ 0.12780592,  0.09289791,  0.08991582, ...,  0.26558197,\n",
       "          0.2884437 ,  0.2842329 ],\n",
       "        [ 0.14236909,  0.1305039 ,  0.1224844 , ...,  0.29804647,\n",
       "          0.28405413,  0.26668867],\n",
       "        [ 0.13925055,  0.13627602,  0.14446688, ...,  0.31669098,\n",
       "          0.27019006,  0.28245217]],\n",
       "\n",
       "       [[ 0.0859335 ,  0.07842611,  0.07675063, ..., -0.07835499,\n",
       "         -0.05167246, -0.04109338],\n",
       "        [ 0.07062455,  0.06318348,  0.06506613, ..., -0.05671986,\n",
       "         -0.02644266, -0.02384204],\n",
       "        [ 0.07308298,  0.05840319,  0.06039921, ..., -0.0447851 ,\n",
       "         -0.01789809, -0.0061905 ],\n",
       "        ...,\n",
       "        [ 0.10773902,  0.0684675 ,  0.06578929, ...,  0.1346883 ,\n",
       "          0.16319284,  0.13739817],\n",
       "        [ 0.11466619,  0.10435028,  0.09786879, ...,  0.17717244,\n",
       "          0.14200363,  0.12594908],\n",
       "        [ 0.10997416,  0.10165317,  0.11614703, ...,  0.13954836,\n",
       "          0.12470944,  0.15229186]],\n",
       "\n",
       "       ...,\n",
       "\n",
       "       [[ 0.23103285,  0.23302504,  0.24607739, ..., -0.016951  ,\n",
       "          0.00258715,  0.00967999],\n",
       "        [ 0.22331306,  0.2366654 ,  0.24675152, ..., -0.04036333,\n",
       "         -0.0189658 , -0.00922472],\n",
       "        [ 0.22580332,  0.23970965,  0.24179216, ..., -0.05214778,\n",
       "         -0.04062286, -0.02207841],\n",
       "        ...,\n",
       "        [ 0.09318309,  0.07707012,  0.07477836, ...,  0.09904848,\n",
       "          0.1197011 ,  0.13040513],\n",
       "        [ 0.07785337,  0.057848  ,  0.05178154, ...,  0.10735454,\n",
       "          0.13759561,  0.1600686 ],\n",
       "        [ 0.0826904 ,  0.0495027 ,  0.04819603, ...,  0.13131584,\n",
       "          0.18659773,  0.19713715]],\n",
       "\n",
       "       [[ 0.19059858,  0.18484233,  0.18819693, ...,  0.08918987,\n",
       "          0.1152054 ,  0.13362253],\n",
       "        [ 0.19492373,  0.17825294,  0.1839318 , ...,  0.0960575 ,\n",
       "          0.12246497,  0.13974978],\n",
       "        [ 0.19191787,  0.18140265,  0.18459809, ...,  0.1040448 ,\n",
       "          0.1289085 ,  0.1441029 ],\n",
       "        ...,\n",
       "        [ 0.12860242,  0.1219762 ,  0.1188167 , ...,  0.11515063,\n",
       "          0.12476894,  0.13054799],\n",
       "        [ 0.15169203,  0.13249768,  0.1240522 , ...,  0.10472304,\n",
       "          0.15147753,  0.17315102],\n",
       "        [ 0.16731533,  0.15710925,  0.13990365, ...,  0.13147673,\n",
       "          0.18092373,  0.19672182]],\n",
       "\n",
       "       [[ 0.05231597,  0.0394363 ,  0.04129383, ...,  0.06759427,\n",
       "          0.0856821 ,  0.09328072],\n",
       "        [ 0.06559249,  0.03528504,  0.03319478, ...,  0.07461733,\n",
       "          0.0959716 ,  0.10157938],\n",
       "        [ 0.06454694,  0.0319089 ,  0.02613589, ...,  0.09111762,\n",
       "          0.11236481,  0.11848237],\n",
       "        ...,\n",
       "        [ 0.2119411 ,  0.20145461,  0.20638195, ..., -0.06451263,\n",
       "          0.02432893,  0.08311199],\n",
       "        [ 0.23847185,  0.2414209 ,  0.2586131 , ..., -0.03633751,\n",
       "          0.04596604,  0.11245629],\n",
       "        [ 0.2519201 ,  0.26147878,  0.2686857 , ..., -0.00799877,\n",
       "          0.04496371,  0.09725346]]], dtype=float32)"
      ]
     },
     "execution_count": 13,
     "metadata": {},
     "output_type": "execute_result"
    }
   ],
   "source": [
    "\"修正后的R\"\n",
    "R_recur1 = dt_R1 - dT_dt\n",
    "R_recur2 = dt_R2 - dT_dt\n",
    "R_recur3 = dt_R3 - dT_dt\n",
    "R_recur4 = dt_R4 - dT_dt\n",
    "R_recur5 = dt_R5 - dT_dt\n",
    "R_recur1"
   ]
  },
  {
   "cell_type": "code",
   "execution_count": 14,
   "id": "1d548610",
   "metadata": {},
   "outputs": [
    {
     "data": {
      "text/plain": [
       "array([[[ 0.02390832,  0.02725428,  0.05739463, ...,  0.18423201,\n",
       "          0.20143357,  0.212904  ],\n",
       "        [ 0.03836343,  0.04028901,  0.06597659, ...,  0.19318132,\n",
       "          0.20801635,  0.21969919],\n",
       "        [ 0.04502613,  0.05579453,  0.07682253, ...,  0.18921772,\n",
       "          0.21201761,  0.22122557],\n",
       "        ...,\n",
       "        [ 0.14401527,  0.11933136,  0.09818447, ...,  0.16285832,\n",
       "          0.16673253,  0.15164636],\n",
       "        [ 0.14027078,  0.13991936,  0.14181487, ...,  0.20777342,\n",
       "          0.19717088,  0.15250286],\n",
       "        [ 0.15274742,  0.16048196,  0.16502085, ...,  0.1965462 ,\n",
       "          0.18078193,  0.14906101]],\n",
       "\n",
       "       [[ 0.01874388,  0.02132713,  0.04093076, ...,  0.04672079,\n",
       "          0.06744719,  0.07988962],\n",
       "        [ 0.02589727,  0.02345898,  0.0454662 , ...,  0.07614927,\n",
       "          0.1055768 ,  0.10671985],\n",
       "        [ 0.03458868,  0.02821356,  0.04669535, ...,  0.09688549,\n",
       "          0.12964737,  0.1379139 ],\n",
       "        ...,\n",
       "        [ 0.11189172,  0.09634877,  0.08805746, ...,  0.2629678 ,\n",
       "          0.29277122,  0.2964142 ],\n",
       "        [ 0.12952498,  0.12986353,  0.12207182, ...,  0.29505864,\n",
       "          0.28848568,  0.2786921 ],\n",
       "        [ 0.12770395,  0.13250694,  0.14424902, ...,  0.3126265 ,\n",
       "          0.27515286,  0.2951641 ]],\n",
       "\n",
       "       [[ 0.07468342,  0.07209505,  0.07491026, ..., -0.08023242,\n",
       "         -0.0474142 , -0.029653  ],\n",
       "        [ 0.05924045,  0.05671798,  0.06343631, ..., -0.05827558,\n",
       "         -0.02264334, -0.01254528],\n",
       "        [ 0.06162561,  0.05154975,  0.05896307, ..., -0.04654189,\n",
       "         -0.01407529,  0.0049265 ],\n",
       "        ...,\n",
       "        [ 0.09030386,  0.07460582,  0.06295197, ...,  0.13165167,\n",
       "          0.16762783,  0.14939061],\n",
       "        [ 0.10199969,  0.10442406,  0.09717604, ...,  0.17359163,\n",
       "          0.146835  ,  0.13912016],\n",
       "        [ 0.09829149,  0.09778185,  0.11589682, ...,  0.13444796,\n",
       "          0.13221447,  0.16709806]],\n",
       "\n",
       "       ...,\n",
       "\n",
       "       [[ 0.21981189,  0.22535856,  0.24479547, ..., -0.01900946,\n",
       "          0.0065743 ,  0.02112888],\n",
       "        [ 0.21130164,  0.23046425,  0.24474183, ..., -0.04197208,\n",
       "         -0.01513215,  0.00216874],\n",
       "        [ 0.21335661,  0.23498884,  0.23914917, ..., -0.05375754,\n",
       "         -0.03657113, -0.01083975],\n",
       "        ...,\n",
       "        [ 0.08088335,  0.07474779,  0.0727287 , ...,  0.09685081,\n",
       "          0.12384357,  0.14200696],\n",
       "        [ 0.06505179,  0.05473669,  0.0505958 , ...,  0.10474914,\n",
       "          0.14261362,  0.1717881 ],\n",
       "        [ 0.06997834,  0.04490357,  0.04590959, ...,  0.12850465,\n",
       "          0.19148749,  0.20919147]],\n",
       "\n",
       "       [[ 0.17946559,  0.17656554,  0.18667403, ...,  0.08715892,\n",
       "          0.11911526,  0.14508829],\n",
       "        [ 0.18273723,  0.1708852 ,  0.181972  , ...,  0.09436284,\n",
       "          0.12630394,  0.15110138],\n",
       "        [ 0.17875043,  0.17609031,  0.18183526, ...,  0.1023462 ,\n",
       "          0.13294643,  0.15545571],\n",
       "        ...,\n",
       "        [ 0.11692425,  0.11718039,  0.11675551, ...,  0.11329503,\n",
       "          0.12826356,  0.14196834],\n",
       "        [ 0.139536  ,  0.12639853,  0.12134997, ...,  0.10281599,\n",
       "          0.15504467,  0.18455033],\n",
       "        [ 0.15535827,  0.14827748,  0.13674757, ...,  0.12923929,\n",
       "          0.18504807,  0.20840248]],\n",
       "\n",
       "       [[ 0.04131789,  0.03145737,  0.03982022, ...,  0.06545184,\n",
       "          0.08947865,  0.10478668],\n",
       "        [ 0.05406876,  0.02816052,  0.03114863, ...,  0.07312027,\n",
       "          0.09953772,  0.1128803 ],\n",
       "        [ 0.05197831,  0.0262178 ,  0.02332308, ...,  0.08951025,\n",
       "          0.11620073,  0.1297445 ],\n",
       "        ...,\n",
       "        [ 0.20055827,  0.1943275 ,  0.20336524, ..., -0.06619982,\n",
       "          0.02774649,  0.09415879],\n",
       "        [ 0.2272658 ,  0.23260835,  0.25550398, ..., -0.03769689,\n",
       "          0.04918291,  0.12349342],\n",
       "        [ 0.24021678,  0.25232148,  0.26485333, ..., -0.00909368,\n",
       "          0.04898238,  0.10830612]]], dtype=float32)"
      ]
     },
     "execution_count": 14,
     "metadata": {},
     "output_type": "execute_result"
    }
   ],
   "source": [
    "R_recur = ((R_recur1 + R_recur2 + R_recur3 + R_recur4 + R_recur5) / 5)\n",
    "R_recur"
   ]
  },
  {
   "cell_type": "code",
   "execution_count": 15,
   "id": "559a083a",
   "metadata": {},
   "outputs": [],
   "source": [
    "# 首先 我们先画 MAM季节的贡献图   MAM： 3  4  5 月  即  03/01 - 05/31  当然，会做一个区域平均\n",
    "# 同时，我们也会对每一年的JJA做一个平均  ---》1993 - 2019年"
   ]
  },
  {
   "cell_type": "code",
   "execution_count": 16,
   "id": "d95c285f",
   "metadata": {},
   "outputs": [
    {
     "data": {
      "text/plain": [
       "9646"
      ]
     },
     "execution_count": 16,
     "metadata": {},
     "output_type": "execute_result"
    }
   ],
   "source": [
    "#  计算索引\n",
    "import pandas as pd\n",
    "import datetime\n",
    "\n",
    "#创建时间范围\n",
    "start_date = datetime.datetime(1993,1,1)\n",
    "end_date = datetime.datetime(2019,12,31)\n",
    "dates = pd.date_range(start = start_date, end = end_date, freq = 'D')\n",
    "\n",
    "index = dates.get_loc(datetime.datetime(2019,5,31)) \n",
    "index"
   ]
  },
  {
   "cell_type": "code",
   "execution_count": 17,
   "id": "dfc80fe5",
   "metadata": {},
   "outputs": [
    {
     "ename": "SyntaxError",
     "evalue": "invalid syntax (Temp/ipykernel_22852/1973053253.py, line 1)",
     "output_type": "error",
     "traceback": [
      "\u001b[1;36m  File \u001b[1;32m\"C:\\Users\\mymylove\\AppData\\Local\\Temp/ipykernel_22852/1973053253.py\"\u001b[1;36m, line \u001b[1;32m1\u001b[0m\n\u001b[1;33m    9555  9646\u001b[0m\n\u001b[1;37m          ^\u001b[0m\n\u001b[1;31mSyntaxError\u001b[0m\u001b[1;31m:\u001b[0m invalid syntax\n"
     ]
    }
   ],
   "source": [
    "9555  9646"
   ]
  },
  {
   "cell_type": "code",
   "execution_count": 18,
   "id": "13654f59",
   "metadata": {},
   "outputs": [],
   "source": [
    "# MAM   93\n",
    "Q_net_MAM_93 = Q_net[59:151,:,:]\n",
    "ZAdv_MAM_93 = ZAdv[59:151,:,:]\n",
    "MAdv_MAM_93 = MAdv[59:151,:,:]\n",
    "VAdv_MAM_93 = VAdv[59:151,:,:]\n",
    "R_origin_MAM_93 = R_origin[59:151,:,:]\n",
    "dT_dt_MAM_93 = dT_dt[59:151,:,:]\n",
    "R_recur_MAM_93 = R_recur[59:151,:,:]"
   ]
  },
  {
   "cell_type": "code",
   "execution_count": 19,
   "id": "7d639db9",
   "metadata": {},
   "outputs": [],
   "source": [
    "# MAM   94\n",
    "Q_net_MAM_94 = Q_net[424:516,:,:]\n",
    "ZAdv_MAM_94 = ZAdv[424:516,:,:]\n",
    "MAdv_MAM_94 = MAdv[424:516,:,:]\n",
    "VAdv_MAM_94 = VAdv[424:516,:,:]\n",
    "R_origin_MAM_94 = R_origin[424:516,:,:]\n",
    "dT_dt_MAM_94 = dT_dt[424:516,:,:]\n",
    "R_recur_MAM_94 = R_recur[424:516,:,:]"
   ]
  },
  {
   "cell_type": "code",
   "execution_count": 20,
   "id": "3a4bade2",
   "metadata": {},
   "outputs": [],
   "source": [
    "# MAM   95\n",
    "Q_net_MAM_95 = Q_net[789:881,:,:]\n",
    "ZAdv_MAM_95 = ZAdv[789:881,:,:]\n",
    "MAdv_MAM_95 = MAdv[789:881,:,:]\n",
    "VAdv_MAM_95 = VAdv[789:881,:,:]\n",
    "R_origin_MAM_95 = R_origin[789:881,:,:]\n",
    "dT_dt_MAM_95 = dT_dt[789:881,:,:]\n",
    "R_recur_MAM_95 = R_recur[789:881,:,:]"
   ]
  },
  {
   "cell_type": "code",
   "execution_count": 21,
   "id": "fdf4e5dd",
   "metadata": {},
   "outputs": [],
   "source": [
    "# MAM   96\n",
    "Q_net_MAM_96 = Q_net[1155:1247,:,:]\n",
    "ZAdv_MAM_96 = ZAdv[1155:1247,:,:]\n",
    "MAdv_MAM_96 = MAdv[1155:1247,:,:]\n",
    "VAdv_MAM_96 = VAdv[1155:1247,:,:]\n",
    "R_origin_MAM_96 = R_origin[1155:1247,:,:]\n",
    "dT_dt_MAM_96 = dT_dt[1155:1247,:,:]\n",
    "R_recur_MAM_96 = R_recur[1155:1247,:,:]"
   ]
  },
  {
   "cell_type": "code",
   "execution_count": 22,
   "id": "c2975961",
   "metadata": {},
   "outputs": [],
   "source": [
    "# MAM   97\n",
    "Q_net_MAM_97 = Q_net[1520:1611,:,:]\n",
    "ZAdv_MAM_97 = ZAdv[1520:1611,:,:]\n",
    "MAdv_MAM_97 = MAdv[1520:1611,:,:]\n",
    "VAdv_MAM_97 = VAdv[1520:1611,:,:]\n",
    "R_origin_MAM_97 = R_origin[1520:1611,:,:]\n",
    "dT_dt_MAM_97 = dT_dt[1520:1611,:,:]\n",
    "R_recur_MAM_97 = R_recur[1520:1611,:,:]"
   ]
  },
  {
   "cell_type": "code",
   "execution_count": 23,
   "id": "d6f393ae",
   "metadata": {},
   "outputs": [],
   "source": [
    "# MAM   98\n",
    "Q_net_MAM_98 = Q_net[1885:1977,:,:]\n",
    "ZAdv_MAM_98 = ZAdv[1885:1977,:,:]\n",
    "MAdv_MAM_98 = MAdv[1885:1977,:,:]\n",
    "VAdv_MAM_98 = VAdv[1885:1977,:,:]\n",
    "R_origin_MAM_98 = R_origin[1885:1977,:,:]\n",
    "dT_dt_MAM_98 = dT_dt[1885:1977,:,:]\n",
    "R_recur_MAM_98 = R_recur[1885:1977,:,:]"
   ]
  },
  {
   "cell_type": "code",
   "execution_count": 24,
   "id": "33a162d8",
   "metadata": {},
   "outputs": [],
   "source": [
    "# MAM   99\n",
    "Q_net_MAM_99 = Q_net[2250:2342,:,:]\n",
    "ZAdv_MAM_99 = ZAdv[2250:2342,:,:]\n",
    "MAdv_MAM_99 = MAdv[2250:2342,:,:]\n",
    "VAdv_MAM_99 = VAdv[2250:2342,:,:]\n",
    "R_origin_MAM_99 = R_origin[2250:2342,:,:]\n",
    "dT_dt_MAM_99 = dT_dt[2250:2342,:,:]\n",
    "R_recur_MAM_99 = R_recur[2250:2342,:,:]"
   ]
  },
  {
   "cell_type": "code",
   "execution_count": 25,
   "id": "3b510f2b",
   "metadata": {},
   "outputs": [],
   "source": [
    "# MAM   00\n",
    "Q_net_MAM_00 = Q_net[2616:2708,:,:]\n",
    "ZAdv_MAM_00 = ZAdv[2616:2708,:,:]\n",
    "MAdv_MAM_00 = MAdv[2616:2708,:,:]\n",
    "VAdv_MAM_00 = VAdv[2616:2708,:,:]\n",
    "R_origin_MAM_00 = R_origin[2616:2708,:,:]\n",
    "dT_dt_MAM_00 = dT_dt[2616:2708,:,:]\n",
    "R_recur_MAM_00 = R_recur[2616:2708,:,:]"
   ]
  },
  {
   "cell_type": "code",
   "execution_count": 26,
   "id": "9d7da264",
   "metadata": {},
   "outputs": [],
   "source": [
    "# MAM   01\n",
    "Q_net_MAM_01 = Q_net[2981:3073,:,:]\n",
    "ZAdv_MAM_01 = ZAdv[2981:3073,:,:]\n",
    "MAdv_MAM_01 = MAdv[2981:3073,:,:]\n",
    "VAdv_MAM_01 = VAdv[2981:3073,:,:]\n",
    "R_origin_MAM_01 = R_origin[2981:3073,:,:]\n",
    "dT_dt_MAM_01 = dT_dt[2981:3073,:,:]\n",
    "R_recur_MAM_01 = R_recur[2981:3073,:,:]"
   ]
  },
  {
   "cell_type": "code",
   "execution_count": 27,
   "id": "0945ae32",
   "metadata": {},
   "outputs": [],
   "source": [
    "# MAM   02\n",
    "Q_net_MAM_02 = Q_net[3346:3438,:,:]\n",
    "ZAdv_MAM_02 = ZAdv[3346:3438,:,:]\n",
    "MAdv_MAM_02 = MAdv[3346:3438,:,:]\n",
    "VAdv_MAM_02 = VAdv[3346:3438,:,:]\n",
    "R_origin_MAM_02 = R_origin[3346:3438,:,:]\n",
    "dT_dt_MAM_02 = dT_dt[3346:3438,:,:]\n",
    "R_recur_MAM_02 = R_recur[3346:3438,:,:]"
   ]
  },
  {
   "cell_type": "code",
   "execution_count": 28,
   "id": "08c9b5df",
   "metadata": {},
   "outputs": [],
   "source": [
    "# MAM   03\n",
    "Q_net_MAM_03 = Q_net[3711:3803,:,:]\n",
    "ZAdv_MAM_03 = ZAdv[3711:3803,:,:]\n",
    "MAdv_MAM_03 = MAdv[3711:3803,:,:]\n",
    "VAdv_MAM_03 = VAdv[3711:3803,:,:]\n",
    "R_origin_MAM_03 = R_origin[3711:3803,:,:]\n",
    "dT_dt_MAM_03 = dT_dt[3711:3803,:,:]\n",
    "R_recur_MAM_03 = R_recur[3711:3803,:,:]"
   ]
  },
  {
   "cell_type": "code",
   "execution_count": 29,
   "id": "13cd6b9a",
   "metadata": {},
   "outputs": [],
   "source": [
    "# MAM   04\n",
    "Q_net_MAM_04 = Q_net[4077:4169,:,:]\n",
    "ZAdv_MAM_04 = ZAdv[4077:4169,:,:]\n",
    "MAdv_MAM_04 = MAdv[4077:4169,:,:]\n",
    "VAdv_MAM_04 = VAdv[4077:4169,:,:]\n",
    "R_origin_MAM_04 = R_origin[4077:4169,:,:]\n",
    "dT_dt_MAM_04 = dT_dt[4077:4169,:,:]\n",
    "R_recur_MAM_04 = R_recur[4077:4169,:,:]"
   ]
  },
  {
   "cell_type": "code",
   "execution_count": 30,
   "id": "047b74fb",
   "metadata": {},
   "outputs": [],
   "source": [
    "# MAM   05\n",
    "Q_net_MAM_05 = Q_net[4442:4534,:,:]\n",
    "ZAdv_MAM_05 = ZAdv[4442:4534,:,:]\n",
    "MAdv_MAM_05 = MAdv[4442:4534,:,:]\n",
    "VAdv_MAM_05 = VAdv[4442:4534,:,:]\n",
    "R_origin_MAM_05 = R_origin[4442:4534,:,:]\n",
    "dT_dt_MAM_05 = dT_dt[4442:4534,:,:]\n",
    "R_recur_MAM_05 = R_recur[4442:4534,:,:]"
   ]
  },
  {
   "cell_type": "code",
   "execution_count": 31,
   "id": "73d29224",
   "metadata": {},
   "outputs": [],
   "source": [
    "# MAM   06\n",
    "Q_net_MAM_06 = Q_net[4807:4899,:,:]\n",
    "ZAdv_MAM_06 = ZAdv[4807:4899,:,:]\n",
    "MAdv_MAM_06 = MAdv[4807:4899,:,:]\n",
    "VAdv_MAM_06 = VAdv[4807:4899,:,:]\n",
    "R_origin_MAM_06 = R_origin[4807:4899,:,:]\n",
    "dT_dt_MAM_06 = dT_dt[4807:4899,:,:]\n",
    "R_recur_MAM_06 = R_recur[4807:4899,:,:]"
   ]
  },
  {
   "cell_type": "code",
   "execution_count": 32,
   "id": "1e7d58a0",
   "metadata": {},
   "outputs": [],
   "source": [
    "# MAM   07\n",
    "Q_net_MAM_07 = Q_net[5172:5264,:,:]\n",
    "ZAdv_MAM_07 = ZAdv[5172:5264,:,:]\n",
    "MAdv_MAM_07 = MAdv[5172:5264,:,:]\n",
    "VAdv_MAM_07 = VAdv[5172:5264,:,:]\n",
    "R_origin_MAM_07 = R_origin[5172:5264,:,:]\n",
    "dT_dt_MAM_07 = dT_dt[5172:5264,:,:]\n",
    "R_recur_MAM_07 = R_recur[5172:5264,:,:]"
   ]
  },
  {
   "cell_type": "code",
   "execution_count": 33,
   "id": "247fa4b7",
   "metadata": {},
   "outputs": [],
   "source": [
    "# MAM   08\n",
    "Q_net_MAM_08 = Q_net[5538:5630,:,:]\n",
    "ZAdv_MAM_08 = ZAdv[5538:5630,:,:]\n",
    "MAdv_MAM_08 = MAdv[5538:5630,:,:]\n",
    "VAdv_MAM_08 = VAdv[5538:5630,:,:]\n",
    "R_origin_MAM_08 = R_origin[5538:5630,:,:]\n",
    "dT_dt_MAM_08 = dT_dt[5538:5630,:,:]\n",
    "R_recur_MAM_08 = R_recur[5538:5630,:,:]"
   ]
  },
  {
   "cell_type": "code",
   "execution_count": 34,
   "id": "06547eca",
   "metadata": {},
   "outputs": [],
   "source": [
    "# MAM   09\n",
    "Q_net_MAM_09 = Q_net[5903:5995,:,:]\n",
    "ZAdv_MAM_09 = ZAdv[5903:5995,:,:]\n",
    "MAdv_MAM_09 = MAdv[5903:5995,:,:]\n",
    "VAdv_MAM_09 = VAdv[5903:5995,:,:]\n",
    "R_origin_MAM_09 = R_origin[5903:5995,:,:]\n",
    "dT_dt_MAM_09 = dT_dt[5903:5995,:,:]\n",
    "R_recur_MAM_09 = R_recur[5903:5995,:,:]"
   ]
  },
  {
   "cell_type": "code",
   "execution_count": 35,
   "id": "b8d660ad",
   "metadata": {},
   "outputs": [],
   "source": [
    "# MAM   10\n",
    "Q_net_MAM_10 = Q_net[6268:6360,:,:]\n",
    "ZAdv_MAM_10 = ZAdv[6268:6360,:,:]\n",
    "MAdv_MAM_10 = MAdv[6268:6360,:,:]\n",
    "VAdv_MAM_10 = VAdv[6268:6360,:,:]\n",
    "R_origin_MAM_10 = R_origin[6268:6360,:,:]\n",
    "dT_dt_MAM_10 = dT_dt[6268:6360,:,:]\n",
    "R_recur_MAM_10 = R_recur[6268:6360,:,:]"
   ]
  },
  {
   "cell_type": "code",
   "execution_count": 36,
   "id": "0a0b86f3",
   "metadata": {},
   "outputs": [],
   "source": [
    "# MAM   11\n",
    "Q_net_MAM_11 = Q_net[6633:6725,:,:]\n",
    "ZAdv_MAM_11 = ZAdv[6633:6725,:,:]\n",
    "MAdv_MAM_11 = MAdv[6633:6725,:,:]\n",
    "VAdv_MAM_11 = VAdv[6633:6725,:,:]\n",
    "R_origin_MAM_11 = R_origin[6633:6725,:,:]\n",
    "dT_dt_MAM_11 = dT_dt[6633:6725,:,:]\n",
    "R_recur_MAM_11 = R_recur[6633:6725,:,:]"
   ]
  },
  {
   "cell_type": "code",
   "execution_count": 37,
   "id": "14db96df",
   "metadata": {},
   "outputs": [],
   "source": [
    "# MAM   12\n",
    "Q_net_MAM_12 = Q_net[6999:7091,:,:]\n",
    "ZAdv_MAM_12 = ZAdv[6999:7091,:,:]\n",
    "MAdv_MAM_12 = MAdv[6999:7091,:,:]\n",
    "VAdv_MAM_12 = VAdv[6999:7091,:,:]\n",
    "R_origin_MAM_12 = R_origin[6999:7091,:,:]\n",
    "dT_dt_MAM_12 = dT_dt[6999:7091,:,:]\n",
    "R_recur_MAM_12 = R_recur[6999:7091,:,:] "
   ]
  },
  {
   "cell_type": "code",
   "execution_count": 38,
   "id": "371ea83c",
   "metadata": {},
   "outputs": [],
   "source": [
    "# MAM   13\n",
    "Q_net_MAM_13 = Q_net[7364:7455,:,:]\n",
    "ZAdv_MAM_13 = ZAdv[7364:7455,:,:]\n",
    "MAdv_MAM_13 = MAdv[7364:7455,:,:]\n",
    "VAdv_MAM_13 = VAdv[7364:7455,:,:]\n",
    "R_origin_MAM_13 = R_origin[7364:7455,:,:]\n",
    "dT_dt_MAM_13 = dT_dt[7364:7455,:,:]\n",
    "R_recur_MAM_13 = R_recur[7364:7455,:,:]"
   ]
  },
  {
   "cell_type": "code",
   "execution_count": 39,
   "id": "c3f9aff0",
   "metadata": {},
   "outputs": [],
   "source": [
    "# MAM   14\n",
    "Q_net_MAM_14 = Q_net[7729:7821,:,:]\n",
    "ZAdv_MAM_14 = ZAdv[7729:7821,:,:]\n",
    "MAdv_MAM_14 = MAdv[7729:7821,:,:]\n",
    "VAdv_MAM_14 = VAdv[7729:7821,:,:]\n",
    "R_origin_MAM_14 = R_origin[7729:7821,:,:]\n",
    "dT_dt_MAM_14 = dT_dt[7729:7821,:,:]\n",
    "R_recur_MAM_14 = R_recur[7729:7821,:,:]"
   ]
  },
  {
   "cell_type": "code",
   "execution_count": 40,
   "id": "c96851a5",
   "metadata": {},
   "outputs": [],
   "source": [
    "# MAM   15\n",
    "Q_net_MAM_15 = Q_net[8094:8185,:,:]\n",
    "ZAdv_MAM_15 = ZAdv[8094:8185,:,:]\n",
    "MAdv_MAM_15 = MAdv[8094:8185,:,:]\n",
    "VAdv_MAM_15 = VAdv[8094:8185,:,:]\n",
    "R_origin_MAM_15 = R_origin[8094:8185,:,:]\n",
    "dT_dt_MAM_15 = dT_dt[8094:8185,:,:]\n",
    "R_recur_MAM_15 = R_recur[8094:8185,:,:] "
   ]
  },
  {
   "cell_type": "code",
   "execution_count": 41,
   "id": "607d5390",
   "metadata": {},
   "outputs": [],
   "source": [
    "# MAM   16\n",
    "Q_net_MAM_16 = Q_net[8460:8552,:,:]\n",
    "ZAdv_MAM_16 = ZAdv[8460:8552,:,:]\n",
    "MAdv_MAM_16 = MAdv[8460:8552,:,:]\n",
    "VAdv_MAM_16 = VAdv[8460:8552,:,:]\n",
    "R_origin_MAM_16 = R_origin[8460:8552,:,:]\n",
    "dT_dt_MAM_16 = dT_dt[8460:8552,:,:]\n",
    "R_recur_MAM_16 = R_recur[8460:8552,:,:] "
   ]
  },
  {
   "cell_type": "code",
   "execution_count": 42,
   "id": "6cd88087",
   "metadata": {},
   "outputs": [],
   "source": [
    "# MAM   17\n",
    "Q_net_MAM_17 = Q_net[8825:8917,:,:]\n",
    "ZAdv_MAM_17 = ZAdv[8825:8917,:,:]\n",
    "MAdv_MAM_17 = MAdv[8825:8917,:,:]\n",
    "VAdv_MAM_17 = VAdv[8825:8917,:,:]\n",
    "R_origin_MAM_17 = R_origin[8825:8917,:,:]\n",
    "dT_dt_MAM_17 = dT_dt[8825:8917,:,:]\n",
    "R_recur_MAM_17 = R_recur[8825:8917,:,:]  "
   ]
  },
  {
   "cell_type": "code",
   "execution_count": 43,
   "id": "710745f5",
   "metadata": {},
   "outputs": [],
   "source": [
    "# MAM   18\n",
    "Q_net_MAM_18 = Q_net[9190:9282,:,:]\n",
    "ZAdv_MAM_18 = ZAdv[9190:9282,:,:]\n",
    "MAdv_MAM_18 = MAdv[9190:9282,:,:]\n",
    "VAdv_MAM_18 = VAdv[9190:9282,:,:]\n",
    "R_origin_MAM_18 = R_origin[9190:9282,:,:]\n",
    "dT_dt_MAM_18 = dT_dt[9190:9282,:,:]\n",
    "R_recur_MAM_18 = R_recur[9190:9282,:,:] "
   ]
  },
  {
   "cell_type": "code",
   "execution_count": 44,
   "id": "eed10553",
   "metadata": {},
   "outputs": [],
   "source": [
    "# MAM   19\n",
    "Q_net_MAM_19 = Q_net[9555:9646,:,:]\n",
    "ZAdv_MAM_19 = ZAdv[9555:9646,:,:]\n",
    "MAdv_MAM_19 = MAdv[9555:9646,:,:]\n",
    "VAdv_MAM_19 = VAdv[9555:9646,:,:]\n",
    "R_origin_MAM_19 = R_origin[9555:9646,:,:]\n",
    "dT_dt_MAM_19 = dT_dt[9555:9646,:,:]\n",
    "R_recur_MAM_19 = R_recur[9555:9646,:,:]"
   ]
  },
  {
   "cell_type": "code",
   "execution_count": 45,
   "id": "c7c43ad5",
   "metadata": {},
   "outputs": [],
   "source": [
    "Q_net_MAM_93 = np.mean(Q_net_MAM_93, axis = (1,2)).reshape(-1,1)\n",
    "Q_net_MAM_94 = np.mean(Q_net_MAM_94, axis = (1,2)).reshape(-1,1)\n",
    "Q_net_MAM_95 = np.mean(Q_net_MAM_95, axis = (1,2)).reshape(-1,1)\n",
    "Q_net_MAM_96 = np.mean(Q_net_MAM_96, axis = (1,2)).reshape(-1,1)\n",
    "Q_net_MAM_97 = np.mean(Q_net_MAM_97, axis = (1,2)).reshape(-1,1)\n",
    "Q_net_MAM_98 = np.mean(Q_net_MAM_98, axis = (1,2)).reshape(-1,1)\n",
    "Q_net_MAM_99 = np.mean(Q_net_MAM_99, axis = (1,2)).reshape(-1,1)\n",
    "Q_net_MAM_00 = np.mean(Q_net_MAM_00, axis = (1,2)).reshape(-1,1)\n",
    "Q_net_MAM_01 = np.mean(Q_net_MAM_01, axis = (1,2)).reshape(-1,1)\n",
    "Q_net_MAM_02 = np.mean(Q_net_MAM_02, axis = (1,2)).reshape(-1,1)\n",
    "Q_net_MAM_03 = np.mean(Q_net_MAM_03, axis = (1,2)).reshape(-1,1)\n",
    "Q_net_MAM_04 = np.mean(Q_net_MAM_04, axis = (1,2)).reshape(-1,1)\n",
    "Q_net_MAM_05 = np.mean(Q_net_MAM_05, axis = (1,2)).reshape(-1,1)\n",
    "Q_net_MAM_06 = np.mean(Q_net_MAM_06, axis = (1,2)).reshape(-1,1)\n",
    "Q_net_MAM_07 = np.mean(Q_net_MAM_07, axis = (1,2)).reshape(-1,1)\n",
    "Q_net_MAM_08 = np.mean(Q_net_MAM_08, axis = (1,2)).reshape(-1,1)\n",
    "Q_net_MAM_09 = np.mean(Q_net_MAM_09, axis = (1,2)).reshape(-1,1)\n",
    "Q_net_MAM_10 = np.mean(Q_net_MAM_10, axis = (1,2)).reshape(-1,1)\n",
    "Q_net_MAM_11 = np.mean(Q_net_MAM_11, axis = (1,2)).reshape(-1,1)\n",
    "Q_net_MAM_12 = np.mean(Q_net_MAM_12, axis = (1,2)).reshape(-1,1)\n",
    "Q_net_MAM_13 = np.mean(Q_net_MAM_13, axis = (1,2)).reshape(-1,1)\n",
    "Q_net_MAM_14 = np.mean(Q_net_MAM_14, axis = (1,2)).reshape(-1,1)\n",
    "Q_net_MAM_15 = np.mean(Q_net_MAM_15, axis = (1,2)).reshape(-1,1)\n",
    "Q_net_MAM_16 = np.mean(Q_net_MAM_16, axis = (1,2)).reshape(-1,1)\n",
    "Q_net_MAM_17 = np.mean(Q_net_MAM_17, axis = (1,2)).reshape(-1,1)\n",
    "Q_net_MAM_18 = np.mean(Q_net_MAM_18, axis = (1,2)).reshape(-1,1)\n",
    "Q_net_MAM_19 = np.mean(Q_net_MAM_19, axis = (1,2)).reshape(-1,1)"
   ]
  },
  {
   "cell_type": "code",
   "execution_count": 46,
   "id": "ace44d8d",
   "metadata": {},
   "outputs": [],
   "source": [
    "Q_net_MAM_93 = np.mean(Q_net_MAM_93).reshape(-1,1)\n",
    "Q_net_MAM_94 = np.mean(Q_net_MAM_94).reshape(-1,1)\n",
    "Q_net_MAM_95 = np.mean(Q_net_MAM_95).reshape(-1,1)\n",
    "Q_net_MAM_96 = np.mean(Q_net_MAM_96).reshape(-1,1)\n",
    "Q_net_MAM_97 = np.mean(Q_net_MAM_97).reshape(-1,1)\n",
    "Q_net_MAM_98 = np.mean(Q_net_MAM_98).reshape(-1,1)\n",
    "Q_net_MAM_99 = np.mean(Q_net_MAM_99).reshape(-1,1)\n",
    "Q_net_MAM_00 = np.mean(Q_net_MAM_00).reshape(-1,1)\n",
    "Q_net_MAM_01 = np.mean(Q_net_MAM_01).reshape(-1,1)\n",
    "Q_net_MAM_02 = np.mean(Q_net_MAM_02).reshape(-1,1)\n",
    "Q_net_MAM_03 = np.mean(Q_net_MAM_03).reshape(-1,1)\n",
    "Q_net_MAM_04 = np.mean(Q_net_MAM_04).reshape(-1,1)\n",
    "Q_net_MAM_05 = np.mean(Q_net_MAM_05).reshape(-1,1)\n",
    "Q_net_MAM_06 = np.mean(Q_net_MAM_06).reshape(-1,1)\n",
    "Q_net_MAM_07 = np.mean(Q_net_MAM_07).reshape(-1,1)\n",
    "Q_net_MAM_08 = np.mean(Q_net_MAM_08).reshape(-1,1)\n",
    "Q_net_MAM_09 = np.mean(Q_net_MAM_09).reshape(-1,1)\n",
    "Q_net_MAM_10 = np.mean(Q_net_MAM_10).reshape(-1,1)\n",
    "Q_net_MAM_11 = np.mean(Q_net_MAM_11).reshape(-1,1)\n",
    "Q_net_MAM_12 = np.mean(Q_net_MAM_12).reshape(-1,1)\n",
    "Q_net_MAM_13 = np.mean(Q_net_MAM_13).reshape(-1,1)\n",
    "Q_net_MAM_14 = np.mean(Q_net_MAM_14).reshape(-1,1)\n",
    "Q_net_MAM_15 = np.mean(Q_net_MAM_15).reshape(-1,1)\n",
    "Q_net_MAM_16 = np.mean(Q_net_MAM_16).reshape(-1,1)\n",
    "Q_net_MAM_17 = np.mean(Q_net_MAM_17).reshape(-1,1)\n",
    "Q_net_MAM_18 = np.mean(Q_net_MAM_18).reshape(-1,1)\n",
    "Q_net_MAM_19 = np.mean(Q_net_MAM_19).reshape(-1,1)"
   ]
  },
  {
   "cell_type": "code",
   "execution_count": 47,
   "id": "4e81b5b0",
   "metadata": {},
   "outputs": [],
   "source": [
    "ZAdv_MAM_93 = np.mean(ZAdv_MAM_93, axis = (1,2)).reshape(-1,1)\n",
    "ZAdv_MAM_94 = np.mean(ZAdv_MAM_94, axis = (1,2)).reshape(-1,1)\n",
    "ZAdv_MAM_95 = np.mean(ZAdv_MAM_95, axis = (1,2)).reshape(-1,1)\n",
    "ZAdv_MAM_96 = np.mean(ZAdv_MAM_96, axis = (1,2)).reshape(-1,1)\n",
    "ZAdv_MAM_97 = np.mean(ZAdv_MAM_97, axis = (1,2)).reshape(-1,1)\n",
    "ZAdv_MAM_98 = np.mean(ZAdv_MAM_98, axis = (1,2)).reshape(-1,1)\n",
    "ZAdv_MAM_99 = np.mean(ZAdv_MAM_99, axis = (1,2)).reshape(-1,1)\n",
    "ZAdv_MAM_00 = np.mean(ZAdv_MAM_00, axis = (1,2)).reshape(-1,1)\n",
    "ZAdv_MAM_01 = np.mean(ZAdv_MAM_01, axis = (1,2)).reshape(-1,1)\n",
    "ZAdv_MAM_02 = np.mean(ZAdv_MAM_02, axis = (1,2)).reshape(-1,1)\n",
    "ZAdv_MAM_03 = np.mean(ZAdv_MAM_03, axis = (1,2)).reshape(-1,1)\n",
    "ZAdv_MAM_04 = np.mean(ZAdv_MAM_04, axis = (1,2)).reshape(-1,1)\n",
    "ZAdv_MAM_05 = np.mean(ZAdv_MAM_05, axis = (1,2)).reshape(-1,1)\n",
    "ZAdv_MAM_06 = np.mean(ZAdv_MAM_06, axis = (1,2)).reshape(-1,1)\n",
    "ZAdv_MAM_07 = np.mean(ZAdv_MAM_07, axis = (1,2)).reshape(-1,1)\n",
    "ZAdv_MAM_08 = np.mean(ZAdv_MAM_08, axis = (1,2)).reshape(-1,1)\n",
    "ZAdv_MAM_09 = np.mean(ZAdv_MAM_09, axis = (1,2)).reshape(-1,1)\n",
    "ZAdv_MAM_10 = np.mean(ZAdv_MAM_10, axis = (1,2)).reshape(-1,1)\n",
    "ZAdv_MAM_11 = np.mean(ZAdv_MAM_11, axis = (1,2)).reshape(-1,1)\n",
    "ZAdv_MAM_12 = np.mean(ZAdv_MAM_12, axis = (1,2)).reshape(-1,1)\n",
    "ZAdv_MAM_13 = np.mean(ZAdv_MAM_13, axis = (1,2)).reshape(-1,1)\n",
    "ZAdv_MAM_14 = np.mean(ZAdv_MAM_14, axis = (1,2)).reshape(-1,1)\n",
    "ZAdv_MAM_15 = np.mean(ZAdv_MAM_15, axis = (1,2)).reshape(-1,1)\n",
    "ZAdv_MAM_16 = np.mean(ZAdv_MAM_16, axis = (1,2)).reshape(-1,1)\n",
    "ZAdv_MAM_17 = np.mean(ZAdv_MAM_17, axis = (1,2)).reshape(-1,1)\n",
    "ZAdv_MAM_18 = np.mean(ZAdv_MAM_18, axis = (1,2)).reshape(-1,1)\n",
    "ZAdv_MAM_19 = np.mean(ZAdv_MAM_19, axis = (1,2)).reshape(-1,1)"
   ]
  },
  {
   "cell_type": "code",
   "execution_count": 48,
   "id": "8dd2b8c0",
   "metadata": {},
   "outputs": [],
   "source": [
    "ZAdv_MAM_93 = np.mean(ZAdv_MAM_93).reshape(-1,1)\n",
    "ZAdv_MAM_94 = np.mean(ZAdv_MAM_94).reshape(-1,1)\n",
    "ZAdv_MAM_95 = np.mean(ZAdv_MAM_95).reshape(-1,1)\n",
    "ZAdv_MAM_96 = np.mean(ZAdv_MAM_96).reshape(-1,1)\n",
    "ZAdv_MAM_97 = np.mean(ZAdv_MAM_97).reshape(-1,1)\n",
    "ZAdv_MAM_98 = np.mean(ZAdv_MAM_98).reshape(-1,1)\n",
    "ZAdv_MAM_99 = np.mean(ZAdv_MAM_99).reshape(-1,1)\n",
    "ZAdv_MAM_00 = np.mean(ZAdv_MAM_00).reshape(-1,1)\n",
    "ZAdv_MAM_01 = np.mean(ZAdv_MAM_01).reshape(-1,1)\n",
    "ZAdv_MAM_02 = np.mean(ZAdv_MAM_02).reshape(-1,1)\n",
    "ZAdv_MAM_03 = np.mean(ZAdv_MAM_03).reshape(-1,1)\n",
    "ZAdv_MAM_04 = np.mean(ZAdv_MAM_04).reshape(-1,1)\n",
    "ZAdv_MAM_05 = np.mean(ZAdv_MAM_05).reshape(-1,1)\n",
    "ZAdv_MAM_06 = np.mean(ZAdv_MAM_06).reshape(-1,1)\n",
    "ZAdv_MAM_07 = np.mean(ZAdv_MAM_07).reshape(-1,1)\n",
    "ZAdv_MAM_08 = np.mean(ZAdv_MAM_08).reshape(-1,1)\n",
    "ZAdv_MAM_09 = np.mean(ZAdv_MAM_09).reshape(-1,1)\n",
    "ZAdv_MAM_10 = np.mean(ZAdv_MAM_10).reshape(-1,1)\n",
    "ZAdv_MAM_11 = np.mean(ZAdv_MAM_11).reshape(-1,1)\n",
    "ZAdv_MAM_12 = np.mean(ZAdv_MAM_12).reshape(-1,1)\n",
    "ZAdv_MAM_13 = np.mean(ZAdv_MAM_13).reshape(-1,1)\n",
    "ZAdv_MAM_14 = np.mean(ZAdv_MAM_14).reshape(-1,1)\n",
    "ZAdv_MAM_15 = np.mean(ZAdv_MAM_15).reshape(-1,1)\n",
    "ZAdv_MAM_16 = np.mean(ZAdv_MAM_16).reshape(-1,1)\n",
    "ZAdv_MAM_17 = np.mean(ZAdv_MAM_17).reshape(-1,1)\n",
    "ZAdv_MAM_18 = np.mean(ZAdv_MAM_18).reshape(-1,1)\n",
    "ZAdv_MAM_19 = np.mean(ZAdv_MAM_19).reshape(-1,1)"
   ]
  },
  {
   "cell_type": "code",
   "execution_count": 49,
   "id": "239a2378",
   "metadata": {},
   "outputs": [],
   "source": [
    "MAdv_MAM_93 = np.mean(MAdv_MAM_93, axis = (1,2)).reshape(-1,1)\n",
    "MAdv_MAM_94 = np.mean(MAdv_MAM_94, axis = (1,2)).reshape(-1,1)\n",
    "MAdv_MAM_95 = np.mean(MAdv_MAM_95, axis = (1,2)).reshape(-1,1)\n",
    "MAdv_MAM_96 = np.mean(MAdv_MAM_96, axis = (1,2)).reshape(-1,1)\n",
    "MAdv_MAM_97 = np.mean(MAdv_MAM_97, axis = (1,2)).reshape(-1,1)\n",
    "MAdv_MAM_98 = np.mean(MAdv_MAM_98, axis = (1,2)).reshape(-1,1)\n",
    "MAdv_MAM_99 = np.mean(MAdv_MAM_99, axis = (1,2)).reshape(-1,1)\n",
    "MAdv_MAM_00 = np.mean(MAdv_MAM_00, axis = (1,2)).reshape(-1,1)\n",
    "MAdv_MAM_01 = np.mean(MAdv_MAM_01, axis = (1,2)).reshape(-1,1)\n",
    "MAdv_MAM_02 = np.mean(MAdv_MAM_02, axis = (1,2)).reshape(-1,1)\n",
    "MAdv_MAM_03 = np.mean(MAdv_MAM_03, axis = (1,2)).reshape(-1,1)\n",
    "MAdv_MAM_04 = np.mean(MAdv_MAM_04, axis = (1,2)).reshape(-1,1)\n",
    "MAdv_MAM_05 = np.mean(MAdv_MAM_05, axis = (1,2)).reshape(-1,1)\n",
    "MAdv_MAM_06 = np.mean(MAdv_MAM_06, axis = (1,2)).reshape(-1,1)\n",
    "MAdv_MAM_07 = np.mean(MAdv_MAM_07, axis = (1,2)).reshape(-1,1)\n",
    "MAdv_MAM_08 = np.mean(MAdv_MAM_08, axis = (1,2)).reshape(-1,1)\n",
    "MAdv_MAM_09 = np.mean(MAdv_MAM_09, axis = (1,2)).reshape(-1,1)\n",
    "MAdv_MAM_10 = np.mean(MAdv_MAM_10, axis = (1,2)).reshape(-1,1)\n",
    "MAdv_MAM_11 = np.mean(MAdv_MAM_11, axis = (1,2)).reshape(-1,1)\n",
    "MAdv_MAM_12 = np.mean(MAdv_MAM_12, axis = (1,2)).reshape(-1,1)\n",
    "MAdv_MAM_13 = np.mean(MAdv_MAM_13, axis = (1,2)).reshape(-1,1)\n",
    "MAdv_MAM_14 = np.mean(MAdv_MAM_14, axis = (1,2)).reshape(-1,1)\n",
    "MAdv_MAM_15 = np.mean(MAdv_MAM_15, axis = (1,2)).reshape(-1,1)\n",
    "MAdv_MAM_16 = np.mean(MAdv_MAM_16, axis = (1,2)).reshape(-1,1)\n",
    "MAdv_MAM_17 = np.mean(MAdv_MAM_17, axis = (1,2)).reshape(-1,1)\n",
    "MAdv_MAM_18 = np.mean(MAdv_MAM_18, axis = (1,2)).reshape(-1,1)\n",
    "MAdv_MAM_19 = np.mean(MAdv_MAM_19, axis = (1,2)).reshape(-1,1)"
   ]
  },
  {
   "cell_type": "code",
   "execution_count": 50,
   "id": "240bdf47",
   "metadata": {},
   "outputs": [],
   "source": [
    "MAdv_MAM_93 = np.mean(MAdv_MAM_93).reshape(-1,1)\n",
    "MAdv_MAM_94 = np.mean(MAdv_MAM_94).reshape(-1,1)\n",
    "MAdv_MAM_95 = np.mean(MAdv_MAM_95).reshape(-1,1)\n",
    "MAdv_MAM_96 = np.mean(MAdv_MAM_96).reshape(-1,1)\n",
    "MAdv_MAM_97 = np.mean(MAdv_MAM_97).reshape(-1,1)\n",
    "MAdv_MAM_98 = np.mean(MAdv_MAM_98).reshape(-1,1)\n",
    "MAdv_MAM_99 = np.mean(MAdv_MAM_99).reshape(-1,1)\n",
    "MAdv_MAM_00 = np.mean(MAdv_MAM_00).reshape(-1,1)\n",
    "MAdv_MAM_01 = np.mean(MAdv_MAM_01).reshape(-1,1)\n",
    "MAdv_MAM_02 = np.mean(MAdv_MAM_02).reshape(-1,1)\n",
    "MAdv_MAM_03 = np.mean(MAdv_MAM_03).reshape(-1,1)\n",
    "MAdv_MAM_04 = np.mean(MAdv_MAM_04).reshape(-1,1)\n",
    "MAdv_MAM_05 = np.mean(MAdv_MAM_05).reshape(-1,1)\n",
    "MAdv_MAM_06 = np.mean(MAdv_MAM_06).reshape(-1,1)\n",
    "MAdv_MAM_07 = np.mean(MAdv_MAM_07).reshape(-1,1)\n",
    "MAdv_MAM_08 = np.mean(MAdv_MAM_08).reshape(-1,1)\n",
    "MAdv_MAM_09 = np.mean(MAdv_MAM_09).reshape(-1,1)\n",
    "MAdv_MAM_10 = np.mean(MAdv_MAM_10).reshape(-1,1)\n",
    "MAdv_MAM_11 = np.mean(MAdv_MAM_11).reshape(-1,1)\n",
    "MAdv_MAM_12 = np.mean(MAdv_MAM_12).reshape(-1,1)\n",
    "MAdv_MAM_13 = np.mean(MAdv_MAM_13).reshape(-1,1)\n",
    "MAdv_MAM_14 = np.mean(MAdv_MAM_14).reshape(-1,1)\n",
    "MAdv_MAM_15 = np.mean(MAdv_MAM_15).reshape(-1,1)\n",
    "MAdv_MAM_16 = np.mean(MAdv_MAM_16).reshape(-1,1)\n",
    "MAdv_MAM_17 = np.mean(MAdv_MAM_17).reshape(-1,1)\n",
    "MAdv_MAM_18 = np.mean(MAdv_MAM_18).reshape(-1,1)\n",
    "MAdv_MAM_19 = np.mean(MAdv_MAM_19).reshape(-1,1)"
   ]
  },
  {
   "cell_type": "code",
   "execution_count": 51,
   "id": "aca94840",
   "metadata": {},
   "outputs": [],
   "source": [
    "VAdv_MAM_93 = np.mean(VAdv_MAM_93, axis = (1,2)).reshape(-1,1)\n",
    "VAdv_MAM_94 = np.mean(VAdv_MAM_94, axis = (1,2)).reshape(-1,1)\n",
    "VAdv_MAM_95 = np.mean(VAdv_MAM_95, axis = (1,2)).reshape(-1,1)\n",
    "VAdv_MAM_96 = np.mean(VAdv_MAM_96, axis = (1,2)).reshape(-1,1)\n",
    "VAdv_MAM_97 = np.mean(VAdv_MAM_97, axis = (1,2)).reshape(-1,1)\n",
    "VAdv_MAM_98 = np.mean(VAdv_MAM_98, axis = (1,2)).reshape(-1,1)\n",
    "VAdv_MAM_99 = np.mean(VAdv_MAM_99, axis = (1,2)).reshape(-1,1)\n",
    "VAdv_MAM_00 = np.mean(VAdv_MAM_00, axis = (1,2)).reshape(-1,1)\n",
    "VAdv_MAM_01 = np.mean(VAdv_MAM_01, axis = (1,2)).reshape(-1,1)\n",
    "VAdv_MAM_02 = np.mean(VAdv_MAM_02, axis = (1,2)).reshape(-1,1)\n",
    "VAdv_MAM_03 = np.mean(VAdv_MAM_03, axis = (1,2)).reshape(-1,1)\n",
    "VAdv_MAM_04 = np.mean(VAdv_MAM_04, axis = (1,2)).reshape(-1,1)\n",
    "VAdv_MAM_05 = np.mean(VAdv_MAM_05, axis = (1,2)).reshape(-1,1)\n",
    "VAdv_MAM_06 = np.mean(VAdv_MAM_06, axis = (1,2)).reshape(-1,1)\n",
    "VAdv_MAM_07 = np.mean(VAdv_MAM_07, axis = (1,2)).reshape(-1,1)\n",
    "VAdv_MAM_08 = np.mean(VAdv_MAM_08, axis = (1,2)).reshape(-1,1)\n",
    "VAdv_MAM_09 = np.mean(VAdv_MAM_09, axis = (1,2)).reshape(-1,1)\n",
    "VAdv_MAM_10 = np.mean(VAdv_MAM_10, axis = (1,2)).reshape(-1,1)\n",
    "VAdv_MAM_11 = np.mean(VAdv_MAM_11, axis = (1,2)).reshape(-1,1)\n",
    "VAdv_MAM_12 = np.mean(VAdv_MAM_12, axis = (1,2)).reshape(-1,1)\n",
    "VAdv_MAM_13 = np.mean(VAdv_MAM_13, axis = (1,2)).reshape(-1,1)\n",
    "VAdv_MAM_14 = np.mean(VAdv_MAM_14, axis = (1,2)).reshape(-1,1)\n",
    "VAdv_MAM_15 = np.mean(VAdv_MAM_15, axis = (1,2)).reshape(-1,1)\n",
    "VAdv_MAM_16 = np.mean(VAdv_MAM_16, axis = (1,2)).reshape(-1,1)\n",
    "VAdv_MAM_17 = np.mean(VAdv_MAM_17, axis = (1,2)).reshape(-1,1)\n",
    "VAdv_MAM_18 = np.mean(VAdv_MAM_18, axis = (1,2)).reshape(-1,1)\n",
    "VAdv_MAM_19 = np.mean(VAdv_MAM_19, axis = (1,2)).reshape(-1,1)"
   ]
  },
  {
   "cell_type": "code",
   "execution_count": 52,
   "id": "262fa8d3",
   "metadata": {},
   "outputs": [],
   "source": [
    "VAdv_MAM_93 = np.mean(VAdv_MAM_93).reshape(-1,1)\n",
    "VAdv_MAM_94 = np.mean(VAdv_MAM_94).reshape(-1,1)\n",
    "VAdv_MAM_95 = np.mean(VAdv_MAM_95).reshape(-1,1)\n",
    "VAdv_MAM_96 = np.mean(VAdv_MAM_96).reshape(-1,1)\n",
    "VAdv_MAM_97 = np.mean(VAdv_MAM_97).reshape(-1,1)\n",
    "VAdv_MAM_98 = np.mean(VAdv_MAM_98).reshape(-1,1)\n",
    "VAdv_MAM_99 = np.mean(VAdv_MAM_99).reshape(-1,1)\n",
    "VAdv_MAM_00 = np.mean(VAdv_MAM_00).reshape(-1,1)\n",
    "VAdv_MAM_01 = np.mean(VAdv_MAM_01).reshape(-1,1)\n",
    "VAdv_MAM_02 = np.mean(VAdv_MAM_02).reshape(-1,1)\n",
    "VAdv_MAM_03 = np.mean(VAdv_MAM_03).reshape(-1,1)\n",
    "VAdv_MAM_04 = np.mean(VAdv_MAM_04).reshape(-1,1)\n",
    "VAdv_MAM_05 = np.mean(VAdv_MAM_05).reshape(-1,1)\n",
    "VAdv_MAM_06 = np.mean(VAdv_MAM_06).reshape(-1,1)\n",
    "VAdv_MAM_07 = np.mean(VAdv_MAM_07).reshape(-1,1)\n",
    "VAdv_MAM_08 = np.mean(VAdv_MAM_08).reshape(-1,1)\n",
    "VAdv_MAM_09 = np.mean(VAdv_MAM_09).reshape(-1,1)\n",
    "VAdv_MAM_10 = np.mean(VAdv_MAM_10).reshape(-1,1)\n",
    "VAdv_MAM_11 = np.mean(VAdv_MAM_11).reshape(-1,1)\n",
    "VAdv_MAM_12 = np.mean(VAdv_MAM_12).reshape(-1,1)\n",
    "VAdv_MAM_13 = np.mean(VAdv_MAM_13).reshape(-1,1)\n",
    "VAdv_MAM_14 = np.mean(VAdv_MAM_14).reshape(-1,1)\n",
    "VAdv_MAM_15 = np.mean(VAdv_MAM_15).reshape(-1,1)\n",
    "VAdv_MAM_16 = np.mean(VAdv_MAM_16).reshape(-1,1)\n",
    "VAdv_MAM_17 = np.mean(VAdv_MAM_17).reshape(-1,1)\n",
    "VAdv_MAM_18 = np.mean(VAdv_MAM_18).reshape(-1,1)\n",
    "VAdv_MAM_19 = np.mean(VAdv_MAM_19).reshape(-1,1)"
   ]
  },
  {
   "cell_type": "code",
   "execution_count": 53,
   "id": "b1913597",
   "metadata": {},
   "outputs": [],
   "source": [
    "R_origin_MAM_93 = np.mean(R_origin_MAM_93, axis = (1,2)).reshape(-1,1)\n",
    "R_origin_MAM_94 = np.mean(R_origin_MAM_94, axis = (1,2)).reshape(-1,1)\n",
    "R_origin_MAM_95 = np.mean(R_origin_MAM_95, axis = (1,2)).reshape(-1,1)\n",
    "R_origin_MAM_96 = np.mean(R_origin_MAM_96, axis = (1,2)).reshape(-1,1)\n",
    "R_origin_MAM_97 = np.mean(R_origin_MAM_97, axis = (1,2)).reshape(-1,1)\n",
    "R_origin_MAM_98 = np.mean(R_origin_MAM_98, axis = (1,2)).reshape(-1,1)\n",
    "R_origin_MAM_99 = np.mean(R_origin_MAM_99, axis = (1,2)).reshape(-1,1)\n",
    "R_origin_MAM_00 = np.mean(R_origin_MAM_00, axis = (1,2)).reshape(-1,1)\n",
    "R_origin_MAM_01 = np.mean(R_origin_MAM_01, axis = (1,2)).reshape(-1,1)\n",
    "R_origin_MAM_02 = np.mean(R_origin_MAM_02, axis = (1,2)).reshape(-1,1)\n",
    "R_origin_MAM_03 = np.mean(R_origin_MAM_03, axis = (1,2)).reshape(-1,1)\n",
    "R_origin_MAM_04 = np.mean(R_origin_MAM_04, axis = (1,2)).reshape(-1,1)\n",
    "R_origin_MAM_05 = np.mean(R_origin_MAM_05, axis = (1,2)).reshape(-1,1)\n",
    "R_origin_MAM_06 = np.mean(R_origin_MAM_06, axis = (1,2)).reshape(-1,1)\n",
    "R_origin_MAM_07 = np.mean(R_origin_MAM_07, axis = (1,2)).reshape(-1,1)\n",
    "R_origin_MAM_08 = np.mean(R_origin_MAM_08, axis = (1,2)).reshape(-1,1)\n",
    "R_origin_MAM_09 = np.mean(R_origin_MAM_09, axis = (1,2)).reshape(-1,1)\n",
    "R_origin_MAM_10 = np.mean(R_origin_MAM_10, axis = (1,2)).reshape(-1,1)\n",
    "R_origin_MAM_11 = np.mean(R_origin_MAM_11, axis = (1,2)).reshape(-1,1)\n",
    "R_origin_MAM_12 = np.mean(R_origin_MAM_12, axis = (1,2)).reshape(-1,1)\n",
    "R_origin_MAM_13 = np.mean(R_origin_MAM_13, axis = (1,2)).reshape(-1,1)\n",
    "R_origin_MAM_14 = np.mean(R_origin_MAM_14, axis = (1,2)).reshape(-1,1)\n",
    "R_origin_MAM_15 = np.mean(R_origin_MAM_15, axis = (1,2)).reshape(-1,1)\n",
    "R_origin_MAM_16 = np.mean(R_origin_MAM_16, axis = (1,2)).reshape(-1,1)\n",
    "R_origin_MAM_17 = np.mean(R_origin_MAM_17, axis = (1,2)).reshape(-1,1)\n",
    "R_origin_MAM_18 = np.mean(R_origin_MAM_18, axis = (1,2)).reshape(-1,1)\n",
    "R_origin_MAM_19 = np.mean(R_origin_MAM_19, axis = (1,2)).reshape(-1,1)"
   ]
  },
  {
   "cell_type": "code",
   "execution_count": 54,
   "id": "17a33858",
   "metadata": {},
   "outputs": [],
   "source": [
    "R_origin_MAM_93 = np.mean(R_origin_MAM_93).reshape(-1,1)\n",
    "R_origin_MAM_94 = np.mean(R_origin_MAM_94).reshape(-1,1)\n",
    "R_origin_MAM_95 = np.mean(R_origin_MAM_95).reshape(-1,1)\n",
    "R_origin_MAM_96 = np.mean(R_origin_MAM_96).reshape(-1,1)\n",
    "R_origin_MAM_97 = np.mean(R_origin_MAM_97).reshape(-1,1)\n",
    "R_origin_MAM_98 = np.mean(R_origin_MAM_98).reshape(-1,1)\n",
    "R_origin_MAM_99 = np.mean(R_origin_MAM_99).reshape(-1,1)\n",
    "R_origin_MAM_00 = np.mean(R_origin_MAM_00).reshape(-1,1)\n",
    "R_origin_MAM_01 = np.mean(R_origin_MAM_01).reshape(-1,1)\n",
    "R_origin_MAM_02 = np.mean(R_origin_MAM_02).reshape(-1,1)\n",
    "R_origin_MAM_03 = np.mean(R_origin_MAM_03).reshape(-1,1)\n",
    "R_origin_MAM_04 = np.mean(R_origin_MAM_04).reshape(-1,1)\n",
    "R_origin_MAM_05 = np.mean(R_origin_MAM_05).reshape(-1,1)\n",
    "R_origin_MAM_06 = np.mean(R_origin_MAM_06).reshape(-1,1)\n",
    "R_origin_MAM_07 = np.mean(R_origin_MAM_07).reshape(-1,1)\n",
    "R_origin_MAM_08 = np.mean(R_origin_MAM_08).reshape(-1,1)\n",
    "R_origin_MAM_09 = np.mean(R_origin_MAM_09).reshape(-1,1)\n",
    "R_origin_MAM_10 = np.mean(R_origin_MAM_10).reshape(-1,1)\n",
    "R_origin_MAM_11 = np.mean(R_origin_MAM_11).reshape(-1,1)\n",
    "R_origin_MAM_12 = np.mean(R_origin_MAM_12).reshape(-1,1)\n",
    "R_origin_MAM_13 = np.mean(R_origin_MAM_13).reshape(-1,1)\n",
    "R_origin_MAM_14 = np.mean(R_origin_MAM_14).reshape(-1,1)\n",
    "R_origin_MAM_15 = np.mean(R_origin_MAM_15).reshape(-1,1)\n",
    "R_origin_MAM_16 = np.mean(R_origin_MAM_16).reshape(-1,1)\n",
    "R_origin_MAM_17 = np.mean(R_origin_MAM_17).reshape(-1,1)\n",
    "R_origin_MAM_18 = np.mean(R_origin_MAM_18).reshape(-1,1)\n",
    "R_origin_MAM_19 = np.mean(R_origin_MAM_19).reshape(-1,1)"
   ]
  },
  {
   "cell_type": "code",
   "execution_count": 55,
   "id": "ba13241a",
   "metadata": {},
   "outputs": [],
   "source": [
    "dT_dt_MAM_93 = np.mean(dT_dt_MAM_93, axis = (1,2)).reshape(-1,1)\n",
    "dT_dt_MAM_94 = np.mean(dT_dt_MAM_94, axis = (1,2)).reshape(-1,1)\n",
    "dT_dt_MAM_95 = np.mean(dT_dt_MAM_95, axis = (1,2)).reshape(-1,1)\n",
    "dT_dt_MAM_96 = np.mean(dT_dt_MAM_96, axis = (1,2)).reshape(-1,1)\n",
    "dT_dt_MAM_97 = np.mean(dT_dt_MAM_97, axis = (1,2)).reshape(-1,1)\n",
    "dT_dt_MAM_98 = np.mean(dT_dt_MAM_98, axis = (1,2)).reshape(-1,1)\n",
    "dT_dt_MAM_99 = np.mean(dT_dt_MAM_99, axis = (1,2)).reshape(-1,1)\n",
    "dT_dt_MAM_00 = np.mean(dT_dt_MAM_00, axis = (1,2)).reshape(-1,1)\n",
    "dT_dt_MAM_01 = np.mean(dT_dt_MAM_01, axis = (1,2)).reshape(-1,1)\n",
    "dT_dt_MAM_02 = np.mean(dT_dt_MAM_02, axis = (1,2)).reshape(-1,1)\n",
    "dT_dt_MAM_03 = np.mean(dT_dt_MAM_03, axis = (1,2)).reshape(-1,1)\n",
    "dT_dt_MAM_04 = np.mean(dT_dt_MAM_04, axis = (1,2)).reshape(-1,1)\n",
    "dT_dt_MAM_05 = np.mean(dT_dt_MAM_05, axis = (1,2)).reshape(-1,1)\n",
    "dT_dt_MAM_06 = np.mean(dT_dt_MAM_06, axis = (1,2)).reshape(-1,1)\n",
    "dT_dt_MAM_07 = np.mean(dT_dt_MAM_07, axis = (1,2)).reshape(-1,1)\n",
    "dT_dt_MAM_08 = np.mean(dT_dt_MAM_08, axis = (1,2)).reshape(-1,1)\n",
    "dT_dt_MAM_09 = np.mean(dT_dt_MAM_09, axis = (1,2)).reshape(-1,1)\n",
    "dT_dt_MAM_10 = np.mean(dT_dt_MAM_10, axis = (1,2)).reshape(-1,1)\n",
    "dT_dt_MAM_11 = np.mean(dT_dt_MAM_11, axis = (1,2)).reshape(-1,1)\n",
    "dT_dt_MAM_12 = np.mean(dT_dt_MAM_12, axis = (1,2)).reshape(-1,1)\n",
    "dT_dt_MAM_13 = np.mean(dT_dt_MAM_13, axis = (1,2)).reshape(-1,1)\n",
    "dT_dt_MAM_14 = np.mean(dT_dt_MAM_14, axis = (1,2)).reshape(-1,1)\n",
    "dT_dt_MAM_15 = np.mean(dT_dt_MAM_15, axis = (1,2)).reshape(-1,1)\n",
    "dT_dt_MAM_16 = np.mean(dT_dt_MAM_16, axis = (1,2)).reshape(-1,1)\n",
    "dT_dt_MAM_17 = np.mean(dT_dt_MAM_17, axis = (1,2)).reshape(-1,1)\n",
    "dT_dt_MAM_18 = np.mean(dT_dt_MAM_18, axis = (1,2)).reshape(-1,1)\n",
    "dT_dt_MAM_19 = np.mean(dT_dt_MAM_19, axis = (1,2)).reshape(-1,1)"
   ]
  },
  {
   "cell_type": "code",
   "execution_count": 56,
   "id": "4191b0e4",
   "metadata": {},
   "outputs": [],
   "source": [
    "dT_dt_MAM_93 = np.mean(dT_dt_MAM_93).reshape(-1,1)\n",
    "dT_dt_MAM_94 = np.mean(dT_dt_MAM_94).reshape(-1,1)\n",
    "dT_dt_MAM_95 = np.mean(dT_dt_MAM_95).reshape(-1,1)\n",
    "dT_dt_MAM_96 = np.mean(dT_dt_MAM_96).reshape(-1,1)\n",
    "dT_dt_MAM_97 = np.mean(dT_dt_MAM_97).reshape(-1,1)\n",
    "dT_dt_MAM_98 = np.mean(dT_dt_MAM_98).reshape(-1,1)\n",
    "dT_dt_MAM_99 = np.mean(dT_dt_MAM_99).reshape(-1,1)\n",
    "dT_dt_MAM_00 = np.mean(dT_dt_MAM_00).reshape(-1,1)\n",
    "dT_dt_MAM_01 = np.mean(dT_dt_MAM_01).reshape(-1,1)\n",
    "dT_dt_MAM_02 = np.mean(dT_dt_MAM_02).reshape(-1,1)\n",
    "dT_dt_MAM_03 = np.mean(dT_dt_MAM_03).reshape(-1,1)\n",
    "dT_dt_MAM_04 = np.mean(dT_dt_MAM_04).reshape(-1,1)\n",
    "dT_dt_MAM_05 = np.mean(dT_dt_MAM_05).reshape(-1,1)\n",
    "dT_dt_MAM_06 = np.mean(dT_dt_MAM_06).reshape(-1,1)\n",
    "dT_dt_MAM_07 = np.mean(dT_dt_MAM_07).reshape(-1,1)\n",
    "dT_dt_MAM_08 = np.mean(dT_dt_MAM_08).reshape(-1,1)\n",
    "dT_dt_MAM_09 = np.mean(dT_dt_MAM_09).reshape(-1,1)\n",
    "dT_dt_MAM_10 = np.mean(dT_dt_MAM_10).reshape(-1,1)\n",
    "dT_dt_MAM_11 = np.mean(dT_dt_MAM_11).reshape(-1,1)\n",
    "dT_dt_MAM_12 = np.mean(dT_dt_MAM_12).reshape(-1,1)\n",
    "dT_dt_MAM_13 = np.mean(dT_dt_MAM_13).reshape(-1,1)\n",
    "dT_dt_MAM_14 = np.mean(dT_dt_MAM_14).reshape(-1,1)\n",
    "dT_dt_MAM_15 = np.mean(dT_dt_MAM_15).reshape(-1,1)\n",
    "dT_dt_MAM_16 = np.mean(dT_dt_MAM_16).reshape(-1,1)\n",
    "dT_dt_MAM_17 = np.mean(dT_dt_MAM_17).reshape(-1,1)\n",
    "dT_dt_MAM_18 = np.mean(dT_dt_MAM_18).reshape(-1,1)\n",
    "dT_dt_MAM_19 = np.mean(dT_dt_MAM_19).reshape(-1,1)"
   ]
  },
  {
   "cell_type": "code",
   "execution_count": 57,
   "id": "1bba9a57",
   "metadata": {},
   "outputs": [],
   "source": [
    "R_recur_MAM_93 = np.mean(R_recur_MAM_93, axis = (1,2)).reshape(-1,1)\n",
    "R_recur_MAM_94 = np.mean(R_recur_MAM_94, axis = (1,2)).reshape(-1,1)\n",
    "R_recur_MAM_95 = np.mean(R_recur_MAM_95, axis = (1,2)).reshape(-1,1)\n",
    "R_recur_MAM_96 = np.mean(R_recur_MAM_96, axis = (1,2)).reshape(-1,1)\n",
    "R_recur_MAM_97 = np.mean(R_recur_MAM_97, axis = (1,2)).reshape(-1,1)\n",
    "R_recur_MAM_98 = np.mean(R_recur_MAM_98, axis = (1,2)).reshape(-1,1)\n",
    "R_recur_MAM_99 = np.mean(R_recur_MAM_99, axis = (1,2)).reshape(-1,1)\n",
    "R_recur_MAM_00 = np.mean(R_recur_MAM_00, axis = (1,2)).reshape(-1,1)\n",
    "R_recur_MAM_01 = np.mean(R_recur_MAM_01, axis = (1,2)).reshape(-1,1)\n",
    "R_recur_MAM_02 = np.mean(R_recur_MAM_02, axis = (1,2)).reshape(-1,1)\n",
    "R_recur_MAM_03 = np.mean(R_recur_MAM_03, axis = (1,2)).reshape(-1,1)\n",
    "R_recur_MAM_04 = np.mean(R_recur_MAM_04, axis = (1,2)).reshape(-1,1)\n",
    "R_recur_MAM_05 = np.mean(R_recur_MAM_05, axis = (1,2)).reshape(-1,1)\n",
    "R_recur_MAM_06 = np.mean(R_recur_MAM_06, axis = (1,2)).reshape(-1,1)\n",
    "R_recur_MAM_07 = np.mean(R_recur_MAM_07, axis = (1,2)).reshape(-1,1)\n",
    "R_recur_MAM_08 = np.mean(R_recur_MAM_08, axis = (1,2)).reshape(-1,1)\n",
    "R_recur_MAM_09 = np.mean(R_recur_MAM_09, axis = (1,2)).reshape(-1,1)\n",
    "R_recur_MAM_10 = np.mean(R_recur_MAM_10, axis = (1,2)).reshape(-1,1)\n",
    "R_recur_MAM_11 = np.mean(R_recur_MAM_11, axis = (1,2)).reshape(-1,1)\n",
    "R_recur_MAM_12 = np.mean(R_recur_MAM_12, axis = (1,2)).reshape(-1,1)\n",
    "R_recur_MAM_13 = np.mean(R_recur_MAM_13, axis = (1,2)).reshape(-1,1)\n",
    "R_recur_MAM_14 = np.mean(R_recur_MAM_14, axis = (1,2)).reshape(-1,1)\n",
    "R_recur_MAM_15 = np.mean(R_recur_MAM_15, axis = (1,2)).reshape(-1,1)\n",
    "R_recur_MAM_16 = np.mean(R_recur_MAM_16, axis = (1,2)).reshape(-1,1)\n",
    "R_recur_MAM_17 = np.mean(R_recur_MAM_17, axis = (1,2)).reshape(-1,1)\n",
    "R_recur_MAM_18 = np.mean(R_recur_MAM_18, axis = (1,2)).reshape(-1,1)\n",
    "R_recur_MAM_19 = np.mean(R_recur_MAM_19, axis = (1,2)).reshape(-1,1)"
   ]
  },
  {
   "cell_type": "code",
   "execution_count": 58,
   "id": "ab78a943",
   "metadata": {},
   "outputs": [],
   "source": [
    "R_recur_MAM_93 = np.mean(R_recur_MAM_93).reshape(-1,1)\n",
    "R_recur_MAM_94 = np.mean(R_recur_MAM_94).reshape(-1,1)\n",
    "R_recur_MAM_95 = np.mean(R_recur_MAM_95).reshape(-1,1)\n",
    "R_recur_MAM_96 = np.mean(R_recur_MAM_96).reshape(-1,1)\n",
    "R_recur_MAM_97 = np.mean(R_recur_MAM_97).reshape(-1,1)\n",
    "R_recur_MAM_98 = np.mean(R_recur_MAM_98).reshape(-1,1)\n",
    "R_recur_MAM_99 = np.mean(R_recur_MAM_99).reshape(-1,1)\n",
    "R_recur_MAM_00 = np.mean(R_recur_MAM_00).reshape(-1,1)\n",
    "R_recur_MAM_01 = np.mean(R_recur_MAM_01).reshape(-1,1)\n",
    "R_recur_MAM_02 = np.mean(R_recur_MAM_02).reshape(-1,1)\n",
    "R_recur_MAM_03 = np.mean(R_recur_MAM_03).reshape(-1,1)\n",
    "R_recur_MAM_04 = np.mean(R_recur_MAM_04).reshape(-1,1)\n",
    "R_recur_MAM_05 = np.mean(R_recur_MAM_05).reshape(-1,1)\n",
    "R_recur_MAM_06 = np.mean(R_recur_MAM_06).reshape(-1,1)\n",
    "R_recur_MAM_07 = np.mean(R_recur_MAM_07).reshape(-1,1)\n",
    "R_recur_MAM_08 = np.mean(R_recur_MAM_08).reshape(-1,1)\n",
    "R_recur_MAM_09 = np.mean(R_recur_MAM_09).reshape(-1,1)\n",
    "R_recur_MAM_10 = np.mean(R_recur_MAM_10).reshape(-1,1)\n",
    "R_recur_MAM_11 = np.mean(R_recur_MAM_11).reshape(-1,1)\n",
    "R_recur_MAM_12 = np.mean(R_recur_MAM_12).reshape(-1,1)\n",
    "R_recur_MAM_13 = np.mean(R_recur_MAM_13).reshape(-1,1)\n",
    "R_recur_MAM_14 = np.mean(R_recur_MAM_14).reshape(-1,1)\n",
    "R_recur_MAM_15 = np.mean(R_recur_MAM_15).reshape(-1,1)\n",
    "R_recur_MAM_16 = np.mean(R_recur_MAM_16).reshape(-1,1)\n",
    "R_recur_MAM_17 = np.mean(R_recur_MAM_17).reshape(-1,1)\n",
    "R_recur_MAM_18 = np.mean(R_recur_MAM_18).reshape(-1,1)\n",
    "R_recur_MAM_19 = np.mean(R_recur_MAM_19).reshape(-1,1)"
   ]
  },
  {
   "cell_type": "code",
   "execution_count": 59,
   "id": "666d3a6b",
   "metadata": {},
   "outputs": [
    {
     "data": {
      "text/plain": [
       "(1, 1)"
      ]
     },
     "execution_count": 59,
     "metadata": {},
     "output_type": "execute_result"
    }
   ],
   "source": [
    "Q_net_MAM_93.shape"
   ]
  },
  {
   "cell_type": "code",
   "execution_count": 60,
   "id": "bf501ab7",
   "metadata": {},
   "outputs": [
    {
     "data": {
      "text/plain": [
       "(27, 1)"
      ]
     },
     "execution_count": 60,
     "metadata": {},
     "output_type": "execute_result"
    }
   ],
   "source": [
    "Q_net_MAM_93_19 = np.concatenate((Q_net_MAM_93, Q_net_MAM_94, Q_net_MAM_95, Q_net_MAM_96,\n",
    "                                 Q_net_MAM_97, Q_net_MAM_98, Q_net_MAM_99, Q_net_MAM_00, Q_net_MAM_01,\n",
    "                                 Q_net_MAM_02, Q_net_MAM_03, Q_net_MAM_04, Q_net_MAM_05, Q_net_MAM_06,\n",
    "                                 Q_net_MAM_07, Q_net_MAM_08, Q_net_MAM_09, Q_net_MAM_10, Q_net_MAM_11,\n",
    "                                 Q_net_MAM_12, Q_net_MAM_13, Q_net_MAM_14, Q_net_MAM_15, Q_net_MAM_16,\n",
    "                                 Q_net_MAM_17, Q_net_MAM_18, Q_net_MAM_19), axis = 0)\n",
    "Q_net_MAM_93_19.shape"
   ]
  },
  {
   "cell_type": "code",
   "execution_count": 61,
   "id": "3a056c61",
   "metadata": {},
   "outputs": [
    {
     "data": {
      "text/plain": [
       "(27, 1)"
      ]
     },
     "execution_count": 61,
     "metadata": {},
     "output_type": "execute_result"
    }
   ],
   "source": [
    "ZAdv_MAM_93_19 = np.concatenate((ZAdv_MAM_93, ZAdv_MAM_94, ZAdv_MAM_95, ZAdv_MAM_96,\n",
    "                                 ZAdv_MAM_97, ZAdv_MAM_98, ZAdv_MAM_99, ZAdv_MAM_00, ZAdv_MAM_01,\n",
    "                                 ZAdv_MAM_02, ZAdv_MAM_03, ZAdv_MAM_04, ZAdv_MAM_05, ZAdv_MAM_06,\n",
    "                                 ZAdv_MAM_07, ZAdv_MAM_08, ZAdv_MAM_09, ZAdv_MAM_10, ZAdv_MAM_11,\n",
    "                                 ZAdv_MAM_12, ZAdv_MAM_13, ZAdv_MAM_14, ZAdv_MAM_15, ZAdv_MAM_16,\n",
    "                                 ZAdv_MAM_17, ZAdv_MAM_18, ZAdv_MAM_19), axis = 0)\n",
    "ZAdv_MAM_93_19.shape"
   ]
  },
  {
   "cell_type": "code",
   "execution_count": 62,
   "id": "ed9e017b",
   "metadata": {},
   "outputs": [
    {
     "data": {
      "text/plain": [
       "(27, 1)"
      ]
     },
     "execution_count": 62,
     "metadata": {},
     "output_type": "execute_result"
    }
   ],
   "source": [
    "MAdv_MAM_93_19 = np.concatenate((MAdv_MAM_93, MAdv_MAM_94, MAdv_MAM_95, MAdv_MAM_96,\n",
    "                                 MAdv_MAM_97, MAdv_MAM_98, MAdv_MAM_99, MAdv_MAM_00, MAdv_MAM_01,\n",
    "                                 MAdv_MAM_02, MAdv_MAM_03, MAdv_MAM_04, MAdv_MAM_05, MAdv_MAM_06,\n",
    "                                 MAdv_MAM_07, MAdv_MAM_08, MAdv_MAM_09, MAdv_MAM_10, MAdv_MAM_11,\n",
    "                                 MAdv_MAM_12, MAdv_MAM_13, MAdv_MAM_14, MAdv_MAM_15, MAdv_MAM_16,\n",
    "                                 MAdv_MAM_17, MAdv_MAM_18, MAdv_MAM_19), axis = 0)\n",
    "MAdv_MAM_93_19.shape"
   ]
  },
  {
   "cell_type": "code",
   "execution_count": 63,
   "id": "46d0dc06",
   "metadata": {},
   "outputs": [
    {
     "data": {
      "text/plain": [
       "(27, 1)"
      ]
     },
     "execution_count": 63,
     "metadata": {},
     "output_type": "execute_result"
    }
   ],
   "source": [
    "VAdv_MAM_93_19 = np.concatenate((VAdv_MAM_93, VAdv_MAM_94, VAdv_MAM_95, VAdv_MAM_96,\n",
    "                                 VAdv_MAM_97, VAdv_MAM_98, VAdv_MAM_99, VAdv_MAM_00, VAdv_MAM_01,\n",
    "                                 VAdv_MAM_02, VAdv_MAM_03, VAdv_MAM_04, VAdv_MAM_05, VAdv_MAM_06,\n",
    "                                 VAdv_MAM_07, VAdv_MAM_08, VAdv_MAM_09, VAdv_MAM_10, VAdv_MAM_11,\n",
    "                                 VAdv_MAM_12, VAdv_MAM_13, VAdv_MAM_14, VAdv_MAM_15, VAdv_MAM_16,\n",
    "                                 VAdv_MAM_17, VAdv_MAM_18, VAdv_MAM_19), axis = 0)\n",
    "VAdv_MAM_93_19.shape"
   ]
  },
  {
   "cell_type": "code",
   "execution_count": 64,
   "id": "5fae7482",
   "metadata": {},
   "outputs": [
    {
     "data": {
      "text/plain": [
       "(27, 1)"
      ]
     },
     "execution_count": 64,
     "metadata": {},
     "output_type": "execute_result"
    }
   ],
   "source": [
    "R_origin_MAM_93_19  = np.concatenate((R_origin_MAM_93 , R_origin_MAM_94, R_origin_MAM_95, R_origin_MAM_96,\n",
    "                                 R_origin_MAM_97, R_origin_MAM_98, R_origin_MAM_99, R_origin_MAM_00, R_origin_MAM_01,\n",
    "                                 R_origin_MAM_02, R_origin_MAM_03, R_origin_MAM_04, R_origin_MAM_05, R_origin_MAM_06,\n",
    "                                 R_origin_MAM_07, R_origin_MAM_08, R_origin_MAM_09, R_origin_MAM_10, R_origin_MAM_11,\n",
    "                                 R_origin_MAM_12, R_origin_MAM_13, R_origin_MAM_14, R_origin_MAM_15, R_origin_MAM_16,\n",
    "                                 R_origin_MAM_17, R_origin_MAM_18, R_origin_MAM_19), axis = 0)\n",
    "R_origin_MAM_93_19.shape"
   ]
  },
  {
   "cell_type": "code",
   "execution_count": 65,
   "id": "c7d7a2e9",
   "metadata": {},
   "outputs": [
    {
     "data": {
      "text/plain": [
       "(27, 1)"
      ]
     },
     "execution_count": 65,
     "metadata": {},
     "output_type": "execute_result"
    }
   ],
   "source": [
    "dT_dt_MAM_93_19  = np.concatenate((dT_dt_MAM_93 , dT_dt_MAM_94, dT_dt_MAM_95, dT_dt_MAM_96,\n",
    "                                 dT_dt_MAM_97, dT_dt_MAM_98, dT_dt_MAM_99, dT_dt_MAM_00, dT_dt_MAM_01,\n",
    "                                 dT_dt_MAM_02, dT_dt_MAM_03, dT_dt_MAM_04, dT_dt_MAM_05, dT_dt_MAM_06,\n",
    "                                 dT_dt_MAM_07, dT_dt_MAM_08, dT_dt_MAM_09, dT_dt_MAM_10, dT_dt_MAM_11,\n",
    "                                 dT_dt_MAM_12, dT_dt_MAM_13, dT_dt_MAM_14, dT_dt_MAM_15, dT_dt_MAM_16,\n",
    "                                 dT_dt_MAM_17, dT_dt_MAM_18, dT_dt_MAM_19), axis = 0)\n",
    "dT_dt_MAM_93_19.shape"
   ]
  },
  {
   "cell_type": "code",
   "execution_count": 66,
   "id": "29766ce4",
   "metadata": {},
   "outputs": [
    {
     "data": {
      "text/plain": [
       "(27, 1)"
      ]
     },
     "execution_count": 66,
     "metadata": {},
     "output_type": "execute_result"
    }
   ],
   "source": [
    "R_recur_MAM_93_19  = np.concatenate((R_recur_MAM_93 , R_recur_MAM_94, R_recur_MAM_95, R_recur_MAM_96,\n",
    "                                 R_recur_MAM_97, R_recur_MAM_98, R_recur_MAM_99, R_recur_MAM_00, R_recur_MAM_01,\n",
    "                                 R_recur_MAM_02, R_recur_MAM_03, R_recur_MAM_04, R_recur_MAM_05, R_recur_MAM_06,\n",
    "                                 R_recur_MAM_07, R_recur_MAM_08, R_recur_MAM_09, R_recur_MAM_10, R_recur_MAM_11,\n",
    "                                 R_recur_MAM_12, R_recur_MAM_13, R_recur_MAM_14, R_recur_MAM_15, R_recur_MAM_16,\n",
    "                                 R_recur_MAM_17, R_recur_MAM_18, R_recur_MAM_19), axis = 0)\n",
    "R_recur_MAM_93_19.shape"
   ]
  },
  {
   "cell_type": "code",
   "execution_count": 67,
   "id": "bb103910",
   "metadata": {},
   "outputs": [],
   "source": [
    "np.savez(r'D:\\heat_wave\\atlantic\\expand_area1\\MLD_PLOT\\MLD_equa_MAM.npz',\n",
    "        Q_net_MAM_93_19 = Q_net_MAM_93_19, ZAdv_MAM_93_19 = ZAdv_MAM_93_19,\n",
    "        MAdv_MAM_93_19 = MAdv_MAM_93_19, VAdv_MAM_93_19 = VAdv_MAM_93_19,\n",
    "        R_origin_MAM_93_19 = R_origin_MAM_93_19, dT_dt_MAM_93_19 = dT_dt_MAM_93_19,\n",
    "        R_recur_MAM_93_19 = R_recur_MAM_93_19)"
   ]
  },
  {
   "cell_type": "code",
   "execution_count": null,
   "id": "37061f32",
   "metadata": {},
   "outputs": [],
   "source": []
  }
 ],
 "metadata": {
  "kernelspec": {
   "display_name": "Python 3 (ipykernel)",
   "language": "python",
   "name": "python3"
  },
  "language_info": {
   "codemirror_mode": {
    "name": "ipython",
    "version": 3
   },
   "file_extension": ".py",
   "mimetype": "text/x-python",
   "name": "python",
   "nbconvert_exporter": "python",
   "pygments_lexer": "ipython3",
   "version": "3.8.12"
  }
 },
 "nbformat": 4,
 "nbformat_minor": 5
}

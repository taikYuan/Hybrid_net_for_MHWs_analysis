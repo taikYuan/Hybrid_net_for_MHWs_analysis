{
 "cells": [
  {
   "cell_type": "code",
   "execution_count": 50,
   "id": "ca4fe29e",
   "metadata": {
    "scrolled": true
   },
   "outputs": [
    {
     "data": {
      "image/png": "[encoded data removed]",
      "text/plain": [
       "<Figure size 432x288 with 1 Axes>"
      ]
     },
     "metadata": {
      "needs_background": "light"
     },
     "output_type": "display_data"
    }
   ],
   "source": [
    "import matplotlib.pyplot as plt\n",
    "import numpy as np\n",
    "\n",
    "# 生成示例\n",
    "Spring = np.array([13, 10, 4, 16, 34, 4, 9, 49, 26, 10, 8, 5, 92, 67, 12])\n",
    "Summer = np.array([16, 6, 24, 26, 8, 8, 28, 9, 3,  82, 28, 10, 5, 8, 16, 8, 3])\n",
    "Autumn = np.array([11, 39, 6, 8, 27, 7, 6, 9, 7, 1, 25, 2, 72, 3, 33, 6, 5, 7])\n",
    "Winter = np.array([5, 26, 8, 4, 9, 19, 27, 5, 90, 18, 37, 10, 1, 7, 20, 23, 14, 17])\n",
    "data = [Spring, Summer, Autumn, Winter]\n",
    "\n",
    "labels = ['Spring', 'Summer', 'Autumn', 'Winter']\n",
    "\n",
    "# 绘制箱线图\n",
    "# fig, ax = plt.subplots()\n",
    "# box = ax.boxplot(data)\n",
    "\n",
    "# 设置箱体的颜色为红色 \n",
    "boxprops = dict(linestyle='-', linewidth=2.5, color='black') \n",
    "# 绘制箱线图 \n",
    "plt.boxplot(data, boxprops=boxprops, labels = labels)\n",
    "\n",
    "for line in ax.lines:\n",
    "    line.set_linewidth(3)\n",
    "    \n",
    "    \n",
    "# 设置横坐标刻度\n",
    "ax.set_xticklabels(['Spring', 'Summer', 'Autumn', 'Winter'])\n",
    "\n",
    "# 设置标题和标签\n",
    "ax.set_title('Total duration')\n",
    "# ax.set_xlabel('Data')\n",
    "ax.set_ylabel('Days')\n",
    "\n",
    "plt.show()"
   ]
  },
  {
   "cell_type": "code",
   "execution_count": 46,
   "id": "e083536e",
   "metadata": {},
   "outputs": [
    {
     "data": {
      "image/png": "[encoded data removed]",
      "text/plain": [
       "<Figure size 432x288 with 1 Axes>"
      ]
     },
     "metadata": {},
     "output_type": "display_data"
    }
   ],
   "source": [
    "import matplotlib.pyplot as plt\n",
    "import numpy as np\n",
    "\n",
    "# 生成示例数据\n",
    "Spring = np.array([13, 10, 4, 16, 34, 4, 9, 49, 26, 10, 8, 5, 92, 67, 12])\n",
    "Summer = np.array([16, 6, 24, 26, 8, 8, 28, 9, 3,  82, 28, 10, 5, 8, 16, 8, 3])\n",
    "Autumn = np.array([11, 39, 6, 8, 27, 7, 6, 9, 7, 1, 25, 2, 72, 3, 33, 6, 5, 7])\n",
    "Winter = np.array([5, 26, 8, 4, 9, 19, 27, 5, 90, 18, 37, 10, 1, 7, 20, 23, 14, 17])\n",
    "data = [Spring, Summer, Autumn, Winter]\n",
    "\n",
    "# 定义颜色列表\n",
    "plt.style.use('ggplot')\n",
    "\n",
    "\n",
    "# 绘图\n",
    "colors = ['pink', 'lightblue', 'lightgreen']\n",
    "plt.boxplot(x = data, \n",
    "            patch_artist=True,\n",
    "            labels = ['Spring','Summer','Autumn',  'Winter'], # 添加具体的标签名称\n",
    "            showmeans=True, \n",
    "            boxprops = {'color':'pink','facecolor':'#9999ff'}, \n",
    "            flierprops = {'marker':'o','markerfacecolor':'red','color':'black'},\n",
    "            meanprops = {'marker':'D','markerfacecolor':'indianred'},\n",
    "            medianprops = {'linestyle':'--','color':'pink'})\n",
    "\n",
    "# 设置横坐标刻度\n",
    "# ax.set_xticklabels(['Spring', 'Summer', 'Autumn', 'Winter'])\n",
    "\n",
    "# 设置标题和标签\n",
    "ax.set_title('Total duration')\n",
    "ax.set_ylabel('Days')\n",
    "\n",
    "plt.show()"
   ]
  },
  {
   "cell_type": "code",
   "execution_count": 22,
   "id": "8f4a522c",
   "metadata": {},
   "outputs": [
    {
     "data": {
      "image/png": "[encoded data removed]",
      "text/plain": [
       "<Figure size 432x288 with 1 Axes>"
      ]
     },
     "metadata": {
      "needs_background": "light"
     },
     "output_type": "display_data"
    }
   ],
   "source": [
    "import numpy as np\n",
    "import matplotlib.pyplot as plt\n",
    "\n",
    "# 生成随机数据\n",
    "np.random.seed(1)\n",
    "Spring = np.array([13, 10, 4, 16, 34, 4, 9, 49, 26, 10, 8, 5, 92, 67, 12])\n",
    "Summer = np.array([16, 6, 24, 26, 8, 8, 28, 9, 3,  82, 28, 10, 5, 8, 16, 8, 3])\n",
    "Autumn = np.array([11, 39, 6, 8, 27, 7, 6, 9, 7, 1, 25, 2, 72, 3, 33, 6, 5, 7])\n",
    "Winter = np.array([5, 26, 8, 4, 9, 19, 27, 5, 90, 18, 37, 10, 1, 7, 20, 23, 14, 17])\n",
    "data = [Spring, Summer, Autumn, Winter]\n",
    "\n",
    "# 定义颜色数组\n",
    "colors = ['#FFFFFF', '#FFFFFF', '#FFFFFF', '#FFFFFF']\n",
    "\n",
    "# 定义箱线图参数\n",
    "boxprops = dict(linestyle='-', linewidth=1.5, color='black')\n",
    "whiskerprops = dict(linestyle='-', linewidth=1.5, color='black')\n",
    "capprops = dict(linestyle='-', linewidth=1.5, color='black')\n",
    "medianprops = dict(linestyle='-', linewidth=1.5, color='red')\n",
    "\n",
    "# 绘制箱线图\n",
    "fig, ax = plt.subplots()\n",
    "boxplot = ax.boxplot(data, patch_artist=True, boxprops=boxprops, whiskerprops=whiskerprops, capprops=capprops, medianprops=medianprops)\n",
    "\n",
    "# 设置每个箱体的颜色\n",
    "for i, box in enumerate(boxplot['boxes']):\n",
    "    box.set_facecolor(colors[i])\n",
    "\n",
    "# 设置每个中位数的颜色\n",
    "for median in boxplot['medians']:\n",
    "    median.set_color('black')\n",
    "\n",
    "# 设置y轴标签和标题\n",
    "ax.set_ylabel('Value')\n",
    "ax.set_title('Boxplot with Different Colors')\n",
    "\n",
    "# 设置图例\n",
    "legend = [boxplot['boxes'][i] for i in range(len(data))]\n",
    "# ax.legend(legend, ['Spring','Summer','Autumn',  'Winter'])\n",
    "\n",
    "plt.show()"
   ]
  },
  {
   "cell_type": "code",
   "execution_count": 44,
   "id": "ee6f1b3c",
   "metadata": {},
   "outputs": [
    {
     "data": {
      "image/png": "[encoded data removed]",
      "text/plain": [
       "<Figure size 432x288 with 1 Axes>"
      ]
     },
     "metadata": {
      "needs_background": "light"
     },
     "output_type": "display_data"
    }
   ],
   "source": [
    "import numpy as np\n",
    "import matplotlib.pyplot as plt\n",
    "\n",
    "# Total Durition\n",
    "\n",
    "# 生成随机数据\n",
    "#\n",
    "np.random.seed(1)\n",
    "Spring = np.array([13, 10, 4, 16, 34, 4, 9, 49, 26, 10, 8, 5, 92, 67, 12])     #  3 4 5月\n",
    "Summer = np.array([16, 6, 24, 26, 8, 8, 28, 9, 3,  82, 28, 10, 5, 8, 16, 8, 3]) # 6 7 8月\n",
    "Autumn = np.array([11, 39, 6, 8, 27, 7, 6, 9, 7, 1, 25, 2, 72, 3, 33, 6, 5, 7])   # 9 10 11 月\n",
    "Winter = np.array([5, 26, 8, 4, 9, 19, 27, 5, 90, 18, 37, 10, 1, 7, 20, 23, 14, 17]) # 12 1 2 月\n",
    "data = [Spring, Summer, Autumn, Winter]\n",
    "\n",
    "# 定义颜色数组\n",
    "colors = ['#FFFFFF', '#FFFFFF', '#FFFFFF', '#FFFFFF']\n",
    "\n",
    "# 定义箱线图参数\n",
    "boxprops = dict(linestyle='-', linewidth=1.5, color='black')\n",
    "capprops = dict(linestyle='-', linewidth=1.5, color='black')\n",
    "\n",
    "# medianprops = dict(linestyle='-', linewidth=1.5, color='red')\n",
    "\n",
    "# 定义whisker颜色数组\n",
    "median_colors = ['red', 'green', 'blue', 'purple']\n",
    "\n",
    "# 定义whisker颜色数组\n",
    "whisker_colors = ['red', 'green', 'blue', 'purple']\n",
    "\n",
    "# 绘制箱线图\n",
    "fig, ax = plt.subplots()\n",
    "boxplot = ax.boxplot(data, patch_artist=True, boxprops=boxprops, \n",
    "                     capprops=capprops, medianprops=medianprops, \n",
    "                     whiskerprops=dict(linestyle='-', linewidth=1.5))\n",
    "\n",
    "# 设置每个箱体的颜色\n",
    "for i, box in enumerate(boxplot['boxes']):\n",
    "    box.set_facecolor(colors[i])\n",
    "\n",
    "# 设置每个中位数的颜色\n",
    "for median in boxplot['medians']:\n",
    "    median.set_color(median_colors[i])\n",
    "\n",
    "# 设置每个whisker的颜色\n",
    "for i, whisker in enumerate(boxplot['whiskers']):\n",
    "    if i%2 == 0:  # 选择每个箱线图的第一条whisker线\n",
    "        whisker.set(color=whisker_colors[i//2])\n",
    "        \n",
    "# 设置y轴标签和标题\n",
    "ax.set_ylabel('Days')\n",
    "ax.set_title('(a) Total duration')\n",
    "ax.set_xticklabels(['Spring', 'Summer', 'Autumn', 'Winter'])\n",
    "# 设置图例\n",
    "legend = [boxplot['boxes'][i] for i in range(len(data))]"
   ]
  },
  {
   "cell_type": "code",
   "execution_count": 45,
   "id": "448cf001",
   "metadata": {},
   "outputs": [
    {
     "data": {
      "image/png": "[encoded data removed]",
      "text/plain": [
       "<Figure size 432x288 with 1 Axes>"
      ]
     },
     "metadata": {
      "needs_background": "light"
     },
     "output_type": "display_data"
    }
   ],
   "source": [
    "import numpy as np\n",
    "import matplotlib.pyplot as plt\n",
    "\n",
    "# Max intensity\n",
    "\n",
    "# 生成随机数据\n",
    "np.random.seed(1)\n",
    "Spring = np.array([0.71, 0.75, 0.69, 1.09, 0.87, 0.74, 1.46, 0.92, 0.74, 0.61, 0.71, 1.30, 0.73, 0.67])  # 3  4  5  月\n",
    "Summer = np.array([0.77, 0.56, 0.65, 0.90, 0.56, 0.61, 0.92, 0.54, 0.77, 1.30, 0.71, 0.58, 0.60, 0.70, 0.46]) # 6  7  8  月\n",
    "Autumn = np.array([0.77, 0.82, 0.86, 0.49, 0.59, 0.73, 0.71, 0.63, 0.55, 0.68, 0.97, 1.46, 0.50, 0.77, 0.49, 0.44, 0.57])  #  9  10  11 月\n",
    "Winter = np.array([0.61, 0.86, 0.95, 0.69, 0.68, 1.15, 1.09, 0.64, 1.46, 1.05, 1.19, 0.95, 0.56, 1.07, 0.90, 1.30, 1.09])  #  12  1  2 月\n",
    "data = [Spring, Summer, Autumn, Winter]\n",
    "\n",
    "# 定义颜色数组\n",
    "colors = ['#FFFFFF', '#FFFFFF', '#FFFFFF', '#FFFFFF']\n",
    "\n",
    "# 定义箱线图参数\n",
    "boxprops = dict(linestyle='-', linewidth=1.5, color='black')\n",
    "capprops = dict(linestyle='-', linewidth=1.5, color='black')\n",
    "\n",
    "# medianprops = dict(linestyle='-', linewidth=1.5, color='red')\n",
    "\n",
    "# 定义whisker颜色数组\n",
    "median_colors = ['red', 'green', 'blue', 'purple']\n",
    "\n",
    "# 定义whisker颜色数组\n",
    "whisker_colors = ['red', 'green', 'blue', 'purple']\n",
    "\n",
    "# 绘制箱线图\n",
    "fig, ax = plt.subplots()\n",
    "boxplot = ax.boxplot(data, patch_artist=True, boxprops=boxprops, \n",
    "                     capprops=capprops, medianprops=medianprops, \n",
    "                     whiskerprops=dict(linestyle='-', linewidth=1.5))\n",
    "\n",
    "# 设置每个箱体的颜色\n",
    "for i, box in enumerate(boxplot['boxes']):\n",
    "    box.set_facecolor(colors[i])\n",
    "\n",
    "# 设置每个中位数的颜色\n",
    "for median in boxplot['medians']:\n",
    "    median.set_color(median_colors[i])\n",
    "\n",
    "# 设置每个whisker的颜色\n",
    "for i, whisker in enumerate(boxplot['whiskers']):\n",
    "    if i%2 == 0:  # 选择每个箱线图的第一条whisker线\n",
    "        whisker.set(color=whisker_colors[i//2])\n",
    "        \n",
    "# 设置y轴标签和标题\n",
    "ax.set_ylabel('℃ Days')\n",
    "ax.set_title('(b) Max intensity')\n",
    "ax.set_xticklabels(['Spring', 'Summer', 'Autumn', 'Winter'])\n",
    "# 设置图例\n",
    "legend = [boxplot['boxes'][i] for i in range(len(data))]"
   ]
  },
  {
   "cell_type": "code",
   "execution_count": 47,
   "id": "c1442cd7",
   "metadata": {},
   "outputs": [
    {
     "data": {
      "image/png": "[encoded data removed]",
      "text/plain": [
       "<Figure size 432x288 with 1 Axes>"
      ]
     },
     "metadata": {
      "needs_background": "light"
     },
     "output_type": "display_data"
    }
   ],
   "source": [
    "import numpy as np\n",
    "import matplotlib.pyplot as plt\n",
    "\n",
    "# Cumulative intensity\n",
    "\n",
    "# 生成随机数据\n",
    "np.random.seed(1)\n",
    "Spring = np.array([7.95, 6.72, 2.56, 14.30, 21.81, 2.32, 6.21, 49.17, 18.62, 6.56, 4.31, 3.28, 78.40, 40.71, 7.35])  # 3  4  5  月\n",
    "Summer = np.array([10.40, 3.02, 13.89, 17.27, 4.01, 4.27, 20.06, 4.42, 0.92, 49.35, 23.85, 6.12, 2.52, 4.30, 9.77, 3.53, 1.84]) # 6  7  8  月\n",
    "Autumn = np.array([7.21, 23.65, 6.46, 2.63, 3.84, 15.70, 4.20, 3.31, 4.27, 4.46, 0.66, 15.24, 1.07, 72.25, 1.84, 19.85, 2.73, 2.04, 3.56])  #  9  10  11 月\n",
    "Winter = np.array([2.80, 10.33, 6.76, 2.56, 5.73, 17.42, 24.14, 2.99, 90.32, 16.89, 33.16, 7.50, 0.66, 3.74, 17.37, 19.09, 11.93, 16.09])  #  12  1  2 月\n",
    "data = [Spring, Summer, Autumn, Winter]\n",
    "\n",
    "# 定义颜色数组\n",
    "colors = ['#FFFFFF', '#FFFFFF', '#FFFFFF', '#FFFFFF']\n",
    "\n",
    "# 定义箱线图参数\n",
    "boxprops = dict(linestyle='-', linewidth=1.5, color='black')\n",
    "capprops = dict(linestyle='-', linewidth=1.5, color='black')\n",
    "\n",
    "# medianprops = dict(linestyle='-', linewidth=1.5, color='red')\n",
    "\n",
    "# 定义whisker颜色数组\n",
    "median_colors = ['red', 'green', 'blue', 'purple']\n",
    "\n",
    "# 定义whisker颜色数组\n",
    "whisker_colors = ['red', 'green', 'blue', 'purple']\n",
    "\n",
    "# 绘制箱线图\n",
    "fig, ax = plt.subplots()\n",
    "boxplot = ax.boxplot(data, patch_artist=True, boxprops=boxprops, \n",
    "                     capprops=capprops, medianprops=medianprops, \n",
    "                     whiskerprops=dict(linestyle='-', linewidth=1.5))\n",
    "\n",
    "# 设置每个箱体的颜色\n",
    "for i, box in enumerate(boxplot['boxes']):\n",
    "    box.set_facecolor(colors[i])\n",
    "\n",
    "# 设置每个中位数的颜色\n",
    "for median in boxplot['medians']:\n",
    "    median.set_color(median_colors[i])\n",
    "\n",
    "# 设置每个whisker的颜色\n",
    "for i, whisker in enumerate(boxplot['whiskers']):\n",
    "    if i%2 == 0:  # 选择每个箱线图的第一条whisker线\n",
    "        whisker.set(color=whisker_colors[i//2])\n",
    "        \n",
    "# 设置y轴标签和标题\n",
    "ax.set_ylabel('℃ Days')\n",
    "ax.set_title('(c) Cumulative intensity')\n",
    "ax.set_xticklabels(['Spring', 'Summer', 'Autumn', 'Winter'])\n",
    "# 设置图例\n",
    "legend = [boxplot['boxes'][i] for i in range(len(data))]"
   ]
  },
  {
   "cell_type": "code",
   "execution_count": 51,
   "id": "3755259c",
   "metadata": {},
   "outputs": [
    {
     "data": {
      "image/png": "[encoded data removed]",
      "text/plain": [
       "<Figure size 432x288 with 1 Axes>"
      ]
     },
     "metadata": {
      "needs_background": "light"
     },
     "output_type": "display_data"
    }
   ],
   "source": [
    "import numpy as np\n",
    "import matplotlib.pyplot as plt\n",
    "\n",
    "# Rate of growth\n",
    "\n",
    "# 生成随机数据\n",
    "np.random.seed(1)\n",
    "Spring = np.array([0.050, 0.036, 0.041, 0.015, 0.017, 0.007, 0.046, 0.009, 0.017, 0.032, 0.030, 0.023, 0.055, 0.004, 0.017])  # 3  4  5  月\n",
    "Summer = np.array([0.042, 0.074, 0.007, 0.039, 0.036, 0.047, 0.017, 0.041, 0.066, 0.004, 0.055, 0.061, 0.063, 0.047, 0.071, 0.041, 0.017]) # 6  7  8  月\n",
    "Autumn = np.array([0.047, 0.014, 0.021, 0.022, 0.090, 0.019, 0.066, 0.107, 0.014, 0.050, 0.047, 0.009, 0.066, 0.004, 0.023, 0.017, 0.023])  #  9  10  11 月\n",
    "Winter = np.array([0.049, 0.021, 0.039, 0.069, 0.041, 0.014, 0.051, 0.015, 0.074, 0.009, 0.024, 0.023, 0.065, 0.023, 0.057, 0.029, 0.012, 0.055, 0.118])  #  12  1  2 月\n",
    "data = [Spring, Summer, Autumn, Winter]\n",
    "\n",
    "# 定义颜色数组\n",
    "colors = ['#FFFFFF', '#FFFFFF', '#FFFFFF', '#FFFFFF']\n",
    "\n",
    "# 定义箱线图参数\n",
    "boxprops = dict(linestyle='-', linewidth=1.5, color='black')\n",
    "capprops = dict(linestyle='-', linewidth=1.5, color='black')\n",
    "\n",
    "# medianprops = dict(linestyle='-', linewidth=1.5, color='red')\n",
    "\n",
    "# 定义whisker颜色数组\n",
    "median_colors = ['red', 'green', 'blue', 'purple']\n",
    "\n",
    "# 定义whisker颜色数组\n",
    "whisker_colors = ['red', 'green', 'blue', 'purple']\n",
    "\n",
    "# 绘制箱线图\n",
    "fig, ax = plt.subplots()\n",
    "boxplot = ax.boxplot(data, patch_artist=True, boxprops=boxprops, \n",
    "                     capprops=capprops, medianprops=medianprops, \n",
    "                     whiskerprops=dict(linestyle='-', linewidth=1.5))\n",
    "\n",
    "# 设置每个箱体的颜色\n",
    "for i, box in enumerate(boxplot['boxes']):\n",
    "    box.set_facecolor(colors[i])\n",
    "\n",
    "# 设置每个中位数的颜色\n",
    "for median in boxplot['medians']:\n",
    "    median.set_color(median_colors[i])\n",
    "\n",
    "# 设置每个whisker的颜色\n",
    "for i, whisker in enumerate(boxplot['whiskers']):\n",
    "    if i%2 == 0:  # 选择每个箱线图的第一条whisker线\n",
    "        whisker.set(color=whisker_colors[i//2])\n",
    "        \n",
    "# 设置y轴标签和标题\n",
    "ax.set_ylabel('℃ Days')\n",
    "ax.set_title('(d) Rate of growth')\n",
    "ax.set_xticklabels(['Spring', 'Summer', 'Autumn', 'Winter'])\n",
    "# 设置图例\n",
    "legend = [boxplot['boxes'][i] for i in range(len(data))]\n",
    "plt.show()"
   ]
  },
  {
   "cell_type": "code",
   "execution_count": 99,
   "id": "03388650",
   "metadata": {},
   "outputs": [
    {
     "data": {
      "image/png": "[encoded data removed]",
      "text/plain": [
       "<Figure size 432x288 with 1 Axes>"
      ]
     },
     "metadata": {
      "needs_background": "light"
     },
     "output_type": "display_data"
    }
   ],
   "source": [
    "import numpy as np\n",
    "import matplotlib.pyplot as plt\n",
    "\n",
    "# Mean intensity\n",
    "\n",
    "# 生成随机数据\n",
    "np.random.seed(1)\n",
    "Spring = np.array([0.61, 0.67, 0.64, 0.89, 0.64, 0.58, 0.69, 1.00, 0.72, 0.66, 0.54, 0.66, 0.85, 0.61, 0.61])  # 3  4  5  月\n",
    "Summer = np.array([0.65, 0.50, 0.58, 0.66, 0.50, 0.53, 0.72, 0.49, 0.46, 0.60, 0.85, 0.61, 0.50, 0.54, 0.61, 0.44, 0.61]) # 6  7  8  月\n",
    "Autumn = np.array([0.66, 0.61, 0.65, 0.44, 0.48, 0.58, 0.60, 0.55, 0.47, 0.64, 0.66, 0.61, 0.53, 1.00, 0.46, 0.60, 0.46, 0.41, 0.51])  #  9  10  11 月\n",
    "Winter = np.array([0.56, 0.65, 0.85, 0.64, 0.64, 0.92, 0.89, 0.60, 1.00, 0.94, 0.90, 0.75, 0.66, 0.53, 0.87, 0.83, 0.85, 0.95])  #  12  1  2 月\n",
    "data = [Spring, Summer, Autumn, Winter]\n",
    "\n",
    "# 定义颜色数组\n",
    "colors = ['#FFFFFF', '#FFFFFF', '#FFFFFF', '#FFFFFF']\n",
    "\n",
    "# 定义箱线图参数\n",
    "boxprops = dict(linestyle='-', linewidth=1.5, color='black')\n",
    "capprops = dict(linestyle='-', linewidth=1.5, color='black')\n",
    "\n",
    "# medianprops = dict(linestyle='-', linewidth=1.5, color='red')\n",
    "\n",
    "# 定义whisker颜色数组\n",
    "median_colors = ['red', 'green', 'blue', 'purple']\n",
    "\n",
    "# 定义whisker颜色数组\n",
    "whisker_colors = ['red', 'green', 'blue', 'purple']\n",
    "\n",
    "# 绘制箱线图\n",
    "fig, ax = plt.subplots()\n",
    "boxplot = ax.boxplot(data, patch_artist=True, boxprops=boxprops, \n",
    "                     capprops=capprops, medianprops=medianprops, \n",
    "                     whiskerprops=dict(linestyle='-', linewidth=1.5))\n",
    "\n",
    "# 设置每个箱体的颜色\n",
    "for i, box in enumerate(boxplot['boxes']):\n",
    "    box.set_facecolor(colors[i])\n",
    "\n",
    "# 设置每个中位数的颜色\n",
    "for median in boxplot['medians']:\n",
    "    median.set_color(median_colors[i])\n",
    "\n",
    "# 设置每个whisker的颜色\n",
    "for i, whisker in enumerate(boxplot['whiskers']):\n",
    "    if i%2 == 0:  # 选择每个箱线图的第一条whisker线\n",
    "        whisker.set(color=whisker_colors[i//2])\n",
    "        \n",
    "# 设置y轴标签和标题\n",
    "ax.set_ylabel('℃ Days')\n",
    "ax.set_title('(d) Rate of growth')\n",
    "ax.set_xticklabels(['Spring', 'Summer', 'Autumn', 'Winter'])\n",
    "# 设置图例\n",
    "legend = [boxplot['boxes'][i] for i in range(len(data))]\n",
    "plt.show()"
   ]
  },
  {
   "cell_type": "code",
   "execution_count": 102,
   "id": "c4df7e7e",
   "metadata": {},
   "outputs": [
    {
     "data": {
      "image/png": "[encoded data removed]",
      "text/plain": [
       "<Figure size 720x576 with 4 Axes>"
      ]
     },
     "metadata": {
      "needs_background": "light"
     },
     "output_type": "display_data"
    }
   ],
   "source": [
    "import matplotlib.pyplot as plt\n",
    "\n",
    "fig = plt.figure(figsize=(10, 8))  # 创建一个大小为10x8英寸的画布\n",
    "\n",
    "# Total Durition\n",
    "Spring = np.array([13, 10, 4, 16, 34, 4, 9, 49, 26, 10, 8, 5, 92, 67, 12])     #  3 4 5月\n",
    "Summer = np.array([16, 6, 24, 26, 8, 8, 28, 9, 3,  82, 28, 10, 5, 8, 16, 8, 3]) # 6 7 8月\n",
    "Autumn = np.array([11, 39, 6, 8, 27, 7, 6, 9, 7, 1, 25, 2, 72, 3, 33, 6, 5, 7])   # 9 10 11 月\n",
    "Winter = np.array([5, 26, 8, 4, 9, 19, 27, 5, 90, 18, 37, 10, 1, 7, 20, 23, 14, 17]) # 12 1 2 月\n",
    "data = [Spring, Summer, Autumn, Winter]\n",
    "\n",
    "# 定义颜色数组\n",
    "colors = ['#FFFFFF', '#FFFFFF', '#FFFFFF', '#FFFFFF']\n",
    "\n",
    "# 定义箱线图参数\n",
    "boxprops = dict(linestyle='-', linewidth=1.5, color='black')\n",
    "capprops = dict(linestyle='-', linewidth=1.5, color='black')\n",
    "\n",
    "# medianprops = dict(linestyle='-', linewidth=1.5, color='red')\n",
    "\n",
    "# 定义whisker颜色数组\n",
    "median_colors = ['red', 'green', 'blue', 'purple']\n",
    "\n",
    "# 定义whisker颜色数组\n",
    "whisker_colors = ['red', 'green', 'blue', 'purple']\n",
    "\n",
    "# 绘制箱线图\n",
    "# fig, ax = plt.subplots()\n",
    "# boxplot = ax.boxplot(data, patch_artist=True, boxprops=boxprops, \n",
    "#                      capprops=capprops, medianprops=medianprops, \n",
    "#                      whiskerprops=dict(linestyle='-', linewidth=1.5))\n",
    "\n",
    "ax1 = fig.add_subplot(2, 2, 1)  # 将画布分成2行2列，当前子图为第1个\n",
    "ax1.boxplot(data, boxprops=boxprops, \n",
    "                     capprops=capprops, medianprops=medianprops, \n",
    "                     whiskerprops=dict(linestyle='-', linewidth=1.5))\n",
    "# 设置每个箱体的颜色\n",
    "for i, box in enumerate(boxplot['boxes']):\n",
    "    box.set_facecolor(colors[i])\n",
    "\n",
    "# 设置每个中位数的颜色\n",
    "for median in boxplot['medians']:\n",
    "    median.set_color(median_colors[i])\n",
    "\n",
    "# 设置每个whisker的颜色\n",
    "for i, whisker in enumerate(boxplot['whiskers']):\n",
    "    if i%2 == 0:  # 选择每个箱线图的第一条whisker线\n",
    "        whisker.set(color=whisker_colors[i//2])\n",
    "ax1.set_ylabel('Days')\n",
    "ax1.set_title('(a) Total duration')\n",
    "ax1.set_xticklabels(['Spring', 'Summer', 'Autumn', 'Winter'])\n",
    "# ax1.set_title('Total Durition A')  # 设置子图a的标题\n",
    "\n",
    "#  Mean intensity\n",
    "Spring = np.array([0.61, 0.67, 0.64, 0.89, 0.64, 0.58, 0.69, 1.00, 0.72, 0.66, 0.54, 0.66, 0.85, 0.61, 0.61])  # 3  4  5  月\n",
    "Summer = np.array([0.65, 0.50, 0.58, 0.66, 0.50, 0.53, 0.72, 0.49, 0.46, 0.60, 0.85, 0.61, 0.50, 0.54, 0.61, 0.44, 0.61]) # 6  7  8  月\n",
    "Autumn = np.array([0.66, 0.61, 0.65, 0.44, 0.48, 0.58, 0.60, 0.55, 0.47, 0.64, 0.66, 0.61, 0.53, 1.00, 0.46, 0.60, 0.46, 0.41, 0.51])  #  9  10  11 月\n",
    "Winter = np.array([0.56, 0.65, 0.85, 0.64, 0.64, 0.92, 0.89, 0.60, 1.00, 0.94, 0.90, 0.75, 0.66, 0.53, 0.87, 0.83, 0.85, 0.95])  #  12  1  2 月\n",
    "data = [Spring, Summer, Autumn, Winter]\n",
    "\n",
    "# 定义颜色数组\n",
    "colors = ['#FFFFFF', '#FFFFFF', '#FFFFFF', '#FFFFFF']\n",
    "\n",
    "# 定义箱线图参数\n",
    "boxprops = dict(linestyle='-', linewidth=1.5, color='black')\n",
    "capprops = dict(linestyle='-', linewidth=1.5, color='black')\n",
    "\n",
    "# medianprops = dict(linestyle='-', linewidth=1.5, color='red')\n",
    "\n",
    "# 定义whisker颜色数组\n",
    "median_colors = ['red', 'green', 'blue', 'purple']\n",
    "\n",
    "# 定义whisker颜色数组\n",
    "whisker_colors = ['red', 'green', 'blue', 'purple']\n",
    "\n",
    "# 绘制箱线图\n",
    "# fig, ax = plt.subplots()\n",
    "\n",
    "ax2 = fig.add_subplot(2, 2, 2)  # 将画布分成2行2列，当前子图为第2个\n",
    "ax2.boxplot(data, boxprops=boxprops, \n",
    "                     capprops=capprops, medianprops=medianprops, \n",
    "                     whiskerprops=dict(linestyle='-', linewidth=1.5))\n",
    "# 设置每个箱体的颜色\n",
    "for i, box in enumerate(boxplot['boxes']):\n",
    "    box.set_facecolor(colors[i])\n",
    "\n",
    "# 设置每个中位数的颜色\n",
    "for median in boxplot['medians']:\n",
    "    median.set_color(median_colors[i])\n",
    "\n",
    "# 设置每个whisker的颜色\n",
    "for i, whisker in enumerate(boxplot['whiskers']):\n",
    "    if i%2 == 0:  # 选择每个箱线图的第一条whisker线\n",
    "        whisker.set(color=whisker_colors[i//2])\n",
    "        \n",
    "# 设置y轴标签和标题\n",
    "ax2.set_ylabel('℃ Days')\n",
    "ax2.set_title('(b) Mean intensity')\n",
    "ax2.set_xticklabels(['Spring', 'Summer', 'Autumn', 'Winter'])\n",
    "\n",
    "# Cumulative intensity\n",
    "\n",
    "# 生成随机数据\n",
    "np.random.seed(1)\n",
    "Spring = np.array([7.95, 6.72, 2.56, 14.30, 21.81, 2.32, 6.21, 49.17, 18.62, 6.56, 4.31, 3.28, 78.40, 40.71, 7.35])  # 3  4  5  月\n",
    "Summer = np.array([10.40, 3.02, 13.89, 17.27, 4.01, 4.27, 20.06, 4.42, 0.92, 49.35, 23.85, 6.12, 2.52, 4.30, 9.77, 3.53, 1.84]) # 6  7  8  月\n",
    "Autumn = np.array([7.21, 23.65, 6.46, 2.63, 3.84, 15.70, 4.20, 3.31, 4.27, 4.46, 0.66, 15.24, 1.07, 72.25, 1.84, 19.85, 2.73, 2.04, 3.56])  #  9  10  11 月\n",
    "Winter = np.array([2.80, 10.33, 6.76, 2.56, 5.73, 17.42, 24.14, 2.99, 90.32, 16.89, 33.16, 7.50, 0.66, 3.74, 17.37, 19.09, 11.93, 16.09])  #  12  1  2 月\n",
    "data = [Spring, Summer, Autumn, Winter]\n",
    "\n",
    "# 定义颜色数组\n",
    "colors = ['#FFFFFF', '#FFFFFF', '#FFFFFF', '#FFFFFF']\n",
    "\n",
    "# 定义箱线图参数\n",
    "boxprops = dict(linestyle='-', linewidth=1.5, color='black')\n",
    "capprops = dict(linestyle='-', linewidth=1.5, color='black')\n",
    "\n",
    "# medianprops = dict(linestyle='-', linewidth=1.5, color='red')\n",
    "\n",
    "# 定义whisker颜色数组\n",
    "median_colors = ['red', 'green', 'blue', 'purple']\n",
    "\n",
    "# 定义whisker颜色数组\n",
    "whisker_colors = ['red', 'green', 'blue', 'purple']\n",
    "\n",
    "# 绘制箱线图\n",
    "ax3 = fig.add_subplot(2, 2, 3)  # 将画布分成2行2列，当前子图为第3个\n",
    "ax3.boxplot(data,  boxprops=boxprops, \n",
    "                     capprops=capprops, medianprops=medianprops, \n",
    "                     whiskerprops=dict(linestyle='-', linewidth=1.5))\n",
    "# 设置每个箱体的颜色\n",
    "for i, box in enumerate(boxplot['boxes']):\n",
    "    box.set_facecolor(colors[i])\n",
    "\n",
    "# 设置每个中位数的颜色\n",
    "for median in boxplot['medians']:\n",
    "    median.set_color(median_colors[i])\n",
    "\n",
    "# 设置每个whisker的颜色\n",
    "for i, whisker in enumerate(boxplot['whiskers']):\n",
    "    if i%2 == 0:  # 选择每个箱线图的第一条whisker线\n",
    "        whisker.set(color=whisker_colors[i//2])\n",
    "        \n",
    "# 设置y轴标签和标题\n",
    "ax3.set_ylabel('℃ Days')\n",
    "ax3.set_title('(c) Cumulative intensity')\n",
    "ax3.set_xticklabels(['Spring', 'Summer', 'Autumn', 'Winter'])\n",
    "\n",
    "# Rate of growth\n",
    "\n",
    "# 生成随机数据\n",
    "\n",
    "Spring = np.array([0.050, 0.036, 0.041, 0.015, 0.017, 0.007, 0.046, 0.009, 0.017, 0.032, 0.030, 0.023, 0.055, 0.004, 0.017])  # 3  4  5  月\n",
    "Summer = np.array([0.042, 0.074, 0.007, 0.039, 0.036, 0.047, 0.017, 0.041, 0.066, 0.004, 0.055, 0.061, 0.063, 0.047, 0.071, 0.041, 0.017]) # 6  7  8  月\n",
    "Autumn = np.array([0.047, 0.014, 0.021, 0.022, 0.090, 0.019, 0.066, 0.107, 0.014, 0.050, 0.047, 0.009, 0.066, 0.004, 0.023, 0.017, 0.023])  #  9  10  11 月\n",
    "Winter = np.array([0.049, 0.021, 0.039, 0.069, 0.041, 0.014, 0.051, 0.015, 0.074, 0.009, 0.024, 0.023, 0.065, 0.023, 0.057, 0.029, 0.012, 0.055, 0.118])  #  12  1  2 月\n",
    "data = [Spring, Summer, Autumn, Winter]\n",
    "\n",
    "# 定义颜色数组\n",
    "colors = ['#FFFFFF', '#FFFFFF', '#FFFFFF', '#FFFFFF']\n",
    "\n",
    "# 定义箱线图参数\n",
    "boxprops = dict(linestyle='-', linewidth=1.5, color='black')\n",
    "capprops = dict(linestyle='-', linewidth=1.5, color='black')\n",
    "\n",
    "# medianprops = dict(linestyle='-', linewidth=1.5, color='red')\n",
    "\n",
    "# 定义whisker颜色数组\n",
    "median_colors = ['red', 'green', 'blue', 'purple']\n",
    "\n",
    "# 定义whisker颜色数组\n",
    "whisker_colors1 = ['red', 'green', 'blue', 'purple']\n",
    "\n",
    "# 绘制箱线图\n",
    "\n",
    "ax4 = fig.add_subplot(2, 2, 4)  # 将画布分成2行2列，当前子图为第4个\n",
    "ax4.boxplot(data, boxprops=boxprops, \n",
    "                     capprops=capprops, medianprops=medianprops, \n",
    "                     whiskerprops=dict(linestyle='-', linewidth=1.5))\n",
    "# 设置每个箱体的颜色\n",
    "for i, box in enumerate(boxplot['boxes']):\n",
    "    box.set_facecolor(colors[i])\n",
    "\n",
    "# 设置每个中位数的颜色\n",
    "for median in boxplot['medians']:\n",
    "    median.set_color(median_colors[i])\n",
    "\n",
    "# 设置每个whisker的颜色\n",
    "for i, whisker in enumerate(boxplot['whiskers']):\n",
    "    if i%2 == 0:  # 选择每个箱线图的第一条whisker线\n",
    "        whisker.set(color=whisker_colors1[i//2])\n",
    "        \n",
    "# 设置y轴标签和标题\n",
    "ax4.set_ylabel('℃ Days')\n",
    "ax4.set_title('(d) Rate of growth')\n",
    "ax4.set_xticklabels(['Spring', 'Summer', 'Autumn', 'Winter'])\n",
    "plt.show()  # 显示画布和子图"
   ]
  },
  {
   "cell_type": "code",
   "execution_count": 96,
   "id": "6a961105",
   "metadata": {},
   "outputs": [
    {
     "name": "stdout",
     "output_type": "stream",
     "text": [
      "sum:0.728\n",
      "count:17\n"
     ]
    },
    {
     "data": {
      "text/plain": [
       "0.042823529411764705"
      ]
     },
     "execution_count": 96,
     "metadata": {},
     "output_type": "execute_result"
    }
   ],
   "source": [
    "Spring = np.array([0.050, 0.036, 0.041, 0.015, 0.017, 0.007, 0.046, 0.009, 0.017, 0.032, 0.030, 0.023, 0.055, 0.004, 0.017])  # 3  4  5  月\n",
    "Summer = np.array([0.042, 0.074, 0.007, 0.039, 0.036, 0.047, 0.017, 0.041, 0.066, 0.004, 0.055, 0.061, 0.063, 0.047, 0.071, 0.041, 0.017]) # 6  7  8  月\n",
    "Autumn = np.array([0.047, 0.014, 0.021, 0.022, 0.090, 0.019, 0.066, 0.107, 0.014, 0.050, 0.047, 0.009, 0.066, 0.004, 0.023, 0.017, 0.023])  #  9  10  11 月\n",
    "Winter = np.array([0.049, 0.021, 0.039, 0.069, 0.041, 0.014, 0.051, 0.015, 0.074, 0.009, 0.024, 0.023, 0.065, 0.023, 0.057, 0.029, 0.012, 0.055, 0.118])  #  12  1  2 月"
   ]
  },
  {
   "cell_type": "code",
   "execution_count": 106,
   "id": "9fea8938",
   "metadata": {},
   "outputs": [
    {
     "name": "stdout",
     "output_type": "stream",
     "text": [
      "sum:0.3990000000000001\n",
      "count:15\n"
     ]
    },
    {
     "data": {
      "text/plain": [
       "0.026600000000000006"
      ]
     },
     "execution_count": 106,
     "metadata": {},
     "output_type": "execute_result"
    }
   ],
   "source": [
    "Spring = np.array([0.050, 0.036, 0.041, 0.015, 0.017, 0.007, 0.046, 0.009, 0.017, 0.032, 0.030, 0.023, 0.055, 0.004, 0.017])  # 3  4  5  月\n",
    "print('sum:{}'.format(np.sum(Spring)))\n",
    "print('count:{}'.format((Spring.size)))\n",
    "0.3990000000000001 / 15"
   ]
  },
  {
   "cell_type": "code",
   "execution_count": 108,
   "id": "fdbdc1a3",
   "metadata": {},
   "outputs": [
    {
     "name": "stdout",
     "output_type": "stream",
     "text": [
      "sum:0.639\n",
      "count:17\n"
     ]
    },
    {
     "data": {
      "text/plain": [
       "1.0"
      ]
     },
     "execution_count": 108,
     "metadata": {},
     "output_type": "execute_result"
    }
   ],
   "source": [
    "Autumn = np.array([0.047, 0.014, 0.021, 0.022, 0.090, 0.019, 0.066, 0.107, 0.014, 0.050, 0.047, 0.009, 0.066, 0.004, 0.023, 0.017, 0.023])  #  9  10  11 月\n",
    "print('sum:{}'.format(np.sum(Autumn)))\n",
    "print('count:{}'.format((Autumn.size)))\n",
    "0.639 / 0.639"
   ]
  },
  {
   "cell_type": "code",
   "execution_count": 69,
   "id": "dead24ec",
   "metadata": {},
   "outputs": [
    {
     "data": {
      "text/plain": [
       "340"
      ]
     },
     "execution_count": 69,
     "metadata": {},
     "output_type": "execute_result"
    }
   ],
   "source": [
    "# Total Durition\n",
    "Spring = np.array([13, 10, 4, 16, 34, 4, 9, 49, 26, 10, 8, 5, 92, 67, 12])     #  3 4 5月\n",
    "Summer = np.array([16, 6, 24, 26, 8, 8, 28, 9, 3,  82, 28, 10, 5, 8, 16, 8, 3]) # 6 7 8月\n",
    "Autumn = np.array([11, 39, 6, 8, 27, 7, 6, 9, 7, 1, 25, 2, 72, 3, 33, 6, 5, 7])   # 9 10 11 月\n",
    "Winter = np.array([5, 26, 8, 4, 9, 19, 27, 5, 90, 18, 37, 10, 1, 7, 20, 23, 14, 17]) # 12 1 2 月\n",
    "\n",
    "sum_dur_Spring = 13+10+ 4+ 16+ 34+ 4+ 9+ 49+ 26+ 10+ 8+ 5+ 92+ 67+ 12  # 359\n",
    "sum_dur_Summer = 16+ 6+ 24+ 26+ 8+ 8+ 28+ 9+ 3+  82+ 28+ 10+ 5+ 8+ 16+ 8+ 3 #288\n",
    "sum_dur_Autumn = 11+ 39+ 6+ 8+ 27+ 7+ 6+ 9+ 7+ 1+ 25+ 2+ 72+ 3+ 33+ 6+ 5+ 7 # 274\n",
    "sum_dur_Winter = 5+ 26+ 8+ 4+ 9+ 19+ 27+ 5+ 90+ 18+ 37+ 10+ 1+ 7+ 20+ 23+ 14+ 17 #340"
   ]
  },
  {
   "cell_type": "code",
   "execution_count": 74,
   "id": "8a528220",
   "metadata": {},
   "outputs": [
    {
     "data": {
      "text/plain": [
       "23.933333333333334"
      ]
     },
     "execution_count": 74,
     "metadata": {},
     "output_type": "execute_result"
    }
   ],
   "source": [
    "359 / 15"
   ]
  },
  {
   "cell_type": "code",
   "execution_count": 73,
   "id": "6390f478",
   "metadata": {},
   "outputs": [
    {
     "data": {
      "text/plain": [
       "250"
      ]
     },
     "execution_count": 73,
     "metadata": {},
     "output_type": "execute_result"
    }
   ],
   "source": [
    "#去除大于50的事件\n",
    "\n",
    "sum_dur_Spring = 13+10+ 4+ 16+ 34+ 4+ 9+ 49+ 26+ 10+ 8+ 5+ 12  # 200\n",
    "sum_dur_Summer = 16+ 6+ 24+ 26+ 8+ 8+ 28+ 9+ 3+ 28+ 10+ 5+ 8+ 16+ 8+ 3 #206\n",
    "sum_dur_Autumn = 11+ 39+ 6+ 8+ 27+ 7+ 6+ 9+ 7+ 1+ 25+ 2+ 3+ 33+ 6+ 5+ 7 # 202\n",
    "sum_dur_Winter = 5+ 26+ 8+ 4+ 9+ 19+ 27+ 5+ 18+ 37+ 10+ 1+ 7+ 20+ 23+ 14+ 17 #250\n",
    "sum_dur_Winter"
   ]
  },
  {
   "cell_type": "code",
   "execution_count": 76,
   "id": "b42b068d",
   "metadata": {},
   "outputs": [
    {
     "data": {
      "text/plain": [
       "202"
      ]
     },
     "execution_count": 76,
     "metadata": {},
     "output_type": "execute_result"
    }
   ],
   "source": [
    "#origin_paper\n",
    "spring =  5 + 36 + 10 + 18 + 5 + 7 + 6 + 5 + 9 + 5 + 14 + 5 + 17 + 17 + 1 + 19 + 14 + 9 \n",
    "spring"
   ]
  },
  {
   "cell_type": "code",
   "execution_count": 80,
   "id": "26f85994",
   "metadata": {},
   "outputs": [
    {
     "data": {
      "text/plain": [
       "11.222222222222221"
      ]
     },
     "execution_count": 80,
     "metadata": {},
     "output_type": "execute_result"
    }
   ],
   "source": [
    "202 / 18"
   ]
  },
  {
   "cell_type": "code",
   "execution_count": 79,
   "id": "a1e8b9b9",
   "metadata": {},
   "outputs": [
    {
     "data": {
      "text/plain": [
       "11.823529411764707"
      ]
     },
     "execution_count": 79,
     "metadata": {},
     "output_type": "execute_result"
    }
   ],
   "source": [
    "201 / 17"
   ]
  },
  {
   "cell_type": "code",
   "execution_count": 84,
   "id": "893840fd",
   "metadata": {},
   "outputs": [
    {
     "data": {
      "text/plain": [
       "124"
      ]
     },
     "execution_count": 84,
     "metadata": {},
     "output_type": "execute_result"
    }
   ],
   "source": [
    "# winter = 11  + 21 + 6 + 2 + 18 + 6 + 26 + 32 + 11 + 7 + 10\n",
    "winter = 11  + 21 + 6 + 2 + 18 + 6  + 32 + 11 + 7 + 10\n",
    "winter"
   ]
  },
  {
   "cell_type": "code",
   "execution_count": 85,
   "id": "846d6473",
   "metadata": {},
   "outputs": [
    {
     "data": {
      "text/plain": [
       "12.4"
      ]
     },
     "execution_count": 85,
     "metadata": {},
     "output_type": "execute_result"
    }
   ],
   "source": [
    "124 / 10"
   ]
  },
  {
   "cell_type": "code",
   "execution_count": 90,
   "id": "693e5d00",
   "metadata": {},
   "outputs": [
    {
     "data": {
      "image/png": "[encoded data removed]",
      "text/plain": [
       "<Figure size 720x576 with 4 Axes>"
      ]
     },
     "metadata": {
      "needs_background": "light"
     },
     "output_type": "display_data"
    }
   ],
   "source": [
    "import matplotlib.pyplot as plt\n",
    "#去除大于50durition的极端情况\n",
    "\n",
    "fig = plt.figure(figsize=(10, 8))  # 创建一个大小为10x8英寸的画布\n",
    "\n",
    "# Total Durition\n",
    "Spring = np.array([13, 10, 4, 16, 34, 4, 9, 49, 26, 10, 8, 5, 92, 67, 12])     #  3 4 5月\n",
    "Summer = np.array([16, 6, 24, 26, 8, 8, 28, 9, 3,  82, 28, 10, 5, 8, 16, 8, 3]) # 6 7 8月\n",
    "Autumn = np.array([11, 39, 6, 8, 27, 7, 6, 9, 7, 1, 25, 2, 72, 3, 33, 6, 5, 7])   # 9 10 11 月\n",
    "Winter = np.array([5, 26, 8, 4, 9, 19, 27, 5, 90, 18, 37, 10, 1, 7, 20, 23, 14, 17]) # 12 1 2 月\n",
    "data = [Spring, Summer, Autumn, Winter]\n",
    "\n",
    "# 定义颜色数组\n",
    "colors = ['#FFFFFF', '#FFFFFF', '#FFFFFF', '#FFFFFF']\n",
    "\n",
    "# 定义箱线图参数\n",
    "boxprops = dict(linestyle='-', linewidth=1.5, color='black')\n",
    "capprops = dict(linestyle='-', linewidth=1.5, color='black')\n",
    "\n",
    "# medianprops = dict(linestyle='-', linewidth=1.5, color='red')\n",
    "\n",
    "# 定义whisker颜色数组\n",
    "median_colors = ['red', 'green', 'blue', 'purple']\n",
    "\n",
    "# 定义whisker颜色数组\n",
    "whisker_colors = ['red', 'green', 'blue', 'purple']\n",
    "\n",
    "# 绘制箱线图\n",
    "# fig, ax = plt.subplots()\n",
    "# boxplot = ax.boxplot(data, patch_artist=True, boxprops=boxprops, \n",
    "#                      capprops=capprops, medianprops=medianprops, \n",
    "#                      whiskerprops=dict(linestyle='-', linewidth=1.5))\n",
    "\n",
    "ax1 = fig.add_subplot(2, 2, 1)  # 将画布分成2行2列，当前子图为第1个\n",
    "ax1.boxplot(data, boxprops=boxprops, \n",
    "                     capprops=capprops, medianprops=medianprops, \n",
    "                     whiskerprops=dict(linestyle='-', linewidth=1.5))\n",
    "# 设置每个箱体的颜色\n",
    "for i, box in enumerate(boxplot['boxes']):\n",
    "    box.set_facecolor(colors[i])\n",
    "\n",
    "# 设置每个中位数的颜色\n",
    "for median in boxplot['medians']:\n",
    "    median.set_color(median_colors[i])\n",
    "\n",
    "# 设置每个whisker的颜色\n",
    "for i, whisker in enumerate(boxplot['whiskers']):\n",
    "    if i%2 == 0:  # 选择每个箱线图的第一条whisker线\n",
    "        whisker.set(color=whisker_colors[i//2])\n",
    "ax1.set_ylabel('Days')\n",
    "ax1.set_title('(a) Total duration')\n",
    "ax1.set_xticklabels(['Spring', 'Summer', 'Autumn', 'Winter'])\n",
    "# ax1.set_title('Total Durition A')  # 设置子图a的标题\n",
    "\n",
    "#  Max intensity\n",
    "Spring = np.array([0.71, 0.75, 0.69, 1.09, 0.87, 0.74, 1.46, 0.92, 0.74, 0.61, 0.71, 0.67])  # 3  4  5  月\n",
    "Summer = np.array([0.77, 0.56, 0.65, 0.90, 0.56, 0.61, 0.92, 0.54, 1.30, 0.71, 0.58, 0.60, 0.70, 0.46]) # 6  7  8  月\n",
    "Autumn = np.array([0.77, 0.82, 0.86, 0.49, 0.59, 0.73, 0.71, 0.63, 0.55, 0.68, 0.97, 0.50, 0.77, 0.49, 0.44, 0.57])  #  9  10  11 月\n",
    "Winter = np.array([0.61, 0.86, 0.95, 0.69, 0.68, 1.15, 1.09, 0.64, 1.05, 1.19, 0.95, 0.56, 1.07, 0.90, 1.30, 1.09])  #  12  1  2 月\n",
    "data = [Spring, Summer, Autumn, Winter]\n",
    "\n",
    "# 定义颜色数组\n",
    "colors = ['#FFFFFF', '#FFFFFF', '#FFFFFF', '#FFFFFF']\n",
    "\n",
    "# 定义箱线图参数\n",
    "boxprops = dict(linestyle='-', linewidth=1.5, color='black')\n",
    "capprops = dict(linestyle='-', linewidth=1.5, color='black')\n",
    "\n",
    "# medianprops = dict(linestyle='-', linewidth=1.5, color='red')\n",
    "\n",
    "# 定义whisker颜色数组\n",
    "median_colors = ['red', 'green', 'blue', 'purple']\n",
    "\n",
    "# 定义whisker颜色数组\n",
    "whisker_colors = ['red', 'green', 'blue', 'purple']\n",
    "\n",
    "# 绘制箱线图\n",
    "# fig, ax = plt.subplots()\n",
    "\n",
    "ax2 = fig.add_subplot(2, 2, 2)  # 将画布分成2行2列，当前子图为第2个\n",
    "ax2.boxplot(data, boxprops=boxprops, \n",
    "                     capprops=capprops, medianprops=medianprops, \n",
    "                     whiskerprops=dict(linestyle='-', linewidth=1.5))\n",
    "# 设置每个箱体的颜色\n",
    "for i, box in enumerate(boxplot['boxes']):\n",
    "    box.set_facecolor(colors[i])\n",
    "\n",
    "# 设置每个中位数的颜色\n",
    "for median in boxplot['medians']:\n",
    "    median.set_color(median_colors[i])\n",
    "\n",
    "# 设置每个whisker的颜色\n",
    "for i, whisker in enumerate(boxplot['whiskers']):\n",
    "    if i%2 == 0:  # 选择每个箱线图的第一条whisker线\n",
    "        whisker.set(color=whisker_colors[i//2])\n",
    "        \n",
    "# 设置y轴标签和标题\n",
    "ax2.set_ylabel('℃ Days')\n",
    "ax2.set_title('(b) Max intensity')\n",
    "ax2.set_xticklabels(['Spring', 'Summer', 'Autumn', 'Winter'])\n",
    "\n",
    "# Cumulative intensity\n",
    "\n",
    "# 生成随机数据\n",
    "np.random.seed(1)\n",
    "Spring = np.array([7.95, 6.72, 2.56, 14.30, 21.81, 2.32, 6.21, 49.17, 18.62, 6.56, 4.31, 3.28, 7.35])  # 3  4  5  月\n",
    "Summer = np.array([10.40, 3.02, 13.89, 17.27, 4.01, 4.27, 20.06, 4.42, 0.92, 23.85, 6.12, 2.52, 4.30, 9.77, 3.53, 1.84]) # 6  7  8  月\n",
    "Autumn = np.array([7.21, 23.65, 6.46, 2.63, 3.84, 15.70, 4.20, 3.31, 4.27, 4.46, 0.66, 15.24, 1.07, 1.84, 19.85, 2.73, 2.04, 3.56])  #  9  10  11 月\n",
    "Winter = np.array([2.80, 10.33, 6.76, 2.56, 5.73, 17.42, 24.14, 2.99, 16.89, 33.16, 7.50, 0.66, 3.74, 17.37, 19.09, 11.93, 16.09])  #  12  1  2 月\n",
    "data = [Spring, Summer, Autumn, Winter]\n",
    "\n",
    "# 定义颜色数组\n",
    "colors = ['#FFFFFF', '#FFFFFF', '#FFFFFF', '#FFFFFF']\n",
    "\n",
    "# 定义箱线图参数\n",
    "boxprops = dict(linestyle='-', linewidth=1.5, color='black')\n",
    "capprops = dict(linestyle='-', linewidth=1.5, color='black')\n",
    "\n",
    "# medianprops = dict(linestyle='-', linewidth=1.5, color='red')\n",
    "\n",
    "# 定义whisker颜色数组\n",
    "median_colors = ['red', 'green', 'blue', 'purple']\n",
    "\n",
    "# 定义whisker颜色数组\n",
    "whisker_colors = ['red', 'green', 'blue', 'purple']\n",
    "\n",
    "# 绘制箱线图\n",
    "ax3 = fig.add_subplot(2, 2, 3)  # 将画布分成2行2列，当前子图为第3个\n",
    "ax3.boxplot(data,  boxprops=boxprops, \n",
    "                     capprops=capprops, medianprops=medianprops, \n",
    "                     whiskerprops=dict(linestyle='-', linewidth=1.5))\n",
    "# 设置每个箱体的颜色\n",
    "for i, box in enumerate(boxplot['boxes']):\n",
    "    box.set_facecolor(colors[i])\n",
    "\n",
    "# 设置每个中位数的颜色\n",
    "for median in boxplot['medians']:\n",
    "    median.set_color(median_colors[i])\n",
    "\n",
    "# 设置每个whisker的颜色\n",
    "for i, whisker in enumerate(boxplot['whiskers']):\n",
    "    if i%2 == 0:  # 选择每个箱线图的第一条whisker线\n",
    "        whisker.set(color=whisker_colors[i//2])\n",
    "        \n",
    "# 设置y轴标签和标题\n",
    "ax3.set_ylabel('℃ Days')\n",
    "ax3.set_title('(c) Cumulative intensity')\n",
    "ax3.set_xticklabels(['Spring', 'Summer', 'Autumn', 'Winter'])\n",
    "\n",
    "# Rate of growth\n",
    "\n",
    "# 生成随机数据\n",
    "\n",
    "Spring = np.array([0.050, 0.036, 0.041, 0.015, 0.017, 0.007, 0.046, 0.009, 0.017, 0.032, 0.030, 0.023, 0.017])  # 3  4  5  月\n",
    "Summer = np.array([0.042, 0.074, 0.007, 0.039, 0.036, 0.047, 0.017, 0.041, 0.066, 0.055, 0.061, 0.063, 0.047, 0.071, 0.041, 0.017]) # 6  7  8  月\n",
    "Autumn = np.array([0.047, 0.014, 0.021, 0.022, 0.090, 0.019, 0.066, 0.107, 0.014, 0.050, 0.047,  0.066, 0.004, 0.023, 0.017, 0.023])  #  9  10  11 月\n",
    "Winter = np.array([0.049, 0.021, 0.039, 0.069, 0.041, 0.014, 0.051, 0.015, 0.074,  0.024, 0.023, 0.065, 0.023, 0.057, 0.029, 0.012, 0.055, 0.118])  #  12  1  2 月\n",
    "data = [Spring, Summer, Autumn, Winter]\n",
    "\n",
    "# 定义颜色数组\n",
    "colors = ['#FFFFFF', '#FFFFFF', '#FFFFFF', '#FFFFFF']\n",
    "\n",
    "# 定义箱线图参数\n",
    "boxprops = dict(linestyle='-', linewidth=1.5, color='black')\n",
    "capprops = dict(linestyle='-', linewidth=1.5, color='black')\n",
    "\n",
    "# medianprops = dict(linestyle='-', linewidth=1.5, color='red')\n",
    "\n",
    "# 定义whisker颜色数组\n",
    "median_colors = ['red', 'green', 'blue', 'purple']\n",
    "\n",
    "# 定义whisker颜色数组\n",
    "whisker_colors1 = ['red', 'green', 'blue', 'purple']\n",
    "\n",
    "# 绘制箱线图\n",
    "\n",
    "ax4 = fig.add_subplot(2, 2, 4)  # 将画布分成2行2列，当前子图为第4个\n",
    "ax4.boxplot(data, boxprops=boxprops, \n",
    "                     capprops=capprops, medianprops=medianprops, \n",
    "                     whiskerprops=dict(linestyle='-', linewidth=1.5))\n",
    "# 设置每个箱体的颜色\n",
    "for i, box in enumerate(boxplot['boxes']):\n",
    "    box.set_facecolor(colors[i])\n",
    "\n",
    "# 设置每个中位数的颜色\n",
    "for median in boxplot['medians']:\n",
    "    median.set_color(median_colors[i])\n",
    "\n",
    "# 设置每个whisker的颜色\n",
    "for i, whisker in enumerate(boxplot['whiskers']):\n",
    "    if i%2 == 0:  # 选择每个箱线图的第一条whisker线\n",
    "        whisker.set(color=whisker_colors1[i//2])\n",
    "        \n",
    "# 设置y轴标签和标题\n",
    "ax4.set_ylabel('℃ Days')\n",
    "ax4.set_title('(d) Rate of growth')\n",
    "ax4.set_xticklabels(['Spring', 'Summer', 'Autumn', 'Winter'])\n",
    "plt.show()  # 显示画布和子图"
   ]
  },
  {
   "cell_type": "code",
   "execution_count": null,
   "id": "952c9fee",
   "metadata": {},
   "outputs": [],
   "source": []
  }
 ],
 "metadata": {
  "kernelspec": {
   "display_name": "Python 3 (ipykernel)",
   "language": "python",
   "name": "python3"
  },
  "language_info": {
   "codemirror_mode": {
    "name": "ipython",
    "version": 3
   },
   "file_extension": ".py",
   "mimetype": "text/x-python",
   "name": "python",
   "nbconvert_exporter": "python",
   "pygments_lexer": "ipython3",
   "version": "3.8.16"
  }
 },
 "nbformat": 4,
 "nbformat_minor": 5
}

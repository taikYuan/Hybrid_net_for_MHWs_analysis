{
 "cells": [
  {
   "cell_type": "code",
   "execution_count": 1,
   "id": "cb71931c",
   "metadata": {},
   "outputs": [],
   "source": [
    "import random\n",
    "\n",
    "import numpy as np\n",
    "import torch\n",
    "from sklearn.metrics import mean_squared_error\n",
    "from sklearn.preprocessing import MinMaxScaler\n",
    "from torch import nn\n",
    "from tqdm import tqdm\n",
    "from torch.autograd import Variable\n",
    "from torch.utils.data import Dataset, DataLoader"
   ]
  },
  {
   "cell_type": "code",
   "execution_count": null,
   "id": "0228b765",
   "metadata": {},
   "outputs": [
    {
     "name": "stdout",
     "output_type": "stream",
     "text": [
      "['sst_obser', 'slfh', 'sshf', 'ssr', 'str', 'mld', 'analysis_temp', 'u', 'v', 'T_d', 'u_d', 'v_d', 'xx', 'yy', 'dT_dt', 'dT_dx', 'dT_dy']\n",
      "(9861, 40, 200)\n"
     ]
    }
   ],
   "source": [
    "data = np.load(r'D:\\Advancing_ocean_intuition\\pacific\\last\\1day_for_1day_all_variables_intuition_nino_area_surface.npz')\n",
    "print(\n",
    "    data.files)  # ['sst_obser', 'slfh', 'sshf', 'ssr', 'str', 'mld', 'analysis_temp', 'u', 'v', 'T_d', 'u_d', 'v_d', 'xx', 'yy', 'dT_dt', 'dT_dx', 'dT_dy']\n",
    "\n",
    "sst_obser = data['sst_obser'][:, :40, :200]  # (9861, 41, 201)  #\n",
    "print(sst_obser.shape)  # (9861, 41, 201)\n",
    "slfh = data['slfh'][:, :40, :200]   # (9861, 41, 201)\n",
    "sshf = data['sshf'][:, :40, :200]   # (9861, 41, 201)\n",
    "ssr = data['ssr'][:, :40, :200]   # (9861, 41, 201)   # 可惜这个是 0\n",
    "str = data['str'][:, :40, :200]   # (9861, 41, 201)\n",
    "mld = data['mld'][:, :40, :200]   # (9861, 41, 201)\n",
    "analysis_temp = data['analysis_temp'][:, :40, :200]  # (9861, 41, 201)\n",
    "u = data['u'][:, :40, :200]  # (9861, 41, 201)\n",
    "v = data['v'][:, :40, :200]  # (9861, 41, 201)\n",
    "T_d = data['T_d'][:, :40, :200]  # (9861, 41, 201)\n",
    "u_d = data['u_d'][:, :40, :200]  # (9861, 41, 201)\n",
    "v_d = data['v_d'][:, :40, :200]  # (9861, 41, 201)\n",
    "xx = data['xx'][:, :40, :200]  # (9861, 41, 201)\n",
    "yy = data['yy'][:, :40, :200]  # (9861, 41, 201)\n",
    "print(np.min(T_d))\n",
    "print(np.max(T_d))\n",
    "# print(xx)  # -5 -4.75 ... 4.75\n",
    "# print(yy)  # 190  190.25 ... 239.75\n",
    "\n",
    "dT_dt = data['dT_dt'][:, :40, :200]\n",
    "dT_dx = data['dT_dx'][:, :40, :200]\n",
    "dT_dy = data['dT_dy'][:, :40, :200]"
   ]
  },
  {
   "cell_type": "code",
   "execution_count": 3,
   "id": "e4fd1f82",
   "metadata": {},
   "outputs": [],
   "source": [
    "Q_net = (slfh + sshf + ssr + str)\n",
    "Q_net.shape\n",
    "Q_net = Q_net / (1025 * 4000 * mld)"
   ]
  },
  {
   "cell_type": "code",
   "execution_count": 4,
   "id": "affa38ca",
   "metadata": {},
   "outputs": [
    {
     "data": {
      "text/plain": [
       "(9861, 64, 48)"
      ]
     },
     "execution_count": 4,
     "metadata": {},
     "output_type": "execute_result"
    }
   ],
   "source": [
    "ZAdv = u * dT_dx\n",
    "ZAdv.shape"
   ]
  },
  {
   "cell_type": "code",
   "execution_count": 5,
   "id": "1c84593f",
   "metadata": {},
   "outputs": [
    {
     "data": {
      "text/plain": [
       "(9861, 64, 48)"
      ]
     },
     "execution_count": 5,
     "metadata": {},
     "output_type": "execute_result"
    }
   ],
   "source": [
    "MAdv = v * dT_dy\n",
    "MAdv.shape"
   ]
  },
  {
   "cell_type": "code",
   "execution_count": 6,
   "id": "13ea9a33",
   "metadata": {},
   "outputs": [
    {
     "data": {
      "text/plain": [
       "(9861, 64, 48)"
      ]
     },
     "execution_count": 6,
     "metadata": {},
     "output_type": "execute_result"
    }
   ],
   "source": [
    "VAdv = v_d * ((sst_obser -T_d ) / mld)\n",
    "VAdv.shape"
   ]
  },
  {
   "cell_type": "code",
   "execution_count": 7,
   "id": "0a417540",
   "metadata": {},
   "outputs": [
    {
     "data": {
      "text/plain": [
       "(9860, 64, 48)"
      ]
     },
     "execution_count": 7,
     "metadata": {},
     "output_type": "execute_result"
    }
   ],
   "source": [
    "R_origin = dT_dt - (Q_net[:9860,:,:] + ZAdv[:9860,:,:] + MAdv[:9860,:,:] + VAdv[:9860,:,:])\n",
    "R_origin.shape"
   ]
  },
  {
   "cell_type": "code",
   "execution_count": 8,
   "id": "e128521d",
   "metadata": {},
   "outputs": [
    {
     "data": {
      "text/plain": [
       "array([[[ 3.26215172e-02,  5.79827408e-02,  6.30745573e-02, ...,\n",
       "         -1.78314650e-01, -1.91217148e-01, -2.26659268e-01],\n",
       "        [-6.36579166e-02, -4.71776067e-02, -7.29218859e-02, ...,\n",
       "         -2.34951265e-01, -2.74865411e-01, -2.38458516e-01],\n",
       "        [-2.94864985e-01, -2.99270891e-01, -2.61218485e-01, ...,\n",
       "         -2.76823026e-01, -3.04430484e-01, -2.88657794e-01],\n",
       "        ...,\n",
       "        [-2.55862385e-01, -2.08802831e-01, -1.67099721e-01, ...,\n",
       "         -7.78051367e-02, -8.51047794e-02, -8.43447865e-02],\n",
       "        [-2.40018355e-01, -1.78716144e-01, -1.42567560e-01, ...,\n",
       "         -6.02849191e-02, -6.15976725e-02, -5.98325911e-02],\n",
       "        [-1.85115216e-01, -1.42693628e-01, -1.96896772e-01, ...,\n",
       "         -7.49336817e-02, -6.99024426e-02, -6.78678301e-02]],\n",
       "\n",
       "       [[-3.27055120e-02, -3.76307019e-02, -7.50344916e-02, ...,\n",
       "         -2.00272676e-02,  2.81071510e-03,  4.05671735e-02],\n",
       "        [-1.54167501e-01, -2.18736886e-01, -2.11292114e-01, ...,\n",
       "         -7.27621272e-02, -3.87034807e-02,  1.32842075e-03],\n",
       "        [-3.09522101e-01, -2.73780866e-01, -2.55671296e-01, ...,\n",
       "         -5.79571306e-02, -1.80200549e-02,  3.75666395e-04],\n",
       "        ...,\n",
       "        [-2.06764012e-01, -1.78365539e-01, -1.92502154e-01, ...,\n",
       "          2.08277433e-02, -3.19971179e-02, -5.21014618e-02],\n",
       "        [-1.95830207e-01, -1.47771904e-01, -1.78415345e-01, ...,\n",
       "          4.11713134e-02,  2.86421891e-03, -2.82308565e-02],\n",
       "        [-1.74791845e-01, -1.85556160e-01, -2.34868347e-01, ...,\n",
       "          4.26709469e-02,  3.76799499e-02,  1.17348909e-02]],\n",
       "\n",
       "       [[-9.52452948e-02, -3.79449015e-02, -2.58748120e-03, ...,\n",
       "          2.78276042e-01,  3.00014293e-01,  3.02415648e-01],\n",
       "        [-6.60312654e-02, -5.97871446e-02, -2.17770946e-02, ...,\n",
       "          2.17594378e-01,  2.41538548e-01,  2.46805831e-01],\n",
       "        [-2.37354053e-02, -1.40061549e-02,  2.02424013e-03, ...,\n",
       "          1.29568909e-01,  1.67117398e-01,  1.89448409e-01],\n",
       "        ...,\n",
       "        [-2.22966858e-01, -2.27256815e-01, -2.78834653e-01, ...,\n",
       "         -1.16111937e-03, -3.14873315e-02, -4.94644855e-02],\n",
       "        [-2.22081302e-01, -2.21269045e-01, -2.85071831e-01, ...,\n",
       "          2.19719229e-04, -2.95380345e-02, -5.52659061e-02],\n",
       "        [-2.57979626e-01, -2.46898944e-01, -2.80552519e-01, ...,\n",
       "         -2.67146117e-02, -4.95497357e-02, -5.93120615e-02]],\n",
       "\n",
       "       ...,\n",
       "\n",
       "       [[-2.87646853e-02, -5.80516372e-02, -2.35070120e-02, ...,\n",
       "          2.46675017e-01,  2.52126338e-01,  2.94359807e-01],\n",
       "        [-1.16567730e-02, -3.36453450e-02, -2.38854163e-02, ...,\n",
       "          1.75163102e-01,  1.92634637e-01,  2.44150895e-01],\n",
       "        [-3.17767557e-02, -3.77386126e-02,  1.07545757e-02, ...,\n",
       "          1.82063599e-01,  1.74220339e-01,  2.21793561e-01],\n",
       "        ...,\n",
       "        [-1.65527348e-01, -2.56638838e-01, -2.41232485e-01, ...,\n",
       "          3.45898505e-02,  3.06496398e-02,  7.94152402e-03],\n",
       "        [-2.13918200e-01, -2.90104794e-01, -2.66035450e-01, ...,\n",
       "          2.58298891e-02,  2.78339839e-02,  1.29944006e-02],\n",
       "        [-2.76954349e-01, -3.31106337e-01, -2.84155714e-01, ...,\n",
       "          3.09484413e-02,  3.83150622e-02,  2.92172227e-02]],\n",
       "\n",
       "       [[ 1.33561389e-01,  1.29385277e-01,  1.32912628e-01, ...,\n",
       "         -5.03783717e-03, -1.11410704e-01, -1.72312653e-01],\n",
       "        [ 1.60832621e-01,  1.74189128e-01,  1.75155812e-01, ...,\n",
       "         -1.28862115e-01, -1.08406563e-01, -3.91732625e-02],\n",
       "        [ 1.59017468e-01,  1.73542181e-01,  2.16436408e-01, ...,\n",
       "         -4.98982208e-02,  2.21194433e-02,  1.48589054e-01],\n",
       "        ...,\n",
       "        [-1.82417012e-01, -2.59606813e-01, -2.83631837e-01, ...,\n",
       "         -2.21081751e-01, -2.38847040e-01, -2.57709301e-01],\n",
       "        [-1.54602524e-01, -2.54356901e-01, -2.74161502e-01, ...,\n",
       "         -1.63753659e-01, -1.80544675e-01, -1.95229339e-01],\n",
       "        [-1.93765027e-01, -2.66162731e-01, -2.94331490e-01, ...,\n",
       "         -1.36571241e-01, -1.27044151e-01, -1.25344590e-01]],\n",
       "\n",
       "       [[ 4.41349364e-02,  7.69938984e-02,  9.68013798e-02, ...,\n",
       "         -1.84009650e-01, -2.13542993e-01, -1.52661651e-01],\n",
       "        [ 6.03086012e-02,  8.83806805e-02,  1.18865915e-01, ...,\n",
       "         -2.35427970e-01, -1.79375870e-01, -3.64636997e-02],\n",
       "        [ 6.05160861e-02,  8.20490431e-02,  1.29965279e-01, ...,\n",
       "         -8.12516743e-02,  1.26482896e-02,  1.36173999e-01],\n",
       "        ...,\n",
       "        [-1.26937730e-01, -2.07428001e-01, -2.05486745e-01, ...,\n",
       "          3.30091992e-02,  4.42603506e-02,  4.27641912e-02],\n",
       "        [-1.38213660e-01, -2.21005736e-01, -1.85963920e-01, ...,\n",
       "          6.41949394e-02,  8.61262441e-02,  8.37456768e-02],\n",
       "        [-1.17830553e-01, -1.64589838e-01, -1.80221182e-01, ...,\n",
       "          6.79814242e-02,  1.02863350e-01,  1.12185528e-01]]])"
      ]
     },
     "execution_count": 8,
     "metadata": {},
     "output_type": "execute_result"
    }
   ],
   "source": [
    "R_origin"
   ]
  },
  {
   "cell_type": "code",
   "execution_count": 9,
   "id": "08c8d6d3",
   "metadata": {},
   "outputs": [
    {
     "data": {
      "text/plain": [
       "'我们方法修正项'"
      ]
     },
     "execution_count": 9,
     "metadata": {},
     "output_type": "execute_result"
    }
   ],
   "source": [
    "\"\"\"我们方法修正项\"\"\""
   ]
  },
  {
   "cell_type": "code",
   "execution_count": 10,
   "id": "e46e3c0c",
   "metadata": {},
   "outputs": [
    {
     "data": {
      "text/plain": [
       "['dt_R']"
      ]
     },
     "execution_count": 10,
     "metadata": {},
     "output_type": "execute_result"
    }
   ],
   "source": [
    "data1 = np.load(r'D:\\heat_wave\\WEIO\\expand_WEIO\\last\\Dt_with_R_e1.npz')\n",
    "data2 = np.load(r'D:\\heat_wave\\WEIO\\expand_WEIO\\last\\Dt_with_R_e2.npz')\n",
    "data3 = np.load(r'D:\\heat_wave\\WEIO\\expand_WEIO\\last\\Dt_with_R_e3.npz')\n",
    "data4 = np.load(r'D:\\heat_wave\\WEIO\\expand_WEIO\\last\\Dt_with_R_e4.npz')\n",
    "data5 = np.load(r'D:\\heat_wave\\WEIO\\expand_WEIO\\last\\Dt_with_R_e5.npz')\n",
    "data1.files"
   ]
  },
  {
   "cell_type": "code",
   "execution_count": 11,
   "id": "3fe1ec8c",
   "metadata": {},
   "outputs": [
    {
     "data": {
      "text/plain": [
       "(9860, 64, 48)"
      ]
     },
     "execution_count": 11,
     "metadata": {},
     "output_type": "execute_result"
    }
   ],
   "source": [
    "dt_R1 = data1['dt_R'][:].reshape(9860,64,48)\n",
    "dt_R2 = data2['dt_R'][:].reshape(9860,64,48)\n",
    "dt_R3 = data3['dt_R'][:].reshape(9860,64,48)\n",
    "dt_R4 = data4['dt_R'][:].reshape(9860,64,48)\n",
    "dt_R5 = data5['dt_R'][:].reshape(9860,64,48)\n",
    "dt_R1.shape"
   ]
  },
  {
   "cell_type": "code",
   "execution_count": 12,
   "id": "80650248",
   "metadata": {},
   "outputs": [
    {
     "data": {
      "text/plain": [
       "array([[[ 1.73735432e-02,  4.85667214e-03, -2.55575068e-02, ...,\n",
       "          1.96566105e-01,  2.02255100e-01,  2.36916840e-01],\n",
       "        [ 8.74748826e-02,  6.37643114e-02,  4.91898581e-02, ...,\n",
       "          2.38168091e-01,  2.37328544e-01,  2.44811326e-01],\n",
       "        [ 1.65114850e-01,  1.67971238e-01,  1.26112044e-01, ...,\n",
       "          2.51074195e-01,  2.62383312e-01,  2.78906912e-01],\n",
       "        ...,\n",
       "        [ 1.09518662e-01,  9.80079770e-02,  6.68130666e-02, ...,\n",
       "          8.48220736e-02,  7.99809098e-02,  8.79199952e-02],\n",
       "        [ 8.68300945e-02,  7.68781155e-02,  6.92745000e-02, ...,\n",
       "          8.32846314e-02,  8.19590688e-02,  8.15529674e-02],\n",
       "        [ 6.42703772e-02,  5.75827807e-02,  8.39595944e-02, ...,\n",
       "          8.84873793e-02,  9.38740373e-02,  1.08171299e-01]],\n",
       "\n",
       "       [[ 8.56851228e-03,  3.69033106e-02,  4.11709473e-02, ...,\n",
       "          2.59865001e-02,  1.43084303e-03, -5.11436164e-03],\n",
       "        [ 1.01266757e-01,  1.27773792e-01,  1.16038717e-01, ...,\n",
       "          5.82977347e-02,  3.40682790e-02,  1.80404447e-02],\n",
       "        [ 1.62984878e-01,  1.62317663e-01,  1.47586316e-01, ...,\n",
       "          6.71749413e-02,  2.55545415e-02,  1.67426392e-02],\n",
       "        ...,\n",
       "        [ 1.15246803e-01,  1.11603737e-01,  9.84635502e-02, ...,\n",
       "         -8.48565623e-03, -2.31419131e-03,  2.10739374e-02],\n",
       "        [ 1.00988083e-01,  1.04889877e-01,  1.03398897e-01, ...,\n",
       "         -1.87911410e-02, -8.07192177e-03,  1.04473755e-02],\n",
       "        [ 7.52277970e-02,  1.12268843e-01,  1.26715809e-01, ...,\n",
       "         -5.74986078e-03, -3.39458883e-03,  6.04810938e-03]],\n",
       "\n",
       "       [[ 6.02388754e-02,  1.58409253e-02, -4.85515781e-02, ...,\n",
       "         -3.02826554e-01, -3.11648190e-01, -2.92301983e-01],\n",
       "        [ 2.84235030e-02,  2.60991827e-02, -3.20319049e-02, ...,\n",
       "         -2.27432340e-01, -2.37004653e-01, -2.21913248e-01],\n",
       "        [ 1.25416741e-02,  1.29994191e-02, -2.50006821e-02, ...,\n",
       "         -1.32746428e-01, -1.50151104e-01, -1.41595319e-01],\n",
       "        ...,\n",
       "        [ 1.35080010e-01,  1.59772277e-01,  1.70795321e-01, ...,\n",
       "          2.91328654e-02,  2.91837901e-02,  5.80426864e-02],\n",
       "        [ 1.48220509e-01,  1.71256974e-01,  1.55369744e-01, ...,\n",
       "          2.34165825e-02,  2.62074433e-02,  6.12987392e-02],\n",
       "        [ 1.60586908e-01,  1.92380726e-01,  1.66233063e-01, ...,\n",
       "          3.33868898e-02,  3.88487838e-02,  6.06855340e-02]],\n",
       "\n",
       "       ...,\n",
       "\n",
       "       [[ 1.79576781e-02,  3.83244529e-02,  3.96529362e-02, ...,\n",
       "         -2.88487494e-01, -2.72835076e-01, -2.64585704e-01],\n",
       "        [ 2.26458274e-02,  4.35844436e-02,  4.21968028e-02, ...,\n",
       "         -2.57314801e-01, -2.35250920e-01, -2.22176999e-01],\n",
       "        [ 4.01711129e-02,  6.18819855e-02,  4.48862687e-02, ...,\n",
       "         -2.58512855e-01, -2.18033791e-01, -2.18750566e-01],\n",
       "        ...,\n",
       "        [ 8.15822855e-02,  1.24206178e-01,  9.72324461e-02, ...,\n",
       "         -1.83757767e-02, -4.09328006e-03,  3.95685881e-02],\n",
       "        [ 7.77274221e-02,  1.55223399e-01,  1.23480931e-01, ...,\n",
       "         -1.52652338e-03,  1.72650069e-02,  6.01474084e-02],\n",
       "        [ 1.17739126e-01,  1.94753021e-01,  1.77884474e-01, ...,\n",
       "          6.30316697e-03,  2.17061732e-02,  6.41550347e-02]],\n",
       "\n",
       "       [[-1.07045807e-01, -9.05977413e-02, -8.23438913e-02, ...,\n",
       "         -1.33622825e-01, -7.63009340e-02, -2.19546258e-03],\n",
       "        [-1.16672538e-01, -1.16979465e-01, -1.23686008e-01, ...,\n",
       "         -1.03245422e-01, -8.83067325e-02, -6.68850914e-02],\n",
       "        [-1.22831084e-01, -1.29296571e-01, -1.47097632e-01, ...,\n",
       "         -1.17878012e-01, -1.34531811e-01, -1.51996046e-01],\n",
       "        ...,\n",
       "        [ 1.24862961e-01,  1.43910706e-01,  1.08493775e-01, ...,\n",
       "          1.45878270e-01,  1.81393534e-01,  2.19818413e-01],\n",
       "        [ 1.08583093e-01,  1.23487532e-01,  9.60019454e-02, ...,\n",
       "          1.05248265e-01,  1.40656561e-01,  1.77364334e-01],\n",
       "        [ 1.12890244e-01,  1.48354605e-01,  1.46453604e-01, ...,\n",
       "          8.44901204e-02,  9.54367593e-02,  1.17199123e-01]],\n",
       "\n",
       "       [[-2.93215737e-04, -2.20189095e-02, -4.76101637e-02, ...,\n",
       "          3.81413251e-02,  5.33029996e-02,  3.88315283e-02],\n",
       "        [-1.52225960e-02, -2.43723020e-02, -6.18523471e-02, ...,\n",
       "          1.58712082e-02,  1.35531891e-02,  6.55955821e-03],\n",
       "        [-2.87825689e-02, -3.23044918e-02, -6.06850311e-02, ...,\n",
       "         -6.43917993e-02, -8.67435485e-02, -7.78403133e-02],\n",
       "        ...,\n",
       "        [ 7.44827539e-02,  8.54937136e-02,  4.92273271e-02, ...,\n",
       "         -4.86658104e-02, -3.81886922e-02, -1.54390819e-02],\n",
       "        [ 8.69965553e-02,  9.91909951e-02,  5.54550216e-02, ...,\n",
       "         -6.66782185e-02, -6.01279289e-02, -4.03887630e-02],\n",
       "        [ 7.61088729e-02,  8.49637389e-02,  4.62322608e-02, ...,\n",
       "         -6.63794279e-02, -6.82765096e-02, -5.72791733e-02]]],\n",
       "      dtype=float32)"
      ]
     },
     "execution_count": 12,
     "metadata": {},
     "output_type": "execute_result"
    }
   ],
   "source": [
    "\"修正后的R\"\n",
    "R_recur1 = dt_R1 - dT_dt\n",
    "R_recur2 = dt_R2 - dT_dt\n",
    "R_recur3 = dt_R3 - dT_dt\n",
    "R_recur4 = dt_R4 - dT_dt\n",
    "R_recur5 = dt_R5 - dT_dt\n",
    "R_recur1"
   ]
  },
  {
   "cell_type": "code",
   "execution_count": 13,
   "id": "7cc8264a",
   "metadata": {},
   "outputs": [
    {
     "data": {
      "text/plain": [
       "array([[[ 0.02545035,  0.00163376, -0.02917834, ...,  0.1926109 ,\n",
       "          0.19982931,  0.22878826],\n",
       "        [ 0.09540649,  0.06012198,  0.04407824, ...,  0.23339815,\n",
       "          0.23424546,  0.23700686],\n",
       "        [ 0.16967328,  0.1647869 ,  0.11940988, ...,  0.2460546 ,\n",
       "          0.2585153 ,  0.27059644],\n",
       "        ...,\n",
       "        [ 0.11314262,  0.09568087,  0.06067975, ...,  0.08031805,\n",
       "          0.07686941,  0.07964358],\n",
       "        [ 0.09004607,  0.07513298,  0.0633416 , ...,  0.07924847,\n",
       "          0.07974195,  0.07338466],\n",
       "        [ 0.06858536,  0.05494875,  0.07718669, ...,  0.08430934,\n",
       "          0.0921771 ,  0.10006163]],\n",
       "\n",
       "       [[ 0.01504593,  0.03393155,  0.03595721, ...,  0.02163858,\n",
       "         -0.00048031, -0.01307513],\n",
       "        [ 0.10796496,  0.12393083,  0.10995052, ...,  0.05373283,\n",
       "          0.03156283,  0.00981142],\n",
       "        [ 0.16661993,  0.15988052,  0.1413393 , ...,  0.06300773,\n",
       "          0.02318634,  0.0085989 ],\n",
       "        ...,\n",
       "        [ 0.12030299,  0.10869499,  0.09239998, ..., -0.01340508,\n",
       "         -0.00657427,  0.01300551],\n",
       "        [ 0.1056088 ,  0.10251435,  0.09720045, ..., -0.02290683,\n",
       "         -0.01165112,  0.00211817],\n",
       "        [ 0.08011887,  0.10930681,  0.12031037, ..., -0.0093193 ,\n",
       "         -0.0056724 , -0.00229568]],\n",
       "\n",
       "       [[ 0.06662165,  0.01268026, -0.05395672, ..., -0.30787444,\n",
       "         -0.31460744, -0.30064887],\n",
       "        [ 0.0348405 ,  0.02282585, -0.03739185, ..., -0.23221517,\n",
       "         -0.23932299, -0.23011847],\n",
       "        [ 0.01939956,  0.00980465, -0.02985943, ..., -0.13748059,\n",
       "         -0.15171531, -0.14962323],\n",
       "        ...,\n",
       "        [ 0.1402818 ,  0.15655139,  0.16474329, ...,  0.02488515,\n",
       "          0.02668797,  0.05030406],\n",
       "        [ 0.15387575,  0.16786905,  0.14832577, ...,  0.01899741,\n",
       "          0.02344296,  0.05340677],\n",
       "        [ 0.1653717 ,  0.18947415,  0.15970011, ...,  0.0288523 ,\n",
       "          0.03572103,  0.0524933 ]],\n",
       "\n",
       "       ...,\n",
       "\n",
       "       [[ 0.02487863,  0.03531069,  0.03569125, ..., -0.29380494,\n",
       "         -0.27513725, -0.27268502],\n",
       "        [ 0.029973  ,  0.04044839,  0.03785525, ..., -0.26419845,\n",
       "         -0.23852675, -0.23056039],\n",
       "        [ 0.04714752,  0.05941351,  0.04097141, ..., -0.26518473,\n",
       "         -0.2220315 , -0.22728392],\n",
       "        ...,\n",
       "        [ 0.08777303,  0.11990424,  0.09150914, ..., -0.02252807,\n",
       "         -0.00567549,  0.03148211],\n",
       "        [ 0.08212755,  0.15205003,  0.11666564, ..., -0.00531199,\n",
       "          0.01669154,  0.05218958],\n",
       "        [ 0.12124614,  0.19250455,  0.17126061, ...,  0.00272837,\n",
       "          0.02195103,  0.05640978]],\n",
       "\n",
       "       [[-0.09960056, -0.09347301, -0.0857352 , ..., -0.14153273,\n",
       "         -0.08654878, -0.01160164],\n",
       "        [-0.10884871, -0.12009434, -0.12713611, ..., -0.11290227,\n",
       "         -0.09690557, -0.07635213],\n",
       "        [-0.11518008, -0.13208619, -0.15050694, ..., -0.12728779,\n",
       "         -0.14021507, -0.16094474],\n",
       "        ...,\n",
       "        [ 0.13184793,  0.13880646,  0.10205732, ...,  0.13972363,\n",
       "          0.17600122,  0.21078496],\n",
       "        [ 0.11618014,  0.11801882,  0.08961618, ...,  0.09952328,\n",
       "          0.1362719 ,  0.16857724],\n",
       "        [ 0.11907411,  0.14421673,  0.13973702, ...,  0.07863928,\n",
       "          0.09135921,  0.1085088 ]],\n",
       "\n",
       "       [[ 0.00757617, -0.02510677, -0.05108782, ...,  0.03028645,\n",
       "          0.04524953,  0.02985736],\n",
       "        [-0.00745253, -0.02734007, -0.06542069, ...,  0.00701948,\n",
       "          0.00750781, -0.00239028],\n",
       "        [-0.02136822, -0.03499213, -0.06402999, ..., -0.072815  ,\n",
       "         -0.08984029, -0.08639173],\n",
       "        ...,\n",
       "        [ 0.08169843,  0.08055364,  0.0429953 , ..., -0.05448613,\n",
       "         -0.04107202, -0.02385489],\n",
       "        [ 0.09420125,  0.0945638 ,  0.04941439, ..., -0.07181551,\n",
       "         -0.06243357, -0.04886422],\n",
       "        [ 0.08319484,  0.08050821,  0.03983624, ..., -0.07098857,\n",
       "         -0.06989163, -0.06564381]]], dtype=float32)"
      ]
     },
     "execution_count": 13,
     "metadata": {},
     "output_type": "execute_result"
    }
   ],
   "source": [
    "R_recur = ((R_recur1 + R_recur2 + R_recur3 + R_recur4 + R_recur5) / 5)\n",
    "R_recur"
   ]
  },
  {
   "cell_type": "code",
   "execution_count": 14,
   "id": "77e846bc",
   "metadata": {},
   "outputs": [],
   "source": [
    "# 首先 我们先画 JJA季节的贡献图   JJA： 6  7  8 月  即  06/01 - 08/31  当然，会做一个区域平均\n",
    "# 同时，我们也会对每一年的JJA做一个平均  ---》1993 - 2019年"
   ]
  },
  {
   "cell_type": "code",
   "execution_count": 15,
   "id": "59d39e69",
   "metadata": {},
   "outputs": [
    {
     "data": {
      "text/plain": [
       "9738"
      ]
     },
     "execution_count": 15,
     "metadata": {},
     "output_type": "execute_result"
    }
   ],
   "source": [
    "#  计算索引\n",
    "import pandas as pd\n",
    "import datetime\n",
    "\n",
    "#创建时间范围\n",
    "start_date = datetime.datetime(1993,1,1)\n",
    "end_date = datetime.datetime(2019,12,31)\n",
    "dates = pd.date_range(start = start_date, end = end_date, freq = 'D')\n",
    "\n",
    "index = dates.get_loc(datetime.datetime(2019,8,31)) \n",
    "index"
   ]
  },
  {
   "cell_type": "code",
   "execution_count": null,
   "id": "76279e52",
   "metadata": {},
   "outputs": [],
   "source": []
  },
  {
   "cell_type": "code",
   "execution_count": 16,
   "id": "a8d47866",
   "metadata": {},
   "outputs": [],
   "source": [
    "# JJA   93\n",
    "Q_net_JJA_93 = Q_net[151:243,:,:]\n",
    "Q_net_JJA_93.shape\n",
    "\n",
    "ZAdv_JJA_93 = ZAdv[151:243,:,:]\n",
    "MAdv_JJA_93 = MAdv[151:243,:,:]\n",
    "VAdv_JJA_93 = VAdv[151:243,:,:]\n",
    "R_origin_JJA_93 = R_origin[151:243,:,:]\n",
    "dT_dt_JJA_93 = dT_dt[151:243,:,:]\n",
    "R_recur_JJA_93 = R_recur[151:243,:,:]"
   ]
  },
  {
   "cell_type": "code",
   "execution_count": 17,
   "id": "54e23fa2",
   "metadata": {},
   "outputs": [],
   "source": [
    "# JJA   94\n",
    "Q_net_JJA_94 = Q_net[516:608,:,:]\n",
    "Q_net_JJA_94.shape\n",
    "\n",
    "ZAdv_JJA_94 = ZAdv[516:608,:,:]\n",
    "MAdv_JJA_94 = MAdv[516:608,:,:]\n",
    "VAdv_JJA_94 = VAdv[516:608,:,:]\n",
    "R_origin_JJA_94 = R_origin[516:608,:,:]\n",
    "dT_dt_JJA_94 = dT_dt[516:608,:,:]\n",
    "R_recur_JJA_94 = R_recur[516:608,:,:]"
   ]
  },
  {
   "cell_type": "code",
   "execution_count": 18,
   "id": "621b92ec",
   "metadata": {},
   "outputs": [],
   "source": [
    "# JJA   95\n",
    "Q_net_JJA_95 = Q_net[881:973,:,:]\n",
    "ZAdv_JJA_95 = ZAdv[881:973,:,:]\n",
    "MAdv_JJA_95 = MAdv[881:973,:,:]\n",
    "VAdv_JJA_95 = VAdv[881:973,:,:]\n",
    "R_origin_JJA_95 = R_origin[881:973,:,:]\n",
    "dT_dt_JJA_95 = dT_dt[881:973,:,:]\n",
    "R_recur_JJA_95 = R_recur[881:973,:,:]"
   ]
  },
  {
   "cell_type": "code",
   "execution_count": 19,
   "id": "d02a8eaa",
   "metadata": {},
   "outputs": [],
   "source": [
    "# JJA   96\n",
    "Q_net_JJA_96 = Q_net[1247:1339,:,:]\n",
    "ZAdv_JJA_96 = ZAdv[1247:1339,:,:]\n",
    "MAdv_JJA_96 = MAdv[1247:1339,:,:]\n",
    "VAdv_JJA_96 = VAdv[1247:1339,:,:]\n",
    "R_origin_JJA_96 = R_origin[1247:1339,:,:]\n",
    "dT_dt_JJA_96 = dT_dt[1247:1339,:,:]\n",
    "R_recur_JJA_96 = R_recur[1247:1339,:,:]"
   ]
  },
  {
   "cell_type": "code",
   "execution_count": 20,
   "id": "f8a8725b",
   "metadata": {},
   "outputs": [],
   "source": [
    "# JJA   97\n",
    "Q_net_JJA_97 = Q_net[1612:1704,:,:]\n",
    "ZAdv_JJA_97 = ZAdv[1612:1704,:,:]\n",
    "MAdv_JJA_97 = MAdv[1612:1704,:,:]\n",
    "VAdv_JJA_97 = VAdv[1612:1704,:,:]\n",
    "R_origin_JJA_97 = R_origin[1612:1704,:,:]\n",
    "dT_dt_JJA_97 = dT_dt[1612:1704,:,:]\n",
    "R_recur_JJA_97 = R_recur[1612:1704,:,:]"
   ]
  },
  {
   "cell_type": "code",
   "execution_count": 21,
   "id": "ec63808d",
   "metadata": {},
   "outputs": [],
   "source": [
    "# JJA   98\n",
    "Q_net_JJA_98 = Q_net[1977:2069,:,:]\n",
    "ZAdv_JJA_98 = ZAdv[1977:2069,:,:]\n",
    "MAdv_JJA_98 = MAdv[1977:2069,:,:]\n",
    "VAdv_JJA_98 = VAdv[1977:2069,:,:]\n",
    "R_origin_JJA_98 = R_origin[1977:2069,:,:]\n",
    "dT_dt_JJA_98 = dT_dt[1977:2069,:,:]\n",
    "R_recur_JJA_98 = R_recur[1977:2069,:,:]"
   ]
  },
  {
   "cell_type": "code",
   "execution_count": 22,
   "id": "198ec214",
   "metadata": {},
   "outputs": [],
   "source": [
    "# JJA   99\n",
    "Q_net_JJA_99 = Q_net[2342:2434,:,:]\n",
    "ZAdv_JJA_99 = ZAdv[2342:2434,:,:]\n",
    "MAdv_JJA_99 = MAdv[2342:2434,:,:]\n",
    "VAdv_JJA_99 = VAdv[2342:2434,:,:]\n",
    "R_origin_JJA_99 = R_origin[2342:2434,:,:]\n",
    "dT_dt_JJA_99 = dT_dt[2342:2434,:,:]\n",
    "R_recur_JJA_99 = R_recur[2342:2434,:,:]"
   ]
  },
  {
   "cell_type": "code",
   "execution_count": 23,
   "id": "213cd42f",
   "metadata": {},
   "outputs": [],
   "source": [
    "# JJA   00\n",
    "Q_net_JJA_00 = Q_net[2708:2799,:,:]\n",
    "ZAdv_JJA_00 = ZAdv[2708:2799,:,:]\n",
    "MAdv_JJA_00 = MAdv[2708:2799,:,:]\n",
    "VAdv_JJA_00 = VAdv[2708:2799,:,:]\n",
    "R_origin_JJA_00 = R_origin[2708:2799,:,:]\n",
    "dT_dt_JJA_00 = dT_dt[2708:2799,:,:]\n",
    "R_recur_JJA_00 = R_recur[2708:2799,:,:]"
   ]
  },
  {
   "cell_type": "code",
   "execution_count": 24,
   "id": "0d9653cc",
   "metadata": {},
   "outputs": [],
   "source": [
    "# JJA   01\n",
    "Q_net_JJA_01 = Q_net[3073:3165,:,:]\n",
    "ZAdv_JJA_01 = ZAdv[3073:3165,:,:]\n",
    "MAdv_JJA_01 = MAdv[3073:3165,:,:]\n",
    "VAdv_JJA_01 = VAdv[3073:3165,:,:]\n",
    "R_origin_JJA_01 = R_origin[3073:3165,:,:]\n",
    "dT_dt_JJA_01 = dT_dt[3073:3165,:,:]\n",
    "R_recur_JJA_01 = R_recur[3073:3165,:,:]"
   ]
  },
  {
   "cell_type": "code",
   "execution_count": 25,
   "id": "def4fa57",
   "metadata": {},
   "outputs": [],
   "source": [
    "# JJA   02\n",
    "Q_net_JJA_02 = Q_net[3438:3529,:,:]\n",
    "ZAdv_JJA_02 = ZAdv[3438:3529,:,:]\n",
    "MAdv_JJA_02 = MAdv[3438:3529,:,:]\n",
    "VAdv_JJA_02 = VAdv[3438:3529,:,:]\n",
    "R_origin_JJA_02 = R_origin[3438:3529,:,:]\n",
    "dT_dt_JJA_02 = dT_dt[3438:3529,:,:]\n",
    "R_recur_JJA_02 = R_recur[3438:3529,:,:]"
   ]
  },
  {
   "cell_type": "code",
   "execution_count": 26,
   "id": "90b3d77f",
   "metadata": {},
   "outputs": [],
   "source": [
    "# JJA   03\n",
    "Q_net_JJA_03 = Q_net[3803:3895,:,:]\n",
    "ZAdv_JJA_03 = ZAdv[3803:3895,:,:]\n",
    "MAdv_JJA_03 = MAdv[3803:3895,:,:]\n",
    "VAdv_JJA_03 = VAdv[3803:3895,:,:]\n",
    "R_origin_JJA_03 = R_origin[3803:3895,:,:]\n",
    "dT_dt_JJA_03 = dT_dt[3803:3895,:,:]\n",
    "R_recur_JJA_03 = R_recur[3803:3895,:,:]"
   ]
  },
  {
   "cell_type": "code",
   "execution_count": 27,
   "id": "15f519a2",
   "metadata": {},
   "outputs": [],
   "source": [
    "# JJA   04\n",
    "Q_net_JJA_04 = Q_net[4169:4261,:,:]\n",
    "ZAdv_JJA_04 = ZAdv[4169:4261,:,:]\n",
    "MAdv_JJA_04 = MAdv[4169:4261,:,:]\n",
    "VAdv_JJA_04 = VAdv[4169:4261,:,:]\n",
    "R_origin_JJA_04 = R_origin[4169:4261,:,:]\n",
    "dT_dt_JJA_04 = dT_dt[4169:4261,:,:]\n",
    "R_recur_JJA_04 = R_recur[4169:4261,:,:]"
   ]
  },
  {
   "cell_type": "code",
   "execution_count": 28,
   "id": "80390fde",
   "metadata": {},
   "outputs": [],
   "source": [
    "# JJA   05\n",
    "Q_net_JJA_05 = Q_net[4534:4626,:,:]\n",
    "ZAdv_JJA_05 = ZAdv[4534:4626,:,:]\n",
    "MAdv_JJA_05 = MAdv[4534:4626,:,:]\n",
    "VAdv_JJA_05 = VAdv[4534:4626,:,:]\n",
    "R_origin_JJA_05 = R_origin[4534:4626,:,:]\n",
    "dT_dt_JJA_05 = dT_dt[4534:4626,:,:]\n",
    "R_recur_JJA_05 = R_recur[4534:4626,:,:]"
   ]
  },
  {
   "cell_type": "code",
   "execution_count": 29,
   "id": "0639da34",
   "metadata": {},
   "outputs": [],
   "source": [
    "# JJA   06\n",
    "Q_net_JJA_06 = Q_net[4899:4990,:,:]\n",
    "ZAdv_JJA_06 = ZAdv[4899:4990,:,:]\n",
    "MAdv_JJA_06 = MAdv[4899:4990,:,:]\n",
    "VAdv_JJA_06 = VAdv[4899:4990,:,:]\n",
    "R_origin_JJA_06 = R_origin[4899:4990,:,:]\n",
    "dT_dt_JJA_06 = dT_dt[4899:4990,:,:]\n",
    "R_recur_JJA_06 = R_recur[4899:4990,:,:]"
   ]
  },
  {
   "cell_type": "code",
   "execution_count": 30,
   "id": "1c2571d5",
   "metadata": {},
   "outputs": [],
   "source": [
    "# JJA   07\n",
    "Q_net_JJA_07 = Q_net[5264:5356,:,:]\n",
    "ZAdv_JJA_07 = ZAdv[5264:5356,:,:]\n",
    "MAdv_JJA_07 = MAdv[5264:5356,:,:]\n",
    "VAdv_JJA_07 = VAdv[5264:5356,:,:]\n",
    "R_origin_JJA_07 = R_origin[5264:5356,:,:]\n",
    "dT_dt_JJA_07 = dT_dt[5264:5356,:,:]\n",
    "R_recur_JJA_07 = R_recur[5264:5356,:,:]"
   ]
  },
  {
   "cell_type": "code",
   "execution_count": 31,
   "id": "cf35f041",
   "metadata": {},
   "outputs": [],
   "source": [
    "# JJA   08\n",
    "Q_net_JJA_08 = Q_net[5630:5722,:,:]\n",
    "ZAdv_JJA_08 = ZAdv[5630:5722,:,:]\n",
    "MAdv_JJA_08 = MAdv[5630:5722,:,:]\n",
    "VAdv_JJA_08 = VAdv[5630:5722,:,:]\n",
    "R_origin_JJA_08 = R_origin[5630:5722,:,:]\n",
    "dT_dt_JJA_08 = dT_dt[5630:5722,:,:]\n",
    "R_recur_JJA_08 = R_recur[5630:5722,:,:]"
   ]
  },
  {
   "cell_type": "code",
   "execution_count": 32,
   "id": "3d1466d6",
   "metadata": {},
   "outputs": [],
   "source": [
    "# JJA   09\n",
    "Q_net_JJA_09 = Q_net[5995:6087,:,:]\n",
    "ZAdv_JJA_09 = ZAdv[5995:6087,:,:]\n",
    "MAdv_JJA_09 = MAdv[5995:6087,:,:]\n",
    "VAdv_JJA_09 = VAdv[5995:6087,:,:]\n",
    "R_origin_JJA_09 = R_origin[5995:6087,:,:]\n",
    "dT_dt_JJA_09 = dT_dt[5995:6087,:,:]\n",
    "R_recur_JJA_09 = R_recur[5995:6087,:,:]"
   ]
  },
  {
   "cell_type": "code",
   "execution_count": 33,
   "id": "a1ad43dd",
   "metadata": {},
   "outputs": [],
   "source": [
    "# JJA   10\n",
    "Q_net_JJA_10 = Q_net[6360:6452,:,:]\n",
    "ZAdv_JJA_10 = ZAdv[6360:6452,:,:]\n",
    "MAdv_JJA_10 = MAdv[6360:6452,:,:]\n",
    "VAdv_JJA_10 = VAdv[6360:6452,:,:]\n",
    "R_origin_JJA_10 = R_origin[6360:6452,:,:]\n",
    "dT_dt_JJA_10 = dT_dt[6360:6452,:,:]\n",
    "R_recur_JJA_10 = R_recur[6360:6452,:,:]"
   ]
  },
  {
   "cell_type": "code",
   "execution_count": 34,
   "id": "82c6bed8",
   "metadata": {},
   "outputs": [],
   "source": [
    "# JJA   11\n",
    "Q_net_JJA_11 = Q_net[6725:6817,:,:]\n",
    "ZAdv_JJA_11 = ZAdv[6725:6817,:,:]\n",
    "MAdv_JJA_11 = MAdv[6725:6817,:,:]\n",
    "VAdv_JJA_11 = VAdv[6725:6817,:,:]\n",
    "R_origin_JJA_11 = R_origin[6725:6817,:,:]\n",
    "dT_dt_JJA_11 = dT_dt[6725:6817,:,:]\n",
    "R_recur_JJA_11 = R_recur[6725:6817,:,:]"
   ]
  },
  {
   "cell_type": "code",
   "execution_count": 35,
   "id": "41a7ee23",
   "metadata": {},
   "outputs": [],
   "source": [
    "# JJA   12\n",
    "Q_net_JJA_12 = Q_net[7091:7183,:,:]\n",
    "ZAdv_JJA_12 = ZAdv[7091:7183,:,:]\n",
    "MAdv_JJA_12 = MAdv[7091:7183,:,:]\n",
    "VAdv_JJA_12 = VAdv[7091:7183,:,:]\n",
    "R_origin_JJA_12 = R_origin[7091:7183,:,:]\n",
    "dT_dt_JJA_12 = dT_dt[7091:7183,:,:]\n",
    "R_recur_JJA_12 = R_recur[7091:7183,:,:]"
   ]
  },
  {
   "cell_type": "code",
   "execution_count": 36,
   "id": "cd602ec0",
   "metadata": {},
   "outputs": [],
   "source": [
    "# JJA   13\n",
    "Q_net_JJA_13 = Q_net[7456:7548,:,:]\n",
    "ZAdv_JJA_13 = ZAdv[7456:7548,:,:]\n",
    "MAdv_JJA_13 = MAdv[7456:7548,:,:]\n",
    "VAdv_JJA_13 = VAdv[7456:7548,:,:]\n",
    "R_origin_JJA_13 = R_origin[7456:7548,:,:]\n",
    "dT_dt_JJA_13 = dT_dt[7456:7548,:,:]\n",
    "R_recur_JJA_13 = R_recur[7456:7548,:,:]"
   ]
  },
  {
   "cell_type": "code",
   "execution_count": 37,
   "id": "692db473",
   "metadata": {},
   "outputs": [],
   "source": [
    "# JJA   14\n",
    "Q_net_JJA_14 = Q_net[7821:7913,:,:]\n",
    "ZAdv_JJA_14 = ZAdv[7821:7913,:,:]\n",
    "MAdv_JJA_14 = MAdv[7821:7913,:,:]\n",
    "VAdv_JJA_14 = VAdv[7821:7913,:,:]\n",
    "R_origin_JJA_14 = R_origin[7821:7913,:,:]\n",
    "dT_dt_JJA_14 = dT_dt[7821:7913,:,:]\n",
    "R_recur_JJA_14 = R_recur[7821:7913,:,:]"
   ]
  },
  {
   "cell_type": "code",
   "execution_count": 38,
   "id": "f16fd8cc",
   "metadata": {},
   "outputs": [],
   "source": [
    "# JJA   15\n",
    "Q_net_JJA_15 = Q_net[8186:8278,:,:]\n",
    "ZAdv_JJA_15 = ZAdv[8186:8278,:,:]\n",
    "MAdv_JJA_15 = MAdv[8186:8278,:,:]\n",
    "VAdv_JJA_15 = VAdv[8186:8278,:,:]\n",
    "R_origin_JJA_15 = R_origin[8186:8278,:,:]\n",
    "dT_dt_JJA_15 = dT_dt[8186:8278,:,:]\n",
    "R_recur_JJA_15 = R_recur[8186:8278,:,:]"
   ]
  },
  {
   "cell_type": "code",
   "execution_count": 39,
   "id": "41f7087a",
   "metadata": {},
   "outputs": [],
   "source": [
    "# JJA   16\n",
    "Q_net_JJA_16 = Q_net[8552:8644,:,:]\n",
    "ZAdv_JJA_16 = ZAdv[8552:8644,:,:]\n",
    "MAdv_JJA_16 = MAdv[8552:8644,:,:]\n",
    "VAdv_JJA_16 = VAdv[8552:8644,:,:]\n",
    "R_origin_JJA_16 = R_origin[8552:8644,:,:]\n",
    "dT_dt_JJA_16 = dT_dt[8552:8644,:,:]\n",
    "R_recur_JJA_16 = R_recur[8552:8644,:,:]"
   ]
  },
  {
   "cell_type": "code",
   "execution_count": 40,
   "id": "384803e6",
   "metadata": {},
   "outputs": [],
   "source": [
    "# JJA   17\n",
    "Q_net_JJA_17 = Q_net[8917:9009,:,:]\n",
    "ZAdv_JJA_17 = ZAdv[8917:9009,:,:]\n",
    "MAdv_JJA_17 = MAdv[8917:9009,:,:]\n",
    "VAdv_JJA_17 = VAdv[8917:9009,:,:]\n",
    "R_origin_JJA_17 = R_origin[8917:9009,:,:]\n",
    "dT_dt_JJA_17 = dT_dt[8917:9009,:,:]\n",
    "R_recur_JJA_17 = R_recur[8917:9009,:,:]"
   ]
  },
  {
   "cell_type": "code",
   "execution_count": 41,
   "id": "f2f332d5",
   "metadata": {},
   "outputs": [],
   "source": [
    "# JJA   18\n",
    "Q_net_JJA_18 = Q_net[9282:9374,:,:]\n",
    "ZAdv_JJA_18 = ZAdv[9282:9374,:,:]\n",
    "MAdv_JJA_18 = MAdv[9282:9374,:,:]\n",
    "VAdv_JJA_18 = VAdv[9282:9374,:,:]\n",
    "R_origin_JJA_18 = R_origin[9282:9374,:,:]\n",
    "dT_dt_JJA_18 = dT_dt[9282:9374,:,:]\n",
    "R_recur_JJA_18 = R_recur[9282:9374,:,:]"
   ]
  },
  {
   "cell_type": "code",
   "execution_count": 42,
   "id": "8fb49376",
   "metadata": {},
   "outputs": [],
   "source": [
    "# JJA   19\n",
    "Q_net_JJA_19 = Q_net[9647:9739,:,:]\n",
    "ZAdv_JJA_19 = ZAdv[9647:9739,:,:]\n",
    "MAdv_JJA_19 = MAdv[9647:9739,:,:]\n",
    "VAdv_JJA_19 = VAdv[9647:9739,:,:]\n",
    "R_origin_JJA_19 = R_origin[9647:9739,:,:]\n",
    "dT_dt_JJA_19 = dT_dt[9647:9739,:,:]\n",
    "R_recur_JJA_19 = R_recur[9647:9739,:,:]"
   ]
  },
  {
   "cell_type": "code",
   "execution_count": 43,
   "id": "de639e43",
   "metadata": {},
   "outputs": [],
   "source": [
    "Q_net_JJA_93 = np.mean(Q_net_JJA_93, axis = (1,2)).reshape(-1,1)\n",
    "Q_net_JJA_94 = np.mean(Q_net_JJA_94, axis = (1,2)).reshape(-1,1)\n",
    "Q_net_JJA_95 = np.mean(Q_net_JJA_95, axis = (1,2)).reshape(-1,1)\n",
    "Q_net_JJA_96 = np.mean(Q_net_JJA_96, axis = (1,2)).reshape(-1,1)\n",
    "Q_net_JJA_97 = np.mean(Q_net_JJA_97, axis = (1,2)).reshape(-1,1)\n",
    "Q_net_JJA_98 = np.mean(Q_net_JJA_98, axis = (1,2)).reshape(-1,1)\n",
    "Q_net_JJA_99 = np.mean(Q_net_JJA_99, axis = (1,2)).reshape(-1,1)\n",
    "Q_net_JJA_00 = np.mean(Q_net_JJA_00, axis = (1,2)).reshape(-1,1)\n",
    "Q_net_JJA_01 = np.mean(Q_net_JJA_01, axis = (1,2)).reshape(-1,1)\n",
    "Q_net_JJA_02 = np.mean(Q_net_JJA_02, axis = (1,2)).reshape(-1,1)\n",
    "Q_net_JJA_03 = np.mean(Q_net_JJA_03, axis = (1,2)).reshape(-1,1)\n",
    "Q_net_JJA_04 = np.mean(Q_net_JJA_04, axis = (1,2)).reshape(-1,1)\n",
    "Q_net_JJA_05 = np.mean(Q_net_JJA_05, axis = (1,2)).reshape(-1,1)\n",
    "Q_net_JJA_06 = np.mean(Q_net_JJA_06, axis = (1,2)).reshape(-1,1)\n",
    "Q_net_JJA_07 = np.mean(Q_net_JJA_07, axis = (1,2)).reshape(-1,1)\n",
    "Q_net_JJA_08 = np.mean(Q_net_JJA_08, axis = (1,2)).reshape(-1,1)\n",
    "Q_net_JJA_09 = np.mean(Q_net_JJA_09, axis = (1,2)).reshape(-1,1)\n",
    "Q_net_JJA_10 = np.mean(Q_net_JJA_10, axis = (1,2)).reshape(-1,1)\n",
    "Q_net_JJA_11 = np.mean(Q_net_JJA_11, axis = (1,2)).reshape(-1,1)\n",
    "Q_net_JJA_12 = np.mean(Q_net_JJA_12, axis = (1,2)).reshape(-1,1)\n",
    "Q_net_JJA_13 = np.mean(Q_net_JJA_13, axis = (1,2)).reshape(-1,1)\n",
    "Q_net_JJA_14 = np.mean(Q_net_JJA_14, axis = (1,2)).reshape(-1,1)\n",
    "Q_net_JJA_15 = np.mean(Q_net_JJA_15, axis = (1,2)).reshape(-1,1)\n",
    "Q_net_JJA_16 = np.mean(Q_net_JJA_16, axis = (1,2)).reshape(-1,1)\n",
    "Q_net_JJA_17 = np.mean(Q_net_JJA_17, axis = (1,2)).reshape(-1,1)\n",
    "Q_net_JJA_18 = np.mean(Q_net_JJA_18, axis = (1,2)).reshape(-1,1)\n",
    "Q_net_JJA_19 = np.mean(Q_net_JJA_19, axis = (1,2)).reshape(-1,1)"
   ]
  },
  {
   "cell_type": "code",
   "execution_count": 44,
   "id": "7e753a47",
   "metadata": {},
   "outputs": [],
   "source": [
    "Q_net_JJA_93 = np.mean(Q_net_JJA_93).reshape(-1,1)\n",
    "Q_net_JJA_94 = np.mean(Q_net_JJA_94).reshape(-1,1)\n",
    "Q_net_JJA_95 = np.mean(Q_net_JJA_95).reshape(-1,1)\n",
    "Q_net_JJA_96 = np.mean(Q_net_JJA_96).reshape(-1,1)\n",
    "Q_net_JJA_97 = np.mean(Q_net_JJA_97).reshape(-1,1)\n",
    "Q_net_JJA_98 = np.mean(Q_net_JJA_98).reshape(-1,1)\n",
    "Q_net_JJA_99 = np.mean(Q_net_JJA_99).reshape(-1,1)\n",
    "Q_net_JJA_00 = np.mean(Q_net_JJA_00).reshape(-1,1)\n",
    "Q_net_JJA_01 = np.mean(Q_net_JJA_01).reshape(-1,1)\n",
    "Q_net_JJA_02 = np.mean(Q_net_JJA_02).reshape(-1,1)\n",
    "Q_net_JJA_03 = np.mean(Q_net_JJA_03).reshape(-1,1)\n",
    "Q_net_JJA_04 = np.mean(Q_net_JJA_04).reshape(-1,1)\n",
    "Q_net_JJA_05 = np.mean(Q_net_JJA_05).reshape(-1,1)\n",
    "Q_net_JJA_06 = np.mean(Q_net_JJA_06).reshape(-1,1)\n",
    "Q_net_JJA_07 = np.mean(Q_net_JJA_07).reshape(-1,1)\n",
    "Q_net_JJA_08 = np.mean(Q_net_JJA_08).reshape(-1,1)\n",
    "Q_net_JJA_09 = np.mean(Q_net_JJA_09).reshape(-1,1)\n",
    "Q_net_JJA_10 = np.mean(Q_net_JJA_10).reshape(-1,1)\n",
    "Q_net_JJA_11 = np.mean(Q_net_JJA_11).reshape(-1,1)\n",
    "Q_net_JJA_12 = np.mean(Q_net_JJA_12).reshape(-1,1)\n",
    "Q_net_JJA_13 = np.mean(Q_net_JJA_13).reshape(-1,1)\n",
    "Q_net_JJA_14 = np.mean(Q_net_JJA_14).reshape(-1,1)\n",
    "Q_net_JJA_15 = np.mean(Q_net_JJA_15).reshape(-1,1)\n",
    "Q_net_JJA_16 = np.mean(Q_net_JJA_16).reshape(-1,1)\n",
    "Q_net_JJA_17 = np.mean(Q_net_JJA_17).reshape(-1,1)\n",
    "Q_net_JJA_18 = np.mean(Q_net_JJA_18).reshape(-1,1)\n",
    "Q_net_JJA_19 = np.mean(Q_net_JJA_19).reshape(-1,1)"
   ]
  },
  {
   "cell_type": "code",
   "execution_count": 45,
   "id": "10493872",
   "metadata": {},
   "outputs": [],
   "source": [
    "ZAdv_JJA_93 = np.mean(ZAdv_JJA_93, axis = (1,2)).reshape(-1,1)\n",
    "ZAdv_JJA_94 = np.mean(ZAdv_JJA_94, axis = (1,2)).reshape(-1,1)\n",
    "ZAdv_JJA_95 = np.mean(ZAdv_JJA_95, axis = (1,2)).reshape(-1,1)\n",
    "ZAdv_JJA_96 = np.mean(ZAdv_JJA_96, axis = (1,2)).reshape(-1,1)\n",
    "ZAdv_JJA_97 = np.mean(ZAdv_JJA_97, axis = (1,2)).reshape(-1,1)\n",
    "ZAdv_JJA_98 = np.mean(ZAdv_JJA_98, axis = (1,2)).reshape(-1,1)\n",
    "ZAdv_JJA_99 = np.mean(ZAdv_JJA_99, axis = (1,2)).reshape(-1,1)\n",
    "ZAdv_JJA_00 = np.mean(ZAdv_JJA_00, axis = (1,2)).reshape(-1,1)\n",
    "ZAdv_JJA_01 = np.mean(ZAdv_JJA_01, axis = (1,2)).reshape(-1,1)\n",
    "ZAdv_JJA_02 = np.mean(ZAdv_JJA_02, axis = (1,2)).reshape(-1,1)\n",
    "ZAdv_JJA_03 = np.mean(ZAdv_JJA_03, axis = (1,2)).reshape(-1,1)\n",
    "ZAdv_JJA_04 = np.mean(ZAdv_JJA_04, axis = (1,2)).reshape(-1,1)\n",
    "ZAdv_JJA_05 = np.mean(ZAdv_JJA_05, axis = (1,2)).reshape(-1,1)\n",
    "ZAdv_JJA_06 = np.mean(ZAdv_JJA_06, axis = (1,2)).reshape(-1,1)\n",
    "ZAdv_JJA_07 = np.mean(ZAdv_JJA_07, axis = (1,2)).reshape(-1,1)\n",
    "ZAdv_JJA_08 = np.mean(ZAdv_JJA_08, axis = (1,2)).reshape(-1,1)\n",
    "ZAdv_JJA_09 = np.mean(ZAdv_JJA_09, axis = (1,2)).reshape(-1,1)\n",
    "ZAdv_JJA_10 = np.mean(ZAdv_JJA_10, axis = (1,2)).reshape(-1,1)\n",
    "ZAdv_JJA_11 = np.mean(ZAdv_JJA_11, axis = (1,2)).reshape(-1,1)\n",
    "ZAdv_JJA_12 = np.mean(ZAdv_JJA_12, axis = (1,2)).reshape(-1,1)\n",
    "ZAdv_JJA_13 = np.mean(ZAdv_JJA_13, axis = (1,2)).reshape(-1,1)\n",
    "ZAdv_JJA_14 = np.mean(ZAdv_JJA_14, axis = (1,2)).reshape(-1,1)\n",
    "ZAdv_JJA_15 = np.mean(ZAdv_JJA_15, axis = (1,2)).reshape(-1,1)\n",
    "ZAdv_JJA_16 = np.mean(ZAdv_JJA_16, axis = (1,2)).reshape(-1,1)\n",
    "ZAdv_JJA_17 = np.mean(ZAdv_JJA_17, axis = (1,2)).reshape(-1,1)\n",
    "ZAdv_JJA_18 = np.mean(ZAdv_JJA_18, axis = (1,2)).reshape(-1,1)\n",
    "ZAdv_JJA_19 = np.mean(ZAdv_JJA_19, axis = (1,2)).reshape(-1,1)"
   ]
  },
  {
   "cell_type": "code",
   "execution_count": 46,
   "id": "fe815dd3",
   "metadata": {},
   "outputs": [],
   "source": [
    "ZAdv_JJA_93 = np.mean(ZAdv_JJA_93).reshape(-1,1)\n",
    "ZAdv_JJA_94 = np.mean(ZAdv_JJA_94).reshape(-1,1)\n",
    "ZAdv_JJA_95 = np.mean(ZAdv_JJA_95).reshape(-1,1)\n",
    "ZAdv_JJA_96 = np.mean(ZAdv_JJA_96).reshape(-1,1)\n",
    "ZAdv_JJA_97 = np.mean(ZAdv_JJA_97).reshape(-1,1)\n",
    "ZAdv_JJA_98 = np.mean(ZAdv_JJA_98).reshape(-1,1)\n",
    "ZAdv_JJA_99 = np.mean(ZAdv_JJA_99).reshape(-1,1)\n",
    "ZAdv_JJA_00 = np.mean(ZAdv_JJA_00).reshape(-1,1)\n",
    "ZAdv_JJA_01 = np.mean(ZAdv_JJA_01).reshape(-1,1)\n",
    "ZAdv_JJA_02 = np.mean(ZAdv_JJA_02).reshape(-1,1)\n",
    "ZAdv_JJA_03 = np.mean(ZAdv_JJA_03).reshape(-1,1)\n",
    "ZAdv_JJA_04 = np.mean(ZAdv_JJA_04).reshape(-1,1)\n",
    "ZAdv_JJA_05 = np.mean(ZAdv_JJA_05).reshape(-1,1)\n",
    "ZAdv_JJA_06 = np.mean(ZAdv_JJA_06).reshape(-1,1)\n",
    "ZAdv_JJA_07 = np.mean(ZAdv_JJA_07).reshape(-1,1)\n",
    "ZAdv_JJA_08 = np.mean(ZAdv_JJA_08).reshape(-1,1)\n",
    "ZAdv_JJA_09 = np.mean(ZAdv_JJA_09).reshape(-1,1)\n",
    "ZAdv_JJA_10 = np.mean(ZAdv_JJA_10).reshape(-1,1)\n",
    "ZAdv_JJA_11 = np.mean(ZAdv_JJA_11).reshape(-1,1)\n",
    "ZAdv_JJA_12 = np.mean(ZAdv_JJA_12).reshape(-1,1)\n",
    "ZAdv_JJA_13 = np.mean(ZAdv_JJA_13).reshape(-1,1)\n",
    "ZAdv_JJA_14 = np.mean(ZAdv_JJA_14).reshape(-1,1)\n",
    "ZAdv_JJA_15 = np.mean(ZAdv_JJA_15).reshape(-1,1)\n",
    "ZAdv_JJA_16 = np.mean(ZAdv_JJA_16).reshape(-1,1)\n",
    "ZAdv_JJA_17 = np.mean(ZAdv_JJA_17).reshape(-1,1)\n",
    "ZAdv_JJA_18 = np.mean(ZAdv_JJA_18).reshape(-1,1)\n",
    "ZAdv_JJA_19 = np.mean(ZAdv_JJA_19).reshape(-1,1)"
   ]
  },
  {
   "cell_type": "code",
   "execution_count": 47,
   "id": "14ca230c",
   "metadata": {},
   "outputs": [],
   "source": [
    "MAdv_JJA_93 = np.mean(MAdv_JJA_93, axis = (1,2)).reshape(-1,1)\n",
    "MAdv_JJA_94 = np.mean(MAdv_JJA_94, axis = (1,2)).reshape(-1,1)\n",
    "MAdv_JJA_95 = np.mean(MAdv_JJA_95, axis = (1,2)).reshape(-1,1)\n",
    "MAdv_JJA_96 = np.mean(MAdv_JJA_96, axis = (1,2)).reshape(-1,1)\n",
    "MAdv_JJA_97 = np.mean(MAdv_JJA_97, axis = (1,2)).reshape(-1,1)\n",
    "MAdv_JJA_98 = np.mean(MAdv_JJA_98, axis = (1,2)).reshape(-1,1)\n",
    "MAdv_JJA_99 = np.mean(MAdv_JJA_99, axis = (1,2)).reshape(-1,1)\n",
    "MAdv_JJA_00 = np.mean(MAdv_JJA_00, axis = (1,2)).reshape(-1,1)\n",
    "MAdv_JJA_01 = np.mean(MAdv_JJA_01, axis = (1,2)).reshape(-1,1)\n",
    "MAdv_JJA_02 = np.mean(MAdv_JJA_02, axis = (1,2)).reshape(-1,1)\n",
    "MAdv_JJA_03 = np.mean(MAdv_JJA_03, axis = (1,2)).reshape(-1,1)\n",
    "MAdv_JJA_04 = np.mean(MAdv_JJA_04, axis = (1,2)).reshape(-1,1)\n",
    "MAdv_JJA_05 = np.mean(MAdv_JJA_05, axis = (1,2)).reshape(-1,1)\n",
    "MAdv_JJA_06 = np.mean(MAdv_JJA_06, axis = (1,2)).reshape(-1,1)\n",
    "MAdv_JJA_07 = np.mean(MAdv_JJA_07, axis = (1,2)).reshape(-1,1)\n",
    "MAdv_JJA_08 = np.mean(MAdv_JJA_08, axis = (1,2)).reshape(-1,1)\n",
    "MAdv_JJA_09 = np.mean(MAdv_JJA_09, axis = (1,2)).reshape(-1,1)\n",
    "MAdv_JJA_10 = np.mean(MAdv_JJA_10, axis = (1,2)).reshape(-1,1)\n",
    "MAdv_JJA_11 = np.mean(MAdv_JJA_11, axis = (1,2)).reshape(-1,1)\n",
    "MAdv_JJA_12 = np.mean(MAdv_JJA_12, axis = (1,2)).reshape(-1,1)\n",
    "MAdv_JJA_13 = np.mean(MAdv_JJA_13, axis = (1,2)).reshape(-1,1)\n",
    "MAdv_JJA_14 = np.mean(MAdv_JJA_14, axis = (1,2)).reshape(-1,1)\n",
    "MAdv_JJA_15 = np.mean(MAdv_JJA_15, axis = (1,2)).reshape(-1,1)\n",
    "MAdv_JJA_16 = np.mean(MAdv_JJA_16, axis = (1,2)).reshape(-1,1)\n",
    "MAdv_JJA_17 = np.mean(MAdv_JJA_17, axis = (1,2)).reshape(-1,1)\n",
    "MAdv_JJA_18 = np.mean(MAdv_JJA_18, axis = (1,2)).reshape(-1,1)\n",
    "MAdv_JJA_19 = np.mean(MAdv_JJA_19, axis = (1,2)).reshape(-1,1)"
   ]
  },
  {
   "cell_type": "code",
   "execution_count": 48,
   "id": "9e51b90d",
   "metadata": {},
   "outputs": [],
   "source": [
    "MAdv_JJA_93 = np.mean(MAdv_JJA_93).reshape(-1,1)\n",
    "MAdv_JJA_94 = np.mean(MAdv_JJA_94).reshape(-1,1)\n",
    "MAdv_JJA_95 = np.mean(MAdv_JJA_95).reshape(-1,1)\n",
    "MAdv_JJA_96 = np.mean(MAdv_JJA_96).reshape(-1,1)\n",
    "MAdv_JJA_97 = np.mean(MAdv_JJA_97).reshape(-1,1)\n",
    "MAdv_JJA_98 = np.mean(MAdv_JJA_98).reshape(-1,1)\n",
    "MAdv_JJA_99 = np.mean(MAdv_JJA_99).reshape(-1,1)\n",
    "MAdv_JJA_00 = np.mean(MAdv_JJA_00).reshape(-1,1)\n",
    "MAdv_JJA_01 = np.mean(MAdv_JJA_01).reshape(-1,1)\n",
    "MAdv_JJA_02 = np.mean(MAdv_JJA_02).reshape(-1,1)\n",
    "MAdv_JJA_03 = np.mean(MAdv_JJA_03).reshape(-1,1)\n",
    "MAdv_JJA_04 = np.mean(MAdv_JJA_04).reshape(-1,1)\n",
    "MAdv_JJA_05 = np.mean(MAdv_JJA_05).reshape(-1,1)\n",
    "MAdv_JJA_06 = np.mean(MAdv_JJA_06).reshape(-1,1)\n",
    "MAdv_JJA_07 = np.mean(MAdv_JJA_07).reshape(-1,1)\n",
    "MAdv_JJA_08 = np.mean(MAdv_JJA_08).reshape(-1,1)\n",
    "MAdv_JJA_09 = np.mean(MAdv_JJA_09).reshape(-1,1)\n",
    "MAdv_JJA_10 = np.mean(MAdv_JJA_10).reshape(-1,1)\n",
    "MAdv_JJA_11 = np.mean(MAdv_JJA_11).reshape(-1,1)\n",
    "MAdv_JJA_12 = np.mean(MAdv_JJA_12).reshape(-1,1)\n",
    "MAdv_JJA_13 = np.mean(MAdv_JJA_13).reshape(-1,1)\n",
    "MAdv_JJA_14 = np.mean(MAdv_JJA_14).reshape(-1,1)\n",
    "MAdv_JJA_15 = np.mean(MAdv_JJA_15).reshape(-1,1)\n",
    "MAdv_JJA_16 = np.mean(MAdv_JJA_16).reshape(-1,1)\n",
    "MAdv_JJA_17 = np.mean(MAdv_JJA_17).reshape(-1,1)\n",
    "MAdv_JJA_18 = np.mean(MAdv_JJA_18).reshape(-1,1)\n",
    "MAdv_JJA_19 = np.mean(MAdv_JJA_19).reshape(-1,1)"
   ]
  },
  {
   "cell_type": "code",
   "execution_count": 49,
   "id": "2df64f30",
   "metadata": {},
   "outputs": [],
   "source": [
    "VAdv_JJA_93 = np.mean(VAdv_JJA_93, axis = (1,2)).reshape(-1,1)\n",
    "VAdv_JJA_94 = np.mean(VAdv_JJA_94, axis = (1,2)).reshape(-1,1)\n",
    "VAdv_JJA_95 = np.mean(VAdv_JJA_95, axis = (1,2)).reshape(-1,1)\n",
    "VAdv_JJA_96 = np.mean(VAdv_JJA_96, axis = (1,2)).reshape(-1,1)\n",
    "VAdv_JJA_97 = np.mean(VAdv_JJA_97, axis = (1,2)).reshape(-1,1)\n",
    "VAdv_JJA_98 = np.mean(VAdv_JJA_98, axis = (1,2)).reshape(-1,1)\n",
    "VAdv_JJA_99 = np.mean(VAdv_JJA_99, axis = (1,2)).reshape(-1,1)\n",
    "VAdv_JJA_00 = np.mean(VAdv_JJA_00, axis = (1,2)).reshape(-1,1)\n",
    "VAdv_JJA_01 = np.mean(VAdv_JJA_01, axis = (1,2)).reshape(-1,1)\n",
    "VAdv_JJA_02 = np.mean(VAdv_JJA_02, axis = (1,2)).reshape(-1,1)\n",
    "VAdv_JJA_03 = np.mean(VAdv_JJA_03, axis = (1,2)).reshape(-1,1)\n",
    "VAdv_JJA_04 = np.mean(VAdv_JJA_04, axis = (1,2)).reshape(-1,1)\n",
    "VAdv_JJA_05 = np.mean(VAdv_JJA_05, axis = (1,2)).reshape(-1,1)\n",
    "VAdv_JJA_06 = np.mean(VAdv_JJA_06, axis = (1,2)).reshape(-1,1)\n",
    "VAdv_JJA_07 = np.mean(VAdv_JJA_07, axis = (1,2)).reshape(-1,1)\n",
    "VAdv_JJA_08 = np.mean(VAdv_JJA_08, axis = (1,2)).reshape(-1,1)\n",
    "VAdv_JJA_09 = np.mean(VAdv_JJA_09, axis = (1,2)).reshape(-1,1)\n",
    "VAdv_JJA_10 = np.mean(VAdv_JJA_10, axis = (1,2)).reshape(-1,1)\n",
    "VAdv_JJA_11 = np.mean(VAdv_JJA_11, axis = (1,2)).reshape(-1,1)\n",
    "VAdv_JJA_12 = np.mean(VAdv_JJA_12, axis = (1,2)).reshape(-1,1)\n",
    "VAdv_JJA_13 = np.mean(VAdv_JJA_13, axis = (1,2)).reshape(-1,1)\n",
    "VAdv_JJA_14 = np.mean(VAdv_JJA_14, axis = (1,2)).reshape(-1,1)\n",
    "VAdv_JJA_15 = np.mean(VAdv_JJA_15, axis = (1,2)).reshape(-1,1)\n",
    "VAdv_JJA_16 = np.mean(VAdv_JJA_16, axis = (1,2)).reshape(-1,1)\n",
    "VAdv_JJA_17 = np.mean(VAdv_JJA_17, axis = (1,2)).reshape(-1,1)\n",
    "VAdv_JJA_18 = np.mean(VAdv_JJA_18, axis = (1,2)).reshape(-1,1)\n",
    "VAdv_JJA_19 = np.mean(VAdv_JJA_19, axis = (1,2)).reshape(-1,1)"
   ]
  },
  {
   "cell_type": "code",
   "execution_count": 92,
   "id": "4cb3c3da",
   "metadata": {},
   "outputs": [],
   "source": [
    "VAdv_JJA_93 = np.mean(VAdv_JJA_93).reshape(-1,1)\n",
    "VAdv_JJA_94 = np.mean(VAdv_JJA_94).reshape(-1,1)\n",
    "VAdv_JJA_95 = np.mean(VAdv_JJA_95).reshape(-1,1)\n",
    "VAdv_JJA_96 = np.mean(VAdv_JJA_96).reshape(-1,1)\n",
    "VAdv_JJA_97 = np.mean(VAdv_JJA_97).reshape(-1,1)\n",
    "VAdv_JJA_98 = np.mean(VAdv_JJA_98).reshape(-1,1)\n",
    "VAdv_JJA_99 = np.mean(VAdv_JJA_99).reshape(-1,1)\n",
    "VAdv_JJA_00 = np.mean(VAdv_JJA_00).reshape(-1,1)\n",
    "VAdv_JJA_01 = np.mean(VAdv_JJA_01).reshape(-1,1)\n",
    "VAdv_JJA_02 = np.mean(VAdv_JJA_02).reshape(-1,1)\n",
    "VAdv_JJA_03 = np.mean(VAdv_JJA_03).reshape(-1,1)\n",
    "VAdv_JJA_04 = np.mean(VAdv_JJA_04).reshape(-1,1)\n",
    "VAdv_JJA_05 = np.mean(VAdv_JJA_05).reshape(-1,1)\n",
    "VAdv_JJA_06 = np.mean(VAdv_JJA_06).reshape(-1,1)\n",
    "VAdv_JJA_07 = np.mean(VAdv_JJA_07).reshape(-1,1)\n",
    "VAdv_JJA_08 = np.mean(VAdv_JJA_08).reshape(-1,1)\n",
    "VAdv_JJA_09 = np.mean(VAdv_JJA_09).reshape(-1,1)\n",
    "VAdv_JJA_10 = np.mean(VAdv_JJA_10).reshape(-1,1)\n",
    "VAdv_JJA_11 = np.mean(VAdv_JJA_11).reshape(-1,1)\n",
    "VAdv_JJA_12 = np.mean(VAdv_JJA_12).reshape(-1,1)\n",
    "VAdv_JJA_13 = np.mean(VAdv_JJA_13).reshape(-1,1)\n",
    "VAdv_JJA_14 = np.mean(VAdv_JJA_14).reshape(-1,1)\n",
    "VAdv_JJA_15 = np.mean(VAdv_JJA_15).reshape(-1,1)\n",
    "VAdv_JJA_16 = np.mean(VAdv_JJA_16).reshape(-1,1)\n",
    "VAdv_JJA_17 = np.mean(VAdv_JJA_17).reshape(-1,1)\n",
    "VAdv_JJA_18 = np.mean(VAdv_JJA_18).reshape(-1,1)\n",
    "VAdv_JJA_19 = np.mean(VAdv_JJA_19).reshape(-1,1)"
   ]
  },
  {
   "cell_type": "code",
   "execution_count": 51,
   "id": "f160525d",
   "metadata": {},
   "outputs": [],
   "source": [
    "R_origin_JJA_93 = np.mean(R_origin_JJA_93, axis = (1,2)).reshape(-1,1)\n",
    "R_origin_JJA_94 = np.mean(R_origin_JJA_94, axis = (1,2)).reshape(-1,1)\n",
    "R_origin_JJA_95 = np.mean(R_origin_JJA_95, axis = (1,2)).reshape(-1,1)\n",
    "R_origin_JJA_96 = np.mean(R_origin_JJA_96, axis = (1,2)).reshape(-1,1)\n",
    "R_origin_JJA_97 = np.mean(R_origin_JJA_97, axis = (1,2)).reshape(-1,1)\n",
    "R_origin_JJA_98 = np.mean(R_origin_JJA_98, axis = (1,2)).reshape(-1,1)\n",
    "R_origin_JJA_99 = np.mean(R_origin_JJA_99, axis = (1,2)).reshape(-1,1)\n",
    "R_origin_JJA_00 = np.mean(R_origin_JJA_00, axis = (1,2)).reshape(-1,1)\n",
    "R_origin_JJA_01 = np.mean(R_origin_JJA_01, axis = (1,2)).reshape(-1,1)\n",
    "R_origin_JJA_02 = np.mean(R_origin_JJA_02, axis = (1,2)).reshape(-1,1)\n",
    "R_origin_JJA_03 = np.mean(R_origin_JJA_03, axis = (1,2)).reshape(-1,1)\n",
    "R_origin_JJA_04 = np.mean(R_origin_JJA_04, axis = (1,2)).reshape(-1,1)\n",
    "R_origin_JJA_05 = np.mean(R_origin_JJA_05, axis = (1,2)).reshape(-1,1)\n",
    "R_origin_JJA_06 = np.mean(R_origin_JJA_06, axis = (1,2)).reshape(-1,1)\n",
    "R_origin_JJA_07 = np.mean(R_origin_JJA_07, axis = (1,2)).reshape(-1,1)\n",
    "R_origin_JJA_08 = np.mean(R_origin_JJA_08, axis = (1,2)).reshape(-1,1)\n",
    "R_origin_JJA_09 = np.mean(R_origin_JJA_09, axis = (1,2)).reshape(-1,1)\n",
    "R_origin_JJA_10 = np.mean(R_origin_JJA_10, axis = (1,2)).reshape(-1,1)\n",
    "R_origin_JJA_11 = np.mean(R_origin_JJA_11, axis = (1,2)).reshape(-1,1)\n",
    "R_origin_JJA_12 = np.mean(R_origin_JJA_12, axis = (1,2)).reshape(-1,1)\n",
    "R_origin_JJA_13 = np.mean(R_origin_JJA_13, axis = (1,2)).reshape(-1,1)\n",
    "R_origin_JJA_14 = np.mean(R_origin_JJA_14, axis = (1,2)).reshape(-1,1)\n",
    "R_origin_JJA_15 = np.mean(R_origin_JJA_15, axis = (1,2)).reshape(-1,1)\n",
    "R_origin_JJA_16 = np.mean(R_origin_JJA_16, axis = (1,2)).reshape(-1,1)\n",
    "R_origin_JJA_17 = np.mean(R_origin_JJA_17, axis = (1,2)).reshape(-1,1)\n",
    "R_origin_JJA_18 = np.mean(R_origin_JJA_18, axis = (1,2)).reshape(-1,1)\n",
    "R_origin_JJA_19 = np.mean(R_origin_JJA_19, axis = (1,2)).reshape(-1,1)"
   ]
  },
  {
   "cell_type": "code",
   "execution_count": 52,
   "id": "09d78adf",
   "metadata": {},
   "outputs": [],
   "source": [
    "R_origin_JJA_93 = np.mean(R_origin_JJA_93).reshape(-1,1)\n",
    "R_origin_JJA_94 = np.mean(R_origin_JJA_94).reshape(-1,1)\n",
    "R_origin_JJA_95 = np.mean(R_origin_JJA_95).reshape(-1,1)\n",
    "R_origin_JJA_96 = np.mean(R_origin_JJA_96).reshape(-1,1)\n",
    "R_origin_JJA_97 = np.mean(R_origin_JJA_97).reshape(-1,1)\n",
    "R_origin_JJA_98 = np.mean(R_origin_JJA_98).reshape(-1,1)\n",
    "R_origin_JJA_99 = np.mean(R_origin_JJA_99).reshape(-1,1)\n",
    "R_origin_JJA_00 = np.mean(R_origin_JJA_00).reshape(-1,1)\n",
    "R_origin_JJA_01 = np.mean(R_origin_JJA_01).reshape(-1,1)\n",
    "R_origin_JJA_02 = np.mean(R_origin_JJA_02).reshape(-1,1)\n",
    "R_origin_JJA_03 = np.mean(R_origin_JJA_03).reshape(-1,1)\n",
    "R_origin_JJA_04 = np.mean(R_origin_JJA_04).reshape(-1,1)\n",
    "R_origin_JJA_05 = np.mean(R_origin_JJA_05).reshape(-1,1)\n",
    "R_origin_JJA_06 = np.mean(R_origin_JJA_06).reshape(-1,1)\n",
    "R_origin_JJA_07 = np.mean(R_origin_JJA_07).reshape(-1,1)\n",
    "R_origin_JJA_08 = np.mean(R_origin_JJA_08).reshape(-1,1)\n",
    "R_origin_JJA_09 = np.mean(R_origin_JJA_09).reshape(-1,1)\n",
    "R_origin_JJA_10 = np.mean(R_origin_JJA_10).reshape(-1,1)\n",
    "R_origin_JJA_11 = np.mean(R_origin_JJA_11).reshape(-1,1)\n",
    "R_origin_JJA_12 = np.mean(R_origin_JJA_12).reshape(-1,1)\n",
    "R_origin_JJA_13 = np.mean(R_origin_JJA_13).reshape(-1,1)\n",
    "R_origin_JJA_14 = np.mean(R_origin_JJA_14).reshape(-1,1)\n",
    "R_origin_JJA_15 = np.mean(R_origin_JJA_15).reshape(-1,1)\n",
    "R_origin_JJA_16 = np.mean(R_origin_JJA_16).reshape(-1,1)\n",
    "R_origin_JJA_17 = np.mean(R_origin_JJA_17).reshape(-1,1)\n",
    "R_origin_JJA_18 = np.mean(R_origin_JJA_18).reshape(-1,1)\n",
    "R_origin_JJA_19 = np.mean(R_origin_JJA_19).reshape(-1,1)"
   ]
  },
  {
   "cell_type": "code",
   "execution_count": 53,
   "id": "47c76532",
   "metadata": {},
   "outputs": [],
   "source": [
    "dT_dt_JJA_93 = np.mean(dT_dt_JJA_93, axis = (1,2)).reshape(-1,1)\n",
    "dT_dt_JJA_94 = np.mean(dT_dt_JJA_94, axis = (1,2)).reshape(-1,1)\n",
    "dT_dt_JJA_95 = np.mean(dT_dt_JJA_95, axis = (1,2)).reshape(-1,1)\n",
    "dT_dt_JJA_96 = np.mean(dT_dt_JJA_96, axis = (1,2)).reshape(-1,1)\n",
    "dT_dt_JJA_97 = np.mean(dT_dt_JJA_97, axis = (1,2)).reshape(-1,1)\n",
    "dT_dt_JJA_98 = np.mean(dT_dt_JJA_98, axis = (1,2)).reshape(-1,1)\n",
    "dT_dt_JJA_99 = np.mean(dT_dt_JJA_99, axis = (1,2)).reshape(-1,1)\n",
    "dT_dt_JJA_00 = np.mean(dT_dt_JJA_00, axis = (1,2)).reshape(-1,1)\n",
    "dT_dt_JJA_01 = np.mean(dT_dt_JJA_01, axis = (1,2)).reshape(-1,1)\n",
    "dT_dt_JJA_02 = np.mean(dT_dt_JJA_02, axis = (1,2)).reshape(-1,1)\n",
    "dT_dt_JJA_03 = np.mean(dT_dt_JJA_03, axis = (1,2)).reshape(-1,1)\n",
    "dT_dt_JJA_04 = np.mean(dT_dt_JJA_04, axis = (1,2)).reshape(-1,1)\n",
    "dT_dt_JJA_05 = np.mean(dT_dt_JJA_05, axis = (1,2)).reshape(-1,1)\n",
    "dT_dt_JJA_06 = np.mean(dT_dt_JJA_06, axis = (1,2)).reshape(-1,1)\n",
    "dT_dt_JJA_07 = np.mean(dT_dt_JJA_07, axis = (1,2)).reshape(-1,1)\n",
    "dT_dt_JJA_08 = np.mean(dT_dt_JJA_08, axis = (1,2)).reshape(-1,1)\n",
    "dT_dt_JJA_09 = np.mean(dT_dt_JJA_09, axis = (1,2)).reshape(-1,1)\n",
    "dT_dt_JJA_10 = np.mean(dT_dt_JJA_10, axis = (1,2)).reshape(-1,1)\n",
    "dT_dt_JJA_11 = np.mean(dT_dt_JJA_11, axis = (1,2)).reshape(-1,1)\n",
    "dT_dt_JJA_12 = np.mean(dT_dt_JJA_12, axis = (1,2)).reshape(-1,1)\n",
    "dT_dt_JJA_13 = np.mean(dT_dt_JJA_13, axis = (1,2)).reshape(-1,1)\n",
    "dT_dt_JJA_14 = np.mean(dT_dt_JJA_14, axis = (1,2)).reshape(-1,1)\n",
    "dT_dt_JJA_15 = np.mean(dT_dt_JJA_15, axis = (1,2)).reshape(-1,1)\n",
    "dT_dt_JJA_16 = np.mean(dT_dt_JJA_16, axis = (1,2)).reshape(-1,1)\n",
    "dT_dt_JJA_17 = np.mean(dT_dt_JJA_17, axis = (1,2)).reshape(-1,1)\n",
    "dT_dt_JJA_18 = np.mean(dT_dt_JJA_18, axis = (1,2)).reshape(-1,1)\n",
    "dT_dt_JJA_19 = np.mean(dT_dt_JJA_19, axis = (1,2)).reshape(-1,1)"
   ]
  },
  {
   "cell_type": "code",
   "execution_count": 54,
   "id": "e7c77d2f",
   "metadata": {},
   "outputs": [],
   "source": [
    "dT_dt_JJA_93 = np.mean(dT_dt_JJA_93).reshape(-1,1)\n",
    "dT_dt_JJA_94 = np.mean(dT_dt_JJA_94).reshape(-1,1)\n",
    "dT_dt_JJA_95 = np.mean(dT_dt_JJA_95).reshape(-1,1)\n",
    "dT_dt_JJA_96 = np.mean(dT_dt_JJA_96).reshape(-1,1)\n",
    "dT_dt_JJA_97 = np.mean(dT_dt_JJA_97).reshape(-1,1)\n",
    "dT_dt_JJA_98 = np.mean(dT_dt_JJA_98).reshape(-1,1)\n",
    "dT_dt_JJA_99 = np.mean(dT_dt_JJA_99).reshape(-1,1)\n",
    "dT_dt_JJA_00 = np.mean(dT_dt_JJA_00).reshape(-1,1)\n",
    "dT_dt_JJA_01 = np.mean(dT_dt_JJA_01).reshape(-1,1)\n",
    "dT_dt_JJA_02 = np.mean(dT_dt_JJA_02).reshape(-1,1)\n",
    "dT_dt_JJA_03 = np.mean(dT_dt_JJA_03).reshape(-1,1)\n",
    "dT_dt_JJA_04 = np.mean(dT_dt_JJA_04).reshape(-1,1)\n",
    "dT_dt_JJA_05 = np.mean(dT_dt_JJA_05).reshape(-1,1)\n",
    "dT_dt_JJA_06 = np.mean(dT_dt_JJA_06).reshape(-1,1)\n",
    "dT_dt_JJA_07 = np.mean(dT_dt_JJA_07).reshape(-1,1)\n",
    "dT_dt_JJA_08 = np.mean(dT_dt_JJA_08).reshape(-1,1)\n",
    "dT_dt_JJA_09 = np.mean(dT_dt_JJA_09).reshape(-1,1)\n",
    "dT_dt_JJA_10 = np.mean(dT_dt_JJA_10).reshape(-1,1)\n",
    "dT_dt_JJA_11 = np.mean(dT_dt_JJA_11).reshape(-1,1)\n",
    "dT_dt_JJA_12 = np.mean(dT_dt_JJA_12).reshape(-1,1)\n",
    "dT_dt_JJA_13 = np.mean(dT_dt_JJA_13).reshape(-1,1)\n",
    "dT_dt_JJA_14 = np.mean(dT_dt_JJA_14).reshape(-1,1)\n",
    "dT_dt_JJA_15 = np.mean(dT_dt_JJA_15).reshape(-1,1)\n",
    "dT_dt_JJA_16 = np.mean(dT_dt_JJA_16).reshape(-1,1)\n",
    "dT_dt_JJA_17 = np.mean(dT_dt_JJA_17).reshape(-1,1)\n",
    "dT_dt_JJA_18 = np.mean(dT_dt_JJA_18).reshape(-1,1)\n",
    "dT_dt_JJA_19 = np.mean(dT_dt_JJA_19).reshape(-1,1)"
   ]
  },
  {
   "cell_type": "code",
   "execution_count": 55,
   "id": "88230900",
   "metadata": {},
   "outputs": [],
   "source": [
    "R_recur_JJA_93 = np.mean(R_recur_JJA_93, axis = (1,2)).reshape(-1,1)\n",
    "R_recur_JJA_94 = np.mean(R_recur_JJA_94, axis = (1,2)).reshape(-1,1)\n",
    "R_recur_JJA_95 = np.mean(R_recur_JJA_95, axis = (1,2)).reshape(-1,1)\n",
    "R_recur_JJA_96 = np.mean(R_recur_JJA_96, axis = (1,2)).reshape(-1,1)\n",
    "R_recur_JJA_97 = np.mean(R_recur_JJA_97, axis = (1,2)).reshape(-1,1)\n",
    "R_recur_JJA_98 = np.mean(R_recur_JJA_98, axis = (1,2)).reshape(-1,1)\n",
    "R_recur_JJA_99 = np.mean(R_recur_JJA_99, axis = (1,2)).reshape(-1,1)\n",
    "R_recur_JJA_00 = np.mean(R_recur_JJA_00, axis = (1,2)).reshape(-1,1)\n",
    "R_recur_JJA_01 = np.mean(R_recur_JJA_01, axis = (1,2)).reshape(-1,1)\n",
    "R_recur_JJA_02 = np.mean(R_recur_JJA_02, axis = (1,2)).reshape(-1,1)\n",
    "R_recur_JJA_03 = np.mean(R_recur_JJA_03, axis = (1,2)).reshape(-1,1)\n",
    "R_recur_JJA_04 = np.mean(R_recur_JJA_04, axis = (1,2)).reshape(-1,1)\n",
    "R_recur_JJA_05 = np.mean(R_recur_JJA_05, axis = (1,2)).reshape(-1,1)\n",
    "R_recur_JJA_06 = np.mean(R_recur_JJA_06, axis = (1,2)).reshape(-1,1)\n",
    "R_recur_JJA_07 = np.mean(R_recur_JJA_07, axis = (1,2)).reshape(-1,1)\n",
    "R_recur_JJA_08 = np.mean(R_recur_JJA_08, axis = (1,2)).reshape(-1,1)\n",
    "R_recur_JJA_09 = np.mean(R_recur_JJA_09, axis = (1,2)).reshape(-1,1)\n",
    "R_recur_JJA_10 = np.mean(R_recur_JJA_10, axis = (1,2)).reshape(-1,1)\n",
    "R_recur_JJA_11 = np.mean(R_recur_JJA_11, axis = (1,2)).reshape(-1,1)\n",
    "R_recur_JJA_12 = np.mean(R_recur_JJA_12, axis = (1,2)).reshape(-1,1)\n",
    "R_recur_JJA_13 = np.mean(R_recur_JJA_13, axis = (1,2)).reshape(-1,1)\n",
    "R_recur_JJA_14 = np.mean(R_recur_JJA_14, axis = (1,2)).reshape(-1,1)\n",
    "R_recur_JJA_15 = np.mean(R_recur_JJA_15, axis = (1,2)).reshape(-1,1)\n",
    "R_recur_JJA_16 = np.mean(R_recur_JJA_16, axis = (1,2)).reshape(-1,1)\n",
    "R_recur_JJA_17 = np.mean(R_recur_JJA_17, axis = (1,2)).reshape(-1,1)\n",
    "R_recur_JJA_18 = np.mean(R_recur_JJA_18, axis = (1,2)).reshape(-1,1)\n",
    "R_recur_JJA_19 = np.mean(R_recur_JJA_19, axis = (1,2)).reshape(-1,1)"
   ]
  },
  {
   "cell_type": "code",
   "execution_count": 56,
   "id": "96bfacbf",
   "metadata": {},
   "outputs": [],
   "source": [
    "R_recur_JJA_93 = np.mean(R_recur_JJA_93).reshape(-1,1)\n",
    "R_recur_JJA_94 = np.mean(R_recur_JJA_94).reshape(-1,1)\n",
    "R_recur_JJA_95 = np.mean(R_recur_JJA_95).reshape(-1,1)\n",
    "R_recur_JJA_96 = np.mean(R_recur_JJA_96).reshape(-1,1)\n",
    "R_recur_JJA_97 = np.mean(R_recur_JJA_97).reshape(-1,1)\n",
    "R_recur_JJA_98 = np.mean(R_recur_JJA_98).reshape(-1,1)\n",
    "R_recur_JJA_99 = np.mean(R_recur_JJA_99).reshape(-1,1)\n",
    "R_recur_JJA_00 = np.mean(R_recur_JJA_00).reshape(-1,1)\n",
    "R_recur_JJA_01 = np.mean(R_recur_JJA_01).reshape(-1,1)\n",
    "R_recur_JJA_02 = np.mean(R_recur_JJA_02).reshape(-1,1)\n",
    "R_recur_JJA_03 = np.mean(R_recur_JJA_03).reshape(-1,1)\n",
    "R_recur_JJA_04 = np.mean(R_recur_JJA_04).reshape(-1,1)\n",
    "R_recur_JJA_05 = np.mean(R_recur_JJA_05).reshape(-1,1)\n",
    "R_recur_JJA_06 = np.mean(R_recur_JJA_06).reshape(-1,1)\n",
    "R_recur_JJA_07 = np.mean(R_recur_JJA_07).reshape(-1,1)\n",
    "R_recur_JJA_08 = np.mean(R_recur_JJA_08).reshape(-1,1)\n",
    "R_recur_JJA_09 = np.mean(R_recur_JJA_09).reshape(-1,1)\n",
    "R_recur_JJA_10 = np.mean(R_recur_JJA_10).reshape(-1,1)\n",
    "R_recur_JJA_11 = np.mean(R_recur_JJA_11).reshape(-1,1)\n",
    "R_recur_JJA_12 = np.mean(R_recur_JJA_12).reshape(-1,1)\n",
    "R_recur_JJA_13 = np.mean(R_recur_JJA_13).reshape(-1,1)\n",
    "R_recur_JJA_14 = np.mean(R_recur_JJA_14).reshape(-1,1)\n",
    "R_recur_JJA_15 = np.mean(R_recur_JJA_15).reshape(-1,1)\n",
    "R_recur_JJA_16 = np.mean(R_recur_JJA_16).reshape(-1,1)\n",
    "R_recur_JJA_17 = np.mean(R_recur_JJA_17).reshape(-1,1)\n",
    "R_recur_JJA_18 = np.mean(R_recur_JJA_18).reshape(-1,1)\n",
    "R_recur_JJA_19 = np.mean(R_recur_JJA_19).reshape(-1,1)"
   ]
  },
  {
   "cell_type": "code",
   "execution_count": 57,
   "id": "e1813710",
   "metadata": {},
   "outputs": [
    {
     "data": {
      "text/plain": [
       "(1, 1)"
      ]
     },
     "execution_count": 57,
     "metadata": {},
     "output_type": "execute_result"
    }
   ],
   "source": [
    "Q_net_JJA_93.shape"
   ]
  },
  {
   "cell_type": "code",
   "execution_count": 58,
   "id": "349b0b4c",
   "metadata": {},
   "outputs": [
    {
     "data": {
      "text/plain": [
       "(1, 1)"
      ]
     },
     "execution_count": 58,
     "metadata": {},
     "output_type": "execute_result"
    }
   ],
   "source": [
    "ZAdv_JJA_10.shape"
   ]
  },
  {
   "cell_type": "code",
   "execution_count": null,
   "id": "2f5fd56b",
   "metadata": {},
   "outputs": [],
   "source": []
  },
  {
   "cell_type": "code",
   "execution_count": 59,
   "id": "0161ccc9",
   "metadata": {},
   "outputs": [
    {
     "data": {
      "text/plain": [
       "(27, 1)"
      ]
     },
     "execution_count": 59,
     "metadata": {},
     "output_type": "execute_result"
    }
   ],
   "source": [
    "Q_net_JJA_93_19 = np.concatenate((Q_net_JJA_93, Q_net_JJA_94, Q_net_JJA_95, Q_net_JJA_96,\n",
    "                                 Q_net_JJA_97, Q_net_JJA_98, Q_net_JJA_99, Q_net_JJA_00, Q_net_JJA_01,\n",
    "                                 Q_net_JJA_02, Q_net_JJA_03, Q_net_JJA_04, Q_net_JJA_05, Q_net_JJA_06,\n",
    "                                 Q_net_JJA_07, Q_net_JJA_08, Q_net_JJA_09, Q_net_JJA_10, Q_net_JJA_11,\n",
    "                                 Q_net_JJA_12, Q_net_JJA_13, Q_net_JJA_14, Q_net_JJA_15, Q_net_JJA_16,\n",
    "                                 Q_net_JJA_17, Q_net_JJA_18, Q_net_JJA_19), axis = 0)\n",
    "Q_net_JJA_93_19.shape"
   ]
  },
  {
   "cell_type": "code",
   "execution_count": 60,
   "id": "137b21b3",
   "metadata": {},
   "outputs": [
    {
     "data": {
      "text/plain": [
       "(27, 1)"
      ]
     },
     "execution_count": 60,
     "metadata": {},
     "output_type": "execute_result"
    }
   ],
   "source": [
    "ZAdv_JJA_93_19 = np.concatenate((ZAdv_JJA_93, ZAdv_JJA_94, ZAdv_JJA_95, ZAdv_JJA_96,\n",
    "                                 ZAdv_JJA_97, ZAdv_JJA_98, ZAdv_JJA_99, ZAdv_JJA_00, ZAdv_JJA_01,\n",
    "                                 ZAdv_JJA_02, ZAdv_JJA_03, ZAdv_JJA_04, ZAdv_JJA_05, ZAdv_JJA_06,\n",
    "                                 ZAdv_JJA_07, ZAdv_JJA_08, ZAdv_JJA_09, ZAdv_JJA_10, ZAdv_JJA_11,\n",
    "                                 ZAdv_JJA_12, ZAdv_JJA_13, ZAdv_JJA_14, ZAdv_JJA_15, ZAdv_JJA_16,\n",
    "                                 ZAdv_JJA_17, ZAdv_JJA_18, ZAdv_JJA_19), axis = 0)\n",
    "ZAdv_JJA_93_19.shape"
   ]
  },
  {
   "cell_type": "code",
   "execution_count": 61,
   "id": "f1e0e4ae",
   "metadata": {},
   "outputs": [
    {
     "data": {
      "text/plain": [
       "(27, 1)"
      ]
     },
     "execution_count": 61,
     "metadata": {},
     "output_type": "execute_result"
    }
   ],
   "source": [
    "MAdv_JJA_93_19 = np.concatenate((MAdv_JJA_93, MAdv_JJA_94, MAdv_JJA_95, MAdv_JJA_96,\n",
    "                                 MAdv_JJA_97, MAdv_JJA_98, MAdv_JJA_99, MAdv_JJA_00, MAdv_JJA_01,\n",
    "                                 MAdv_JJA_02, MAdv_JJA_03, MAdv_JJA_04, MAdv_JJA_05, MAdv_JJA_06,\n",
    "                                 MAdv_JJA_07, MAdv_JJA_08, MAdv_JJA_09, MAdv_JJA_10, MAdv_JJA_11,\n",
    "                                 MAdv_JJA_12, MAdv_JJA_13, MAdv_JJA_14, MAdv_JJA_15, MAdv_JJA_16,\n",
    "                                 MAdv_JJA_17, MAdv_JJA_18, MAdv_JJA_19), axis = 0)\n",
    "MAdv_JJA_93_19.shape"
   ]
  },
  {
   "cell_type": "code",
   "execution_count": 91,
   "id": "8e0d8c00",
   "metadata": {},
   "outputs": [
    {
     "data": {
      "text/plain": [
       "(92, 1)"
      ]
     },
     "execution_count": 91,
     "metadata": {},
     "output_type": "execute_result"
    }
   ],
   "source": [
    "VAdv_JJA_16.shape"
   ]
  },
  {
   "cell_type": "code",
   "execution_count": 93,
   "id": "f37c9707",
   "metadata": {},
   "outputs": [
    {
     "data": {
      "text/plain": [
       "(27, 1)"
      ]
     },
     "execution_count": 93,
     "metadata": {},
     "output_type": "execute_result"
    }
   ],
   "source": [
    "VAdv_JJA_93_19 = np.concatenate((VAdv_JJA_93, VAdv_JJA_94, VAdv_JJA_95, VAdv_JJA_96,\n",
    "                                 VAdv_JJA_97, VAdv_JJA_98, VAdv_JJA_99, VAdv_JJA_00, VAdv_JJA_01,\n",
    "                                 VAdv_JJA_02, VAdv_JJA_03, VAdv_JJA_04, VAdv_JJA_05, VAdv_JJA_06,\n",
    "                                 VAdv_JJA_07, VAdv_JJA_08, VAdv_JJA_09, VAdv_JJA_10, VAdv_JJA_11,\n",
    "                                 VAdv_JJA_12, VAdv_JJA_13, VAdv_JJA_14, VAdv_JJA_15, VAdv_JJA_16,\n",
    "                                 VAdv_JJA_17, VAdv_JJA_18, VAdv_JJA_19), axis = 0)\n",
    "VAdv_JJA_93_19.shape"
   ]
  },
  {
   "cell_type": "code",
   "execution_count": 63,
   "id": "31b4172d",
   "metadata": {},
   "outputs": [
    {
     "data": {
      "text/plain": [
       "(27, 1)"
      ]
     },
     "execution_count": 63,
     "metadata": {},
     "output_type": "execute_result"
    }
   ],
   "source": [
    "R_origin_JJA_93_19  = np.concatenate((R_origin_JJA_93 , R_origin_JJA_94, R_origin_JJA_95, R_origin_JJA_96,\n",
    "                                 R_origin_JJA_97, R_origin_JJA_98, R_origin_JJA_99, R_origin_JJA_00, R_origin_JJA_01,\n",
    "                                 R_origin_JJA_02, R_origin_JJA_03, R_origin_JJA_04, R_origin_JJA_05, R_origin_JJA_06,\n",
    "                                 R_origin_JJA_07, R_origin_JJA_08, R_origin_JJA_09, R_origin_JJA_10, R_origin_JJA_11,\n",
    "                                 R_origin_JJA_12, R_origin_JJA_13, R_origin_JJA_14, R_origin_JJA_15, R_origin_JJA_16,\n",
    "                                 R_origin_JJA_17, R_origin_JJA_18, R_origin_JJA_19), axis = 0)\n",
    "R_origin_JJA_93_19.shape"
   ]
  },
  {
   "cell_type": "code",
   "execution_count": 64,
   "id": "0f2ed026",
   "metadata": {},
   "outputs": [
    {
     "data": {
      "text/plain": [
       "(27, 1)"
      ]
     },
     "execution_count": 64,
     "metadata": {},
     "output_type": "execute_result"
    }
   ],
   "source": [
    "dT_dt_JJA_93_19  = np.concatenate((dT_dt_JJA_93 , dT_dt_JJA_94, dT_dt_JJA_95, dT_dt_JJA_96,\n",
    "                                 dT_dt_JJA_97, dT_dt_JJA_98, dT_dt_JJA_99, dT_dt_JJA_00, dT_dt_JJA_01,\n",
    "                                 dT_dt_JJA_02, dT_dt_JJA_03, dT_dt_JJA_04, dT_dt_JJA_05, dT_dt_JJA_06,\n",
    "                                 dT_dt_JJA_07, dT_dt_JJA_08, dT_dt_JJA_09, dT_dt_JJA_10, dT_dt_JJA_11,\n",
    "                                 dT_dt_JJA_12, dT_dt_JJA_13, dT_dt_JJA_14, dT_dt_JJA_15, dT_dt_JJA_16,\n",
    "                                 dT_dt_JJA_17, dT_dt_JJA_18, dT_dt_JJA_19), axis = 0)\n",
    "dT_dt_JJA_93_19.shape"
   ]
  },
  {
   "cell_type": "code",
   "execution_count": 65,
   "id": "57485607",
   "metadata": {},
   "outputs": [
    {
     "data": {
      "text/plain": [
       "(27, 1)"
      ]
     },
     "execution_count": 65,
     "metadata": {},
     "output_type": "execute_result"
    }
   ],
   "source": [
    "R_recur_JJA_93_19  = np.concatenate((R_recur_JJA_93 , R_recur_JJA_94, R_recur_JJA_95, R_recur_JJA_96,\n",
    "                                 R_recur_JJA_97, R_recur_JJA_98, R_recur_JJA_99, R_recur_JJA_00, R_recur_JJA_01,\n",
    "                                 R_recur_JJA_02, R_recur_JJA_03, R_recur_JJA_04, R_recur_JJA_05, R_recur_JJA_06,\n",
    "                                 R_recur_JJA_07, R_recur_JJA_08, R_recur_JJA_09, R_recur_JJA_10, R_recur_JJA_11,\n",
    "                                 R_recur_JJA_12, R_recur_JJA_13, R_recur_JJA_14, R_recur_JJA_15, R_recur_JJA_16,\n",
    "                                 R_recur_JJA_17, R_recur_JJA_18, R_recur_JJA_19), axis = 0)\n",
    "R_recur_JJA_93_19.shape"
   ]
  },
  {
   "cell_type": "code",
   "execution_count": null,
   "id": "b00fab36",
   "metadata": {},
   "outputs": [],
   "source": [
    "np.savez(r'D:\\heat_wave\\WEIO\\expand_WEIO\\last\\Figure1_MLD_eq\\MLD_equa_JJA.npz',\n",
    "        Q_net_JJA_93_19 = Q_net_JJA_93_19, ZAdv_JJA_93_19 = ZAdv_JJA_93_19,\n",
    "        MAdv_JJA_93_19 = MAdv_JJA_93_19, VAdv_JJA_93_19 = VAdv_JJA_93_19,\n",
    "        R_origin_JJA_93_19 = R_origin_JJA_93_19, dT_dt_JJA_93_19 = dT_dt_JJA_93_19,\n",
    "        R_recur_JJA_93_19 = R_recur_JJA_93_19)"
   ]
  },
  {
   "cell_type": "code",
   "execution_count": 110,
   "id": "7ee9c0cf",
   "metadata": {},
   "outputs": [
    {
     "data": {
      "image/png": "[encoded data removed]",
      "text/plain": [
       "<Figure size 432x288 with 1 Axes>"
      ]
     },
     "metadata": {
      "needs_background": "light"
     },
     "output_type": "display_data"
    }
   ],
   "source": [
    "import matplotlib.pyplot as plt\n",
    "\n",
    "# y坐标轴上的数据\n",
    "y1 = Q_net_JJA_93_19\n",
    "y2 = ZAdv_JJA_93_19\n",
    "y3 = MAdv_JJA_93_19\n",
    "y4 = VAdv_JJA_93_19\n",
    "y5 = R_origin_JJA_93_19\n",
    "y6 = dT_dt_JJA_93_19\n",
    "y7 = R_recur_JJA_93_19\n",
    "# 生成对应的x坐标轴上的数据\n",
    "x = list(range(len(y1)))\n",
    "\n",
    "# 绘制折线图\n",
    "\n",
    "plt.plot(x, y1, color = '#17BECF', label = 'Q_net')\n",
    "plt.plot(x, y2,  color = '#FF7F0E', label = 'ZAdv')\n",
    "plt.plot(x, y3, color = '#2CA02C', label = 'MAdv')\n",
    "plt.plot(x, y4, color = '#9467BD', label = 'VAdv')\n",
    "plt.plot(x, y5,  color = '#7F7F7F',label = 'R')\n",
    "plt.plot(x, y6,  color = '#D62728',label = 'Tend')\n",
    "plt.plot(x, y7,  color = '#1F77B4', label = 'R_r')\n",
    "# 添加图标题和坐标轴标签\n",
    "plt.title(\"JJA\")\n",
    "# plt.xlabel(\"\")\n",
    "plt.ylabel(\"Heat budget (℃)\")\n",
    "\n",
    "\n",
    "# plt.legend()\n",
    "\n",
    "# 显示图形\n",
    "plt.show()"
   ]
  },
  {
   "cell_type": "code",
   "execution_count": null,
   "id": "c1d7f932",
   "metadata": {},
   "outputs": [],
   "source": []
  }
 ],
 "metadata": {
  "kernelspec": {
   "display_name": "Python 3 (ipykernel)",
   "language": "python",
   "name": "python3"
  },
  "language_info": {
   "codemirror_mode": {
    "name": "ipython",
    "version": 3
   },
   "file_extension": ".py",
   "mimetype": "text/x-python",
   "name": "python",
   "nbconvert_exporter": "python",
   "pygments_lexer": "ipython3",
   "version": "3.8.12"
  }
 },
 "nbformat": 4,
 "nbformat_minor": 5
}

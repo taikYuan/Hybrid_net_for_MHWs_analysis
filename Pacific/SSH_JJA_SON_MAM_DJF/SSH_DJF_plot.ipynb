{
 "cells": [
  {
   "cell_type": "code",
   "execution_count": 1,
   "id": "979aacd0",
   "metadata": {},
   "outputs": [],
   "source": [
    "import random\n",
    "\n",
    "import numpy as np\n",
    "import torch\n",
    "from sklearn.metrics import mean_squared_error\n",
    "from sklearn.preprocessing import MinMaxScaler\n",
    "from torch import nn\n",
    "from tqdm import tqdm\n",
    "from torch.autograd import Variable\n",
    "from torch.utils.data import Dataset, DataLoader"
   ]
  },
  {
   "cell_type": "code",
   "execution_count": 2,
   "id": "668dfbbf",
   "metadata": {},
   "outputs": [
    {
     "name": "stdout",
     "output_type": "stream",
     "text": [
      "['time', 'lat', 'lon', 'sea_surface_height_above_geoid', 'surface_geostrophic_eastward_sea_water_velocity', 'surface_geostrophic_northward_sea_water_velocity', 'sea_surface_height_above_sea_level', 'surface_geostrophic_eastward_sea_water_velocity_assuming_sea_level_for_geoid', 'surface_geostrophic_northward_sea_water_velocity_assuming_sea_level_for_geoid']\n"
     ]
    }
   ],
   "source": [
    "data = np.load(r'D:\\heat_wave\\pacific\\last\\ssh\\ssh_93_19_expand_pacific_area.npz')\n",
    "print(data.files) # ['sst_obser', 'slfh', 'sshf', 'ssr', 'str', 'mld', 'analysis_temp', 'u', 'v', 'T_d', 'u_d', 'v_d', 'xx', 'yy', 'dT_dt', 'dT_dx', 'dT_dy']"
   ]
  },
  {
   "cell_type": "code",
   "execution_count": 3,
   "id": "19dc0d51",
   "metadata": {},
   "outputs": [],
   "source": [
    "sea_surface_height_above_geoid = data['sea_surface_height_above_geoid'][:]\n",
    "sea_surface_height_above_sea_level = data['sea_surface_height_above_sea_level'][:]"
   ]
  },
  {
   "cell_type": "code",
   "execution_count": 4,
   "id": "8f65a08e",
   "metadata": {},
   "outputs": [],
   "source": [
    "# DJF   93\n",
    "date_93_1 = 0\n",
    "date_93_2 = 59\n",
    "data_1 = date_93_1\n",
    "data_2 = date_93_2\n",
    "\n",
    "sea_surface_height_above_geoid_93 = sea_surface_height_above_geoid[data_1:data_2,:,:]\n",
    "sea_surface_height_above_sea_level_93 = sea_surface_height_above_sea_level[data_1:data_2,:,:]"
   ]
  },
  {
   "cell_type": "code",
   "execution_count": 5,
   "id": "ebd83919",
   "metadata": {},
   "outputs": [],
   "source": [
    "# DJF   94\n",
    "date_94_1 = 334\n",
    "date_94_2 = 424\n",
    "data_1 = date_94_1\n",
    "data_2 = date_94_2\n",
    "\n",
    "sea_surface_height_above_geoid_94 = sea_surface_height_above_geoid[data_1:data_2,:,:]\n",
    "sea_surface_height_above_sea_level_94 = sea_surface_height_above_sea_level[data_1:data_2,:,:]"
   ]
  },
  {
   "cell_type": "code",
   "execution_count": 6,
   "id": "720123d2",
   "metadata": {},
   "outputs": [],
   "source": [
    "# DJF   95\n",
    "date_95_1 = 699\n",
    "date_95_2 = 789\n",
    "data_1 = date_95_1\n",
    "data_2 = date_95_2\n",
    "\n",
    "sea_surface_height_above_geoid_95 = sea_surface_height_above_geoid[data_1:data_2,:,:]\n",
    "sea_surface_height_above_sea_level_95 = sea_surface_height_above_sea_level[data_1:data_2,:,:]"
   ]
  },
  {
   "cell_type": "code",
   "execution_count": 7,
   "id": "7a67acfe",
   "metadata": {},
   "outputs": [],
   "source": [
    "# DJF   96\n",
    "date_96_1 = 1064\n",
    "date_96_2 = 1155\n",
    "data_1 = date_96_1\n",
    "data_2 = date_96_2\n",
    "\n",
    "sea_surface_height_above_geoid_96 = sea_surface_height_above_geoid[data_1:data_2,:,:]\n",
    "sea_surface_height_above_sea_level_96 = sea_surface_height_above_sea_level[data_1:data_2,:,:]"
   ]
  },
  {
   "cell_type": "code",
   "execution_count": 8,
   "id": "b921b085",
   "metadata": {},
   "outputs": [],
   "source": [
    "# DJF   97\n",
    "date_97_1 = 1430\n",
    "date_97_2 = 1520\n",
    "data_1 = date_97_1\n",
    "data_2 = date_97_2\n",
    "\n",
    "sea_surface_height_above_geoid_97 = sea_surface_height_above_geoid[data_1:data_2,:,:]\n",
    "sea_surface_height_above_sea_level_97 = sea_surface_height_above_sea_level[data_1:data_2,:,:]"
   ]
  },
  {
   "cell_type": "code",
   "execution_count": 9,
   "id": "d5faf863",
   "metadata": {},
   "outputs": [],
   "source": [
    "# DJF   98\n",
    "date_98_1 = 1795\n",
    "date_98_2 = 1885\n",
    "data_1 = date_98_1\n",
    "data_2 = date_98_2\n",
    "\n",
    "sea_surface_height_above_geoid_98 = sea_surface_height_above_geoid[data_1:data_2,:,:]\n",
    "sea_surface_height_above_sea_level_98 = sea_surface_height_above_sea_level[data_1:data_2,:,:]"
   ]
  },
  {
   "cell_type": "code",
   "execution_count": 10,
   "id": "53585162",
   "metadata": {},
   "outputs": [],
   "source": [
    "# DJF   99\n",
    "date_99_1 = 2160\n",
    "date_99_2 = 2250\n",
    "data_1 = date_99_1\n",
    "data_2 = date_99_2\n",
    "\n",
    "sea_surface_height_above_geoid_99 = sea_surface_height_above_geoid[data_1:data_2,:,:]\n",
    "sea_surface_height_above_sea_level_99 = sea_surface_height_above_sea_level[data_1:data_2,:,:]"
   ]
  },
  {
   "cell_type": "code",
   "execution_count": 11,
   "id": "c2f4168f",
   "metadata": {},
   "outputs": [],
   "source": [
    "# DJF   00\n",
    "date_00_1 = 2525\n",
    "date_00_2 = 2616\n",
    "data_1 = date_00_1\n",
    "data_2 = date_00_2\n",
    "\n",
    "sea_surface_height_above_geoid_00 = sea_surface_height_above_geoid[data_1:data_2,:,:]\n",
    "sea_surface_height_above_sea_level_00 = sea_surface_height_above_sea_level[data_1:data_2,:,:]"
   ]
  },
  {
   "cell_type": "code",
   "execution_count": 12,
   "id": "56c4a983",
   "metadata": {},
   "outputs": [],
   "source": [
    "# DJF   01\n",
    "date_01_1 = 2891\n",
    "date_01_2 = 2981\n",
    "data_1 = date_01_1\n",
    "data_2 = date_01_2\n",
    "\n",
    "sea_surface_height_above_geoid_01 = sea_surface_height_above_geoid[data_1:data_2,:,:]\n",
    "sea_surface_height_above_sea_level_01 = sea_surface_height_above_sea_level[data_1:data_2,:,:]"
   ]
  },
  {
   "cell_type": "code",
   "execution_count": 13,
   "id": "4822e519",
   "metadata": {},
   "outputs": [],
   "source": [
    "# DJF   02\n",
    "date_02_1 = 3256\n",
    "date_02_2 = 3346\n",
    "data_1 = date_02_1\n",
    "data_2 = date_02_2\n",
    "\n",
    "sea_surface_height_above_geoid_02 = sea_surface_height_above_geoid[data_1:data_2,:,:]\n",
    "sea_surface_height_above_sea_level_02 = sea_surface_height_above_sea_level[data_1:data_2,:,:]"
   ]
  },
  {
   "cell_type": "code",
   "execution_count": 14,
   "id": "739bbe3d",
   "metadata": {},
   "outputs": [],
   "source": [
    "# DJF   03\n",
    "date_03_1 = 3621\n",
    "date_03_2 = 3711\n",
    "data_1 = date_03_1\n",
    "data_2 = date_03_2\n",
    "\n",
    "sea_surface_height_above_geoid_03 = sea_surface_height_above_geoid[data_1:data_2,:,:]\n",
    "sea_surface_height_above_sea_level_03 = sea_surface_height_above_sea_level[data_1:data_2,:,:]"
   ]
  },
  {
   "cell_type": "code",
   "execution_count": 15,
   "id": "ed8fb789",
   "metadata": {},
   "outputs": [],
   "source": [
    "# DJF   04\n",
    "date_04_1 = 3986\n",
    "date_04_2 = 4077\n",
    "data_1 = date_04_1\n",
    "data_2 = date_04_2\n",
    "\n",
    "sea_surface_height_above_geoid_04 = sea_surface_height_above_geoid[data_1:data_2,:,:]\n",
    "sea_surface_height_above_sea_level_04 = sea_surface_height_above_sea_level[data_1:data_2,:,:]"
   ]
  },
  {
   "cell_type": "code",
   "execution_count": 16,
   "id": "997e129b",
   "metadata": {},
   "outputs": [],
   "source": [
    "# DJF   05\n",
    "date_05_1 = 4352\n",
    "date_05_2 = 4442\n",
    "data_1 = date_05_1\n",
    "data_2 = date_05_2\n",
    "\n",
    "sea_surface_height_above_geoid_05 = sea_surface_height_above_geoid[data_1:data_2,:,:]\n",
    "sea_surface_height_above_sea_level_05 = sea_surface_height_above_sea_level[data_1:data_2,:,:]"
   ]
  },
  {
   "cell_type": "code",
   "execution_count": 17,
   "id": "3f22591d",
   "metadata": {},
   "outputs": [],
   "source": [
    "# DJF   06\n",
    "date_06_1 = 4717\n",
    "date_06_2 = 4807\n",
    "data_1 = date_06_1\n",
    "data_2 = date_06_2\n",
    "\n",
    "sea_surface_height_above_geoid_06 = sea_surface_height_above_geoid[data_1:data_2,:,:]\n",
    "sea_surface_height_above_sea_level_06 = sea_surface_height_above_sea_level[data_1:data_2,:,:]"
   ]
  },
  {
   "cell_type": "code",
   "execution_count": 18,
   "id": "136fce5a",
   "metadata": {},
   "outputs": [],
   "source": [
    "# DJF   07\n",
    "date_07_1 = 5082\n",
    "date_07_2 = 5172\n",
    "data_1 = date_07_1\n",
    "data_2 = date_07_2\n",
    "\n",
    "sea_surface_height_above_geoid_07 = sea_surface_height_above_geoid[data_1:data_2,:,:]\n",
    "sea_surface_height_above_sea_level_07 = sea_surface_height_above_sea_level[data_1:data_2,:,:]"
   ]
  },
  {
   "cell_type": "code",
   "execution_count": 19,
   "id": "fd4bcfab",
   "metadata": {},
   "outputs": [],
   "source": [
    "# DJF   08\n",
    "date_08_1 = 5447\n",
    "date_08_2 = 5538\n",
    "data_1 = date_08_1\n",
    "data_2 = date_08_2\n",
    "\n",
    "sea_surface_height_above_geoid_08 = sea_surface_height_above_geoid[data_1:data_2,:,:]\n",
    "sea_surface_height_above_sea_level_08 = sea_surface_height_above_sea_level[data_1:data_2,:,:]"
   ]
  },
  {
   "cell_type": "code",
   "execution_count": 20,
   "id": "f7ab3472",
   "metadata": {},
   "outputs": [],
   "source": [
    "# DJF   09\n",
    "date_09_1 = 5813\n",
    "date_09_2 = 5903\n",
    "data_1 = date_09_1\n",
    "data_2 = date_09_2\n",
    "\n",
    "sea_surface_height_above_geoid_09 = sea_surface_height_above_geoid[data_1:data_2,:,:]\n",
    "sea_surface_height_above_sea_level_09 = sea_surface_height_above_sea_level[data_1:data_2,:,:]"
   ]
  },
  {
   "cell_type": "code",
   "execution_count": 21,
   "id": "67c9bb88",
   "metadata": {},
   "outputs": [],
   "source": [
    "# DJF   10\n",
    "date_10_1 = 6178\n",
    "date_10_2 = 6268\n",
    "data_1 = date_10_1\n",
    "data_2 = date_10_2\n",
    "\n",
    "sea_surface_height_above_geoid_10 = sea_surface_height_above_geoid[data_1:data_2,:,:]\n",
    "sea_surface_height_above_sea_level_10 = sea_surface_height_above_sea_level[data_1:data_2,:,:]"
   ]
  },
  {
   "cell_type": "code",
   "execution_count": 22,
   "id": "c53975c4",
   "metadata": {},
   "outputs": [],
   "source": [
    "# DJF   11\n",
    "date_11_1 = 6543\n",
    "date_11_2 = 6633\n",
    "data_1 = date_11_1\n",
    "data_2 = date_11_2\n",
    "\n",
    "sea_surface_height_above_geoid_11 = sea_surface_height_above_geoid[data_1:data_2,:,:]\n",
    "sea_surface_height_above_sea_level_11 = sea_surface_height_above_sea_level[data_1:data_2,:,:]"
   ]
  },
  {
   "cell_type": "code",
   "execution_count": 23,
   "id": "4ccecad8",
   "metadata": {},
   "outputs": [],
   "source": [
    "# DJF   12\n",
    "date_12_1 = 6908\n",
    "date_12_2 = 6999\n",
    "data_1 = date_12_1\n",
    "data_2 = date_12_2\n",
    "\n",
    "sea_surface_height_above_geoid_12 = sea_surface_height_above_geoid[data_1:data_2,:,:]\n",
    "sea_surface_height_above_sea_level_12 = sea_surface_height_above_sea_level[data_1:data_2,:,:]"
   ]
  },
  {
   "cell_type": "code",
   "execution_count": 24,
   "id": "699084f7",
   "metadata": {},
   "outputs": [],
   "source": [
    "# DJF   13\n",
    "date_13_1 = 7274\n",
    "date_13_2 = 7364\n",
    "data_1 = date_13_1\n",
    "data_2 = date_13_2\n",
    "\n",
    "sea_surface_height_above_geoid_13 = sea_surface_height_above_geoid[data_1:data_2,:,:]\n",
    "sea_surface_height_above_sea_level_13 = sea_surface_height_above_sea_level[data_1:data_2,:,:]"
   ]
  },
  {
   "cell_type": "code",
   "execution_count": 25,
   "id": "d4697770",
   "metadata": {},
   "outputs": [],
   "source": [
    "# DJF   14\n",
    "date_14_1 = 7639\n",
    "date_14_2 = 7729\n",
    "data_1 = date_14_1\n",
    "data_2 = date_14_2\n",
    "\n",
    "sea_surface_height_above_geoid_14 = sea_surface_height_above_geoid[data_1:data_2,:,:]\n",
    "sea_surface_height_above_sea_level_14 = sea_surface_height_above_sea_level[data_1:data_2,:,:]"
   ]
  },
  {
   "cell_type": "code",
   "execution_count": 26,
   "id": "93cceb6e",
   "metadata": {},
   "outputs": [],
   "source": [
    "# DJF   15\n",
    "date_15_1 = 8004\n",
    "date_15_2 = 8094\n",
    "data_1 = date_15_1\n",
    "data_2 = date_15_2\n",
    "\n",
    "sea_surface_height_above_geoid_15 = sea_surface_height_above_geoid[data_1:data_2,:,:]\n",
    "sea_surface_height_above_sea_level_15 = sea_surface_height_above_sea_level[data_1:data_2,:,:]"
   ]
  },
  {
   "cell_type": "code",
   "execution_count": 27,
   "id": "c03e20dd",
   "metadata": {},
   "outputs": [],
   "source": [
    "# DJF   16\n",
    "date_16_1 = 8369\n",
    "date_16_2 = 8460\n",
    "data_1 = date_16_1\n",
    "data_2 = date_16_2\n",
    "\n",
    "sea_surface_height_above_geoid_16 = sea_surface_height_above_geoid[data_1:data_2,:,:]\n",
    "sea_surface_height_above_sea_level_16 = sea_surface_height_above_sea_level[data_1:data_2,:,:]"
   ]
  },
  {
   "cell_type": "code",
   "execution_count": 28,
   "id": "d74fe790",
   "metadata": {},
   "outputs": [],
   "source": [
    "# DJF   17\n",
    "date_17_1 = 8735\n",
    "date_17_2 = 8825\n",
    "data_1 = date_17_1\n",
    "data_2 = date_17_2\n",
    "\n",
    "sea_surface_height_above_geoid_17 = sea_surface_height_above_geoid[data_1:data_2,:,:]\n",
    "sea_surface_height_above_sea_level_17 = sea_surface_height_above_sea_level[data_1:data_2,:,:]"
   ]
  },
  {
   "cell_type": "code",
   "execution_count": 29,
   "id": "05e1a93b",
   "metadata": {},
   "outputs": [],
   "source": [
    "# DJF   18\n",
    "date_18_1 = 9100\n",
    "date_18_2 = 9190\n",
    "data_1 = date_18_1\n",
    "data_2 = date_18_2\n",
    "\n",
    "sea_surface_height_above_geoid_18 = sea_surface_height_above_geoid[data_1:data_2,:,:]\n",
    "sea_surface_height_above_sea_level_18 = sea_surface_height_above_sea_level[data_1:data_2,:,:]"
   ]
  },
  {
   "cell_type": "code",
   "execution_count": 30,
   "id": "dd87b003",
   "metadata": {},
   "outputs": [],
   "source": [
    "# DJF   19\n",
    "date_19_1 = 9452\n",
    "date_19_2 = 9542\n",
    "data_1 = date_19_1\n",
    "data_2 = date_19_2\n",
    "\n",
    "sea_surface_height_above_geoid_19 = sea_surface_height_above_geoid[data_1:data_2,:,:]\n",
    "sea_surface_height_above_sea_level_19 = sea_surface_height_above_sea_level[data_1:data_2,:,:]"
   ]
  },
  {
   "cell_type": "code",
   "execution_count": null,
   "id": "c86c4569",
   "metadata": {},
   "outputs": [],
   "source": []
  },
  {
   "cell_type": "code",
   "execution_count": 31,
   "id": "28a1e4af",
   "metadata": {},
   "outputs": [],
   "source": [
    "sea_surface_height_above_geoid_93_mean = np.mean((sea_surface_height_above_geoid_93), axis = (0,1,2)).reshape(-1,1)"
   ]
  },
  {
   "cell_type": "code",
   "execution_count": 32,
   "id": "007e6eaa",
   "metadata": {},
   "outputs": [],
   "source": [
    "sea_surface_height_above_geoid_94_mean = np.mean((sea_surface_height_above_geoid_94), axis = (0,1,2)).reshape(-1,1)\n",
    "sea_surface_height_above_geoid_95_mean = np.mean((sea_surface_height_above_geoid_95), axis = (0,1,2)).reshape(-1,1)\n",
    "sea_surface_height_above_geoid_96_mean = np.mean((sea_surface_height_above_geoid_96), axis = (0,1,2)).reshape(-1,1)\n",
    "sea_surface_height_above_geoid_97_mean = np.mean((sea_surface_height_above_geoid_97), axis = (0,1,2)).reshape(-1,1)\n",
    "sea_surface_height_above_geoid_98_mean = np.mean((sea_surface_height_above_geoid_98), axis = (0,1,2)).reshape(-1,1)\n",
    "sea_surface_height_above_geoid_99_mean = np.mean((sea_surface_height_above_geoid_99), axis = (0,1,2)).reshape(-1,1)\n",
    "sea_surface_height_above_geoid_00_mean = np.mean((sea_surface_height_above_geoid_00), axis = (0,1,2)).reshape(-1,1)\n",
    "sea_surface_height_above_geoid_01_mean = np.mean((sea_surface_height_above_geoid_01), axis = (0,1,2)).reshape(-1,1)\n",
    "sea_surface_height_above_geoid_02_mean = np.mean((sea_surface_height_above_geoid_02), axis = (0,1,2)).reshape(-1,1)\n",
    "sea_surface_height_above_geoid_03_mean = np.mean((sea_surface_height_above_geoid_03), axis = (0,1,2)).reshape(-1,1)\n",
    "sea_surface_height_above_geoid_04_mean = np.mean((sea_surface_height_above_geoid_04), axis = (0,1,2)).reshape(-1,1)\n",
    "sea_surface_height_above_geoid_05_mean = np.mean((sea_surface_height_above_geoid_05), axis = (0,1,2)).reshape(-1,1)\n",
    "sea_surface_height_above_geoid_06_mean = np.mean((sea_surface_height_above_geoid_06), axis = (0,1,2)).reshape(-1,1)\n",
    "sea_surface_height_above_geoid_07_mean = np.mean((sea_surface_height_above_geoid_07), axis = (0,1,2)).reshape(-1,1)\n",
    "sea_surface_height_above_geoid_08_mean = np.mean((sea_surface_height_above_geoid_08), axis = (0,1,2)).reshape(-1,1)\n",
    "sea_surface_height_above_geoid_09_mean = np.mean((sea_surface_height_above_geoid_09), axis = (0,1,2)).reshape(-1,1)\n",
    "sea_surface_height_above_geoid_10_mean = np.mean((sea_surface_height_above_geoid_10), axis = (0,1,2)).reshape(-1,1)\n",
    "sea_surface_height_above_geoid_11_mean = np.mean((sea_surface_height_above_geoid_11), axis = (0,1,2)).reshape(-1,1)\n",
    "sea_surface_height_above_geoid_12_mean = np.mean((sea_surface_height_above_geoid_12), axis = (0,1,2)).reshape(-1,1)\n",
    "sea_surface_height_above_geoid_13_mean = np.mean((sea_surface_height_above_geoid_13), axis = (0,1,2)).reshape(-1,1)\n",
    "sea_surface_height_above_geoid_14_mean = np.mean((sea_surface_height_above_geoid_14), axis = (0,1,2)).reshape(-1,1)\n",
    "sea_surface_height_above_geoid_15_mean = np.mean((sea_surface_height_above_geoid_15), axis = (0,1,2)).reshape(-1,1)\n",
    "sea_surface_height_above_geoid_16_mean = np.mean((sea_surface_height_above_geoid_16), axis = (0,1,2)).reshape(-1,1)\n",
    "sea_surface_height_above_geoid_17_mean = np.mean((sea_surface_height_above_geoid_17), axis = (0,1,2)).reshape(-1,1)\n",
    "sea_surface_height_above_geoid_18_mean = np.mean((sea_surface_height_above_geoid_18), axis = (0,1,2)).reshape(-1,1)\n",
    "sea_surface_height_above_geoid_19_mean = np.mean((sea_surface_height_above_geoid_19), axis = (0,1,2)).reshape(-1,1)"
   ]
  },
  {
   "cell_type": "code",
   "execution_count": 33,
   "id": "5ea383b4",
   "metadata": {},
   "outputs": [],
   "source": [
    "sea_surface_height_above_geoid_93_19_mean = np.concatenate((sea_surface_height_above_geoid_93,\n",
    "sea_surface_height_above_geoid_94, sea_surface_height_above_geoid_95, sea_surface_height_above_geoid_96,\n",
    "                                                           sea_surface_height_above_geoid_97, sea_surface_height_above_geoid_98,\n",
    "                                                           sea_surface_height_above_geoid_99, sea_surface_height_above_geoid_00,\n",
    "                                                           sea_surface_height_above_geoid_01, sea_surface_height_above_geoid_02,\n",
    "                                                           sea_surface_height_above_geoid_03, sea_surface_height_above_geoid_04,\n",
    "                                                           sea_surface_height_above_geoid_05, sea_surface_height_above_geoid_06,\n",
    "                                                           sea_surface_height_above_geoid_07, sea_surface_height_above_geoid_08,\n",
    "                                                           sea_surface_height_above_geoid_09, sea_surface_height_above_geoid_10,\n",
    "                                                           sea_surface_height_above_geoid_11, sea_surface_height_above_geoid_12,\n",
    "                                                           sea_surface_height_above_geoid_13, sea_surface_height_above_geoid_14,\n",
    "                                                           sea_surface_height_above_geoid_15, sea_surface_height_above_geoid_16,\n",
    "                                                           sea_surface_height_above_geoid_17, sea_surface_height_above_geoid_18,\n",
    "                                                           sea_surface_height_above_geoid_19), axis = 0)"
   ]
  },
  {
   "cell_type": "code",
   "execution_count": 34,
   "id": "fc6addbd",
   "metadata": {},
   "outputs": [],
   "source": [
    "sea_surface_height_above_geoid_93_19_mean = np.mean((sea_surface_height_above_geoid_93_19_mean), axis = (1,2))"
   ]
  },
  {
   "cell_type": "code",
   "execution_count": 35,
   "id": "6b5f7876",
   "metadata": {},
   "outputs": [],
   "source": [
    "sea_surface_height_above_geoid_93_19_mean_all = np.concatenate((sea_surface_height_above_geoid_93_mean,\n",
    "sea_surface_height_above_geoid_94_mean, sea_surface_height_above_geoid_95_mean, \n",
    "                                                                sea_surface_height_above_geoid_96_mean,\n",
    "                                                           sea_surface_height_above_geoid_97_mean, sea_surface_height_above_geoid_98_mean,\n",
    "                                                           sea_surface_height_above_geoid_99_mean, sea_surface_height_above_geoid_00_mean,\n",
    "                                                           sea_surface_height_above_geoid_01_mean, sea_surface_height_above_geoid_02_mean,\n",
    "                                                           sea_surface_height_above_geoid_03_mean, sea_surface_height_above_geoid_04_mean,\n",
    "                                                           sea_surface_height_above_geoid_05_mean, sea_surface_height_above_geoid_06_mean,\n",
    "                                                           sea_surface_height_above_geoid_07_mean, sea_surface_height_above_geoid_08_mean,\n",
    "                                                           sea_surface_height_above_geoid_09_mean, sea_surface_height_above_geoid_10_mean,\n",
    "                                                           sea_surface_height_above_geoid_11_mean, sea_surface_height_above_geoid_12_mean,\n",
    "                                                           sea_surface_height_above_geoid_13_mean, sea_surface_height_above_geoid_14_mean,\n",
    "                                                           sea_surface_height_above_geoid_15_mean, sea_surface_height_above_geoid_16_mean,\n",
    "                                                           sea_surface_height_above_geoid_17_mean, sea_surface_height_above_geoid_18_mean,\n",
    "                                                           sea_surface_height_above_geoid_19_mean), axis = 0)"
   ]
  },
  {
   "cell_type": "code",
   "execution_count": 36,
   "id": "9ad7ddf7",
   "metadata": {},
   "outputs": [],
   "source": [
    "sea_surface_height_above_sea_level_93_mean = np.mean((sea_surface_height_above_sea_level_93), axis = (0,1,2)).reshape(-1,1)\n",
    "sea_surface_height_above_sea_level_94_mean = np.mean((sea_surface_height_above_sea_level_94), axis = (0,1,2)).reshape(-1,1)\n",
    "sea_surface_height_above_sea_level_95_mean = np.mean((sea_surface_height_above_sea_level_95), axis = (0,1,2)).reshape(-1,1)\n",
    "sea_surface_height_above_sea_level_96_mean = np.mean((sea_surface_height_above_sea_level_96), axis = (0,1,2)).reshape(-1,1)\n",
    "sea_surface_height_above_sea_level_97_mean = np.mean((sea_surface_height_above_sea_level_97), axis = (0,1,2)).reshape(-1,1)\n",
    "sea_surface_height_above_sea_level_98_mean = np.mean((sea_surface_height_above_sea_level_98), axis = (0,1,2)).reshape(-1,1)\n",
    "sea_surface_height_above_sea_level_99_mean = np.mean((sea_surface_height_above_sea_level_99), axis = (0,1,2)).reshape(-1,1)\n",
    "sea_surface_height_above_sea_level_00_mean = np.mean((sea_surface_height_above_sea_level_00), axis = (0,1,2)).reshape(-1,1)\n",
    "sea_surface_height_above_sea_level_01_mean = np.mean((sea_surface_height_above_sea_level_01), axis = (0,1,2)).reshape(-1,1)\n",
    "sea_surface_height_above_sea_level_02_mean = np.mean((sea_surface_height_above_sea_level_02), axis = (0,1,2)).reshape(-1,1)\n",
    "sea_surface_height_above_sea_level_03_mean = np.mean((sea_surface_height_above_sea_level_03), axis = (0,1,2)).reshape(-1,1)\n",
    "sea_surface_height_above_sea_level_04_mean = np.mean((sea_surface_height_above_sea_level_04), axis = (0,1,2)).reshape(-1,1)\n",
    "sea_surface_height_above_sea_level_05_mean = np.mean((sea_surface_height_above_sea_level_05), axis = (0,1,2)).reshape(-1,1)\n",
    "sea_surface_height_above_sea_level_06_mean = np.mean((sea_surface_height_above_sea_level_06), axis = (0,1,2)).reshape(-1,1)\n",
    "sea_surface_height_above_sea_level_07_mean = np.mean((sea_surface_height_above_sea_level_07), axis = (0,1,2)).reshape(-1,1)\n",
    "sea_surface_height_above_sea_level_08_mean = np.mean((sea_surface_height_above_sea_level_08), axis = (0,1,2)).reshape(-1,1)\n",
    "sea_surface_height_above_sea_level_09_mean = np.mean((sea_surface_height_above_sea_level_09), axis = (0,1,2)).reshape(-1,1)\n",
    "sea_surface_height_above_sea_level_10_mean = np.mean((sea_surface_height_above_sea_level_10), axis = (0,1,2)).reshape(-1,1)\n",
    "sea_surface_height_above_sea_level_11_mean = np.mean((sea_surface_height_above_sea_level_11), axis = (0,1,2)).reshape(-1,1)\n",
    "sea_surface_height_above_sea_level_12_mean = np.mean((sea_surface_height_above_sea_level_12), axis = (0,1,2)).reshape(-1,1)\n",
    "sea_surface_height_above_sea_level_13_mean = np.mean((sea_surface_height_above_sea_level_13), axis = (0,1,2)).reshape(-1,1)\n",
    "sea_surface_height_above_sea_level_14_mean = np.mean((sea_surface_height_above_sea_level_14), axis = (0,1,2)).reshape(-1,1)\n",
    "sea_surface_height_above_sea_level_15_mean = np.mean((sea_surface_height_above_sea_level_15), axis = (0,1,2)).reshape(-1,1)\n",
    "sea_surface_height_above_sea_level_16_mean = np.mean((sea_surface_height_above_sea_level_16), axis = (0,1,2)).reshape(-1,1)\n",
    "sea_surface_height_above_sea_level_17_mean = np.mean((sea_surface_height_above_sea_level_17), axis = (0,1,2)).reshape(-1,1)\n",
    "sea_surface_height_above_sea_level_18_mean = np.mean((sea_surface_height_above_sea_level_18), axis = (0,1,2)).reshape(-1,1)\n",
    "sea_surface_height_above_sea_level_19_mean = np.mean((sea_surface_height_above_sea_level_19), axis = (0,1,2)).reshape(-1,1)"
   ]
  },
  {
   "cell_type": "code",
   "execution_count": 37,
   "id": "a70ca984",
   "metadata": {},
   "outputs": [],
   "source": [
    "sea_surface_height_above_sea_level_93_19_mean_all = np.concatenate((\n",
    "sea_surface_height_above_sea_level_93_mean, sea_surface_height_above_sea_level_94_mean,\n",
    "sea_surface_height_above_sea_level_95_mean, sea_surface_height_above_sea_level_96_mean,\n",
    "sea_surface_height_above_sea_level_97_mean, sea_surface_height_above_sea_level_98_mean,\n",
    "sea_surface_height_above_sea_level_99_mean, sea_surface_height_above_sea_level_00_mean,\n",
    "sea_surface_height_above_sea_level_01_mean, sea_surface_height_above_sea_level_02_mean,\n",
    "sea_surface_height_above_sea_level_03_mean, sea_surface_height_above_sea_level_04_mean,\n",
    "sea_surface_height_above_sea_level_05_mean, sea_surface_height_above_sea_level_06_mean,\n",
    "sea_surface_height_above_sea_level_07_mean, sea_surface_height_above_sea_level_08_mean,\n",
    "sea_surface_height_above_sea_level_09_mean, sea_surface_height_above_sea_level_10_mean,\n",
    "sea_surface_height_above_sea_level_11_mean, sea_surface_height_above_sea_level_12_mean,\n",
    "sea_surface_height_above_sea_level_13_mean, sea_surface_height_above_sea_level_14_mean,\n",
    "sea_surface_height_above_sea_level_15_mean, sea_surface_height_above_sea_level_16_mean,\n",
    "sea_surface_height_above_sea_level_17_mean, sea_surface_height_above_sea_level_18_mean,\n",
    "sea_surface_height_above_sea_level_19_mean), axis = 0)"
   ]
  },
  {
   "cell_type": "code",
   "execution_count": null,
   "id": "406e2781",
   "metadata": {},
   "outputs": [],
   "source": []
  },
  {
   "cell_type": "code",
   "execution_count": 38,
   "id": "e950b5ef",
   "metadata": {},
   "outputs": [],
   "source": [
    "# 去除MHW"
   ]
  },
  {
   "cell_type": "code",
   "execution_count": 39,
   "id": "811d7555",
   "metadata": {},
   "outputs": [],
   "source": [
    "sea_surface_height_above_geoid_93_19 = np.concatenate((sea_surface_height_above_geoid_93,\n",
    "                                                      sea_surface_height_above_geoid_94, sea_surface_height_above_geoid_95,\n",
    "                                                      sea_surface_height_above_geoid_96, sea_surface_height_above_geoid_97,\n",
    "                                                      sea_surface_height_above_geoid_98, sea_surface_height_above_geoid_99,\n",
    "                                                      sea_surface_height_above_geoid_00,\n",
    "                                                      sea_surface_height_above_geoid_01, sea_surface_height_above_geoid_02,\n",
    "                                                      sea_surface_height_above_geoid_03, sea_surface_height_above_geoid_04,\n",
    "                                                      sea_surface_height_above_geoid_05, sea_surface_height_above_geoid_06,\n",
    "                                                      sea_surface_height_above_geoid_07, sea_surface_height_above_geoid_08,\n",
    "                                                      sea_surface_height_above_geoid_09, sea_surface_height_above_geoid_10,\n",
    "                                                      sea_surface_height_above_geoid_11, sea_surface_height_above_geoid_12,\n",
    "                                                      sea_surface_height_above_geoid_13, sea_surface_height_above_geoid_14,\n",
    "                                                      sea_surface_height_above_geoid_15, sea_surface_height_above_geoid_16,\n",
    "                                                      sea_surface_height_above_geoid_17, sea_surface_height_above_geoid_18,\n",
    "                                                      sea_surface_height_above_geoid_19),axis = 0)"
   ]
  },
  {
   "cell_type": "code",
   "execution_count": 40,
   "id": "546df429",
   "metadata": {},
   "outputs": [],
   "source": [
    "sea_surface_height_above_sea_level_93_19 = np.concatenate((sea_surface_height_above_sea_level_93,\n",
    "sea_surface_height_above_sea_level_94, sea_surface_height_above_sea_level_95,\n",
    "                                                          sea_surface_height_above_sea_level_96, sea_surface_height_above_sea_level_97,\n",
    "                                                          sea_surface_height_above_sea_level_98, sea_surface_height_above_sea_level_99,\n",
    "                                                          sea_surface_height_above_sea_level_00, sea_surface_height_above_sea_level_01,\n",
    "                                                          sea_surface_height_above_sea_level_02, sea_surface_height_above_sea_level_03,\n",
    "                                                          sea_surface_height_above_sea_level_04, sea_surface_height_above_sea_level_05,\n",
    "                                                          sea_surface_height_above_sea_level_06, sea_surface_height_above_sea_level_07,\n",
    "                                                          sea_surface_height_above_sea_level_08, sea_surface_height_above_sea_level_09,\n",
    "                                                          sea_surface_height_above_sea_level_10, sea_surface_height_above_sea_level_11,\n",
    "                                                          sea_surface_height_above_sea_level_12, sea_surface_height_above_sea_level_13,\n",
    "                                                          sea_surface_height_above_sea_level_14, sea_surface_height_above_sea_level_15,\n",
    "                                                          sea_surface_height_above_sea_level_16, sea_surface_height_above_sea_level_17,\n",
    "                                                          sea_surface_height_above_sea_level_18, sea_surface_height_above_sea_level_19),axis = 0)"
   ]
  },
  {
   "cell_type": "code",
   "execution_count": 41,
   "id": "1f5e0cdf",
   "metadata": {},
   "outputs": [],
   "source": [
    "sea_surface_height_above_geoid_93_19_mean = np.mean((sea_surface_height_above_geoid_93_19), axis = (1,2)).reshape(-1,1)"
   ]
  },
  {
   "cell_type": "code",
   "execution_count": 42,
   "id": "ebd4bb98",
   "metadata": {},
   "outputs": [
    {
     "data": {
      "text/plain": [
       "(2405, 1)"
      ]
     },
     "execution_count": 42,
     "metadata": {},
     "output_type": "execute_result"
    }
   ],
   "source": [
    "sea_surface_height_above_geoid_93_19_mean.shape"
   ]
  },
  {
   "cell_type": "code",
   "execution_count": 43,
   "id": "98186ab4",
   "metadata": {},
   "outputs": [],
   "source": [
    "sea_surface_height_above_sea_level_93_19_mean = np.mean((sea_surface_height_above_sea_level_93_19), axis = (1,2)).reshape(-1,1)"
   ]
  },
  {
   "cell_type": "code",
   "execution_count": 44,
   "id": "fc523c9f",
   "metadata": {},
   "outputs": [
    {
     "data": {
      "text/plain": [
       "(2405, 1)"
      ]
     },
     "execution_count": 44,
     "metadata": {},
     "output_type": "execute_result"
    }
   ],
   "source": [
    "sea_surface_height_above_sea_level_93_19_mean.shape"
   ]
  },
  {
   "cell_type": "code",
   "execution_count": 45,
   "id": "2c7d34c5",
   "metadata": {},
   "outputs": [],
   "source": [
    "sea_surface_height_above_geoid_DJF_93 = np.mean(sea_surface_height_above_geoid_93_19_mean[:59]).reshape(-1,1)\n",
    "sea_surface_height_above_geoid_DJF_94 = np.mean(sea_surface_height_above_geoid_93_19_mean[59:149]).reshape(-1,1)\n",
    "sea_surface_height_above_geoid_DJF_95 = np.mean(sea_surface_height_above_geoid_93_19_mean[149:239]).reshape(-1,1)\n",
    "sea_surface_height_above_geoid_DJF_96 = np.mean(sea_surface_height_above_geoid_93_19_mean[239:330]).reshape(-1,1)\n",
    "sea_surface_height_above_geoid_DJF_97 = np.mean(sea_surface_height_above_geoid_93_19_mean[330:420]).reshape(-1,1)\n",
    "sea_surface_height_above_geoid_DJF_98_1 = sea_surface_height_above_geoid_93_19_mean[420:444].reshape(-1,1)\n",
    "sea_surface_height_above_geoid_DJF_98_2 = sea_surface_height_above_geoid_93_19_mean[459:466].reshape(-1,1)\n",
    "sea_surface_height_above_geoid_DJF_98_3 = sea_surface_height_above_geoid_93_19_mean[490:497].reshape(-1,1)\n",
    "sea_surface_height_above_geoid_DJF_98 = np.mean(np.concatenate((sea_surface_height_above_geoid_DJF_98_1, sea_surface_height_above_geoid_DJF_98_2, sea_surface_height_above_geoid_DJF_98_3), axis = 0)).reshape(-1,1)\n",
    "sea_surface_height_above_geoid_DJF_99 = np.mean(sea_surface_height_above_geoid_93_19_mean[510:600]).reshape(-1,1)\n",
    "sea_surface_height_above_geoid_DJF_00 = np.mean(sea_surface_height_above_geoid_93_19_mean[600:691]).reshape(-1,1)\n",
    "sea_surface_height_above_geoid_DJF_01 = np.mean(sea_surface_height_above_geoid_93_19_mean[691:781]).reshape(-1,1)\n",
    "sea_surface_height_above_geoid_DJF_02 = np.mean(sea_surface_height_above_geoid_93_19_mean[781:871]).reshape(-1,1)\n",
    "sea_surface_height_above_geoid_DJF_03 = np.mean(sea_surface_height_above_geoid_93_19_mean[871:961]).reshape(-1,1)\n",
    "sea_surface_height_above_geoid_DJF_04 = np.mean(sea_surface_height_above_geoid_93_19_mean[961:1052]).reshape(-1,1)\n",
    "sea_surface_height_above_geoid_DJF_05 = np.mean(sea_surface_height_above_geoid_93_19_mean[1052:1142]).reshape(-1,1)\n",
    "sea_surface_height_above_geoid_DJF_06 = np.mean(sea_surface_height_above_geoid_93_19_mean[1142:1232]).reshape(-1,1)\n",
    "sea_surface_height_above_geoid_DJF_07_1 = sea_surface_height_above_geoid_93_19_mean[1232:1284].reshape(-1,1)\n",
    "sea_surface_height_above_geoid_DJF_07_2 = sea_surface_height_above_geoid_93_19_mean[1289:1322].reshape(-1,1)\n",
    "sea_surface_height_above_geoid_DJF_07 = np.mean(np.concatenate((sea_surface_height_above_geoid_DJF_07_1, sea_surface_height_above_geoid_DJF_07_2), axis = 0)).reshape(-1,1)\n",
    "sea_surface_height_above_geoid_DJF_08 = np.mean(sea_surface_height_above_geoid_93_19_mean[1322:1413]).reshape(-1,1)\n",
    "sea_surface_height_above_geoid_DJF_09 = np.mean(sea_surface_height_above_geoid_93_19_mean[1413:1503]).reshape(-1,1)\n",
    "sea_surface_height_above_geoid_DJF_10_1 = sea_surface_height_above_geoid_93_19_mean[1503:1507].reshape(-1,1)\n",
    "sea_surface_height_above_geoid_DJF_10_2 = sea_surface_height_above_geoid_93_19_mean[1523:1547].reshape(-1,1)\n",
    "sea_surface_height_above_geoid_DJF_10_3 = sea_surface_height_above_geoid_93_19_mean[1570:1577].reshape(-1,1)\n",
    "sea_surface_height_above_geoid_DJF_10 = np.mean(np.concatenate((sea_surface_height_above_geoid_DJF_10_1, sea_surface_height_above_geoid_DJF_10_2, sea_surface_height_above_geoid_DJF_10_3), axis = 0)).reshape(-1,1)\n",
    "sea_surface_height_above_geoid_DJF_11 = np.mean(sea_surface_height_above_geoid_93_19_mean[1594:1684]).reshape(-1,1)\n",
    "sea_surface_height_above_geoid_DJF_12 = np.mean(sea_surface_height_above_geoid_93_19_mean[1684:1774]).reshape(-1,1)\n",
    "sea_surface_height_above_geoid_DJF_13_1 = sea_surface_height_above_geoid_93_19_mean[1774:1784].reshape(-1,1)\n",
    "sea_surface_height_above_geoid_DJF_13_2 = sea_surface_height_above_geoid_93_19_mean[1794:1812].reshape(-1,1)\n",
    "sea_surface_height_above_geoid_DJF_13_3 = sea_surface_height_above_geoid_93_19_mean[1820:1864].reshape(-1,1)\n",
    "sea_surface_height_above_geoid_DJF_13 = np.mean(np.concatenate((sea_surface_height_above_geoid_DJF_13_1, sea_surface_height_above_geoid_DJF_13_2, sea_surface_height_above_geoid_DJF_13_3), axis = 0)).reshape(-1,1)\n",
    "sea_surface_height_above_geoid_DJF_14 = np.mean(sea_surface_height_above_geoid_93_19_mean[1864:1955]).reshape(-1,1)\n",
    "sea_surface_height_above_geoid_DJF_15 = np.mean(sea_surface_height_above_geoid_93_19_mean[1958:2045]).reshape(-1,1)\n",
    "sea_surface_height_above_geoid_DJF_17 = np.mean(sea_surface_height_above_geoid_93_19_mean[2135:2225]).reshape(-1,1)\n",
    "sea_surface_height_above_geoid_DJF_18 = np.mean(sea_surface_height_above_geoid_93_19_mean[2225:2315]).reshape(-1,1)\n",
    "sea_surface_height_above_geoid_DJF_19_1 = sea_surface_height_above_geoid_93_19_mean[2325:2363].reshape(-1,1)\n",
    "sea_surface_height_above_geoid_DJF_19_2 = sea_surface_height_above_geoid_93_19_mean[2369:2393].reshape(-1,1)\n",
    "sea_surface_height_above_geoid_DJF_19_3 = sea_surface_height_above_geoid_93_19_mean[2398:].reshape(-1,1)\n",
    "sea_surface_height_above_geoid_DJF_19 = np.mean(np.concatenate((sea_surface_height_above_geoid_DJF_19_1, sea_surface_height_above_geoid_DJF_19_2, sea_surface_height_above_geoid_DJF_19_3), axis = 0)).reshape(-1,1)"
   ]
  },
  {
   "cell_type": "code",
   "execution_count": 46,
   "id": "689c92b5",
   "metadata": {},
   "outputs": [],
   "source": [
    "sea_surface_height_above_geoid_DJF_93_19_without_MHW_mean = np.concatenate((\n",
    "sea_surface_height_above_geoid_DJF_93, sea_surface_height_above_geoid_DJF_94,\n",
    "sea_surface_height_above_geoid_DJF_95, sea_surface_height_above_geoid_DJF_96,\n",
    "sea_surface_height_above_geoid_DJF_97, sea_surface_height_above_geoid_DJF_98,\n",
    "sea_surface_height_above_geoid_DJF_99, sea_surface_height_above_geoid_DJF_00,\n",
    "sea_surface_height_above_geoid_DJF_01, sea_surface_height_above_geoid_DJF_02,\n",
    "sea_surface_height_above_geoid_DJF_03, sea_surface_height_above_geoid_DJF_04,\n",
    "sea_surface_height_above_geoid_DJF_05, sea_surface_height_above_geoid_DJF_06,\n",
    "sea_surface_height_above_geoid_DJF_07, sea_surface_height_above_geoid_DJF_08,\n",
    "sea_surface_height_above_geoid_DJF_09, sea_surface_height_above_geoid_DJF_10,\n",
    "sea_surface_height_above_geoid_DJF_11, sea_surface_height_above_geoid_DJF_12,\n",
    "sea_surface_height_above_geoid_DJF_13, sea_surface_height_above_geoid_DJF_14,\n",
    "sea_surface_height_above_geoid_DJF_15,\n",
    "sea_surface_height_above_geoid_DJF_17, sea_surface_height_above_geoid_DJF_18,\n",
    "sea_surface_height_above_geoid_DJF_19), axis = 0).reshape(-1,1)"
   ]
  },
  {
   "cell_type": "code",
   "execution_count": null,
   "id": "f37a63e4",
   "metadata": {},
   "outputs": [],
   "source": []
  },
  {
   "cell_type": "code",
   "execution_count": 47,
   "id": "a43345fc",
   "metadata": {},
   "outputs": [],
   "source": [
    "sea_surface_height_above_sea_level_DJF_93 = np.mean(sea_surface_height_above_sea_level_93_19_mean[:59]).reshape(-1,1)\n",
    "sea_surface_height_above_sea_level_DJF_94 = np.mean(sea_surface_height_above_sea_level_93_19_mean[59:149]).reshape(-1,1)\n",
    "sea_surface_height_above_sea_level_DJF_95 = np.mean(sea_surface_height_above_sea_level_93_19_mean[149:239]).reshape(-1,1)\n",
    "sea_surface_height_above_sea_level_DJF_96 = np.mean(sea_surface_height_above_sea_level_93_19_mean[239:330]).reshape(-1,1)\n",
    "sea_surface_height_above_sea_level_DJF_97 = np.mean(sea_surface_height_above_sea_level_93_19_mean[330:420]).reshape(-1,1)\n",
    "sea_surface_height_above_sea_level_DJF_98_1 = sea_surface_height_above_sea_level_93_19_mean[420:444].reshape(-1,1)\n",
    "sea_surface_height_above_sea_level_DJF_98_2 = sea_surface_height_above_sea_level_93_19_mean[459:466].reshape(-1,1)\n",
    "sea_surface_height_above_sea_level_DJF_98_3 = sea_surface_height_above_sea_level_93_19_mean[490:497].reshape(-1,1)\n",
    "sea_surface_height_above_sea_level_DJF_98 = np.mean(np.concatenate((sea_surface_height_above_sea_level_DJF_98_1, sea_surface_height_above_sea_level_DJF_98_2, sea_surface_height_above_sea_level_DJF_98_3), axis = 0)).reshape(-1,1)\n",
    "sea_surface_height_above_sea_level_DJF_99 = np.mean(sea_surface_height_above_sea_level_93_19_mean[510:600]).reshape(-1,1)\n",
    "sea_surface_height_above_sea_level_DJF_00 = np.mean(sea_surface_height_above_sea_level_93_19_mean[600:691]).reshape(-1,1)\n",
    "sea_surface_height_above_sea_level_DJF_01 = np.mean(sea_surface_height_above_sea_level_93_19_mean[691:781]).reshape(-1,1)\n",
    "sea_surface_height_above_sea_level_DJF_02 = np.mean(sea_surface_height_above_sea_level_93_19_mean[781:871]).reshape(-1,1)\n",
    "sea_surface_height_above_sea_level_DJF_03 = np.mean(sea_surface_height_above_sea_level_93_19_mean[871:961]).reshape(-1,1)\n",
    "sea_surface_height_above_sea_level_DJF_04 = np.mean(sea_surface_height_above_sea_level_93_19_mean[961:1052]).reshape(-1,1)\n",
    "sea_surface_height_above_sea_level_DJF_05 = np.mean(sea_surface_height_above_sea_level_93_19_mean[1052:1142]).reshape(-1,1)\n",
    "sea_surface_height_above_sea_level_DJF_06 = np.mean(sea_surface_height_above_sea_level_93_19_mean[1142:1232]).reshape(-1,1)\n",
    "sea_surface_height_above_sea_level_DJF_07_1 = sea_surface_height_above_sea_level_93_19_mean[1232:1284].reshape(-1,1)\n",
    "sea_surface_height_above_sea_level_DJF_07_2 = sea_surface_height_above_sea_level_93_19_mean[1289:1322].reshape(-1,1)\n",
    "sea_surface_height_above_sea_level_DJF_07 = np.mean(np.concatenate((sea_surface_height_above_sea_level_DJF_07_1, sea_surface_height_above_sea_level_DJF_07_2), axis = 0)).reshape(-1,1)\n",
    "sea_surface_height_above_sea_level_DJF_08 = np.mean(sea_surface_height_above_sea_level_93_19_mean[1322:1413]).reshape(-1,1)\n",
    "sea_surface_height_above_sea_level_DJF_09 = np.mean(sea_surface_height_above_sea_level_93_19_mean[1413:1503]).reshape(-1,1)\n",
    "sea_surface_height_above_sea_level_DJF_10_1 = sea_surface_height_above_sea_level_93_19_mean[1503:1507].reshape(-1,1)\n",
    "sea_surface_height_above_sea_level_DJF_10_2 = sea_surface_height_above_sea_level_93_19_mean[1523:1547].reshape(-1,1)\n",
    "sea_surface_height_above_sea_level_DJF_10_3 = sea_surface_height_above_sea_level_93_19_mean[1570:1577].reshape(-1,1)\n",
    "sea_surface_height_above_sea_level_DJF_10 = np.mean(np.concatenate((sea_surface_height_above_sea_level_DJF_10_1, sea_surface_height_above_sea_level_DJF_10_2, sea_surface_height_above_sea_level_DJF_10_3), axis = 0)).reshape(-1,1)\n",
    "sea_surface_height_above_sea_level_DJF_11 = np.mean(sea_surface_height_above_sea_level_93_19_mean[1594:1684]).reshape(-1,1)\n",
    "sea_surface_height_above_sea_level_DJF_12 = np.mean(sea_surface_height_above_sea_level_93_19_mean[1684:1774]).reshape(-1,1)\n",
    "sea_surface_height_above_sea_level_DJF_13_1 = sea_surface_height_above_sea_level_93_19_mean[1774:1784].reshape(-1,1)\n",
    "sea_surface_height_above_sea_level_DJF_13_2 = sea_surface_height_above_sea_level_93_19_mean[1794:1812].reshape(-1,1)\n",
    "sea_surface_height_above_sea_level_DJF_13_3 = sea_surface_height_above_sea_level_93_19_mean[1820:1864].reshape(-1,1)\n",
    "sea_surface_height_above_sea_level_DJF_13 = np.mean(np.concatenate((sea_surface_height_above_sea_level_DJF_13_1, sea_surface_height_above_sea_level_DJF_13_2, sea_surface_height_above_sea_level_DJF_13_3), axis = 0)).reshape(-1,1)\n",
    "sea_surface_height_above_sea_level_DJF_14 = np.mean(sea_surface_height_above_sea_level_93_19_mean[1864:1955]).reshape(-1,1)\n",
    "sea_surface_height_above_sea_level_DJF_15 = np.mean(sea_surface_height_above_sea_level_93_19_mean[1958:2045]).reshape(-1,1)\n",
    "sea_surface_height_above_sea_level_DJF_17 = np.mean(sea_surface_height_above_sea_level_93_19_mean[2135:2225]).reshape(-1,1)\n",
    "sea_surface_height_above_sea_level_DJF_18 = np.mean(sea_surface_height_above_sea_level_93_19_mean[2225:2315]).reshape(-1,1)\n",
    "sea_surface_height_above_sea_level_DJF_19_1 = sea_surface_height_above_sea_level_93_19_mean[2325:2363].reshape(-1,1)\n",
    "sea_surface_height_above_sea_level_DJF_19_2 = sea_surface_height_above_sea_level_93_19_mean[2369:2393].reshape(-1,1)\n",
    "sea_surface_height_above_sea_level_DJF_19_3 = sea_surface_height_above_sea_level_93_19_mean[2398:].reshape(-1,1)\n",
    "sea_surface_height_above_sea_level_DJF_19 = np.mean(np.concatenate((sea_surface_height_above_sea_level_DJF_19_1, sea_surface_height_above_sea_level_DJF_19_2, sea_surface_height_above_sea_level_DJF_19_3), axis = 0)).reshape(-1,1)"
   ]
  },
  {
   "cell_type": "code",
   "execution_count": 48,
   "id": "b806919d",
   "metadata": {},
   "outputs": [],
   "source": [
    "sea_surface_height_above_sea_level_DJF_93_19_without_MHW_mean = np.concatenate((\n",
    "sea_surface_height_above_sea_level_DJF_93, sea_surface_height_above_sea_level_DJF_94,\n",
    "sea_surface_height_above_sea_level_DJF_95, sea_surface_height_above_sea_level_DJF_96,\n",
    "sea_surface_height_above_sea_level_DJF_97, sea_surface_height_above_sea_level_DJF_98,\n",
    "sea_surface_height_above_sea_level_DJF_99, sea_surface_height_above_sea_level_DJF_00,\n",
    "sea_surface_height_above_sea_level_DJF_01, sea_surface_height_above_sea_level_DJF_02,\n",
    "sea_surface_height_above_sea_level_DJF_03, sea_surface_height_above_sea_level_DJF_04,\n",
    "sea_surface_height_above_sea_level_DJF_05, sea_surface_height_above_sea_level_DJF_06,\n",
    "sea_surface_height_above_sea_level_DJF_07, sea_surface_height_above_sea_level_DJF_08,\n",
    "sea_surface_height_above_sea_level_DJF_09, sea_surface_height_above_sea_level_DJF_10,\n",
    "sea_surface_height_above_sea_level_DJF_11, sea_surface_height_above_sea_level_DJF_12,\n",
    "sea_surface_height_above_sea_level_DJF_13, sea_surface_height_above_sea_level_DJF_14,\n",
    "sea_surface_height_above_sea_level_DJF_15, \n",
    "sea_surface_height_above_sea_level_DJF_17, sea_surface_height_above_sea_level_DJF_18,\n",
    "sea_surface_height_above_sea_level_DJF_19), axis = 0).reshape(-1,1)"
   ]
  },
  {
   "cell_type": "code",
   "execution_count": null,
   "id": "d76e28a3",
   "metadata": {},
   "outputs": [],
   "source": []
  },
  {
   "cell_type": "code",
   "execution_count": null,
   "id": "c4e10e34",
   "metadata": {},
   "outputs": [],
   "source": []
  },
  {
   "cell_type": "code",
   "execution_count": 49,
   "id": "639bbe92",
   "metadata": {},
   "outputs": [
    {
     "data": {
      "text/plain": [
       "(27, 1)"
      ]
     },
     "execution_count": 49,
     "metadata": {},
     "output_type": "execute_result"
    }
   ],
   "source": [
    "sea_surface_height_above_geoid_93_19_mean_all.shape"
   ]
  },
  {
   "cell_type": "code",
   "execution_count": 50,
   "id": "3f19e49d",
   "metadata": {},
   "outputs": [
    {
     "data": {
      "text/plain": [
       "(27, 1)"
      ]
     },
     "execution_count": 50,
     "metadata": {},
     "output_type": "execute_result"
    }
   ],
   "source": [
    "sea_surface_height_above_sea_level_93_19_mean_all.shape"
   ]
  },
  {
   "cell_type": "code",
   "execution_count": 51,
   "id": "0810118b",
   "metadata": {},
   "outputs": [
    {
     "data": {
      "text/plain": [
       "(26, 1)"
      ]
     },
     "execution_count": 51,
     "metadata": {},
     "output_type": "execute_result"
    }
   ],
   "source": [
    "sea_surface_height_above_geoid_DJF_93_19_without_MHW_mean.shape"
   ]
  },
  {
   "cell_type": "code",
   "execution_count": 52,
   "id": "bdee9c84",
   "metadata": {},
   "outputs": [
    {
     "data": {
      "text/plain": [
       "(26, 1)"
      ]
     },
     "execution_count": 52,
     "metadata": {},
     "output_type": "execute_result"
    }
   ],
   "source": [
    "sea_surface_height_above_sea_level_DJF_93_19_without_MHW_mean.shape"
   ]
  },
  {
   "cell_type": "code",
   "execution_count": 53,
   "id": "c5afb580",
   "metadata": {},
   "outputs": [],
   "source": [
    "np.savez(r'D:\\heat_wave\\pacific\\last\\ssh\\SSH_DJF_Plot_with_without_MHW.npz',\n",
    "        sea_surface_height_above_geoid_93_19_mean_all = sea_surface_height_above_geoid_93_19_mean_all,\n",
    "        sea_surface_height_above_sea_level_93_19_mean_all = sea_surface_height_above_sea_level_93_19_mean_all,\n",
    "        sea_surface_height_above_geoid_DJF_93_19_without_MHW_mean = sea_surface_height_above_geoid_DJF_93_19_without_MHW_mean,\n",
    "        sea_surface_height_above_sea_level_DJF_93_19_without_MHW_mean = sea_surface_height_above_sea_level_DJF_93_19_without_MHW_mean)"
   ]
  },
  {
   "cell_type": "code",
   "execution_count": null,
   "id": "d746f19a",
   "metadata": {},
   "outputs": [],
   "source": []
  }
 ],
 "metadata": {
  "kernelspec": {
   "display_name": "Python 3 (ipykernel)",
   "language": "python",
   "name": "python3"
  },
  "language_info": {
   "codemirror_mode": {
    "name": "ipython",
    "version": 3
   },
   "file_extension": ".py",
   "mimetype": "text/x-python",
   "name": "python",
   "nbconvert_exporter": "python",
   "pygments_lexer": "ipython3",
   "version": "3.8.18"
  }
 },
 "nbformat": 4,
 "nbformat_minor": 5
}

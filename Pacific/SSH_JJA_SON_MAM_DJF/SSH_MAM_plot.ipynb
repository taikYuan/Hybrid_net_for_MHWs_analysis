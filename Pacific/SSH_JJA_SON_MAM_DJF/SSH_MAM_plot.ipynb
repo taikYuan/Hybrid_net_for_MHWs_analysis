{
 "cells": [
  {
   "cell_type": "code",
   "execution_count": 1,
   "id": "5e115d96",
   "metadata": {},
   "outputs": [],
   "source": [
    "import random\n",
    "\n",
    "import numpy as np\n",
    "import torch\n",
    "from sklearn.metrics import mean_squared_error\n",
    "from sklearn.preprocessing import MinMaxScaler\n",
    "from torch import nn\n",
    "from tqdm import tqdm\n",
    "from torch.autograd import Variable\n",
    "from torch.utils.data import Dataset, DataLoader"
   ]
  },
  {
   "cell_type": "code",
   "execution_count": 2,
   "id": "f37951bf",
   "metadata": {},
   "outputs": [
    {
     "name": "stdout",
     "output_type": "stream",
     "text": [
      "['time', 'lat', 'lon', 'sea_surface_height_above_geoid', 'surface_geostrophic_eastward_sea_water_velocity', 'surface_geostrophic_northward_sea_water_velocity', 'sea_surface_height_above_sea_level', 'surface_geostrophic_eastward_sea_water_velocity_assuming_sea_level_for_geoid', 'surface_geostrophic_northward_sea_water_velocity_assuming_sea_level_for_geoid']\n"
     ]
    }
   ],
   "source": [
    "data = np.load(r'D:\\heat_wave\\pacific\\last\\ssh\\ssh_93_19_expand_pacific_area.npz')\n",
    "print(data.files) # ['sst_obser', 'slfh', 'sshf', 'ssr', 'str', 'mld', 'analysis_temp', 'u', 'v', 'T_d', 'u_d', 'v_d', 'xx', 'yy', 'dT_dt', 'dT_dx', 'dT_dy']"
   ]
  },
  {
   "cell_type": "code",
   "execution_count": 3,
   "id": "2877ea0f",
   "metadata": {},
   "outputs": [],
   "source": [
    "sea_surface_height_above_geoid = data['sea_surface_height_above_geoid'][:]\n",
    "sea_surface_height_above_sea_level = data['sea_surface_height_above_sea_level'][:]"
   ]
  },
  {
   "cell_type": "code",
   "execution_count": 4,
   "id": "17302a6f",
   "metadata": {},
   "outputs": [],
   "source": [
    "# MAM   93\n",
    "date_93_1 = 59\n",
    "date_93_2 = 151\n",
    "data_1 = date_93_1\n",
    "data_2 = date_93_2\n",
    "\n",
    "sea_surface_height_above_geoid_93 = sea_surface_height_above_geoid[data_1:data_2,:,:]\n",
    "sea_surface_height_above_sea_level_93 = sea_surface_height_above_sea_level[data_1:data_2,:,:]"
   ]
  },
  {
   "cell_type": "code",
   "execution_count": 5,
   "id": "a532b659",
   "metadata": {},
   "outputs": [],
   "source": [
    "# MAM   94\n",
    "date_94_1 = 424\n",
    "date_94_2 = 516\n",
    "data_1 = date_94_1\n",
    "data_2 = date_94_2\n",
    "\n",
    "sea_surface_height_above_geoid_94 = sea_surface_height_above_geoid[data_1:data_2,:,:]\n",
    "sea_surface_height_above_sea_level_94 = sea_surface_height_above_sea_level[data_1:data_2,:,:]"
   ]
  },
  {
   "cell_type": "code",
   "execution_count": 6,
   "id": "3b2f069b",
   "metadata": {},
   "outputs": [],
   "source": [
    "# MAM   95\n",
    "date_95_1 = 789\n",
    "date_95_2 = 881\n",
    "data_1 = date_95_1\n",
    "data_2 = date_95_2\n",
    "\n",
    "sea_surface_height_above_geoid_95 = sea_surface_height_above_geoid[data_1:data_2,:,:]\n",
    "sea_surface_height_above_sea_level_95 = sea_surface_height_above_sea_level[data_1:data_2,:,:]"
   ]
  },
  {
   "cell_type": "code",
   "execution_count": 7,
   "id": "9a592a2b",
   "metadata": {},
   "outputs": [],
   "source": [
    "# MAM   96\n",
    "date_96_1 = 1155\n",
    "date_96_2 = 1247\n",
    "data_1 = date_96_1\n",
    "data_2 = date_96_2\n",
    "\n",
    "sea_surface_height_above_geoid_96 = sea_surface_height_above_geoid[data_1:data_2,:,:]\n",
    "sea_surface_height_above_sea_level_96 = sea_surface_height_above_sea_level[data_1:data_2,:,:]"
   ]
  },
  {
   "cell_type": "code",
   "execution_count": 8,
   "id": "83596922",
   "metadata": {},
   "outputs": [],
   "source": [
    "# MAM   97\n",
    "date_97_1 = 1520\n",
    "date_97_2 = 1611\n",
    "data_1 = date_97_1\n",
    "data_2 = date_97_2\n",
    "\n",
    "sea_surface_height_above_geoid_97 = sea_surface_height_above_geoid[data_1:data_2,:,:]\n",
    "sea_surface_height_above_sea_level_97 = sea_surface_height_above_sea_level[data_1:data_2,:,:]"
   ]
  },
  {
   "cell_type": "code",
   "execution_count": 9,
   "id": "d7dc3014",
   "metadata": {},
   "outputs": [],
   "source": [
    "# MAM   98\n",
    "date_98_1 = 1885\n",
    "date_98_2 = 1977\n",
    "data_1 = date_98_1\n",
    "data_2 = date_98_2\n",
    "\n",
    "sea_surface_height_above_geoid_98 = sea_surface_height_above_geoid[data_1:data_2,:,:]\n",
    "sea_surface_height_above_sea_level_98 = sea_surface_height_above_sea_level[data_1:data_2,:,:]"
   ]
  },
  {
   "cell_type": "code",
   "execution_count": 10,
   "id": "3192ffd8",
   "metadata": {},
   "outputs": [],
   "source": [
    "# MAM   99\n",
    "date_99_1 = 2250\n",
    "date_99_2 = 2342\n",
    "data_1 = date_99_1\n",
    "data_2 = date_99_2\n",
    "\n",
    "sea_surface_height_above_geoid_99 = sea_surface_height_above_geoid[data_1:data_2,:,:]\n",
    "sea_surface_height_above_sea_level_99 = sea_surface_height_above_sea_level[data_1:data_2,:,:]"
   ]
  },
  {
   "cell_type": "code",
   "execution_count": 11,
   "id": "e29816d5",
   "metadata": {},
   "outputs": [],
   "source": [
    "# MAM   00\n",
    "date_00_1 = 2616\n",
    "date_00_2 = 2708\n",
    "data_1 = date_00_1\n",
    "data_2 = date_00_2\n",
    "\n",
    "sea_surface_height_above_geoid_00 = sea_surface_height_above_geoid[data_1:data_2,:,:]\n",
    "sea_surface_height_above_sea_level_00 = sea_surface_height_above_sea_level[data_1:data_2,:,:]"
   ]
  },
  {
   "cell_type": "code",
   "execution_count": 12,
   "id": "c04da65f",
   "metadata": {},
   "outputs": [],
   "source": [
    "# MAM   01\n",
    "date_01_1 = 2981\n",
    "date_01_2 = 3073\n",
    "data_1 = date_01_1\n",
    "data_2 = date_01_2\n",
    "\n",
    "sea_surface_height_above_geoid_01 = sea_surface_height_above_geoid[data_1:data_2,:,:]\n",
    "sea_surface_height_above_sea_level_01 = sea_surface_height_above_sea_level[data_1:data_2,:,:]"
   ]
  },
  {
   "cell_type": "code",
   "execution_count": 13,
   "id": "e4ec8268",
   "metadata": {},
   "outputs": [],
   "source": [
    "# MAM   02\n",
    "date_02_1 = 3346\n",
    "date_02_2 = 3438\n",
    "data_1 = date_02_1\n",
    "data_2 = date_02_2\n",
    "\n",
    "sea_surface_height_above_geoid_02 = sea_surface_height_above_geoid[data_1:data_2,:,:]\n",
    "sea_surface_height_above_sea_level_02 = sea_surface_height_above_sea_level[data_1:data_2,:,:]"
   ]
  },
  {
   "cell_type": "code",
   "execution_count": 14,
   "id": "6095a8bc",
   "metadata": {},
   "outputs": [],
   "source": [
    "# MAM   03\n",
    "date_03_1 = 3711\n",
    "date_03_2 = 3803\n",
    "data_1 = date_03_1\n",
    "data_2 = date_03_2\n",
    "\n",
    "sea_surface_height_above_geoid_03 = sea_surface_height_above_geoid[data_1:data_2,:,:]\n",
    "sea_surface_height_above_sea_level_03 = sea_surface_height_above_sea_level[data_1:data_2,:,:]"
   ]
  },
  {
   "cell_type": "code",
   "execution_count": 15,
   "id": "a436ef0c",
   "metadata": {},
   "outputs": [],
   "source": [
    "# MAM   04\n",
    "date_04_1 = 4077\n",
    "date_04_2 = 4169\n",
    "data_1 = date_04_1\n",
    "data_2 = date_04_2\n",
    "\n",
    "sea_surface_height_above_geoid_04 = sea_surface_height_above_geoid[data_1:data_2,:,:]\n",
    "sea_surface_height_above_sea_level_04 = sea_surface_height_above_sea_level[data_1:data_2,:,:]"
   ]
  },
  {
   "cell_type": "code",
   "execution_count": 16,
   "id": "07f9a3e7",
   "metadata": {},
   "outputs": [],
   "source": [
    "# MAM   05\n",
    "date_05_1 = 4442\n",
    "date_05_2 = 4534\n",
    "data_1 = date_05_1\n",
    "data_2 = date_05_2\n",
    "\n",
    "sea_surface_height_above_geoid_05 = sea_surface_height_above_geoid[data_1:data_2,:,:]\n",
    "sea_surface_height_above_sea_level_05 = sea_surface_height_above_sea_level[data_1:data_2,:,:]"
   ]
  },
  {
   "cell_type": "code",
   "execution_count": 17,
   "id": "971cf3dd",
   "metadata": {},
   "outputs": [],
   "source": [
    "# MAM   06\n",
    "date_06_1 = 4807\n",
    "date_06_2 = 4899\n",
    "data_1 = date_06_1\n",
    "data_2 = date_06_2\n",
    "\n",
    "sea_surface_height_above_geoid_06 = sea_surface_height_above_geoid[data_1:data_2,:,:]\n",
    "sea_surface_height_above_sea_level_06 = sea_surface_height_above_sea_level[data_1:data_2,:,:]"
   ]
  },
  {
   "cell_type": "code",
   "execution_count": 18,
   "id": "a3868b0f",
   "metadata": {},
   "outputs": [],
   "source": [
    "# MAM   07\n",
    "date_07_1 = 5172\n",
    "date_07_2 = 5264\n",
    "data_1 = date_07_1\n",
    "data_2 = date_07_2\n",
    "\n",
    "sea_surface_height_above_geoid_07 = sea_surface_height_above_geoid[data_1:data_2,:,:]\n",
    "sea_surface_height_above_sea_level_07 = sea_surface_height_above_sea_level[data_1:data_2,:,:]"
   ]
  },
  {
   "cell_type": "code",
   "execution_count": 19,
   "id": "a75cb0da",
   "metadata": {},
   "outputs": [],
   "source": [
    "# MAM   08\n",
    "date_08_1 = 5538\n",
    "date_08_2 = 5630\n",
    "data_1 = date_08_1\n",
    "data_2 = date_08_2\n",
    "\n",
    "sea_surface_height_above_geoid_08 = sea_surface_height_above_geoid[data_1:data_2,:,:]\n",
    "sea_surface_height_above_sea_level_08 = sea_surface_height_above_sea_level[data_1:data_2,:,:]"
   ]
  },
  {
   "cell_type": "code",
   "execution_count": 20,
   "id": "7e32c3f2",
   "metadata": {},
   "outputs": [],
   "source": [
    "# MAM   09\n",
    "date_09_1 = 5903\n",
    "date_09_2 = 5995\n",
    "data_1 = date_09_1\n",
    "data_2 = date_09_2\n",
    "\n",
    "sea_surface_height_above_geoid_09 = sea_surface_height_above_geoid[data_1:data_2,:,:]\n",
    "sea_surface_height_above_sea_level_09 = sea_surface_height_above_sea_level[data_1:data_2,:,:]"
   ]
  },
  {
   "cell_type": "code",
   "execution_count": 21,
   "id": "78a0a1df",
   "metadata": {},
   "outputs": [],
   "source": [
    "# MAM   10\n",
    "date_10_1 = 6268\n",
    "date_10_2 = 6360\n",
    "data_1 = date_10_1\n",
    "data_2 = date_10_2\n",
    "\n",
    "sea_surface_height_above_geoid_10 = sea_surface_height_above_geoid[data_1:data_2,:,:]\n",
    "sea_surface_height_above_sea_level_10 = sea_surface_height_above_sea_level[data_1:data_2,:,:]"
   ]
  },
  {
   "cell_type": "code",
   "execution_count": 22,
   "id": "3e9b846b",
   "metadata": {},
   "outputs": [],
   "source": [
    "# MAM   11\n",
    "date_11_1 = 6633\n",
    "date_11_2 = 6725\n",
    "data_1 = date_11_1\n",
    "data_2 = date_11_2\n",
    "\n",
    "sea_surface_height_above_geoid_11 = sea_surface_height_above_geoid[data_1:data_2,:,:]\n",
    "sea_surface_height_above_sea_level_11 = sea_surface_height_above_sea_level[data_1:data_2,:,:]"
   ]
  },
  {
   "cell_type": "code",
   "execution_count": 23,
   "id": "c7837cb9",
   "metadata": {},
   "outputs": [],
   "source": [
    "# MAM   12\n",
    "date_12_1 = 6999\n",
    "date_12_2 = 7091\n",
    "data_1 = date_12_1\n",
    "data_2 = date_12_2\n",
    "\n",
    "sea_surface_height_above_geoid_12 = sea_surface_height_above_geoid[data_1:data_2,:,:]\n",
    "sea_surface_height_above_sea_level_12 = sea_surface_height_above_sea_level[data_1:data_2,:,:]"
   ]
  },
  {
   "cell_type": "code",
   "execution_count": 24,
   "id": "76a85db8",
   "metadata": {},
   "outputs": [],
   "source": [
    "# MAM   13\n",
    "date_13_1 = 7364\n",
    "date_13_2 = 7455\n",
    "data_1 = date_13_1\n",
    "data_2 = date_13_2\n",
    "\n",
    "sea_surface_height_above_geoid_13 = sea_surface_height_above_geoid[data_1:data_2,:,:]\n",
    "sea_surface_height_above_sea_level_13 = sea_surface_height_above_sea_level[data_1:data_2,:,:]"
   ]
  },
  {
   "cell_type": "code",
   "execution_count": 25,
   "id": "a46e3592",
   "metadata": {},
   "outputs": [],
   "source": [
    "# MAM   14\n",
    "date_14_1 = 7729\n",
    "date_14_2 = 7821\n",
    "data_1 = date_14_1\n",
    "data_2 = date_14_2\n",
    "\n",
    "sea_surface_height_above_geoid_14 = sea_surface_height_above_geoid[data_1:data_2,:,:]\n",
    "sea_surface_height_above_sea_level_14 = sea_surface_height_above_sea_level[data_1:data_2,:,:]"
   ]
  },
  {
   "cell_type": "code",
   "execution_count": 26,
   "id": "ff293aec",
   "metadata": {},
   "outputs": [],
   "source": [
    "# MAM   15\n",
    "date_15_1 = 8094\n",
    "date_15_2 = 8185\n",
    "data_1 = date_15_1\n",
    "data_2 = date_15_2\n",
    "\n",
    "sea_surface_height_above_geoid_15 = sea_surface_height_above_geoid[data_1:data_2,:,:]\n",
    "sea_surface_height_above_sea_level_15 = sea_surface_height_above_sea_level[data_1:data_2,:,:]"
   ]
  },
  {
   "cell_type": "code",
   "execution_count": 27,
   "id": "28f02704",
   "metadata": {},
   "outputs": [],
   "source": [
    "# MAM   16\n",
    "date_16_1 = 8460\n",
    "date_16_2 = 8552\n",
    "data_1 = date_16_1\n",
    "data_2 = date_16_2\n",
    "\n",
    "sea_surface_height_above_geoid_16 = sea_surface_height_above_geoid[data_1:data_2,:,:]\n",
    "sea_surface_height_above_sea_level_16 = sea_surface_height_above_sea_level[data_1:data_2,:,:]"
   ]
  },
  {
   "cell_type": "code",
   "execution_count": 28,
   "id": "7fa3b9a6",
   "metadata": {},
   "outputs": [],
   "source": [
    "# MAM   17\n",
    "date_17_1 = 8825\n",
    "date_17_2 = 8917\n",
    "data_1 = date_17_1\n",
    "data_2 = date_17_2\n",
    "\n",
    "sea_surface_height_above_geoid_17 = sea_surface_height_above_geoid[data_1:data_2,:,:]\n",
    "sea_surface_height_above_sea_level_17 = sea_surface_height_above_sea_level[data_1:data_2,:,:]"
   ]
  },
  {
   "cell_type": "code",
   "execution_count": 29,
   "id": "1bb617b1",
   "metadata": {},
   "outputs": [],
   "source": [
    "# MAM   18\n",
    "date_18_1 = 9190\n",
    "date_18_2 = 9280\n",
    "data_1 = date_18_1\n",
    "data_2 = date_18_2\n",
    "\n",
    "sea_surface_height_above_geoid_18 = sea_surface_height_above_geoid[data_1:data_2,:,:]\n",
    "sea_surface_height_above_sea_level_18 = sea_surface_height_above_sea_level[data_1:data_2,:,:]"
   ]
  },
  {
   "cell_type": "code",
   "execution_count": 30,
   "id": "4d705bfa",
   "metadata": {},
   "outputs": [],
   "source": [
    "# MAM   19\n",
    "date_19_1 = 9542\n",
    "date_19_2 = 9633\n",
    "data_1 = date_19_1\n",
    "data_2 = date_19_2\n",
    "\n",
    "sea_surface_height_above_geoid_19 = sea_surface_height_above_geoid[data_1:data_2,:,:]\n",
    "sea_surface_height_above_sea_level_19 = sea_surface_height_above_sea_level[data_1:data_2,:,:]"
   ]
  },
  {
   "cell_type": "code",
   "execution_count": null,
   "id": "eb42d29b",
   "metadata": {},
   "outputs": [],
   "source": []
  },
  {
   "cell_type": "code",
   "execution_count": 31,
   "id": "40e9d143",
   "metadata": {},
   "outputs": [],
   "source": [
    "sea_surface_height_above_geoid_93_mean = np.mean((sea_surface_height_above_geoid_93), axis = (0,1,2)).reshape(-1,1)"
   ]
  },
  {
   "cell_type": "code",
   "execution_count": 32,
   "id": "f1fdda82",
   "metadata": {},
   "outputs": [],
   "source": [
    "sea_surface_height_above_geoid_94_mean = np.mean((sea_surface_height_above_geoid_94), axis = (0,1,2)).reshape(-1,1)\n",
    "sea_surface_height_above_geoid_95_mean = np.mean((sea_surface_height_above_geoid_95), axis = (0,1,2)).reshape(-1,1)\n",
    "sea_surface_height_above_geoid_96_mean = np.mean((sea_surface_height_above_geoid_96), axis = (0,1,2)).reshape(-1,1)\n",
    "sea_surface_height_above_geoid_97_mean = np.mean((sea_surface_height_above_geoid_97), axis = (0,1,2)).reshape(-1,1)\n",
    "sea_surface_height_above_geoid_98_mean = np.mean((sea_surface_height_above_geoid_98), axis = (0,1,2)).reshape(-1,1)\n",
    "sea_surface_height_above_geoid_99_mean = np.mean((sea_surface_height_above_geoid_99), axis = (0,1,2)).reshape(-1,1)\n",
    "sea_surface_height_above_geoid_00_mean = np.mean((sea_surface_height_above_geoid_00), axis = (0,1,2)).reshape(-1,1)\n",
    "sea_surface_height_above_geoid_01_mean = np.mean((sea_surface_height_above_geoid_01), axis = (0,1,2)).reshape(-1,1)\n",
    "sea_surface_height_above_geoid_02_mean = np.mean((sea_surface_height_above_geoid_02), axis = (0,1,2)).reshape(-1,1)\n",
    "sea_surface_height_above_geoid_03_mean = np.mean((sea_surface_height_above_geoid_03), axis = (0,1,2)).reshape(-1,1)\n",
    "sea_surface_height_above_geoid_04_mean = np.mean((sea_surface_height_above_geoid_04), axis = (0,1,2)).reshape(-1,1)\n",
    "sea_surface_height_above_geoid_05_mean = np.mean((sea_surface_height_above_geoid_05), axis = (0,1,2)).reshape(-1,1)\n",
    "sea_surface_height_above_geoid_06_mean = np.mean((sea_surface_height_above_geoid_06), axis = (0,1,2)).reshape(-1,1)\n",
    "sea_surface_height_above_geoid_07_mean = np.mean((sea_surface_height_above_geoid_07), axis = (0,1,2)).reshape(-1,1)\n",
    "sea_surface_height_above_geoid_08_mean = np.mean((sea_surface_height_above_geoid_08), axis = (0,1,2)).reshape(-1,1)\n",
    "sea_surface_height_above_geoid_09_mean = np.mean((sea_surface_height_above_geoid_09), axis = (0,1,2)).reshape(-1,1)\n",
    "sea_surface_height_above_geoid_10_mean = np.mean((sea_surface_height_above_geoid_10), axis = (0,1,2)).reshape(-1,1)\n",
    "sea_surface_height_above_geoid_11_mean = np.mean((sea_surface_height_above_geoid_11), axis = (0,1,2)).reshape(-1,1)\n",
    "sea_surface_height_above_geoid_12_mean = np.mean((sea_surface_height_above_geoid_12), axis = (0,1,2)).reshape(-1,1)\n",
    "sea_surface_height_above_geoid_13_mean = np.mean((sea_surface_height_above_geoid_13), axis = (0,1,2)).reshape(-1,1)\n",
    "sea_surface_height_above_geoid_14_mean = np.mean((sea_surface_height_above_geoid_14), axis = (0,1,2)).reshape(-1,1)\n",
    "sea_surface_height_above_geoid_15_mean = np.mean((sea_surface_height_above_geoid_15), axis = (0,1,2)).reshape(-1,1)\n",
    "sea_surface_height_above_geoid_16_mean = np.mean((sea_surface_height_above_geoid_16), axis = (0,1,2)).reshape(-1,1)\n",
    "sea_surface_height_above_geoid_17_mean = np.mean((sea_surface_height_above_geoid_17), axis = (0,1,2)).reshape(-1,1)\n",
    "sea_surface_height_above_geoid_18_mean = np.mean((sea_surface_height_above_geoid_18), axis = (0,1,2)).reshape(-1,1)\n",
    "sea_surface_height_above_geoid_19_mean = np.mean((sea_surface_height_above_geoid_19), axis = (0,1,2)).reshape(-1,1)"
   ]
  },
  {
   "cell_type": "code",
   "execution_count": 33,
   "id": "489cdc32",
   "metadata": {},
   "outputs": [],
   "source": [
    "sea_surface_height_above_geoid_93_19_mean = np.concatenate((sea_surface_height_above_geoid_93,\n",
    "sea_surface_height_above_geoid_94, sea_surface_height_above_geoid_95, sea_surface_height_above_geoid_96,\n",
    "                                                           sea_surface_height_above_geoid_97, sea_surface_height_above_geoid_98,\n",
    "                                                           sea_surface_height_above_geoid_99, sea_surface_height_above_geoid_00,\n",
    "                                                           sea_surface_height_above_geoid_01, sea_surface_height_above_geoid_02,\n",
    "                                                           sea_surface_height_above_geoid_03, sea_surface_height_above_geoid_04,\n",
    "                                                           sea_surface_height_above_geoid_05, sea_surface_height_above_geoid_06,\n",
    "                                                           sea_surface_height_above_geoid_07, sea_surface_height_above_geoid_08,\n",
    "                                                           sea_surface_height_above_geoid_09, sea_surface_height_above_geoid_10,\n",
    "                                                           sea_surface_height_above_geoid_11, sea_surface_height_above_geoid_12,\n",
    "                                                           sea_surface_height_above_geoid_13, sea_surface_height_above_geoid_14,\n",
    "                                                           sea_surface_height_above_geoid_15, sea_surface_height_above_geoid_16,\n",
    "                                                           sea_surface_height_above_geoid_17, sea_surface_height_above_geoid_18,\n",
    "                                                           sea_surface_height_above_geoid_19), axis = 0)"
   ]
  },
  {
   "cell_type": "code",
   "execution_count": 34,
   "id": "5e2853c8",
   "metadata": {},
   "outputs": [],
   "source": [
    "sea_surface_height_above_geoid_93_19_mean = np.mean((sea_surface_height_above_geoid_93_19_mean), axis = (1,2))"
   ]
  },
  {
   "cell_type": "code",
   "execution_count": 35,
   "id": "92531ea2",
   "metadata": {},
   "outputs": [],
   "source": [
    "sea_surface_height_above_geoid_93_19_mean_all = np.concatenate((sea_surface_height_above_geoid_93_mean,\n",
    "sea_surface_height_above_geoid_94_mean, sea_surface_height_above_geoid_95_mean, \n",
    "                                                                sea_surface_height_above_geoid_96_mean,\n",
    "                                                           sea_surface_height_above_geoid_97_mean, sea_surface_height_above_geoid_98_mean,\n",
    "                                                           sea_surface_height_above_geoid_99_mean, sea_surface_height_above_geoid_00_mean,\n",
    "                                                           sea_surface_height_above_geoid_01_mean, sea_surface_height_above_geoid_02_mean,\n",
    "                                                           sea_surface_height_above_geoid_03_mean, sea_surface_height_above_geoid_04_mean,\n",
    "                                                           sea_surface_height_above_geoid_05_mean, sea_surface_height_above_geoid_06_mean,\n",
    "                                                           sea_surface_height_above_geoid_07_mean, sea_surface_height_above_geoid_08_mean,\n",
    "                                                           sea_surface_height_above_geoid_09_mean, sea_surface_height_above_geoid_10_mean,\n",
    "                                                           sea_surface_height_above_geoid_11_mean, sea_surface_height_above_geoid_12_mean,\n",
    "                                                           sea_surface_height_above_geoid_13_mean, sea_surface_height_above_geoid_14_mean,\n",
    "                                                           sea_surface_height_above_geoid_15_mean, sea_surface_height_above_geoid_16_mean,\n",
    "                                                           sea_surface_height_above_geoid_17_mean, sea_surface_height_above_geoid_18_mean,\n",
    "                                                           sea_surface_height_above_geoid_19_mean), axis = 0)"
   ]
  },
  {
   "cell_type": "code",
   "execution_count": 36,
   "id": "241a02b0",
   "metadata": {},
   "outputs": [],
   "source": [
    "sea_surface_height_above_sea_level_93_mean = np.mean((sea_surface_height_above_sea_level_93), axis = (0,1,2)).reshape(-1,1)\n",
    "sea_surface_height_above_sea_level_94_mean = np.mean((sea_surface_height_above_sea_level_94), axis = (0,1,2)).reshape(-1,1)\n",
    "sea_surface_height_above_sea_level_95_mean = np.mean((sea_surface_height_above_sea_level_95), axis = (0,1,2)).reshape(-1,1)\n",
    "sea_surface_height_above_sea_level_96_mean = np.mean((sea_surface_height_above_sea_level_96), axis = (0,1,2)).reshape(-1,1)\n",
    "sea_surface_height_above_sea_level_97_mean = np.mean((sea_surface_height_above_sea_level_97), axis = (0,1,2)).reshape(-1,1)\n",
    "sea_surface_height_above_sea_level_98_mean = np.mean((sea_surface_height_above_sea_level_98), axis = (0,1,2)).reshape(-1,1)\n",
    "sea_surface_height_above_sea_level_99_mean = np.mean((sea_surface_height_above_sea_level_99), axis = (0,1,2)).reshape(-1,1)\n",
    "sea_surface_height_above_sea_level_00_mean = np.mean((sea_surface_height_above_sea_level_00), axis = (0,1,2)).reshape(-1,1)\n",
    "sea_surface_height_above_sea_level_01_mean = np.mean((sea_surface_height_above_sea_level_01), axis = (0,1,2)).reshape(-1,1)\n",
    "sea_surface_height_above_sea_level_02_mean = np.mean((sea_surface_height_above_sea_level_02), axis = (0,1,2)).reshape(-1,1)\n",
    "sea_surface_height_above_sea_level_03_mean = np.mean((sea_surface_height_above_sea_level_03), axis = (0,1,2)).reshape(-1,1)\n",
    "sea_surface_height_above_sea_level_04_mean = np.mean((sea_surface_height_above_sea_level_04), axis = (0,1,2)).reshape(-1,1)\n",
    "sea_surface_height_above_sea_level_05_mean = np.mean((sea_surface_height_above_sea_level_05), axis = (0,1,2)).reshape(-1,1)\n",
    "sea_surface_height_above_sea_level_06_mean = np.mean((sea_surface_height_above_sea_level_06), axis = (0,1,2)).reshape(-1,1)\n",
    "sea_surface_height_above_sea_level_07_mean = np.mean((sea_surface_height_above_sea_level_07), axis = (0,1,2)).reshape(-1,1)\n",
    "sea_surface_height_above_sea_level_08_mean = np.mean((sea_surface_height_above_sea_level_08), axis = (0,1,2)).reshape(-1,1)\n",
    "sea_surface_height_above_sea_level_09_mean = np.mean((sea_surface_height_above_sea_level_09), axis = (0,1,2)).reshape(-1,1)\n",
    "sea_surface_height_above_sea_level_10_mean = np.mean((sea_surface_height_above_sea_level_10), axis = (0,1,2)).reshape(-1,1)\n",
    "sea_surface_height_above_sea_level_11_mean = np.mean((sea_surface_height_above_sea_level_11), axis = (0,1,2)).reshape(-1,1)\n",
    "sea_surface_height_above_sea_level_12_mean = np.mean((sea_surface_height_above_sea_level_12), axis = (0,1,2)).reshape(-1,1)\n",
    "sea_surface_height_above_sea_level_13_mean = np.mean((sea_surface_height_above_sea_level_13), axis = (0,1,2)).reshape(-1,1)\n",
    "sea_surface_height_above_sea_level_14_mean = np.mean((sea_surface_height_above_sea_level_14), axis = (0,1,2)).reshape(-1,1)\n",
    "sea_surface_height_above_sea_level_15_mean = np.mean((sea_surface_height_above_sea_level_15), axis = (0,1,2)).reshape(-1,1)\n",
    "sea_surface_height_above_sea_level_16_mean = np.mean((sea_surface_height_above_sea_level_16), axis = (0,1,2)).reshape(-1,1)\n",
    "sea_surface_height_above_sea_level_17_mean = np.mean((sea_surface_height_above_sea_level_17), axis = (0,1,2)).reshape(-1,1)\n",
    "sea_surface_height_above_sea_level_18_mean = np.mean((sea_surface_height_above_sea_level_18), axis = (0,1,2)).reshape(-1,1)\n",
    "sea_surface_height_above_sea_level_19_mean = np.mean((sea_surface_height_above_sea_level_19), axis = (0,1,2)).reshape(-1,1)"
   ]
  },
  {
   "cell_type": "code",
   "execution_count": 37,
   "id": "41502dde",
   "metadata": {},
   "outputs": [],
   "source": [
    "sea_surface_height_above_sea_level_93_19_mean_all = np.concatenate((\n",
    "sea_surface_height_above_sea_level_93_mean, sea_surface_height_above_sea_level_94_mean,\n",
    "sea_surface_height_above_sea_level_95_mean, sea_surface_height_above_sea_level_96_mean,\n",
    "sea_surface_height_above_sea_level_97_mean, sea_surface_height_above_sea_level_98_mean,\n",
    "sea_surface_height_above_sea_level_99_mean, sea_surface_height_above_sea_level_00_mean,\n",
    "sea_surface_height_above_sea_level_01_mean, sea_surface_height_above_sea_level_02_mean,\n",
    "sea_surface_height_above_sea_level_03_mean, sea_surface_height_above_sea_level_04_mean,\n",
    "sea_surface_height_above_sea_level_05_mean, sea_surface_height_above_sea_level_06_mean,\n",
    "sea_surface_height_above_sea_level_07_mean, sea_surface_height_above_sea_level_08_mean,\n",
    "sea_surface_height_above_sea_level_09_mean, sea_surface_height_above_sea_level_10_mean,\n",
    "sea_surface_height_above_sea_level_11_mean, sea_surface_height_above_sea_level_12_mean,\n",
    "sea_surface_height_above_sea_level_13_mean, sea_surface_height_above_sea_level_14_mean,\n",
    "sea_surface_height_above_sea_level_15_mean, sea_surface_height_above_sea_level_16_mean,\n",
    "sea_surface_height_above_sea_level_17_mean, sea_surface_height_above_sea_level_18_mean,\n",
    "sea_surface_height_above_sea_level_19_mean), axis = 0)"
   ]
  },
  {
   "cell_type": "code",
   "execution_count": null,
   "id": "95c1e65a",
   "metadata": {},
   "outputs": [],
   "source": []
  },
  {
   "cell_type": "code",
   "execution_count": 38,
   "id": "6037177c",
   "metadata": {},
   "outputs": [
    {
     "data": {
      "text/plain": [
       "(27, 1)"
      ]
     },
     "execution_count": 38,
     "metadata": {},
     "output_type": "execute_result"
    }
   ],
   "source": [
    "sea_surface_height_above_sea_level_93_19_mean_all.shape"
   ]
  },
  {
   "cell_type": "code",
   "execution_count": 39,
   "id": "df8bb6d3",
   "metadata": {},
   "outputs": [
    {
     "data": {
      "text/plain": [
       "(27, 1)"
      ]
     },
     "execution_count": 39,
     "metadata": {},
     "output_type": "execute_result"
    },
    {
     "data": {
      "text/plain": [
       "(27, 1)"
      ]
     },
     "execution_count": 39,
     "metadata": {},
     "output_type": "execute_result"
    }
   ],
   "source": [
    "sea_surface_height_above_geoid_93_19_mean_all.shape"
   ]
  },
  {
   "cell_type": "code",
   "execution_count": null,
   "id": "1fb5f542",
   "metadata": {},
   "outputs": [],
   "source": []
  },
  {
   "cell_type": "code",
   "execution_count": 39,
   "id": "2702c0ef",
   "metadata": {},
   "outputs": [],
   "source": [
    "# 去除MHW"
   ]
  },
  {
   "cell_type": "code",
   "execution_count": 40,
   "id": "8621ba7a",
   "metadata": {},
   "outputs": [],
   "source": [
    "sea_surface_height_above_geoid_93_19 = np.concatenate((sea_surface_height_above_geoid_93,\n",
    "                                                      sea_surface_height_above_geoid_94, sea_surface_height_above_geoid_95,\n",
    "                                                      sea_surface_height_above_geoid_96, sea_surface_height_above_geoid_97,\n",
    "                                                      sea_surface_height_above_geoid_98, sea_surface_height_above_geoid_99,\n",
    "                                                      sea_surface_height_above_geoid_00,\n",
    "                                                      sea_surface_height_above_geoid_01, sea_surface_height_above_geoid_02,\n",
    "                                                      sea_surface_height_above_geoid_03, sea_surface_height_above_geoid_04,\n",
    "                                                      sea_surface_height_above_geoid_05, sea_surface_height_above_geoid_06,\n",
    "                                                      sea_surface_height_above_geoid_07, sea_surface_height_above_geoid_08,\n",
    "                                                      sea_surface_height_above_geoid_09, sea_surface_height_above_geoid_10,\n",
    "                                                      sea_surface_height_above_geoid_11, sea_surface_height_above_geoid_12,\n",
    "                                                      sea_surface_height_above_geoid_13, sea_surface_height_above_geoid_14,\n",
    "                                                      sea_surface_height_above_geoid_15, sea_surface_height_above_geoid_16,\n",
    "                                                      sea_surface_height_above_geoid_17, sea_surface_height_above_geoid_18,\n",
    "                                                      sea_surface_height_above_geoid_19),axis = 0)"
   ]
  },
  {
   "cell_type": "code",
   "execution_count": 41,
   "id": "ff938b3f",
   "metadata": {},
   "outputs": [],
   "source": [
    "sea_surface_height_above_sea_level_93_19 = np.concatenate((sea_surface_height_above_sea_level_93,\n",
    "sea_surface_height_above_sea_level_94, sea_surface_height_above_sea_level_95,\n",
    "                                                          sea_surface_height_above_sea_level_96, sea_surface_height_above_sea_level_97,\n",
    "                                                          sea_surface_height_above_sea_level_98, sea_surface_height_above_sea_level_99,\n",
    "                                                          sea_surface_height_above_sea_level_00, sea_surface_height_above_sea_level_01,\n",
    "                                                          sea_surface_height_above_sea_level_02, sea_surface_height_above_sea_level_03,\n",
    "                                                          sea_surface_height_above_sea_level_04, sea_surface_height_above_sea_level_05,\n",
    "                                                          sea_surface_height_above_sea_level_06, sea_surface_height_above_sea_level_07,\n",
    "                                                          sea_surface_height_above_sea_level_08, sea_surface_height_above_sea_level_09,\n",
    "                                                          sea_surface_height_above_sea_level_10, sea_surface_height_above_sea_level_11,\n",
    "                                                          sea_surface_height_above_sea_level_12, sea_surface_height_above_sea_level_13,\n",
    "                                                          sea_surface_height_above_sea_level_14, sea_surface_height_above_sea_level_15,\n",
    "                                                          sea_surface_height_above_sea_level_16, sea_surface_height_above_sea_level_17,\n",
    "                                                          sea_surface_height_above_sea_level_18, sea_surface_height_above_sea_level_19),axis = 0)"
   ]
  },
  {
   "cell_type": "code",
   "execution_count": 42,
   "id": "47bf0be8",
   "metadata": {},
   "outputs": [],
   "source": [
    "sea_surface_height_above_geoid_93_19_mean = np.mean((sea_surface_height_above_geoid_93_19), axis = (1,2)).reshape(-1,1)"
   ]
  },
  {
   "cell_type": "code",
   "execution_count": 43,
   "id": "b18e3caa",
   "metadata": {},
   "outputs": [
    {
     "data": {
      "text/plain": [
       "(2478, 1)"
      ]
     },
     "execution_count": 43,
     "metadata": {},
     "output_type": "execute_result"
    }
   ],
   "source": [
    "sea_surface_height_above_geoid_93_19_mean.shape"
   ]
  },
  {
   "cell_type": "code",
   "execution_count": 44,
   "id": "cc1492b8",
   "metadata": {},
   "outputs": [],
   "source": [
    "sea_surface_height_above_sea_level_93_19_mean = np.mean((sea_surface_height_above_sea_level_93_19), axis = (1,2)).reshape(-1,1)"
   ]
  },
  {
   "cell_type": "code",
   "execution_count": 45,
   "id": "ab7a666f",
   "metadata": {},
   "outputs": [
    {
     "data": {
      "text/plain": [
       "(2478, 1)"
      ]
     },
     "execution_count": 45,
     "metadata": {},
     "output_type": "execute_result"
    }
   ],
   "source": [
    "sea_surface_height_above_sea_level_93_19_mean.shape"
   ]
  },
  {
   "cell_type": "code",
   "execution_count": 46,
   "id": "a56dce17",
   "metadata": {},
   "outputs": [],
   "source": [
    "sea_surface_height_above_geoid_MAM_93 = np.mean(sea_surface_height_above_geoid_93_19_mean[:92]).reshape(-1,1)\n",
    "sea_surface_height_above_geoid_MAM_94 = np.mean(sea_surface_height_above_geoid_93_19_mean[92:184]).reshape(-1,1)\n",
    "sea_surface_height_above_geoid_MAM_95 = np.mean(sea_surface_height_above_geoid_93_19_mean[184:276]).reshape(-1,1)\n",
    "sea_surface_height_above_geoid_MAM_96 = np.mean(sea_surface_height_above_geoid_93_19_mean[276:368]).reshape(-1,1)\n",
    "sea_surface_height_above_geoid_MAM_97 = np.mean(sea_surface_height_above_geoid_93_19_mean[368:460]).reshape(-1,1)\n",
    "sea_surface_height_above_geoid_MAM_98_1 = sea_surface_height_above_geoid_93_19_mean[467:494].reshape(-1,1)\n",
    "sea_surface_height_above_geoid_MAM_98_2 = sea_surface_height_above_geoid_93_19_mean[507:552].reshape(-1,1)\n",
    "sea_surface_height_above_geoid_MAM_98 = np.mean(np.concatenate((sea_surface_height_above_geoid_MAM_98_1, sea_surface_height_above_geoid_MAM_98_2), axis = 0)).reshape(-1,1)\n",
    "sea_surface_height_above_geoid_MAM_98 = np.mean(sea_surface_height_above_geoid_MAM_98, axis = 0).reshape(-1,1)\n",
    "sea_surface_height_above_geoid_MAM_99 = np.mean(sea_surface_height_above_geoid_93_19_mean[552:644]).reshape(-1,1)\n",
    "sea_surface_height_above_geoid_MAM_00 = np.mean(sea_surface_height_above_geoid_93_19_mean[644:736]).reshape(-1,1)\n",
    "sea_surface_height_above_geoid_MAM_01 = np.mean(sea_surface_height_above_geoid_93_19_mean[736:828]).reshape(-1,1)\n",
    "sea_surface_height_above_geoid_MAM_02 = np.mean(sea_surface_height_above_geoid_93_19_mean[828:920]).reshape(-1,1)\n",
    "sea_surface_height_above_geoid_MAM_03 = np.mean(sea_surface_height_above_geoid_93_19_mean[920:1012]).reshape(-1,1)\n",
    "sea_surface_height_above_geoid_MAM_04 = np.mean(sea_surface_height_above_geoid_93_19_mean[1012:1104]).reshape(-1,1)\n",
    "sea_surface_height_above_geoid_MAM_05 = np.mean(sea_surface_height_above_geoid_93_19_mean[1104:1196]).reshape(-1,1)\n",
    "sea_surface_height_above_geoid_MAM_06 = np.mean(sea_surface_height_above_geoid_93_19_mean[1196:1288]).reshape(-1,1)\n",
    "sea_surface_height_above_geoid_MAM_07 = np.mean(sea_surface_height_above_geoid_93_19_mean[1288:1380]).reshape(-1,1)\n",
    "sea_surface_height_above_geoid_MAM_08 = np.mean(sea_surface_height_above_geoid_93_19_mean[1380:1472]).reshape(-1,1)\n",
    "sea_surface_height_above_geoid_MAM_09 = np.mean(sea_surface_height_above_geoid_93_19_mean[1472:1564]).reshape(-1,1)\n",
    "sea_surface_height_above_geoid_MAM_10_1 = sea_surface_height_above_geoid_93_19_mean[1573:1576].reshape(-1,1)\n",
    "sea_surface_height_above_geoid_MAM_10_2 = sea_surface_height_above_geoid_93_19_mean[1622:1656].reshape(-1,1)\n",
    "sea_surface_height_above_geoid_MAM_10 = np.mean(np.concatenate((sea_surface_height_above_geoid_MAM_10_1, sea_surface_height_above_geoid_MAM_10_2), axis = 0)).reshape(-1,1)\n",
    "sea_surface_height_above_geoid_MAM_10 = np.mean(sea_surface_height_above_geoid_MAM_10, axis = 0).reshape(-1,1)\n",
    "sea_surface_height_above_geoid_MAM_11 = np.mean(sea_surface_height_above_geoid_93_19_mean[1656:1748]).reshape(-1,1)\n",
    "sea_surface_height_above_geoid_MAM_12 = np.mean(sea_surface_height_above_geoid_93_19_mean[1748:1840]).reshape(-1,1)\n",
    "sea_surface_height_above_geoid_MAM_13 = np.mean(sea_surface_height_above_geoid_93_19_mean[1840:1932]).reshape(-1,1)\n",
    "sea_surface_height_above_geoid_MAM_14 = np.mean(sea_surface_height_above_geoid_93_19_mean[1932:2024]).reshape(-1,1)\n",
    "sea_surface_height_above_geoid_MAM_15_1 = sea_surface_height_above_geoid_93_19_mean[2024:2049].reshape(-1,1)\n",
    "sea_surface_height_above_geoid_MAM_15_2 = sea_surface_height_above_geoid_93_19_mean[2064:2079].reshape(-1,1)\n",
    "sea_surface_height_above_geoid_MAM_15_3 = sea_surface_height_above_geoid_93_19_mean[2089:2093].reshape(-1,1)\n",
    "sea_surface_height_above_geoid_MAM_15 = np.mean(np.concatenate((sea_surface_height_above_geoid_MAM_15_1, sea_surface_height_above_geoid_MAM_15_2, sea_surface_height_above_geoid_MAM_15_3), axis = 0)).reshape(-1,1)\n",
    "sea_surface_height_above_geoid_MAM_15 = np.mean(sea_surface_height_above_geoid_MAM_15, axis = 0).reshape(-1,1)\n",
    "sea_surface_height_above_geoid_MAM_16 = np.mean(sea_surface_height_above_geoid_93_19_mean[2134:2208]).reshape(-1,1)\n",
    "sea_surface_height_above_geoid_MAM_17_1 = sea_surface_height_above_geoid_93_19_mean[2208:2261].reshape(-1,1)\n",
    "sea_surface_height_above_geoid_MAM_17_2 = sea_surface_height_above_geoid_93_19_mean[2268:2274].reshape(-1,1)\n",
    "sea_surface_height_above_geoid_MAM_17_3 = sea_surface_height_above_geoid_93_19_mean[2280:2300].reshape(-1,1)\n",
    "sea_surface_height_above_geoid_MAM_17 = np.mean(np.concatenate((sea_surface_height_above_geoid_MAM_17_1, sea_surface_height_above_geoid_MAM_17_2, sea_surface_height_above_geoid_MAM_17_3), axis = 0)).reshape(-1,1)\n",
    "sea_surface_height_above_geoid_MAM_17 = np.mean(sea_surface_height_above_geoid_MAM_17, axis = 0).reshape(-1,1)\n",
    "sea_surface_height_above_geoid_MAM_18 = np.mean(sea_surface_height_above_geoid_93_19_mean[2300:2392]).reshape(-1,1)\n",
    "sea_surface_height_above_geoid_MAM_19_1 = sea_surface_height_above_geoid_93_19_mean[2392:2431].reshape(-1,1)\n",
    "sea_surface_height_above_geoid_MAM_19_2 = sea_surface_height_above_geoid_93_19_mean[2438:2444].reshape(-1,1)\n",
    "sea_surface_height_above_geoid_MAM_19_3 = sea_surface_height_above_geoid_93_19_mean[2451:].reshape(-1,1)\n",
    "sea_surface_height_above_geoid_MAM_19 = np.mean(np.concatenate((sea_surface_height_above_geoid_MAM_19_1, sea_surface_height_above_geoid_MAM_19_2, sea_surface_height_above_geoid_MAM_19_3), axis = 0)).reshape(-1,1)\n",
    "sea_surface_height_above_geoid_MAM_19 = np.mean(sea_surface_height_above_geoid_MAM_19, axis = 0).reshape(-1,1)"
   ]
  },
  {
   "cell_type": "code",
   "execution_count": null,
   "id": "db57230c",
   "metadata": {},
   "outputs": [],
   "source": []
  },
  {
   "cell_type": "code",
   "execution_count": 47,
   "id": "5201b8bf",
   "metadata": {},
   "outputs": [],
   "source": [
    "sea_surface_height_above_geoid_MAM_93_19_without_MHW_mean = np.concatenate((\n",
    "sea_surface_height_above_geoid_MAM_93, sea_surface_height_above_geoid_MAM_94,\n",
    "sea_surface_height_above_geoid_MAM_95, sea_surface_height_above_geoid_MAM_96,\n",
    "sea_surface_height_above_geoid_MAM_97, sea_surface_height_above_geoid_MAM_98,\n",
    "sea_surface_height_above_geoid_MAM_99, sea_surface_height_above_geoid_MAM_00,\n",
    "sea_surface_height_above_geoid_MAM_01, sea_surface_height_above_geoid_MAM_02,\n",
    "sea_surface_height_above_geoid_MAM_03, sea_surface_height_above_geoid_MAM_04,\n",
    "sea_surface_height_above_geoid_MAM_05, sea_surface_height_above_geoid_MAM_06,\n",
    "sea_surface_height_above_geoid_MAM_07, sea_surface_height_above_geoid_MAM_08,\n",
    "sea_surface_height_above_geoid_MAM_09, sea_surface_height_above_geoid_MAM_10,\n",
    "sea_surface_height_above_geoid_MAM_11, sea_surface_height_above_geoid_MAM_12,\n",
    "sea_surface_height_above_geoid_MAM_13, sea_surface_height_above_geoid_MAM_14,\n",
    "sea_surface_height_above_geoid_MAM_15, sea_surface_height_above_geoid_MAM_16,\n",
    "sea_surface_height_above_geoid_MAM_17, sea_surface_height_above_geoid_MAM_18,\n",
    "sea_surface_height_above_geoid_MAM_19), axis = 0).reshape(-1,1)"
   ]
  },
  {
   "cell_type": "code",
   "execution_count": 48,
   "id": "7d2f5512",
   "metadata": {},
   "outputs": [
    {
     "data": {
      "text/plain": [
       "(27, 1)"
      ]
     },
     "execution_count": 48,
     "metadata": {},
     "output_type": "execute_result"
    }
   ],
   "source": [
    "sea_surface_height_above_geoid_MAM_93_19_without_MHW_mean.shape"
   ]
  },
  {
   "cell_type": "code",
   "execution_count": 49,
   "id": "f4d56f50",
   "metadata": {},
   "outputs": [
    {
     "data": {
      "text/plain": [
       "(2478, 1)"
      ]
     },
     "execution_count": 49,
     "metadata": {},
     "output_type": "execute_result"
    }
   ],
   "source": [
    "sea_surface_height_above_sea_level_93_19_mean.shape"
   ]
  },
  {
   "cell_type": "code",
   "execution_count": 50,
   "id": "2ec8ca90",
   "metadata": {},
   "outputs": [],
   "source": [
    "sea_surface_height_above_sea_level_MAM_93 = np.mean(sea_surface_height_above_sea_level_93_19_mean[:92]).reshape(-1,1)\n",
    "sea_surface_height_above_sea_level_MAM_94 = np.mean(sea_surface_height_above_sea_level_93_19_mean[92:184]).reshape(-1,1)\n",
    "sea_surface_height_above_sea_level_MAM_95 = np.mean(sea_surface_height_above_sea_level_93_19_mean[184:276]).reshape(-1,1)\n",
    "sea_surface_height_above_sea_level_MAM_96 = np.mean(sea_surface_height_above_sea_level_93_19_mean[276:368]).reshape(-1,1)\n",
    "sea_surface_height_above_sea_level_MAM_97 = np.mean(sea_surface_height_above_sea_level_93_19_mean[368:460]).reshape(-1,1)\n",
    "sea_surface_height_above_sea_level_MAM_98_1 = sea_surface_height_above_sea_level_93_19_mean[467:494].reshape(-1,1)\n",
    "sea_surface_height_above_sea_level_MAM_98_2 = sea_surface_height_above_sea_level_93_19_mean[507:552].reshape(-1,1)\n",
    "sea_surface_height_above_sea_level_MAM_98 = np.mean(np.concatenate((sea_surface_height_above_sea_level_MAM_98_1, sea_surface_height_above_sea_level_MAM_98_2), axis = 0)).reshape(-1,1)\n",
    "sea_surface_height_above_sea_level_MAM_98 = np.mean(sea_surface_height_above_sea_level_MAM_98, axis = 0).reshape(-1,1)\n",
    "sea_surface_height_above_sea_level_MAM_99 = np.mean(sea_surface_height_above_sea_level_93_19_mean[552:644]).reshape(-1,1)\n",
    "sea_surface_height_above_sea_level_MAM_00 = np.mean(sea_surface_height_above_sea_level_93_19_mean[644:736]).reshape(-1,1)\n",
    "sea_surface_height_above_sea_level_MAM_01 = np.mean(sea_surface_height_above_sea_level_93_19_mean[736:828]).reshape(-1,1)\n",
    "sea_surface_height_above_sea_level_MAM_02 = np.mean(sea_surface_height_above_sea_level_93_19_mean[828:920]).reshape(-1,1)\n",
    "sea_surface_height_above_sea_level_MAM_03 = np.mean(sea_surface_height_above_sea_level_93_19_mean[920:1012]).reshape(-1,1)\n",
    "sea_surface_height_above_sea_level_MAM_04 = np.mean(sea_surface_height_above_sea_level_93_19_mean[1012:1104]).reshape(-1,1)\n",
    "sea_surface_height_above_sea_level_MAM_05 = np.mean(sea_surface_height_above_sea_level_93_19_mean[1104:1196]).reshape(-1,1)\n",
    "sea_surface_height_above_sea_level_MAM_06 = np.mean(sea_surface_height_above_sea_level_93_19_mean[1196:1288]).reshape(-1,1)\n",
    "sea_surface_height_above_sea_level_MAM_07 = np.mean(sea_surface_height_above_sea_level_93_19_mean[1288:1380]).reshape(-1,1)\n",
    "sea_surface_height_above_sea_level_MAM_08 = np.mean(sea_surface_height_above_sea_level_93_19_mean[1380:1472]).reshape(-1,1)\n",
    "sea_surface_height_above_sea_level_MAM_09 = np.mean(sea_surface_height_above_sea_level_93_19_mean[1472:1564]).reshape(-1,1)\n",
    "sea_surface_height_above_sea_level_MAM_10_1 = sea_surface_height_above_sea_level_93_19_mean[1573:1576].reshape(-1,1)\n",
    "sea_surface_height_above_sea_level_MAM_10_2 = sea_surface_height_above_sea_level_93_19_mean[1622:1656].reshape(-1,1)\n",
    "sea_surface_height_above_sea_level_MAM_10 = np.mean(np.concatenate((sea_surface_height_above_sea_level_MAM_10_1, sea_surface_height_above_sea_level_MAM_10_2), axis = 0)).reshape(-1,1)\n",
    "sea_surface_height_above_sea_level_MAM_10 = np.mean(sea_surface_height_above_sea_level_MAM_10, axis = 0).reshape(-1,1)\n",
    "sea_surface_height_above_sea_level_MAM_11 = np.mean(sea_surface_height_above_sea_level_93_19_mean[1656:1748]).reshape(-1,1)\n",
    "sea_surface_height_above_sea_level_MAM_12 = np.mean(sea_surface_height_above_sea_level_93_19_mean[1748:1840]).reshape(-1,1)\n",
    "sea_surface_height_above_sea_level_MAM_13 = np.mean(sea_surface_height_above_sea_level_93_19_mean[1840:1932]).reshape(-1,1)\n",
    "sea_surface_height_above_sea_level_MAM_14 = np.mean(sea_surface_height_above_sea_level_93_19_mean[1932:2024]).reshape(-1,1)\n",
    "sea_surface_height_above_sea_level_MAM_15_1 = sea_surface_height_above_sea_level_93_19_mean[2024:2049].reshape(-1,1)\n",
    "sea_surface_height_above_sea_level_MAM_15_2 = sea_surface_height_above_sea_level_93_19_mean[2064:2079].reshape(-1,1)\n",
    "sea_surface_height_above_sea_level_MAM_15_3 = sea_surface_height_above_sea_level_93_19_mean[2089:2093].reshape(-1,1)\n",
    "sea_surface_height_above_sea_level_MAM_15 = np.mean(np.concatenate((sea_surface_height_above_sea_level_MAM_15_1, sea_surface_height_above_sea_level_MAM_15_2, sea_surface_height_above_sea_level_MAM_15_3), axis = 0)).reshape(-1,1)\n",
    "sea_surface_height_above_sea_level_MAM_15 = np.mean(sea_surface_height_above_sea_level_MAM_15, axis = 0).reshape(-1,1)\n",
    "sea_surface_height_above_sea_level_MAM_16 = np.mean(sea_surface_height_above_sea_level_93_19_mean[2134:2208]).reshape(-1,1)\n",
    "sea_surface_height_above_sea_level_MAM_17_1 = sea_surface_height_above_sea_level_93_19_mean[2208:2261].reshape(-1,1)\n",
    "sea_surface_height_above_sea_level_MAM_17_2 = sea_surface_height_above_sea_level_93_19_mean[2268:2274].reshape(-1,1)\n",
    "sea_surface_height_above_sea_level_MAM_17_3 = sea_surface_height_above_sea_level_93_19_mean[2280:2300].reshape(-1,1)\n",
    "sea_surface_height_above_sea_level_MAM_17 = np.mean(np.concatenate((sea_surface_height_above_sea_level_MAM_17_1, sea_surface_height_above_sea_level_MAM_17_2, sea_surface_height_above_sea_level_MAM_17_3), axis = 0)).reshape(-1,1)\n",
    "sea_surface_height_above_sea_level_MAM_17 = np.mean(sea_surface_height_above_sea_level_MAM_17, axis = 0).reshape(-1,1)\n",
    "sea_surface_height_above_sea_level_MAM_18 = np.mean(sea_surface_height_above_sea_level_93_19_mean[2300:2392]).reshape(-1,1)\n",
    "sea_surface_height_above_sea_level_MAM_19_1 = sea_surface_height_above_sea_level_93_19_mean[2392:2431].reshape(-1,1)\n",
    "sea_surface_height_above_sea_level_MAM_19_2 = sea_surface_height_above_sea_level_93_19_mean[2438:2444].reshape(-1,1)\n",
    "sea_surface_height_above_sea_level_MAM_19_3 = sea_surface_height_above_sea_level_93_19_mean[2451:].reshape(-1,1)\n",
    "sea_surface_height_above_sea_level_MAM_19 = np.mean(np.concatenate((sea_surface_height_above_sea_level_MAM_19_1, sea_surface_height_above_sea_level_MAM_19_2, sea_surface_height_above_sea_level_MAM_19_3), axis = 0)).reshape(-1,1)\n",
    "sea_surface_height_above_sea_level_MAM_19 = np.mean(sea_surface_height_above_sea_level_MAM_19, axis = 0).reshape(-1,1)"
   ]
  },
  {
   "cell_type": "code",
   "execution_count": 51,
   "id": "babf805f",
   "metadata": {},
   "outputs": [],
   "source": [
    "sea_surface_height_above_sea_level_MAM_93_19_without_MHW_mean = np.concatenate((\n",
    "sea_surface_height_above_sea_level_MAM_93, sea_surface_height_above_sea_level_MAM_94,\n",
    "sea_surface_height_above_sea_level_MAM_95, sea_surface_height_above_sea_level_MAM_96,\n",
    "sea_surface_height_above_sea_level_MAM_97, sea_surface_height_above_sea_level_MAM_98,\n",
    "sea_surface_height_above_sea_level_MAM_99, sea_surface_height_above_sea_level_MAM_00,\n",
    "sea_surface_height_above_sea_level_MAM_01, sea_surface_height_above_sea_level_MAM_02,\n",
    "sea_surface_height_above_sea_level_MAM_03, sea_surface_height_above_sea_level_MAM_04,\n",
    "sea_surface_height_above_sea_level_MAM_05, sea_surface_height_above_sea_level_MAM_06,\n",
    "sea_surface_height_above_sea_level_MAM_07, sea_surface_height_above_sea_level_MAM_08,\n",
    "sea_surface_height_above_sea_level_MAM_09, sea_surface_height_above_sea_level_MAM_10,\n",
    "sea_surface_height_above_sea_level_MAM_11, sea_surface_height_above_sea_level_MAM_12,\n",
    "sea_surface_height_above_sea_level_MAM_13, sea_surface_height_above_sea_level_MAM_14,\n",
    "sea_surface_height_above_sea_level_MAM_15, sea_surface_height_above_sea_level_MAM_16,\n",
    "sea_surface_height_above_sea_level_MAM_17, sea_surface_height_above_sea_level_MAM_18,\n",
    "sea_surface_height_above_sea_level_MAM_19), axis = 0).reshape(-1,1)"
   ]
  },
  {
   "cell_type": "code",
   "execution_count": null,
   "id": "fc35083b",
   "metadata": {},
   "outputs": [],
   "source": []
  },
  {
   "cell_type": "code",
   "execution_count": null,
   "id": "c482460f",
   "metadata": {},
   "outputs": [],
   "source": []
  },
  {
   "cell_type": "code",
   "execution_count": 52,
   "id": "9af98cd0",
   "metadata": {},
   "outputs": [
    {
     "data": {
      "text/plain": [
       "(27, 1)"
      ]
     },
     "execution_count": 52,
     "metadata": {},
     "output_type": "execute_result"
    }
   ],
   "source": [
    "sea_surface_height_above_sea_level_93_19_mean_all.shape"
   ]
  },
  {
   "cell_type": "code",
   "execution_count": 53,
   "id": "fd82a83b",
   "metadata": {},
   "outputs": [
    {
     "data": {
      "text/plain": [
       "(27, 1)"
      ]
     },
     "execution_count": 53,
     "metadata": {},
     "output_type": "execute_result"
    }
   ],
   "source": [
    "sea_surface_height_above_geoid_93_19_mean_all.shape"
   ]
  },
  {
   "cell_type": "code",
   "execution_count": 54,
   "id": "058d0948",
   "metadata": {},
   "outputs": [
    {
     "data": {
      "text/plain": [
       "(27, 1)"
      ]
     },
     "execution_count": 54,
     "metadata": {},
     "output_type": "execute_result"
    }
   ],
   "source": [
    "sea_surface_height_above_geoid_MAM_93_19_without_MHW_mean.shape"
   ]
  },
  {
   "cell_type": "code",
   "execution_count": 55,
   "id": "cd072a9a",
   "metadata": {},
   "outputs": [
    {
     "data": {
      "text/plain": [
       "(27, 1)"
      ]
     },
     "execution_count": 55,
     "metadata": {},
     "output_type": "execute_result"
    }
   ],
   "source": [
    "sea_surface_height_above_sea_level_MAM_93_19_without_MHW_mean.shape"
   ]
  },
  {
   "cell_type": "code",
   "execution_count": 56,
   "id": "366d1def",
   "metadata": {},
   "outputs": [],
   "source": [
    "np.savez(r'D:\\heat_wave\\pacific\\last\\ssh\\SSH_MAM_Plot_with_without_MHW.npz',\n",
    "        sea_surface_height_above_geoid_93_19_mean_all = sea_surface_height_above_geoid_93_19_mean_all,\n",
    "        sea_surface_height_above_sea_level_93_19_mean_all = sea_surface_height_above_sea_level_93_19_mean_all,\n",
    "        sea_surface_height_above_geoid_MAM_93_19_without_MHW_mean = sea_surface_height_above_geoid_MAM_93_19_without_MHW_mean,\n",
    "        sea_surface_height_above_sea_level_MAM_93_19_without_MHW_mean = sea_surface_height_above_sea_level_MAM_93_19_without_MHW_mean)"
   ]
  },
  {
   "cell_type": "code",
   "execution_count": null,
   "id": "8f143398",
   "metadata": {},
   "outputs": [],
   "source": []
  }
 ],
 "metadata": {
  "kernelspec": {
   "display_name": "Python 3 (ipykernel)",
   "language": "python",
   "name": "python3"
  },
  "language_info": {
   "codemirror_mode": {
    "name": "ipython",
    "version": 3
   },
   "file_extension": ".py",
   "mimetype": "text/x-python",
   "name": "python",
   "nbconvert_exporter": "python",
   "pygments_lexer": "ipython3",
   "version": "3.8.18"
  }
 },
 "nbformat": 4,
 "nbformat_minor": 5
}

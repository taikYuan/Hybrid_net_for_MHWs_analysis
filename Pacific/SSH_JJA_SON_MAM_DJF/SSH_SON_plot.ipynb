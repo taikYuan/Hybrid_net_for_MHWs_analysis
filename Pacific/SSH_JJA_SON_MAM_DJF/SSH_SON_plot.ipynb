{
 "cells": [
  {
   "cell_type": "code",
   "execution_count": 1,
   "id": "715dbe25",
   "metadata": {},
   "outputs": [],
   "source": [
    "import random\n",
    "\n",
    "import numpy as np\n",
    "import torch\n",
    "from sklearn.metrics import mean_squared_error\n",
    "from sklearn.preprocessing import MinMaxScaler\n",
    "from torch import nn\n",
    "from tqdm import tqdm\n",
    "from torch.autograd import Variable\n",
    "from torch.utils.data import Dataset, DataLoader"
   ]
  },
  {
   "cell_type": "code",
   "execution_count": 2,
   "id": "ab048c94",
   "metadata": {},
   "outputs": [
    {
     "name": "stdout",
     "output_type": "stream",
     "text": [
      "['time', 'lat', 'lon', 'sea_surface_height_above_geoid', 'surface_geostrophic_eastward_sea_water_velocity', 'surface_geostrophic_northward_sea_water_velocity', 'sea_surface_height_above_sea_level', 'surface_geostrophic_eastward_sea_water_velocity_assuming_sea_level_for_geoid', 'surface_geostrophic_northward_sea_water_velocity_assuming_sea_level_for_geoid']\n"
     ]
    }
   ],
   "source": [
    "data = np.load(r'D:\\heat_wave\\pacific\\last\\ssh\\ssh_93_19_expand_pacific_area.npz')\n",
    "print(data.files) # ['sst_obser', 'slfh', 'sshf', 'ssr', 'str', 'mld', 'analysis_temp', 'u', 'v', 'T_d', 'u_d', 'v_d', 'xx', 'yy', 'dT_dt', 'dT_dx', 'dT_dy']"
   ]
  },
  {
   "cell_type": "code",
   "execution_count": 3,
   "id": "dd5a06f1",
   "metadata": {},
   "outputs": [],
   "source": [
    "sea_surface_height_above_geoid = data['sea_surface_height_above_geoid'][:]\n",
    "sea_surface_height_above_sea_level = data['sea_surface_height_above_sea_level'][:]"
   ]
  },
  {
   "cell_type": "code",
   "execution_count": 4,
   "id": "b1119e38",
   "metadata": {},
   "outputs": [],
   "source": [
    "# SON   93\n",
    "date_93_1 = 243\n",
    "date_93_2 = 334\n",
    "data_1 = date_93_1\n",
    "data_2 = date_93_2\n",
    "\n",
    "sea_surface_height_above_geoid_93 = sea_surface_height_above_geoid[data_1:data_2,:,:]\n",
    "sea_surface_height_above_sea_level_93 = sea_surface_height_above_sea_level[data_1:data_2,:,:]"
   ]
  },
  {
   "cell_type": "code",
   "execution_count": 5,
   "id": "181fceae",
   "metadata": {},
   "outputs": [],
   "source": [
    "# SON   94\n",
    "date_94_1 = 608\n",
    "date_94_2 = 699\n",
    "data_1 = date_94_1\n",
    "data_2 = date_94_2\n",
    "\n",
    "sea_surface_height_above_geoid_94 = sea_surface_height_above_geoid[data_1:data_2,:,:]\n",
    "sea_surface_height_above_sea_level_94 = sea_surface_height_above_sea_level[data_1:data_2,:,:]"
   ]
  },
  {
   "cell_type": "code",
   "execution_count": 6,
   "id": "bafb3ee3",
   "metadata": {},
   "outputs": [],
   "source": [
    "# SON   95\n",
    "date_95_1 = 973\n",
    "date_95_2 = 1064\n",
    "data_1 = date_95_1\n",
    "data_2 = date_95_2\n",
    "\n",
    "sea_surface_height_above_geoid_95 = sea_surface_height_above_geoid[data_1:data_2,:,:]\n",
    "sea_surface_height_above_sea_level_95 = sea_surface_height_above_sea_level[data_1:data_2,:,:]"
   ]
  },
  {
   "cell_type": "code",
   "execution_count": 7,
   "id": "4a7c7069",
   "metadata": {},
   "outputs": [],
   "source": [
    "# SON   96\n",
    "date_96_1 = 1339\n",
    "date_96_2 = 1430\n",
    "data_1 = date_96_1\n",
    "data_2 = date_96_2\n",
    "\n",
    "sea_surface_height_above_geoid_96 = sea_surface_height_above_geoid[data_1:data_2,:,:]\n",
    "sea_surface_height_above_sea_level_96 = sea_surface_height_above_sea_level[data_1:data_2,:,:]"
   ]
  },
  {
   "cell_type": "code",
   "execution_count": 8,
   "id": "93161158",
   "metadata": {},
   "outputs": [],
   "source": [
    "# SON   97\n",
    "date_97_1 = 1704\n",
    "date_97_2 = 1795\n",
    "data_1 = date_97_1\n",
    "data_2 = date_97_2\n",
    "\n",
    "sea_surface_height_above_geoid_97 = sea_surface_height_above_geoid[data_1:data_2,:,:]\n",
    "sea_surface_height_above_sea_level_97 = sea_surface_height_above_sea_level[data_1:data_2,:,:]"
   ]
  },
  {
   "cell_type": "code",
   "execution_count": 9,
   "id": "40e22690",
   "metadata": {},
   "outputs": [],
   "source": [
    "# SON   98\n",
    "date_98_1 = 2069\n",
    "date_98_2 = 2160\n",
    "data_1 = date_98_1\n",
    "data_2 = date_98_2\n",
    "\n",
    "sea_surface_height_above_geoid_98 = sea_surface_height_above_geoid[data_1:data_2,:,:]\n",
    "sea_surface_height_above_sea_level_98 = sea_surface_height_above_sea_level[data_1:data_2,:,:]"
   ]
  },
  {
   "cell_type": "code",
   "execution_count": 10,
   "id": "a7b629ee",
   "metadata": {},
   "outputs": [],
   "source": [
    "# SON   99\n",
    "date_99_1 = 2434\n",
    "date_99_2 = 2525\n",
    "data_1 = date_99_1\n",
    "data_2 = date_99_2\n",
    "\n",
    "sea_surface_height_above_geoid_99 = sea_surface_height_above_geoid[data_1:data_2,:,:]\n",
    "sea_surface_height_above_sea_level_99 = sea_surface_height_above_sea_level[data_1:data_2,:,:]"
   ]
  },
  {
   "cell_type": "code",
   "execution_count": 11,
   "id": "a6777123",
   "metadata": {},
   "outputs": [],
   "source": [
    "# SON   00\n",
    "date_00_1 = 2800\n",
    "date_00_2 = 2891\n",
    "data_1 = date_00_1\n",
    "data_2 = date_00_2\n",
    "\n",
    "sea_surface_height_above_geoid_00 = sea_surface_height_above_geoid[data_1:data_2,:,:]\n",
    "sea_surface_height_above_sea_level_00 = sea_surface_height_above_sea_level[data_1:data_2,:,:]"
   ]
  },
  {
   "cell_type": "code",
   "execution_count": 12,
   "id": "94b1b365",
   "metadata": {},
   "outputs": [],
   "source": [
    "# SON   01\n",
    "date_01_1 = 3165\n",
    "date_01_2 = 3256\n",
    "data_1 = date_01_1\n",
    "data_2 = date_01_2\n",
    "\n",
    "sea_surface_height_above_geoid_01 = sea_surface_height_above_geoid[data_1:data_2,:,:]\n",
    "sea_surface_height_above_sea_level_01 = sea_surface_height_above_sea_level[data_1:data_2,:,:]"
   ]
  },
  {
   "cell_type": "code",
   "execution_count": 13,
   "id": "97f50488",
   "metadata": {},
   "outputs": [],
   "source": [
    "# SON   02\n",
    "date_02_1 = 3529\n",
    "date_02_2 = 3620\n",
    "data_1 = date_02_1\n",
    "data_2 = date_02_2\n",
    "\n",
    "sea_surface_height_above_geoid_02 = sea_surface_height_above_geoid[data_1:data_2,:,:]\n",
    "sea_surface_height_above_sea_level_02 = sea_surface_height_above_sea_level[data_1:data_2,:,:]"
   ]
  },
  {
   "cell_type": "code",
   "execution_count": 14,
   "id": "4e10631a",
   "metadata": {},
   "outputs": [],
   "source": [
    "# SON   03\n",
    "date_03_1 = 3895\n",
    "date_03_2 = 3986\n",
    "data_1 = date_03_1\n",
    "data_2 = date_03_2\n",
    "\n",
    "sea_surface_height_above_geoid_03 = sea_surface_height_above_geoid[data_1:data_2,:,:]\n",
    "sea_surface_height_above_sea_level_03 = sea_surface_height_above_sea_level[data_1:data_2,:,:]"
   ]
  },
  {
   "cell_type": "code",
   "execution_count": 15,
   "id": "266c95cc",
   "metadata": {},
   "outputs": [],
   "source": [
    "# SON   04\n",
    "date_04_1 = 4261\n",
    "date_04_2 = 4352\n",
    "data_1 = date_04_1\n",
    "data_2 = date_04_2\n",
    "\n",
    "sea_surface_height_above_geoid_04 = sea_surface_height_above_geoid[data_1:data_2,:,:]\n",
    "sea_surface_height_above_sea_level_04 = sea_surface_height_above_sea_level[data_1:data_2,:,:]"
   ]
  },
  {
   "cell_type": "code",
   "execution_count": 16,
   "id": "aa117e26",
   "metadata": {},
   "outputs": [],
   "source": [
    "# SON   05\n",
    "date_05_1 = 4626\n",
    "date_05_2 = 4717\n",
    "data_1 = date_05_1\n",
    "data_2 = date_05_2\n",
    "\n",
    "sea_surface_height_above_geoid_05 = sea_surface_height_above_geoid[data_1:data_2,:,:]\n",
    "sea_surface_height_above_sea_level_05 = sea_surface_height_above_sea_level[data_1:data_2,:,:]"
   ]
  },
  {
   "cell_type": "code",
   "execution_count": 17,
   "id": "9834da19",
   "metadata": {},
   "outputs": [],
   "source": [
    "# SON   06\n",
    "date_06_1 = 4990\n",
    "date_06_2 = 5081\n",
    "data_1 = date_06_1\n",
    "data_2 = date_06_2\n",
    "\n",
    "sea_surface_height_above_geoid_06 = sea_surface_height_above_geoid[data_1:data_2,:,:]\n",
    "sea_surface_height_above_sea_level_06 = sea_surface_height_above_sea_level[data_1:data_2,:,:]"
   ]
  },
  {
   "cell_type": "code",
   "execution_count": 18,
   "id": "968faf60",
   "metadata": {},
   "outputs": [],
   "source": [
    "# SON   07\n",
    "date_07_1 = 5356\n",
    "date_07_2 = 5447\n",
    "data_1 = date_07_1\n",
    "data_2 = date_07_2\n",
    "\n",
    "sea_surface_height_above_geoid_07 = sea_surface_height_above_geoid[data_1:data_2,:,:]\n",
    "sea_surface_height_above_sea_level_07 = sea_surface_height_above_sea_level[data_1:data_2,:,:]"
   ]
  },
  {
   "cell_type": "code",
   "execution_count": 19,
   "id": "4b2d0101",
   "metadata": {},
   "outputs": [],
   "source": [
    "# SON   08\n",
    "date_08_1 = 5722\n",
    "date_08_2 = 5813\n",
    "data_1 = date_08_1\n",
    "data_2 = date_08_2\n",
    "\n",
    "sea_surface_height_above_geoid_08 = sea_surface_height_above_geoid[data_1:data_2,:,:]\n",
    "sea_surface_height_above_sea_level_08 = sea_surface_height_above_sea_level[data_1:data_2,:,:]"
   ]
  },
  {
   "cell_type": "code",
   "execution_count": 20,
   "id": "cd8e567f",
   "metadata": {},
   "outputs": [],
   "source": [
    "# SON   09\n",
    "date_09_1 = 6087\n",
    "date_09_2 = 6178\n",
    "data_1 = date_09_1\n",
    "data_2 = date_09_2\n",
    "\n",
    "sea_surface_height_above_geoid_09 = sea_surface_height_above_geoid[data_1:data_2,:,:]\n",
    "sea_surface_height_above_sea_level_09 = sea_surface_height_above_sea_level[data_1:data_2,:,:]"
   ]
  },
  {
   "cell_type": "code",
   "execution_count": 21,
   "id": "8a9af60a",
   "metadata": {},
   "outputs": [],
   "source": [
    "# SON   10\n",
    "date_10_1 = 6452\n",
    "date_10_2 = 6543\n",
    "data_1 = date_10_1\n",
    "data_2 = date_10_2\n",
    "\n",
    "sea_surface_height_above_geoid_10 = sea_surface_height_above_geoid[data_1:data_2,:,:]\n",
    "sea_surface_height_above_sea_level_10 = sea_surface_height_above_sea_level[data_1:data_2,:,:]"
   ]
  },
  {
   "cell_type": "code",
   "execution_count": 22,
   "id": "df51d1e8",
   "metadata": {},
   "outputs": [],
   "source": [
    "# SON   11\n",
    "date_11_1 = 6817\n",
    "date_11_2 = 6908\n",
    "data_1 = date_11_1\n",
    "data_2 = date_11_2\n",
    "\n",
    "sea_surface_height_above_geoid_11 = sea_surface_height_above_geoid[data_1:data_2,:,:]\n",
    "sea_surface_height_above_sea_level_11 = sea_surface_height_above_sea_level[data_1:data_2,:,:]"
   ]
  },
  {
   "cell_type": "code",
   "execution_count": 23,
   "id": "e5d1f6de",
   "metadata": {},
   "outputs": [],
   "source": [
    "# SON   12\n",
    "date_12_1 = 7183\n",
    "date_12_2 = 7274\n",
    "data_1 = date_12_1\n",
    "data_2 = date_12_2\n",
    "\n",
    "sea_surface_height_above_geoid_12 = sea_surface_height_above_geoid[data_1:data_2,:,:]\n",
    "sea_surface_height_above_sea_level_12 = sea_surface_height_above_sea_level[data_1:data_2,:,:]"
   ]
  },
  {
   "cell_type": "code",
   "execution_count": 24,
   "id": "f7a38db8",
   "metadata": {},
   "outputs": [],
   "source": [
    "# SON   13\n",
    "date_13_1 = 7548\n",
    "date_13_2 = 7639\n",
    "data_1 = date_13_1\n",
    "data_2 = date_13_2\n",
    "\n",
    "sea_surface_height_above_geoid_13 = sea_surface_height_above_geoid[data_1:data_2,:,:]\n",
    "sea_surface_height_above_sea_level_13 = sea_surface_height_above_sea_level[data_1:data_2,:,:]"
   ]
  },
  {
   "cell_type": "code",
   "execution_count": 25,
   "id": "436bdde2",
   "metadata": {},
   "outputs": [],
   "source": [
    "# SON   14\n",
    "date_14_1 = 7913\n",
    "date_14_2 = 8004\n",
    "data_1 = date_14_1\n",
    "data_2 = date_14_2\n",
    "\n",
    "sea_surface_height_above_geoid_14 = sea_surface_height_above_geoid[data_1:data_2,:,:]\n",
    "sea_surface_height_above_sea_level_14 = sea_surface_height_above_sea_level[data_1:data_2,:,:]"
   ]
  },
  {
   "cell_type": "code",
   "execution_count": 26,
   "id": "006826b1",
   "metadata": {},
   "outputs": [],
   "source": [
    "# SON   15\n",
    "date_15_1 = 8278\n",
    "date_15_2 = 8369\n",
    "data_1 = date_15_1\n",
    "data_2 = date_15_2\n",
    "\n",
    "sea_surface_height_above_geoid_15 = sea_surface_height_above_geoid[data_1:data_2,:,:]\n",
    "sea_surface_height_above_sea_level_15 = sea_surface_height_above_sea_level[data_1:data_2,:,:]"
   ]
  },
  {
   "cell_type": "code",
   "execution_count": 27,
   "id": "7e175a74",
   "metadata": {},
   "outputs": [],
   "source": [
    "# SON   16\n",
    "date_16_1 = 8644\n",
    "date_16_2 = 8735\n",
    "data_1 = date_16_1\n",
    "data_2 = date_16_2\n",
    "\n",
    "sea_surface_height_above_geoid_16 = sea_surface_height_above_geoid[data_1:data_2,:,:]\n",
    "sea_surface_height_above_sea_level_16 = sea_surface_height_above_sea_level[data_1:data_2,:,:]"
   ]
  },
  {
   "cell_type": "code",
   "execution_count": 28,
   "id": "45f1622a",
   "metadata": {},
   "outputs": [],
   "source": [
    "# SON   17\n",
    "date_17_1 = 9009\n",
    "date_17_2 = 9100\n",
    "data_1 = date_17_1\n",
    "data_2 = date_17_2\n",
    "\n",
    "sea_surface_height_above_geoid_17 = sea_surface_height_above_geoid[data_1:data_2,:,:]\n",
    "sea_surface_height_above_sea_level_17 = sea_surface_height_above_sea_level[data_1:data_2,:,:]"
   ]
  },
  {
   "cell_type": "code",
   "execution_count": 29,
   "id": "f8844474",
   "metadata": {},
   "outputs": [],
   "source": [
    "# SON   18\n",
    "date_18_1 = 9374\n",
    "date_18_2 = 9465\n",
    "data_1 = date_18_1\n",
    "data_2 = date_18_2\n",
    "\n",
    "sea_surface_height_above_geoid_18 = sea_surface_height_above_geoid[data_1:data_2,:,:]\n",
    "sea_surface_height_above_sea_level_18 = sea_surface_height_above_sea_level[data_1:data_2,:,:]"
   ]
  },
  {
   "cell_type": "code",
   "execution_count": 30,
   "id": "5e931221",
   "metadata": {},
   "outputs": [],
   "source": [
    "# SON   19\n",
    "date_19_1 = 9739\n",
    "date_19_2 = 9830\n",
    "data_1 = date_19_1\n",
    "data_2 = date_19_2\n",
    "\n",
    "sea_surface_height_above_geoid_19 = sea_surface_height_above_geoid[data_1:data_2,:,:]\n",
    "sea_surface_height_above_sea_level_19 = sea_surface_height_above_sea_level[data_1:data_2,:,:]"
   ]
  },
  {
   "cell_type": "code",
   "execution_count": null,
   "id": "3e3be935",
   "metadata": {},
   "outputs": [],
   "source": []
  },
  {
   "cell_type": "code",
   "execution_count": 31,
   "id": "03326bf5",
   "metadata": {},
   "outputs": [],
   "source": [
    "sea_surface_height_above_geoid_93_mean = np.mean((sea_surface_height_above_geoid_93), axis = (0,1,2)).reshape(-1,1)"
   ]
  },
  {
   "cell_type": "code",
   "execution_count": 32,
   "id": "56594f99",
   "metadata": {},
   "outputs": [],
   "source": [
    "sea_surface_height_above_geoid_94_mean = np.mean((sea_surface_height_above_geoid_94), axis = (0,1,2)).reshape(-1,1)\n",
    "sea_surface_height_above_geoid_95_mean = np.mean((sea_surface_height_above_geoid_95), axis = (0,1,2)).reshape(-1,1)\n",
    "sea_surface_height_above_geoid_96_mean = np.mean((sea_surface_height_above_geoid_96), axis = (0,1,2)).reshape(-1,1)\n",
    "sea_surface_height_above_geoid_97_mean = np.mean((sea_surface_height_above_geoid_97), axis = (0,1,2)).reshape(-1,1)\n",
    "sea_surface_height_above_geoid_98_mean = np.mean((sea_surface_height_above_geoid_98), axis = (0,1,2)).reshape(-1,1)\n",
    "sea_surface_height_above_geoid_99_mean = np.mean((sea_surface_height_above_geoid_99), axis = (0,1,2)).reshape(-1,1)\n",
    "sea_surface_height_above_geoid_00_mean = np.mean((sea_surface_height_above_geoid_00), axis = (0,1,2)).reshape(-1,1)\n",
    "sea_surface_height_above_geoid_01_mean = np.mean((sea_surface_height_above_geoid_01), axis = (0,1,2)).reshape(-1,1)\n",
    "sea_surface_height_above_geoid_02_mean = np.mean((sea_surface_height_above_geoid_02), axis = (0,1,2)).reshape(-1,1)\n",
    "sea_surface_height_above_geoid_03_mean = np.mean((sea_surface_height_above_geoid_03), axis = (0,1,2)).reshape(-1,1)\n",
    "sea_surface_height_above_geoid_04_mean = np.mean((sea_surface_height_above_geoid_04), axis = (0,1,2)).reshape(-1,1)\n",
    "sea_surface_height_above_geoid_05_mean = np.mean((sea_surface_height_above_geoid_05), axis = (0,1,2)).reshape(-1,1)\n",
    "sea_surface_height_above_geoid_06_mean = np.mean((sea_surface_height_above_geoid_06), axis = (0,1,2)).reshape(-1,1)\n",
    "sea_surface_height_above_geoid_07_mean = np.mean((sea_surface_height_above_geoid_07), axis = (0,1,2)).reshape(-1,1)\n",
    "sea_surface_height_above_geoid_08_mean = np.mean((sea_surface_height_above_geoid_08), axis = (0,1,2)).reshape(-1,1)\n",
    "sea_surface_height_above_geoid_09_mean = np.mean((sea_surface_height_above_geoid_09), axis = (0,1,2)).reshape(-1,1)\n",
    "sea_surface_height_above_geoid_10_mean = np.mean((sea_surface_height_above_geoid_10), axis = (0,1,2)).reshape(-1,1)\n",
    "sea_surface_height_above_geoid_11_mean = np.mean((sea_surface_height_above_geoid_11), axis = (0,1,2)).reshape(-1,1)\n",
    "sea_surface_height_above_geoid_12_mean = np.mean((sea_surface_height_above_geoid_12), axis = (0,1,2)).reshape(-1,1)\n",
    "sea_surface_height_above_geoid_13_mean = np.mean((sea_surface_height_above_geoid_13), axis = (0,1,2)).reshape(-1,1)\n",
    "sea_surface_height_above_geoid_14_mean = np.mean((sea_surface_height_above_geoid_14), axis = (0,1,2)).reshape(-1,1)\n",
    "sea_surface_height_above_geoid_15_mean = np.mean((sea_surface_height_above_geoid_15), axis = (0,1,2)).reshape(-1,1)\n",
    "sea_surface_height_above_geoid_16_mean = np.mean((sea_surface_height_above_geoid_16), axis = (0,1,2)).reshape(-1,1)\n",
    "sea_surface_height_above_geoid_17_mean = np.mean((sea_surface_height_above_geoid_17), axis = (0,1,2)).reshape(-1,1)\n",
    "sea_surface_height_above_geoid_18_mean = np.mean((sea_surface_height_above_geoid_18), axis = (0,1,2)).reshape(-1,1)\n",
    "sea_surface_height_above_geoid_19_mean = np.mean((sea_surface_height_above_geoid_19), axis = (0,1,2)).reshape(-1,1)"
   ]
  },
  {
   "cell_type": "code",
   "execution_count": 33,
   "id": "b6fd8c0c",
   "metadata": {},
   "outputs": [],
   "source": [
    "sea_surface_height_above_geoid_93_19_mean = np.concatenate((sea_surface_height_above_geoid_93,\n",
    "sea_surface_height_above_geoid_94, sea_surface_height_above_geoid_95, sea_surface_height_above_geoid_96,\n",
    "                                                           sea_surface_height_above_geoid_97, sea_surface_height_above_geoid_98,\n",
    "                                                           sea_surface_height_above_geoid_99, sea_surface_height_above_geoid_00,\n",
    "                                                           sea_surface_height_above_geoid_01, sea_surface_height_above_geoid_02,\n",
    "                                                           sea_surface_height_above_geoid_03, sea_surface_height_above_geoid_04,\n",
    "                                                           sea_surface_height_above_geoid_05, sea_surface_height_above_geoid_06,\n",
    "                                                           sea_surface_height_above_geoid_07, sea_surface_height_above_geoid_08,\n",
    "                                                           sea_surface_height_above_geoid_09, sea_surface_height_above_geoid_10,\n",
    "                                                           sea_surface_height_above_geoid_11, sea_surface_height_above_geoid_12,\n",
    "                                                           sea_surface_height_above_geoid_13, sea_surface_height_above_geoid_14,\n",
    "                                                           sea_surface_height_above_geoid_15, sea_surface_height_above_geoid_16,\n",
    "                                                           sea_surface_height_above_geoid_17, sea_surface_height_above_geoid_18,\n",
    "                                                           sea_surface_height_above_geoid_19), axis = 0)"
   ]
  },
  {
   "cell_type": "code",
   "execution_count": 34,
   "id": "2b954b2e",
   "metadata": {},
   "outputs": [],
   "source": [
    "sea_surface_height_above_geoid_93_19_mean = np.mean((sea_surface_height_above_geoid_93_19_mean), axis = (1,2))"
   ]
  },
  {
   "cell_type": "code",
   "execution_count": 35,
   "id": "a28cfd1e",
   "metadata": {},
   "outputs": [],
   "source": [
    "sea_surface_height_above_geoid_93_19_mean_all = np.concatenate((sea_surface_height_above_geoid_93_mean,\n",
    "sea_surface_height_above_geoid_94_mean, sea_surface_height_above_geoid_95_mean, \n",
    "                                                                sea_surface_height_above_geoid_96_mean,\n",
    "                                                           sea_surface_height_above_geoid_97_mean, sea_surface_height_above_geoid_98_mean,\n",
    "                                                           sea_surface_height_above_geoid_99_mean, sea_surface_height_above_geoid_00_mean,\n",
    "                                                           sea_surface_height_above_geoid_01_mean, sea_surface_height_above_geoid_02_mean,\n",
    "                                                           sea_surface_height_above_geoid_03_mean, sea_surface_height_above_geoid_04_mean,\n",
    "                                                           sea_surface_height_above_geoid_05_mean, sea_surface_height_above_geoid_06_mean,\n",
    "                                                           sea_surface_height_above_geoid_07_mean, sea_surface_height_above_geoid_08_mean,\n",
    "                                                           sea_surface_height_above_geoid_09_mean, sea_surface_height_above_geoid_10_mean,\n",
    "                                                           sea_surface_height_above_geoid_11_mean, sea_surface_height_above_geoid_12_mean,\n",
    "                                                           sea_surface_height_above_geoid_13_mean, sea_surface_height_above_geoid_14_mean,\n",
    "                                                           sea_surface_height_above_geoid_15_mean, sea_surface_height_above_geoid_16_mean,\n",
    "                                                           sea_surface_height_above_geoid_17_mean, sea_surface_height_above_geoid_18_mean,\n",
    "                                                           sea_surface_height_above_geoid_19_mean), axis = 0)"
   ]
  },
  {
   "cell_type": "code",
   "execution_count": 36,
   "id": "13344810",
   "metadata": {},
   "outputs": [],
   "source": [
    "sea_surface_height_above_sea_level_93_mean = np.mean((sea_surface_height_above_sea_level_93), axis = (0,1,2)).reshape(-1,1)\n",
    "sea_surface_height_above_sea_level_94_mean = np.mean((sea_surface_height_above_sea_level_94), axis = (0,1,2)).reshape(-1,1)\n",
    "sea_surface_height_above_sea_level_95_mean = np.mean((sea_surface_height_above_sea_level_95), axis = (0,1,2)).reshape(-1,1)\n",
    "sea_surface_height_above_sea_level_96_mean = np.mean((sea_surface_height_above_sea_level_96), axis = (0,1,2)).reshape(-1,1)\n",
    "sea_surface_height_above_sea_level_97_mean = np.mean((sea_surface_height_above_sea_level_97), axis = (0,1,2)).reshape(-1,1)\n",
    "sea_surface_height_above_sea_level_98_mean = np.mean((sea_surface_height_above_sea_level_98), axis = (0,1,2)).reshape(-1,1)\n",
    "sea_surface_height_above_sea_level_99_mean = np.mean((sea_surface_height_above_sea_level_99), axis = (0,1,2)).reshape(-1,1)\n",
    "sea_surface_height_above_sea_level_00_mean = np.mean((sea_surface_height_above_sea_level_00), axis = (0,1,2)).reshape(-1,1)\n",
    "sea_surface_height_above_sea_level_01_mean = np.mean((sea_surface_height_above_sea_level_01), axis = (0,1,2)).reshape(-1,1)\n",
    "sea_surface_height_above_sea_level_02_mean = np.mean((sea_surface_height_above_sea_level_02), axis = (0,1,2)).reshape(-1,1)\n",
    "sea_surface_height_above_sea_level_03_mean = np.mean((sea_surface_height_above_sea_level_03), axis = (0,1,2)).reshape(-1,1)\n",
    "sea_surface_height_above_sea_level_04_mean = np.mean((sea_surface_height_above_sea_level_04), axis = (0,1,2)).reshape(-1,1)\n",
    "sea_surface_height_above_sea_level_05_mean = np.mean((sea_surface_height_above_sea_level_05), axis = (0,1,2)).reshape(-1,1)\n",
    "sea_surface_height_above_sea_level_06_mean = np.mean((sea_surface_height_above_sea_level_06), axis = (0,1,2)).reshape(-1,1)\n",
    "sea_surface_height_above_sea_level_07_mean = np.mean((sea_surface_height_above_sea_level_07), axis = (0,1,2)).reshape(-1,1)\n",
    "sea_surface_height_above_sea_level_08_mean = np.mean((sea_surface_height_above_sea_level_08), axis = (0,1,2)).reshape(-1,1)\n",
    "sea_surface_height_above_sea_level_09_mean = np.mean((sea_surface_height_above_sea_level_09), axis = (0,1,2)).reshape(-1,1)\n",
    "sea_surface_height_above_sea_level_10_mean = np.mean((sea_surface_height_above_sea_level_10), axis = (0,1,2)).reshape(-1,1)\n",
    "sea_surface_height_above_sea_level_11_mean = np.mean((sea_surface_height_above_sea_level_11), axis = (0,1,2)).reshape(-1,1)\n",
    "sea_surface_height_above_sea_level_12_mean = np.mean((sea_surface_height_above_sea_level_12), axis = (0,1,2)).reshape(-1,1)\n",
    "sea_surface_height_above_sea_level_13_mean = np.mean((sea_surface_height_above_sea_level_13), axis = (0,1,2)).reshape(-1,1)\n",
    "sea_surface_height_above_sea_level_14_mean = np.mean((sea_surface_height_above_sea_level_14), axis = (0,1,2)).reshape(-1,1)\n",
    "sea_surface_height_above_sea_level_15_mean = np.mean((sea_surface_height_above_sea_level_15), axis = (0,1,2)).reshape(-1,1)\n",
    "sea_surface_height_above_sea_level_16_mean = np.mean((sea_surface_height_above_sea_level_16), axis = (0,1,2)).reshape(-1,1)\n",
    "sea_surface_height_above_sea_level_17_mean = np.mean((sea_surface_height_above_sea_level_17), axis = (0,1,2)).reshape(-1,1)\n",
    "sea_surface_height_above_sea_level_18_mean = np.mean((sea_surface_height_above_sea_level_18), axis = (0,1,2)).reshape(-1,1)\n",
    "sea_surface_height_above_sea_level_19_mean = np.mean((sea_surface_height_above_sea_level_19), axis = (0,1,2)).reshape(-1,1)"
   ]
  },
  {
   "cell_type": "code",
   "execution_count": 37,
   "id": "d057bd06",
   "metadata": {},
   "outputs": [],
   "source": [
    "sea_surface_height_above_sea_level_93_19_mean_all = np.concatenate((\n",
    "sea_surface_height_above_sea_level_93_mean, sea_surface_height_above_sea_level_94_mean,\n",
    "sea_surface_height_above_sea_level_95_mean, sea_surface_height_above_sea_level_96_mean,\n",
    "sea_surface_height_above_sea_level_97_mean, sea_surface_height_above_sea_level_98_mean,\n",
    "sea_surface_height_above_sea_level_99_mean, sea_surface_height_above_sea_level_00_mean,\n",
    "sea_surface_height_above_sea_level_01_mean, sea_surface_height_above_sea_level_02_mean,\n",
    "sea_surface_height_above_sea_level_03_mean, sea_surface_height_above_sea_level_04_mean,\n",
    "sea_surface_height_above_sea_level_05_mean, sea_surface_height_above_sea_level_06_mean,\n",
    "sea_surface_height_above_sea_level_07_mean, sea_surface_height_above_sea_level_08_mean,\n",
    "sea_surface_height_above_sea_level_09_mean, sea_surface_height_above_sea_level_10_mean,\n",
    "sea_surface_height_above_sea_level_11_mean, sea_surface_height_above_sea_level_12_mean,\n",
    "sea_surface_height_above_sea_level_13_mean, sea_surface_height_above_sea_level_14_mean,\n",
    "sea_surface_height_above_sea_level_15_mean, sea_surface_height_above_sea_level_16_mean,\n",
    "sea_surface_height_above_sea_level_17_mean, sea_surface_height_above_sea_level_18_mean,\n",
    "sea_surface_height_above_sea_level_19_mean), axis = 0)"
   ]
  },
  {
   "cell_type": "code",
   "execution_count": null,
   "id": "270892f8",
   "metadata": {},
   "outputs": [],
   "source": []
  },
  {
   "cell_type": "code",
   "execution_count": 38,
   "id": "0ae6504a",
   "metadata": {},
   "outputs": [],
   "source": [
    "# 去除MHW"
   ]
  },
  {
   "cell_type": "code",
   "execution_count": 39,
   "id": "1e09d095",
   "metadata": {},
   "outputs": [],
   "source": [
    "sea_surface_height_above_geoid_93_19 = np.concatenate((sea_surface_height_above_geoid_93,\n",
    "                                                      sea_surface_height_above_geoid_94, sea_surface_height_above_geoid_95,\n",
    "                                                      sea_surface_height_above_geoid_96, sea_surface_height_above_geoid_97,\n",
    "                                                      sea_surface_height_above_geoid_98, sea_surface_height_above_geoid_99,\n",
    "                                                      sea_surface_height_above_geoid_00,\n",
    "                                                      sea_surface_height_above_geoid_01, sea_surface_height_above_geoid_02,\n",
    "                                                      sea_surface_height_above_geoid_03, sea_surface_height_above_geoid_04,\n",
    "                                                      sea_surface_height_above_geoid_05, sea_surface_height_above_geoid_06,\n",
    "                                                      sea_surface_height_above_geoid_07, sea_surface_height_above_geoid_08,\n",
    "                                                      sea_surface_height_above_geoid_09, sea_surface_height_above_geoid_10,\n",
    "                                                      sea_surface_height_above_geoid_11, sea_surface_height_above_geoid_12,\n",
    "                                                      sea_surface_height_above_geoid_13, sea_surface_height_above_geoid_14,\n",
    "                                                      sea_surface_height_above_geoid_15, sea_surface_height_above_geoid_16,\n",
    "                                                      sea_surface_height_above_geoid_17, sea_surface_height_above_geoid_18,\n",
    "                                                      sea_surface_height_above_geoid_19),axis = 0)"
   ]
  },
  {
   "cell_type": "code",
   "execution_count": 40,
   "id": "ee45d336",
   "metadata": {},
   "outputs": [],
   "source": [
    "sea_surface_height_above_sea_level_93_19 = np.concatenate((sea_surface_height_above_sea_level_93,\n",
    "sea_surface_height_above_sea_level_94, sea_surface_height_above_sea_level_95,\n",
    "                                                          sea_surface_height_above_sea_level_96, sea_surface_height_above_sea_level_97,\n",
    "                                                          sea_surface_height_above_sea_level_98, sea_surface_height_above_sea_level_99,\n",
    "                                                          sea_surface_height_above_sea_level_00, sea_surface_height_above_sea_level_01,\n",
    "                                                          sea_surface_height_above_sea_level_02, sea_surface_height_above_sea_level_03,\n",
    "                                                          sea_surface_height_above_sea_level_04, sea_surface_height_above_sea_level_05,\n",
    "                                                          sea_surface_height_above_sea_level_06, sea_surface_height_above_sea_level_07,\n",
    "                                                          sea_surface_height_above_sea_level_08, sea_surface_height_above_sea_level_09,\n",
    "                                                          sea_surface_height_above_sea_level_10, sea_surface_height_above_sea_level_11,\n",
    "                                                          sea_surface_height_above_sea_level_12, sea_surface_height_above_sea_level_13,\n",
    "                                                          sea_surface_height_above_sea_level_14, sea_surface_height_above_sea_level_15,\n",
    "                                                          sea_surface_height_above_sea_level_16, sea_surface_height_above_sea_level_17,\n",
    "                                                          sea_surface_height_above_sea_level_18, sea_surface_height_above_sea_level_19),axis = 0)"
   ]
  },
  {
   "cell_type": "code",
   "execution_count": 41,
   "id": "119d1df9",
   "metadata": {},
   "outputs": [],
   "source": [
    "sea_surface_height_above_geoid_93_19_mean = np.mean((sea_surface_height_above_geoid_93_19), axis = (1,2)).reshape(-1,1)"
   ]
  },
  {
   "cell_type": "code",
   "execution_count": 42,
   "id": "5d667ba3",
   "metadata": {},
   "outputs": [
    {
     "data": {
      "text/plain": [
       "(2457, 1)"
      ]
     },
     "execution_count": 42,
     "metadata": {},
     "output_type": "execute_result"
    }
   ],
   "source": [
    "sea_surface_height_above_geoid_93_19_mean.shape"
   ]
  },
  {
   "cell_type": "code",
   "execution_count": 43,
   "id": "a9f9f7c3",
   "metadata": {},
   "outputs": [],
   "source": [
    "sea_surface_height_above_sea_level_93_19_mean = np.mean((sea_surface_height_above_sea_level_93_19), axis = (1,2)).reshape(-1,1)"
   ]
  },
  {
   "cell_type": "code",
   "execution_count": 44,
   "id": "331a4d05",
   "metadata": {},
   "outputs": [
    {
     "data": {
      "text/plain": [
       "(2457, 1)"
      ]
     },
     "execution_count": 44,
     "metadata": {},
     "output_type": "execute_result"
    }
   ],
   "source": [
    "sea_surface_height_above_sea_level_93_19_mean.shape"
   ]
  },
  {
   "cell_type": "code",
   "execution_count": 45,
   "id": "b84070d0",
   "metadata": {},
   "outputs": [],
   "source": [
    "sea_surface_height_above_geoid_SON_93 = np.mean(sea_surface_height_above_geoid_93_19_mean[:91]).reshape(-1,1)\n",
    "sea_surface_height_above_geoid_SON_94 = np.mean(sea_surface_height_above_geoid_93_19_mean[91:182]).reshape(-1,1)\n",
    "sea_surface_height_above_geoid_SON_95 = np.mean(sea_surface_height_above_geoid_93_19_mean[182:273]).reshape(-1,1)\n",
    "sea_surface_height_above_geoid_SON_96 = np.mean(sea_surface_height_above_geoid_93_19_mean[273:364]).reshape(-1,1)\n",
    "sea_surface_height_above_geoid_SON_97_1 = sea_surface_height_above_geoid_93_19_mean[364:447].reshape(-1,1)\n",
    "sea_surface_height_above_geoid_SON_97_2 = sea_surface_height_above_geoid_93_19_mean[452:455].reshape(-1,1)\n",
    "sea_surface_height_above_geoid_SON_97 = np.concatenate((sea_surface_height_above_geoid_SON_97_1, sea_surface_height_above_geoid_SON_97_2), axis = 0)\n",
    "sea_surface_height_above_geoid_SON_97 = np.mean(sea_surface_height_above_geoid_SON_97).reshape(-1,1)\n",
    "sea_surface_height_above_geoid_SON_98 = np.mean(sea_surface_height_above_geoid_93_19_mean[455:546]).reshape(-1,1)\n",
    "sea_surface_height_above_geoid_SON_99 = np.mean(sea_surface_height_above_geoid_93_19_mean[546:637]).reshape(-1,1)\n",
    "sea_surface_height_above_geoid_SON_00 = np.mean(sea_surface_height_above_geoid_93_19_mean[637:728]).reshape(-1,1)\n",
    "sea_surface_height_above_geoid_SON_01 = np.mean(sea_surface_height_above_geoid_93_19_mean[728:819]).reshape(-1,1)\n",
    "sea_surface_height_above_geoid_SON_02 = np.mean(sea_surface_height_above_geoid_93_19_mean[819:910]).reshape(-1,1)\n",
    "sea_surface_height_above_geoid_SON_03 = np.mean(sea_surface_height_above_geoid_93_19_mean[910:1001]).reshape(-1,1)\n",
    "sea_surface_height_above_geoid_SON_04 = np.mean(sea_surface_height_above_geoid_93_19_mean[1001:1092]).reshape(-1,1)\n",
    "sea_surface_height_above_geoid_SON_05 = np.mean(sea_surface_height_above_geoid_93_19_mean[1092:1183]).reshape(-1,1)\n",
    "sea_surface_height_above_geoid_SON_06_1 = sea_surface_height_above_geoid_93_19_mean[1183:1250].reshape(-1,1)\n",
    "sea_surface_height_above_geoid_SON_06_2 = sea_surface_height_above_geoid_93_19_mean[1255:1274].reshape(-1,1)\n",
    "sea_surface_height_above_geoid_SON_06 = np.concatenate((sea_surface_height_above_geoid_SON_06_1, sea_surface_height_above_geoid_SON_06_2), axis = 0)\n",
    "sea_surface_height_above_geoid_SON_06 = np.mean(sea_surface_height_above_geoid_SON_06).reshape(-1,1)\n",
    "sea_surface_height_above_geoid_SON_07 = np.mean(sea_surface_height_above_geoid_93_19_mean[1274:1365]).reshape(-1,1)\n",
    "sea_surface_height_above_geoid_SON_08 = np.mean(sea_surface_height_above_geoid_93_19_mean[1365:1456]).reshape(-1,1)\n",
    "sea_surface_height_above_geoid_SON_09 = np.mean(sea_surface_height_above_geoid_93_19_mean[1456:1547]).reshape(-1,1)\n",
    "sea_surface_height_above_geoid_SON_10 = np.mean(sea_surface_height_above_geoid_93_19_mean[1547:1638]).reshape(-1,1)\n",
    "sea_surface_height_above_geoid_SON_11 = np.mean(sea_surface_height_above_geoid_93_19_mean[1638:1729]).reshape(-1,1)\n",
    "sea_surface_height_above_geoid_SON_12_1 = sea_surface_height_above_geoid_93_19_mean[1732:1738].reshape(-1,1)\n",
    "sea_surface_height_above_geoid_SON_12_2 = sea_surface_height_above_geoid_93_19_mean[1747:1752].reshape(-1,1)\n",
    "sea_surface_height_above_geoid_SON_12_3 = sea_surface_height_above_geoid_93_19_mean[1757:1820].reshape(-1,1)\n",
    "sea_surface_height_above_geoid_SON_12 = np.concatenate((sea_surface_height_above_geoid_SON_12_1, sea_surface_height_above_geoid_SON_12_2, sea_surface_height_above_geoid_SON_12_3), axis = 0)\n",
    "sea_surface_height_above_geoid_SON_12 = np.mean(sea_surface_height_above_geoid_SON_12).reshape(-1,1)\n",
    "sea_surface_height_above_geoid_SON_13_1 = sea_surface_height_above_geoid_93_19_mean[1820:1880].reshape(-1,1)\n",
    "sea_surface_height_above_geoid_SON_13_2 = sea_surface_height_above_geoid_93_19_mean[1885:1903].reshape(-1,1)\n",
    "sea_surface_height_above_geoid_SON_13_3 = sea_surface_height_above_geoid_93_19_mean[1908:1911].reshape(-1,1)\n",
    "sea_surface_height_above_geoid_SON_13 = np.concatenate((sea_surface_height_above_geoid_SON_13_1, sea_surface_height_above_geoid_SON_13_2, sea_surface_height_above_geoid_SON_13_3), axis = 0)\n",
    "sea_surface_height_above_geoid_SON_13 = np.mean(sea_surface_height_above_geoid_SON_13).reshape(-1,1)\n",
    "sea_surface_height_above_geoid_SON_14_1 = sea_surface_height_above_geoid_93_19_mean[1911:1944].reshape(-1,1)\n",
    "sea_surface_height_above_geoid_SON_14_2 = sea_surface_height_above_geoid_93_19_mean[1949:1972].reshape(-1,1)\n",
    "sea_surface_height_above_geoid_SON_14_3 = sea_surface_height_above_geoid_93_19_mean[1977:1986].reshape(-1,1)\n",
    "sea_surface_height_above_geoid_SON_14 = np.concatenate((sea_surface_height_above_geoid_SON_14_1, sea_surface_height_above_geoid_SON_14_2, sea_surface_height_above_geoid_SON_14_3), axis = 0)\n",
    "sea_surface_height_above_geoid_SON_14 = np.mean(sea_surface_height_above_geoid_SON_14).reshape(-1,1)\n",
    "sea_surface_height_above_geoid_SON_15 = np.mean(sea_surface_height_above_geoid_93_19_mean[2078:2084]).reshape(-1,1)\n",
    "sea_surface_height_above_geoid_SON_16 = np.mean(sea_surface_height_above_geoid_93_19_mean[2093:2184]).reshape(-1,1)\n",
    "sea_surface_height_above_geoid_SON_17_1 = sea_surface_height_above_geoid_93_19_mean[2192:2236].reshape(-1,1)\n",
    "sea_surface_height_above_geoid_SON_17_2 = sea_surface_height_above_geoid_93_19_mean[2255:2275].reshape(-1,1)\n",
    "sea_surface_height_above_geoid_SON_17 = np.concatenate((sea_surface_height_above_geoid_SON_17_1, sea_surface_height_above_geoid_SON_17_2), axis = 0)\n",
    "sea_surface_height_above_geoid_SON_17 = np.mean(sea_surface_height_above_geoid_SON_17).reshape(-1,1)\n",
    "sea_surface_height_above_geoid_SON_18_1 = sea_surface_height_above_geoid_93_19_mean[2275:2297].reshape(-1,1)\n",
    "sea_surface_height_above_geoid_SON_18_2 = sea_surface_height_above_geoid_93_19_mean[2324:2366].reshape(-1,1)\n",
    "sea_surface_height_above_geoid_SON_18 = np.concatenate((sea_surface_height_above_geoid_SON_18_1, sea_surface_height_above_geoid_SON_18_2), axis = 0)\n",
    "sea_surface_height_above_geoid_SON_18 = np.mean(sea_surface_height_above_geoid_SON_18).reshape(-1,1)\n",
    "sea_surface_height_above_geoid_SON_19 = np.mean(sea_surface_height_above_geoid_93_19_mean[2366:]).reshape(-1,1)\n"
   ]
  },
  {
   "cell_type": "code",
   "execution_count": 46,
   "id": "9effc437",
   "metadata": {},
   "outputs": [],
   "source": [
    "sea_surface_height_above_geoid_SON_93_19_without_MHW_mean = np.concatenate((\n",
    "sea_surface_height_above_geoid_SON_93, sea_surface_height_above_geoid_SON_94,\n",
    "sea_surface_height_above_geoid_SON_95, sea_surface_height_above_geoid_SON_96,\n",
    "sea_surface_height_above_geoid_SON_97, sea_surface_height_above_geoid_SON_98,\n",
    "sea_surface_height_above_geoid_SON_99, sea_surface_height_above_geoid_SON_00,\n",
    "sea_surface_height_above_geoid_SON_01, sea_surface_height_above_geoid_SON_02,\n",
    "sea_surface_height_above_geoid_SON_03, sea_surface_height_above_geoid_SON_04,\n",
    "sea_surface_height_above_geoid_SON_05, sea_surface_height_above_geoid_SON_06,\n",
    "sea_surface_height_above_geoid_SON_07, sea_surface_height_above_geoid_SON_08,\n",
    "sea_surface_height_above_geoid_SON_09, sea_surface_height_above_geoid_SON_10,\n",
    "sea_surface_height_above_geoid_SON_11, sea_surface_height_above_geoid_SON_12,\n",
    "sea_surface_height_above_geoid_SON_13, sea_surface_height_above_geoid_SON_14,\n",
    "sea_surface_height_above_geoid_SON_15, sea_surface_height_above_geoid_SON_16,\n",
    "sea_surface_height_above_geoid_SON_17, sea_surface_height_above_geoid_SON_18,\n",
    "sea_surface_height_above_geoid_SON_19), axis = 0).reshape(-1,1)"
   ]
  },
  {
   "cell_type": "code",
   "execution_count": null,
   "id": "278b6801",
   "metadata": {},
   "outputs": [],
   "source": []
  },
  {
   "cell_type": "code",
   "execution_count": 47,
   "id": "625da34a",
   "metadata": {},
   "outputs": [],
   "source": [
    "sea_surface_height_above_sea_level_SON_93 = np.mean(sea_surface_height_above_sea_level_93_19_mean[:91]).reshape(-1,1)\n",
    "sea_surface_height_above_sea_level_SON_94 = np.mean(sea_surface_height_above_sea_level_93_19_mean[91:182]).reshape(-1,1)\n",
    "sea_surface_height_above_sea_level_SON_95 = np.mean(sea_surface_height_above_sea_level_93_19_mean[182:273]).reshape(-1,1)\n",
    "sea_surface_height_above_sea_level_SON_96 = np.mean(sea_surface_height_above_sea_level_93_19_mean[273:364]).reshape(-1,1)\n",
    "sea_surface_height_above_sea_level_SON_97_1 = sea_surface_height_above_sea_level_93_19_mean[364:447].reshape(-1,1)\n",
    "sea_surface_height_above_sea_level_SON_97_2 = sea_surface_height_above_sea_level_93_19_mean[452:455].reshape(-1,1)\n",
    "sea_surface_height_above_sea_level_SON_97 = np.concatenate((sea_surface_height_above_sea_level_SON_97_1, sea_surface_height_above_sea_level_SON_97_2), axis = 0)\n",
    "sea_surface_height_above_sea_level_SON_97 = np.mean(sea_surface_height_above_sea_level_SON_97).reshape(-1,1)\n",
    "sea_surface_height_above_sea_level_SON_98 = np.mean(sea_surface_height_above_sea_level_93_19_mean[455:546]).reshape(-1,1)\n",
    "sea_surface_height_above_sea_level_SON_99 = np.mean(sea_surface_height_above_sea_level_93_19_mean[546:637]).reshape(-1,1)\n",
    "sea_surface_height_above_sea_level_SON_00 = np.mean(sea_surface_height_above_sea_level_93_19_mean[637:728]).reshape(-1,1)\n",
    "sea_surface_height_above_sea_level_SON_01 = np.mean(sea_surface_height_above_sea_level_93_19_mean[728:819]).reshape(-1,1)\n",
    "sea_surface_height_above_sea_level_SON_02 = np.mean(sea_surface_height_above_sea_level_93_19_mean[819:910]).reshape(-1,1)\n",
    "sea_surface_height_above_sea_level_SON_03 = np.mean(sea_surface_height_above_sea_level_93_19_mean[910:1001]).reshape(-1,1)\n",
    "sea_surface_height_above_sea_level_SON_04 = np.mean(sea_surface_height_above_sea_level_93_19_mean[1001:1092]).reshape(-1,1)\n",
    "sea_surface_height_above_sea_level_SON_05 = np.mean(sea_surface_height_above_sea_level_93_19_mean[1092:1183]).reshape(-1,1)\n",
    "sea_surface_height_above_sea_level_SON_06_1 = sea_surface_height_above_sea_level_93_19_mean[1183:1250].reshape(-1,1)\n",
    "sea_surface_height_above_sea_level_SON_06_2 = sea_surface_height_above_sea_level_93_19_mean[1255:1274].reshape(-1,1)\n",
    "sea_surface_height_above_sea_level_SON_06 = np.concatenate((sea_surface_height_above_sea_level_SON_06_1, sea_surface_height_above_sea_level_SON_06_2), axis = 0)\n",
    "sea_surface_height_above_sea_level_SON_06 = np.mean(sea_surface_height_above_sea_level_SON_06).reshape(-1,1)\n",
    "sea_surface_height_above_sea_level_SON_07 = np.mean(sea_surface_height_above_sea_level_93_19_mean[1274:1365]).reshape(-1,1)\n",
    "sea_surface_height_above_sea_level_SON_08 = np.mean(sea_surface_height_above_sea_level_93_19_mean[1365:1456]).reshape(-1,1)\n",
    "sea_surface_height_above_sea_level_SON_09 = np.mean(sea_surface_height_above_sea_level_93_19_mean[1456:1547]).reshape(-1,1)\n",
    "sea_surface_height_above_sea_level_SON_10 = np.mean(sea_surface_height_above_sea_level_93_19_mean[1547:1638]).reshape(-1,1)\n",
    "sea_surface_height_above_sea_level_SON_11 = np.mean(sea_surface_height_above_sea_level_93_19_mean[1638:1729]).reshape(-1,1)\n",
    "sea_surface_height_above_sea_level_SON_12_1 = sea_surface_height_above_sea_level_93_19_mean[1732:1738].reshape(-1,1)\n",
    "sea_surface_height_above_sea_level_SON_12_2 = sea_surface_height_above_sea_level_93_19_mean[1747:1752].reshape(-1,1)\n",
    "sea_surface_height_above_sea_level_SON_12_3 = sea_surface_height_above_sea_level_93_19_mean[1757:1820].reshape(-1,1)\n",
    "sea_surface_height_above_sea_level_SON_12 = np.concatenate((sea_surface_height_above_sea_level_SON_12_1, sea_surface_height_above_sea_level_SON_12_2, sea_surface_height_above_sea_level_SON_12_3), axis = 0)\n",
    "sea_surface_height_above_sea_level_SON_12 = np.mean(sea_surface_height_above_sea_level_SON_12).reshape(-1,1)\n",
    "sea_surface_height_above_sea_level_SON_13_1 = sea_surface_height_above_sea_level_93_19_mean[1820:1880].reshape(-1,1)\n",
    "sea_surface_height_above_sea_level_SON_13_2 = sea_surface_height_above_sea_level_93_19_mean[1885:1903].reshape(-1,1)\n",
    "sea_surface_height_above_sea_level_SON_13_3 = sea_surface_height_above_sea_level_93_19_mean[1908:1911].reshape(-1,1)\n",
    "sea_surface_height_above_sea_level_SON_13 = np.concatenate((sea_surface_height_above_sea_level_SON_13_1, sea_surface_height_above_sea_level_SON_13_2, sea_surface_height_above_sea_level_SON_13_3), axis = 0)\n",
    "sea_surface_height_above_sea_level_SON_13 = np.mean(sea_surface_height_above_sea_level_SON_13).reshape(-1,1)\n",
    "sea_surface_height_above_sea_level_SON_14_1 = sea_surface_height_above_sea_level_93_19_mean[1911:1944].reshape(-1,1)\n",
    "sea_surface_height_above_sea_level_SON_14_2 = sea_surface_height_above_sea_level_93_19_mean[1949:1972].reshape(-1,1)\n",
    "sea_surface_height_above_sea_level_SON_14_3 = sea_surface_height_above_sea_level_93_19_mean[1977:1986].reshape(-1,1)\n",
    "sea_surface_height_above_sea_level_SON_14 = np.concatenate((sea_surface_height_above_sea_level_SON_14_1, sea_surface_height_above_sea_level_SON_14_2, sea_surface_height_above_sea_level_SON_14_3), axis = 0)\n",
    "sea_surface_height_above_sea_level_SON_14 = np.mean(sea_surface_height_above_sea_level_SON_14).reshape(-1,1)\n",
    "sea_surface_height_above_sea_level_SON_15 = np.mean(sea_surface_height_above_sea_level_93_19_mean[2078:2084]).reshape(-1,1)\n",
    "sea_surface_height_above_sea_level_SON_16 = np.mean(sea_surface_height_above_sea_level_93_19_mean[2093:2184]).reshape(-1,1)\n",
    "sea_surface_height_above_sea_level_SON_17_1 = sea_surface_height_above_sea_level_93_19_mean[2192:2236].reshape(-1,1)\n",
    "sea_surface_height_above_sea_level_SON_17_2 = sea_surface_height_above_sea_level_93_19_mean[2255:2275].reshape(-1,1)\n",
    "sea_surface_height_above_sea_level_SON_17 = np.concatenate((sea_surface_height_above_sea_level_SON_17_1, sea_surface_height_above_sea_level_SON_17_2), axis = 0)\n",
    "sea_surface_height_above_sea_level_SON_17 = np.mean(sea_surface_height_above_sea_level_SON_17).reshape(-1,1)\n",
    "sea_surface_height_above_sea_level_SON_18_1 = sea_surface_height_above_sea_level_93_19_mean[2275:2297].reshape(-1,1)\n",
    "sea_surface_height_above_sea_level_SON_18_2 = sea_surface_height_above_sea_level_93_19_mean[2324:2366].reshape(-1,1)\n",
    "sea_surface_height_above_sea_level_SON_18 = np.concatenate((sea_surface_height_above_sea_level_SON_18_1, sea_surface_height_above_sea_level_SON_18_2), axis = 0)\n",
    "sea_surface_height_above_sea_level_SON_18 = np.mean(sea_surface_height_above_sea_level_SON_18).reshape(-1,1)\n",
    "sea_surface_height_above_sea_level_SON_19 = np.mean(sea_surface_height_above_sea_level_93_19_mean[2366:]).reshape(-1,1)"
   ]
  },
  {
   "cell_type": "code",
   "execution_count": 48,
   "id": "67a4ee3f",
   "metadata": {},
   "outputs": [],
   "source": [
    "sea_surface_height_above_sea_level_SON_93_19_without_MHW_mean = np.concatenate((\n",
    "sea_surface_height_above_sea_level_SON_93, sea_surface_height_above_sea_level_SON_94,\n",
    "sea_surface_height_above_sea_level_SON_95, sea_surface_height_above_sea_level_SON_96,\n",
    "sea_surface_height_above_sea_level_SON_97, sea_surface_height_above_sea_level_SON_98,\n",
    "sea_surface_height_above_sea_level_SON_99, sea_surface_height_above_sea_level_SON_00,\n",
    "sea_surface_height_above_sea_level_SON_01, sea_surface_height_above_sea_level_SON_02,\n",
    "sea_surface_height_above_sea_level_SON_03, sea_surface_height_above_sea_level_SON_04,\n",
    "sea_surface_height_above_sea_level_SON_05, sea_surface_height_above_sea_level_SON_06,\n",
    "sea_surface_height_above_sea_level_SON_07, sea_surface_height_above_sea_level_SON_08,\n",
    "sea_surface_height_above_sea_level_SON_09, sea_surface_height_above_sea_level_SON_10,\n",
    "sea_surface_height_above_sea_level_SON_11, sea_surface_height_above_sea_level_SON_12,\n",
    "sea_surface_height_above_sea_level_SON_13, sea_surface_height_above_sea_level_SON_14,\n",
    "sea_surface_height_above_sea_level_SON_15, sea_surface_height_above_sea_level_SON_16,\n",
    "sea_surface_height_above_sea_level_SON_17, sea_surface_height_above_sea_level_SON_18,\n",
    "sea_surface_height_above_sea_level_SON_19), axis = 0).reshape(-1,1)"
   ]
  },
  {
   "cell_type": "code",
   "execution_count": null,
   "id": "054aa8dd",
   "metadata": {},
   "outputs": [],
   "source": []
  },
  {
   "cell_type": "code",
   "execution_count": null,
   "id": "78109e20",
   "metadata": {},
   "outputs": [],
   "source": []
  },
  {
   "cell_type": "code",
   "execution_count": 49,
   "id": "c6197c3a",
   "metadata": {},
   "outputs": [
    {
     "data": {
      "text/plain": [
       "(27, 1)"
      ]
     },
     "execution_count": 49,
     "metadata": {},
     "output_type": "execute_result"
    }
   ],
   "source": [
    "sea_surface_height_above_geoid_SON_93_19_without_MHW_mean.shape"
   ]
  },
  {
   "cell_type": "code",
   "execution_count": 50,
   "id": "f229d8bb",
   "metadata": {},
   "outputs": [
    {
     "data": {
      "text/plain": [
       "(27, 1)"
      ]
     },
     "execution_count": 50,
     "metadata": {},
     "output_type": "execute_result"
    }
   ],
   "source": [
    "sea_surface_height_above_sea_level_SON_93_19_without_MHW_mean.shape"
   ]
  },
  {
   "cell_type": "code",
   "execution_count": 51,
   "id": "9afe9e9d",
   "metadata": {},
   "outputs": [
    {
     "data": {
      "text/plain": [
       "(27, 1)"
      ]
     },
     "execution_count": 51,
     "metadata": {},
     "output_type": "execute_result"
    }
   ],
   "source": [
    "sea_surface_height_above_sea_level_93_19_mean_all.shape"
   ]
  },
  {
   "cell_type": "code",
   "execution_count": 52,
   "id": "825abb48",
   "metadata": {},
   "outputs": [
    {
     "data": {
      "text/plain": [
       "(27, 1)"
      ]
     },
     "execution_count": 52,
     "metadata": {},
     "output_type": "execute_result"
    }
   ],
   "source": [
    "sea_surface_height_above_geoid_93_19_mean_all.shape"
   ]
  },
  {
   "cell_type": "code",
   "execution_count": 53,
   "id": "ab9876c3",
   "metadata": {},
   "outputs": [],
   "source": [
    "np.savez(r'D:\\heat_wave\\pacific\\last\\ssh\\SSH_SON_Plot_with_without_MHW.npz',\n",
    "        sea_surface_height_above_geoid_93_19_mean_all = sea_surface_height_above_geoid_93_19_mean_all,\n",
    "        sea_surface_height_above_sea_level_93_19_mean_all = sea_surface_height_above_sea_level_93_19_mean_all,\n",
    "        sea_surface_height_above_geoid_SON_93_19_without_MHW_mean = sea_surface_height_above_geoid_SON_93_19_without_MHW_mean,\n",
    "        sea_surface_height_above_sea_level_SON_93_19_without_MHW_mean = sea_surface_height_above_sea_level_SON_93_19_without_MHW_mean)"
   ]
  },
  {
   "cell_type": "code",
   "execution_count": null,
   "id": "d857a455",
   "metadata": {},
   "outputs": [],
   "source": []
  }
 ],
 "metadata": {
  "kernelspec": {
   "display_name": "Python 3 (ipykernel)",
   "language": "python",
   "name": "python3"
  },
  "language_info": {
   "codemirror_mode": {
    "name": "ipython",
    "version": 3
   },
   "file_extension": ".py",
   "mimetype": "text/x-python",
   "name": "python",
   "nbconvert_exporter": "python",
   "pygments_lexer": "ipython3",
   "version": "3.8.18"
  }
 },
 "nbformat": 4,
 "nbformat_minor": 5
}

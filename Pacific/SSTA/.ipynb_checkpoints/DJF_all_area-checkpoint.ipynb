{
 "cells": [
  {
   "cell_type": "code",
   "execution_count": 1,
   "id": "925c8fec",
   "metadata": {},
   "outputs": [],
   "source": [
    "import numpy as np\n",
    "import matplotlib.pyplot as plt\n",
    "from matplotlib.colors import ListedColormap"
   ]
  },
  {
   "cell_type": "code",
   "execution_count": 2,
   "id": "d4f65c38",
   "metadata": {},
   "outputs": [
    {
     "data": {
      "text/plain": [
       "['time', 'lat', 'lon', 'ssta']"
      ]
     },
     "execution_count": 2,
     "metadata": {},
     "output_type": "execute_result"
    }
   ],
   "source": [
    "data = np.load(r'D:\\heat_wave\\SSTa_93_19_expand_all_area.npz')\n",
    "data.files"
   ]
  },
  {
   "cell_type": "code",
   "execution_count": 3,
   "id": "a6d6003c",
   "metadata": {},
   "outputs": [
    {
     "data": {
      "text/plain": [
       "(9861, 720, 1440)"
      ]
     },
     "execution_count": 3,
     "metadata": {},
     "output_type": "execute_result"
    }
   ],
   "source": [
    "ssta = data['ssta'][:]\n",
    "ssta.shape"
   ]
  },
  {
   "cell_type": "code",
   "execution_count": 4,
   "id": "85cd4e49",
   "metadata": {},
   "outputs": [],
   "source": [
    "ssta = ssta[:,319:401,216:265]"
   ]
  },
  {
   "cell_type": "code",
   "execution_count": null,
   "id": "0bf0617e",
   "metadata": {},
   "outputs": [],
   "source": []
  },
  {
   "cell_type": "code",
   "execution_count": null,
   "id": "6d8857d7",
   "metadata": {},
   "outputs": [],
   "source": []
  },
  {
   "cell_type": "code",
   "execution_count": 5,
   "id": "db8c81f4",
   "metadata": {},
   "outputs": [],
   "source": [
    "# DJF   93\n",
    "date_93_1 = 0\n",
    "date_93_2 = 59\n",
    "data_1 = date_93_1\n",
    "data_2 = date_93_2\n",
    "\n",
    "ssta_93 = ssta[data_1:data_2,:,:]"
   ]
  },
  {
   "cell_type": "code",
   "execution_count": 6,
   "id": "4d1b51d4",
   "metadata": {},
   "outputs": [],
   "source": [
    "# DJF   94\n",
    "date_94_1 = 334\n",
    "date_94_2 = 424\n",
    "data_1 = date_94_1\n",
    "data_2 = date_94_2\n",
    "\n",
    "ssta_94 = ssta[data_1:data_2,:,:]"
   ]
  },
  {
   "cell_type": "code",
   "execution_count": 7,
   "id": "c1ff7a94",
   "metadata": {},
   "outputs": [],
   "source": [
    "# DJF   95\n",
    "date_95_1 = 699\n",
    "date_95_2 = 789\n",
    "data_1 = date_95_1\n",
    "data_2 = date_95_2\n",
    "\n",
    "ssta_95 = ssta[data_1:data_2,:,:]"
   ]
  },
  {
   "cell_type": "code",
   "execution_count": 8,
   "id": "7535e818",
   "metadata": {},
   "outputs": [],
   "source": [
    "# DJF   96\n",
    "date_96_1 = 1064\n",
    "date_96_2 = 1155\n",
    "data_1 = date_96_1\n",
    "data_2 = date_96_2\n",
    "\n",
    "ssta_96 = ssta[data_1:data_2,:,:]"
   ]
  },
  {
   "cell_type": "code",
   "execution_count": 9,
   "id": "410f1177",
   "metadata": {},
   "outputs": [],
   "source": [
    "# DJF   97\n",
    "date_97_1 = 1430\n",
    "date_97_2 = 1520\n",
    "data_1 = date_97_1\n",
    "data_2 = date_97_2\n",
    "\n",
    "ssta_97 = ssta[data_1:data_2,:,:]"
   ]
  },
  {
   "cell_type": "code",
   "execution_count": 10,
   "id": "ec1ce871",
   "metadata": {},
   "outputs": [],
   "source": [
    "# DJF   98\n",
    "date_98_1 = 1795\n",
    "date_98_2 = 1885\n",
    "data_1 = date_98_1\n",
    "data_2 = date_98_2\n",
    "\n",
    "ssta_98 = ssta[data_1:data_2,:,:]"
   ]
  },
  {
   "cell_type": "code",
   "execution_count": 11,
   "id": "71f499a8",
   "metadata": {},
   "outputs": [],
   "source": [
    "# DJF   99\n",
    "date_99_1 = 2160\n",
    "date_99_2 = 2250\n",
    "data_1 = date_99_1\n",
    "data_2 = date_99_2\n",
    "\n",
    "ssta_99 = ssta[data_1:data_2,:,:]"
   ]
  },
  {
   "cell_type": "code",
   "execution_count": 12,
   "id": "85123d6c",
   "metadata": {},
   "outputs": [],
   "source": [
    "# DJF   00\n",
    "date_00_1 = 2525\n",
    "date_00_2 = 2616\n",
    "data_1 = date_00_1\n",
    "data_2 = date_00_2\n",
    "\n",
    "ssta_00 = ssta[data_1:data_2,:,:]"
   ]
  },
  {
   "cell_type": "code",
   "execution_count": 13,
   "id": "039fd748",
   "metadata": {},
   "outputs": [],
   "source": [
    "# DJF   01\n",
    "date_01_1 = 2891\n",
    "date_01_2 = 2981\n",
    "data_1 = date_01_1\n",
    "data_2 = date_01_2\n",
    "\n",
    "ssta_01 = ssta[data_1:data_2,:,:]"
   ]
  },
  {
   "cell_type": "code",
   "execution_count": 16,
   "id": "f07a7955",
   "metadata": {},
   "outputs": [],
   "source": [
    "# DJF   02\n",
    "date_02_1 = 3256\n",
    "date_02_2 = 3346\n",
    "data_1 = date_02_1\n",
    "data_2 = date_02_2\n",
    "\n",
    "ssta_00 = ssta[data_1:data_2,:,:]"
   ]
  },
  {
   "cell_type": "code",
   "execution_count": 17,
   "id": "636288f8",
   "metadata": {},
   "outputs": [],
   "source": [
    "# DJF   03\n",
    "date_03_1 = 3621\n",
    "date_03_2 = 3711\n",
    "data_1 = date_03_1\n",
    "data_2 = date_03_2\n",
    "\n",
    "mslp_03 = mslp[data_1:data_2,:,:]\n",
    "mslpa_03 = pressure_anom[data_1:data_2,:,:]"
   ]
  },
  {
   "cell_type": "code",
   "execution_count": 18,
   "id": "bbe6021d",
   "metadata": {},
   "outputs": [],
   "source": [
    "# DJF   04\n",
    "date_04_1 = 3986\n",
    "date_04_2 = 4077\n",
    "data_1 = date_04_1\n",
    "data_2 = date_04_2\n",
    "\n",
    "mslp_04 = mslp[data_1:data_2,:,:]\n",
    "mslpa_04 = pressure_anom[data_1:data_2,:,:]"
   ]
  },
  {
   "cell_type": "code",
   "execution_count": 19,
   "id": "0e3c5353",
   "metadata": {},
   "outputs": [],
   "source": [
    "# DJF   05\n",
    "date_05_1 = 4352\n",
    "date_05_2 = 4442\n",
    "data_1 = date_05_1\n",
    "data_2 = date_05_2\n",
    "\n",
    "mslp_05 = mslp[data_1:data_2,:,:]\n",
    "mslpa_05 = pressure_anom[data_1:data_2,:,:]"
   ]
  },
  {
   "cell_type": "code",
   "execution_count": 20,
   "id": "aa4b5f38",
   "metadata": {},
   "outputs": [],
   "source": [
    "# DJF   06\n",
    "date_06_1 = 4717\n",
    "date_06_2 = 4807\n",
    "data_1 = date_06_1\n",
    "data_2 = date_06_2\n",
    "\n",
    "mslp_06 = mslp[data_1:data_2,:,:]\n",
    "mslpa_06 = pressure_anom[data_1:data_2,:,:]"
   ]
  },
  {
   "cell_type": "code",
   "execution_count": 21,
   "id": "ddb6b4be",
   "metadata": {},
   "outputs": [],
   "source": [
    "# DJF   07\n",
    "date_07_1 = 5082\n",
    "date_07_2 = 5172\n",
    "data_1 = date_07_1\n",
    "data_2 = date_07_2\n",
    "\n",
    "mslp_07 = mslp[data_1:data_2,:,:]\n",
    "mslpa_07 = pressure_anom[data_1:data_2,:,:]"
   ]
  },
  {
   "cell_type": "code",
   "execution_count": 22,
   "id": "4b755060",
   "metadata": {},
   "outputs": [],
   "source": [
    "# DJF   08\n",
    "date_08_1 = 5447\n",
    "date_08_2 = 5538\n",
    "data_1 = date_08_1\n",
    "data_2 = date_08_2\n",
    "\n",
    "mslp_08 = mslp[data_1:data_2,:,:]\n",
    "mslpa_08 = pressure_anom[data_1:data_2,:,:]"
   ]
  },
  {
   "cell_type": "code",
   "execution_count": 23,
   "id": "e3d46ed0",
   "metadata": {},
   "outputs": [],
   "source": [
    "# DJF   09\n",
    "date_09_1 = 5813\n",
    "date_09_2 = 5903\n",
    "data_1 = date_09_1\n",
    "data_2 = date_09_2\n",
    "\n",
    "mslp_09 = mslp[data_1:data_2,:,:]\n",
    "mslpa_09 = pressure_anom[data_1:data_2,:,:]"
   ]
  },
  {
   "cell_type": "code",
   "execution_count": 24,
   "id": "35034d29",
   "metadata": {},
   "outputs": [],
   "source": [
    "# DJF   10\n",
    "date_10_1 = 6178\n",
    "date_10_2 = 6268\n",
    "data_1 = date_10_1\n",
    "data_2 = date_10_2\n",
    "\n",
    "mslp_10 = mslp[data_1:data_2,:,:]\n",
    "mslpa_10 = pressure_anom[data_1:data_2,:,:]"
   ]
  },
  {
   "cell_type": "code",
   "execution_count": 25,
   "id": "14a42d76",
   "metadata": {},
   "outputs": [],
   "source": [
    "# DJF   11\n",
    "date_11_1 = 6543\n",
    "date_11_2 = 6633\n",
    "data_1 = date_11_1\n",
    "data_2 = date_11_2\n",
    "\n",
    "mslp_11 = mslp[data_1:data_2,:,:]\n",
    "mslpa_11 = pressure_anom[data_1:data_2,:,:]"
   ]
  },
  {
   "cell_type": "code",
   "execution_count": 27,
   "id": "fdd87163",
   "metadata": {},
   "outputs": [],
   "source": [
    "# DJF   12\n",
    "date_12_1 = 6908\n",
    "date_12_2 = 6999\n",
    "data_1 = date_12_1\n",
    "data_2 = date_12_2\n",
    "\n",
    "mslp_12 = mslp[data_1:data_2,:,:]\n",
    "mslpa_12 = pressure_anom[data_1:data_2,:,:]"
   ]
  },
  {
   "cell_type": "code",
   "execution_count": 28,
   "id": "6f20a355",
   "metadata": {},
   "outputs": [],
   "source": [
    "# DJF   13\n",
    "date_13_1 = 7274\n",
    "date_13_2 = 7364\n",
    "data_1 = date_13_1\n",
    "data_2 = date_13_2\n",
    "\n",
    "mslp_13 = mslp[data_1:data_2,:,:]\n",
    "mslpa_13 = pressure_anom[data_1:data_2,:,:]"
   ]
  },
  {
   "cell_type": "code",
   "execution_count": 29,
   "id": "2d86aec9",
   "metadata": {},
   "outputs": [],
   "source": [
    "# DJF   14\n",
    "date_14_1 = 7639\n",
    "date_14_2 = 7729\n",
    "data_1 = date_14_1\n",
    "data_2 = date_14_2\n",
    "\n",
    "mslp_14 = mslp[data_1:data_2,:,:]\n",
    "mslpa_14 = pressure_anom[data_1:data_2,:,:]"
   ]
  },
  {
   "cell_type": "code",
   "execution_count": 30,
   "id": "0fe55ac1",
   "metadata": {},
   "outputs": [],
   "source": [
    "# DJF   15\n",
    "date_15_1 = 8004\n",
    "date_15_2 = 8094\n",
    "data_1 = date_15_1\n",
    "data_2 = date_15_2\n",
    "\n",
    "mslp_15 = mslp[data_1:data_2,:,:]\n",
    "mslpa_15 = pressure_anom[data_1:data_2,:,:]"
   ]
  },
  {
   "cell_type": "code",
   "execution_count": 31,
   "id": "b9e1e6b8",
   "metadata": {},
   "outputs": [],
   "source": [
    "# DJF   16\n",
    "date_16_1 = 8369\n",
    "date_16_2 = 8460\n",
    "data_1 = date_16_1\n",
    "data_2 = date_16_2\n",
    "\n",
    "mslp_16 = mslp[data_1:data_2,:,:]\n",
    "mslpa_16 = pressure_anom[data_1:data_2,:,:]"
   ]
  },
  {
   "cell_type": "code",
   "execution_count": 32,
   "id": "e8b44ec7",
   "metadata": {},
   "outputs": [],
   "source": [
    "# DJF   17\n",
    "date_17_1 = 8735\n",
    "date_17_2 = 8825\n",
    "data_1 = date_17_1\n",
    "data_2 = date_17_2\n",
    "\n",
    "mslp_17 = mslp[data_1:data_2,:,:]\n",
    "mslpa_17 = pressure_anom[data_1:data_2,:,:]"
   ]
  },
  {
   "cell_type": "code",
   "execution_count": 33,
   "id": "6015cd5d",
   "metadata": {},
   "outputs": [],
   "source": [
    "# DJF   18\n",
    "date_18_1 = 9100\n",
    "date_18_2 = 9190\n",
    "data_1 = date_18_1\n",
    "data_2 = date_18_2\n",
    "\n",
    "mslp_18 = mslp[data_1:data_2,:,:]\n",
    "mslpa_18 = pressure_anom[data_1:data_2,:,:]"
   ]
  },
  {
   "cell_type": "code",
   "execution_count": 34,
   "id": "c2e88a57",
   "metadata": {},
   "outputs": [],
   "source": [
    "# DJF   19\n",
    "date_19_1 = 9452\n",
    "date_19_2 = 9542\n",
    "data_1 = date_19_1\n",
    "data_2 = date_19_2\n",
    "\n",
    "mslp_19 = mslp[data_1:data_2,:,:]\n",
    "mslpa_19 = pressure_anom[data_1:data_2,:,:]"
   ]
  },
  {
   "cell_type": "code",
   "execution_count": 31,
   "id": "857c8cc7",
   "metadata": {},
   "outputs": [],
   "source": [
    "mslp_93_19 = np.concatenate((mslp_93, mslp_94, mslp_95, mslp_96, mslp_97,\n",
    "                            mslp_98, mslp_99, mslp_00, mslp_01, mslp_02, mslp_03,\n",
    "                            mslp_04, mslp_05, mslp_06, mslp_07, mslp_08, mslp_09,\n",
    "                            mslp_10, mslp_11, mslp_12, mslp_13, mslp_14, mslp_15,\n",
    "                            mslp_16, mslp_17, mslp_18, mslp_19),axis = 0)"
   ]
  },
  {
   "cell_type": "code",
   "execution_count": 40,
   "id": "dba3c29f",
   "metadata": {},
   "outputs": [
    {
     "data": {
      "text/plain": [
       "(2499, 73, 144)"
      ]
     },
     "execution_count": 40,
     "metadata": {},
     "output_type": "execute_result"
    }
   ],
   "source": [
    "mslp_93_19.shape"
   ]
  },
  {
   "cell_type": "code",
   "execution_count": 32,
   "id": "147c4bc4",
   "metadata": {},
   "outputs": [],
   "source": [
    "mslp_93_19 = mslp_93_19/100"
   ]
  },
  {
   "cell_type": "code",
   "execution_count": 33,
   "id": "43831366",
   "metadata": {},
   "outputs": [
    {
     "name": "stdout",
     "output_type": "stream",
     "text": [
      "(2405, 73, 144)\n",
      "(2405, 73, 144)\n",
      "-5.434370209902416e-16\n",
      "41.06287405651301\n",
      "-64.54509080317757\n"
     ]
    }
   ],
   "source": [
    "from sklearn.linear_model import LinearRegression\n",
    "from statsmodels.tsa.seasonal import seasonal_decompose\n",
    "\n",
    "nt, nlats, nlons = mslp_93_19.shape\n",
    "print(mslp_93_19.shape) #(9855, 9, 7)\n",
    "# 重塑为2D数组（time，lat*lon）\n",
    "mslp2_2d = mslp_93_19.reshape(nt, nlats*nlons)\n",
    "\n",
    "decomposition = seasonal_decompose(mslp2_2d, model='additive', period=12)\n",
    "\n",
    "trend = decomposition.trend\n",
    "for i in range(nlats*nlons):\n",
    "    model = LinearRegression().fit(np.arange(nt).reshape(-1, 1), decomposition.observed[:, i])\n",
    "    trend[:, i] = model.predict(np.arange(nt).reshape(-1, 1))\n",
    "mslp_detrended = decomposition.observed - trend\n",
    "\n",
    "# 重塑为3D数组（time，lat，lon）\n",
    "mslp_detrended = mslp_detrended.reshape(nt, nlats, nlons)\n",
    "\n",
    "mslp_detrended = mslp_detrended.reshape(-1,73,144)\n",
    "print(mslp_detrended.shape)\n",
    "\n",
    "\n",
    "print(np.mean(mslp_detrended))\n",
    "print(np.max(mslp_detrended))\n",
    "print(np.min(mslp_detrended))"
   ]
  },
  {
   "cell_type": "code",
   "execution_count": 34,
   "id": "69b5bae1",
   "metadata": {},
   "outputs": [
    {
     "data": {
      "text/plain": [
       "(2405, 73, 144)"
      ]
     },
     "execution_count": 34,
     "metadata": {},
     "output_type": "execute_result"
    }
   ],
   "source": [
    "mslp_detrended.shape"
   ]
  },
  {
   "cell_type": "code",
   "execution_count": 35,
   "id": "e5538374",
   "metadata": {},
   "outputs": [],
   "source": [
    "mslp_detrended1 = np.mean(mslp_detrended, axis = 0)"
   ]
  },
  {
   "cell_type": "code",
   "execution_count": 36,
   "id": "4a17031e",
   "metadata": {},
   "outputs": [
    {
     "data": {
      "text/plain": [
       "array([[-1.45594786e-14, -1.45594786e-14, -1.45594786e-14, ...,\n",
       "        -1.45594786e-14, -1.45594786e-14, -1.45594786e-14],\n",
       "       [ 7.65318047e-14,  6.00342137e-14, -1.55521703e-14, ...,\n",
       "         3.21915744e-14, -1.79157220e-14,  4.40093330e-14],\n",
       "       [-2.50536482e-14, -3.18134061e-14,  9.36439191e-14, ...,\n",
       "        -2.95916675e-14,  7.94153378e-15, -2.40609565e-14],\n",
       "       ...,\n",
       "       [ 5.69143254e-14,  2.50063772e-14, -6.47613171e-14, ...,\n",
       "        -1.27631793e-15, -3.08679855e-14, -5.17617827e-14],\n",
       "       [-6.63685323e-14, -5.67252413e-16,  8.36697309e-15, ...,\n",
       "        -5.19035958e-14, -5.49289420e-14, -7.24664957e-14],\n",
       "       [-1.12977772e-14, -1.12977772e-14, -1.12977772e-14, ...,\n",
       "        -1.12977772e-14, -1.12977772e-14, -1.12977772e-14]])"
      ]
     },
     "execution_count": 36,
     "metadata": {},
     "output_type": "execute_result"
    }
   ],
   "source": [
    "mslp_detrended1"
   ]
  },
  {
   "cell_type": "code",
   "execution_count": 37,
   "id": "216dbc32",
   "metadata": {},
   "outputs": [],
   "source": [
    "np.savez(r'D:\\heat_wave\\SLP_SLPA_DJF_all_area.npz',sea_level_press = mslp_93_19, \n",
    "         sea_level_press_anom = mslp_detrended)"
   ]
  },
  {
   "cell_type": "code",
   "execution_count": 38,
   "id": "671c8523",
   "metadata": {},
   "outputs": [
    {
     "data": {
      "text/plain": [
       "(2405, 73, 144)"
      ]
     },
     "execution_count": 38,
     "metadata": {},
     "output_type": "execute_result"
    }
   ],
   "source": [
    "mslp_93_19.shape"
   ]
  },
  {
   "cell_type": "code",
   "execution_count": 39,
   "id": "5176c31e",
   "metadata": {},
   "outputs": [],
   "source": [
    "mslp_weio_93_19 = mslp_93_19[:,32:41,21:28]"
   ]
  },
  {
   "cell_type": "code",
   "execution_count": 40,
   "id": "7f8c6b3d",
   "metadata": {},
   "outputs": [
    {
     "data": {
      "text/plain": [
       "(2405, 9, 7)"
      ]
     },
     "execution_count": 40,
     "metadata": {},
     "output_type": "execute_result"
    }
   ],
   "source": [
    "mslp_weio_93_19.shape"
   ]
  },
  {
   "cell_type": "code",
   "execution_count": 41,
   "id": "70975295",
   "metadata": {},
   "outputs": [],
   "source": [
    "mslp_weio_93_19_mean = np.mean(mslp_weio_93_19, axis = (1,2))"
   ]
  },
  {
   "cell_type": "code",
   "execution_count": null,
   "id": "244e2d0c",
   "metadata": {},
   "outputs": [],
   "source": []
  },
  {
   "cell_type": "code",
   "execution_count": 42,
   "id": "8ba0a179",
   "metadata": {},
   "outputs": [],
   "source": [
    "mslp_detrended_weio = mslp_detrended[:,32:41,21:28]"
   ]
  },
  {
   "cell_type": "code",
   "execution_count": 43,
   "id": "4c1d76b2",
   "metadata": {},
   "outputs": [],
   "source": [
    "mslp_detrended_weio_93_19_mean = np.mean(mslp_detrended_weio, axis = (1,2))"
   ]
  },
  {
   "cell_type": "code",
   "execution_count": null,
   "id": "57bba50f",
   "metadata": {},
   "outputs": [],
   "source": []
  },
  {
   "cell_type": "code",
   "execution_count": null,
   "id": "126cd6dc",
   "metadata": {},
   "outputs": [],
   "source": []
  },
  {
   "cell_type": "code",
   "execution_count": 44,
   "id": "ba1d2883",
   "metadata": {},
   "outputs": [],
   "source": [
    "mslp_pacific_93_19 = mslp_93_19[:,34:39,76:97]"
   ]
  },
  {
   "cell_type": "code",
   "execution_count": 45,
   "id": "a2939f33",
   "metadata": {},
   "outputs": [],
   "source": [
    "mslp_detrended_pacific = mslp_detrended[:,34:39,76:97]"
   ]
  },
  {
   "cell_type": "code",
   "execution_count": 46,
   "id": "cf2d99af",
   "metadata": {},
   "outputs": [],
   "source": [
    "np.savez(r'D:\\heat_wave\\pacific\\SLP_SLPA_DJF_pacific_area.npz',sea_level_press = mslp_pacific_93_19, \n",
    "         sea_level_press_anom = mslp_detrended_pacific)"
   ]
  },
  {
   "cell_type": "code",
   "execution_count": null,
   "id": "e030fdca",
   "metadata": {},
   "outputs": [],
   "source": []
  },
  {
   "cell_type": "code",
   "execution_count": null,
   "id": "58d8e243",
   "metadata": {},
   "outputs": [],
   "source": []
  },
  {
   "cell_type": "code",
   "execution_count": 47,
   "id": "fe6061be",
   "metadata": {},
   "outputs": [],
   "source": [
    "np.savez(r'D:\\heat_wave\\WEIO\\SLP_SLPA_DJF_WEIO_area.npz',sea_level_press = mslp_weio_93_19, \n",
    "         sea_level_press_anom = mslp_detrended_weio)"
   ]
  },
  {
   "cell_type": "code",
   "execution_count": null,
   "id": "24d70e9e",
   "metadata": {},
   "outputs": [],
   "source": []
  },
  {
   "cell_type": "code",
   "execution_count": null,
   "id": "ea445d23",
   "metadata": {},
   "outputs": [],
   "source": []
  },
  {
   "cell_type": "code",
   "execution_count": 48,
   "id": "3a367c2f",
   "metadata": {},
   "outputs": [],
   "source": [
    "mslp_atlantic_93_19 = mslp_93_19[:,32:41,130:139]"
   ]
  },
  {
   "cell_type": "code",
   "execution_count": 49,
   "id": "c9f2d1b7",
   "metadata": {},
   "outputs": [],
   "source": [
    "mslp_detrended_atlantic = mslp_detrended[:,32:41,130:139]"
   ]
  },
  {
   "cell_type": "code",
   "execution_count": 50,
   "id": "6edfc733",
   "metadata": {},
   "outputs": [],
   "source": [
    "np.savez(r'D:\\heat_wave\\atlantic\\SLP_SLPA_DJF_atlantic_area.npz',sea_level_press = mslp_atlantic_93_19, \n",
    "         sea_level_press_anom = mslp_detrended_atlantic)"
   ]
  },
  {
   "cell_type": "code",
   "execution_count": null,
   "id": "3f8e01b6",
   "metadata": {},
   "outputs": [],
   "source": []
  }
 ],
 "metadata": {
  "kernelspec": {
   "display_name": "Python 3 (ipykernel)",
   "language": "python",
   "name": "python3"
  },
  "language_info": {
   "codemirror_mode": {
    "name": "ipython",
    "version": 3
   },
   "file_extension": ".py",
   "mimetype": "text/x-python",
   "name": "python",
   "nbconvert_exporter": "python",
   "pygments_lexer": "ipython3",
   "version": "3.8.12"
  }
 },
 "nbformat": 4,
 "nbformat_minor": 5
}

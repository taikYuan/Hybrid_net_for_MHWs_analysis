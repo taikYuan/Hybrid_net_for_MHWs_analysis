{
 "cells": [
  {
   "cell_type": "code",
   "execution_count": 1,
   "id": "925c8fec",
   "metadata": {},
   "outputs": [],
   "source": [
    "import numpy as np\n",
    "import matplotlib.pyplot as plt\n",
    "from matplotlib.colors import ListedColormap"
   ]
  },
  {
   "cell_type": "code",
   "execution_count": 2,
   "id": "d4f65c38",
   "metadata": {},
   "outputs": [
    {
     "data": {
      "text/plain": [
       "['time', 'lat', 'lon', 'ssta']"
      ]
     },
     "execution_count": 2,
     "metadata": {},
     "output_type": "execute_result"
    }
   ],
   "source": [
    "data = np.load(r'D:\\heat_wave\\SSTa_93_19_expand_all_area.npz')\n",
    "data.files"
   ]
  },
  {
   "cell_type": "code",
   "execution_count": 3,
   "id": "a8e913b3",
   "metadata": {},
   "outputs": [],
   "source": [
    "lat = data['lat'][339:381]   # -5.125 -4.875 ... 4.875  5.125"
   ]
  },
  {
   "cell_type": "code",
   "execution_count": 4,
   "id": "f4d6f2f0",
   "metadata": {},
   "outputs": [],
   "source": [
    "lon = data['lon'][760:961]  # 190.125 190.375 ... 239.875  240.125"
   ]
  },
  {
   "cell_type": "code",
   "execution_count": 5,
   "id": "7be71b8a",
   "metadata": {},
   "outputs": [
    {
     "data": {
      "text/plain": [
       "(42,)"
      ]
     },
     "execution_count": 5,
     "metadata": {},
     "output_type": "execute_result"
    }
   ],
   "source": [
    "lat.shape"
   ]
  },
  {
   "cell_type": "code",
   "execution_count": 6,
   "id": "838d9a2c",
   "metadata": {},
   "outputs": [
    {
     "data": {
      "text/plain": [
       "(9861, 720, 1440)"
      ]
     },
     "execution_count": 6,
     "metadata": {},
     "output_type": "execute_result"
    }
   ],
   "source": [
    "ssta = data['ssta'][:]\n",
    "ssta.shape"
   ]
  },
  {
   "cell_type": "code",
   "execution_count": 7,
   "id": "6dda8594",
   "metadata": {},
   "outputs": [],
   "source": [
    "ssta = ssta[:,339:381,760:961]"
   ]
  },
  {
   "cell_type": "code",
   "execution_count": null,
   "id": "e1445839",
   "metadata": {},
   "outputs": [],
   "source": []
  },
  {
   "cell_type": "code",
   "execution_count": 8,
   "id": "db8c81f4",
   "metadata": {},
   "outputs": [],
   "source": [
    "# JJA   93\n",
    "date_93_1 = 151\n",
    "date_93_2 = 243\n",
    "data_1 = date_93_1\n",
    "data_2 = date_93_2\n",
    "\n",
    "ssta_93 = ssta[data_1:data_2,:,:]"
   ]
  },
  {
   "cell_type": "code",
   "execution_count": null,
   "id": "232f3a03",
   "metadata": {
    "scrolled": true
   },
   "outputs": [],
   "source": []
  },
  {
   "cell_type": "code",
   "execution_count": null,
   "id": "6e840f7f",
   "metadata": {},
   "outputs": [],
   "source": []
  },
  {
   "cell_type": "code",
   "execution_count": 9,
   "id": "4d1b51d4",
   "metadata": {},
   "outputs": [],
   "source": [
    "# JJA   94\n",
    "date_94_1 = 516\n",
    "date_94_2 = 608\n",
    "data_1 = date_94_1\n",
    "data_2 = date_94_2\n",
    "\n",
    "ssta_94 = ssta[data_1:data_2,:,:]"
   ]
  },
  {
   "cell_type": "code",
   "execution_count": 10,
   "id": "c1ff7a94",
   "metadata": {},
   "outputs": [],
   "source": [
    "# JJA   95\n",
    "date_95_1 = 881\n",
    "date_95_2 = 973\n",
    "data_1 = date_95_1\n",
    "data_2 = date_95_2\n",
    "\n",
    "ssta_95 = ssta[data_1:data_2,:,:]"
   ]
  },
  {
   "cell_type": "code",
   "execution_count": 11,
   "id": "7535e818",
   "metadata": {},
   "outputs": [],
   "source": [
    "# JJA   96\n",
    "date_96_1 = 1247\n",
    "date_96_2 = 1339\n",
    "data_1 = date_96_1\n",
    "data_2 = date_96_2\n",
    "\n",
    "ssta_96 = ssta[data_1:data_2,:,:]"
   ]
  },
  {
   "cell_type": "code",
   "execution_count": 12,
   "id": "410f1177",
   "metadata": {},
   "outputs": [],
   "source": [
    "# JJA   97\n",
    "date_97_1 = 1612\n",
    "date_97_2 = 1704\n",
    "data_1 = date_97_1\n",
    "data_2 = date_97_2\n",
    "\n",
    "ssta_97 = ssta[data_1:data_2,:,:]"
   ]
  },
  {
   "cell_type": "code",
   "execution_count": 13,
   "id": "ec1ce871",
   "metadata": {},
   "outputs": [],
   "source": [
    "# JJA   98\n",
    "date_98_1 = 1977\n",
    "date_98_2 = 2069\n",
    "data_1 = date_98_1\n",
    "data_2 = date_98_2\n",
    "\n",
    "ssta_98 = ssta[data_1:data_2,:,:]"
   ]
  },
  {
   "cell_type": "code",
   "execution_count": 14,
   "id": "71f499a8",
   "metadata": {},
   "outputs": [],
   "source": [
    "# JJA   99\n",
    "date_99_1 = 2324\n",
    "date_99_2 = 2434\n",
    "data_1 = date_99_1\n",
    "data_2 = date_99_2\n",
    "\n",
    "ssta_99 = ssta[data_1:data_2,:,:]"
   ]
  },
  {
   "cell_type": "code",
   "execution_count": 15,
   "id": "85123d6c",
   "metadata": {},
   "outputs": [],
   "source": [
    "# JJA   00\n",
    "date_00_1 = 2708\n",
    "date_00_2 = 2799\n",
    "data_1 = date_00_1\n",
    "data_2 = date_00_2\n",
    "\n",
    "ssta_00 = ssta[data_1:data_2,:,:]"
   ]
  },
  {
   "cell_type": "code",
   "execution_count": 16,
   "id": "039fd748",
   "metadata": {},
   "outputs": [],
   "source": [
    "# JJA   01\n",
    "date_01_1 = 3073\n",
    "date_01_2 = 3165\n",
    "data_1 = date_01_1\n",
    "data_2 = date_01_2\n",
    "\n",
    "ssta_01 = ssta[data_1:data_2,:,:]"
   ]
  },
  {
   "cell_type": "code",
   "execution_count": 17,
   "id": "f07a7955",
   "metadata": {},
   "outputs": [],
   "source": [
    "# JJA   02\n",
    "date_02_1 = 3438\n",
    "date_02_2 = 3529\n",
    "data_1 = date_02_1\n",
    "data_2 = date_02_2\n",
    "\n",
    "ssta_02 = ssta[data_1:data_2,:,:]"
   ]
  },
  {
   "cell_type": "code",
   "execution_count": 18,
   "id": "636288f8",
   "metadata": {},
   "outputs": [],
   "source": [
    "# JJA   03\n",
    "date_03_1 = 3803\n",
    "date_03_2 = 3895\n",
    "data_1 = date_03_1\n",
    "data_2 = date_03_2\n",
    "\n",
    "ssta_03 = ssta[data_1:data_2,:,:]"
   ]
  },
  {
   "cell_type": "code",
   "execution_count": 19,
   "id": "bbe6021d",
   "metadata": {},
   "outputs": [],
   "source": [
    "# JJA   04\n",
    "date_04_1 = 4169\n",
    "date_04_2 = 4261\n",
    "data_1 = date_04_1\n",
    "data_2 = date_04_2\n",
    "\n",
    "ssta_04 = ssta[data_1:data_2,:,:]"
   ]
  },
  {
   "cell_type": "code",
   "execution_count": 20,
   "id": "0e3c5353",
   "metadata": {},
   "outputs": [],
   "source": [
    "# JJA   05\n",
    "date_05_1 = 4534\n",
    "date_05_2 = 4626\n",
    "data_1 = date_05_1\n",
    "data_2 = date_05_2\n",
    "\n",
    "ssta_05 = ssta[data_1:data_2,:,:]"
   ]
  },
  {
   "cell_type": "code",
   "execution_count": 21,
   "id": "aa4b5f38",
   "metadata": {},
   "outputs": [],
   "source": [
    "# JJA   06\n",
    "date_06_1 = 4899\n",
    "date_06_2 = 4990\n",
    "data_1 = date_06_1\n",
    "data_2 = date_06_2\n",
    "\n",
    "ssta_06 = ssta[data_1:data_2,:,:]"
   ]
  },
  {
   "cell_type": "code",
   "execution_count": 22,
   "id": "ddb6b4be",
   "metadata": {},
   "outputs": [],
   "source": [
    "# JJA   07\n",
    "date_07_1 = 5264\n",
    "date_07_2 = 5356\n",
    "data_1 = date_07_1\n",
    "data_2 = date_07_2\n",
    "\n",
    "ssta_07 = ssta[data_1:data_2,:,:]"
   ]
  },
  {
   "cell_type": "code",
   "execution_count": 23,
   "id": "4b755060",
   "metadata": {},
   "outputs": [],
   "source": [
    "# JJA   08\n",
    "date_08_1 = 5630\n",
    "date_08_2 = 5722\n",
    "data_1 = date_08_1\n",
    "data_2 = date_08_2\n",
    "\n",
    "ssta_08 = ssta[data_1:data_2,:,:]"
   ]
  },
  {
   "cell_type": "code",
   "execution_count": 24,
   "id": "e3d46ed0",
   "metadata": {},
   "outputs": [],
   "source": [
    "# JJA   09\n",
    "date_09_1 = 5995\n",
    "date_09_2 = 6087\n",
    "data_1 = date_09_1\n",
    "data_2 = date_09_2\n",
    "\n",
    "ssta_09 = ssta[data_1:data_2,:,:]"
   ]
  },
  {
   "cell_type": "code",
   "execution_count": 25,
   "id": "35034d29",
   "metadata": {},
   "outputs": [],
   "source": [
    "# JJA   10\n",
    "date_10_1 = 6360\n",
    "date_10_2 = 6452\n",
    "data_1 = date_10_1\n",
    "data_2 = date_10_2\n",
    "\n",
    "ssta_10 = ssta[data_1:data_2,:,:]"
   ]
  },
  {
   "cell_type": "code",
   "execution_count": 26,
   "id": "14a42d76",
   "metadata": {},
   "outputs": [],
   "source": [
    "# JJA   11\n",
    "date_11_1 = 6725\n",
    "date_11_2 = 6817\n",
    "data_1 = date_11_1\n",
    "data_2 = date_11_2\n",
    "\n",
    "ssta_11 = ssta[data_1:data_2,:,:]"
   ]
  },
  {
   "cell_type": "code",
   "execution_count": 27,
   "id": "fdd87163",
   "metadata": {},
   "outputs": [],
   "source": [
    "# JJA   12\n",
    "date_12_1 = 7091\n",
    "date_12_2 = 7183\n",
    "data_1 = date_12_1\n",
    "data_2 = date_12_2\n",
    "\n",
    "ssta_12 = ssta[data_1:data_2,:,:]"
   ]
  },
  {
   "cell_type": "code",
   "execution_count": 28,
   "id": "6f20a355",
   "metadata": {},
   "outputs": [],
   "source": [
    "# JJA   13\n",
    "date_13_1 = 7456\n",
    "date_13_2 = 7548\n",
    "data_1 = date_13_1\n",
    "data_2 = date_13_2\n",
    "\n",
    "ssta_13 = ssta[data_1:data_2,:,:]"
   ]
  },
  {
   "cell_type": "code",
   "execution_count": 29,
   "id": "2d86aec9",
   "metadata": {},
   "outputs": [],
   "source": [
    "# JJA   14\n",
    "date_14_1 = 7821\n",
    "date_14_2 = 7913\n",
    "data_1 = date_14_1\n",
    "data_2 = date_14_2\n",
    "\n",
    "ssta_14 = ssta[data_1:data_2,:,:]"
   ]
  },
  {
   "cell_type": "code",
   "execution_count": 30,
   "id": "0fe55ac1",
   "metadata": {},
   "outputs": [],
   "source": [
    "# JJA   15\n",
    "date_15_1 = 8186\n",
    "date_15_2 = 8278\n",
    "data_1 = date_15_1\n",
    "data_2 = date_15_2\n",
    "\n",
    "ssta_15 = ssta[data_1:data_2,:,:]"
   ]
  },
  {
   "cell_type": "code",
   "execution_count": 31,
   "id": "b9e1e6b8",
   "metadata": {},
   "outputs": [],
   "source": [
    "# JJA   16\n",
    "date_16_1 = 8552\n",
    "date_16_2 = 8644\n",
    "data_1 = date_16_1\n",
    "data_2 = date_16_2\n",
    "\n",
    "ssta_16 = ssta[data_1:data_2,:,:]"
   ]
  },
  {
   "cell_type": "code",
   "execution_count": 32,
   "id": "e8b44ec7",
   "metadata": {},
   "outputs": [],
   "source": [
    "# JJA   17\n",
    "date_17_1 = 8917\n",
    "date_17_2 = 9009\n",
    "data_1 = date_17_1\n",
    "data_2 = date_17_2\n",
    "\n",
    "ssta_17 = ssta[data_1:data_2,:,:]"
   ]
  },
  {
   "cell_type": "code",
   "execution_count": 33,
   "id": "6015cd5d",
   "metadata": {},
   "outputs": [],
   "source": [
    "# JJA   18\n",
    "date_18_1 = 9282\n",
    "date_18_2 = 9374\n",
    "data_1 = date_18_1\n",
    "data_2 = date_18_2\n",
    "\n",
    "ssta_18 = ssta[data_1:data_2,:,:]"
   ]
  },
  {
   "cell_type": "code",
   "execution_count": 34,
   "id": "c2e88a57",
   "metadata": {},
   "outputs": [],
   "source": [
    "# JJA   19\n",
    "date_19_1 = 9647\n",
    "date_19_2 = 9739\n",
    "data_1 = date_19_1\n",
    "data_2 = date_19_2\n",
    "\n",
    "ssta_19 = ssta[data_1:data_2,:,:]"
   ]
  },
  {
   "cell_type": "code",
   "execution_count": null,
   "id": "211c3bee",
   "metadata": {},
   "outputs": [],
   "source": []
  },
  {
   "cell_type": "code",
   "execution_count": 35,
   "id": "eb784984",
   "metadata": {},
   "outputs": [],
   "source": [
    "ssta_93_weio = np.mean(ssta_93[:], axis = (0,1,2)).reshape(-1,1)\n",
    "ssta_94_weio = np.mean(ssta_94[:], axis = (0,1,2)).reshape(-1,1)\n",
    "ssta_95_weio = np.mean(ssta_95[:], axis = (0,1,2)).reshape(-1,1)\n",
    "ssta_96_weio = np.mean(ssta_96[:], axis = (0,1,2)).reshape(-1,1)\n",
    "ssta_97_weio = np.mean(ssta_97[:], axis = (0,1,2)).reshape(-1,1)\n",
    "ssta_98_weio = np.mean(ssta_98[:], axis = (0,1,2)).reshape(-1,1)\n",
    "ssta_99_weio = np.mean(ssta_99[:], axis = (0,1,2)).reshape(-1,1)\n",
    "ssta_00_weio = np.mean(ssta_00[:], axis = (0,1,2)).reshape(-1,1)\n",
    "ssta_01_weio = np.mean(ssta_01[:], axis = (0,1,2)).reshape(-1,1)\n",
    "ssta_02_weio = np.mean(ssta_02[:], axis = (0,1,2)).reshape(-1,1)\n",
    "ssta_03_weio = np.mean(ssta_03[:], axis = (0,1,2)).reshape(-1,1)\n",
    "ssta_04_weio = np.mean(ssta_04[:], axis = (0,1,2)).reshape(-1,1)\n",
    "ssta_05_weio = np.mean(ssta_05[:], axis = (0,1,2)).reshape(-1,1)\n",
    "ssta_06_weio = np.mean(ssta_06[:], axis = (0,1,2)).reshape(-1,1)\n",
    "ssta_07_weio = np.mean(ssta_07[:], axis = (0,1,2)).reshape(-1,1)\n",
    "ssta_08_weio = np.mean(ssta_08[:], axis = (0,1,2)).reshape(-1,1)\n",
    "ssta_09_weio = np.mean(ssta_09[:], axis = (0,1,2)).reshape(-1,1)\n",
    "ssta_10_weio = np.mean(ssta_10[:], axis = (0,1,2)).reshape(-1,1)\n",
    "ssta_11_weio = np.mean(ssta_11[:], axis = (0,1,2)).reshape(-1,1)\n",
    "ssta_12_weio = np.mean(ssta_12[:], axis = (0,1,2)).reshape(-1,1)\n",
    "ssta_13_weio = np.mean(ssta_13[:], axis = (0,1,2)).reshape(-1,1)\n",
    "ssta_14_weio = np.mean(ssta_14[:], axis = (0,1,2)).reshape(-1,1)\n",
    "ssta_15_weio = np.mean(ssta_15[:], axis = (0,1,2)).reshape(-1,1)\n",
    "ssta_16_weio = np.mean(ssta_16[:], axis = (0,1,2)).reshape(-1,1)\n",
    "ssta_17_weio = np.mean(ssta_17[:], axis = (0,1,2)).reshape(-1,1)\n",
    "ssta_18_weio = np.mean(ssta_18[:], axis = (0,1,2)).reshape(-1,1)\n",
    "ssta_19_weio = np.mean(ssta_19[:], axis = (0,1,2)).reshape(-1,1)"
   ]
  },
  {
   "cell_type": "code",
   "execution_count": 36,
   "id": "174c75d6",
   "metadata": {},
   "outputs": [],
   "source": [
    "ssta_93_19_weio = np.concatenate((ssta_93_weio, ssta_94_weio, ssta_95_weio,ssta_96_weio,\n",
    "                                 ssta_97_weio, ssta_98_weio, ssta_99_weio, ssta_00_weio, ssta_01_weio,\n",
    "                                 ssta_02_weio, ssta_03_weio, ssta_04_weio, ssta_05_weio, ssta_06_weio,\n",
    "                                 ssta_07_weio, ssta_08_weio, ssta_09_weio,  ssta_10_weio, ssta_11_weio,\n",
    "                                 ssta_12_weio, ssta_13_weio, ssta_14_weio, ssta_15_weio, ssta_16_weio,\n",
    "                                 ssta_17_weio, ssta_18_weio, ssta_19_weio), axis = 0)"
   ]
  },
  {
   "cell_type": "code",
   "execution_count": 37,
   "id": "c21fb2fe",
   "metadata": {},
   "outputs": [
    {
     "data": {
      "text/plain": [
       "(27, 1)"
      ]
     },
     "execution_count": 37,
     "metadata": {},
     "output_type": "execute_result"
    }
   ],
   "source": [
    "ssta_93_19_weio.shape"
   ]
  },
  {
   "cell_type": "code",
   "execution_count": null,
   "id": "fbe67073",
   "metadata": {},
   "outputs": [],
   "source": []
  },
  {
   "cell_type": "code",
   "execution_count": 38,
   "id": "3ab18ca3",
   "metadata": {},
   "outputs": [],
   "source": [
    "np.savez(r'D:\\heat_wave\\pacific\\SSTA_plot_JJA', ssta = ssta_93_19_weio)"
   ]
  },
  {
   "cell_type": "code",
   "execution_count": 67,
   "id": "5f1ed3f7",
   "metadata": {},
   "outputs": [
    {
     "data": {
      "text/plain": [
       "array([ 0.93781849,  0.887229  , -1.20339954, -1.47402077, -0.17463467,\n",
       "       -0.6452681 , -1.91588932, -2.00651787,  0.0228487 ,  0.02224701,\n",
       "       -0.41835712, -0.61903205, -0.25964839,  0.3697548 ,  1.24915799,\n",
       "        0.92848794,  1.52786183,  1.3372577 ,  1.28666822,  1.01604699,\n",
       "        1.39538915,  0.87476793,  0.73415159,  0.06356698, -0.45705424,\n",
       "        1.07231233,  1.00170332,  0.58105768, -0.18956354, -0.06016035,\n",
       "       -1.56082308, -0.98140768, -0.95204111, -0.22266233, -1.06329088,\n",
       "        0.01606348, -0.38456262, -0.35513502, -0.59578798, -1.09638967,\n",
       "       -0.96704751,  0.19238497, -0.20824113, -1.09885747, -1.41952752,\n",
       "       -1.37014142, -0.24073823,  0.33861613,  0.46801933,  0.57740299,\n",
       "        1.07674026,  1.65615566,  1.81552711,  0.51487659,  0.59429199,\n",
       "        0.80365123,  1.03303001,  1.26240879,  0.7618071 , -1.25881412,\n",
       "       -2.44941826, -2.92005169, -0.09069732, -0.91130634, -1.03190315,\n",
       "       -1.15256099, -0.47317001,  1.75620877,  1.13561196,  1.06494191,\n",
       "        0.26435242,  0.7437312 ,  0.35311486,  0.30246434,  1.53184312,\n",
       "        1.59123899,  0.54058847, -0.10002787,  0.64937044,  0.52877363,\n",
       "        0.3081402 , -0.18251276, -0.00312178,  0.99627653,  0.92566751,\n",
       "        0.03505117, -0.73557005, -1.23623278, -0.87684912, -1.64747034,\n",
       "       -1.81805494, -0.31871767])"
      ]
     },
     "execution_count": 67,
     "metadata": {},
     "output_type": "execute_result"
    }
   ],
   "source": []
  },
  {
   "cell_type": "code",
   "execution_count": 31,
   "id": "857c8cc7",
   "metadata": {},
   "outputs": [],
   "source": [
    "mslp_93_19 = np.concatenate((mslp_93, mslp_94, mslp_95, mslp_96, mslp_97,\n",
    "                            mslp_98, mslp_99, mslp_00, mslp_01, mslp_02, mslp_03,\n",
    "                            mslp_04, mslp_05, mslp_06, mslp_07, mslp_08, mslp_09,\n",
    "                            mslp_10, mslp_11, mslp_12, mslp_13, mslp_14, mslp_15,\n",
    "                            mslp_16, mslp_17, mslp_18, mslp_19),axis = 0)"
   ]
  },
  {
   "cell_type": "code",
   "execution_count": 32,
   "id": "dba3c29f",
   "metadata": {},
   "outputs": [
    {
     "data": {
      "text/plain": [
       "(2499, 73, 144)"
      ]
     },
     "execution_count": 32,
     "metadata": {},
     "output_type": "execute_result"
    }
   ],
   "source": [
    "mslp_93_19.shape"
   ]
  },
  {
   "cell_type": "code",
   "execution_count": 33,
   "id": "268099e7",
   "metadata": {},
   "outputs": [],
   "source": [
    "mslp_93_19 = mslp_93_19 / 100"
   ]
  },
  {
   "cell_type": "code",
   "execution_count": 34,
   "id": "43831366",
   "metadata": {},
   "outputs": [
    {
     "name": "stdout",
     "output_type": "stream",
     "text": [
      "(2499, 73, 144)\n",
      "(2499, 73, 144)\n",
      "4.023043172596827e-17\n",
      "40.65622963273995\n",
      "-59.535103494337136\n"
     ]
    }
   ],
   "source": [
    "from sklearn.linear_model import LinearRegression\n",
    "from statsmodels.tsa.seasonal import seasonal_decompose\n",
    "\n",
    "nt, nlats, nlons = mslp_93_19.shape\n",
    "print(mslp_93_19.shape) #(9855, 9, 7)\n",
    "# 重塑为2D数组（time，lat*lon）\n",
    "mslp2_2d = mslp_93_19.reshape(nt, nlats*nlons)\n",
    "\n",
    "decomposition = seasonal_decompose(mslp2_2d, model='additive', period=12)\n",
    "\n",
    "trend = decomposition.trend\n",
    "for i in range(nlats*nlons):\n",
    "    model = LinearRegression().fit(np.arange(nt).reshape(-1, 1), decomposition.observed[:, i])\n",
    "    trend[:, i] = model.predict(np.arange(nt).reshape(-1, 1))\n",
    "mslp_detrended = decomposition.observed - trend\n",
    "\n",
    "# 重塑为3D数组（time，lat，lon）\n",
    "mslp_detrended = mslp_detrended.reshape(nt, nlats, nlons)\n",
    "\n",
    "mslp_detrended = mslp_detrended.reshape(-1,73,144)\n",
    "print(mslp_detrended.shape)\n",
    "\n",
    "\n",
    "print(np.mean(mslp_detrended))\n",
    "print(np.max(mslp_detrended))\n",
    "print(np.min(mslp_detrended))"
   ]
  },
  {
   "cell_type": "code",
   "execution_count": 35,
   "id": "69b5bae1",
   "metadata": {
    "scrolled": true
   },
   "outputs": [
    {
     "data": {
      "text/plain": [
       "array([[[  5.00754388,   5.00754388,   5.00754388, ...,   5.00754388,\n",
       "           5.00754388,   5.00754388],\n",
       "        [  0.95513501,   0.77557755,   0.60947605, ...,   1.46587068,\n",
       "           1.26607506,   1.09293856],\n",
       "        [ -2.44594114,  -3.12506086,  -3.83479242, ...,  -0.39173438,\n",
       "          -1.03885466,  -1.76262012],\n",
       "        ...,\n",
       "        [ -8.76611503,  -9.30419882,  -9.72565273, ...,  -6.86333366,\n",
       "          -7.53616821,  -8.1845742 ],\n",
       "        [-13.68441839, -13.98179693, -14.20307039, ..., -12.90310033,\n",
       "         -13.14057747, -13.44421371],\n",
       "        [-12.67651619, -12.67651619, -12.67651619, ..., -12.67651619,\n",
       "         -12.67651619, -12.67651619]],\n",
       "\n",
       "       [[  3.17760102,   3.17760102,   3.17760102, ...,   3.17760102,\n",
       "           3.17760102,   3.17760102],\n",
       "        [ -3.09477264,  -3.15433416,  -3.2404201 , ...,  -2.76402813,\n",
       "          -2.85383935,  -2.95696764],\n",
       "        [ -8.01580558,  -8.42490537,  -8.78466078, ...,  -6.7115985 ,\n",
       "          -7.18867447,  -7.61245274],\n",
       "        ...,\n",
       "        [  5.5537845 ,   4.94569297,   4.44422561, ...,   7.78660273,\n",
       "           6.99370245,   6.24531463],\n",
       "        [ 10.48557213,  10.34829261,  10.21692967, ...,  11.02689172,\n",
       "          10.85942435,  10.68573437],\n",
       "        [ 11.52372804,  11.52372804,  11.52372804, ...,  11.52372804,\n",
       "          11.52372804,  11.52372804]],\n",
       "\n",
       "       [[ -4.12231254,  -4.12231254,  -4.12231254, ...,  -4.12231254,\n",
       "          -4.12231254,  -4.12231254],\n",
       "        [-11.42470959, -11.65425318, -11.87034555, ..., -10.66397088,\n",
       "         -10.93371469, -11.15689826],\n",
       "        [-11.39566758, -11.85475477, -12.28451693, ...,  -9.79141135,\n",
       "         -10.33855531, -10.86230977],\n",
       "        ...,\n",
       "        [  4.88369379,   4.79556034,   4.74416988, ...,   5.61653179,\n",
       "           5.31361216,   5.06521811],\n",
       "        [ 12.06565787,  12.11820148,  12.21694681, ...,  11.9269155 ,\n",
       "          11.95940176,  11.98578743],\n",
       "        [ 15.45401377,  15.45401377,  15.45401377, ...,  15.45401377,\n",
       "          15.45401377,  15.45401377]],\n",
       "\n",
       "       ...,\n",
       "\n",
       "       [[  1.44283074,   1.44283074,   1.44283074, ...,   1.44283074,\n",
       "           1.44283074,   1.44283074],\n",
       "        [ -1.42484452,  -1.70230341,  -1.89221523, ...,  -0.78025808,\n",
       "          -1.03246753,  -1.25340553],\n",
       "        [ -3.88929709,  -4.49741549,  -5.12577436, ...,  -2.08428307,\n",
       "          -2.70044985,  -3.28578232],\n",
       "        ...,\n",
       "        [  3.03483131,   3.0256767 ,   2.96336543, ...,   2.8469431 ,\n",
       "           2.92015454,   3.00624097],\n",
       "        [  5.55461329,   5.59673254,   5.60968135, ...,   5.37528346,\n",
       "           5.4339189 ,   5.49634727],\n",
       "        [  4.28260342,   4.28260342,   4.28260342, ...,   4.28260342,\n",
       "           4.28260342,   4.28260342]],\n",
       "\n",
       "       [[ -7.35708282,  -7.35708282,  -7.35708282, ...,  -7.35708282,\n",
       "          -7.35708282,  -7.35708282],\n",
       "        [-12.17476437, -12.25227126, -12.34214801, ..., -11.76021792,\n",
       "         -11.90238194, -12.05331174],\n",
       "        [-11.65917374, -11.96730395, -12.2556354 , ..., -10.60415939,\n",
       "         -10.98033557, -11.33562715],\n",
       "        ...,\n",
       "        [ -7.48529602,  -7.74439001,  -8.0167196 , ...,  -6.6331254 ,\n",
       "          -6.92991866,  -7.21389461],\n",
       "        [ -4.36542304,  -4.47326337,  -4.59025268, ...,  -4.02468055,\n",
       "          -4.16605487,  -4.28367779],\n",
       "        [ -2.14715724,  -2.14715724,  -2.14715724, ...,  -2.14715724,\n",
       "          -2.14715724,  -2.14715724]],\n",
       "\n",
       "       [[ -8.43702568,  -8.43702568,  -8.43702568, ...,  -8.43702568,\n",
       "          -8.43702568,  -8.43702568],\n",
       "        [-14.3746354 , -14.35216587, -14.24209299, ..., -14.43011917,\n",
       "         -14.43226949, -14.40326677],\n",
       "        [-15.53903574, -15.54711673, -15.50549155, ..., -15.35401619,\n",
       "         -15.48019199, -15.53549639],\n",
       "        ...,\n",
       "        [  0.1345913 ,  -0.22453973,  -0.66684858, ...,   0.86678658,\n",
       "           0.66995932,   0.45604549],\n",
       "        [  2.13458457,   1.97676024,   1.78976935, ...,   2.57535543,\n",
       "           2.46395184,   2.31636306],\n",
       "        [ -1.94691302,  -1.94691302,  -1.94691302, ...,  -1.94691302,\n",
       "          -1.94691302,  -1.94691302]]])"
      ]
     },
     "execution_count": 35,
     "metadata": {},
     "output_type": "execute_result"
    }
   ],
   "source": [
    "mslp_detrended"
   ]
  },
  {
   "cell_type": "code",
   "execution_count": 36,
   "id": "e5538374",
   "metadata": {},
   "outputs": [],
   "source": [
    "mslp_detrended1 = np.mean(mslp_detrended, axis = 0)"
   ]
  },
  {
   "cell_type": "code",
   "execution_count": 37,
   "id": "4a17031e",
   "metadata": {},
   "outputs": [
    {
     "data": {
      "text/plain": [
       "array([[ 2.15181570e-14,  2.15181570e-14,  2.15181570e-14, ...,\n",
       "         2.15181570e-14,  2.15181570e-14,  2.15181570e-14],\n",
       "       [ 5.92317978e-14, -5.14979993e-14, -9.91745923e-15, ...,\n",
       "         4.28088493e-14, -1.26470352e-14, -5.27718014e-15],\n",
       "       [ 4.08071602e-14, -1.00084451e-15,  3.92149076e-14, ...,\n",
       "         2.79781533e-14, -7.75199566e-14, -3.37557557e-14],\n",
       "       ...,\n",
       "       [-2.95704060e-15, -8.91661472e-15, -7.72924919e-14, ...,\n",
       "         6.80119337e-14,  4.45375807e-14,  5.43640541e-14],\n",
       "       [ 2.17911146e-14,  8.83472745e-14, -8.43893893e-14, ...,\n",
       "         4.06251885e-14,  7.51998170e-14, -5.14979993e-14],\n",
       "       [-3.86689924e-15, -3.86689924e-15, -3.86689924e-15, ...,\n",
       "        -3.86689924e-15, -3.86689924e-15, -3.86689924e-15]])"
      ]
     },
     "execution_count": 37,
     "metadata": {},
     "output_type": "execute_result"
    }
   ],
   "source": [
    "mslp_detrended1"
   ]
  },
  {
   "cell_type": "code",
   "execution_count": 38,
   "id": "216dbc32",
   "metadata": {},
   "outputs": [],
   "source": [
    "np.savez(r'D:\\heat_wave\\SLP_SLPA_JJA_all_area.npz',sea_level_press = mslp_93_19, \n",
    "         sea_level_press_anom = mslp_detrended)"
   ]
  },
  {
   "cell_type": "code",
   "execution_count": 39,
   "id": "671c8523",
   "metadata": {},
   "outputs": [
    {
     "data": {
      "text/plain": [
       "(2499, 73, 144)"
      ]
     },
     "execution_count": 39,
     "metadata": {},
     "output_type": "execute_result"
    }
   ],
   "source": [
    "mslp_93_19.shape"
   ]
  },
  {
   "cell_type": "code",
   "execution_count": 40,
   "id": "5176c31e",
   "metadata": {},
   "outputs": [],
   "source": [
    "mslp_weio_93_19 = mslp_93_19[:,32:41,21:28]"
   ]
  },
  {
   "cell_type": "code",
   "execution_count": 41,
   "id": "7f8c6b3d",
   "metadata": {},
   "outputs": [
    {
     "data": {
      "text/plain": [
       "(2499, 9, 7)"
      ]
     },
     "execution_count": 41,
     "metadata": {},
     "output_type": "execute_result"
    }
   ],
   "source": [
    "mslp_weio_93_19.shape"
   ]
  },
  {
   "cell_type": "code",
   "execution_count": 42,
   "id": "70975295",
   "metadata": {},
   "outputs": [],
   "source": [
    "mslp_weio_93_19_mean = np.mean(mslp_weio_93_19, axis = (1,2))"
   ]
  },
  {
   "cell_type": "code",
   "execution_count": null,
   "id": "244e2d0c",
   "metadata": {},
   "outputs": [],
   "source": []
  },
  {
   "cell_type": "code",
   "execution_count": 43,
   "id": "8ba0a179",
   "metadata": {},
   "outputs": [],
   "source": [
    "mslp_detrended_weio = mslp_detrended[:,32:41,21:28]"
   ]
  },
  {
   "cell_type": "code",
   "execution_count": 44,
   "id": "4c1d76b2",
   "metadata": {},
   "outputs": [],
   "source": [
    "mslp_detrended_weio_93_19_mean = np.mean(mslp_detrended_weio, axis = (1,2))"
   ]
  },
  {
   "cell_type": "code",
   "execution_count": null,
   "id": "57bba50f",
   "metadata": {},
   "outputs": [],
   "source": []
  },
  {
   "cell_type": "code",
   "execution_count": null,
   "id": "126cd6dc",
   "metadata": {},
   "outputs": [],
   "source": []
  },
  {
   "cell_type": "code",
   "execution_count": 45,
   "id": "ba1d2883",
   "metadata": {},
   "outputs": [],
   "source": [
    "mslp_pacific_93_19 = mslp_93_19[:,34:39,76:97]"
   ]
  },
  {
   "cell_type": "code",
   "execution_count": 46,
   "id": "a2939f33",
   "metadata": {},
   "outputs": [],
   "source": [
    "mslp_detrended_pacific = mslp_detrended[:,34:39,76:97]"
   ]
  },
  {
   "cell_type": "code",
   "execution_count": 47,
   "id": "cf2d99af",
   "metadata": {},
   "outputs": [],
   "source": [
    "np.savez(r'D:\\heat_wave\\pacific\\SLP_SLPA_JJA_pacific_area.npz',sea_level_press = mslp_pacific_93_19, \n",
    "         sea_level_press_anom = mslp_detrended_pacific)"
   ]
  },
  {
   "cell_type": "code",
   "execution_count": null,
   "id": "e030fdca",
   "metadata": {},
   "outputs": [],
   "source": []
  },
  {
   "cell_type": "code",
   "execution_count": null,
   "id": "58d8e243",
   "metadata": {},
   "outputs": [],
   "source": []
  },
  {
   "cell_type": "code",
   "execution_count": 48,
   "id": "fe6061be",
   "metadata": {},
   "outputs": [],
   "source": [
    "np.savez(r'D:\\heat_wave\\WEIO\\SLP_SLPA_JJA_WEIO_area.npz',sea_level_press = mslp_weio_93_19, \n",
    "         sea_level_press_anom = mslp_detrended_weio)"
   ]
  },
  {
   "cell_type": "code",
   "execution_count": null,
   "id": "24d70e9e",
   "metadata": {},
   "outputs": [],
   "source": []
  },
  {
   "cell_type": "code",
   "execution_count": null,
   "id": "ea445d23",
   "metadata": {},
   "outputs": [],
   "source": []
  },
  {
   "cell_type": "code",
   "execution_count": 49,
   "id": "3a367c2f",
   "metadata": {},
   "outputs": [],
   "source": [
    "mslp_atlantic_93_19 = mslp_93_19[:,32:41,130:139]"
   ]
  },
  {
   "cell_type": "code",
   "execution_count": 50,
   "id": "c9f2d1b7",
   "metadata": {},
   "outputs": [],
   "source": [
    "mslp_detrended_atlantic = mslp_detrended[:,32:41,130:139]"
   ]
  },
  {
   "cell_type": "code",
   "execution_count": 51,
   "id": "6edfc733",
   "metadata": {},
   "outputs": [],
   "source": [
    "np.savez(r'D:\\heat_wave\\atlantic\\SLP_SLPA_JJA_atlantic_area.npz',sea_level_press = mslp_atlantic_93_19, \n",
    "         sea_level_press_anom = mslp_detrended_atlantic)"
   ]
  },
  {
   "cell_type": "code",
   "execution_count": null,
   "id": "3f8e01b6",
   "metadata": {},
   "outputs": [],
   "source": []
  },
  {
   "cell_type": "code",
   "execution_count": null,
   "id": "1534c1ee",
   "metadata": {},
   "outputs": [],
   "source": []
  },
  {
   "cell_type": "code",
   "execution_count": null,
   "id": "cfeb96b3",
   "metadata": {},
   "outputs": [],
   "source": []
  },
  {
   "cell_type": "code",
   "execution_count": null,
   "id": "658b26fa",
   "metadata": {},
   "outputs": [],
   "source": []
  }
 ],
 "metadata": {
  "kernelspec": {
   "display_name": "Python 3 (ipykernel)",
   "language": "python",
   "name": "python3"
  },
  "language_info": {
   "codemirror_mode": {
    "name": "ipython",
    "version": 3
   },
   "file_extension": ".py",
   "mimetype": "text/x-python",
   "name": "python",
   "nbconvert_exporter": "python",
   "pygments_lexer": "ipython3",
   "version": "3.8.12"
  }
 },
 "nbformat": 4,
 "nbformat_minor": 5
}

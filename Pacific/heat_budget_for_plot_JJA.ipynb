{
 "cells": [
  {
   "cell_type": "code",
   "execution_count": 1,
   "id": "cb71931c",
   "metadata": {},
   "outputs": [],
   "source": [
    "import random\n",
    "\n",
    "import numpy as np\n",
    "import torch\n",
    "from sklearn.metrics import mean_squared_error\n",
    "from sklearn.preprocessing import MinMaxScaler\n",
    "from torch import nn\n",
    "from tqdm import tqdm\n",
    "from torch.autograd import Variable\n",
    "from torch.utils.data import Dataset, DataLoader"
   ]
  },
  {
   "cell_type": "code",
   "execution_count": 3,
   "id": "0228b765",
   "metadata": {},
   "outputs": [
    {
     "name": "stdout",
     "output_type": "stream",
     "text": [
      "['sst_obser', 'slfh', 'sshf', 'ssr', 'str', 'mld', 'analysis_temp', 'u', 'v', 'T_d', 'u_d', 'v_d', 'xx', 'yy', 'dT_dt', 'dT_dx', 'dT_dy']\n",
      "(9861, 40, 200)\n",
      "19.893036\n",
      "31.218864\n"
     ]
    }
   ],
   "source": [
    "data = np.load(r'D:\\Advancing_ocean_intuition\\pacific\\last\\1day_for_1day_all_variables_intuition_nino_area_surface.npz')\n",
    "print(\n",
    "    data.files)  # ['sst_obser', 'slfh', 'sshf', 'ssr', 'str', 'mld', 'analysis_temp', 'u', 'v', 'T_d', 'u_d', 'v_d', 'xx', 'yy', 'dT_dt', 'dT_dx', 'dT_dy']\n",
    "\n",
    "sst_obser = data['sst_obser'][:, :40, :200]  # (9861, 41, 201)  #\n",
    "print(sst_obser.shape)  # (9861, 41, 201)\n",
    "slfh = data['slfh'][:, :40, :200]   # (9861, 41, 201)\n",
    "sshf = data['sshf'][:, :40, :200]   # (9861, 41, 201)\n",
    "ssr = data['ssr'][:, :40, :200]   # (9861, 41, 201)   # 可惜这个是 0\n",
    "str = data['str'][:, :40, :200]   # (9861, 41, 201)\n",
    "mld = data['mld'][:, :40, :200]   # (9861, 41, 201)\n",
    "analysis_temp = data['analysis_temp'][:, :40, :200]  # (9861, 41, 201)\n",
    "u = data['u'][:, :40, :200]  # (9861, 41, 201)\n",
    "v = data['v'][:, :40, :200]  # (9861, 41, 201)\n",
    "T_d = data['T_d'][:, :40, :200]  # (9861, 41, 201)\n",
    "u_d = data['u_d'][:, :40, :200]  # (9861, 41, 201)\n",
    "v_d = data['v_d'][:, :40, :200]  # (9861, 41, 201)\n",
    "xx = data['xx'][:, :40, :200]  # (9861, 41, 201)\n",
    "yy = data['yy'][:, :40, :200]  # (9861, 41, 201)\n",
    "print(np.min(T_d))\n",
    "print(np.max(T_d))\n",
    "# print(xx)  # -5 -4.75 ... 4.75\n",
    "# print(yy)  # 190  190.25 ... 239.75\n",
    "\n",
    "dT_dt = data['dT_dt'][:, :40, :200]\n",
    "dT_dx = data['dT_dx'][:, :40, :200]\n",
    "dT_dy = data['dT_dy'][:, :40, :200]"
   ]
  },
  {
   "cell_type": "code",
   "execution_count": 4,
   "id": "e4fd1f82",
   "metadata": {},
   "outputs": [],
   "source": [
    "Q_net = (slfh + sshf + ssr + str)\n",
    "Q_net.shape\n",
    "Q_net = Q_net / (1025 * 4000 * mld)"
   ]
  },
  {
   "cell_type": "code",
   "execution_count": 5,
   "id": "affa38ca",
   "metadata": {},
   "outputs": [
    {
     "data": {
      "text/plain": [
       "(9861, 40, 200)"
      ]
     },
     "execution_count": 5,
     "metadata": {},
     "output_type": "execute_result"
    }
   ],
   "source": [
    "ZAdv = u * dT_dx\n",
    "ZAdv.shape"
   ]
  },
  {
   "cell_type": "code",
   "execution_count": 6,
   "id": "1c84593f",
   "metadata": {},
   "outputs": [
    {
     "data": {
      "text/plain": [
       "(9861, 40, 200)"
      ]
     },
     "execution_count": 6,
     "metadata": {},
     "output_type": "execute_result"
    }
   ],
   "source": [
    "MAdv = v * dT_dy\n",
    "MAdv.shape"
   ]
  },
  {
   "cell_type": "code",
   "execution_count": 7,
   "id": "13ea9a33",
   "metadata": {},
   "outputs": [
    {
     "data": {
      "text/plain": [
       "(9861, 40, 200)"
      ]
     },
     "execution_count": 7,
     "metadata": {},
     "output_type": "execute_result"
    }
   ],
   "source": [
    "VAdv = v_d * ((sst_obser -T_d ) / mld)\n",
    "VAdv.shape"
   ]
  },
  {
   "cell_type": "code",
   "execution_count": 8,
   "id": "0a417540",
   "metadata": {},
   "outputs": [
    {
     "data": {
      "text/plain": [
       "(9860, 40, 200)"
      ]
     },
     "execution_count": 8,
     "metadata": {},
     "output_type": "execute_result"
    }
   ],
   "source": [
    "R_origin = dT_dt - (Q_net[:9860,:,:] + ZAdv[:9860,:,:] + MAdv[:9860,:,:] + VAdv[:9860,:,:])\n",
    "R_origin.shape"
   ]
  },
  {
   "cell_type": "code",
   "execution_count": 9,
   "id": "e128521d",
   "metadata": {
    "collapsed": true
   },
   "outputs": [
    {
     "data": {
      "text/plain": [
       "array([[[ 0.38350008,  0.18145963,  0.0844334 , ..., -0.4271789 ,\n",
       "         -0.42918959, -0.45375317],\n",
       "        [ 0.50509672,  0.22653385,  0.21819494, ..., -0.32062519,\n",
       "         -0.34579413, -0.32468746],\n",
       "        [ 0.68007128,  0.26168936,  0.32892454, ..., -0.20788502,\n",
       "         -0.23235965, -0.27743494],\n",
       "        ...,\n",
       "        [ 0.65171192,  0.50327595,  0.27970263, ..., -0.20469341,\n",
       "         -0.36141806,  0.05197813],\n",
       "        [ 0.72431586,  0.60538162,  0.43569861, ..., -0.31184046,\n",
       "         -0.3023251 ,  0.0262848 ],\n",
       "        [ 0.53857409,  0.48932725,  0.39853078, ..., -0.22029988,\n",
       "         -0.20910103,  0.07102226]],\n",
       "\n",
       "       [[ 0.08526166,  0.03970014, -0.01482458, ...,  0.06148629,\n",
       "          0.03653685,  0.10907771],\n",
       "        [-0.15905844, -0.33089782, -0.30593919, ...,  0.10333709,\n",
       "          0.13476729,  0.10545063],\n",
       "        [-0.4913887 , -0.65880571, -0.55936161, ...,  0.18393125,\n",
       "          0.13889776,  0.13729439],\n",
       "        ...,\n",
       "        [ 0.18425803,  0.16177868,  0.05869601, ...,  0.2968386 ,\n",
       "          0.26275716,  0.37840112],\n",
       "        [ 0.33259871,  0.3155125 ,  0.17885433, ...,  0.14365401,\n",
       "          0.14738663,  0.1917741 ],\n",
       "        [ 0.30890484,  0.30217899,  0.16056441, ...,  0.05774425,\n",
       "          0.05851738,  0.01940284]],\n",
       "\n",
       "       [[ 0.38081137,  0.20371481,  0.09845471, ...,  0.65231974,\n",
       "          0.62211727,  0.58249245],\n",
       "        [ 0.51575966,  0.22294464,  0.16994448, ...,  0.62041907,\n",
       "          0.5964992 ,  0.55184962],\n",
       "        [ 0.55969867,  0.19967399,  0.12685381, ...,  0.528194  ,\n",
       "          0.55891919,  0.51094245],\n",
       "        ...,\n",
       "        [-0.08305325, -0.07313033, -0.14549605, ..., -0.38438764,\n",
       "         -0.43153642, -0.22844246],\n",
       "        [ 0.09482041,  0.05967099, -0.05574824, ..., -0.51257562,\n",
       "         -0.54780015, -0.42045271],\n",
       "        [ 0.18156018,  0.0806555 , -0.05258231, ..., -0.54674554,\n",
       "         -0.4709344 , -0.30675638]],\n",
       "\n",
       "       ...,\n",
       "\n",
       "       [[ 0.02556693, -0.02721973, -0.07932559, ...,  0.09062648,\n",
       "          0.07609009,  0.01536562],\n",
       "        [-0.01907211, -0.03759688, -0.03063178, ...,  0.06079266,\n",
       "          0.00512392, -0.039486  ],\n",
       "        [-0.05447676, -0.02069099, -0.0097408 , ...,  0.01571818,\n",
       "         -0.06165133, -0.07060321],\n",
       "        ...,\n",
       "        [ 1.14974868,  0.86684137, -0.00343556, ...,  0.023296  ,\n",
       "         -0.0251873 , -0.04633664],\n",
       "        [ 1.10767061,  0.7606396 , -0.0983447 , ...,  0.01914324,\n",
       "         -0.01808126, -0.02017097],\n",
       "        [ 0.92832821,  0.62389153,  0.0095972 , ..., -0.02043459,\n",
       "         -0.03309161,  0.02971411]],\n",
       "\n",
       "       [[ 0.0155115 , -0.05863308, -0.12805507, ..., -0.16691586,\n",
       "         -0.23390317, -0.2536301 ],\n",
       "        [-0.01097476, -0.02383686, -0.06549062, ..., -0.20287374,\n",
       "         -0.27994152, -0.26806823],\n",
       "        [-0.02324153, -0.01216485, -0.03794125, ..., -0.18205702,\n",
       "         -0.21083723, -0.15822769],\n",
       "        ...,\n",
       "        [-0.30464851, -0.03441541, -0.54882836, ..., -0.3449169 ,\n",
       "         -0.15432471, -0.10053803],\n",
       "        [-0.20505894,  0.08617433, -0.48267885, ..., -0.41976524,\n",
       "         -0.25352386, -0.23284859],\n",
       "        [-0.10590067,  0.10612737, -0.35868036, ..., -0.48277267,\n",
       "         -0.37133179, -0.34127551]],\n",
       "\n",
       "       [[-0.05399487, -0.14009213, -0.15466785, ..., -0.07988905,\n",
       "         -0.13137788, -0.10016774],\n",
       "        [-0.09800487, -0.17023473, -0.22003496, ..., -0.0976542 ,\n",
       "         -0.09933338, -0.1451031 ],\n",
       "        [-0.10338261, -0.15872876, -0.20044329, ..., -0.11613225,\n",
       "         -0.066177  , -0.05933841],\n",
       "        ...,\n",
       "        [-0.13018016,  0.37528069,  0.23409242, ..., -0.12598328,\n",
       "         -0.20708847, -0.18487259],\n",
       "        [-0.09269534,  0.40465216,  0.25516289, ..., -0.28145454,\n",
       "         -0.26123669, -0.21990471],\n",
       "        [-0.08212939,  0.27506958,  0.23664933, ..., -0.4956087 ,\n",
       "         -0.32747408, -0.30506126]]])"
      ]
     },
     "execution_count": 9,
     "metadata": {},
     "output_type": "execute_result"
    }
   ],
   "source": [
    "R_origin"
   ]
  },
  {
   "cell_type": "code",
   "execution_count": 10,
   "id": "08c8d6d3",
   "metadata": {},
   "outputs": [
    {
     "data": {
      "text/plain": [
       "'我们方法修正项'"
      ]
     },
     "execution_count": 10,
     "metadata": {},
     "output_type": "execute_result"
    }
   ],
   "source": [
    "\"\"\"我们方法修正项\"\"\""
   ]
  },
  {
   "cell_type": "code",
   "execution_count": 11,
   "id": "e46e3c0c",
   "metadata": {},
   "outputs": [
    {
     "data": {
      "text/plain": [
       "['dt_R']"
      ]
     },
     "execution_count": 11,
     "metadata": {},
     "output_type": "execute_result"
    }
   ],
   "source": [
    "data1 = np.load(r'D:\\heat_wave\\pacific\\last\\Dt_with_R_e1.npz')\n",
    "data2 = np.load(r'D:\\heat_wave\\pacific\\last\\Dt_with_R_e2.npz')\n",
    "data3 = np.load(r'D:\\heat_wave\\pacific\\last\\Dt_with_R_e3.npz')\n",
    "data4 = np.load(r'D:\\heat_wave\\pacific\\last\\Dt_with_R_e4.npz')\n",
    "data5 = np.load(r'D:\\heat_wave\\pacific\\last\\Dt_with_R_e5.npz')\n",
    "data1.files"
   ]
  },
  {
   "cell_type": "code",
   "execution_count": 12,
   "id": "3fe1ec8c",
   "metadata": {},
   "outputs": [
    {
     "data": {
      "text/plain": [
       "(9860, 40, 200)"
      ]
     },
     "execution_count": 12,
     "metadata": {},
     "output_type": "execute_result"
    }
   ],
   "source": [
    "dt_R1 = data1['dt_R'][:].reshape(9860,40,200)\n",
    "dt_R2 = data2['dt_R'][:].reshape(9860,40,200)\n",
    "dt_R3 = data3['dt_R'][:].reshape(9860,40,200)\n",
    "dt_R4 = data4['dt_R'][:].reshape(9860,40,200)\n",
    "dt_R5 = data5['dt_R'][:].reshape(9860,40,200)\n",
    "dt_R1.shape"
   ]
  },
  {
   "cell_type": "code",
   "execution_count": 13,
   "id": "80650248",
   "metadata": {
    "collapsed": true
   },
   "outputs": [
    {
     "data": {
      "text/plain": [
       "array([[[-0.28933302, -0.05333645, -0.01332911, ...,  0.4865895 ,\n",
       "          0.41115975,  0.4465634 ],\n",
       "        [-0.38266695, -0.0688787 , -0.02874806, ...,  0.39565662,\n",
       "          0.3509448 ,  0.33698338],\n",
       "        [-0.4408059 , -0.06624164, -0.01722556, ...,  0.32649016,\n",
       "          0.28285578,  0.3038839 ],\n",
       "        ...,\n",
       "        [-0.5242568 , -0.33345646, -0.12883733, ...,  0.03674373,\n",
       "         -0.06265006,  0.10872991],\n",
       "        [-0.525598  , -0.39512724, -0.21158215, ...,  0.00786022,\n",
       "         -0.05260696,  0.05185654],\n",
       "        [-0.4324652 , -0.32346192, -0.21872598, ...,  0.02395673,\n",
       "         -0.06527562,  0.01934293]],\n",
       "\n",
       "       [[-0.1684628 , -0.01135238,  0.01223398, ...,  0.04010908,\n",
       "         -0.0401582 , -0.07452881],\n",
       "        [ 0.09938391,  0.36688524,  0.30626085, ..., -0.01066904,\n",
       "         -0.09954942, -0.07292452],\n",
       "        [ 0.37076953,  0.6388966 ,  0.54602593, ..., -0.08630226,\n",
       "         -0.10910824, -0.09242129],\n",
       "        ...,\n",
       "        [ 0.09033634,  0.15601511,  0.15940917, ..., -0.28065288,\n",
       "         -0.3097885 , -0.1625168 ],\n",
       "        [ 0.03053012,  0.10279395,  0.14430524, ..., -0.19203082,\n",
       "         -0.21456024, -0.09153797],\n",
       "        [-0.04887652,  0.02072866,  0.05120765, ..., -0.08230767,\n",
       "         -0.13187324,  0.01787992]],\n",
       "\n",
       "       [[-0.09102827, -0.08103417, -0.10958662, ..., -0.54224515,\n",
       "         -0.6002296 , -0.5551682 ],\n",
       "        [ 0.07966907, -0.031069  , -0.08729656, ..., -0.51157737,\n",
       "         -0.57019913, -0.5244014 ],\n",
       "        [ 0.21724936,  0.04972212, -0.06591853, ..., -0.45642608,\n",
       "         -0.5385037 , -0.4932123 ],\n",
       "        ...,\n",
       "        [ 0.40421346,  0.43784094,  0.40563142, ...,  0.45601088,\n",
       "          0.45424795,  0.55701005],\n",
       "        [ 0.3244257 ,  0.42558992,  0.40009904, ...,  0.5169102 ,\n",
       "          0.5111021 ,  0.62091243],\n",
       "        [ 0.1640032 ,  0.3206526 ,  0.3168586 , ...,  0.4391367 ,\n",
       "          0.39457107,  0.3987143 ]],\n",
       "\n",
       "       ...,\n",
       "\n",
       "       [[ 0.20195329,  0.17768207,  0.15972182, ..., -0.0127279 ,\n",
       "         -0.06504102, -0.0443733 ],\n",
       "        [ 0.16665927,  0.13462698,  0.09838198, ..., -0.01384538,\n",
       "         -0.02632753, -0.00292394],\n",
       "        [ 0.14622584,  0.09675677,  0.06806494, ..., -0.0163255 ,\n",
       "         -0.01102016,  0.05011754],\n",
       "        ...,\n",
       "        [-1.1789486 , -0.893712  ,  0.09911454, ..., -0.15360837,\n",
       "         -0.14611252, -0.08552623],\n",
       "        [-1.1309754 , -0.8365228 ,  0.12501569, ..., -0.19309413,\n",
       "         -0.16387562, -0.14329903],\n",
       "        [-0.90079683, -0.62491494,  0.02302606, ..., -0.10745978,\n",
       "         -0.10886985, -0.15132473]],\n",
       "\n",
       "       [[ 0.16649845,  0.18143344,  0.22755335, ...,  0.2506442 ,\n",
       "          0.21597108,  0.185097  ],\n",
       "        [ 0.14536513,  0.12180381,  0.14992088, ...,  0.2594744 ,\n",
       "          0.24741682,  0.17626542],\n",
       "        [ 0.14633198,  0.10273181,  0.11043613, ...,  0.19457817,\n",
       "          0.17523566,  0.12050967],\n",
       "        ...,\n",
       "        [ 0.4837938 ,  0.74076927,  0.6413396 , ...,  0.1522926 ,\n",
       "         -0.02898391, -0.08092959],\n",
       "        [ 0.41108516,  0.6401971 ,  0.5615905 , ...,  0.28676558,\n",
       "          0.13053185,  0.04460394],\n",
       "        [ 0.33336157,  0.44683328,  0.48974162, ...,  0.37442806,\n",
       "          0.2632223 ,  0.14948523]],\n",
       "\n",
       "       [[ 0.09451057,  0.15321746,  0.18168771, ...,  0.12969959,\n",
       "          0.02967322, -0.00303634],\n",
       "        [ 0.18610981,  0.2248219 ,  0.263871  , ...,  0.17027712,\n",
       "          0.07735442,  0.04374403],\n",
       "        [ 0.23633029,  0.263296  ,  0.27252513, ...,  0.15556419,\n",
       "          0.06667241,  0.02826321],\n",
       "        ...,\n",
       "        [ 0.39928576,  0.25313962, -0.01731414, ...,  0.11319566,\n",
       "          0.15855683,  0.1277554 ],\n",
       "        [ 0.33233753,  0.20750087, -0.06410562, ...,  0.28197327,\n",
       "          0.26019254,  0.17022373],\n",
       "        [ 0.25495607,  0.1283469 , -0.1319902 , ...,  0.4907485 ,\n",
       "          0.32530585,  0.27639613]]], dtype=float32)"
      ]
     },
     "execution_count": 13,
     "metadata": {},
     "output_type": "execute_result"
    }
   ],
   "source": [
    "\"修正后的R\"\n",
    "R_recur1 = dt_R1 - dT_dt\n",
    "R_recur2 = dt_R2 - dT_dt\n",
    "R_recur3 = dt_R3 - dT_dt\n",
    "R_recur4 = dt_R4 - dT_dt\n",
    "R_recur5 = dt_R5 - dT_dt\n",
    "R_recur1"
   ]
  },
  {
   "cell_type": "code",
   "execution_count": 14,
   "id": "7cc8264a",
   "metadata": {
    "collapsed": true
   },
   "outputs": [
    {
     "data": {
      "text/plain": [
       "array([[[-3.12543452e-01, -5.95308542e-02, -1.75928529e-02, ...,\n",
       "          4.81393039e-01,  4.07376766e-01,  4.52931315e-01],\n",
       "        [-4.08123344e-01, -7.70716816e-02, -3.38339880e-02, ...,\n",
       "          3.90346110e-01,  3.47013056e-01,  3.43133390e-01],\n",
       "        [-4.68668163e-01, -7.74228945e-02, -2.32474599e-02, ...,\n",
       "          3.21300149e-01,  2.79046118e-01,  3.09978843e-01],\n",
       "        ...,\n",
       "        [-5.49191594e-01, -3.40549827e-01, -1.32836536e-01, ...,\n",
       "          3.06254569e-02, -7.08688721e-02,  1.12348534e-01],\n",
       "        [-5.52369118e-01, -4.03622299e-01, -2.16258764e-01, ...,\n",
       "          1.13031117e-03, -5.98799102e-02,  5.62734380e-02],\n",
       "        [-4.57709372e-01, -3.30214649e-01, -2.23426849e-01, ...,\n",
       "          1.73730534e-02, -7.21838847e-02,  2.38319058e-02]],\n",
       "\n",
       "       [[-1.89451426e-01, -1.61855984e-02,  5.84824150e-03, ...,\n",
       "          3.47832814e-02, -4.43773344e-02, -6.86048418e-02],\n",
       "        [ 7.80561939e-02,  3.61433327e-01,  2.99638182e-01, ...,\n",
       "         -1.62344072e-02, -1.03603818e-01, -6.70005232e-02],\n",
       "        [ 3.50417227e-01,  6.33229792e-01,  5.38387477e-01, ...,\n",
       "         -9.17734057e-02, -1.13379262e-01, -8.66430029e-02],\n",
       "        ...,\n",
       "        [ 6.16803542e-02,  1.47678912e-01,  1.56642258e-01, ...,\n",
       "         -2.87257373e-01, -3.16941053e-01, -1.59054145e-01],\n",
       "        [-1.40371104e-03,  9.33269784e-02,  1.41745284e-01, ...,\n",
       "         -1.98177233e-01, -2.20274419e-01, -8.67380053e-02],\n",
       "        [-7.77337998e-02,  1.26483086e-02,  4.79488373e-02, ...,\n",
       "         -8.77529159e-02, -1.36559337e-01,  2.35256590e-02]],\n",
       "\n",
       "       [[-1.13812745e-01, -9.00682062e-02, -1.15736164e-01, ...,\n",
       "         -5.47420025e-01, -6.04151130e-01, -5.49119592e-01],\n",
       "        [ 5.48513941e-02, -4.39658649e-02, -9.27478820e-02, ...,\n",
       "         -5.16836047e-01, -5.74117184e-01, -5.18366337e-01],\n",
       "        [ 1.91288203e-01,  3.47531363e-02, -7.15479702e-02, ...,\n",
       "         -4.61792856e-01, -5.42466998e-01, -4.87127304e-01],\n",
       "        ...,\n",
       "        [ 3.74269545e-01,  4.29330260e-01,  4.03284073e-01, ...,\n",
       "          4.48896945e-01,  4.45959628e-01,  5.59170783e-01],\n",
       "        [ 2.90850788e-01,  4.15896237e-01,  3.97864997e-01, ...,\n",
       "          5.10209978e-01,  5.04157841e-01,  6.24513030e-01],\n",
       "        [ 1.32920414e-01,  3.11732769e-01,  3.13851714e-01, ...,\n",
       "          4.32476848e-01,  3.88674557e-01,  4.03399289e-01]],\n",
       "\n",
       "       ...,\n",
       "\n",
       "       [[ 1.77905649e-01,  1.69269696e-01,  1.54690623e-01, ...,\n",
       "         -1.77712459e-02, -6.83544427e-02, -3.76797393e-02],\n",
       "        [ 1.43833980e-01,  1.26761630e-01,  9.30608958e-02, ...,\n",
       "         -1.88936386e-02, -2.96631064e-02,  3.86162964e-03],\n",
       "        [ 1.24024354e-01,  8.97505581e-02,  6.28725290e-02, ...,\n",
       "         -2.16857791e-02, -1.50338355e-02,  5.64966500e-02],\n",
       "        ...,\n",
       "        [-1.19977593e+00, -9.01008129e-01,  9.22153071e-02, ...,\n",
       "         -1.59796163e-01, -1.49856016e-01, -7.81752169e-02],\n",
       "        [-1.14969599e+00, -8.43188584e-01,  1.18596338e-01, ...,\n",
       "         -1.99472144e-01, -1.67393804e-01, -1.35655850e-01],\n",
       "        [-9.21427608e-01, -6.32076383e-01,  1.65780298e-02, ...,\n",
       "         -1.13334931e-01, -1.12458721e-01, -1.44011900e-01]],\n",
       "\n",
       "       [[ 1.42726347e-01,  1.73012406e-01,  2.22085401e-01, ...,\n",
       "          2.45965928e-01,  2.13154271e-01,  1.92295700e-01],\n",
       "        [ 1.22312143e-01,  1.13984033e-01,  1.44460618e-01, ...,\n",
       "          2.54792094e-01,  2.44766146e-01,  1.83695138e-01],\n",
       "        [ 1.23591207e-01,  9.51890498e-02,  1.05007090e-01, ...,\n",
       "          1.89132273e-01,  1.71545297e-01,  1.27130985e-01],\n",
       "        ...,\n",
       "        [ 4.45526928e-01,  7.34205365e-01,  6.36522889e-01, ...,\n",
       "          1.46591142e-01, -3.20082568e-02, -7.29855448e-02],\n",
       "        [ 3.72871846e-01,  6.34169579e-01,  5.57658076e-01, ...,\n",
       "          2.81184405e-01,  1.27883404e-01,  5.27990349e-02],\n",
       "        [ 2.98960924e-01,  4.39657301e-01,  4.85462010e-01, ...,\n",
       "          3.69519770e-01,  2.61087120e-01,  1.57842547e-01]],\n",
       "\n",
       "       [[ 7.39399567e-02,  1.46579608e-01,  1.76032752e-01, ...,\n",
       "          1.25446558e-01,  2.70638112e-02,  4.50238120e-03],\n",
       "        [ 1.64472729e-01,  2.17739254e-01,  2.58416772e-01, ...,\n",
       "          1.65856451e-01,  7.50023127e-02,  5.13559803e-02],\n",
       "        [ 2.13199303e-01,  2.55654514e-01,  2.66978830e-01, ...,\n",
       "          1.50179058e-01,  6.31282106e-02,  3.48823108e-02],\n",
       "        ...,\n",
       "        [ 3.62240702e-01,  2.45090052e-01, -2.15515755e-02, ...,\n",
       "          1.07384026e-01,  1.54851854e-01,  1.34485364e-01],\n",
       "        [ 2.96067625e-01,  2.00274989e-01, -6.80396929e-02, ...,\n",
       "          2.76404113e-01,  2.56697804e-01,  1.76990822e-01],\n",
       "        [ 2.24351764e-01,  1.21461295e-01, -1.36797220e-01, ...,\n",
       "          4.85314697e-01,  3.21635783e-01,  2.82938749e-01]]],\n",
       "      dtype=float32)"
      ]
     },
     "execution_count": 14,
     "metadata": {},
     "output_type": "execute_result"
    }
   ],
   "source": [
    "R_recur = ((R_recur1 + R_recur2 + R_recur3 + R_recur4 + R_recur5) / 5)\n",
    "R_recur"
   ]
  },
  {
   "cell_type": "code",
   "execution_count": 15,
   "id": "77e846bc",
   "metadata": {},
   "outputs": [],
   "source": [
    "# 首先 我们先画 JJA季节的贡献图   JJA： 6  7  8 月  即  06/01 - 08/31  当然，会做一个区域平均\n",
    "# 同时，我们也会对每一年的JJA做一个平均  ---》1993 - 2019年"
   ]
  },
  {
   "cell_type": "code",
   "execution_count": 16,
   "id": "59d39e69",
   "metadata": {},
   "outputs": [
    {
     "data": {
      "text/plain": [
       "9738"
      ]
     },
     "execution_count": 16,
     "metadata": {},
     "output_type": "execute_result"
    }
   ],
   "source": [
    "#  计算索引\n",
    "import pandas as pd\n",
    "import datetime\n",
    "\n",
    "#创建时间范围\n",
    "start_date = datetime.datetime(1993,1,1)\n",
    "end_date = datetime.datetime(2019,12,31)\n",
    "dates = pd.date_range(start = start_date, end = end_date, freq = 'D')\n",
    "\n",
    "index = dates.get_loc(datetime.datetime(2019,8,31)) \n",
    "index"
   ]
  },
  {
   "cell_type": "code",
   "execution_count": null,
   "id": "76279e52",
   "metadata": {},
   "outputs": [],
   "source": []
  },
  {
   "cell_type": "code",
   "execution_count": 17,
   "id": "a8d47866",
   "metadata": {},
   "outputs": [],
   "source": [
    "# JJA   93\n",
    "Q_net_JJA_93 = Q_net[151:243,:,:]\n",
    "Q_net_JJA_93.shape\n",
    "\n",
    "ZAdv_JJA_93 = ZAdv[151:243,:,:]\n",
    "MAdv_JJA_93 = MAdv[151:243,:,:]\n",
    "VAdv_JJA_93 = VAdv[151:243,:,:]\n",
    "R_origin_JJA_93 = R_origin[151:243,:,:]\n",
    "dT_dt_JJA_93 = dT_dt[151:243,:,:]\n",
    "R_recur_JJA_93 = R_recur[151:243,:,:]"
   ]
  },
  {
   "cell_type": "code",
   "execution_count": 18,
   "id": "54e23fa2",
   "metadata": {},
   "outputs": [],
   "source": [
    "# JJA   94\n",
    "Q_net_JJA_94 = Q_net[516:608,:,:]\n",
    "Q_net_JJA_94.shape\n",
    "\n",
    "ZAdv_JJA_94 = ZAdv[516:608,:,:]\n",
    "MAdv_JJA_94 = MAdv[516:608,:,:]\n",
    "VAdv_JJA_94 = VAdv[516:608,:,:]\n",
    "R_origin_JJA_94 = R_origin[516:608,:,:]\n",
    "dT_dt_JJA_94 = dT_dt[516:608,:,:]\n",
    "R_recur_JJA_94 = R_recur[516:608,:,:]"
   ]
  },
  {
   "cell_type": "code",
   "execution_count": 19,
   "id": "621b92ec",
   "metadata": {},
   "outputs": [],
   "source": [
    "# JJA   95\n",
    "Q_net_JJA_95 = Q_net[881:973,:,:]\n",
    "ZAdv_JJA_95 = ZAdv[881:973,:,:]\n",
    "MAdv_JJA_95 = MAdv[881:973,:,:]\n",
    "VAdv_JJA_95 = VAdv[881:973,:,:]\n",
    "R_origin_JJA_95 = R_origin[881:973,:,:]\n",
    "dT_dt_JJA_95 = dT_dt[881:973,:,:]\n",
    "R_recur_JJA_95 = R_recur[881:973,:,:]"
   ]
  },
  {
   "cell_type": "code",
   "execution_count": 20,
   "id": "d02a8eaa",
   "metadata": {},
   "outputs": [],
   "source": [
    "# JJA   96\n",
    "Q_net_JJA_96 = Q_net[1247:1339,:,:]\n",
    "ZAdv_JJA_96 = ZAdv[1247:1339,:,:]\n",
    "MAdv_JJA_96 = MAdv[1247:1339,:,:]\n",
    "VAdv_JJA_96 = VAdv[1247:1339,:,:]\n",
    "R_origin_JJA_96 = R_origin[1247:1339,:,:]\n",
    "dT_dt_JJA_96 = dT_dt[1247:1339,:,:]\n",
    "R_recur_JJA_96 = R_recur[1247:1339,:,:]"
   ]
  },
  {
   "cell_type": "code",
   "execution_count": 21,
   "id": "f8a8725b",
   "metadata": {},
   "outputs": [],
   "source": [
    "# JJA   97\n",
    "Q_net_JJA_97 = Q_net[1612:1704,:,:]\n",
    "ZAdv_JJA_97 = ZAdv[1612:1704,:,:]\n",
    "MAdv_JJA_97 = MAdv[1612:1704,:,:]\n",
    "VAdv_JJA_97 = VAdv[1612:1704,:,:]\n",
    "R_origin_JJA_97 = R_origin[1612:1704,:,:]\n",
    "dT_dt_JJA_97 = dT_dt[1612:1704,:,:]\n",
    "R_recur_JJA_97 = R_recur[1612:1704,:,:]"
   ]
  },
  {
   "cell_type": "code",
   "execution_count": 22,
   "id": "ec63808d",
   "metadata": {},
   "outputs": [],
   "source": [
    "# JJA   98\n",
    "Q_net_JJA_98 = Q_net[1977:2069,:,:]\n",
    "ZAdv_JJA_98 = ZAdv[1977:2069,:,:]\n",
    "MAdv_JJA_98 = MAdv[1977:2069,:,:]\n",
    "VAdv_JJA_98 = VAdv[1977:2069,:,:]\n",
    "R_origin_JJA_98 = R_origin[1977:2069,:,:]\n",
    "dT_dt_JJA_98 = dT_dt[1977:2069,:,:]\n",
    "R_recur_JJA_98 = R_recur[1977:2069,:,:]"
   ]
  },
  {
   "cell_type": "code",
   "execution_count": 23,
   "id": "198ec214",
   "metadata": {},
   "outputs": [],
   "source": [
    "# JJA   99\n",
    "Q_net_JJA_99 = Q_net[2342:2434,:,:]\n",
    "ZAdv_JJA_99 = ZAdv[2342:2434,:,:]\n",
    "MAdv_JJA_99 = MAdv[2342:2434,:,:]\n",
    "VAdv_JJA_99 = VAdv[2342:2434,:,:]\n",
    "R_origin_JJA_99 = R_origin[2342:2434,:,:]\n",
    "dT_dt_JJA_99 = dT_dt[2342:2434,:,:]\n",
    "R_recur_JJA_99 = R_recur[2342:2434,:,:]"
   ]
  },
  {
   "cell_type": "code",
   "execution_count": 24,
   "id": "213cd42f",
   "metadata": {},
   "outputs": [],
   "source": [
    "# JJA   00\n",
    "Q_net_JJA_00 = Q_net[2708:2799,:,:]\n",
    "ZAdv_JJA_00 = ZAdv[2708:2799,:,:]\n",
    "MAdv_JJA_00 = MAdv[2708:2799,:,:]\n",
    "VAdv_JJA_00 = VAdv[2708:2799,:,:]\n",
    "R_origin_JJA_00 = R_origin[2708:2799,:,:]\n",
    "dT_dt_JJA_00 = dT_dt[2708:2799,:,:]\n",
    "R_recur_JJA_00 = R_recur[2708:2799,:,:]"
   ]
  },
  {
   "cell_type": "code",
   "execution_count": 25,
   "id": "0d9653cc",
   "metadata": {},
   "outputs": [],
   "source": [
    "# JJA   01\n",
    "Q_net_JJA_01 = Q_net[3073:3165,:,:]\n",
    "ZAdv_JJA_01 = ZAdv[3073:3165,:,:]\n",
    "MAdv_JJA_01 = MAdv[3073:3165,:,:]\n",
    "VAdv_JJA_01 = VAdv[3073:3165,:,:]\n",
    "R_origin_JJA_01 = R_origin[3073:3165,:,:]\n",
    "dT_dt_JJA_01 = dT_dt[3073:3165,:,:]\n",
    "R_recur_JJA_01 = R_recur[3073:3165,:,:]"
   ]
  },
  {
   "cell_type": "code",
   "execution_count": 26,
   "id": "def4fa57",
   "metadata": {},
   "outputs": [],
   "source": [
    "# JJA   02\n",
    "Q_net_JJA_02 = Q_net[3438:3529,:,:]\n",
    "ZAdv_JJA_02 = ZAdv[3438:3529,:,:]\n",
    "MAdv_JJA_02 = MAdv[3438:3529,:,:]\n",
    "VAdv_JJA_02 = VAdv[3438:3529,:,:]\n",
    "R_origin_JJA_02 = R_origin[3438:3529,:,:]\n",
    "dT_dt_JJA_02 = dT_dt[3438:3529,:,:]\n",
    "R_recur_JJA_02 = R_recur[3438:3529,:,:]"
   ]
  },
  {
   "cell_type": "code",
   "execution_count": 27,
   "id": "90b3d77f",
   "metadata": {},
   "outputs": [],
   "source": [
    "# JJA   03\n",
    "Q_net_JJA_03 = Q_net[3803:3895,:,:]\n",
    "ZAdv_JJA_03 = ZAdv[3803:3895,:,:]\n",
    "MAdv_JJA_03 = MAdv[3803:3895,:,:]\n",
    "VAdv_JJA_03 = VAdv[3803:3895,:,:]\n",
    "R_origin_JJA_03 = R_origin[3803:3895,:,:]\n",
    "dT_dt_JJA_03 = dT_dt[3803:3895,:,:]\n",
    "R_recur_JJA_03 = R_recur[3803:3895,:,:]"
   ]
  },
  {
   "cell_type": "code",
   "execution_count": 28,
   "id": "15f519a2",
   "metadata": {},
   "outputs": [],
   "source": [
    "# JJA   04\n",
    "Q_net_JJA_04 = Q_net[4169:4261,:,:]\n",
    "ZAdv_JJA_04 = ZAdv[4169:4261,:,:]\n",
    "MAdv_JJA_04 = MAdv[4169:4261,:,:]\n",
    "VAdv_JJA_04 = VAdv[4169:4261,:,:]\n",
    "R_origin_JJA_04 = R_origin[4169:4261,:,:]\n",
    "dT_dt_JJA_04 = dT_dt[4169:4261,:,:]\n",
    "R_recur_JJA_04 = R_recur[4169:4261,:,:]"
   ]
  },
  {
   "cell_type": "code",
   "execution_count": 29,
   "id": "80390fde",
   "metadata": {},
   "outputs": [],
   "source": [
    "# JJA   05\n",
    "Q_net_JJA_05 = Q_net[4534:4626,:,:]\n",
    "ZAdv_JJA_05 = ZAdv[4534:4626,:,:]\n",
    "MAdv_JJA_05 = MAdv[4534:4626,:,:]\n",
    "VAdv_JJA_05 = VAdv[4534:4626,:,:]\n",
    "R_origin_JJA_05 = R_origin[4534:4626,:,:]\n",
    "dT_dt_JJA_05 = dT_dt[4534:4626,:,:]\n",
    "R_recur_JJA_05 = R_recur[4534:4626,:,:]"
   ]
  },
  {
   "cell_type": "code",
   "execution_count": 30,
   "id": "0639da34",
   "metadata": {},
   "outputs": [],
   "source": [
    "# JJA   06\n",
    "Q_net_JJA_06 = Q_net[4899:4990,:,:]\n",
    "ZAdv_JJA_06 = ZAdv[4899:4990,:,:]\n",
    "MAdv_JJA_06 = MAdv[4899:4990,:,:]\n",
    "VAdv_JJA_06 = VAdv[4899:4990,:,:]\n",
    "R_origin_JJA_06 = R_origin[4899:4990,:,:]\n",
    "dT_dt_JJA_06 = dT_dt[4899:4990,:,:]\n",
    "R_recur_JJA_06 = R_recur[4899:4990,:,:]"
   ]
  },
  {
   "cell_type": "code",
   "execution_count": 31,
   "id": "1c2571d5",
   "metadata": {},
   "outputs": [],
   "source": [
    "# JJA   07\n",
    "Q_net_JJA_07 = Q_net[5264:5356,:,:]\n",
    "ZAdv_JJA_07 = ZAdv[5264:5356,:,:]\n",
    "MAdv_JJA_07 = MAdv[5264:5356,:,:]\n",
    "VAdv_JJA_07 = VAdv[5264:5356,:,:]\n",
    "R_origin_JJA_07 = R_origin[5264:5356,:,:]\n",
    "dT_dt_JJA_07 = dT_dt[5264:5356,:,:]\n",
    "R_recur_JJA_07 = R_recur[5264:5356,:,:]"
   ]
  },
  {
   "cell_type": "code",
   "execution_count": 32,
   "id": "cf35f041",
   "metadata": {},
   "outputs": [],
   "source": [
    "# JJA   08\n",
    "Q_net_JJA_08 = Q_net[5630:5722,:,:]\n",
    "ZAdv_JJA_08 = ZAdv[5630:5722,:,:]\n",
    "MAdv_JJA_08 = MAdv[5630:5722,:,:]\n",
    "VAdv_JJA_08 = VAdv[5630:5722,:,:]\n",
    "R_origin_JJA_08 = R_origin[5630:5722,:,:]\n",
    "dT_dt_JJA_08 = dT_dt[5630:5722,:,:]\n",
    "R_recur_JJA_08 = R_recur[5630:5722,:,:]"
   ]
  },
  {
   "cell_type": "code",
   "execution_count": 33,
   "id": "3d1466d6",
   "metadata": {},
   "outputs": [],
   "source": [
    "# JJA   09\n",
    "Q_net_JJA_09 = Q_net[5995:6087,:,:]\n",
    "ZAdv_JJA_09 = ZAdv[5995:6087,:,:]\n",
    "MAdv_JJA_09 = MAdv[5995:6087,:,:]\n",
    "VAdv_JJA_09 = VAdv[5995:6087,:,:]\n",
    "R_origin_JJA_09 = R_origin[5995:6087,:,:]\n",
    "dT_dt_JJA_09 = dT_dt[5995:6087,:,:]\n",
    "R_recur_JJA_09 = R_recur[5995:6087,:,:]"
   ]
  },
  {
   "cell_type": "code",
   "execution_count": 34,
   "id": "a1ad43dd",
   "metadata": {},
   "outputs": [],
   "source": [
    "# JJA   10\n",
    "Q_net_JJA_10 = Q_net[6360:6452,:,:]\n",
    "ZAdv_JJA_10 = ZAdv[6360:6452,:,:]\n",
    "MAdv_JJA_10 = MAdv[6360:6452,:,:]\n",
    "VAdv_JJA_10 = VAdv[6360:6452,:,:]\n",
    "R_origin_JJA_10 = R_origin[6360:6452,:,:]\n",
    "dT_dt_JJA_10 = dT_dt[6360:6452,:,:]\n",
    "R_recur_JJA_10 = R_recur[6360:6452,:,:]"
   ]
  },
  {
   "cell_type": "code",
   "execution_count": 35,
   "id": "82c6bed8",
   "metadata": {},
   "outputs": [],
   "source": [
    "# JJA   11\n",
    "Q_net_JJA_11 = Q_net[6725:6817,:,:]\n",
    "ZAdv_JJA_11 = ZAdv[6725:6817,:,:]\n",
    "MAdv_JJA_11 = MAdv[6725:6817,:,:]\n",
    "VAdv_JJA_11 = VAdv[6725:6817,:,:]\n",
    "R_origin_JJA_11 = R_origin[6725:6817,:,:]\n",
    "dT_dt_JJA_11 = dT_dt[6725:6817,:,:]\n",
    "R_recur_JJA_11 = R_recur[6725:6817,:,:]"
   ]
  },
  {
   "cell_type": "code",
   "execution_count": 36,
   "id": "41a7ee23",
   "metadata": {},
   "outputs": [],
   "source": [
    "# JJA   12\n",
    "Q_net_JJA_12 = Q_net[7091:7183,:,:]\n",
    "ZAdv_JJA_12 = ZAdv[7091:7183,:,:]\n",
    "MAdv_JJA_12 = MAdv[7091:7183,:,:]\n",
    "VAdv_JJA_12 = VAdv[7091:7183,:,:]\n",
    "R_origin_JJA_12 = R_origin[7091:7183,:,:]\n",
    "dT_dt_JJA_12 = dT_dt[7091:7183,:,:]\n",
    "R_recur_JJA_12 = R_recur[7091:7183,:,:]"
   ]
  },
  {
   "cell_type": "code",
   "execution_count": 37,
   "id": "cd602ec0",
   "metadata": {},
   "outputs": [],
   "source": [
    "# JJA   13\n",
    "Q_net_JJA_13 = Q_net[7456:7548,:,:]\n",
    "ZAdv_JJA_13 = ZAdv[7456:7548,:,:]\n",
    "MAdv_JJA_13 = MAdv[7456:7548,:,:]\n",
    "VAdv_JJA_13 = VAdv[7456:7548,:,:]\n",
    "R_origin_JJA_13 = R_origin[7456:7548,:,:]\n",
    "dT_dt_JJA_13 = dT_dt[7456:7548,:,:]\n",
    "R_recur_JJA_13 = R_recur[7456:7548,:,:]"
   ]
  },
  {
   "cell_type": "code",
   "execution_count": 38,
   "id": "692db473",
   "metadata": {},
   "outputs": [],
   "source": [
    "# JJA   14\n",
    "Q_net_JJA_14 = Q_net[7821:7913,:,:]\n",
    "ZAdv_JJA_14 = ZAdv[7821:7913,:,:]\n",
    "MAdv_JJA_14 = MAdv[7821:7913,:,:]\n",
    "VAdv_JJA_14 = VAdv[7821:7913,:,:]\n",
    "R_origin_JJA_14 = R_origin[7821:7913,:,:]\n",
    "dT_dt_JJA_14 = dT_dt[7821:7913,:,:]\n",
    "R_recur_JJA_14 = R_recur[7821:7913,:,:]"
   ]
  },
  {
   "cell_type": "code",
   "execution_count": 39,
   "id": "f16fd8cc",
   "metadata": {},
   "outputs": [],
   "source": [
    "# JJA   15\n",
    "Q_net_JJA_15 = Q_net[8186:8278,:,:]\n",
    "ZAdv_JJA_15 = ZAdv[8186:8278,:,:]\n",
    "MAdv_JJA_15 = MAdv[8186:8278,:,:]\n",
    "VAdv_JJA_15 = VAdv[8186:8278,:,:]\n",
    "R_origin_JJA_15 = R_origin[8186:8278,:,:]\n",
    "dT_dt_JJA_15 = dT_dt[8186:8278,:,:]\n",
    "R_recur_JJA_15 = R_recur[8186:8278,:,:]"
   ]
  },
  {
   "cell_type": "code",
   "execution_count": 40,
   "id": "41f7087a",
   "metadata": {},
   "outputs": [],
   "source": [
    "# JJA   16\n",
    "Q_net_JJA_16 = Q_net[8552:8644,:,:]\n",
    "ZAdv_JJA_16 = ZAdv[8552:8644,:,:]\n",
    "MAdv_JJA_16 = MAdv[8552:8644,:,:]\n",
    "VAdv_JJA_16 = VAdv[8552:8644,:,:]\n",
    "R_origin_JJA_16 = R_origin[8552:8644,:,:]\n",
    "dT_dt_JJA_16 = dT_dt[8552:8644,:,:]\n",
    "R_recur_JJA_16 = R_recur[8552:8644,:,:]"
   ]
  },
  {
   "cell_type": "code",
   "execution_count": 41,
   "id": "384803e6",
   "metadata": {},
   "outputs": [],
   "source": [
    "# JJA   17\n",
    "Q_net_JJA_17 = Q_net[8917:9009,:,:]\n",
    "ZAdv_JJA_17 = ZAdv[8917:9009,:,:]\n",
    "MAdv_JJA_17 = MAdv[8917:9009,:,:]\n",
    "VAdv_JJA_17 = VAdv[8917:9009,:,:]\n",
    "R_origin_JJA_17 = R_origin[8917:9009,:,:]\n",
    "dT_dt_JJA_17 = dT_dt[8917:9009,:,:]\n",
    "R_recur_JJA_17 = R_recur[8917:9009,:,:]"
   ]
  },
  {
   "cell_type": "code",
   "execution_count": 42,
   "id": "f2f332d5",
   "metadata": {},
   "outputs": [],
   "source": [
    "# JJA   18\n",
    "Q_net_JJA_18 = Q_net[9282:9374,:,:]\n",
    "ZAdv_JJA_18 = ZAdv[9282:9374,:,:]\n",
    "MAdv_JJA_18 = MAdv[9282:9374,:,:]\n",
    "VAdv_JJA_18 = VAdv[9282:9374,:,:]\n",
    "R_origin_JJA_18 = R_origin[9282:9374,:,:]\n",
    "dT_dt_JJA_18 = dT_dt[9282:9374,:,:]\n",
    "R_recur_JJA_18 = R_recur[9282:9374,:,:]"
   ]
  },
  {
   "cell_type": "code",
   "execution_count": 43,
   "id": "8fb49376",
   "metadata": {},
   "outputs": [],
   "source": [
    "# JJA   19\n",
    "Q_net_JJA_19 = Q_net[9647:9739,:,:]\n",
    "ZAdv_JJA_19 = ZAdv[9647:9739,:,:]\n",
    "MAdv_JJA_19 = MAdv[9647:9739,:,:]\n",
    "VAdv_JJA_19 = VAdv[9647:9739,:,:]\n",
    "R_origin_JJA_19 = R_origin[9647:9739,:,:]\n",
    "dT_dt_JJA_19 = dT_dt[9647:9739,:,:]\n",
    "R_recur_JJA_19 = R_recur[9647:9739,:,:]"
   ]
  },
  {
   "cell_type": "code",
   "execution_count": 44,
   "id": "de639e43",
   "metadata": {},
   "outputs": [],
   "source": [
    "Q_net_JJA_93 = np.mean(Q_net_JJA_93, axis = (1,2)).reshape(-1,1)\n",
    "Q_net_JJA_94 = np.mean(Q_net_JJA_94, axis = (1,2)).reshape(-1,1)\n",
    "Q_net_JJA_95 = np.mean(Q_net_JJA_95, axis = (1,2)).reshape(-1,1)\n",
    "Q_net_JJA_96 = np.mean(Q_net_JJA_96, axis = (1,2)).reshape(-1,1)\n",
    "Q_net_JJA_97 = np.mean(Q_net_JJA_97, axis = (1,2)).reshape(-1,1)\n",
    "Q_net_JJA_98 = np.mean(Q_net_JJA_98, axis = (1,2)).reshape(-1,1)\n",
    "Q_net_JJA_99 = np.mean(Q_net_JJA_99, axis = (1,2)).reshape(-1,1)\n",
    "Q_net_JJA_00 = np.mean(Q_net_JJA_00, axis = (1,2)).reshape(-1,1)\n",
    "Q_net_JJA_01 = np.mean(Q_net_JJA_01, axis = (1,2)).reshape(-1,1)\n",
    "Q_net_JJA_02 = np.mean(Q_net_JJA_02, axis = (1,2)).reshape(-1,1)\n",
    "Q_net_JJA_03 = np.mean(Q_net_JJA_03, axis = (1,2)).reshape(-1,1)\n",
    "Q_net_JJA_04 = np.mean(Q_net_JJA_04, axis = (1,2)).reshape(-1,1)\n",
    "Q_net_JJA_05 = np.mean(Q_net_JJA_05, axis = (1,2)).reshape(-1,1)\n",
    "Q_net_JJA_06 = np.mean(Q_net_JJA_06, axis = (1,2)).reshape(-1,1)\n",
    "Q_net_JJA_07 = np.mean(Q_net_JJA_07, axis = (1,2)).reshape(-1,1)\n",
    "Q_net_JJA_08 = np.mean(Q_net_JJA_08, axis = (1,2)).reshape(-1,1)\n",
    "Q_net_JJA_09 = np.mean(Q_net_JJA_09, axis = (1,2)).reshape(-1,1)\n",
    "Q_net_JJA_10 = np.mean(Q_net_JJA_10, axis = (1,2)).reshape(-1,1)\n",
    "Q_net_JJA_11 = np.mean(Q_net_JJA_11, axis = (1,2)).reshape(-1,1)\n",
    "Q_net_JJA_12 = np.mean(Q_net_JJA_12, axis = (1,2)).reshape(-1,1)\n",
    "Q_net_JJA_13 = np.mean(Q_net_JJA_13, axis = (1,2)).reshape(-1,1)\n",
    "Q_net_JJA_14 = np.mean(Q_net_JJA_14, axis = (1,2)).reshape(-1,1)\n",
    "Q_net_JJA_15 = np.mean(Q_net_JJA_15, axis = (1,2)).reshape(-1,1)\n",
    "Q_net_JJA_16 = np.mean(Q_net_JJA_16, axis = (1,2)).reshape(-1,1)\n",
    "Q_net_JJA_17 = np.mean(Q_net_JJA_17, axis = (1,2)).reshape(-1,1)\n",
    "Q_net_JJA_18 = np.mean(Q_net_JJA_18, axis = (1,2)).reshape(-1,1)\n",
    "Q_net_JJA_19 = np.mean(Q_net_JJA_19, axis = (1,2)).reshape(-1,1)"
   ]
  },
  {
   "cell_type": "code",
   "execution_count": 45,
   "id": "7e753a47",
   "metadata": {},
   "outputs": [],
   "source": [
    "Q_net_JJA_93 = np.mean(Q_net_JJA_93).reshape(-1,1)\n",
    "Q_net_JJA_94 = np.mean(Q_net_JJA_94).reshape(-1,1)\n",
    "Q_net_JJA_95 = np.mean(Q_net_JJA_95).reshape(-1,1)\n",
    "Q_net_JJA_96 = np.mean(Q_net_JJA_96).reshape(-1,1)\n",
    "Q_net_JJA_97 = np.mean(Q_net_JJA_97).reshape(-1,1)\n",
    "Q_net_JJA_98 = np.mean(Q_net_JJA_98).reshape(-1,1)\n",
    "Q_net_JJA_99 = np.mean(Q_net_JJA_99).reshape(-1,1)\n",
    "Q_net_JJA_00 = np.mean(Q_net_JJA_00).reshape(-1,1)\n",
    "Q_net_JJA_01 = np.mean(Q_net_JJA_01).reshape(-1,1)\n",
    "Q_net_JJA_02 = np.mean(Q_net_JJA_02).reshape(-1,1)\n",
    "Q_net_JJA_03 = np.mean(Q_net_JJA_03).reshape(-1,1)\n",
    "Q_net_JJA_04 = np.mean(Q_net_JJA_04).reshape(-1,1)\n",
    "Q_net_JJA_05 = np.mean(Q_net_JJA_05).reshape(-1,1)\n",
    "Q_net_JJA_06 = np.mean(Q_net_JJA_06).reshape(-1,1)\n",
    "Q_net_JJA_07 = np.mean(Q_net_JJA_07).reshape(-1,1)\n",
    "Q_net_JJA_08 = np.mean(Q_net_JJA_08).reshape(-1,1)\n",
    "Q_net_JJA_09 = np.mean(Q_net_JJA_09).reshape(-1,1)\n",
    "Q_net_JJA_10 = np.mean(Q_net_JJA_10).reshape(-1,1)\n",
    "Q_net_JJA_11 = np.mean(Q_net_JJA_11).reshape(-1,1)\n",
    "Q_net_JJA_12 = np.mean(Q_net_JJA_12).reshape(-1,1)\n",
    "Q_net_JJA_13 = np.mean(Q_net_JJA_13).reshape(-1,1)\n",
    "Q_net_JJA_14 = np.mean(Q_net_JJA_14).reshape(-1,1)\n",
    "Q_net_JJA_15 = np.mean(Q_net_JJA_15).reshape(-1,1)\n",
    "Q_net_JJA_16 = np.mean(Q_net_JJA_16).reshape(-1,1)\n",
    "Q_net_JJA_17 = np.mean(Q_net_JJA_17).reshape(-1,1)\n",
    "Q_net_JJA_18 = np.mean(Q_net_JJA_18).reshape(-1,1)\n",
    "Q_net_JJA_19 = np.mean(Q_net_JJA_19).reshape(-1,1)"
   ]
  },
  {
   "cell_type": "code",
   "execution_count": 46,
   "id": "10493872",
   "metadata": {},
   "outputs": [],
   "source": [
    "ZAdv_JJA_93 = np.mean(ZAdv_JJA_93, axis = (1,2)).reshape(-1,1)\n",
    "ZAdv_JJA_94 = np.mean(ZAdv_JJA_94, axis = (1,2)).reshape(-1,1)\n",
    "ZAdv_JJA_95 = np.mean(ZAdv_JJA_95, axis = (1,2)).reshape(-1,1)\n",
    "ZAdv_JJA_96 = np.mean(ZAdv_JJA_96, axis = (1,2)).reshape(-1,1)\n",
    "ZAdv_JJA_97 = np.mean(ZAdv_JJA_97, axis = (1,2)).reshape(-1,1)\n",
    "ZAdv_JJA_98 = np.mean(ZAdv_JJA_98, axis = (1,2)).reshape(-1,1)\n",
    "ZAdv_JJA_99 = np.mean(ZAdv_JJA_99, axis = (1,2)).reshape(-1,1)\n",
    "ZAdv_JJA_00 = np.mean(ZAdv_JJA_00, axis = (1,2)).reshape(-1,1)\n",
    "ZAdv_JJA_01 = np.mean(ZAdv_JJA_01, axis = (1,2)).reshape(-1,1)\n",
    "ZAdv_JJA_02 = np.mean(ZAdv_JJA_02, axis = (1,2)).reshape(-1,1)\n",
    "ZAdv_JJA_03 = np.mean(ZAdv_JJA_03, axis = (1,2)).reshape(-1,1)\n",
    "ZAdv_JJA_04 = np.mean(ZAdv_JJA_04, axis = (1,2)).reshape(-1,1)\n",
    "ZAdv_JJA_05 = np.mean(ZAdv_JJA_05, axis = (1,2)).reshape(-1,1)\n",
    "ZAdv_JJA_06 = np.mean(ZAdv_JJA_06, axis = (1,2)).reshape(-1,1)\n",
    "ZAdv_JJA_07 = np.mean(ZAdv_JJA_07, axis = (1,2)).reshape(-1,1)\n",
    "ZAdv_JJA_08 = np.mean(ZAdv_JJA_08, axis = (1,2)).reshape(-1,1)\n",
    "ZAdv_JJA_09 = np.mean(ZAdv_JJA_09, axis = (1,2)).reshape(-1,1)\n",
    "ZAdv_JJA_10 = np.mean(ZAdv_JJA_10, axis = (1,2)).reshape(-1,1)\n",
    "ZAdv_JJA_11 = np.mean(ZAdv_JJA_11, axis = (1,2)).reshape(-1,1)\n",
    "ZAdv_JJA_12 = np.mean(ZAdv_JJA_12, axis = (1,2)).reshape(-1,1)\n",
    "ZAdv_JJA_13 = np.mean(ZAdv_JJA_13, axis = (1,2)).reshape(-1,1)\n",
    "ZAdv_JJA_14 = np.mean(ZAdv_JJA_14, axis = (1,2)).reshape(-1,1)\n",
    "ZAdv_JJA_15 = np.mean(ZAdv_JJA_15, axis = (1,2)).reshape(-1,1)\n",
    "ZAdv_JJA_16 = np.mean(ZAdv_JJA_16, axis = (1,2)).reshape(-1,1)\n",
    "ZAdv_JJA_17 = np.mean(ZAdv_JJA_17, axis = (1,2)).reshape(-1,1)\n",
    "ZAdv_JJA_18 = np.mean(ZAdv_JJA_18, axis = (1,2)).reshape(-1,1)\n",
    "ZAdv_JJA_19 = np.mean(ZAdv_JJA_19, axis = (1,2)).reshape(-1,1)"
   ]
  },
  {
   "cell_type": "code",
   "execution_count": 47,
   "id": "fe815dd3",
   "metadata": {},
   "outputs": [],
   "source": [
    "ZAdv_JJA_93 = np.mean(ZAdv_JJA_93).reshape(-1,1)\n",
    "ZAdv_JJA_94 = np.mean(ZAdv_JJA_94).reshape(-1,1)\n",
    "ZAdv_JJA_95 = np.mean(ZAdv_JJA_95).reshape(-1,1)\n",
    "ZAdv_JJA_96 = np.mean(ZAdv_JJA_96).reshape(-1,1)\n",
    "ZAdv_JJA_97 = np.mean(ZAdv_JJA_97).reshape(-1,1)\n",
    "ZAdv_JJA_98 = np.mean(ZAdv_JJA_98).reshape(-1,1)\n",
    "ZAdv_JJA_99 = np.mean(ZAdv_JJA_99).reshape(-1,1)\n",
    "ZAdv_JJA_00 = np.mean(ZAdv_JJA_00).reshape(-1,1)\n",
    "ZAdv_JJA_01 = np.mean(ZAdv_JJA_01).reshape(-1,1)\n",
    "ZAdv_JJA_02 = np.mean(ZAdv_JJA_02).reshape(-1,1)\n",
    "ZAdv_JJA_03 = np.mean(ZAdv_JJA_03).reshape(-1,1)\n",
    "ZAdv_JJA_04 = np.mean(ZAdv_JJA_04).reshape(-1,1)\n",
    "ZAdv_JJA_05 = np.mean(ZAdv_JJA_05).reshape(-1,1)\n",
    "ZAdv_JJA_06 = np.mean(ZAdv_JJA_06).reshape(-1,1)\n",
    "ZAdv_JJA_07 = np.mean(ZAdv_JJA_07).reshape(-1,1)\n",
    "ZAdv_JJA_08 = np.mean(ZAdv_JJA_08).reshape(-1,1)\n",
    "ZAdv_JJA_09 = np.mean(ZAdv_JJA_09).reshape(-1,1)\n",
    "ZAdv_JJA_10 = np.mean(ZAdv_JJA_10).reshape(-1,1)\n",
    "ZAdv_JJA_11 = np.mean(ZAdv_JJA_11).reshape(-1,1)\n",
    "ZAdv_JJA_12 = np.mean(ZAdv_JJA_12).reshape(-1,1)\n",
    "ZAdv_JJA_13 = np.mean(ZAdv_JJA_13).reshape(-1,1)\n",
    "ZAdv_JJA_14 = np.mean(ZAdv_JJA_14).reshape(-1,1)\n",
    "ZAdv_JJA_15 = np.mean(ZAdv_JJA_15).reshape(-1,1)\n",
    "ZAdv_JJA_16 = np.mean(ZAdv_JJA_16).reshape(-1,1)\n",
    "ZAdv_JJA_17 = np.mean(ZAdv_JJA_17).reshape(-1,1)\n",
    "ZAdv_JJA_18 = np.mean(ZAdv_JJA_18).reshape(-1,1)\n",
    "ZAdv_JJA_19 = np.mean(ZAdv_JJA_19).reshape(-1,1)"
   ]
  },
  {
   "cell_type": "code",
   "execution_count": 48,
   "id": "14ca230c",
   "metadata": {},
   "outputs": [],
   "source": [
    "MAdv_JJA_93 = np.mean(MAdv_JJA_93, axis = (1,2)).reshape(-1,1)\n",
    "MAdv_JJA_94 = np.mean(MAdv_JJA_94, axis = (1,2)).reshape(-1,1)\n",
    "MAdv_JJA_95 = np.mean(MAdv_JJA_95, axis = (1,2)).reshape(-1,1)\n",
    "MAdv_JJA_96 = np.mean(MAdv_JJA_96, axis = (1,2)).reshape(-1,1)\n",
    "MAdv_JJA_97 = np.mean(MAdv_JJA_97, axis = (1,2)).reshape(-1,1)\n",
    "MAdv_JJA_98 = np.mean(MAdv_JJA_98, axis = (1,2)).reshape(-1,1)\n",
    "MAdv_JJA_99 = np.mean(MAdv_JJA_99, axis = (1,2)).reshape(-1,1)\n",
    "MAdv_JJA_00 = np.mean(MAdv_JJA_00, axis = (1,2)).reshape(-1,1)\n",
    "MAdv_JJA_01 = np.mean(MAdv_JJA_01, axis = (1,2)).reshape(-1,1)\n",
    "MAdv_JJA_02 = np.mean(MAdv_JJA_02, axis = (1,2)).reshape(-1,1)\n",
    "MAdv_JJA_03 = np.mean(MAdv_JJA_03, axis = (1,2)).reshape(-1,1)\n",
    "MAdv_JJA_04 = np.mean(MAdv_JJA_04, axis = (1,2)).reshape(-1,1)\n",
    "MAdv_JJA_05 = np.mean(MAdv_JJA_05, axis = (1,2)).reshape(-1,1)\n",
    "MAdv_JJA_06 = np.mean(MAdv_JJA_06, axis = (1,2)).reshape(-1,1)\n",
    "MAdv_JJA_07 = np.mean(MAdv_JJA_07, axis = (1,2)).reshape(-1,1)\n",
    "MAdv_JJA_08 = np.mean(MAdv_JJA_08, axis = (1,2)).reshape(-1,1)\n",
    "MAdv_JJA_09 = np.mean(MAdv_JJA_09, axis = (1,2)).reshape(-1,1)\n",
    "MAdv_JJA_10 = np.mean(MAdv_JJA_10, axis = (1,2)).reshape(-1,1)\n",
    "MAdv_JJA_11 = np.mean(MAdv_JJA_11, axis = (1,2)).reshape(-1,1)\n",
    "MAdv_JJA_12 = np.mean(MAdv_JJA_12, axis = (1,2)).reshape(-1,1)\n",
    "MAdv_JJA_13 = np.mean(MAdv_JJA_13, axis = (1,2)).reshape(-1,1)\n",
    "MAdv_JJA_14 = np.mean(MAdv_JJA_14, axis = (1,2)).reshape(-1,1)\n",
    "MAdv_JJA_15 = np.mean(MAdv_JJA_15, axis = (1,2)).reshape(-1,1)\n",
    "MAdv_JJA_16 = np.mean(MAdv_JJA_16, axis = (1,2)).reshape(-1,1)\n",
    "MAdv_JJA_17 = np.mean(MAdv_JJA_17, axis = (1,2)).reshape(-1,1)\n",
    "MAdv_JJA_18 = np.mean(MAdv_JJA_18, axis = (1,2)).reshape(-1,1)\n",
    "MAdv_JJA_19 = np.mean(MAdv_JJA_19, axis = (1,2)).reshape(-1,1)"
   ]
  },
  {
   "cell_type": "code",
   "execution_count": 49,
   "id": "9e51b90d",
   "metadata": {},
   "outputs": [],
   "source": [
    "MAdv_JJA_93 = np.mean(MAdv_JJA_93).reshape(-1,1)\n",
    "MAdv_JJA_94 = np.mean(MAdv_JJA_94).reshape(-1,1)\n",
    "MAdv_JJA_95 = np.mean(MAdv_JJA_95).reshape(-1,1)\n",
    "MAdv_JJA_96 = np.mean(MAdv_JJA_96).reshape(-1,1)\n",
    "MAdv_JJA_97 = np.mean(MAdv_JJA_97).reshape(-1,1)\n",
    "MAdv_JJA_98 = np.mean(MAdv_JJA_98).reshape(-1,1)\n",
    "MAdv_JJA_99 = np.mean(MAdv_JJA_99).reshape(-1,1)\n",
    "MAdv_JJA_00 = np.mean(MAdv_JJA_00).reshape(-1,1)\n",
    "MAdv_JJA_01 = np.mean(MAdv_JJA_01).reshape(-1,1)\n",
    "MAdv_JJA_02 = np.mean(MAdv_JJA_02).reshape(-1,1)\n",
    "MAdv_JJA_03 = np.mean(MAdv_JJA_03).reshape(-1,1)\n",
    "MAdv_JJA_04 = np.mean(MAdv_JJA_04).reshape(-1,1)\n",
    "MAdv_JJA_05 = np.mean(MAdv_JJA_05).reshape(-1,1)\n",
    "MAdv_JJA_06 = np.mean(MAdv_JJA_06).reshape(-1,1)\n",
    "MAdv_JJA_07 = np.mean(MAdv_JJA_07).reshape(-1,1)\n",
    "MAdv_JJA_08 = np.mean(MAdv_JJA_08).reshape(-1,1)\n",
    "MAdv_JJA_09 = np.mean(MAdv_JJA_09).reshape(-1,1)\n",
    "MAdv_JJA_10 = np.mean(MAdv_JJA_10).reshape(-1,1)\n",
    "MAdv_JJA_11 = np.mean(MAdv_JJA_11).reshape(-1,1)\n",
    "MAdv_JJA_12 = np.mean(MAdv_JJA_12).reshape(-1,1)\n",
    "MAdv_JJA_13 = np.mean(MAdv_JJA_13).reshape(-1,1)\n",
    "MAdv_JJA_14 = np.mean(MAdv_JJA_14).reshape(-1,1)\n",
    "MAdv_JJA_15 = np.mean(MAdv_JJA_15).reshape(-1,1)\n",
    "MAdv_JJA_16 = np.mean(MAdv_JJA_16).reshape(-1,1)\n",
    "MAdv_JJA_17 = np.mean(MAdv_JJA_17).reshape(-1,1)\n",
    "MAdv_JJA_18 = np.mean(MAdv_JJA_18).reshape(-1,1)\n",
    "MAdv_JJA_19 = np.mean(MAdv_JJA_19).reshape(-1,1)"
   ]
  },
  {
   "cell_type": "code",
   "execution_count": 50,
   "id": "2df64f30",
   "metadata": {},
   "outputs": [],
   "source": [
    "VAdv_JJA_93 = np.mean(VAdv_JJA_93, axis = (1,2)).reshape(-1,1)\n",
    "VAdv_JJA_94 = np.mean(VAdv_JJA_94, axis = (1,2)).reshape(-1,1)\n",
    "VAdv_JJA_95 = np.mean(VAdv_JJA_95, axis = (1,2)).reshape(-1,1)\n",
    "VAdv_JJA_96 = np.mean(VAdv_JJA_96, axis = (1,2)).reshape(-1,1)\n",
    "VAdv_JJA_97 = np.mean(VAdv_JJA_97, axis = (1,2)).reshape(-1,1)\n",
    "VAdv_JJA_98 = np.mean(VAdv_JJA_98, axis = (1,2)).reshape(-1,1)\n",
    "VAdv_JJA_99 = np.mean(VAdv_JJA_99, axis = (1,2)).reshape(-1,1)\n",
    "VAdv_JJA_00 = np.mean(VAdv_JJA_00, axis = (1,2)).reshape(-1,1)\n",
    "VAdv_JJA_01 = np.mean(VAdv_JJA_01, axis = (1,2)).reshape(-1,1)\n",
    "VAdv_JJA_02 = np.mean(VAdv_JJA_02, axis = (1,2)).reshape(-1,1)\n",
    "VAdv_JJA_03 = np.mean(VAdv_JJA_03, axis = (1,2)).reshape(-1,1)\n",
    "VAdv_JJA_04 = np.mean(VAdv_JJA_04, axis = (1,2)).reshape(-1,1)\n",
    "VAdv_JJA_05 = np.mean(VAdv_JJA_05, axis = (1,2)).reshape(-1,1)\n",
    "VAdv_JJA_06 = np.mean(VAdv_JJA_06, axis = (1,2)).reshape(-1,1)\n",
    "VAdv_JJA_07 = np.mean(VAdv_JJA_07, axis = (1,2)).reshape(-1,1)\n",
    "VAdv_JJA_08 = np.mean(VAdv_JJA_08, axis = (1,2)).reshape(-1,1)\n",
    "VAdv_JJA_09 = np.mean(VAdv_JJA_09, axis = (1,2)).reshape(-1,1)\n",
    "VAdv_JJA_10 = np.mean(VAdv_JJA_10, axis = (1,2)).reshape(-1,1)\n",
    "VAdv_JJA_11 = np.mean(VAdv_JJA_11, axis = (1,2)).reshape(-1,1)\n",
    "VAdv_JJA_12 = np.mean(VAdv_JJA_12, axis = (1,2)).reshape(-1,1)\n",
    "VAdv_JJA_13 = np.mean(VAdv_JJA_13, axis = (1,2)).reshape(-1,1)\n",
    "VAdv_JJA_14 = np.mean(VAdv_JJA_14, axis = (1,2)).reshape(-1,1)\n",
    "VAdv_JJA_15 = np.mean(VAdv_JJA_15, axis = (1,2)).reshape(-1,1)\n",
    "VAdv_JJA_16 = np.mean(VAdv_JJA_16, axis = (1,2)).reshape(-1,1)\n",
    "VAdv_JJA_17 = np.mean(VAdv_JJA_17, axis = (1,2)).reshape(-1,1)\n",
    "VAdv_JJA_18 = np.mean(VAdv_JJA_18, axis = (1,2)).reshape(-1,1)\n",
    "VAdv_JJA_19 = np.mean(VAdv_JJA_19, axis = (1,2)).reshape(-1,1)"
   ]
  },
  {
   "cell_type": "code",
   "execution_count": 51,
   "id": "4cb3c3da",
   "metadata": {},
   "outputs": [],
   "source": [
    "VAdv_JJA_93 = np.mean(VAdv_JJA_93).reshape(-1,1)\n",
    "VAdv_JJA_94 = np.mean(VAdv_JJA_94).reshape(-1,1)\n",
    "VAdv_JJA_95 = np.mean(VAdv_JJA_95).reshape(-1,1)\n",
    "VAdv_JJA_96 = np.mean(VAdv_JJA_96).reshape(-1,1)\n",
    "VAdv_JJA_97 = np.mean(VAdv_JJA_97).reshape(-1,1)\n",
    "VAdv_JJA_98 = np.mean(VAdv_JJA_98).reshape(-1,1)\n",
    "VAdv_JJA_99 = np.mean(VAdv_JJA_99).reshape(-1,1)\n",
    "VAdv_JJA_00 = np.mean(VAdv_JJA_00).reshape(-1,1)\n",
    "VAdv_JJA_01 = np.mean(VAdv_JJA_01).reshape(-1,1)\n",
    "VAdv_JJA_02 = np.mean(VAdv_JJA_02).reshape(-1,1)\n",
    "VAdv_JJA_03 = np.mean(VAdv_JJA_03).reshape(-1,1)\n",
    "VAdv_JJA_04 = np.mean(VAdv_JJA_04).reshape(-1,1)\n",
    "VAdv_JJA_05 = np.mean(VAdv_JJA_05).reshape(-1,1)\n",
    "VAdv_JJA_06 = np.mean(VAdv_JJA_06).reshape(-1,1)\n",
    "VAdv_JJA_07 = np.mean(VAdv_JJA_07).reshape(-1,1)\n",
    "VAdv_JJA_08 = np.mean(VAdv_JJA_08).reshape(-1,1)\n",
    "VAdv_JJA_09 = np.mean(VAdv_JJA_09).reshape(-1,1)\n",
    "VAdv_JJA_10 = np.mean(VAdv_JJA_10).reshape(-1,1)\n",
    "VAdv_JJA_11 = np.mean(VAdv_JJA_11).reshape(-1,1)\n",
    "VAdv_JJA_12 = np.mean(VAdv_JJA_12).reshape(-1,1)\n",
    "VAdv_JJA_13 = np.mean(VAdv_JJA_13).reshape(-1,1)\n",
    "VAdv_JJA_14 = np.mean(VAdv_JJA_14).reshape(-1,1)\n",
    "VAdv_JJA_15 = np.mean(VAdv_JJA_15).reshape(-1,1)\n",
    "VAdv_JJA_16 = np.mean(VAdv_JJA_16).reshape(-1,1)\n",
    "VAdv_JJA_17 = np.mean(VAdv_JJA_17).reshape(-1,1)\n",
    "VAdv_JJA_18 = np.mean(VAdv_JJA_18).reshape(-1,1)\n",
    "VAdv_JJA_19 = np.mean(VAdv_JJA_19).reshape(-1,1)"
   ]
  },
  {
   "cell_type": "code",
   "execution_count": 52,
   "id": "f160525d",
   "metadata": {},
   "outputs": [],
   "source": [
    "R_origin_JJA_93 = np.mean(R_origin_JJA_93, axis = (1,2)).reshape(-1,1)\n",
    "R_origin_JJA_94 = np.mean(R_origin_JJA_94, axis = (1,2)).reshape(-1,1)\n",
    "R_origin_JJA_95 = np.mean(R_origin_JJA_95, axis = (1,2)).reshape(-1,1)\n",
    "R_origin_JJA_96 = np.mean(R_origin_JJA_96, axis = (1,2)).reshape(-1,1)\n",
    "R_origin_JJA_97 = np.mean(R_origin_JJA_97, axis = (1,2)).reshape(-1,1)\n",
    "R_origin_JJA_98 = np.mean(R_origin_JJA_98, axis = (1,2)).reshape(-1,1)\n",
    "R_origin_JJA_99 = np.mean(R_origin_JJA_99, axis = (1,2)).reshape(-1,1)\n",
    "R_origin_JJA_00 = np.mean(R_origin_JJA_00, axis = (1,2)).reshape(-1,1)\n",
    "R_origin_JJA_01 = np.mean(R_origin_JJA_01, axis = (1,2)).reshape(-1,1)\n",
    "R_origin_JJA_02 = np.mean(R_origin_JJA_02, axis = (1,2)).reshape(-1,1)\n",
    "R_origin_JJA_03 = np.mean(R_origin_JJA_03, axis = (1,2)).reshape(-1,1)\n",
    "R_origin_JJA_04 = np.mean(R_origin_JJA_04, axis = (1,2)).reshape(-1,1)\n",
    "R_origin_JJA_05 = np.mean(R_origin_JJA_05, axis = (1,2)).reshape(-1,1)\n",
    "R_origin_JJA_06 = np.mean(R_origin_JJA_06, axis = (1,2)).reshape(-1,1)\n",
    "R_origin_JJA_07 = np.mean(R_origin_JJA_07, axis = (1,2)).reshape(-1,1)\n",
    "R_origin_JJA_08 = np.mean(R_origin_JJA_08, axis = (1,2)).reshape(-1,1)\n",
    "R_origin_JJA_09 = np.mean(R_origin_JJA_09, axis = (1,2)).reshape(-1,1)\n",
    "R_origin_JJA_10 = np.mean(R_origin_JJA_10, axis = (1,2)).reshape(-1,1)\n",
    "R_origin_JJA_11 = np.mean(R_origin_JJA_11, axis = (1,2)).reshape(-1,1)\n",
    "R_origin_JJA_12 = np.mean(R_origin_JJA_12, axis = (1,2)).reshape(-1,1)\n",
    "R_origin_JJA_13 = np.mean(R_origin_JJA_13, axis = (1,2)).reshape(-1,1)\n",
    "R_origin_JJA_14 = np.mean(R_origin_JJA_14, axis = (1,2)).reshape(-1,1)\n",
    "R_origin_JJA_15 = np.mean(R_origin_JJA_15, axis = (1,2)).reshape(-1,1)\n",
    "R_origin_JJA_16 = np.mean(R_origin_JJA_16, axis = (1,2)).reshape(-1,1)\n",
    "R_origin_JJA_17 = np.mean(R_origin_JJA_17, axis = (1,2)).reshape(-1,1)\n",
    "R_origin_JJA_18 = np.mean(R_origin_JJA_18, axis = (1,2)).reshape(-1,1)\n",
    "R_origin_JJA_19 = np.mean(R_origin_JJA_19, axis = (1,2)).reshape(-1,1)"
   ]
  },
  {
   "cell_type": "code",
   "execution_count": 53,
   "id": "09d78adf",
   "metadata": {},
   "outputs": [],
   "source": [
    "R_origin_JJA_93 = np.mean(R_origin_JJA_93).reshape(-1,1)\n",
    "R_origin_JJA_94 = np.mean(R_origin_JJA_94).reshape(-1,1)\n",
    "R_origin_JJA_95 = np.mean(R_origin_JJA_95).reshape(-1,1)\n",
    "R_origin_JJA_96 = np.mean(R_origin_JJA_96).reshape(-1,1)\n",
    "R_origin_JJA_97 = np.mean(R_origin_JJA_97).reshape(-1,1)\n",
    "R_origin_JJA_98 = np.mean(R_origin_JJA_98).reshape(-1,1)\n",
    "R_origin_JJA_99 = np.mean(R_origin_JJA_99).reshape(-1,1)\n",
    "R_origin_JJA_00 = np.mean(R_origin_JJA_00).reshape(-1,1)\n",
    "R_origin_JJA_01 = np.mean(R_origin_JJA_01).reshape(-1,1)\n",
    "R_origin_JJA_02 = np.mean(R_origin_JJA_02).reshape(-1,1)\n",
    "R_origin_JJA_03 = np.mean(R_origin_JJA_03).reshape(-1,1)\n",
    "R_origin_JJA_04 = np.mean(R_origin_JJA_04).reshape(-1,1)\n",
    "R_origin_JJA_05 = np.mean(R_origin_JJA_05).reshape(-1,1)\n",
    "R_origin_JJA_06 = np.mean(R_origin_JJA_06).reshape(-1,1)\n",
    "R_origin_JJA_07 = np.mean(R_origin_JJA_07).reshape(-1,1)\n",
    "R_origin_JJA_08 = np.mean(R_origin_JJA_08).reshape(-1,1)\n",
    "R_origin_JJA_09 = np.mean(R_origin_JJA_09).reshape(-1,1)\n",
    "R_origin_JJA_10 = np.mean(R_origin_JJA_10).reshape(-1,1)\n",
    "R_origin_JJA_11 = np.mean(R_origin_JJA_11).reshape(-1,1)\n",
    "R_origin_JJA_12 = np.mean(R_origin_JJA_12).reshape(-1,1)\n",
    "R_origin_JJA_13 = np.mean(R_origin_JJA_13).reshape(-1,1)\n",
    "R_origin_JJA_14 = np.mean(R_origin_JJA_14).reshape(-1,1)\n",
    "R_origin_JJA_15 = np.mean(R_origin_JJA_15).reshape(-1,1)\n",
    "R_origin_JJA_16 = np.mean(R_origin_JJA_16).reshape(-1,1)\n",
    "R_origin_JJA_17 = np.mean(R_origin_JJA_17).reshape(-1,1)\n",
    "R_origin_JJA_18 = np.mean(R_origin_JJA_18).reshape(-1,1)\n",
    "R_origin_JJA_19 = np.mean(R_origin_JJA_19).reshape(-1,1)"
   ]
  },
  {
   "cell_type": "code",
   "execution_count": 54,
   "id": "47c76532",
   "metadata": {},
   "outputs": [],
   "source": [
    "dT_dt_JJA_93 = np.mean(dT_dt_JJA_93, axis = (1,2)).reshape(-1,1)\n",
    "dT_dt_JJA_94 = np.mean(dT_dt_JJA_94, axis = (1,2)).reshape(-1,1)\n",
    "dT_dt_JJA_95 = np.mean(dT_dt_JJA_95, axis = (1,2)).reshape(-1,1)\n",
    "dT_dt_JJA_96 = np.mean(dT_dt_JJA_96, axis = (1,2)).reshape(-1,1)\n",
    "dT_dt_JJA_97 = np.mean(dT_dt_JJA_97, axis = (1,2)).reshape(-1,1)\n",
    "dT_dt_JJA_98 = np.mean(dT_dt_JJA_98, axis = (1,2)).reshape(-1,1)\n",
    "dT_dt_JJA_99 = np.mean(dT_dt_JJA_99, axis = (1,2)).reshape(-1,1)\n",
    "dT_dt_JJA_00 = np.mean(dT_dt_JJA_00, axis = (1,2)).reshape(-1,1)\n",
    "dT_dt_JJA_01 = np.mean(dT_dt_JJA_01, axis = (1,2)).reshape(-1,1)\n",
    "dT_dt_JJA_02 = np.mean(dT_dt_JJA_02, axis = (1,2)).reshape(-1,1)\n",
    "dT_dt_JJA_03 = np.mean(dT_dt_JJA_03, axis = (1,2)).reshape(-1,1)\n",
    "dT_dt_JJA_04 = np.mean(dT_dt_JJA_04, axis = (1,2)).reshape(-1,1)\n",
    "dT_dt_JJA_05 = np.mean(dT_dt_JJA_05, axis = (1,2)).reshape(-1,1)\n",
    "dT_dt_JJA_06 = np.mean(dT_dt_JJA_06, axis = (1,2)).reshape(-1,1)\n",
    "dT_dt_JJA_07 = np.mean(dT_dt_JJA_07, axis = (1,2)).reshape(-1,1)\n",
    "dT_dt_JJA_08 = np.mean(dT_dt_JJA_08, axis = (1,2)).reshape(-1,1)\n",
    "dT_dt_JJA_09 = np.mean(dT_dt_JJA_09, axis = (1,2)).reshape(-1,1)\n",
    "dT_dt_JJA_10 = np.mean(dT_dt_JJA_10, axis = (1,2)).reshape(-1,1)\n",
    "dT_dt_JJA_11 = np.mean(dT_dt_JJA_11, axis = (1,2)).reshape(-1,1)\n",
    "dT_dt_JJA_12 = np.mean(dT_dt_JJA_12, axis = (1,2)).reshape(-1,1)\n",
    "dT_dt_JJA_13 = np.mean(dT_dt_JJA_13, axis = (1,2)).reshape(-1,1)\n",
    "dT_dt_JJA_14 = np.mean(dT_dt_JJA_14, axis = (1,2)).reshape(-1,1)\n",
    "dT_dt_JJA_15 = np.mean(dT_dt_JJA_15, axis = (1,2)).reshape(-1,1)\n",
    "dT_dt_JJA_16 = np.mean(dT_dt_JJA_16, axis = (1,2)).reshape(-1,1)\n",
    "dT_dt_JJA_17 = np.mean(dT_dt_JJA_17, axis = (1,2)).reshape(-1,1)\n",
    "dT_dt_JJA_18 = np.mean(dT_dt_JJA_18, axis = (1,2)).reshape(-1,1)\n",
    "dT_dt_JJA_19 = np.mean(dT_dt_JJA_19, axis = (1,2)).reshape(-1,1)"
   ]
  },
  {
   "cell_type": "code",
   "execution_count": 55,
   "id": "e7c77d2f",
   "metadata": {},
   "outputs": [],
   "source": [
    "dT_dt_JJA_93 = np.mean(dT_dt_JJA_93).reshape(-1,1)\n",
    "dT_dt_JJA_94 = np.mean(dT_dt_JJA_94).reshape(-1,1)\n",
    "dT_dt_JJA_95 = np.mean(dT_dt_JJA_95).reshape(-1,1)\n",
    "dT_dt_JJA_96 = np.mean(dT_dt_JJA_96).reshape(-1,1)\n",
    "dT_dt_JJA_97 = np.mean(dT_dt_JJA_97).reshape(-1,1)\n",
    "dT_dt_JJA_98 = np.mean(dT_dt_JJA_98).reshape(-1,1)\n",
    "dT_dt_JJA_99 = np.mean(dT_dt_JJA_99).reshape(-1,1)\n",
    "dT_dt_JJA_00 = np.mean(dT_dt_JJA_00).reshape(-1,1)\n",
    "dT_dt_JJA_01 = np.mean(dT_dt_JJA_01).reshape(-1,1)\n",
    "dT_dt_JJA_02 = np.mean(dT_dt_JJA_02).reshape(-1,1)\n",
    "dT_dt_JJA_03 = np.mean(dT_dt_JJA_03).reshape(-1,1)\n",
    "dT_dt_JJA_04 = np.mean(dT_dt_JJA_04).reshape(-1,1)\n",
    "dT_dt_JJA_05 = np.mean(dT_dt_JJA_05).reshape(-1,1)\n",
    "dT_dt_JJA_06 = np.mean(dT_dt_JJA_06).reshape(-1,1)\n",
    "dT_dt_JJA_07 = np.mean(dT_dt_JJA_07).reshape(-1,1)\n",
    "dT_dt_JJA_08 = np.mean(dT_dt_JJA_08).reshape(-1,1)\n",
    "dT_dt_JJA_09 = np.mean(dT_dt_JJA_09).reshape(-1,1)\n",
    "dT_dt_JJA_10 = np.mean(dT_dt_JJA_10).reshape(-1,1)\n",
    "dT_dt_JJA_11 = np.mean(dT_dt_JJA_11).reshape(-1,1)\n",
    "dT_dt_JJA_12 = np.mean(dT_dt_JJA_12).reshape(-1,1)\n",
    "dT_dt_JJA_13 = np.mean(dT_dt_JJA_13).reshape(-1,1)\n",
    "dT_dt_JJA_14 = np.mean(dT_dt_JJA_14).reshape(-1,1)\n",
    "dT_dt_JJA_15 = np.mean(dT_dt_JJA_15).reshape(-1,1)\n",
    "dT_dt_JJA_16 = np.mean(dT_dt_JJA_16).reshape(-1,1)\n",
    "dT_dt_JJA_17 = np.mean(dT_dt_JJA_17).reshape(-1,1)\n",
    "dT_dt_JJA_18 = np.mean(dT_dt_JJA_18).reshape(-1,1)\n",
    "dT_dt_JJA_19 = np.mean(dT_dt_JJA_19).reshape(-1,1)"
   ]
  },
  {
   "cell_type": "code",
   "execution_count": 56,
   "id": "88230900",
   "metadata": {},
   "outputs": [],
   "source": [
    "R_recur_JJA_93 = np.mean(R_recur_JJA_93, axis = (1,2)).reshape(-1,1)\n",
    "R_recur_JJA_94 = np.mean(R_recur_JJA_94, axis = (1,2)).reshape(-1,1)\n",
    "R_recur_JJA_95 = np.mean(R_recur_JJA_95, axis = (1,2)).reshape(-1,1)\n",
    "R_recur_JJA_96 = np.mean(R_recur_JJA_96, axis = (1,2)).reshape(-1,1)\n",
    "R_recur_JJA_97 = np.mean(R_recur_JJA_97, axis = (1,2)).reshape(-1,1)\n",
    "R_recur_JJA_98 = np.mean(R_recur_JJA_98, axis = (1,2)).reshape(-1,1)\n",
    "R_recur_JJA_99 = np.mean(R_recur_JJA_99, axis = (1,2)).reshape(-1,1)\n",
    "R_recur_JJA_00 = np.mean(R_recur_JJA_00, axis = (1,2)).reshape(-1,1)\n",
    "R_recur_JJA_01 = np.mean(R_recur_JJA_01, axis = (1,2)).reshape(-1,1)\n",
    "R_recur_JJA_02 = np.mean(R_recur_JJA_02, axis = (1,2)).reshape(-1,1)\n",
    "R_recur_JJA_03 = np.mean(R_recur_JJA_03, axis = (1,2)).reshape(-1,1)\n",
    "R_recur_JJA_04 = np.mean(R_recur_JJA_04, axis = (1,2)).reshape(-1,1)\n",
    "R_recur_JJA_05 = np.mean(R_recur_JJA_05, axis = (1,2)).reshape(-1,1)\n",
    "R_recur_JJA_06 = np.mean(R_recur_JJA_06, axis = (1,2)).reshape(-1,1)\n",
    "R_recur_JJA_07 = np.mean(R_recur_JJA_07, axis = (1,2)).reshape(-1,1)\n",
    "R_recur_JJA_08 = np.mean(R_recur_JJA_08, axis = (1,2)).reshape(-1,1)\n",
    "R_recur_JJA_09 = np.mean(R_recur_JJA_09, axis = (1,2)).reshape(-1,1)\n",
    "R_recur_JJA_10 = np.mean(R_recur_JJA_10, axis = (1,2)).reshape(-1,1)\n",
    "R_recur_JJA_11 = np.mean(R_recur_JJA_11, axis = (1,2)).reshape(-1,1)\n",
    "R_recur_JJA_12 = np.mean(R_recur_JJA_12, axis = (1,2)).reshape(-1,1)\n",
    "R_recur_JJA_13 = np.mean(R_recur_JJA_13, axis = (1,2)).reshape(-1,1)\n",
    "R_recur_JJA_14 = np.mean(R_recur_JJA_14, axis = (1,2)).reshape(-1,1)\n",
    "R_recur_JJA_15 = np.mean(R_recur_JJA_15, axis = (1,2)).reshape(-1,1)\n",
    "R_recur_JJA_16 = np.mean(R_recur_JJA_16, axis = (1,2)).reshape(-1,1)\n",
    "R_recur_JJA_17 = np.mean(R_recur_JJA_17, axis = (1,2)).reshape(-1,1)\n",
    "R_recur_JJA_18 = np.mean(R_recur_JJA_18, axis = (1,2)).reshape(-1,1)\n",
    "R_recur_JJA_19 = np.mean(R_recur_JJA_19, axis = (1,2)).reshape(-1,1)"
   ]
  },
  {
   "cell_type": "code",
   "execution_count": 57,
   "id": "96bfacbf",
   "metadata": {},
   "outputs": [],
   "source": [
    "R_recur_JJA_93 = np.mean(R_recur_JJA_93).reshape(-1,1)\n",
    "R_recur_JJA_94 = np.mean(R_recur_JJA_94).reshape(-1,1)\n",
    "R_recur_JJA_95 = np.mean(R_recur_JJA_95).reshape(-1,1)\n",
    "R_recur_JJA_96 = np.mean(R_recur_JJA_96).reshape(-1,1)\n",
    "R_recur_JJA_97 = np.mean(R_recur_JJA_97).reshape(-1,1)\n",
    "R_recur_JJA_98 = np.mean(R_recur_JJA_98).reshape(-1,1)\n",
    "R_recur_JJA_99 = np.mean(R_recur_JJA_99).reshape(-1,1)\n",
    "R_recur_JJA_00 = np.mean(R_recur_JJA_00).reshape(-1,1)\n",
    "R_recur_JJA_01 = np.mean(R_recur_JJA_01).reshape(-1,1)\n",
    "R_recur_JJA_02 = np.mean(R_recur_JJA_02).reshape(-1,1)\n",
    "R_recur_JJA_03 = np.mean(R_recur_JJA_03).reshape(-1,1)\n",
    "R_recur_JJA_04 = np.mean(R_recur_JJA_04).reshape(-1,1)\n",
    "R_recur_JJA_05 = np.mean(R_recur_JJA_05).reshape(-1,1)\n",
    "R_recur_JJA_06 = np.mean(R_recur_JJA_06).reshape(-1,1)\n",
    "R_recur_JJA_07 = np.mean(R_recur_JJA_07).reshape(-1,1)\n",
    "R_recur_JJA_08 = np.mean(R_recur_JJA_08).reshape(-1,1)\n",
    "R_recur_JJA_09 = np.mean(R_recur_JJA_09).reshape(-1,1)\n",
    "R_recur_JJA_10 = np.mean(R_recur_JJA_10).reshape(-1,1)\n",
    "R_recur_JJA_11 = np.mean(R_recur_JJA_11).reshape(-1,1)\n",
    "R_recur_JJA_12 = np.mean(R_recur_JJA_12).reshape(-1,1)\n",
    "R_recur_JJA_13 = np.mean(R_recur_JJA_13).reshape(-1,1)\n",
    "R_recur_JJA_14 = np.mean(R_recur_JJA_14).reshape(-1,1)\n",
    "R_recur_JJA_15 = np.mean(R_recur_JJA_15).reshape(-1,1)\n",
    "R_recur_JJA_16 = np.mean(R_recur_JJA_16).reshape(-1,1)\n",
    "R_recur_JJA_17 = np.mean(R_recur_JJA_17).reshape(-1,1)\n",
    "R_recur_JJA_18 = np.mean(R_recur_JJA_18).reshape(-1,1)\n",
    "R_recur_JJA_19 = np.mean(R_recur_JJA_19).reshape(-1,1)"
   ]
  },
  {
   "cell_type": "code",
   "execution_count": 58,
   "id": "e1813710",
   "metadata": {},
   "outputs": [
    {
     "data": {
      "text/plain": [
       "(1, 1)"
      ]
     },
     "execution_count": 58,
     "metadata": {},
     "output_type": "execute_result"
    }
   ],
   "source": [
    "Q_net_JJA_93.shape"
   ]
  },
  {
   "cell_type": "code",
   "execution_count": 59,
   "id": "349b0b4c",
   "metadata": {},
   "outputs": [
    {
     "data": {
      "text/plain": [
       "(1, 1)"
      ]
     },
     "execution_count": 59,
     "metadata": {},
     "output_type": "execute_result"
    }
   ],
   "source": [
    "ZAdv_JJA_10.shape"
   ]
  },
  {
   "cell_type": "code",
   "execution_count": null,
   "id": "2f5fd56b",
   "metadata": {},
   "outputs": [],
   "source": []
  },
  {
   "cell_type": "code",
   "execution_count": 60,
   "id": "0161ccc9",
   "metadata": {},
   "outputs": [
    {
     "data": {
      "text/plain": [
       "(27, 1)"
      ]
     },
     "execution_count": 60,
     "metadata": {},
     "output_type": "execute_result"
    }
   ],
   "source": [
    "Q_net_JJA_93_19 = np.concatenate((Q_net_JJA_93, Q_net_JJA_94, Q_net_JJA_95, Q_net_JJA_96,\n",
    "                                 Q_net_JJA_97, Q_net_JJA_98, Q_net_JJA_99, Q_net_JJA_00, Q_net_JJA_01,\n",
    "                                 Q_net_JJA_02, Q_net_JJA_03, Q_net_JJA_04, Q_net_JJA_05, Q_net_JJA_06,\n",
    "                                 Q_net_JJA_07, Q_net_JJA_08, Q_net_JJA_09, Q_net_JJA_10, Q_net_JJA_11,\n",
    "                                 Q_net_JJA_12, Q_net_JJA_13, Q_net_JJA_14, Q_net_JJA_15, Q_net_JJA_16,\n",
    "                                 Q_net_JJA_17, Q_net_JJA_18, Q_net_JJA_19), axis = 0)\n",
    "Q_net_JJA_93_19.shape"
   ]
  },
  {
   "cell_type": "code",
   "execution_count": 61,
   "id": "137b21b3",
   "metadata": {},
   "outputs": [
    {
     "data": {
      "text/plain": [
       "(27, 1)"
      ]
     },
     "execution_count": 61,
     "metadata": {},
     "output_type": "execute_result"
    }
   ],
   "source": [
    "ZAdv_JJA_93_19 = np.concatenate((ZAdv_JJA_93, ZAdv_JJA_94, ZAdv_JJA_95, ZAdv_JJA_96,\n",
    "                                 ZAdv_JJA_97, ZAdv_JJA_98, ZAdv_JJA_99, ZAdv_JJA_00, ZAdv_JJA_01,\n",
    "                                 ZAdv_JJA_02, ZAdv_JJA_03, ZAdv_JJA_04, ZAdv_JJA_05, ZAdv_JJA_06,\n",
    "                                 ZAdv_JJA_07, ZAdv_JJA_08, ZAdv_JJA_09, ZAdv_JJA_10, ZAdv_JJA_11,\n",
    "                                 ZAdv_JJA_12, ZAdv_JJA_13, ZAdv_JJA_14, ZAdv_JJA_15, ZAdv_JJA_16,\n",
    "                                 ZAdv_JJA_17, ZAdv_JJA_18, ZAdv_JJA_19), axis = 0)\n",
    "ZAdv_JJA_93_19.shape"
   ]
  },
  {
   "cell_type": "code",
   "execution_count": 62,
   "id": "f1e0e4ae",
   "metadata": {},
   "outputs": [
    {
     "data": {
      "text/plain": [
       "(27, 1)"
      ]
     },
     "execution_count": 62,
     "metadata": {},
     "output_type": "execute_result"
    }
   ],
   "source": [
    "MAdv_JJA_93_19 = np.concatenate((MAdv_JJA_93, MAdv_JJA_94, MAdv_JJA_95, MAdv_JJA_96,\n",
    "                                 MAdv_JJA_97, MAdv_JJA_98, MAdv_JJA_99, MAdv_JJA_00, MAdv_JJA_01,\n",
    "                                 MAdv_JJA_02, MAdv_JJA_03, MAdv_JJA_04, MAdv_JJA_05, MAdv_JJA_06,\n",
    "                                 MAdv_JJA_07, MAdv_JJA_08, MAdv_JJA_09, MAdv_JJA_10, MAdv_JJA_11,\n",
    "                                 MAdv_JJA_12, MAdv_JJA_13, MAdv_JJA_14, MAdv_JJA_15, MAdv_JJA_16,\n",
    "                                 MAdv_JJA_17, MAdv_JJA_18, MAdv_JJA_19), axis = 0)\n",
    "MAdv_JJA_93_19.shape"
   ]
  },
  {
   "cell_type": "code",
   "execution_count": 63,
   "id": "8e0d8c00",
   "metadata": {},
   "outputs": [
    {
     "data": {
      "text/plain": [
       "(1, 1)"
      ]
     },
     "execution_count": 63,
     "metadata": {},
     "output_type": "execute_result"
    }
   ],
   "source": [
    "VAdv_JJA_16.shape"
   ]
  },
  {
   "cell_type": "code",
   "execution_count": 64,
   "id": "f37c9707",
   "metadata": {},
   "outputs": [
    {
     "data": {
      "text/plain": [
       "(27, 1)"
      ]
     },
     "execution_count": 64,
     "metadata": {},
     "output_type": "execute_result"
    }
   ],
   "source": [
    "VAdv_JJA_93_19 = np.concatenate((VAdv_JJA_93, VAdv_JJA_94, VAdv_JJA_95, VAdv_JJA_96,\n",
    "                                 VAdv_JJA_97, VAdv_JJA_98, VAdv_JJA_99, VAdv_JJA_00, VAdv_JJA_01,\n",
    "                                 VAdv_JJA_02, VAdv_JJA_03, VAdv_JJA_04, VAdv_JJA_05, VAdv_JJA_06,\n",
    "                                 VAdv_JJA_07, VAdv_JJA_08, VAdv_JJA_09, VAdv_JJA_10, VAdv_JJA_11,\n",
    "                                 VAdv_JJA_12, VAdv_JJA_13, VAdv_JJA_14, VAdv_JJA_15, VAdv_JJA_16,\n",
    "                                 VAdv_JJA_17, VAdv_JJA_18, VAdv_JJA_19), axis = 0)\n",
    "VAdv_JJA_93_19.shape"
   ]
  },
  {
   "cell_type": "code",
   "execution_count": 65,
   "id": "31b4172d",
   "metadata": {},
   "outputs": [
    {
     "data": {
      "text/plain": [
       "(27, 1)"
      ]
     },
     "execution_count": 65,
     "metadata": {},
     "output_type": "execute_result"
    }
   ],
   "source": [
    "R_origin_JJA_93_19  = np.concatenate((R_origin_JJA_93 , R_origin_JJA_94, R_origin_JJA_95, R_origin_JJA_96,\n",
    "                                 R_origin_JJA_97, R_origin_JJA_98, R_origin_JJA_99, R_origin_JJA_00, R_origin_JJA_01,\n",
    "                                 R_origin_JJA_02, R_origin_JJA_03, R_origin_JJA_04, R_origin_JJA_05, R_origin_JJA_06,\n",
    "                                 R_origin_JJA_07, R_origin_JJA_08, R_origin_JJA_09, R_origin_JJA_10, R_origin_JJA_11,\n",
    "                                 R_origin_JJA_12, R_origin_JJA_13, R_origin_JJA_14, R_origin_JJA_15, R_origin_JJA_16,\n",
    "                                 R_origin_JJA_17, R_origin_JJA_18, R_origin_JJA_19), axis = 0)\n",
    "R_origin_JJA_93_19.shape"
   ]
  },
  {
   "cell_type": "code",
   "execution_count": 68,
   "id": "0f2ed026",
   "metadata": {},
   "outputs": [
    {
     "data": {
      "text/plain": [
       "(27, 1)"
      ]
     },
     "execution_count": 68,
     "metadata": {},
     "output_type": "execute_result"
    }
   ],
   "source": [
    "dT_dt_JJA_93_19  = np.concatenate((dT_dt_JJA_93 , dT_dt_JJA_94, dT_dt_JJA_95, dT_dt_JJA_96,\n",
    "                                 dT_dt_JJA_97, dT_dt_JJA_98, dT_dt_JJA_99, dT_dt_JJA_00, dT_dt_JJA_01,\n",
    "                                 dT_dt_JJA_02, dT_dt_JJA_03, dT_dt_JJA_04, dT_dt_JJA_05, dT_dt_JJA_06,\n",
    "                                 dT_dt_JJA_07, dT_dt_JJA_08, dT_dt_JJA_09, dT_dt_JJA_10, dT_dt_JJA_11,\n",
    "                                 dT_dt_JJA_12, dT_dt_JJA_13, dT_dt_JJA_14, dT_dt_JJA_15, dT_dt_JJA_16,\n",
    "                                 dT_dt_JJA_17, dT_dt_JJA_18, dT_dt_JJA_19), axis = 0)\n",
    "dT_dt_JJA_93_19.shape"
   ]
  },
  {
   "cell_type": "code",
   "execution_count": 67,
   "id": "57485607",
   "metadata": {},
   "outputs": [
    {
     "data": {
      "text/plain": [
       "(27, 1)"
      ]
     },
     "execution_count": 67,
     "metadata": {},
     "output_type": "execute_result"
    }
   ],
   "source": [
    "R_recur_JJA_93_19  = np.concatenate((R_recur_JJA_93 , R_recur_JJA_94, R_recur_JJA_95, R_recur_JJA_96,\n",
    "                                 R_recur_JJA_97, R_recur_JJA_98, R_recur_JJA_99, R_recur_JJA_00, R_recur_JJA_01,\n",
    "                                 R_recur_JJA_02, R_recur_JJA_03, R_recur_JJA_04, R_recur_JJA_05, R_recur_JJA_06,\n",
    "                                 R_recur_JJA_07, R_recur_JJA_08, R_recur_JJA_09, R_recur_JJA_10, R_recur_JJA_11,\n",
    "                                 R_recur_JJA_12, R_recur_JJA_13, R_recur_JJA_14, R_recur_JJA_15, R_recur_JJA_16,\n",
    "                                 R_recur_JJA_17, R_recur_JJA_18, R_recur_JJA_19), axis = 0)\n",
    "R_recur_JJA_93_19.shape"
   ]
  },
  {
   "cell_type": "code",
   "execution_count": 69,
   "id": "b00fab36",
   "metadata": {},
   "outputs": [],
   "source": [
    "np.savez(r'D:\\heat_wave\\pacific\\last\\MLD_equa_JJA.npz',\n",
    "        Q_net_JJA_93_19 = Q_net_JJA_93_19, ZAdv_JJA_93_19 = ZAdv_JJA_93_19,\n",
    "        MAdv_JJA_93_19 = MAdv_JJA_93_19, VAdv_JJA_93_19 = VAdv_JJA_93_19,\n",
    "        R_origin_JJA_93_19 = R_origin_JJA_93_19, dT_dt_JJA_93_19 = dT_dt_JJA_93_19,\n",
    "        R_recur_JJA_93_19 = R_recur_JJA_93_19)"
   ]
  },
  {
   "cell_type": "code",
   "execution_count": 70,
   "id": "7ee9c0cf",
   "metadata": {},
   "outputs": [
    {
     "data": {
      "image/png": "[encoded data removed]",
      "text/plain": [
       "<Figure size 432x288 with 1 Axes>"
      ]
     },
     "metadata": {
      "needs_background": "light"
     },
     "output_type": "display_data"
    }
   ],
   "source": [
    "import matplotlib.pyplot as plt\n",
    "\n",
    "# y坐标轴上的数据\n",
    "y1 = Q_net_JJA_93_19\n",
    "y2 = ZAdv_JJA_93_19\n",
    "y3 = MAdv_JJA_93_19\n",
    "y4 = VAdv_JJA_93_19\n",
    "y5 = R_origin_JJA_93_19\n",
    "y6 = dT_dt_JJA_93_19\n",
    "y7 = R_recur_JJA_93_19\n",
    "# 生成对应的x坐标轴上的数据\n",
    "x = list(range(len(y1)))\n",
    "\n",
    "# 绘制折线图\n",
    "\n",
    "plt.plot(x, y1, color = '#17BECF', label = 'Q_net')\n",
    "plt.plot(x, y2,  color = '#FF7F0E', label = 'ZAdv')\n",
    "plt.plot(x, y3, color = '#2CA02C', label = 'MAdv')\n",
    "plt.plot(x, y4, color = '#9467BD', label = 'VAdv')\n",
    "plt.plot(x, y5,  color = '#7F7F7F',label = 'R')\n",
    "plt.plot(x, y6,  color = '#D62728',label = 'Tend')\n",
    "plt.plot(x, y7,  color = '#1F77B4', label = 'R_r')\n",
    "# 添加图标题和坐标轴标签\n",
    "plt.title(\"JJA\")\n",
    "# plt.xlabel(\"\")\n",
    "plt.ylabel(\"Heat budget (℃)\")\n",
    "\n",
    "\n",
    "# plt.legend()\n",
    "\n",
    "# 显示图形\n",
    "plt.show()"
   ]
  },
  {
   "cell_type": "code",
   "execution_count": null,
   "id": "c1d7f932",
   "metadata": {},
   "outputs": [],
   "source": []
  }
 ],
 "metadata": {
  "kernelspec": {
   "display_name": "Python 3 (ipykernel)",
   "language": "python",
   "name": "python3"
  },
  "language_info": {
   "codemirror_mode": {
    "name": "ipython",
    "version": 3
   },
   "file_extension": ".py",
   "mimetype": "text/x-python",
   "name": "python",
   "nbconvert_exporter": "python",
   "pygments_lexer": "ipython3",
   "version": "3.8.12"
  }
 },
 "nbformat": 4,
 "nbformat_minor": 5
}

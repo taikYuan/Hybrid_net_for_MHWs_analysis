{
 "cells": [
  {
   "cell_type": "code",
   "execution_count": 1,
   "id": "12a34dae",
   "metadata": {},
   "outputs": [],
   "source": [
    "import random\n",
    "\n",
    "import numpy as np\n",
    "import torch\n",
    "from sklearn.metrics import mean_squared_error\n",
    "from sklearn.preprocessing import MinMaxScaler\n",
    "from torch import nn\n",
    "from tqdm import tqdm\n",
    "from torch.autograd import Variable\n",
    "from torch.utils.data import Dataset, DataLoader"
   ]
  },
  {
   "cell_type": "code",
   "execution_count": 2,
   "id": "1105356a",
   "metadata": {},
   "outputs": [
    {
     "name": "stdout",
     "output_type": "stream",
     "text": [
      "['sst_obser', 'slfh', 'sshf', 'ssr', 'str', 'mld', 'analysis_temp', 'u', 'v', 'T_d', 'u_d', 'v_d', 'xx', 'yy', 'dT_dt', 'dT_dx', 'dT_dy']\n",
      "(9861, 40, 200)\n",
      "19.893036\n",
      "31.218864\n"
     ]
    }
   ],
   "source": [
    "data = np.load(r'D:\\Advancing_ocean_intuition\\pacific\\last\\1day_for_1day_all_variables_intuition_nino_area_surface.npz')\n",
    "print(\n",
    "    data.files)  # ['sst_obser', 'slfh', 'sshf', 'ssr', 'str', 'mld', 'analysis_temp', 'u', 'v', 'T_d', 'u_d', 'v_d', 'xx', 'yy', 'dT_dt', 'dT_dx', 'dT_dy']\n",
    "\n",
    "sst_obser = data['sst_obser'][:, :40, :200]  # (9861, 41, 201)  #\n",
    "print(sst_obser.shape)  # (9861, 41, 201)\n",
    "slfh = data['slfh'][:, :40, :200]   # (9861, 41, 201)\n",
    "sshf = data['sshf'][:, :40, :200]   # (9861, 41, 201)\n",
    "ssr = data['ssr'][:, :40, :200]   # (9861, 41, 201)   # 可惜这个是 0\n",
    "str = data['str'][:, :40, :200]   # (9861, 41, 201)\n",
    "mld = data['mld'][:, :40, :200]   # (9861, 41, 201)\n",
    "analysis_temp = data['analysis_temp'][:, :40, :200]  # (9861, 41, 201)\n",
    "u = data['u'][:, :40, :200]  # (9861, 41, 201)\n",
    "v = data['v'][:, :40, :200]  # (9861, 41, 201)\n",
    "T_d = data['T_d'][:, :40, :200]  # (9861, 41, 201)\n",
    "u_d = data['u_d'][:, :40, :200]  # (9861, 41, 201)\n",
    "v_d = data['v_d'][:, :40, :200]  # (9861, 41, 201)\n",
    "xx = data['xx'][:, :40, :200]  # (9861, 41, 201)\n",
    "yy = data['yy'][:, :40, :200]  # (9861, 41, 201)\n",
    "print(np.min(T_d))\n",
    "print(np.max(T_d))\n",
    "# print(xx)  # -5 -4.75 ... 4.75\n",
    "# print(yy)  # 190  190.25 ... 239.75\n",
    "\n",
    "dT_dt = data['dT_dt'][:, :40, :200]\n",
    "dT_dx = data['dT_dx'][:, :40, :200]\n",
    "dT_dy = data['dT_dy'][:, :40, :200]"
   ]
  },
  {
   "cell_type": "code",
   "execution_count": 3,
   "id": "0dd88afe",
   "metadata": {},
   "outputs": [],
   "source": [
    "Q_net = (slfh + sshf + ssr + str)\n",
    "Q_net.shape\n",
    "Q_net = Q_net / (1025 * 4000 * mld)"
   ]
  },
  {
   "cell_type": "code",
   "execution_count": 4,
   "id": "447114bf",
   "metadata": {},
   "outputs": [
    {
     "data": {
      "text/plain": [
       "(9861, 40, 200)"
      ]
     },
     "execution_count": 4,
     "metadata": {},
     "output_type": "execute_result"
    }
   ],
   "source": [
    "ZAdv = u * dT_dx\n",
    "ZAdv.shape"
   ]
  },
  {
   "cell_type": "code",
   "execution_count": 5,
   "id": "e52db87b",
   "metadata": {},
   "outputs": [
    {
     "data": {
      "text/plain": [
       "(9861, 40, 200)"
      ]
     },
     "execution_count": 5,
     "metadata": {},
     "output_type": "execute_result"
    }
   ],
   "source": [
    "MAdv = v * dT_dy\n",
    "MAdv.shape"
   ]
  },
  {
   "cell_type": "code",
   "execution_count": 6,
   "id": "102fb93d",
   "metadata": {},
   "outputs": [
    {
     "data": {
      "text/plain": [
       "(9861, 40, 200)"
      ]
     },
     "execution_count": 6,
     "metadata": {},
     "output_type": "execute_result"
    }
   ],
   "source": [
    "VAdv = v_d * ((sst_obser -T_d ) / mld)\n",
    "VAdv.shape"
   ]
  },
  {
   "cell_type": "code",
   "execution_count": 7,
   "id": "ac8e3697",
   "metadata": {},
   "outputs": [
    {
     "data": {
      "text/plain": [
       "(9860, 40, 200)"
      ]
     },
     "execution_count": 7,
     "metadata": {},
     "output_type": "execute_result"
    }
   ],
   "source": [
    "R_origin = dT_dt - (Q_net[:9860,:,:] + ZAdv[:9860,:,:] + MAdv[:9860,:,:] + VAdv[:9860,:,:])\n",
    "R_origin.shape"
   ]
  },
  {
   "cell_type": "code",
   "execution_count": 8,
   "id": "929ff1f2",
   "metadata": {},
   "outputs": [
    {
     "data": {
      "text/plain": [
       "'我们方法修正项'"
      ]
     },
     "execution_count": 8,
     "metadata": {},
     "output_type": "execute_result"
    }
   ],
   "source": [
    "\"\"\"我们方法修正项\"\"\""
   ]
  },
  {
   "cell_type": "code",
   "execution_count": 9,
   "id": "49b45696",
   "metadata": {},
   "outputs": [
    {
     "data": {
      "text/plain": [
       "['dt_R']"
      ]
     },
     "execution_count": 9,
     "metadata": {},
     "output_type": "execute_result"
    }
   ],
   "source": [
    "data1 = np.load(r'D:\\heat_wave\\pacific\\last\\Dt_with_R_e1.npz')\n",
    "data2 = np.load(r'D:\\heat_wave\\pacific\\last\\Dt_with_R_e2.npz')\n",
    "data3 = np.load(r'D:\\heat_wave\\pacific\\last\\Dt_with_R_e3.npz')\n",
    "data4 = np.load(r'D:\\heat_wave\\pacific\\last\\Dt_with_R_e4.npz')\n",
    "data5 = np.load(r'D:\\heat_wave\\pacific\\last\\Dt_with_R_e5.npz')\n",
    "data1.files"
   ]
  },
  {
   "cell_type": "code",
   "execution_count": 10,
   "id": "145f0cc5",
   "metadata": {},
   "outputs": [
    {
     "data": {
      "text/plain": [
       "(9860, 40, 200)"
      ]
     },
     "execution_count": 10,
     "metadata": {},
     "output_type": "execute_result"
    }
   ],
   "source": [
    "dt_R1 = data1['dt_R'][:].reshape(9860,40,200)\n",
    "dt_R2 = data2['dt_R'][:].reshape(9860,40,200)\n",
    "dt_R3 = data3['dt_R'][:].reshape(9860,40,200)\n",
    "dt_R4 = data4['dt_R'][:].reshape(9860,40,200)\n",
    "dt_R5 = data5['dt_R'][:].reshape(9860,40,200)\n",
    "dt_R1.shape"
   ]
  },
  {
   "cell_type": "code",
   "execution_count": 11,
   "id": "913493e6",
   "metadata": {
    "collapsed": true
   },
   "outputs": [
    {
     "data": {
      "text/plain": [
       "array([[[-0.28933302, -0.05333645, -0.01332911, ...,  0.4865895 ,\n",
       "          0.41115975,  0.4465634 ],\n",
       "        [-0.38266695, -0.0688787 , -0.02874806, ...,  0.39565662,\n",
       "          0.3509448 ,  0.33698338],\n",
       "        [-0.4408059 , -0.06624164, -0.01722556, ...,  0.32649016,\n",
       "          0.28285578,  0.3038839 ],\n",
       "        ...,\n",
       "        [-0.5242568 , -0.33345646, -0.12883733, ...,  0.03674373,\n",
       "         -0.06265006,  0.10872991],\n",
       "        [-0.525598  , -0.39512724, -0.21158215, ...,  0.00786022,\n",
       "         -0.05260696,  0.05185654],\n",
       "        [-0.4324652 , -0.32346192, -0.21872598, ...,  0.02395673,\n",
       "         -0.06527562,  0.01934293]],\n",
       "\n",
       "       [[-0.1684628 , -0.01135238,  0.01223398, ...,  0.04010908,\n",
       "         -0.0401582 , -0.07452881],\n",
       "        [ 0.09938391,  0.36688524,  0.30626085, ..., -0.01066904,\n",
       "         -0.09954942, -0.07292452],\n",
       "        [ 0.37076953,  0.6388966 ,  0.54602593, ..., -0.08630226,\n",
       "         -0.10910824, -0.09242129],\n",
       "        ...,\n",
       "        [ 0.09033634,  0.15601511,  0.15940917, ..., -0.28065288,\n",
       "         -0.3097885 , -0.1625168 ],\n",
       "        [ 0.03053012,  0.10279395,  0.14430524, ..., -0.19203082,\n",
       "         -0.21456024, -0.09153797],\n",
       "        [-0.04887652,  0.02072866,  0.05120765, ..., -0.08230767,\n",
       "         -0.13187324,  0.01787992]],\n",
       "\n",
       "       [[-0.09102827, -0.08103417, -0.10958662, ..., -0.54224515,\n",
       "         -0.6002296 , -0.5551682 ],\n",
       "        [ 0.07966907, -0.031069  , -0.08729656, ..., -0.51157737,\n",
       "         -0.57019913, -0.5244014 ],\n",
       "        [ 0.21724936,  0.04972212, -0.06591853, ..., -0.45642608,\n",
       "         -0.5385037 , -0.4932123 ],\n",
       "        ...,\n",
       "        [ 0.40421346,  0.43784094,  0.40563142, ...,  0.45601088,\n",
       "          0.45424795,  0.55701005],\n",
       "        [ 0.3244257 ,  0.42558992,  0.40009904, ...,  0.5169102 ,\n",
       "          0.5111021 ,  0.62091243],\n",
       "        [ 0.1640032 ,  0.3206526 ,  0.3168586 , ...,  0.4391367 ,\n",
       "          0.39457107,  0.3987143 ]],\n",
       "\n",
       "       ...,\n",
       "\n",
       "       [[ 0.20195329,  0.17768207,  0.15972182, ..., -0.0127279 ,\n",
       "         -0.06504102, -0.0443733 ],\n",
       "        [ 0.16665927,  0.13462698,  0.09838198, ..., -0.01384538,\n",
       "         -0.02632753, -0.00292394],\n",
       "        [ 0.14622584,  0.09675677,  0.06806494, ..., -0.0163255 ,\n",
       "         -0.01102016,  0.05011754],\n",
       "        ...,\n",
       "        [-1.1789486 , -0.893712  ,  0.09911454, ..., -0.15360837,\n",
       "         -0.14611252, -0.08552623],\n",
       "        [-1.1309754 , -0.8365228 ,  0.12501569, ..., -0.19309413,\n",
       "         -0.16387562, -0.14329903],\n",
       "        [-0.90079683, -0.62491494,  0.02302606, ..., -0.10745978,\n",
       "         -0.10886985, -0.15132473]],\n",
       "\n",
       "       [[ 0.16649845,  0.18143344,  0.22755335, ...,  0.2506442 ,\n",
       "          0.21597108,  0.185097  ],\n",
       "        [ 0.14536513,  0.12180381,  0.14992088, ...,  0.2594744 ,\n",
       "          0.24741682,  0.17626542],\n",
       "        [ 0.14633198,  0.10273181,  0.11043613, ...,  0.19457817,\n",
       "          0.17523566,  0.12050967],\n",
       "        ...,\n",
       "        [ 0.4837938 ,  0.74076927,  0.6413396 , ...,  0.1522926 ,\n",
       "         -0.02898391, -0.08092959],\n",
       "        [ 0.41108516,  0.6401971 ,  0.5615905 , ...,  0.28676558,\n",
       "          0.13053185,  0.04460394],\n",
       "        [ 0.33336157,  0.44683328,  0.48974162, ...,  0.37442806,\n",
       "          0.2632223 ,  0.14948523]],\n",
       "\n",
       "       [[ 0.09451057,  0.15321746,  0.18168771, ...,  0.12969959,\n",
       "          0.02967322, -0.00303634],\n",
       "        [ 0.18610981,  0.2248219 ,  0.263871  , ...,  0.17027712,\n",
       "          0.07735442,  0.04374403],\n",
       "        [ 0.23633029,  0.263296  ,  0.27252513, ...,  0.15556419,\n",
       "          0.06667241,  0.02826321],\n",
       "        ...,\n",
       "        [ 0.39928576,  0.25313962, -0.01731414, ...,  0.11319566,\n",
       "          0.15855683,  0.1277554 ],\n",
       "        [ 0.33233753,  0.20750087, -0.06410562, ...,  0.28197327,\n",
       "          0.26019254,  0.17022373],\n",
       "        [ 0.25495607,  0.1283469 , -0.1319902 , ...,  0.4907485 ,\n",
       "          0.32530585,  0.27639613]]], dtype=float32)"
      ]
     },
     "execution_count": 11,
     "metadata": {},
     "output_type": "execute_result"
    }
   ],
   "source": [
    "\"修正后的R\"\n",
    "R_recur1 = dt_R1 - dT_dt\n",
    "R_recur2 = dt_R2 - dT_dt\n",
    "R_recur3 = dt_R3 - dT_dt\n",
    "R_recur4 = dt_R4 - dT_dt\n",
    "R_recur5 = dt_R5 - dT_dt\n",
    "R_recur1"
   ]
  },
  {
   "cell_type": "code",
   "execution_count": 12,
   "id": "1d548610",
   "metadata": {
    "collapsed": true
   },
   "outputs": [
    {
     "data": {
      "text/plain": [
       "array([[[-3.12543452e-01, -5.95308542e-02, -1.75928529e-02, ...,\n",
       "          4.81393039e-01,  4.07376766e-01,  4.52931315e-01],\n",
       "        [-4.08123344e-01, -7.70716816e-02, -3.38339880e-02, ...,\n",
       "          3.90346110e-01,  3.47013056e-01,  3.43133390e-01],\n",
       "        [-4.68668163e-01, -7.74228945e-02, -2.32474599e-02, ...,\n",
       "          3.21300149e-01,  2.79046118e-01,  3.09978843e-01],\n",
       "        ...,\n",
       "        [-5.49191594e-01, -3.40549827e-01, -1.32836536e-01, ...,\n",
       "          3.06254569e-02, -7.08688721e-02,  1.12348534e-01],\n",
       "        [-5.52369118e-01, -4.03622299e-01, -2.16258764e-01, ...,\n",
       "          1.13031117e-03, -5.98799102e-02,  5.62734380e-02],\n",
       "        [-4.57709372e-01, -3.30214649e-01, -2.23426849e-01, ...,\n",
       "          1.73730534e-02, -7.21838847e-02,  2.38319058e-02]],\n",
       "\n",
       "       [[-1.89451426e-01, -1.61855984e-02,  5.84824150e-03, ...,\n",
       "          3.47832814e-02, -4.43773344e-02, -6.86048418e-02],\n",
       "        [ 7.80561939e-02,  3.61433327e-01,  2.99638182e-01, ...,\n",
       "         -1.62344072e-02, -1.03603818e-01, -6.70005232e-02],\n",
       "        [ 3.50417227e-01,  6.33229792e-01,  5.38387477e-01, ...,\n",
       "         -9.17734057e-02, -1.13379262e-01, -8.66430029e-02],\n",
       "        ...,\n",
       "        [ 6.16803542e-02,  1.47678912e-01,  1.56642258e-01, ...,\n",
       "         -2.87257373e-01, -3.16941053e-01, -1.59054145e-01],\n",
       "        [-1.40371104e-03,  9.33269784e-02,  1.41745284e-01, ...,\n",
       "         -1.98177233e-01, -2.20274419e-01, -8.67380053e-02],\n",
       "        [-7.77337998e-02,  1.26483086e-02,  4.79488373e-02, ...,\n",
       "         -8.77529159e-02, -1.36559337e-01,  2.35256590e-02]],\n",
       "\n",
       "       [[-1.13812745e-01, -9.00682062e-02, -1.15736164e-01, ...,\n",
       "         -5.47420025e-01, -6.04151130e-01, -5.49119592e-01],\n",
       "        [ 5.48513941e-02, -4.39658649e-02, -9.27478820e-02, ...,\n",
       "         -5.16836047e-01, -5.74117184e-01, -5.18366337e-01],\n",
       "        [ 1.91288203e-01,  3.47531363e-02, -7.15479702e-02, ...,\n",
       "         -4.61792856e-01, -5.42466998e-01, -4.87127304e-01],\n",
       "        ...,\n",
       "        [ 3.74269545e-01,  4.29330260e-01,  4.03284073e-01, ...,\n",
       "          4.48896945e-01,  4.45959628e-01,  5.59170783e-01],\n",
       "        [ 2.90850788e-01,  4.15896237e-01,  3.97864997e-01, ...,\n",
       "          5.10209978e-01,  5.04157841e-01,  6.24513030e-01],\n",
       "        [ 1.32920414e-01,  3.11732769e-01,  3.13851714e-01, ...,\n",
       "          4.32476848e-01,  3.88674557e-01,  4.03399289e-01]],\n",
       "\n",
       "       ...,\n",
       "\n",
       "       [[ 1.77905649e-01,  1.69269696e-01,  1.54690623e-01, ...,\n",
       "         -1.77712459e-02, -6.83544427e-02, -3.76797393e-02],\n",
       "        [ 1.43833980e-01,  1.26761630e-01,  9.30608958e-02, ...,\n",
       "         -1.88936386e-02, -2.96631064e-02,  3.86162964e-03],\n",
       "        [ 1.24024354e-01,  8.97505581e-02,  6.28725290e-02, ...,\n",
       "         -2.16857791e-02, -1.50338355e-02,  5.64966500e-02],\n",
       "        ...,\n",
       "        [-1.19977593e+00, -9.01008129e-01,  9.22153071e-02, ...,\n",
       "         -1.59796163e-01, -1.49856016e-01, -7.81752169e-02],\n",
       "        [-1.14969599e+00, -8.43188584e-01,  1.18596338e-01, ...,\n",
       "         -1.99472144e-01, -1.67393804e-01, -1.35655850e-01],\n",
       "        [-9.21427608e-01, -6.32076383e-01,  1.65780298e-02, ...,\n",
       "         -1.13334931e-01, -1.12458721e-01, -1.44011900e-01]],\n",
       "\n",
       "       [[ 1.42726347e-01,  1.73012406e-01,  2.22085401e-01, ...,\n",
       "          2.45965928e-01,  2.13154271e-01,  1.92295700e-01],\n",
       "        [ 1.22312143e-01,  1.13984033e-01,  1.44460618e-01, ...,\n",
       "          2.54792094e-01,  2.44766146e-01,  1.83695138e-01],\n",
       "        [ 1.23591207e-01,  9.51890498e-02,  1.05007090e-01, ...,\n",
       "          1.89132273e-01,  1.71545297e-01,  1.27130985e-01],\n",
       "        ...,\n",
       "        [ 4.45526928e-01,  7.34205365e-01,  6.36522889e-01, ...,\n",
       "          1.46591142e-01, -3.20082568e-02, -7.29855448e-02],\n",
       "        [ 3.72871846e-01,  6.34169579e-01,  5.57658076e-01, ...,\n",
       "          2.81184405e-01,  1.27883404e-01,  5.27990349e-02],\n",
       "        [ 2.98960924e-01,  4.39657301e-01,  4.85462010e-01, ...,\n",
       "          3.69519770e-01,  2.61087120e-01,  1.57842547e-01]],\n",
       "\n",
       "       [[ 7.39399567e-02,  1.46579608e-01,  1.76032752e-01, ...,\n",
       "          1.25446558e-01,  2.70638112e-02,  4.50238120e-03],\n",
       "        [ 1.64472729e-01,  2.17739254e-01,  2.58416772e-01, ...,\n",
       "          1.65856451e-01,  7.50023127e-02,  5.13559803e-02],\n",
       "        [ 2.13199303e-01,  2.55654514e-01,  2.66978830e-01, ...,\n",
       "          1.50179058e-01,  6.31282106e-02,  3.48823108e-02],\n",
       "        ...,\n",
       "        [ 3.62240702e-01,  2.45090052e-01, -2.15515755e-02, ...,\n",
       "          1.07384026e-01,  1.54851854e-01,  1.34485364e-01],\n",
       "        [ 2.96067625e-01,  2.00274989e-01, -6.80396929e-02, ...,\n",
       "          2.76404113e-01,  2.56697804e-01,  1.76990822e-01],\n",
       "        [ 2.24351764e-01,  1.21461295e-01, -1.36797220e-01, ...,\n",
       "          4.85314697e-01,  3.21635783e-01,  2.82938749e-01]]],\n",
       "      dtype=float32)"
      ]
     },
     "execution_count": 12,
     "metadata": {},
     "output_type": "execute_result"
    }
   ],
   "source": [
    "R_recur = ((R_recur1 + R_recur2 + R_recur3 + R_recur4 + R_recur5) / 5)\n",
    "R_recur"
   ]
  },
  {
   "cell_type": "code",
   "execution_count": 13,
   "id": "559a083a",
   "metadata": {},
   "outputs": [],
   "source": [
    "# 首先 我们先画 MAM季节的贡献图   MAM： 3  4  5 月  即  03/01 - 05/31  当然，会做一个区域平均\n",
    "# 同时，我们也会对每一年的JJA做一个平均  ---》1993 - 2019年"
   ]
  },
  {
   "cell_type": "code",
   "execution_count": 14,
   "id": "d95c285f",
   "metadata": {},
   "outputs": [
    {
     "data": {
      "text/plain": [
       "9646"
      ]
     },
     "execution_count": 14,
     "metadata": {},
     "output_type": "execute_result"
    }
   ],
   "source": [
    "#  计算索引\n",
    "import pandas as pd\n",
    "import datetime\n",
    "\n",
    "#创建时间范围\n",
    "start_date = datetime.datetime(1993,1,1)\n",
    "end_date = datetime.datetime(2019,12,31)\n",
    "dates = pd.date_range(start = start_date, end = end_date, freq = 'D')\n",
    "\n",
    "index = dates.get_loc(datetime.datetime(2019,5,31)) \n",
    "index"
   ]
  },
  {
   "cell_type": "code",
   "execution_count": 15,
   "id": "13654f59",
   "metadata": {},
   "outputs": [],
   "source": [
    "# MAM   93\n",
    "Q_net_MAM_93 = Q_net[59:151,:,:]\n",
    "ZAdv_MAM_93 = ZAdv[59:151,:,:]\n",
    "MAdv_MAM_93 = MAdv[59:151,:,:]\n",
    "VAdv_MAM_93 = VAdv[59:151,:,:]\n",
    "R_origin_MAM_93 = R_origin[59:151,:,:]\n",
    "dT_dt_MAM_93 = dT_dt[59:151,:,:]\n",
    "R_recur_MAM_93 = R_recur[59:151,:,:]"
   ]
  },
  {
   "cell_type": "code",
   "execution_count": 16,
   "id": "7d639db9",
   "metadata": {},
   "outputs": [],
   "source": [
    "# MAM   94\n",
    "Q_net_MAM_94 = Q_net[424:516,:,:]\n",
    "ZAdv_MAM_94 = ZAdv[424:516,:,:]\n",
    "MAdv_MAM_94 = MAdv[424:516,:,:]\n",
    "VAdv_MAM_94 = VAdv[424:516,:,:]\n",
    "R_origin_MAM_94 = R_origin[424:516,:,:]\n",
    "dT_dt_MAM_94 = dT_dt[424:516,:,:]\n",
    "R_recur_MAM_94 = R_recur[424:516,:,:]"
   ]
  },
  {
   "cell_type": "code",
   "execution_count": 17,
   "id": "3a4bade2",
   "metadata": {},
   "outputs": [],
   "source": [
    "# MAM   95\n",
    "Q_net_MAM_95 = Q_net[789:881,:,:]\n",
    "ZAdv_MAM_95 = ZAdv[789:881,:,:]\n",
    "MAdv_MAM_95 = MAdv[789:881,:,:]\n",
    "VAdv_MAM_95 = VAdv[789:881,:,:]\n",
    "R_origin_MAM_95 = R_origin[789:881,:,:]\n",
    "dT_dt_MAM_95 = dT_dt[789:881,:,:]\n",
    "R_recur_MAM_95 = R_recur[789:881,:,:]"
   ]
  },
  {
   "cell_type": "code",
   "execution_count": 18,
   "id": "fdf4e5dd",
   "metadata": {},
   "outputs": [],
   "source": [
    "# MAM   96\n",
    "Q_net_MAM_96 = Q_net[1155:1247,:,:]\n",
    "ZAdv_MAM_96 = ZAdv[1155:1247,:,:]\n",
    "MAdv_MAM_96 = MAdv[1155:1247,:,:]\n",
    "VAdv_MAM_96 = VAdv[1155:1247,:,:]\n",
    "R_origin_MAM_96 = R_origin[1155:1247,:,:]\n",
    "dT_dt_MAM_96 = dT_dt[1155:1247,:,:]\n",
    "R_recur_MAM_96 = R_recur[1155:1247,:,:]"
   ]
  },
  {
   "cell_type": "code",
   "execution_count": 19,
   "id": "c2975961",
   "metadata": {},
   "outputs": [],
   "source": [
    "# MAM   97\n",
    "Q_net_MAM_97 = Q_net[1520:1611,:,:]\n",
    "ZAdv_MAM_97 = ZAdv[1520:1611,:,:]\n",
    "MAdv_MAM_97 = MAdv[1520:1611,:,:]\n",
    "VAdv_MAM_97 = VAdv[1520:1611,:,:]\n",
    "R_origin_MAM_97 = R_origin[1520:1611,:,:]\n",
    "dT_dt_MAM_97 = dT_dt[1520:1611,:,:]\n",
    "R_recur_MAM_97 = R_recur[1520:1611,:,:]"
   ]
  },
  {
   "cell_type": "code",
   "execution_count": 20,
   "id": "d6f393ae",
   "metadata": {},
   "outputs": [],
   "source": [
    "# MAM   98\n",
    "Q_net_MAM_98 = Q_net[1885:1977,:,:]\n",
    "ZAdv_MAM_98 = ZAdv[1885:1977,:,:]\n",
    "MAdv_MAM_98 = MAdv[1885:1977,:,:]\n",
    "VAdv_MAM_98 = VAdv[1885:1977,:,:]\n",
    "R_origin_MAM_98 = R_origin[1885:1977,:,:]\n",
    "dT_dt_MAM_98 = dT_dt[1885:1977,:,:]\n",
    "R_recur_MAM_98 = R_recur[1885:1977,:,:]"
   ]
  },
  {
   "cell_type": "code",
   "execution_count": 21,
   "id": "33a162d8",
   "metadata": {},
   "outputs": [],
   "source": [
    "# MAM   99\n",
    "Q_net_MAM_99 = Q_net[2250:2342,:,:]\n",
    "ZAdv_MAM_99 = ZAdv[2250:2342,:,:]\n",
    "MAdv_MAM_99 = MAdv[2250:2342,:,:]\n",
    "VAdv_MAM_99 = VAdv[2250:2342,:,:]\n",
    "R_origin_MAM_99 = R_origin[2250:2342,:,:]\n",
    "dT_dt_MAM_99 = dT_dt[2250:2342,:,:]\n",
    "R_recur_MAM_99 = R_recur[2250:2342,:,:]"
   ]
  },
  {
   "cell_type": "code",
   "execution_count": 22,
   "id": "3b510f2b",
   "metadata": {},
   "outputs": [],
   "source": [
    "# MAM   00\n",
    "Q_net_MAM_00 = Q_net[2616:2708,:,:]\n",
    "ZAdv_MAM_00 = ZAdv[2616:2708,:,:]\n",
    "MAdv_MAM_00 = MAdv[2616:2708,:,:]\n",
    "VAdv_MAM_00 = VAdv[2616:2708,:,:]\n",
    "R_origin_MAM_00 = R_origin[2616:2708,:,:]\n",
    "dT_dt_MAM_00 = dT_dt[2616:2708,:,:]\n",
    "R_recur_MAM_00 = R_recur[2616:2708,:,:]"
   ]
  },
  {
   "cell_type": "code",
   "execution_count": 23,
   "id": "9d7da264",
   "metadata": {},
   "outputs": [],
   "source": [
    "# MAM   01\n",
    "Q_net_MAM_01 = Q_net[2981:3073,:,:]\n",
    "ZAdv_MAM_01 = ZAdv[2981:3073,:,:]\n",
    "MAdv_MAM_01 = MAdv[2981:3073,:,:]\n",
    "VAdv_MAM_01 = VAdv[2981:3073,:,:]\n",
    "R_origin_MAM_01 = R_origin[2981:3073,:,:]\n",
    "dT_dt_MAM_01 = dT_dt[2981:3073,:,:]\n",
    "R_recur_MAM_01 = R_recur[2981:3073,:,:]"
   ]
  },
  {
   "cell_type": "code",
   "execution_count": 24,
   "id": "0945ae32",
   "metadata": {},
   "outputs": [],
   "source": [
    "# MAM   02\n",
    "Q_net_MAM_02 = Q_net[3346:3438,:,:]\n",
    "ZAdv_MAM_02 = ZAdv[3346:3438,:,:]\n",
    "MAdv_MAM_02 = MAdv[3346:3438,:,:]\n",
    "VAdv_MAM_02 = VAdv[3346:3438,:,:]\n",
    "R_origin_MAM_02 = R_origin[3346:3438,:,:]\n",
    "dT_dt_MAM_02 = dT_dt[3346:3438,:,:]\n",
    "R_recur_MAM_02 = R_recur[3346:3438,:,:]"
   ]
  },
  {
   "cell_type": "code",
   "execution_count": 25,
   "id": "08c9b5df",
   "metadata": {},
   "outputs": [],
   "source": [
    "# MAM   03\n",
    "Q_net_MAM_03 = Q_net[3711:3803,:,:]\n",
    "ZAdv_MAM_03 = ZAdv[3711:3803,:,:]\n",
    "MAdv_MAM_03 = MAdv[3711:3803,:,:]\n",
    "VAdv_MAM_03 = VAdv[3711:3803,:,:]\n",
    "R_origin_MAM_03 = R_origin[3711:3803,:,:]\n",
    "dT_dt_MAM_03 = dT_dt[3711:3803,:,:]\n",
    "R_recur_MAM_03 = R_recur[3711:3803,:,:]"
   ]
  },
  {
   "cell_type": "code",
   "execution_count": 26,
   "id": "13cd6b9a",
   "metadata": {},
   "outputs": [],
   "source": [
    "# MAM   04\n",
    "Q_net_MAM_04 = Q_net[4077:4169,:,:]\n",
    "ZAdv_MAM_04 = ZAdv[4077:4169,:,:]\n",
    "MAdv_MAM_04 = MAdv[4077:4169,:,:]\n",
    "VAdv_MAM_04 = VAdv[4077:4169,:,:]\n",
    "R_origin_MAM_04 = R_origin[4077:4169,:,:]\n",
    "dT_dt_MAM_04 = dT_dt[4077:4169,:,:]\n",
    "R_recur_MAM_04 = R_recur[4077:4169,:,:]"
   ]
  },
  {
   "cell_type": "code",
   "execution_count": 27,
   "id": "047b74fb",
   "metadata": {},
   "outputs": [],
   "source": [
    "# MAM   05\n",
    "Q_net_MAM_05 = Q_net[4442:4534,:,:]\n",
    "ZAdv_MAM_05 = ZAdv[4442:4534,:,:]\n",
    "MAdv_MAM_05 = MAdv[4442:4534,:,:]\n",
    "VAdv_MAM_05 = VAdv[4442:4534,:,:]\n",
    "R_origin_MAM_05 = R_origin[4442:4534,:,:]\n",
    "dT_dt_MAM_05 = dT_dt[4442:4534,:,:]\n",
    "R_recur_MAM_05 = R_recur[4442:4534,:,:]"
   ]
  },
  {
   "cell_type": "code",
   "execution_count": 28,
   "id": "73d29224",
   "metadata": {},
   "outputs": [],
   "source": [
    "# MAM   06\n",
    "Q_net_MAM_06 = Q_net[4807:4899,:,:]\n",
    "ZAdv_MAM_06 = ZAdv[4807:4899,:,:]\n",
    "MAdv_MAM_06 = MAdv[4807:4899,:,:]\n",
    "VAdv_MAM_06 = VAdv[4807:4899,:,:]\n",
    "R_origin_MAM_06 = R_origin[4807:4899,:,:]\n",
    "dT_dt_MAM_06 = dT_dt[4807:4899,:,:]\n",
    "R_recur_MAM_06 = R_recur[4807:4899,:,:]"
   ]
  },
  {
   "cell_type": "code",
   "execution_count": 29,
   "id": "1e7d58a0",
   "metadata": {},
   "outputs": [],
   "source": [
    "# MAM   07\n",
    "Q_net_MAM_07 = Q_net[5172:5264,:,:]\n",
    "ZAdv_MAM_07 = ZAdv[5172:5264,:,:]\n",
    "MAdv_MAM_07 = MAdv[5172:5264,:,:]\n",
    "VAdv_MAM_07 = VAdv[5172:5264,:,:]\n",
    "R_origin_MAM_07 = R_origin[5172:5264,:,:]\n",
    "dT_dt_MAM_07 = dT_dt[5172:5264,:,:]\n",
    "R_recur_MAM_07 = R_recur[5172:5264,:,:]"
   ]
  },
  {
   "cell_type": "code",
   "execution_count": 30,
   "id": "247fa4b7",
   "metadata": {},
   "outputs": [],
   "source": [
    "# MAM   08\n",
    "Q_net_MAM_08 = Q_net[5538:5630,:,:]\n",
    "ZAdv_MAM_08 = ZAdv[5538:5630,:,:]\n",
    "MAdv_MAM_08 = MAdv[5538:5630,:,:]\n",
    "VAdv_MAM_08 = VAdv[5538:5630,:,:]\n",
    "R_origin_MAM_08 = R_origin[5538:5630,:,:]\n",
    "dT_dt_MAM_08 = dT_dt[5538:5630,:,:]\n",
    "R_recur_MAM_08 = R_recur[5538:5630,:,:]"
   ]
  },
  {
   "cell_type": "code",
   "execution_count": 31,
   "id": "06547eca",
   "metadata": {},
   "outputs": [],
   "source": [
    "# MAM   09\n",
    "Q_net_MAM_09 = Q_net[5903:5995,:,:]\n",
    "ZAdv_MAM_09 = ZAdv[5903:5995,:,:]\n",
    "MAdv_MAM_09 = MAdv[5903:5995,:,:]\n",
    "VAdv_MAM_09 = VAdv[5903:5995,:,:]\n",
    "R_origin_MAM_09 = R_origin[5903:5995,:,:]\n",
    "dT_dt_MAM_09 = dT_dt[5903:5995,:,:]\n",
    "R_recur_MAM_09 = R_recur[5903:5995,:,:]"
   ]
  },
  {
   "cell_type": "code",
   "execution_count": 32,
   "id": "b8d660ad",
   "metadata": {},
   "outputs": [],
   "source": [
    "# MAM   10\n",
    "Q_net_MAM_10 = Q_net[6268:6360,:,:]\n",
    "ZAdv_MAM_10 = ZAdv[6268:6360,:,:]\n",
    "MAdv_MAM_10 = MAdv[6268:6360,:,:]\n",
    "VAdv_MAM_10 = VAdv[6268:6360,:,:]\n",
    "R_origin_MAM_10 = R_origin[6268:6360,:,:]\n",
    "dT_dt_MAM_10 = dT_dt[6268:6360,:,:]\n",
    "R_recur_MAM_10 = R_recur[6268:6360,:,:]"
   ]
  },
  {
   "cell_type": "code",
   "execution_count": 33,
   "id": "0a0b86f3",
   "metadata": {},
   "outputs": [],
   "source": [
    "# MAM   11\n",
    "Q_net_MAM_11 = Q_net[6633:6725,:,:]\n",
    "ZAdv_MAM_11 = ZAdv[6633:6725,:,:]\n",
    "MAdv_MAM_11 = MAdv[6633:6725,:,:]\n",
    "VAdv_MAM_11 = VAdv[6633:6725,:,:]\n",
    "R_origin_MAM_11 = R_origin[6633:6725,:,:]\n",
    "dT_dt_MAM_11 = dT_dt[6633:6725,:,:]\n",
    "R_recur_MAM_11 = R_recur[6633:6725,:,:]"
   ]
  },
  {
   "cell_type": "code",
   "execution_count": 34,
   "id": "14db96df",
   "metadata": {},
   "outputs": [],
   "source": [
    "# MAM   12\n",
    "Q_net_MAM_12 = Q_net[6999:7091,:,:]\n",
    "ZAdv_MAM_12 = ZAdv[6999:7091,:,:]\n",
    "MAdv_MAM_12 = MAdv[6999:7091,:,:]\n",
    "VAdv_MAM_12 = VAdv[6999:7091,:,:]\n",
    "R_origin_MAM_12 = R_origin[6999:7091,:,:]\n",
    "dT_dt_MAM_12 = dT_dt[6999:7091,:,:]\n",
    "R_recur_MAM_12 = R_recur[6999:7091,:,:] "
   ]
  },
  {
   "cell_type": "code",
   "execution_count": 35,
   "id": "371ea83c",
   "metadata": {},
   "outputs": [],
   "source": [
    "# MAM   13\n",
    "Q_net_MAM_13 = Q_net[7364:7455,:,:]\n",
    "ZAdv_MAM_13 = ZAdv[7364:7455,:,:]\n",
    "MAdv_MAM_13 = MAdv[7364:7455,:,:]\n",
    "VAdv_MAM_13 = VAdv[7364:7455,:,:]\n",
    "R_origin_MAM_13 = R_origin[7364:7455,:,:]\n",
    "dT_dt_MAM_13 = dT_dt[7364:7455,:,:]\n",
    "R_recur_MAM_13 = R_recur[7364:7455,:,:]"
   ]
  },
  {
   "cell_type": "code",
   "execution_count": 36,
   "id": "c3f9aff0",
   "metadata": {},
   "outputs": [],
   "source": [
    "# MAM   14\n",
    "Q_net_MAM_14 = Q_net[7729:7821,:,:]\n",
    "ZAdv_MAM_14 = ZAdv[7729:7821,:,:]\n",
    "MAdv_MAM_14 = MAdv[7729:7821,:,:]\n",
    "VAdv_MAM_14 = VAdv[7729:7821,:,:]\n",
    "R_origin_MAM_14 = R_origin[7729:7821,:,:]\n",
    "dT_dt_MAM_14 = dT_dt[7729:7821,:,:]\n",
    "R_recur_MAM_14 = R_recur[7729:7821,:,:]"
   ]
  },
  {
   "cell_type": "code",
   "execution_count": 37,
   "id": "c96851a5",
   "metadata": {},
   "outputs": [],
   "source": [
    "# MAM   15\n",
    "Q_net_MAM_15 = Q_net[8094:8185,:,:]\n",
    "ZAdv_MAM_15 = ZAdv[8094:8185,:,:]\n",
    "MAdv_MAM_15 = MAdv[8094:8185,:,:]\n",
    "VAdv_MAM_15 = VAdv[8094:8185,:,:]\n",
    "R_origin_MAM_15 = R_origin[8094:8185,:,:]\n",
    "dT_dt_MAM_15 = dT_dt[8094:8185,:,:]\n",
    "R_recur_MAM_15 = R_recur[8094:8185,:,:] "
   ]
  },
  {
   "cell_type": "code",
   "execution_count": 38,
   "id": "607d5390",
   "metadata": {},
   "outputs": [],
   "source": [
    "# MAM   16\n",
    "Q_net_MAM_16 = Q_net[8460:8552,:,:]\n",
    "ZAdv_MAM_16 = ZAdv[8460:8552,:,:]\n",
    "MAdv_MAM_16 = MAdv[8460:8552,:,:]\n",
    "VAdv_MAM_16 = VAdv[8460:8552,:,:]\n",
    "R_origin_MAM_16 = R_origin[8460:8552,:,:]\n",
    "dT_dt_MAM_16 = dT_dt[8460:8552,:,:]\n",
    "R_recur_MAM_16 = R_recur[8460:8552,:,:] "
   ]
  },
  {
   "cell_type": "code",
   "execution_count": 39,
   "id": "6cd88087",
   "metadata": {},
   "outputs": [],
   "source": [
    "# MAM   17\n",
    "Q_net_MAM_17 = Q_net[8825:8917,:,:]\n",
    "ZAdv_MAM_17 = ZAdv[8825:8917,:,:]\n",
    "MAdv_MAM_17 = MAdv[8825:8917,:,:]\n",
    "VAdv_MAM_17 = VAdv[8825:8917,:,:]\n",
    "R_origin_MAM_17 = R_origin[8825:8917,:,:]\n",
    "dT_dt_MAM_17 = dT_dt[8825:8917,:,:]\n",
    "R_recur_MAM_17 = R_recur[8825:8917,:,:]  "
   ]
  },
  {
   "cell_type": "code",
   "execution_count": 40,
   "id": "710745f5",
   "metadata": {},
   "outputs": [],
   "source": [
    "# MAM   18\n",
    "Q_net_MAM_18 = Q_net[9190:9282,:,:]\n",
    "ZAdv_MAM_18 = ZAdv[9190:9282,:,:]\n",
    "MAdv_MAM_18 = MAdv[9190:9282,:,:]\n",
    "VAdv_MAM_18 = VAdv[9190:9282,:,:]\n",
    "R_origin_MAM_18 = R_origin[9190:9282,:,:]\n",
    "dT_dt_MAM_18 = dT_dt[9190:9282,:,:]\n",
    "R_recur_MAM_18 = R_recur[9190:9282,:,:] "
   ]
  },
  {
   "cell_type": "code",
   "execution_count": 41,
   "id": "eed10553",
   "metadata": {},
   "outputs": [],
   "source": [
    "# MAM   19\n",
    "Q_net_MAM_19 = Q_net[9555:9646,:,:]\n",
    "ZAdv_MAM_19 = ZAdv[9555:9646,:,:]\n",
    "MAdv_MAM_19 = MAdv[9555:9646,:,:]\n",
    "VAdv_MAM_19 = VAdv[9555:9646,:,:]\n",
    "R_origin_MAM_19 = R_origin[9555:9646,:,:]\n",
    "dT_dt_MAM_19 = dT_dt[9555:9646,:,:]\n",
    "R_recur_MAM_19 = R_recur[9555:9646,:,:]"
   ]
  },
  {
   "cell_type": "code",
   "execution_count": 42,
   "id": "c7c43ad5",
   "metadata": {},
   "outputs": [],
   "source": [
    "Q_net_MAM_93 = np.mean(Q_net_MAM_93, axis = (1,2)).reshape(-1,1)\n",
    "Q_net_MAM_94 = np.mean(Q_net_MAM_94, axis = (1,2)).reshape(-1,1)\n",
    "Q_net_MAM_95 = np.mean(Q_net_MAM_95, axis = (1,2)).reshape(-1,1)\n",
    "Q_net_MAM_96 = np.mean(Q_net_MAM_96, axis = (1,2)).reshape(-1,1)\n",
    "Q_net_MAM_97 = np.mean(Q_net_MAM_97, axis = (1,2)).reshape(-1,1)\n",
    "Q_net_MAM_98 = np.mean(Q_net_MAM_98, axis = (1,2)).reshape(-1,1)\n",
    "Q_net_MAM_99 = np.mean(Q_net_MAM_99, axis = (1,2)).reshape(-1,1)\n",
    "Q_net_MAM_00 = np.mean(Q_net_MAM_00, axis = (1,2)).reshape(-1,1)\n",
    "Q_net_MAM_01 = np.mean(Q_net_MAM_01, axis = (1,2)).reshape(-1,1)\n",
    "Q_net_MAM_02 = np.mean(Q_net_MAM_02, axis = (1,2)).reshape(-1,1)\n",
    "Q_net_MAM_03 = np.mean(Q_net_MAM_03, axis = (1,2)).reshape(-1,1)\n",
    "Q_net_MAM_04 = np.mean(Q_net_MAM_04, axis = (1,2)).reshape(-1,1)\n",
    "Q_net_MAM_05 = np.mean(Q_net_MAM_05, axis = (1,2)).reshape(-1,1)\n",
    "Q_net_MAM_06 = np.mean(Q_net_MAM_06, axis = (1,2)).reshape(-1,1)\n",
    "Q_net_MAM_07 = np.mean(Q_net_MAM_07, axis = (1,2)).reshape(-1,1)\n",
    "Q_net_MAM_08 = np.mean(Q_net_MAM_08, axis = (1,2)).reshape(-1,1)\n",
    "Q_net_MAM_09 = np.mean(Q_net_MAM_09, axis = (1,2)).reshape(-1,1)\n",
    "Q_net_MAM_10 = np.mean(Q_net_MAM_10, axis = (1,2)).reshape(-1,1)\n",
    "Q_net_MAM_11 = np.mean(Q_net_MAM_11, axis = (1,2)).reshape(-1,1)\n",
    "Q_net_MAM_12 = np.mean(Q_net_MAM_12, axis = (1,2)).reshape(-1,1)\n",
    "Q_net_MAM_13 = np.mean(Q_net_MAM_13, axis = (1,2)).reshape(-1,1)\n",
    "Q_net_MAM_14 = np.mean(Q_net_MAM_14, axis = (1,2)).reshape(-1,1)\n",
    "Q_net_MAM_15 = np.mean(Q_net_MAM_15, axis = (1,2)).reshape(-1,1)\n",
    "Q_net_MAM_16 = np.mean(Q_net_MAM_16, axis = (1,2)).reshape(-1,1)\n",
    "Q_net_MAM_17 = np.mean(Q_net_MAM_17, axis = (1,2)).reshape(-1,1)\n",
    "Q_net_MAM_18 = np.mean(Q_net_MAM_18, axis = (1,2)).reshape(-1,1)\n",
    "Q_net_MAM_19 = np.mean(Q_net_MAM_19, axis = (1,2)).reshape(-1,1)"
   ]
  },
  {
   "cell_type": "code",
   "execution_count": 43,
   "id": "ace44d8d",
   "metadata": {},
   "outputs": [],
   "source": [
    "Q_net_MAM_93 = np.mean(Q_net_MAM_93).reshape(-1,1)\n",
    "Q_net_MAM_94 = np.mean(Q_net_MAM_94).reshape(-1,1)\n",
    "Q_net_MAM_95 = np.mean(Q_net_MAM_95).reshape(-1,1)\n",
    "Q_net_MAM_96 = np.mean(Q_net_MAM_96).reshape(-1,1)\n",
    "Q_net_MAM_97 = np.mean(Q_net_MAM_97).reshape(-1,1)\n",
    "Q_net_MAM_98 = np.mean(Q_net_MAM_98).reshape(-1,1)\n",
    "Q_net_MAM_99 = np.mean(Q_net_MAM_99).reshape(-1,1)\n",
    "Q_net_MAM_00 = np.mean(Q_net_MAM_00).reshape(-1,1)\n",
    "Q_net_MAM_01 = np.mean(Q_net_MAM_01).reshape(-1,1)\n",
    "Q_net_MAM_02 = np.mean(Q_net_MAM_02).reshape(-1,1)\n",
    "Q_net_MAM_03 = np.mean(Q_net_MAM_03).reshape(-1,1)\n",
    "Q_net_MAM_04 = np.mean(Q_net_MAM_04).reshape(-1,1)\n",
    "Q_net_MAM_05 = np.mean(Q_net_MAM_05).reshape(-1,1)\n",
    "Q_net_MAM_06 = np.mean(Q_net_MAM_06).reshape(-1,1)\n",
    "Q_net_MAM_07 = np.mean(Q_net_MAM_07).reshape(-1,1)\n",
    "Q_net_MAM_08 = np.mean(Q_net_MAM_08).reshape(-1,1)\n",
    "Q_net_MAM_09 = np.mean(Q_net_MAM_09).reshape(-1,1)\n",
    "Q_net_MAM_10 = np.mean(Q_net_MAM_10).reshape(-1,1)\n",
    "Q_net_MAM_11 = np.mean(Q_net_MAM_11).reshape(-1,1)\n",
    "Q_net_MAM_12 = np.mean(Q_net_MAM_12).reshape(-1,1)\n",
    "Q_net_MAM_13 = np.mean(Q_net_MAM_13).reshape(-1,1)\n",
    "Q_net_MAM_14 = np.mean(Q_net_MAM_14).reshape(-1,1)\n",
    "Q_net_MAM_15 = np.mean(Q_net_MAM_15).reshape(-1,1)\n",
    "Q_net_MAM_16 = np.mean(Q_net_MAM_16).reshape(-1,1)\n",
    "Q_net_MAM_17 = np.mean(Q_net_MAM_17).reshape(-1,1)\n",
    "Q_net_MAM_18 = np.mean(Q_net_MAM_18).reshape(-1,1)\n",
    "Q_net_MAM_19 = np.mean(Q_net_MAM_19).reshape(-1,1)"
   ]
  },
  {
   "cell_type": "code",
   "execution_count": 44,
   "id": "4e81b5b0",
   "metadata": {},
   "outputs": [],
   "source": [
    "ZAdv_MAM_93 = np.mean(ZAdv_MAM_93, axis = (1,2)).reshape(-1,1)\n",
    "ZAdv_MAM_94 = np.mean(ZAdv_MAM_94, axis = (1,2)).reshape(-1,1)\n",
    "ZAdv_MAM_95 = np.mean(ZAdv_MAM_95, axis = (1,2)).reshape(-1,1)\n",
    "ZAdv_MAM_96 = np.mean(ZAdv_MAM_96, axis = (1,2)).reshape(-1,1)\n",
    "ZAdv_MAM_97 = np.mean(ZAdv_MAM_97, axis = (1,2)).reshape(-1,1)\n",
    "ZAdv_MAM_98 = np.mean(ZAdv_MAM_98, axis = (1,2)).reshape(-1,1)\n",
    "ZAdv_MAM_99 = np.mean(ZAdv_MAM_99, axis = (1,2)).reshape(-1,1)\n",
    "ZAdv_MAM_00 = np.mean(ZAdv_MAM_00, axis = (1,2)).reshape(-1,1)\n",
    "ZAdv_MAM_01 = np.mean(ZAdv_MAM_01, axis = (1,2)).reshape(-1,1)\n",
    "ZAdv_MAM_02 = np.mean(ZAdv_MAM_02, axis = (1,2)).reshape(-1,1)\n",
    "ZAdv_MAM_03 = np.mean(ZAdv_MAM_03, axis = (1,2)).reshape(-1,1)\n",
    "ZAdv_MAM_04 = np.mean(ZAdv_MAM_04, axis = (1,2)).reshape(-1,1)\n",
    "ZAdv_MAM_05 = np.mean(ZAdv_MAM_05, axis = (1,2)).reshape(-1,1)\n",
    "ZAdv_MAM_06 = np.mean(ZAdv_MAM_06, axis = (1,2)).reshape(-1,1)\n",
    "ZAdv_MAM_07 = np.mean(ZAdv_MAM_07, axis = (1,2)).reshape(-1,1)\n",
    "ZAdv_MAM_08 = np.mean(ZAdv_MAM_08, axis = (1,2)).reshape(-1,1)\n",
    "ZAdv_MAM_09 = np.mean(ZAdv_MAM_09, axis = (1,2)).reshape(-1,1)\n",
    "ZAdv_MAM_10 = np.mean(ZAdv_MAM_10, axis = (1,2)).reshape(-1,1)\n",
    "ZAdv_MAM_11 = np.mean(ZAdv_MAM_11, axis = (1,2)).reshape(-1,1)\n",
    "ZAdv_MAM_12 = np.mean(ZAdv_MAM_12, axis = (1,2)).reshape(-1,1)\n",
    "ZAdv_MAM_13 = np.mean(ZAdv_MAM_13, axis = (1,2)).reshape(-1,1)\n",
    "ZAdv_MAM_14 = np.mean(ZAdv_MAM_14, axis = (1,2)).reshape(-1,1)\n",
    "ZAdv_MAM_15 = np.mean(ZAdv_MAM_15, axis = (1,2)).reshape(-1,1)\n",
    "ZAdv_MAM_16 = np.mean(ZAdv_MAM_16, axis = (1,2)).reshape(-1,1)\n",
    "ZAdv_MAM_17 = np.mean(ZAdv_MAM_17, axis = (1,2)).reshape(-1,1)\n",
    "ZAdv_MAM_18 = np.mean(ZAdv_MAM_18, axis = (1,2)).reshape(-1,1)\n",
    "ZAdv_MAM_19 = np.mean(ZAdv_MAM_19, axis = (1,2)).reshape(-1,1)"
   ]
  },
  {
   "cell_type": "code",
   "execution_count": 45,
   "id": "8dd2b8c0",
   "metadata": {},
   "outputs": [],
   "source": [
    "ZAdv_MAM_93 = np.mean(ZAdv_MAM_93).reshape(-1,1)\n",
    "ZAdv_MAM_94 = np.mean(ZAdv_MAM_94).reshape(-1,1)\n",
    "ZAdv_MAM_95 = np.mean(ZAdv_MAM_95).reshape(-1,1)\n",
    "ZAdv_MAM_96 = np.mean(ZAdv_MAM_96).reshape(-1,1)\n",
    "ZAdv_MAM_97 = np.mean(ZAdv_MAM_97).reshape(-1,1)\n",
    "ZAdv_MAM_98 = np.mean(ZAdv_MAM_98).reshape(-1,1)\n",
    "ZAdv_MAM_99 = np.mean(ZAdv_MAM_99).reshape(-1,1)\n",
    "ZAdv_MAM_00 = np.mean(ZAdv_MAM_00).reshape(-1,1)\n",
    "ZAdv_MAM_01 = np.mean(ZAdv_MAM_01).reshape(-1,1)\n",
    "ZAdv_MAM_02 = np.mean(ZAdv_MAM_02).reshape(-1,1)\n",
    "ZAdv_MAM_03 = np.mean(ZAdv_MAM_03).reshape(-1,1)\n",
    "ZAdv_MAM_04 = np.mean(ZAdv_MAM_04).reshape(-1,1)\n",
    "ZAdv_MAM_05 = np.mean(ZAdv_MAM_05).reshape(-1,1)\n",
    "ZAdv_MAM_06 = np.mean(ZAdv_MAM_06).reshape(-1,1)\n",
    "ZAdv_MAM_07 = np.mean(ZAdv_MAM_07).reshape(-1,1)\n",
    "ZAdv_MAM_08 = np.mean(ZAdv_MAM_08).reshape(-1,1)\n",
    "ZAdv_MAM_09 = np.mean(ZAdv_MAM_09).reshape(-1,1)\n",
    "ZAdv_MAM_10 = np.mean(ZAdv_MAM_10).reshape(-1,1)\n",
    "ZAdv_MAM_11 = np.mean(ZAdv_MAM_11).reshape(-1,1)\n",
    "ZAdv_MAM_12 = np.mean(ZAdv_MAM_12).reshape(-1,1)\n",
    "ZAdv_MAM_13 = np.mean(ZAdv_MAM_13).reshape(-1,1)\n",
    "ZAdv_MAM_14 = np.mean(ZAdv_MAM_14).reshape(-1,1)\n",
    "ZAdv_MAM_15 = np.mean(ZAdv_MAM_15).reshape(-1,1)\n",
    "ZAdv_MAM_16 = np.mean(ZAdv_MAM_16).reshape(-1,1)\n",
    "ZAdv_MAM_17 = np.mean(ZAdv_MAM_17).reshape(-1,1)\n",
    "ZAdv_MAM_18 = np.mean(ZAdv_MAM_18).reshape(-1,1)\n",
    "ZAdv_MAM_19 = np.mean(ZAdv_MAM_19).reshape(-1,1)"
   ]
  },
  {
   "cell_type": "code",
   "execution_count": 46,
   "id": "239a2378",
   "metadata": {},
   "outputs": [],
   "source": [
    "MAdv_MAM_93 = np.mean(MAdv_MAM_93, axis = (1,2)).reshape(-1,1)\n",
    "MAdv_MAM_94 = np.mean(MAdv_MAM_94, axis = (1,2)).reshape(-1,1)\n",
    "MAdv_MAM_95 = np.mean(MAdv_MAM_95, axis = (1,2)).reshape(-1,1)\n",
    "MAdv_MAM_96 = np.mean(MAdv_MAM_96, axis = (1,2)).reshape(-1,1)\n",
    "MAdv_MAM_97 = np.mean(MAdv_MAM_97, axis = (1,2)).reshape(-1,1)\n",
    "MAdv_MAM_98 = np.mean(MAdv_MAM_98, axis = (1,2)).reshape(-1,1)\n",
    "MAdv_MAM_99 = np.mean(MAdv_MAM_99, axis = (1,2)).reshape(-1,1)\n",
    "MAdv_MAM_00 = np.mean(MAdv_MAM_00, axis = (1,2)).reshape(-1,1)\n",
    "MAdv_MAM_01 = np.mean(MAdv_MAM_01, axis = (1,2)).reshape(-1,1)\n",
    "MAdv_MAM_02 = np.mean(MAdv_MAM_02, axis = (1,2)).reshape(-1,1)\n",
    "MAdv_MAM_03 = np.mean(MAdv_MAM_03, axis = (1,2)).reshape(-1,1)\n",
    "MAdv_MAM_04 = np.mean(MAdv_MAM_04, axis = (1,2)).reshape(-1,1)\n",
    "MAdv_MAM_05 = np.mean(MAdv_MAM_05, axis = (1,2)).reshape(-1,1)\n",
    "MAdv_MAM_06 = np.mean(MAdv_MAM_06, axis = (1,2)).reshape(-1,1)\n",
    "MAdv_MAM_07 = np.mean(MAdv_MAM_07, axis = (1,2)).reshape(-1,1)\n",
    "MAdv_MAM_08 = np.mean(MAdv_MAM_08, axis = (1,2)).reshape(-1,1)\n",
    "MAdv_MAM_09 = np.mean(MAdv_MAM_09, axis = (1,2)).reshape(-1,1)\n",
    "MAdv_MAM_10 = np.mean(MAdv_MAM_10, axis = (1,2)).reshape(-1,1)\n",
    "MAdv_MAM_11 = np.mean(MAdv_MAM_11, axis = (1,2)).reshape(-1,1)\n",
    "MAdv_MAM_12 = np.mean(MAdv_MAM_12, axis = (1,2)).reshape(-1,1)\n",
    "MAdv_MAM_13 = np.mean(MAdv_MAM_13, axis = (1,2)).reshape(-1,1)\n",
    "MAdv_MAM_14 = np.mean(MAdv_MAM_14, axis = (1,2)).reshape(-1,1)\n",
    "MAdv_MAM_15 = np.mean(MAdv_MAM_15, axis = (1,2)).reshape(-1,1)\n",
    "MAdv_MAM_16 = np.mean(MAdv_MAM_16, axis = (1,2)).reshape(-1,1)\n",
    "MAdv_MAM_17 = np.mean(MAdv_MAM_17, axis = (1,2)).reshape(-1,1)\n",
    "MAdv_MAM_18 = np.mean(MAdv_MAM_18, axis = (1,2)).reshape(-1,1)\n",
    "MAdv_MAM_19 = np.mean(MAdv_MAM_19, axis = (1,2)).reshape(-1,1)"
   ]
  },
  {
   "cell_type": "code",
   "execution_count": 47,
   "id": "240bdf47",
   "metadata": {},
   "outputs": [],
   "source": [
    "MAdv_MAM_93 = np.mean(MAdv_MAM_93).reshape(-1,1)\n",
    "MAdv_MAM_94 = np.mean(MAdv_MAM_94).reshape(-1,1)\n",
    "MAdv_MAM_95 = np.mean(MAdv_MAM_95).reshape(-1,1)\n",
    "MAdv_MAM_96 = np.mean(MAdv_MAM_96).reshape(-1,1)\n",
    "MAdv_MAM_97 = np.mean(MAdv_MAM_97).reshape(-1,1)\n",
    "MAdv_MAM_98 = np.mean(MAdv_MAM_98).reshape(-1,1)\n",
    "MAdv_MAM_99 = np.mean(MAdv_MAM_99).reshape(-1,1)\n",
    "MAdv_MAM_00 = np.mean(MAdv_MAM_00).reshape(-1,1)\n",
    "MAdv_MAM_01 = np.mean(MAdv_MAM_01).reshape(-1,1)\n",
    "MAdv_MAM_02 = np.mean(MAdv_MAM_02).reshape(-1,1)\n",
    "MAdv_MAM_03 = np.mean(MAdv_MAM_03).reshape(-1,1)\n",
    "MAdv_MAM_04 = np.mean(MAdv_MAM_04).reshape(-1,1)\n",
    "MAdv_MAM_05 = np.mean(MAdv_MAM_05).reshape(-1,1)\n",
    "MAdv_MAM_06 = np.mean(MAdv_MAM_06).reshape(-1,1)\n",
    "MAdv_MAM_07 = np.mean(MAdv_MAM_07).reshape(-1,1)\n",
    "MAdv_MAM_08 = np.mean(MAdv_MAM_08).reshape(-1,1)\n",
    "MAdv_MAM_09 = np.mean(MAdv_MAM_09).reshape(-1,1)\n",
    "MAdv_MAM_10 = np.mean(MAdv_MAM_10).reshape(-1,1)\n",
    "MAdv_MAM_11 = np.mean(MAdv_MAM_11).reshape(-1,1)\n",
    "MAdv_MAM_12 = np.mean(MAdv_MAM_12).reshape(-1,1)\n",
    "MAdv_MAM_13 = np.mean(MAdv_MAM_13).reshape(-1,1)\n",
    "MAdv_MAM_14 = np.mean(MAdv_MAM_14).reshape(-1,1)\n",
    "MAdv_MAM_15 = np.mean(MAdv_MAM_15).reshape(-1,1)\n",
    "MAdv_MAM_16 = np.mean(MAdv_MAM_16).reshape(-1,1)\n",
    "MAdv_MAM_17 = np.mean(MAdv_MAM_17).reshape(-1,1)\n",
    "MAdv_MAM_18 = np.mean(MAdv_MAM_18).reshape(-1,1)\n",
    "MAdv_MAM_19 = np.mean(MAdv_MAM_19).reshape(-1,1)"
   ]
  },
  {
   "cell_type": "code",
   "execution_count": 48,
   "id": "aca94840",
   "metadata": {},
   "outputs": [],
   "source": [
    "VAdv_MAM_93 = np.mean(VAdv_MAM_93, axis = (1,2)).reshape(-1,1)\n",
    "VAdv_MAM_94 = np.mean(VAdv_MAM_94, axis = (1,2)).reshape(-1,1)\n",
    "VAdv_MAM_95 = np.mean(VAdv_MAM_95, axis = (1,2)).reshape(-1,1)\n",
    "VAdv_MAM_96 = np.mean(VAdv_MAM_96, axis = (1,2)).reshape(-1,1)\n",
    "VAdv_MAM_97 = np.mean(VAdv_MAM_97, axis = (1,2)).reshape(-1,1)\n",
    "VAdv_MAM_98 = np.mean(VAdv_MAM_98, axis = (1,2)).reshape(-1,1)\n",
    "VAdv_MAM_99 = np.mean(VAdv_MAM_99, axis = (1,2)).reshape(-1,1)\n",
    "VAdv_MAM_00 = np.mean(VAdv_MAM_00, axis = (1,2)).reshape(-1,1)\n",
    "VAdv_MAM_01 = np.mean(VAdv_MAM_01, axis = (1,2)).reshape(-1,1)\n",
    "VAdv_MAM_02 = np.mean(VAdv_MAM_02, axis = (1,2)).reshape(-1,1)\n",
    "VAdv_MAM_03 = np.mean(VAdv_MAM_03, axis = (1,2)).reshape(-1,1)\n",
    "VAdv_MAM_04 = np.mean(VAdv_MAM_04, axis = (1,2)).reshape(-1,1)\n",
    "VAdv_MAM_05 = np.mean(VAdv_MAM_05, axis = (1,2)).reshape(-1,1)\n",
    "VAdv_MAM_06 = np.mean(VAdv_MAM_06, axis = (1,2)).reshape(-1,1)\n",
    "VAdv_MAM_07 = np.mean(VAdv_MAM_07, axis = (1,2)).reshape(-1,1)\n",
    "VAdv_MAM_08 = np.mean(VAdv_MAM_08, axis = (1,2)).reshape(-1,1)\n",
    "VAdv_MAM_09 = np.mean(VAdv_MAM_09, axis = (1,2)).reshape(-1,1)\n",
    "VAdv_MAM_10 = np.mean(VAdv_MAM_10, axis = (1,2)).reshape(-1,1)\n",
    "VAdv_MAM_11 = np.mean(VAdv_MAM_11, axis = (1,2)).reshape(-1,1)\n",
    "VAdv_MAM_12 = np.mean(VAdv_MAM_12, axis = (1,2)).reshape(-1,1)\n",
    "VAdv_MAM_13 = np.mean(VAdv_MAM_13, axis = (1,2)).reshape(-1,1)\n",
    "VAdv_MAM_14 = np.mean(VAdv_MAM_14, axis = (1,2)).reshape(-1,1)\n",
    "VAdv_MAM_15 = np.mean(VAdv_MAM_15, axis = (1,2)).reshape(-1,1)\n",
    "VAdv_MAM_16 = np.mean(VAdv_MAM_16, axis = (1,2)).reshape(-1,1)\n",
    "VAdv_MAM_17 = np.mean(VAdv_MAM_17, axis = (1,2)).reshape(-1,1)\n",
    "VAdv_MAM_18 = np.mean(VAdv_MAM_18, axis = (1,2)).reshape(-1,1)\n",
    "VAdv_MAM_19 = np.mean(VAdv_MAM_19, axis = (1,2)).reshape(-1,1)"
   ]
  },
  {
   "cell_type": "code",
   "execution_count": 49,
   "id": "262fa8d3",
   "metadata": {},
   "outputs": [],
   "source": [
    "VAdv_MAM_93 = np.mean(VAdv_MAM_93).reshape(-1,1)\n",
    "VAdv_MAM_94 = np.mean(VAdv_MAM_94).reshape(-1,1)\n",
    "VAdv_MAM_95 = np.mean(VAdv_MAM_95).reshape(-1,1)\n",
    "VAdv_MAM_96 = np.mean(VAdv_MAM_96).reshape(-1,1)\n",
    "VAdv_MAM_97 = np.mean(VAdv_MAM_97).reshape(-1,1)\n",
    "VAdv_MAM_98 = np.mean(VAdv_MAM_98).reshape(-1,1)\n",
    "VAdv_MAM_99 = np.mean(VAdv_MAM_99).reshape(-1,1)\n",
    "VAdv_MAM_00 = np.mean(VAdv_MAM_00).reshape(-1,1)\n",
    "VAdv_MAM_01 = np.mean(VAdv_MAM_01).reshape(-1,1)\n",
    "VAdv_MAM_02 = np.mean(VAdv_MAM_02).reshape(-1,1)\n",
    "VAdv_MAM_03 = np.mean(VAdv_MAM_03).reshape(-1,1)\n",
    "VAdv_MAM_04 = np.mean(VAdv_MAM_04).reshape(-1,1)\n",
    "VAdv_MAM_05 = np.mean(VAdv_MAM_05).reshape(-1,1)\n",
    "VAdv_MAM_06 = np.mean(VAdv_MAM_06).reshape(-1,1)\n",
    "VAdv_MAM_07 = np.mean(VAdv_MAM_07).reshape(-1,1)\n",
    "VAdv_MAM_08 = np.mean(VAdv_MAM_08).reshape(-1,1)\n",
    "VAdv_MAM_09 = np.mean(VAdv_MAM_09).reshape(-1,1)\n",
    "VAdv_MAM_10 = np.mean(VAdv_MAM_10).reshape(-1,1)\n",
    "VAdv_MAM_11 = np.mean(VAdv_MAM_11).reshape(-1,1)\n",
    "VAdv_MAM_12 = np.mean(VAdv_MAM_12).reshape(-1,1)\n",
    "VAdv_MAM_13 = np.mean(VAdv_MAM_13).reshape(-1,1)\n",
    "VAdv_MAM_14 = np.mean(VAdv_MAM_14).reshape(-1,1)\n",
    "VAdv_MAM_15 = np.mean(VAdv_MAM_15).reshape(-1,1)\n",
    "VAdv_MAM_16 = np.mean(VAdv_MAM_16).reshape(-1,1)\n",
    "VAdv_MAM_17 = np.mean(VAdv_MAM_17).reshape(-1,1)\n",
    "VAdv_MAM_18 = np.mean(VAdv_MAM_18).reshape(-1,1)\n",
    "VAdv_MAM_19 = np.mean(VAdv_MAM_19).reshape(-1,1)"
   ]
  },
  {
   "cell_type": "code",
   "execution_count": 50,
   "id": "b1913597",
   "metadata": {},
   "outputs": [],
   "source": [
    "R_origin_MAM_93 = np.mean(R_origin_MAM_93, axis = (1,2)).reshape(-1,1)\n",
    "R_origin_MAM_94 = np.mean(R_origin_MAM_94, axis = (1,2)).reshape(-1,1)\n",
    "R_origin_MAM_95 = np.mean(R_origin_MAM_95, axis = (1,2)).reshape(-1,1)\n",
    "R_origin_MAM_96 = np.mean(R_origin_MAM_96, axis = (1,2)).reshape(-1,1)\n",
    "R_origin_MAM_97 = np.mean(R_origin_MAM_97, axis = (1,2)).reshape(-1,1)\n",
    "R_origin_MAM_98 = np.mean(R_origin_MAM_98, axis = (1,2)).reshape(-1,1)\n",
    "R_origin_MAM_99 = np.mean(R_origin_MAM_99, axis = (1,2)).reshape(-1,1)\n",
    "R_origin_MAM_00 = np.mean(R_origin_MAM_00, axis = (1,2)).reshape(-1,1)\n",
    "R_origin_MAM_01 = np.mean(R_origin_MAM_01, axis = (1,2)).reshape(-1,1)\n",
    "R_origin_MAM_02 = np.mean(R_origin_MAM_02, axis = (1,2)).reshape(-1,1)\n",
    "R_origin_MAM_03 = np.mean(R_origin_MAM_03, axis = (1,2)).reshape(-1,1)\n",
    "R_origin_MAM_04 = np.mean(R_origin_MAM_04, axis = (1,2)).reshape(-1,1)\n",
    "R_origin_MAM_05 = np.mean(R_origin_MAM_05, axis = (1,2)).reshape(-1,1)\n",
    "R_origin_MAM_06 = np.mean(R_origin_MAM_06, axis = (1,2)).reshape(-1,1)\n",
    "R_origin_MAM_07 = np.mean(R_origin_MAM_07, axis = (1,2)).reshape(-1,1)\n",
    "R_origin_MAM_08 = np.mean(R_origin_MAM_08, axis = (1,2)).reshape(-1,1)\n",
    "R_origin_MAM_09 = np.mean(R_origin_MAM_09, axis = (1,2)).reshape(-1,1)\n",
    "R_origin_MAM_10 = np.mean(R_origin_MAM_10, axis = (1,2)).reshape(-1,1)\n",
    "R_origin_MAM_11 = np.mean(R_origin_MAM_11, axis = (1,2)).reshape(-1,1)\n",
    "R_origin_MAM_12 = np.mean(R_origin_MAM_12, axis = (1,2)).reshape(-1,1)\n",
    "R_origin_MAM_13 = np.mean(R_origin_MAM_13, axis = (1,2)).reshape(-1,1)\n",
    "R_origin_MAM_14 = np.mean(R_origin_MAM_14, axis = (1,2)).reshape(-1,1)\n",
    "R_origin_MAM_15 = np.mean(R_origin_MAM_15, axis = (1,2)).reshape(-1,1)\n",
    "R_origin_MAM_16 = np.mean(R_origin_MAM_16, axis = (1,2)).reshape(-1,1)\n",
    "R_origin_MAM_17 = np.mean(R_origin_MAM_17, axis = (1,2)).reshape(-1,1)\n",
    "R_origin_MAM_18 = np.mean(R_origin_MAM_18, axis = (1,2)).reshape(-1,1)\n",
    "R_origin_MAM_19 = np.mean(R_origin_MAM_19, axis = (1,2)).reshape(-1,1)"
   ]
  },
  {
   "cell_type": "code",
   "execution_count": 51,
   "id": "17a33858",
   "metadata": {},
   "outputs": [],
   "source": [
    "R_origin_MAM_93 = np.mean(R_origin_MAM_93).reshape(-1,1)\n",
    "R_origin_MAM_94 = np.mean(R_origin_MAM_94).reshape(-1,1)\n",
    "R_origin_MAM_95 = np.mean(R_origin_MAM_95).reshape(-1,1)\n",
    "R_origin_MAM_96 = np.mean(R_origin_MAM_96).reshape(-1,1)\n",
    "R_origin_MAM_97 = np.mean(R_origin_MAM_97).reshape(-1,1)\n",
    "R_origin_MAM_98 = np.mean(R_origin_MAM_98).reshape(-1,1)\n",
    "R_origin_MAM_99 = np.mean(R_origin_MAM_99).reshape(-1,1)\n",
    "R_origin_MAM_00 = np.mean(R_origin_MAM_00).reshape(-1,1)\n",
    "R_origin_MAM_01 = np.mean(R_origin_MAM_01).reshape(-1,1)\n",
    "R_origin_MAM_02 = np.mean(R_origin_MAM_02).reshape(-1,1)\n",
    "R_origin_MAM_03 = np.mean(R_origin_MAM_03).reshape(-1,1)\n",
    "R_origin_MAM_04 = np.mean(R_origin_MAM_04).reshape(-1,1)\n",
    "R_origin_MAM_05 = np.mean(R_origin_MAM_05).reshape(-1,1)\n",
    "R_origin_MAM_06 = np.mean(R_origin_MAM_06).reshape(-1,1)\n",
    "R_origin_MAM_07 = np.mean(R_origin_MAM_07).reshape(-1,1)\n",
    "R_origin_MAM_08 = np.mean(R_origin_MAM_08).reshape(-1,1)\n",
    "R_origin_MAM_09 = np.mean(R_origin_MAM_09).reshape(-1,1)\n",
    "R_origin_MAM_10 = np.mean(R_origin_MAM_10).reshape(-1,1)\n",
    "R_origin_MAM_11 = np.mean(R_origin_MAM_11).reshape(-1,1)\n",
    "R_origin_MAM_12 = np.mean(R_origin_MAM_12).reshape(-1,1)\n",
    "R_origin_MAM_13 = np.mean(R_origin_MAM_13).reshape(-1,1)\n",
    "R_origin_MAM_14 = np.mean(R_origin_MAM_14).reshape(-1,1)\n",
    "R_origin_MAM_15 = np.mean(R_origin_MAM_15).reshape(-1,1)\n",
    "R_origin_MAM_16 = np.mean(R_origin_MAM_16).reshape(-1,1)\n",
    "R_origin_MAM_17 = np.mean(R_origin_MAM_17).reshape(-1,1)\n",
    "R_origin_MAM_18 = np.mean(R_origin_MAM_18).reshape(-1,1)\n",
    "R_origin_MAM_19 = np.mean(R_origin_MAM_19).reshape(-1,1)"
   ]
  },
  {
   "cell_type": "code",
   "execution_count": 52,
   "id": "ba13241a",
   "metadata": {},
   "outputs": [],
   "source": [
    "dT_dt_MAM_93 = np.mean(dT_dt_MAM_93, axis = (1,2)).reshape(-1,1)\n",
    "dT_dt_MAM_94 = np.mean(dT_dt_MAM_94, axis = (1,2)).reshape(-1,1)\n",
    "dT_dt_MAM_95 = np.mean(dT_dt_MAM_95, axis = (1,2)).reshape(-1,1)\n",
    "dT_dt_MAM_96 = np.mean(dT_dt_MAM_96, axis = (1,2)).reshape(-1,1)\n",
    "dT_dt_MAM_97 = np.mean(dT_dt_MAM_97, axis = (1,2)).reshape(-1,1)\n",
    "dT_dt_MAM_98 = np.mean(dT_dt_MAM_98, axis = (1,2)).reshape(-1,1)\n",
    "dT_dt_MAM_99 = np.mean(dT_dt_MAM_99, axis = (1,2)).reshape(-1,1)\n",
    "dT_dt_MAM_00 = np.mean(dT_dt_MAM_00, axis = (1,2)).reshape(-1,1)\n",
    "dT_dt_MAM_01 = np.mean(dT_dt_MAM_01, axis = (1,2)).reshape(-1,1)\n",
    "dT_dt_MAM_02 = np.mean(dT_dt_MAM_02, axis = (1,2)).reshape(-1,1)\n",
    "dT_dt_MAM_03 = np.mean(dT_dt_MAM_03, axis = (1,2)).reshape(-1,1)\n",
    "dT_dt_MAM_04 = np.mean(dT_dt_MAM_04, axis = (1,2)).reshape(-1,1)\n",
    "dT_dt_MAM_05 = np.mean(dT_dt_MAM_05, axis = (1,2)).reshape(-1,1)\n",
    "dT_dt_MAM_06 = np.mean(dT_dt_MAM_06, axis = (1,2)).reshape(-1,1)\n",
    "dT_dt_MAM_07 = np.mean(dT_dt_MAM_07, axis = (1,2)).reshape(-1,1)\n",
    "dT_dt_MAM_08 = np.mean(dT_dt_MAM_08, axis = (1,2)).reshape(-1,1)\n",
    "dT_dt_MAM_09 = np.mean(dT_dt_MAM_09, axis = (1,2)).reshape(-1,1)\n",
    "dT_dt_MAM_10 = np.mean(dT_dt_MAM_10, axis = (1,2)).reshape(-1,1)\n",
    "dT_dt_MAM_11 = np.mean(dT_dt_MAM_11, axis = (1,2)).reshape(-1,1)\n",
    "dT_dt_MAM_12 = np.mean(dT_dt_MAM_12, axis = (1,2)).reshape(-1,1)\n",
    "dT_dt_MAM_13 = np.mean(dT_dt_MAM_13, axis = (1,2)).reshape(-1,1)\n",
    "dT_dt_MAM_14 = np.mean(dT_dt_MAM_14, axis = (1,2)).reshape(-1,1)\n",
    "dT_dt_MAM_15 = np.mean(dT_dt_MAM_15, axis = (1,2)).reshape(-1,1)\n",
    "dT_dt_MAM_16 = np.mean(dT_dt_MAM_16, axis = (1,2)).reshape(-1,1)\n",
    "dT_dt_MAM_17 = np.mean(dT_dt_MAM_17, axis = (1,2)).reshape(-1,1)\n",
    "dT_dt_MAM_18 = np.mean(dT_dt_MAM_18, axis = (1,2)).reshape(-1,1)\n",
    "dT_dt_MAM_19 = np.mean(dT_dt_MAM_19, axis = (1,2)).reshape(-1,1)"
   ]
  },
  {
   "cell_type": "code",
   "execution_count": 53,
   "id": "4191b0e4",
   "metadata": {},
   "outputs": [],
   "source": [
    "dT_dt_MAM_93 = np.mean(dT_dt_MAM_93).reshape(-1,1)\n",
    "dT_dt_MAM_94 = np.mean(dT_dt_MAM_94).reshape(-1,1)\n",
    "dT_dt_MAM_95 = np.mean(dT_dt_MAM_95).reshape(-1,1)\n",
    "dT_dt_MAM_96 = np.mean(dT_dt_MAM_96).reshape(-1,1)\n",
    "dT_dt_MAM_97 = np.mean(dT_dt_MAM_97).reshape(-1,1)\n",
    "dT_dt_MAM_98 = np.mean(dT_dt_MAM_98).reshape(-1,1)\n",
    "dT_dt_MAM_99 = np.mean(dT_dt_MAM_99).reshape(-1,1)\n",
    "dT_dt_MAM_00 = np.mean(dT_dt_MAM_00).reshape(-1,1)\n",
    "dT_dt_MAM_01 = np.mean(dT_dt_MAM_01).reshape(-1,1)\n",
    "dT_dt_MAM_02 = np.mean(dT_dt_MAM_02).reshape(-1,1)\n",
    "dT_dt_MAM_03 = np.mean(dT_dt_MAM_03).reshape(-1,1)\n",
    "dT_dt_MAM_04 = np.mean(dT_dt_MAM_04).reshape(-1,1)\n",
    "dT_dt_MAM_05 = np.mean(dT_dt_MAM_05).reshape(-1,1)\n",
    "dT_dt_MAM_06 = np.mean(dT_dt_MAM_06).reshape(-1,1)\n",
    "dT_dt_MAM_07 = np.mean(dT_dt_MAM_07).reshape(-1,1)\n",
    "dT_dt_MAM_08 = np.mean(dT_dt_MAM_08).reshape(-1,1)\n",
    "dT_dt_MAM_09 = np.mean(dT_dt_MAM_09).reshape(-1,1)\n",
    "dT_dt_MAM_10 = np.mean(dT_dt_MAM_10).reshape(-1,1)\n",
    "dT_dt_MAM_11 = np.mean(dT_dt_MAM_11).reshape(-1,1)\n",
    "dT_dt_MAM_12 = np.mean(dT_dt_MAM_12).reshape(-1,1)\n",
    "dT_dt_MAM_13 = np.mean(dT_dt_MAM_13).reshape(-1,1)\n",
    "dT_dt_MAM_14 = np.mean(dT_dt_MAM_14).reshape(-1,1)\n",
    "dT_dt_MAM_15 = np.mean(dT_dt_MAM_15).reshape(-1,1)\n",
    "dT_dt_MAM_16 = np.mean(dT_dt_MAM_16).reshape(-1,1)\n",
    "dT_dt_MAM_17 = np.mean(dT_dt_MAM_17).reshape(-1,1)\n",
    "dT_dt_MAM_18 = np.mean(dT_dt_MAM_18).reshape(-1,1)\n",
    "dT_dt_MAM_19 = np.mean(dT_dt_MAM_19).reshape(-1,1)"
   ]
  },
  {
   "cell_type": "code",
   "execution_count": 54,
   "id": "1bba9a57",
   "metadata": {},
   "outputs": [],
   "source": [
    "R_recur_MAM_93 = np.mean(R_recur_MAM_93, axis = (1,2)).reshape(-1,1)\n",
    "R_recur_MAM_94 = np.mean(R_recur_MAM_94, axis = (1,2)).reshape(-1,1)\n",
    "R_recur_MAM_95 = np.mean(R_recur_MAM_95, axis = (1,2)).reshape(-1,1)\n",
    "R_recur_MAM_96 = np.mean(R_recur_MAM_96, axis = (1,2)).reshape(-1,1)\n",
    "R_recur_MAM_97 = np.mean(R_recur_MAM_97, axis = (1,2)).reshape(-1,1)\n",
    "R_recur_MAM_98 = np.mean(R_recur_MAM_98, axis = (1,2)).reshape(-1,1)\n",
    "R_recur_MAM_99 = np.mean(R_recur_MAM_99, axis = (1,2)).reshape(-1,1)\n",
    "R_recur_MAM_00 = np.mean(R_recur_MAM_00, axis = (1,2)).reshape(-1,1)\n",
    "R_recur_MAM_01 = np.mean(R_recur_MAM_01, axis = (1,2)).reshape(-1,1)\n",
    "R_recur_MAM_02 = np.mean(R_recur_MAM_02, axis = (1,2)).reshape(-1,1)\n",
    "R_recur_MAM_03 = np.mean(R_recur_MAM_03, axis = (1,2)).reshape(-1,1)\n",
    "R_recur_MAM_04 = np.mean(R_recur_MAM_04, axis = (1,2)).reshape(-1,1)\n",
    "R_recur_MAM_05 = np.mean(R_recur_MAM_05, axis = (1,2)).reshape(-1,1)\n",
    "R_recur_MAM_06 = np.mean(R_recur_MAM_06, axis = (1,2)).reshape(-1,1)\n",
    "R_recur_MAM_07 = np.mean(R_recur_MAM_07, axis = (1,2)).reshape(-1,1)\n",
    "R_recur_MAM_08 = np.mean(R_recur_MAM_08, axis = (1,2)).reshape(-1,1)\n",
    "R_recur_MAM_09 = np.mean(R_recur_MAM_09, axis = (1,2)).reshape(-1,1)\n",
    "R_recur_MAM_10 = np.mean(R_recur_MAM_10, axis = (1,2)).reshape(-1,1)\n",
    "R_recur_MAM_11 = np.mean(R_recur_MAM_11, axis = (1,2)).reshape(-1,1)\n",
    "R_recur_MAM_12 = np.mean(R_recur_MAM_12, axis = (1,2)).reshape(-1,1)\n",
    "R_recur_MAM_13 = np.mean(R_recur_MAM_13, axis = (1,2)).reshape(-1,1)\n",
    "R_recur_MAM_14 = np.mean(R_recur_MAM_14, axis = (1,2)).reshape(-1,1)\n",
    "R_recur_MAM_15 = np.mean(R_recur_MAM_15, axis = (1,2)).reshape(-1,1)\n",
    "R_recur_MAM_16 = np.mean(R_recur_MAM_16, axis = (1,2)).reshape(-1,1)\n",
    "R_recur_MAM_17 = np.mean(R_recur_MAM_17, axis = (1,2)).reshape(-1,1)\n",
    "R_recur_MAM_18 = np.mean(R_recur_MAM_18, axis = (1,2)).reshape(-1,1)\n",
    "R_recur_MAM_19 = np.mean(R_recur_MAM_19, axis = (1,2)).reshape(-1,1)"
   ]
  },
  {
   "cell_type": "code",
   "execution_count": 55,
   "id": "ab78a943",
   "metadata": {},
   "outputs": [],
   "source": [
    "R_recur_MAM_93 = np.mean(R_recur_MAM_93).reshape(-1,1)\n",
    "R_recur_MAM_94 = np.mean(R_recur_MAM_94).reshape(-1,1)\n",
    "R_recur_MAM_95 = np.mean(R_recur_MAM_95).reshape(-1,1)\n",
    "R_recur_MAM_96 = np.mean(R_recur_MAM_96).reshape(-1,1)\n",
    "R_recur_MAM_97 = np.mean(R_recur_MAM_97).reshape(-1,1)\n",
    "R_recur_MAM_98 = np.mean(R_recur_MAM_98).reshape(-1,1)\n",
    "R_recur_MAM_99 = np.mean(R_recur_MAM_99).reshape(-1,1)\n",
    "R_recur_MAM_00 = np.mean(R_recur_MAM_00).reshape(-1,1)\n",
    "R_recur_MAM_01 = np.mean(R_recur_MAM_01).reshape(-1,1)\n",
    "R_recur_MAM_02 = np.mean(R_recur_MAM_02).reshape(-1,1)\n",
    "R_recur_MAM_03 = np.mean(R_recur_MAM_03).reshape(-1,1)\n",
    "R_recur_MAM_04 = np.mean(R_recur_MAM_04).reshape(-1,1)\n",
    "R_recur_MAM_05 = np.mean(R_recur_MAM_05).reshape(-1,1)\n",
    "R_recur_MAM_06 = np.mean(R_recur_MAM_06).reshape(-1,1)\n",
    "R_recur_MAM_07 = np.mean(R_recur_MAM_07).reshape(-1,1)\n",
    "R_recur_MAM_08 = np.mean(R_recur_MAM_08).reshape(-1,1)\n",
    "R_recur_MAM_09 = np.mean(R_recur_MAM_09).reshape(-1,1)\n",
    "R_recur_MAM_10 = np.mean(R_recur_MAM_10).reshape(-1,1)\n",
    "R_recur_MAM_11 = np.mean(R_recur_MAM_11).reshape(-1,1)\n",
    "R_recur_MAM_12 = np.mean(R_recur_MAM_12).reshape(-1,1)\n",
    "R_recur_MAM_13 = np.mean(R_recur_MAM_13).reshape(-1,1)\n",
    "R_recur_MAM_14 = np.mean(R_recur_MAM_14).reshape(-1,1)\n",
    "R_recur_MAM_15 = np.mean(R_recur_MAM_15).reshape(-1,1)\n",
    "R_recur_MAM_16 = np.mean(R_recur_MAM_16).reshape(-1,1)\n",
    "R_recur_MAM_17 = np.mean(R_recur_MAM_17).reshape(-1,1)\n",
    "R_recur_MAM_18 = np.mean(R_recur_MAM_18).reshape(-1,1)\n",
    "R_recur_MAM_19 = np.mean(R_recur_MAM_19).reshape(-1,1)"
   ]
  },
  {
   "cell_type": "code",
   "execution_count": 121,
   "id": "666d3a6b",
   "metadata": {},
   "outputs": [
    {
     "data": {
      "text/plain": [
       "(1, 1)"
      ]
     },
     "execution_count": 121,
     "metadata": {},
     "output_type": "execute_result"
    }
   ],
   "source": [
    "Q_net_MAM_93.shape"
   ]
  },
  {
   "cell_type": "code",
   "execution_count": 122,
   "id": "bf501ab7",
   "metadata": {},
   "outputs": [
    {
     "data": {
      "text/plain": [
       "(27, 1)"
      ]
     },
     "execution_count": 122,
     "metadata": {},
     "output_type": "execute_result"
    }
   ],
   "source": [
    "Q_net_MAM_93_19 = np.concatenate((Q_net_MAM_93, Q_net_MAM_94, Q_net_MAM_95, Q_net_MAM_96,\n",
    "                                 Q_net_MAM_97, Q_net_MAM_98, Q_net_MAM_99, Q_net_MAM_00, Q_net_MAM_01,\n",
    "                                 Q_net_MAM_02, Q_net_MAM_03, Q_net_MAM_04, Q_net_MAM_05, Q_net_MAM_06,\n",
    "                                 Q_net_MAM_07, Q_net_MAM_08, Q_net_MAM_09, Q_net_MAM_10, Q_net_MAM_11,\n",
    "                                 Q_net_MAM_12, Q_net_MAM_13, Q_net_MAM_14, Q_net_MAM_15, Q_net_MAM_16,\n",
    "                                 Q_net_MAM_17, Q_net_MAM_18, Q_net_MAM_19), axis = 0)\n",
    "Q_net_MAM_93_19.shape"
   ]
  },
  {
   "cell_type": "code",
   "execution_count": 123,
   "id": "3a056c61",
   "metadata": {},
   "outputs": [
    {
     "data": {
      "text/plain": [
       "(27, 1)"
      ]
     },
     "execution_count": 123,
     "metadata": {},
     "output_type": "execute_result"
    }
   ],
   "source": [
    "ZAdv_MAM_93_19 = np.concatenate((ZAdv_MAM_93, ZAdv_MAM_94, ZAdv_MAM_95, ZAdv_MAM_96,\n",
    "                                 ZAdv_MAM_97, ZAdv_MAM_98, ZAdv_MAM_99, ZAdv_MAM_00, ZAdv_MAM_01,\n",
    "                                 ZAdv_MAM_02, ZAdv_MAM_03, ZAdv_MAM_04, ZAdv_MAM_05, ZAdv_MAM_06,\n",
    "                                 ZAdv_MAM_07, ZAdv_MAM_08, ZAdv_MAM_09, ZAdv_MAM_10, ZAdv_MAM_11,\n",
    "                                 ZAdv_MAM_12, ZAdv_MAM_13, ZAdv_MAM_14, ZAdv_MAM_15, ZAdv_MAM_16,\n",
    "                                 ZAdv_MAM_17, ZAdv_MAM_18, ZAdv_MAM_19), axis = 0)\n",
    "ZAdv_MAM_93_19.shape"
   ]
  },
  {
   "cell_type": "code",
   "execution_count": 124,
   "id": "ed9e017b",
   "metadata": {},
   "outputs": [
    {
     "data": {
      "text/plain": [
       "(27, 1)"
      ]
     },
     "execution_count": 124,
     "metadata": {},
     "output_type": "execute_result"
    }
   ],
   "source": [
    "MAdv_MAM_93_19 = np.concatenate((MAdv_MAM_93, MAdv_MAM_94, MAdv_MAM_95, MAdv_MAM_96,\n",
    "                                 MAdv_MAM_97, MAdv_MAM_98, MAdv_MAM_99, MAdv_MAM_00, MAdv_MAM_01,\n",
    "                                 MAdv_MAM_02, MAdv_MAM_03, MAdv_MAM_04, MAdv_MAM_05, MAdv_MAM_06,\n",
    "                                 MAdv_MAM_07, MAdv_MAM_08, MAdv_MAM_09, MAdv_MAM_10, MAdv_MAM_11,\n",
    "                                 MAdv_MAM_12, MAdv_MAM_13, MAdv_MAM_14, MAdv_MAM_15, MAdv_MAM_16,\n",
    "                                 MAdv_MAM_17, MAdv_MAM_18, MAdv_MAM_19), axis = 0)\n",
    "MAdv_MAM_93_19.shape"
   ]
  },
  {
   "cell_type": "code",
   "execution_count": 125,
   "id": "46d0dc06",
   "metadata": {},
   "outputs": [
    {
     "data": {
      "text/plain": [
       "(27, 1)"
      ]
     },
     "execution_count": 125,
     "metadata": {},
     "output_type": "execute_result"
    }
   ],
   "source": [
    "VAdv_MAM_93_19 = np.concatenate((VAdv_MAM_93, VAdv_MAM_94, VAdv_MAM_95, VAdv_MAM_96,\n",
    "                                 VAdv_MAM_97, VAdv_MAM_98, VAdv_MAM_99, VAdv_MAM_00, VAdv_MAM_01,\n",
    "                                 VAdv_MAM_02, VAdv_MAM_03, VAdv_MAM_04, VAdv_MAM_05, VAdv_MAM_06,\n",
    "                                 VAdv_MAM_07, VAdv_MAM_08, VAdv_MAM_09, VAdv_MAM_10, VAdv_MAM_11,\n",
    "                                 VAdv_MAM_12, VAdv_MAM_13, VAdv_MAM_14, VAdv_MAM_15, VAdv_MAM_16,\n",
    "                                 VAdv_MAM_17, VAdv_MAM_18, VAdv_MAM_19), axis = 0)\n",
    "VAdv_MAM_93_19.shape"
   ]
  },
  {
   "cell_type": "code",
   "execution_count": 126,
   "id": "5fae7482",
   "metadata": {},
   "outputs": [
    {
     "data": {
      "text/plain": [
       "(27, 1)"
      ]
     },
     "execution_count": 126,
     "metadata": {},
     "output_type": "execute_result"
    }
   ],
   "source": [
    "R_origin_MAM_93_19  = np.concatenate((R_origin_MAM_93 , R_origin_MAM_94, R_origin_MAM_95, R_origin_MAM_96,\n",
    "                                 R_origin_MAM_97, R_origin_MAM_98, R_origin_MAM_99, R_origin_MAM_00, R_origin_MAM_01,\n",
    "                                 R_origin_MAM_02, R_origin_MAM_03, R_origin_MAM_04, R_origin_MAM_05, R_origin_MAM_06,\n",
    "                                 R_origin_MAM_07, R_origin_MAM_08, R_origin_MAM_09, R_origin_MAM_10, R_origin_MAM_11,\n",
    "                                 R_origin_MAM_12, R_origin_MAM_13, R_origin_MAM_14, R_origin_MAM_15, R_origin_MAM_16,\n",
    "                                 R_origin_MAM_17, R_origin_MAM_18, R_origin_MAM_19), axis = 0)\n",
    "R_origin_MAM_93_19.shape"
   ]
  },
  {
   "cell_type": "code",
   "execution_count": 128,
   "id": "c7d7a2e9",
   "metadata": {},
   "outputs": [
    {
     "data": {
      "text/plain": [
       "(27, 1)"
      ]
     },
     "execution_count": 128,
     "metadata": {},
     "output_type": "execute_result"
    }
   ],
   "source": [
    "dT_dt_MAM_93_19  = np.concatenate((dT_dt_MAM_93 , dT_dt_MAM_94, dT_dt_MAM_95, dT_dt_MAM_96,\n",
    "                                 dT_dt_MAM_97, dT_dt_MAM_98, dT_dt_MAM_99, dT_dt_MAM_00, dT_dt_MAM_01,\n",
    "                                 dT_dt_MAM_02, dT_dt_MAM_03, dT_dt_MAM_04, dT_dt_MAM_05, dT_dt_MAM_06,\n",
    "                                 dT_dt_MAM_07, dT_dt_MAM_08, dT_dt_MAM_09, dT_dt_MAM_10, dT_dt_MAM_11,\n",
    "                                 dT_dt_MAM_12, dT_dt_MAM_13, dT_dt_MAM_14, dT_dt_MAM_15, dT_dt_MAM_16,\n",
    "                                 dT_dt_MAM_17, dT_dt_MAM_18, dT_dt_MAM_19), axis = 0)\n",
    "dT_dt_MAM_93_19.shape"
   ]
  },
  {
   "cell_type": "code",
   "execution_count": 129,
   "id": "29766ce4",
   "metadata": {},
   "outputs": [
    {
     "data": {
      "text/plain": [
       "(27, 1)"
      ]
     },
     "execution_count": 129,
     "metadata": {},
     "output_type": "execute_result"
    }
   ],
   "source": [
    "R_recur_MAM_93_19  = np.concatenate((R_recur_MAM_93 , R_recur_MAM_94, R_recur_MAM_95, R_recur_MAM_96,\n",
    "                                 R_recur_MAM_97, R_recur_MAM_98, R_recur_MAM_99, R_recur_MAM_00, R_recur_MAM_01,\n",
    "                                 R_recur_MAM_02, R_recur_MAM_03, R_recur_MAM_04, R_recur_MAM_05, R_recur_MAM_06,\n",
    "                                 R_recur_MAM_07, R_recur_MAM_08, R_recur_MAM_09, R_recur_MAM_10, R_recur_MAM_11,\n",
    "                                 R_recur_MAM_12, R_recur_MAM_13, R_recur_MAM_14, R_recur_MAM_15, R_recur_MAM_16,\n",
    "                                 R_recur_MAM_17, R_recur_MAM_18, R_recur_MAM_19), axis = 0)\n",
    "R_recur_MAM_93_19.shape"
   ]
  },
  {
   "cell_type": "code",
   "execution_count": null,
   "id": "9b6bc3fb",
   "metadata": {},
   "outputs": [],
   "source": []
  },
  {
   "cell_type": "code",
   "execution_count": null,
   "id": "4cf81b80",
   "metadata": {},
   "outputs": [],
   "source": []
  },
  {
   "cell_type": "code",
   "execution_count": null,
   "id": "1726fc75",
   "metadata": {},
   "outputs": [],
   "source": []
  },
  {
   "cell_type": "code",
   "execution_count": null,
   "id": "55bf979f",
   "metadata": {},
   "outputs": [],
   "source": []
  },
  {
   "cell_type": "code",
   "execution_count": 130,
   "id": "bb103910",
   "metadata": {},
   "outputs": [],
   "source": [
    "np.savez(r'D:\\heat_wave\\WEIO\\expand_WEIO\\last\\Figure1_MLD_eq\\MLD_equa_MAM.npz',\n",
    "        Q_net_MAM_93_19 = Q_net_MAM_93_19, ZAdv_MAM_93_19 = ZAdv_MAM_93_19,\n",
    "        MAdv_MAM_93_19 = MAdv_MAM_93_19, VAdv_MAM_93_19 = VAdv_MAM_93_19,\n",
    "        R_origin_MAM_93_19 = R_origin_MAM_93_19, dT_dt_MAM_93_19 = dT_dt_MAM_93_19,\n",
    "        R_recur_MAM_93_19 = R_recur_MAM_93_19)"
   ]
  },
  {
   "cell_type": "code",
   "execution_count": null,
   "id": "37061f32",
   "metadata": {},
   "outputs": [],
   "source": []
  }
 ],
 "metadata": {
  "kernelspec": {
   "display_name": "Python 3 (ipykernel)",
   "language": "python",
   "name": "python3"
  },
  "language_info": {
   "codemirror_mode": {
    "name": "ipython",
    "version": 3
   },
   "file_extension": ".py",
   "mimetype": "text/x-python",
   "name": "python",
   "nbconvert_exporter": "python",
   "pygments_lexer": "ipython3",
   "version": "3.8.12"
  }
 },
 "nbformat": 4,
 "nbformat_minor": 5
}

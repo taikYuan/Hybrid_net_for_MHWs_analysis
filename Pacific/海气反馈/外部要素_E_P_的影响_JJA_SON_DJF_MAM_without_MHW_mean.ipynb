{
 "cells": [
  {
   "cell_type": "code",
   "execution_count": 1,
   "id": "e932c38f",
   "metadata": {},
   "outputs": [],
   "source": [
    "import numpy as np \n",
    "import matplotlib.pyplot as plt"
   ]
  },
  {
   "cell_type": "code",
   "execution_count": 2,
   "id": "a0999fb2",
   "metadata": {},
   "outputs": [
    {
     "name": "stdout",
     "output_type": "stream",
     "text": [
      "['lat', 'lon', 'low_cloud_cover']\n"
     ]
    }
   ],
   "source": [
    "data = np.load(r'D:\\博士工作\\第三篇论文_MHW_AI\\data\\pacific\\last\\low_cloud\\low_cloud_cover_pacific_chazhi.npz')\n",
    "print(data.files) # ['sst_obser', 'slfh', 'sshf', 'ssr', 'str', 'mld', 'analysis_temp', 'u', 'v', 'T_d', 'u_d', 'v_d', 'xx', 'yy', 'dT_dt', 'dT_dx', 'dT_dy']"
   ]
  },
  {
   "cell_type": "code",
   "execution_count": 3,
   "id": "15ec6ddc",
   "metadata": {},
   "outputs": [
    {
     "data": {
      "text/plain": [
       "(9861, 41, 201)"
      ]
     },
     "execution_count": 3,
     "metadata": {},
     "output_type": "execute_result"
    }
   ],
   "source": [
    "low_cloud_cover = data['low_cloud_cover'][:]\n",
    "low_cloud_cover.shape"
   ]
  },
  {
   "cell_type": "code",
   "execution_count": 4,
   "id": "39dd06fd",
   "metadata": {},
   "outputs": [
    {
     "name": "stdout",
     "output_type": "stream",
     "text": [
      "['lat', 'lon', 'potential_evaporation']\n"
     ]
    }
   ],
   "source": [
    "data1 = np.load(r'D:\\博士工作\\第三篇论文_MHW_AI\\data\\pacific\\last\\low_cloud\\potential_evaporation_pacific_chazhi.npz')\n",
    "print(data1.files) # ['sst_obser', 'slfh', 'sshf', 'ssr', 'str', 'mld', 'analysis_temp', 'u', 'v', 'T_d', 'u_d', 'v_d', 'xx', 'yy', 'dT_dt', 'dT_dx', 'dT_dy']"
   ]
  },
  {
   "cell_type": "code",
   "execution_count": 5,
   "id": "c2e7b7e0",
   "metadata": {},
   "outputs": [
    {
     "data": {
      "text/plain": [
       "(9861, 41, 201)"
      ]
     },
     "execution_count": 5,
     "metadata": {},
     "output_type": "execute_result"
    }
   ],
   "source": [
    "potential_evaporation = data1['potential_evaporation'][:]\n",
    "potential_evaporation.shape"
   ]
  },
  {
   "cell_type": "code",
   "execution_count": 6,
   "id": "c5a79f96",
   "metadata": {},
   "outputs": [],
   "source": [
    "sea_surface_height_above_geoid = low_cloud_cover\n",
    "sea_surface_height_above_sea_level = potential_evaporation"
   ]
  },
  {
   "cell_type": "code",
   "execution_count": 7,
   "id": "0d231ad1",
   "metadata": {},
   "outputs": [],
   "source": [
    "# JJA   93\n",
    "date_93_1 = 151\n",
    "date_93_2 = 243\n",
    "data_1 = date_93_1\n",
    "data_2 = date_93_2\n",
    "\n",
    "sea_surface_height_above_geoid_93 = sea_surface_height_above_geoid[data_1:data_2,:,:]\n",
    "sea_surface_height_above_sea_level_93 = sea_surface_height_above_sea_level[data_1:data_2,:,:]"
   ]
  },
  {
   "cell_type": "code",
   "execution_count": 8,
   "id": "59fa3afe",
   "metadata": {},
   "outputs": [],
   "source": [
    "# JJA   94\n",
    "date_94_1 = 516\n",
    "date_94_2 = 608\n",
    "data_1 = date_94_1\n",
    "data_2 = date_94_2\n",
    "\n",
    "sea_surface_height_above_geoid_94 = sea_surface_height_above_geoid[data_1:data_2,:,:]\n",
    "sea_surface_height_above_sea_level_94 = sea_surface_height_above_sea_level[data_1:data_2,:,:]"
   ]
  },
  {
   "cell_type": "code",
   "execution_count": 9,
   "id": "cbe3fb1f",
   "metadata": {},
   "outputs": [],
   "source": [
    "# JJA   95\n",
    "date_95_1 = 881\n",
    "date_95_2 = 973\n",
    "data_1 = date_95_1\n",
    "data_2 = date_95_2\n",
    "\n",
    "sea_surface_height_above_geoid_95 = sea_surface_height_above_geoid[data_1:data_2,:,:]\n",
    "sea_surface_height_above_sea_level_95 = sea_surface_height_above_sea_level[data_1:data_2,:,:]"
   ]
  },
  {
   "cell_type": "code",
   "execution_count": 10,
   "id": "e5764ab7",
   "metadata": {},
   "outputs": [],
   "source": [
    "# JJA   96\n",
    "date_96_1 = 1247\n",
    "date_96_2 = 1339\n",
    "data_1 = date_96_1\n",
    "data_2 = date_96_2\n",
    "\n",
    "sea_surface_height_above_geoid_96 = sea_surface_height_above_geoid[data_1:data_2,:,:]\n",
    "sea_surface_height_above_sea_level_96 = sea_surface_height_above_sea_level[data_1:data_2,:,:]"
   ]
  },
  {
   "cell_type": "code",
   "execution_count": 11,
   "id": "89ca4ac9",
   "metadata": {},
   "outputs": [],
   "source": [
    "# JJA   97\n",
    "date_97_1 = 1612\n",
    "date_97_2 = 1704\n",
    "data_1 = date_97_1\n",
    "data_2 = date_97_2\n",
    "\n",
    "sea_surface_height_above_geoid_97 = sea_surface_height_above_geoid[data_1:data_2,:,:]\n",
    "sea_surface_height_above_sea_level_97 = sea_surface_height_above_sea_level[data_1:data_2,:,:]"
   ]
  },
  {
   "cell_type": "code",
   "execution_count": 12,
   "id": "398e04fe",
   "metadata": {},
   "outputs": [],
   "source": [
    "# JJA   98\n",
    "date_98_1 = 1977\n",
    "date_98_2 = 2069\n",
    "data_1 = date_98_1\n",
    "data_2 = date_98_2\n",
    "\n",
    "sea_surface_height_above_geoid_98 = sea_surface_height_above_geoid[data_1:data_2,:,:]\n",
    "sea_surface_height_above_sea_level_98 = sea_surface_height_above_sea_level[data_1:data_2,:,:]"
   ]
  },
  {
   "cell_type": "code",
   "execution_count": 13,
   "id": "dd92f91f",
   "metadata": {},
   "outputs": [],
   "source": [
    "# JJA   99\n",
    "date_99_1 = 2324\n",
    "date_99_2 = 2434\n",
    "data_1 = date_99_1\n",
    "data_2 = date_99_2\n",
    "\n",
    "sea_surface_height_above_geoid_99 = sea_surface_height_above_geoid[data_1:data_2,:,:]\n",
    "sea_surface_height_above_sea_level_99 = sea_surface_height_above_sea_level[data_1:data_2,:,:]"
   ]
  },
  {
   "cell_type": "code",
   "execution_count": 14,
   "id": "6dea960c",
   "metadata": {},
   "outputs": [],
   "source": [
    "# JJA   00\n",
    "date_00_1 = 2708\n",
    "date_00_2 = 2799\n",
    "data_1 = date_00_1\n",
    "data_2 = date_00_2\n",
    "\n",
    "sea_surface_height_above_geoid_00 = sea_surface_height_above_geoid[data_1:data_2,:,:]\n",
    "sea_surface_height_above_sea_level_00 = sea_surface_height_above_sea_level[data_1:data_2,:,:]"
   ]
  },
  {
   "cell_type": "code",
   "execution_count": 15,
   "id": "83291e86",
   "metadata": {},
   "outputs": [],
   "source": [
    "# JJA   01\n",
    "date_01_1 = 3073\n",
    "date_01_2 = 3165\n",
    "data_1 = date_01_1\n",
    "data_2 = date_01_2\n",
    "\n",
    "sea_surface_height_above_geoid_01 = sea_surface_height_above_geoid[data_1:data_2,:,:]\n",
    "sea_surface_height_above_sea_level_01 = sea_surface_height_above_sea_level[data_1:data_2,:,:]"
   ]
  },
  {
   "cell_type": "code",
   "execution_count": 16,
   "id": "01977cdc",
   "metadata": {},
   "outputs": [],
   "source": [
    "# JJA   02\n",
    "date_02_1 = 3438\n",
    "date_02_2 = 3529\n",
    "data_1 = date_02_1\n",
    "data_2 = date_02_2\n",
    "\n",
    "sea_surface_height_above_geoid_02 = sea_surface_height_above_geoid[data_1:data_2,:,:]\n",
    "sea_surface_height_above_sea_level_02 = sea_surface_height_above_sea_level[data_1:data_2,:,:]"
   ]
  },
  {
   "cell_type": "code",
   "execution_count": 17,
   "id": "6a9d0f9d",
   "metadata": {},
   "outputs": [],
   "source": [
    "# JJA   03\n",
    "date_03_1 = 3803\n",
    "date_03_2 = 3895\n",
    "data_1 = date_03_1\n",
    "data_2 = date_03_2\n",
    "\n",
    "sea_surface_height_above_geoid_03 = sea_surface_height_above_geoid[data_1:data_2,:,:]\n",
    "sea_surface_height_above_sea_level_03 = sea_surface_height_above_sea_level[data_1:data_2,:,:]"
   ]
  },
  {
   "cell_type": "code",
   "execution_count": 18,
   "id": "45cd16ac",
   "metadata": {},
   "outputs": [],
   "source": [
    "# JJA   04\n",
    "date_04_1 = 4169\n",
    "date_04_2 = 4261\n",
    "data_1 = date_04_1\n",
    "data_2 = date_04_2\n",
    "\n",
    "sea_surface_height_above_geoid_04 = sea_surface_height_above_geoid[data_1:data_2,:,:]\n",
    "sea_surface_height_above_sea_level_04 = sea_surface_height_above_sea_level[data_1:data_2,:,:]"
   ]
  },
  {
   "cell_type": "code",
   "execution_count": 19,
   "id": "5572e513",
   "metadata": {},
   "outputs": [],
   "source": [
    "# JJA   05\n",
    "date_05_1 = 4534\n",
    "date_05_2 = 4626\n",
    "data_1 = date_05_1\n",
    "data_2 = date_05_2\n",
    "\n",
    "sea_surface_height_above_geoid_05 = sea_surface_height_above_geoid[data_1:data_2,:,:]\n",
    "sea_surface_height_above_sea_level_05 = sea_surface_height_above_sea_level[data_1:data_2,:,:]"
   ]
  },
  {
   "cell_type": "code",
   "execution_count": 20,
   "id": "2c547f7f",
   "metadata": {},
   "outputs": [],
   "source": [
    "# JJA   06\n",
    "date_06_1 = 4899\n",
    "date_06_2 = 4990\n",
    "data_1 = date_06_1\n",
    "data_2 = date_06_2\n",
    "\n",
    "sea_surface_height_above_geoid_06 = sea_surface_height_above_geoid[data_1:data_2,:,:]\n",
    "sea_surface_height_above_sea_level_06 = sea_surface_height_above_sea_level[data_1:data_2,:,:]"
   ]
  },
  {
   "cell_type": "code",
   "execution_count": 21,
   "id": "76b49d7d",
   "metadata": {},
   "outputs": [],
   "source": [
    "# JJA   07\n",
    "date_07_1 = 5264\n",
    "date_07_2 = 5356\n",
    "data_1 = date_07_1\n",
    "data_2 = date_07_2\n",
    "\n",
    "sea_surface_height_above_geoid_07 = sea_surface_height_above_geoid[data_1:data_2,:,:]\n",
    "sea_surface_height_above_sea_level_07 = sea_surface_height_above_sea_level[data_1:data_2,:,:]"
   ]
  },
  {
   "cell_type": "code",
   "execution_count": 22,
   "id": "2b871aa2",
   "metadata": {},
   "outputs": [],
   "source": [
    "# JJA   08\n",
    "date_08_1 = 5630\n",
    "date_08_2 = 5722\n",
    "data_1 = date_08_1\n",
    "data_2 = date_08_2\n",
    "\n",
    "sea_surface_height_above_geoid_08 = sea_surface_height_above_geoid[data_1:data_2,:,:]\n",
    "sea_surface_height_above_sea_level_08 = sea_surface_height_above_sea_level[data_1:data_2,:,:]"
   ]
  },
  {
   "cell_type": "code",
   "execution_count": 23,
   "id": "8f6807ab",
   "metadata": {},
   "outputs": [],
   "source": [
    "# JJA   09\n",
    "date_09_1 = 5995\n",
    "date_09_2 = 6087\n",
    "data_1 = date_09_1\n",
    "data_2 = date_09_2\n",
    "\n",
    "sea_surface_height_above_geoid_09 = sea_surface_height_above_geoid[data_1:data_2,:,:]\n",
    "sea_surface_height_above_sea_level_09 = sea_surface_height_above_sea_level[data_1:data_2,:,:]"
   ]
  },
  {
   "cell_type": "code",
   "execution_count": 24,
   "id": "80ee3c43",
   "metadata": {},
   "outputs": [],
   "source": [
    "# JJA   10\n",
    "date_10_1 = 6360\n",
    "date_10_2 = 6452\n",
    "data_1 = date_10_1\n",
    "data_2 = date_10_2\n",
    "\n",
    "sea_surface_height_above_geoid_10 = sea_surface_height_above_geoid[data_1:data_2,:,:]\n",
    "sea_surface_height_above_sea_level_10 = sea_surface_height_above_sea_level[data_1:data_2,:,:]"
   ]
  },
  {
   "cell_type": "code",
   "execution_count": 25,
   "id": "87a5907a",
   "metadata": {},
   "outputs": [],
   "source": [
    "# JJA   11\n",
    "date_11_1 = 6725\n",
    "date_11_2 = 6817\n",
    "data_1 = date_11_1\n",
    "data_2 = date_11_2\n",
    "\n",
    "sea_surface_height_above_geoid_11 = sea_surface_height_above_geoid[data_1:data_2,:,:]\n",
    "sea_surface_height_above_sea_level_11 = sea_surface_height_above_sea_level[data_1:data_2,:,:]"
   ]
  },
  {
   "cell_type": "code",
   "execution_count": 26,
   "id": "15af53fe",
   "metadata": {},
   "outputs": [],
   "source": [
    "# JJA   12\n",
    "date_12_1 = 7091\n",
    "date_12_2 = 7183\n",
    "data_1 = date_12_1\n",
    "data_2 = date_12_2\n",
    "\n",
    "sea_surface_height_above_geoid_12 = sea_surface_height_above_geoid[data_1:data_2,:,:]\n",
    "sea_surface_height_above_sea_level_12 = sea_surface_height_above_sea_level[data_1:data_2,:,:]"
   ]
  },
  {
   "cell_type": "code",
   "execution_count": 27,
   "id": "0af2a1e5",
   "metadata": {},
   "outputs": [],
   "source": [
    "# JJA   13\n",
    "date_13_1 = 7456\n",
    "date_13_2 = 7548\n",
    "data_1 = date_13_1\n",
    "data_2 = date_13_2\n",
    "\n",
    "sea_surface_height_above_geoid_13 = sea_surface_height_above_geoid[data_1:data_2,:,:]\n",
    "sea_surface_height_above_sea_level_13 = sea_surface_height_above_sea_level[data_1:data_2,:,:]"
   ]
  },
  {
   "cell_type": "code",
   "execution_count": 28,
   "id": "3e564a33",
   "metadata": {},
   "outputs": [],
   "source": [
    "# JJA   14\n",
    "date_14_1 = 7821\n",
    "date_14_2 = 7913\n",
    "data_1 = date_14_1\n",
    "data_2 = date_14_2\n",
    "\n",
    "sea_surface_height_above_geoid_14 = sea_surface_height_above_geoid[data_1:data_2,:,:]\n",
    "sea_surface_height_above_sea_level_14 = sea_surface_height_above_sea_level[data_1:data_2,:,:]"
   ]
  },
  {
   "cell_type": "code",
   "execution_count": 29,
   "id": "6e03a4b0",
   "metadata": {},
   "outputs": [],
   "source": [
    "# JJA   15\n",
    "date_15_1 = 8186\n",
    "date_15_2 = 8278\n",
    "data_1 = date_15_1\n",
    "data_2 = date_15_2\n",
    "\n",
    "sea_surface_height_above_geoid_15 = sea_surface_height_above_geoid[data_1:data_2,:,:]\n",
    "sea_surface_height_above_sea_level_15 = sea_surface_height_above_sea_level[data_1:data_2,:,:]"
   ]
  },
  {
   "cell_type": "code",
   "execution_count": 30,
   "id": "022b3e2a",
   "metadata": {},
   "outputs": [],
   "source": [
    "# JJA   16\n",
    "date_16_1 = 8552\n",
    "date_16_2 = 8644\n",
    "data_1 = date_16_1\n",
    "data_2 = date_16_2\n",
    "\n",
    "sea_surface_height_above_geoid_16 = sea_surface_height_above_geoid[data_1:data_2,:,:]\n",
    "sea_surface_height_above_sea_level_16 = sea_surface_height_above_sea_level[data_1:data_2,:,:]"
   ]
  },
  {
   "cell_type": "code",
   "execution_count": 31,
   "id": "5a8b2f49",
   "metadata": {},
   "outputs": [],
   "source": [
    "# JJA   17\n",
    "date_17_1 = 8917\n",
    "date_17_2 = 9009\n",
    "data_1 = date_17_1\n",
    "data_2 = date_17_2\n",
    "\n",
    "sea_surface_height_above_geoid_17 = sea_surface_height_above_geoid[data_1:data_2,:,:]\n",
    "sea_surface_height_above_sea_level_17 = sea_surface_height_above_sea_level[data_1:data_2,:,:]"
   ]
  },
  {
   "cell_type": "code",
   "execution_count": 32,
   "id": "d99ff2bf",
   "metadata": {},
   "outputs": [],
   "source": [
    "# JJA   18\n",
    "date_18_1 = 9282\n",
    "date_18_2 = 9374\n",
    "data_1 = date_18_1\n",
    "data_2 = date_18_2\n",
    "\n",
    "sea_surface_height_above_geoid_18 = sea_surface_height_above_geoid[data_1:data_2,:,:]\n",
    "sea_surface_height_above_sea_level_18 = sea_surface_height_above_sea_level[data_1:data_2,:,:]"
   ]
  },
  {
   "cell_type": "code",
   "execution_count": 33,
   "id": "76322589",
   "metadata": {},
   "outputs": [],
   "source": [
    "# JJA   19\n",
    "date_19_1 = 9647\n",
    "date_19_2 = 9739\n",
    "data_1 = date_19_1\n",
    "data_2 = date_19_2\n",
    "\n",
    "sea_surface_height_above_geoid_19 = sea_surface_height_above_geoid[data_1:data_2,:,:]\n",
    "sea_surface_height_above_sea_level_19 = sea_surface_height_above_sea_level[data_1:data_2,:,:]"
   ]
  },
  {
   "cell_type": "code",
   "execution_count": 34,
   "id": "c63af7ab",
   "metadata": {},
   "outputs": [
    {
     "data": {
      "text/plain": [
       "(92, 41, 201)"
      ]
     },
     "execution_count": 34,
     "metadata": {},
     "output_type": "execute_result"
    }
   ],
   "source": [
    "sea_surface_height_above_geoid_19.shape"
   ]
  },
  {
   "cell_type": "code",
   "execution_count": 35,
   "id": "2dbfbed9",
   "metadata": {},
   "outputs": [],
   "source": [
    "sea_surface_height_above_geoid_93_mean = np.mean((sea_surface_height_above_geoid_93), axis = (0,1,2)).reshape(-1,1)"
   ]
  },
  {
   "cell_type": "code",
   "execution_count": 36,
   "id": "16709297",
   "metadata": {},
   "outputs": [],
   "source": [
    "sea_surface_height_above_geoid_94_mean = np.mean((sea_surface_height_above_geoid_94), axis = (0,1,2)).reshape(-1,1)\n",
    "sea_surface_height_above_geoid_95_mean = np.mean((sea_surface_height_above_geoid_95), axis = (0,1,2)).reshape(-1,1)\n",
    "sea_surface_height_above_geoid_96_mean = np.mean((sea_surface_height_above_geoid_96), axis = (0,1,2)).reshape(-1,1)\n",
    "sea_surface_height_above_geoid_97_mean = np.mean((sea_surface_height_above_geoid_97), axis = (0,1,2)).reshape(-1,1)\n",
    "sea_surface_height_above_geoid_98_mean = np.mean((sea_surface_height_above_geoid_98), axis = (0,1,2)).reshape(-1,1)\n",
    "sea_surface_height_above_geoid_99_mean = np.mean((sea_surface_height_above_geoid_99), axis = (0,1,2)).reshape(-1,1)\n",
    "sea_surface_height_above_geoid_00_mean = np.mean((sea_surface_height_above_geoid_00), axis = (0,1,2)).reshape(-1,1)\n",
    "sea_surface_height_above_geoid_01_mean = np.mean((sea_surface_height_above_geoid_01), axis = (0,1,2)).reshape(-1,1)\n",
    "sea_surface_height_above_geoid_02_mean = np.mean((sea_surface_height_above_geoid_02), axis = (0,1,2)).reshape(-1,1)\n",
    "sea_surface_height_above_geoid_03_mean = np.mean((sea_surface_height_above_geoid_03), axis = (0,1,2)).reshape(-1,1)\n",
    "sea_surface_height_above_geoid_04_mean = np.mean((sea_surface_height_above_geoid_04), axis = (0,1,2)).reshape(-1,1)\n",
    "sea_surface_height_above_geoid_05_mean = np.mean((sea_surface_height_above_geoid_05), axis = (0,1,2)).reshape(-1,1)\n",
    "sea_surface_height_above_geoid_06_mean = np.mean((sea_surface_height_above_geoid_06), axis = (0,1,2)).reshape(-1,1)\n",
    "sea_surface_height_above_geoid_07_mean = np.mean((sea_surface_height_above_geoid_07), axis = (0,1,2)).reshape(-1,1)\n",
    "sea_surface_height_above_geoid_08_mean = np.mean((sea_surface_height_above_geoid_08), axis = (0,1,2)).reshape(-1,1)\n",
    "sea_surface_height_above_geoid_09_mean = np.mean((sea_surface_height_above_geoid_09), axis = (0,1,2)).reshape(-1,1)\n",
    "sea_surface_height_above_geoid_10_mean = np.mean((sea_surface_height_above_geoid_10), axis = (0,1,2)).reshape(-1,1)\n",
    "sea_surface_height_above_geoid_11_mean = np.mean((sea_surface_height_above_geoid_11), axis = (0,1,2)).reshape(-1,1)\n",
    "sea_surface_height_above_geoid_12_mean = np.mean((sea_surface_height_above_geoid_12), axis = (0,1,2)).reshape(-1,1)\n",
    "sea_surface_height_above_geoid_13_mean = np.mean((sea_surface_height_above_geoid_13), axis = (0,1,2)).reshape(-1,1)\n",
    "sea_surface_height_above_geoid_14_mean = np.mean((sea_surface_height_above_geoid_14), axis = (0,1,2)).reshape(-1,1)\n",
    "sea_surface_height_above_geoid_15_mean = np.mean((sea_surface_height_above_geoid_15), axis = (0,1,2)).reshape(-1,1)\n",
    "sea_surface_height_above_geoid_16_mean = np.mean((sea_surface_height_above_geoid_16), axis = (0,1,2)).reshape(-1,1)\n",
    "sea_surface_height_above_geoid_17_mean = np.mean((sea_surface_height_above_geoid_17), axis = (0,1,2)).reshape(-1,1)\n",
    "sea_surface_height_above_geoid_18_mean = np.mean((sea_surface_height_above_geoid_18), axis = (0,1,2)).reshape(-1,1)\n",
    "sea_surface_height_above_geoid_19_mean = np.mean((sea_surface_height_above_geoid_19), axis = (0,1,2)).reshape(-1,1)"
   ]
  },
  {
   "cell_type": "code",
   "execution_count": 37,
   "id": "694e4ce5",
   "metadata": {},
   "outputs": [],
   "source": [
    "sea_surface_height_above_geoid_93_19_mean = np.concatenate((sea_surface_height_above_geoid_93,\n",
    "sea_surface_height_above_geoid_94, sea_surface_height_above_geoid_95, sea_surface_height_above_geoid_96,\n",
    "                                                           sea_surface_height_above_geoid_97, sea_surface_height_above_geoid_98,\n",
    "                                                           sea_surface_height_above_geoid_99, sea_surface_height_above_geoid_00,\n",
    "                                                           sea_surface_height_above_geoid_01, sea_surface_height_above_geoid_02,\n",
    "                                                           sea_surface_height_above_geoid_03, sea_surface_height_above_geoid_04,\n",
    "                                                           sea_surface_height_above_geoid_05, sea_surface_height_above_geoid_06,\n",
    "                                                           sea_surface_height_above_geoid_07, sea_surface_height_above_geoid_08,\n",
    "                                                           sea_surface_height_above_geoid_09, sea_surface_height_above_geoid_10,\n",
    "                                                           sea_surface_height_above_geoid_11, sea_surface_height_above_geoid_12,\n",
    "                                                           sea_surface_height_above_geoid_13, sea_surface_height_above_geoid_14,\n",
    "                                                           sea_surface_height_above_geoid_15, sea_surface_height_above_geoid_16,\n",
    "                                                           sea_surface_height_above_geoid_17, sea_surface_height_above_geoid_18,\n",
    "                                                           sea_surface_height_above_geoid_19), axis = 0)"
   ]
  },
  {
   "cell_type": "code",
   "execution_count": 38,
   "id": "89da0df9",
   "metadata": {},
   "outputs": [],
   "source": [
    "sea_surface_height_above_geoid_93_19_mean = np.mean((sea_surface_height_above_geoid_93_19_mean), axis = (1,2))"
   ]
  },
  {
   "cell_type": "code",
   "execution_count": 39,
   "id": "b9316af6",
   "metadata": {},
   "outputs": [],
   "source": [
    "sea_surface_height_above_geoid_93_19_mean_all = np.concatenate((sea_surface_height_above_geoid_93_mean,\n",
    "sea_surface_height_above_geoid_94_mean, sea_surface_height_above_geoid_95_mean, \n",
    "                                                                sea_surface_height_above_geoid_96_mean,\n",
    "                                                           sea_surface_height_above_geoid_97_mean, sea_surface_height_above_geoid_98_mean,\n",
    "                                                           sea_surface_height_above_geoid_99_mean, sea_surface_height_above_geoid_00_mean,\n",
    "                                                           sea_surface_height_above_geoid_01_mean, sea_surface_height_above_geoid_02_mean,\n",
    "                                                           sea_surface_height_above_geoid_03_mean, sea_surface_height_above_geoid_04_mean,\n",
    "                                                           sea_surface_height_above_geoid_05_mean, sea_surface_height_above_geoid_06_mean,\n",
    "                                                           sea_surface_height_above_geoid_07_mean, sea_surface_height_above_geoid_08_mean,\n",
    "                                                           sea_surface_height_above_geoid_09_mean, sea_surface_height_above_geoid_10_mean,\n",
    "                                                           sea_surface_height_above_geoid_11_mean, sea_surface_height_above_geoid_12_mean,\n",
    "                                                           sea_surface_height_above_geoid_13_mean, sea_surface_height_above_geoid_14_mean,\n",
    "                                                           sea_surface_height_above_geoid_15_mean, sea_surface_height_above_geoid_16_mean,\n",
    "                                                           sea_surface_height_above_geoid_17_mean, sea_surface_height_above_geoid_18_mean,\n",
    "                                                           sea_surface_height_above_geoid_19_mean), axis = 0)"
   ]
  },
  {
   "cell_type": "code",
   "execution_count": 40,
   "id": "3505a911",
   "metadata": {},
   "outputs": [
    {
     "data": {
      "text/plain": [
       "(27, 1)"
      ]
     },
     "execution_count": 40,
     "metadata": {},
     "output_type": "execute_result"
    }
   ],
   "source": [
    "sea_surface_height_above_geoid_93_19_mean_all.shape"
   ]
  },
  {
   "cell_type": "code",
   "execution_count": 41,
   "id": "2c10b9b8",
   "metadata": {},
   "outputs": [],
   "source": [
    "sea_surface_height_above_sea_level_93_mean = np.mean((sea_surface_height_above_sea_level_93), axis = (0,1,2)).reshape(-1,1)\n",
    "sea_surface_height_above_sea_level_94_mean = np.mean((sea_surface_height_above_sea_level_94), axis = (0,1,2)).reshape(-1,1)\n",
    "sea_surface_height_above_sea_level_95_mean = np.mean((sea_surface_height_above_sea_level_95), axis = (0,1,2)).reshape(-1,1)\n",
    "sea_surface_height_above_sea_level_96_mean = np.mean((sea_surface_height_above_sea_level_96), axis = (0,1,2)).reshape(-1,1)\n",
    "sea_surface_height_above_sea_level_97_mean = np.mean((sea_surface_height_above_sea_level_97), axis = (0,1,2)).reshape(-1,1)\n",
    "sea_surface_height_above_sea_level_98_mean = np.mean((sea_surface_height_above_sea_level_98), axis = (0,1,2)).reshape(-1,1)\n",
    "sea_surface_height_above_sea_level_99_mean = np.mean((sea_surface_height_above_sea_level_99), axis = (0,1,2)).reshape(-1,1)\n",
    "sea_surface_height_above_sea_level_00_mean = np.mean((sea_surface_height_above_sea_level_00), axis = (0,1,2)).reshape(-1,1)\n",
    "sea_surface_height_above_sea_level_01_mean = np.mean((sea_surface_height_above_sea_level_01), axis = (0,1,2)).reshape(-1,1)\n",
    "sea_surface_height_above_sea_level_02_mean = np.mean((sea_surface_height_above_sea_level_02), axis = (0,1,2)).reshape(-1,1)\n",
    "sea_surface_height_above_sea_level_03_mean = np.mean((sea_surface_height_above_sea_level_03), axis = (0,1,2)).reshape(-1,1)\n",
    "sea_surface_height_above_sea_level_04_mean = np.mean((sea_surface_height_above_sea_level_04), axis = (0,1,2)).reshape(-1,1)\n",
    "sea_surface_height_above_sea_level_05_mean = np.mean((sea_surface_height_above_sea_level_05), axis = (0,1,2)).reshape(-1,1)\n",
    "sea_surface_height_above_sea_level_06_mean = np.mean((sea_surface_height_above_sea_level_06), axis = (0,1,2)).reshape(-1,1)\n",
    "sea_surface_height_above_sea_level_07_mean = np.mean((sea_surface_height_above_sea_level_07), axis = (0,1,2)).reshape(-1,1)\n",
    "sea_surface_height_above_sea_level_08_mean = np.mean((sea_surface_height_above_sea_level_08), axis = (0,1,2)).reshape(-1,1)\n",
    "sea_surface_height_above_sea_level_09_mean = np.mean((sea_surface_height_above_sea_level_09), axis = (0,1,2)).reshape(-1,1)\n",
    "sea_surface_height_above_sea_level_10_mean = np.mean((sea_surface_height_above_sea_level_10), axis = (0,1,2)).reshape(-1,1)\n",
    "sea_surface_height_above_sea_level_11_mean = np.mean((sea_surface_height_above_sea_level_11), axis = (0,1,2)).reshape(-1,1)\n",
    "sea_surface_height_above_sea_level_12_mean = np.mean((sea_surface_height_above_sea_level_12), axis = (0,1,2)).reshape(-1,1)\n",
    "sea_surface_height_above_sea_level_13_mean = np.mean((sea_surface_height_above_sea_level_13), axis = (0,1,2)).reshape(-1,1)\n",
    "sea_surface_height_above_sea_level_14_mean = np.mean((sea_surface_height_above_sea_level_14), axis = (0,1,2)).reshape(-1,1)\n",
    "sea_surface_height_above_sea_level_15_mean = np.mean((sea_surface_height_above_sea_level_15), axis = (0,1,2)).reshape(-1,1)\n",
    "sea_surface_height_above_sea_level_16_mean = np.mean((sea_surface_height_above_sea_level_16), axis = (0,1,2)).reshape(-1,1)\n",
    "sea_surface_height_above_sea_level_17_mean = np.mean((sea_surface_height_above_sea_level_17), axis = (0,1,2)).reshape(-1,1)\n",
    "sea_surface_height_above_sea_level_18_mean = np.mean((sea_surface_height_above_sea_level_18), axis = (0,1,2)).reshape(-1,1)\n",
    "sea_surface_height_above_sea_level_19_mean = np.mean((sea_surface_height_above_sea_level_19), axis = (0,1,2)).reshape(-1,1)"
   ]
  },
  {
   "cell_type": "code",
   "execution_count": 42,
   "id": "33729300",
   "metadata": {},
   "outputs": [],
   "source": [
    "sea_surface_height_above_sea_level_93_19_mean_all = np.concatenate((\n",
    "sea_surface_height_above_sea_level_93_mean, sea_surface_height_above_sea_level_94_mean,\n",
    "sea_surface_height_above_sea_level_95_mean, sea_surface_height_above_sea_level_96_mean,\n",
    "sea_surface_height_above_sea_level_97_mean, sea_surface_height_above_sea_level_98_mean,\n",
    "sea_surface_height_above_sea_level_99_mean, sea_surface_height_above_sea_level_00_mean,\n",
    "sea_surface_height_above_sea_level_01_mean, sea_surface_height_above_sea_level_02_mean,\n",
    "sea_surface_height_above_sea_level_03_mean, sea_surface_height_above_sea_level_04_mean,\n",
    "sea_surface_height_above_sea_level_05_mean, sea_surface_height_above_sea_level_06_mean,\n",
    "sea_surface_height_above_sea_level_07_mean, sea_surface_height_above_sea_level_08_mean,\n",
    "sea_surface_height_above_sea_level_09_mean, sea_surface_height_above_sea_level_10_mean,\n",
    "sea_surface_height_above_sea_level_11_mean, sea_surface_height_above_sea_level_12_mean,\n",
    "sea_surface_height_above_sea_level_13_mean, sea_surface_height_above_sea_level_14_mean,\n",
    "sea_surface_height_above_sea_level_15_mean, sea_surface_height_above_sea_level_16_mean,\n",
    "sea_surface_height_above_sea_level_17_mean, sea_surface_height_above_sea_level_18_mean,\n",
    "sea_surface_height_above_sea_level_19_mean), axis = 0)"
   ]
  },
  {
   "cell_type": "code",
   "execution_count": 43,
   "id": "d84b7c9b",
   "metadata": {
    "scrolled": true
   },
   "outputs": [
    {
     "data": {
      "text/plain": [
       "(27, 1)"
      ]
     },
     "execution_count": 43,
     "metadata": {},
     "output_type": "execute_result"
    }
   ],
   "source": [
    "sea_surface_height_above_geoid_93_19_mean_all.shape"
   ]
  },
  {
   "cell_type": "code",
   "execution_count": 44,
   "id": "c2a73429",
   "metadata": {},
   "outputs": [],
   "source": [
    "sea_surface_height_above_geoid_93_19 = np.concatenate((sea_surface_height_above_geoid_93,\n",
    "                                                      sea_surface_height_above_geoid_94, sea_surface_height_above_geoid_95,\n",
    "                                                      sea_surface_height_above_geoid_96, sea_surface_height_above_geoid_97,\n",
    "                                                      sea_surface_height_above_geoid_98, sea_surface_height_above_geoid_99,\n",
    "                                                      sea_surface_height_above_geoid_00,\n",
    "                                                      sea_surface_height_above_geoid_01, sea_surface_height_above_geoid_02,\n",
    "                                                      sea_surface_height_above_geoid_03, sea_surface_height_above_geoid_04,\n",
    "                                                      sea_surface_height_above_geoid_05, sea_surface_height_above_geoid_06,\n",
    "                                                      sea_surface_height_above_geoid_07, sea_surface_height_above_geoid_08,\n",
    "                                                      sea_surface_height_above_geoid_09, sea_surface_height_above_geoid_10,\n",
    "                                                      sea_surface_height_above_geoid_11, sea_surface_height_above_geoid_12,\n",
    "                                                      sea_surface_height_above_geoid_13, sea_surface_height_above_geoid_14,\n",
    "                                                      sea_surface_height_above_geoid_15, sea_surface_height_above_geoid_16,\n",
    "                                                      sea_surface_height_above_geoid_17, sea_surface_height_above_geoid_18,\n",
    "                                                      sea_surface_height_above_geoid_19),axis = 0)"
   ]
  },
  {
   "cell_type": "code",
   "execution_count": 45,
   "id": "b4e6d185",
   "metadata": {},
   "outputs": [],
   "source": [
    "sea_surface_height_above_sea_level_93_19 = np.concatenate((sea_surface_height_above_sea_level_93,\n",
    "sea_surface_height_above_sea_level_94, sea_surface_height_above_sea_level_95,\n",
    "                                                          sea_surface_height_above_sea_level_96, sea_surface_height_above_sea_level_97,\n",
    "                                                          sea_surface_height_above_sea_level_98, sea_surface_height_above_sea_level_99,\n",
    "                                                          sea_surface_height_above_sea_level_00, sea_surface_height_above_sea_level_01,\n",
    "                                                          sea_surface_height_above_sea_level_02, sea_surface_height_above_sea_level_03,\n",
    "                                                          sea_surface_height_above_sea_level_04, sea_surface_height_above_sea_level_05,\n",
    "                                                          sea_surface_height_above_sea_level_06, sea_surface_height_above_sea_level_07,\n",
    "                                                          sea_surface_height_above_sea_level_08, sea_surface_height_above_sea_level_09,\n",
    "                                                          sea_surface_height_above_sea_level_10, sea_surface_height_above_sea_level_11,\n",
    "                                                          sea_surface_height_above_sea_level_12, sea_surface_height_above_sea_level_13,\n",
    "                                                          sea_surface_height_above_sea_level_14, sea_surface_height_above_sea_level_15,\n",
    "                                                          sea_surface_height_above_sea_level_16, sea_surface_height_above_sea_level_17,\n",
    "                                                          sea_surface_height_above_sea_level_18, sea_surface_height_above_sea_level_19),axis = 0)"
   ]
  },
  {
   "cell_type": "code",
   "execution_count": 46,
   "id": "6c881019",
   "metadata": {},
   "outputs": [],
   "source": [
    "sea_surface_height_above_geoid_93_19_mean = np.mean((sea_surface_height_above_geoid_93_19), axis = (1,2)).reshape(-1,1)"
   ]
  },
  {
   "cell_type": "code",
   "execution_count": 47,
   "id": "a32a4d31",
   "metadata": {},
   "outputs": [
    {
     "data": {
      "text/plain": [
       "(2499, 1)"
      ]
     },
     "execution_count": 47,
     "metadata": {},
     "output_type": "execute_result"
    }
   ],
   "source": [
    "sea_surface_height_above_geoid_93_19_mean.shape"
   ]
  },
  {
   "cell_type": "code",
   "execution_count": 48,
   "id": "93a48d4c",
   "metadata": {},
   "outputs": [],
   "source": [
    "sea_surface_height_above_sea_level_93_19_mean = np.mean((sea_surface_height_above_sea_level_93_19), axis = (1,2)).reshape(-1,1)"
   ]
  },
  {
   "cell_type": "code",
   "execution_count": 49,
   "id": "9a7c4cda",
   "metadata": {},
   "outputs": [
    {
     "data": {
      "text/plain": [
       "(2499, 1)"
      ]
     },
     "execution_count": 49,
     "metadata": {},
     "output_type": "execute_result"
    }
   ],
   "source": [
    "sea_surface_height_above_sea_level_93_19_mean.shape"
   ]
  },
  {
   "cell_type": "code",
   "execution_count": 50,
   "id": "07ec1622",
   "metadata": {},
   "outputs": [],
   "source": [
    "sea_surface_height_above_geoid_JJA_93 = sea_surface_height_above_geoid_93_19_mean[:92]\n",
    "sea_surface_height_above_geoid_JJA_94 = sea_surface_height_above_geoid_93_19_mean[92:184]\n",
    "sea_surface_height_above_geoid_JJA_95 = sea_surface_height_above_geoid_93_19_mean[184:276]\n",
    "sea_surface_height_above_geoid_JJA_96 = sea_surface_height_above_geoid_93_19_mean[276:368]\n",
    "sea_surface_height_above_geoid_JJA_97 = sea_surface_height_above_geoid_93_19_mean[368:460]\n",
    "sea_surface_height_above_geoid_JJA_98_1 = sea_surface_height_above_geoid_93_19_mean[460:463]\n",
    "sea_surface_height_above_geoid_JJA_98_2 = sea_surface_height_above_geoid_93_19_mean[469:552]\n",
    "sea_surface_height_above_geoid_JJA_98 = np.concatenate((sea_surface_height_above_geoid_JJA_98_1, sea_surface_height_above_geoid_JJA_98_2), axis = 0)\n",
    "sea_surface_height_above_geoid_JJA_99 = sea_surface_height_above_geoid_93_19_mean[552:644]\n",
    "sea_surface_height_above_geoid_JJA_00 = sea_surface_height_above_geoid_93_19_mean[644:736]\n",
    "sea_surface_height_above_geoid_JJA_01 = sea_surface_height_above_geoid_93_19_mean[736:828]\n",
    "sea_surface_height_above_geoid_JJA_02 = sea_surface_height_above_geoid_93_19_mean[828:920]\n",
    "sea_surface_height_above_geoid_JJA_03 = sea_surface_height_above_geoid_93_19_mean[920:1012]\n",
    "sea_surface_height_above_geoid_JJA_04 = sea_surface_height_above_geoid_93_19_mean[1012:1104]\n",
    "sea_surface_height_above_geoid_JJA_05 = sea_surface_height_above_geoid_93_19_mean[1104:1196]\n",
    "sea_surface_height_above_geoid_JJA_06_1 = sea_surface_height_above_geoid_93_19_mean[1196:1282]\n",
    "sea_surface_height_above_geoid_JJA_06_2 = sea_surface_height_above_geoid_93_19_mean[1287:1288]\n",
    "sea_surface_height_above_geoid_JJA_06 = np.concatenate((sea_surface_height_above_geoid_JJA_06_1, sea_surface_height_above_geoid_JJA_06_2), axis = 0)\n",
    "sea_surface_height_above_geoid_JJA_07_1 = sea_surface_height_above_geoid_93_19_mean[1288:1297]\n",
    "sea_surface_height_above_geoid_JJA_07_2 = sea_surface_height_above_geoid_93_19_mean[1306:1380]\n",
    "sea_surface_height_above_geoid_JJA_07 = np.concatenate((sea_surface_height_above_geoid_JJA_07_1, sea_surface_height_above_geoid_JJA_07_2), axis = 0)\n",
    "sea_surface_height_above_geoid_JJA_08 = sea_surface_height_above_geoid_93_19_mean[1380:1472]\n",
    "sea_surface_height_above_geoid_JJA_09 = sea_surface_height_above_geoid_93_19_mean[1472:1564]\n",
    "sea_surface_height_above_geoid_JJA_10_1 = sea_surface_height_above_geoid_93_19_mean[1564:1604]\n",
    "sea_surface_height_above_geoid_JJA_10_2 = sea_surface_height_above_geoid_93_19_mean[1612:1656]\n",
    "sea_surface_height_above_geoid_JJA_10 = np.concatenate((sea_surface_height_above_geoid_JJA_10_1, sea_surface_height_above_geoid_JJA_10_2), axis = 0)\n",
    "sea_surface_height_above_geoid_JJA_11 = sea_surface_height_above_geoid_93_19_mean[1656:1748]\n",
    "sea_surface_height_above_geoid_JJA_12_1 = sea_surface_height_above_geoid_93_19_mean[1748:1807]\n",
    "sea_surface_height_above_geoid_JJA_12_2 = sea_surface_height_above_geoid_93_19_mean[1820:1840]\n",
    "sea_surface_height_above_geoid_JJA_12 = np.concatenate((sea_surface_height_above_geoid_JJA_12_1, sea_surface_height_above_geoid_JJA_12_2), axis = 0)\n",
    "sea_surface_height_above_geoid_JJA_13 = sea_surface_height_above_geoid_93_19_mean[1840:1932]\n",
    "sea_surface_height_above_geoid_JJA_14 = sea_surface_height_above_geoid_93_19_mean[1932:2024]\n",
    "sea_surface_height_above_geoid_JJA_15_1 = sea_surface_height_above_geoid_93_19_mean[2032:2054]\n",
    "sea_surface_height_above_geoid_JJA_15_2 = sea_surface_height_above_geoid_93_19_mean[2061:2081]\n",
    "sea_surface_height_above_geoid_JJA_15 = np.concatenate((sea_surface_height_above_geoid_JJA_15_1, sea_surface_height_above_geoid_JJA_15_2), axis = 0)\n",
    "sea_surface_height_above_geoid_JJA_16 = sea_surface_height_above_geoid_93_19_mean[2116:2208]\n",
    "sea_surface_height_above_geoid_JJA_17_1 = sea_surface_height_above_geoid_93_19_mean[2208:2251]\n",
    "sea_surface_height_above_geoid_JJA_17_2 = sea_surface_height_above_geoid_93_19_mean[2257:2264]\n",
    "sea_surface_height_above_geoid_JJA_17 = np.concatenate((sea_surface_height_above_geoid_JJA_17_1, sea_surface_height_above_geoid_JJA_17_2), axis = 0)\n",
    "sea_surface_height_above_geoid_JJA_18 = sea_surface_height_above_geoid_93_19_mean[2300:2392]\n",
    "sea_surface_height_above_geoid_JJA_19_1 = sea_surface_height_above_geoid_93_19_mean[2410:2451]\n",
    "sea_surface_height_above_geoid_JJA_19_2 = sea_surface_height_above_geoid_93_19_mean[2462:2472]\n",
    "sea_surface_height_above_geoid_JJA_19_3 = sea_surface_height_above_geoid_93_19_mean[2478:]\n",
    "sea_surface_height_above_geoid_JJA_19 = np.concatenate((sea_surface_height_above_geoid_JJA_19_1, sea_surface_height_above_geoid_JJA_19_2, sea_surface_height_above_geoid_JJA_19_3), axis = 0)"
   ]
  },
  {
   "cell_type": "code",
   "execution_count": 51,
   "id": "dfe15455",
   "metadata": {},
   "outputs": [],
   "source": [
    "sea_surface_height_above_geoid_JJA_93_mean = np.mean(sea_surface_height_above_geoid_JJA_93, axis = 0)\n",
    "sea_surface_height_above_geoid_JJA_94_mean = np.mean(sea_surface_height_above_geoid_JJA_94, axis = 0)\n",
    "sea_surface_height_above_geoid_JJA_95_mean = np.mean(sea_surface_height_above_geoid_JJA_95, axis = 0)\n",
    "sea_surface_height_above_geoid_JJA_96_mean = np.mean(sea_surface_height_above_geoid_JJA_96, axis = 0)\n",
    "sea_surface_height_above_geoid_JJA_97_mean = np.mean(sea_surface_height_above_geoid_JJA_97, axis = 0)\n",
    "sea_surface_height_above_geoid_JJA_98_mean = np.mean(sea_surface_height_above_geoid_JJA_98, axis = 0)\n",
    "sea_surface_height_above_geoid_JJA_99_mean = np.mean(sea_surface_height_above_geoid_JJA_99, axis = 0)\n",
    "sea_surface_height_above_geoid_JJA_00_mean = np.mean(sea_surface_height_above_geoid_JJA_00, axis = 0)\n",
    "sea_surface_height_above_geoid_JJA_01_mean = np.mean(sea_surface_height_above_geoid_JJA_01, axis = 0)\n",
    "sea_surface_height_above_geoid_JJA_02_mean = np.mean(sea_surface_height_above_geoid_JJA_02, axis = 0)\n",
    "sea_surface_height_above_geoid_JJA_03_mean = np.mean(sea_surface_height_above_geoid_JJA_03, axis = 0)\n",
    "sea_surface_height_above_geoid_JJA_04_mean = np.mean(sea_surface_height_above_geoid_JJA_04, axis = 0)\n",
    "sea_surface_height_above_geoid_JJA_05_mean = np.mean(sea_surface_height_above_geoid_JJA_05, axis = 0)\n",
    "sea_surface_height_above_geoid_JJA_06_mean = np.mean(sea_surface_height_above_geoid_JJA_06, axis = 0)\n",
    "sea_surface_height_above_geoid_JJA_07_mean = np.mean(sea_surface_height_above_geoid_JJA_07, axis = 0)\n",
    "sea_surface_height_above_geoid_JJA_08_mean = np.mean(sea_surface_height_above_geoid_JJA_08, axis = 0)\n",
    "sea_surface_height_above_geoid_JJA_09_mean = np.mean(sea_surface_height_above_geoid_JJA_09, axis = 0)\n",
    "sea_surface_height_above_geoid_JJA_10_mean = np.mean(sea_surface_height_above_geoid_JJA_10, axis = 0)\n",
    "sea_surface_height_above_geoid_JJA_11_mean = np.mean(sea_surface_height_above_geoid_JJA_11, axis = 0)\n",
    "sea_surface_height_above_geoid_JJA_12_mean = np.mean(sea_surface_height_above_geoid_JJA_12, axis = 0)\n",
    "sea_surface_height_above_geoid_JJA_13_mean = np.mean(sea_surface_height_above_geoid_JJA_13, axis = 0)\n",
    "sea_surface_height_above_geoid_JJA_14_mean = np.mean(sea_surface_height_above_geoid_JJA_14, axis = 0)\n",
    "sea_surface_height_above_geoid_JJA_15_mean = np.mean(sea_surface_height_above_geoid_JJA_15, axis = 0)\n",
    "sea_surface_height_above_geoid_JJA_16_mean = np.mean(sea_surface_height_above_geoid_JJA_16, axis = 0)\n",
    "sea_surface_height_above_geoid_JJA_17_mean = np.mean(sea_surface_height_above_geoid_JJA_17, axis = 0)\n",
    "sea_surface_height_above_geoid_JJA_18_mean = np.mean(sea_surface_height_above_geoid_JJA_18, axis = 0)\n",
    "sea_surface_height_above_geoid_JJA_19_mean = np.mean(sea_surface_height_above_geoid_JJA_19, axis = 0)"
   ]
  },
  {
   "cell_type": "code",
   "execution_count": 52,
   "id": "82ddaed7",
   "metadata": {},
   "outputs": [],
   "source": [
    "sea_surface_height_above_geoid_JJA_93_19_without_MHW = np.concatenate((\n",
    "sea_surface_height_above_geoid_JJA_93, sea_surface_height_above_geoid_JJA_94,\n",
    "sea_surface_height_above_geoid_JJA_95, sea_surface_height_above_geoid_JJA_96,\n",
    "sea_surface_height_above_geoid_JJA_97, sea_surface_height_above_geoid_JJA_98,\n",
    "sea_surface_height_above_geoid_JJA_99, sea_surface_height_above_geoid_JJA_00,\n",
    "sea_surface_height_above_geoid_JJA_01, sea_surface_height_above_geoid_JJA_02,\n",
    "sea_surface_height_above_geoid_JJA_03, sea_surface_height_above_geoid_JJA_04,\n",
    "sea_surface_height_above_geoid_JJA_05, sea_surface_height_above_geoid_JJA_06,\n",
    "sea_surface_height_above_geoid_JJA_07, sea_surface_height_above_geoid_JJA_08,\n",
    "sea_surface_height_above_geoid_JJA_09, sea_surface_height_above_geoid_JJA_10,\n",
    "sea_surface_height_above_geoid_JJA_11, sea_surface_height_above_geoid_JJA_12,\n",
    "sea_surface_height_above_geoid_JJA_13, sea_surface_height_above_geoid_JJA_14,\n",
    "sea_surface_height_above_geoid_JJA_15, sea_surface_height_above_geoid_JJA_16,\n",
    "sea_surface_height_above_geoid_JJA_17, sea_surface_height_above_geoid_JJA_18,\n",
    "sea_surface_height_above_geoid_JJA_19), axis = 0)"
   ]
  },
  {
   "cell_type": "code",
   "execution_count": 53,
   "id": "9e4d7d23",
   "metadata": {},
   "outputs": [],
   "source": [
    "sea_surface_height_above_geoid_JJA_93_19_without_MHW_mean = np.concatenate((\n",
    "sea_surface_height_above_geoid_JJA_93_mean, sea_surface_height_above_geoid_JJA_94_mean,\n",
    "sea_surface_height_above_geoid_JJA_95_mean, sea_surface_height_above_geoid_JJA_96_mean,\n",
    "sea_surface_height_above_geoid_JJA_97_mean, sea_surface_height_above_geoid_JJA_98_mean,\n",
    "sea_surface_height_above_geoid_JJA_99_mean, sea_surface_height_above_geoid_JJA_00_mean,\n",
    "sea_surface_height_above_geoid_JJA_01_mean, sea_surface_height_above_geoid_JJA_02_mean,\n",
    "sea_surface_height_above_geoid_JJA_03_mean, sea_surface_height_above_geoid_JJA_04_mean,\n",
    "sea_surface_height_above_geoid_JJA_05_mean, sea_surface_height_above_geoid_JJA_06_mean,\n",
    "sea_surface_height_above_geoid_JJA_07_mean, sea_surface_height_above_geoid_JJA_08_mean,\n",
    "sea_surface_height_above_geoid_JJA_09_mean, sea_surface_height_above_geoid_JJA_10_mean,\n",
    "sea_surface_height_above_geoid_JJA_11_mean, sea_surface_height_above_geoid_JJA_12_mean,\n",
    "sea_surface_height_above_geoid_JJA_13_mean, sea_surface_height_above_geoid_JJA_14_mean,\n",
    "sea_surface_height_above_geoid_JJA_15_mean, sea_surface_height_above_geoid_JJA_16_mean,\n",
    "sea_surface_height_above_geoid_JJA_17_mean, sea_surface_height_above_geoid_JJA_18_mean,\n",
    "sea_surface_height_above_geoid_JJA_19_mean), axis = 0).reshape(-1,1)"
   ]
  },
  {
   "cell_type": "code",
   "execution_count": 54,
   "id": "88e4000f",
   "metadata": {},
   "outputs": [],
   "source": [
    "sea_surface_height_above_sea_level_JJA_93 = sea_surface_height_above_sea_level_93_19_mean[:92]\n",
    "sea_surface_height_above_sea_level_JJA_94 = sea_surface_height_above_sea_level_93_19_mean[92:184]\n",
    "sea_surface_height_above_sea_level_JJA_95 = sea_surface_height_above_sea_level_93_19_mean[184:276]\n",
    "sea_surface_height_above_sea_level_JJA_96 = sea_surface_height_above_sea_level_93_19_mean[276:368]\n",
    "sea_surface_height_above_sea_level_JJA_97 = sea_surface_height_above_sea_level_93_19_mean[368:460]\n",
    "sea_surface_height_above_sea_level_JJA_98_1 = sea_surface_height_above_sea_level_93_19_mean[460:463]\n",
    "sea_surface_height_above_sea_level_JJA_98_2 = sea_surface_height_above_sea_level_93_19_mean[469:552]\n",
    "sea_surface_height_above_sea_level_JJA_98 = np.concatenate((sea_surface_height_above_sea_level_JJA_98_1, sea_surface_height_above_sea_level_JJA_98_2), axis = 0)\n",
    "sea_surface_height_above_sea_level_JJA_99 = sea_surface_height_above_sea_level_93_19_mean[552:644]\n",
    "sea_surface_height_above_sea_level_JJA_00 = sea_surface_height_above_sea_level_93_19_mean[644:736]\n",
    "sea_surface_height_above_sea_level_JJA_01 = sea_surface_height_above_sea_level_93_19_mean[736:828]\n",
    "sea_surface_height_above_sea_level_JJA_02 = sea_surface_height_above_sea_level_93_19_mean[828:920]\n",
    "sea_surface_height_above_sea_level_JJA_03 = sea_surface_height_above_sea_level_93_19_mean[920:1012]\n",
    "sea_surface_height_above_sea_level_JJA_04 = sea_surface_height_above_sea_level_93_19_mean[1012:1104]\n",
    "sea_surface_height_above_sea_level_JJA_05 = sea_surface_height_above_sea_level_93_19_mean[1104:1196]\n",
    "sea_surface_height_above_sea_level_JJA_06_1 = sea_surface_height_above_sea_level_93_19_mean[1196:1282]\n",
    "sea_surface_height_above_sea_level_JJA_06_2 = sea_surface_height_above_sea_level_93_19_mean[1287:1288]\n",
    "sea_surface_height_above_sea_level_JJA_06 = np.concatenate((sea_surface_height_above_sea_level_JJA_06_1, sea_surface_height_above_sea_level_JJA_06_2), axis = 0)\n",
    "sea_surface_height_above_sea_level_JJA_07_1 = sea_surface_height_above_sea_level_93_19_mean[1288:1297]\n",
    "sea_surface_height_above_sea_level_JJA_07_2 = sea_surface_height_above_sea_level_93_19_mean[1306:1380]\n",
    "sea_surface_height_above_sea_level_JJA_07 = np.concatenate((sea_surface_height_above_sea_level_JJA_07_1, sea_surface_height_above_sea_level_JJA_07_2), axis = 0)\n",
    "sea_surface_height_above_sea_level_JJA_08 = sea_surface_height_above_sea_level_93_19_mean[1380:1472]\n",
    "sea_surface_height_above_sea_level_JJA_09 = sea_surface_height_above_sea_level_93_19_mean[1472:1564]\n",
    "sea_surface_height_above_sea_level_JJA_10_1 = sea_surface_height_above_sea_level_93_19_mean[1564:1604]\n",
    "sea_surface_height_above_sea_level_JJA_10_2 = sea_surface_height_above_sea_level_93_19_mean[1612:1656]\n",
    "sea_surface_height_above_sea_level_JJA_10 = np.concatenate((sea_surface_height_above_sea_level_JJA_10_1, sea_surface_height_above_sea_level_JJA_10_2), axis = 0)\n",
    "sea_surface_height_above_sea_level_JJA_11 = sea_surface_height_above_sea_level_93_19_mean[1656:1748]\n",
    "sea_surface_height_above_sea_level_JJA_12_1 = sea_surface_height_above_sea_level_93_19_mean[1748:1807]\n",
    "sea_surface_height_above_sea_level_JJA_12_2 = sea_surface_height_above_sea_level_93_19_mean[1820:1840]\n",
    "sea_surface_height_above_sea_level_JJA_12 = np.concatenate((sea_surface_height_above_sea_level_JJA_12_1, sea_surface_height_above_sea_level_JJA_12_2), axis = 0)\n",
    "sea_surface_height_above_sea_level_JJA_13 = sea_surface_height_above_sea_level_93_19_mean[1840:1932]\n",
    "sea_surface_height_above_sea_level_JJA_14 = sea_surface_height_above_sea_level_93_19_mean[1932:2024]\n",
    "sea_surface_height_above_sea_level_JJA_15_1 = sea_surface_height_above_sea_level_93_19_mean[2032:2054]\n",
    "sea_surface_height_above_sea_level_JJA_15_2 = sea_surface_height_above_sea_level_93_19_mean[2061:2081]\n",
    "sea_surface_height_above_sea_level_JJA_15 = np.concatenate((sea_surface_height_above_sea_level_JJA_15_1, sea_surface_height_above_sea_level_JJA_15_2), axis = 0)\n",
    "sea_surface_height_above_sea_level_JJA_16 = sea_surface_height_above_sea_level_93_19_mean[2116:2208]\n",
    "sea_surface_height_above_sea_level_JJA_17_1 = sea_surface_height_above_sea_level_93_19_mean[2208:2251]\n",
    "sea_surface_height_above_sea_level_JJA_17_2 = sea_surface_height_above_sea_level_93_19_mean[2257:2264]\n",
    "sea_surface_height_above_sea_level_JJA_17 = np.concatenate((sea_surface_height_above_sea_level_JJA_17_1, sea_surface_height_above_sea_level_JJA_17_2), axis = 0)\n",
    "sea_surface_height_above_sea_level_JJA_18 = sea_surface_height_above_sea_level_93_19_mean[2300:2392]\n",
    "sea_surface_height_above_sea_level_JJA_19_1 = sea_surface_height_above_sea_level_93_19_mean[2410:2451]\n",
    "sea_surface_height_above_sea_level_JJA_19_2 = sea_surface_height_above_sea_level_93_19_mean[2462:2472]\n",
    "sea_surface_height_above_sea_level_JJA_19_3 = sea_surface_height_above_sea_level_93_19_mean[2478:]\n",
    "sea_surface_height_above_sea_level_JJA_19 = np.concatenate((sea_surface_height_above_sea_level_JJA_19_1, sea_surface_height_above_sea_level_JJA_19_2, sea_surface_height_above_sea_level_JJA_19_3), axis = 0)"
   ]
  },
  {
   "cell_type": "code",
   "execution_count": 55,
   "id": "211904d7",
   "metadata": {},
   "outputs": [],
   "source": [
    "sea_surface_height_above_sea_level_JJA_93_mean = np.mean(sea_surface_height_above_sea_level_JJA_93, axis = 0)\n",
    "sea_surface_height_above_sea_level_JJA_94_mean = np.mean(sea_surface_height_above_sea_level_JJA_94, axis = 0)\n",
    "sea_surface_height_above_sea_level_JJA_95_mean = np.mean(sea_surface_height_above_sea_level_JJA_95, axis = 0)\n",
    "sea_surface_height_above_sea_level_JJA_96_mean = np.mean(sea_surface_height_above_sea_level_JJA_96, axis = 0)\n",
    "sea_surface_height_above_sea_level_JJA_97_mean = np.mean(sea_surface_height_above_sea_level_JJA_97, axis = 0)\n",
    "sea_surface_height_above_sea_level_JJA_98_mean = np.mean(sea_surface_height_above_sea_level_JJA_98, axis = 0)\n",
    "sea_surface_height_above_sea_level_JJA_99_mean = np.mean(sea_surface_height_above_sea_level_JJA_99, axis = 0)\n",
    "sea_surface_height_above_sea_level_JJA_00_mean = np.mean(sea_surface_height_above_sea_level_JJA_00, axis = 0)\n",
    "sea_surface_height_above_sea_level_JJA_01_mean = np.mean(sea_surface_height_above_sea_level_JJA_01, axis = 0)\n",
    "sea_surface_height_above_sea_level_JJA_02_mean = np.mean(sea_surface_height_above_sea_level_JJA_02, axis = 0)\n",
    "sea_surface_height_above_sea_level_JJA_03_mean = np.mean(sea_surface_height_above_sea_level_JJA_03, axis = 0)\n",
    "sea_surface_height_above_sea_level_JJA_04_mean = np.mean(sea_surface_height_above_sea_level_JJA_04, axis = 0)\n",
    "sea_surface_height_above_sea_level_JJA_05_mean = np.mean(sea_surface_height_above_sea_level_JJA_05, axis = 0)\n",
    "sea_surface_height_above_sea_level_JJA_06_mean = np.mean(sea_surface_height_above_sea_level_JJA_06, axis = 0)\n",
    "sea_surface_height_above_sea_level_JJA_07_mean = np.mean(sea_surface_height_above_sea_level_JJA_07, axis = 0)\n",
    "sea_surface_height_above_sea_level_JJA_08_mean = np.mean(sea_surface_height_above_sea_level_JJA_08, axis = 0)\n",
    "sea_surface_height_above_sea_level_JJA_09_mean = np.mean(sea_surface_height_above_sea_level_JJA_09, axis = 0)\n",
    "sea_surface_height_above_sea_level_JJA_10_mean = np.mean(sea_surface_height_above_sea_level_JJA_10, axis = 0)\n",
    "sea_surface_height_above_sea_level_JJA_11_mean = np.mean(sea_surface_height_above_sea_level_JJA_11, axis = 0)\n",
    "sea_surface_height_above_sea_level_JJA_12_mean = np.mean(sea_surface_height_above_sea_level_JJA_12, axis = 0)\n",
    "sea_surface_height_above_sea_level_JJA_13_mean = np.mean(sea_surface_height_above_sea_level_JJA_13, axis = 0)\n",
    "sea_surface_height_above_sea_level_JJA_14_mean = np.mean(sea_surface_height_above_sea_level_JJA_14, axis = 0)\n",
    "sea_surface_height_above_sea_level_JJA_15_mean = np.mean(sea_surface_height_above_sea_level_JJA_15, axis = 0)\n",
    "sea_surface_height_above_sea_level_JJA_16_mean = np.mean(sea_surface_height_above_sea_level_JJA_16, axis = 0)\n",
    "sea_surface_height_above_sea_level_JJA_17_mean = np.mean(sea_surface_height_above_sea_level_JJA_17, axis = 0)\n",
    "sea_surface_height_above_sea_level_JJA_18_mean = np.mean(sea_surface_height_above_sea_level_JJA_18, axis = 0)\n",
    "sea_surface_height_above_sea_level_JJA_19_mean = np.mean(sea_surface_height_above_sea_level_JJA_19, axis = 0)"
   ]
  },
  {
   "cell_type": "code",
   "execution_count": 56,
   "id": "d8311e60",
   "metadata": {},
   "outputs": [],
   "source": [
    "sea_surface_height_above_sea_level_JJA_93_19_without_MHW = np.concatenate((\n",
    "sea_surface_height_above_sea_level_JJA_93, sea_surface_height_above_sea_level_JJA_94,\n",
    "sea_surface_height_above_sea_level_JJA_95, sea_surface_height_above_sea_level_JJA_96,\n",
    "sea_surface_height_above_sea_level_JJA_97, sea_surface_height_above_sea_level_JJA_98,\n",
    "sea_surface_height_above_sea_level_JJA_99, sea_surface_height_above_sea_level_JJA_00,\n",
    "sea_surface_height_above_sea_level_JJA_01, sea_surface_height_above_sea_level_JJA_02,\n",
    "sea_surface_height_above_sea_level_JJA_03, sea_surface_height_above_sea_level_JJA_04,\n",
    "sea_surface_height_above_sea_level_JJA_05, sea_surface_height_above_sea_level_JJA_06,\n",
    "sea_surface_height_above_sea_level_JJA_07, sea_surface_height_above_sea_level_JJA_08,\n",
    "sea_surface_height_above_sea_level_JJA_09, sea_surface_height_above_sea_level_JJA_10,\n",
    "sea_surface_height_above_sea_level_JJA_11, sea_surface_height_above_sea_level_JJA_12,\n",
    "sea_surface_height_above_sea_level_JJA_13, sea_surface_height_above_sea_level_JJA_14,\n",
    "sea_surface_height_above_sea_level_JJA_15, sea_surface_height_above_sea_level_JJA_16,\n",
    "sea_surface_height_above_sea_level_JJA_17, sea_surface_height_above_sea_level_JJA_18,\n",
    "sea_surface_height_above_sea_level_JJA_19), axis = 0)"
   ]
  },
  {
   "cell_type": "code",
   "execution_count": 57,
   "id": "1442c1c7",
   "metadata": {},
   "outputs": [],
   "source": [
    "sea_surface_height_above_sea_level_JJA_93_19_without_MHW_mean = np.concatenate((\n",
    "sea_surface_height_above_sea_level_JJA_93_mean, sea_surface_height_above_sea_level_JJA_94_mean,\n",
    "sea_surface_height_above_sea_level_JJA_95_mean, sea_surface_height_above_sea_level_JJA_96_mean,\n",
    "sea_surface_height_above_sea_level_JJA_97_mean, sea_surface_height_above_sea_level_JJA_98_mean,\n",
    "sea_surface_height_above_sea_level_JJA_99_mean, sea_surface_height_above_sea_level_JJA_00_mean,\n",
    "sea_surface_height_above_sea_level_JJA_01_mean, sea_surface_height_above_sea_level_JJA_02_mean,\n",
    "sea_surface_height_above_sea_level_JJA_03_mean, sea_surface_height_above_sea_level_JJA_04_mean,\n",
    "sea_surface_height_above_sea_level_JJA_05_mean, sea_surface_height_above_sea_level_JJA_06_mean,\n",
    "sea_surface_height_above_sea_level_JJA_07_mean, sea_surface_height_above_sea_level_JJA_08_mean,\n",
    "sea_surface_height_above_sea_level_JJA_09_mean, sea_surface_height_above_sea_level_JJA_10_mean,\n",
    "sea_surface_height_above_sea_level_JJA_11_mean, sea_surface_height_above_sea_level_JJA_12_mean,\n",
    "sea_surface_height_above_sea_level_JJA_13_mean, sea_surface_height_above_sea_level_JJA_14_mean,\n",
    "sea_surface_height_above_sea_level_JJA_15_mean, sea_surface_height_above_sea_level_JJA_16_mean,\n",
    "sea_surface_height_above_sea_level_JJA_17_mean, sea_surface_height_above_sea_level_JJA_18_mean,\n",
    "sea_surface_height_above_sea_level_JJA_19_mean), axis = 0).reshape(-1,1)"
   ]
  },
  {
   "cell_type": "code",
   "execution_count": 58,
   "id": "b5937d31",
   "metadata": {},
   "outputs": [
    {
     "data": {
      "text/plain": [
       "(27, 1)"
      ]
     },
     "execution_count": 58,
     "metadata": {},
     "output_type": "execute_result"
    }
   ],
   "source": [
    "sea_surface_height_above_geoid_JJA_93_19_without_MHW_mean.shape"
   ]
  },
  {
   "cell_type": "code",
   "execution_count": 60,
   "id": "5c9edd2f",
   "metadata": {},
   "outputs": [
    {
     "data": {
      "text/plain": [
       "(27, 1)"
      ]
     },
     "execution_count": 60,
     "metadata": {},
     "output_type": "execute_result"
    }
   ],
   "source": [
    "sea_surface_height_above_sea_level_93_19_mean_all.shape"
   ]
  },
  {
   "cell_type": "code",
   "execution_count": null,
   "id": "edf08bbb",
   "metadata": {},
   "outputs": [],
   "source": []
  },
  {
   "cell_type": "code",
   "execution_count": 61,
   "id": "8a00a2ee",
   "metadata": {},
   "outputs": [],
   "source": [
    "np.savez(r'D:\\博士工作\\第三篇论文_MHW_AI\\data\\pacific\\last\\low_cloud\\E_P_cloud_JJA_Plot_with_without_MHW.npz',\n",
    "        low_cloud_cover_JJA_93_19_with_MHW_mean = sea_surface_height_above_geoid_93_19_mean_all,\n",
    "         E_JJA_93_19_with_MHW_mean = sea_surface_height_above_sea_level_93_19_mean_all,\n",
    "        low_cloud_cover_JJA_93_19_without_MHW_mean = sea_surface_height_above_geoid_JJA_93_19_without_MHW_mean,\n",
    "        E_JJA_93_19_without_MHW_mean = sea_surface_height_above_sea_level_JJA_93_19_without_MHW_mean)"
   ]
  },
  {
   "cell_type": "code",
   "execution_count": null,
   "id": "e97415d1",
   "metadata": {},
   "outputs": [],
   "source": []
  },
  {
   "cell_type": "code",
   "execution_count": null,
   "id": "9c913d06",
   "metadata": {},
   "outputs": [],
   "source": []
  },
  {
   "cell_type": "code",
   "execution_count": 62,
   "id": "2821c009",
   "metadata": {},
   "outputs": [],
   "source": [
    "sea_surface_height_above_geoid = low_cloud_cover\n",
    "sea_surface_height_above_sea_level = potential_evaporation"
   ]
  },
  {
   "cell_type": "code",
   "execution_count": 63,
   "id": "8dc84d1a",
   "metadata": {},
   "outputs": [],
   "source": [
    "# MAM   93\n",
    "date_93_1 = 59\n",
    "date_93_2 = 151\n",
    "data_1 = date_93_1\n",
    "data_2 = date_93_2\n",
    "\n",
    "sea_surface_height_above_geoid_93 = sea_surface_height_above_geoid[data_1:data_2,:,:]\n",
    "sea_surface_height_above_sea_level_93 = sea_surface_height_above_sea_level[data_1:data_2,:,:]"
   ]
  },
  {
   "cell_type": "code",
   "execution_count": 64,
   "id": "8612181d",
   "metadata": {},
   "outputs": [],
   "source": [
    "# MAM   94\n",
    "date_94_1 = 424\n",
    "date_94_2 = 516\n",
    "data_1 = date_94_1\n",
    "data_2 = date_94_2\n",
    "\n",
    "sea_surface_height_above_geoid_94 = sea_surface_height_above_geoid[data_1:data_2,:,:]\n",
    "sea_surface_height_above_sea_level_94 = sea_surface_height_above_sea_level[data_1:data_2,:,:]"
   ]
  },
  {
   "cell_type": "code",
   "execution_count": 65,
   "id": "203b5d82",
   "metadata": {},
   "outputs": [],
   "source": [
    "# MAM   95\n",
    "date_95_1 = 789\n",
    "date_95_2 = 881\n",
    "data_1 = date_95_1\n",
    "data_2 = date_95_2\n",
    "\n",
    "sea_surface_height_above_geoid_95 = sea_surface_height_above_geoid[data_1:data_2,:,:]\n",
    "sea_surface_height_above_sea_level_95 = sea_surface_height_above_sea_level[data_1:data_2,:,:]"
   ]
  },
  {
   "cell_type": "code",
   "execution_count": 66,
   "id": "df540e15",
   "metadata": {},
   "outputs": [],
   "source": [
    "# MAM   96\n",
    "date_96_1 = 1155\n",
    "date_96_2 = 1247\n",
    "data_1 = date_96_1\n",
    "data_2 = date_96_2\n",
    "\n",
    "sea_surface_height_above_geoid_96 = sea_surface_height_above_geoid[data_1:data_2,:,:]\n",
    "sea_surface_height_above_sea_level_96 = sea_surface_height_above_sea_level[data_1:data_2,:,:]"
   ]
  },
  {
   "cell_type": "code",
   "execution_count": 67,
   "id": "c1c0abd5",
   "metadata": {},
   "outputs": [],
   "source": [
    "# MAM   97\n",
    "date_97_1 = 1520\n",
    "date_97_2 = 1611\n",
    "data_1 = date_97_1\n",
    "data_2 = date_97_2\n",
    "\n",
    "sea_surface_height_above_geoid_97 = sea_surface_height_above_geoid[data_1:data_2,:,:]\n",
    "sea_surface_height_above_sea_level_97 = sea_surface_height_above_sea_level[data_1:data_2,:,:]"
   ]
  },
  {
   "cell_type": "code",
   "execution_count": 68,
   "id": "fd6c8bd2",
   "metadata": {},
   "outputs": [],
   "source": [
    "# MAM   98\n",
    "date_98_1 = 1885\n",
    "date_98_2 = 1977\n",
    "data_1 = date_98_1\n",
    "data_2 = date_98_2\n",
    "\n",
    "sea_surface_height_above_geoid_98 = sea_surface_height_above_geoid[data_1:data_2,:,:]\n",
    "sea_surface_height_above_sea_level_98 = sea_surface_height_above_sea_level[data_1:data_2,:,:]"
   ]
  },
  {
   "cell_type": "code",
   "execution_count": 69,
   "id": "8899670c",
   "metadata": {},
   "outputs": [],
   "source": [
    "# MAM   99\n",
    "date_99_1 = 2250\n",
    "date_99_2 = 2342\n",
    "data_1 = date_99_1\n",
    "data_2 = date_99_2\n",
    "\n",
    "sea_surface_height_above_geoid_99 = sea_surface_height_above_geoid[data_1:data_2,:,:]\n",
    "sea_surface_height_above_sea_level_99 = sea_surface_height_above_sea_level[data_1:data_2,:,:]"
   ]
  },
  {
   "cell_type": "code",
   "execution_count": 70,
   "id": "376ec4b1",
   "metadata": {},
   "outputs": [],
   "source": [
    "# MAM   00\n",
    "date_00_1 = 2616\n",
    "date_00_2 = 2708\n",
    "data_1 = date_00_1\n",
    "data_2 = date_00_2\n",
    "\n",
    "sea_surface_height_above_geoid_00 = sea_surface_height_above_geoid[data_1:data_2,:,:]\n",
    "sea_surface_height_above_sea_level_00 = sea_surface_height_above_sea_level[data_1:data_2,:,:]"
   ]
  },
  {
   "cell_type": "code",
   "execution_count": 71,
   "id": "301ff775",
   "metadata": {},
   "outputs": [],
   "source": [
    "# MAM   01\n",
    "date_01_1 = 2981\n",
    "date_01_2 = 3073\n",
    "data_1 = date_01_1\n",
    "data_2 = date_01_2\n",
    "\n",
    "sea_surface_height_above_geoid_01 = sea_surface_height_above_geoid[data_1:data_2,:,:]\n",
    "sea_surface_height_above_sea_level_01 = sea_surface_height_above_sea_level[data_1:data_2,:,:]"
   ]
  },
  {
   "cell_type": "code",
   "execution_count": 72,
   "id": "af135340",
   "metadata": {},
   "outputs": [],
   "source": [
    "# MAM   02\n",
    "date_02_1 = 3346\n",
    "date_02_2 = 3438\n",
    "data_1 = date_02_1\n",
    "data_2 = date_02_2\n",
    "\n",
    "sea_surface_height_above_geoid_02 = sea_surface_height_above_geoid[data_1:data_2,:,:]\n",
    "sea_surface_height_above_sea_level_02 = sea_surface_height_above_sea_level[data_1:data_2,:,:]"
   ]
  },
  {
   "cell_type": "code",
   "execution_count": 73,
   "id": "826e304c",
   "metadata": {},
   "outputs": [],
   "source": [
    "# MAM   03\n",
    "date_03_1 = 3711\n",
    "date_03_2 = 3803\n",
    "data_1 = date_03_1\n",
    "data_2 = date_03_2\n",
    "\n",
    "sea_surface_height_above_geoid_03 = sea_surface_height_above_geoid[data_1:data_2,:,:]\n",
    "sea_surface_height_above_sea_level_03 = sea_surface_height_above_sea_level[data_1:data_2,:,:]"
   ]
  },
  {
   "cell_type": "code",
   "execution_count": 74,
   "id": "9dab8d01",
   "metadata": {},
   "outputs": [],
   "source": [
    "# MAM   04\n",
    "date_04_1 = 4077\n",
    "date_04_2 = 4169\n",
    "data_1 = date_04_1\n",
    "data_2 = date_04_2\n",
    "\n",
    "sea_surface_height_above_geoid_04 = sea_surface_height_above_geoid[data_1:data_2,:,:]\n",
    "sea_surface_height_above_sea_level_04 = sea_surface_height_above_sea_level[data_1:data_2,:,:]"
   ]
  },
  {
   "cell_type": "code",
   "execution_count": 75,
   "id": "172a35e3",
   "metadata": {},
   "outputs": [],
   "source": [
    "# MAM   05\n",
    "date_05_1 = 4442\n",
    "date_05_2 = 4534\n",
    "data_1 = date_05_1\n",
    "data_2 = date_05_2\n",
    "\n",
    "sea_surface_height_above_geoid_05 = sea_surface_height_above_geoid[data_1:data_2,:,:]\n",
    "sea_surface_height_above_sea_level_05 = sea_surface_height_above_sea_level[data_1:data_2,:,:]"
   ]
  },
  {
   "cell_type": "code",
   "execution_count": 76,
   "id": "b683bf19",
   "metadata": {},
   "outputs": [],
   "source": [
    "# MAM   06\n",
    "date_06_1 = 4807\n",
    "date_06_2 = 4899\n",
    "data_1 = date_06_1\n",
    "data_2 = date_06_2\n",
    "\n",
    "sea_surface_height_above_geoid_06 = sea_surface_height_above_geoid[data_1:data_2,:,:]\n",
    "sea_surface_height_above_sea_level_06 = sea_surface_height_above_sea_level[data_1:data_2,:,:]"
   ]
  },
  {
   "cell_type": "code",
   "execution_count": 77,
   "id": "c1e862cd",
   "metadata": {},
   "outputs": [],
   "source": [
    "# MAM   07\n",
    "date_07_1 = 5172\n",
    "date_07_2 = 5264\n",
    "data_1 = date_07_1\n",
    "data_2 = date_07_2\n",
    "\n",
    "sea_surface_height_above_geoid_07 = sea_surface_height_above_geoid[data_1:data_2,:,:]\n",
    "sea_surface_height_above_sea_level_07 = sea_surface_height_above_sea_level[data_1:data_2,:,:]"
   ]
  },
  {
   "cell_type": "code",
   "execution_count": 78,
   "id": "07db4968",
   "metadata": {},
   "outputs": [],
   "source": [
    "# MAM   08\n",
    "date_08_1 = 5538\n",
    "date_08_2 = 5630\n",
    "data_1 = date_08_1\n",
    "data_2 = date_08_2\n",
    "\n",
    "sea_surface_height_above_geoid_08 = sea_surface_height_above_geoid[data_1:data_2,:,:]\n",
    "sea_surface_height_above_sea_level_08 = sea_surface_height_above_sea_level[data_1:data_2,:,:]"
   ]
  },
  {
   "cell_type": "code",
   "execution_count": 79,
   "id": "0ea25d17",
   "metadata": {},
   "outputs": [],
   "source": [
    "# MAM   09\n",
    "date_09_1 = 5903\n",
    "date_09_2 = 5995\n",
    "data_1 = date_09_1\n",
    "data_2 = date_09_2\n",
    "\n",
    "sea_surface_height_above_geoid_09 = sea_surface_height_above_geoid[data_1:data_2,:,:]\n",
    "sea_surface_height_above_sea_level_09 = sea_surface_height_above_sea_level[data_1:data_2,:,:]"
   ]
  },
  {
   "cell_type": "code",
   "execution_count": 80,
   "id": "9cd514db",
   "metadata": {},
   "outputs": [],
   "source": [
    "# MAM   10\n",
    "date_10_1 = 6268\n",
    "date_10_2 = 6360\n",
    "data_1 = date_10_1\n",
    "data_2 = date_10_2\n",
    "\n",
    "sea_surface_height_above_geoid_10 = sea_surface_height_above_geoid[data_1:data_2,:,:]\n",
    "sea_surface_height_above_sea_level_10 = sea_surface_height_above_sea_level[data_1:data_2,:,:]"
   ]
  },
  {
   "cell_type": "code",
   "execution_count": 81,
   "id": "36edfbcc",
   "metadata": {},
   "outputs": [],
   "source": [
    "# MAM   11\n",
    "date_11_1 = 6633\n",
    "date_11_2 = 6725\n",
    "data_1 = date_11_1\n",
    "data_2 = date_11_2\n",
    "\n",
    "sea_surface_height_above_geoid_11 = sea_surface_height_above_geoid[data_1:data_2,:,:]\n",
    "sea_surface_height_above_sea_level_11 = sea_surface_height_above_sea_level[data_1:data_2,:,:]"
   ]
  },
  {
   "cell_type": "code",
   "execution_count": 82,
   "id": "18dfc195",
   "metadata": {},
   "outputs": [],
   "source": [
    "# MAM   12\n",
    "date_12_1 = 6999\n",
    "date_12_2 = 7091\n",
    "data_1 = date_12_1\n",
    "data_2 = date_12_2\n",
    "\n",
    "sea_surface_height_above_geoid_12 = sea_surface_height_above_geoid[data_1:data_2,:,:]\n",
    "sea_surface_height_above_sea_level_12 = sea_surface_height_above_sea_level[data_1:data_2,:,:]"
   ]
  },
  {
   "cell_type": "code",
   "execution_count": 83,
   "id": "c7ce1656",
   "metadata": {},
   "outputs": [],
   "source": [
    "# MAM   13\n",
    "date_13_1 = 7364\n",
    "date_13_2 = 7455\n",
    "data_1 = date_13_1\n",
    "data_2 = date_13_2\n",
    "\n",
    "sea_surface_height_above_geoid_13 = sea_surface_height_above_geoid[data_1:data_2,:,:]\n",
    "sea_surface_height_above_sea_level_13 = sea_surface_height_above_sea_level[data_1:data_2,:,:]"
   ]
  },
  {
   "cell_type": "code",
   "execution_count": 84,
   "id": "87ebd98c",
   "metadata": {},
   "outputs": [],
   "source": [
    "# MAM   14\n",
    "date_14_1 = 7729\n",
    "date_14_2 = 7821\n",
    "data_1 = date_14_1\n",
    "data_2 = date_14_2\n",
    "\n",
    "sea_surface_height_above_geoid_14 = sea_surface_height_above_geoid[data_1:data_2,:,:]\n",
    "sea_surface_height_above_sea_level_14 = sea_surface_height_above_sea_level[data_1:data_2,:,:]"
   ]
  },
  {
   "cell_type": "code",
   "execution_count": 85,
   "id": "b24220eb",
   "metadata": {},
   "outputs": [],
   "source": [
    "# MAM   15\n",
    "date_15_1 = 8094\n",
    "date_15_2 = 8185\n",
    "data_1 = date_15_1\n",
    "data_2 = date_15_2\n",
    "\n",
    "sea_surface_height_above_geoid_15 = sea_surface_height_above_geoid[data_1:data_2,:,:]\n",
    "sea_surface_height_above_sea_level_15 = sea_surface_height_above_sea_level[data_1:data_2,:,:]"
   ]
  },
  {
   "cell_type": "code",
   "execution_count": 86,
   "id": "3af2fdc3",
   "metadata": {},
   "outputs": [],
   "source": [
    "# MAM   16\n",
    "date_16_1 = 8460\n",
    "date_16_2 = 8552\n",
    "data_1 = date_16_1\n",
    "data_2 = date_16_2\n",
    "\n",
    "sea_surface_height_above_geoid_16 = sea_surface_height_above_geoid[data_1:data_2,:,:]\n",
    "sea_surface_height_above_sea_level_16 = sea_surface_height_above_sea_level[data_1:data_2,:,:]"
   ]
  },
  {
   "cell_type": "code",
   "execution_count": 87,
   "id": "485fdb25",
   "metadata": {},
   "outputs": [],
   "source": [
    "# MAM   17\n",
    "date_17_1 = 8825\n",
    "date_17_2 = 8917\n",
    "data_1 = date_17_1\n",
    "data_2 = date_17_2\n",
    "\n",
    "sea_surface_height_above_geoid_17 = sea_surface_height_above_geoid[data_1:data_2,:,:]\n",
    "sea_surface_height_above_sea_level_17 = sea_surface_height_above_sea_level[data_1:data_2,:,:]"
   ]
  },
  {
   "cell_type": "code",
   "execution_count": 88,
   "id": "a5910745",
   "metadata": {},
   "outputs": [],
   "source": [
    "# MAM   18\n",
    "date_18_1 = 9190\n",
    "date_18_2 = 9280\n",
    "data_1 = date_18_1\n",
    "data_2 = date_18_2\n",
    "\n",
    "sea_surface_height_above_geoid_18 = sea_surface_height_above_geoid[data_1:data_2,:,:]\n",
    "sea_surface_height_above_sea_level_18 = sea_surface_height_above_sea_level[data_1:data_2,:,:]"
   ]
  },
  {
   "cell_type": "code",
   "execution_count": 89,
   "id": "419a5e92",
   "metadata": {},
   "outputs": [],
   "source": [
    "# MAM   19\n",
    "date_19_1 = 9542\n",
    "date_19_2 = 9633\n",
    "data_1 = date_19_1\n",
    "data_2 = date_19_2\n",
    "\n",
    "sea_surface_height_above_geoid_19 = sea_surface_height_above_geoid[data_1:data_2,:,:]\n",
    "sea_surface_height_above_sea_level_19 = sea_surface_height_above_sea_level[data_1:data_2,:,:]"
   ]
  },
  {
   "cell_type": "code",
   "execution_count": 90,
   "id": "7aaccf09",
   "metadata": {},
   "outputs": [],
   "source": [
    "sea_surface_height_above_geoid_93_mean = np.mean((sea_surface_height_above_geoid_93), axis = (0,1,2)).reshape(-1,1)"
   ]
  },
  {
   "cell_type": "code",
   "execution_count": 91,
   "id": "bd507fff",
   "metadata": {},
   "outputs": [],
   "source": [
    "sea_surface_height_above_geoid_94_mean = np.mean((sea_surface_height_above_geoid_94), axis = (0,1,2)).reshape(-1,1)\n",
    "sea_surface_height_above_geoid_95_mean = np.mean((sea_surface_height_above_geoid_95), axis = (0,1,2)).reshape(-1,1)\n",
    "sea_surface_height_above_geoid_96_mean = np.mean((sea_surface_height_above_geoid_96), axis = (0,1,2)).reshape(-1,1)\n",
    "sea_surface_height_above_geoid_97_mean = np.mean((sea_surface_height_above_geoid_97), axis = (0,1,2)).reshape(-1,1)\n",
    "sea_surface_height_above_geoid_98_mean = np.mean((sea_surface_height_above_geoid_98), axis = (0,1,2)).reshape(-1,1)\n",
    "sea_surface_height_above_geoid_99_mean = np.mean((sea_surface_height_above_geoid_99), axis = (0,1,2)).reshape(-1,1)\n",
    "sea_surface_height_above_geoid_00_mean = np.mean((sea_surface_height_above_geoid_00), axis = (0,1,2)).reshape(-1,1)\n",
    "sea_surface_height_above_geoid_01_mean = np.mean((sea_surface_height_above_geoid_01), axis = (0,1,2)).reshape(-1,1)\n",
    "sea_surface_height_above_geoid_02_mean = np.mean((sea_surface_height_above_geoid_02), axis = (0,1,2)).reshape(-1,1)\n",
    "sea_surface_height_above_geoid_03_mean = np.mean((sea_surface_height_above_geoid_03), axis = (0,1,2)).reshape(-1,1)\n",
    "sea_surface_height_above_geoid_04_mean = np.mean((sea_surface_height_above_geoid_04), axis = (0,1,2)).reshape(-1,1)\n",
    "sea_surface_height_above_geoid_05_mean = np.mean((sea_surface_height_above_geoid_05), axis = (0,1,2)).reshape(-1,1)\n",
    "sea_surface_height_above_geoid_06_mean = np.mean((sea_surface_height_above_geoid_06), axis = (0,1,2)).reshape(-1,1)\n",
    "sea_surface_height_above_geoid_07_mean = np.mean((sea_surface_height_above_geoid_07), axis = (0,1,2)).reshape(-1,1)\n",
    "sea_surface_height_above_geoid_08_mean = np.mean((sea_surface_height_above_geoid_08), axis = (0,1,2)).reshape(-1,1)\n",
    "sea_surface_height_above_geoid_09_mean = np.mean((sea_surface_height_above_geoid_09), axis = (0,1,2)).reshape(-1,1)\n",
    "sea_surface_height_above_geoid_10_mean = np.mean((sea_surface_height_above_geoid_10), axis = (0,1,2)).reshape(-1,1)\n",
    "sea_surface_height_above_geoid_11_mean = np.mean((sea_surface_height_above_geoid_11), axis = (0,1,2)).reshape(-1,1)\n",
    "sea_surface_height_above_geoid_12_mean = np.mean((sea_surface_height_above_geoid_12), axis = (0,1,2)).reshape(-1,1)\n",
    "sea_surface_height_above_geoid_13_mean = np.mean((sea_surface_height_above_geoid_13), axis = (0,1,2)).reshape(-1,1)\n",
    "sea_surface_height_above_geoid_14_mean = np.mean((sea_surface_height_above_geoid_14), axis = (0,1,2)).reshape(-1,1)\n",
    "sea_surface_height_above_geoid_15_mean = np.mean((sea_surface_height_above_geoid_15), axis = (0,1,2)).reshape(-1,1)\n",
    "sea_surface_height_above_geoid_16_mean = np.mean((sea_surface_height_above_geoid_16), axis = (0,1,2)).reshape(-1,1)\n",
    "sea_surface_height_above_geoid_17_mean = np.mean((sea_surface_height_above_geoid_17), axis = (0,1,2)).reshape(-1,1)\n",
    "sea_surface_height_above_geoid_18_mean = np.mean((sea_surface_height_above_geoid_18), axis = (0,1,2)).reshape(-1,1)\n",
    "sea_surface_height_above_geoid_19_mean = np.mean((sea_surface_height_above_geoid_19), axis = (0,1,2)).reshape(-1,1)"
   ]
  },
  {
   "cell_type": "code",
   "execution_count": 92,
   "id": "27e8f441",
   "metadata": {},
   "outputs": [],
   "source": [
    "sea_surface_height_above_geoid_93_19_mean = np.concatenate((sea_surface_height_above_geoid_93,\n",
    "sea_surface_height_above_geoid_94, sea_surface_height_above_geoid_95, sea_surface_height_above_geoid_96,\n",
    "                                                           sea_surface_height_above_geoid_97, sea_surface_height_above_geoid_98,\n",
    "                                                           sea_surface_height_above_geoid_99, sea_surface_height_above_geoid_00,\n",
    "                                                           sea_surface_height_above_geoid_01, sea_surface_height_above_geoid_02,\n",
    "                                                           sea_surface_height_above_geoid_03, sea_surface_height_above_geoid_04,\n",
    "                                                           sea_surface_height_above_geoid_05, sea_surface_height_above_geoid_06,\n",
    "                                                           sea_surface_height_above_geoid_07, sea_surface_height_above_geoid_08,\n",
    "                                                           sea_surface_height_above_geoid_09, sea_surface_height_above_geoid_10,\n",
    "                                                           sea_surface_height_above_geoid_11, sea_surface_height_above_geoid_12,\n",
    "                                                           sea_surface_height_above_geoid_13, sea_surface_height_above_geoid_14,\n",
    "                                                           sea_surface_height_above_geoid_15, sea_surface_height_above_geoid_16,\n",
    "                                                           sea_surface_height_above_geoid_17, sea_surface_height_above_geoid_18,\n",
    "                                                           sea_surface_height_above_geoid_19), axis = 0)"
   ]
  },
  {
   "cell_type": "code",
   "execution_count": 93,
   "id": "042bb7c9",
   "metadata": {},
   "outputs": [],
   "source": [
    "sea_surface_height_above_geoid_93_19_mean = np.mean((sea_surface_height_above_geoid_93_19_mean), axis = (1,2))"
   ]
  },
  {
   "cell_type": "code",
   "execution_count": 94,
   "id": "a6d53269",
   "metadata": {},
   "outputs": [],
   "source": [
    "sea_surface_height_above_geoid_93_19_mean_all = np.concatenate((sea_surface_height_above_geoid_93_mean,\n",
    "sea_surface_height_above_geoid_94_mean, sea_surface_height_above_geoid_95_mean, \n",
    "                                                                sea_surface_height_above_geoid_96_mean,\n",
    "                                                           sea_surface_height_above_geoid_97_mean, sea_surface_height_above_geoid_98_mean,\n",
    "                                                           sea_surface_height_above_geoid_99_mean, sea_surface_height_above_geoid_00_mean,\n",
    "                                                           sea_surface_height_above_geoid_01_mean, sea_surface_height_above_geoid_02_mean,\n",
    "                                                           sea_surface_height_above_geoid_03_mean, sea_surface_height_above_geoid_04_mean,\n",
    "                                                           sea_surface_height_above_geoid_05_mean, sea_surface_height_above_geoid_06_mean,\n",
    "                                                           sea_surface_height_above_geoid_07_mean, sea_surface_height_above_geoid_08_mean,\n",
    "                                                           sea_surface_height_above_geoid_09_mean, sea_surface_height_above_geoid_10_mean,\n",
    "                                                           sea_surface_height_above_geoid_11_mean, sea_surface_height_above_geoid_12_mean,\n",
    "                                                           sea_surface_height_above_geoid_13_mean, sea_surface_height_above_geoid_14_mean,\n",
    "                                                           sea_surface_height_above_geoid_15_mean, sea_surface_height_above_geoid_16_mean,\n",
    "                                                           sea_surface_height_above_geoid_17_mean, sea_surface_height_above_geoid_18_mean,\n",
    "                                                           sea_surface_height_above_geoid_19_mean), axis = 0)"
   ]
  },
  {
   "cell_type": "code",
   "execution_count": 95,
   "id": "55af5151",
   "metadata": {},
   "outputs": [],
   "source": [
    "sea_surface_height_above_sea_level_93_mean = np.mean((sea_surface_height_above_sea_level_93), axis = (0,1,2)).reshape(-1,1)\n",
    "sea_surface_height_above_sea_level_94_mean = np.mean((sea_surface_height_above_sea_level_94), axis = (0,1,2)).reshape(-1,1)\n",
    "sea_surface_height_above_sea_level_95_mean = np.mean((sea_surface_height_above_sea_level_95), axis = (0,1,2)).reshape(-1,1)\n",
    "sea_surface_height_above_sea_level_96_mean = np.mean((sea_surface_height_above_sea_level_96), axis = (0,1,2)).reshape(-1,1)\n",
    "sea_surface_height_above_sea_level_97_mean = np.mean((sea_surface_height_above_sea_level_97), axis = (0,1,2)).reshape(-1,1)\n",
    "sea_surface_height_above_sea_level_98_mean = np.mean((sea_surface_height_above_sea_level_98), axis = (0,1,2)).reshape(-1,1)\n",
    "sea_surface_height_above_sea_level_99_mean = np.mean((sea_surface_height_above_sea_level_99), axis = (0,1,2)).reshape(-1,1)\n",
    "sea_surface_height_above_sea_level_00_mean = np.mean((sea_surface_height_above_sea_level_00), axis = (0,1,2)).reshape(-1,1)\n",
    "sea_surface_height_above_sea_level_01_mean = np.mean((sea_surface_height_above_sea_level_01), axis = (0,1,2)).reshape(-1,1)\n",
    "sea_surface_height_above_sea_level_02_mean = np.mean((sea_surface_height_above_sea_level_02), axis = (0,1,2)).reshape(-1,1)\n",
    "sea_surface_height_above_sea_level_03_mean = np.mean((sea_surface_height_above_sea_level_03), axis = (0,1,2)).reshape(-1,1)\n",
    "sea_surface_height_above_sea_level_04_mean = np.mean((sea_surface_height_above_sea_level_04), axis = (0,1,2)).reshape(-1,1)\n",
    "sea_surface_height_above_sea_level_05_mean = np.mean((sea_surface_height_above_sea_level_05), axis = (0,1,2)).reshape(-1,1)\n",
    "sea_surface_height_above_sea_level_06_mean = np.mean((sea_surface_height_above_sea_level_06), axis = (0,1,2)).reshape(-1,1)\n",
    "sea_surface_height_above_sea_level_07_mean = np.mean((sea_surface_height_above_sea_level_07), axis = (0,1,2)).reshape(-1,1)\n",
    "sea_surface_height_above_sea_level_08_mean = np.mean((sea_surface_height_above_sea_level_08), axis = (0,1,2)).reshape(-1,1)\n",
    "sea_surface_height_above_sea_level_09_mean = np.mean((sea_surface_height_above_sea_level_09), axis = (0,1,2)).reshape(-1,1)\n",
    "sea_surface_height_above_sea_level_10_mean = np.mean((sea_surface_height_above_sea_level_10), axis = (0,1,2)).reshape(-1,1)\n",
    "sea_surface_height_above_sea_level_11_mean = np.mean((sea_surface_height_above_sea_level_11), axis = (0,1,2)).reshape(-1,1)\n",
    "sea_surface_height_above_sea_level_12_mean = np.mean((sea_surface_height_above_sea_level_12), axis = (0,1,2)).reshape(-1,1)\n",
    "sea_surface_height_above_sea_level_13_mean = np.mean((sea_surface_height_above_sea_level_13), axis = (0,1,2)).reshape(-1,1)\n",
    "sea_surface_height_above_sea_level_14_mean = np.mean((sea_surface_height_above_sea_level_14), axis = (0,1,2)).reshape(-1,1)\n",
    "sea_surface_height_above_sea_level_15_mean = np.mean((sea_surface_height_above_sea_level_15), axis = (0,1,2)).reshape(-1,1)\n",
    "sea_surface_height_above_sea_level_16_mean = np.mean((sea_surface_height_above_sea_level_16), axis = (0,1,2)).reshape(-1,1)\n",
    "sea_surface_height_above_sea_level_17_mean = np.mean((sea_surface_height_above_sea_level_17), axis = (0,1,2)).reshape(-1,1)\n",
    "sea_surface_height_above_sea_level_18_mean = np.mean((sea_surface_height_above_sea_level_18), axis = (0,1,2)).reshape(-1,1)\n",
    "sea_surface_height_above_sea_level_19_mean = np.mean((sea_surface_height_above_sea_level_19), axis = (0,1,2)).reshape(-1,1)"
   ]
  },
  {
   "cell_type": "code",
   "execution_count": 96,
   "id": "bc2701a8",
   "metadata": {},
   "outputs": [],
   "source": [
    "sea_surface_height_above_sea_level_93_19_mean_all = np.concatenate((\n",
    "sea_surface_height_above_sea_level_93_mean, sea_surface_height_above_sea_level_94_mean,\n",
    "sea_surface_height_above_sea_level_95_mean, sea_surface_height_above_sea_level_96_mean,\n",
    "sea_surface_height_above_sea_level_97_mean, sea_surface_height_above_sea_level_98_mean,\n",
    "sea_surface_height_above_sea_level_99_mean, sea_surface_height_above_sea_level_00_mean,\n",
    "sea_surface_height_above_sea_level_01_mean, sea_surface_height_above_sea_level_02_mean,\n",
    "sea_surface_height_above_sea_level_03_mean, sea_surface_height_above_sea_level_04_mean,\n",
    "sea_surface_height_above_sea_level_05_mean, sea_surface_height_above_sea_level_06_mean,\n",
    "sea_surface_height_above_sea_level_07_mean, sea_surface_height_above_sea_level_08_mean,\n",
    "sea_surface_height_above_sea_level_09_mean, sea_surface_height_above_sea_level_10_mean,\n",
    "sea_surface_height_above_sea_level_11_mean, sea_surface_height_above_sea_level_12_mean,\n",
    "sea_surface_height_above_sea_level_13_mean, sea_surface_height_above_sea_level_14_mean,\n",
    "sea_surface_height_above_sea_level_15_mean, sea_surface_height_above_sea_level_16_mean,\n",
    "sea_surface_height_above_sea_level_17_mean, sea_surface_height_above_sea_level_18_mean,\n",
    "sea_surface_height_above_sea_level_19_mean), axis = 0)"
   ]
  },
  {
   "cell_type": "code",
   "execution_count": 97,
   "id": "f8632c09",
   "metadata": {},
   "outputs": [
    {
     "data": {
      "text/plain": [
       "(27, 1)"
      ]
     },
     "execution_count": 97,
     "metadata": {},
     "output_type": "execute_result"
    }
   ],
   "source": [
    "sea_surface_height_above_sea_level_93_19_mean_all.shape"
   ]
  },
  {
   "cell_type": "code",
   "execution_count": 98,
   "id": "306cb3f3",
   "metadata": {},
   "outputs": [],
   "source": [
    "sea_surface_height_above_geoid_93_19 = np.concatenate((sea_surface_height_above_geoid_93,\n",
    "                                                      sea_surface_height_above_geoid_94, sea_surface_height_above_geoid_95,\n",
    "                                                      sea_surface_height_above_geoid_96, sea_surface_height_above_geoid_97,\n",
    "                                                      sea_surface_height_above_geoid_98, sea_surface_height_above_geoid_99,\n",
    "                                                      sea_surface_height_above_geoid_00,\n",
    "                                                      sea_surface_height_above_geoid_01, sea_surface_height_above_geoid_02,\n",
    "                                                      sea_surface_height_above_geoid_03, sea_surface_height_above_geoid_04,\n",
    "                                                      sea_surface_height_above_geoid_05, sea_surface_height_above_geoid_06,\n",
    "                                                      sea_surface_height_above_geoid_07, sea_surface_height_above_geoid_08,\n",
    "                                                      sea_surface_height_above_geoid_09, sea_surface_height_above_geoid_10,\n",
    "                                                      sea_surface_height_above_geoid_11, sea_surface_height_above_geoid_12,\n",
    "                                                      sea_surface_height_above_geoid_13, sea_surface_height_above_geoid_14,\n",
    "                                                      sea_surface_height_above_geoid_15, sea_surface_height_above_geoid_16,\n",
    "                                                      sea_surface_height_above_geoid_17, sea_surface_height_above_geoid_18,\n",
    "                                                      sea_surface_height_above_geoid_19),axis = 0)"
   ]
  },
  {
   "cell_type": "code",
   "execution_count": 99,
   "id": "d05e21fd",
   "metadata": {},
   "outputs": [],
   "source": [
    "sea_surface_height_above_sea_level_93_19 = np.concatenate((sea_surface_height_above_sea_level_93,\n",
    "sea_surface_height_above_sea_level_94, sea_surface_height_above_sea_level_95,\n",
    "                                                          sea_surface_height_above_sea_level_96, sea_surface_height_above_sea_level_97,\n",
    "                                                          sea_surface_height_above_sea_level_98, sea_surface_height_above_sea_level_99,\n",
    "                                                          sea_surface_height_above_sea_level_00, sea_surface_height_above_sea_level_01,\n",
    "                                                          sea_surface_height_above_sea_level_02, sea_surface_height_above_sea_level_03,\n",
    "                                                          sea_surface_height_above_sea_level_04, sea_surface_height_above_sea_level_05,\n",
    "                                                          sea_surface_height_above_sea_level_06, sea_surface_height_above_sea_level_07,\n",
    "                                                          sea_surface_height_above_sea_level_08, sea_surface_height_above_sea_level_09,\n",
    "                                                          sea_surface_height_above_sea_level_10, sea_surface_height_above_sea_level_11,\n",
    "                                                          sea_surface_height_above_sea_level_12, sea_surface_height_above_sea_level_13,\n",
    "                                                          sea_surface_height_above_sea_level_14, sea_surface_height_above_sea_level_15,\n",
    "                                                          sea_surface_height_above_sea_level_16, sea_surface_height_above_sea_level_17,\n",
    "                                                          sea_surface_height_above_sea_level_18, sea_surface_height_above_sea_level_19),axis = 0)"
   ]
  },
  {
   "cell_type": "code",
   "execution_count": 100,
   "id": "b1229faa",
   "metadata": {},
   "outputs": [],
   "source": [
    "sea_surface_height_above_geoid_93_19_mean = np.mean((sea_surface_height_above_geoid_93_19), axis = (1,2)).reshape(-1,1)"
   ]
  },
  {
   "cell_type": "code",
   "execution_count": 101,
   "id": "184e4fb6",
   "metadata": {},
   "outputs": [
    {
     "data": {
      "text/plain": [
       "(2478, 1)"
      ]
     },
     "execution_count": 101,
     "metadata": {},
     "output_type": "execute_result"
    }
   ],
   "source": [
    "sea_surface_height_above_geoid_93_19_mean.shape"
   ]
  },
  {
   "cell_type": "code",
   "execution_count": 102,
   "id": "6f09702b",
   "metadata": {},
   "outputs": [],
   "source": [
    "sea_surface_height_above_geoid_MAM_93 = np.mean(sea_surface_height_above_geoid_93_19_mean[:92]).reshape(-1,1)\n",
    "sea_surface_height_above_geoid_MAM_94 = np.mean(sea_surface_height_above_geoid_93_19_mean[92:184]).reshape(-1,1)\n",
    "sea_surface_height_above_geoid_MAM_95 = np.mean(sea_surface_height_above_geoid_93_19_mean[184:276]).reshape(-1,1)\n",
    "sea_surface_height_above_geoid_MAM_96 = np.mean(sea_surface_height_above_geoid_93_19_mean[276:368]).reshape(-1,1)\n",
    "sea_surface_height_above_geoid_MAM_97 = np.mean(sea_surface_height_above_geoid_93_19_mean[368:460]).reshape(-1,1)\n",
    "sea_surface_height_above_geoid_MAM_98_1 = sea_surface_height_above_geoid_93_19_mean[467:494].reshape(-1,1)\n",
    "sea_surface_height_above_geoid_MAM_98_2 = sea_surface_height_above_geoid_93_19_mean[507:552].reshape(-1,1)\n",
    "sea_surface_height_above_geoid_MAM_98 = np.mean(np.concatenate((sea_surface_height_above_geoid_MAM_98_1, sea_surface_height_above_geoid_MAM_98_2), axis = 0)).reshape(-1,1)\n",
    "sea_surface_height_above_geoid_MAM_98 = np.mean(sea_surface_height_above_geoid_MAM_98, axis = 0).reshape(-1,1)\n",
    "sea_surface_height_above_geoid_MAM_99 = np.mean(sea_surface_height_above_geoid_93_19_mean[552:644]).reshape(-1,1)\n",
    "sea_surface_height_above_geoid_MAM_00 = np.mean(sea_surface_height_above_geoid_93_19_mean[644:736]).reshape(-1,1)\n",
    "sea_surface_height_above_geoid_MAM_01 = np.mean(sea_surface_height_above_geoid_93_19_mean[736:828]).reshape(-1,1)\n",
    "sea_surface_height_above_geoid_MAM_02 = np.mean(sea_surface_height_above_geoid_93_19_mean[828:920]).reshape(-1,1)\n",
    "sea_surface_height_above_geoid_MAM_03 = np.mean(sea_surface_height_above_geoid_93_19_mean[920:1012]).reshape(-1,1)\n",
    "sea_surface_height_above_geoid_MAM_04 = np.mean(sea_surface_height_above_geoid_93_19_mean[1012:1104]).reshape(-1,1)\n",
    "sea_surface_height_above_geoid_MAM_05 = np.mean(sea_surface_height_above_geoid_93_19_mean[1104:1196]).reshape(-1,1)\n",
    "sea_surface_height_above_geoid_MAM_06 = np.mean(sea_surface_height_above_geoid_93_19_mean[1196:1288]).reshape(-1,1)\n",
    "sea_surface_height_above_geoid_MAM_07 = np.mean(sea_surface_height_above_geoid_93_19_mean[1288:1380]).reshape(-1,1)\n",
    "sea_surface_height_above_geoid_MAM_08 = np.mean(sea_surface_height_above_geoid_93_19_mean[1380:1472]).reshape(-1,1)\n",
    "sea_surface_height_above_geoid_MAM_09 = np.mean(sea_surface_height_above_geoid_93_19_mean[1472:1564]).reshape(-1,1)\n",
    "sea_surface_height_above_geoid_MAM_10_1 = sea_surface_height_above_geoid_93_19_mean[1573:1576].reshape(-1,1)\n",
    "sea_surface_height_above_geoid_MAM_10_2 = sea_surface_height_above_geoid_93_19_mean[1622:1656].reshape(-1,1)\n",
    "sea_surface_height_above_geoid_MAM_10 = np.mean(np.concatenate((sea_surface_height_above_geoid_MAM_10_1, sea_surface_height_above_geoid_MAM_10_2), axis = 0)).reshape(-1,1)\n",
    "sea_surface_height_above_geoid_MAM_10 = np.mean(sea_surface_height_above_geoid_MAM_10, axis = 0).reshape(-1,1)\n",
    "sea_surface_height_above_geoid_MAM_11 = np.mean(sea_surface_height_above_geoid_93_19_mean[1656:1748]).reshape(-1,1)\n",
    "sea_surface_height_above_geoid_MAM_12 = np.mean(sea_surface_height_above_geoid_93_19_mean[1748:1840]).reshape(-1,1)\n",
    "sea_surface_height_above_geoid_MAM_13 = np.mean(sea_surface_height_above_geoid_93_19_mean[1840:1932]).reshape(-1,1)\n",
    "sea_surface_height_above_geoid_MAM_14 = np.mean(sea_surface_height_above_geoid_93_19_mean[1932:2024]).reshape(-1,1)\n",
    "sea_surface_height_above_geoid_MAM_15_1 = sea_surface_height_above_geoid_93_19_mean[2024:2049].reshape(-1,1)\n",
    "sea_surface_height_above_geoid_MAM_15_2 = sea_surface_height_above_geoid_93_19_mean[2064:2079].reshape(-1,1)\n",
    "sea_surface_height_above_geoid_MAM_15_3 = sea_surface_height_above_geoid_93_19_mean[2089:2093].reshape(-1,1)\n",
    "sea_surface_height_above_geoid_MAM_15 = np.mean(np.concatenate((sea_surface_height_above_geoid_MAM_15_1, sea_surface_height_above_geoid_MAM_15_2, sea_surface_height_above_geoid_MAM_15_3), axis = 0)).reshape(-1,1)\n",
    "sea_surface_height_above_geoid_MAM_15 = np.mean(sea_surface_height_above_geoid_MAM_15, axis = 0).reshape(-1,1)\n",
    "sea_surface_height_above_geoid_MAM_16 = np.mean(sea_surface_height_above_geoid_93_19_mean[2134:2208]).reshape(-1,1)\n",
    "sea_surface_height_above_geoid_MAM_17_1 = sea_surface_height_above_geoid_93_19_mean[2208:2261].reshape(-1,1)\n",
    "sea_surface_height_above_geoid_MAM_17_2 = sea_surface_height_above_geoid_93_19_mean[2268:2274].reshape(-1,1)\n",
    "sea_surface_height_above_geoid_MAM_17_3 = sea_surface_height_above_geoid_93_19_mean[2280:2300].reshape(-1,1)\n",
    "sea_surface_height_above_geoid_MAM_17 = np.mean(np.concatenate((sea_surface_height_above_geoid_MAM_17_1, sea_surface_height_above_geoid_MAM_17_2, sea_surface_height_above_geoid_MAM_17_3), axis = 0)).reshape(-1,1)\n",
    "sea_surface_height_above_geoid_MAM_17 = np.mean(sea_surface_height_above_geoid_MAM_17, axis = 0).reshape(-1,1)\n",
    "sea_surface_height_above_geoid_MAM_18 = np.mean(sea_surface_height_above_geoid_93_19_mean[2300:2392]).reshape(-1,1)\n",
    "sea_surface_height_above_geoid_MAM_19_1 = sea_surface_height_above_geoid_93_19_mean[2392:2431].reshape(-1,1)\n",
    "sea_surface_height_above_geoid_MAM_19_2 = sea_surface_height_above_geoid_93_19_mean[2438:2444].reshape(-1,1)\n",
    "sea_surface_height_above_geoid_MAM_19_3 = sea_surface_height_above_geoid_93_19_mean[2451:].reshape(-1,1)\n",
    "sea_surface_height_above_geoid_MAM_19 = np.mean(np.concatenate((sea_surface_height_above_geoid_MAM_19_1, sea_surface_height_above_geoid_MAM_19_2, sea_surface_height_above_geoid_MAM_19_3), axis = 0)).reshape(-1,1)\n",
    "sea_surface_height_above_geoid_MAM_19 = np.mean(sea_surface_height_above_geoid_MAM_19, axis = 0).reshape(-1,1)"
   ]
  },
  {
   "cell_type": "code",
   "execution_count": 103,
   "id": "b632466c",
   "metadata": {},
   "outputs": [],
   "source": [
    "sea_surface_height_above_geoid_MAM_93_19_without_MHW_mean = np.concatenate((\n",
    "sea_surface_height_above_geoid_MAM_93, sea_surface_height_above_geoid_MAM_94,\n",
    "sea_surface_height_above_geoid_MAM_95, sea_surface_height_above_geoid_MAM_96,\n",
    "sea_surface_height_above_geoid_MAM_97, sea_surface_height_above_geoid_MAM_98,\n",
    "sea_surface_height_above_geoid_MAM_99, sea_surface_height_above_geoid_MAM_00,\n",
    "sea_surface_height_above_geoid_MAM_01, sea_surface_height_above_geoid_MAM_02,\n",
    "sea_surface_height_above_geoid_MAM_03, sea_surface_height_above_geoid_MAM_04,\n",
    "sea_surface_height_above_geoid_MAM_05, sea_surface_height_above_geoid_MAM_06,\n",
    "sea_surface_height_above_geoid_MAM_07, sea_surface_height_above_geoid_MAM_08,\n",
    "sea_surface_height_above_geoid_MAM_09, sea_surface_height_above_geoid_MAM_10,\n",
    "sea_surface_height_above_geoid_MAM_11, sea_surface_height_above_geoid_MAM_12,\n",
    "sea_surface_height_above_geoid_MAM_13, sea_surface_height_above_geoid_MAM_14,\n",
    "sea_surface_height_above_geoid_MAM_15, sea_surface_height_above_geoid_MAM_16,\n",
    "sea_surface_height_above_geoid_MAM_17, sea_surface_height_above_geoid_MAM_18,\n",
    "sea_surface_height_above_geoid_MAM_19), axis = 0).reshape(-1,1)"
   ]
  },
  {
   "cell_type": "code",
   "execution_count": 104,
   "id": "989ba414",
   "metadata": {},
   "outputs": [
    {
     "data": {
      "text/plain": [
       "(27, 1)"
      ]
     },
     "execution_count": 104,
     "metadata": {},
     "output_type": "execute_result"
    }
   ],
   "source": [
    "sea_surface_height_above_geoid_MAM_93_19_without_MHW_mean.shape"
   ]
  },
  {
   "cell_type": "code",
   "execution_count": 105,
   "id": "dffc4968",
   "metadata": {},
   "outputs": [
    {
     "data": {
      "text/plain": [
       "(2499, 1)"
      ]
     },
     "execution_count": 105,
     "metadata": {},
     "output_type": "execute_result"
    }
   ],
   "source": [
    "sea_surface_height_above_sea_level_93_19_mean.shape"
   ]
  },
  {
   "cell_type": "code",
   "execution_count": 106,
   "id": "d5989785",
   "metadata": {},
   "outputs": [],
   "source": [
    "sea_surface_height_above_sea_level_MAM_93 = np.mean(sea_surface_height_above_sea_level_93_19_mean[:92]).reshape(-1,1)\n",
    "sea_surface_height_above_sea_level_MAM_94 = np.mean(sea_surface_height_above_sea_level_93_19_mean[92:184]).reshape(-1,1)\n",
    "sea_surface_height_above_sea_level_MAM_95 = np.mean(sea_surface_height_above_sea_level_93_19_mean[184:276]).reshape(-1,1)\n",
    "sea_surface_height_above_sea_level_MAM_96 = np.mean(sea_surface_height_above_sea_level_93_19_mean[276:368]).reshape(-1,1)\n",
    "sea_surface_height_above_sea_level_MAM_97 = np.mean(sea_surface_height_above_sea_level_93_19_mean[368:460]).reshape(-1,1)\n",
    "sea_surface_height_above_sea_level_MAM_98_1 = sea_surface_height_above_sea_level_93_19_mean[467:494].reshape(-1,1)\n",
    "sea_surface_height_above_sea_level_MAM_98_2 = sea_surface_height_above_sea_level_93_19_mean[507:552].reshape(-1,1)\n",
    "sea_surface_height_above_sea_level_MAM_98 = np.mean(np.concatenate((sea_surface_height_above_sea_level_MAM_98_1, sea_surface_height_above_sea_level_MAM_98_2), axis = 0)).reshape(-1,1)\n",
    "sea_surface_height_above_sea_level_MAM_98 = np.mean(sea_surface_height_above_sea_level_MAM_98, axis = 0).reshape(-1,1)\n",
    "sea_surface_height_above_sea_level_MAM_99 = np.mean(sea_surface_height_above_sea_level_93_19_mean[552:644]).reshape(-1,1)\n",
    "sea_surface_height_above_sea_level_MAM_00 = np.mean(sea_surface_height_above_sea_level_93_19_mean[644:736]).reshape(-1,1)\n",
    "sea_surface_height_above_sea_level_MAM_01 = np.mean(sea_surface_height_above_sea_level_93_19_mean[736:828]).reshape(-1,1)\n",
    "sea_surface_height_above_sea_level_MAM_02 = np.mean(sea_surface_height_above_sea_level_93_19_mean[828:920]).reshape(-1,1)\n",
    "sea_surface_height_above_sea_level_MAM_03 = np.mean(sea_surface_height_above_sea_level_93_19_mean[920:1012]).reshape(-1,1)\n",
    "sea_surface_height_above_sea_level_MAM_04 = np.mean(sea_surface_height_above_sea_level_93_19_mean[1012:1104]).reshape(-1,1)\n",
    "sea_surface_height_above_sea_level_MAM_05 = np.mean(sea_surface_height_above_sea_level_93_19_mean[1104:1196]).reshape(-1,1)\n",
    "sea_surface_height_above_sea_level_MAM_06 = np.mean(sea_surface_height_above_sea_level_93_19_mean[1196:1288]).reshape(-1,1)\n",
    "sea_surface_height_above_sea_level_MAM_07 = np.mean(sea_surface_height_above_sea_level_93_19_mean[1288:1380]).reshape(-1,1)\n",
    "sea_surface_height_above_sea_level_MAM_08 = np.mean(sea_surface_height_above_sea_level_93_19_mean[1380:1472]).reshape(-1,1)\n",
    "sea_surface_height_above_sea_level_MAM_09 = np.mean(sea_surface_height_above_sea_level_93_19_mean[1472:1564]).reshape(-1,1)\n",
    "sea_surface_height_above_sea_level_MAM_10_1 = sea_surface_height_above_sea_level_93_19_mean[1573:1576].reshape(-1,1)\n",
    "sea_surface_height_above_sea_level_MAM_10_2 = sea_surface_height_above_sea_level_93_19_mean[1622:1656].reshape(-1,1)\n",
    "sea_surface_height_above_sea_level_MAM_10 = np.mean(np.concatenate((sea_surface_height_above_sea_level_MAM_10_1, sea_surface_height_above_sea_level_MAM_10_2), axis = 0)).reshape(-1,1)\n",
    "sea_surface_height_above_sea_level_MAM_10 = np.mean(sea_surface_height_above_sea_level_MAM_10, axis = 0).reshape(-1,1)\n",
    "sea_surface_height_above_sea_level_MAM_11 = np.mean(sea_surface_height_above_sea_level_93_19_mean[1656:1748]).reshape(-1,1)\n",
    "sea_surface_height_above_sea_level_MAM_12 = np.mean(sea_surface_height_above_sea_level_93_19_mean[1748:1840]).reshape(-1,1)\n",
    "sea_surface_height_above_sea_level_MAM_13 = np.mean(sea_surface_height_above_sea_level_93_19_mean[1840:1932]).reshape(-1,1)\n",
    "sea_surface_height_above_sea_level_MAM_14 = np.mean(sea_surface_height_above_sea_level_93_19_mean[1932:2024]).reshape(-1,1)\n",
    "sea_surface_height_above_sea_level_MAM_15_1 = sea_surface_height_above_sea_level_93_19_mean[2024:2049].reshape(-1,1)\n",
    "sea_surface_height_above_sea_level_MAM_15_2 = sea_surface_height_above_sea_level_93_19_mean[2064:2079].reshape(-1,1)\n",
    "sea_surface_height_above_sea_level_MAM_15_3 = sea_surface_height_above_sea_level_93_19_mean[2089:2093].reshape(-1,1)\n",
    "sea_surface_height_above_sea_level_MAM_15 = np.mean(np.concatenate((sea_surface_height_above_sea_level_MAM_15_1, sea_surface_height_above_sea_level_MAM_15_2, sea_surface_height_above_sea_level_MAM_15_3), axis = 0)).reshape(-1,1)\n",
    "sea_surface_height_above_sea_level_MAM_15 = np.mean(sea_surface_height_above_sea_level_MAM_15, axis = 0).reshape(-1,1)\n",
    "sea_surface_height_above_sea_level_MAM_16 = np.mean(sea_surface_height_above_sea_level_93_19_mean[2134:2208]).reshape(-1,1)\n",
    "sea_surface_height_above_sea_level_MAM_17_1 = sea_surface_height_above_sea_level_93_19_mean[2208:2261].reshape(-1,1)\n",
    "sea_surface_height_above_sea_level_MAM_17_2 = sea_surface_height_above_sea_level_93_19_mean[2268:2274].reshape(-1,1)\n",
    "sea_surface_height_above_sea_level_MAM_17_3 = sea_surface_height_above_sea_level_93_19_mean[2280:2300].reshape(-1,1)\n",
    "sea_surface_height_above_sea_level_MAM_17 = np.mean(np.concatenate((sea_surface_height_above_sea_level_MAM_17_1, sea_surface_height_above_sea_level_MAM_17_2, sea_surface_height_above_sea_level_MAM_17_3), axis = 0)).reshape(-1,1)\n",
    "sea_surface_height_above_sea_level_MAM_17 = np.mean(sea_surface_height_above_sea_level_MAM_17, axis = 0).reshape(-1,1)\n",
    "sea_surface_height_above_sea_level_MAM_18 = np.mean(sea_surface_height_above_sea_level_93_19_mean[2300:2392]).reshape(-1,1)\n",
    "sea_surface_height_above_sea_level_MAM_19_1 = sea_surface_height_above_sea_level_93_19_mean[2392:2431].reshape(-1,1)\n",
    "sea_surface_height_above_sea_level_MAM_19_2 = sea_surface_height_above_sea_level_93_19_mean[2438:2444].reshape(-1,1)\n",
    "sea_surface_height_above_sea_level_MAM_19_3 = sea_surface_height_above_sea_level_93_19_mean[2451:].reshape(-1,1)\n",
    "sea_surface_height_above_sea_level_MAM_19 = np.mean(np.concatenate((sea_surface_height_above_sea_level_MAM_19_1, sea_surface_height_above_sea_level_MAM_19_2, sea_surface_height_above_sea_level_MAM_19_3), axis = 0)).reshape(-1,1)\n",
    "sea_surface_height_above_sea_level_MAM_19 = np.mean(sea_surface_height_above_sea_level_MAM_19, axis = 0).reshape(-1,1)"
   ]
  },
  {
   "cell_type": "code",
   "execution_count": 107,
   "id": "57708a59",
   "metadata": {},
   "outputs": [],
   "source": [
    "sea_surface_height_above_sea_level_MAM_93_19_without_MHW_mean = np.concatenate((\n",
    "sea_surface_height_above_sea_level_MAM_93, sea_surface_height_above_sea_level_MAM_94,\n",
    "sea_surface_height_above_sea_level_MAM_95, sea_surface_height_above_sea_level_MAM_96,\n",
    "sea_surface_height_above_sea_level_MAM_97, sea_surface_height_above_sea_level_MAM_98,\n",
    "sea_surface_height_above_sea_level_MAM_99, sea_surface_height_above_sea_level_MAM_00,\n",
    "sea_surface_height_above_sea_level_MAM_01, sea_surface_height_above_sea_level_MAM_02,\n",
    "sea_surface_height_above_sea_level_MAM_03, sea_surface_height_above_sea_level_MAM_04,\n",
    "sea_surface_height_above_sea_level_MAM_05, sea_surface_height_above_sea_level_MAM_06,\n",
    "sea_surface_height_above_sea_level_MAM_07, sea_surface_height_above_sea_level_MAM_08,\n",
    "sea_surface_height_above_sea_level_MAM_09, sea_surface_height_above_sea_level_MAM_10,\n",
    "sea_surface_height_above_sea_level_MAM_11, sea_surface_height_above_sea_level_MAM_12,\n",
    "sea_surface_height_above_sea_level_MAM_13, sea_surface_height_above_sea_level_MAM_14,\n",
    "sea_surface_height_above_sea_level_MAM_15, sea_surface_height_above_sea_level_MAM_16,\n",
    "sea_surface_height_above_sea_level_MAM_17, sea_surface_height_above_sea_level_MAM_18,\n",
    "sea_surface_height_above_sea_level_MAM_19), axis = 0).reshape(-1,1)"
   ]
  },
  {
   "cell_type": "code",
   "execution_count": 108,
   "id": "568ce7b5",
   "metadata": {},
   "outputs": [
    {
     "data": {
      "text/plain": [
       "(27, 1)"
      ]
     },
     "execution_count": 108,
     "metadata": {},
     "output_type": "execute_result"
    }
   ],
   "source": [
    "sea_surface_height_above_sea_level_MAM_93_19_without_MHW_mean.shape"
   ]
  },
  {
   "cell_type": "code",
   "execution_count": 109,
   "id": "755ada66",
   "metadata": {},
   "outputs": [
    {
     "data": {
      "text/plain": [
       "(27, 1)"
      ]
     },
     "execution_count": 109,
     "metadata": {},
     "output_type": "execute_result"
    }
   ],
   "source": [
    "sea_surface_height_above_geoid_93_19_mean_all.shape"
   ]
  },
  {
   "cell_type": "code",
   "execution_count": 110,
   "id": "60bf49ac",
   "metadata": {},
   "outputs": [
    {
     "data": {
      "text/plain": [
       "(27, 1)"
      ]
     },
     "execution_count": 110,
     "metadata": {},
     "output_type": "execute_result"
    }
   ],
   "source": [
    "sea_surface_height_above_sea_level_93_19_mean_all.shape"
   ]
  },
  {
   "cell_type": "code",
   "execution_count": 111,
   "id": "e9594b30",
   "metadata": {},
   "outputs": [],
   "source": [
    "np.savez(r'D:\\博士工作\\第三篇论文_MHW_AI\\data\\pacific\\last\\low_cloud\\E_P_cloud_MAM_Plot_with_without_MHW.npz',\n",
    "         low_cloud_cover_MAM_93_19_with_MHW_mean = sea_surface_height_above_geoid_93_19_mean_all,\n",
    "         E_JJA_93_19_with_MAM_mean = sea_surface_height_above_sea_level_93_19_mean_all,\n",
    "        low_cloud_cover_MAM_93_19_without_MHW_mean = sea_surface_height_above_geoid_MAM_93_19_without_MHW_mean,\n",
    "        E_P_MAM_93_19_without_MHW_mean = sea_surface_height_above_sea_level_MAM_93_19_without_MHW_mean)"
   ]
  },
  {
   "cell_type": "code",
   "execution_count": null,
   "id": "e71ab518",
   "metadata": {},
   "outputs": [],
   "source": []
  },
  {
   "cell_type": "code",
   "execution_count": 112,
   "id": "aece243d",
   "metadata": {},
   "outputs": [],
   "source": [
    "sea_surface_height_above_geoid = low_cloud_cover\n",
    "sea_surface_height_above_sea_level = potential_evaporation"
   ]
  },
  {
   "cell_type": "code",
   "execution_count": 113,
   "id": "c4ec1fe7",
   "metadata": {},
   "outputs": [],
   "source": [
    "# SON   93\n",
    "date_93_1 = 243\n",
    "date_93_2 = 334\n",
    "data_1 = date_93_1\n",
    "data_2 = date_93_2\n",
    "\n",
    "sea_surface_height_above_geoid_93 = sea_surface_height_above_geoid[data_1:data_2,:,:]\n",
    "sea_surface_height_above_sea_level_93 = sea_surface_height_above_sea_level[data_1:data_2,:,:]"
   ]
  },
  {
   "cell_type": "code",
   "execution_count": 114,
   "id": "4946c498",
   "metadata": {},
   "outputs": [],
   "source": [
    "# SON   94\n",
    "date_94_1 = 608\n",
    "date_94_2 = 699\n",
    "data_1 = date_94_1\n",
    "data_2 = date_94_2\n",
    "\n",
    "sea_surface_height_above_geoid_94 = sea_surface_height_above_geoid[data_1:data_2,:,:]\n",
    "sea_surface_height_above_sea_level_94 = sea_surface_height_above_sea_level[data_1:data_2,:,:]"
   ]
  },
  {
   "cell_type": "code",
   "execution_count": 115,
   "id": "99de4b3f",
   "metadata": {},
   "outputs": [],
   "source": [
    "# SON   95\n",
    "date_95_1 = 973\n",
    "date_95_2 = 1064\n",
    "data_1 = date_95_1\n",
    "data_2 = date_95_2\n",
    "\n",
    "sea_surface_height_above_geoid_95 = sea_surface_height_above_geoid[data_1:data_2,:,:]\n",
    "sea_surface_height_above_sea_level_95 = sea_surface_height_above_sea_level[data_1:data_2,:,:]"
   ]
  },
  {
   "cell_type": "code",
   "execution_count": 116,
   "id": "ab6ad686",
   "metadata": {},
   "outputs": [],
   "source": [
    "# SON   96\n",
    "date_96_1 = 1339\n",
    "date_96_2 = 1430\n",
    "data_1 = date_96_1\n",
    "data_2 = date_96_2\n",
    "\n",
    "sea_surface_height_above_geoid_96 = sea_surface_height_above_geoid[data_1:data_2,:,:]\n",
    "sea_surface_height_above_sea_level_96 = sea_surface_height_above_sea_level[data_1:data_2,:,:]"
   ]
  },
  {
   "cell_type": "code",
   "execution_count": 117,
   "id": "0d47f8fd",
   "metadata": {},
   "outputs": [],
   "source": [
    "# SON   97\n",
    "date_97_1 = 1704\n",
    "date_97_2 = 1795\n",
    "data_1 = date_97_1\n",
    "data_2 = date_97_2\n",
    "\n",
    "sea_surface_height_above_geoid_97 = sea_surface_height_above_geoid[data_1:data_2,:,:]\n",
    "sea_surface_height_above_sea_level_97 = sea_surface_height_above_sea_level[data_1:data_2,:,:]"
   ]
  },
  {
   "cell_type": "code",
   "execution_count": 118,
   "id": "f55980b7",
   "metadata": {},
   "outputs": [],
   "source": [
    "# SON   98\n",
    "date_98_1 = 2069\n",
    "date_98_2 = 2160\n",
    "data_1 = date_98_1\n",
    "data_2 = date_98_2\n",
    "\n",
    "sea_surface_height_above_geoid_98 = sea_surface_height_above_geoid[data_1:data_2,:,:]\n",
    "sea_surface_height_above_sea_level_98 = sea_surface_height_above_sea_level[data_1:data_2,:,:]"
   ]
  },
  {
   "cell_type": "code",
   "execution_count": 119,
   "id": "3d7d5e36",
   "metadata": {},
   "outputs": [],
   "source": [
    "# SON   99\n",
    "date_99_1 = 2434\n",
    "date_99_2 = 2525\n",
    "data_1 = date_99_1\n",
    "data_2 = date_99_2\n",
    "\n",
    "sea_surface_height_above_geoid_99 = sea_surface_height_above_geoid[data_1:data_2,:,:]\n",
    "sea_surface_height_above_sea_level_99 = sea_surface_height_above_sea_level[data_1:data_2,:,:]"
   ]
  },
  {
   "cell_type": "code",
   "execution_count": 120,
   "id": "23144aba",
   "metadata": {},
   "outputs": [],
   "source": [
    "# SON   00\n",
    "date_00_1 = 2800\n",
    "date_00_2 = 2891\n",
    "data_1 = date_00_1\n",
    "data_2 = date_00_2\n",
    "\n",
    "sea_surface_height_above_geoid_00 = sea_surface_height_above_geoid[data_1:data_2,:,:]\n",
    "sea_surface_height_above_sea_level_00 = sea_surface_height_above_sea_level[data_1:data_2,:,:]"
   ]
  },
  {
   "cell_type": "code",
   "execution_count": 121,
   "id": "9e1ca2a8",
   "metadata": {},
   "outputs": [],
   "source": [
    "# SON   01\n",
    "date_01_1 = 3165\n",
    "date_01_2 = 3256\n",
    "data_1 = date_01_1\n",
    "data_2 = date_01_2\n",
    "\n",
    "sea_surface_height_above_geoid_01 = sea_surface_height_above_geoid[data_1:data_2,:,:]\n",
    "sea_surface_height_above_sea_level_01 = sea_surface_height_above_sea_level[data_1:data_2,:,:]"
   ]
  },
  {
   "cell_type": "code",
   "execution_count": 122,
   "id": "467f1f61",
   "metadata": {},
   "outputs": [],
   "source": [
    "# SON   02\n",
    "date_02_1 = 3529\n",
    "date_02_2 = 3620\n",
    "data_1 = date_02_1\n",
    "data_2 = date_02_2\n",
    "\n",
    "sea_surface_height_above_geoid_02 = sea_surface_height_above_geoid[data_1:data_2,:,:]\n",
    "sea_surface_height_above_sea_level_02 = sea_surface_height_above_sea_level[data_1:data_2,:,:]"
   ]
  },
  {
   "cell_type": "code",
   "execution_count": 123,
   "id": "86fe3435",
   "metadata": {},
   "outputs": [],
   "source": [
    "# SON   03\n",
    "date_03_1 = 3895\n",
    "date_03_2 = 3986\n",
    "data_1 = date_03_1\n",
    "data_2 = date_03_2\n",
    "\n",
    "sea_surface_height_above_geoid_03 = sea_surface_height_above_geoid[data_1:data_2,:,:]\n",
    "sea_surface_height_above_sea_level_03 = sea_surface_height_above_sea_level[data_1:data_2,:,:]"
   ]
  },
  {
   "cell_type": "code",
   "execution_count": 124,
   "id": "d38e30c8",
   "metadata": {},
   "outputs": [],
   "source": [
    "# SON   04\n",
    "date_04_1 = 4261\n",
    "date_04_2 = 4352\n",
    "data_1 = date_04_1\n",
    "data_2 = date_04_2\n",
    "\n",
    "sea_surface_height_above_geoid_04 = sea_surface_height_above_geoid[data_1:data_2,:,:]\n",
    "sea_surface_height_above_sea_level_04 = sea_surface_height_above_sea_level[data_1:data_2,:,:]"
   ]
  },
  {
   "cell_type": "code",
   "execution_count": 125,
   "id": "8091af74",
   "metadata": {},
   "outputs": [],
   "source": [
    "# SON   05\n",
    "date_05_1 = 4626\n",
    "date_05_2 = 4717\n",
    "data_1 = date_05_1\n",
    "data_2 = date_05_2\n",
    "\n",
    "sea_surface_height_above_geoid_05 = sea_surface_height_above_geoid[data_1:data_2,:,:]\n",
    "sea_surface_height_above_sea_level_05 = sea_surface_height_above_sea_level[data_1:data_2,:,:]"
   ]
  },
  {
   "cell_type": "code",
   "execution_count": 126,
   "id": "69a74074",
   "metadata": {},
   "outputs": [],
   "source": [
    "# SON   06\n",
    "date_06_1 = 4990\n",
    "date_06_2 = 5081\n",
    "data_1 = date_06_1\n",
    "data_2 = date_06_2\n",
    "\n",
    "sea_surface_height_above_geoid_06 = sea_surface_height_above_geoid[data_1:data_2,:,:]\n",
    "sea_surface_height_above_sea_level_06 = sea_surface_height_above_sea_level[data_1:data_2,:,:]"
   ]
  },
  {
   "cell_type": "code",
   "execution_count": 127,
   "id": "b07ab05b",
   "metadata": {},
   "outputs": [],
   "source": [
    "# SON   07\n",
    "date_07_1 = 5356\n",
    "date_07_2 = 5447\n",
    "data_1 = date_07_1\n",
    "data_2 = date_07_2\n",
    "\n",
    "sea_surface_height_above_geoid_07 = sea_surface_height_above_geoid[data_1:data_2,:,:]\n",
    "sea_surface_height_above_sea_level_07 = sea_surface_height_above_sea_level[data_1:data_2,:,:]"
   ]
  },
  {
   "cell_type": "code",
   "execution_count": 128,
   "id": "32245853",
   "metadata": {},
   "outputs": [],
   "source": [
    "# SON   08\n",
    "date_08_1 = 5722\n",
    "date_08_2 = 5813\n",
    "data_1 = date_08_1\n",
    "data_2 = date_08_2\n",
    "\n",
    "sea_surface_height_above_geoid_08 = sea_surface_height_above_geoid[data_1:data_2,:,:]\n",
    "sea_surface_height_above_sea_level_08 = sea_surface_height_above_sea_level[data_1:data_2,:,:]"
   ]
  },
  {
   "cell_type": "code",
   "execution_count": 129,
   "id": "8265e27c",
   "metadata": {},
   "outputs": [],
   "source": [
    "# SON   09\n",
    "date_09_1 = 6087\n",
    "date_09_2 = 6178\n",
    "data_1 = date_09_1\n",
    "data_2 = date_09_2\n",
    "\n",
    "sea_surface_height_above_geoid_09 = sea_surface_height_above_geoid[data_1:data_2,:,:]\n",
    "sea_surface_height_above_sea_level_09 = sea_surface_height_above_sea_level[data_1:data_2,:,:]"
   ]
  },
  {
   "cell_type": "code",
   "execution_count": 130,
   "id": "7c61f510",
   "metadata": {},
   "outputs": [],
   "source": [
    "# SON   10\n",
    "date_10_1 = 6452\n",
    "date_10_2 = 6543\n",
    "data_1 = date_10_1\n",
    "data_2 = date_10_2\n",
    "\n",
    "sea_surface_height_above_geoid_10 = sea_surface_height_above_geoid[data_1:data_2,:,:]\n",
    "sea_surface_height_above_sea_level_10 = sea_surface_height_above_sea_level[data_1:data_2,:,:]"
   ]
  },
  {
   "cell_type": "code",
   "execution_count": 131,
   "id": "d5b90b53",
   "metadata": {},
   "outputs": [],
   "source": [
    "# SON   11\n",
    "date_11_1 = 6817\n",
    "date_11_2 = 6908\n",
    "data_1 = date_11_1\n",
    "data_2 = date_11_2\n",
    "\n",
    "sea_surface_height_above_geoid_11 = sea_surface_height_above_geoid[data_1:data_2,:,:]\n",
    "sea_surface_height_above_sea_level_11 = sea_surface_height_above_sea_level[data_1:data_2,:,:]"
   ]
  },
  {
   "cell_type": "code",
   "execution_count": 132,
   "id": "9faaabd6",
   "metadata": {},
   "outputs": [],
   "source": [
    "# SON   12\n",
    "date_12_1 = 7183\n",
    "date_12_2 = 7274\n",
    "data_1 = date_12_1\n",
    "data_2 = date_12_2\n",
    "\n",
    "sea_surface_height_above_geoid_12 = sea_surface_height_above_geoid[data_1:data_2,:,:]\n",
    "sea_surface_height_above_sea_level_12 = sea_surface_height_above_sea_level[data_1:data_2,:,:]"
   ]
  },
  {
   "cell_type": "code",
   "execution_count": 133,
   "id": "fab3c7ca",
   "metadata": {},
   "outputs": [],
   "source": [
    "# SON   13\n",
    "date_13_1 = 7548\n",
    "date_13_2 = 7639\n",
    "data_1 = date_13_1\n",
    "data_2 = date_13_2\n",
    "\n",
    "sea_surface_height_above_geoid_13 = sea_surface_height_above_geoid[data_1:data_2,:,:]\n",
    "sea_surface_height_above_sea_level_13 = sea_surface_height_above_sea_level[data_1:data_2,:,:]"
   ]
  },
  {
   "cell_type": "code",
   "execution_count": 134,
   "id": "93c703e5",
   "metadata": {},
   "outputs": [],
   "source": [
    "# SON   14\n",
    "date_14_1 = 7913\n",
    "date_14_2 = 8004\n",
    "data_1 = date_14_1\n",
    "data_2 = date_14_2\n",
    "\n",
    "sea_surface_height_above_geoid_14 = sea_surface_height_above_geoid[data_1:data_2,:,:]\n",
    "sea_surface_height_above_sea_level_14 = sea_surface_height_above_sea_level[data_1:data_2,:,:]"
   ]
  },
  {
   "cell_type": "code",
   "execution_count": 135,
   "id": "f5a96984",
   "metadata": {},
   "outputs": [],
   "source": [
    "# SON   15\n",
    "date_15_1 = 8278\n",
    "date_15_2 = 8369\n",
    "data_1 = date_15_1\n",
    "data_2 = date_15_2\n",
    "\n",
    "sea_surface_height_above_geoid_15 = sea_surface_height_above_geoid[data_1:data_2,:,:]\n",
    "sea_surface_height_above_sea_level_15 = sea_surface_height_above_sea_level[data_1:data_2,:,:]"
   ]
  },
  {
   "cell_type": "code",
   "execution_count": 136,
   "id": "a75b9ee9",
   "metadata": {},
   "outputs": [],
   "source": [
    "# SON   16\n",
    "date_16_1 = 8644\n",
    "date_16_2 = 8735\n",
    "data_1 = date_16_1\n",
    "data_2 = date_16_2\n",
    "\n",
    "sea_surface_height_above_geoid_16 = sea_surface_height_above_geoid[data_1:data_2,:,:]\n",
    "sea_surface_height_above_sea_level_16 = sea_surface_height_above_sea_level[data_1:data_2,:,:]"
   ]
  },
  {
   "cell_type": "code",
   "execution_count": 137,
   "id": "011eb2e9",
   "metadata": {},
   "outputs": [],
   "source": [
    "# SON   17\n",
    "date_17_1 = 9009\n",
    "date_17_2 = 9100\n",
    "data_1 = date_17_1\n",
    "data_2 = date_17_2\n",
    "\n",
    "sea_surface_height_above_geoid_17 = sea_surface_height_above_geoid[data_1:data_2,:,:]\n",
    "sea_surface_height_above_sea_level_17 = sea_surface_height_above_sea_level[data_1:data_2,:,:]"
   ]
  },
  {
   "cell_type": "code",
   "execution_count": 138,
   "id": "f6ebf176",
   "metadata": {},
   "outputs": [],
   "source": [
    "# SON   18\n",
    "date_18_1 = 9374\n",
    "date_18_2 = 9465\n",
    "data_1 = date_18_1\n",
    "data_2 = date_18_2\n",
    "\n",
    "sea_surface_height_above_geoid_18 = sea_surface_height_above_geoid[data_1:data_2,:,:]\n",
    "sea_surface_height_above_sea_level_18 = sea_surface_height_above_sea_level[data_1:data_2,:,:]"
   ]
  },
  {
   "cell_type": "code",
   "execution_count": 139,
   "id": "f8592ecd",
   "metadata": {},
   "outputs": [],
   "source": [
    "# SON   19\n",
    "date_19_1 = 9739\n",
    "date_19_2 = 9830\n",
    "data_1 = date_19_1\n",
    "data_2 = date_19_2\n",
    "\n",
    "sea_surface_height_above_geoid_19 = sea_surface_height_above_geoid[data_1:data_2,:,:]\n",
    "sea_surface_height_above_sea_level_19 = sea_surface_height_above_sea_level[data_1:data_2,:,:]"
   ]
  },
  {
   "cell_type": "code",
   "execution_count": 140,
   "id": "83d436e1",
   "metadata": {},
   "outputs": [],
   "source": [
    "sea_surface_height_above_geoid_93_mean = np.mean((sea_surface_height_above_geoid_93), axis = (0,1,2)).reshape(-1,1)"
   ]
  },
  {
   "cell_type": "code",
   "execution_count": 141,
   "id": "7b3de805",
   "metadata": {},
   "outputs": [],
   "source": [
    "sea_surface_height_above_geoid_94_mean = np.mean((sea_surface_height_above_geoid_94), axis = (0,1,2)).reshape(-1,1)\n",
    "sea_surface_height_above_geoid_95_mean = np.mean((sea_surface_height_above_geoid_95), axis = (0,1,2)).reshape(-1,1)\n",
    "sea_surface_height_above_geoid_96_mean = np.mean((sea_surface_height_above_geoid_96), axis = (0,1,2)).reshape(-1,1)\n",
    "sea_surface_height_above_geoid_97_mean = np.mean((sea_surface_height_above_geoid_97), axis = (0,1,2)).reshape(-1,1)\n",
    "sea_surface_height_above_geoid_98_mean = np.mean((sea_surface_height_above_geoid_98), axis = (0,1,2)).reshape(-1,1)\n",
    "sea_surface_height_above_geoid_99_mean = np.mean((sea_surface_height_above_geoid_99), axis = (0,1,2)).reshape(-1,1)\n",
    "sea_surface_height_above_geoid_00_mean = np.mean((sea_surface_height_above_geoid_00), axis = (0,1,2)).reshape(-1,1)\n",
    "sea_surface_height_above_geoid_01_mean = np.mean((sea_surface_height_above_geoid_01), axis = (0,1,2)).reshape(-1,1)\n",
    "sea_surface_height_above_geoid_02_mean = np.mean((sea_surface_height_above_geoid_02), axis = (0,1,2)).reshape(-1,1)\n",
    "sea_surface_height_above_geoid_03_mean = np.mean((sea_surface_height_above_geoid_03), axis = (0,1,2)).reshape(-1,1)\n",
    "sea_surface_height_above_geoid_04_mean = np.mean((sea_surface_height_above_geoid_04), axis = (0,1,2)).reshape(-1,1)\n",
    "sea_surface_height_above_geoid_05_mean = np.mean((sea_surface_height_above_geoid_05), axis = (0,1,2)).reshape(-1,1)\n",
    "sea_surface_height_above_geoid_06_mean = np.mean((sea_surface_height_above_geoid_06), axis = (0,1,2)).reshape(-1,1)\n",
    "sea_surface_height_above_geoid_07_mean = np.mean((sea_surface_height_above_geoid_07), axis = (0,1,2)).reshape(-1,1)\n",
    "sea_surface_height_above_geoid_08_mean = np.mean((sea_surface_height_above_geoid_08), axis = (0,1,2)).reshape(-1,1)\n",
    "sea_surface_height_above_geoid_09_mean = np.mean((sea_surface_height_above_geoid_09), axis = (0,1,2)).reshape(-1,1)\n",
    "sea_surface_height_above_geoid_10_mean = np.mean((sea_surface_height_above_geoid_10), axis = (0,1,2)).reshape(-1,1)\n",
    "sea_surface_height_above_geoid_11_mean = np.mean((sea_surface_height_above_geoid_11), axis = (0,1,2)).reshape(-1,1)\n",
    "sea_surface_height_above_geoid_12_mean = np.mean((sea_surface_height_above_geoid_12), axis = (0,1,2)).reshape(-1,1)\n",
    "sea_surface_height_above_geoid_13_mean = np.mean((sea_surface_height_above_geoid_13), axis = (0,1,2)).reshape(-1,1)\n",
    "sea_surface_height_above_geoid_14_mean = np.mean((sea_surface_height_above_geoid_14), axis = (0,1,2)).reshape(-1,1)\n",
    "sea_surface_height_above_geoid_15_mean = np.mean((sea_surface_height_above_geoid_15), axis = (0,1,2)).reshape(-1,1)\n",
    "sea_surface_height_above_geoid_16_mean = np.mean((sea_surface_height_above_geoid_16), axis = (0,1,2)).reshape(-1,1)\n",
    "sea_surface_height_above_geoid_17_mean = np.mean((sea_surface_height_above_geoid_17), axis = (0,1,2)).reshape(-1,1)\n",
    "sea_surface_height_above_geoid_18_mean = np.mean((sea_surface_height_above_geoid_18), axis = (0,1,2)).reshape(-1,1)\n",
    "sea_surface_height_above_geoid_19_mean = np.mean((sea_surface_height_above_geoid_19), axis = (0,1,2)).reshape(-1,1)"
   ]
  },
  {
   "cell_type": "code",
   "execution_count": 142,
   "id": "db725bb2",
   "metadata": {},
   "outputs": [],
   "source": [
    "sea_surface_height_above_geoid_93_19_mean = np.concatenate((sea_surface_height_above_geoid_93,\n",
    "sea_surface_height_above_geoid_94, sea_surface_height_above_geoid_95, sea_surface_height_above_geoid_96,\n",
    "                                                           sea_surface_height_above_geoid_97, sea_surface_height_above_geoid_98,\n",
    "                                                           sea_surface_height_above_geoid_99, sea_surface_height_above_geoid_00,\n",
    "                                                           sea_surface_height_above_geoid_01, sea_surface_height_above_geoid_02,\n",
    "                                                           sea_surface_height_above_geoid_03, sea_surface_height_above_geoid_04,\n",
    "                                                           sea_surface_height_above_geoid_05, sea_surface_height_above_geoid_06,\n",
    "                                                           sea_surface_height_above_geoid_07, sea_surface_height_above_geoid_08,\n",
    "                                                           sea_surface_height_above_geoid_09, sea_surface_height_above_geoid_10,\n",
    "                                                           sea_surface_height_above_geoid_11, sea_surface_height_above_geoid_12,\n",
    "                                                           sea_surface_height_above_geoid_13, sea_surface_height_above_geoid_14,\n",
    "                                                           sea_surface_height_above_geoid_15, sea_surface_height_above_geoid_16,\n",
    "                                                           sea_surface_height_above_geoid_17, sea_surface_height_above_geoid_18,\n",
    "                                                           sea_surface_height_above_geoid_19), axis = 0)"
   ]
  },
  {
   "cell_type": "code",
   "execution_count": 143,
   "id": "8abdef83",
   "metadata": {},
   "outputs": [],
   "source": [
    "sea_surface_height_above_geoid_93_19_mean = np.mean((sea_surface_height_above_geoid_93_19_mean), axis = (1,2))"
   ]
  },
  {
   "cell_type": "code",
   "execution_count": 144,
   "id": "3d75d731",
   "metadata": {},
   "outputs": [],
   "source": [
    "sea_surface_height_above_geoid_93_19_mean_all = np.concatenate((sea_surface_height_above_geoid_93_mean,\n",
    "sea_surface_height_above_geoid_94_mean, sea_surface_height_above_geoid_95_mean, \n",
    "                                                                sea_surface_height_above_geoid_96_mean,\n",
    "                                                           sea_surface_height_above_geoid_97_mean, sea_surface_height_above_geoid_98_mean,\n",
    "                                                           sea_surface_height_above_geoid_99_mean, sea_surface_height_above_geoid_00_mean,\n",
    "                                                           sea_surface_height_above_geoid_01_mean, sea_surface_height_above_geoid_02_mean,\n",
    "                                                           sea_surface_height_above_geoid_03_mean, sea_surface_height_above_geoid_04_mean,\n",
    "                                                           sea_surface_height_above_geoid_05_mean, sea_surface_height_above_geoid_06_mean,\n",
    "                                                           sea_surface_height_above_geoid_07_mean, sea_surface_height_above_geoid_08_mean,\n",
    "                                                           sea_surface_height_above_geoid_09_mean, sea_surface_height_above_geoid_10_mean,\n",
    "                                                           sea_surface_height_above_geoid_11_mean, sea_surface_height_above_geoid_12_mean,\n",
    "                                                           sea_surface_height_above_geoid_13_mean, sea_surface_height_above_geoid_14_mean,\n",
    "                                                           sea_surface_height_above_geoid_15_mean, sea_surface_height_above_geoid_16_mean,\n",
    "                                                           sea_surface_height_above_geoid_17_mean, sea_surface_height_above_geoid_18_mean,\n",
    "                                                           sea_surface_height_above_geoid_19_mean), axis = 0)"
   ]
  },
  {
   "cell_type": "code",
   "execution_count": 145,
   "id": "05db8d33",
   "metadata": {},
   "outputs": [],
   "source": [
    "sea_surface_height_above_sea_level_93_mean = np.mean((sea_surface_height_above_sea_level_93), axis = (0,1,2)).reshape(-1,1)\n",
    "sea_surface_height_above_sea_level_94_mean = np.mean((sea_surface_height_above_sea_level_94), axis = (0,1,2)).reshape(-1,1)\n",
    "sea_surface_height_above_sea_level_95_mean = np.mean((sea_surface_height_above_sea_level_95), axis = (0,1,2)).reshape(-1,1)\n",
    "sea_surface_height_above_sea_level_96_mean = np.mean((sea_surface_height_above_sea_level_96), axis = (0,1,2)).reshape(-1,1)\n",
    "sea_surface_height_above_sea_level_97_mean = np.mean((sea_surface_height_above_sea_level_97), axis = (0,1,2)).reshape(-1,1)\n",
    "sea_surface_height_above_sea_level_98_mean = np.mean((sea_surface_height_above_sea_level_98), axis = (0,1,2)).reshape(-1,1)\n",
    "sea_surface_height_above_sea_level_99_mean = np.mean((sea_surface_height_above_sea_level_99), axis = (0,1,2)).reshape(-1,1)\n",
    "sea_surface_height_above_sea_level_00_mean = np.mean((sea_surface_height_above_sea_level_00), axis = (0,1,2)).reshape(-1,1)\n",
    "sea_surface_height_above_sea_level_01_mean = np.mean((sea_surface_height_above_sea_level_01), axis = (0,1,2)).reshape(-1,1)\n",
    "sea_surface_height_above_sea_level_02_mean = np.mean((sea_surface_height_above_sea_level_02), axis = (0,1,2)).reshape(-1,1)\n",
    "sea_surface_height_above_sea_level_03_mean = np.mean((sea_surface_height_above_sea_level_03), axis = (0,1,2)).reshape(-1,1)\n",
    "sea_surface_height_above_sea_level_04_mean = np.mean((sea_surface_height_above_sea_level_04), axis = (0,1,2)).reshape(-1,1)\n",
    "sea_surface_height_above_sea_level_05_mean = np.mean((sea_surface_height_above_sea_level_05), axis = (0,1,2)).reshape(-1,1)\n",
    "sea_surface_height_above_sea_level_06_mean = np.mean((sea_surface_height_above_sea_level_06), axis = (0,1,2)).reshape(-1,1)\n",
    "sea_surface_height_above_sea_level_07_mean = np.mean((sea_surface_height_above_sea_level_07), axis = (0,1,2)).reshape(-1,1)\n",
    "sea_surface_height_above_sea_level_08_mean = np.mean((sea_surface_height_above_sea_level_08), axis = (0,1,2)).reshape(-1,1)\n",
    "sea_surface_height_above_sea_level_09_mean = np.mean((sea_surface_height_above_sea_level_09), axis = (0,1,2)).reshape(-1,1)\n",
    "sea_surface_height_above_sea_level_10_mean = np.mean((sea_surface_height_above_sea_level_10), axis = (0,1,2)).reshape(-1,1)\n",
    "sea_surface_height_above_sea_level_11_mean = np.mean((sea_surface_height_above_sea_level_11), axis = (0,1,2)).reshape(-1,1)\n",
    "sea_surface_height_above_sea_level_12_mean = np.mean((sea_surface_height_above_sea_level_12), axis = (0,1,2)).reshape(-1,1)\n",
    "sea_surface_height_above_sea_level_13_mean = np.mean((sea_surface_height_above_sea_level_13), axis = (0,1,2)).reshape(-1,1)\n",
    "sea_surface_height_above_sea_level_14_mean = np.mean((sea_surface_height_above_sea_level_14), axis = (0,1,2)).reshape(-1,1)\n",
    "sea_surface_height_above_sea_level_15_mean = np.mean((sea_surface_height_above_sea_level_15), axis = (0,1,2)).reshape(-1,1)\n",
    "sea_surface_height_above_sea_level_16_mean = np.mean((sea_surface_height_above_sea_level_16), axis = (0,1,2)).reshape(-1,1)\n",
    "sea_surface_height_above_sea_level_17_mean = np.mean((sea_surface_height_above_sea_level_17), axis = (0,1,2)).reshape(-1,1)\n",
    "sea_surface_height_above_sea_level_18_mean = np.mean((sea_surface_height_above_sea_level_18), axis = (0,1,2)).reshape(-1,1)\n",
    "sea_surface_height_above_sea_level_19_mean = np.mean((sea_surface_height_above_sea_level_19), axis = (0,1,2)).reshape(-1,1)"
   ]
  },
  {
   "cell_type": "code",
   "execution_count": 146,
   "id": "a7170b19",
   "metadata": {},
   "outputs": [],
   "source": [
    "sea_surface_height_above_sea_level_93_19_mean_all = np.concatenate((\n",
    "sea_surface_height_above_sea_level_93_mean, sea_surface_height_above_sea_level_94_mean,\n",
    "sea_surface_height_above_sea_level_95_mean, sea_surface_height_above_sea_level_96_mean,\n",
    "sea_surface_height_above_sea_level_97_mean, sea_surface_height_above_sea_level_98_mean,\n",
    "sea_surface_height_above_sea_level_99_mean, sea_surface_height_above_sea_level_00_mean,\n",
    "sea_surface_height_above_sea_level_01_mean, sea_surface_height_above_sea_level_02_mean,\n",
    "sea_surface_height_above_sea_level_03_mean, sea_surface_height_above_sea_level_04_mean,\n",
    "sea_surface_height_above_sea_level_05_mean, sea_surface_height_above_sea_level_06_mean,\n",
    "sea_surface_height_above_sea_level_07_mean, sea_surface_height_above_sea_level_08_mean,\n",
    "sea_surface_height_above_sea_level_09_mean, sea_surface_height_above_sea_level_10_mean,\n",
    "sea_surface_height_above_sea_level_11_mean, sea_surface_height_above_sea_level_12_mean,\n",
    "sea_surface_height_above_sea_level_13_mean, sea_surface_height_above_sea_level_14_mean,\n",
    "sea_surface_height_above_sea_level_15_mean, sea_surface_height_above_sea_level_16_mean,\n",
    "sea_surface_height_above_sea_level_17_mean, sea_surface_height_above_sea_level_18_mean,\n",
    "sea_surface_height_above_sea_level_19_mean), axis = 0)"
   ]
  },
  {
   "cell_type": "code",
   "execution_count": 147,
   "id": "28e80134",
   "metadata": {},
   "outputs": [],
   "source": [
    "sea_surface_height_above_geoid_93_19 = np.concatenate((sea_surface_height_above_geoid_93,\n",
    "                                                      sea_surface_height_above_geoid_94, sea_surface_height_above_geoid_95,\n",
    "                                                      sea_surface_height_above_geoid_96, sea_surface_height_above_geoid_97,\n",
    "                                                      sea_surface_height_above_geoid_98, sea_surface_height_above_geoid_99,\n",
    "                                                      sea_surface_height_above_geoid_00,\n",
    "                                                      sea_surface_height_above_geoid_01, sea_surface_height_above_geoid_02,\n",
    "                                                      sea_surface_height_above_geoid_03, sea_surface_height_above_geoid_04,\n",
    "                                                      sea_surface_height_above_geoid_05, sea_surface_height_above_geoid_06,\n",
    "                                                      sea_surface_height_above_geoid_07, sea_surface_height_above_geoid_08,\n",
    "                                                      sea_surface_height_above_geoid_09, sea_surface_height_above_geoid_10,\n",
    "                                                      sea_surface_height_above_geoid_11, sea_surface_height_above_geoid_12,\n",
    "                                                      sea_surface_height_above_geoid_13, sea_surface_height_above_geoid_14,\n",
    "                                                      sea_surface_height_above_geoid_15, sea_surface_height_above_geoid_16,\n",
    "                                                      sea_surface_height_above_geoid_17, sea_surface_height_above_geoid_18,\n",
    "                                                      sea_surface_height_above_geoid_19),axis = 0)"
   ]
  },
  {
   "cell_type": "code",
   "execution_count": 148,
   "id": "0361ebb1",
   "metadata": {},
   "outputs": [],
   "source": [
    "sea_surface_height_above_sea_level_93_19 = np.concatenate((sea_surface_height_above_sea_level_93,\n",
    "sea_surface_height_above_sea_level_94, sea_surface_height_above_sea_level_95,\n",
    "                                                          sea_surface_height_above_sea_level_96, sea_surface_height_above_sea_level_97,\n",
    "                                                          sea_surface_height_above_sea_level_98, sea_surface_height_above_sea_level_99,\n",
    "                                                          sea_surface_height_above_sea_level_00, sea_surface_height_above_sea_level_01,\n",
    "                                                          sea_surface_height_above_sea_level_02, sea_surface_height_above_sea_level_03,\n",
    "                                                          sea_surface_height_above_sea_level_04, sea_surface_height_above_sea_level_05,\n",
    "                                                          sea_surface_height_above_sea_level_06, sea_surface_height_above_sea_level_07,\n",
    "                                                          sea_surface_height_above_sea_level_08, sea_surface_height_above_sea_level_09,\n",
    "                                                          sea_surface_height_above_sea_level_10, sea_surface_height_above_sea_level_11,\n",
    "                                                          sea_surface_height_above_sea_level_12, sea_surface_height_above_sea_level_13,\n",
    "                                                          sea_surface_height_above_sea_level_14, sea_surface_height_above_sea_level_15,\n",
    "                                                          sea_surface_height_above_sea_level_16, sea_surface_height_above_sea_level_17,\n",
    "                                                          sea_surface_height_above_sea_level_18, sea_surface_height_above_sea_level_19),axis = 0)"
   ]
  },
  {
   "cell_type": "code",
   "execution_count": 149,
   "id": "fa74bf4e",
   "metadata": {},
   "outputs": [],
   "source": [
    "sea_surface_height_above_geoid_93_19_mean = np.mean((sea_surface_height_above_geoid_93_19), axis = (1,2)).reshape(-1,1)"
   ]
  },
  {
   "cell_type": "code",
   "execution_count": 150,
   "id": "447bb1c4",
   "metadata": {},
   "outputs": [
    {
     "data": {
      "text/plain": [
       "(2457, 1)"
      ]
     },
     "execution_count": 150,
     "metadata": {},
     "output_type": "execute_result"
    }
   ],
   "source": [
    "sea_surface_height_above_geoid_93_19_mean.shape"
   ]
  },
  {
   "cell_type": "code",
   "execution_count": 151,
   "id": "32c4c214",
   "metadata": {},
   "outputs": [],
   "source": [
    "sea_surface_height_above_sea_level_93_19_mean = np.mean((sea_surface_height_above_sea_level_93_19), axis = (1,2)).reshape(-1,1)"
   ]
  },
  {
   "cell_type": "code",
   "execution_count": 152,
   "id": "8597deb0",
   "metadata": {},
   "outputs": [
    {
     "data": {
      "text/plain": [
       "(2457, 1)"
      ]
     },
     "execution_count": 152,
     "metadata": {},
     "output_type": "execute_result"
    }
   ],
   "source": [
    "sea_surface_height_above_sea_level_93_19_mean.shape"
   ]
  },
  {
   "cell_type": "code",
   "execution_count": 153,
   "id": "ed96b1f2",
   "metadata": {},
   "outputs": [],
   "source": [
    "sea_surface_height_above_geoid_SON_93 = np.mean(sea_surface_height_above_geoid_93_19_mean[:91]).reshape(-1,1)\n",
    "sea_surface_height_above_geoid_SON_94 = np.mean(sea_surface_height_above_geoid_93_19_mean[91:182]).reshape(-1,1)\n",
    "sea_surface_height_above_geoid_SON_95 = np.mean(sea_surface_height_above_geoid_93_19_mean[182:273]).reshape(-1,1)\n",
    "sea_surface_height_above_geoid_SON_96 = np.mean(sea_surface_height_above_geoid_93_19_mean[273:364]).reshape(-1,1)\n",
    "sea_surface_height_above_geoid_SON_97_1 = sea_surface_height_above_geoid_93_19_mean[364:447].reshape(-1,1)\n",
    "sea_surface_height_above_geoid_SON_97_2 = sea_surface_height_above_geoid_93_19_mean[452:455].reshape(-1,1)\n",
    "sea_surface_height_above_geoid_SON_97 = np.concatenate((sea_surface_height_above_geoid_SON_97_1, sea_surface_height_above_geoid_SON_97_2), axis = 0)\n",
    "sea_surface_height_above_geoid_SON_97 = np.mean(sea_surface_height_above_geoid_SON_97).reshape(-1,1)\n",
    "sea_surface_height_above_geoid_SON_98 = np.mean(sea_surface_height_above_geoid_93_19_mean[455:546]).reshape(-1,1)\n",
    "sea_surface_height_above_geoid_SON_99 = np.mean(sea_surface_height_above_geoid_93_19_mean[546:637]).reshape(-1,1)\n",
    "sea_surface_height_above_geoid_SON_00 = np.mean(sea_surface_height_above_geoid_93_19_mean[637:728]).reshape(-1,1)\n",
    "sea_surface_height_above_geoid_SON_01 = np.mean(sea_surface_height_above_geoid_93_19_mean[728:819]).reshape(-1,1)\n",
    "sea_surface_height_above_geoid_SON_02 = np.mean(sea_surface_height_above_geoid_93_19_mean[819:910]).reshape(-1,1)\n",
    "sea_surface_height_above_geoid_SON_03 = np.mean(sea_surface_height_above_geoid_93_19_mean[910:1001]).reshape(-1,1)\n",
    "sea_surface_height_above_geoid_SON_04 = np.mean(sea_surface_height_above_geoid_93_19_mean[1001:1092]).reshape(-1,1)\n",
    "sea_surface_height_above_geoid_SON_05 = np.mean(sea_surface_height_above_geoid_93_19_mean[1092:1183]).reshape(-1,1)\n",
    "sea_surface_height_above_geoid_SON_06_1 = sea_surface_height_above_geoid_93_19_mean[1183:1250].reshape(-1,1)\n",
    "sea_surface_height_above_geoid_SON_06_2 = sea_surface_height_above_geoid_93_19_mean[1255:1274].reshape(-1,1)\n",
    "sea_surface_height_above_geoid_SON_06 = np.concatenate((sea_surface_height_above_geoid_SON_06_1, sea_surface_height_above_geoid_SON_06_2), axis = 0)\n",
    "sea_surface_height_above_geoid_SON_06 = np.mean(sea_surface_height_above_geoid_SON_06).reshape(-1,1)\n",
    "sea_surface_height_above_geoid_SON_07 = np.mean(sea_surface_height_above_geoid_93_19_mean[1274:1365]).reshape(-1,1)\n",
    "sea_surface_height_above_geoid_SON_08 = np.mean(sea_surface_height_above_geoid_93_19_mean[1365:1456]).reshape(-1,1)\n",
    "sea_surface_height_above_geoid_SON_09 = np.mean(sea_surface_height_above_geoid_93_19_mean[1456:1547]).reshape(-1,1)\n",
    "sea_surface_height_above_geoid_SON_10 = np.mean(sea_surface_height_above_geoid_93_19_mean[1547:1638]).reshape(-1,1)\n",
    "sea_surface_height_above_geoid_SON_11 = np.mean(sea_surface_height_above_geoid_93_19_mean[1638:1729]).reshape(-1,1)\n",
    "sea_surface_height_above_geoid_SON_12_1 = sea_surface_height_above_geoid_93_19_mean[1732:1738].reshape(-1,1)\n",
    "sea_surface_height_above_geoid_SON_12_2 = sea_surface_height_above_geoid_93_19_mean[1747:1752].reshape(-1,1)\n",
    "sea_surface_height_above_geoid_SON_12_3 = sea_surface_height_above_geoid_93_19_mean[1757:1820].reshape(-1,1)\n",
    "sea_surface_height_above_geoid_SON_12 = np.concatenate((sea_surface_height_above_geoid_SON_12_1, sea_surface_height_above_geoid_SON_12_2, sea_surface_height_above_geoid_SON_12_3), axis = 0)\n",
    "sea_surface_height_above_geoid_SON_12 = np.mean(sea_surface_height_above_geoid_SON_12).reshape(-1,1)\n",
    "sea_surface_height_above_geoid_SON_13_1 = sea_surface_height_above_geoid_93_19_mean[1820:1880].reshape(-1,1)\n",
    "sea_surface_height_above_geoid_SON_13_2 = sea_surface_height_above_geoid_93_19_mean[1885:1903].reshape(-1,1)\n",
    "sea_surface_height_above_geoid_SON_13_3 = sea_surface_height_above_geoid_93_19_mean[1908:1911].reshape(-1,1)\n",
    "sea_surface_height_above_geoid_SON_13 = np.concatenate((sea_surface_height_above_geoid_SON_13_1, sea_surface_height_above_geoid_SON_13_2, sea_surface_height_above_geoid_SON_13_3), axis = 0)\n",
    "sea_surface_height_above_geoid_SON_13 = np.mean(sea_surface_height_above_geoid_SON_13).reshape(-1,1)\n",
    "sea_surface_height_above_geoid_SON_14_1 = sea_surface_height_above_geoid_93_19_mean[1911:1944].reshape(-1,1)\n",
    "sea_surface_height_above_geoid_SON_14_2 = sea_surface_height_above_geoid_93_19_mean[1949:1972].reshape(-1,1)\n",
    "sea_surface_height_above_geoid_SON_14_3 = sea_surface_height_above_geoid_93_19_mean[1977:1986].reshape(-1,1)\n",
    "sea_surface_height_above_geoid_SON_14 = np.concatenate((sea_surface_height_above_geoid_SON_14_1, sea_surface_height_above_geoid_SON_14_2, sea_surface_height_above_geoid_SON_14_3), axis = 0)\n",
    "sea_surface_height_above_geoid_SON_14 = np.mean(sea_surface_height_above_geoid_SON_14).reshape(-1,1)\n",
    "sea_surface_height_above_geoid_SON_15 = np.mean(sea_surface_height_above_geoid_93_19_mean[2078:2084]).reshape(-1,1)\n",
    "sea_surface_height_above_geoid_SON_16 = np.mean(sea_surface_height_above_geoid_93_19_mean[2093:2184]).reshape(-1,1)\n",
    "sea_surface_height_above_geoid_SON_17_1 = sea_surface_height_above_geoid_93_19_mean[2192:2236].reshape(-1,1)\n",
    "sea_surface_height_above_geoid_SON_17_2 = sea_surface_height_above_geoid_93_19_mean[2255:2275].reshape(-1,1)\n",
    "sea_surface_height_above_geoid_SON_17 = np.concatenate((sea_surface_height_above_geoid_SON_17_1, sea_surface_height_above_geoid_SON_17_2), axis = 0)\n",
    "sea_surface_height_above_geoid_SON_17 = np.mean(sea_surface_height_above_geoid_SON_17).reshape(-1,1)\n",
    "sea_surface_height_above_geoid_SON_18_1 = sea_surface_height_above_geoid_93_19_mean[2275:2297].reshape(-1,1)\n",
    "sea_surface_height_above_geoid_SON_18_2 = sea_surface_height_above_geoid_93_19_mean[2324:2366].reshape(-1,1)\n",
    "sea_surface_height_above_geoid_SON_18 = np.concatenate((sea_surface_height_above_geoid_SON_18_1, sea_surface_height_above_geoid_SON_18_2), axis = 0)\n",
    "sea_surface_height_above_geoid_SON_18 = np.mean(sea_surface_height_above_geoid_SON_18).reshape(-1,1)\n",
    "sea_surface_height_above_geoid_SON_19 = np.mean(sea_surface_height_above_geoid_93_19_mean[2366:]).reshape(-1,1)\n"
   ]
  },
  {
   "cell_type": "code",
   "execution_count": 154,
   "id": "63b7145d",
   "metadata": {},
   "outputs": [],
   "source": [
    "sea_surface_height_above_geoid_SON_93_19_without_MHW_mean = np.concatenate((\n",
    "sea_surface_height_above_geoid_SON_93, sea_surface_height_above_geoid_SON_94,\n",
    "sea_surface_height_above_geoid_SON_95, sea_surface_height_above_geoid_SON_96,\n",
    "sea_surface_height_above_geoid_SON_97, sea_surface_height_above_geoid_SON_98,\n",
    "sea_surface_height_above_geoid_SON_99, sea_surface_height_above_geoid_SON_00,\n",
    "sea_surface_height_above_geoid_SON_01, sea_surface_height_above_geoid_SON_02,\n",
    "sea_surface_height_above_geoid_SON_03, sea_surface_height_above_geoid_SON_04,\n",
    "sea_surface_height_above_geoid_SON_05, sea_surface_height_above_geoid_SON_06,\n",
    "sea_surface_height_above_geoid_SON_07, sea_surface_height_above_geoid_SON_08,\n",
    "sea_surface_height_above_geoid_SON_09, sea_surface_height_above_geoid_SON_10,\n",
    "sea_surface_height_above_geoid_SON_11, sea_surface_height_above_geoid_SON_12,\n",
    "sea_surface_height_above_geoid_SON_13, sea_surface_height_above_geoid_SON_14,\n",
    "sea_surface_height_above_geoid_SON_15, sea_surface_height_above_geoid_SON_16,\n",
    "sea_surface_height_above_geoid_SON_17, sea_surface_height_above_geoid_SON_18,\n",
    "sea_surface_height_above_geoid_SON_19), axis = 0).reshape(-1,1)"
   ]
  },
  {
   "cell_type": "code",
   "execution_count": 155,
   "id": "bdb8c6c1",
   "metadata": {},
   "outputs": [],
   "source": [
    "sea_surface_height_above_sea_level_SON_93 = np.mean(sea_surface_height_above_sea_level_93_19_mean[:91]).reshape(-1,1)\n",
    "sea_surface_height_above_sea_level_SON_94 = np.mean(sea_surface_height_above_sea_level_93_19_mean[91:182]).reshape(-1,1)\n",
    "sea_surface_height_above_sea_level_SON_95 = np.mean(sea_surface_height_above_sea_level_93_19_mean[182:273]).reshape(-1,1)\n",
    "sea_surface_height_above_sea_level_SON_96 = np.mean(sea_surface_height_above_sea_level_93_19_mean[273:364]).reshape(-1,1)\n",
    "sea_surface_height_above_sea_level_SON_97_1 = sea_surface_height_above_sea_level_93_19_mean[364:447].reshape(-1,1)\n",
    "sea_surface_height_above_sea_level_SON_97_2 = sea_surface_height_above_sea_level_93_19_mean[452:455].reshape(-1,1)\n",
    "sea_surface_height_above_sea_level_SON_97 = np.concatenate((sea_surface_height_above_sea_level_SON_97_1, sea_surface_height_above_sea_level_SON_97_2), axis = 0)\n",
    "sea_surface_height_above_sea_level_SON_97 = np.mean(sea_surface_height_above_sea_level_SON_97).reshape(-1,1)\n",
    "sea_surface_height_above_sea_level_SON_98 = np.mean(sea_surface_height_above_sea_level_93_19_mean[455:546]).reshape(-1,1)\n",
    "sea_surface_height_above_sea_level_SON_99 = np.mean(sea_surface_height_above_sea_level_93_19_mean[546:637]).reshape(-1,1)\n",
    "sea_surface_height_above_sea_level_SON_00 = np.mean(sea_surface_height_above_sea_level_93_19_mean[637:728]).reshape(-1,1)\n",
    "sea_surface_height_above_sea_level_SON_01 = np.mean(sea_surface_height_above_sea_level_93_19_mean[728:819]).reshape(-1,1)\n",
    "sea_surface_height_above_sea_level_SON_02 = np.mean(sea_surface_height_above_sea_level_93_19_mean[819:910]).reshape(-1,1)\n",
    "sea_surface_height_above_sea_level_SON_03 = np.mean(sea_surface_height_above_sea_level_93_19_mean[910:1001]).reshape(-1,1)\n",
    "sea_surface_height_above_sea_level_SON_04 = np.mean(sea_surface_height_above_sea_level_93_19_mean[1001:1092]).reshape(-1,1)\n",
    "sea_surface_height_above_sea_level_SON_05 = np.mean(sea_surface_height_above_sea_level_93_19_mean[1092:1183]).reshape(-1,1)\n",
    "sea_surface_height_above_sea_level_SON_06_1 = sea_surface_height_above_sea_level_93_19_mean[1183:1250].reshape(-1,1)\n",
    "sea_surface_height_above_sea_level_SON_06_2 = sea_surface_height_above_sea_level_93_19_mean[1255:1274].reshape(-1,1)\n",
    "sea_surface_height_above_sea_level_SON_06 = np.concatenate((sea_surface_height_above_sea_level_SON_06_1, sea_surface_height_above_sea_level_SON_06_2), axis = 0)\n",
    "sea_surface_height_above_sea_level_SON_06 = np.mean(sea_surface_height_above_sea_level_SON_06).reshape(-1,1)\n",
    "sea_surface_height_above_sea_level_SON_07 = np.mean(sea_surface_height_above_sea_level_93_19_mean[1274:1365]).reshape(-1,1)\n",
    "sea_surface_height_above_sea_level_SON_08 = np.mean(sea_surface_height_above_sea_level_93_19_mean[1365:1456]).reshape(-1,1)\n",
    "sea_surface_height_above_sea_level_SON_09 = np.mean(sea_surface_height_above_sea_level_93_19_mean[1456:1547]).reshape(-1,1)\n",
    "sea_surface_height_above_sea_level_SON_10 = np.mean(sea_surface_height_above_sea_level_93_19_mean[1547:1638]).reshape(-1,1)\n",
    "sea_surface_height_above_sea_level_SON_11 = np.mean(sea_surface_height_above_sea_level_93_19_mean[1638:1729]).reshape(-1,1)\n",
    "sea_surface_height_above_sea_level_SON_12_1 = sea_surface_height_above_sea_level_93_19_mean[1732:1738].reshape(-1,1)\n",
    "sea_surface_height_above_sea_level_SON_12_2 = sea_surface_height_above_sea_level_93_19_mean[1747:1752].reshape(-1,1)\n",
    "sea_surface_height_above_sea_level_SON_12_3 = sea_surface_height_above_sea_level_93_19_mean[1757:1820].reshape(-1,1)\n",
    "sea_surface_height_above_sea_level_SON_12 = np.concatenate((sea_surface_height_above_sea_level_SON_12_1, sea_surface_height_above_sea_level_SON_12_2, sea_surface_height_above_sea_level_SON_12_3), axis = 0)\n",
    "sea_surface_height_above_sea_level_SON_12 = np.mean(sea_surface_height_above_sea_level_SON_12).reshape(-1,1)\n",
    "sea_surface_height_above_sea_level_SON_13_1 = sea_surface_height_above_sea_level_93_19_mean[1820:1880].reshape(-1,1)\n",
    "sea_surface_height_above_sea_level_SON_13_2 = sea_surface_height_above_sea_level_93_19_mean[1885:1903].reshape(-1,1)\n",
    "sea_surface_height_above_sea_level_SON_13_3 = sea_surface_height_above_sea_level_93_19_mean[1908:1911].reshape(-1,1)\n",
    "sea_surface_height_above_sea_level_SON_13 = np.concatenate((sea_surface_height_above_sea_level_SON_13_1, sea_surface_height_above_sea_level_SON_13_2, sea_surface_height_above_sea_level_SON_13_3), axis = 0)\n",
    "sea_surface_height_above_sea_level_SON_13 = np.mean(sea_surface_height_above_sea_level_SON_13).reshape(-1,1)\n",
    "sea_surface_height_above_sea_level_SON_14_1 = sea_surface_height_above_sea_level_93_19_mean[1911:1944].reshape(-1,1)\n",
    "sea_surface_height_above_sea_level_SON_14_2 = sea_surface_height_above_sea_level_93_19_mean[1949:1972].reshape(-1,1)\n",
    "sea_surface_height_above_sea_level_SON_14_3 = sea_surface_height_above_sea_level_93_19_mean[1977:1986].reshape(-1,1)\n",
    "sea_surface_height_above_sea_level_SON_14 = np.concatenate((sea_surface_height_above_sea_level_SON_14_1, sea_surface_height_above_sea_level_SON_14_2, sea_surface_height_above_sea_level_SON_14_3), axis = 0)\n",
    "sea_surface_height_above_sea_level_SON_14 = np.mean(sea_surface_height_above_sea_level_SON_14).reshape(-1,1)\n",
    "sea_surface_height_above_sea_level_SON_15 = np.mean(sea_surface_height_above_sea_level_93_19_mean[2078:2084]).reshape(-1,1)\n",
    "sea_surface_height_above_sea_level_SON_16 = np.mean(sea_surface_height_above_sea_level_93_19_mean[2093:2184]).reshape(-1,1)\n",
    "sea_surface_height_above_sea_level_SON_17_1 = sea_surface_height_above_sea_level_93_19_mean[2192:2236].reshape(-1,1)\n",
    "sea_surface_height_above_sea_level_SON_17_2 = sea_surface_height_above_sea_level_93_19_mean[2255:2275].reshape(-1,1)\n",
    "sea_surface_height_above_sea_level_SON_17 = np.concatenate((sea_surface_height_above_sea_level_SON_17_1, sea_surface_height_above_sea_level_SON_17_2), axis = 0)\n",
    "sea_surface_height_above_sea_level_SON_17 = np.mean(sea_surface_height_above_sea_level_SON_17).reshape(-1,1)\n",
    "sea_surface_height_above_sea_level_SON_18_1 = sea_surface_height_above_sea_level_93_19_mean[2275:2297].reshape(-1,1)\n",
    "sea_surface_height_above_sea_level_SON_18_2 = sea_surface_height_above_sea_level_93_19_mean[2324:2366].reshape(-1,1)\n",
    "sea_surface_height_above_sea_level_SON_18 = np.concatenate((sea_surface_height_above_sea_level_SON_18_1, sea_surface_height_above_sea_level_SON_18_2), axis = 0)\n",
    "sea_surface_height_above_sea_level_SON_18 = np.mean(sea_surface_height_above_sea_level_SON_18).reshape(-1,1)\n",
    "sea_surface_height_above_sea_level_SON_19 = np.mean(sea_surface_height_above_sea_level_93_19_mean[2366:]).reshape(-1,1)"
   ]
  },
  {
   "cell_type": "code",
   "execution_count": 156,
   "id": "eb03cd61",
   "metadata": {},
   "outputs": [],
   "source": [
    "sea_surface_height_above_sea_level_SON_93_19_without_MHW_mean = np.concatenate((\n",
    "sea_surface_height_above_sea_level_SON_93, sea_surface_height_above_sea_level_SON_94,\n",
    "sea_surface_height_above_sea_level_SON_95, sea_surface_height_above_sea_level_SON_96,\n",
    "sea_surface_height_above_sea_level_SON_97, sea_surface_height_above_sea_level_SON_98,\n",
    "sea_surface_height_above_sea_level_SON_99, sea_surface_height_above_sea_level_SON_00,\n",
    "sea_surface_height_above_sea_level_SON_01, sea_surface_height_above_sea_level_SON_02,\n",
    "sea_surface_height_above_sea_level_SON_03, sea_surface_height_above_sea_level_SON_04,\n",
    "sea_surface_height_above_sea_level_SON_05, sea_surface_height_above_sea_level_SON_06,\n",
    "sea_surface_height_above_sea_level_SON_07, sea_surface_height_above_sea_level_SON_08,\n",
    "sea_surface_height_above_sea_level_SON_09, sea_surface_height_above_sea_level_SON_10,\n",
    "sea_surface_height_above_sea_level_SON_11, sea_surface_height_above_sea_level_SON_12,\n",
    "sea_surface_height_above_sea_level_SON_13, sea_surface_height_above_sea_level_SON_14,\n",
    "sea_surface_height_above_sea_level_SON_15, sea_surface_height_above_sea_level_SON_16,\n",
    "sea_surface_height_above_sea_level_SON_17, sea_surface_height_above_sea_level_SON_18,\n",
    "sea_surface_height_above_sea_level_SON_19), axis = 0).reshape(-1,1)"
   ]
  },
  {
   "cell_type": "code",
   "execution_count": 157,
   "id": "f21e8131",
   "metadata": {},
   "outputs": [
    {
     "data": {
      "text/plain": [
       "(27, 1)"
      ]
     },
     "execution_count": 157,
     "metadata": {},
     "output_type": "execute_result"
    }
   ],
   "source": [
    "sea_surface_height_above_geoid_SON_93_19_without_MHW_mean.shape"
   ]
  },
  {
   "cell_type": "code",
   "execution_count": 158,
   "id": "fbc79d4e",
   "metadata": {},
   "outputs": [
    {
     "data": {
      "text/plain": [
       "(27, 1)"
      ]
     },
     "execution_count": 158,
     "metadata": {},
     "output_type": "execute_result"
    }
   ],
   "source": [
    "sea_surface_height_above_sea_level_SON_93_19_without_MHW_mean.shape"
   ]
  },
  {
   "cell_type": "code",
   "execution_count": 159,
   "id": "8d118732",
   "metadata": {},
   "outputs": [],
   "source": [
    "np.savez(r'D:\\博士工作\\第三篇论文_MHW_AI\\data\\pacific\\last\\low_cloud\\E_P_cloud_SON_Plot_with_without_MHW.npz',\n",
    "         low_cloud_cover_SON_93_19_with_MHW_mean = sea_surface_height_above_geoid_93_19_mean_all,\n",
    "         E_JJA_93_19_with_SON_mean = sea_surface_height_above_sea_level_93_19_mean_all,\n",
    "        low_cloud_cover_SON_93_19_without_MHW_mean = sea_surface_height_above_geoid_SON_93_19_without_MHW_mean,\n",
    "        E_P_cloud_SON_93_19_without_MHW_mean = sea_surface_height_above_sea_level_SON_93_19_without_MHW_mean)"
   ]
  },
  {
   "cell_type": "code",
   "execution_count": null,
   "id": "2a51368b",
   "metadata": {},
   "outputs": [],
   "source": []
  },
  {
   "cell_type": "code",
   "execution_count": 160,
   "id": "2d775dfe",
   "metadata": {},
   "outputs": [],
   "source": [
    "sea_surface_height_above_geoid = low_cloud_cover\n",
    "sea_surface_height_above_sea_level = potential_evaporation"
   ]
  },
  {
   "cell_type": "code",
   "execution_count": 161,
   "id": "9f4cd8d7",
   "metadata": {},
   "outputs": [],
   "source": [
    "# DJF   93\n",
    "date_93_1 = 0\n",
    "date_93_2 = 59\n",
    "data_1 = date_93_1\n",
    "data_2 = date_93_2\n",
    "\n",
    "sea_surface_height_above_geoid_93 = sea_surface_height_above_geoid[data_1:data_2,:,:]\n",
    "sea_surface_height_above_sea_level_93 = sea_surface_height_above_sea_level[data_1:data_2,:,:]"
   ]
  },
  {
   "cell_type": "code",
   "execution_count": 162,
   "id": "98848cd8",
   "metadata": {},
   "outputs": [],
   "source": [
    "# DJF   94\n",
    "date_94_1 = 334\n",
    "date_94_2 = 424\n",
    "data_1 = date_94_1\n",
    "data_2 = date_94_2\n",
    "\n",
    "sea_surface_height_above_geoid_94 = sea_surface_height_above_geoid[data_1:data_2,:,:]\n",
    "sea_surface_height_above_sea_level_94 = sea_surface_height_above_sea_level[data_1:data_2,:,:]"
   ]
  },
  {
   "cell_type": "code",
   "execution_count": 163,
   "id": "7b291995",
   "metadata": {},
   "outputs": [],
   "source": [
    "# DJF   95\n",
    "date_95_1 = 699\n",
    "date_95_2 = 789\n",
    "data_1 = date_95_1\n",
    "data_2 = date_95_2\n",
    "\n",
    "sea_surface_height_above_geoid_95 = sea_surface_height_above_geoid[data_1:data_2,:,:]\n",
    "sea_surface_height_above_sea_level_95 = sea_surface_height_above_sea_level[data_1:data_2,:,:]"
   ]
  },
  {
   "cell_type": "code",
   "execution_count": 164,
   "id": "ff1cfe17",
   "metadata": {},
   "outputs": [],
   "source": [
    "# DJF   96\n",
    "date_96_1 = 1064\n",
    "date_96_2 = 1155\n",
    "data_1 = date_96_1\n",
    "data_2 = date_96_2\n",
    "\n",
    "sea_surface_height_above_geoid_96 = sea_surface_height_above_geoid[data_1:data_2,:,:]\n",
    "sea_surface_height_above_sea_level_96 = sea_surface_height_above_sea_level[data_1:data_2,:,:]"
   ]
  },
  {
   "cell_type": "code",
   "execution_count": 165,
   "id": "534cc140",
   "metadata": {},
   "outputs": [],
   "source": [
    "# DJF   97\n",
    "date_97_1 = 1430\n",
    "date_97_2 = 1520\n",
    "data_1 = date_97_1\n",
    "data_2 = date_97_2\n",
    "\n",
    "sea_surface_height_above_geoid_97 = sea_surface_height_above_geoid[data_1:data_2,:,:]\n",
    "sea_surface_height_above_sea_level_97 = sea_surface_height_above_sea_level[data_1:data_2,:,:]"
   ]
  },
  {
   "cell_type": "code",
   "execution_count": 166,
   "id": "bcb70aef",
   "metadata": {},
   "outputs": [],
   "source": [
    "# DJF   98\n",
    "date_98_1 = 1795\n",
    "date_98_2 = 1885\n",
    "data_1 = date_98_1\n",
    "data_2 = date_98_2\n",
    "\n",
    "sea_surface_height_above_geoid_98 = sea_surface_height_above_geoid[data_1:data_2,:,:]\n",
    "sea_surface_height_above_sea_level_98 = sea_surface_height_above_sea_level[data_1:data_2,:,:]"
   ]
  },
  {
   "cell_type": "code",
   "execution_count": 167,
   "id": "d31ed925",
   "metadata": {},
   "outputs": [],
   "source": [
    "# DJF   99\n",
    "date_99_1 = 2160\n",
    "date_99_2 = 2250\n",
    "data_1 = date_99_1\n",
    "data_2 = date_99_2\n",
    "\n",
    "sea_surface_height_above_geoid_99 = sea_surface_height_above_geoid[data_1:data_2,:,:]\n",
    "sea_surface_height_above_sea_level_99 = sea_surface_height_above_sea_level[data_1:data_2,:,:]"
   ]
  },
  {
   "cell_type": "code",
   "execution_count": 168,
   "id": "b12c45f7",
   "metadata": {},
   "outputs": [],
   "source": [
    "# DJF   00\n",
    "date_00_1 = 2525\n",
    "date_00_2 = 2616\n",
    "data_1 = date_00_1\n",
    "data_2 = date_00_2\n",
    "\n",
    "sea_surface_height_above_geoid_00 = sea_surface_height_above_geoid[data_1:data_2,:,:]\n",
    "sea_surface_height_above_sea_level_00 = sea_surface_height_above_sea_level[data_1:data_2,:,:]"
   ]
  },
  {
   "cell_type": "code",
   "execution_count": 169,
   "id": "e57f4c11",
   "metadata": {},
   "outputs": [],
   "source": [
    "# DJF   01\n",
    "date_01_1 = 2891\n",
    "date_01_2 = 2981\n",
    "data_1 = date_01_1\n",
    "data_2 = date_01_2\n",
    "\n",
    "sea_surface_height_above_geoid_01 = sea_surface_height_above_geoid[data_1:data_2,:,:]\n",
    "sea_surface_height_above_sea_level_01 = sea_surface_height_above_sea_level[data_1:data_2,:,:]"
   ]
  },
  {
   "cell_type": "code",
   "execution_count": 170,
   "id": "f7c8541d",
   "metadata": {},
   "outputs": [],
   "source": [
    "# DJF   02\n",
    "date_02_1 = 3256\n",
    "date_02_2 = 3346\n",
    "data_1 = date_02_1\n",
    "data_2 = date_02_2\n",
    "\n",
    "sea_surface_height_above_geoid_02 = sea_surface_height_above_geoid[data_1:data_2,:,:]\n",
    "sea_surface_height_above_sea_level_02 = sea_surface_height_above_sea_level[data_1:data_2,:,:]"
   ]
  },
  {
   "cell_type": "code",
   "execution_count": 171,
   "id": "6d3d40e7",
   "metadata": {},
   "outputs": [],
   "source": [
    "# DJF   03\n",
    "date_03_1 = 3621\n",
    "date_03_2 = 3711\n",
    "data_1 = date_03_1\n",
    "data_2 = date_03_2\n",
    "\n",
    "sea_surface_height_above_geoid_03 = sea_surface_height_above_geoid[data_1:data_2,:,:]\n",
    "sea_surface_height_above_sea_level_03 = sea_surface_height_above_sea_level[data_1:data_2,:,:]"
   ]
  },
  {
   "cell_type": "code",
   "execution_count": 172,
   "id": "8f41b7e8",
   "metadata": {},
   "outputs": [],
   "source": [
    "# DJF   04\n",
    "date_04_1 = 3986\n",
    "date_04_2 = 4077\n",
    "data_1 = date_04_1\n",
    "data_2 = date_04_2\n",
    "\n",
    "sea_surface_height_above_geoid_04 = sea_surface_height_above_geoid[data_1:data_2,:,:]\n",
    "sea_surface_height_above_sea_level_04 = sea_surface_height_above_sea_level[data_1:data_2,:,:]"
   ]
  },
  {
   "cell_type": "code",
   "execution_count": 173,
   "id": "afaf03ab",
   "metadata": {},
   "outputs": [],
   "source": [
    "# DJF   05\n",
    "date_05_1 = 4352\n",
    "date_05_2 = 4442\n",
    "data_1 = date_05_1\n",
    "data_2 = date_05_2\n",
    "\n",
    "sea_surface_height_above_geoid_05 = sea_surface_height_above_geoid[data_1:data_2,:,:]\n",
    "sea_surface_height_above_sea_level_05 = sea_surface_height_above_sea_level[data_1:data_2,:,:]"
   ]
  },
  {
   "cell_type": "code",
   "execution_count": 174,
   "id": "d4f84adc",
   "metadata": {},
   "outputs": [],
   "source": [
    "# DJF   06\n",
    "date_06_1 = 4717\n",
    "date_06_2 = 4807\n",
    "data_1 = date_06_1\n",
    "data_2 = date_06_2\n",
    "\n",
    "sea_surface_height_above_geoid_06 = sea_surface_height_above_geoid[data_1:data_2,:,:]\n",
    "sea_surface_height_above_sea_level_06 = sea_surface_height_above_sea_level[data_1:data_2,:,:]"
   ]
  },
  {
   "cell_type": "code",
   "execution_count": 175,
   "id": "b279b9b7",
   "metadata": {},
   "outputs": [],
   "source": [
    "# DJF   07\n",
    "date_07_1 = 5082\n",
    "date_07_2 = 5172\n",
    "data_1 = date_07_1\n",
    "data_2 = date_07_2\n",
    "\n",
    "sea_surface_height_above_geoid_07 = sea_surface_height_above_geoid[data_1:data_2,:,:]\n",
    "sea_surface_height_above_sea_level_07 = sea_surface_height_above_sea_level[data_1:data_2,:,:]"
   ]
  },
  {
   "cell_type": "code",
   "execution_count": 176,
   "id": "d866b069",
   "metadata": {},
   "outputs": [],
   "source": [
    "# DJF   08\n",
    "date_08_1 = 5447\n",
    "date_08_2 = 5538\n",
    "data_1 = date_08_1\n",
    "data_2 = date_08_2\n",
    "\n",
    "sea_surface_height_above_geoid_08 = sea_surface_height_above_geoid[data_1:data_2,:,:]\n",
    "sea_surface_height_above_sea_level_08 = sea_surface_height_above_sea_level[data_1:data_2,:,:]"
   ]
  },
  {
   "cell_type": "code",
   "execution_count": 177,
   "id": "57b67ce1",
   "metadata": {},
   "outputs": [],
   "source": [
    "# DJF   09\n",
    "date_09_1 = 5813\n",
    "date_09_2 = 5903\n",
    "data_1 = date_09_1\n",
    "data_2 = date_09_2\n",
    "\n",
    "sea_surface_height_above_geoid_09 = sea_surface_height_above_geoid[data_1:data_2,:,:]\n",
    "sea_surface_height_above_sea_level_09 = sea_surface_height_above_sea_level[data_1:data_2,:,:]"
   ]
  },
  {
   "cell_type": "code",
   "execution_count": 178,
   "id": "e54b5ffd",
   "metadata": {},
   "outputs": [],
   "source": [
    "# DJF   10\n",
    "date_10_1 = 6178\n",
    "date_10_2 = 6268\n",
    "data_1 = date_10_1\n",
    "data_2 = date_10_2\n",
    "\n",
    "sea_surface_height_above_geoid_10 = sea_surface_height_above_geoid[data_1:data_2,:,:]\n",
    "sea_surface_height_above_sea_level_10 = sea_surface_height_above_sea_level[data_1:data_2,:,:]"
   ]
  },
  {
   "cell_type": "code",
   "execution_count": 179,
   "id": "259576cb",
   "metadata": {},
   "outputs": [],
   "source": [
    "# DJF   11\n",
    "date_11_1 = 6543\n",
    "date_11_2 = 6633\n",
    "data_1 = date_11_1\n",
    "data_2 = date_11_2\n",
    "\n",
    "sea_surface_height_above_geoid_11 = sea_surface_height_above_geoid[data_1:data_2,:,:]\n",
    "sea_surface_height_above_sea_level_11 = sea_surface_height_above_sea_level[data_1:data_2,:,:]"
   ]
  },
  {
   "cell_type": "code",
   "execution_count": 180,
   "id": "83b149b7",
   "metadata": {},
   "outputs": [],
   "source": [
    "# DJF   12\n",
    "date_12_1 = 6908\n",
    "date_12_2 = 6999\n",
    "data_1 = date_12_1\n",
    "data_2 = date_12_2\n",
    "\n",
    "sea_surface_height_above_geoid_12 = sea_surface_height_above_geoid[data_1:data_2,:,:]\n",
    "sea_surface_height_above_sea_level_12 = sea_surface_height_above_sea_level[data_1:data_2,:,:]"
   ]
  },
  {
   "cell_type": "code",
   "execution_count": 181,
   "id": "b408e455",
   "metadata": {},
   "outputs": [],
   "source": [
    "# DJF   13\n",
    "date_13_1 = 7274\n",
    "date_13_2 = 7364\n",
    "data_1 = date_13_1\n",
    "data_2 = date_13_2\n",
    "\n",
    "sea_surface_height_above_geoid_13 = sea_surface_height_above_geoid[data_1:data_2,:,:]\n",
    "sea_surface_height_above_sea_level_13 = sea_surface_height_above_sea_level[data_1:data_2,:,:]"
   ]
  },
  {
   "cell_type": "code",
   "execution_count": 182,
   "id": "d455d086",
   "metadata": {},
   "outputs": [],
   "source": [
    "# DJF   14\n",
    "date_14_1 = 7639\n",
    "date_14_2 = 7729\n",
    "data_1 = date_14_1\n",
    "data_2 = date_14_2\n",
    "\n",
    "sea_surface_height_above_geoid_14 = sea_surface_height_above_geoid[data_1:data_2,:,:]\n",
    "sea_surface_height_above_sea_level_14 = sea_surface_height_above_sea_level[data_1:data_2,:,:]"
   ]
  },
  {
   "cell_type": "code",
   "execution_count": 183,
   "id": "27c9f049",
   "metadata": {},
   "outputs": [],
   "source": [
    "# DJF   15\n",
    "date_15_1 = 8004\n",
    "date_15_2 = 8094\n",
    "data_1 = date_15_1\n",
    "data_2 = date_15_2\n",
    "\n",
    "sea_surface_height_above_geoid_15 = sea_surface_height_above_geoid[data_1:data_2,:,:]\n",
    "sea_surface_height_above_sea_level_15 = sea_surface_height_above_sea_level[data_1:data_2,:,:]"
   ]
  },
  {
   "cell_type": "code",
   "execution_count": 184,
   "id": "870b0f2d",
   "metadata": {},
   "outputs": [],
   "source": [
    "# DJF   16\n",
    "date_16_1 = 8369\n",
    "date_16_2 = 8460\n",
    "data_1 = date_16_1\n",
    "data_2 = date_16_2\n",
    "\n",
    "sea_surface_height_above_geoid_16 = sea_surface_height_above_geoid[data_1:data_2,:,:]\n",
    "sea_surface_height_above_sea_level_16 = sea_surface_height_above_sea_level[data_1:data_2,:,:]"
   ]
  },
  {
   "cell_type": "code",
   "execution_count": 185,
   "id": "44cbfbe7",
   "metadata": {},
   "outputs": [],
   "source": [
    "# DJF   17\n",
    "date_17_1 = 8735\n",
    "date_17_2 = 8825\n",
    "data_1 = date_17_1\n",
    "data_2 = date_17_2\n",
    "\n",
    "sea_surface_height_above_geoid_17 = sea_surface_height_above_geoid[data_1:data_2,:,:]\n",
    "sea_surface_height_above_sea_level_17 = sea_surface_height_above_sea_level[data_1:data_2,:,:]"
   ]
  },
  {
   "cell_type": "code",
   "execution_count": 186,
   "id": "a6ed108d",
   "metadata": {},
   "outputs": [],
   "source": [
    "# DJF   18\n",
    "date_18_1 = 9100\n",
    "date_18_2 = 9190\n",
    "data_1 = date_18_1\n",
    "data_2 = date_18_2\n",
    "\n",
    "sea_surface_height_above_geoid_18 = sea_surface_height_above_geoid[data_1:data_2,:,:]\n",
    "sea_surface_height_above_sea_level_18 = sea_surface_height_above_sea_level[data_1:data_2,:,:]"
   ]
  },
  {
   "cell_type": "code",
   "execution_count": 187,
   "id": "f4b5fe43",
   "metadata": {},
   "outputs": [],
   "source": [
    "# DJF   19\n",
    "date_19_1 = 9452\n",
    "date_19_2 = 9542\n",
    "data_1 = date_19_1\n",
    "data_2 = date_19_2\n",
    "\n",
    "sea_surface_height_above_geoid_19 = sea_surface_height_above_geoid[data_1:data_2,:,:]\n",
    "sea_surface_height_above_sea_level_19 = sea_surface_height_above_sea_level[data_1:data_2,:,:]"
   ]
  },
  {
   "cell_type": "code",
   "execution_count": 188,
   "id": "461a9b83",
   "metadata": {},
   "outputs": [],
   "source": [
    "sea_surface_height_above_geoid_93_mean = np.mean((sea_surface_height_above_geoid_93), axis = (0,1,2)).reshape(-1,1)"
   ]
  },
  {
   "cell_type": "code",
   "execution_count": 189,
   "id": "b0a1e910",
   "metadata": {},
   "outputs": [],
   "source": [
    "sea_surface_height_above_geoid_94_mean = np.mean((sea_surface_height_above_geoid_94), axis = (0,1,2)).reshape(-1,1)\n",
    "sea_surface_height_above_geoid_95_mean = np.mean((sea_surface_height_above_geoid_95), axis = (0,1,2)).reshape(-1,1)\n",
    "sea_surface_height_above_geoid_96_mean = np.mean((sea_surface_height_above_geoid_96), axis = (0,1,2)).reshape(-1,1)\n",
    "sea_surface_height_above_geoid_97_mean = np.mean((sea_surface_height_above_geoid_97), axis = (0,1,2)).reshape(-1,1)\n",
    "sea_surface_height_above_geoid_98_mean = np.mean((sea_surface_height_above_geoid_98), axis = (0,1,2)).reshape(-1,1)\n",
    "sea_surface_height_above_geoid_99_mean = np.mean((sea_surface_height_above_geoid_99), axis = (0,1,2)).reshape(-1,1)\n",
    "sea_surface_height_above_geoid_00_mean = np.mean((sea_surface_height_above_geoid_00), axis = (0,1,2)).reshape(-1,1)\n",
    "sea_surface_height_above_geoid_01_mean = np.mean((sea_surface_height_above_geoid_01), axis = (0,1,2)).reshape(-1,1)\n",
    "sea_surface_height_above_geoid_02_mean = np.mean((sea_surface_height_above_geoid_02), axis = (0,1,2)).reshape(-1,1)\n",
    "sea_surface_height_above_geoid_03_mean = np.mean((sea_surface_height_above_geoid_03), axis = (0,1,2)).reshape(-1,1)\n",
    "sea_surface_height_above_geoid_04_mean = np.mean((sea_surface_height_above_geoid_04), axis = (0,1,2)).reshape(-1,1)\n",
    "sea_surface_height_above_geoid_05_mean = np.mean((sea_surface_height_above_geoid_05), axis = (0,1,2)).reshape(-1,1)\n",
    "sea_surface_height_above_geoid_06_mean = np.mean((sea_surface_height_above_geoid_06), axis = (0,1,2)).reshape(-1,1)\n",
    "sea_surface_height_above_geoid_07_mean = np.mean((sea_surface_height_above_geoid_07), axis = (0,1,2)).reshape(-1,1)\n",
    "sea_surface_height_above_geoid_08_mean = np.mean((sea_surface_height_above_geoid_08), axis = (0,1,2)).reshape(-1,1)\n",
    "sea_surface_height_above_geoid_09_mean = np.mean((sea_surface_height_above_geoid_09), axis = (0,1,2)).reshape(-1,1)\n",
    "sea_surface_height_above_geoid_10_mean = np.mean((sea_surface_height_above_geoid_10), axis = (0,1,2)).reshape(-1,1)\n",
    "sea_surface_height_above_geoid_11_mean = np.mean((sea_surface_height_above_geoid_11), axis = (0,1,2)).reshape(-1,1)\n",
    "sea_surface_height_above_geoid_12_mean = np.mean((sea_surface_height_above_geoid_12), axis = (0,1,2)).reshape(-1,1)\n",
    "sea_surface_height_above_geoid_13_mean = np.mean((sea_surface_height_above_geoid_13), axis = (0,1,2)).reshape(-1,1)\n",
    "sea_surface_height_above_geoid_14_mean = np.mean((sea_surface_height_above_geoid_14), axis = (0,1,2)).reshape(-1,1)\n",
    "sea_surface_height_above_geoid_15_mean = np.mean((sea_surface_height_above_geoid_15), axis = (0,1,2)).reshape(-1,1)\n",
    "sea_surface_height_above_geoid_16_mean = np.mean((sea_surface_height_above_geoid_16), axis = (0,1,2)).reshape(-1,1)\n",
    "sea_surface_height_above_geoid_17_mean = np.mean((sea_surface_height_above_geoid_17), axis = (0,1,2)).reshape(-1,1)\n",
    "sea_surface_height_above_geoid_18_mean = np.mean((sea_surface_height_above_geoid_18), axis = (0,1,2)).reshape(-1,1)\n",
    "sea_surface_height_above_geoid_19_mean = np.mean((sea_surface_height_above_geoid_19), axis = (0,1,2)).reshape(-1,1)"
   ]
  },
  {
   "cell_type": "code",
   "execution_count": 190,
   "id": "c0661f32",
   "metadata": {},
   "outputs": [],
   "source": [
    "sea_surface_height_above_geoid_93_19_mean = np.concatenate((sea_surface_height_above_geoid_93,\n",
    "sea_surface_height_above_geoid_94, sea_surface_height_above_geoid_95, sea_surface_height_above_geoid_96,\n",
    "                                                           sea_surface_height_above_geoid_97, sea_surface_height_above_geoid_98,\n",
    "                                                           sea_surface_height_above_geoid_99, sea_surface_height_above_geoid_00,\n",
    "                                                           sea_surface_height_above_geoid_01, sea_surface_height_above_geoid_02,\n",
    "                                                           sea_surface_height_above_geoid_03, sea_surface_height_above_geoid_04,\n",
    "                                                           sea_surface_height_above_geoid_05, sea_surface_height_above_geoid_06,\n",
    "                                                           sea_surface_height_above_geoid_07, sea_surface_height_above_geoid_08,\n",
    "                                                           sea_surface_height_above_geoid_09, sea_surface_height_above_geoid_10,\n",
    "                                                           sea_surface_height_above_geoid_11, sea_surface_height_above_geoid_12,\n",
    "                                                           sea_surface_height_above_geoid_13, sea_surface_height_above_geoid_14,\n",
    "                                                           sea_surface_height_above_geoid_15, sea_surface_height_above_geoid_16,\n",
    "                                                           sea_surface_height_above_geoid_17, sea_surface_height_above_geoid_18,\n",
    "                                                           sea_surface_height_above_geoid_19), axis = 0)"
   ]
  },
  {
   "cell_type": "code",
   "execution_count": 191,
   "id": "1bc57266",
   "metadata": {},
   "outputs": [],
   "source": [
    "sea_surface_height_above_geoid_93_19_mean = np.mean((sea_surface_height_above_geoid_93_19_mean), axis = (1,2))"
   ]
  },
  {
   "cell_type": "code",
   "execution_count": 192,
   "id": "4d0e7a5d",
   "metadata": {},
   "outputs": [],
   "source": [
    "sea_surface_height_above_geoid_93_19_mean_all = np.concatenate((sea_surface_height_above_geoid_93_mean,\n",
    "sea_surface_height_above_geoid_94_mean, sea_surface_height_above_geoid_95_mean, \n",
    "                                                                sea_surface_height_above_geoid_96_mean,\n",
    "                                                           sea_surface_height_above_geoid_97_mean, sea_surface_height_above_geoid_98_mean,\n",
    "                                                           sea_surface_height_above_geoid_99_mean, sea_surface_height_above_geoid_00_mean,\n",
    "                                                           sea_surface_height_above_geoid_01_mean, sea_surface_height_above_geoid_02_mean,\n",
    "                                                           sea_surface_height_above_geoid_03_mean, sea_surface_height_above_geoid_04_mean,\n",
    "                                                           sea_surface_height_above_geoid_05_mean, sea_surface_height_above_geoid_06_mean,\n",
    "                                                           sea_surface_height_above_geoid_07_mean, sea_surface_height_above_geoid_08_mean,\n",
    "                                                           sea_surface_height_above_geoid_09_mean, sea_surface_height_above_geoid_10_mean,\n",
    "                                                           sea_surface_height_above_geoid_11_mean, sea_surface_height_above_geoid_12_mean,\n",
    "                                                           sea_surface_height_above_geoid_13_mean, sea_surface_height_above_geoid_14_mean,\n",
    "                                                           sea_surface_height_above_geoid_15_mean, sea_surface_height_above_geoid_16_mean,\n",
    "                                                           sea_surface_height_above_geoid_17_mean, sea_surface_height_above_geoid_18_mean,\n",
    "                                                           sea_surface_height_above_geoid_19_mean), axis = 0)"
   ]
  },
  {
   "cell_type": "code",
   "execution_count": 193,
   "id": "4c529447",
   "metadata": {},
   "outputs": [],
   "source": [
    "sea_surface_height_above_sea_level_93_mean = np.mean((sea_surface_height_above_sea_level_93), axis = (0,1,2)).reshape(-1,1)\n",
    "sea_surface_height_above_sea_level_94_mean = np.mean((sea_surface_height_above_sea_level_94), axis = (0,1,2)).reshape(-1,1)\n",
    "sea_surface_height_above_sea_level_95_mean = np.mean((sea_surface_height_above_sea_level_95), axis = (0,1,2)).reshape(-1,1)\n",
    "sea_surface_height_above_sea_level_96_mean = np.mean((sea_surface_height_above_sea_level_96), axis = (0,1,2)).reshape(-1,1)\n",
    "sea_surface_height_above_sea_level_97_mean = np.mean((sea_surface_height_above_sea_level_97), axis = (0,1,2)).reshape(-1,1)\n",
    "sea_surface_height_above_sea_level_98_mean = np.mean((sea_surface_height_above_sea_level_98), axis = (0,1,2)).reshape(-1,1)\n",
    "sea_surface_height_above_sea_level_99_mean = np.mean((sea_surface_height_above_sea_level_99), axis = (0,1,2)).reshape(-1,1)\n",
    "sea_surface_height_above_sea_level_00_mean = np.mean((sea_surface_height_above_sea_level_00), axis = (0,1,2)).reshape(-1,1)\n",
    "sea_surface_height_above_sea_level_01_mean = np.mean((sea_surface_height_above_sea_level_01), axis = (0,1,2)).reshape(-1,1)\n",
    "sea_surface_height_above_sea_level_02_mean = np.mean((sea_surface_height_above_sea_level_02), axis = (0,1,2)).reshape(-1,1)\n",
    "sea_surface_height_above_sea_level_03_mean = np.mean((sea_surface_height_above_sea_level_03), axis = (0,1,2)).reshape(-1,1)\n",
    "sea_surface_height_above_sea_level_04_mean = np.mean((sea_surface_height_above_sea_level_04), axis = (0,1,2)).reshape(-1,1)\n",
    "sea_surface_height_above_sea_level_05_mean = np.mean((sea_surface_height_above_sea_level_05), axis = (0,1,2)).reshape(-1,1)\n",
    "sea_surface_height_above_sea_level_06_mean = np.mean((sea_surface_height_above_sea_level_06), axis = (0,1,2)).reshape(-1,1)\n",
    "sea_surface_height_above_sea_level_07_mean = np.mean((sea_surface_height_above_sea_level_07), axis = (0,1,2)).reshape(-1,1)\n",
    "sea_surface_height_above_sea_level_08_mean = np.mean((sea_surface_height_above_sea_level_08), axis = (0,1,2)).reshape(-1,1)\n",
    "sea_surface_height_above_sea_level_09_mean = np.mean((sea_surface_height_above_sea_level_09), axis = (0,1,2)).reshape(-1,1)\n",
    "sea_surface_height_above_sea_level_10_mean = np.mean((sea_surface_height_above_sea_level_10), axis = (0,1,2)).reshape(-1,1)\n",
    "sea_surface_height_above_sea_level_11_mean = np.mean((sea_surface_height_above_sea_level_11), axis = (0,1,2)).reshape(-1,1)\n",
    "sea_surface_height_above_sea_level_12_mean = np.mean((sea_surface_height_above_sea_level_12), axis = (0,1,2)).reshape(-1,1)\n",
    "sea_surface_height_above_sea_level_13_mean = np.mean((sea_surface_height_above_sea_level_13), axis = (0,1,2)).reshape(-1,1)\n",
    "sea_surface_height_above_sea_level_14_mean = np.mean((sea_surface_height_above_sea_level_14), axis = (0,1,2)).reshape(-1,1)\n",
    "sea_surface_height_above_sea_level_15_mean = np.mean((sea_surface_height_above_sea_level_15), axis = (0,1,2)).reshape(-1,1)\n",
    "sea_surface_height_above_sea_level_16_mean = np.mean((sea_surface_height_above_sea_level_16), axis = (0,1,2)).reshape(-1,1)\n",
    "sea_surface_height_above_sea_level_17_mean = np.mean((sea_surface_height_above_sea_level_17), axis = (0,1,2)).reshape(-1,1)\n",
    "sea_surface_height_above_sea_level_18_mean = np.mean((sea_surface_height_above_sea_level_18), axis = (0,1,2)).reshape(-1,1)\n",
    "sea_surface_height_above_sea_level_19_mean = np.mean((sea_surface_height_above_sea_level_19), axis = (0,1,2)).reshape(-1,1)"
   ]
  },
  {
   "cell_type": "code",
   "execution_count": 194,
   "id": "af2fff31",
   "metadata": {},
   "outputs": [],
   "source": [
    "sea_surface_height_above_sea_level_93_19_mean_all = np.concatenate((\n",
    "sea_surface_height_above_sea_level_93_mean, sea_surface_height_above_sea_level_94_mean,\n",
    "sea_surface_height_above_sea_level_95_mean, sea_surface_height_above_sea_level_96_mean,\n",
    "sea_surface_height_above_sea_level_97_mean, sea_surface_height_above_sea_level_98_mean,\n",
    "sea_surface_height_above_sea_level_99_mean, sea_surface_height_above_sea_level_00_mean,\n",
    "sea_surface_height_above_sea_level_01_mean, sea_surface_height_above_sea_level_02_mean,\n",
    "sea_surface_height_above_sea_level_03_mean, sea_surface_height_above_sea_level_04_mean,\n",
    "sea_surface_height_above_sea_level_05_mean, sea_surface_height_above_sea_level_06_mean,\n",
    "sea_surface_height_above_sea_level_07_mean, sea_surface_height_above_sea_level_08_mean,\n",
    "sea_surface_height_above_sea_level_09_mean, sea_surface_height_above_sea_level_10_mean,\n",
    "sea_surface_height_above_sea_level_11_mean, sea_surface_height_above_sea_level_12_mean,\n",
    "sea_surface_height_above_sea_level_13_mean, sea_surface_height_above_sea_level_14_mean,\n",
    "sea_surface_height_above_sea_level_15_mean, sea_surface_height_above_sea_level_16_mean,\n",
    "sea_surface_height_above_sea_level_17_mean, sea_surface_height_above_sea_level_18_mean,\n",
    "sea_surface_height_above_sea_level_19_mean), axis = 0)"
   ]
  },
  {
   "cell_type": "code",
   "execution_count": 195,
   "id": "fe64358c",
   "metadata": {},
   "outputs": [],
   "source": [
    "sea_surface_height_above_geoid_93_19 = np.concatenate((sea_surface_height_above_geoid_93,\n",
    "                                                      sea_surface_height_above_geoid_94, sea_surface_height_above_geoid_95,\n",
    "                                                      sea_surface_height_above_geoid_96, sea_surface_height_above_geoid_97,\n",
    "                                                      sea_surface_height_above_geoid_98, sea_surface_height_above_geoid_99,\n",
    "                                                      sea_surface_height_above_geoid_00,\n",
    "                                                      sea_surface_height_above_geoid_01, sea_surface_height_above_geoid_02,\n",
    "                                                      sea_surface_height_above_geoid_03, sea_surface_height_above_geoid_04,\n",
    "                                                      sea_surface_height_above_geoid_05, sea_surface_height_above_geoid_06,\n",
    "                                                      sea_surface_height_above_geoid_07, sea_surface_height_above_geoid_08,\n",
    "                                                      sea_surface_height_above_geoid_09, sea_surface_height_above_geoid_10,\n",
    "                                                      sea_surface_height_above_geoid_11, sea_surface_height_above_geoid_12,\n",
    "                                                      sea_surface_height_above_geoid_13, sea_surface_height_above_geoid_14,\n",
    "                                                      sea_surface_height_above_geoid_15, sea_surface_height_above_geoid_16,\n",
    "                                                      sea_surface_height_above_geoid_17, sea_surface_height_above_geoid_18,\n",
    "                                                      sea_surface_height_above_geoid_19),axis = 0)"
   ]
  },
  {
   "cell_type": "code",
   "execution_count": 196,
   "id": "8cee16f3",
   "metadata": {},
   "outputs": [],
   "source": [
    "sea_surface_height_above_sea_level_93_19 = np.concatenate((sea_surface_height_above_sea_level_93,\n",
    "sea_surface_height_above_sea_level_94, sea_surface_height_above_sea_level_95,\n",
    "                                                          sea_surface_height_above_sea_level_96, sea_surface_height_above_sea_level_97,\n",
    "                                                          sea_surface_height_above_sea_level_98, sea_surface_height_above_sea_level_99,\n",
    "                                                          sea_surface_height_above_sea_level_00, sea_surface_height_above_sea_level_01,\n",
    "                                                          sea_surface_height_above_sea_level_02, sea_surface_height_above_sea_level_03,\n",
    "                                                          sea_surface_height_above_sea_level_04, sea_surface_height_above_sea_level_05,\n",
    "                                                          sea_surface_height_above_sea_level_06, sea_surface_height_above_sea_level_07,\n",
    "                                                          sea_surface_height_above_sea_level_08, sea_surface_height_above_sea_level_09,\n",
    "                                                          sea_surface_height_above_sea_level_10, sea_surface_height_above_sea_level_11,\n",
    "                                                          sea_surface_height_above_sea_level_12, sea_surface_height_above_sea_level_13,\n",
    "                                                          sea_surface_height_above_sea_level_14, sea_surface_height_above_sea_level_15,\n",
    "                                                          sea_surface_height_above_sea_level_16, sea_surface_height_above_sea_level_17,\n",
    "                                                          sea_surface_height_above_sea_level_18, sea_surface_height_above_sea_level_19),axis = 0)"
   ]
  },
  {
   "cell_type": "code",
   "execution_count": 197,
   "id": "ad9e8b80",
   "metadata": {},
   "outputs": [],
   "source": [
    "sea_surface_height_above_geoid_93_19_mean = np.mean((sea_surface_height_above_geoid_93_19), axis = (1,2)).reshape(-1,1)"
   ]
  },
  {
   "cell_type": "code",
   "execution_count": 198,
   "id": "dcef1a3a",
   "metadata": {},
   "outputs": [
    {
     "data": {
      "text/plain": [
       "(2405, 1)"
      ]
     },
     "execution_count": 198,
     "metadata": {},
     "output_type": "execute_result"
    }
   ],
   "source": [
    "sea_surface_height_above_geoid_93_19_mean.shape"
   ]
  },
  {
   "cell_type": "code",
   "execution_count": 199,
   "id": "8c756499",
   "metadata": {},
   "outputs": [],
   "source": [
    "sea_surface_height_above_sea_level_93_19_mean = np.mean((sea_surface_height_above_sea_level_93_19), axis = (1,2)).reshape(-1,1)"
   ]
  },
  {
   "cell_type": "code",
   "execution_count": 200,
   "id": "cca6eb6f",
   "metadata": {},
   "outputs": [
    {
     "data": {
      "text/plain": [
       "(2405, 1)"
      ]
     },
     "execution_count": 200,
     "metadata": {},
     "output_type": "execute_result"
    }
   ],
   "source": [
    "sea_surface_height_above_sea_level_93_19_mean.shape"
   ]
  },
  {
   "cell_type": "code",
   "execution_count": 201,
   "id": "9425536a",
   "metadata": {},
   "outputs": [],
   "source": [
    "sea_surface_height_above_geoid_DJF_93 = np.mean(sea_surface_height_above_geoid_93_19_mean[:59]).reshape(-1,1)\n",
    "sea_surface_height_above_geoid_DJF_94 = np.mean(sea_surface_height_above_geoid_93_19_mean[59:149]).reshape(-1,1)\n",
    "sea_surface_height_above_geoid_DJF_95 = np.mean(sea_surface_height_above_geoid_93_19_mean[149:239]).reshape(-1,1)\n",
    "sea_surface_height_above_geoid_DJF_96 = np.mean(sea_surface_height_above_geoid_93_19_mean[239:330]).reshape(-1,1)\n",
    "sea_surface_height_above_geoid_DJF_97 = np.mean(sea_surface_height_above_geoid_93_19_mean[330:420]).reshape(-1,1)\n",
    "sea_surface_height_above_geoid_DJF_98_1 = sea_surface_height_above_geoid_93_19_mean[420:444].reshape(-1,1)\n",
    "sea_surface_height_above_geoid_DJF_98_2 = sea_surface_height_above_geoid_93_19_mean[459:466].reshape(-1,1)\n",
    "sea_surface_height_above_geoid_DJF_98_3 = sea_surface_height_above_geoid_93_19_mean[490:497].reshape(-1,1)\n",
    "sea_surface_height_above_geoid_DJF_98 = np.mean(np.concatenate((sea_surface_height_above_geoid_DJF_98_1, sea_surface_height_above_geoid_DJF_98_2, sea_surface_height_above_geoid_DJF_98_3), axis = 0)).reshape(-1,1)\n",
    "sea_surface_height_above_geoid_DJF_99 = np.mean(sea_surface_height_above_geoid_93_19_mean[510:600]).reshape(-1,1)\n",
    "sea_surface_height_above_geoid_DJF_00 = np.mean(sea_surface_height_above_geoid_93_19_mean[600:691]).reshape(-1,1)\n",
    "sea_surface_height_above_geoid_DJF_01 = np.mean(sea_surface_height_above_geoid_93_19_mean[691:781]).reshape(-1,1)\n",
    "sea_surface_height_above_geoid_DJF_02 = np.mean(sea_surface_height_above_geoid_93_19_mean[781:871]).reshape(-1,1)\n",
    "sea_surface_height_above_geoid_DJF_03 = np.mean(sea_surface_height_above_geoid_93_19_mean[871:961]).reshape(-1,1)\n",
    "sea_surface_height_above_geoid_DJF_04 = np.mean(sea_surface_height_above_geoid_93_19_mean[961:1052]).reshape(-1,1)\n",
    "sea_surface_height_above_geoid_DJF_05 = np.mean(sea_surface_height_above_geoid_93_19_mean[1052:1142]).reshape(-1,1)\n",
    "sea_surface_height_above_geoid_DJF_06 = np.mean(sea_surface_height_above_geoid_93_19_mean[1142:1232]).reshape(-1,1)\n",
    "sea_surface_height_above_geoid_DJF_07_1 = sea_surface_height_above_geoid_93_19_mean[1232:1284].reshape(-1,1)\n",
    "sea_surface_height_above_geoid_DJF_07_2 = sea_surface_height_above_geoid_93_19_mean[1289:1322].reshape(-1,1)\n",
    "sea_surface_height_above_geoid_DJF_07 = np.mean(np.concatenate((sea_surface_height_above_geoid_DJF_07_1, sea_surface_height_above_geoid_DJF_07_2), axis = 0)).reshape(-1,1)\n",
    "sea_surface_height_above_geoid_DJF_08 = np.mean(sea_surface_height_above_geoid_93_19_mean[1322:1413]).reshape(-1,1)\n",
    "sea_surface_height_above_geoid_DJF_09 = np.mean(sea_surface_height_above_geoid_93_19_mean[1413:1503]).reshape(-1,1)\n",
    "sea_surface_height_above_geoid_DJF_10_1 = sea_surface_height_above_geoid_93_19_mean[1503:1507].reshape(-1,1)\n",
    "sea_surface_height_above_geoid_DJF_10_2 = sea_surface_height_above_geoid_93_19_mean[1523:1547].reshape(-1,1)\n",
    "sea_surface_height_above_geoid_DJF_10_3 = sea_surface_height_above_geoid_93_19_mean[1570:1577].reshape(-1,1)\n",
    "sea_surface_height_above_geoid_DJF_10 = np.mean(np.concatenate((sea_surface_height_above_geoid_DJF_10_1, sea_surface_height_above_geoid_DJF_10_2, sea_surface_height_above_geoid_DJF_10_3), axis = 0)).reshape(-1,1)\n",
    "sea_surface_height_above_geoid_DJF_11 = np.mean(sea_surface_height_above_geoid_93_19_mean[1594:1684]).reshape(-1,1)\n",
    "sea_surface_height_above_geoid_DJF_12 = np.mean(sea_surface_height_above_geoid_93_19_mean[1684:1774]).reshape(-1,1)\n",
    "sea_surface_height_above_geoid_DJF_13_1 = sea_surface_height_above_geoid_93_19_mean[1774:1784].reshape(-1,1)\n",
    "sea_surface_height_above_geoid_DJF_13_2 = sea_surface_height_above_geoid_93_19_mean[1794:1812].reshape(-1,1)\n",
    "sea_surface_height_above_geoid_DJF_13_3 = sea_surface_height_above_geoid_93_19_mean[1820:1864].reshape(-1,1)\n",
    "sea_surface_height_above_geoid_DJF_13 = np.mean(np.concatenate((sea_surface_height_above_geoid_DJF_13_1, sea_surface_height_above_geoid_DJF_13_2, sea_surface_height_above_geoid_DJF_13_3), axis = 0)).reshape(-1,1)\n",
    "sea_surface_height_above_geoid_DJF_14 = np.mean(sea_surface_height_above_geoid_93_19_mean[1864:1955]).reshape(-1,1)\n",
    "sea_surface_height_above_geoid_DJF_15 = np.mean(sea_surface_height_above_geoid_93_19_mean[1958:2045]).reshape(-1,1)\n",
    "sea_surface_height_above_geoid_DJF_17 = np.mean(sea_surface_height_above_geoid_93_19_mean[2135:2225]).reshape(-1,1)\n",
    "sea_surface_height_above_geoid_DJF_18 = np.mean(sea_surface_height_above_geoid_93_19_mean[2225:2315]).reshape(-1,1)\n",
    "sea_surface_height_above_geoid_DJF_19_1 = sea_surface_height_above_geoid_93_19_mean[2325:2363].reshape(-1,1)\n",
    "sea_surface_height_above_geoid_DJF_19_2 = sea_surface_height_above_geoid_93_19_mean[2369:2393].reshape(-1,1)\n",
    "sea_surface_height_above_geoid_DJF_19_3 = sea_surface_height_above_geoid_93_19_mean[2398:].reshape(-1,1)\n",
    "sea_surface_height_above_geoid_DJF_19 = np.mean(np.concatenate((sea_surface_height_above_geoid_DJF_19_1, sea_surface_height_above_geoid_DJF_19_2, sea_surface_height_above_geoid_DJF_19_3), axis = 0)).reshape(-1,1)"
   ]
  },
  {
   "cell_type": "code",
   "execution_count": 202,
   "id": "0b92403f",
   "metadata": {},
   "outputs": [],
   "source": [
    "sea_surface_height_above_geoid_DJF_93_19_without_MHW_mean = np.concatenate((\n",
    "sea_surface_height_above_geoid_DJF_93, sea_surface_height_above_geoid_DJF_94,\n",
    "sea_surface_height_above_geoid_DJF_95, sea_surface_height_above_geoid_DJF_96,\n",
    "sea_surface_height_above_geoid_DJF_97, sea_surface_height_above_geoid_DJF_98,\n",
    "sea_surface_height_above_geoid_DJF_99, sea_surface_height_above_geoid_DJF_00,\n",
    "sea_surface_height_above_geoid_DJF_01, sea_surface_height_above_geoid_DJF_02,\n",
    "sea_surface_height_above_geoid_DJF_03, sea_surface_height_above_geoid_DJF_04,\n",
    "sea_surface_height_above_geoid_DJF_05, sea_surface_height_above_geoid_DJF_06,\n",
    "sea_surface_height_above_geoid_DJF_07, sea_surface_height_above_geoid_DJF_08,\n",
    "sea_surface_height_above_geoid_DJF_09, sea_surface_height_above_geoid_DJF_10,\n",
    "sea_surface_height_above_geoid_DJF_11, sea_surface_height_above_geoid_DJF_12,\n",
    "sea_surface_height_above_geoid_DJF_13, sea_surface_height_above_geoid_DJF_14,\n",
    "sea_surface_height_above_geoid_DJF_15,\n",
    "sea_surface_height_above_geoid_DJF_17, sea_surface_height_above_geoid_DJF_18,\n",
    "sea_surface_height_above_geoid_DJF_19), axis = 0).reshape(-1,1)"
   ]
  },
  {
   "cell_type": "code",
   "execution_count": 203,
   "id": "50324b5a",
   "metadata": {},
   "outputs": [],
   "source": [
    "sea_surface_height_above_sea_level_DJF_93 = np.mean(sea_surface_height_above_sea_level_93_19_mean[:59]).reshape(-1,1)\n",
    "sea_surface_height_above_sea_level_DJF_94 = np.mean(sea_surface_height_above_sea_level_93_19_mean[59:149]).reshape(-1,1)\n",
    "sea_surface_height_above_sea_level_DJF_95 = np.mean(sea_surface_height_above_sea_level_93_19_mean[149:239]).reshape(-1,1)\n",
    "sea_surface_height_above_sea_level_DJF_96 = np.mean(sea_surface_height_above_sea_level_93_19_mean[239:330]).reshape(-1,1)\n",
    "sea_surface_height_above_sea_level_DJF_97 = np.mean(sea_surface_height_above_sea_level_93_19_mean[330:420]).reshape(-1,1)\n",
    "sea_surface_height_above_sea_level_DJF_98_1 = sea_surface_height_above_sea_level_93_19_mean[420:444].reshape(-1,1)\n",
    "sea_surface_height_above_sea_level_DJF_98_2 = sea_surface_height_above_sea_level_93_19_mean[459:466].reshape(-1,1)\n",
    "sea_surface_height_above_sea_level_DJF_98_3 = sea_surface_height_above_sea_level_93_19_mean[490:497].reshape(-1,1)\n",
    "sea_surface_height_above_sea_level_DJF_98 = np.mean(np.concatenate((sea_surface_height_above_sea_level_DJF_98_1, sea_surface_height_above_sea_level_DJF_98_2, sea_surface_height_above_sea_level_DJF_98_3), axis = 0)).reshape(-1,1)\n",
    "sea_surface_height_above_sea_level_DJF_99 = np.mean(sea_surface_height_above_sea_level_93_19_mean[510:600]).reshape(-1,1)\n",
    "sea_surface_height_above_sea_level_DJF_00 = np.mean(sea_surface_height_above_sea_level_93_19_mean[600:691]).reshape(-1,1)\n",
    "sea_surface_height_above_sea_level_DJF_01 = np.mean(sea_surface_height_above_sea_level_93_19_mean[691:781]).reshape(-1,1)\n",
    "sea_surface_height_above_sea_level_DJF_02 = np.mean(sea_surface_height_above_sea_level_93_19_mean[781:871]).reshape(-1,1)\n",
    "sea_surface_height_above_sea_level_DJF_03 = np.mean(sea_surface_height_above_sea_level_93_19_mean[871:961]).reshape(-1,1)\n",
    "sea_surface_height_above_sea_level_DJF_04 = np.mean(sea_surface_height_above_sea_level_93_19_mean[961:1052]).reshape(-1,1)\n",
    "sea_surface_height_above_sea_level_DJF_05 = np.mean(sea_surface_height_above_sea_level_93_19_mean[1052:1142]).reshape(-1,1)\n",
    "sea_surface_height_above_sea_level_DJF_06 = np.mean(sea_surface_height_above_sea_level_93_19_mean[1142:1232]).reshape(-1,1)\n",
    "sea_surface_height_above_sea_level_DJF_07_1 = sea_surface_height_above_sea_level_93_19_mean[1232:1284].reshape(-1,1)\n",
    "sea_surface_height_above_sea_level_DJF_07_2 = sea_surface_height_above_sea_level_93_19_mean[1289:1322].reshape(-1,1)\n",
    "sea_surface_height_above_sea_level_DJF_07 = np.mean(np.concatenate((sea_surface_height_above_sea_level_DJF_07_1, sea_surface_height_above_sea_level_DJF_07_2), axis = 0)).reshape(-1,1)\n",
    "sea_surface_height_above_sea_level_DJF_08 = np.mean(sea_surface_height_above_sea_level_93_19_mean[1322:1413]).reshape(-1,1)\n",
    "sea_surface_height_above_sea_level_DJF_09 = np.mean(sea_surface_height_above_sea_level_93_19_mean[1413:1503]).reshape(-1,1)\n",
    "sea_surface_height_above_sea_level_DJF_10_1 = sea_surface_height_above_sea_level_93_19_mean[1503:1507].reshape(-1,1)\n",
    "sea_surface_height_above_sea_level_DJF_10_2 = sea_surface_height_above_sea_level_93_19_mean[1523:1547].reshape(-1,1)\n",
    "sea_surface_height_above_sea_level_DJF_10_3 = sea_surface_height_above_sea_level_93_19_mean[1570:1577].reshape(-1,1)\n",
    "sea_surface_height_above_sea_level_DJF_10 = np.mean(np.concatenate((sea_surface_height_above_sea_level_DJF_10_1, sea_surface_height_above_sea_level_DJF_10_2, sea_surface_height_above_sea_level_DJF_10_3), axis = 0)).reshape(-1,1)\n",
    "sea_surface_height_above_sea_level_DJF_11 = np.mean(sea_surface_height_above_sea_level_93_19_mean[1594:1684]).reshape(-1,1)\n",
    "sea_surface_height_above_sea_level_DJF_12 = np.mean(sea_surface_height_above_sea_level_93_19_mean[1684:1774]).reshape(-1,1)\n",
    "sea_surface_height_above_sea_level_DJF_13_1 = sea_surface_height_above_sea_level_93_19_mean[1774:1784].reshape(-1,1)\n",
    "sea_surface_height_above_sea_level_DJF_13_2 = sea_surface_height_above_sea_level_93_19_mean[1794:1812].reshape(-1,1)\n",
    "sea_surface_height_above_sea_level_DJF_13_3 = sea_surface_height_above_sea_level_93_19_mean[1820:1864].reshape(-1,1)\n",
    "sea_surface_height_above_sea_level_DJF_13 = np.mean(np.concatenate((sea_surface_height_above_sea_level_DJF_13_1, sea_surface_height_above_sea_level_DJF_13_2, sea_surface_height_above_sea_level_DJF_13_3), axis = 0)).reshape(-1,1)\n",
    "sea_surface_height_above_sea_level_DJF_14 = np.mean(sea_surface_height_above_sea_level_93_19_mean[1864:1955]).reshape(-1,1)\n",
    "sea_surface_height_above_sea_level_DJF_15 = np.mean(sea_surface_height_above_sea_level_93_19_mean[1958:2045]).reshape(-1,1)\n",
    "sea_surface_height_above_sea_level_DJF_17 = np.mean(sea_surface_height_above_sea_level_93_19_mean[2135:2225]).reshape(-1,1)\n",
    "sea_surface_height_above_sea_level_DJF_18 = np.mean(sea_surface_height_above_sea_level_93_19_mean[2225:2315]).reshape(-1,1)\n",
    "sea_surface_height_above_sea_level_DJF_19_1 = sea_surface_height_above_sea_level_93_19_mean[2325:2363].reshape(-1,1)\n",
    "sea_surface_height_above_sea_level_DJF_19_2 = sea_surface_height_above_sea_level_93_19_mean[2369:2393].reshape(-1,1)\n",
    "sea_surface_height_above_sea_level_DJF_19_3 = sea_surface_height_above_sea_level_93_19_mean[2398:].reshape(-1,1)\n",
    "sea_surface_height_above_sea_level_DJF_19 = np.mean(np.concatenate((sea_surface_height_above_sea_level_DJF_19_1, sea_surface_height_above_sea_level_DJF_19_2, sea_surface_height_above_sea_level_DJF_19_3), axis = 0)).reshape(-1,1)"
   ]
  },
  {
   "cell_type": "code",
   "execution_count": 204,
   "id": "5ee8530e",
   "metadata": {},
   "outputs": [],
   "source": [
    "sea_surface_height_above_sea_level_DJF_93_19_without_MHW_mean = np.concatenate((\n",
    "sea_surface_height_above_sea_level_DJF_93, sea_surface_height_above_sea_level_DJF_94,\n",
    "sea_surface_height_above_sea_level_DJF_95, sea_surface_height_above_sea_level_DJF_96,\n",
    "sea_surface_height_above_sea_level_DJF_97, sea_surface_height_above_sea_level_DJF_98,\n",
    "sea_surface_height_above_sea_level_DJF_99, sea_surface_height_above_sea_level_DJF_00,\n",
    "sea_surface_height_above_sea_level_DJF_01, sea_surface_height_above_sea_level_DJF_02,\n",
    "sea_surface_height_above_sea_level_DJF_03, sea_surface_height_above_sea_level_DJF_04,\n",
    "sea_surface_height_above_sea_level_DJF_05, sea_surface_height_above_sea_level_DJF_06,\n",
    "sea_surface_height_above_sea_level_DJF_07, sea_surface_height_above_sea_level_DJF_08,\n",
    "sea_surface_height_above_sea_level_DJF_09, sea_surface_height_above_sea_level_DJF_10,\n",
    "sea_surface_height_above_sea_level_DJF_11, sea_surface_height_above_sea_level_DJF_12,\n",
    "sea_surface_height_above_sea_level_DJF_13, sea_surface_height_above_sea_level_DJF_14,\n",
    "sea_surface_height_above_sea_level_DJF_15, \n",
    "sea_surface_height_above_sea_level_DJF_17, sea_surface_height_above_sea_level_DJF_18,\n",
    "sea_surface_height_above_sea_level_DJF_19), axis = 0).reshape(-1,1)"
   ]
  },
  {
   "cell_type": "code",
   "execution_count": 205,
   "id": "dd6eae3a",
   "metadata": {},
   "outputs": [
    {
     "data": {
      "text/plain": [
       "(26, 1)"
      ]
     },
     "execution_count": 205,
     "metadata": {},
     "output_type": "execute_result"
    }
   ],
   "source": [
    "sea_surface_height_above_geoid_DJF_93_19_without_MHW_mean.shape"
   ]
  },
  {
   "cell_type": "code",
   "execution_count": 206,
   "id": "2c940591",
   "metadata": {},
   "outputs": [],
   "source": [
    "np.savez(r'D:\\博士工作\\第三篇论文_MHW_AI\\data\\pacific\\last\\low_cloud\\E_P_cloud_DJF_Plot_with_without_MHW.npz',\n",
    "         low_cloud_cover_DJF_93_19_with_MHW_mean = sea_surface_height_above_geoid_93_19_mean_all,\n",
    "         E_JJA_93_19_with_DJF_mean = sea_surface_height_above_sea_level_93_19_mean_all,\n",
    "        low_cloud_cover_DJF_93_19_without_MHW_mean = sea_surface_height_above_geoid_DJF_93_19_without_MHW_mean,\n",
    "        E_P_DJF_93_19_without_MHW_mean = sea_surface_height_above_sea_level_DJF_93_19_without_MHW_mean)"
   ]
  },
  {
   "cell_type": "code",
   "execution_count": null,
   "id": "84cd9881",
   "metadata": {},
   "outputs": [],
   "source": []
  }
 ],
 "metadata": {
  "kernelspec": {
   "display_name": "Python 3 (ipykernel)",
   "language": "python",
   "name": "python3"
  },
  "language_info": {
   "codemirror_mode": {
    "name": "ipython",
    "version": 3
   },
   "file_extension": ".py",
   "mimetype": "text/x-python",
   "name": "python",
   "nbconvert_exporter": "python",
   "pygments_lexer": "ipython3",
   "version": "3.8.18"
  }
 },
 "nbformat": 4,
 "nbformat_minor": 5
}

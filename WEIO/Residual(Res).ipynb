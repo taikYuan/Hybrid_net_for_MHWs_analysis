{
 "cells": [
  {
   "cell_type": "code",
   "execution_count": 1,
   "id": "0d53bf61",
   "metadata": {},
   "outputs": [],
   "source": [
    "import numpy as np"
   ]
  },
  {
   "cell_type": "code",
   "execution_count": 2,
   "id": "c8483ddd",
   "metadata": {},
   "outputs": [
    {
     "data": {
      "text/plain": [
       "['Origin_Tt']"
      ]
     },
     "execution_count": 2,
     "metadata": {},
     "output_type": "execute_result"
    }
   ],
   "source": [
    "Tt_origin = np.load(r'C:\\Users\\mymylove\\Desktop\\论文相关\\第三篇论文_HeatWave\\WEIO\\figure_case1\\Origin_Tt.npz')\n",
    "Tt_origin.files"
   ]
  },
  {
   "cell_type": "code",
   "execution_count": 3,
   "id": "86e80f3f",
   "metadata": {},
   "outputs": [
    {
     "data": {
      "text/plain": [
       "(66, 49)"
      ]
     },
     "execution_count": 3,
     "metadata": {},
     "output_type": "execute_result"
    }
   ],
   "source": [
    "Origin_Tt = Tt_origin['Origin_Tt'][:]\n",
    "Origin_Tt.shape"
   ]
  },
  {
   "cell_type": "code",
   "execution_count": 4,
   "id": "5dc279e2",
   "metadata": {},
   "outputs": [
    {
     "data": {
      "text/plain": [
       "['Origin_Sf']"
      ]
     },
     "execution_count": 4,
     "metadata": {},
     "output_type": "execute_result"
    }
   ],
   "source": [
    "Sf_origin = np.load(r'C:\\Users\\mymylove\\Desktop\\论文相关\\第三篇论文_HeatWave\\WEIO\\figure_case1\\Origin_Sf.npz')\n",
    "Sf_origin.files"
   ]
  },
  {
   "cell_type": "code",
   "execution_count": 7,
   "id": "3d388854",
   "metadata": {},
   "outputs": [
    {
     "data": {
      "text/plain": [
       "(65, 48)"
      ]
     },
     "execution_count": 7,
     "metadata": {},
     "output_type": "execute_result"
    }
   ],
   "source": [
    "Origin_Sf = Sf_origin['Origin_Sf'][:]\n",
    "Origin_Sf.shape"
   ]
  },
  {
   "cell_type": "code",
   "execution_count": 8,
   "id": "f3c28ff6",
   "metadata": {},
   "outputs": [
    {
     "data": {
      "text/plain": [
       "['Origin_Adv']"
      ]
     },
     "execution_count": 8,
     "metadata": {},
     "output_type": "execute_result"
    }
   ],
   "source": [
    "Adv_origin = np.load(r'C:\\Users\\mymylove\\Desktop\\论文相关\\第三篇论文_HeatWave\\WEIO\\figure_case1\\Origin_Adv.npz')\n",
    "Adv_origin.files"
   ]
  },
  {
   "cell_type": "code",
   "execution_count": 10,
   "id": "b6dfc587",
   "metadata": {},
   "outputs": [
    {
     "data": {
      "text/plain": [
       "(65, 49)"
      ]
     },
     "execution_count": 10,
     "metadata": {},
     "output_type": "execute_result"
    }
   ],
   "source": [
    "Origin_Adv = Adv_origin['Origin_Adv'][:]\n",
    "Origin_Adv.shape"
   ]
  },
  {
   "cell_type": "code",
   "execution_count": 11,
   "id": "7e4bac53",
   "metadata": {},
   "outputs": [
    {
     "data": {
      "text/plain": [
       "array([[       nan,        nan,        nan, ...,        nan,        nan,\n",
       "               nan],\n",
       "       [       nan, 1.50201578, 1.4011244 , ..., 1.18708552, 1.17064527,\n",
       "        1.17550685],\n",
       "       [       nan, 1.49077609, 1.4672666 , ..., 1.23949351, 1.22910412,\n",
       "        1.23601629],\n",
       "       ...,\n",
       "       [       nan, 2.24921946, 2.54768507, ..., 1.8610333 , 1.80354069,\n",
       "        1.75191516],\n",
       "       [       nan, 2.55676518, 2.80083235, ..., 2.00126008, 1.97851208,\n",
       "        1.88773146],\n",
       "       [       nan,        nan,        nan, ...,        nan,        nan,\n",
       "               nan]])"
      ]
     },
     "execution_count": 11,
     "metadata": {},
     "output_type": "execute_result"
    }
   ],
   "source": [
    "Origin_Res = Origin_Tt[:65,:48]  - Origin_Sf[:65,:48] - Origin_Adv[:65,:48]\n",
    "Origin_Res"
   ]
  },
  {
   "cell_type": "code",
   "execution_count": 12,
   "id": "c1e8d61f",
   "metadata": {},
   "outputs": [
    {
     "data": {
      "text/plain": [
       "['Optimized_Tt']"
      ]
     },
     "execution_count": 12,
     "metadata": {},
     "output_type": "execute_result"
    }
   ],
   "source": [
    "Tt_optimized = np.load(r'C:\\Users\\mymylove\\Desktop\\论文相关\\第三篇论文_HeatWave\\WEIO\\figure_case1\\Optimized_Tt.npz')\n",
    "Tt_optimized.files"
   ]
  },
  {
   "cell_type": "code",
   "execution_count": 13,
   "id": "54a9f067",
   "metadata": {},
   "outputs": [
    {
     "data": {
      "text/plain": [
       "(66, 49)"
      ]
     },
     "execution_count": 13,
     "metadata": {},
     "output_type": "execute_result"
    }
   ],
   "source": [
    "Optimized_Tt = Tt_optimized['Optimized_Tt'][:]\n",
    "Optimized_Tt.shape"
   ]
  },
  {
   "cell_type": "code",
   "execution_count": 14,
   "id": "d3ffe6c8",
   "metadata": {},
   "outputs": [
    {
     "data": {
      "text/plain": [
       "['Optimized_Sf']"
      ]
     },
     "execution_count": 14,
     "metadata": {},
     "output_type": "execute_result"
    }
   ],
   "source": [
    "Sf_optimized = np.load(r'C:\\Users\\mymylove\\Desktop\\论文相关\\第三篇论文_HeatWave\\WEIO\\figure_case1\\Optimized_Sf.npz')\n",
    "Sf_optimized.files"
   ]
  },
  {
   "cell_type": "code",
   "execution_count": 15,
   "id": "69ff0025",
   "metadata": {},
   "outputs": [
    {
     "data": {
      "text/plain": [
       "(65, 48)"
      ]
     },
     "execution_count": 15,
     "metadata": {},
     "output_type": "execute_result"
    }
   ],
   "source": [
    "Optimized_Sf = Sf_optimized['Optimized_Sf'][:]\n",
    "Optimized_Sf.shape"
   ]
  },
  {
   "cell_type": "code",
   "execution_count": 16,
   "id": "dd6d12f3",
   "metadata": {},
   "outputs": [
    {
     "data": {
      "text/plain": [
       "['Optimized_Adv']"
      ]
     },
     "execution_count": 16,
     "metadata": {},
     "output_type": "execute_result"
    }
   ],
   "source": [
    "Adv_optimized = np.load(r'C:\\Users\\mymylove\\Desktop\\论文相关\\第三篇论文_HeatWave\\WEIO\\figure_case1\\Optimized_Adv.npz')\n",
    "Adv_optimized.files"
   ]
  },
  {
   "cell_type": "code",
   "execution_count": 17,
   "id": "774e7078",
   "metadata": {},
   "outputs": [
    {
     "data": {
      "text/plain": [
       "(64, 48)"
      ]
     },
     "execution_count": 17,
     "metadata": {},
     "output_type": "execute_result"
    }
   ],
   "source": [
    "Optimized_Adv = Adv_optimized['Optimized_Adv'][:]\n",
    "Optimized_Adv.shape"
   ]
  },
  {
   "cell_type": "code",
   "execution_count": 19,
   "id": "990ecf87",
   "metadata": {},
   "outputs": [
    {
     "data": {
      "text/plain": [
       "array([[1.61119234, 1.49642726, 1.41272184, ..., 1.19043573, 1.17152845,\n",
       "        1.12853802],\n",
       "       [1.60858432, 1.47600038, 1.37923137, ..., 1.21763561, 1.20227548,\n",
       "        1.18703057],\n",
       "       [1.5430832 , 1.45216169, 1.44801566, ..., 1.28934095, 1.26994535,\n",
       "        1.24504818],\n",
       "       ...,\n",
       "       [1.88743668, 2.01588112, 2.26735543, ..., 1.71511523, 1.67049579,\n",
       "        1.61625706],\n",
       "       [2.02683588, 2.18721707, 2.52513391, ..., 1.84163587, 1.79375751,\n",
       "        1.7333906 ],\n",
       "       [2.35192727, 2.50316009, 2.78317427, ..., 1.9958588 , 1.96705923,\n",
       "        1.86765773]])"
      ]
     },
     "execution_count": 19,
     "metadata": {},
     "output_type": "execute_result"
    }
   ],
   "source": [
    "Optimized_Res = Optimized_Tt[:64,:48]  - Optimized_Sf[:64,:48] - Optimized_Adv[:64,:48]\n",
    "Optimized_Res"
   ]
  },
  {
   "cell_type": "code",
   "execution_count": 30,
   "id": "fd1921a4",
   "metadata": {},
   "outputs": [
    {
     "data": {
      "image/png": "[encoded data removed]",
      "text/plain": [
       "<Figure size 1920x1440 with 1 Axes>"
      ]
     },
     "metadata": {},
     "output_type": "display_data"
    }
   ],
   "source": [
    "import numpy as np\n",
    "import matplotlib.pyplot as plt\n",
    "from matplotlib.colors import ListedColormap, BoundaryNorm\n",
    "import matplotlib.cm as cm\n",
    "\n",
    "# Create a 2D array of random numbers\n",
    "data = Optimized_Res\n",
    "\n",
    "plt.figure(dpi=300)  # Set the dpi value\n",
    "\n",
    "colors = ['#b9c4d8', '#a6b4cc', '#8ca5dc', '#8897e3', '#a4badc', '#adc2de', '#b0cada', '#bbcde9',\n",
    "'#c3d2eb', '#d5e0f0', '#ebf1f7', '#f7fbfd', '#fcfefc', '#fdfdfe', '#fdfdfe', '#fefefe',\n",
    "'#fff8f2','#fffaf3', '#fff4ea', '#ffeacc', '#ffd9c1', '#ffcfae', '#ffbf9e', '#ffbfa0',\n",
    "'#f7aba0', '#f3a89a', '#f0a093', '#eb998c', '#e69185', '#e68b7e', '#db6f6d', '#da6e6d',\n",
    "'#d26967', '#c9615d'\n",
    "          ]\n",
    "cmap_custom = ListedColormap(colors)\n",
    "cmap_custom.set_bad(color='lightgrey')  # set the color for NaN values to lightgrey\n",
    "\n",
    "# Create a ScalarMappable with a normalized color map\n",
    "norm = BoundaryNorm([0, 0.1, 0.2, 0.30, 0.4, 0.5, 0.6, 0.7, 0.8, 0.9, 1,\n",
    "                     1.1, 1.2, 1.3, 1.4, 1.5, 1.6, 1.7,\n",
    "                     1.8,1.9, 2.0, 2.1, 2.2, 2.3, 2.4, 2.5, 2.6, 2.7, 2.8,\n",
    "                     2.9, 3.0, 3.1, 3.2], cmap_custom.N)\n",
    "# norm = BoundaryNorm([-5, -4.7, -4.4, -4.1, -3.8, -3.5, -3.2, -2.9, -2.6, -2.3, -2,\n",
    "#                      -1.7, -1.4, -1.1, -0.8, -0.5, 0, 0.5,\n",
    "#                      0.8, 1.1, 1.4, 1.7, 2.0, 2.3, 2.6, 2.9, 3.2, 3.5, 3.8,\n",
    "#                      4.1, 4.4, 4.7, 5], cmap_custom.N)\n",
    "sm = cm.ScalarMappable(cmap=cmap_custom, norm=norm)\n",
    "sm.set_array([])\n",
    "\n",
    "plt.imshow(data, cmap=cmap_custom, norm=norm, interpolation='bicubic', alpha=0.8)\n",
    "\n",
    "# Add the color bar with the custom color map\n",
    "\n",
    "# cbar = plt.colorbar(sm, shrink=0.85)\n",
    "# cbar.set_ticks([-1.5, -0.025, 0, 0.025, 1.5])  # Optional: Set custom ticks\n",
    "# cbar.set_ticklabels([-1.5, -0.025, 0, 0.025, 1.5])  # Optional: Set custom tick labels\n",
    "\n",
    "# # 设置x轴刻度位置和标签\n",
    "# plt.xticks([0, 60, 120, 180, 240], ['105°E', '110°E', '115°E', '120°E', '125°E'])  # 设置刻度的位置和标签\n",
    "# plt.yticks([0, 60, 120, 180, 240], ['25°N', '20°N', '15°N', '10°N', '5°N'])  # 设置刻度的位置和标签\n",
    "plt.xticks([])\n",
    "plt.yticks([])\n",
    "plt.title('Optimized_Res of WEIO')\n",
    "\n",
    "# cbar.set_label('℃/day', rotation=0, labelpad=-40)  # 添加单位\n",
    "# cbar.ax.yaxis.set_label_coords(0.7, -0.03)\n",
    "\n",
    "# 设置x和y轴的刻度线朝内\n",
    "plt.tick_params(axis='x', direction='in', length=2, width=1, colors='k', grid_color='r')\n",
    "plt.tick_params(axis='y', direction='in', length=2, width=1, colors='k', grid_color='r')\n",
    "\n",
    "plt.show()"
   ]
  },
  {
   "cell_type": "code",
   "execution_count": 22,
   "id": "d5451e45",
   "metadata": {},
   "outputs": [
    {
     "data": {
      "text/plain": [
       "array([[1.61119234, 1.49642726, 1.41272184, ..., 1.19043573, 1.17152845,\n",
       "        1.12853802],\n",
       "       [1.60858432, 1.47600038, 1.37923137, ..., 1.21763561, 1.20227548,\n",
       "        1.18703057],\n",
       "       [1.5430832 , 1.45216169, 1.44801566, ..., 1.28934095, 1.26994535,\n",
       "        1.24504818],\n",
       "       ...,\n",
       "       [1.88743668, 2.01588112, 2.26735543, ..., 1.71511523, 1.67049579,\n",
       "        1.61625706],\n",
       "       [2.02683588, 2.18721707, 2.52513391, ..., 1.84163587, 1.79375751,\n",
       "        1.7333906 ],\n",
       "       [2.35192727, 2.50316009, 2.78317427, ..., 1.9958588 , 1.96705923,\n",
       "        1.86765773]])"
      ]
     },
     "execution_count": 22,
     "metadata": {},
     "output_type": "execute_result"
    }
   ],
   "source": [
    "Optimized_Res"
   ]
  },
  {
   "cell_type": "code",
   "execution_count": 23,
   "id": "7c8eb348",
   "metadata": {},
   "outputs": [
    {
     "data": {
      "text/plain": [
       "array([[       nan,        nan,        nan, ...,        nan,        nan,\n",
       "               nan],\n",
       "       [       nan, 1.50201578, 1.4011244 , ..., 1.18708552, 1.17064527,\n",
       "        1.17550685],\n",
       "       [       nan, 1.49077609, 1.4672666 , ..., 1.23949351, 1.22910412,\n",
       "        1.23601629],\n",
       "       ...,\n",
       "       [       nan, 2.24921946, 2.54768507, ..., 1.8610333 , 1.80354069,\n",
       "        1.75191516],\n",
       "       [       nan, 2.55676518, 2.80083235, ..., 2.00126008, 1.97851208,\n",
       "        1.88773146],\n",
       "       [       nan,        nan,        nan, ...,        nan,        nan,\n",
       "               nan]])"
      ]
     },
     "execution_count": 23,
     "metadata": {},
     "output_type": "execute_result"
    }
   ],
   "source": [
    "Origin_Res"
   ]
  },
  {
   "cell_type": "code",
   "execution_count": 26,
   "id": "369072ca",
   "metadata": {},
   "outputs": [
    {
     "data": {
      "text/plain": [
       "1.1706452707004849"
      ]
     },
     "execution_count": 26,
     "metadata": {},
     "output_type": "execute_result"
    }
   ],
   "source": [
    "np.nanmin(Origin_Res)"
   ]
  },
  {
   "cell_type": "code",
   "execution_count": 27,
   "id": "b8bbed7a",
   "metadata": {},
   "outputs": [
    {
     "data": {
      "text/plain": [
       "1.1285380196247934"
      ]
     },
     "execution_count": 27,
     "metadata": {},
     "output_type": "execute_result"
    }
   ],
   "source": [
    "np.nanmin(Optimized_Res)"
   ]
  },
  {
   "cell_type": "code",
   "execution_count": null,
   "id": "b6d712e6",
   "metadata": {},
   "outputs": [],
   "source": []
  }
 ],
 "metadata": {
  "kernelspec": {
   "display_name": "Python 3 (ipykernel)",
   "language": "python",
   "name": "python3"
  },
  "language_info": {
   "codemirror_mode": {
    "name": "ipython",
    "version": 3
   },
   "file_extension": ".py",
   "mimetype": "text/x-python",
   "name": "python",
   "nbconvert_exporter": "python",
   "pygments_lexer": "ipython3",
   "version": "3.8.18"
  }
 },
 "nbformat": 4,
 "nbformat_minor": 5
}

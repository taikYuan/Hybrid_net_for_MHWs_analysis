{
 "cells": [
  {
   "cell_type": "code",
   "execution_count": 1,
   "id": "925c8fec",
   "metadata": {},
   "outputs": [],
   "source": [
    "import numpy as np\n",
    "import matplotlib.pyplot as plt\n",
    "from matplotlib.colors import ListedColormap"
   ]
  },
  {
   "cell_type": "code",
   "execution_count": 2,
   "id": "d4f65c38",
   "metadata": {},
   "outputs": [
    {
     "data": {
      "text/plain": [
       "['lat', 'lon', 'mslp']"
      ]
     },
     "execution_count": 2,
     "metadata": {},
     "output_type": "execute_result"
    }
   ],
   "source": [
    "data = np.load(r'D:\\heat_wave\\sea_level_pressure_93_19_all_area.npz')\n",
    "data.files"
   ]
  },
  {
   "cell_type": "code",
   "execution_count": 3,
   "id": "d1a28fd8",
   "metadata": {},
   "outputs": [],
   "source": [
    "mslp = data['mslp'][:]"
   ]
  },
  {
   "cell_type": "code",
   "execution_count": 4,
   "id": "970ae672",
   "metadata": {},
   "outputs": [],
   "source": [
    "mslp = mslp/100"
   ]
  },
  {
   "cell_type": "code",
   "execution_count": 5,
   "id": "dc4428fa",
   "metadata": {},
   "outputs": [],
   "source": [
    "mean_pressure = np.mean(mslp, axis = 0)"
   ]
  },
  {
   "cell_type": "code",
   "execution_count": 6,
   "id": "6b916509",
   "metadata": {},
   "outputs": [],
   "source": [
    "pressure_anom = mslp - mean_pressure[np.newaxis,:,:]"
   ]
  },
  {
   "cell_type": "code",
   "execution_count": 7,
   "id": "db8c81f4",
   "metadata": {},
   "outputs": [],
   "source": [
    "# MAM   93\n",
    "date_93_1 = 59\n",
    "date_93_2 = 151\n",
    "data_1 = date_93_1\n",
    "data_2 = date_93_2\n",
    "\n",
    "mslp_93 = mslp[data_1:data_2,:,:]\n",
    "mslpa_93 = pressure_anom[data_1:data_2,:,:]"
   ]
  },
  {
   "cell_type": "code",
   "execution_count": 8,
   "id": "4d1b51d4",
   "metadata": {},
   "outputs": [],
   "source": [
    "# MAM   94\n",
    "date_94_1 = 424\n",
    "date_94_2 = 516\n",
    "data_1 = date_94_1\n",
    "data_2 = date_94_2\n",
    "\n",
    "mslp_94 = mslp[data_1:data_2,:,:]\n",
    "mslpa_94 = pressure_anom[data_1:data_2,:,:]"
   ]
  },
  {
   "cell_type": "code",
   "execution_count": 9,
   "id": "c1ff7a94",
   "metadata": {},
   "outputs": [],
   "source": [
    "# MAM   95\n",
    "date_95_1 = 789\n",
    "date_95_2 = 881\n",
    "data_1 = date_95_1\n",
    "data_2 = date_95_2\n",
    "\n",
    "mslp_95 = mslp[data_1:data_2,:,:]\n",
    "mslpa_95 = pressure_anom[data_1:data_2,:,:]"
   ]
  },
  {
   "cell_type": "code",
   "execution_count": 10,
   "id": "7535e818",
   "metadata": {},
   "outputs": [],
   "source": [
    "# MAM   96\n",
    "date_96_1 = 1155\n",
    "date_96_2 = 1247\n",
    "data_1 = date_96_1\n",
    "data_2 = date_96_2\n",
    "\n",
    "mslp_96 = mslp[data_1:data_2,:,:]\n",
    "mslpa_96 = pressure_anom[data_1:data_2,:,:]"
   ]
  },
  {
   "cell_type": "code",
   "execution_count": 11,
   "id": "410f1177",
   "metadata": {},
   "outputs": [],
   "source": [
    "# MAM   97\n",
    "date_97_1 = 1520\n",
    "date_97_2 = 1611\n",
    "data_1 = date_97_1\n",
    "data_2 = date_97_2\n",
    "\n",
    "mslp_97 = mslp[data_1:data_2,:,:]\n",
    "mslpa_97 = pressure_anom[data_1:data_2,:,:]"
   ]
  },
  {
   "cell_type": "code",
   "execution_count": 12,
   "id": "ec1ce871",
   "metadata": {},
   "outputs": [],
   "source": [
    "# MAM   98\n",
    "date_98_1 = 1885\n",
    "date_98_2 = 1977\n",
    "data_1 = date_98_1\n",
    "data_2 = date_98_2\n",
    "\n",
    "mslp_98 = mslp[data_1:data_2,:,:]\n",
    "mslpa_98 = pressure_anom[data_1:data_2,:,:]"
   ]
  },
  {
   "cell_type": "code",
   "execution_count": 13,
   "id": "71f499a8",
   "metadata": {},
   "outputs": [],
   "source": [
    "# MAM   99\n",
    "date_99_1 = 2250\n",
    "date_99_2 = 2342\n",
    "data_1 = date_99_1\n",
    "data_2 = date_99_2\n",
    "\n",
    "mslp_99 = mslp[data_1:data_2,:,:]\n",
    "mslpa_99 = pressure_anom[data_1:data_2,:,:]"
   ]
  },
  {
   "cell_type": "code",
   "execution_count": 14,
   "id": "85123d6c",
   "metadata": {},
   "outputs": [],
   "source": [
    "# MAM   00\n",
    "date_00_1 = 2616\n",
    "date_00_2 = 2708\n",
    "data_1 = date_00_1\n",
    "data_2 = date_00_2\n",
    "\n",
    "mslp_00 = mslp[data_1:data_2,:,:]\n",
    "mslpa_00 = pressure_anom[data_1:data_2,:,:]"
   ]
  },
  {
   "cell_type": "code",
   "execution_count": 15,
   "id": "039fd748",
   "metadata": {},
   "outputs": [],
   "source": [
    "# MAM   01\n",
    "date_01_1 = 2981\n",
    "date_01_2 = 3073\n",
    "data_1 = date_01_1\n",
    "data_2 = date_01_2\n",
    "\n",
    "mslp_01 = mslp[data_1:data_2,:,:]\n",
    "mslpa_01 = pressure_anom[data_1:data_2,:,:]"
   ]
  },
  {
   "cell_type": "code",
   "execution_count": 16,
   "id": "f07a7955",
   "metadata": {},
   "outputs": [],
   "source": [
    "# MAM   02\n",
    "date_02_1 = 3346\n",
    "date_02_2 = 3438\n",
    "data_1 = date_02_1\n",
    "data_2 = date_02_2\n",
    "\n",
    "mslp_02 = mslp[data_1:data_2,:,:]\n",
    "mslpa_02 = pressure_anom[data_1:data_2,:,:]"
   ]
  },
  {
   "cell_type": "code",
   "execution_count": 17,
   "id": "636288f8",
   "metadata": {},
   "outputs": [],
   "source": [
    "# MAM   03\n",
    "date_03_1 = 3711\n",
    "date_03_2 = 3803\n",
    "data_1 = date_03_1\n",
    "data_2 = date_03_2\n",
    "\n",
    "mslp_03 = mslp[data_1:data_2,:,:]\n",
    "mslpa_03 = pressure_anom[data_1:data_2,:,:]"
   ]
  },
  {
   "cell_type": "code",
   "execution_count": 18,
   "id": "bbe6021d",
   "metadata": {},
   "outputs": [],
   "source": [
    "# MAM   04\n",
    "date_04_1 = 4077\n",
    "date_04_2 = 4169\n",
    "data_1 = date_04_1\n",
    "data_2 = date_04_2\n",
    "\n",
    "mslp_04 = mslp[data_1:data_2,:,:]\n",
    "mslpa_04 = pressure_anom[data_1:data_2,:,:]"
   ]
  },
  {
   "cell_type": "code",
   "execution_count": 19,
   "id": "0e3c5353",
   "metadata": {},
   "outputs": [],
   "source": [
    "# MAM   05\n",
    "date_05_1 = 4442\n",
    "date_05_2 = 4534\n",
    "data_1 = date_05_1\n",
    "data_2 = date_05_2\n",
    "\n",
    "mslp_05 = mslp[data_1:data_2,:,:]\n",
    "mslpa_05 = pressure_anom[data_1:data_2,:,:]"
   ]
  },
  {
   "cell_type": "code",
   "execution_count": 20,
   "id": "aa4b5f38",
   "metadata": {},
   "outputs": [],
   "source": [
    "# MAM   06\n",
    "date_06_1 = 4807\n",
    "date_06_2 = 4899\n",
    "data_1 = date_06_1\n",
    "data_2 = date_06_2\n",
    "\n",
    "mslp_06 = mslp[data_1:data_2,:,:]\n",
    "mslpa_06 = pressure_anom[data_1:data_2,:,:]"
   ]
  },
  {
   "cell_type": "code",
   "execution_count": 21,
   "id": "ddb6b4be",
   "metadata": {},
   "outputs": [],
   "source": [
    "# MAM   07\n",
    "date_07_1 = 5172\n",
    "date_07_2 = 5264\n",
    "data_1 = date_07_1\n",
    "data_2 = date_07_2\n",
    "\n",
    "mslp_07 = mslp[data_1:data_2,:,:]\n",
    "mslpa_07 = pressure_anom[data_1:data_2,:,:]"
   ]
  },
  {
   "cell_type": "code",
   "execution_count": 22,
   "id": "4b755060",
   "metadata": {},
   "outputs": [],
   "source": [
    "# MAM   08\n",
    "date_08_1 = 5538\n",
    "date_08_2 = 5630\n",
    "data_1 = date_08_1\n",
    "data_2 = date_08_2\n",
    "\n",
    "mslp_08 = mslp[data_1:data_2,:,:]\n",
    "mslpa_08 = pressure_anom[data_1:data_2,:,:]"
   ]
  },
  {
   "cell_type": "code",
   "execution_count": 23,
   "id": "e3d46ed0",
   "metadata": {},
   "outputs": [],
   "source": [
    "# MAM   09\n",
    "date_09_1 = 5903\n",
    "date_09_2 = 5995\n",
    "data_1 = date_09_1\n",
    "data_2 = date_09_2\n",
    "\n",
    "mslp_09 = mslp[data_1:data_2,:,:]\n",
    "mslpa_09 = pressure_anom[data_1:data_2,:,:]"
   ]
  },
  {
   "cell_type": "code",
   "execution_count": 24,
   "id": "35034d29",
   "metadata": {},
   "outputs": [],
   "source": [
    "# MAM   10\n",
    "date_10_1 = 6268\n",
    "date_10_2 = 6360\n",
    "data_1 = date_10_1\n",
    "data_2 = date_10_2\n",
    "\n",
    "mslp_10 = mslp[data_1:data_2,:,:]\n",
    "mslpa_10 = pressure_anom[data_1:data_2,:,:]"
   ]
  },
  {
   "cell_type": "code",
   "execution_count": 25,
   "id": "14a42d76",
   "metadata": {},
   "outputs": [],
   "source": [
    "# MAM   11\n",
    "date_11_1 = 6633\n",
    "date_11_2 = 6725\n",
    "data_1 = date_11_1\n",
    "data_2 = date_11_2\n",
    "\n",
    "mslp_11 = mslp[data_1:data_2,:,:]\n",
    "mslpa_11 = pressure_anom[data_1:data_2,:,:]"
   ]
  },
  {
   "cell_type": "code",
   "execution_count": 26,
   "id": "fdd87163",
   "metadata": {},
   "outputs": [],
   "source": [
    "# MAM   12\n",
    "date_12_1 = 6999\n",
    "date_12_2 = 7091\n",
    "data_1 = date_12_1\n",
    "data_2 = date_12_2\n",
    "\n",
    "mslp_12 = mslp[data_1:data_2,:,:]\n",
    "mslpa_12 = pressure_anom[data_1:data_2,:,:]"
   ]
  },
  {
   "cell_type": "code",
   "execution_count": 27,
   "id": "6f20a355",
   "metadata": {},
   "outputs": [],
   "source": [
    "# MAM   13\n",
    "date_13_1 = 7364\n",
    "date_13_2 = 7455\n",
    "data_1 = date_13_1\n",
    "data_2 = date_13_2\n",
    "\n",
    "mslp_13 = mslp[data_1:data_2,:,:]\n",
    "mslpa_13 = pressure_anom[data_1:data_2,:,:]"
   ]
  },
  {
   "cell_type": "code",
   "execution_count": 28,
   "id": "2d86aec9",
   "metadata": {},
   "outputs": [],
   "source": [
    "# MAM   14\n",
    "date_14_1 = 7729\n",
    "date_14_2 = 7821\n",
    "data_1 = date_14_1\n",
    "data_2 = date_14_2\n",
    "\n",
    "mslp_14 = mslp[data_1:data_2,:,:]\n",
    "mslpa_14 = pressure_anom[data_1:data_2,:,:]"
   ]
  },
  {
   "cell_type": "code",
   "execution_count": 29,
   "id": "0fe55ac1",
   "metadata": {},
   "outputs": [],
   "source": [
    "# MAM   15\n",
    "date_15_1 = 8094\n",
    "date_15_2 = 8185\n",
    "data_1 = date_15_1\n",
    "data_2 = date_15_2\n",
    "\n",
    "mslp_15 = mslp[data_1:data_2,:,:]\n",
    "mslpa_15 = pressure_anom[data_1:data_2,:,:]"
   ]
  },
  {
   "cell_type": "code",
   "execution_count": 30,
   "id": "b9e1e6b8",
   "metadata": {},
   "outputs": [],
   "source": [
    "# MAM   16\n",
    "date_16_1 = 8460\n",
    "date_16_2 = 8552\n",
    "data_1 = date_16_1\n",
    "data_2 = date_16_2\n",
    "\n",
    "mslp_16 = mslp[data_1:data_2,:,:]\n",
    "mslpa_16 = pressure_anom[data_1:data_2,:,:]"
   ]
  },
  {
   "cell_type": "code",
   "execution_count": 31,
   "id": "e8b44ec7",
   "metadata": {},
   "outputs": [],
   "source": [
    "# MAM   17\n",
    "date_17_1 = 8825\n",
    "date_17_2 = 8917\n",
    "data_1 = date_17_1\n",
    "data_2 = date_17_2\n",
    "\n",
    "mslp_17 = mslp[data_1:data_2,:,:]\n",
    "mslpa_17 = pressure_anom[data_1:data_2,:,:]"
   ]
  },
  {
   "cell_type": "code",
   "execution_count": 32,
   "id": "6015cd5d",
   "metadata": {},
   "outputs": [],
   "source": [
    "# MAM   18\n",
    "date_18_1 = 9190\n",
    "date_18_2 = 9280\n",
    "data_1 = date_18_1\n",
    "data_2 = date_18_2\n",
    "\n",
    "mslp_18 = mslp[data_1:data_2,:,:]\n",
    "mslpa_18 = pressure_anom[data_1:data_2,:,:]"
   ]
  },
  {
   "cell_type": "code",
   "execution_count": 33,
   "id": "c2e88a57",
   "metadata": {},
   "outputs": [],
   "source": [
    "# MAM   19\n",
    "date_19_1 = 9542\n",
    "date_19_2 = 9633\n",
    "data_1 = date_19_1\n",
    "data_2 = date_19_2\n",
    "\n",
    "mslp_19 = mslp[data_1:data_2,:,:]\n",
    "mslpa_19 = pressure_anom[data_1:data_2,:,:]"
   ]
  },
  {
   "cell_type": "code",
   "execution_count": 34,
   "id": "572af34c",
   "metadata": {},
   "outputs": [],
   "source": [
    "mslpa_93_weio = np.mean(mslpa_93[:,32:41,21:28], axis = (0,1,2)).reshape(-1,1)"
   ]
  },
  {
   "cell_type": "code",
   "execution_count": 35,
   "id": "0655f362",
   "metadata": {},
   "outputs": [],
   "source": [
    "mslpa_94_weio = np.mean(mslpa_94[:,32:41,21:28], axis = (0,1,2)).reshape(-1,1)\n",
    "mslpa_95_weio = np.mean(mslpa_95[:,32:41,21:28], axis = (0,1,2)).reshape(-1,1)\n",
    "mslpa_96_weio = np.mean(mslpa_96[:,32:41,21:28], axis = (0,1,2)).reshape(-1,1)\n",
    "mslpa_97_weio = np.mean(mslpa_97[:,32:41,21:28], axis = (0,1,2)).reshape(-1,1)\n",
    "mslpa_98_weio = np.mean(mslpa_98[:,32:41,21:28], axis = (0,1,2)).reshape(-1,1)\n",
    "mslpa_99_weio = np.mean(mslpa_99[:,32:41,21:28], axis = (0,1,2)).reshape(-1,1)\n",
    "mslpa_00_weio = np.mean(mslpa_00[:,32:41,21:28], axis = (0,1,2)).reshape(-1,1)\n",
    "mslpa_01_weio = np.mean(mslpa_01[:,32:41,21:28], axis = (0,1,2)).reshape(-1,1)\n",
    "mslpa_02_weio = np.mean(mslpa_02[:,32:41,21:28], axis = (0,1,2)).reshape(-1,1)\n",
    "mslpa_03_weio = np.mean(mslpa_03[:,32:41,21:28], axis = (0,1,2)).reshape(-1,1)\n",
    "mslpa_04_weio = np.mean(mslpa_04[:,32:41,21:28], axis = (0,1,2)).reshape(-1,1)\n",
    "mslpa_05_weio = np.mean(mslpa_05[:,32:41,21:28], axis = (0,1,2)).reshape(-1,1)\n",
    "mslpa_06_weio = np.mean(mslpa_06[:,32:41,21:28], axis = (0,1,2)).reshape(-1,1)\n",
    "mslpa_07_weio = np.mean(mslpa_07[:,32:41,21:28], axis = (0,1,2)).reshape(-1,1)\n",
    "mslpa_08_weio = np.mean(mslpa_08[:,32:41,21:28], axis = (0,1,2)).reshape(-1,1)\n",
    "mslpa_09_weio = np.mean(mslpa_09[:,32:41,21:28], axis = (0,1,2)).reshape(-1,1)\n",
    "mslpa_10_weio = np.mean(mslpa_10[:,32:41,21:28], axis = (0,1,2)).reshape(-1,1)\n",
    "mslpa_11_weio = np.mean(mslpa_11[:,32:41,21:28], axis = (0,1,2)).reshape(-1,1)\n",
    "mslpa_12_weio = np.mean(mslpa_12[:,32:41,21:28], axis = (0,1,2)).reshape(-1,1)\n",
    "mslpa_13_weio = np.mean(mslpa_13[:,32:41,21:28], axis = (0,1,2)).reshape(-1,1)\n",
    "mslpa_14_weio = np.mean(mslpa_14[:,32:41,21:28], axis = (0,1,2)).reshape(-1,1)\n",
    "mslpa_15_weio = np.mean(mslpa_15[:,32:41,21:28], axis = (0,1,2)).reshape(-1,1)\n",
    "mslpa_16_weio = np.mean(mslpa_16[:,32:41,21:28], axis = (0,1,2)).reshape(-1,1)\n",
    "mslpa_17_weio = np.mean(mslpa_17[:,32:41,21:28], axis = (0,1,2)).reshape(-1,1)\n",
    "mslpa_18_weio = np.mean(mslpa_18[:,32:41,21:28], axis = (0,1,2)).reshape(-1,1)\n",
    "mslpa_19_weio = np.mean(mslpa_19[:,32:41,21:28], axis = (0,1,2)).reshape(-1,1)"
   ]
  },
  {
   "cell_type": "code",
   "execution_count": 36,
   "id": "ebb442fa",
   "metadata": {},
   "outputs": [],
   "source": [
    "mslp_93_weio = np.mean(mslp_93[:,32:41,21:28], axis = (0,1,2)).reshape(-1,1)\n",
    "mslp_94_weio = np.mean(mslp_94[:,32:41,21:28], axis = (0,1,2)).reshape(-1,1)\n",
    "mslp_95_weio = np.mean(mslp_95[:,32:41,21:28], axis = (0,1,2)).reshape(-1,1)\n",
    "mslp_96_weio = np.mean(mslp_96[:,32:41,21:28], axis = (0,1,2)).reshape(-1,1)\n",
    "mslp_97_weio = np.mean(mslp_97[:,32:41,21:28], axis = (0,1,2)).reshape(-1,1)\n",
    "mslp_98_weio = np.mean(mslp_98[:,32:41,21:28], axis = (0,1,2)).reshape(-1,1)\n",
    "mslp_99_weio = np.mean(mslp_99[:,32:41,21:28], axis = (0,1,2)).reshape(-1,1)\n",
    "mslp_00_weio = np.mean(mslp_00[:,32:41,21:28], axis = (0,1,2)).reshape(-1,1)\n",
    "mslp_01_weio = np.mean(mslp_01[:,32:41,21:28], axis = (0,1,2)).reshape(-1,1)\n",
    "mslp_02_weio = np.mean(mslp_02[:,32:41,21:28], axis = (0,1,2)).reshape(-1,1)\n",
    "mslp_03_weio = np.mean(mslp_03[:,32:41,21:28], axis = (0,1,2)).reshape(-1,1)\n",
    "mslp_04_weio = np.mean(mslp_04[:,32:41,21:28], axis = (0,1,2)).reshape(-1,1)\n",
    "mslp_05_weio = np.mean(mslp_05[:,32:41,21:28], axis = (0,1,2)).reshape(-1,1)\n",
    "mslp_06_weio = np.mean(mslp_06[:,32:41,21:28], axis = (0,1,2)).reshape(-1,1)\n",
    "mslp_07_weio = np.mean(mslp_07[:,32:41,21:28], axis = (0,1,2)).reshape(-1,1)\n",
    "mslp_08_weio = np.mean(mslp_08[:,32:41,21:28], axis = (0,1,2)).reshape(-1,1)\n",
    "mslp_09_weio = np.mean(mslp_09[:,32:41,21:28], axis = (0,1,2)).reshape(-1,1)\n",
    "mslp_10_weio = np.mean(mslp_10[:,32:41,21:28], axis = (0,1,2)).reshape(-1,1)\n",
    "mslp_11_weio = np.mean(mslp_11[:,32:41,21:28], axis = (0,1,2)).reshape(-1,1)\n",
    "mslp_12_weio = np.mean(mslp_12[:,32:41,21:28], axis = (0,1,2)).reshape(-1,1)\n",
    "mslp_13_weio = np.mean(mslp_13[:,32:41,21:28], axis = (0,1,2)).reshape(-1,1)\n",
    "mslp_14_weio = np.mean(mslp_14[:,32:41,21:28], axis = (0,1,2)).reshape(-1,1)\n",
    "mslp_15_weio = np.mean(mslp_15[:,32:41,21:28], axis = (0,1,2)).reshape(-1,1)\n",
    "mslp_16_weio = np.mean(mslp_16[:,32:41,21:28], axis = (0,1,2)).reshape(-1,1)\n",
    "mslp_17_weio = np.mean(mslp_17[:,32:41,21:28], axis = (0,1,2)).reshape(-1,1)\n",
    "mslp_18_weio = np.mean(mslp_18[:,32:41,21:28], axis = (0,1,2)).reshape(-1,1)\n",
    "mslp_19_weio = np.mean(mslp_19[:,32:41,21:28], axis = (0,1,2)).reshape(-1,1)"
   ]
  },
  {
   "cell_type": "code",
   "execution_count": 37,
   "id": "4a4d711a",
   "metadata": {},
   "outputs": [],
   "source": [
    "mslp_93_19_weio = np.concatenate((mslp_93_weio, mslp_94_weio, mslp_95_weio,mslp_96_weio,\n",
    "                                 mslp_97_weio, mslp_98_weio, mslp_99_weio, mslp_00_weio, mslp_01_weio,\n",
    "                                 mslp_02_weio, mslp_03_weio, mslp_04_weio, mslp_05_weio, mslp_06_weio,\n",
    "                                 mslp_07_weio, mslp_08_weio, mslp_09_weio,  mslp_10_weio, mslp_11_weio,\n",
    "                                 mslp_12_weio, mslp_13_weio, mslp_14_weio, mslp_15_weio, mslp_16_weio,\n",
    "                                 mslp_17_weio, mslp_18_weio, mslp_19_weio), axis = 0)"
   ]
  },
  {
   "cell_type": "code",
   "execution_count": 38,
   "id": "bdef8809",
   "metadata": {},
   "outputs": [],
   "source": [
    "mslpa_93_19_weio = np.concatenate((mslpa_93_weio, mslpa_94_weio, mslpa_95_weio,mslpa_96_weio,\n",
    "                                 mslpa_97_weio, mslpa_98_weio, mslpa_99_weio, mslpa_00_weio, mslpa_01_weio,\n",
    "                                 mslpa_02_weio, mslpa_03_weio, mslpa_04_weio, mslpa_05_weio, mslpa_06_weio,\n",
    "                                 mslpa_07_weio, mslpa_08_weio, mslpa_09_weio,  mslpa_10_weio, mslpa_11_weio,\n",
    "                                 mslpa_12_weio, mslpa_13_weio, mslpa_14_weio, mslpa_15_weio, mslpa_16_weio,\n",
    "                                 mslpa_17_weio, mslpa_18_weio, mslpa_19_weio), axis = 0)"
   ]
  },
  {
   "cell_type": "code",
   "execution_count": 39,
   "id": "4897a4d6",
   "metadata": {},
   "outputs": [],
   "source": [
    "np.savez(r'D:\\heat_wave\\WEIO\\SLP_SLPA_plot_MAM', slp = mslp_93_19_weio,\n",
    "        slpa = mslpa_93_19_weio)"
   ]
  },
  {
   "cell_type": "code",
   "execution_count": null,
   "id": "ba94f5a3",
   "metadata": {},
   "outputs": [],
   "source": []
  },
  {
   "cell_type": "code",
   "execution_count": null,
   "id": "94209332",
   "metadata": {},
   "outputs": [],
   "source": []
  },
  {
   "cell_type": "code",
   "execution_count": 32,
   "id": "857c8cc7",
   "metadata": {},
   "outputs": [],
   "source": [
    "mslp_93_19 = np.concatenate((mslp_93, mslp_94, mslp_95, mslp_96, mslp_97,\n",
    "                            mslp_98, mslp_99, mslp_00, mslp_01, mslp_02, mslp_03,\n",
    "                            mslp_04, mslp_05, mslp_06, mslp_07, mslp_08, mslp_09,\n",
    "                            mslp_10, mslp_11, mslp_12, mslp_13, mslp_14, mslp_15,\n",
    "                            mslp_16, mslp_17, mslp_18, mslp_19),axis = 0)"
   ]
  },
  {
   "cell_type": "code",
   "execution_count": 33,
   "id": "dba3c29f",
   "metadata": {},
   "outputs": [
    {
     "data": {
      "text/plain": [
       "(2478, 73, 144)"
      ]
     },
     "execution_count": 33,
     "metadata": {},
     "output_type": "execute_result"
    }
   ],
   "source": [
    "mslp_93_19.shape"
   ]
  },
  {
   "cell_type": "code",
   "execution_count": 34,
   "id": "566473e9",
   "metadata": {},
   "outputs": [],
   "source": [
    "mslp_93_19 = mslp_93_19/100"
   ]
  },
  {
   "cell_type": "code",
   "execution_count": 35,
   "id": "43831366",
   "metadata": {},
   "outputs": [
    {
     "name": "stdout",
     "output_type": "stream",
     "text": [
      "(2478, 73, 144)\n",
      "(2478, 73, 144)\n",
      "-2.600408188660062e-15\n",
      "35.12239554925998\n",
      "-44.415993026759\n"
     ]
    }
   ],
   "source": [
    "from sklearn.linear_model import LinearRegression\n",
    "from statsmodels.tsa.seasonal import seasonal_decompose\n",
    "\n",
    "nt, nlats, nlons = mslp_93_19.shape\n",
    "print(mslp_93_19.shape) #(9855, 9, 7)\n",
    "# 重塑为2D数组（time，lat*lon）\n",
    "mslp2_2d = mslp_93_19.reshape(nt, nlats*nlons)\n",
    "\n",
    "decomposition = seasonal_decompose(mslp2_2d, model='additive', period=12)\n",
    "\n",
    "trend = decomposition.trend\n",
    "for i in range(nlats*nlons):\n",
    "    model = LinearRegression().fit(np.arange(nt).reshape(-1, 1), decomposition.observed[:, i])\n",
    "    trend[:, i] = model.predict(np.arange(nt).reshape(-1, 1))\n",
    "mslp_detrended = decomposition.observed - trend\n",
    "\n",
    "# 重塑为3D数组（time，lat，lon）\n",
    "mslp_detrended = mslp_detrended.reshape(nt, nlats, nlons)\n",
    "\n",
    "mslp_detrended = mslp_detrended.reshape(-1,73,144)\n",
    "print(mslp_detrended.shape)\n",
    "\n",
    "\n",
    "print(np.mean(mslp_detrended))\n",
    "print(np.max(mslp_detrended))\n",
    "print(np.min(mslp_detrended))"
   ]
  },
  {
   "cell_type": "code",
   "execution_count": 36,
   "id": "69b5bae1",
   "metadata": {},
   "outputs": [
    {
     "data": {
      "text/plain": [
       "(2478, 73, 144)"
      ]
     },
     "execution_count": 36,
     "metadata": {},
     "output_type": "execute_result"
    }
   ],
   "source": [
    "mslp_detrended.shape"
   ]
  },
  {
   "cell_type": "code",
   "execution_count": 37,
   "id": "e5538374",
   "metadata": {},
   "outputs": [],
   "source": [
    "mslp_detrended1 = np.mean(mslp_detrended, axis = 0)"
   ]
  },
  {
   "cell_type": "code",
   "execution_count": 38,
   "id": "4a17031e",
   "metadata": {},
   "outputs": [
    {
     "data": {
      "text/plain": [
       "array([[-8.86830740e-14, -8.86830740e-14, -8.86830740e-14, ...,\n",
       "        -8.86830740e-14, -8.86830740e-14, -8.86830740e-14],\n",
       "       [-5.81738944e-14, -1.59198276e-14, -4.19329175e-14, ...,\n",
       "        -7.91862316e-14,  9.15275388e-14, -1.03501818e-13],\n",
       "       [ 1.71585461e-14, -1.26165780e-14,  4.82641458e-14, ...,\n",
       "         5.89997067e-14,  2.63801177e-14,  8.14342764e-14],\n",
       "       ...,\n",
       "       [ 7.66629160e-14,  8.90959802e-14,  6.67531674e-14, ...,\n",
       "        -1.03226548e-13,  3.30783737e-14, -9.27662574e-14],\n",
       "       [ 1.67456399e-14,  7.38643296e-15, -6.83589137e-14, ...,\n",
       "         3.34454014e-14,  6.48262719e-14,  4.03730497e-14],\n",
       "       [-1.06025134e-13, -1.06025134e-13, -1.06025134e-13, ...,\n",
       "        -1.06025134e-13, -1.06025134e-13, -1.06025134e-13]])"
      ]
     },
     "execution_count": 38,
     "metadata": {},
     "output_type": "execute_result"
    }
   ],
   "source": [
    "mslp_detrended1"
   ]
  },
  {
   "cell_type": "code",
   "execution_count": 39,
   "id": "216dbc32",
   "metadata": {},
   "outputs": [],
   "source": [
    "np.savez(r'D:\\heat_wave\\SLP_SLPA_MAM_all_area.npz',sea_level_press = mslp_93_19, \n",
    "         sea_level_press_anom = mslp_detrended)"
   ]
  },
  {
   "cell_type": "code",
   "execution_count": 40,
   "id": "671c8523",
   "metadata": {},
   "outputs": [
    {
     "data": {
      "text/plain": [
       "(2478, 73, 144)"
      ]
     },
     "execution_count": 40,
     "metadata": {},
     "output_type": "execute_result"
    }
   ],
   "source": [
    "mslp_93_19.shape"
   ]
  },
  {
   "cell_type": "code",
   "execution_count": 41,
   "id": "5176c31e",
   "metadata": {},
   "outputs": [],
   "source": [
    "mslp_weio_93_19 = mslp_93_19[:,32:41,21:28]"
   ]
  },
  {
   "cell_type": "code",
   "execution_count": 42,
   "id": "7f8c6b3d",
   "metadata": {},
   "outputs": [
    {
     "data": {
      "text/plain": [
       "(2478, 9, 7)"
      ]
     },
     "execution_count": 42,
     "metadata": {},
     "output_type": "execute_result"
    }
   ],
   "source": [
    "mslp_weio_93_19.shape"
   ]
  },
  {
   "cell_type": "code",
   "execution_count": 43,
   "id": "70975295",
   "metadata": {},
   "outputs": [],
   "source": [
    "mslp_weio_93_19_mean = np.mean(mslp_weio_93_19, axis = (1,2))"
   ]
  },
  {
   "cell_type": "code",
   "execution_count": null,
   "id": "244e2d0c",
   "metadata": {},
   "outputs": [],
   "source": []
  },
  {
   "cell_type": "code",
   "execution_count": 44,
   "id": "8ba0a179",
   "metadata": {},
   "outputs": [],
   "source": [
    "mslp_detrended_weio = mslp_detrended[:,32:41,21:28]"
   ]
  },
  {
   "cell_type": "code",
   "execution_count": 45,
   "id": "4c1d76b2",
   "metadata": {},
   "outputs": [],
   "source": [
    "mslp_detrended_weio_93_19_mean = np.mean(mslp_detrended_weio, axis = (1,2))"
   ]
  },
  {
   "cell_type": "code",
   "execution_count": null,
   "id": "57bba50f",
   "metadata": {},
   "outputs": [],
   "source": []
  },
  {
   "cell_type": "code",
   "execution_count": null,
   "id": "126cd6dc",
   "metadata": {},
   "outputs": [],
   "source": []
  },
  {
   "cell_type": "code",
   "execution_count": 46,
   "id": "ba1d2883",
   "metadata": {},
   "outputs": [],
   "source": [
    "mslp_pacific_93_19 = mslp_93_19[:,34:39,76:97]"
   ]
  },
  {
   "cell_type": "code",
   "execution_count": 47,
   "id": "a2939f33",
   "metadata": {},
   "outputs": [],
   "source": [
    "mslp_detrended_pacific = mslp_detrended[:,34:39,76:97]"
   ]
  },
  {
   "cell_type": "code",
   "execution_count": 48,
   "id": "cf2d99af",
   "metadata": {},
   "outputs": [],
   "source": [
    "np.savez(r'D:\\heat_wave\\pacific\\SLP_SLPA_MAM_pacific_area.npz',sea_level_press = mslp_pacific_93_19, \n",
    "         sea_level_press_anom = mslp_detrended_pacific)"
   ]
  },
  {
   "cell_type": "code",
   "execution_count": null,
   "id": "e030fdca",
   "metadata": {},
   "outputs": [],
   "source": []
  },
  {
   "cell_type": "code",
   "execution_count": null,
   "id": "58d8e243",
   "metadata": {},
   "outputs": [],
   "source": []
  },
  {
   "cell_type": "code",
   "execution_count": 49,
   "id": "fe6061be",
   "metadata": {},
   "outputs": [],
   "source": [
    "np.savez(r'D:\\heat_wave\\WEIO\\SLP_SLPA_MAM_WEIO_area.npz',sea_level_press = mslp_weio_93_19, \n",
    "         sea_level_press_anom = mslp_detrended_weio)"
   ]
  },
  {
   "cell_type": "code",
   "execution_count": null,
   "id": "24d70e9e",
   "metadata": {},
   "outputs": [],
   "source": []
  },
  {
   "cell_type": "code",
   "execution_count": null,
   "id": "ea445d23",
   "metadata": {},
   "outputs": [],
   "source": []
  },
  {
   "cell_type": "code",
   "execution_count": 50,
   "id": "3a367c2f",
   "metadata": {},
   "outputs": [],
   "source": [
    "mslp_atlantic_93_19 = mslp_93_19[:,32:41,130:139]"
   ]
  },
  {
   "cell_type": "code",
   "execution_count": 51,
   "id": "c9f2d1b7",
   "metadata": {},
   "outputs": [],
   "source": [
    "mslp_detrended_atlantic = mslp_detrended[:,32:41,130:139]"
   ]
  },
  {
   "cell_type": "code",
   "execution_count": 52,
   "id": "6edfc733",
   "metadata": {},
   "outputs": [],
   "source": [
    "np.savez(r'D:\\heat_wave\\atlantic\\SLP_SLPA_MAM_atlantic_area.npz',sea_level_press = mslp_atlantic_93_19, \n",
    "         sea_level_press_anom = mslp_detrended_atlantic)"
   ]
  },
  {
   "cell_type": "code",
   "execution_count": null,
   "id": "3f8e01b6",
   "metadata": {},
   "outputs": [],
   "source": []
  },
  {
   "cell_type": "code",
   "execution_count": null,
   "id": "8a339945",
   "metadata": {},
   "outputs": [],
   "source": []
  }
 ],
 "metadata": {
  "kernelspec": {
   "display_name": "Python 3 (ipykernel)",
   "language": "python",
   "name": "python3"
  },
  "language_info": {
   "codemirror_mode": {
    "name": "ipython",
    "version": 3
   },
   "file_extension": ".py",
   "mimetype": "text/x-python",
   "name": "python",
   "nbconvert_exporter": "python",
   "pygments_lexer": "ipython3",
   "version": "3.8.12"
  }
 },
 "nbformat": 4,
 "nbformat_minor": 5
}

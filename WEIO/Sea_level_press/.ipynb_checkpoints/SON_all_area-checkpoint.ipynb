{
 "cells": [
  {
   "cell_type": "code",
   "execution_count": 1,
   "id": "925c8fec",
   "metadata": {},
   "outputs": [],
   "source": [
    "import numpy as np\n",
    "import matplotlib.pyplot as plt\n",
    "from matplotlib.colors import ListedColormap"
   ]
  },
  {
   "cell_type": "code",
   "execution_count": 2,
   "id": "d4f65c38",
   "metadata": {},
   "outputs": [
    {
     "data": {
      "text/plain": [
       "['lat', 'lon', 'mslp']"
      ]
     },
     "execution_count": 2,
     "metadata": {},
     "output_type": "execute_result"
    }
   ],
   "source": [
    "data = np.load(r'D:\\heat_wave\\sea_level_pressure_93_19_all_area.npz')\n",
    "data.files"
   ]
  },
  {
   "cell_type": "code",
   "execution_count": 3,
   "id": "d1a28fd8",
   "metadata": {},
   "outputs": [],
   "source": [
    "mslp = data['mslp'][:]"
   ]
  },
  {
   "cell_type": "code",
   "execution_count": 4,
   "id": "db8c81f4",
   "metadata": {},
   "outputs": [],
   "source": [
    "# SON   93\n",
    "date_93_1 = 243\n",
    "date_93_2 = 334\n",
    "data_1 = date_93_1\n",
    "data_2 = date_93_2\n",
    "\n",
    "mslp_93 = mslp[data_1:data_2,:,:]"
   ]
  },
  {
   "cell_type": "code",
   "execution_count": 5,
   "id": "4d1b51d4",
   "metadata": {},
   "outputs": [],
   "source": [
    "# SON   94\n",
    "date_94_1 = 608\n",
    "date_94_2 = 699\n",
    "data_1 = date_94_1\n",
    "data_2 = date_94_2\n",
    "\n",
    "mslp_94 = mslp[data_1:data_2,:,:]"
   ]
  },
  {
   "cell_type": "code",
   "execution_count": 6,
   "id": "c1ff7a94",
   "metadata": {},
   "outputs": [],
   "source": [
    "# SON   95\n",
    "date_95_1 = 973\n",
    "date_95_2 = 1064\n",
    "data_1 = date_95_1\n",
    "data_2 = date_95_2\n",
    "\n",
    "mslp_95 = mslp[data_1:data_2,:,:]"
   ]
  },
  {
   "cell_type": "code",
   "execution_count": 7,
   "id": "7535e818",
   "metadata": {},
   "outputs": [],
   "source": [
    "# SON   96\n",
    "date_96_1 = 1339\n",
    "date_96_2 = 1430\n",
    "data_1 = date_96_1\n",
    "data_2 = date_96_2\n",
    "\n",
    "mslp_96 = mslp[data_1:data_2,:,:]"
   ]
  },
  {
   "cell_type": "code",
   "execution_count": 8,
   "id": "410f1177",
   "metadata": {},
   "outputs": [],
   "source": [
    "# SON   97\n",
    "date_97_1 = 1704\n",
    "date_97_2 = 1795\n",
    "data_1 = date_97_1\n",
    "data_2 = date_97_2\n",
    "\n",
    "mslp_97 = mslp[data_1:data_2,:,:]"
   ]
  },
  {
   "cell_type": "code",
   "execution_count": 9,
   "id": "ec1ce871",
   "metadata": {},
   "outputs": [],
   "source": [
    "# SON   98\n",
    "date_98_1 = 2069\n",
    "date_98_2 = 2160\n",
    "data_1 = date_98_1\n",
    "data_2 = date_98_2\n",
    "\n",
    "mslp_98 = mslp[data_1:data_2,:,:]"
   ]
  },
  {
   "cell_type": "code",
   "execution_count": 17,
   "id": "71f499a8",
   "metadata": {},
   "outputs": [],
   "source": [
    "# JJA   99\n",
    "date_99_1 = 2324\n",
    "date_99_2 = 2434\n",
    "data_1 = date_99_1\n",
    "data_2 = date_99_2\n",
    "\n",
    "mslp_99 = mslp[data_1:data_2,:,:]"
   ]
  },
  {
   "cell_type": "code",
   "execution_count": 18,
   "id": "85123d6c",
   "metadata": {},
   "outputs": [],
   "source": [
    "# JJA   00\n",
    "date_00_1 = 2708\n",
    "date_00_2 = 2799\n",
    "data_1 = date_00_1\n",
    "data_2 = date_00_2\n",
    "\n",
    "mslp_00 = mslp[data_1:data_2,:,:]"
   ]
  },
  {
   "cell_type": "code",
   "execution_count": 19,
   "id": "039fd748",
   "metadata": {},
   "outputs": [],
   "source": [
    "# JJA   01\n",
    "date_01_1 = 3073\n",
    "date_01_2 = 3165\n",
    "data_1 = date_01_1\n",
    "data_2 = date_01_2\n",
    "\n",
    "mslp_01 = mslp[data_1:data_2,:,:]"
   ]
  },
  {
   "cell_type": "code",
   "execution_count": 20,
   "id": "f07a7955",
   "metadata": {},
   "outputs": [],
   "source": [
    "# JJA   02\n",
    "date_02_1 = 3438\n",
    "date_02_2 = 3529\n",
    "data_1 = date_02_1\n",
    "data_2 = date_02_2\n",
    "\n",
    "mslp_02 = mslp[data_1:data_2,:,:]"
   ]
  },
  {
   "cell_type": "code",
   "execution_count": 21,
   "id": "636288f8",
   "metadata": {},
   "outputs": [],
   "source": [
    "# JJA   03\n",
    "date_03_1 = 3803\n",
    "date_03_2 = 3895\n",
    "data_1 = date_03_1\n",
    "data_2 = date_03_2\n",
    "\n",
    "mslp_03 = mslp[data_1:data_2,:,:]"
   ]
  },
  {
   "cell_type": "code",
   "execution_count": 22,
   "id": "bbe6021d",
   "metadata": {},
   "outputs": [],
   "source": [
    "# JJA   04\n",
    "date_04_1 = 4169\n",
    "date_04_2 = 4261\n",
    "data_1 = date_04_1\n",
    "data_2 = date_04_2\n",
    "\n",
    "mslp_04 = mslp[data_1:data_2,:,:]"
   ]
  },
  {
   "cell_type": "code",
   "execution_count": 23,
   "id": "0e3c5353",
   "metadata": {},
   "outputs": [],
   "source": [
    "# JJA   05\n",
    "date_05_1 = 4534\n",
    "date_05_2 = 4626\n",
    "data_1 = date_05_1\n",
    "data_2 = date_05_2\n",
    "\n",
    "mslp_05 = mslp[data_1:data_2,:,:]"
   ]
  },
  {
   "cell_type": "code",
   "execution_count": 24,
   "id": "aa4b5f38",
   "metadata": {},
   "outputs": [],
   "source": [
    "# JJA   06\n",
    "date_06_1 = 4899\n",
    "date_06_2 = 4990\n",
    "data_1 = date_06_1\n",
    "data_2 = date_06_2\n",
    "\n",
    "mslp_06 = mslp[data_1:data_2,:,:]"
   ]
  },
  {
   "cell_type": "code",
   "execution_count": 25,
   "id": "ddb6b4be",
   "metadata": {},
   "outputs": [],
   "source": [
    "# JJA   07\n",
    "date_07_1 = 5264\n",
    "date_07_2 = 5356\n",
    "data_1 = date_07_1\n",
    "data_2 = date_07_2\n",
    "\n",
    "mslp_07 = mslp[data_1:data_2,:,:]"
   ]
  },
  {
   "cell_type": "code",
   "execution_count": 26,
   "id": "4b755060",
   "metadata": {},
   "outputs": [],
   "source": [
    "# JJA   08\n",
    "date_08_1 = 5630\n",
    "date_08_2 = 5722\n",
    "data_1 = date_08_1\n",
    "data_2 = date_08_2\n",
    "\n",
    "mslp_08 = mslp[data_1:data_2,:,:]"
   ]
  },
  {
   "cell_type": "code",
   "execution_count": 27,
   "id": "e3d46ed0",
   "metadata": {},
   "outputs": [],
   "source": [
    "# JJA   09\n",
    "date_09_1 = 5995\n",
    "date_09_2 = 6087\n",
    "data_1 = date_09_1\n",
    "data_2 = date_09_2\n",
    "\n",
    "mslp_09 = mslp[data_1:data_2,:,:]"
   ]
  },
  {
   "cell_type": "code",
   "execution_count": 28,
   "id": "35034d29",
   "metadata": {},
   "outputs": [],
   "source": [
    "# JJA   10\n",
    "date_10_1 = 6360\n",
    "date_10_2 = 6452\n",
    "data_1 = date_10_1\n",
    "data_2 = date_10_2\n",
    "\n",
    "mslp_10 = mslp[data_1:data_2,:,:]"
   ]
  },
  {
   "cell_type": "code",
   "execution_count": 29,
   "id": "14a42d76",
   "metadata": {},
   "outputs": [],
   "source": [
    "# JJA   11\n",
    "date_11_1 = 6725\n",
    "date_11_2 = 6817\n",
    "data_1 = date_11_1\n",
    "data_2 = date_11_2\n",
    "\n",
    "mslp_11 = mslp[data_1:data_2,:,:]"
   ]
  },
  {
   "cell_type": "code",
   "execution_count": 30,
   "id": "fdd87163",
   "metadata": {},
   "outputs": [],
   "source": [
    "# JJA   12\n",
    "date_12_1 = 7091\n",
    "date_12_2 = 7183\n",
    "data_1 = date_12_1\n",
    "data_2 = date_12_2\n",
    "\n",
    "mslp_12 = mslp[data_1:data_2,:,:]"
   ]
  },
  {
   "cell_type": "code",
   "execution_count": 31,
   "id": "6f20a355",
   "metadata": {},
   "outputs": [],
   "source": [
    "# JJA   13\n",
    "date_13_1 = 7456\n",
    "date_13_2 = 7548\n",
    "data_1 = date_13_1\n",
    "data_2 = date_13_2\n",
    "\n",
    "mslp_13 = mslp[data_1:data_2,:,:]"
   ]
  },
  {
   "cell_type": "code",
   "execution_count": 32,
   "id": "2d86aec9",
   "metadata": {},
   "outputs": [],
   "source": [
    "# JJA   14\n",
    "date_14_1 = 7821\n",
    "date_14_2 = 7913\n",
    "data_1 = date_14_1\n",
    "data_2 = date_14_2\n",
    "\n",
    "mslp_14 = mslp[data_1:data_2,:,:]"
   ]
  },
  {
   "cell_type": "code",
   "execution_count": 33,
   "id": "0fe55ac1",
   "metadata": {},
   "outputs": [],
   "source": [
    "# JJA   15\n",
    "date_15_1 = 8186\n",
    "date_15_2 = 8278\n",
    "data_1 = date_15_1\n",
    "data_2 = date_15_2\n",
    "\n",
    "mslp_15 = mslp[data_1:data_2,:,:]"
   ]
  },
  {
   "cell_type": "code",
   "execution_count": 34,
   "id": "b9e1e6b8",
   "metadata": {},
   "outputs": [],
   "source": [
    "# JJA   16\n",
    "date_16_1 = 8552\n",
    "date_16_2 = 8644\n",
    "data_1 = date_16_1\n",
    "data_2 = date_16_2\n",
    "\n",
    "mslp_16 = mslp[data_1:data_2,:,:]"
   ]
  },
  {
   "cell_type": "code",
   "execution_count": 35,
   "id": "e8b44ec7",
   "metadata": {},
   "outputs": [],
   "source": [
    "# JJA   17\n",
    "date_17_1 = 8917\n",
    "date_17_2 = 9009\n",
    "data_1 = date_17_1\n",
    "data_2 = date_17_2\n",
    "\n",
    "mslp_17 = mslp[data_1:data_2,:,:]"
   ]
  },
  {
   "cell_type": "code",
   "execution_count": 36,
   "id": "6015cd5d",
   "metadata": {},
   "outputs": [],
   "source": [
    "# JJA   18\n",
    "date_18_1 = 9282\n",
    "date_18_2 = 9374\n",
    "data_1 = date_18_1\n",
    "data_2 = date_18_2\n",
    "\n",
    "mslp_18 = mslp[data_1:data_2,:,:]"
   ]
  },
  {
   "cell_type": "code",
   "execution_count": 37,
   "id": "c2e88a57",
   "metadata": {},
   "outputs": [],
   "source": [
    "# JJA   19\n",
    "date_19_1 = 9647\n",
    "date_19_2 = 9739\n",
    "data_1 = date_19_1\n",
    "data_2 = date_19_2\n",
    "\n",
    "mslp_19 = mslp[data_1:data_2,:,:]"
   ]
  },
  {
   "cell_type": "code",
   "execution_count": 38,
   "id": "857c8cc7",
   "metadata": {},
   "outputs": [],
   "source": [
    "mslp_93_19 = np.concatenate((mslp_93, mslp_94, mslp_95, mslp_96, mslp_97,\n",
    "                            mslp_98, mslp_99, mslp_00, mslp_01, mslp_02, mslp_03,\n",
    "                            mslp_04, mslp_05, mslp_06, mslp_07, mslp_08, mslp_09,\n",
    "                            mslp_10, mslp_11, mslp_12, mslp_13, mslp_14, mslp_15,\n",
    "                            mslp_16, mslp_17, mslp_18, mslp_19),axis = 0)"
   ]
  },
  {
   "cell_type": "code",
   "execution_count": 40,
   "id": "dba3c29f",
   "metadata": {},
   "outputs": [
    {
     "data": {
      "text/plain": [
       "(2499, 73, 144)"
      ]
     },
     "execution_count": 40,
     "metadata": {},
     "output_type": "execute_result"
    }
   ],
   "source": [
    "mslp_93_19.shape"
   ]
  },
  {
   "cell_type": "code",
   "execution_count": 42,
   "id": "43831366",
   "metadata": {},
   "outputs": [
    {
     "name": "stdout",
     "output_type": "stream",
     "text": [
      "(2499, 73, 144)\n",
      "(2499, 73, 144)\n",
      "-1.6558596422067378e-13\n",
      "4066.26808822999\n",
      "-5953.292475298906\n"
     ]
    }
   ],
   "source": [
    "from sklearn.linear_model import LinearRegression\n",
    "from statsmodels.tsa.seasonal import seasonal_decompose\n",
    "\n",
    "nt, nlats, nlons = mslp_93_19.shape\n",
    "print(mslp_93_19.shape) #(9855, 9, 7)\n",
    "# 重塑为2D数组（time，lat*lon）\n",
    "mslp2_2d = mslp_93_19.reshape(nt, nlats*nlons)\n",
    "\n",
    "decomposition = seasonal_decompose(mslp2_2d, model='additive', period=12)\n",
    "\n",
    "trend = decomposition.trend\n",
    "for i in range(nlats*nlons):\n",
    "    model = LinearRegression().fit(np.arange(nt).reshape(-1, 1), decomposition.observed[:, i])\n",
    "    trend[:, i] = model.predict(np.arange(nt).reshape(-1, 1))\n",
    "mslp_detrended = decomposition.observed - trend\n",
    "\n",
    "# 重塑为3D数组（time，lat，lon）\n",
    "mslp_detrended = mslp_detrended.reshape(nt, nlats, nlons)\n",
    "\n",
    "mslp_detrended = mslp_detrended.reshape(-1,73,144)\n",
    "print(mslp_detrended.shape)\n",
    "\n",
    "\n",
    "print(np.mean(mslp_detrended))\n",
    "print(np.max(mslp_detrended))\n",
    "print(np.min(mslp_detrended))"
   ]
  },
  {
   "cell_type": "code",
   "execution_count": 47,
   "id": "69b5bae1",
   "metadata": {},
   "outputs": [
    {
     "data": {
      "text/plain": [
       "(2499, 73, 144)"
      ]
     },
     "execution_count": 47,
     "metadata": {},
     "output_type": "execute_result"
    }
   ],
   "source": [
    "mslp_detrended.shape"
   ]
  },
  {
   "cell_type": "code",
   "execution_count": 48,
   "id": "e5538374",
   "metadata": {},
   "outputs": [],
   "source": [
    "mslp_detrended1 = np.mean(mslp_detrended, axis = 0)"
   ]
  },
  {
   "cell_type": "code",
   "execution_count": 49,
   "id": "4a17031e",
   "metadata": {},
   "outputs": [
    {
     "data": {
      "text/plain": [
       "array([[-1.83427503e-12, -1.83427503e-12, -1.83427503e-12, ...,\n",
       "        -1.83427503e-12, -1.83427503e-12, -1.83427503e-12],\n",
       "       [-5.11850079e-12, -8.46678061e-12, -6.17248105e-12, ...,\n",
       "        -3.49385720e-12, -6.76643677e-12, -1.19955764e-12],\n",
       "       [ 7.88447108e-12,  1.00448394e-11,  1.05339795e-11, ...,\n",
       "         7.45356202e-13,  3.46474172e-12,  7.86117869e-12],\n",
       "       ...,\n",
       "       [ 3.33081053e-12, -3.17941005e-12, -2.06719884e-12, ...,\n",
       "         5.14179318e-12, -7.92523274e-12, -8.35614180e-12],\n",
       "       [ 4.00046649e-12,  7.98346370e-12, -4.90304627e-12, ...,\n",
       "         6.03854986e-12, -6.32970462e-12, -2.02643717e-12],\n",
       "       [-1.24264854e-11, -1.24264854e-11, -1.24264854e-11, ...,\n",
       "        -1.24264854e-11, -1.24264854e-11, -1.24264854e-11]])"
      ]
     },
     "execution_count": 49,
     "metadata": {},
     "output_type": "execute_result"
    }
   ],
   "source": [
    "mslp_detrended1"
   ]
  },
  {
   "cell_type": "code",
   "execution_count": 61,
   "id": "216dbc32",
   "metadata": {},
   "outputs": [],
   "source": [
    "np.savez(r'D:\\heat_wave\\SLP_SLPA_JJA_all_area.npz',sea_level_press = mslp_93_19, \n",
    "         sea_level_press_anom = mslp_detrended)"
   ]
  },
  {
   "cell_type": "code",
   "execution_count": 52,
   "id": "671c8523",
   "metadata": {},
   "outputs": [
    {
     "data": {
      "text/plain": [
       "(2499, 73, 144)"
      ]
     },
     "execution_count": 52,
     "metadata": {},
     "output_type": "execute_result"
    }
   ],
   "source": [
    "mslp_93_19.shape"
   ]
  },
  {
   "cell_type": "code",
   "execution_count": 53,
   "id": "5176c31e",
   "metadata": {},
   "outputs": [],
   "source": [
    "mslp_weio_93_19 = mslp_93_19[:,32:41,21:28]"
   ]
  },
  {
   "cell_type": "code",
   "execution_count": 54,
   "id": "7f8c6b3d",
   "metadata": {},
   "outputs": [
    {
     "data": {
      "text/plain": [
       "(2499, 9, 7)"
      ]
     },
     "execution_count": 54,
     "metadata": {},
     "output_type": "execute_result"
    }
   ],
   "source": [
    "mslp_weio_93_19.shape"
   ]
  },
  {
   "cell_type": "code",
   "execution_count": 55,
   "id": "70975295",
   "metadata": {},
   "outputs": [],
   "source": [
    "mslp_weio_93_19_mean = np.mean(mslp_weio_93_19, axis = (1,2))"
   ]
  },
  {
   "cell_type": "code",
   "execution_count": null,
   "id": "244e2d0c",
   "metadata": {},
   "outputs": [],
   "source": []
  },
  {
   "cell_type": "code",
   "execution_count": 57,
   "id": "8ba0a179",
   "metadata": {},
   "outputs": [],
   "source": [
    "mslp_detrended_weio = mslp_detrended[:,32:41,21:28]"
   ]
  },
  {
   "cell_type": "code",
   "execution_count": 58,
   "id": "4c1d76b2",
   "metadata": {},
   "outputs": [],
   "source": [
    "mslp_detrended_weio_93_19_mean = np.mean(mslp_detrended_weio, axis = (1,2))"
   ]
  },
  {
   "cell_type": "code",
   "execution_count": null,
   "id": "57bba50f",
   "metadata": {},
   "outputs": [],
   "source": []
  },
  {
   "cell_type": "code",
   "execution_count": null,
   "id": "126cd6dc",
   "metadata": {},
   "outputs": [],
   "source": []
  },
  {
   "cell_type": "code",
   "execution_count": 63,
   "id": "ba1d2883",
   "metadata": {},
   "outputs": [],
   "source": [
    "mslp_pacific_93_19 = mslp_93_19[:,34:39,76:97]"
   ]
  },
  {
   "cell_type": "code",
   "execution_count": 64,
   "id": "a2939f33",
   "metadata": {},
   "outputs": [],
   "source": [
    "mslp_detrended_pacific = mslp_detrended[:,34:39,76:97]"
   ]
  },
  {
   "cell_type": "code",
   "execution_count": 65,
   "id": "cf2d99af",
   "metadata": {},
   "outputs": [],
   "source": [
    "np.savez(r'D:\\heat_wave\\pacific\\SLP_SLPA_JJA_pacific_area.npz',sea_level_press = mslp_pacific_93_19, \n",
    "         sea_level_press_anom = mslp_detrended_pacific)"
   ]
  },
  {
   "cell_type": "code",
   "execution_count": null,
   "id": "e030fdca",
   "metadata": {},
   "outputs": [],
   "source": []
  },
  {
   "cell_type": "code",
   "execution_count": null,
   "id": "58d8e243",
   "metadata": {},
   "outputs": [],
   "source": []
  },
  {
   "cell_type": "code",
   "execution_count": 62,
   "id": "fe6061be",
   "metadata": {},
   "outputs": [],
   "source": [
    "np.savez(r'D:\\heat_wave\\WEIO\\SLP_SLPA_JJA_WEIO_area.npz',sea_level_press = mslp_weio_93_19, \n",
    "         sea_level_press_anom = mslp_detrended_weio)"
   ]
  },
  {
   "cell_type": "code",
   "execution_count": null,
   "id": "24d70e9e",
   "metadata": {},
   "outputs": [],
   "source": []
  },
  {
   "cell_type": "code",
   "execution_count": null,
   "id": "ea445d23",
   "metadata": {},
   "outputs": [],
   "source": []
  },
  {
   "cell_type": "code",
   "execution_count": 66,
   "id": "3a367c2f",
   "metadata": {},
   "outputs": [],
   "source": [
    "mslp_atlantic_93_19 = mslp_93_19[:,32:41,130:139]"
   ]
  },
  {
   "cell_type": "code",
   "execution_count": 67,
   "id": "c9f2d1b7",
   "metadata": {},
   "outputs": [],
   "source": [
    "mslp_detrended_atlantic = mslp_detrended[:,32:41,130:139]"
   ]
  },
  {
   "cell_type": "code",
   "execution_count": 68,
   "id": "6edfc733",
   "metadata": {},
   "outputs": [],
   "source": [
    "np.savez(r'D:\\heat_wave\\atlantic\\SLP_SLPA_JJA_atlantic_area.npz',sea_level_press = mslp_atlantic_93_19, \n",
    "         sea_level_press_anom = mslp_detrended_atlantic)"
   ]
  },
  {
   "cell_type": "code",
   "execution_count": null,
   "id": "3f8e01b6",
   "metadata": {},
   "outputs": [],
   "source": []
  }
 ],
 "metadata": {
  "kernelspec": {
   "display_name": "Python 3 (ipykernel)",
   "language": "python",
   "name": "python3"
  },
  "language_info": {
   "codemirror_mode": {
    "name": "ipython",
    "version": 3
   },
   "file_extension": ".py",
   "mimetype": "text/x-python",
   "name": "python",
   "nbconvert_exporter": "python",
   "pygments_lexer": "ipython3",
   "version": "3.8.12"
  }
 },
 "nbformat": 4,
 "nbformat_minor": 5
}

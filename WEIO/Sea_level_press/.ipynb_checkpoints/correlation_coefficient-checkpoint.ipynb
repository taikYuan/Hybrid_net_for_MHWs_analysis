{
 "cells": [
  {
   "cell_type": "code",
   "execution_count": 4,
   "id": "860a0e16",
   "metadata": {},
   "outputs": [
    {
     "name": "stdout",
     "output_type": "stream",
     "text": [
      "(27, 1)\n",
      "Pearson相关系数为: nan\n"
     ]
    },
    {
     "name": "stderr",
     "output_type": "stream",
     "text": [
      "C:\\Users\\mymylove\\AppData\\Local\\Temp/ipykernel_26608/3473100583.py:18: RuntimeWarning: Degrees of freedom <= 0 for slice\n",
      "  covariance = np.cov(z1, z2, ddof=1)[0][1]\n"
     ]
    }
   ],
   "source": [
    "import numpy as np\n",
    "data1 = np.load(r'D:\\heat_wave\\WEIO\\SLP_SLPA_plot_JJA.npz')\n",
    "slpa_JJA = data1['slpa'][:]\n",
    "print(slpa_JJA.shape)\n",
    "\n",
    "data5 = np.load(r'D:\\heat_wave\\WEIO\\SSTA_plot_JJA.npz')\n",
    "ssta_JJA = data5['ssta'][:]\n",
    "\n",
    "# 第一组数据\n",
    "\n",
    "# 第二组数据\n",
    "\n",
    "# 标准化数据\n",
    "z1 = (slpa_JJA - np.mean(slpa_JJA)) / np.std(slpa_JJA)\n",
    "z2 = (ssta_JJA - np.mean(ssta_JJA)) / np.std(ssta_JJA)\n",
    "\n",
    "# 计算协方差\n",
    "covariance = np.cov(z1, z2, ddof=1)[0][1]\n",
    "\n",
    "# 计算标准差\n",
    "std1 = np.std(z1, ddof=1)\n",
    "std2 = np.std(z2, ddof=1)\n",
    "\n",
    "# 计算相关系数\n",
    "corr = covariance / (std1 * std2)\n",
    "\n",
    "print(\"Pearson相关系数为:\", corr)"
   ]
  },
  {
   "cell_type": "code",
   "execution_count": 16,
   "id": "871dbfff",
   "metadata": {},
   "outputs": [
    {
     "data": {
      "text/plain": [
       "(53,)"
      ]
     },
     "execution_count": 16,
     "metadata": {},
     "output_type": "execute_result"
    }
   ],
   "source": [
    "Duration.shape"
   ]
  },
  {
   "cell_type": "code",
   "execution_count": 17,
   "id": "3fcbf2a7",
   "metadata": {},
   "outputs": [
    {
     "data": {
      "text/plain": [
       "23.79245283018868"
      ]
     },
     "execution_count": 17,
     "metadata": {},
     "output_type": "execute_result"
    }
   ],
   "source": [
    "a = np.mean(Duration)\n",
    "a"
   ]
  },
  {
   "cell_type": "code",
   "execution_count": 18,
   "id": "94a0b52a",
   "metadata": {},
   "outputs": [
    {
     "data": {
      "text/plain": [
       "17.627735849056602"
      ]
     },
     "execution_count": 18,
     "metadata": {},
     "output_type": "execute_result"
    }
   ],
   "source": [
    "b = np.mean(Cumulative_intensity)\n",
    "b"
   ]
  },
  {
   "cell_type": "code",
   "execution_count": 5,
   "id": "40251d57",
   "metadata": {},
   "outputs": [
    {
     "name": "stdout",
     "output_type": "stream",
     "text": [
      "(53,)\n",
      "Pearson相关系数为: -0.2804274418300266\n"
     ]
    }
   ],
   "source": [
    "import numpy as np\n",
    "\n",
    "# 第一组数据\n",
    "Duration = np.array([11,5,39,26,8,13,6,8,27,7,10,6,8,16,6,9,16,19,43,34,28,27,25,5,8,10,9,211,54,9,6,18,10,37,8,10,6,115,6,7,20,23,134,10,5,8,5,7,17,67,16,8,15])\n",
    "print(Duration.shape)\n",
    "# 第二组数据\n",
    "Rate_of_onset = np.array([0.47, 0.49, 0.14, 0.21, 0.39, 0.50, 0.22, 0.90, 0.19, 0.66, 0.36, 0.69, 0.41, 0.42, 0.74, 1.07, 0.14, 0.51, 0.15, 0.17, 0.07, 0.39, 0.50, 0.74, 0.36, 0.47, 0.46, 0.09, 0.17, 0.41, 0.66, 0.24, 0.32, 0.23, 0.30, 0.65, 0.23, 0.36, 0.23, 0.57, 0.29, 0.12, 0.55, 0.61, 0.63, 0.47, 0.17, 0.23, 1.18, 0.04, 0.71, 0.41, 0.17])\n",
    "\n",
    "# 标准化数据\n",
    "z1 = (Duration - np.mean(Duration)) / np.std(Duration)\n",
    "z2 = (Rate_of_onset - np.mean(Rate_of_onset)) / np.std(Rate_of_onset)\n",
    "\n",
    "# 计算协方差\n",
    "covariance = np.cov(z1, z2, ddof=1)[0][1]\n",
    "\n",
    "# 计算标准差\n",
    "std1 = np.std(z1, ddof=1)\n",
    "std2 = np.std(z2, ddof=1)\n",
    "\n",
    "# 计算相关系数\n",
    "corr = covariance / (std1 * std2)\n",
    "\n",
    "print(\"Pearson相关系数为:\", corr)"
   ]
  },
  {
   "cell_type": "code",
   "execution_count": 21,
   "id": "cdb61897",
   "metadata": {},
   "outputs": [
    {
     "data": {
      "text/plain": [
       "(53,)"
      ]
     },
     "execution_count": 21,
     "metadata": {},
     "output_type": "execute_result"
    }
   ],
   "source": [
    "Rate_of_onset.shape"
   ]
  },
  {
   "cell_type": "code",
   "execution_count": 22,
   "id": "620270ac",
   "metadata": {},
   "outputs": [
    {
     "data": {
      "text/plain": [
       "0.41245283018867923"
      ]
     },
     "execution_count": 22,
     "metadata": {},
     "output_type": "execute_result"
    }
   ],
   "source": [
    "d = np.mean(Rate_of_onset)\n",
    "d"
   ]
  },
  {
   "cell_type": "code",
   "execution_count": null,
   "id": "2b1b5aab",
   "metadata": {},
   "outputs": [],
   "source": []
  }
 ],
 "metadata": {
  "kernelspec": {
   "display_name": "Python 3 (ipykernel)",
   "language": "python",
   "name": "python3"
  },
  "language_info": {
   "codemirror_mode": {
    "name": "ipython",
    "version": 3
   },
   "file_extension": ".py",
   "mimetype": "text/x-python",
   "name": "python",
   "nbconvert_exporter": "python",
   "pygments_lexer": "ipython3",
   "version": "3.8.12"
  }
 },
 "nbformat": 4,
 "nbformat_minor": 5
}

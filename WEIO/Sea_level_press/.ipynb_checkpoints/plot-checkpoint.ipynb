{
 "cells": [
  {
   "cell_type": "code",
   "execution_count": 1,
   "id": "30b6023e",
   "metadata": {},
   "outputs": [],
   "source": [
    "import matplotlib.pyplot as plt\n",
    "from matplotlib.colors import ListedColormap, BoundaryNorm\n",
    "import matplotlib.gridspec as gridspec \n",
    "import numpy as np"
   ]
  },
  {
   "cell_type": "code",
   "execution_count": 2,
   "id": "67a97531",
   "metadata": {},
   "outputs": [
    {
     "data": {
      "text/plain": [
       "['slp', 'slpa']"
      ]
     },
     "execution_count": 2,
     "metadata": {},
     "output_type": "execute_result"
    }
   ],
   "source": [
    "data1 = np.load(r'D:\\heat_wave\\WEIO\\SLP_SLPA_plot_JJA.npz')\n",
    "data1.files"
   ]
  },
  {
   "cell_type": "code",
   "execution_count": 3,
   "id": "d867c6c6",
   "metadata": {},
   "outputs": [],
   "source": [
    "slp_JJA = data1['slp'][:]\n",
    "slpa_JJA = data1['slpa'][:]"
   ]
  },
  {
   "cell_type": "code",
   "execution_count": null,
   "id": "5686cbd8",
   "metadata": {},
   "outputs": [],
   "source": []
  },
  {
   "cell_type": "code",
   "execution_count": 4,
   "id": "2a3170e2",
   "metadata": {},
   "outputs": [
    {
     "data": {
      "text/plain": [
       "['slp', 'slpa']"
      ]
     },
     "execution_count": 4,
     "metadata": {},
     "output_type": "execute_result"
    }
   ],
   "source": [
    "data2 = np.load(r'D:\\heat_wave\\WEIO\\SLP_SLPA_plot_SON.npz')\n",
    "data2.files"
   ]
  },
  {
   "cell_type": "code",
   "execution_count": 5,
   "id": "1d6cb1f0",
   "metadata": {},
   "outputs": [],
   "source": [
    "slp_SON = data2['slp'][:]\n",
    "slpa_SON = data2['slpa'][:]"
   ]
  },
  {
   "cell_type": "code",
   "execution_count": null,
   "id": "46f64696",
   "metadata": {},
   "outputs": [],
   "source": []
  },
  {
   "cell_type": "code",
   "execution_count": null,
   "id": "7ec3259a",
   "metadata": {
    "scrolled": true
   },
   "outputs": [],
   "source": []
  },
  {
   "cell_type": "code",
   "execution_count": 6,
   "id": "d0574eb6",
   "metadata": {},
   "outputs": [
    {
     "data": {
      "text/plain": [
       "['slp', 'slpa']"
      ]
     },
     "execution_count": 6,
     "metadata": {},
     "output_type": "execute_result"
    }
   ],
   "source": [
    "data3 = np.load(r'D:\\heat_wave\\WEIO\\SLP_SLPA_plot_DJF.npz')\n",
    "data3.files"
   ]
  },
  {
   "cell_type": "code",
   "execution_count": 7,
   "id": "b5ee66c8",
   "metadata": {},
   "outputs": [],
   "source": [
    "slp_DJF = data3['slp'][:]\n",
    "slpa_DJF = data3['slpa'][:]"
   ]
  },
  {
   "cell_type": "code",
   "execution_count": null,
   "id": "ebb2ec6b",
   "metadata": {},
   "outputs": [],
   "source": []
  },
  {
   "cell_type": "code",
   "execution_count": 8,
   "id": "d97a2c6b",
   "metadata": {},
   "outputs": [
    {
     "data": {
      "text/plain": [
       "['slp', 'slpa']"
      ]
     },
     "execution_count": 8,
     "metadata": {},
     "output_type": "execute_result"
    }
   ],
   "source": [
    "data4 = np.load(r'D:\\heat_wave\\WEIO\\SLP_SLPA_plot_MAM.npz')\n",
    "data4.files"
   ]
  },
  {
   "cell_type": "code",
   "execution_count": 9,
   "id": "ac9c49b1",
   "metadata": {},
   "outputs": [],
   "source": [
    "slp_MAM = data4['slp'][:]\n",
    "slpa_MAM = data4['slpa'][:]"
   ]
  },
  {
   "cell_type": "code",
   "execution_count": null,
   "id": "d34c6759",
   "metadata": {},
   "outputs": [],
   "source": []
  },
  {
   "cell_type": "code",
   "execution_count": 10,
   "id": "baa76375",
   "metadata": {},
   "outputs": [
    {
     "data": {
      "text/plain": [
       "['ssta']"
      ]
     },
     "execution_count": 10,
     "metadata": {},
     "output_type": "execute_result"
    }
   ],
   "source": [
    "data5 = np.load(r'D:\\heat_wave\\WEIO\\SSTA_plot_JJA.npz')\n",
    "data5.files"
   ]
  },
  {
   "cell_type": "code",
   "execution_count": 11,
   "id": "1eb47b84",
   "metadata": {},
   "outputs": [
    {
     "data": {
      "text/plain": [
       "(27, 1)"
      ]
     },
     "execution_count": 11,
     "metadata": {},
     "output_type": "execute_result"
    }
   ],
   "source": [
    "ssta_JJA = data5['ssta'][:]\n",
    "ssta_JJA.shape"
   ]
  },
  {
   "cell_type": "code",
   "execution_count": 12,
   "id": "a3103a93",
   "metadata": {},
   "outputs": [
    {
     "data": {
      "text/plain": [
       "['ssta']"
      ]
     },
     "execution_count": 12,
     "metadata": {},
     "output_type": "execute_result"
    }
   ],
   "source": [
    "data6 = np.load(r'D:\\heat_wave\\WEIO\\SSTA_plot_SON.npz')\n",
    "data6.files"
   ]
  },
  {
   "cell_type": "code",
   "execution_count": 13,
   "id": "38ff45b6",
   "metadata": {},
   "outputs": [
    {
     "data": {
      "text/plain": [
       "(27, 1)"
      ]
     },
     "execution_count": 13,
     "metadata": {},
     "output_type": "execute_result"
    }
   ],
   "source": [
    "ssta_SON = data6['ssta'][:]\n",
    "ssta_SON.shape"
   ]
  },
  {
   "cell_type": "code",
   "execution_count": 14,
   "id": "c2a029f1",
   "metadata": {},
   "outputs": [
    {
     "data": {
      "text/plain": [
       "['ssta']"
      ]
     },
     "execution_count": 14,
     "metadata": {},
     "output_type": "execute_result"
    }
   ],
   "source": [
    "data7 = np.load(r'D:\\heat_wave\\WEIO\\SSTA_plot_DJF.npz')\n",
    "data7.files"
   ]
  },
  {
   "cell_type": "code",
   "execution_count": 15,
   "id": "b886e514",
   "metadata": {},
   "outputs": [
    {
     "data": {
      "text/plain": [
       "(27, 1)"
      ]
     },
     "execution_count": 15,
     "metadata": {},
     "output_type": "execute_result"
    }
   ],
   "source": [
    "ssta_DJF = data7['ssta'][:]\n",
    "ssta_DJF.shape"
   ]
  },
  {
   "cell_type": "code",
   "execution_count": 16,
   "id": "fb669892",
   "metadata": {},
   "outputs": [
    {
     "data": {
      "text/plain": [
       "['ssta']"
      ]
     },
     "execution_count": 16,
     "metadata": {},
     "output_type": "execute_result"
    }
   ],
   "source": [
    "data8 = np.load(r'D:\\heat_wave\\WEIO\\SSTA_plot_MAM.npz')\n",
    "data8.files"
   ]
  },
  {
   "cell_type": "code",
   "execution_count": 17,
   "id": "56df5166",
   "metadata": {},
   "outputs": [
    {
     "data": {
      "text/plain": [
       "(27, 1)"
      ]
     },
     "execution_count": 17,
     "metadata": {},
     "output_type": "execute_result"
    }
   ],
   "source": [
    "ssta_MAM = data8['ssta'][:]\n",
    "ssta_MAM.shape"
   ]
  },
  {
   "cell_type": "code",
   "execution_count": null,
   "id": "87bf793a",
   "metadata": {},
   "outputs": [],
   "source": []
  },
  {
   "cell_type": "code",
   "execution_count": 18,
   "id": "d790df8a",
   "metadata": {},
   "outputs": [],
   "source": [
    "y1 = slpa_JJA\n",
    "y2 = slpa_SON\n",
    "y3 = slpa_DJF\n",
    "y4 = slpa_MAM\n",
    "y5 = ssta_JJA\n",
    "y6 = ssta_SON\n",
    "y7 = ssta_DJF\n",
    "y8 = ssta_MAM"
   ]
  },
  {
   "cell_type": "code",
   "execution_count": 19,
   "id": "9e337f8f",
   "metadata": {},
   "outputs": [
    {
     "data": {
      "text/plain": [
       "(27, 1)"
      ]
     },
     "execution_count": 19,
     "metadata": {},
     "output_type": "execute_result"
    }
   ],
   "source": [
    "slpa_JJA.shape"
   ]
  },
  {
   "cell_type": "code",
   "execution_count": 21,
   "id": "6b80d796",
   "metadata": {},
   "outputs": [
    {
     "name": "stderr",
     "output_type": "stream",
     "text": [
      "C:\\Users\\mymylove\\Anaconda3\\envs\\pytorch\\lib\\site-packages\\matplotlib\\backends\\backend_agg.py:240: RuntimeWarning: Glyph 36724 missing from current font.\n",
      "  font.set_text(s, 0.0, flags=flags)\n",
      "C:\\Users\\mymylove\\Anaconda3\\envs\\pytorch\\lib\\site-packages\\matplotlib\\backends\\backend_agg.py:203: RuntimeWarning: Glyph 36724 missing from current font.\n",
      "  font.set_text(s, 0, flags=flags)\n"
     ]
    },
    {
     "data": {
      "image/png": "[encoded data removed]",
      "text/plain": [
       "<Figure size 432x288 with 2 Axes>"
      ]
     },
     "metadata": {
      "needs_background": "light"
     },
     "output_type": "display_data"
    }
   ],
   "source": [
    "import matplotlib.pyplot as plt\n",
    "\n",
    "# 创建一个图表和一组子图\n",
    "fig, ax1 = plt.subplots()\n",
    "\n",
    "# 创建第一个y轴\n",
    "ax1.set_xlabel('x轴')\n",
    "ax1.set_ylabel('SLPA')\n",
    "\n",
    "# 绘制左侧y轴的数据\n",
    "\n",
    "y1 = slpa_JJA\n",
    "x = list(range(len(y1)))\n",
    "ax1.plot(x, y1, color='blue')\n",
    "\n",
    "# 创建第二个y轴\n",
    "ax2 = ax1.twinx()\n",
    "ax2.set_ylabel('SSTA')\n",
    "\n",
    "# 绘制右侧y轴的数据\n",
    "y2 = ssta_JJA\n",
    "ax2.plot(x, y2, color='red')\n",
    "\n",
    "# 显示图表\n",
    "plt.show()"
   ]
  },
  {
   "cell_type": "code",
   "execution_count": null,
   "id": "10489dab",
   "metadata": {},
   "outputs": [],
   "source": []
  },
  {
   "cell_type": "code",
   "execution_count": 23,
   "id": "78c7b6f2",
   "metadata": {},
   "outputs": [
    {
     "name": "stderr",
     "output_type": "stream",
     "text": [
      "C:\\Users\\mymylove\\Anaconda3\\envs\\pytorch\\lib\\site-packages\\matplotlib\\backends\\backend_agg.py:240: RuntimeWarning: Glyph 36724 missing from current font.\n",
      "  font.set_text(s, 0.0, flags=flags)\n",
      "C:\\Users\\mymylove\\Anaconda3\\envs\\pytorch\\lib\\site-packages\\matplotlib\\backends\\backend_agg.py:203: RuntimeWarning: Glyph 36724 missing from current font.\n",
      "  font.set_text(s, 0, flags=flags)\n"
     ]
    },
    {
     "data": {
      "image/png": "[encoded data removed]",
      "text/plain": [
       "<Figure size 432x288 with 5 Axes>"
      ]
     },
     "metadata": {
      "needs_background": "light"
     },
     "output_type": "display_data"
    }
   ],
   "source": [
    "import matplotlib.pyplot as plt\n",
    "\n",
    "# 创建一个图表和四个双y轴子图\n",
    "fig, axs = plt.subplots(nrows=2, ncols=2, sharex=True, sharey=False)\n",
    "\n",
    "# 在第一个子图中绘制数据\n",
    "axs[0, 0].set_xlabel('x轴')\n",
    "axs[0, 0].set_ylabel('SLPA', color='blue')\n",
    "y1 = slpa_JJA\n",
    "x = list(range(len(y1)))\n",
    "axs[0, 0].plot(x, y1, color='blue')\n",
    "axs[0, 0].tick_params(axis='y', labelcolor='blue')\n",
    "\n",
    "ax2_1 = axs[0, 0].twinx()\n",
    "ax2_1.set_ylabel('SSTA', color='red')\n",
    "y2_1 = ssta_JJA\n",
    "ax2_1.plot(x, y2_1, color='red')\n",
    "ax2_1.tick_params(axis='y', labelcolor='red')\n",
    "\n",
    "# 在第二个子图中绘制数据\n",
    "# ...\n",
    "\n",
    "# 在第三个子图中绘制数据\n",
    "# ...\n",
    "\n",
    "# 在第四个子图中绘制数据\n",
    "# ...\n",
    "\n",
    "# 调整子图布局\n",
    "plt.tight_layout()\n",
    "\n",
    "# 显示图表\n",
    "plt.show()"
   ]
  },
  {
   "cell_type": "code",
   "execution_count": null,
   "id": "6fa5e5ef",
   "metadata": {},
   "outputs": [],
   "source": []
  }
 ],
 "metadata": {
  "kernelspec": {
   "display_name": "Python 3 (ipykernel)",
   "language": "python",
   "name": "python3"
  },
  "language_info": {
   "codemirror_mode": {
    "name": "ipython",
    "version": 3
   },
   "file_extension": ".py",
   "mimetype": "text/x-python",
   "name": "python",
   "nbconvert_exporter": "python",
   "pygments_lexer": "ipython3",
   "version": "3.8.12"
  }
 },
 "nbformat": 4,
 "nbformat_minor": 5
}

{
 "cells": [
  {
   "cell_type": "code",
   "execution_count": 1,
   "id": "925c8fec",
   "metadata": {},
   "outputs": [],
   "source": [
    "import numpy as np\n",
    "import matplotlib.pyplot as plt\n",
    "from matplotlib.colors import ListedColormap"
   ]
  },
  {
   "cell_type": "code",
   "execution_count": 2,
   "id": "d4f65c38",
   "metadata": {},
   "outputs": [
    {
     "data": {
      "text/plain": [
       "['lat', 'lon', 'mslp']"
      ]
     },
     "execution_count": 2,
     "metadata": {},
     "output_type": "execute_result"
    }
   ],
   "source": [
    "data = np.load(r'D:\\heat_wave\\sea_level_pressure_93_19_all_area.npz')\n",
    "data.files"
   ]
  },
  {
   "cell_type": "code",
   "execution_count": 3,
   "id": "d1a28fd8",
   "metadata": {},
   "outputs": [],
   "source": [
    "mslp = data['mslp'][:]"
   ]
  },
  {
   "cell_type": "code",
   "execution_count": 4,
   "id": "a02aa347",
   "metadata": {},
   "outputs": [],
   "source": [
    "mslp = mslp/100"
   ]
  },
  {
   "cell_type": "code",
   "execution_count": 5,
   "id": "2b212fc2",
   "metadata": {},
   "outputs": [],
   "source": [
    "mean_pressure = np.mean(mslp, axis = 0)"
   ]
  },
  {
   "cell_type": "code",
   "execution_count": 6,
   "id": "37a783be",
   "metadata": {},
   "outputs": [],
   "source": [
    "pressure_anom = mslp - mean_pressure[np.newaxis,:,:]"
   ]
  },
  {
   "cell_type": "code",
   "execution_count": 7,
   "id": "2efcaad9",
   "metadata": {
    "collapsed": true
   },
   "outputs": [
    {
     "data": {
      "text/plain": [
       "array([[[-30.6521   , -30.6521   , -30.6521   , ..., -30.6521   ,\n",
       "         -30.6521   , -30.6521   ],\n",
       "        [-33.857178 , -34.085327 , -34.35553  , ..., -33.148254 ,\n",
       "         -33.37561  , -33.592773 ],\n",
       "        [-27.087952 , -27.41919  , -27.756165 , ..., -26.242859 ,\n",
       "         -26.527832 , -26.816223 ],\n",
       "        ...,\n",
       "        [ -9.024048 ,  -9.961243 , -10.911499 , ...,  -5.985901 ,\n",
       "          -7.020691 ,  -8.027649 ],\n",
       "        [ -9.787781 , -10.170776 , -10.529846 , ...,  -8.635071 ,\n",
       "          -9.030945 ,  -9.420349 ],\n",
       "        [ -9.80127  ,  -9.80127  ,  -9.80127  , ...,  -9.80127  ,\n",
       "          -9.80127  ,  -9.80127  ]],\n",
       "\n",
       "       [[-15.232056 , -15.232056 , -15.232056 , ..., -15.232056 ,\n",
       "         -15.232056 , -15.232056 ],\n",
       "        [-17.387146 , -17.585327 , -17.83551  , ..., -16.74823  ,\n",
       "         -16.955627 , -17.17279  ],\n",
       "        [-16.737915 , -17.11914  , -17.506165 , ..., -15.722839 ,\n",
       "         -16.057861 , -16.39624  ],\n",
       "        ...,\n",
       "        [-11.424072 , -12.51123  , -13.511475 , ...,  -7.8358765,\n",
       "          -9.070679 , -10.277649 ],\n",
       "        [-11.267761 , -11.620789 , -12.029846 , ..., -10.035034 ,\n",
       "         -10.450928 , -10.850403 ],\n",
       "        [ -8.331299 ,  -8.331299 ,  -8.331299 , ...,  -8.331299 ,\n",
       "          -8.331299 ,  -8.331299 ]],\n",
       "\n",
       "       [[ -7.3320923,  -7.3320923,  -7.3320923, ...,  -7.3320923,\n",
       "          -7.3320923,  -7.3320923],\n",
       "        [ -4.937195 ,  -5.1152954,  -5.255493 , ...,  -4.49823  ,\n",
       "          -4.6256104,  -4.772766 ],\n",
       "        [ -3.0579224,  -3.2491455,  -3.4761963, ...,  -2.6728516,\n",
       "          -2.777832 ,  -2.8962402],\n",
       "        ...,\n",
       "        [-11.324036 , -12.29126  , -13.211487 , ...,  -8.285889 ,\n",
       "          -9.340637 , -10.357666 ],\n",
       "        [-12.667786 , -12.940796 , -13.279846 , ..., -11.665039 ,\n",
       "         -11.950928 , -12.270386 ],\n",
       "        [ -6.3812866,  -6.3812866,  -6.3812866, ...,  -6.3812866,\n",
       "          -6.3812866,  -6.3812866]],\n",
       "\n",
       "       ...,\n",
       "\n",
       "       [[ 11.0979   ,  11.0979   ,  11.0979   , ...,  11.0979   ,\n",
       "          11.0979   ,  11.0979   ],\n",
       "        [  8.242859 ,   8.23468  ,   8.264465 , ...,   8.2317505,\n",
       "           8.244385 ,   8.227234 ],\n",
       "        [  4.89209  ,   5.0308228,   5.173828 , ...,   4.7071533,\n",
       "           4.7421875,   4.803772 ],\n",
       "        ...,\n",
       "        [-19.394043 , -19.861267 , -20.231506 , ..., -17.915894 ,\n",
       "         -18.470642 , -18.977661 ],\n",
       "        [-21.717773 , -21.990784 , -22.229797 , ..., -20.935059 ,\n",
       "         -21.230896 , -21.500366 ],\n",
       "        [-17.101257 , -17.101257 , -17.101257 , ..., -17.101257 ,\n",
       "         -17.101257 , -17.101257 ]],\n",
       "\n",
       "       [[ 13.797974 ,  13.797974 ,  13.797974 , ...,  13.797974 ,\n",
       "          13.797974 ,  13.797974 ],\n",
       "        [ 12.142883 ,  12.014648 ,  11.944519 , ...,  12.351746 ,\n",
       "          12.274414 ,  12.207214 ],\n",
       "        [  8.692078 ,   8.450806 ,   8.223816 , ...,   9.527161 ,\n",
       "           9.2421875,   8.933777 ],\n",
       "        ...,\n",
       "        [-11.194031 , -11.741272 , -12.331482 , ...,  -9.285889 ,\n",
       "          -9.920654 , -10.527649 ],\n",
       "        [-16.237732 , -16.540771 , -16.879822 , ..., -15.285034 ,\n",
       "         -15.63092  , -15.920349 ],\n",
       "        [-12.251282 , -12.251282 , -12.251282 , ..., -12.251282 ,\n",
       "         -12.251282 , -12.251282 ]],\n",
       "\n",
       "       [[ 16.197876 ,  16.197876 ,  16.197876 , ...,  16.197876 ,\n",
       "          16.197876 ,  16.197876 ],\n",
       "        [ 13.612854 ,  13.484741 ,  13.344543 , ...,  14.101746 ,\n",
       "          13.944336 ,  13.777283 ],\n",
       "        [ 10.89209  ,  10.300842 ,   9.793823 , ...,  12.557129 ,\n",
       "          11.9921875,  11.433777 ],\n",
       "        ...,\n",
       "        [-10.374084 , -10.841248 , -11.261475 , ...,  -8.915894 ,\n",
       "          -9.420654 ,  -9.907654 ],\n",
       "        [-12.887756 , -13.220825 , -13.449829 , ..., -12.085083 ,\n",
       "         -12.38092  , -12.650391 ],\n",
       "        [ -8.501282 ,  -8.501282 ,  -8.501282 , ...,  -8.501282 ,\n",
       "          -8.501282 ,  -8.501282 ]]], dtype=float32)"
      ]
     },
     "execution_count": 7,
     "metadata": {},
     "output_type": "execute_result"
    }
   ],
   "source": [
    "pressure_anom"
   ]
  },
  {
   "cell_type": "code",
   "execution_count": null,
   "id": "ceb51465",
   "metadata": {},
   "outputs": [],
   "source": []
  },
  {
   "cell_type": "code",
   "execution_count": 8,
   "id": "db8c81f4",
   "metadata": {},
   "outputs": [],
   "source": [
    "# SON   93\n",
    "date_93_1 = 243\n",
    "date_93_2 = 334\n",
    "data_1 = date_93_1\n",
    "data_2 = date_93_2\n",
    "\n",
    "mslp_93 = mslp[data_1:data_2,:,:]\n",
    "mslpa_93 = pressure_anom[data_1:data_2,:,:]"
   ]
  },
  {
   "cell_type": "code",
   "execution_count": 9,
   "id": "4d1b51d4",
   "metadata": {},
   "outputs": [],
   "source": [
    "# SON   94\n",
    "date_94_1 = 608\n",
    "date_94_2 = 699\n",
    "data_1 = date_94_1\n",
    "data_2 = date_94_2\n",
    "\n",
    "mslp_94 = mslp[data_1:data_2,:,:]\n",
    "mslpa_94 = pressure_anom[data_1:data_2,:,:]"
   ]
  },
  {
   "cell_type": "code",
   "execution_count": 10,
   "id": "c1ff7a94",
   "metadata": {},
   "outputs": [],
   "source": [
    "# SON   95\n",
    "date_95_1 = 973\n",
    "date_95_2 = 1064\n",
    "data_1 = date_95_1\n",
    "data_2 = date_95_2\n",
    "\n",
    "mslp_95 = mslp[data_1:data_2,:,:]\n",
    "mslpa_95 = pressure_anom[data_1:data_2,:,:]"
   ]
  },
  {
   "cell_type": "code",
   "execution_count": 11,
   "id": "7535e818",
   "metadata": {},
   "outputs": [],
   "source": [
    "# SON   96\n",
    "date_96_1 = 1339\n",
    "date_96_2 = 1430\n",
    "data_1 = date_96_1\n",
    "data_2 = date_96_2\n",
    "\n",
    "mslp_96 = mslp[data_1:data_2,:,:]\n",
    "mslpa_96 = pressure_anom[data_1:data_2,:,:]"
   ]
  },
  {
   "cell_type": "code",
   "execution_count": 12,
   "id": "410f1177",
   "metadata": {},
   "outputs": [],
   "source": [
    "# SON   97\n",
    "date_97_1 = 1704\n",
    "date_97_2 = 1795\n",
    "data_1 = date_97_1\n",
    "data_2 = date_97_2\n",
    "\n",
    "mslp_97 = mslp[data_1:data_2,:,:]\n",
    "mslpa_97 = pressure_anom[data_1:data_2,:,:]"
   ]
  },
  {
   "cell_type": "code",
   "execution_count": 13,
   "id": "ec1ce871",
   "metadata": {},
   "outputs": [],
   "source": [
    "# SON   98\n",
    "date_98_1 = 2069\n",
    "date_98_2 = 2160\n",
    "data_1 = date_98_1\n",
    "data_2 = date_98_2\n",
    "\n",
    "mslp_98 = mslp[data_1:data_2,:,:]\n",
    "mslpa_98 = pressure_anom[data_1:data_2,:,:]"
   ]
  },
  {
   "cell_type": "code",
   "execution_count": 14,
   "id": "71f499a8",
   "metadata": {},
   "outputs": [],
   "source": [
    "# SON   99\n",
    "date_99_1 = 2434\n",
    "date_99_2 = 2525\n",
    "data_1 = date_99_1\n",
    "data_2 = date_99_2\n",
    "\n",
    "mslp_99 = mslp[data_1:data_2,:,:]\n",
    "mslpa_99 = pressure_anom[data_1:data_2,:,:]"
   ]
  },
  {
   "cell_type": "code",
   "execution_count": 15,
   "id": "85123d6c",
   "metadata": {},
   "outputs": [],
   "source": [
    "# SON   00\n",
    "date_00_1 = 2800\n",
    "date_00_2 = 2891\n",
    "data_1 = date_00_1\n",
    "data_2 = date_00_2\n",
    "\n",
    "mslp_00 = mslp[data_1:data_2,:,:]\n",
    "mslpa_00 = pressure_anom[data_1:data_2,:,:]"
   ]
  },
  {
   "cell_type": "code",
   "execution_count": 16,
   "id": "039fd748",
   "metadata": {},
   "outputs": [],
   "source": [
    "# SON   01\n",
    "date_01_1 = 3165\n",
    "date_01_2 = 3256\n",
    "data_1 = date_01_1\n",
    "data_2 = date_01_2\n",
    "\n",
    "mslp_01 = mslp[data_1:data_2,:,:]\n",
    "mslpa_01 = pressure_anom[data_1:data_2,:,:]"
   ]
  },
  {
   "cell_type": "code",
   "execution_count": 17,
   "id": "f07a7955",
   "metadata": {},
   "outputs": [],
   "source": [
    "# SON   02\n",
    "date_02_1 = 3529\n",
    "date_02_2 = 3620\n",
    "data_1 = date_02_1\n",
    "data_2 = date_02_2\n",
    "\n",
    "mslp_02 = mslp[data_1:data_2,:,:]\n",
    "mslpa_02 = pressure_anom[data_1:data_2,:,:]"
   ]
  },
  {
   "cell_type": "code",
   "execution_count": 18,
   "id": "636288f8",
   "metadata": {},
   "outputs": [],
   "source": [
    "# SON   03\n",
    "date_03_1 = 3895\n",
    "date_03_2 = 3986\n",
    "data_1 = date_03_1\n",
    "data_2 = date_03_2\n",
    "\n",
    "mslp_03 = mslp[data_1:data_2,:,:]\n",
    "mslpa_03 = pressure_anom[data_1:data_2,:,:]"
   ]
  },
  {
   "cell_type": "code",
   "execution_count": 19,
   "id": "bbe6021d",
   "metadata": {},
   "outputs": [],
   "source": [
    "# SON   04\n",
    "date_04_1 = 4261\n",
    "date_04_2 = 4352\n",
    "data_1 = date_04_1\n",
    "data_2 = date_04_2\n",
    "\n",
    "mslp_04 = mslp[data_1:data_2,:,:]\n",
    "mslpa_04 = pressure_anom[data_1:data_2,:,:]"
   ]
  },
  {
   "cell_type": "code",
   "execution_count": 20,
   "id": "0e3c5353",
   "metadata": {},
   "outputs": [],
   "source": [
    "# SON   05\n",
    "date_05_1 = 4626\n",
    "date_05_2 = 4717\n",
    "data_1 = date_05_1\n",
    "data_2 = date_05_2\n",
    "\n",
    "mslp_05 = mslp[data_1:data_2,:,:]\n",
    "mslpa_05 = pressure_anom[data_1:data_2,:,:]"
   ]
  },
  {
   "cell_type": "code",
   "execution_count": 21,
   "id": "aa4b5f38",
   "metadata": {},
   "outputs": [],
   "source": [
    "# SON   06\n",
    "date_06_1 = 4990\n",
    "date_06_2 = 5081\n",
    "data_1 = date_06_1\n",
    "data_2 = date_06_2\n",
    "\n",
    "mslp_06 = mslp[data_1:data_2,:,:]\n",
    "mslpa_06 = pressure_anom[data_1:data_2,:,:]"
   ]
  },
  {
   "cell_type": "code",
   "execution_count": 22,
   "id": "ddb6b4be",
   "metadata": {},
   "outputs": [],
   "source": [
    "# SON   07\n",
    "date_07_1 = 5356\n",
    "date_07_2 = 5447\n",
    "data_1 = date_07_1\n",
    "data_2 = date_07_2\n",
    "\n",
    "mslp_07 = mslp[data_1:data_2,:,:]\n",
    "mslpa_07 = pressure_anom[data_1:data_2,:,:]"
   ]
  },
  {
   "cell_type": "code",
   "execution_count": 23,
   "id": "4b755060",
   "metadata": {},
   "outputs": [],
   "source": [
    "# SON   08\n",
    "date_08_1 = 5722\n",
    "date_08_2 = 5813\n",
    "data_1 = date_08_1\n",
    "data_2 = date_08_2\n",
    "\n",
    "mslp_08 = mslp[data_1:data_2,:,:]\n",
    "mslpa_08 = pressure_anom[data_1:data_2,:,:]"
   ]
  },
  {
   "cell_type": "code",
   "execution_count": 24,
   "id": "e3d46ed0",
   "metadata": {},
   "outputs": [],
   "source": [
    "# SON   09\n",
    "date_09_1 = 6087\n",
    "date_09_2 = 6178\n",
    "data_1 = date_09_1\n",
    "data_2 = date_09_2\n",
    "\n",
    "mslp_09 = mslp[data_1:data_2,:,:]\n",
    "mslpa_09 = pressure_anom[data_1:data_2,:,:]"
   ]
  },
  {
   "cell_type": "code",
   "execution_count": 25,
   "id": "35034d29",
   "metadata": {},
   "outputs": [],
   "source": [
    "# SON   10\n",
    "date_10_1 = 6452\n",
    "date_10_2 = 6543\n",
    "data_1 = date_10_1\n",
    "data_2 = date_10_2\n",
    "\n",
    "mslp_10 = mslp[data_1:data_2,:,:]\n",
    "mslpa_10 = pressure_anom[data_1:data_2,:,:]"
   ]
  },
  {
   "cell_type": "code",
   "execution_count": 26,
   "id": "14a42d76",
   "metadata": {},
   "outputs": [],
   "source": [
    "# SON   11\n",
    "date_11_1 = 6817\n",
    "date_11_2 = 6908\n",
    "data_1 = date_11_1\n",
    "data_2 = date_11_2\n",
    "\n",
    "mslp_11 = mslp[data_1:data_2,:,:]\n",
    "mslpa_11 = pressure_anom[data_1:data_2,:,:]"
   ]
  },
  {
   "cell_type": "code",
   "execution_count": 27,
   "id": "fdd87163",
   "metadata": {},
   "outputs": [],
   "source": [
    "# SON   12\n",
    "date_12_1 = 7183\n",
    "date_12_2 = 7274\n",
    "data_1 = date_12_1\n",
    "data_2 = date_12_2\n",
    "\n",
    "mslp_12 = mslp[data_1:data_2,:,:]\n",
    "mslpa_12 = pressure_anom[data_1:data_2,:,:]"
   ]
  },
  {
   "cell_type": "code",
   "execution_count": 28,
   "id": "6f20a355",
   "metadata": {},
   "outputs": [],
   "source": [
    "# SON   13\n",
    "date_13_1 = 7548\n",
    "date_13_2 = 7639\n",
    "data_1 = date_13_1\n",
    "data_2 = date_13_2\n",
    "\n",
    "mslp_13 = mslp[data_1:data_2,:,:]\n",
    "mslpa_13 = pressure_anom[data_1:data_2,:,:]"
   ]
  },
  {
   "cell_type": "code",
   "execution_count": 29,
   "id": "2d86aec9",
   "metadata": {},
   "outputs": [],
   "source": [
    "# SON   14\n",
    "date_14_1 = 7913\n",
    "date_14_2 = 8004\n",
    "data_1 = date_14_1\n",
    "data_2 = date_14_2\n",
    "\n",
    "mslp_14 = mslp[data_1:data_2,:,:]\n",
    "mslpa_14 = pressure_anom[data_1:data_2,:,:]"
   ]
  },
  {
   "cell_type": "code",
   "execution_count": 30,
   "id": "0fe55ac1",
   "metadata": {},
   "outputs": [],
   "source": [
    "# SON   15\n",
    "date_15_1 = 8278\n",
    "date_15_2 = 8369\n",
    "data_1 = date_15_1\n",
    "data_2 = date_15_2\n",
    "\n",
    "mslp_15 = mslp[data_1:data_2,:,:]\n",
    "mslpa_15 = pressure_anom[data_1:data_2,:,:]"
   ]
  },
  {
   "cell_type": "code",
   "execution_count": 31,
   "id": "b9e1e6b8",
   "metadata": {},
   "outputs": [],
   "source": [
    "# SON   16\n",
    "date_16_1 = 8644\n",
    "date_16_2 = 8735\n",
    "data_1 = date_16_1\n",
    "data_2 = date_16_2\n",
    "\n",
    "mslp_16 = mslp[data_1:data_2,:,:]\n",
    "mslpa_16 = pressure_anom[data_1:data_2,:,:]"
   ]
  },
  {
   "cell_type": "code",
   "execution_count": 32,
   "id": "e8b44ec7",
   "metadata": {},
   "outputs": [],
   "source": [
    "# SON   17\n",
    "date_17_1 = 9009\n",
    "date_17_2 = 9100\n",
    "data_1 = date_17_1\n",
    "data_2 = date_17_2\n",
    "\n",
    "mslp_17 = mslp[data_1:data_2,:,:]\n",
    "mslpa_17 = pressure_anom[data_1:data_2,:,:]"
   ]
  },
  {
   "cell_type": "code",
   "execution_count": 33,
   "id": "6015cd5d",
   "metadata": {},
   "outputs": [],
   "source": [
    "# SON   18\n",
    "date_18_1 = 9374\n",
    "date_18_2 = 9465\n",
    "data_1 = date_18_1\n",
    "data_2 = date_18_2\n",
    "\n",
    "mslp_18 = mslp[data_1:data_2,:,:]\n",
    "mslpa_18 = pressure_anom[data_1:data_2,:,:]"
   ]
  },
  {
   "cell_type": "code",
   "execution_count": 39,
   "id": "c2e88a57",
   "metadata": {},
   "outputs": [],
   "source": [
    "# SON   19\n",
    "date_19_1 = 9739\n",
    "date_19_2 = 9830\n",
    "data_1 = date_19_1\n",
    "data_2 = date_19_2\n",
    "\n",
    "mslp_19 = mslp[data_1:data_2,:,:]\n",
    "mslpa_19= pressure_anom[data_1:data_2,:,:]"
   ]
  },
  {
   "cell_type": "code",
   "execution_count": 37,
   "id": "531c46e2",
   "metadata": {},
   "outputs": [],
   "source": [
    "mslpa_93_weio = np.mean(mslpa_93[:,32:41,21:28], axis = (1,2)).reshape(-1,1)"
   ]
  },
  {
   "cell_type": "code",
   "execution_count": 40,
   "id": "db2620be",
   "metadata": {},
   "outputs": [],
   "source": [
    "mslpa_94_weio = np.mean(mslpa_94[:,32:41,21:28], axis = (0,1,2)).reshape(-1,1)\n",
    "mslpa_95_weio = np.mean(mslpa_95[:,32:41,21:28], axis = (0,1,2)).reshape(-1,1)\n",
    "mslpa_96_weio = np.mean(mslpa_96[:,32:41,21:28], axis = (0,1,2)).reshape(-1,1)\n",
    "mslpa_97_weio = np.mean(mslpa_97[:,32:41,21:28], axis = (0,1,2)).reshape(-1,1)\n",
    "mslpa_98_weio = np.mean(mslpa_98[:,32:41,21:28], axis = (0,1,2)).reshape(-1,1)\n",
    "mslpa_99_weio = np.mean(mslpa_99[:,32:41,21:28], axis = (0,1,2)).reshape(-1,1)\n",
    "mslpa_00_weio = np.mean(mslpa_00[:,32:41,21:28], axis = (0,1,2)).reshape(-1,1)\n",
    "mslpa_01_weio = np.mean(mslpa_01[:,32:41,21:28], axis = (0,1,2)).reshape(-1,1)\n",
    "mslpa_02_weio = np.mean(mslpa_02[:,32:41,21:28], axis = (0,1,2)).reshape(-1,1)\n",
    "mslpa_03_weio = np.mean(mslpa_03[:,32:41,21:28], axis = (0,1,2)).reshape(-1,1)\n",
    "mslpa_04_weio = np.mean(mslpa_04[:,32:41,21:28], axis = (0,1,2)).reshape(-1,1)\n",
    "mslpa_05_weio = np.mean(mslpa_05[:,32:41,21:28], axis = (0,1,2)).reshape(-1,1)\n",
    "mslpa_06_weio = np.mean(mslpa_06[:,32:41,21:28], axis = (0,1,2)).reshape(-1,1)\n",
    "mslpa_07_weio = np.mean(mslpa_07[:,32:41,21:28], axis = (0,1,2)).reshape(-1,1)\n",
    "mslpa_08_weio = np.mean(mslpa_08[:,32:41,21:28], axis = (0,1,2)).reshape(-1,1)\n",
    "mslpa_09_weio = np.mean(mslpa_09[:,32:41,21:28], axis = (0,1,2)).reshape(-1,1)\n",
    "mslpa_10_weio = np.mean(mslpa_10[:,32:41,21:28], axis = (0,1,2)).reshape(-1,1)\n",
    "mslpa_11_weio = np.mean(mslpa_11[:,32:41,21:28], axis = (0,1,2)).reshape(-1,1)\n",
    "mslpa_12_weio = np.mean(mslpa_12[:,32:41,21:28], axis = (0,1,2)).reshape(-1,1)\n",
    "mslpa_13_weio = np.mean(mslpa_13[:,32:41,21:28], axis = (0,1,2)).reshape(-1,1)\n",
    "mslpa_14_weio = np.mean(mslpa_14[:,32:41,21:28], axis = (0,1,2)).reshape(-1,1)\n",
    "mslpa_15_weio = np.mean(mslpa_15[:,32:41,21:28], axis = (0,1,2)).reshape(-1,1)\n",
    "mslpa_16_weio = np.mean(mslpa_16[:,32:41,21:28], axis = (0,1,2)).reshape(-1,1)\n",
    "mslpa_17_weio = np.mean(mslpa_17[:,32:41,21:28], axis = (0,1,2)).reshape(-1,1)\n",
    "mslpa_18_weio = np.mean(mslpa_18[:,32:41,21:28], axis = (0,1,2)).reshape(-1,1)\n",
    "mslpa_19_weio = np.mean(mslpa_19[:,32:41,21:28], axis = (0,1,2)).reshape(-1,1)"
   ]
  },
  {
   "cell_type": "code",
   "execution_count": 41,
   "id": "ec0222dd",
   "metadata": {},
   "outputs": [],
   "source": [
    "mslp_93_weio = np.mean(mslp_93[:,32:41,21:28], axis = (0,1,2)).reshape(-1,1)\n",
    "mslp_94_weio = np.mean(mslp_94[:,32:41,21:28], axis = (0,1,2)).reshape(-1,1)\n",
    "mslp_95_weio = np.mean(mslp_95[:,32:41,21:28], axis = (0,1,2)).reshape(-1,1)\n",
    "mslp_96_weio = np.mean(mslp_96[:,32:41,21:28], axis = (0,1,2)).reshape(-1,1)\n",
    "mslp_97_weio = np.mean(mslp_97[:,32:41,21:28], axis = (0,1,2)).reshape(-1,1)\n",
    "mslp_98_weio = np.mean(mslp_98[:,32:41,21:28], axis = (0,1,2)).reshape(-1,1)\n",
    "mslp_99_weio = np.mean(mslp_99[:,32:41,21:28], axis = (0,1,2)).reshape(-1,1)\n",
    "mslp_00_weio = np.mean(mslp_00[:,32:41,21:28], axis = (0,1,2)).reshape(-1,1)\n",
    "mslp_01_weio = np.mean(mslp_01[:,32:41,21:28], axis = (0,1,2)).reshape(-1,1)\n",
    "mslp_02_weio = np.mean(mslp_02[:,32:41,21:28], axis = (0,1,2)).reshape(-1,1)\n",
    "mslp_03_weio = np.mean(mslp_03[:,32:41,21:28], axis = (0,1,2)).reshape(-1,1)\n",
    "mslp_04_weio = np.mean(mslp_04[:,32:41,21:28], axis = (0,1,2)).reshape(-1,1)\n",
    "mslp_05_weio = np.mean(mslp_05[:,32:41,21:28], axis = (0,1,2)).reshape(-1,1)\n",
    "mslp_06_weio = np.mean(mslp_06[:,32:41,21:28], axis = (0,1,2)).reshape(-1,1)\n",
    "mslp_07_weio = np.mean(mslp_07[:,32:41,21:28], axis = (0,1,2)).reshape(-1,1)\n",
    "mslp_08_weio = np.mean(mslp_08[:,32:41,21:28], axis = (0,1,2)).reshape(-1,1)\n",
    "mslp_09_weio = np.mean(mslp_09[:,32:41,21:28], axis = (0,1,2)).reshape(-1,1)\n",
    "mslp_10_weio = np.mean(mslp_10[:,32:41,21:28], axis = (0,1,2)).reshape(-1,1)\n",
    "mslp_11_weio = np.mean(mslp_11[:,32:41,21:28], axis = (0,1,2)).reshape(-1,1)\n",
    "mslp_12_weio = np.mean(mslp_12[:,32:41,21:28], axis = (0,1,2)).reshape(-1,1)\n",
    "mslp_13_weio = np.mean(mslp_13[:,32:41,21:28], axis = (0,1,2)).reshape(-1,1)\n",
    "mslp_14_weio = np.mean(mslp_14[:,32:41,21:28], axis = (0,1,2)).reshape(-1,1)\n",
    "mslp_15_weio = np.mean(mslp_15[:,32:41,21:28], axis = (0,1,2)).reshape(-1,1)\n",
    "mslp_16_weio = np.mean(mslp_16[:,32:41,21:28], axis = (0,1,2)).reshape(-1,1)\n",
    "mslp_17_weio = np.mean(mslp_17[:,32:41,21:28], axis = (0,1,2)).reshape(-1,1)\n",
    "mslp_18_weio = np.mean(mslp_18[:,32:41,21:28], axis = (0,1,2)).reshape(-1,1)\n",
    "mslp_19_weio = np.mean(mslp_19[:,32:41,21:28], axis = (0,1,2)).reshape(-1,1)"
   ]
  },
  {
   "cell_type": "code",
   "execution_count": 42,
   "id": "92fe7f1d",
   "metadata": {},
   "outputs": [],
   "source": [
    "mslp_93_19_weio = np.concatenate((mslp_93_weio, mslp_94_weio, mslp_95_weio,mslp_96_weio,\n",
    "                                 mslp_97_weio, mslp_98_weio, mslp_99_weio, mslp_00_weio, mslp_01_weio,\n",
    "                                 mslp_02_weio, mslp_03_weio, mslp_04_weio, mslp_05_weio, mslp_06_weio,\n",
    "                                 mslp_07_weio, mslp_08_weio, mslp_09_weio,  mslp_10_weio, mslp_11_weio,\n",
    "                                 mslp_12_weio, mslp_13_weio, mslp_14_weio, mslp_15_weio, mslp_16_weio,\n",
    "                                 mslp_17_weio, mslp_18_weio, mslp_19_weio), axis = 0)"
   ]
  },
  {
   "cell_type": "code",
   "execution_count": 43,
   "id": "e4ca2422",
   "metadata": {},
   "outputs": [],
   "source": [
    "mslpa_93_19_weio = np.concatenate((mslpa_93_weio, mslpa_94_weio, mslpa_95_weio,mslpa_96_weio,\n",
    "                                 mslpa_97_weio, mslpa_98_weio, mslpa_99_weio, mslpa_00_weio, mslpa_01_weio,\n",
    "                                 mslpa_02_weio, mslpa_03_weio, mslpa_04_weio, mslpa_05_weio, mslpa_06_weio,\n",
    "                                 mslpa_07_weio, mslpa_08_weio, mslpa_09_weio,  mslpa_10_weio, mslpa_11_weio,\n",
    "                                 mslpa_12_weio, mslpa_13_weio, mslpa_14_weio, mslpa_15_weio, mslpa_16_weio,\n",
    "                                 mslpa_17_weio, mslpa_18_weio, mslpa_19_weio), axis = 0)"
   ]
  },
  {
   "cell_type": "code",
   "execution_count": null,
   "id": "be9083ed",
   "metadata": {},
   "outputs": [],
   "source": [
    "np.savez(r'D:\\heat_wave\\WEIO\\SLP_SLPA_plot_JJA', slp = mslp_93_19_weio,\n",
    "        slpa = mslpa_93_19_weio)"
   ]
  },
  {
   "cell_type": "code",
   "execution_count": null,
   "id": "303231be",
   "metadata": {},
   "outputs": [],
   "source": []
  },
  {
   "cell_type": "code",
   "execution_count": null,
   "id": "825d3761",
   "metadata": {},
   "outputs": [],
   "source": []
  },
  {
   "cell_type": "code",
   "execution_count": 35,
   "id": "857c8cc7",
   "metadata": {},
   "outputs": [],
   "source": [
    "mslp_93_19 = np.concatenate((mslp_93, mslp_94, mslp_95, mslp_96, mslp_97,\n",
    "                            mslp_98, mslp_99, mslp_00, mslp_01, mslp_02, mslp_03,\n",
    "                            mslp_04, mslp_05, mslp_06, mslp_07, mslp_08, mslp_09,\n",
    "                            mslp_10, mslp_11, mslp_12, mslp_13, mslp_14, mslp_15,\n",
    "                            mslp_16, mslp_17, mslp_18, mslp_19),axis = 0)"
   ]
  },
  {
   "cell_type": "code",
   "execution_count": 36,
   "id": "dba3c29f",
   "metadata": {},
   "outputs": [
    {
     "data": {
      "text/plain": [
       "(2457, 73, 144)"
      ]
     },
     "execution_count": 36,
     "metadata": {},
     "output_type": "execute_result"
    }
   ],
   "source": [
    "mslp_93_19.shape"
   ]
  },
  {
   "cell_type": "code",
   "execution_count": 33,
   "id": "43831366",
   "metadata": {},
   "outputs": [
    {
     "name": "stdout",
     "output_type": "stream",
     "text": [
      "(2457, 73, 144)\n",
      "(2457, 73, 144)\n",
      "-9.90080743139089e-14\n",
      "4048.220492948094\n",
      "-5720.058353752262\n"
     ]
    }
   ],
   "source": [
    "from sklearn.linear_model import LinearRegression\n",
    "from statsmodels.tsa.seasonal import seasonal_decompose\n",
    "\n",
    "nt, nlats, nlons = mslp_93_19.shape\n",
    "print(mslp_93_19.shape) #(9855, 9, 7)\n",
    "# 重塑为2D数组（time，lat*lon）\n",
    "mslp2_2d = mslp_93_19.reshape(nt, nlats*nlons)\n",
    "\n",
    "decomposition = seasonal_decompose(mslp2_2d, model='additive', period=12)\n",
    "\n",
    "trend = decomposition.trend\n",
    "for i in range(nlats*nlons):\n",
    "    model = LinearRegression().fit(np.arange(nt).reshape(-1, 1), decomposition.observed[:, i])\n",
    "    trend[:, i] = model.predict(np.arange(nt).reshape(-1, 1))\n",
    "mslp_detrended = decomposition.observed - trend\n",
    "\n",
    "# 重塑为3D数组（time，lat，lon）\n",
    "mslp_detrended = mslp_detrended.reshape(nt, nlats, nlons)\n",
    "\n",
    "mslp_detrended = mslp_detrended.reshape(-1,73,144)\n",
    "print(mslp_detrended.shape)\n",
    "\n",
    "\n",
    "print(np.mean(mslp_detrended))\n",
    "print(np.max(mslp_detrended))\n",
    "print(np.min(mslp_detrended))"
   ]
  },
  {
   "cell_type": "code",
   "execution_count": 34,
   "id": "69b5bae1",
   "metadata": {},
   "outputs": [
    {
     "data": {
      "text/plain": [
       "(2457, 73, 144)"
      ]
     },
     "execution_count": 34,
     "metadata": {},
     "output_type": "execute_result"
    }
   ],
   "source": [
    "mslp_detrended.shape"
   ]
  },
  {
   "cell_type": "code",
   "execution_count": 48,
   "id": "e5538374",
   "metadata": {},
   "outputs": [],
   "source": [
    "mslp_detrended1 = np.mean(mslp_detrended, axis = 0)"
   ]
  },
  {
   "cell_type": "code",
   "execution_count": 49,
   "id": "4a17031e",
   "metadata": {},
   "outputs": [
    {
     "data": {
      "text/plain": [
       "array([[-1.83427503e-12, -1.83427503e-12, -1.83427503e-12, ...,\n",
       "        -1.83427503e-12, -1.83427503e-12, -1.83427503e-12],\n",
       "       [-5.11850079e-12, -8.46678061e-12, -6.17248105e-12, ...,\n",
       "        -3.49385720e-12, -6.76643677e-12, -1.19955764e-12],\n",
       "       [ 7.88447108e-12,  1.00448394e-11,  1.05339795e-11, ...,\n",
       "         7.45356202e-13,  3.46474172e-12,  7.86117869e-12],\n",
       "       ...,\n",
       "       [ 3.33081053e-12, -3.17941005e-12, -2.06719884e-12, ...,\n",
       "         5.14179318e-12, -7.92523274e-12, -8.35614180e-12],\n",
       "       [ 4.00046649e-12,  7.98346370e-12, -4.90304627e-12, ...,\n",
       "         6.03854986e-12, -6.32970462e-12, -2.02643717e-12],\n",
       "       [-1.24264854e-11, -1.24264854e-11, -1.24264854e-11, ...,\n",
       "        -1.24264854e-11, -1.24264854e-11, -1.24264854e-11]])"
      ]
     },
     "execution_count": 49,
     "metadata": {},
     "output_type": "execute_result"
    }
   ],
   "source": [
    "mslp_detrended1"
   ]
  },
  {
   "cell_type": "code",
   "execution_count": 35,
   "id": "216dbc32",
   "metadata": {},
   "outputs": [],
   "source": [
    "np.savez(r'D:\\heat_wave\\SLP_SLPA_SON_all_area.npz',sea_level_press = mslp_93_19, \n",
    "         sea_level_press_anom = mslp_detrended)"
   ]
  },
  {
   "cell_type": "code",
   "execution_count": 52,
   "id": "671c8523",
   "metadata": {},
   "outputs": [
    {
     "data": {
      "text/plain": [
       "(2499, 73, 144)"
      ]
     },
     "execution_count": 52,
     "metadata": {},
     "output_type": "execute_result"
    }
   ],
   "source": [
    "mslp_93_19.shape"
   ]
  },
  {
   "cell_type": "code",
   "execution_count": 36,
   "id": "5176c31e",
   "metadata": {},
   "outputs": [],
   "source": [
    "mslp_weio_93_19 = mslp_93_19[:,32:41,21:28]"
   ]
  },
  {
   "cell_type": "code",
   "execution_count": 37,
   "id": "7f8c6b3d",
   "metadata": {},
   "outputs": [
    {
     "data": {
      "text/plain": [
       "(2457, 9, 7)"
      ]
     },
     "execution_count": 37,
     "metadata": {},
     "output_type": "execute_result"
    }
   ],
   "source": [
    "mslp_weio_93_19.shape"
   ]
  },
  {
   "cell_type": "code",
   "execution_count": 38,
   "id": "70975295",
   "metadata": {},
   "outputs": [],
   "source": [
    "mslp_weio_93_19_mean = np.mean(mslp_weio_93_19, axis = (1,2))"
   ]
  },
  {
   "cell_type": "code",
   "execution_count": null,
   "id": "244e2d0c",
   "metadata": {},
   "outputs": [],
   "source": []
  },
  {
   "cell_type": "code",
   "execution_count": 39,
   "id": "8ba0a179",
   "metadata": {},
   "outputs": [],
   "source": [
    "mslp_detrended_weio = mslp_detrended[:,32:41,21:28]"
   ]
  },
  {
   "cell_type": "code",
   "execution_count": 58,
   "id": "4c1d76b2",
   "metadata": {},
   "outputs": [],
   "source": [
    "mslp_detrended_weio_93_19_mean = np.mean(mslp_detrended_weio, axis = (1,2))"
   ]
  },
  {
   "cell_type": "code",
   "execution_count": null,
   "id": "57bba50f",
   "metadata": {},
   "outputs": [],
   "source": []
  },
  {
   "cell_type": "code",
   "execution_count": null,
   "id": "126cd6dc",
   "metadata": {},
   "outputs": [],
   "source": []
  },
  {
   "cell_type": "code",
   "execution_count": 40,
   "id": "ba1d2883",
   "metadata": {},
   "outputs": [],
   "source": [
    "mslp_pacific_93_19 = mslp_93_19[:,34:39,76:97]"
   ]
  },
  {
   "cell_type": "code",
   "execution_count": 41,
   "id": "a2939f33",
   "metadata": {},
   "outputs": [],
   "source": [
    "mslp_detrended_pacific = mslp_detrended[:,34:39,76:97]"
   ]
  },
  {
   "cell_type": "code",
   "execution_count": 65,
   "id": "cf2d99af",
   "metadata": {},
   "outputs": [],
   "source": [
    "np.savez(r'D:\\heat_wave\\pacific\\SLP_SLPA_JJA_pacific_area.npz',sea_level_press = mslp_pacific_93_19, \n",
    "         sea_level_press_anom = mslp_detrended_pacific)"
   ]
  },
  {
   "cell_type": "code",
   "execution_count": null,
   "id": "e030fdca",
   "metadata": {},
   "outputs": [],
   "source": []
  },
  {
   "cell_type": "code",
   "execution_count": null,
   "id": "58d8e243",
   "metadata": {},
   "outputs": [],
   "source": []
  },
  {
   "cell_type": "code",
   "execution_count": 62,
   "id": "fe6061be",
   "metadata": {},
   "outputs": [],
   "source": [
    "np.savez(r'D:\\heat_wave\\WEIO\\SLP_SLPA_JJA_WEIO_area.npz',sea_level_press = mslp_weio_93_19, \n",
    "         sea_level_press_anom = mslp_detrended_weio)"
   ]
  },
  {
   "cell_type": "code",
   "execution_count": null,
   "id": "24d70e9e",
   "metadata": {},
   "outputs": [],
   "source": []
  },
  {
   "cell_type": "code",
   "execution_count": null,
   "id": "ea445d23",
   "metadata": {},
   "outputs": [],
   "source": []
  },
  {
   "cell_type": "code",
   "execution_count": 66,
   "id": "3a367c2f",
   "metadata": {},
   "outputs": [],
   "source": [
    "mslp_atlantic_93_19 = mslp_93_19[:,32:41,130:139]"
   ]
  },
  {
   "cell_type": "code",
   "execution_count": 67,
   "id": "c9f2d1b7",
   "metadata": {},
   "outputs": [],
   "source": [
    "mslp_detrended_atlantic = mslp_detrended[:,32:41,130:139]"
   ]
  },
  {
   "cell_type": "code",
   "execution_count": 68,
   "id": "6edfc733",
   "metadata": {},
   "outputs": [],
   "source": [
    "np.savez(r'D:\\heat_wave\\atlantic\\SLP_SLPA_JJA_atlantic_area.npz',sea_level_press = mslp_atlantic_93_19, \n",
    "         sea_level_press_anom = mslp_detrended_atlantic)"
   ]
  },
  {
   "cell_type": "code",
   "execution_count": null,
   "id": "3f8e01b6",
   "metadata": {},
   "outputs": [],
   "source": []
  }
 ],
 "metadata": {
  "kernelspec": {
   "display_name": "Python 3 (ipykernel)",
   "language": "python",
   "name": "python3"
  },
  "language_info": {
   "codemirror_mode": {
    "name": "ipython",
    "version": 3
   },
   "file_extension": ".py",
   "mimetype": "text/x-python",
   "name": "python",
   "nbconvert_exporter": "python",
   "pygments_lexer": "ipython3",
   "version": "3.8.12"
  }
 },
 "nbformat": 4,
 "nbformat_minor": 5
}

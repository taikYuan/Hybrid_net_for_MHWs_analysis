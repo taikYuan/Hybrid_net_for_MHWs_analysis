{
 "cells": [
  {
   "cell_type": "code",
   "execution_count": 1,
   "id": "60f6f3f0",
   "metadata": {},
   "outputs": [],
   "source": [
    "import numpy as np \n",
    "import matplotlib.pyplot as plt"
   ]
  },
  {
   "cell_type": "code",
   "execution_count": 2,
   "id": "b4b9c0aa",
   "metadata": {},
   "outputs": [
    {
     "data": {
      "text/plain": [
       "['wind_stress_JJA',\n",
       " 'surface_type_JJA',\n",
       " 'eastward_wind_JJA',\n",
       " 'wind_stress_curl_JJA',\n",
       " 'northward_wind_JJA',\n",
       " 'wind_speed_rms_JJA',\n",
       " 'sampling_length_JJA',\n",
       " 'eastward_wind_rms_JJA',\n",
       " 'northward_wind_rms_JJA',\n",
       " 'wind_stress_divergence_JJA',\n",
       " 'wind_vector_divergence_JJA',\n",
       " 'surface_downward_eastward_stress_JJA',\n",
       " 'surface_downward_northward_stress_JJA']"
      ]
     },
     "execution_count": 2,
     "metadata": {},
     "output_type": "execute_result"
    }
   ],
   "source": [
    "data_jja = np.load(r'D:\\heat_wave\\WEIO\\expand_WEIO\\other_variables\\last\\wind_93_19_WEIO_area_JJA.npz')\n",
    "data_jja.files"
   ]
  },
  {
   "cell_type": "code",
   "execution_count": 3,
   "id": "348a77c0",
   "metadata": {},
   "outputs": [
    {
     "data": {
      "text/plain": [
       "(2478, 64, 48)"
      ]
     },
     "execution_count": 3,
     "metadata": {},
     "output_type": "execute_result"
    }
   ],
   "source": [
    "northward_wind_JJA = data_jja['northward_wind_JJA'][:]\n",
    "northward_wind_JJA.shape"
   ]
  },
  {
   "cell_type": "code",
   "execution_count": 4,
   "id": "9697eb6b",
   "metadata": {},
   "outputs": [
    {
     "data": {
      "text/plain": [
       "(2478, 64, 48)"
      ]
     },
     "execution_count": 4,
     "metadata": {},
     "output_type": "execute_result"
    }
   ],
   "source": [
    "eastward_wind_JJA = data_jja['eastward_wind_JJA'][:]\n",
    "eastward_wind_JJA.shape"
   ]
  },
  {
   "cell_type": "code",
   "execution_count": 5,
   "id": "b043100b",
   "metadata": {},
   "outputs": [
    {
     "data": {
      "text/plain": [
       "(2478, 64, 48)"
      ]
     },
     "execution_count": 5,
     "metadata": {},
     "output_type": "execute_result"
    }
   ],
   "source": [
    "surface_downward_eastward_stress_JJA = data_jja['surface_downward_eastward_stress_JJA'][:]\n",
    "surface_downward_eastward_stress_JJA.shape"
   ]
  },
  {
   "cell_type": "code",
   "execution_count": 6,
   "id": "52b3dcd2",
   "metadata": {},
   "outputs": [
    {
     "data": {
      "text/plain": [
       "(2478, 64, 48)"
      ]
     },
     "execution_count": 6,
     "metadata": {},
     "output_type": "execute_result"
    }
   ],
   "source": [
    "surface_downward_northward_stress_JJA = data_jja['surface_downward_northward_stress_JJA'][:]\n",
    "surface_downward_northward_stress_JJA.shape"
   ]
  },
  {
   "cell_type": "code",
   "execution_count": 7,
   "id": "65078e3e",
   "metadata": {},
   "outputs": [
    {
     "data": {
      "text/plain": [
       "['wind_stress_SON',\n",
       " 'surface_type_SON',\n",
       " 'eastward_wind_SON',\n",
       " 'wind_stress_curl_SON',\n",
       " 'northward_wind_SON',\n",
       " 'wind_speed_rms_SON',\n",
       " 'sampling_length_SON',\n",
       " 'eastward_wind_rms_SON',\n",
       " 'northward_wind_rms_SON',\n",
       " 'surface_downward_eastward_stress_SON',\n",
       " 'surface_downward_northward_stress_SON']"
      ]
     },
     "execution_count": 7,
     "metadata": {},
     "output_type": "execute_result"
    }
   ],
   "source": [
    "data_son = np.load(r'D:\\heat_wave\\WEIO\\expand_WEIO\\other_variables\\last\\wind_93_19_WEIO_area_SON.npz')\n",
    "data_son.files"
   ]
  },
  {
   "cell_type": "code",
   "execution_count": 8,
   "id": "4e2143d9",
   "metadata": {},
   "outputs": [
    {
     "data": {
      "text/plain": [
       "(2431, 64, 48)"
      ]
     },
     "execution_count": 8,
     "metadata": {},
     "output_type": "execute_result"
    }
   ],
   "source": [
    "northward_wind_SON = data_son['northward_wind_SON'][:]\n",
    "northward_wind_SON.shape"
   ]
  },
  {
   "cell_type": "code",
   "execution_count": 9,
   "id": "e0043ad1",
   "metadata": {},
   "outputs": [
    {
     "data": {
      "text/plain": [
       "(2431, 64, 48)"
      ]
     },
     "execution_count": 9,
     "metadata": {},
     "output_type": "execute_result"
    }
   ],
   "source": [
    "eastward_wind_SON = data_son['eastward_wind_SON'][:]\n",
    "eastward_wind_SON.shape"
   ]
  },
  {
   "cell_type": "code",
   "execution_count": 10,
   "id": "6dd086e6",
   "metadata": {},
   "outputs": [
    {
     "data": {
      "text/plain": [
       "(2431, 64, 48)"
      ]
     },
     "execution_count": 10,
     "metadata": {},
     "output_type": "execute_result"
    }
   ],
   "source": [
    "surface_downward_eastward_stress_SON = data_son['surface_downward_eastward_stress_SON'][:]\n",
    "surface_downward_eastward_stress_SON.shape"
   ]
  },
  {
   "cell_type": "code",
   "execution_count": 11,
   "id": "efda5a39",
   "metadata": {},
   "outputs": [
    {
     "data": {
      "text/plain": [
       "(2431, 64, 48)"
      ]
     },
     "execution_count": 11,
     "metadata": {},
     "output_type": "execute_result"
    }
   ],
   "source": [
    "surface_downward_northward_stress_SON = data_son['surface_downward_northward_stress_SON'][:]\n",
    "surface_downward_northward_stress_SON.shape"
   ]
  },
  {
   "cell_type": "code",
   "execution_count": 12,
   "id": "3b69aa52",
   "metadata": {},
   "outputs": [
    {
     "data": {
      "text/plain": [
       "['wind_stress_MAM',\n",
       " 'surface_type_MAM',\n",
       " 'eastward_wind_MAM',\n",
       " 'wind_stress_curl_MAM',\n",
       " 'northward_wind_MAM',\n",
       " 'wind_speed_rms_MAM',\n",
       " 'sampling_length_MAM',\n",
       " 'eastward_wind_rms_MAM',\n",
       " 'northward_wind_rms_MAM',\n",
       " 'surface_downward_eastward_stress_MAM',\n",
       " 'surface_downward_northward_stress_MAM']"
      ]
     },
     "execution_count": 12,
     "metadata": {},
     "output_type": "execute_result"
    }
   ],
   "source": [
    "data_mam = np.load(r'D:\\heat_wave\\WEIO\\expand_WEIO\\other_variables\\last\\wind_93_19_WEIO_area_MAM.npz')\n",
    "data_mam.files"
   ]
  },
  {
   "cell_type": "code",
   "execution_count": 13,
   "id": "5981fab1",
   "metadata": {},
   "outputs": [
    {
     "data": {
      "text/plain": [
       "(2478, 64, 48)"
      ]
     },
     "execution_count": 13,
     "metadata": {},
     "output_type": "execute_result"
    }
   ],
   "source": [
    "northward_wind_MAM = data_mam['northward_wind_MAM'][:]\n",
    "northward_wind_MAM.shape"
   ]
  },
  {
   "cell_type": "code",
   "execution_count": 14,
   "id": "734f3df8",
   "metadata": {},
   "outputs": [
    {
     "data": {
      "text/plain": [
       "(2478, 64, 48)"
      ]
     },
     "execution_count": 14,
     "metadata": {},
     "output_type": "execute_result"
    }
   ],
   "source": [
    "eastward_wind_MAM = data_mam['eastward_wind_MAM'][:]\n",
    "eastward_wind_MAM.shape"
   ]
  },
  {
   "cell_type": "code",
   "execution_count": 15,
   "id": "7bebdd7c",
   "metadata": {},
   "outputs": [
    {
     "data": {
      "text/plain": [
       "(2478, 64, 48)"
      ]
     },
     "execution_count": 15,
     "metadata": {},
     "output_type": "execute_result"
    }
   ],
   "source": [
    "surface_downward_eastward_stress_MAM = data_mam['surface_downward_eastward_stress_MAM'][:]\n",
    "surface_downward_eastward_stress_MAM.shape"
   ]
  },
  {
   "cell_type": "code",
   "execution_count": 16,
   "id": "0bbedac6",
   "metadata": {},
   "outputs": [
    {
     "data": {
      "text/plain": [
       "(2478, 64, 48)"
      ]
     },
     "execution_count": 16,
     "metadata": {},
     "output_type": "execute_result"
    }
   ],
   "source": [
    "surface_downward_northward_stress_MAM = data_mam['surface_downward_northward_stress_MAM'][:]\n",
    "surface_downward_northward_stress_MAM.shape"
   ]
  },
  {
   "cell_type": "code",
   "execution_count": 17,
   "id": "fb6b2c36",
   "metadata": {},
   "outputs": [
    {
     "data": {
      "text/plain": [
       "['wind_stress_DJF',\n",
       " 'surface_type_DJF',\n",
       " 'eastward_wind_DJF',\n",
       " 'wind_stress_curl_DJF',\n",
       " 'northward_wind_DJF',\n",
       " 'wind_speed_rms_DJF',\n",
       " 'sampling_length_DJF',\n",
       " 'eastward_wind_rms_DJF',\n",
       " 'northward_wind_rms_DJF',\n",
       " 'surface_downward_eastward_stress_DJF',\n",
       " 'surface_downward_northward_stress_DJF']"
      ]
     },
     "execution_count": 17,
     "metadata": {},
     "output_type": "execute_result"
    }
   ],
   "source": [
    "data_djf = np.load(r'D:\\heat_wave\\WEIO\\expand_WEIO\\other_variables\\last\\wind_93_19_WEIO_area_DJF.npz')\n",
    "data_djf.files"
   ]
  },
  {
   "cell_type": "code",
   "execution_count": 18,
   "id": "7b6757b5",
   "metadata": {},
   "outputs": [
    {
     "data": {
      "text/plain": [
       "(2405, 64, 48)"
      ]
     },
     "execution_count": 18,
     "metadata": {},
     "output_type": "execute_result"
    }
   ],
   "source": [
    "eastward_wind_DJF = data_djf['eastward_wind_DJF'][:]\n",
    "eastward_wind_DJF.shape"
   ]
  },
  {
   "cell_type": "code",
   "execution_count": 19,
   "id": "9ca3205f",
   "metadata": {},
   "outputs": [
    {
     "data": {
      "text/plain": [
       "(2405, 64, 48)"
      ]
     },
     "execution_count": 19,
     "metadata": {},
     "output_type": "execute_result"
    }
   ],
   "source": [
    "northward_wind_DJF = data_djf['northward_wind_DJF'][:]\n",
    "northward_wind_DJF.shape"
   ]
  },
  {
   "cell_type": "code",
   "execution_count": 20,
   "id": "fc6f3e6e",
   "metadata": {},
   "outputs": [
    {
     "data": {
      "text/plain": [
       "(2405, 64, 48)"
      ]
     },
     "execution_count": 20,
     "metadata": {},
     "output_type": "execute_result"
    }
   ],
   "source": [
    "surface_downward_eastward_stress_DJF = data_djf['surface_downward_eastward_stress_DJF'][:]\n",
    "surface_downward_eastward_stress_DJF.shape"
   ]
  },
  {
   "cell_type": "code",
   "execution_count": 21,
   "id": "66a541e7",
   "metadata": {},
   "outputs": [
    {
     "data": {
      "text/plain": [
       "(2405, 64, 48)"
      ]
     },
     "execution_count": 21,
     "metadata": {},
     "output_type": "execute_result"
    }
   ],
   "source": [
    "surface_downward_northward_stress_DJF = data_djf['surface_downward_northward_stress_DJF'][:]\n",
    "surface_downward_northward_stress_DJF.shape"
   ]
  },
  {
   "cell_type": "code",
   "execution_count": 22,
   "id": "afc60da2",
   "metadata": {},
   "outputs": [],
   "source": [
    "# 去除MHW的风"
   ]
  },
  {
   "cell_type": "code",
   "execution_count": 23,
   "id": "c64e4f25",
   "metadata": {},
   "outputs": [],
   "source": [
    "northward_wind_JJA_mean = np.mean((northward_wind_JJA), axis = (1,2))\n",
    "eastward_wind_JJA_mean = np.mean((eastward_wind_JJA), axis = (1,2))"
   ]
  },
  {
   "cell_type": "code",
   "execution_count": 24,
   "id": "edf843db",
   "metadata": {},
   "outputs": [],
   "source": [
    "northward_wind_JJA_mean_93 = np.mean(northward_wind_JJA_mean[:92]).reshape(-1,1)\n",
    "northward_wind_JJA_mean_94 = np.mean(northward_wind_JJA_mean[92:184]).reshape(-1,1)\n",
    "northward_wind_JJA_mean_95 = np.mean(northward_wind_JJA_mean[184:276]).reshape(-1,1)\n",
    "northward_wind_JJA_mean_96 = np.mean(northward_wind_JJA_mean[276:368]).reshape(-1,1)\n",
    "northward_wind_JJA_mean_97 = np.mean(northward_wind_JJA_mean[276:368]).reshape(-1,1)\n",
    "northward_wind_JJA_mean_98_1 = northward_wind_JJA_mean[368:371].reshape(-1,1)\n",
    "northward_wind_JJA_mean_98_2 = northward_wind_JJA_mean[377:460].reshape(-1,1)\n",
    "northward_wind_JJA_mean_98 = np.mean(np.concatenate((northward_wind_JJA_mean_98_1, northward_wind_JJA_mean_98_2), axis = 0)).reshape(-1,1)\n",
    "northward_wind_JJA_mean_99 = np.mean(northward_wind_JJA_mean[552:644]).reshape(-1,1)\n",
    "northward_wind_JJA_mean_00 = np.mean(northward_wind_JJA_mean[644:736]).reshape(-1,1)\n",
    "northward_wind_JJA_mean_01 = np.mean(northward_wind_JJA_mean[736:828]).reshape(-1,1)\n",
    "northward_wind_JJA_mean_02 = np.mean(northward_wind_JJA_mean[828:920]).reshape(-1,1)\n",
    "northward_wind_JJA_mean_03 = np.mean(northward_wind_JJA_mean[920:1012]).reshape(-1,1)\n",
    "northward_wind_JJA_mean_04 = np.mean(northward_wind_JJA_mean[1012:1104]).reshape(-1,1)\n",
    "northward_wind_JJA_mean_05 = np.mean(northward_wind_JJA_mean[1104:1196]).reshape(-1,1)\n",
    "northward_wind_JJA_mean_06_1 = northward_wind_JJA_mean[1196:1282].reshape(-1,1)\n",
    "northward_wind_JJA_mean_06_2 = northward_wind_JJA_mean[1287:1288].reshape(-1,1)\n",
    "northward_wind_JJA_mean_06 = np.mean(np.concatenate((northward_wind_JJA_mean_06_1, northward_wind_JJA_mean_06_2), axis = 0)).reshape(-1,1)\n",
    "northward_wind_JJA_mean_07_1 = northward_wind_JJA_mean[1288:1297].reshape(-1,1)\n",
    "northward_wind_JJA_mean_07_2 = northward_wind_JJA_mean[1306:1380].reshape(-1,1)\n",
    "northward_wind_JJA_mean_07 = np.mean(np.concatenate((northward_wind_JJA_mean_07_1, northward_wind_JJA_mean_07_2), axis = 0)).reshape(-1,1)\n",
    "northward_wind_JJA_mean_08 = np.mean(northward_wind_JJA_mean[1380:1472]).reshape(-1,1)\n",
    "northward_wind_JJA_mean_09 = np.mean(northward_wind_JJA_mean[1472:1564]).reshape(-1,1)\n",
    "northward_wind_JJA_mean_10_1 = northward_wind_JJA_mean[1564:1604].reshape(-1,1)\n",
    "northward_wind_JJA_mean_10_2 = northward_wind_JJA_mean[1612:1656].reshape(-1,1)\n",
    "northward_wind_JJA_mean_10 = np.mean(np.concatenate((northward_wind_JJA_mean_10_1, northward_wind_JJA_mean_10_2), axis = 0)).reshape(-1,1)\n",
    "northward_wind_JJA_mean_11 = np.mean(northward_wind_JJA_mean[1656:1748]).reshape(-1,1)\n",
    "northward_wind_JJA_mean_12_1 = northward_wind_JJA_mean[1748:1807].reshape(-1,1)\n",
    "northward_wind_JJA_mean_12_2 = northward_wind_JJA_mean[1820:1840].reshape(-1,1)\n",
    "northward_wind_JJA_mean_12 = np.mean(np.concatenate((northward_wind_JJA_mean_12_1, northward_wind_JJA_mean_12_2), axis = 0)).reshape(-1,1)\n",
    "northward_wind_JJA_mean_13 = np.mean(northward_wind_JJA_mean[1840:1932]).reshape(-1,1)\n",
    "northward_wind_JJA_mean_14 = np.mean(northward_wind_JJA_mean[1932:2024]).reshape(-1,1)\n",
    "northward_wind_JJA_mean_15_1 = northward_wind_JJA_mean[2032:2054].reshape(-1,1)\n",
    "northward_wind_JJA_mean_15_2 = northward_wind_JJA_mean[2061:2081].reshape(-1,1)\n",
    "northward_wind_JJA_mean_15 = np.mean(np.concatenate((northward_wind_JJA_mean_15_1, northward_wind_JJA_mean_15_2), axis = 0)).reshape(-1,1)\n",
    "northward_wind_JJA_mean_16 = np.mean(northward_wind_JJA_mean[2116:2208]).reshape(-1,1)\n",
    "northward_wind_JJA_mean_17_1 = northward_wind_JJA_mean[2208:2251].reshape(-1,1)\n",
    "northward_wind_JJA_mean_17_2 = northward_wind_JJA_mean[2257:2264].reshape(-1,1)\n",
    "northward_wind_JJA_mean_17 = np.mean(np.concatenate((northward_wind_JJA_mean_17_1, northward_wind_JJA_mean_17_2), axis = 0)).reshape(-1,1)\n",
    "northward_wind_JJA_mean_18 = np.mean(northward_wind_JJA_mean[2300:2389]).reshape(-1,1)\n",
    "northward_wind_JJA_mean_19_1 = northward_wind_JJA_mean[2407:2448].reshape(-1,1)\n",
    "northward_wind_JJA_mean_19_2 = northward_wind_JJA_mean[2459:2469].reshape(-1,1)\n",
    "northward_wind_JJA_mean_19_3 = northward_wind_JJA_mean[2475:].reshape(-1,1)\n",
    "northward_wind_JJA_mean_19 = np.mean(np.concatenate((northward_wind_JJA_mean_19_1, northward_wind_JJA_mean_19_2, northward_wind_JJA_mean_19_3), axis = 0)).reshape(-1,1)\n"
   ]
  },
  {
   "cell_type": "code",
   "execution_count": 27,
   "id": "081f6848",
   "metadata": {},
   "outputs": [],
   "source": [
    "eastward_wind_JJA_mean_93 = np.mean(eastward_wind_JJA_mean[:92]).reshape(-1,1)\n",
    "eastward_wind_JJA_mean_94 = np.mean(eastward_wind_JJA_mean[92:184]).reshape(-1,1)\n",
    "eastward_wind_JJA_mean_95 = np.mean(eastward_wind_JJA_mean[184:276]).reshape(-1,1)\n",
    "eastward_wind_JJA_mean_96 = np.mean(eastward_wind_JJA_mean[276:368]).reshape(-1,1)\n",
    "eastward_wind_JJA_mean_97 = np.mean(eastward_wind_JJA_mean[276:368]).reshape(-1,1)\n",
    "eastward_wind_JJA_mean_98_1 = eastward_wind_JJA_mean[368:371].reshape(-1,1)\n",
    "eastward_wind_JJA_mean_98_2 = eastward_wind_JJA_mean[377:460].reshape(-1,1)\n",
    "eastward_wind_JJA_mean_98 = np.mean(np.concatenate((eastward_wind_JJA_mean_98_1, eastward_wind_JJA_mean_98_2), axis = 0)).reshape(-1,1)\n",
    "eastward_wind_JJA_mean_99 = np.mean(eastward_wind_JJA_mean[552:644]).reshape(-1,1)\n",
    "eastward_wind_JJA_mean_00 = np.mean(eastward_wind_JJA_mean[644:736]).reshape(-1,1)\n",
    "eastward_wind_JJA_mean_01 = np.mean(eastward_wind_JJA_mean[736:828]).reshape(-1,1)\n",
    "eastward_wind_JJA_mean_02 = np.mean(eastward_wind_JJA_mean[828:920]).reshape(-1,1)\n",
    "eastward_wind_JJA_mean_03 = np.mean(eastward_wind_JJA_mean[920:1012]).reshape(-1,1)\n",
    "eastward_wind_JJA_mean_04 = np.mean(eastward_wind_JJA_mean[1012:1104]).reshape(-1,1)\n",
    "eastward_wind_JJA_mean_05 = np.mean(eastward_wind_JJA_mean[1104:1196]).reshape(-1,1)\n",
    "eastward_wind_JJA_mean_06_1 = eastward_wind_JJA_mean[1196:1282].reshape(-1,1)\n",
    "eastward_wind_JJA_mean_06_2 = eastward_wind_JJA_mean[1287:1288].reshape(-1,1)\n",
    "eastward_wind_JJA_mean_06 = np.mean(np.concatenate((eastward_wind_JJA_mean_06_1, eastward_wind_JJA_mean_06_2), axis = 0)).reshape(-1,1)\n",
    "eastward_wind_JJA_mean_07_1 = northward_wind_JJA_mean[1288:1297].reshape(-1,1)\n",
    "eastward_wind_JJA_mean_07_2 = northward_wind_JJA_mean[1306:1380].reshape(-1,1)\n",
    "eastward_wind_JJA_mean_07 = np.mean(np.concatenate((eastward_wind_JJA_mean_07_1, eastward_wind_JJA_mean_07_2), axis = 0)).reshape(-1,1)\n",
    "eastward_wind_JJA_mean_08 = np.mean(eastward_wind_JJA_mean[1380:1472]).reshape(-1,1)\n",
    "eastward_wind_JJA_mean_09 = np.mean(eastward_wind_JJA_mean[1472:1564]).reshape(-1,1)\n",
    "eastward_wind_JJA_mean_10_1 = eastward_wind_JJA_mean[1564:1604].reshape(-1,1)\n",
    "eastward_wind_JJA_mean_10_2 = eastward_wind_JJA_mean[1612:1656].reshape(-1,1)\n",
    "eastward_wind_JJA_mean_10 = np.mean(np.concatenate((eastward_wind_JJA_mean_10_1, eastward_wind_JJA_mean_10_2), axis = 0)).reshape(-1,1)\n",
    "eastward_wind_JJA_mean_11 = np.mean(eastward_wind_JJA_mean[1656:1748]).reshape(-1,1)\n",
    "eastward_wind_JJA_mean_12_1 = eastward_wind_JJA_mean[1748:1807].reshape(-1,1)\n",
    "eastward_wind_JJA_mean_12_2 = eastward_wind_JJA_mean[1820:1840].reshape(-1,1)\n",
    "eastward_wind_JJA_mean_12 = np.mean(np.concatenate((eastward_wind_JJA_mean_12_1, eastward_wind_JJA_mean_12_2), axis = 0)).reshape(-1,1)\n",
    "eastward_wind_JJA_mean_13 = np.mean(eastward_wind_JJA_mean[1840:1932]).reshape(-1,1)\n",
    "eastward_wind_JJA_mean_14 = np.mean(eastward_wind_JJA_mean[1932:2024]).reshape(-1,1)\n",
    "eastward_wind_JJA_mean_15_1 = eastward_wind_JJA_mean[2032:2054].reshape(-1,1)\n",
    "eastward_wind_JJA_mean_15_2 = eastward_wind_JJA_mean[2061:2081].reshape(-1,1)\n",
    "eastward_wind_JJA_mean_15 = np.mean(np.concatenate((eastward_wind_JJA_mean_15_1, eastward_wind_JJA_mean_15_2), axis = 0)).reshape(-1,1)\n",
    "eastward_wind_JJA_mean_16 = np.mean(eastward_wind_JJA_mean[2116:2208]).reshape(-1,1)\n",
    "eastward_wind_JJA_mean_17_1 = eastward_wind_JJA_mean[2208:2251].reshape(-1,1)\n",
    "eastward_wind_JJA_mean_17_2 = eastward_wind_JJA_mean[2257:2264].reshape(-1,1)\n",
    "eastward_wind_JJA_mean_17 = np.mean(np.concatenate((eastward_wind_JJA_mean_17_1, eastward_wind_JJA_mean_17_2), axis = 0)).reshape(-1,1)\n",
    "eastward_wind_JJA_mean_18 = np.mean(northward_wind_JJA_mean[2300:2389]).reshape(-1,1)\n",
    "eastward_wind_JJA_mean_19_1 = eastward_wind_JJA_mean[2407:2448].reshape(-1,1)\n",
    "eastward_wind_JJA_mean_19_2 = eastward_wind_JJA_mean[2459:2469].reshape(-1,1)\n",
    "eastward_wind_JJA_mean_19_3 = eastward_wind_JJA_mean[2475:].reshape(-1,1)\n",
    "eastward_wind_JJA_mean_19 = np.mean(np.concatenate((eastward_wind_JJA_mean_19_1, eastward_wind_JJA_mean_19_2, eastward_wind_JJA_mean_19_3), axis = 0)).reshape(-1,1)"
   ]
  },
  {
   "cell_type": "code",
   "execution_count": 29,
   "id": "050797d6",
   "metadata": {},
   "outputs": [],
   "source": [
    "surface_downward_eastward_stress_JJA_93 = np.mean(surface_downward_eastward_stress_JJA[:92]).reshape(-1,1)\n",
    "surface_downward_eastward_stress_JJA_94 = np.mean(surface_downward_eastward_stress_JJA[92:184]).reshape(-1,1)\n",
    "surface_downward_eastward_stress_JJA_95 = np.mean(surface_downward_eastward_stress_JJA[184:276]).reshape(-1,1)\n",
    "surface_downward_eastward_stress_JJA_96 = np.mean(surface_downward_eastward_stress_JJA[276:368]).reshape(-1,1)\n",
    "surface_downward_eastward_stress_JJA_97 = np.mean(surface_downward_eastward_stress_JJA[276:368]).reshape(-1,1)\n",
    "surface_downward_eastward_stress_JJA_98_1 = surface_downward_eastward_stress_JJA[368:371].reshape(-1,1)\n",
    "surface_downward_eastward_stress_JJA_98_2 = surface_downward_eastward_stress_JJA[377:460].reshape(-1,1)\n",
    "surface_downward_eastward_stress_JJA_98 = np.mean(np.concatenate((surface_downward_eastward_stress_JJA_98_1, surface_downward_eastward_stress_JJA_98_2), axis = 0)).reshape(-1,1)\n",
    "surface_downward_eastward_stress_JJA_99 = np.mean(surface_downward_eastward_stress_JJA[552:644]).reshape(-1,1)\n",
    "surface_downward_eastward_stress_JJA_00 = np.mean(surface_downward_eastward_stress_JJA[644:736]).reshape(-1,1)\n",
    "surface_downward_eastward_stress_JJA_01 = np.mean(surface_downward_eastward_stress_JJA[736:828]).reshape(-1,1)\n",
    "surface_downward_eastward_stress_JJA_02 = np.mean(surface_downward_eastward_stress_JJA[828:920]).reshape(-1,1)\n",
    "surface_downward_eastward_stress_JJA_03 = np.mean(surface_downward_eastward_stress_JJA[920:1012]).reshape(-1,1)\n",
    "surface_downward_eastward_stress_JJA_04 = np.mean(surface_downward_eastward_stress_JJA[1012:1104]).reshape(-1,1)\n",
    "surface_downward_eastward_stress_JJA_05 = np.mean(surface_downward_eastward_stress_JJA[1104:1196]).reshape(-1,1)\n",
    "surface_downward_eastward_stress_JJA_06_1 = surface_downward_eastward_stress_JJA[1196:1282].reshape(-1,1)\n",
    "surface_downward_eastward_stress_JJA_06_2 = surface_downward_eastward_stress_JJA[1287:1288].reshape(-1,1)\n",
    "surface_downward_eastward_stress_JJA_06 = np.mean(np.concatenate((surface_downward_eastward_stress_JJA_06_1, surface_downward_eastward_stress_JJA_06_2), axis = 0)).reshape(-1,1)\n",
    "surface_downward_eastward_stress_JJA_07_1 = surface_downward_eastward_stress_JJA[1288:1297].reshape(-1,1)\n",
    "surface_downward_eastward_stress_JJA_07_2 = surface_downward_eastward_stress_JJA[1306:1380].reshape(-1,1)\n",
    "surface_downward_eastward_stress_JJA_07 = np.mean(np.concatenate((surface_downward_eastward_stress_JJA_07_1, surface_downward_eastward_stress_JJA_07_2), axis = 0)).reshape(-1,1)\n",
    "surface_downward_eastward_stress_JJA_08 = np.mean(surface_downward_eastward_stress_JJA[1380:1472]).reshape(-1,1)\n",
    "surface_downward_eastward_stress_JJA_09 = np.mean(surface_downward_eastward_stress_JJA[1472:1564]).reshape(-1,1)\n",
    "surface_downward_eastward_stress_JJA_10_1 = surface_downward_eastward_stress_JJA[1564:1604].reshape(-1,1)\n",
    "surface_downward_eastward_stress_JJA_10_2 = surface_downward_eastward_stress_JJA[1612:1656].reshape(-1,1)\n",
    "surface_downward_eastward_stress_JJA_10 = np.mean(np.concatenate((surface_downward_eastward_stress_JJA_10_1, surface_downward_eastward_stress_JJA_10_2), axis = 0)).reshape(-1,1)\n",
    "surface_downward_eastward_stress_JJA_11 = np.mean(surface_downward_eastward_stress_JJA[1656:1748]).reshape(-1,1)\n",
    "surface_downward_eastward_stress_JJA_12_1 = surface_downward_eastward_stress_JJA[1748:1807].reshape(-1,1)\n",
    "surface_downward_eastward_stress_JJA_12_2 = surface_downward_eastward_stress_JJA[1820:1840].reshape(-1,1)\n",
    "surface_downward_eastward_stress_JJA_12 = np.mean(np.concatenate((surface_downward_eastward_stress_JJA_12_1, surface_downward_eastward_stress_JJA_12_2), axis = 0)).reshape(-1,1)\n",
    "surface_downward_eastward_stress_JJA_13 = np.mean(surface_downward_eastward_stress_JJA[1840:1932]).reshape(-1,1)\n",
    "surface_downward_eastward_stress_JJA_14 = np.mean(surface_downward_eastward_stress_JJA[1932:2024]).reshape(-1,1)\n",
    "surface_downward_eastward_stress_JJA_15_1 = surface_downward_eastward_stress_JJA[2032:2054].reshape(-1,1)\n",
    "surface_downward_eastward_stress_JJA_15_2 = surface_downward_eastward_stress_JJA[2061:2081].reshape(-1,1)\n",
    "surface_downward_eastward_stress_JJA_15 = np.mean(np.concatenate((surface_downward_eastward_stress_JJA_15_1, surface_downward_eastward_stress_JJA_15_2), axis = 0)).reshape(-1,1)\n",
    "surface_downward_eastward_stress_JJA_16 = np.mean(surface_downward_eastward_stress_JJA[2116:2208]).reshape(-1,1)\n",
    "surface_downward_eastward_stress_JJA_17_1 = surface_downward_eastward_stress_JJA[2208:2251].reshape(-1,1)\n",
    "surface_downward_eastward_stress_JJA_17_2 = surface_downward_eastward_stress_JJA[2257:2264].reshape(-1,1)\n",
    "surface_downward_eastward_stress_JJA_17 = np.mean(np.concatenate((surface_downward_eastward_stress_JJA_17_1, surface_downward_eastward_stress_JJA_17_2), axis = 0)).reshape(-1,1)\n",
    "surface_downward_eastward_stress_JJA_18 = np.mean(surface_downward_eastward_stress_JJA[2300:2389]).reshape(-1,1)\n",
    "surface_downward_eastward_stress_JJA_19_1 = surface_downward_eastward_stress_JJA[2407:2448].reshape(-1,1)\n",
    "surface_downward_eastward_stress_JJA_19_2 = surface_downward_eastward_stress_JJA[2459:2469].reshape(-1,1)\n",
    "surface_downward_eastward_stress_JJA_19_3 = surface_downward_eastward_stress_JJA[2475:].reshape(-1,1)\n",
    "surface_downward_eastward_stress_JJA_19 = np.mean(np.concatenate((surface_downward_eastward_stress_JJA_19_1, surface_downward_eastward_stress_JJA_19_2, surface_downward_eastward_stress_JJA_19_3), axis = 0)).reshape(-1,1)"
   ]
  },
  {
   "cell_type": "code",
   "execution_count": 33,
   "id": "0a41b9bf",
   "metadata": {},
   "outputs": [],
   "source": [
    "surface_downward_northward_stress_JJA_93 = np.mean(surface_downward_northward_stress_JJA[:92]).reshape(-1,1)\n",
    "surface_downward_northward_stress_JJA_94 = np.mean(surface_downward_northward_stress_JJA[92:184]).reshape(-1,1)\n",
    "surface_downward_northward_stress_JJA_95 = np.mean(surface_downward_northward_stress_JJA[184:276]).reshape(-1,1)\n",
    "surface_downward_northward_stress_JJA_96 = np.mean(surface_downward_northward_stress_JJA[276:368]).reshape(-1,1)\n",
    "surface_downward_northward_stress_JJA_97 = np.mean(surface_downward_northward_stress_JJA[276:368]).reshape(-1,1)\n",
    "surface_downward_northward_stress_JJA_98_1 = surface_downward_northward_stress_JJA[368:371].reshape(-1,1)\n",
    "surface_downward_northward_stress_JJA_98_2 = surface_downward_northward_stress_JJA[377:460].reshape(-1,1)\n",
    "surface_downward_northward_stress_JJA_98 = np.mean(np.concatenate((surface_downward_northward_stress_JJA_98_1, surface_downward_northward_stress_JJA_98_2), axis = 0)).reshape(-1,1)\n",
    "surface_downward_northward_stress_JJA_99 = np.mean(surface_downward_northward_stress_JJA[552:644]).reshape(-1,1)\n",
    "surface_downward_northward_stress_JJA_00 = np.mean(surface_downward_northward_stress_JJA[644:736]).reshape(-1,1)\n",
    "surface_downward_northward_stress_JJA_01 = np.mean(surface_downward_northward_stress_JJA[736:828]).reshape(-1,1)\n",
    "surface_downward_northward_stress_JJA_02 = np.mean(surface_downward_northward_stress_JJA[828:920]).reshape(-1,1)\n",
    "surface_downward_northward_stress_JJA_03 = np.mean(surface_downward_northward_stress_JJA[920:1012]).reshape(-1,1)\n",
    "surface_downward_northward_stress_JJA_04 = np.mean(surface_downward_northward_stress_JJA[1012:1104]).reshape(-1,1)\n",
    "surface_downward_northward_stress_JJA_05 = np.mean(surface_downward_northward_stress_JJA[1104:1196]).reshape(-1,1)\n",
    "surface_downward_northward_stress_JJA_06_1 = surface_downward_northward_stress_JJA[1196:1282].reshape(-1,1)\n",
    "surface_downward_northward_stress_JJA_06_2 = surface_downward_northward_stress_JJA[1287:1288].reshape(-1,1)\n",
    "surface_downward_northward_stress_JJA_06 = np.mean(np.concatenate((surface_downward_northward_stress_JJA_06_1, surface_downward_northward_stress_JJA_06_2), axis = 0)).reshape(-1,1)\n",
    "surface_downward_northward_stress_JJA_07_1 = surface_downward_northward_stress_JJA[1288:1297].reshape(-1,1)\n",
    "surface_downward_northward_stress_JJA_07_2 = surface_downward_northward_stress_JJA[1306:1380].reshape(-1,1)\n",
    "surface_downward_northward_stress_JJA_07 = np.mean(np.concatenate((surface_downward_northward_stress_JJA_07_1, surface_downward_northward_stress_JJA_07_2), axis = 0)).reshape(-1,1)\n",
    "surface_downward_northward_stress_JJA_08 = np.mean(surface_downward_northward_stress_JJA[1380:1472]).reshape(-1,1)\n",
    "surface_downward_northward_stress_JJA_09 = np.mean(surface_downward_northward_stress_JJA[1472:1564]).reshape(-1,1)\n",
    "surface_downward_northward_stress_JJA_10_1 = surface_downward_northward_stress_JJA[1564:1604].reshape(-1,1)\n",
    "surface_downward_northward_stress_JJA_10_2 = surface_downward_northward_stress_JJA[1612:1656].reshape(-1,1)\n",
    "surface_downward_northward_stress_JJA_10 = np.mean(np.concatenate((surface_downward_northward_stress_JJA_10_1, surface_downward_northward_stress_JJA_10_2), axis = 0)).reshape(-1,1)\n",
    "surface_downward_northward_stress_JJA_11 = np.mean(surface_downward_northward_stress_JJA[1656:1748]).reshape(-1,1)\n",
    "surface_downward_northward_stress_JJA_12_1 = surface_downward_northward_stress_JJA[1748:1807].reshape(-1,1)\n",
    "surface_downward_northward_stress_JJA_12_2 = surface_downward_northward_stress_JJA[1820:1840].reshape(-1,1)\n",
    "surface_downward_northward_stress_JJA_12 = np.mean(np.concatenate((surface_downward_northward_stress_JJA_12_1, surface_downward_northward_stress_JJA_12_2), axis = 0)).reshape(-1,1)\n",
    "surface_downward_northward_stress_JJA_13 = np.mean(surface_downward_northward_stress_JJA[1840:1932]).reshape(-1,1)\n",
    "surface_downward_northward_stress_JJA_14 = np.mean(surface_downward_northward_stress_JJA[1932:2024]).reshape(-1,1)\n",
    "surface_downward_northward_stress_JJA_15_1 = surface_downward_northward_stress_JJA[2032:2054].reshape(-1,1)\n",
    "surface_downward_northward_stress_JJA_15_2 = surface_downward_northward_stress_JJA[2061:2081].reshape(-1,1)\n",
    "surface_downward_northward_stress_JJA_15 = np.mean(np.concatenate((surface_downward_northward_stress_JJA_15_1, surface_downward_northward_stress_JJA_15_2), axis = 0)).reshape(-1,1)\n",
    "surface_downward_northward_stress_JJA_16 = np.mean(surface_downward_northward_stress_JJA[2116:2208]).reshape(-1,1)\n",
    "surface_downward_northward_stress_JJA_17_1 = surface_downward_northward_stress_JJA[2208:2251].reshape(-1,1)\n",
    "surface_downward_northward_stress_JJA_17_2 = surface_downward_northward_stress_JJA[2257:2264].reshape(-1,1)\n",
    "surface_downward_northward_stress_JJA_17 = np.mean(np.concatenate((surface_downward_northward_stress_JJA_17_1, surface_downward_northward_stress_JJA_17_2), axis = 0)).reshape(-1,1)\n",
    "surface_downward_northward_stress_JJA_18 = np.mean(surface_downward_northward_stress_JJA[2300:2389]).reshape(-1,1)\n",
    "surface_downward_northward_stress_JJA_19_1 = surface_downward_northward_stress_JJA[2407:2448].reshape(-1,1)\n",
    "surface_downward_northward_stress_JJA_19_2 = surface_downward_northward_stress_JJA[2459:2469].reshape(-1,1)\n",
    "surface_downward_northward_stress_JJA_19_3 = surface_downward_northward_stress_JJA[2475:].reshape(-1,1)\n",
    "surface_downward_northward_stress_JJA_19 = np.mean(np.concatenate((surface_downward_northward_stress_JJA_19_1, surface_downward_northward_stress_JJA_19_2, surface_downward_northward_stress_JJA_19_3), axis = 0)).reshape(-1,1)"
   ]
  },
  {
   "cell_type": "code",
   "execution_count": 34,
   "id": "bd723664",
   "metadata": {},
   "outputs": [],
   "source": [
    "northward_wind_SON_mean = np.mean((northward_wind_SON), axis = (1,2))\n",
    "eastward_wind_SON_mean = np.mean((eastward_wind_SON), axis = (1,2))"
   ]
  },
  {
   "cell_type": "code",
   "execution_count": 39,
   "id": "ad46b857",
   "metadata": {},
   "outputs": [],
   "source": [
    "eastward_wind_SON_mean_93 = np.mean(eastward_wind_SON_mean[:91]).reshape(-1,1)\n",
    "eastward_wind_SON_mean_94 = np.mean(eastward_wind_SON_mean[91:182]).reshape(-1,1)\n",
    "eastward_wind_SON_mean_95 = np.mean(eastward_wind_SON_mean[182:273]).reshape(-1,1)\n",
    "eastward_wind_SON_mean_96 = np.mean(eastward_wind_SON_mean[273:364]).reshape(-1,1)\n",
    "eastward_wind_SON_mean_97_1 = eastward_wind_SON_mean[364:447].reshape(-1,1)\n",
    "eastward_wind_SON_mean_97_2 = eastward_wind_SON_mean[452:455].reshape(-1,1)\n",
    "eastward_wind_SON_mean_97 = np.mean(np.concatenate((eastward_wind_SON_mean_97_1, eastward_wind_SON_mean_97_2), axis = 0)).reshape(-1,1)\n",
    "eastward_wind_SON_mean_98 = np.mean(eastward_wind_SON_mean[455:546]).reshape(-1,1)\n",
    "eastward_wind_SON_mean_99 = np.mean(eastward_wind_SON_mean[546:637]).reshape(-1,1)\n",
    "eastward_wind_SON_mean_00 = np.mean(eastward_wind_SON_mean[637:728]).reshape(-1,1)\n",
    "eastward_wind_SON_mean_01 = np.mean(eastward_wind_SON_mean[728:819]).reshape(-1,1)\n",
    "eastward_wind_SON_mean_02 = np.mean(eastward_wind_SON_mean[819:910]).reshape(-1,1)\n",
    "eastward_wind_SON_mean_03 = np.mean(eastward_wind_SON_mean[910:1001]).reshape(-1,1)\n",
    "eastward_wind_SON_mean_04 = np.mean(eastward_wind_SON_mean[1001:1092]).reshape(-1,1)\n",
    "eastward_wind_SON_mean_05 = np.mean(eastward_wind_SON_mean[1092:1183]).reshape(-1,1)\n",
    "eastward_wind_SON_mean_06_1 = eastward_wind_SON_mean[1183:1250].reshape(-1,1)\n",
    "eastward_wind_SON_mean_06_2 = eastward_wind_SON_mean[1255:1274].reshape(-1,1)\n",
    "eastward_wind_SON_mean_06 = np.mean(np.concatenate((eastward_wind_SON_mean_06_1, eastward_wind_SON_mean_06_2), axis = 0)).reshape(-1,1)\n",
    "eastward_wind_SON_mean_07 = np.mean(eastward_wind_SON_mean[1274:1365]).reshape(-1,1)\n",
    "eastward_wind_SON_mean_08 = np.mean(eastward_wind_SON_mean[1365:1456]).reshape(-1,1)\n",
    "eastward_wind_SON_mean_09 = np.mean(eastward_wind_SON_mean[1456:1547]).reshape(-1,1)\n",
    "eastward_wind_SON_mean_10 = np.mean(eastward_wind_SON_mean[1547:1638]).reshape(-1,1)\n",
    "eastward_wind_SON_mean_11 = np.mean(eastward_wind_SON_mean[1638:1729]).reshape(-1,1)\n",
    "eastward_wind_SON_mean_12_1 = eastward_wind_SON_mean[1732:1738].reshape(-1,1)\n",
    "eastward_wind_SON_mean_12_2 = eastward_wind_SON_mean[1747:1752].reshape(-1,1)\n",
    "eastward_wind_SON_mean_12_3 = eastward_wind_SON_mean[1757:1820].reshape(-1,1)\n",
    "eastward_wind_SON_mean_12 = np.mean(np.concatenate((eastward_wind_SON_mean_12_1, eastward_wind_SON_mean_12_2, eastward_wind_SON_mean_12_3), axis = 0)).reshape(-1,1)\n",
    "eastward_wind_SON_mean_13_1 = eastward_wind_SON_mean[1820:1880].reshape(-1,1)\n",
    "eastward_wind_SON_mean_13_2 = eastward_wind_SON_mean[1885:1903].reshape(-1,1)\n",
    "eastward_wind_SON_mean_13_3 = eastward_wind_SON_mean[1908:1911].reshape(-1,1)\n",
    "eastward_wind_SON_mean_13 = np.mean(np.concatenate((eastward_wind_SON_mean_13_1, eastward_wind_SON_mean_13_2, eastward_wind_SON_mean_13_3), axis = 0)).reshape(-1,1)\n",
    "eastward_wind_SON_mean_14_1 = eastward_wind_SON_mean[1911:1944].reshape(-1,1)\n",
    "eastward_wind_SON_mean_14_2 = eastward_wind_SON_mean[1949:1972].reshape(-1,1)\n",
    "eastward_wind_SON_mean_14_3 = eastward_wind_SON_mean[1977:1986].reshape(-1,1)\n",
    "eastward_wind_SON_mean_14 = np.mean(np.concatenate((eastward_wind_SON_mean_14_1, eastward_wind_SON_mean_14_2, eastward_wind_SON_mean_14_3), axis = 0)).reshape(-1,1)\n",
    "eastward_wind_SON_mean_15 = np.mean(eastward_wind_SON_mean[2078:2084]).reshape(-1,1)\n",
    "eastward_wind_SON_mean_16 = np.mean(eastward_wind_SON_mean[2093:2184]).reshape(-1,1)\n",
    "eastward_wind_SON_mean_17_1 = eastward_wind_SON_mean[2192:2236].reshape(-1,1)\n",
    "eastward_wind_SON_mean_17_2 = eastward_wind_SON_mean[2254:2262].reshape(-1,1)\n",
    "eastward_wind_SON_mean_17 = np.mean(np.concatenate((eastward_wind_SON_mean_17_1, eastward_wind_SON_mean_17_2), axis = 0)).reshape(-1,1)\n",
    "eastward_wind_SON_mean_18_1 = eastward_wind_SON_mean[2262:2267].reshape(-1,1)\n",
    "eastward_wind_SON_mean_18_2 = eastward_wind_SON_mean[2290:2332].reshape(-1,1)\n",
    "eastward_wind_SON_mean_18 = np.mean(np.concatenate((eastward_wind_SON_mean_18_1, eastward_wind_SON_mean_18_2), axis = 0)).reshape(-1,1)\n",
    "eastward_wind_SON_mean_19 = np.mean(eastward_wind_SON_mean[2340:]).reshape(-1,1)"
   ]
  },
  {
   "cell_type": "code",
   "execution_count": 41,
   "id": "bfbc1608",
   "metadata": {},
   "outputs": [],
   "source": [
    "northward_wind_SON_mean_93 = np.mean(northward_wind_SON_mean[:91]).reshape(-1,1)\n",
    "northward_wind_SON_mean_94 = np.mean(northward_wind_SON_mean[91:182]).reshape(-1,1)\n",
    "northward_wind_SON_mean_95 = np.mean(northward_wind_SON_mean[182:273]).reshape(-1,1)\n",
    "northward_wind_SON_mean_96 = np.mean(northward_wind_SON_mean[273:364]).reshape(-1,1)\n",
    "northward_wind_SON_mean_97_1 = northward_wind_SON_mean[364:447].reshape(-1,1)\n",
    "northward_wind_SON_mean_97_2 = northward_wind_SON_mean[452:455].reshape(-1,1)\n",
    "northward_wind_SON_mean_97 = np.mean(np.concatenate((northward_wind_SON_mean_97_1, northward_wind_SON_mean_97_2), axis = 0)).reshape(-1,1)\n",
    "northward_wind_SON_mean_98 = np.mean(northward_wind_SON_mean[455:546]).reshape(-1,1)\n",
    "northward_wind_SON_mean_99 = np.mean(northward_wind_SON_mean[546:637]).reshape(-1,1)\n",
    "northward_wind_SON_mean_00 = np.mean(northward_wind_SON_mean[637:728]).reshape(-1,1)\n",
    "northward_wind_SON_mean_01 = np.mean(northward_wind_SON_mean[728:819]).reshape(-1,1)\n",
    "northward_wind_SON_mean_02 = np.mean(northward_wind_SON_mean[819:910]).reshape(-1,1)\n",
    "northward_wind_SON_mean_03 = np.mean(northward_wind_SON_mean[910:1001]).reshape(-1,1)\n",
    "northward_wind_SON_mean_04 = np.mean(northward_wind_SON_mean[1001:1092]).reshape(-1,1)\n",
    "northward_wind_SON_mean_05 = np.mean(northward_wind_SON_mean[1092:1183]).reshape(-1,1)\n",
    "northward_wind_SON_mean_06_1 = northward_wind_SON_mean[1183:1250].reshape(-1,1)\n",
    "northward_wind_SON_mean_06_2 = northward_wind_SON_mean[1255:1274].reshape(-1,1)\n",
    "northward_wind_SON_mean_06 = np.mean(np.concatenate((northward_wind_SON_mean_06_1, northward_wind_SON_mean_06_2), axis = 0)).reshape(-1,1)\n",
    "northward_wind_SON_mean_07 = np.mean(northward_wind_SON_mean[1274:1365]).reshape(-1,1)\n",
    "northward_wind_SON_mean_08 = np.mean(northward_wind_SON_mean[1365:1456]).reshape(-1,1)\n",
    "northward_wind_SON_mean_09 = np.mean(northward_wind_SON_mean[1456:1547]).reshape(-1,1)\n",
    "northward_wind_SON_mean_10 = np.mean(northward_wind_SON_mean[1547:1638]).reshape(-1,1)\n",
    "northward_wind_SON_mean_11 = np.mean(northward_wind_SON_mean[1638:1729]).reshape(-1,1)\n",
    "northward_wind_SON_mean_12_1 = northward_wind_SON_mean[1732:1738].reshape(-1,1)\n",
    "northward_wind_SON_mean_12_2 = northward_wind_SON_mean[1747:1752].reshape(-1,1)\n",
    "northward_wind_SON_mean_12_3 = northward_wind_SON_mean[1757:1820].reshape(-1,1)\n",
    "northward_wind_SON_mean_12 = np.mean(np.concatenate((northward_wind_SON_mean_12_1, northward_wind_SON_mean_12_2, northward_wind_SON_mean_12_3), axis = 0)).reshape(-1,1)\n",
    "northward_wind_SON_mean_13_1 = northward_wind_SON_mean[1820:1880].reshape(-1,1)\n",
    "northward_wind_SON_mean_13_2 = northward_wind_SON_mean[1885:1903].reshape(-1,1)\n",
    "northward_wind_SON_mean_13_3 = northward_wind_SON_mean[1908:1911].reshape(-1,1)\n",
    "northward_wind_SON_mean_13 = np.mean(np.concatenate((northward_wind_SON_mean_13_1, northward_wind_SON_mean_13_2, northward_wind_SON_mean_13_3), axis = 0)).reshape(-1,1)\n",
    "northward_wind_SON_mean_14_1 = northward_wind_SON_mean[1911:1944].reshape(-1,1)\n",
    "northward_wind_SON_mean_14_2 = northward_wind_SON_mean[1949:1972].reshape(-1,1)\n",
    "northward_wind_SON_mean_14_3 = northward_wind_SON_mean[1977:1986].reshape(-1,1)\n",
    "northward_wind_SON_mean_14 = np.mean(np.concatenate((northward_wind_SON_mean_14_1, northward_wind_SON_mean_14_2, northward_wind_SON_mean_14_3), axis = 0)).reshape(-1,1)\n",
    "northward_wind_SON_mean_15 = np.mean(northward_wind_SON_mean[2078:2084]).reshape(-1,1)\n",
    "northward_wind_SON_mean_16 = np.mean(northward_wind_SON_mean[2093:2184]).reshape(-1,1)\n",
    "northward_wind_SON_mean_17_1 = northward_wind_SON_mean[2192:2236].reshape(-1,1)\n",
    "northward_wind_SON_mean_17_2 = northward_wind_SON_mean[2254:2262].reshape(-1,1)\n",
    "northward_wind_SON_mean_17 = np.mean(np.concatenate((northward_wind_SON_mean_17_1, northward_wind_SON_mean_17_2), axis = 0)).reshape(-1,1)\n",
    "northward_wind_SON_mean_18_1 = northward_wind_SON_mean[2262:2267].reshape(-1,1)\n",
    "northward_wind_SON_mean_18_2 = northward_wind_SON_mean[2290:2332].reshape(-1,1)\n",
    "northward_wind_SON_mean_18 = np.mean(np.concatenate((northward_wind_SON_mean_18_1, northward_wind_SON_mean_18_2), axis = 0)).reshape(-1,1)\n",
    "northward_wind_SON_mean_19 = np.mean(northward_wind_SON_mean[2340:]).reshape(-1,1)"
   ]
  },
  {
   "cell_type": "code",
   "execution_count": 42,
   "id": "be454b64",
   "metadata": {},
   "outputs": [],
   "source": [
    "surface_downward_eastward_stress_SON_93 = np.mean(surface_downward_eastward_stress_SON[:91]).reshape(-1,1)\n",
    "surface_downward_eastward_stress_SON_94 = np.mean(surface_downward_eastward_stress_SON[91:182]).reshape(-1,1)\n",
    "surface_downward_eastward_stress_SON_95 = np.mean(surface_downward_eastward_stress_SON[182:273]).reshape(-1,1)\n",
    "surface_downward_eastward_stress_SON_96 = np.mean(surface_downward_eastward_stress_SON[273:364]).reshape(-1,1)\n",
    "surface_downward_eastward_stress_SON_97_1 = surface_downward_eastward_stress_SON[364:447].reshape(-1,1)\n",
    "surface_downward_eastward_stress_SON_97_2 = surface_downward_eastward_stress_SON[452:455].reshape(-1,1)\n",
    "surface_downward_eastward_stress_SON_97 = np.mean(np.concatenate((surface_downward_eastward_stress_SON_97_1, surface_downward_eastward_stress_SON_97_2), axis = 0)).reshape(-1,1)\n",
    "surface_downward_eastward_stress_SON_98 = np.mean(surface_downward_eastward_stress_SON[455:546]).reshape(-1,1)\n",
    "surface_downward_eastward_stress_SON_99 = np.mean(surface_downward_eastward_stress_SON[546:637]).reshape(-1,1)\n",
    "surface_downward_eastward_stress_SON_00 = np.mean(surface_downward_eastward_stress_SON[637:728]).reshape(-1,1)\n",
    "surface_downward_eastward_stress_SON_01 = np.mean(surface_downward_eastward_stress_SON[728:819]).reshape(-1,1)\n",
    "surface_downward_eastward_stress_SON_02 = np.mean(surface_downward_eastward_stress_SON[819:910]).reshape(-1,1)\n",
    "surface_downward_eastward_stress_SON_03 = np.mean(surface_downward_eastward_stress_SON[910:1001]).reshape(-1,1)\n",
    "surface_downward_eastward_stress_SON_04 = np.mean(surface_downward_eastward_stress_SON[1001:1092]).reshape(-1,1)\n",
    "surface_downward_eastward_stress_SON_05 = np.mean(surface_downward_eastward_stress_SON[1092:1183]).reshape(-1,1)\n",
    "surface_downward_eastward_stress_SON_06_1 = surface_downward_eastward_stress_SON[1183:1250].reshape(-1,1)\n",
    "surface_downward_eastward_stress_SON_06_2 = surface_downward_eastward_stress_SON[1255:1274].reshape(-1,1)\n",
    "surface_downward_eastward_stress_SON_06 = np.mean(np.concatenate((surface_downward_eastward_stress_SON_06_1, surface_downward_eastward_stress_SON_06_2), axis = 0)).reshape(-1,1)\n",
    "surface_downward_eastward_stress_SON_07 = np.mean(surface_downward_eastward_stress_SON[1274:1365]).reshape(-1,1)\n",
    "surface_downward_eastward_stress_SON_08 = np.mean(surface_downward_eastward_stress_SON[1365:1456]).reshape(-1,1)\n",
    "surface_downward_eastward_stress_SON_09 = np.mean(surface_downward_eastward_stress_SON[1456:1547]).reshape(-1,1)\n",
    "surface_downward_eastward_stress_SON_10 = np.mean(surface_downward_eastward_stress_SON[1547:1638]).reshape(-1,1)\n",
    "surface_downward_eastward_stress_SON_11 = np.mean(surface_downward_eastward_stress_SON[1638:1729]).reshape(-1,1)\n",
    "surface_downward_eastward_stress_SON_12_1 = surface_downward_eastward_stress_SON[1732:1738].reshape(-1,1)\n",
    "surface_downward_eastward_stress_SON_12_2 = surface_downward_eastward_stress_SON[1747:1752].reshape(-1,1)\n",
    "surface_downward_eastward_stress_SON_12_3 = surface_downward_eastward_stress_SON[1757:1820].reshape(-1,1)\n",
    "surface_downward_eastward_stress_SON_12 = np.mean(np.concatenate((surface_downward_eastward_stress_SON_12_1, surface_downward_eastward_stress_SON_12_2, surface_downward_eastward_stress_SON_12_3), axis = 0)).reshape(-1,1)\n",
    "surface_downward_eastward_stress_SON_13_1 = surface_downward_eastward_stress_SON[1820:1880].reshape(-1,1)\n",
    "surface_downward_eastward_stress_SON_13_2 = surface_downward_eastward_stress_SON[1885:1903].reshape(-1,1)\n",
    "surface_downward_eastward_stress_SON_13_3 = surface_downward_eastward_stress_SON[1908:1911].reshape(-1,1)\n",
    "surface_downward_eastward_stress_SON_13 = np.mean(np.concatenate((surface_downward_eastward_stress_SON_13_1, surface_downward_eastward_stress_SON_13_2, surface_downward_eastward_stress_SON_13_3), axis = 0)).reshape(-1,1)\n",
    "surface_downward_eastward_stress_SON_14_1 = surface_downward_eastward_stress_SON[1911:1944].reshape(-1,1)\n",
    "surface_downward_eastward_stress_SON_14_2 = surface_downward_eastward_stress_SON[1949:1972].reshape(-1,1)\n",
    "surface_downward_eastward_stress_SON_14_3 = surface_downward_eastward_stress_SON[1977:1986].reshape(-1,1)\n",
    "surface_downward_eastward_stress_SON_14 = np.mean(np.concatenate((surface_downward_eastward_stress_SON_14_1, surface_downward_eastward_stress_SON_14_2, surface_downward_eastward_stress_SON_14_3), axis = 0)).reshape(-1,1)\n",
    "surface_downward_eastward_stress_SON_15 = np.mean(surface_downward_eastward_stress_SON[2078:2084]).reshape(-1,1)\n",
    "surface_downward_eastward_stress_SON_16 = np.mean(surface_downward_eastward_stress_SON[2093:2184]).reshape(-1,1)\n",
    "surface_downward_eastward_stress_SON_17_1 = surface_downward_eastward_stress_SON[2192:2236].reshape(-1,1)\n",
    "surface_downward_eastward_stress_SON_17_2 = surface_downward_eastward_stress_SON[2254:2262].reshape(-1,1)\n",
    "surface_downward_eastward_stress_SON_17 = np.mean(np.concatenate((surface_downward_eastward_stress_SON_17_1, surface_downward_eastward_stress_SON_17_2), axis = 0)).reshape(-1,1)\n",
    "surface_downward_eastward_stress_SON_18_1 = surface_downward_eastward_stress_SON[2262:2267].reshape(-1,1)\n",
    "surface_downward_eastward_stress_SON_18_2 = surface_downward_eastward_stress_SON[2290:2332].reshape(-1,1)\n",
    "surface_downward_eastward_stress_SON_18 = np.mean(np.concatenate((surface_downward_eastward_stress_SON_18_1, surface_downward_eastward_stress_SON_18_2), axis = 0)).reshape(-1,1)\n",
    "surface_downward_eastward_stress_SON_19 = np.mean(surface_downward_eastward_stress_SON[2340:]).reshape(-1,1)"
   ]
  },
  {
   "cell_type": "code",
   "execution_count": 45,
   "id": "39828389",
   "metadata": {},
   "outputs": [],
   "source": [
    "surface_downward_northward_stress_SON_93 = np.mean(surface_downward_northward_stress_SON[:91]).reshape(-1,1)\n",
    "surface_downward_northward_stress_SON_94 = np.mean(surface_downward_northward_stress_SON[91:182]).reshape(-1,1)\n",
    "surface_downward_northward_stress_SON_95 = np.mean(surface_downward_northward_stress_SON[182:273]).reshape(-1,1)\n",
    "surface_downward_northward_stress_SON_96 = np.mean(surface_downward_northward_stress_SON[273:364]).reshape(-1,1)\n",
    "surface_downward_northward_stress_SON_97_1 = surface_downward_northward_stress_SON[364:447].reshape(-1,1)\n",
    "surface_downward_northward_stress_SON_97_2 = surface_downward_northward_stress_SON[452:455].reshape(-1,1)\n",
    "surface_downward_northward_stress_SON_97 = np.mean(np.concatenate((surface_downward_northward_stress_SON_97_1, surface_downward_northward_stress_SON_97_2), axis = 0)).reshape(-1,1)\n",
    "surface_downward_northward_stress_SON_98 = np.mean(surface_downward_northward_stress_SON[455:546]).reshape(-1,1)\n",
    "surface_downward_northward_stress_SON_99 = np.mean(surface_downward_northward_stress_SON[546:637]).reshape(-1,1)\n",
    "surface_downward_northward_stress_SON_00 = np.mean(surface_downward_northward_stress_SON[637:728]).reshape(-1,1)\n",
    "surface_downward_northward_stress_SON_01 = np.mean(surface_downward_northward_stress_SON[728:819]).reshape(-1,1)\n",
    "surface_downward_northward_stress_SON_02 = np.mean(surface_downward_northward_stress_SON[819:910]).reshape(-1,1)\n",
    "surface_downward_northward_stress_SON_03 = np.mean(surface_downward_northward_stress_SON[910:1001]).reshape(-1,1)\n",
    "surface_downward_northward_stress_SON_04 = np.mean(surface_downward_northward_stress_SON[1001:1092]).reshape(-1,1)\n",
    "surface_downward_northward_stress_SON_05 = np.mean(surface_downward_northward_stress_SON[1092:1183]).reshape(-1,1)\n",
    "surface_downward_northward_stress_SON_06_1 = surface_downward_northward_stress_SON[1183:1250].reshape(-1,1)\n",
    "surface_downward_northward_stress_SON_06_2 = surface_downward_northward_stress_SON[1255:1274].reshape(-1,1)\n",
    "surface_downward_northward_stress_SON_06 = np.mean(np.concatenate((surface_downward_northward_stress_SON_06_1, surface_downward_northward_stress_SON_06_2), axis = 0)).reshape(-1,1)\n",
    "surface_downward_northward_stress_SON_07 = np.mean(surface_downward_northward_stress_SON[1274:1365]).reshape(-1,1)\n",
    "surface_downward_northward_stress_SON_08 = np.mean(surface_downward_northward_stress_SON[1365:1456]).reshape(-1,1)\n",
    "surface_downward_northward_stress_SON_09 = np.mean(surface_downward_northward_stress_SON[1456:1547]).reshape(-1,1)\n",
    "surface_downward_northward_stress_SON_10 = np.mean(surface_downward_northward_stress_SON[1547:1638]).reshape(-1,1)\n",
    "surface_downward_northward_stress_SON_11 = np.mean(surface_downward_northward_stress_SON[1638:1729]).reshape(-1,1)\n",
    "surface_downward_northward_stress_SON_12_1 = surface_downward_northward_stress_SON[1732:1738].reshape(-1,1)\n",
    "surface_downward_northward_stress_SON_12_2 = surface_downward_northward_stress_SON[1747:1752].reshape(-1,1)\n",
    "surface_downward_northward_stress_SON_12_3 = surface_downward_northward_stress_SON[1757:1820].reshape(-1,1)\n",
    "surface_downward_northward_stress_SON_12 = np.mean(np.concatenate((surface_downward_northward_stress_SON_12_1, surface_downward_northward_stress_SON_12_2, surface_downward_northward_stress_SON_12_3), axis = 0)).reshape(-1,1)\n",
    "surface_downward_northward_stress_SON_13_1 = surface_downward_northward_stress_SON[1820:1880].reshape(-1,1)\n",
    "surface_downward_northward_stress_SON_13_2 = surface_downward_northward_stress_SON[1885:1903].reshape(-1,1)\n",
    "surface_downward_northward_stress_SON_13_3 = surface_downward_northward_stress_SON[1908:1911].reshape(-1,1)\n",
    "surface_downward_northward_stress_SON_13 = np.mean(np.concatenate((surface_downward_northward_stress_SON_13_1, surface_downward_northward_stress_SON_13_2, surface_downward_northward_stress_SON_13_3), axis = 0)).reshape(-1,1)\n",
    "surface_downward_northward_stress_SON_14_1 = surface_downward_northward_stress_SON[1911:1944].reshape(-1,1)\n",
    "surface_downward_northward_stress_SON_14_2 = surface_downward_northward_stress_SON[1949:1972].reshape(-1,1)\n",
    "surface_downward_northward_stress_SON_14_3 = surface_downward_northward_stress_SON[1977:1986].reshape(-1,1)\n",
    "surface_downward_northward_stress_SON_14 = np.mean(np.concatenate((surface_downward_northward_stress_SON_14_1, surface_downward_northward_stress_SON_14_2, surface_downward_northward_stress_SON_14_3), axis = 0)).reshape(-1,1)\n",
    "surface_downward_northward_stress_SON_15 = np.mean(surface_downward_northward_stress_SON[2078:2084]).reshape(-1,1)\n",
    "surface_downward_northward_stress_SON_16 = np.mean(surface_downward_northward_stress_SON[2093:2184]).reshape(-1,1)\n",
    "surface_downward_northward_stress_SON_17_1 = surface_downward_northward_stress_SON[2192:2236].reshape(-1,1)\n",
    "surface_downward_northward_stress_SON_17_2 = surface_downward_northward_stress_SON[2254:2262].reshape(-1,1)\n",
    "surface_downward_northward_stress_SON_17 = np.mean(np.concatenate((surface_downward_northward_stress_SON_17_1, surface_downward_northward_stress_SON_17_2), axis = 0)).reshape(-1,1)\n",
    "surface_downward_northward_stress_SON_18_1 = surface_downward_northward_stress_SON[2262:2267].reshape(-1,1)\n",
    "surface_downward_northward_stress_SON_18_2 = surface_downward_northward_stress_SON[2290:2332].reshape(-1,1)\n",
    "surface_downward_northward_stress_SON_18 = np.mean(np.concatenate((surface_downward_northward_stress_SON_18_1, surface_downward_northward_stress_SON_18_2), axis = 0)).reshape(-1,1)\n",
    "surface_downward_northward_stress_SON_19 = np.mean(surface_downward_northward_stress_SON[2340:]).reshape(-1,1)"
   ]
  },
  {
   "cell_type": "code",
   "execution_count": 46,
   "id": "4240a1ea",
   "metadata": {},
   "outputs": [],
   "source": [
    "northward_wind_MAM_mean = np.mean((northward_wind_MAM), axis = (1,2))\n",
    "eastward_wind_MAM_mean = np.mean((eastward_wind_MAM), axis = (1,2))"
   ]
  },
  {
   "cell_type": "code",
   "execution_count": 47,
   "id": "ed022ea1",
   "metadata": {},
   "outputs": [],
   "source": [
    "eastward_wind_MAM_mean_93 = np.mean(eastward_wind_MAM_mean[:92]).reshape(-1,1)\n",
    "eastward_wind_MAM_mean_94 = np.mean(eastward_wind_MAM_mean[92:184]).reshape(-1,1)\n",
    "eastward_wind_MAM_mean_95 = np.mean(eastward_wind_MAM_mean[184:276]).reshape(-1,1)\n",
    "eastward_wind_MAM_mean_96 = np.mean(eastward_wind_MAM_mean[276:368]).reshape(-1,1)\n",
    "eastward_wind_MAM_mean_97 = np.mean(eastward_wind_MAM_mean[368:460]).reshape(-1,1)\n",
    "eastward_wind_MAM_mean_98_1 = eastward_wind_MAM_mean[467:494].reshape(-1,1)\n",
    "eastward_wind_MAM_mean_98_2 = eastward_wind_MAM_mean[507:552].reshape(-1,1)\n",
    "eastward_wind_MAM_mean_98 = np.mean(np.concatenate((eastward_wind_MAM_mean_98_1, eastward_wind_MAM_mean_98_2), axis = 0)).reshape(-1,1)\n",
    "eastward_wind_MAM_mean_99 = np.mean(eastward_wind_MAM_mean[552:644]).reshape(-1,1)\n",
    "eastward_wind_MAM_mean_00 = np.mean(eastward_wind_MAM_mean[644:736]).reshape(-1,1)\n",
    "eastward_wind_MAM_mean_01 = np.mean(eastward_wind_MAM_mean[736:828]).reshape(-1,1)\n",
    "eastward_wind_MAM_mean_02 = np.mean(eastward_wind_MAM_mean[828:920]).reshape(-1,1)\n",
    "eastward_wind_MAM_mean_03 = np.mean(eastward_wind_MAM_mean[920:1012]).reshape(-1,1)\n",
    "eastward_wind_MAM_mean_04 = np.mean(eastward_wind_MAM_mean[1012:1104]).reshape(-1,1)\n",
    "eastward_wind_MAM_mean_05 = np.mean(eastward_wind_MAM_mean[1104:1196]).reshape(-1,1)\n",
    "eastward_wind_MAM_mean_06 = np.mean(eastward_wind_MAM_mean[1196:1288]).reshape(-1,1)\n",
    "eastward_wind_MAM_mean_07 = np.mean(eastward_wind_MAM_mean[1288:1380]).reshape(-1,1)\n",
    "eastward_wind_MAM_mean_08 = np.mean(eastward_wind_MAM_mean[1380:1472]).reshape(-1,1)\n",
    "eastward_wind_MAM_mean_09 = np.mean(eastward_wind_MAM_mean[1472:1564]).reshape(-1,1)\n",
    "eastward_wind_MAM_mean_10_1 = eastward_wind_MAM_mean[1573:1576].reshape(-1,1)\n",
    "eastward_wind_MAM_mean_10_2 = eastward_wind_MAM_mean[1622:1656].reshape(-1,1)\n",
    "eastward_wind_MAM_mean_10 = np.mean(np.concatenate((eastward_wind_MAM_mean_10_1, eastward_wind_MAM_mean_10_2), axis = 0)).reshape(-1,1)\n",
    "eastward_wind_MAM_mean_11 = np.mean(eastward_wind_MAM_mean[1656:1748]).reshape(-1,1)\n",
    "eastward_wind_MAM_mean_12 = np.mean(eastward_wind_MAM_mean[1748:1840]).reshape(-1,1)\n",
    "eastward_wind_MAM_mean_13 = np.mean(eastward_wind_MAM_mean[1840:1932]).reshape(-1,1)\n",
    "eastward_wind_MAM_mean_14 = np.mean(eastward_wind_MAM_mean[1932:2024]).reshape(-1,1)\n",
    "eastward_wind_MAM_mean_15_1 = eastward_wind_MAM_mean[2024:2049].reshape(-1,1)\n",
    "eastward_wind_MAM_mean_15_2 = eastward_wind_MAM_mean[2064:2079].reshape(-1,1)\n",
    "eastward_wind_MAM_mean_15_3 = eastward_wind_MAM_mean[2089:2093].reshape(-1,1)\n",
    "eastward_wind_MAM_mean_15 = np.mean(np.concatenate((eastward_wind_MAM_mean_15_1, eastward_wind_MAM_mean_15_2, eastward_wind_MAM_mean_15_3), axis = 0)).reshape(-1,1)\n",
    "eastward_wind_MAM_mean_16 = np.mean(eastward_wind_MAM_mean[2134:2208]).reshape(-1,1)\n",
    "eastward_wind_MAM_mean_17_1 = eastward_wind_MAM_mean[2208:2261].reshape(-1,1)\n",
    "eastward_wind_MAM_mean_17_2 = eastward_wind_MAM_mean[2268:2274].reshape(-1,1)\n",
    "eastward_wind_MAM_mean_17_3 = eastward_wind_MAM_mean[2280:2300].reshape(-1,1)\n",
    "eastward_wind_MAM_mean_17 = np.mean(np.concatenate((eastward_wind_MAM_mean_17_1, eastward_wind_MAM_mean_17_2, eastward_wind_MAM_mean_17_3), axis = 0)).reshape(-1,1)\n",
    "eastward_wind_MAM_mean_18 = np.mean(eastward_wind_MAM_mean[2300:2389]).reshape(-1,1)\n",
    "eastward_wind_MAM_mean_19_1 = eastward_wind_MAM_mean[2389:2428].reshape(-1,1)\n",
    "eastward_wind_MAM_mean_19_2 = eastward_wind_MAM_mean[2435:2441].reshape(-1,1)\n",
    "eastward_wind_MAM_mean_19_3 = eastward_wind_MAM_mean[2448:].reshape(-1,1)\n",
    "eastward_wind_MAM_mean_19 = np.mean(np.concatenate((eastward_wind_MAM_mean_19_1, eastward_wind_MAM_mean_19_2, eastward_wind_MAM_mean_19_3), axis = 0)).reshape(-1,1)"
   ]
  },
  {
   "cell_type": "code",
   "execution_count": 50,
   "id": "6ed9c3d7",
   "metadata": {},
   "outputs": [],
   "source": [
    "northward_wind_MAM_mean_93 = np.mean(northward_wind_MAM_mean[:92]).reshape(-1,1)\n",
    "northward_wind_MAM_mean_94 = np.mean(northward_wind_MAM_mean[92:184]).reshape(-1,1)\n",
    "northward_wind_MAM_mean_95 = np.mean(northward_wind_MAM_mean[184:276]).reshape(-1,1)\n",
    "northward_wind_MAM_mean_96 = np.mean(northward_wind_MAM_mean[276:368]).reshape(-1,1)\n",
    "northward_wind_MAM_mean_97 = np.mean(northward_wind_MAM_mean[368:460]).reshape(-1,1)\n",
    "northward_wind_MAM_mean_98_1 = northward_wind_MAM_mean[467:494].reshape(-1,1)\n",
    "northward_wind_MAM_mean_98_2 = northward_wind_MAM_mean[507:552].reshape(-1,1)\n",
    "northward_wind_MAM_mean_98 = np.mean(np.concatenate((northward_wind_MAM_mean_98_1, northward_wind_MAM_mean_98_2), axis = 0)).reshape(-1,1)\n",
    "northward_wind_MAM_mean_99 = np.mean(northward_wind_MAM_mean[552:644]).reshape(-1,1)\n",
    "northward_wind_MAM_mean_00 = np.mean(northward_wind_MAM_mean[644:736]).reshape(-1,1)\n",
    "northward_wind_MAM_mean_01 = np.mean(northward_wind_MAM_mean[736:828]).reshape(-1,1)\n",
    "northward_wind_MAM_mean_02 = np.mean(northward_wind_MAM_mean[828:920]).reshape(-1,1)\n",
    "northward_wind_MAM_mean_03 = np.mean(northward_wind_MAM_mean[920:1012]).reshape(-1,1)\n",
    "northward_wind_MAM_mean_04 = np.mean(northward_wind_MAM_mean[1012:1104]).reshape(-1,1)\n",
    "northward_wind_MAM_mean_05 = np.mean(northward_wind_MAM_mean[1104:1196]).reshape(-1,1)\n",
    "northward_wind_MAM_mean_06 = np.mean(northward_wind_MAM_mean[1196:1288]).reshape(-1,1)\n",
    "northward_wind_MAM_mean_07 = np.mean(northward_wind_MAM_mean[1288:1380]).reshape(-1,1)\n",
    "northward_wind_MAM_mean_08 = np.mean(northward_wind_MAM_mean[1380:1472]).reshape(-1,1)\n",
    "northward_wind_MAM_mean_09 = np.mean(northward_wind_MAM_mean[1472:1564]).reshape(-1,1)\n",
    "northward_wind_MAM_mean_10_1 = northward_wind_MAM_mean[1573:1576].reshape(-1,1)\n",
    "northward_wind_MAM_mean_10_2 = northward_wind_MAM_mean[1622:1656].reshape(-1,1)\n",
    "northward_wind_MAM_mean_10 = np.mean(np.concatenate((northward_wind_MAM_mean_10_1, northward_wind_MAM_mean_10_2), axis = 0)).reshape(-1,1)\n",
    "northward_wind_MAM_mean_11 = np.mean(northward_wind_MAM_mean[1656:1748]).reshape(-1,1)\n",
    "northward_wind_MAM_mean_12 = np.mean(northward_wind_MAM_mean[1748:1840]).reshape(-1,1)\n",
    "northward_wind_MAM_mean_13 = np.mean(northward_wind_MAM_mean[1840:1932]).reshape(-1,1)\n",
    "northward_wind_MAM_mean_14 = np.mean(northward_wind_MAM_mean[1932:2024]).reshape(-1,1)\n",
    "northward_wind_MAM_mean_15_1 = northward_wind_MAM_mean[2024:2049].reshape(-1,1)\n",
    "northward_wind_MAM_mean_15_2 = northward_wind_MAM_mean[2064:2079].reshape(-1,1)\n",
    "northward_wind_MAM_mean_15_3 = northward_wind_MAM_mean[2089:2093].reshape(-1,1)\n",
    "northward_wind_MAM_mean_15 = np.mean(np.concatenate((northward_wind_MAM_mean_15_1, northward_wind_MAM_mean_15_2, eastward_wind_MAM_mean_15_3), axis = 0)).reshape(-1,1)\n",
    "northward_wind_MAM_mean_16 = np.mean(northward_wind_MAM_mean[2134:2208]).reshape(-1,1)\n",
    "northward_wind_MAM_mean_17_1 = northward_wind_MAM_mean[2208:2261].reshape(-1,1)\n",
    "northward_wind_MAM_mean_17_2 = northward_wind_MAM_mean[2268:2274].reshape(-1,1)\n",
    "northward_wind_MAM_mean_17_3 = northward_wind_MAM_mean[2280:2300].reshape(-1,1)\n",
    "northward_wind_MAM_mean_17 = np.mean(np.concatenate((northward_wind_MAM_mean_17_1, northward_wind_MAM_mean_17_2, northward_wind_MAM_mean_17_3), axis = 0)).reshape(-1,1)\n",
    "northward_wind_MAM_mean_18 = np.mean(northward_wind_MAM_mean[2300:2389]).reshape(-1,1)\n",
    "northward_wind_MAM_mean_19_1 = northward_wind_MAM_mean[2389:2428].reshape(-1,1)\n",
    "northward_wind_MAM_mean_19_2 = northward_wind_MAM_mean[2435:2441].reshape(-1,1)\n",
    "northward_wind_MAM_mean_19_3 = northward_wind_MAM_mean[2448:].reshape(-1,1)\n",
    "northward_wind_MAM_mean_19 = np.mean(np.concatenate((northward_wind_MAM_mean_19_1, northward_wind_MAM_mean_19_2, northward_wind_MAM_mean_19_3), axis = 0)).reshape(-1,1)"
   ]
  },
  {
   "cell_type": "code",
   "execution_count": 55,
   "id": "c2b27f30",
   "metadata": {},
   "outputs": [],
   "source": [
    "surface_downward_eastward_stress_SON_93 = np.mean(surface_downward_eastward_stress_SON[:92]).reshape(-1,1)\n",
    "surface_downward_eastward_stress_SON_94 = np.mean(surface_downward_eastward_stress_SON[92:184]).reshape(-1,1)\n",
    "surface_downward_eastward_stress_SON_95 = np.mean(surface_downward_eastward_stress_SON[184:276]).reshape(-1,1)\n",
    "surface_downward_eastward_stress_SON_96 = np.mean(surface_downward_eastward_stress_SON[276:368]).reshape(-1,1)\n",
    "surface_downward_eastward_stress_SON_97 = np.mean(surface_downward_eastward_stress_SON[368:460]).reshape(-1,1)\n",
    "surface_downward_eastward_stress_SON_98_1 = surface_downward_eastward_stress_SON[467:494].reshape(-1,1)\n",
    "surface_downward_eastward_stress_SON_98_2 = surface_downward_eastward_stress_SON[507:552].reshape(-1,1)\n",
    "surface_downward_eastward_stress_SON_98 = np.mean(np.concatenate((surface_downward_eastward_stress_SON_98_1, surface_downward_eastward_stress_SON_98_2), axis = 0)).reshape(-1,1)\n",
    "surface_downward_eastward_stress_SON_99 = np.mean(surface_downward_eastward_stress_SON[552:644]).reshape(-1,1)\n",
    "surface_downward_eastward_stress_SON_00 = np.mean(surface_downward_eastward_stress_SON[644:736]).reshape(-1,1)\n",
    "surface_downward_eastward_stress_SON_01 = np.mean(surface_downward_eastward_stress_SON[736:828]).reshape(-1,1)\n",
    "surface_downward_eastward_stress_SON_02 = np.mean(surface_downward_eastward_stress_SON[828:920]).reshape(-1,1)\n",
    "surface_downward_eastward_stress_SON_03 = np.mean(surface_downward_eastward_stress_SON[920:1012]).reshape(-1,1)\n",
    "surface_downward_eastward_stress_SON_04 = np.mean(surface_downward_eastward_stress_SON[1012:1104]).reshape(-1,1)\n",
    "surface_downward_eastward_stress_SON_05 = np.mean(surface_downward_eastward_stress_SON[1104:1196]).reshape(-1,1)\n",
    "surface_downward_eastward_stress_SON_06 = np.mean(surface_downward_eastward_stress_SON[1196:1288]).reshape(-1,1)\n",
    "surface_downward_eastward_stress_SON_07 = np.mean(surface_downward_eastward_stress_SON[1288:1380]).reshape(-1,1)\n",
    "surface_downward_eastward_stress_SON_08 = np.mean(surface_downward_eastward_stress_SON[1380:1472]).reshape(-1,1)\n",
    "surface_downward_eastward_stress_SON_09 = np.mean(surface_downward_eastward_stress_SON[1472:1564]).reshape(-1,1)\n",
    "surface_downward_eastward_stress_SON_10_1 = surface_downward_eastward_stress_SON[1573:1576].reshape(-1,1)\n",
    "surface_downward_eastward_stress_SON_10_2 = surface_downward_eastward_stress_SON[1622:1656].reshape(-1,1)\n",
    "surface_downward_eastward_stress_SON_10 = np.mean(np.concatenate((surface_downward_eastward_stress_SON_10_1, surface_downward_eastward_stress_SON_10_2), axis = 0)).reshape(-1,1)\n",
    "surface_downward_eastward_stress_SON_11 = np.mean(surface_downward_eastward_stress_SON[1656:1748]).reshape(-1,1)\n",
    "surface_downward_eastward_stress_SON_12 = np.mean(surface_downward_eastward_stress_SON[1748:1840]).reshape(-1,1)\n",
    "surface_downward_eastward_stress_SON_13 = np.mean(surface_downward_eastward_stress_SON[1840:1932]).reshape(-1,1)\n",
    "surface_downward_eastward_stress_SON_14 = np.mean(surface_downward_eastward_stress_SON[1932:2024]).reshape(-1,1)\n",
    "surface_downward_eastward_stress_SON_15_1 = surface_downward_eastward_stress_SON[2024:2049].reshape(-1,1)\n",
    "surface_downward_eastward_stress_SON_15_2 = surface_downward_eastward_stress_SON[2064:2079].reshape(-1,1)\n",
    "surface_downward_eastward_stress_SON_15_3 = surface_downward_eastward_stress_SON[2089:2093].reshape(-1,1)\n",
    "surface_downward_eastward_stress_SON_15 = np.mean(np.concatenate((surface_downward_eastward_stress_SON_15_1, surface_downward_eastward_stress_SON_15_2, surface_downward_eastward_stress_SON_15_3), axis = 0)).reshape(-1,1)\n",
    "surface_downward_eastward_stress_SON_16 = np.mean(surface_downward_eastward_stress_SON[2134:2208]).reshape(-1,1)\n",
    "surface_downward_eastward_stress_SON_17_1 = surface_downward_eastward_stress_SON[2208:2261].reshape(-1,1)\n",
    "surface_downward_eastward_stress_SON_17_2 = surface_downward_eastward_stress_SON[2268:2274].reshape(-1,1)\n",
    "surface_downward_eastward_stress_SON_17_3 = surface_downward_eastward_stress_SON[2280:2300].reshape(-1,1)\n",
    "surface_downward_eastward_stress_SON_17 = np.mean(np.concatenate((surface_downward_eastward_stress_SON_17_1, surface_downward_eastward_stress_SON_17_2, surface_downward_eastward_stress_SON_17_3), axis = 0)).reshape(-1,1)\n",
    "surface_downward_eastward_stress_SON_18 = np.mean(surface_downward_eastward_stress_SON[2300:2389]).reshape(-1,1)\n",
    "surface_downward_eastward_stress_SON_19_1 = surface_downward_eastward_stress_SON[2389:2428].reshape(-1,1)\n",
    "surface_downward_eastward_stress_SON_19_2 = surface_downward_eastward_stress_SON[2435:2441].reshape(-1,1)\n",
    "surface_downward_eastward_stress_SON_19_3 = surface_downward_eastward_stress_SON[2448:].reshape(-1,1)\n",
    "surface_downward_eastward_stress_SON_19 = np.mean(np.concatenate((surface_downward_eastward_stress_SON_19_1, surface_downward_eastward_stress_SON_19_2, surface_downward_eastward_stress_SON_19_3), axis = 0)).reshape(-1,1)"
   ]
  },
  {
   "cell_type": "code",
   "execution_count": 56,
   "id": "c289d516",
   "metadata": {},
   "outputs": [],
   "source": [
    "surface_downward_northward_stress_SON_93 = np.mean(surface_downward_eastward_stress_SON[:92]).reshape(-1,1)\n",
    "surface_downward_northward_stress_SON_94 = np.mean(surface_downward_eastward_stress_SON[92:184]).reshape(-1,1)\n",
    "surface_downward_northward_stress_SON_95 = np.mean(surface_downward_eastward_stress_SON[184:276]).reshape(-1,1)\n",
    "surface_downward_northward_stress_SON_96 = np.mean(surface_downward_eastward_stress_SON[276:368]).reshape(-1,1)\n",
    "surface_downward_northward_stress_SON_97 = np.mean(surface_downward_eastward_stress_SON[368:460]).reshape(-1,1)\n",
    "surface_downward_northward_stress_SON_98_1 = surface_downward_eastward_stress_SON[467:494].reshape(-1,1)\n",
    "surface_downward_northward_stress_SON_98_2 = surface_downward_eastward_stress_SON[507:552].reshape(-1,1)\n",
    "surface_downward_northward_stress_SON_98 = np.mean(np.concatenate((surface_downward_eastward_stress_SON_98_1, surface_downward_eastward_stress_SON_98_2), axis = 0)).reshape(-1,1)\n",
    "surface_downward_northward_stress_SON_99 = np.mean(surface_downward_eastward_stress_SON[552:644]).reshape(-1,1)\n",
    "surface_downward_northward_stress_SON_00 = np.mean(surface_downward_eastward_stress_SON[644:736]).reshape(-1,1)\n",
    "surface_downward_northward_stress_SON_01 = np.mean(surface_downward_eastward_stress_SON[736:828]).reshape(-1,1)\n",
    "surface_downward_northward_stress_SON_02 = np.mean(surface_downward_eastward_stress_SON[828:920]).reshape(-1,1)\n",
    "surface_downward_northward_stress_SON_03 = np.mean(surface_downward_eastward_stress_SON[920:1012]).reshape(-1,1)\n",
    "surface_downward_northward_stress_SON_04 = np.mean(surface_downward_eastward_stress_SON[1012:1104]).reshape(-1,1)\n",
    "surface_downward_northward_stress_SON_05 = np.mean(surface_downward_eastward_stress_SON[1104:1196]).reshape(-1,1)\n",
    "surface_downward_northward_stress_SON_06 = np.mean(surface_downward_eastward_stress_SON[1196:1288]).reshape(-1,1)\n",
    "surface_downward_northward_stress_SON_07 = np.mean(surface_downward_eastward_stress_SON[1288:1380]).reshape(-1,1)\n",
    "surface_downward_northward_stress_SON_08 = np.mean(surface_downward_eastward_stress_SON[1380:1472]).reshape(-1,1)\n",
    "surface_downward_northward_stress_SON_09 = np.mean(surface_downward_eastward_stress_SON[1472:1564]).reshape(-1,1)\n",
    "surface_downward_northward_stress_SON_10_1 = surface_downward_eastward_stress_SON[1573:1576].reshape(-1,1)\n",
    "surface_downward_northward_stress_SON_10_2 = surface_downward_eastward_stress_SON[1622:1656].reshape(-1,1)\n",
    "surface_downward_northward_stress_SON_10 = np.mean(np.concatenate((surface_downward_eastward_stress_SON_10_1, surface_downward_eastward_stress_SON_10_2), axis = 0)).reshape(-1,1)\n",
    "surface_downward_northward_stress_SON_11 = np.mean(surface_downward_eastward_stress_SON[1656:1748]).reshape(-1,1)\n",
    "surface_downward_northward_stress_SON_12 = np.mean(surface_downward_eastward_stress_SON[1748:1840]).reshape(-1,1)\n",
    "surface_downward_northward_stress_SON_13 = np.mean(surface_downward_eastward_stress_SON[1840:1932]).reshape(-1,1)\n",
    "surface_downward_northward_stress_SON_14 = np.mean(surface_downward_eastward_stress_SON[1932:2024]).reshape(-1,1)\n",
    "surface_downward_northward_stress_SON_1x5_1 = surface_downward_eastward_stress_SON[2024:2049].reshape(-1,1)\n",
    "surface_downward_northward_stress_SON_15_2 = surface_downward_eastward_stress_SON[2064:2079].reshape(-1,1)\n",
    "surface_downward_northward_stress_SON_15_3 = surface_downward_eastward_stress_SON[2089:2093].reshape(-1,1)\n",
    "surface_downward_northward_stress_SON_15 = np.mean(np.concatenate((surface_downward_eastward_stress_SON_15_1, surface_downward_eastward_stress_SON_15_2, surface_downward_eastward_stress_SON_15_3), axis = 0)).reshape(-1,1)\n",
    "surface_downward_northward_stress_SON_16 = np.mean(surface_downward_eastward_stress_SON[2134:2208]).reshape(-1,1)\n",
    "surface_downward_northward_stress_SON_17_1 = surface_downward_eastward_stress_SON[2208:2261].reshape(-1,1)\n",
    "surface_downward_northward_stress_SON_17_2 = surface_downward_eastward_stress_SON[2268:2274].reshape(-1,1)\n",
    "surface_downward_northward_stress_SON_17_3 = surface_downward_eastward_stress_SON[2280:2300].reshape(-1,1)\n",
    "surface_downward_northward_stress_SON_17 = np.mean(np.concatenate((surface_downward_eastward_stress_SON_17_1, surface_downward_eastward_stress_SON_17_2, surface_downward_eastward_stress_SON_17_3), axis = 0)).reshape(-1,1)\n",
    "surface_downward_northward_stress_SON_18 = np.mean(surface_downward_eastward_stress_SON[2300:2389]).reshape(-1,1)\n",
    "surface_downward_northward_stress_SON_19_1 = surface_downward_eastward_stress_SON[2389:2428].reshape(-1,1)\n",
    "surface_downward_northward_stress_SON_19_2 = surface_downward_eastward_stress_SON[2435:2441].reshape(-1,1)\n",
    "surface_downward_northward_stress_SON_19_3 = surface_downward_eastward_stress_SON[2448:].reshape(-1,1)\n",
    "surface_downward_northward_stress_SON_19 = np.mean(np.concatenate((surface_downward_eastward_stress_SON_19_1, surface_downward_eastward_stress_SON_19_2, surface_downward_eastward_stress_SON_19_3), axis = 0)).reshape(-1,1)"
   ]
  },
  {
   "cell_type": "code",
   "execution_count": 57,
   "id": "dda6f5b6",
   "metadata": {},
   "outputs": [],
   "source": [
    "northward_wind_DJF_mean = np.mean((northward_wind_DJF), axis = (1,2))\n",
    "eastward_wind_DJF_mean = np.mean((eastward_wind_DJF), axis = (1,2))"
   ]
  },
  {
   "cell_type": "code",
   "execution_count": 59,
   "id": "13f3ee58",
   "metadata": {},
   "outputs": [],
   "source": [
    "eastward_wind_DJF_mean_93 = np.mean(eastward_wind_DJF_mean[:59]).reshape(-1,1)\n",
    "eastward_wind_DJF_mean_94 = np.mean(eastward_wind_DJF_mean[59:149]).reshape(-1,1)\n",
    "eastward_wind_DJF_mean_95 = np.mean(eastward_wind_DJF_mean[149:239]).reshape(-1,1)\n",
    "eastward_wind_DJF_mean_96 = np.mean(eastward_wind_DJF_mean[239:330]).reshape(-1,1)\n",
    "eastward_wind_DJF_mean_97 = np.mean(eastward_wind_DJF_mean[330:420]).reshape(-1,1)\n",
    "eastward_wind_DJF_mean_98_1 = eastward_wind_DJF_mean[420:444].reshape(-1,1)\n",
    "eastward_wind_DJF_mean_98_2 = eastward_wind_DJF_mean[459:466].reshape(-1,1)\n",
    "eastward_wind_DJF_mean_98_3 = eastward_wind_DJF_mean[490:497].reshape(-1,1)\n",
    "eastward_wind_DJF_mean_98 = np.mean(np.concatenate((eastward_wind_DJF_mean_98_1, eastward_wind_DJF_mean_98_2, eastward_wind_DJF_mean_98_3), axis = 0)).reshape(-1,1)\n",
    "eastward_wind_DJF_mean_99 = np.mean(eastward_wind_DJF_mean[510:600]).reshape(-1,1)\n",
    "eastward_wind_DJF_mean_00 = np.mean(eastward_wind_DJF_mean[600:691]).reshape(-1,1)\n",
    "eastward_wind_DJF_mean_01 = np.mean(eastward_wind_DJF_mean[691:781]).reshape(-1,1)\n",
    "eastward_wind_DJF_mean_02 = np.mean(eastward_wind_DJF_mean[781:871]).reshape(-1,1)\n",
    "eastward_wind_DJF_mean_03 = np.mean(eastward_wind_DJF_mean[871:961]).reshape(-1,1)\n",
    "eastward_wind_DJF_mean_04 = np.mean(eastward_wind_DJF_mean[961:1052]).reshape(-1,1)\n",
    "eastward_wind_DJF_mean_05 = np.mean(eastward_wind_DJF_mean[1052:1142]).reshape(-1,1)\n",
    "eastward_wind_DJF_mean_06 = np.mean(eastward_wind_DJF_mean[1142:1232]).reshape(-1,1)\n",
    "eastward_wind_DJF_mean_07_1 = eastward_wind_DJF_mean[1232:1284].reshape(-1,1)\n",
    "eastward_wind_DJF_mean_07_2 = eastward_wind_DJF_mean[1289:1322].reshape(-1,1)\n",
    "eastward_wind_DJF_mean_07 = np.mean(np.concatenate((eastward_wind_DJF_mean_07_1, eastward_wind_DJF_mean_07_2), axis = 0)).reshape(-1,1)\n",
    "eastward_wind_DJF_mean_08 = np.mean(eastward_wind_DJF_mean[1322:1413]).reshape(-1,1)\n",
    "eastward_wind_DJF_mean_09 = np.mean(eastward_wind_DJF_mean[1413:1503]).reshape(-1,1)\n",
    "eastward_wind_DJF_mean_10_1 = eastward_wind_DJF_mean[1413:1417].reshape(-1,1)\n",
    "eastward_wind_DJF_mean_10_2 = eastward_wind_DJF_mean[1433:1457].reshape(-1,1)\n",
    "eastward_wind_DJF_mean_10_3 = eastward_wind_DJF_mean[1480:1487].reshape(-1,1)\n",
    "eastward_wind_DJF_mean_10 = np.mean(np.concatenate((eastward_wind_DJF_mean_10_1, eastward_wind_DJF_mean_10_2, eastward_wind_DJF_mean_10_3), axis = 0)).reshape(-1,1)\n",
    "eastward_wind_DJF_mean_11 = np.mean(eastward_wind_DJF_mean[1594:1684]).reshape(-1,1)\n",
    "eastward_wind_DJF_mean_12 = np.mean(eastward_wind_DJF_mean[1684:1774]).reshape(-1,1)\n",
    "eastward_wind_DJF_mean_13_1 = eastward_wind_DJF_mean[1774:1784].reshape(-1,1)\n",
    "eastward_wind_DJF_mean_13_2 = eastward_wind_DJF_mean[1794:1812].reshape(-1,1)\n",
    "eastward_wind_DJF_mean_13_3 = eastward_wind_DJF_mean[1820:1864].reshape(-1,1)\n",
    "eastward_wind_DJF_mean_13 = np.mean(np.concatenate((eastward_wind_DJF_mean_13_1, eastward_wind_DJF_mean_13_2, eastward_wind_DJF_mean_13_3), axis = 0)).reshape(-1,1)\n",
    "eastward_wind_DJF_mean_14 = np.mean(eastward_wind_DJF_mean[1864:1955]).reshape(-1,1)\n",
    "eastward_wind_DJF_mean_15 = np.mean(eastward_wind_DJF_mean[1958:2045]).reshape(-1,1)\n",
    "eastward_wind_DJF_mean_17 = np.mean(eastward_wind_DJF_mean[2135:2225]).reshape(-1,1)\n",
    "eastward_wind_DJF_mean_18 = np.mean(eastward_wind_DJF_mean[2225:2315]).reshape(-1,1)\n",
    "eastward_wind_DJF_mean_19_1 = eastward_wind_DJF_mean[2325:2363].reshape(-1,1)\n",
    "eastward_wind_DJF_mean_19_2 = eastward_wind_DJF_mean[2369:2393].reshape(-1,1)\n",
    "eastward_wind_DJF_mean_19_3 = eastward_wind_DJF_mean[2398:].reshape(-1,1)\n",
    "eastward_wind_DJF_mean_19 = np.mean(np.concatenate((eastward_wind_DJF_mean_19_1, eastward_wind_DJF_mean_19_2, eastward_wind_DJF_mean_19_3), axis = 0)).reshape(-1,1)\n"
   ]
  },
  {
   "cell_type": "code",
   "execution_count": 62,
   "id": "ee3dc529",
   "metadata": {},
   "outputs": [],
   "source": [
    "northward_wind_DJF_mean_93 = np.mean(northward_wind_DJF_mean[:59]).reshape(-1,1)\n",
    "northward_wind_DJF_mean_94 = np.mean(northward_wind_DJF_mean[59:149]).reshape(-1,1)\n",
    "northward_wind_DJF_mean_95 = np.mean(northward_wind_DJF_mean[149:239]).reshape(-1,1)\n",
    "northward_wind_DJF_mean_96 = np.mean(northward_wind_DJF_mean[239:330]).reshape(-1,1)\n",
    "northward_wind_DJF_mean_97 = np.mean(northward_wind_DJF_mean[330:420]).reshape(-1,1)\n",
    "northward_wind_DJF_mean_98_1 = northward_wind_DJF_mean[420:444].reshape(-1,1)\n",
    "northward_wind_DJF_mean_98_2 = northward_wind_DJF_mean[459:466].reshape(-1,1)\n",
    "northward_wind_DJF_mean_98_3 = northward_wind_DJF_mean[490:497].reshape(-1,1)\n",
    "northward_wind_DJF_mean_98 = np.mean(np.concatenate((northward_wind_DJF_mean_98_1, northward_wind_DJF_mean_98_2, northward_wind_DJF_mean_98_3), axis = 0)).reshape(-1,1)\n",
    "northward_wind_DJF_mean_99 = np.mean(northward_wind_DJF_mean[510:600]).reshape(-1,1)\n",
    "northward_wind_DJF_mean_00 = np.mean(northward_wind_DJF_mean[600:691]).reshape(-1,1)\n",
    "northward_wind_DJF_mean_01 = np.mean(northward_wind_DJF_mean[691:781]).reshape(-1,1)\n",
    "northward_wind_DJF_mean_02 = np.mean(northward_wind_DJF_mean[781:871]).reshape(-1,1)\n",
    "northward_wind_DJF_mean_03 = np.mean(northward_wind_DJF_mean[871:961]).reshape(-1,1)\n",
    "northward_wind_DJF_mean_04 = np.mean(northward_wind_DJF_mean[961:1052]).reshape(-1,1)\n",
    "northward_wind_DJF_mean_05 = np.mean(northward_wind_DJF_mean[1052:1142]).reshape(-1,1)\n",
    "northward_wind_DJF_mean_06 = np.mean(northward_wind_DJF_mean[1142:1232]).reshape(-1,1)\n",
    "northward_wind_DJF_mean_07_1 = northward_wind_DJF_mean[1232:1284].reshape(-1,1)\n",
    "northward_wind_DJF_mean_07_2 = northward_wind_DJF_mean[1289:1322].reshape(-1,1)\n",
    "northward_wind_DJF_mean_07 = np.mean(np.concatenate((northward_wind_DJF_mean_07_1, northward_wind_DJF_mean_07_2), axis = 0)).reshape(-1,1)\n",
    "northward_wind_DJF_mean_08 = np.mean(northward_wind_DJF_mean[1322:1413]).reshape(-1,1)\n",
    "northward_wind_DJF_mean_09 = np.mean(northward_wind_DJF_mean[1413:1503]).reshape(-1,1)\n",
    "northward_wind_DJF_mean_10_1 = northward_wind_DJF_mean[1413:1417].reshape(-1,1)\n",
    "northward_wind_DJF_mean_10_2 = northward_wind_DJF_mean[1433:1457].reshape(-1,1)\n",
    "northward_wind_DJF_mean_10_3 = northward_wind_DJF_mean[1480:1487].reshape(-1,1)\n",
    "northward_wind_DJF_mean_10 = np.mean(np.concatenate((northward_wind_DJF_mean_10_1, northward_wind_DJF_mean_10_2, northward_wind_DJF_mean_10_3), axis = 0)).reshape(-1,1)\n",
    "northward_wind_DJF_mean_11 = np.mean(northward_wind_DJF_mean[1594:1684]).reshape(-1,1)\n",
    "northward_wind_DJF_mean_12 = np.mean(northward_wind_DJF_mean[1684:1774]).reshape(-1,1)\n",
    "northward_wind_DJF_mean_13_1 = northward_wind_DJF_mean[1774:1784].reshape(-1,1)\n",
    "northward_wind_DJF_mean_13_2 = northward_wind_DJF_mean[1794:1812].reshape(-1,1)\n",
    "northward_wind_DJF_mean_13_3 = northward_wind_DJF_mean[1820:1864].reshape(-1,1)\n",
    "northward_wind_DJF_mean_13 = np.mean(np.concatenate((northward_wind_DJF_mean_13_1, northward_wind_DJF_mean_13_2, northward_wind_DJF_mean_13_3), axis = 0)).reshape(-1,1)\n",
    "northward_wind_DJF_mean_14 = np.mean(northward_wind_DJF_mean[1864:1955]).reshape(-1,1)\n",
    "northward_wind_DJF_mean_15 = np.mean(northward_wind_DJF_mean[1958:2045]).reshape(-1,1)\n",
    "northward_wind_DJF_mean_17 = np.mean(northward_wind_DJF_mean[2135:2225]).reshape(-1,1)\n",
    "northward_wind_DJF_mean_18 = np.mean(northward_wind_DJF_mean[2225:2315]).reshape(-1,1)\n",
    "northward_wind_DJF_mean_19_1 = northward_wind_DJF_mean[2325:2363].reshape(-1,1)\n",
    "northward_wind_DJF_mean_19_2 = northward_wind_DJF_mean[2369:2393].reshape(-1,1)\n",
    "northward_wind_DJF_mean_19_3 = northward_wind_DJF_mean[2398:].reshape(-1,1)\n",
    "northward_wind_DJF_mean_19 = np.mean(np.concatenate((northward_wind_DJF_mean_19_1, northward_wind_DJF_mean_19_2, northward_wind_DJF_mean_19_3), axis = 0)).reshape(-1,1)\n"
   ]
  },
  {
   "cell_type": "code",
   "execution_count": null,
   "id": "daafe6dd",
   "metadata": {},
   "outputs": [],
   "source": []
  },
  {
   "cell_type": "code",
   "execution_count": 63,
   "id": "2c5643bf",
   "metadata": {},
   "outputs": [],
   "source": [
    "eastward_wind_DJF_mean_93_19_without_MHW = np.concatenate((eastward_wind_DJF_mean_93, eastward_wind_DJF_mean_94,\n",
    "                                              eastward_wind_DJF_mean_95, eastward_wind_DJF_mean_96,\n",
    "                                              eastward_wind_DJF_mean_97, eastward_wind_DJF_mean_98,\n",
    "                                              eastward_wind_DJF_mean_99, eastward_wind_DJF_mean_00,\n",
    "                                              eastward_wind_DJF_mean_01, eastward_wind_DJF_mean_02,\n",
    "                                              eastward_wind_DJF_mean_03, eastward_wind_DJF_mean_04,\n",
    "                                              eastward_wind_DJF_mean_05, eastward_wind_DJF_mean_06,\n",
    "                                              eastward_wind_DJF_mean_07, eastward_wind_DJF_mean_08,\n",
    "                                              eastward_wind_DJF_mean_09, eastward_wind_DJF_mean_10,\n",
    "                                              eastward_wind_DJF_mean_11, eastward_wind_DJF_mean_12,\n",
    "                                              eastward_wind_DJF_mean_13, eastward_wind_DJF_mean_14,\n",
    "                                              eastward_wind_DJF_mean_15,\n",
    "                                              eastward_wind_DJF_mean_17, eastward_wind_DJF_mean_18,eastward_wind_DJF_mean_19), axis = 0)"
   ]
  },
  {
   "cell_type": "code",
   "execution_count": 64,
   "id": "15a9796f",
   "metadata": {},
   "outputs": [],
   "source": [
    "northward_wind_DJF_mean_93_19_without_MHW = np.concatenate((northward_wind_DJF_mean_93, northward_wind_DJF_mean_94,\n",
    "                                              northward_wind_DJF_mean_95, northward_wind_DJF_mean_96,\n",
    "                                              northward_wind_DJF_mean_97, northward_wind_DJF_mean_98,\n",
    "                                              northward_wind_DJF_mean_99, northward_wind_DJF_mean_00,\n",
    "                                              northward_wind_DJF_mean_01, northward_wind_DJF_mean_02,\n",
    "                                              northward_wind_DJF_mean_03, northward_wind_DJF_mean_04,\n",
    "                                              northward_wind_DJF_mean_05, northward_wind_DJF_mean_06,\n",
    "                                              northward_wind_DJF_mean_07, northward_wind_DJF_mean_08,\n",
    "                                              northward_wind_DJF_mean_09, northward_wind_DJF_mean_10,\n",
    "                                              northward_wind_DJF_mean_11, northward_wind_DJF_mean_12,\n",
    "                                              northward_wind_DJF_mean_13, northward_wind_DJF_mean_14,\n",
    "                                              northward_wind_DJF_mean_15, \n",
    "                                              northward_wind_DJF_mean_17, northward_wind_DJF_mean_18,northward_wind_DJF_mean_19), axis = 0)"
   ]
  },
  {
   "cell_type": "code",
   "execution_count": 66,
   "id": "1648d33c",
   "metadata": {},
   "outputs": [],
   "source": [
    "eastward_wind_MAM_mean_93_19_without_MHW = np.concatenate((eastward_wind_MAM_mean_93, eastward_wind_MAM_mean_94,\n",
    "                                              eastward_wind_MAM_mean_95, eastward_wind_MAM_mean_96,\n",
    "                                              eastward_wind_MAM_mean_97, eastward_wind_MAM_mean_98,\n",
    "                                              eastward_wind_MAM_mean_99, eastward_wind_MAM_mean_00,\n",
    "                                              eastward_wind_MAM_mean_01, eastward_wind_MAM_mean_02,\n",
    "                                              eastward_wind_MAM_mean_03, eastward_wind_MAM_mean_04,\n",
    "                                              eastward_wind_MAM_mean_05, eastward_wind_MAM_mean_06,\n",
    "                                              eastward_wind_MAM_mean_07, eastward_wind_MAM_mean_08,\n",
    "                                              eastward_wind_MAM_mean_09, eastward_wind_MAM_mean_10,\n",
    "                                              eastward_wind_MAM_mean_11, eastward_wind_MAM_mean_12,\n",
    "                                              eastward_wind_MAM_mean_13, eastward_wind_MAM_mean_14,\n",
    "                                              eastward_wind_MAM_mean_15, eastward_wind_MAM_mean_16,\n",
    "                                              eastward_wind_MAM_mean_17, eastward_wind_MAM_mean_18,eastward_wind_MAM_mean_19), axis = 0)"
   ]
  },
  {
   "cell_type": "code",
   "execution_count": 67,
   "id": "0f709e85",
   "metadata": {},
   "outputs": [],
   "source": [
    "northward_wind_MAM_mean_93_19_without_MHW = np.concatenate((northward_wind_MAM_mean_93, northward_wind_MAM_mean_94,\n",
    "                                              northward_wind_MAM_mean_95, northward_wind_MAM_mean_96,\n",
    "                                              northward_wind_MAM_mean_97, northward_wind_MAM_mean_98,\n",
    "                                              northward_wind_MAM_mean_99, northward_wind_MAM_mean_00,\n",
    "                                              northward_wind_MAM_mean_01, northward_wind_MAM_mean_02,\n",
    "                                              northward_wind_MAM_mean_03, northward_wind_MAM_mean_04,\n",
    "                                              northward_wind_MAM_mean_05, northward_wind_MAM_mean_06,\n",
    "                                              northward_wind_MAM_mean_07, northward_wind_MAM_mean_08,\n",
    "                                              northward_wind_MAM_mean_09, northward_wind_MAM_mean_10,\n",
    "                                              northward_wind_MAM_mean_11, northward_wind_MAM_mean_12,\n",
    "                                              northward_wind_MAM_mean_13, northward_wind_MAM_mean_14,\n",
    "                                              northward_wind_MAM_mean_15, northward_wind_MAM_mean_16,\n",
    "                                              northward_wind_MAM_mean_17, northward_wind_MAM_mean_18,northward_wind_MAM_mean_19), axis = 0)"
   ]
  },
  {
   "cell_type": "code",
   "execution_count": 68,
   "id": "0fa16eda",
   "metadata": {},
   "outputs": [],
   "source": [
    "eastward_wind_SON_mean_93_19_without_MHW = np.concatenate((eastward_wind_SON_mean_93, eastward_wind_SON_mean_94,\n",
    "                                              eastward_wind_SON_mean_95, eastward_wind_SON_mean_96,\n",
    "                                              eastward_wind_SON_mean_97, eastward_wind_SON_mean_98,\n",
    "                                              eastward_wind_SON_mean_99, eastward_wind_SON_mean_00,\n",
    "                                              eastward_wind_SON_mean_01, eastward_wind_SON_mean_02,\n",
    "                                              eastward_wind_SON_mean_03, eastward_wind_SON_mean_04,\n",
    "                                              eastward_wind_SON_mean_05, eastward_wind_SON_mean_06,\n",
    "                                              eastward_wind_SON_mean_07, eastward_wind_SON_mean_08,\n",
    "                                              eastward_wind_SON_mean_09, eastward_wind_SON_mean_10,\n",
    "                                              eastward_wind_SON_mean_11, eastward_wind_SON_mean_12,\n",
    "                                              eastward_wind_SON_mean_13, eastward_wind_SON_mean_14,\n",
    "                                              eastward_wind_SON_mean_15, eastward_wind_SON_mean_16,\n",
    "                                              eastward_wind_SON_mean_17, eastward_wind_SON_mean_18,eastward_wind_SON_mean_19), axis = 0)"
   ]
  },
  {
   "cell_type": "code",
   "execution_count": 69,
   "id": "a5c36beb",
   "metadata": {},
   "outputs": [],
   "source": [
    "northward_wind_SON_mean_93_19_without_MHW = np.concatenate((northward_wind_SON_mean_93,northward_wind_SON_mean_94,\n",
    "                                              northward_wind_SON_mean_95, northward_wind_SON_mean_96,\n",
    "                                              northward_wind_SON_mean_97, northward_wind_SON_mean_98,\n",
    "                                              northward_wind_SON_mean_99, northward_wind_SON_mean_00,\n",
    "                                              northward_wind_SON_mean_01, northward_wind_SON_mean_02,\n",
    "                                              northward_wind_SON_mean_03, northward_wind_SON_mean_04,\n",
    "                                              northward_wind_SON_mean_05, northward_wind_SON_mean_06,\n",
    "                                              northward_wind_SON_mean_07, northward_wind_SON_mean_08,\n",
    "                                              northward_wind_SON_mean_09, northward_wind_SON_mean_10,\n",
    "                                              northward_wind_SON_mean_11, northward_wind_SON_mean_12,\n",
    "                                              northward_wind_SON_mean_13, northward_wind_SON_mean_14,\n",
    "                                              northward_wind_SON_mean_15, northward_wind_SON_mean_16,\n",
    "                                              northward_wind_SON_mean_17, northward_wind_SON_mean_18,northward_wind_SON_mean_19), axis = 0)"
   ]
  },
  {
   "cell_type": "code",
   "execution_count": 70,
   "id": "08447023",
   "metadata": {},
   "outputs": [],
   "source": [
    "eastward_wind_JJA_mean_93_19_without_MHW = np.concatenate((eastward_wind_JJA_mean_93, eastward_wind_JJA_mean_94,\n",
    "                                              eastward_wind_JJA_mean_95, eastward_wind_JJA_mean_96,\n",
    "                                              eastward_wind_JJA_mean_97, eastward_wind_JJA_mean_98,\n",
    "                                              eastward_wind_JJA_mean_99, eastward_wind_JJA_mean_00,\n",
    "                                              eastward_wind_JJA_mean_01, eastward_wind_JJA_mean_02,\n",
    "                                              eastward_wind_JJA_mean_03, eastward_wind_JJA_mean_04,\n",
    "                                              eastward_wind_JJA_mean_05, eastward_wind_JJA_mean_06,\n",
    "                                              eastward_wind_JJA_mean_07, eastward_wind_JJA_mean_08,\n",
    "                                              eastward_wind_JJA_mean_09, eastward_wind_JJA_mean_10,\n",
    "                                              eastward_wind_JJA_mean_11, eastward_wind_JJA_mean_12,\n",
    "                                              eastward_wind_JJA_mean_13, eastward_wind_JJA_mean_14,\n",
    "                                              eastward_wind_JJA_mean_15, eastward_wind_JJA_mean_16,\n",
    "                                              eastward_wind_JJA_mean_17, eastward_wind_JJA_mean_18,eastward_wind_JJA_mean_19), axis = 0)"
   ]
  },
  {
   "cell_type": "code",
   "execution_count": 71,
   "id": "b73cbca5",
   "metadata": {},
   "outputs": [],
   "source": [
    "northward_wind_JJA_mean_93_19_without_MHW = np.concatenate((northward_wind_JJA_mean_93,northward_wind_JJA_mean_94,\n",
    "                                              northward_wind_JJA_mean_95, northward_wind_JJA_mean_96,\n",
    "                                              northward_wind_JJA_mean_97, northward_wind_JJA_mean_98,\n",
    "                                              northward_wind_JJA_mean_99, northward_wind_JJA_mean_00,\n",
    "                                              northward_wind_JJA_mean_01, northward_wind_JJA_mean_02,\n",
    "                                              northward_wind_JJA_mean_03, northward_wind_JJA_mean_04,\n",
    "                                              northward_wind_JJA_mean_05, northward_wind_JJA_mean_06,\n",
    "                                              northward_wind_JJA_mean_07, northward_wind_JJA_mean_08,\n",
    "                                              northward_wind_JJA_mean_09, northward_wind_JJA_mean_10,\n",
    "                                              northward_wind_JJA_mean_11, northward_wind_JJA_mean_12,\n",
    "                                              northward_wind_JJA_mean_13, northward_wind_JJA_mean_14,\n",
    "                                              northward_wind_JJA_mean_15, northward_wind_JJA_mean_16,\n",
    "                                              northward_wind_JJA_mean_17, northward_wind_JJA_mean_18,northward_wind_JJA_mean_19), axis = 0)"
   ]
  },
  {
   "cell_type": "code",
   "execution_count": 72,
   "id": "6adb5d31",
   "metadata": {},
   "outputs": [],
   "source": [
    "np.savez(r'D:\\heat_wave\\WEIO\\expand_WEIO\\other_variables\\last\\wind_93_19_WEIO_area_JJA_SON_DJF_MAM_without_MHW_mean.npz',\n",
    "        northward_wind_JJA_mean_93_19_without_MHW = northward_wind_JJA_mean_93_19_without_MHW,\n",
    "        eastward_wind_JJA_mean_93_19_without_MHW = eastward_wind_JJA_mean_93_19_without_MHW,\n",
    "        northward_wind_SON_mean_93_19_without_MHW = northward_wind_SON_mean_93_19_without_MHW,\n",
    "        eastward_wind_SON_mean_93_19_without_MHW = eastward_wind_SON_mean_93_19_without_MHW,\n",
    "        northward_wind_MAM_mean_93_19_without_MHW = northward_wind_MAM_mean_93_19_without_MHW,\n",
    "        eastward_wind_MAM_mean_93_19_without_MHW = eastward_wind_MAM_mean_93_19_without_MHW,\n",
    "        eastward_wind_DJF_mean_93_19_without_MHW = eastward_wind_DJF_mean_93_19_without_MHW,\n",
    "        northward_wind_DJF_mean_93_19_without_MHW = northward_wind_DJF_mean_93_19_without_MHW)"
   ]
  },
  {
   "cell_type": "code",
   "execution_count": null,
   "id": "602f7a7c",
   "metadata": {},
   "outputs": [],
   "source": []
  },
  {
   "cell_type": "code",
   "execution_count": null,
   "id": "d4f0005d",
   "metadata": {},
   "outputs": [],
   "source": []
  },
  {
   "cell_type": "code",
   "execution_count": null,
   "id": "fb69ff21",
   "metadata": {},
   "outputs": [],
   "source": []
  },
  {
   "cell_type": "code",
   "execution_count": null,
   "id": "743f87c1",
   "metadata": {},
   "outputs": [],
   "source": []
  },
  {
   "cell_type": "code",
   "execution_count": null,
   "id": "5be351ff",
   "metadata": {},
   "outputs": [],
   "source": []
  },
  {
   "cell_type": "code",
   "execution_count": null,
   "id": "9aad8afa",
   "metadata": {},
   "outputs": [],
   "source": []
  },
  {
   "cell_type": "code",
   "execution_count": 78,
   "id": "4ea29442",
   "metadata": {},
   "outputs": [
    {
     "data": {
      "text/plain": [
       "1999.2"
      ]
     },
     "execution_count": 78,
     "metadata": {},
     "output_type": "execute_result"
    }
   ],
   "source": [
    "2499 * 0.8"
   ]
  },
  {
   "cell_type": "code",
   "execution_count": 82,
   "id": "c0327abd",
   "metadata": {},
   "outputs": [
    {
     "data": {
      "text/plain": [
       "512"
      ]
     },
     "execution_count": 82,
     "metadata": {},
     "output_type": "execute_result"
    }
   ],
   "source": [
    "1984 - 1472"
   ]
  },
  {
   "cell_type": "code",
   "execution_count": null,
   "id": "aeb9cfdc",
   "metadata": {},
   "outputs": [],
   "source": []
  }
 ],
 "metadata": {
  "kernelspec": {
   "display_name": "Python 3 (ipykernel)",
   "language": "python",
   "name": "python3"
  },
  "language_info": {
   "codemirror_mode": {
    "name": "ipython",
    "version": 3
   },
   "file_extension": ".py",
   "mimetype": "text/x-python",
   "name": "python",
   "nbconvert_exporter": "python",
   "pygments_lexer": "ipython3",
   "version": "3.8.18"
  }
 },
 "nbformat": 4,
 "nbformat_minor": 5
}

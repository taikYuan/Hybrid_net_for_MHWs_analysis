{
 "cells": [
  {
   "cell_type": "code",
   "execution_count": 1,
   "id": "3338bf08",
   "metadata": {},
   "outputs": [],
   "source": [
    "import random\n",
    "\n",
    "import numpy as np\n",
    "import torch\n",
    "from sklearn.metrics import mean_squared_error\n",
    "from sklearn.preprocessing import MinMaxScaler\n",
    "from torch import nn\n",
    "from tqdm import tqdm\n",
    "from torch.autograd import Variable\n",
    "from torch.utils.data import Dataset, DataLoader"
   ]
  },
  {
   "cell_type": "code",
   "execution_count": 2,
   "id": "b147771a",
   "metadata": {},
   "outputs": [
    {
     "name": "stdout",
     "output_type": "stream",
     "text": [
      "['lat', 'lon', 'low_cloud_cover']\n"
     ]
    }
   ],
   "source": [
    "data = np.load(r'D:\\heat_wave\\WEIO\\expand_WEIO\\other_variables\\海气反馈\\low_cloud_cover_WEIO_chazhi.npz')\n",
    "print(data.files) # ['sst_obser', 'slfh', 'sshf', 'ssr', 'str', 'mld', 'analysis_temp', 'u', 'v', 'T_d', 'u_d', 'v_d', 'xx', 'yy', 'dT_dt', 'dT_dx', 'dT_dy']"
   ]
  },
  {
   "cell_type": "code",
   "execution_count": 3,
   "id": "f3a87702",
   "metadata": {},
   "outputs": [],
   "source": [
    "low_cloud_cover = data['low_cloud_cover'][:]"
   ]
  },
  {
   "cell_type": "code",
   "execution_count": 4,
   "id": "302fe283",
   "metadata": {},
   "outputs": [],
   "source": [
    "# MAM   93\n",
    "date_93_1 = 59\n",
    "date_93_2 = 151\n",
    "data_1 = date_93_1\n",
    "data_2 = date_93_2\n",
    "\n",
    "low_cloud_cover_93 = low_cloud_cover[data_1:data_2,:,:]"
   ]
  },
  {
   "cell_type": "code",
   "execution_count": 5,
   "id": "84f9153c",
   "metadata": {},
   "outputs": [],
   "source": [
    "# MAM   94\n",
    "date_94_1 = 424\n",
    "date_94_2 = 516\n",
    "data_1 = date_94_1\n",
    "data_2 = date_94_2\n",
    "\n",
    "low_cloud_cover_94 = low_cloud_cover[data_1:data_2,:,:]"
   ]
  },
  {
   "cell_type": "code",
   "execution_count": 6,
   "id": "963a632f",
   "metadata": {},
   "outputs": [],
   "source": [
    "# MAM   95\n",
    "date_95_1 = 789\n",
    "date_95_2 = 881\n",
    "data_1 = date_95_1\n",
    "data_2 = date_95_2\n",
    "\n",
    "low_cloud_cover_95 = low_cloud_cover[data_1:data_2,:,:]"
   ]
  },
  {
   "cell_type": "code",
   "execution_count": 7,
   "id": "b36ee484",
   "metadata": {},
   "outputs": [],
   "source": [
    "# MAM   96\n",
    "date_96_1 = 1155\n",
    "date_96_2 = 1247\n",
    "data_1 = date_96_1\n",
    "data_2 = date_96_2\n",
    "\n",
    "low_cloud_cover_96 = low_cloud_cover[data_1:data_2,:,:]"
   ]
  },
  {
   "cell_type": "code",
   "execution_count": 8,
   "id": "8685cb58",
   "metadata": {},
   "outputs": [],
   "source": [
    "# MAM   97\n",
    "date_97_1 = 1520\n",
    "date_97_2 = 1611\n",
    "data_1 = date_97_1\n",
    "data_2 = date_97_2\n",
    "\n",
    "low_cloud_cover_97 = low_cloud_cover[data_1:data_2,:,:]"
   ]
  },
  {
   "cell_type": "code",
   "execution_count": 9,
   "id": "f3011868",
   "metadata": {},
   "outputs": [],
   "source": [
    "# MAM   98\n",
    "date_98_1 = 1885\n",
    "date_98_2 = 1977\n",
    "data_1 = date_98_1\n",
    "data_2 = date_98_2\n",
    "\n",
    "low_cloud_cover_98 = low_cloud_cover[data_1:data_2,:,:]"
   ]
  },
  {
   "cell_type": "code",
   "execution_count": 10,
   "id": "ff6a4c20",
   "metadata": {},
   "outputs": [],
   "source": [
    "# MAM   99\n",
    "date_99_1 = 2250\n",
    "date_99_2 = 2342\n",
    "data_1 = date_99_1\n",
    "data_2 = date_99_2\n",
    "\n",
    "low_cloud_cover_99 = low_cloud_cover[data_1:data_2,:,:]"
   ]
  },
  {
   "cell_type": "code",
   "execution_count": 11,
   "id": "635174f2",
   "metadata": {},
   "outputs": [],
   "source": [
    "# MAM   00\n",
    "date_00_1 = 2616\n",
    "date_00_2 = 2708\n",
    "data_1 = date_00_1\n",
    "data_2 = date_00_2\n",
    "\n",
    "low_cloud_cover_00 = low_cloud_cover[data_1:data_2,:,:]"
   ]
  },
  {
   "cell_type": "code",
   "execution_count": 12,
   "id": "2e280b33",
   "metadata": {},
   "outputs": [],
   "source": [
    "# MAM   01\n",
    "date_01_1 = 2981\n",
    "date_01_2 = 3073\n",
    "data_1 = date_01_1\n",
    "data_2 = date_01_2\n",
    "\n",
    "low_cloud_cover_01 = low_cloud_cover[data_1:data_2,:,:]"
   ]
  },
  {
   "cell_type": "code",
   "execution_count": 13,
   "id": "11e3ad49",
   "metadata": {},
   "outputs": [],
   "source": [
    "# MAM   02\n",
    "date_02_1 = 3346\n",
    "date_02_2 = 3438\n",
    "data_1 = date_02_1\n",
    "data_2 = date_02_2\n",
    "\n",
    "low_cloud_cover_02 = low_cloud_cover[data_1:data_2,:,:]"
   ]
  },
  {
   "cell_type": "code",
   "execution_count": 14,
   "id": "6fdd2be1",
   "metadata": {},
   "outputs": [],
   "source": [
    "# MAM   03\n",
    "date_03_1 = 3711\n",
    "date_03_2 = 3803\n",
    "data_1 = date_03_1\n",
    "data_2 = date_03_2\n",
    "\n",
    "low_cloud_cover_03 = low_cloud_cover[data_1:data_2,:,:]"
   ]
  },
  {
   "cell_type": "code",
   "execution_count": 15,
   "id": "7ad4bafa",
   "metadata": {},
   "outputs": [],
   "source": [
    "# MAM   04\n",
    "date_04_1 = 4077\n",
    "date_04_2 = 4169\n",
    "data_1 = date_04_1\n",
    "data_2 = date_04_2\n",
    "\n",
    "low_cloud_cover_04 = low_cloud_cover[data_1:data_2,:,:]"
   ]
  },
  {
   "cell_type": "code",
   "execution_count": 16,
   "id": "92d9541e",
   "metadata": {},
   "outputs": [],
   "source": [
    "# MAM   05\n",
    "date_05_1 = 4442\n",
    "date_05_2 = 4534\n",
    "data_1 = date_05_1\n",
    "data_2 = date_05_2\n",
    "\n",
    "low_cloud_cover_05 = low_cloud_cover[data_1:data_2,:,:]"
   ]
  },
  {
   "cell_type": "code",
   "execution_count": 17,
   "id": "bd00c1a6",
   "metadata": {},
   "outputs": [],
   "source": [
    "# MAM   06\n",
    "date_06_1 = 4807\n",
    "date_06_2 = 4899\n",
    "data_1 = date_06_1\n",
    "data_2 = date_06_2\n",
    "\n",
    "low_cloud_cover_06 = low_cloud_cover[data_1:data_2,:,:]"
   ]
  },
  {
   "cell_type": "code",
   "execution_count": 18,
   "id": "e062b436",
   "metadata": {},
   "outputs": [],
   "source": [
    "# MAM   07\n",
    "date_07_1 = 5172\n",
    "date_07_2 = 5264\n",
    "data_1 = date_07_1\n",
    "data_2 = date_07_2\n",
    "\n",
    "low_cloud_cover_07 = low_cloud_cover[data_1:data_2,:,:]"
   ]
  },
  {
   "cell_type": "code",
   "execution_count": 19,
   "id": "be82cd8e",
   "metadata": {},
   "outputs": [],
   "source": [
    "# MAM   08\n",
    "date_08_1 = 5538\n",
    "date_08_2 = 5630\n",
    "data_1 = date_08_1\n",
    "data_2 = date_08_2\n",
    "\n",
    "sea_surface_height_above_geoid_08 = sea_surface_height_above_geoid[data_1:data_2,:,:]\n",
    "sea_surface_height_above_sea_level_08 = sea_surface_height_above_sea_level[data_1:data_2,:,:]"
   ]
  },
  {
   "cell_type": "code",
   "execution_count": 20,
   "id": "7db42015",
   "metadata": {},
   "outputs": [],
   "source": [
    "# MAM   09\n",
    "date_09_1 = 5903\n",
    "date_09_2 = 5995\n",
    "data_1 = date_09_1\n",
    "data_2 = date_09_2\n",
    "\n",
    "sea_surface_height_above_geoid_09 = sea_surface_height_above_geoid[data_1:data_2,:,:]\n",
    "sea_surface_height_above_sea_level_09 = sea_surface_height_above_sea_level[data_1:data_2,:,:]"
   ]
  },
  {
   "cell_type": "code",
   "execution_count": 21,
   "id": "6432a086",
   "metadata": {},
   "outputs": [],
   "source": [
    "# MAM   10\n",
    "date_10_1 = 6268\n",
    "date_10_2 = 6360\n",
    "data_1 = date_10_1\n",
    "data_2 = date_10_2\n",
    "\n",
    "sea_surface_height_above_geoid_10 = sea_surface_height_above_geoid[data_1:data_2,:,:]\n",
    "sea_surface_height_above_sea_level_10 = sea_surface_height_above_sea_level[data_1:data_2,:,:]"
   ]
  },
  {
   "cell_type": "code",
   "execution_count": 22,
   "id": "a96e9462",
   "metadata": {},
   "outputs": [],
   "source": [
    "# MAM   11\n",
    "date_11_1 = 6633\n",
    "date_11_2 = 6725\n",
    "data_1 = date_11_1\n",
    "data_2 = date_11_2\n",
    "\n",
    "sea_surface_height_above_geoid_11 = sea_surface_height_above_geoid[data_1:data_2,:,:]\n",
    "sea_surface_height_above_sea_level_11 = sea_surface_height_above_sea_level[data_1:data_2,:,:]"
   ]
  },
  {
   "cell_type": "code",
   "execution_count": 23,
   "id": "cf49bcb3",
   "metadata": {},
   "outputs": [],
   "source": [
    "# MAM   12\n",
    "date_12_1 = 6999\n",
    "date_12_2 = 7091\n",
    "data_1 = date_12_1\n",
    "data_2 = date_12_2\n",
    "\n",
    "sea_surface_height_above_geoid_12 = sea_surface_height_above_geoid[data_1:data_2,:,:]\n",
    "sea_surface_height_above_sea_level_12 = sea_surface_height_above_sea_level[data_1:data_2,:,:]"
   ]
  },
  {
   "cell_type": "code",
   "execution_count": 24,
   "id": "1bd88875",
   "metadata": {},
   "outputs": [],
   "source": [
    "# MAM   13\n",
    "date_13_1 = 7364\n",
    "date_13_2 = 7455\n",
    "data_1 = date_13_1\n",
    "data_2 = date_13_2\n",
    "\n",
    "sea_surface_height_above_geoid_13 = sea_surface_height_above_geoid[data_1:data_2,:,:]\n",
    "sea_surface_height_above_sea_level_13 = sea_surface_height_above_sea_level[data_1:data_2,:,:]"
   ]
  },
  {
   "cell_type": "code",
   "execution_count": 25,
   "id": "5fd67470",
   "metadata": {},
   "outputs": [],
   "source": [
    "# MAM   14\n",
    "date_14_1 = 7729\n",
    "date_14_2 = 7821\n",
    "data_1 = date_14_1\n",
    "data_2 = date_14_2\n",
    "\n",
    "sea_surface_height_above_geoid_14 = sea_surface_height_above_geoid[data_1:data_2,:,:]\n",
    "sea_surface_height_above_sea_level_14 = sea_surface_height_above_sea_level[data_1:data_2,:,:]"
   ]
  },
  {
   "cell_type": "code",
   "execution_count": 26,
   "id": "12042397",
   "metadata": {},
   "outputs": [],
   "source": [
    "# MAM   15\n",
    "date_15_1 = 8094\n",
    "date_15_2 = 8185\n",
    "data_1 = date_15_1\n",
    "data_2 = date_15_2\n",
    "\n",
    "sea_surface_height_above_geoid_15 = sea_surface_height_above_geoid[data_1:data_2,:,:]\n",
    "sea_surface_height_above_sea_level_15 = sea_surface_height_above_sea_level[data_1:data_2,:,:]"
   ]
  },
  {
   "cell_type": "code",
   "execution_count": 27,
   "id": "a9a4a194",
   "metadata": {},
   "outputs": [],
   "source": [
    "# MAM   16\n",
    "date_16_1 = 8460\n",
    "date_16_2 = 8552\n",
    "data_1 = date_16_1\n",
    "data_2 = date_16_2\n",
    "\n",
    "sea_surface_height_above_geoid_16 = sea_surface_height_above_geoid[data_1:data_2,:,:]\n",
    "sea_surface_height_above_sea_level_16 = sea_surface_height_above_sea_level[data_1:data_2,:,:]"
   ]
  },
  {
   "cell_type": "code",
   "execution_count": 28,
   "id": "478a6a12",
   "metadata": {},
   "outputs": [],
   "source": [
    "# MAM   17\n",
    "date_17_1 = 8825\n",
    "date_17_2 = 8917\n",
    "data_1 = date_17_1\n",
    "data_2 = date_17_2\n",
    "\n",
    "sea_surface_height_above_geoid_17 = sea_surface_height_above_geoid[data_1:data_2,:,:]\n",
    "sea_surface_height_above_sea_level_17 = sea_surface_height_above_sea_level[data_1:data_2,:,:]"
   ]
  },
  {
   "cell_type": "code",
   "execution_count": 29,
   "id": "a41e75a5",
   "metadata": {},
   "outputs": [],
   "source": [
    "# MAM   18\n",
    "date_18_1 = 9190\n",
    "date_18_2 = 9280\n",
    "data_1 = date_18_1\n",
    "data_2 = date_18_2\n",
    "\n",
    "sea_surface_height_above_geoid_18 = sea_surface_height_above_geoid[data_1:data_2,:,:]\n",
    "sea_surface_height_above_sea_level_18 = sea_surface_height_above_sea_level[data_1:data_2,:,:]"
   ]
  },
  {
   "cell_type": "code",
   "execution_count": 30,
   "id": "d063374d",
   "metadata": {},
   "outputs": [],
   "source": [
    "# MAM   19\n",
    "date_19_1 = 9542\n",
    "date_19_2 = 9633\n",
    "data_1 = date_19_1\n",
    "data_2 = date_19_2\n",
    "\n",
    "sea_surface_height_above_geoid_19 = sea_surface_height_above_geoid[data_1:data_2,:,:]\n",
    "sea_surface_height_above_sea_level_19 = sea_surface_height_above_sea_level[data_1:data_2,:,:]"
   ]
  },
  {
   "cell_type": "code",
   "execution_count": 31,
   "id": "136a6ecf",
   "metadata": {},
   "outputs": [],
   "source": [
    "sea_surface_height_above_geoid_93_19 = np.concatenate((sea_surface_height_above_geoid_93,\n",
    "                                                      sea_surface_height_above_geoid_94, sea_surface_height_above_geoid_95,\n",
    "                                                      sea_surface_height_above_geoid_96, sea_surface_height_above_geoid_97,\n",
    "                                                      sea_surface_height_above_geoid_98, sea_surface_height_above_geoid_99,\n",
    "                                                      sea_surface_height_above_geoid_00,\n",
    "                                                      sea_surface_height_above_geoid_01, sea_surface_height_above_geoid_02,\n",
    "                                                      sea_surface_height_above_geoid_03, sea_surface_height_above_geoid_04,\n",
    "                                                      sea_surface_height_above_geoid_05, sea_surface_height_above_geoid_06,\n",
    "                                                      sea_surface_height_above_geoid_07, sea_surface_height_above_geoid_08,\n",
    "                                                      sea_surface_height_above_geoid_09, sea_surface_height_above_geoid_10,\n",
    "                                                      sea_surface_height_above_geoid_11, sea_surface_height_above_geoid_12,\n",
    "                                                      sea_surface_height_above_geoid_13, sea_surface_height_above_geoid_14,\n",
    "                                                      sea_surface_height_above_geoid_15, sea_surface_height_above_geoid_16,\n",
    "                                                      sea_surface_height_above_geoid_17, sea_surface_height_above_geoid_18,\n",
    "                                                      sea_surface_height_above_geoid_19),axis = 0)"
   ]
  },
  {
   "cell_type": "code",
   "execution_count": 32,
   "id": "bcc00369",
   "metadata": {},
   "outputs": [],
   "source": [
    "sea_surface_height_above_sea_level_93_19 = np.concatenate((\n",
    "sea_surface_height_above_sea_level_93, sea_surface_height_above_sea_level_94,\n",
    "sea_surface_height_above_sea_level_95, sea_surface_height_above_sea_level_96,\n",
    "sea_surface_height_above_sea_level_97, sea_surface_height_above_sea_level_98,\n",
    "sea_surface_height_above_sea_level_99, sea_surface_height_above_sea_level_00,\n",
    "sea_surface_height_above_sea_level_01, sea_surface_height_above_sea_level_02,\n",
    "sea_surface_height_above_sea_level_03, sea_surface_height_above_sea_level_04,\n",
    "sea_surface_height_above_sea_level_05, sea_surface_height_above_sea_level_06,\n",
    "sea_surface_height_above_sea_level_07, sea_surface_height_above_sea_level_08,\n",
    "sea_surface_height_above_sea_level_09, sea_surface_height_above_sea_level_10,\n",
    "sea_surface_height_above_sea_level_11, sea_surface_height_above_sea_level_12,\n",
    "sea_surface_height_above_sea_level_13, sea_surface_height_above_sea_level_14,\n",
    "sea_surface_height_above_sea_level_15, sea_surface_height_above_sea_level_16,\n",
    "sea_surface_height_above_sea_level_17, sea_surface_height_above_sea_level_18,\n",
    "sea_surface_height_above_sea_level_19),axis = 0)"
   ]
  },
  {
   "cell_type": "code",
   "execution_count": 33,
   "id": "76c8a387",
   "metadata": {},
   "outputs": [],
   "source": [
    "np.savez(r'D:\\heat_wave\\WEIO\\expand_WEIO\\other_variables\\SSH\\MAM_SSH.npz',\n",
    "        sea_surface_height_above_geoid =  sea_surface_height_above_geoid_93_19,\n",
    "        sea_surface_height_above_sea_level = sea_surface_height_above_sea_level_93_19)"
   ]
  },
  {
   "cell_type": "code",
   "execution_count": 34,
   "id": "edde287a",
   "metadata": {},
   "outputs": [
    {
     "data": {
      "text/plain": [
       "(2478, 65, 49)"
      ]
     },
     "execution_count": 34,
     "metadata": {},
     "output_type": "execute_result"
    }
   ],
   "source": [
    "sea_surface_height_above_sea_level_93_19.shape"
   ]
  },
  {
   "cell_type": "code",
   "execution_count": 35,
   "id": "0d1ea0cf",
   "metadata": {},
   "outputs": [
    {
     "data": {
      "text/plain": [
       "(2478, 65, 49)"
      ]
     },
     "execution_count": 35,
     "metadata": {},
     "output_type": "execute_result"
    }
   ],
   "source": [
    "sea_surface_height_above_geoid_93_19.shape"
   ]
  },
  {
   "cell_type": "code",
   "execution_count": null,
   "id": "8e69d565",
   "metadata": {},
   "outputs": [],
   "source": []
  },
  {
   "cell_type": "code",
   "execution_count": null,
   "id": "00b36bbd",
   "metadata": {},
   "outputs": [],
   "source": []
  }
 ],
 "metadata": {
  "kernelspec": {
   "display_name": "Python 3 (ipykernel)",
   "language": "python",
   "name": "python3"
  },
  "language_info": {
   "codemirror_mode": {
    "name": "ipython",
    "version": 3
   },
   "file_extension": ".py",
   "mimetype": "text/x-python",
   "name": "python",
   "nbconvert_exporter": "python",
   "pygments_lexer": "ipython3",
   "version": "3.8.12"
  }
 },
 "nbformat": 4,
 "nbformat_minor": 5
}

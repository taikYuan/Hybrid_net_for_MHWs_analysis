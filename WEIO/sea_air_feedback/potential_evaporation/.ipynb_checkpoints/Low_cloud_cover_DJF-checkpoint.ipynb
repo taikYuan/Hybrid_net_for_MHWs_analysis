{
 "cells": [
  {
   "cell_type": "code",
   "execution_count": 1,
   "id": "40cbae92",
   "metadata": {},
   "outputs": [],
   "source": [
    "import random\n",
    "\n",
    "import numpy as np\n",
    "import torch\n",
    "from sklearn.metrics import mean_squared_error\n",
    "from sklearn.preprocessing import MinMaxScaler\n",
    "from torch import nn\n",
    "from tqdm import tqdm\n",
    "from torch.autograd import Variable\n",
    "from torch.utils.data import Dataset, DataLoader"
   ]
  },
  {
   "cell_type": "code",
   "execution_count": 2,
   "id": "73b43def",
   "metadata": {},
   "outputs": [
    {
     "name": "stdout",
     "output_type": "stream",
     "text": [
      "['lat', 'lon', 'potential_evaporation']\n"
     ]
    }
   ],
   "source": [
    "data = np.load(r'D:\\heat_wave\\WEIO\\expand_WEIO\\other_variables\\海气反馈\\Potential_evaporation_WEIO_chazhi.npz')\n",
    "print(data.files) # ['sst_obser', 'slfh', 'sshf', 'ssr', 'str', 'mld', 'analysis_temp', 'u', 'v', 'T_d', 'u_d', 'v_d', 'xx', 'yy', 'dT_dt', 'dT_dx', 'dT_dy']"
   ]
  },
  {
   "cell_type": "code",
   "execution_count": 3,
   "id": "a9a3b6f7",
   "metadata": {},
   "outputs": [],
   "source": [
    "low_cloud_cover = data['potential_evaporation'][:]"
   ]
  },
  {
   "cell_type": "code",
   "execution_count": 4,
   "id": "28f4a5a3",
   "metadata": {},
   "outputs": [],
   "source": [
    "# DJF   93\n",
    "date_93_1 = 0\n",
    "date_93_2 = 59\n",
    "data_1 = date_93_1\n",
    "data_2 = date_93_2\n",
    "\n",
    "low_cloud_cover_93 = low_cloud_cover[data_1:data_2,:,:]"
   ]
  },
  {
   "cell_type": "code",
   "execution_count": 5,
   "id": "0eafb3c8",
   "metadata": {},
   "outputs": [],
   "source": [
    "# DJF   94\n",
    "date_94_1 = 334\n",
    "date_94_2 = 424\n",
    "data_1 = date_94_1\n",
    "data_2 = date_94_2\n",
    "\n",
    "low_cloud_cover_94 = low_cloud_cover[data_1:data_2,:,:]"
   ]
  },
  {
   "cell_type": "code",
   "execution_count": 6,
   "id": "c616f0e5",
   "metadata": {},
   "outputs": [],
   "source": [
    "# DJF   95\n",
    "date_95_1 = 699\n",
    "date_95_2 = 789\n",
    "data_1 = date_95_1\n",
    "data_2 = date_95_2\n",
    "\n",
    "low_cloud_cover_95 = low_cloud_cover[data_1:data_2,:,:]"
   ]
  },
  {
   "cell_type": "code",
   "execution_count": 7,
   "id": "fda6e730",
   "metadata": {},
   "outputs": [],
   "source": [
    "# DJF   96\n",
    "date_96_1 = 1064\n",
    "date_96_2 = 1155\n",
    "data_1 = date_96_1\n",
    "data_2 = date_96_2\n",
    "\n",
    "low_cloud_cover_96 = low_cloud_cover[data_1:data_2,:,:]"
   ]
  },
  {
   "cell_type": "code",
   "execution_count": 8,
   "id": "a7f45e96",
   "metadata": {},
   "outputs": [],
   "source": [
    "# DJF   97\n",
    "date_97_1 = 1430\n",
    "date_97_2 = 1520\n",
    "data_1 = date_97_1\n",
    "data_2 = date_97_2\n",
    "\n",
    "low_cloud_cover_97 = low_cloud_cover[data_1:data_2,:,:]"
   ]
  },
  {
   "cell_type": "code",
   "execution_count": 9,
   "id": "e23292cc",
   "metadata": {},
   "outputs": [],
   "source": [
    "# DJF   98\n",
    "date_98_1 = 1795\n",
    "date_98_2 = 1885\n",
    "data_1 = date_98_1\n",
    "data_2 = date_98_2\n",
    "\n",
    "low_cloud_cover_98 = low_cloud_cover[data_1:data_2,:,:]"
   ]
  },
  {
   "cell_type": "code",
   "execution_count": 10,
   "id": "9bfe34d2",
   "metadata": {},
   "outputs": [],
   "source": [
    "# DJF   99\n",
    "date_99_1 = 2160\n",
    "date_99_2 = 2250\n",
    "data_1 = date_99_1\n",
    "data_2 = date_99_2\n",
    "\n",
    "low_cloud_cover_99 = low_cloud_cover[data_1:data_2,:,:]"
   ]
  },
  {
   "cell_type": "code",
   "execution_count": 11,
   "id": "d4c8a3b1",
   "metadata": {},
   "outputs": [],
   "source": [
    "# DJF   00\n",
    "date_00_1 = 2525\n",
    "date_00_2 = 2616\n",
    "data_1 = date_00_1\n",
    "data_2 = date_00_2\n",
    "\n",
    "low_cloud_cover_00 = low_cloud_cover[data_1:data_2,:,:]"
   ]
  },
  {
   "cell_type": "code",
   "execution_count": 12,
   "id": "3142f33b",
   "metadata": {},
   "outputs": [],
   "source": [
    "# DJF   01\n",
    "date_01_1 = 2891\n",
    "date_01_2 = 2981\n",
    "data_1 = date_01_1\n",
    "data_2 = date_01_2\n",
    "\n",
    "low_cloud_cover_01 = low_cloud_cover[data_1:data_2,:,:]"
   ]
  },
  {
   "cell_type": "code",
   "execution_count": 13,
   "id": "43260edf",
   "metadata": {},
   "outputs": [],
   "source": [
    "# DJF   02\n",
    "date_02_1 = 3256\n",
    "date_02_2 = 3346\n",
    "data_1 = date_02_1\n",
    "data_2 = date_02_2\n",
    "\n",
    "low_cloud_cover_02 = low_cloud_cover[data_1:data_2,:,:]"
   ]
  },
  {
   "cell_type": "code",
   "execution_count": 14,
   "id": "02554807",
   "metadata": {},
   "outputs": [],
   "source": [
    "# DJF   03\n",
    "date_03_1 = 3621\n",
    "date_03_2 = 3711\n",
    "data_1 = date_03_1\n",
    "data_2 = date_03_2\n",
    "\n",
    "low_cloud_cover_03 = low_cloud_cover[data_1:data_2,:,:]"
   ]
  },
  {
   "cell_type": "code",
   "execution_count": 15,
   "id": "899b8456",
   "metadata": {},
   "outputs": [],
   "source": [
    "# DJF   04\n",
    "date_04_1 = 3986\n",
    "date_04_2 = 4077\n",
    "data_1 = date_04_1\n",
    "data_2 = date_04_2\n",
    "\n",
    "low_cloud_cover_04 = low_cloud_cover[data_1:data_2,:,:]"
   ]
  },
  {
   "cell_type": "code",
   "execution_count": 16,
   "id": "d1b183a5",
   "metadata": {},
   "outputs": [],
   "source": [
    "# DJF   05\n",
    "date_05_1 = 4352\n",
    "date_05_2 = 4442\n",
    "data_1 = date_05_1\n",
    "data_2 = date_05_2\n",
    "\n",
    "low_cloud_cover_05 = low_cloud_cover[data_1:data_2,:,:]"
   ]
  },
  {
   "cell_type": "code",
   "execution_count": 17,
   "id": "29a2886c",
   "metadata": {},
   "outputs": [],
   "source": [
    "# DJF   06\n",
    "date_06_1 = 4717\n",
    "date_06_2 = 4807\n",
    "data_1 = date_06_1\n",
    "data_2 = date_06_2\n",
    "\n",
    "low_cloud_cover_06 = low_cloud_cover[data_1:data_2,:,:]"
   ]
  },
  {
   "cell_type": "code",
   "execution_count": 18,
   "id": "f615ac65",
   "metadata": {},
   "outputs": [],
   "source": [
    "# DJF   07\n",
    "date_07_1 = 5082\n",
    "date_07_2 = 5172\n",
    "data_1 = date_07_1\n",
    "data_2 = date_07_2\n",
    "\n",
    "low_cloud_cover_07 = low_cloud_cover[data_1:data_2,:,:]"
   ]
  },
  {
   "cell_type": "code",
   "execution_count": 19,
   "id": "8ac634dd",
   "metadata": {},
   "outputs": [],
   "source": [
    "# DJF   08\n",
    "date_08_1 = 5447\n",
    "date_08_2 = 5538\n",
    "data_1 = date_08_1\n",
    "data_2 = date_08_2\n",
    "\n",
    "low_cloud_cover_08 = low_cloud_cover[data_1:data_2,:,:]"
   ]
  },
  {
   "cell_type": "code",
   "execution_count": 20,
   "id": "6eeb8a56",
   "metadata": {},
   "outputs": [],
   "source": [
    "# DJF   09\n",
    "date_09_1 = 5813\n",
    "date_09_2 = 5903\n",
    "data_1 = date_09_1\n",
    "data_2 = date_09_2\n",
    "\n",
    "low_cloud_cover_09 = low_cloud_cover[data_1:data_2,:,:]"
   ]
  },
  {
   "cell_type": "code",
   "execution_count": 21,
   "id": "3f443354",
   "metadata": {},
   "outputs": [],
   "source": [
    "# DJF   10\n",
    "date_10_1 = 6178\n",
    "date_10_2 = 6268\n",
    "data_1 = date_10_1\n",
    "data_2 = date_10_2\n",
    "\n",
    "low_cloud_cover_10 = low_cloud_cover[data_1:data_2,:,:]"
   ]
  },
  {
   "cell_type": "code",
   "execution_count": 22,
   "id": "d408c838",
   "metadata": {},
   "outputs": [],
   "source": [
    "# DJF   11\n",
    "date_11_1 = 6543\n",
    "date_11_2 = 6633\n",
    "data_1 = date_11_1\n",
    "data_2 = date_11_2\n",
    "\n",
    "low_cloud_cover_11 = low_cloud_cover[data_1:data_2,:,:]"
   ]
  },
  {
   "cell_type": "code",
   "execution_count": 23,
   "id": "a89a38be",
   "metadata": {},
   "outputs": [],
   "source": [
    "# DJF   12\n",
    "date_12_1 = 6908\n",
    "date_12_2 = 6999\n",
    "data_1 = date_12_1\n",
    "data_2 = date_12_2\n",
    "\n",
    "low_cloud_cover_12 = low_cloud_cover[data_1:data_2,:,:]"
   ]
  },
  {
   "cell_type": "code",
   "execution_count": 24,
   "id": "50fc5089",
   "metadata": {},
   "outputs": [],
   "source": [
    "# DJF   13\n",
    "date_13_1 = 7274\n",
    "date_13_2 = 7364\n",
    "data_1 = date_13_1\n",
    "data_2 = date_13_2\n",
    "\n",
    "low_cloud_cover_13 = low_cloud_cover[data_1:data_2,:,:]"
   ]
  },
  {
   "cell_type": "code",
   "execution_count": 25,
   "id": "2fc21da4",
   "metadata": {},
   "outputs": [],
   "source": [
    "# DJF   14\n",
    "date_14_1 = 7639\n",
    "date_14_2 = 7729\n",
    "data_1 = date_14_1\n",
    "data_2 = date_14_2\n",
    "\n",
    "low_cloud_cover_14 = low_cloud_cover[data_1:data_2,:,:]"
   ]
  },
  {
   "cell_type": "code",
   "execution_count": 26,
   "id": "43322c45",
   "metadata": {},
   "outputs": [],
   "source": [
    "# DJF   15\n",
    "date_15_1 = 8004\n",
    "date_15_2 = 8094\n",
    "data_1 = date_15_1\n",
    "data_2 = date_15_2\n",
    "\n",
    "low_cloud_cover_15 = low_cloud_cover[data_1:data_2,:,:]"
   ]
  },
  {
   "cell_type": "code",
   "execution_count": 27,
   "id": "89bedbe6",
   "metadata": {},
   "outputs": [],
   "source": [
    "# DJF   16\n",
    "date_16_1 = 8369\n",
    "date_16_2 = 8460\n",
    "data_1 = date_16_1\n",
    "data_2 = date_16_2\n",
    "\n",
    "low_cloud_cover_16 = low_cloud_cover[data_1:data_2,:,:]"
   ]
  },
  {
   "cell_type": "code",
   "execution_count": 28,
   "id": "b0492b4f",
   "metadata": {},
   "outputs": [],
   "source": [
    "# DJF   17\n",
    "date_17_1 = 8735\n",
    "date_17_2 = 8825\n",
    "data_1 = date_17_1\n",
    "data_2 = date_17_2\n",
    "\n",
    "low_cloud_cover_17 = low_cloud_cover[data_1:data_2,:,:]"
   ]
  },
  {
   "cell_type": "code",
   "execution_count": 29,
   "id": "7f154d64",
   "metadata": {},
   "outputs": [],
   "source": [
    "# DJF   18\n",
    "date_18_1 = 9100\n",
    "date_18_2 = 9190\n",
    "data_1 = date_18_1\n",
    "data_2 = date_18_2\n",
    "\n",
    "low_cloud_cover_18 = low_cloud_cover[data_1:data_2,:,:]"
   ]
  },
  {
   "cell_type": "code",
   "execution_count": 30,
   "id": "2180d9b1",
   "metadata": {},
   "outputs": [],
   "source": [
    "# DJF   19\n",
    "date_19_1 = 9452\n",
    "date_19_2 = 9542\n",
    "data_1 = date_19_1\n",
    "data_2 = date_19_2\n",
    "\n",
    "low_cloud_cover_19 = low_cloud_cover[data_1:data_2,:,:]"
   ]
  },
  {
   "cell_type": "code",
   "execution_count": 31,
   "id": "8a6d07bd",
   "metadata": {},
   "outputs": [],
   "source": [
    "low_cloud_cover_93_19 = np.concatenate((low_cloud_cover_93, low_cloud_cover_94,\n",
    "                                       low_cloud_cover_95, low_cloud_cover_96, low_cloud_cover_97,\n",
    "                                       low_cloud_cover_98, low_cloud_cover_99, low_cloud_cover_00,\n",
    "                                       low_cloud_cover_01, low_cloud_cover_02, low_cloud_cover_03,\n",
    "                                       low_cloud_cover_04, low_cloud_cover_05, low_cloud_cover_06,\n",
    "                                       low_cloud_cover_07, low_cloud_cover_08, low_cloud_cover_09,\n",
    "                                       low_cloud_cover_10, low_cloud_cover_11, low_cloud_cover_12,\n",
    "                                       low_cloud_cover_13, low_cloud_cover_14, low_cloud_cover_15,\n",
    "                                       low_cloud_cover_16, low_cloud_cover_17, low_cloud_cover_18,\n",
    "                                       low_cloud_cover_19),axis = 0)"
   ]
  },
  {
   "cell_type": "code",
   "execution_count": null,
   "id": "a6fc659c",
   "metadata": {},
   "outputs": [],
   "source": []
  },
  {
   "cell_type": "code",
   "execution_count": 32,
   "id": "3cccfb0d",
   "metadata": {},
   "outputs": [],
   "source": [
    "np.savez(r'D:\\heat_wave\\WEIO\\expand_WEIO\\other_variables\\海气反馈\\DJF_potential_evaporation.npz',\n",
    "       potential_evaporation = low_cloud_cover_93_19)"
   ]
  },
  {
   "cell_type": "code",
   "execution_count": null,
   "id": "0c4ce516",
   "metadata": {},
   "outputs": [],
   "source": []
  },
  {
   "cell_type": "code",
   "execution_count": 32,
   "id": "d7d19c7e",
   "metadata": {},
   "outputs": [],
   "source": [
    "sea_surface_height_above_sea_level_93_19 = np.concatenate((\n",
    "sea_surface_height_above_sea_level_93, sea_surface_height_above_sea_level_94,\n",
    "sea_surface_height_above_sea_level_95, sea_surface_height_above_sea_level_96,\n",
    "sea_surface_height_above_sea_level_97, sea_surface_height_above_sea_level_98,\n",
    "sea_surface_height_above_sea_level_99, sea_surface_height_above_sea_level_00,\n",
    "sea_surface_height_above_sea_level_01, sea_surface_height_above_sea_level_02,\n",
    "sea_surface_height_above_sea_level_03, sea_surface_height_above_sea_level_04,\n",
    "sea_surface_height_above_sea_level_05, sea_surface_height_above_sea_level_06,\n",
    "sea_surface_height_above_sea_level_07, sea_surface_height_above_sea_level_08,\n",
    "sea_surface_height_above_sea_level_09, sea_surface_height_above_sea_level_10,\n",
    "sea_surface_height_above_sea_level_11, sea_surface_height_above_sea_level_12,\n",
    "sea_surface_height_above_sea_level_13, sea_surface_height_above_sea_level_14,\n",
    "sea_surface_height_above_sea_level_15, sea_surface_height_above_sea_level_16,\n",
    "sea_surface_height_above_sea_level_17, sea_surface_height_above_sea_level_18,\n",
    "sea_surface_height_above_sea_level_19),axis = 0)"
   ]
  },
  {
   "cell_type": "code",
   "execution_count": 33,
   "id": "d62941b6",
   "metadata": {},
   "outputs": [],
   "source": [
    "np.savez(r'D:\\heat_wave\\WEIO\\expand_WEIO\\other_variables\\SSH\\DJF_SSH.npz',\n",
    "        sea_surface_height_above_geoid =  sea_surface_height_above_geoid_93_19,\n",
    "        sea_surface_height_above_sea_level = sea_surface_height_above_sea_level_93_19)"
   ]
  },
  {
   "cell_type": "code",
   "execution_count": 34,
   "id": "3c4d8538",
   "metadata": {},
   "outputs": [
    {
     "data": {
      "text/plain": [
       "(2405, 65, 49)"
      ]
     },
     "execution_count": 34,
     "metadata": {},
     "output_type": "execute_result"
    }
   ],
   "source": [
    "sea_surface_height_above_sea_level_93_19.shape"
   ]
  },
  {
   "cell_type": "code",
   "execution_count": null,
   "id": "1abe9db5",
   "metadata": {},
   "outputs": [],
   "source": []
  },
  {
   "cell_type": "code",
   "execution_count": null,
   "id": "22666079",
   "metadata": {},
   "outputs": [],
   "source": []
  },
  {
   "cell_type": "code",
   "execution_count": null,
   "id": "2957a1ae",
   "metadata": {},
   "outputs": [],
   "source": []
  }
 ],
 "metadata": {
  "kernelspec": {
   "display_name": "Python 3 (ipykernel)",
   "language": "python",
   "name": "python3"
  },
  "language_info": {
   "codemirror_mode": {
    "name": "ipython",
    "version": 3
   },
   "file_extension": ".py",
   "mimetype": "text/x-python",
   "name": "python",
   "nbconvert_exporter": "python",
   "pygments_lexer": "ipython3",
   "version": "3.8.12"
  }
 },
 "nbformat": 4,
 "nbformat_minor": 5
}

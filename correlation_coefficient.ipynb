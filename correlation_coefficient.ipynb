{
 "cells": [
  {
   "cell_type": "code",
   "execution_count": 1,
   "id": "332a57fe",
   "metadata": {},
   "outputs": [
    {
     "name": "stdout",
     "output_type": "stream",
     "text": [
      "Pearson相关系数为: 0.9950379751015422\n"
     ]
    }
   ],
   "source": [
    "import numpy as np\n",
    "\n",
    "# 第一组数据\n",
    "Duration = np.array([12,5,7,24,15,5,7,6,12,5,15,25,23,13,6,5,6,5,9,17,24,25,46,8,13,20,9,5,10,\n",
    "                    8,5,5,6,6,6,16,15,10,22,8,112,178,7,6,6,44,19,23,33,6,5,7,6,44,11,7,141,9,19,88,6,10,11])\n",
    "\n",
    "# 第二组数据\n",
    "Cumulative_intensity = np.array([9.56, 3.97, 6.18, 21.90, 11.33, 3.18, 4.07, 4.08, 10.25, 3.27, 12.28, 23.89, \n",
    "                                20.77, 8.95, 5.02, 3.06, 4.66, 4.21, 8.26, 15.34, 19.85, 22.78, 35.52, 6.90, 10.31, 15.08, \n",
    "                                5.75, 2.71, 7.93, 7.33, 3.83, 3.76, 4.20, 4.20, 3.93, 11.35, 9.66, 6.32, 21.82, 7.12, \n",
    "                                122.96, 167.07, 4.43, 4.06, 4.37, 35.11, 14.81, 17.88, 25.28, 5.15, 3.73, 4.39, 3.81, \n",
    "                                41.74, 8.98, 4.75, 138.31, 6.60, 14.09, 72.99, 4.69, 6.04, 8.17])\n",
    "\n",
    "# 标准化数据\n",
    "z1 = (Duration - np.mean(Duration)) / np.std(Duration)\n",
    "z2 = (Cumulative_intensity - np.mean(Cumulative_intensity)) / np.std(Cumulative_intensity)\n",
    "\n",
    "# 计算协方差\n",
    "covariance = np.cov(z1, z2, ddof=1)[0][1]\n",
    "\n",
    "# 计算标准差\n",
    "std1 = np.std(z1, ddof=1)\n",
    "std2 = np.std(z2, ddof=1)\n",
    "\n",
    "# 计算相关系数\n",
    "corr = covariance / (std1 * std2)\n",
    "\n",
    "print(\"Pearson相关系数为:\", corr)"
   ]
  },
  {
   "cell_type": "code",
   "execution_count": 6,
   "id": "45f50714",
   "metadata": {},
   "outputs": [
    {
     "name": "stdout",
     "output_type": "stream",
     "text": [
      "Pearson相关系数为: -0.32112101483875294\n"
     ]
    }
   ],
   "source": [
    "import numpy as np\n",
    "\n",
    "# 第一组数据\n",
    "Cumulative_intensity = np.array([9.56, 3.97, 6.18, 21.90, 11.33, 3.18, 4.07, 4.08, 10.25, 3.27, 12.28, 23.89, \n",
    "                                20.77, 8.95, 5.02, 3.06, 4.66, 4.21, 8.26, 15.34, 19.85, 22.78, 35.52, 6.90, 10.31, 15.08, \n",
    "                                5.75, 2.71, 7.93, 7.33, 3.83, 3.76, 4.20, 4.20, 3.93, 11.35, 9.66, 6.32, 21.82, 7.12, \n",
    "                                122.96, 167.07, 4.43, 4.06, 4.37, 35.11, 14.81, 17.88, 25.28, 5.15, 3.73, 4.39, 3.81, \n",
    "                                41.74, 8.98, 4.75, 138.31, 6.60, 14.09, 72.99, 4.69, 6.04, 8.17])\n",
    "\n",
    "# 第二组数据\n",
    "Rate_of_onset = np.array([0.236, 0.070, 0.128, 0.031, 0.111, 0.123, 0.060, 0.063, 0.166, 0.098, 0.034, \n",
    "                         0.045, 0.089, 0.057, 0.230, 0.221, 0.398, 0.063, 0.054, 0.044, 0.081, 0.059, 0.025, \n",
    "                         0.093, 0.103, 0.029, 0.032, 0.120, 0.071, 0.069, 0.253, 0.082, 0.072, 0.125, 0.033, \n",
    "                         0.018, 0.071, 0.029, 0.063, 0.068, 0.020, 0.005, 0.053, 0.054, 0.066, 0.021, 0.071, \n",
    "                         0.046, 0.011, 0.116, 0.104, 0.026, 0.023, 0.033, 0.037, 0.058, 0.006, 0.131,0.057,0.013,\n",
    "                          0.039, 0.070, 0.295])\n",
    "\n",
    "# 标准化数据\n",
    "z1 = (Cumulative_intensity - np.mean(Cumulative_intensity)) / np.std(Cumulative_intensity)\n",
    "z2 = (Rate_of_onset - np.mean(Rate_of_onset)) / np.std(Rate_of_onset)\n",
    "\n",
    "# 计算协方差\n",
    "covariance = np.cov(z1, z2, ddof=1)[0][1]\n",
    "\n",
    "# 计算标准差\n",
    "std1 = np.std(z1, ddof=1)\n",
    "std2 = np.std(z2, ddof=1)\n",
    "\n",
    "# 计算相关系数\n",
    "corr = covariance / (std1 * std2)\n",
    "\n",
    "print(\"Pearson相关系数为:\", corr)"
   ]
  },
  {
   "cell_type": "code",
   "execution_count": null,
   "id": "11755788",
   "metadata": {},
   "outputs": [],
   "source": []
  },
  {
   "cell_type": "code",
   "execution_count": null,
   "id": "9aa243f0",
   "metadata": {},
   "outputs": [],
   "source": []
  },
  {
   "cell_type": "code",
   "execution_count": null,
   "id": "419c1acb",
   "metadata": {},
   "outputs": [],
   "source": []
  },
  {
   "cell_type": "code",
   "execution_count": null,
   "id": "c441d105",
   "metadata": {},
   "outputs": [],
   "source": []
  },
  {
   "cell_type": "code",
   "execution_count": null,
   "id": "6b1851e2",
   "metadata": {},
   "outputs": [],
   "source": []
  },
  {
   "cell_type": "code",
   "execution_count": null,
   "id": "6d3cbbc4",
   "metadata": {},
   "outputs": [],
   "source": []
  }
 ],
 "metadata": {
  "kernelspec": {
   "display_name": "Python 3 (ipykernel)",
   "language": "python",
   "name": "python3"
  },
  "language_info": {
   "codemirror_mode": {
    "name": "ipython",
    "version": 3
   },
   "file_extension": ".py",
   "mimetype": "text/x-python",
   "name": "python",
   "nbconvert_exporter": "python",
   "pygments_lexer": "ipython3",
   "version": "3.8.18"
  }
 },
 "nbformat": 4,
 "nbformat_minor": 5
}

{
 "cells": [
  {
   "cell_type": "code",
   "execution_count": 1,
   "id": "0c77ca3d",
   "metadata": {},
   "outputs": [
    {
     "data": {
      "text/plain": [
       "1106"
      ]
     },
     "execution_count": 1,
     "metadata": {},
     "output_type": "execute_result"
    }
   ],
   "source": [
    "15 + 25 +9+ 5 +15 +16 +5+ 6 +10+ 101 +10 +21 +94 +11+ 18 +5+ 7+ 6+ 7+ 21+ 6+ 14 +14+ 7+ 24+ 5 +18+ 15 +5 +16 +16 +20 +17 +29 +5+ 36 +17 +17 +16 +19 +28 +8 +5 +13 +9 +9 +15 +10 +8 +47 +66 +32 +36 +7 +33 +10 +11 +11 +8 +7 +10"
   ]
  },
  {
   "cell_type": "code",
   "execution_count": 2,
   "id": "ec25cbdb",
   "metadata": {},
   "outputs": [
    {
     "data": {
      "text/plain": [
       "18.131147540983605"
      ]
     },
     "execution_count": 2,
     "metadata": {},
     "output_type": "execute_result"
    }
   ],
   "source": [
    "1106/61"
   ]
  },
  {
   "cell_type": "code",
   "execution_count": 4,
   "id": "daff035f",
   "metadata": {},
   "outputs": [
    {
     "data": {
      "text/plain": [
       "1.6486486486486487"
      ]
     },
     "execution_count": 4,
     "metadata": {},
     "output_type": "execute_result"
    }
   ],
   "source": [
    "61/37"
   ]
  },
  {
   "cell_type": "code",
   "execution_count": 5,
   "id": "bf9b5dc2",
   "metadata": {},
   "outputs": [
    {
     "data": {
      "text/plain": [
       "1.325"
      ]
     },
     "execution_count": 5,
     "metadata": {},
     "output_type": "execute_result"
    }
   ],
   "source": [
    "53 / 40"
   ]
  },
  {
   "cell_type": "code",
   "execution_count": 12,
   "id": "d185360a",
   "metadata": {},
   "outputs": [
    {
     "data": {
      "text/plain": [
       "-28"
      ]
     },
     "execution_count": 12,
     "metadata": {},
     "output_type": "execute_result"
    }
   ],
   "source": [
    "92 + 14 - 134"
   ]
  },
  {
   "cell_type": "code",
   "execution_count": 9,
   "id": "64e8c6c7",
   "metadata": {},
   "outputs": [
    {
     "data": {
      "text/plain": [
       "31.521749999999997"
      ]
     },
     "execution_count": 9,
     "metadata": {},
     "output_type": "execute_result"
    }
   ],
   "source": [
    "23.79 * 53 / 40"
   ]
  },
  {
   "cell_type": "code",
   "execution_count": 59,
   "id": "461246e1",
   "metadata": {},
   "outputs": [
    {
     "data": {
      "text/plain": [
       "82"
      ]
     },
     "execution_count": 59,
     "metadata": {},
     "output_type": "execute_result"
    }
   ],
   "source": [
    "import datetime\n",
    "d1 = datetime.datetime(2016,6,11)   # 第一个日期\n",
    "d2 = datetime.datetime(2016,9,1)   # 第二个日期\n",
    "interval = d2 - d1                   # 两日期差距\n",
    "interval.days                        # 具体的天数                     \n",
    "\n"
   ]
  },
  {
   "cell_type": "code",
   "execution_count": 54,
   "id": "8214c43c",
   "metadata": {},
   "outputs": [
    {
     "data": {
      "text/plain": [
       "1.8399999999999999"
      ]
     },
     "execution_count": 54,
     "metadata": {},
     "output_type": "execute_result"
    }
   ],
   "source": [
    "9.19 - 7.35"
   ]
  },
  {
   "cell_type": "code",
   "execution_count": 22,
   "id": "742ecc95",
   "metadata": {},
   "outputs": [
    {
     "data": {
      "text/plain": [
       "669"
      ]
     },
     "execution_count": 22,
     "metadata": {},
     "output_type": "execute_result"
    }
   ],
   "source": [
    "192 + 181 + 162 + 134"
   ]
  },
  {
   "cell_type": "code",
   "execution_count": 23,
   "id": "731fc170",
   "metadata": {},
   "outputs": [
    {
     "data": {
      "text/plain": [
       "167.25"
      ]
     },
     "execution_count": 23,
     "metadata": {},
     "output_type": "execute_result"
    }
   ],
   "source": [
    "669 / 4"
   ]
  },
  {
   "cell_type": "code",
   "execution_count": 24,
   "id": "4aaa06cb",
   "metadata": {},
   "outputs": [
    {
     "data": {
      "text/plain": [
       "5.575"
      ]
     },
     "execution_count": 24,
     "metadata": {},
     "output_type": "execute_result"
    }
   ],
   "source": [
    "167.25/30"
   ]
  },
  {
   "cell_type": "code",
   "execution_count": 25,
   "id": "9d906dfa",
   "metadata": {},
   "outputs": [],
   "source": [
    "import numpy as np\n",
    "import os\n",
    "import pandas as pd\n",
    "import glob\n",
    "from netCDF4 import Dataset, num2date\n",
    "import netCDF4 as nc\n",
    "import time\n",
    "import datetime\n",
    "\n",
    "path = r'C:\\Users\\mymylove\\Desktop\\热浪\\nino34.nc'\n",
    "nc0 = Dataset(path)"
   ]
  },
  {
   "cell_type": "code",
   "execution_count": 26,
   "id": "4c76db9a",
   "metadata": {},
   "outputs": [
    {
     "data": {
      "text/plain": [
       "{'WEDCEN2': <class 'netCDF4._netCDF4.Variable'>\n",
       " float64 WEDCEN2(WEDCEN2)\n",
       "     units: days since 1900-01-01 00:00:00\n",
       "     axis: T\n",
       "     time_origin: 01-JAN-1900 00:00:00\n",
       "     standard_name: time\n",
       " unlimited dimensions: WEDCEN2\n",
       " current shape = (2153,)\n",
       " filling on, default _FillValue of 9.969209968386869e+36 used,\n",
       " 'NINO34': <class 'netCDF4._netCDF4.Variable'>\n",
       " float64 NINO34(WEDCEN2)\n",
       "     missing_value: -1e+34\n",
       "     _FillValue: -1e+34\n",
       "     long_name: Nino 3.4 Region SSTA (base period 1982-2005, data from OISST)\n",
       "     units: degC\n",
       " unlimited dimensions: WEDCEN2\n",
       " current shape = (2153,)\n",
       " filling on}"
      ]
     },
     "execution_count": 26,
     "metadata": {},
     "output_type": "execute_result"
    }
   ],
   "source": [
    "nc0.variables"
   ]
  },
  {
   "cell_type": "code",
   "execution_count": 32,
   "id": "a85eeb6e",
   "metadata": {},
   "outputs": [],
   "source": [
    "nino = nc0.variables['NINO34'][:]"
   ]
  },
  {
   "cell_type": "code",
   "execution_count": 33,
   "id": "ff884d66",
   "metadata": {},
   "outputs": [
    {
     "data": {
      "text/plain": [
       "array([-1.01012932, -0.80129492, -0.50846722, ..., -0.69281045,\n",
       "       -0.86387998, -0.57410603])"
      ]
     },
     "execution_count": 33,
     "metadata": {},
     "output_type": "execute_result"
    }
   ],
   "source": [
    "nino.data"
   ]
  },
  {
   "cell_type": "code",
   "execution_count": 41,
   "id": "d1e57ab8",
   "metadata": {},
   "outputs": [
    {
     "data": {
      "text/plain": [
       "5.898630136986301"
      ]
     },
     "execution_count": 41,
     "metadata": {},
     "output_type": "execute_result"
    }
   ],
   "source": [
    "2153/365"
   ]
  },
  {
   "cell_type": "code",
   "execution_count": 34,
   "id": "46325a0f",
   "metadata": {},
   "outputs": [
    {
     "data": {
      "text/plain": [
       "(2153,)"
      ]
     },
     "execution_count": 34,
     "metadata": {},
     "output_type": "execute_result"
    }
   ],
   "source": [
    "nino.shape"
   ]
  },
  {
   "cell_type": "code",
   "execution_count": 35,
   "id": "57d855e7",
   "metadata": {},
   "outputs": [],
   "source": [
    "path = r'C:\\Users\\mymylove\\Desktop\\热浪\\nino34_uncertainty.nc'\n",
    "nc0 = Dataset(path)"
   ]
  },
  {
   "cell_type": "code",
   "execution_count": 36,
   "id": "c3e58d7f",
   "metadata": {},
   "outputs": [
    {
     "data": {
      "text/plain": [
       "{'WEDCEN2': <class 'netCDF4._netCDF4.Variable'>\n",
       " float64 WEDCEN2(WEDCEN2)\n",
       "     units: days since 1900-01-01 00:00:00\n",
       "     time_origin: 01-JAN-1900 00:00:00\n",
       "     axis: T\n",
       "     standard_name: time\n",
       " unlimited dimensions: WEDCEN2\n",
       " current shape = (2153,)\n",
       " filling on, default _FillValue of 9.969209968386869e+36 used,\n",
       " 'NINO34_TOTAL_ERR': <class 'netCDF4._netCDF4.Variable'>\n",
       " float64 NINO34_TOTAL_ERR(WEDCEN2)\n",
       "     missing_value: -1e+34\n",
       "     _FillValue: -1e+34\n",
       "     long_name: nino34 Estimated Total Error\n",
       "     units: degC\n",
       " unlimited dimensions: WEDCEN2\n",
       " current shape = (2153,)\n",
       " filling on,\n",
       " 'NINO34_SATELLITE_ERR': <class 'netCDF4._netCDF4.Variable'>\n",
       " float64 NINO34_SATELLITE_ERR()\n",
       "     missing_value: -1e+34\n",
       "     _FillValue: -1e+34\n",
       "     long_name: nino34 Estimated Satellite Bias Error\n",
       "     units: degC\n",
       "     long_name_mod: T=31-OCT-1981 12:00:04-FEB-2023 12:00\n",
       " unlimited dimensions: \n",
       " current shape = ()\n",
       " filling on,\n",
       " 'NINO34_ANALYSIS_ERR': <class 'netCDF4._netCDF4.Variable'>\n",
       " float64 NINO34_ANALYSIS_ERR(WEDCEN2)\n",
       "     missing_value: -1e+34\n",
       "     _FillValue: -1e+34\n",
       "     long_name: nino34 Estimated Analysis Error\n",
       "     units: degC\n",
       " unlimited dimensions: WEDCEN2\n",
       " current shape = (2153,)\n",
       " filling on}"
      ]
     },
     "execution_count": 36,
     "metadata": {},
     "output_type": "execute_result"
    }
   ],
   "source": [
    "nc0.variables"
   ]
  },
  {
   "cell_type": "code",
   "execution_count": 38,
   "id": "2aebbbc4",
   "metadata": {},
   "outputs": [
    {
     "data": {
      "text/plain": [
       "array([0.01323648, 0.00526719, 0.00104655, ..., 0.0010684 , 0.00098831,\n",
       "       0.00100374])"
      ]
     },
     "execution_count": 38,
     "metadata": {},
     "output_type": "execute_result"
    }
   ],
   "source": [
    "nino = nc0.variables['NINO34_ANALYSIS_ERR'][:]\n",
    "nino.data"
   ]
  },
  {
   "cell_type": "code",
   "execution_count": 39,
   "id": "d824c817",
   "metadata": {},
   "outputs": [
    {
     "data": {
      "text/plain": [
       "(2153,)"
      ]
     },
     "execution_count": 39,
     "metadata": {},
     "output_type": "execute_result"
    }
   ],
   "source": [
    "nino.shape"
   ]
  },
  {
   "cell_type": "code",
   "execution_count": 74,
   "id": "71097d4a",
   "metadata": {},
   "outputs": [
    {
     "data": {
      "image/png": "[encoded data removed]",
      "text/plain": [
       "<Figure size 432x288 with 2 Axes>"
      ]
     },
     "metadata": {
      "needs_background": "light"
     },
     "output_type": "display_data"
    }
   ],
   "source": [
    "import numpy as np\n",
    "import matplotlib.pyplot as plt\n",
    "\n",
    "# 生成假数据\n",
    "data = np.load(r'D:\\heat_wave\\atlantic\\SST_82_21_expand_atlantic_area.npz')['sst']\n",
    "data = data[0,:,:]\n",
    "\n",
    "# 绘制海温图\n",
    "fig, ax = plt.subplots()\n",
    "im = ax.imshow(data, cmap='coolwarm')\n",
    "\n",
    "# 添加颜色条\n",
    "cbar = ax.figure.colorbar(im, ax=ax)\n",
    "cbar.ax.set_ylabel('Temperature', rotation=-90, va=\"bottom\")\n",
    "\n",
    "# 添加标题和标签\n",
    "ax.set_title('Sea Temperature')\n",
    "ax.set_xlabel('Longitude')\n",
    "ax.set_ylabel('Latitude')\n",
    "\n",
    "# 显示图像\n",
    "plt.show()"
   ]
  },
  {
   "cell_type": "code",
   "execution_count": 94,
   "id": "a541b9e3",
   "metadata": {},
   "outputs": [],
   "source": [
    "import numpy as np\n",
    "import numpy as np\n",
    "import matplotlib.pyplot as plt\n",
    "import random\n",
    "import netCDF4\n",
    "import seaborn as sns\n",
    "from global_land_mask import globe\n",
    "from scipy import interpolate"
   ]
  },
  {
   "cell_type": "code",
   "execution_count": 97,
   "id": "63dbbda1",
   "metadata": {},
   "outputs": [
    {
     "data": {
      "text/plain": [
       "(14610, 82, 82)"
      ]
     },
     "execution_count": 97,
     "metadata": {},
     "output_type": "execute_result"
    }
   ],
   "source": [
    "data = np.load(r'D:\\heat_wave\\atlantic\\SST_82_21_expand_atlantic_area.npz') #['time', 'lat', 'lon', 'mld', 'salinity', 'temp', 'u', 'v']\n",
    "sst = data['sst']\n",
    "sst.shape"
   ]
  },
  {
   "cell_type": "code",
   "execution_count": 99,
   "id": "cbb6bf06",
   "metadata": {},
   "outputs": [
    {
     "data": {
      "text/plain": [
       "array([-30.125, -29.875, -29.625, -29.375, -29.125, -28.875, -28.625,\n",
       "       -28.375, -28.125, -27.875, -27.625, -27.375, -27.125, -26.875,\n",
       "       -26.625, -26.375, -26.125, -25.875, -25.625, -25.375, -25.125,\n",
       "       -24.875, -24.625, -24.375, -24.125, -23.875, -23.625, -23.375,\n",
       "       -23.125, -22.875, -22.625, -22.375, -22.125, -21.875, -21.625,\n",
       "       -21.375, -21.125, -20.875, -20.625, -20.375, -20.125, -19.875,\n",
       "       -19.625, -19.375, -19.125, -18.875, -18.625, -18.375, -18.125,\n",
       "       -17.875, -17.625, -17.375, -17.125, -16.875, -16.625, -16.375,\n",
       "       -16.125, -15.875, -15.625, -15.375, -15.125, -14.875, -14.625,\n",
       "       -14.375, -14.125, -13.875, -13.625, -13.375, -13.125, -12.875,\n",
       "       -12.625, -12.375, -12.125, -11.875, -11.625, -11.375, -11.125,\n",
       "       -10.875, -10.625, -10.375, -10.125,  -9.875], dtype=float32)"
      ]
     },
     "execution_count": 99,
     "metadata": {},
     "output_type": "execute_result"
    }
   ],
   "source": [
    "lat = data['lat']\n",
    "lat.shape\n",
    "lat"
   ]
  },
  {
   "cell_type": "code",
   "execution_count": 101,
   "id": "96b1abf5",
   "metadata": {},
   "outputs": [
    {
     "data": {
      "text/plain": [
       "array([329.875, 330.125, 330.375, 330.625, 330.875, 331.125, 331.375,\n",
       "       331.625, 331.875, 332.125, 332.375, 332.625, 332.875, 333.125,\n",
       "       333.375, 333.625, 333.875, 334.125, 334.375, 334.625, 334.875,\n",
       "       335.125, 335.375, 335.625, 335.875, 336.125, 336.375, 336.625,\n",
       "       336.875, 337.125, 337.375, 337.625, 337.875, 338.125, 338.375,\n",
       "       338.625, 338.875, 339.125, 339.375, 339.625, 339.875, 340.125,\n",
       "       340.375, 340.625, 340.875, 341.125, 341.375, 341.625, 341.875,\n",
       "       342.125, 342.375, 342.625, 342.875, 343.125, 343.375, 343.625,\n",
       "       343.875, 344.125, 344.375, 344.625, 344.875, 345.125, 345.375,\n",
       "       345.625, 345.875, 346.125, 346.375, 346.625, 346.875, 347.125,\n",
       "       347.375, 347.625, 347.875, 348.125, 348.375, 348.625, 348.875,\n",
       "       349.125, 349.375, 349.625, 349.875, 350.125], dtype=float32)"
      ]
     },
     "execution_count": 101,
     "metadata": {},
     "output_type": "execute_result"
    }
   ],
   "source": [
    "lon = data['lon']\n",
    "lon.shape\n",
    "lon"
   ]
  },
  {
   "cell_type": "code",
   "execution_count": 102,
   "id": "00eab5ed",
   "metadata": {},
   "outputs": [
    {
     "data": {
      "text/plain": [
       "(82, 82)"
      ]
     },
     "execution_count": 102,
     "metadata": {},
     "output_type": "execute_result"
    }
   ],
   "source": [
    "sst1 = np.mean(sst, axis = 0)\n",
    "sst1.shape"
   ]
  },
  {
   "cell_type": "code",
   "execution_count": 103,
   "id": "ff2ace18",
   "metadata": {},
   "outputs": [
    {
     "data": {
      "text/plain": [
       "array([[21.25178 , 21.252222, 21.256779, ..., 20.71922 , 20.701763,\n",
       "        20.683102],\n",
       "       [21.395422, 21.397638, 21.403332, ..., 20.833586, 20.816994,\n",
       "        20.799816],\n",
       "       [21.541346, 21.545628, 21.552948, ..., 20.944153, 20.928907,\n",
       "        20.912367],\n",
       "       ...,\n",
       "       [27.007277, 26.984169, 26.961279, ..., 24.887712, 24.86991 ,\n",
       "        24.847717],\n",
       "       [27.04764 , 27.024378, 27.002007, ..., 24.978807, 24.960482,\n",
       "        24.938534],\n",
       "       [27.087137, 27.06381 , 27.042284, ..., 25.061632, 25.042301,\n",
       "        25.01998 ]], dtype=float32)"
      ]
     },
     "execution_count": 103,
     "metadata": {},
     "output_type": "execute_result"
    }
   ],
   "source": [
    "sst1"
   ]
  },
  {
   "cell_type": "code",
   "execution_count": 115,
   "id": "edddbb77",
   "metadata": {
    "scrolled": false
   },
   "outputs": [
    {
     "data": {
      "image/png": "[encoded data removed]",
      "text/plain": [
       "<Figure size 1800x1200 with 1 Axes>"
      ]
     },
     "metadata": {
      "needs_background": "light"
     },
     "output_type": "display_data"
    }
   ],
   "source": [
    "# 可视化海洋上的SST分布\n",
    "plt.figure(dpi=300)\n",
    "plt.xticks([])  # 去掉x轴\n",
    "plt.yticks([])  # 去掉y轴\n",
    "# plt.title(\"SST(ɛ - 0)\", loc='left',fontsize='xx-large',fontweight='light')\n",
    "# h = plt.imshow(sst1[::-1, :], cmap=plt.cm.RdBu_r)\n",
    "# h = plt.imshow(sst1[::-1, :], cmap=plt.cm.RdBu_r)\n",
    "h = plt.imshow(sst1, cmap=plt.cm.RdBu_r)\n",
    "# cb = plt.colorbar(h,orientation='horizontal')\n",
    "# cb.ax.tick_params(labelsize=24)\n",
    "# ax.tick_params(labelsize=16)\n",
    "# 画框\n",
    "ax = plt.gca()\n",
    "\n",
    "#添加x轴刻度\n",
    "tick_locs = np.linspace(0,81,5)\n",
    "\n",
    "plt.xticks(tick_locs, ['30 °W','25 °W','20 °W','15 °W','10 °W'])\n",
    "\n",
    "#添加Y轴刻度\n",
    "tick_locs_y = np.linspace(0,81,6)\n",
    "\n",
    "plt.yticks(tick_locs_y, ['40 °S','38 °S','36 °S','34 °S','32 °S', '30 °S'])\n",
    "\n",
    "# 默认框的颜色是黑色，第一个参数是左上角的点坐标\n",
    "# 第二个参数是宽，第三个参数是长\n",
    "ax.add_patch(plt.Rectangle((760, 220), 201, 41, color = 'black',fill=False, linewidth=4))  # 0-1440   0-681\n",
    "plt.show()  "
   ]
  },
  {
   "cell_type": "code",
   "execution_count": null,
   "id": "1fe266e3",
   "metadata": {},
   "outputs": [],
   "source": [
    "40S 38 36 34 32 30S"
   ]
  }
 ],
 "metadata": {
  "kernelspec": {
   "display_name": "Python 3 (ipykernel)",
   "language": "python",
   "name": "python3"
  },
  "language_info": {
   "codemirror_mode": {
    "name": "ipython",
    "version": 3
   },
   "file_extension": ".py",
   "mimetype": "text/x-python",
   "name": "python",
   "nbconvert_exporter": "python",
   "pygments_lexer": "ipython3",
   "version": "3.8.12"
  }
 },
 "nbformat": 4,
 "nbformat_minor": 5
}

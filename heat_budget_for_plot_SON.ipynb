{
 "cells": [
  {
   "cell_type": "code",
   "execution_count": 1,
   "id": "4344847d",
   "metadata": {},
   "outputs": [],
   "source": [
    "import random\n",
    "\n",
    "import numpy as np\n",
    "import torch\n",
    "from sklearn.metrics import mean_squared_error\n",
    "from sklearn.preprocessing import MinMaxScaler\n",
    "from torch import nn\n",
    "from tqdm import tqdm\n",
    "from torch.autograd import Variable\n",
    "from torch.utils.data import Dataset, DataLoader"
   ]
  },
  {
   "cell_type": "code",
   "execution_count": 2,
   "id": "ea2c7dc8",
   "metadata": {},
   "outputs": [
    {
     "name": "stdout",
     "output_type": "stream",
     "text": [
      "['slfh', 'sshf', 'ssr', 'str', 'sst_obser', 'T_d', 'u_d', 'v_d', 'mld', 'analysis_temp', 'u', 'v', 'dT_dt', 'xx', 'yy', 'dT_dx', 'dT_dy']\n",
      "(9861, 64, 48)\n",
      "23.716982\n",
      "37.334187\n"
     ]
    }
   ],
   "source": [
    "data = np.load(r'D:\\heat_wave\\WEIO\\expand_WEIO\\last\\optimized_formula_all_variables_expand_WEIO_surface_deepchazhi_1.npz')\n",
    "print(\n",
    "    data.files)  # ['sst_obser', 'slfh', 'sshf', 'ssr', 'str', 'mld', 'analysis_temp', 'u', 'v', 'T_d', 'u_d', 'v_d', 'xx', 'yy', 'dT_dt', 'dT_dx', 'dT_dy']\n",
    "\n",
    "sst_obser = data['sst_obser'][:, :64, :48]  # (9861, 41, 201)  #\n",
    "print(sst_obser.shape)  # (9861, 41, 201)\n",
    "slfh = data['slfh'][:, :64, :48]  # (9861, 41, 201)\n",
    "sshf = data['sshf'][:, :64, :48]  # (9861, 41, 201)\n",
    "ssr = data['ssr'][:, :64, :48]  # (9861, 41, 201)   # 可惜这个是 0\n",
    "str = data['str'][:, :64, :48]  # (9861, 41, 201)\n",
    "mld = data['mld'][:, :64, :48]  # (9861, 41, 201)\n",
    "analysis_temp = data['analysis_temp'][:, :64, :48]  # (9861, 41, 201)\n",
    "u = data['u'][:, :64, :48]  # (9861, 41, 201)\n",
    "v = data['v'][:, :64, :48]  # (9861, 41, 201)\n",
    "T_d = data['T_d'][:, :64, :48]  # (9861, 41, 201)\n",
    "u_d = data['u_d'][:, :64, :48]  # (9861, 41, 201)\n",
    "v_d = data['v_d'][:, :64, :48]  # (9861, 41, 201)\n",
    "xx = data['xx'][:, :64, :48]  # (9861, 41, 201)\n",
    "yy = data['yy'][:, :64, :48]  # (9861, 41, 201)\n",
    "print(np.min(T_d))\n",
    "print(np.max(T_d))\n",
    "# print(xx)  # -5 -4.75 ... 4.75\n",
    "# print(yy)  # 190  190.25 ... 239.75\n",
    "\n",
    "dT_dt = data['dT_dt'][:, :64, :48]\n",
    "dT_dx = data['dT_dx'][:, :64, :48]\n",
    "dT_dy = data['dT_dy'][:, :64, :48]"
   ]
  },
  {
   "cell_type": "code",
   "execution_count": 3,
   "id": "7865402d",
   "metadata": {},
   "outputs": [],
   "source": [
    "Q_net = (slfh + sshf + ssr + str)\n",
    "Q_net.shape\n",
    "Q_net = Q_net / (1025 * 4000 * mld)"
   ]
  },
  {
   "cell_type": "code",
   "execution_count": 4,
   "id": "7b838efc",
   "metadata": {},
   "outputs": [
    {
     "data": {
      "text/plain": [
       "(9861, 64, 48)"
      ]
     },
     "execution_count": 4,
     "metadata": {},
     "output_type": "execute_result"
    }
   ],
   "source": [
    "ZAdv = u * dT_dx\n",
    "ZAdv.shape"
   ]
  },
  {
   "cell_type": "code",
   "execution_count": 5,
   "id": "8318ebe6",
   "metadata": {},
   "outputs": [
    {
     "data": {
      "text/plain": [
       "(9861, 64, 48)"
      ]
     },
     "execution_count": 5,
     "metadata": {},
     "output_type": "execute_result"
    }
   ],
   "source": [
    "MAdv = v * dT_dy\n",
    "MAdv.shape"
   ]
  },
  {
   "cell_type": "code",
   "execution_count": 6,
   "id": "9f45223c",
   "metadata": {},
   "outputs": [
    {
     "data": {
      "text/plain": [
       "(9861, 64, 48)"
      ]
     },
     "execution_count": 6,
     "metadata": {},
     "output_type": "execute_result"
    }
   ],
   "source": [
    "VAdv = v_d * ((sst_obser -T_d ) / mld)\n",
    "VAdv.shape"
   ]
  },
  {
   "cell_type": "code",
   "execution_count": 7,
   "id": "54214cc9",
   "metadata": {},
   "outputs": [
    {
     "data": {
      "text/plain": [
       "(9860, 64, 48)"
      ]
     },
     "execution_count": 7,
     "metadata": {},
     "output_type": "execute_result"
    }
   ],
   "source": [
    "R_origin = dT_dt - (Q_net[:9860,:,:] + ZAdv[:9860,:,:] + MAdv[:9860,:,:] + VAdv[:9860,:,:])\n",
    "R_origin.shape"
   ]
  },
  {
   "cell_type": "code",
   "execution_count": 8,
   "id": "1a29c305",
   "metadata": {},
   "outputs": [
    {
     "data": {
      "text/plain": [
       "'我们方法修正项'"
      ]
     },
     "execution_count": 8,
     "metadata": {},
     "output_type": "execute_result"
    }
   ],
   "source": [
    "\"\"\"我们方法修正项\"\"\""
   ]
  },
  {
   "cell_type": "code",
   "execution_count": 9,
   "id": "cb2ca67f",
   "metadata": {},
   "outputs": [
    {
     "data": {
      "text/plain": [
       "['dt_R']"
      ]
     },
     "execution_count": 9,
     "metadata": {},
     "output_type": "execute_result"
    }
   ],
   "source": [
    "data1 = np.load(r'D:\\heat_wave\\WEIO\\expand_WEIO\\last\\Dt_with_R_e1.npz')\n",
    "data2 = np.load(r'D:\\heat_wave\\WEIO\\expand_WEIO\\last\\Dt_with_R_e2.npz')\n",
    "data3 = np.load(r'D:\\heat_wave\\WEIO\\expand_WEIO\\last\\Dt_with_R_e3.npz')\n",
    "data4 = np.load(r'D:\\heat_wave\\WEIO\\expand_WEIO\\last\\Dt_with_R_e4.npz')\n",
    "data5 = np.load(r'D:\\heat_wave\\WEIO\\expand_WEIO\\last\\Dt_with_R_e5.npz')\n",
    "data1.files"
   ]
  },
  {
   "cell_type": "code",
   "execution_count": 10,
   "id": "d247d666",
   "metadata": {},
   "outputs": [
    {
     "data": {
      "text/plain": [
       "(9860, 64, 48)"
      ]
     },
     "execution_count": 10,
     "metadata": {},
     "output_type": "execute_result"
    }
   ],
   "source": [
    "dt_R1 = data1['dt_R'][:].reshape(9860,64,48)\n",
    "dt_R2 = data2['dt_R'][:].reshape(9860,64,48)\n",
    "dt_R3 = data3['dt_R'][:].reshape(9860,64,48)\n",
    "dt_R4 = data4['dt_R'][:].reshape(9860,64,48)\n",
    "dt_R5 = data5['dt_R'][:].reshape(9860,64,48)\n",
    "dt_R1.shape"
   ]
  },
  {
   "cell_type": "code",
   "execution_count": 11,
   "id": "cd813dfb",
   "metadata": {
    "collapsed": true
   },
   "outputs": [
    {
     "data": {
      "text/plain": [
       "array([[[ 1.73735432e-02,  4.85667214e-03, -2.55575068e-02, ...,\n",
       "          1.96566105e-01,  2.02255100e-01,  2.36916840e-01],\n",
       "        [ 8.74748826e-02,  6.37643114e-02,  4.91898581e-02, ...,\n",
       "          2.38168091e-01,  2.37328544e-01,  2.44811326e-01],\n",
       "        [ 1.65114850e-01,  1.67971238e-01,  1.26112044e-01, ...,\n",
       "          2.51074195e-01,  2.62383312e-01,  2.78906912e-01],\n",
       "        ...,\n",
       "        [ 1.09518662e-01,  9.80079770e-02,  6.68130666e-02, ...,\n",
       "          8.48220736e-02,  7.99809098e-02,  8.79199952e-02],\n",
       "        [ 8.68300945e-02,  7.68781155e-02,  6.92745000e-02, ...,\n",
       "          8.32846314e-02,  8.19590688e-02,  8.15529674e-02],\n",
       "        [ 6.42703772e-02,  5.75827807e-02,  8.39595944e-02, ...,\n",
       "          8.84873793e-02,  9.38740373e-02,  1.08171299e-01]],\n",
       "\n",
       "       [[ 8.56851228e-03,  3.69033106e-02,  4.11709473e-02, ...,\n",
       "          2.59865001e-02,  1.43084303e-03, -5.11436164e-03],\n",
       "        [ 1.01266757e-01,  1.27773792e-01,  1.16038717e-01, ...,\n",
       "          5.82977347e-02,  3.40682790e-02,  1.80404447e-02],\n",
       "        [ 1.62984878e-01,  1.62317663e-01,  1.47586316e-01, ...,\n",
       "          6.71749413e-02,  2.55545415e-02,  1.67426392e-02],\n",
       "        ...,\n",
       "        [ 1.15246803e-01,  1.11603737e-01,  9.84635502e-02, ...,\n",
       "         -8.48565623e-03, -2.31419131e-03,  2.10739374e-02],\n",
       "        [ 1.00988083e-01,  1.04889877e-01,  1.03398897e-01, ...,\n",
       "         -1.87911410e-02, -8.07192177e-03,  1.04473755e-02],\n",
       "        [ 7.52277970e-02,  1.12268843e-01,  1.26715809e-01, ...,\n",
       "         -5.74986078e-03, -3.39458883e-03,  6.04810938e-03]],\n",
       "\n",
       "       [[ 6.02388754e-02,  1.58409253e-02, -4.85515781e-02, ...,\n",
       "         -3.02826554e-01, -3.11648190e-01, -2.92301983e-01],\n",
       "        [ 2.84235030e-02,  2.60991827e-02, -3.20319049e-02, ...,\n",
       "         -2.27432340e-01, -2.37004653e-01, -2.21913248e-01],\n",
       "        [ 1.25416741e-02,  1.29994191e-02, -2.50006821e-02, ...,\n",
       "         -1.32746428e-01, -1.50151104e-01, -1.41595319e-01],\n",
       "        ...,\n",
       "        [ 1.35080010e-01,  1.59772277e-01,  1.70795321e-01, ...,\n",
       "          2.91328654e-02,  2.91837901e-02,  5.80426864e-02],\n",
       "        [ 1.48220509e-01,  1.71256974e-01,  1.55369744e-01, ...,\n",
       "          2.34165825e-02,  2.62074433e-02,  6.12987392e-02],\n",
       "        [ 1.60586908e-01,  1.92380726e-01,  1.66233063e-01, ...,\n",
       "          3.33868898e-02,  3.88487838e-02,  6.06855340e-02]],\n",
       "\n",
       "       ...,\n",
       "\n",
       "       [[ 1.79576781e-02,  3.83244529e-02,  3.96529362e-02, ...,\n",
       "         -2.88487494e-01, -2.72835076e-01, -2.64585704e-01],\n",
       "        [ 2.26458274e-02,  4.35844436e-02,  4.21968028e-02, ...,\n",
       "         -2.57314801e-01, -2.35250920e-01, -2.22176999e-01],\n",
       "        [ 4.01711129e-02,  6.18819855e-02,  4.48862687e-02, ...,\n",
       "         -2.58512855e-01, -2.18033791e-01, -2.18750566e-01],\n",
       "        ...,\n",
       "        [ 8.15822855e-02,  1.24206178e-01,  9.72324461e-02, ...,\n",
       "         -1.83757767e-02, -4.09328006e-03,  3.95685881e-02],\n",
       "        [ 7.77274221e-02,  1.55223399e-01,  1.23480931e-01, ...,\n",
       "         -1.52652338e-03,  1.72650069e-02,  6.01474084e-02],\n",
       "        [ 1.17739126e-01,  1.94753021e-01,  1.77884474e-01, ...,\n",
       "          6.30316697e-03,  2.17061732e-02,  6.41550347e-02]],\n",
       "\n",
       "       [[-1.07045807e-01, -9.05977413e-02, -8.23438913e-02, ...,\n",
       "         -1.33622825e-01, -7.63009340e-02, -2.19546258e-03],\n",
       "        [-1.16672538e-01, -1.16979465e-01, -1.23686008e-01, ...,\n",
       "         -1.03245422e-01, -8.83067325e-02, -6.68850914e-02],\n",
       "        [-1.22831084e-01, -1.29296571e-01, -1.47097632e-01, ...,\n",
       "         -1.17878012e-01, -1.34531811e-01, -1.51996046e-01],\n",
       "        ...,\n",
       "        [ 1.24862961e-01,  1.43910706e-01,  1.08493775e-01, ...,\n",
       "          1.45878270e-01,  1.81393534e-01,  2.19818413e-01],\n",
       "        [ 1.08583093e-01,  1.23487532e-01,  9.60019454e-02, ...,\n",
       "          1.05248265e-01,  1.40656561e-01,  1.77364334e-01],\n",
       "        [ 1.12890244e-01,  1.48354605e-01,  1.46453604e-01, ...,\n",
       "          8.44901204e-02,  9.54367593e-02,  1.17199123e-01]],\n",
       "\n",
       "       [[-2.93215737e-04, -2.20189095e-02, -4.76101637e-02, ...,\n",
       "          3.81413251e-02,  5.33029996e-02,  3.88315283e-02],\n",
       "        [-1.52225960e-02, -2.43723020e-02, -6.18523471e-02, ...,\n",
       "          1.58712082e-02,  1.35531891e-02,  6.55955821e-03],\n",
       "        [-2.87825689e-02, -3.23044918e-02, -6.06850311e-02, ...,\n",
       "         -6.43917993e-02, -8.67435485e-02, -7.78403133e-02],\n",
       "        ...,\n",
       "        [ 7.44827539e-02,  8.54937136e-02,  4.92273271e-02, ...,\n",
       "         -4.86658104e-02, -3.81886922e-02, -1.54390819e-02],\n",
       "        [ 8.69965553e-02,  9.91909951e-02,  5.54550216e-02, ...,\n",
       "         -6.66782185e-02, -6.01279289e-02, -4.03887630e-02],\n",
       "        [ 7.61088729e-02,  8.49637389e-02,  4.62322608e-02, ...,\n",
       "         -6.63794279e-02, -6.82765096e-02, -5.72791733e-02]]],\n",
       "      dtype=float32)"
      ]
     },
     "execution_count": 11,
     "metadata": {},
     "output_type": "execute_result"
    }
   ],
   "source": [
    "\"修正后的R\"\n",
    "R_recur1 = dt_R1 - dT_dt\n",
    "R_recur2 = dt_R2 - dT_dt\n",
    "R_recur3 = dt_R3 - dT_dt\n",
    "R_recur4 = dt_R4 - dT_dt\n",
    "R_recur5 = dt_R5 - dT_dt\n",
    "R_recur1"
   ]
  },
  {
   "cell_type": "code",
   "execution_count": 12,
   "id": "3e411e89",
   "metadata": {
    "collapsed": true
   },
   "outputs": [
    {
     "data": {
      "text/plain": [
       "array([[[ 0.02545035,  0.00163376, -0.02917834, ...,  0.1926109 ,\n",
       "          0.19982931,  0.22878826],\n",
       "        [ 0.09540649,  0.06012198,  0.04407824, ...,  0.23339815,\n",
       "          0.23424546,  0.23700686],\n",
       "        [ 0.16967328,  0.1647869 ,  0.11940988, ...,  0.2460546 ,\n",
       "          0.2585153 ,  0.27059644],\n",
       "        ...,\n",
       "        [ 0.11314262,  0.09568087,  0.06067975, ...,  0.08031805,\n",
       "          0.07686941,  0.07964358],\n",
       "        [ 0.09004607,  0.07513298,  0.0633416 , ...,  0.07924847,\n",
       "          0.07974195,  0.07338466],\n",
       "        [ 0.06858536,  0.05494875,  0.07718669, ...,  0.08430934,\n",
       "          0.0921771 ,  0.10006163]],\n",
       "\n",
       "       [[ 0.01504593,  0.03393155,  0.03595721, ...,  0.02163858,\n",
       "         -0.00048031, -0.01307513],\n",
       "        [ 0.10796496,  0.12393083,  0.10995052, ...,  0.05373283,\n",
       "          0.03156283,  0.00981142],\n",
       "        [ 0.16661993,  0.15988052,  0.1413393 , ...,  0.06300773,\n",
       "          0.02318634,  0.0085989 ],\n",
       "        ...,\n",
       "        [ 0.12030299,  0.10869499,  0.09239998, ..., -0.01340508,\n",
       "         -0.00657427,  0.01300551],\n",
       "        [ 0.1056088 ,  0.10251435,  0.09720045, ..., -0.02290683,\n",
       "         -0.01165112,  0.00211817],\n",
       "        [ 0.08011887,  0.10930681,  0.12031037, ..., -0.0093193 ,\n",
       "         -0.0056724 , -0.00229568]],\n",
       "\n",
       "       [[ 0.06662165,  0.01268026, -0.05395672, ..., -0.30787444,\n",
       "         -0.31460744, -0.30064887],\n",
       "        [ 0.0348405 ,  0.02282585, -0.03739185, ..., -0.23221517,\n",
       "         -0.23932299, -0.23011847],\n",
       "        [ 0.01939956,  0.00980465, -0.02985943, ..., -0.13748059,\n",
       "         -0.15171531, -0.14962323],\n",
       "        ...,\n",
       "        [ 0.1402818 ,  0.15655139,  0.16474329, ...,  0.02488515,\n",
       "          0.02668797,  0.05030406],\n",
       "        [ 0.15387575,  0.16786905,  0.14832577, ...,  0.01899741,\n",
       "          0.02344296,  0.05340677],\n",
       "        [ 0.1653717 ,  0.18947415,  0.15970011, ...,  0.0288523 ,\n",
       "          0.03572103,  0.0524933 ]],\n",
       "\n",
       "       ...,\n",
       "\n",
       "       [[ 0.02487863,  0.03531069,  0.03569125, ..., -0.29380494,\n",
       "         -0.27513725, -0.27268502],\n",
       "        [ 0.029973  ,  0.04044839,  0.03785525, ..., -0.26419845,\n",
       "         -0.23852675, -0.23056039],\n",
       "        [ 0.04714752,  0.05941351,  0.04097141, ..., -0.26518473,\n",
       "         -0.2220315 , -0.22728392],\n",
       "        ...,\n",
       "        [ 0.08777303,  0.11990424,  0.09150914, ..., -0.02252807,\n",
       "         -0.00567549,  0.03148211],\n",
       "        [ 0.08212755,  0.15205003,  0.11666564, ..., -0.00531199,\n",
       "          0.01669154,  0.05218958],\n",
       "        [ 0.12124614,  0.19250455,  0.17126061, ...,  0.00272837,\n",
       "          0.02195103,  0.05640978]],\n",
       "\n",
       "       [[-0.09960056, -0.09347301, -0.0857352 , ..., -0.14153273,\n",
       "         -0.08654878, -0.01160164],\n",
       "        [-0.10884871, -0.12009434, -0.12713611, ..., -0.11290227,\n",
       "         -0.09690557, -0.07635213],\n",
       "        [-0.11518008, -0.13208619, -0.15050694, ..., -0.12728779,\n",
       "         -0.14021507, -0.16094474],\n",
       "        ...,\n",
       "        [ 0.13184793,  0.13880646,  0.10205732, ...,  0.13972363,\n",
       "          0.17600122,  0.21078496],\n",
       "        [ 0.11618014,  0.11801882,  0.08961618, ...,  0.09952328,\n",
       "          0.1362719 ,  0.16857724],\n",
       "        [ 0.11907411,  0.14421673,  0.13973702, ...,  0.07863928,\n",
       "          0.09135921,  0.1085088 ]],\n",
       "\n",
       "       [[ 0.00757617, -0.02510677, -0.05108782, ...,  0.03028645,\n",
       "          0.04524953,  0.02985736],\n",
       "        [-0.00745253, -0.02734007, -0.06542069, ...,  0.00701948,\n",
       "          0.00750781, -0.00239028],\n",
       "        [-0.02136822, -0.03499213, -0.06402999, ..., -0.072815  ,\n",
       "         -0.08984029, -0.08639173],\n",
       "        ...,\n",
       "        [ 0.08169843,  0.08055364,  0.0429953 , ..., -0.05448613,\n",
       "         -0.04107202, -0.02385489],\n",
       "        [ 0.09420125,  0.0945638 ,  0.04941439, ..., -0.07181551,\n",
       "         -0.06243357, -0.04886422],\n",
       "        [ 0.08319484,  0.08050821,  0.03983624, ..., -0.07098857,\n",
       "         -0.06989163, -0.06564381]]], dtype=float32)"
      ]
     },
     "execution_count": 12,
     "metadata": {},
     "output_type": "execute_result"
    }
   ],
   "source": [
    "R_recur = ((R_recur1 + R_recur2 + R_recur3 + R_recur4 + R_recur5) / 5)\n",
    "R_recur"
   ]
  },
  {
   "cell_type": "code",
   "execution_count": 13,
   "id": "4c6df40e",
   "metadata": {},
   "outputs": [],
   "source": [
    "# 首先 我们先画 SON季节的贡献图   JJA： 9  10  11 月  即  09/01 - 11/31  当然，会做一个区域平均\n",
    "# 同时，我们也会对每一年的JJA做一个平均  ---》1993 - 2019年"
   ]
  },
  {
   "cell_type": "code",
   "execution_count": 77,
   "id": "106e2c5e",
   "metadata": {},
   "outputs": [
    {
     "data": {
      "text/plain": [
       "9829"
      ]
     },
     "execution_count": 77,
     "metadata": {},
     "output_type": "execute_result"
    }
   ],
   "source": [
    "#  计算索引\n",
    "import pandas as pd\n",
    "import datetime\n",
    "\n",
    "#创建时间范围\n",
    "start_date = datetime.datetime(1993,1,1)\n",
    "end_date = datetime.datetime(2019,12,31)\n",
    "dates = pd.date_range(start = start_date, end = end_date, freq = 'D')\n",
    "\n",
    "index = dates.get_loc(datetime.datetime(2019,11,30)) \n",
    "index"
   ]
  },
  {
   "cell_type": "code",
   "execution_count": 17,
   "id": "c9739b21",
   "metadata": {},
   "outputs": [],
   "source": [
    "# SON   93\n",
    "Q_net_SON_93 = Q_net[243:334,:,:]\n",
    "Q_net_SON_93.shape\n",
    "\n",
    "ZAdv_SON_93 = ZAdv[243:334,:,:]\n",
    "MAdv_SON_93 = MAdv[243:334,:,:]\n",
    "VAdv_SON_93 = VAdv[243:334,:,:]\n",
    "R_origin_SON_93 = R_origin[243:334,:,:]\n",
    "dT_dt_SON_93 = dT_dt[243:334,:,:]\n",
    "R_recur_SON_93 = R_recur[243:334,:,:]"
   ]
  },
  {
   "cell_type": "code",
   "execution_count": 20,
   "id": "ff88de1a",
   "metadata": {},
   "outputs": [],
   "source": [
    "# SON   94\n",
    "Q_net_SON_94 = Q_net[608:699,:,:]\n",
    "Q_net_SON_94.shape\n",
    "\n",
    "ZAdv_SON_94 = ZAdv[608:699,:,:]\n",
    "MAdv_SON_94 = MAdv[608:699,:,:]\n",
    "VAdv_SON_94 = VAdv[608:699,:,:]\n",
    "R_origin_SON_94 = R_origin[608:699,:,:]\n",
    "dT_dt_SON_94 = dT_dt[608:699,:,:]\n",
    "R_recur_SON_94 = R_recur[608:699,:,:]"
   ]
  },
  {
   "cell_type": "code",
   "execution_count": 23,
   "id": "89f33996",
   "metadata": {},
   "outputs": [],
   "source": [
    "# SON   95\n",
    "Q_net_SON_95 = Q_net[973:1064,:,:]\n",
    "Q_net_SON_95.shape\n",
    "\n",
    "ZAdv_SON_95 = ZAdv[973:1064,:,:]\n",
    "MAdv_SON_95 = MAdv[973:1064,:,:]\n",
    "VAdv_SON_95 = VAdv[973:1064,:,:]\n",
    "R_origin_SON_95 = R_origin[973:1064,:,:]\n",
    "dT_dt_SON_95 = dT_dt[973:1064,:,:]\n",
    "R_recur_SON_95 = R_recur[973:1064,:,:]"
   ]
  },
  {
   "cell_type": "code",
   "execution_count": 26,
   "id": "e5f1843e",
   "metadata": {},
   "outputs": [],
   "source": [
    "# SON   96\n",
    "Q_net_SON_96 = Q_net[1339:1430,:,:]\n",
    "ZAdv_SON_96 = ZAdv[1339:1430,:,:]\n",
    "MAdv_SON_96 = MAdv[1339:1430,:,:]\n",
    "VAdv_SON_96 = VAdv[1339:1430,:,:]\n",
    "R_origin_SON_96 = R_origin[1339:1430,:,:]\n",
    "dT_dt_SON_96 = dT_dt[1339:1430,:,:]\n",
    "R_recur_SON_96 = R_recur[1339:1430,:,:]"
   ]
  },
  {
   "cell_type": "code",
   "execution_count": 29,
   "id": "fb6a0487",
   "metadata": {},
   "outputs": [],
   "source": [
    "# SON   97\n",
    "Q_net_SON_97 = Q_net[1704:1795,:,:]\n",
    "ZAdv_SON_97 = ZAdv[1704:1795,:,:]\n",
    "MAdv_SON_97 = MAdv[1704:1795,:,:]\n",
    "VAdv_SON_97 = VAdv[1704:1795,:,:]\n",
    "R_origin_SON_97 = R_origin[1704:1795,:,:]\n",
    "dT_dt_SON_97 = dT_dt[1704:1795,:,:]\n",
    "R_recur_SON_97 = R_recur[1704:1795,:,:]"
   ]
  },
  {
   "cell_type": "code",
   "execution_count": 32,
   "id": "87a2abf3",
   "metadata": {},
   "outputs": [],
   "source": [
    "# SON   98\n",
    "Q_net_SON_98 = Q_net[2069:2160,:,:]\n",
    "ZAdv_SON_98 = ZAdv[2069:2160,:,:]\n",
    "MAdv_SON_98 = MAdv[2069:2160,:,:]\n",
    "VAdv_SON_98 = VAdv[2069:2160,:,:]\n",
    "R_origin_SON_98 = R_origin[2069:2160,:,:]\n",
    "dT_dt_SON_98 = dT_dt[2069:2160,:,:]\n",
    "R_recur_SON_98 = R_recur[2069:2160,:,:]"
   ]
  },
  {
   "cell_type": "code",
   "execution_count": 35,
   "id": "c05340e1",
   "metadata": {},
   "outputs": [],
   "source": [
    "# SON   99\n",
    "Q_net_SON_99 = Q_net[2434:2525,:,:]\n",
    "ZAdv_SON_99 = ZAdv[2434:2525,:,:]\n",
    "MAdv_SON_99 = MAdv[2434:2525,:,:]\n",
    "VAdv_SON_99 = VAdv[2434:2525,:,:]\n",
    "R_origin_SON_99 = R_origin[2434:2525,:,:]\n",
    "dT_dt_SON_99 = dT_dt[2434:2525,:,:]\n",
    "R_recur_SON_99 = R_recur[2434:2525,:,:]"
   ]
  },
  {
   "cell_type": "code",
   "execution_count": 38,
   "id": "080288cb",
   "metadata": {},
   "outputs": [],
   "source": [
    "# SON   00\n",
    "Q_net_SON_00 = Q_net[2800:2891,:,:]\n",
    "ZAdv_SON_00 = ZAdv[2800:2891,:,:]\n",
    "MAdv_SON_00 = MAdv[2800:2891,:,:]\n",
    "VAdv_SON_00 = VAdv[2800:2891,:,:]\n",
    "R_origin_SON_00 = R_origin[2800:2891,:,:]\n",
    "dT_dt_SON_00 = dT_dt[2800:2891,:,:]\n",
    "R_recur_SON_00 = R_recur[2800:2891,:,:]"
   ]
  },
  {
   "cell_type": "code",
   "execution_count": 41,
   "id": "c5342e1b",
   "metadata": {},
   "outputs": [],
   "source": [
    "# SON   01\n",
    "Q_net_SON_01 = Q_net[3165:3256,:,:]\n",
    "ZAdv_SON_01 = ZAdv[3165:3256,:,:]\n",
    "MAdv_SON_01 = MAdv[3165:3256,:,:]\n",
    "VAdv_SON_01 = VAdv[3165:3256,:,:]\n",
    "R_origin_SON_01 = R_origin[3165:3256,:,:]\n",
    "dT_dt_SON_01 = dT_dt[3165:3256,:,:]\n",
    "R_recur_SON_01 = R_recur[3165:3256,:,:]"
   ]
  },
  {
   "cell_type": "code",
   "execution_count": 43,
   "id": "ecdb1fdd",
   "metadata": {},
   "outputs": [],
   "source": [
    "# SON   02\n",
    "Q_net_SON_02 = Q_net[3529:3621,:,:]\n",
    "ZAdv_SON_02 = ZAdv[3529:3621,:,:]\n",
    "MAdv_SON_02 = MAdv[3529:3621,:,:]\n",
    "VAdv_SON_02 = VAdv[3529:3621,:,:]\n",
    "R_origin_SON_02 = R_origin[3529:3621,:,:]\n",
    "dT_dt_SON_02 = dT_dt[3529:3621,:,:]\n",
    "R_recur_SON_02 = R_recur[3529:3621,:,:]"
   ]
  },
  {
   "cell_type": "code",
   "execution_count": 45,
   "id": "60946952",
   "metadata": {},
   "outputs": [],
   "source": [
    "# SON   03\n",
    "Q_net_SON_03 = Q_net[3895:3986,:,:]\n",
    "ZAdv_SON_03 = ZAdv[3895:3986,:,:]\n",
    "MAdv_SON_03 = MAdv[3895:3986,:,:]\n",
    "VAdv_SON_03 = VAdv[3895:3986,:,:]\n",
    "R_origin_SON_03 = R_origin[3895:3986,:,:]\n",
    "dT_dt_SON_03 = dT_dt[3895:3986,:,:]\n",
    "R_recur_SON_03 = R_recur[3895:3986,:,:]"
   ]
  },
  {
   "cell_type": "code",
   "execution_count": 47,
   "id": "189848e0",
   "metadata": {},
   "outputs": [],
   "source": [
    "# SON   04\n",
    "Q_net_SON_04 = Q_net[4261:4352,:,:]\n",
    "ZAdv_SON_04 = ZAdv[4261:4352,:,:]\n",
    "MAdv_SON_04 = MAdv[4261:4352,:,:]\n",
    "VAdv_SON_04 = VAdv[4261:4352,:,:]\n",
    "R_origin_SON_04 = R_origin[4261:4352,:,:]\n",
    "dT_dt_SON_04 = dT_dt[4261:4352,:,:]\n",
    "R_recur_SON_04 = R_recur[4261:4352,:,:]"
   ]
  },
  {
   "cell_type": "code",
   "execution_count": 49,
   "id": "95e86ab6",
   "metadata": {},
   "outputs": [],
   "source": [
    "# SON   05\n",
    "Q_net_SON_05 = Q_net[4626:4717,:,:]\n",
    "ZAdv_SON_05 = ZAdv[4626:4717,:,:]\n",
    "MAdv_SON_05 = MAdv[4626:4717,:,:]\n",
    "VAdv_SON_05 = VAdv[4626:4717,:,:]\n",
    "R_origin_SON_05 = R_origin[4626:4717,:,:]\n",
    "dT_dt_SON_05 = dT_dt[4626:4717,:,:]\n",
    "R_recur_SON_05 = R_recur[4626:4717,:,:]"
   ]
  },
  {
   "cell_type": "code",
   "execution_count": 51,
   "id": "c3cf2d16",
   "metadata": {},
   "outputs": [],
   "source": [
    "# SON   06\n",
    "Q_net_SON_06 = Q_net[4990:5082,:,:]\n",
    "ZAdv_SON_06 = ZAdv[4990:5082,:,:]\n",
    "MAdv_SON_06 = MAdv[4990:5082,:,:]\n",
    "VAdv_SON_06 = VAdv[4990:5082,:,:]\n",
    "R_origin_SON_06 = R_origin[4990:5082,:,:]\n",
    "dT_dt_SON_06 = dT_dt[4990:5082,:,:]\n",
    "R_recur_SON_06 = R_recur[4990:5082,:,:]"
   ]
  },
  {
   "cell_type": "code",
   "execution_count": 53,
   "id": "eae06bb6",
   "metadata": {},
   "outputs": [],
   "source": [
    "# SON   07\n",
    "Q_net_SON_07 = Q_net[5356:5447,:,:]\n",
    "ZAdv_SON_07 = ZAdv[5356:5447,:,:]\n",
    "MAdv_SON_07 = MAdv[5356:5447,:,:]\n",
    "VAdv_SON_07 = VAdv[5356:5447,:,:]\n",
    "R_origin_SON_07 = R_origin[5356:5447,:,:]\n",
    "dT_dt_SON_07 = dT_dt[5356:5447,:,:]\n",
    "R_recur_SON_07 = R_recur[5356:5447,:,:]"
   ]
  },
  {
   "cell_type": "code",
   "execution_count": 55,
   "id": "b183f998",
   "metadata": {},
   "outputs": [],
   "source": [
    "# SON   08\n",
    "Q_net_SON_08 = Q_net[5722:5813,:,:]\n",
    "ZAdv_SON_08 = ZAdv[5722:5813,:,:]\n",
    "MAdv_SON_08 = MAdv[5722:5813,:,:]\n",
    "VAdv_SON_08 = VAdv[5722:5813,:,:]\n",
    "R_origin_SON_08 = R_origin[5722:5813,:,:]\n",
    "dT_dt_SON_08 = dT_dt[5722:5813,:,:]\n",
    "R_recur_SON_08 = R_recur[5722:5813,:,:]"
   ]
  },
  {
   "cell_type": "code",
   "execution_count": 57,
   "id": "2d6bd95f",
   "metadata": {},
   "outputs": [],
   "source": [
    "# SON   09\n",
    "Q_net_SON_09 = Q_net[6087:6178,:,:]\n",
    "ZAdv_SON_09 = ZAdv[6087:6178,:,:]\n",
    "MAdv_SON_09 = MAdv[6087:6178,:,:]\n",
    "VAdv_SON_09 = VAdv[6087:6178,:,:]\n",
    "R_origin_SON_09 = R_origin[6087:6178,:,:]\n",
    "dT_dt_SON_09 = dT_dt[6087:6178,:,:]\n",
    "R_recur_SON_09 = R_recur[6087:6178,:,:]"
   ]
  },
  {
   "cell_type": "code",
   "execution_count": 59,
   "id": "a079db7a",
   "metadata": {},
   "outputs": [],
   "source": [
    "# SON   10\n",
    "Q_net_SON_10 = Q_net[6452:6543,:,:]\n",
    "ZAdv_SON_10 = ZAdv[6452:6543,:,:]\n",
    "MAdv_SON_10 = MAdv[6452:6543,:,:]\n",
    "VAdv_SON_10 = VAdv[6452:6543,:,:]\n",
    "R_origin_SON_10 = R_origin[6452:6543,:,:]\n",
    "dT_dt_SON_10 = dT_dt[6452:6543,:,:]\n",
    "R_recur_SON_10 = R_recur[6452:6543,:,:]"
   ]
  },
  {
   "cell_type": "code",
   "execution_count": 61,
   "id": "9b596b8d",
   "metadata": {},
   "outputs": [],
   "source": [
    "# SON   11\n",
    "Q_net_SON_11 = Q_net[6817:6908,:,:]\n",
    "ZAdv_SON_11 = ZAdv[6817:6908,:,:]\n",
    "MAdv_SON_11 = MAdv[6817:6908,:,:]\n",
    "VAdv_SON_11 = VAdv[6817:6908,:,:]\n",
    "R_origin_SON_11 = R_origin[6817:6908,:,:]\n",
    "dT_dt_SON_11 = dT_dt[6817:6908,:,:]\n",
    "R_recur_SON_11 = R_recur[6817:6908,:,:]"
   ]
  },
  {
   "cell_type": "code",
   "execution_count": 63,
   "id": "bf697287",
   "metadata": {},
   "outputs": [],
   "source": [
    "# SON   12\n",
    "Q_net_SON_12 = Q_net[7183:7274,:,:]\n",
    "ZAdv_SON_12 = ZAdv[7183:7274,:,:]\n",
    "MAdv_SON_12 = MAdv[7183:7274,:,:]\n",
    "VAdv_SON_12 = VAdv[7183:7274,:,:]\n",
    "R_origin_SON_12 = R_origin[7183:7274,:,:]\n",
    "dT_dt_SON_12 = dT_dt[7183:7274,:,:]\n",
    "R_recur_SON_12 = R_recur[7183:7274,:,:]"
   ]
  },
  {
   "cell_type": "code",
   "execution_count": 65,
   "id": "87e9b1db",
   "metadata": {},
   "outputs": [],
   "source": [
    "# SON   13\n",
    "Q_net_SON_13 = Q_net[7548:7639,:,:]\n",
    "ZAdv_SON_13 = ZAdv[7548:7639,:,:]\n",
    "MAdv_SON_13 = MAdv[7548:7639,:,:]\n",
    "VAdv_SON_13 = VAdv[7548:7639,:,:]\n",
    "R_origin_SON_13 = R_origin[7548:7639,:,:]\n",
    "dT_dt_SON_13 = dT_dt[7548:7639,:,:]\n",
    "R_recur_SON_13 = R_recur[7548:7639,:,:]"
   ]
  },
  {
   "cell_type": "code",
   "execution_count": 67,
   "id": "12933f99",
   "metadata": {},
   "outputs": [],
   "source": [
    "# SON   14\n",
    "Q_net_SON_14 = Q_net[7913:8004,:,:]\n",
    "ZAdv_SON_14 = ZAdv[7913:8004,:,:]\n",
    "MAdv_SON_14 = MAdv[7913:8004,:,:]\n",
    "VAdv_SON_14 = VAdv[7913:8004,:,:]\n",
    "R_origin_SON_14 = R_origin[7913:8004,:,:]\n",
    "dT_dt_SON_14 = dT_dt[7913:8004,:,:]\n",
    "R_recur_SON_14 = R_recur[7913:8004,:,:]"
   ]
  },
  {
   "cell_type": "code",
   "execution_count": 70,
   "id": "bc0a66da",
   "metadata": {},
   "outputs": [],
   "source": [
    "# SON   15\n",
    "Q_net_SON_15 = Q_net[8278:8369,:,:]\n",
    "ZAdv_SON_15 = ZAdv[8278:8369,:,:]\n",
    "MAdv_SON_15 = MAdv[8278:8369,:,:]\n",
    "VAdv_SON_15 = VAdv[8278:8369,:,:]\n",
    "R_origin_SON_15 = R_origin[8278:8369,:,:]\n",
    "dT_dt_SON_15 = dT_dt[8278:8369,:,:]\n",
    "R_recur_SON_15 = R_recur[8278:8369,:,:]"
   ]
  },
  {
   "cell_type": "code",
   "execution_count": 72,
   "id": "2410a9fe",
   "metadata": {},
   "outputs": [],
   "source": [
    "# SON   16\n",
    "Q_net_SON_16 = Q_net[8644:8735,:,:]\n",
    "ZAdv_SON_16 = ZAdv[8644:8735,:,:]\n",
    "MAdv_SON_16 = MAdv[8644:8735,:,:]\n",
    "VAdv_SON_16 = VAdv[8644:8735,:,:]\n",
    "R_origin_SON_16 = R_origin[8644:8735,:,:]\n",
    "dT_dt_SON_16 = dT_dt[8644:8735,:,:]\n",
    "R_recur_SON_16 = R_recur[8644:8735,:,:]"
   ]
  },
  {
   "cell_type": "code",
   "execution_count": 74,
   "id": "52238b9d",
   "metadata": {},
   "outputs": [],
   "source": [
    "# SON   17\n",
    "Q_net_SON_17 = Q_net[9009:9100,:,:]\n",
    "ZAdv_SON_17 = ZAdv[9009:9100,:,:]\n",
    "MAdv_SON_17 = MAdv[9009:9100,:,:]\n",
    "VAdv_SON_17 = VAdv[9009:9100,:,:]\n",
    "R_origin_SON_17 = R_origin[9009:9100,:,:]\n",
    "dT_dt_SON_17 = dT_dt[9009:9100,:,:]\n",
    "R_recur_SON_17 = R_recur[9009:9100,:,:]"
   ]
  },
  {
   "cell_type": "code",
   "execution_count": 76,
   "id": "d7830f22",
   "metadata": {},
   "outputs": [],
   "source": [
    "# SON   18\n",
    "Q_net_SON_18 = Q_net[9374:9465,:,:]\n",
    "ZAdv_SON_18 = ZAdv[9374:9465,:,:]\n",
    "MAdv_SON_18 = MAdv[9374:9465,:,:]\n",
    "VAdv_SON_18 = VAdv[9374:9465,:,:]\n",
    "R_origin_SON_18 = R_origin[9374:9465,:,:]\n",
    "dT_dt_SON_18 = dT_dt[9374:9465,:,:]\n",
    "R_recur_SON_18 = R_recur[9374:9465,:,:]"
   ]
  },
  {
   "cell_type": "code",
   "execution_count": 78,
   "id": "37b4178b",
   "metadata": {},
   "outputs": [],
   "source": [
    "# SON   19\n",
    "Q_net_SON_19 = Q_net[9739:9830,:,:]\n",
    "ZAdv_SON_19 = ZAdv[9739:9830,:,:]\n",
    "MAdv_SON_19 = MAdv[9739:9830,:,:]\n",
    "VAdv_SON_19 = VAdv[9739:9830,:,:]\n",
    "R_origin_SON_19 = R_origin[9739:9830,:,:]\n",
    "dT_dt_SON_19 = dT_dt[9739:9830,:,:]\n",
    "R_recur_SON_19 = R_recur[9739:9830,:,:]"
   ]
  },
  {
   "cell_type": "code",
   "execution_count": 79,
   "id": "4d4e660c",
   "metadata": {},
   "outputs": [],
   "source": [
    "Q_net_SON_93 = np.mean(Q_net_SON_93, axis = (1,2)).reshape(-1,1)\n",
    "Q_net_SON_94 = np.mean(Q_net_SON_94, axis = (1,2)).reshape(-1,1)\n",
    "Q_net_SON_95 = np.mean(Q_net_SON_95, axis = (1,2)).reshape(-1,1)\n",
    "Q_net_SON_96 = np.mean(Q_net_SON_96, axis = (1,2)).reshape(-1,1)\n",
    "Q_net_SON_97 = np.mean(Q_net_SON_97, axis = (1,2)).reshape(-1,1)\n",
    "Q_net_SON_98 = np.mean(Q_net_SON_98, axis = (1,2)).reshape(-1,1)\n",
    "Q_net_SON_99 = np.mean(Q_net_SON_99, axis = (1,2)).reshape(-1,1)\n",
    "Q_net_SON_00 = np.mean(Q_net_SON_00, axis = (1,2)).reshape(-1,1)\n",
    "Q_net_SON_01 = np.mean(Q_net_SON_01, axis = (1,2)).reshape(-1,1)\n",
    "Q_net_SON_02 = np.mean(Q_net_SON_02, axis = (1,2)).reshape(-1,1)\n",
    "Q_net_SON_03 = np.mean(Q_net_SON_03, axis = (1,2)).reshape(-1,1)\n",
    "Q_net_SON_04 = np.mean(Q_net_SON_04, axis = (1,2)).reshape(-1,1)\n",
    "Q_net_SON_05 = np.mean(Q_net_SON_05, axis = (1,2)).reshape(-1,1)\n",
    "Q_net_SON_06 = np.mean(Q_net_SON_06, axis = (1,2)).reshape(-1,1)\n",
    "Q_net_SON_07 = np.mean(Q_net_SON_07, axis = (1,2)).reshape(-1,1)\n",
    "Q_net_SON_08 = np.mean(Q_net_SON_08, axis = (1,2)).reshape(-1,1)\n",
    "Q_net_SON_09 = np.mean(Q_net_SON_09, axis = (1,2)).reshape(-1,1)\n",
    "Q_net_SON_10 = np.mean(Q_net_SON_10, axis = (1,2)).reshape(-1,1)\n",
    "Q_net_SON_11 = np.mean(Q_net_SON_11, axis = (1,2)).reshape(-1,1)\n",
    "Q_net_SON_12 = np.mean(Q_net_SON_12, axis = (1,2)).reshape(-1,1)\n",
    "Q_net_SON_13 = np.mean(Q_net_SON_13, axis = (1,2)).reshape(-1,1)\n",
    "Q_net_SON_14 = np.mean(Q_net_SON_14, axis = (1,2)).reshape(-1,1)\n",
    "Q_net_SON_15 = np.mean(Q_net_SON_15, axis = (1,2)).reshape(-1,1)\n",
    "Q_net_SON_16 = np.mean(Q_net_SON_16, axis = (1,2)).reshape(-1,1)\n",
    "Q_net_SON_17 = np.mean(Q_net_SON_17, axis = (1,2)).reshape(-1,1)\n",
    "Q_net_SON_18 = np.mean(Q_net_SON_18, axis = (1,2)).reshape(-1,1)\n",
    "Q_net_SON_19 = np.mean(Q_net_SON_19, axis = (1,2)).reshape(-1,1)"
   ]
  },
  {
   "cell_type": "code",
   "execution_count": 80,
   "id": "30fa10b9",
   "metadata": {},
   "outputs": [],
   "source": [
    "Q_net_SON_93 = np.mean(Q_net_SON_93).reshape(-1,1)\n",
    "Q_net_SON_94 = np.mean(Q_net_SON_94).reshape(-1,1)\n",
    "Q_net_SON_95 = np.mean(Q_net_SON_95).reshape(-1,1)\n",
    "Q_net_SON_96 = np.mean(Q_net_SON_96).reshape(-1,1)\n",
    "Q_net_SON_97 = np.mean(Q_net_SON_97).reshape(-1,1)\n",
    "Q_net_SON_98 = np.mean(Q_net_SON_98).reshape(-1,1)\n",
    "Q_net_SON_99 = np.mean(Q_net_SON_99).reshape(-1,1)\n",
    "Q_net_SON_00 = np.mean(Q_net_SON_00).reshape(-1,1)\n",
    "Q_net_SON_01 = np.mean(Q_net_SON_01).reshape(-1,1)\n",
    "Q_net_SON_02 = np.mean(Q_net_SON_02).reshape(-1,1)\n",
    "Q_net_SON_03 = np.mean(Q_net_SON_03).reshape(-1,1)\n",
    "Q_net_SON_04 = np.mean(Q_net_SON_04).reshape(-1,1)\n",
    "Q_net_SON_05 = np.mean(Q_net_SON_05).reshape(-1,1)\n",
    "Q_net_SON_06 = np.mean(Q_net_SON_06).reshape(-1,1)\n",
    "Q_net_SON_07 = np.mean(Q_net_SON_07).reshape(-1,1)\n",
    "Q_net_SON_08 = np.mean(Q_net_SON_08).reshape(-1,1)\n",
    "Q_net_SON_09 = np.mean(Q_net_SON_09).reshape(-1,1)\n",
    "Q_net_SON_10 = np.mean(Q_net_SON_10).reshape(-1,1)\n",
    "Q_net_SON_11 = np.mean(Q_net_SON_11).reshape(-1,1)\n",
    "Q_net_SON_12 = np.mean(Q_net_SON_12).reshape(-1,1)\n",
    "Q_net_SON_13 = np.mean(Q_net_SON_13).reshape(-1,1)\n",
    "Q_net_SON_14 = np.mean(Q_net_SON_14).reshape(-1,1)\n",
    "Q_net_SON_15 = np.mean(Q_net_SON_15).reshape(-1,1)\n",
    "Q_net_SON_16 = np.mean(Q_net_SON_16).reshape(-1,1)\n",
    "Q_net_SON_17 = np.mean(Q_net_SON_17).reshape(-1,1)\n",
    "Q_net_SON_18 = np.mean(Q_net_SON_18).reshape(-1,1)\n",
    "Q_net_SON_19 = np.mean(Q_net_SON_19).reshape(-1,1)"
   ]
  },
  {
   "cell_type": "code",
   "execution_count": 82,
   "id": "188ee768",
   "metadata": {
    "collapsed": true
   },
   "outputs": [
    {
     "ename": "AxisError",
     "evalue": "axis 2 is out of bounds for array of dimension 2",
     "output_type": "error",
     "traceback": [
      "\u001b[1;31m---------------------------------------------------------------------------\u001b[0m",
      "\u001b[1;31mAxisError\u001b[0m                                 Traceback (most recent call last)",
      "\u001b[1;32m~\\AppData\\Local\\Temp/ipykernel_412/2384804749.py\u001b[0m in \u001b[0;36m<module>\u001b[1;34m\u001b[0m\n\u001b[1;32m----> 1\u001b[1;33m \u001b[0mZAdv_SON_93\u001b[0m \u001b[1;33m=\u001b[0m \u001b[0mnp\u001b[0m\u001b[1;33m.\u001b[0m\u001b[0mmean\u001b[0m\u001b[1;33m(\u001b[0m\u001b[0mZAdv_SON_93\u001b[0m\u001b[1;33m,\u001b[0m \u001b[0maxis\u001b[0m \u001b[1;33m=\u001b[0m \u001b[1;33m(\u001b[0m\u001b[1;36m1\u001b[0m\u001b[1;33m,\u001b[0m\u001b[1;36m2\u001b[0m\u001b[1;33m)\u001b[0m\u001b[1;33m)\u001b[0m\u001b[1;33m.\u001b[0m\u001b[0mreshape\u001b[0m\u001b[1;33m(\u001b[0m\u001b[1;33m-\u001b[0m\u001b[1;36m1\u001b[0m\u001b[1;33m,\u001b[0m\u001b[1;36m1\u001b[0m\u001b[1;33m)\u001b[0m\u001b[1;33m\u001b[0m\u001b[1;33m\u001b[0m\u001b[0m\n\u001b[0m\u001b[0;32m      2\u001b[0m \u001b[0mZAdv_SON_94\u001b[0m \u001b[1;33m=\u001b[0m \u001b[0mnp\u001b[0m\u001b[1;33m.\u001b[0m\u001b[0mmean\u001b[0m\u001b[1;33m(\u001b[0m\u001b[0mZAdv_SON_94\u001b[0m\u001b[1;33m,\u001b[0m \u001b[0maxis\u001b[0m \u001b[1;33m=\u001b[0m \u001b[1;33m(\u001b[0m\u001b[1;36m1\u001b[0m\u001b[1;33m,\u001b[0m\u001b[1;36m2\u001b[0m\u001b[1;33m)\u001b[0m\u001b[1;33m)\u001b[0m\u001b[1;33m.\u001b[0m\u001b[0mreshape\u001b[0m\u001b[1;33m(\u001b[0m\u001b[1;33m-\u001b[0m\u001b[1;36m1\u001b[0m\u001b[1;33m,\u001b[0m\u001b[1;36m1\u001b[0m\u001b[1;33m)\u001b[0m\u001b[1;33m\u001b[0m\u001b[1;33m\u001b[0m\u001b[0m\n\u001b[0;32m      3\u001b[0m \u001b[0mZAdv_SON_95\u001b[0m \u001b[1;33m=\u001b[0m \u001b[0mnp\u001b[0m\u001b[1;33m.\u001b[0m\u001b[0mmean\u001b[0m\u001b[1;33m(\u001b[0m\u001b[0mZAdv_SON_95\u001b[0m\u001b[1;33m,\u001b[0m \u001b[0maxis\u001b[0m \u001b[1;33m=\u001b[0m \u001b[1;33m(\u001b[0m\u001b[1;36m1\u001b[0m\u001b[1;33m,\u001b[0m\u001b[1;36m2\u001b[0m\u001b[1;33m)\u001b[0m\u001b[1;33m)\u001b[0m\u001b[1;33m.\u001b[0m\u001b[0mreshape\u001b[0m\u001b[1;33m(\u001b[0m\u001b[1;33m-\u001b[0m\u001b[1;36m1\u001b[0m\u001b[1;33m,\u001b[0m\u001b[1;36m1\u001b[0m\u001b[1;33m)\u001b[0m\u001b[1;33m\u001b[0m\u001b[1;33m\u001b[0m\u001b[0m\n\u001b[0;32m      4\u001b[0m \u001b[0mZAdv_SON_96\u001b[0m \u001b[1;33m=\u001b[0m \u001b[0mnp\u001b[0m\u001b[1;33m.\u001b[0m\u001b[0mmean\u001b[0m\u001b[1;33m(\u001b[0m\u001b[0mZAdv_SON_96\u001b[0m\u001b[1;33m,\u001b[0m \u001b[0maxis\u001b[0m \u001b[1;33m=\u001b[0m \u001b[1;33m(\u001b[0m\u001b[1;36m1\u001b[0m\u001b[1;33m,\u001b[0m\u001b[1;36m2\u001b[0m\u001b[1;33m)\u001b[0m\u001b[1;33m)\u001b[0m\u001b[1;33m.\u001b[0m\u001b[0mreshape\u001b[0m\u001b[1;33m(\u001b[0m\u001b[1;33m-\u001b[0m\u001b[1;36m1\u001b[0m\u001b[1;33m,\u001b[0m\u001b[1;36m1\u001b[0m\u001b[1;33m)\u001b[0m\u001b[1;33m\u001b[0m\u001b[1;33m\u001b[0m\u001b[0m\n\u001b[0;32m      5\u001b[0m \u001b[0mZAdv_SON_97\u001b[0m \u001b[1;33m=\u001b[0m \u001b[0mnp\u001b[0m\u001b[1;33m.\u001b[0m\u001b[0mmean\u001b[0m\u001b[1;33m(\u001b[0m\u001b[0mZAdv_SON_97\u001b[0m\u001b[1;33m,\u001b[0m \u001b[0maxis\u001b[0m \u001b[1;33m=\u001b[0m \u001b[1;33m(\u001b[0m\u001b[1;36m1\u001b[0m\u001b[1;33m,\u001b[0m\u001b[1;36m2\u001b[0m\u001b[1;33m)\u001b[0m\u001b[1;33m)\u001b[0m\u001b[1;33m.\u001b[0m\u001b[0mreshape\u001b[0m\u001b[1;33m(\u001b[0m\u001b[1;33m-\u001b[0m\u001b[1;36m1\u001b[0m\u001b[1;33m,\u001b[0m\u001b[1;36m1\u001b[0m\u001b[1;33m)\u001b[0m\u001b[1;33m\u001b[0m\u001b[1;33m\u001b[0m\u001b[0m\n",
      "\u001b[1;32m~\\Anaconda3\\envs\\pytorch\\lib\\site-packages\\numpy\\core\\overrides.py\u001b[0m in \u001b[0;36mmean\u001b[1;34m(*args, **kwargs)\u001b[0m\n",
      "\u001b[1;32m~\\Anaconda3\\envs\\pytorch\\lib\\site-packages\\numpy\\core\\fromnumeric.py\u001b[0m in \u001b[0;36mmean\u001b[1;34m(a, axis, dtype, out, keepdims, where)\u001b[0m\n\u001b[0;32m   3472\u001b[0m             \u001b[1;32mreturn\u001b[0m \u001b[0mmean\u001b[0m\u001b[1;33m(\u001b[0m\u001b[0maxis\u001b[0m\u001b[1;33m=\u001b[0m\u001b[0maxis\u001b[0m\u001b[1;33m,\u001b[0m \u001b[0mdtype\u001b[0m\u001b[1;33m=\u001b[0m\u001b[0mdtype\u001b[0m\u001b[1;33m,\u001b[0m \u001b[0mout\u001b[0m\u001b[1;33m=\u001b[0m\u001b[0mout\u001b[0m\u001b[1;33m,\u001b[0m \u001b[1;33m**\u001b[0m\u001b[0mkwargs\u001b[0m\u001b[1;33m)\u001b[0m\u001b[1;33m\u001b[0m\u001b[1;33m\u001b[0m\u001b[0m\n\u001b[0;32m   3473\u001b[0m \u001b[1;33m\u001b[0m\u001b[0m\n\u001b[1;32m-> 3474\u001b[1;33m     return _methods._mean(a, axis=axis, dtype=dtype,\n\u001b[0m\u001b[0;32m   3475\u001b[0m                           out=out, **kwargs)\n\u001b[0;32m   3476\u001b[0m \u001b[1;33m\u001b[0m\u001b[0m\n",
      "\u001b[1;32m~\\Anaconda3\\envs\\pytorch\\lib\\site-packages\\numpy\\core\\_methods.py\u001b[0m in \u001b[0;36m_mean\u001b[1;34m(a, axis, dtype, out, keepdims, where)\u001b[0m\n\u001b[0;32m    165\u001b[0m     \u001b[0mis_float16_result\u001b[0m \u001b[1;33m=\u001b[0m \u001b[1;32mFalse\u001b[0m\u001b[1;33m\u001b[0m\u001b[1;33m\u001b[0m\u001b[0m\n\u001b[0;32m    166\u001b[0m \u001b[1;33m\u001b[0m\u001b[0m\n\u001b[1;32m--> 167\u001b[1;33m     \u001b[0mrcount\u001b[0m \u001b[1;33m=\u001b[0m \u001b[0m_count_reduce_items\u001b[0m\u001b[1;33m(\u001b[0m\u001b[0marr\u001b[0m\u001b[1;33m,\u001b[0m \u001b[0maxis\u001b[0m\u001b[1;33m,\u001b[0m \u001b[0mkeepdims\u001b[0m\u001b[1;33m=\u001b[0m\u001b[0mkeepdims\u001b[0m\u001b[1;33m,\u001b[0m \u001b[0mwhere\u001b[0m\u001b[1;33m=\u001b[0m\u001b[0mwhere\u001b[0m\u001b[1;33m)\u001b[0m\u001b[1;33m\u001b[0m\u001b[1;33m\u001b[0m\u001b[0m\n\u001b[0m\u001b[0;32m    168\u001b[0m     \u001b[1;32mif\u001b[0m \u001b[0mrcount\u001b[0m \u001b[1;33m==\u001b[0m \u001b[1;36m0\u001b[0m \u001b[1;32mif\u001b[0m \u001b[0mwhere\u001b[0m \u001b[1;32mis\u001b[0m \u001b[1;32mTrue\u001b[0m \u001b[1;32melse\u001b[0m \u001b[0mumr_any\u001b[0m\u001b[1;33m(\u001b[0m\u001b[0mrcount\u001b[0m \u001b[1;33m==\u001b[0m \u001b[1;36m0\u001b[0m\u001b[1;33m,\u001b[0m \u001b[0maxis\u001b[0m\u001b[1;33m=\u001b[0m\u001b[1;32mNone\u001b[0m\u001b[1;33m)\u001b[0m\u001b[1;33m:\u001b[0m\u001b[1;33m\u001b[0m\u001b[1;33m\u001b[0m\u001b[0m\n\u001b[0;32m    169\u001b[0m         \u001b[0mwarnings\u001b[0m\u001b[1;33m.\u001b[0m\u001b[0mwarn\u001b[0m\u001b[1;33m(\u001b[0m\u001b[1;34m\"Mean of empty slice.\"\u001b[0m\u001b[1;33m,\u001b[0m \u001b[0mRuntimeWarning\u001b[0m\u001b[1;33m,\u001b[0m \u001b[0mstacklevel\u001b[0m\u001b[1;33m=\u001b[0m\u001b[1;36m2\u001b[0m\u001b[1;33m)\u001b[0m\u001b[1;33m\u001b[0m\u001b[1;33m\u001b[0m\u001b[0m\n",
      "\u001b[1;32m~\\Anaconda3\\envs\\pytorch\\lib\\site-packages\\numpy\\core\\_methods.py\u001b[0m in \u001b[0;36m_count_reduce_items\u001b[1;34m(arr, axis, keepdims, where)\u001b[0m\n\u001b[0;32m     74\u001b[0m         \u001b[0mitems\u001b[0m \u001b[1;33m=\u001b[0m \u001b[0mnt\u001b[0m\u001b[1;33m.\u001b[0m\u001b[0mintp\u001b[0m\u001b[1;33m(\u001b[0m\u001b[1;36m1\u001b[0m\u001b[1;33m)\u001b[0m\u001b[1;33m\u001b[0m\u001b[1;33m\u001b[0m\u001b[0m\n\u001b[0;32m     75\u001b[0m         \u001b[1;32mfor\u001b[0m \u001b[0max\u001b[0m \u001b[1;32min\u001b[0m \u001b[0maxis\u001b[0m\u001b[1;33m:\u001b[0m\u001b[1;33m\u001b[0m\u001b[1;33m\u001b[0m\u001b[0m\n\u001b[1;32m---> 76\u001b[1;33m             \u001b[0mitems\u001b[0m \u001b[1;33m*=\u001b[0m \u001b[0marr\u001b[0m\u001b[1;33m.\u001b[0m\u001b[0mshape\u001b[0m\u001b[1;33m[\u001b[0m\u001b[0mmu\u001b[0m\u001b[1;33m.\u001b[0m\u001b[0mnormalize_axis_index\u001b[0m\u001b[1;33m(\u001b[0m\u001b[0max\u001b[0m\u001b[1;33m,\u001b[0m \u001b[0marr\u001b[0m\u001b[1;33m.\u001b[0m\u001b[0mndim\u001b[0m\u001b[1;33m)\u001b[0m\u001b[1;33m]\u001b[0m\u001b[1;33m\u001b[0m\u001b[1;33m\u001b[0m\u001b[0m\n\u001b[0m\u001b[0;32m     77\u001b[0m     \u001b[1;32melse\u001b[0m\u001b[1;33m:\u001b[0m\u001b[1;33m\u001b[0m\u001b[1;33m\u001b[0m\u001b[0m\n\u001b[0;32m     78\u001b[0m         \u001b[1;31m# TODO: Optimize case when `where` is broadcast along a non-reduction\u001b[0m\u001b[1;33m\u001b[0m\u001b[1;33m\u001b[0m\u001b[1;33m\u001b[0m\u001b[0m\n",
      "\u001b[1;31mAxisError\u001b[0m: axis 2 is out of bounds for array of dimension 2"
     ]
    }
   ],
   "source": [
    "ZAdv_SON_93 = np.mean(ZAdv_SON_93, axis = (1,2)).reshape(-1,1)\n",
    "ZAdv_SON_94 = np.mean(ZAdv_SON_94, axis = (1,2)).reshape(-1,1)\n",
    "ZAdv_SON_95 = np.mean(ZAdv_SON_95, axis = (1,2)).reshape(-1,1)\n",
    "ZAdv_SON_96 = np.mean(ZAdv_SON_96, axis = (1,2)).reshape(-1,1)\n",
    "ZAdv_SON_97 = np.mean(ZAdv_SON_97, axis = (1,2)).reshape(-1,1)\n",
    "ZAdv_SON_98 = np.mean(ZAdv_SON_98, axis = (1,2)).reshape(-1,1)\n",
    "ZAdv_SON_99 = np.mean(ZAdv_SON_99, axis = (1,2)).reshape(-1,1)\n",
    "ZAdv_SON_00 = np.mean(ZAdv_SON_00, axis = (1,2)).reshape(-1,1)\n",
    "ZAdv_SON_01 = np.mean(ZAdv_SON_01, axis = (1,2)).reshape(-1,1)\n",
    "ZAdv_SON_02 = np.mean(ZAdv_SON_02, axis = (1,2)).reshape(-1,1)\n",
    "ZAdv_SON_03 = np.mean(ZAdv_SON_03, axis = (1,2)).reshape(-1,1)\n",
    "ZAdv_SON_04 = np.mean(ZAdv_SON_04, axis = (1,2)).reshape(-1,1)\n",
    "ZAdv_SON_05 = np.mean(ZAdv_SON_05, axis = (1,2)).reshape(-1,1)\n",
    "ZAdv_SON_06 = np.mean(ZAdv_SON_06, axis = (1,2)).reshape(-1,1)\n",
    "ZAdv_SON_07 = np.mean(ZAdv_SON_07, axis = (1,2)).reshape(-1,1)\n",
    "ZAdv_SON_08 = np.mean(ZAdv_SON_08, axis = (1,2)).reshape(-1,1)\n",
    "ZAdv_SON_09 = np.mean(ZAdv_SON_09, axis = (1,2)).reshape(-1,1)\n",
    "ZAdv_SON_10 = np.mean(ZAdv_SON_10, axis = (1,2)).reshape(-1,1)\n",
    "ZAdv_SON_11 = np.mean(ZAdv_SON_11, axis = (1,2)).reshape(-1,1)\n",
    "ZAdv_SON_12 = np.mean(ZAdv_SON_12, axis = (1,2)).reshape(-1,1)\n",
    "ZAdv_SON_13 = np.mean(ZAdv_SON_13, axis = (1,2)).reshape(-1,1)\n",
    "ZAdv_SON_14 = np.mean(ZAdv_SON_14, axis = (1,2)).reshape(-1,1)\n",
    "ZAdv_SON_15 = np.mean(ZAdv_SON_15, axis = (1,2)).reshape(-1,1)\n",
    "ZAdv_SON_16 = np.mean(ZAdv_SON_16, axis = (1,2)).reshape(-1,1)\n",
    "ZAdv_SON_17 = np.mean(ZAdv_SON_17, axis = (1,2)).reshape(-1,1)\n",
    "ZAdv_SON_18 = np.mean(ZAdv_SON_18, axis = (1,2)).reshape(-1,1)\n",
    "ZAdv_SON_19 = np.mean(ZAdv_SON_19, axis = (1,2)).reshape(-1,1)"
   ]
  },
  {
   "cell_type": "code",
   "execution_count": 83,
   "id": "c034a857",
   "metadata": {},
   "outputs": [],
   "source": [
    "ZAdv_SON_93 = np.mean(ZAdv_SON_93).reshape(-1,1)\n",
    "ZAdv_SON_94 = np.mean(ZAdv_SON_94).reshape(-1,1)\n",
    "ZAdv_SON_95 = np.mean(ZAdv_SON_95).reshape(-1,1)\n",
    "ZAdv_SON_96 = np.mean(ZAdv_SON_96).reshape(-1,1)\n",
    "ZAdv_SON_97 = np.mean(ZAdv_SON_97).reshape(-1,1)\n",
    "ZAdv_SON_98 = np.mean(ZAdv_SON_98).reshape(-1,1)\n",
    "ZAdv_SON_99 = np.mean(ZAdv_SON_99).reshape(-1,1)\n",
    "ZAdv_SON_00 = np.mean(ZAdv_SON_00).reshape(-1,1)\n",
    "ZAdv_SON_01 = np.mean(ZAdv_SON_01).reshape(-1,1)\n",
    "ZAdv_SON_02 = np.mean(ZAdv_SON_02).reshape(-1,1)\n",
    "ZAdv_SON_03 = np.mean(ZAdv_SON_03).reshape(-1,1)\n",
    "ZAdv_SON_04 = np.mean(ZAdv_SON_04).reshape(-1,1)\n",
    "ZAdv_SON_05 = np.mean(ZAdv_SON_05).reshape(-1,1)\n",
    "ZAdv_SON_06 = np.mean(ZAdv_SON_06).reshape(-1,1)\n",
    "ZAdv_SON_07 = np.mean(ZAdv_SON_07).reshape(-1,1)\n",
    "ZAdv_SON_08 = np.mean(ZAdv_SON_08).reshape(-1,1)\n",
    "ZAdv_SON_09 = np.mean(ZAdv_SON_09).reshape(-1,1)\n",
    "ZAdv_SON_10 = np.mean(ZAdv_SON_10).reshape(-1,1)\n",
    "ZAdv_SON_11 = np.mean(ZAdv_SON_11).reshape(-1,1)\n",
    "ZAdv_SON_12 = np.mean(ZAdv_SON_12).reshape(-1,1)\n",
    "ZAdv_SON_13 = np.mean(ZAdv_SON_13).reshape(-1,1)\n",
    "ZAdv_SON_14 = np.mean(ZAdv_SON_14).reshape(-1,1)\n",
    "ZAdv_SON_15 = np.mean(ZAdv_SON_15).reshape(-1,1)\n",
    "ZAdv_SON_16 = np.mean(ZAdv_SON_16).reshape(-1,1)\n",
    "ZAdv_SON_17 = np.mean(ZAdv_SON_17).reshape(-1,1)\n",
    "ZAdv_SON_18 = np.mean(ZAdv_SON_18).reshape(-1,1)\n",
    "ZAdv_SON_19 = np.mean(ZAdv_SON_19).reshape(-1,1)"
   ]
  },
  {
   "cell_type": "code",
   "execution_count": 84,
   "id": "3db0734a",
   "metadata": {},
   "outputs": [],
   "source": [
    "MAdv_SON_93 = np.mean(MAdv_SON_93, axis = (1,2)).reshape(-1,1)\n",
    "MAdv_SON_94 = np.mean(MAdv_SON_94, axis = (1,2)).reshape(-1,1)\n",
    "MAdv_SON_95 = np.mean(MAdv_SON_95, axis = (1,2)).reshape(-1,1)\n",
    "MAdv_SON_96 = np.mean(MAdv_SON_96, axis = (1,2)).reshape(-1,1)\n",
    "MAdv_SON_97 = np.mean(MAdv_SON_97, axis = (1,2)).reshape(-1,1)\n",
    "MAdv_SON_98 = np.mean(MAdv_SON_98, axis = (1,2)).reshape(-1,1)\n",
    "MAdv_SON_99 = np.mean(MAdv_SON_99, axis = (1,2)).reshape(-1,1)\n",
    "MAdv_SON_00 = np.mean(MAdv_SON_00, axis = (1,2)).reshape(-1,1)\n",
    "MAdv_SON_01 = np.mean(MAdv_SON_01, axis = (1,2)).reshape(-1,1)\n",
    "MAdv_SON_02 = np.mean(MAdv_SON_02, axis = (1,2)).reshape(-1,1)\n",
    "MAdv_SON_03 = np.mean(MAdv_SON_03, axis = (1,2)).reshape(-1,1)\n",
    "MAdv_SON_04 = np.mean(MAdv_SON_04, axis = (1,2)).reshape(-1,1)\n",
    "MAdv_SON_05 = np.mean(MAdv_SON_05, axis = (1,2)).reshape(-1,1)\n",
    "MAdv_SON_06 = np.mean(MAdv_SON_06, axis = (1,2)).reshape(-1,1)\n",
    "MAdv_SON_07 = np.mean(MAdv_SON_07, axis = (1,2)).reshape(-1,1)\n",
    "MAdv_SON_08 = np.mean(MAdv_SON_08, axis = (1,2)).reshape(-1,1)\n",
    "MAdv_SON_09 = np.mean(MAdv_SON_09, axis = (1,2)).reshape(-1,1)\n",
    "MAdv_SON_10 = np.mean(MAdv_SON_10, axis = (1,2)).reshape(-1,1)\n",
    "MAdv_SON_11 = np.mean(MAdv_SON_11, axis = (1,2)).reshape(-1,1)\n",
    "MAdv_SON_12 = np.mean(MAdv_SON_12, axis = (1,2)).reshape(-1,1)\n",
    "MAdv_SON_13 = np.mean(MAdv_SON_13, axis = (1,2)).reshape(-1,1)\n",
    "MAdv_SON_14 = np.mean(MAdv_SON_14, axis = (1,2)).reshape(-1,1)\n",
    "MAdv_SON_15 = np.mean(MAdv_SON_15, axis = (1,2)).reshape(-1,1)\n",
    "MAdv_SON_16 = np.mean(MAdv_SON_16, axis = (1,2)).reshape(-1,1)\n",
    "MAdv_SON_17 = np.mean(MAdv_SON_17, axis = (1,2)).reshape(-1,1)\n",
    "MAdv_SON_18 = np.mean(MAdv_SON_18, axis = (1,2)).reshape(-1,1)\n",
    "MAdv_SON_19 = np.mean(MAdv_SON_19, axis = (1,2)).reshape(-1,1)"
   ]
  },
  {
   "cell_type": "code",
   "execution_count": 85,
   "id": "0de9a660",
   "metadata": {},
   "outputs": [],
   "source": [
    "MAdv_SON_93 = np.mean(MAdv_SON_93).reshape(-1,1)\n",
    "MAdv_SON_94 = np.mean(MAdv_SON_94).reshape(-1,1)\n",
    "MAdv_SON_95 = np.mean(MAdv_SON_95).reshape(-1,1)\n",
    "MAdv_SON_96 = np.mean(MAdv_SON_96).reshape(-1,1)\n",
    "MAdv_SON_97 = np.mean(MAdv_SON_97).reshape(-1,1)\n",
    "MAdv_SON_98 = np.mean(MAdv_SON_98).reshape(-1,1)\n",
    "MAdv_SON_99 = np.mean(MAdv_SON_99).reshape(-1,1)\n",
    "MAdv_SON_00 = np.mean(MAdv_SON_00).reshape(-1,1)\n",
    "MAdv_SON_01 = np.mean(MAdv_SON_01).reshape(-1,1)\n",
    "MAdv_SON_02 = np.mean(MAdv_SON_02).reshape(-1,1)\n",
    "MAdv_SON_03 = np.mean(MAdv_SON_03).reshape(-1,1)\n",
    "MAdv_SON_04 = np.mean(MAdv_SON_04).reshape(-1,1)\n",
    "MAdv_SON_05 = np.mean(MAdv_SON_05).reshape(-1,1)\n",
    "MAdv_SON_06 = np.mean(MAdv_SON_06).reshape(-1,1)\n",
    "MAdv_SON_07 = np.mean(MAdv_SON_07).reshape(-1,1)\n",
    "MAdv_SON_08 = np.mean(MAdv_SON_08).reshape(-1,1)\n",
    "MAdv_SON_09 = np.mean(MAdv_SON_09).reshape(-1,1)\n",
    "MAdv_SON_10 = np.mean(MAdv_SON_10).reshape(-1,1)\n",
    "MAdv_SON_11 = np.mean(MAdv_SON_11).reshape(-1,1)\n",
    "MAdv_SON_12 = np.mean(MAdv_SON_12).reshape(-1,1)\n",
    "MAdv_SON_13 = np.mean(MAdv_SON_13).reshape(-1,1)\n",
    "MAdv_SON_14 = np.mean(MAdv_SON_14).reshape(-1,1)\n",
    "MAdv_SON_15 = np.mean(MAdv_SON_15).reshape(-1,1)\n",
    "MAdv_SON_16 = np.mean(MAdv_SON_16).reshape(-1,1)\n",
    "MAdv_SON_17 = np.mean(MAdv_SON_17).reshape(-1,1)\n",
    "MAdv_SON_18 = np.mean(MAdv_SON_18).reshape(-1,1)\n",
    "MAdv_SON_19 = np.mean(MAdv_SON_19).reshape(-1,1)"
   ]
  },
  {
   "cell_type": "code",
   "execution_count": 86,
   "id": "ddb098e9",
   "metadata": {},
   "outputs": [],
   "source": [
    "VAdv_SON_93 = np.mean(VAdv_SON_93, axis = (1,2)).reshape(-1,1)\n",
    "VAdv_SON_94 = np.mean(VAdv_SON_94, axis = (1,2)).reshape(-1,1)\n",
    "VAdv_SON_95 = np.mean(VAdv_SON_95, axis = (1,2)).reshape(-1,1)\n",
    "VAdv_SON_96 = np.mean(VAdv_SON_96, axis = (1,2)).reshape(-1,1)\n",
    "VAdv_SON_97 = np.mean(VAdv_SON_97, axis = (1,2)).reshape(-1,1)\n",
    "VAdv_SON_98 = np.mean(VAdv_SON_98, axis = (1,2)).reshape(-1,1)\n",
    "VAdv_SON_99 = np.mean(VAdv_SON_99, axis = (1,2)).reshape(-1,1)\n",
    "VAdv_SON_00 = np.mean(VAdv_SON_00, axis = (1,2)).reshape(-1,1)\n",
    "VAdv_SON_01 = np.mean(VAdv_SON_01, axis = (1,2)).reshape(-1,1)\n",
    "VAdv_SON_02 = np.mean(VAdv_SON_02, axis = (1,2)).reshape(-1,1)\n",
    "VAdv_SON_03 = np.mean(VAdv_SON_03, axis = (1,2)).reshape(-1,1)\n",
    "VAdv_SON_04 = np.mean(VAdv_SON_04, axis = (1,2)).reshape(-1,1)\n",
    "VAdv_SON_05 = np.mean(VAdv_SON_05, axis = (1,2)).reshape(-1,1)\n",
    "VAdv_SON_06 = np.mean(VAdv_SON_06, axis = (1,2)).reshape(-1,1)\n",
    "VAdv_SON_07 = np.mean(VAdv_SON_07, axis = (1,2)).reshape(-1,1)\n",
    "VAdv_SON_08 = np.mean(VAdv_SON_08, axis = (1,2)).reshape(-1,1)\n",
    "VAdv_SON_09 = np.mean(VAdv_SON_09, axis = (1,2)).reshape(-1,1)\n",
    "VAdv_SON_10 = np.mean(VAdv_SON_10, axis = (1,2)).reshape(-1,1)\n",
    "VAdv_SON_11 = np.mean(VAdv_SON_11, axis = (1,2)).reshape(-1,1)\n",
    "VAdv_SON_12 = np.mean(VAdv_SON_12, axis = (1,2)).reshape(-1,1)\n",
    "VAdv_SON_13 = np.mean(VAdv_SON_13, axis = (1,2)).reshape(-1,1)\n",
    "VAdv_SON_14 = np.mean(VAdv_SON_14, axis = (1,2)).reshape(-1,1)\n",
    "VAdv_SON_15 = np.mean(VAdv_SON_15, axis = (1,2)).reshape(-1,1)\n",
    "VAdv_SON_16 = np.mean(VAdv_SON_16, axis = (1,2)).reshape(-1,1)\n",
    "VAdv_SON_17 = np.mean(VAdv_SON_17, axis = (1,2)).reshape(-1,1)\n",
    "VAdv_SON_18 = np.mean(VAdv_SON_18, axis = (1,2)).reshape(-1,1)\n",
    "VAdv_SON_19 = np.mean(VAdv_SON_19, axis = (1,2)).reshape(-1,1)"
   ]
  },
  {
   "cell_type": "code",
   "execution_count": 89,
   "id": "fc00293e",
   "metadata": {},
   "outputs": [],
   "source": [
    "VAdv_SON_93 = np.mean(VAdv_SON_93).reshape(-1,1)\n",
    "VAdv_SON_94 = np.mean(VAdv_SON_94).reshape(-1,1)\n",
    "VAdv_SON_95 = np.mean(VAdv_SON_95).reshape(-1,1)\n",
    "VAdv_SON_96 = np.mean(VAdv_SON_96).reshape(-1,1)\n",
    "VAdv_SON_97 = np.mean(VAdv_SON_97).reshape(-1,1)\n",
    "VAdv_SON_98 = np.mean(VAdv_SON_98).reshape(-1,1)\n",
    "VAdv_SON_99 = np.mean(VAdv_SON_99).reshape(-1,1)\n",
    "VAdv_SON_00 = np.mean(VAdv_SON_00).reshape(-1,1)\n",
    "VAdv_SON_01 = np.mean(VAdv_SON_01).reshape(-1,1)\n",
    "VAdv_SON_02 = np.mean(VAdv_SON_02).reshape(-1,1)\n",
    "VAdv_SON_03 = np.mean(VAdv_SON_03).reshape(-1,1)\n",
    "VAdv_SON_04 = np.mean(VAdv_SON_04).reshape(-1,1)\n",
    "VAdv_SON_05 = np.mean(VAdv_SON_05).reshape(-1,1)\n",
    "VAdv_SON_06 = np.mean(VAdv_SON_06).reshape(-1,1)\n",
    "VAdv_SON_07 = np.mean(VAdv_SON_07).reshape(-1,1)\n",
    "VAdv_SON_08 = np.mean(VAdv_SON_08).reshape(-1,1)\n",
    "VAdv_SON_09 = np.mean(VAdv_SON_09).reshape(-1,1)\n",
    "VAdv_SON_10 = np.mean(VAdv_SON_10).reshape(-1,1)\n",
    "VAdv_SON_11 = np.mean(VAdv_SON_11).reshape(-1,1)\n",
    "VAdv_SON_12 = np.mean(VAdv_SON_12).reshape(-1,1)\n",
    "VAdv_SON_13 = np.mean(VAdv_SON_13).reshape(-1,1)\n",
    "VAdv_SON_14 = np.mean(VAdv_SON_14).reshape(-1,1)\n",
    "VAdv_SON_15 = np.mean(VAdv_SON_15).reshape(-1,1)\n",
    "VAdv_SON_16 = np.mean(VAdv_SON_16).reshape(-1,1)\n",
    "VAdv_SON_17 = np.mean(VAdv_SON_17).reshape(-1,1)\n",
    "VAdv_SON_18 = np.mean(VAdv_SON_18).reshape(-1,1)\n",
    "VAdv_SON_19 = np.mean(VAdv_SON_19).reshape(-1,1)"
   ]
  },
  {
   "cell_type": "code",
   "execution_count": 91,
   "id": "b889c4b2",
   "metadata": {
    "collapsed": true
   },
   "outputs": [
    {
     "ename": "AxisError",
     "evalue": "axis 2 is out of bounds for array of dimension 2",
     "output_type": "error",
     "traceback": [
      "\u001b[1;31m---------------------------------------------------------------------------\u001b[0m",
      "\u001b[1;31mAxisError\u001b[0m                                 Traceback (most recent call last)",
      "\u001b[1;32m~\\AppData\\Local\\Temp/ipykernel_412/665342780.py\u001b[0m in \u001b[0;36m<module>\u001b[1;34m\u001b[0m\n\u001b[1;32m----> 1\u001b[1;33m \u001b[0mR_origin_SON_93\u001b[0m \u001b[1;33m=\u001b[0m \u001b[0mnp\u001b[0m\u001b[1;33m.\u001b[0m\u001b[0mmean\u001b[0m\u001b[1;33m(\u001b[0m\u001b[0mR_origin_SON_93\u001b[0m\u001b[1;33m,\u001b[0m \u001b[0maxis\u001b[0m \u001b[1;33m=\u001b[0m \u001b[1;33m(\u001b[0m\u001b[1;36m1\u001b[0m\u001b[1;33m,\u001b[0m\u001b[1;36m2\u001b[0m\u001b[1;33m)\u001b[0m\u001b[1;33m)\u001b[0m\u001b[1;33m.\u001b[0m\u001b[0mreshape\u001b[0m\u001b[1;33m(\u001b[0m\u001b[1;33m-\u001b[0m\u001b[1;36m1\u001b[0m\u001b[1;33m,\u001b[0m\u001b[1;36m1\u001b[0m\u001b[1;33m)\u001b[0m\u001b[1;33m\u001b[0m\u001b[1;33m\u001b[0m\u001b[0m\n\u001b[0m\u001b[0;32m      2\u001b[0m \u001b[0mR_origin_SON_94\u001b[0m \u001b[1;33m=\u001b[0m \u001b[0mnp\u001b[0m\u001b[1;33m.\u001b[0m\u001b[0mmean\u001b[0m\u001b[1;33m(\u001b[0m\u001b[0mR_origin_SON_94\u001b[0m\u001b[1;33m,\u001b[0m \u001b[0maxis\u001b[0m \u001b[1;33m=\u001b[0m \u001b[1;33m(\u001b[0m\u001b[1;36m1\u001b[0m\u001b[1;33m,\u001b[0m\u001b[1;36m2\u001b[0m\u001b[1;33m)\u001b[0m\u001b[1;33m)\u001b[0m\u001b[1;33m.\u001b[0m\u001b[0mreshape\u001b[0m\u001b[1;33m(\u001b[0m\u001b[1;33m-\u001b[0m\u001b[1;36m1\u001b[0m\u001b[1;33m,\u001b[0m\u001b[1;36m1\u001b[0m\u001b[1;33m)\u001b[0m\u001b[1;33m\u001b[0m\u001b[1;33m\u001b[0m\u001b[0m\n\u001b[0;32m      3\u001b[0m \u001b[0mR_origin_SON_95\u001b[0m \u001b[1;33m=\u001b[0m \u001b[0mnp\u001b[0m\u001b[1;33m.\u001b[0m\u001b[0mmean\u001b[0m\u001b[1;33m(\u001b[0m\u001b[0mR_origin_SON_95\u001b[0m\u001b[1;33m,\u001b[0m \u001b[0maxis\u001b[0m \u001b[1;33m=\u001b[0m \u001b[1;33m(\u001b[0m\u001b[1;36m1\u001b[0m\u001b[1;33m,\u001b[0m\u001b[1;36m2\u001b[0m\u001b[1;33m)\u001b[0m\u001b[1;33m)\u001b[0m\u001b[1;33m.\u001b[0m\u001b[0mreshape\u001b[0m\u001b[1;33m(\u001b[0m\u001b[1;33m-\u001b[0m\u001b[1;36m1\u001b[0m\u001b[1;33m,\u001b[0m\u001b[1;36m1\u001b[0m\u001b[1;33m)\u001b[0m\u001b[1;33m\u001b[0m\u001b[1;33m\u001b[0m\u001b[0m\n\u001b[0;32m      4\u001b[0m \u001b[0mR_origin_SON_96\u001b[0m \u001b[1;33m=\u001b[0m \u001b[0mnp\u001b[0m\u001b[1;33m.\u001b[0m\u001b[0mmean\u001b[0m\u001b[1;33m(\u001b[0m\u001b[0mR_origin_SON_96\u001b[0m\u001b[1;33m,\u001b[0m \u001b[0maxis\u001b[0m \u001b[1;33m=\u001b[0m \u001b[1;33m(\u001b[0m\u001b[1;36m1\u001b[0m\u001b[1;33m,\u001b[0m\u001b[1;36m2\u001b[0m\u001b[1;33m)\u001b[0m\u001b[1;33m)\u001b[0m\u001b[1;33m.\u001b[0m\u001b[0mreshape\u001b[0m\u001b[1;33m(\u001b[0m\u001b[1;33m-\u001b[0m\u001b[1;36m1\u001b[0m\u001b[1;33m,\u001b[0m\u001b[1;36m1\u001b[0m\u001b[1;33m)\u001b[0m\u001b[1;33m\u001b[0m\u001b[1;33m\u001b[0m\u001b[0m\n\u001b[0;32m      5\u001b[0m \u001b[0mR_origin_SON_97\u001b[0m \u001b[1;33m=\u001b[0m \u001b[0mnp\u001b[0m\u001b[1;33m.\u001b[0m\u001b[0mmean\u001b[0m\u001b[1;33m(\u001b[0m\u001b[0mR_origin_SON_97\u001b[0m\u001b[1;33m,\u001b[0m \u001b[0maxis\u001b[0m \u001b[1;33m=\u001b[0m \u001b[1;33m(\u001b[0m\u001b[1;36m1\u001b[0m\u001b[1;33m,\u001b[0m\u001b[1;36m2\u001b[0m\u001b[1;33m)\u001b[0m\u001b[1;33m)\u001b[0m\u001b[1;33m.\u001b[0m\u001b[0mreshape\u001b[0m\u001b[1;33m(\u001b[0m\u001b[1;33m-\u001b[0m\u001b[1;36m1\u001b[0m\u001b[1;33m,\u001b[0m\u001b[1;36m1\u001b[0m\u001b[1;33m)\u001b[0m\u001b[1;33m\u001b[0m\u001b[1;33m\u001b[0m\u001b[0m\n",
      "\u001b[1;32m~\\Anaconda3\\envs\\pytorch\\lib\\site-packages\\numpy\\core\\overrides.py\u001b[0m in \u001b[0;36mmean\u001b[1;34m(*args, **kwargs)\u001b[0m\n",
      "\u001b[1;32m~\\Anaconda3\\envs\\pytorch\\lib\\site-packages\\numpy\\core\\fromnumeric.py\u001b[0m in \u001b[0;36mmean\u001b[1;34m(a, axis, dtype, out, keepdims, where)\u001b[0m\n\u001b[0;32m   3472\u001b[0m             \u001b[1;32mreturn\u001b[0m \u001b[0mmean\u001b[0m\u001b[1;33m(\u001b[0m\u001b[0maxis\u001b[0m\u001b[1;33m=\u001b[0m\u001b[0maxis\u001b[0m\u001b[1;33m,\u001b[0m \u001b[0mdtype\u001b[0m\u001b[1;33m=\u001b[0m\u001b[0mdtype\u001b[0m\u001b[1;33m,\u001b[0m \u001b[0mout\u001b[0m\u001b[1;33m=\u001b[0m\u001b[0mout\u001b[0m\u001b[1;33m,\u001b[0m \u001b[1;33m**\u001b[0m\u001b[0mkwargs\u001b[0m\u001b[1;33m)\u001b[0m\u001b[1;33m\u001b[0m\u001b[1;33m\u001b[0m\u001b[0m\n\u001b[0;32m   3473\u001b[0m \u001b[1;33m\u001b[0m\u001b[0m\n\u001b[1;32m-> 3474\u001b[1;33m     return _methods._mean(a, axis=axis, dtype=dtype,\n\u001b[0m\u001b[0;32m   3475\u001b[0m                           out=out, **kwargs)\n\u001b[0;32m   3476\u001b[0m \u001b[1;33m\u001b[0m\u001b[0m\n",
      "\u001b[1;32m~\\Anaconda3\\envs\\pytorch\\lib\\site-packages\\numpy\\core\\_methods.py\u001b[0m in \u001b[0;36m_mean\u001b[1;34m(a, axis, dtype, out, keepdims, where)\u001b[0m\n\u001b[0;32m    165\u001b[0m     \u001b[0mis_float16_result\u001b[0m \u001b[1;33m=\u001b[0m \u001b[1;32mFalse\u001b[0m\u001b[1;33m\u001b[0m\u001b[1;33m\u001b[0m\u001b[0m\n\u001b[0;32m    166\u001b[0m \u001b[1;33m\u001b[0m\u001b[0m\n\u001b[1;32m--> 167\u001b[1;33m     \u001b[0mrcount\u001b[0m \u001b[1;33m=\u001b[0m \u001b[0m_count_reduce_items\u001b[0m\u001b[1;33m(\u001b[0m\u001b[0marr\u001b[0m\u001b[1;33m,\u001b[0m \u001b[0maxis\u001b[0m\u001b[1;33m,\u001b[0m \u001b[0mkeepdims\u001b[0m\u001b[1;33m=\u001b[0m\u001b[0mkeepdims\u001b[0m\u001b[1;33m,\u001b[0m \u001b[0mwhere\u001b[0m\u001b[1;33m=\u001b[0m\u001b[0mwhere\u001b[0m\u001b[1;33m)\u001b[0m\u001b[1;33m\u001b[0m\u001b[1;33m\u001b[0m\u001b[0m\n\u001b[0m\u001b[0;32m    168\u001b[0m     \u001b[1;32mif\u001b[0m \u001b[0mrcount\u001b[0m \u001b[1;33m==\u001b[0m \u001b[1;36m0\u001b[0m \u001b[1;32mif\u001b[0m \u001b[0mwhere\u001b[0m \u001b[1;32mis\u001b[0m \u001b[1;32mTrue\u001b[0m \u001b[1;32melse\u001b[0m \u001b[0mumr_any\u001b[0m\u001b[1;33m(\u001b[0m\u001b[0mrcount\u001b[0m \u001b[1;33m==\u001b[0m \u001b[1;36m0\u001b[0m\u001b[1;33m,\u001b[0m \u001b[0maxis\u001b[0m\u001b[1;33m=\u001b[0m\u001b[1;32mNone\u001b[0m\u001b[1;33m)\u001b[0m\u001b[1;33m:\u001b[0m\u001b[1;33m\u001b[0m\u001b[1;33m\u001b[0m\u001b[0m\n\u001b[0;32m    169\u001b[0m         \u001b[0mwarnings\u001b[0m\u001b[1;33m.\u001b[0m\u001b[0mwarn\u001b[0m\u001b[1;33m(\u001b[0m\u001b[1;34m\"Mean of empty slice.\"\u001b[0m\u001b[1;33m,\u001b[0m \u001b[0mRuntimeWarning\u001b[0m\u001b[1;33m,\u001b[0m \u001b[0mstacklevel\u001b[0m\u001b[1;33m=\u001b[0m\u001b[1;36m2\u001b[0m\u001b[1;33m)\u001b[0m\u001b[1;33m\u001b[0m\u001b[1;33m\u001b[0m\u001b[0m\n",
      "\u001b[1;32m~\\Anaconda3\\envs\\pytorch\\lib\\site-packages\\numpy\\core\\_methods.py\u001b[0m in \u001b[0;36m_count_reduce_items\u001b[1;34m(arr, axis, keepdims, where)\u001b[0m\n\u001b[0;32m     74\u001b[0m         \u001b[0mitems\u001b[0m \u001b[1;33m=\u001b[0m \u001b[0mnt\u001b[0m\u001b[1;33m.\u001b[0m\u001b[0mintp\u001b[0m\u001b[1;33m(\u001b[0m\u001b[1;36m1\u001b[0m\u001b[1;33m)\u001b[0m\u001b[1;33m\u001b[0m\u001b[1;33m\u001b[0m\u001b[0m\n\u001b[0;32m     75\u001b[0m         \u001b[1;32mfor\u001b[0m \u001b[0max\u001b[0m \u001b[1;32min\u001b[0m \u001b[0maxis\u001b[0m\u001b[1;33m:\u001b[0m\u001b[1;33m\u001b[0m\u001b[1;33m\u001b[0m\u001b[0m\n\u001b[1;32m---> 76\u001b[1;33m             \u001b[0mitems\u001b[0m \u001b[1;33m*=\u001b[0m \u001b[0marr\u001b[0m\u001b[1;33m.\u001b[0m\u001b[0mshape\u001b[0m\u001b[1;33m[\u001b[0m\u001b[0mmu\u001b[0m\u001b[1;33m.\u001b[0m\u001b[0mnormalize_axis_index\u001b[0m\u001b[1;33m(\u001b[0m\u001b[0max\u001b[0m\u001b[1;33m,\u001b[0m \u001b[0marr\u001b[0m\u001b[1;33m.\u001b[0m\u001b[0mndim\u001b[0m\u001b[1;33m)\u001b[0m\u001b[1;33m]\u001b[0m\u001b[1;33m\u001b[0m\u001b[1;33m\u001b[0m\u001b[0m\n\u001b[0m\u001b[0;32m     77\u001b[0m     \u001b[1;32melse\u001b[0m\u001b[1;33m:\u001b[0m\u001b[1;33m\u001b[0m\u001b[1;33m\u001b[0m\u001b[0m\n\u001b[0;32m     78\u001b[0m         \u001b[1;31m# TODO: Optimize case when `where` is broadcast along a non-reduction\u001b[0m\u001b[1;33m\u001b[0m\u001b[1;33m\u001b[0m\u001b[1;33m\u001b[0m\u001b[0m\n",
      "\u001b[1;31mAxisError\u001b[0m: axis 2 is out of bounds for array of dimension 2"
     ]
    }
   ],
   "source": [
    "R_origin_SON_93 = np.mean(R_origin_SON_93, axis = (1,2)).reshape(-1,1)\n",
    "R_origin_SON_94 = np.mean(R_origin_SON_94, axis = (1,2)).reshape(-1,1)\n",
    "R_origin_SON_95 = np.mean(R_origin_SON_95, axis = (1,2)).reshape(-1,1)\n",
    "R_origin_SON_96 = np.mean(R_origin_SON_96, axis = (1,2)).reshape(-1,1)\n",
    "R_origin_SON_97 = np.mean(R_origin_SON_97, axis = (1,2)).reshape(-1,1)\n",
    "R_origin_SON_98 = np.mean(R_origin_SON_98, axis = (1,2)).reshape(-1,1)\n",
    "R_origin_SON_99 = np.mean(R_origin_SON_99, axis = (1,2)).reshape(-1,1)\n",
    "R_origin_SON_00 = np.mean(R_origin_SON_00, axis = (1,2)).reshape(-1,1)\n",
    "R_origin_SON_01 = np.mean(R_origin_SON_01, axis = (1,2)).reshape(-1,1)\n",
    "R_origin_SON_02 = np.mean(R_origin_SON_02, axis = (1,2)).reshape(-1,1)\n",
    "R_origin_SON_03 = np.mean(R_origin_SON_03, axis = (1,2)).reshape(-1,1)\n",
    "R_origin_SON_04 = np.mean(R_origin_SON_04, axis = (1,2)).reshape(-1,1)\n",
    "R_origin_SON_05 = np.mean(R_origin_SON_05, axis = (1,2)).reshape(-1,1)\n",
    "R_origin_SON_06 = np.mean(R_origin_SON_06, axis = (1,2)).reshape(-1,1)\n",
    "R_origin_SON_07 = np.mean(R_origin_SON_07, axis = (1,2)).reshape(-1,1)\n",
    "R_origin_SON_08 = np.mean(R_origin_SON_08, axis = (1,2)).reshape(-1,1)\n",
    "R_origin_SON_09 = np.mean(R_origin_SON_09, axis = (1,2)).reshape(-1,1)\n",
    "R_origin_SON_10 = np.mean(R_origin_SON_10, axis = (1,2)).reshape(-1,1)\n",
    "R_origin_SON_11 = np.mean(R_origin_SON_11, axis = (1,2)).reshape(-1,1)\n",
    "R_origin_SON_12 = np.mean(R_origin_SON_12, axis = (1,2)).reshape(-1,1)\n",
    "R_origin_SON_13 = np.mean(R_origin_SON_13, axis = (1,2)).reshape(-1,1)\n",
    "R_origin_SON_14 = np.mean(R_origin_SON_14, axis = (1,2)).reshape(-1,1)\n",
    "R_origin_SON_15 = np.mean(R_origin_SON_15, axis = (1,2)).reshape(-1,1)\n",
    "R_origin_SON_16 = np.mean(R_origin_SON_16, axis = (1,2)).reshape(-1,1)\n",
    "R_origin_SON_17 = np.mean(R_origin_SON_17, axis = (1,2)).reshape(-1,1)\n",
    "R_origin_SON_18 = np.mean(R_origin_SON_18, axis = (1,2)).reshape(-1,1)\n",
    "R_origin_SON_19 = np.mean(R_origin_SON_19, axis = (1,2)).reshape(-1,1)"
   ]
  },
  {
   "cell_type": "code",
   "execution_count": 93,
   "id": "68480b1a",
   "metadata": {},
   "outputs": [],
   "source": [
    "R_origin_SON_93 = np.mean(R_origin_SON_93).reshape(-1,1)\n",
    "R_origin_SON_94 = np.mean(R_origin_SON_94).reshape(-1,1)\n",
    "R_origin_SON_95 = np.mean(R_origin_SON_95).reshape(-1,1)\n",
    "R_origin_SON_96 = np.mean(R_origin_SON_96).reshape(-1,1)\n",
    "R_origin_SON_97 = np.mean(R_origin_SON_97).reshape(-1,1)\n",
    "R_origin_SON_98 = np.mean(R_origin_SON_98).reshape(-1,1)\n",
    "R_origin_SON_99 = np.mean(R_origin_SON_99).reshape(-1,1)\n",
    "R_origin_SON_00 = np.mean(R_origin_SON_00).reshape(-1,1)\n",
    "R_origin_SON_01 = np.mean(R_origin_SON_01).reshape(-1,1)\n",
    "R_origin_SON_02 = np.mean(R_origin_SON_02).reshape(-1,1)\n",
    "R_origin_SON_03 = np.mean(R_origin_SON_03).reshape(-1,1)\n",
    "R_origin_SON_04 = np.mean(R_origin_SON_04).reshape(-1,1)\n",
    "R_origin_SON_05 = np.mean(R_origin_SON_05).reshape(-1,1)\n",
    "R_origin_SON_06 = np.mean(R_origin_SON_06).reshape(-1,1)\n",
    "R_origin_SON_07 = np.mean(R_origin_SON_07).reshape(-1,1)\n",
    "R_origin_SON_08 = np.mean(R_origin_SON_08).reshape(-1,1)\n",
    "R_origin_SON_09 = np.mean(R_origin_SON_09).reshape(-1,1)\n",
    "R_origin_SON_10 = np.mean(R_origin_SON_10).reshape(-1,1)\n",
    "R_origin_SON_11 = np.mean(R_origin_SON_11).reshape(-1,1)\n",
    "R_origin_SON_12 = np.mean(R_origin_SON_12).reshape(-1,1)\n",
    "R_origin_SON_13 = np.mean(R_origin_SON_13).reshape(-1,1)\n",
    "R_origin_SON_14 = np.mean(R_origin_SON_14).reshape(-1,1)\n",
    "R_origin_SON_15 = np.mean(R_origin_SON_15).reshape(-1,1)\n",
    "R_origin_SON_16 = np.mean(R_origin_SON_16).reshape(-1,1)\n",
    "R_origin_SON_17 = np.mean(R_origin_SON_17).reshape(-1,1)\n",
    "R_origin_SON_18 = np.mean(R_origin_SON_18).reshape(-1,1)\n",
    "R_origin_SON_19 = np.mean(R_origin_SON_19).reshape(-1,1)"
   ]
  },
  {
   "cell_type": "code",
   "execution_count": 94,
   "id": "3b805240",
   "metadata": {},
   "outputs": [],
   "source": [
    "dT_dt_SON_93 = np.mean(dT_dt_SON_93, axis = (1,2)).reshape(-1,1)\n",
    "dT_dt_SON_94 = np.mean(dT_dt_SON_94, axis = (1,2)).reshape(-1,1)\n",
    "dT_dt_SON_95 = np.mean(dT_dt_SON_95, axis = (1,2)).reshape(-1,1)\n",
    "dT_dt_SON_96 = np.mean(dT_dt_SON_96, axis = (1,2)).reshape(-1,1)\n",
    "dT_dt_SON_97 = np.mean(dT_dt_SON_97, axis = (1,2)).reshape(-1,1)\n",
    "dT_dt_SON_98 = np.mean(dT_dt_SON_98, axis = (1,2)).reshape(-1,1)\n",
    "dT_dt_SON_99 = np.mean(dT_dt_SON_99, axis = (1,2)).reshape(-1,1)\n",
    "dT_dt_SON_00 = np.mean(dT_dt_SON_00, axis = (1,2)).reshape(-1,1)\n",
    "dT_dt_SON_01 = np.mean(dT_dt_SON_01, axis = (1,2)).reshape(-1,1)\n",
    "dT_dt_SON_02 = np.mean(dT_dt_SON_02, axis = (1,2)).reshape(-1,1)\n",
    "dT_dt_SON_03 = np.mean(dT_dt_SON_03, axis = (1,2)).reshape(-1,1)\n",
    "dT_dt_SON_04 = np.mean(dT_dt_SON_04, axis = (1,2)).reshape(-1,1)\n",
    "dT_dt_SON_05 = np.mean(dT_dt_SON_05, axis = (1,2)).reshape(-1,1)\n",
    "dT_dt_SON_06 = np.mean(dT_dt_SON_06, axis = (1,2)).reshape(-1,1)\n",
    "dT_dt_SON_07 = np.mean(dT_dt_SON_07, axis = (1,2)).reshape(-1,1)\n",
    "dT_dt_SON_08 = np.mean(dT_dt_SON_08, axis = (1,2)).reshape(-1,1)\n",
    "dT_dt_SON_09 = np.mean(dT_dt_SON_09, axis = (1,2)).reshape(-1,1)\n",
    "dT_dt_SON_10 = np.mean(dT_dt_SON_10, axis = (1,2)).reshape(-1,1)\n",
    "dT_dt_SON_11 = np.mean(dT_dt_SON_11, axis = (1,2)).reshape(-1,1)\n",
    "dT_dt_SON_12 = np.mean(dT_dt_SON_12, axis = (1,2)).reshape(-1,1)\n",
    "dT_dt_SON_13 = np.mean(dT_dt_SON_13, axis = (1,2)).reshape(-1,1)\n",
    "dT_dt_SON_14 = np.mean(dT_dt_SON_14, axis = (1,2)).reshape(-1,1)\n",
    "dT_dt_SON_15 = np.mean(dT_dt_SON_15, axis = (1,2)).reshape(-1,1)\n",
    "dT_dt_SON_16 = np.mean(dT_dt_SON_16, axis = (1,2)).reshape(-1,1)\n",
    "dT_dt_SON_17 = np.mean(dT_dt_SON_17, axis = (1,2)).reshape(-1,1)\n",
    "dT_dt_SON_18 = np.mean(dT_dt_SON_18, axis = (1,2)).reshape(-1,1)\n",
    "dT_dt_SON_19 = np.mean(dT_dt_SON_19, axis = (1,2)).reshape(-1,1)"
   ]
  },
  {
   "cell_type": "code",
   "execution_count": 97,
   "id": "86e4eb04",
   "metadata": {},
   "outputs": [],
   "source": [
    "dT_dt_SON_93 = np.mean(dT_dt_SON_93).reshape(-1,1)\n",
    "dT_dt_SON_94 = np.mean(dT_dt_SON_94).reshape(-1,1)\n",
    "dT_dt_SON_95 = np.mean(dT_dt_SON_95).reshape(-1,1)\n",
    "dT_dt_SON_96 = np.mean(dT_dt_SON_96).reshape(-1,1)\n",
    "dT_dt_SON_97 = np.mean(dT_dt_SON_97).reshape(-1,1)\n",
    "dT_dt_SON_98 = np.mean(dT_dt_SON_98).reshape(-1,1)\n",
    "dT_dt_SON_99 = np.mean(dT_dt_SON_99).reshape(-1,1)\n",
    "dT_dt_SON_00 = np.mean(dT_dt_SON_00).reshape(-1,1)\n",
    "dT_dt_SON_01 = np.mean(dT_dt_SON_01).reshape(-1,1)\n",
    "dT_dt_SON_02 = np.mean(dT_dt_SON_02).reshape(-1,1)\n",
    "dT_dt_SON_03 = np.mean(dT_dt_SON_03).reshape(-1,1)\n",
    "dT_dt_SON_04 = np.mean(dT_dt_SON_04).reshape(-1,1)\n",
    "dT_dt_SON_05 = np.mean(dT_dt_SON_05).reshape(-1,1)\n",
    "dT_dt_SON_06 = np.mean(dT_dt_SON_06).reshape(-1,1)\n",
    "dT_dt_SON_07 = np.mean(dT_dt_SON_07).reshape(-1,1)\n",
    "dT_dt_SON_08 = np.mean(dT_dt_SON_08).reshape(-1,1)\n",
    "dT_dt_SON_09 = np.mean(dT_dt_SON_09).reshape(-1,1)\n",
    "dT_dt_SON_10 = np.mean(dT_dt_SON_10).reshape(-1,1)\n",
    "dT_dt_SON_11 = np.mean(dT_dt_SON_11).reshape(-1,1)\n",
    "dT_dt_SON_12 = np.mean(dT_dt_SON_12).reshape(-1,1)\n",
    "dT_dt_SON_13 = np.mean(dT_dt_SON_13).reshape(-1,1)\n",
    "dT_dt_SON_14 = np.mean(dT_dt_SON_14).reshape(-1,1)\n",
    "dT_dt_SON_15 = np.mean(dT_dt_SON_15).reshape(-1,1)\n",
    "dT_dt_SON_16 = np.mean(dT_dt_SON_16).reshape(-1,1)\n",
    "dT_dt_SON_17 = np.mean(dT_dt_SON_17).reshape(-1,1)\n",
    "dT_dt_SON_18 = np.mean(dT_dt_SON_18).reshape(-1,1)\n",
    "dT_dt_SON_19 = np.mean(dT_dt_SON_19).reshape(-1,1)"
   ]
  },
  {
   "cell_type": "code",
   "execution_count": 100,
   "id": "0a5763ba",
   "metadata": {
    "collapsed": true
   },
   "outputs": [
    {
     "ename": "AxisError",
     "evalue": "axis 2 is out of bounds for array of dimension 2",
     "output_type": "error",
     "traceback": [
      "\u001b[1;31m---------------------------------------------------------------------------\u001b[0m",
      "\u001b[1;31mAxisError\u001b[0m                                 Traceback (most recent call last)",
      "\u001b[1;32m~\\AppData\\Local\\Temp/ipykernel_412/2270653539.py\u001b[0m in \u001b[0;36m<module>\u001b[1;34m\u001b[0m\n\u001b[1;32m----> 1\u001b[1;33m \u001b[0mR_recur_SON_93\u001b[0m \u001b[1;33m=\u001b[0m \u001b[0mnp\u001b[0m\u001b[1;33m.\u001b[0m\u001b[0mmean\u001b[0m\u001b[1;33m(\u001b[0m\u001b[0mR_recur_SON_93\u001b[0m\u001b[1;33m,\u001b[0m \u001b[0maxis\u001b[0m \u001b[1;33m=\u001b[0m \u001b[1;33m(\u001b[0m\u001b[1;36m1\u001b[0m\u001b[1;33m,\u001b[0m\u001b[1;36m2\u001b[0m\u001b[1;33m)\u001b[0m\u001b[1;33m)\u001b[0m\u001b[1;33m.\u001b[0m\u001b[0mreshape\u001b[0m\u001b[1;33m(\u001b[0m\u001b[1;33m-\u001b[0m\u001b[1;36m1\u001b[0m\u001b[1;33m,\u001b[0m\u001b[1;36m1\u001b[0m\u001b[1;33m)\u001b[0m\u001b[1;33m\u001b[0m\u001b[1;33m\u001b[0m\u001b[0m\n\u001b[0m\u001b[0;32m      2\u001b[0m \u001b[0mR_recur_SON_94\u001b[0m \u001b[1;33m=\u001b[0m \u001b[0mnp\u001b[0m\u001b[1;33m.\u001b[0m\u001b[0mmean\u001b[0m\u001b[1;33m(\u001b[0m\u001b[0mR_recur_SON_94\u001b[0m\u001b[1;33m,\u001b[0m \u001b[0maxis\u001b[0m \u001b[1;33m=\u001b[0m \u001b[1;33m(\u001b[0m\u001b[1;36m1\u001b[0m\u001b[1;33m,\u001b[0m\u001b[1;36m2\u001b[0m\u001b[1;33m)\u001b[0m\u001b[1;33m)\u001b[0m\u001b[1;33m.\u001b[0m\u001b[0mreshape\u001b[0m\u001b[1;33m(\u001b[0m\u001b[1;33m-\u001b[0m\u001b[1;36m1\u001b[0m\u001b[1;33m,\u001b[0m\u001b[1;36m1\u001b[0m\u001b[1;33m)\u001b[0m\u001b[1;33m\u001b[0m\u001b[1;33m\u001b[0m\u001b[0m\n\u001b[0;32m      3\u001b[0m \u001b[0mR_recur_SON_95\u001b[0m \u001b[1;33m=\u001b[0m \u001b[0mnp\u001b[0m\u001b[1;33m.\u001b[0m\u001b[0mmean\u001b[0m\u001b[1;33m(\u001b[0m\u001b[0mR_recur_SON_95\u001b[0m\u001b[1;33m,\u001b[0m \u001b[0maxis\u001b[0m \u001b[1;33m=\u001b[0m \u001b[1;33m(\u001b[0m\u001b[1;36m1\u001b[0m\u001b[1;33m,\u001b[0m\u001b[1;36m2\u001b[0m\u001b[1;33m)\u001b[0m\u001b[1;33m)\u001b[0m\u001b[1;33m.\u001b[0m\u001b[0mreshape\u001b[0m\u001b[1;33m(\u001b[0m\u001b[1;33m-\u001b[0m\u001b[1;36m1\u001b[0m\u001b[1;33m,\u001b[0m\u001b[1;36m1\u001b[0m\u001b[1;33m)\u001b[0m\u001b[1;33m\u001b[0m\u001b[1;33m\u001b[0m\u001b[0m\n\u001b[0;32m      4\u001b[0m \u001b[0mR_recur_SON_96\u001b[0m \u001b[1;33m=\u001b[0m \u001b[0mnp\u001b[0m\u001b[1;33m.\u001b[0m\u001b[0mmean\u001b[0m\u001b[1;33m(\u001b[0m\u001b[0mR_recur_SON_96\u001b[0m\u001b[1;33m,\u001b[0m \u001b[0maxis\u001b[0m \u001b[1;33m=\u001b[0m \u001b[1;33m(\u001b[0m\u001b[1;36m1\u001b[0m\u001b[1;33m,\u001b[0m\u001b[1;36m2\u001b[0m\u001b[1;33m)\u001b[0m\u001b[1;33m)\u001b[0m\u001b[1;33m.\u001b[0m\u001b[0mreshape\u001b[0m\u001b[1;33m(\u001b[0m\u001b[1;33m-\u001b[0m\u001b[1;36m1\u001b[0m\u001b[1;33m,\u001b[0m\u001b[1;36m1\u001b[0m\u001b[1;33m)\u001b[0m\u001b[1;33m\u001b[0m\u001b[1;33m\u001b[0m\u001b[0m\n\u001b[0;32m      5\u001b[0m \u001b[0mR_recur_SON_97\u001b[0m \u001b[1;33m=\u001b[0m \u001b[0mnp\u001b[0m\u001b[1;33m.\u001b[0m\u001b[0mmean\u001b[0m\u001b[1;33m(\u001b[0m\u001b[0mR_recur_SON_97\u001b[0m\u001b[1;33m,\u001b[0m \u001b[0maxis\u001b[0m \u001b[1;33m=\u001b[0m \u001b[1;33m(\u001b[0m\u001b[1;36m1\u001b[0m\u001b[1;33m,\u001b[0m\u001b[1;36m2\u001b[0m\u001b[1;33m)\u001b[0m\u001b[1;33m)\u001b[0m\u001b[1;33m.\u001b[0m\u001b[0mreshape\u001b[0m\u001b[1;33m(\u001b[0m\u001b[1;33m-\u001b[0m\u001b[1;36m1\u001b[0m\u001b[1;33m,\u001b[0m\u001b[1;36m1\u001b[0m\u001b[1;33m)\u001b[0m\u001b[1;33m\u001b[0m\u001b[1;33m\u001b[0m\u001b[0m\n",
      "\u001b[1;32m~\\Anaconda3\\envs\\pytorch\\lib\\site-packages\\numpy\\core\\overrides.py\u001b[0m in \u001b[0;36mmean\u001b[1;34m(*args, **kwargs)\u001b[0m\n",
      "\u001b[1;32m~\\Anaconda3\\envs\\pytorch\\lib\\site-packages\\numpy\\core\\fromnumeric.py\u001b[0m in \u001b[0;36mmean\u001b[1;34m(a, axis, dtype, out, keepdims, where)\u001b[0m\n\u001b[0;32m   3472\u001b[0m             \u001b[1;32mreturn\u001b[0m \u001b[0mmean\u001b[0m\u001b[1;33m(\u001b[0m\u001b[0maxis\u001b[0m\u001b[1;33m=\u001b[0m\u001b[0maxis\u001b[0m\u001b[1;33m,\u001b[0m \u001b[0mdtype\u001b[0m\u001b[1;33m=\u001b[0m\u001b[0mdtype\u001b[0m\u001b[1;33m,\u001b[0m \u001b[0mout\u001b[0m\u001b[1;33m=\u001b[0m\u001b[0mout\u001b[0m\u001b[1;33m,\u001b[0m \u001b[1;33m**\u001b[0m\u001b[0mkwargs\u001b[0m\u001b[1;33m)\u001b[0m\u001b[1;33m\u001b[0m\u001b[1;33m\u001b[0m\u001b[0m\n\u001b[0;32m   3473\u001b[0m \u001b[1;33m\u001b[0m\u001b[0m\n\u001b[1;32m-> 3474\u001b[1;33m     return _methods._mean(a, axis=axis, dtype=dtype,\n\u001b[0m\u001b[0;32m   3475\u001b[0m                           out=out, **kwargs)\n\u001b[0;32m   3476\u001b[0m \u001b[1;33m\u001b[0m\u001b[0m\n",
      "\u001b[1;32m~\\Anaconda3\\envs\\pytorch\\lib\\site-packages\\numpy\\core\\_methods.py\u001b[0m in \u001b[0;36m_mean\u001b[1;34m(a, axis, dtype, out, keepdims, where)\u001b[0m\n\u001b[0;32m    165\u001b[0m     \u001b[0mis_float16_result\u001b[0m \u001b[1;33m=\u001b[0m \u001b[1;32mFalse\u001b[0m\u001b[1;33m\u001b[0m\u001b[1;33m\u001b[0m\u001b[0m\n\u001b[0;32m    166\u001b[0m \u001b[1;33m\u001b[0m\u001b[0m\n\u001b[1;32m--> 167\u001b[1;33m     \u001b[0mrcount\u001b[0m \u001b[1;33m=\u001b[0m \u001b[0m_count_reduce_items\u001b[0m\u001b[1;33m(\u001b[0m\u001b[0marr\u001b[0m\u001b[1;33m,\u001b[0m \u001b[0maxis\u001b[0m\u001b[1;33m,\u001b[0m \u001b[0mkeepdims\u001b[0m\u001b[1;33m=\u001b[0m\u001b[0mkeepdims\u001b[0m\u001b[1;33m,\u001b[0m \u001b[0mwhere\u001b[0m\u001b[1;33m=\u001b[0m\u001b[0mwhere\u001b[0m\u001b[1;33m)\u001b[0m\u001b[1;33m\u001b[0m\u001b[1;33m\u001b[0m\u001b[0m\n\u001b[0m\u001b[0;32m    168\u001b[0m     \u001b[1;32mif\u001b[0m \u001b[0mrcount\u001b[0m \u001b[1;33m==\u001b[0m \u001b[1;36m0\u001b[0m \u001b[1;32mif\u001b[0m \u001b[0mwhere\u001b[0m \u001b[1;32mis\u001b[0m \u001b[1;32mTrue\u001b[0m \u001b[1;32melse\u001b[0m \u001b[0mumr_any\u001b[0m\u001b[1;33m(\u001b[0m\u001b[0mrcount\u001b[0m \u001b[1;33m==\u001b[0m \u001b[1;36m0\u001b[0m\u001b[1;33m,\u001b[0m \u001b[0maxis\u001b[0m\u001b[1;33m=\u001b[0m\u001b[1;32mNone\u001b[0m\u001b[1;33m)\u001b[0m\u001b[1;33m:\u001b[0m\u001b[1;33m\u001b[0m\u001b[1;33m\u001b[0m\u001b[0m\n\u001b[0;32m    169\u001b[0m         \u001b[0mwarnings\u001b[0m\u001b[1;33m.\u001b[0m\u001b[0mwarn\u001b[0m\u001b[1;33m(\u001b[0m\u001b[1;34m\"Mean of empty slice.\"\u001b[0m\u001b[1;33m,\u001b[0m \u001b[0mRuntimeWarning\u001b[0m\u001b[1;33m,\u001b[0m \u001b[0mstacklevel\u001b[0m\u001b[1;33m=\u001b[0m\u001b[1;36m2\u001b[0m\u001b[1;33m)\u001b[0m\u001b[1;33m\u001b[0m\u001b[1;33m\u001b[0m\u001b[0m\n",
      "\u001b[1;32m~\\Anaconda3\\envs\\pytorch\\lib\\site-packages\\numpy\\core\\_methods.py\u001b[0m in \u001b[0;36m_count_reduce_items\u001b[1;34m(arr, axis, keepdims, where)\u001b[0m\n\u001b[0;32m     74\u001b[0m         \u001b[0mitems\u001b[0m \u001b[1;33m=\u001b[0m \u001b[0mnt\u001b[0m\u001b[1;33m.\u001b[0m\u001b[0mintp\u001b[0m\u001b[1;33m(\u001b[0m\u001b[1;36m1\u001b[0m\u001b[1;33m)\u001b[0m\u001b[1;33m\u001b[0m\u001b[1;33m\u001b[0m\u001b[0m\n\u001b[0;32m     75\u001b[0m         \u001b[1;32mfor\u001b[0m \u001b[0max\u001b[0m \u001b[1;32min\u001b[0m \u001b[0maxis\u001b[0m\u001b[1;33m:\u001b[0m\u001b[1;33m\u001b[0m\u001b[1;33m\u001b[0m\u001b[0m\n\u001b[1;32m---> 76\u001b[1;33m             \u001b[0mitems\u001b[0m \u001b[1;33m*=\u001b[0m \u001b[0marr\u001b[0m\u001b[1;33m.\u001b[0m\u001b[0mshape\u001b[0m\u001b[1;33m[\u001b[0m\u001b[0mmu\u001b[0m\u001b[1;33m.\u001b[0m\u001b[0mnormalize_axis_index\u001b[0m\u001b[1;33m(\u001b[0m\u001b[0max\u001b[0m\u001b[1;33m,\u001b[0m \u001b[0marr\u001b[0m\u001b[1;33m.\u001b[0m\u001b[0mndim\u001b[0m\u001b[1;33m)\u001b[0m\u001b[1;33m]\u001b[0m\u001b[1;33m\u001b[0m\u001b[1;33m\u001b[0m\u001b[0m\n\u001b[0m\u001b[0;32m     77\u001b[0m     \u001b[1;32melse\u001b[0m\u001b[1;33m:\u001b[0m\u001b[1;33m\u001b[0m\u001b[1;33m\u001b[0m\u001b[0m\n\u001b[0;32m     78\u001b[0m         \u001b[1;31m# TODO: Optimize case when `where` is broadcast along a non-reduction\u001b[0m\u001b[1;33m\u001b[0m\u001b[1;33m\u001b[0m\u001b[1;33m\u001b[0m\u001b[0m\n",
      "\u001b[1;31mAxisError\u001b[0m: axis 2 is out of bounds for array of dimension 2"
     ]
    }
   ],
   "source": [
    "R_recur_SON_93 = np.mean(R_recur_SON_93, axis = (1,2)).reshape(-1,1)\n",
    "R_recur_SON_94 = np.mean(R_recur_SON_94, axis = (1,2)).reshape(-1,1)\n",
    "R_recur_SON_95 = np.mean(R_recur_SON_95, axis = (1,2)).reshape(-1,1)\n",
    "R_recur_SON_96 = np.mean(R_recur_SON_96, axis = (1,2)).reshape(-1,1)\n",
    "R_recur_SON_97 = np.mean(R_recur_SON_97, axis = (1,2)).reshape(-1,1)\n",
    "R_recur_SON_98 = np.mean(R_recur_SON_98, axis = (1,2)).reshape(-1,1)\n",
    "R_recur_SON_99 = np.mean(R_recur_SON_99, axis = (1,2)).reshape(-1,1)\n",
    "R_recur_SON_00 = np.mean(R_recur_SON_00, axis = (1,2)).reshape(-1,1)\n",
    "R_recur_SON_01 = np.mean(R_recur_SON_01, axis = (1,2)).reshape(-1,1)\n",
    "R_recur_SON_02 = np.mean(R_recur_SON_02, axis = (1,2)).reshape(-1,1)\n",
    "R_recur_SON_03 = np.mean(R_recur_SON_03, axis = (1,2)).reshape(-1,1)\n",
    "R_recur_SON_04 = np.mean(R_recur_SON_04, axis = (1,2)).reshape(-1,1)\n",
    "R_recur_SON_05 = np.mean(R_recur_SON_05, axis = (1,2)).reshape(-1,1)\n",
    "R_recur_SON_06 = np.mean(R_recur_SON_06, axis = (1,2)).reshape(-1,1)\n",
    "R_recur_SON_07 = np.mean(R_recur_SON_07, axis = (1,2)).reshape(-1,1)\n",
    "R_recur_SON_08 = np.mean(R_recur_SON_08, axis = (1,2)).reshape(-1,1)\n",
    "R_recur_SON_09 = np.mean(R_recur_SON_09, axis = (1,2)).reshape(-1,1)\n",
    "R_recur_SON_10 = np.mean(R_recur_SON_10, axis = (1,2)).reshape(-1,1)\n",
    "R_recur_SON_11 = np.mean(R_recur_SON_11, axis = (1,2)).reshape(-1,1)\n",
    "R_recur_SON_12 = np.mean(R_recur_SON_12, axis = (1,2)).reshape(-1,1)\n",
    "R_recur_SON_13 = np.mean(R_recur_SON_13, axis = (1,2)).reshape(-1,1)\n",
    "R_recur_SON_14 = np.mean(R_recur_SON_14, axis = (1,2)).reshape(-1,1)\n",
    "R_recur_SON_15 = np.mean(R_recur_SON_15, axis = (1,2)).reshape(-1,1)\n",
    "R_recur_SON_16 = np.mean(R_recur_SON_16, axis = (1,2)).reshape(-1,1)\n",
    "R_recur_SON_17 = np.mean(R_recur_SON_17, axis = (1,2)).reshape(-1,1)\n",
    "R_recur_SON_18 = np.mean(R_recur_SON_18, axis = (1,2)).reshape(-1,1)\n",
    "R_recur_SON_19 = np.mean(R_recur_SON_19, axis = (1,2)).reshape(-1,1)"
   ]
  },
  {
   "cell_type": "code",
   "execution_count": 101,
   "id": "fcbc6e9e",
   "metadata": {},
   "outputs": [],
   "source": [
    "R_recur_SON_93 = np.mean(R_recur_SON_93).reshape(-1,1)\n",
    "R_recur_SON_94 = np.mean(R_recur_SON_94).reshape(-1,1)\n",
    "R_recur_SON_95 = np.mean(R_recur_SON_95).reshape(-1,1)\n",
    "R_recur_SON_96 = np.mean(R_recur_SON_96).reshape(-1,1)\n",
    "R_recur_SON_97 = np.mean(R_recur_SON_97).reshape(-1,1)\n",
    "R_recur_SON_98 = np.mean(R_recur_SON_98).reshape(-1,1)\n",
    "R_recur_SON_99 = np.mean(R_recur_SON_99).reshape(-1,1)\n",
    "R_recur_SON_00 = np.mean(R_recur_SON_00).reshape(-1,1)\n",
    "R_recur_SON_01 = np.mean(R_recur_SON_01).reshape(-1,1)\n",
    "R_recur_SON_02 = np.mean(R_recur_SON_02).reshape(-1,1)\n",
    "R_recur_SON_03 = np.mean(R_recur_SON_03).reshape(-1,1)\n",
    "R_recur_SON_04 = np.mean(R_recur_SON_04).reshape(-1,1)\n",
    "R_recur_SON_05 = np.mean(R_recur_SON_05).reshape(-1,1)\n",
    "R_recur_SON_06 = np.mean(R_recur_SON_06).reshape(-1,1)\n",
    "R_recur_SON_07 = np.mean(R_recur_SON_07).reshape(-1,1)\n",
    "R_recur_SON_08 = np.mean(R_recur_SON_08).reshape(-1,1)\n",
    "R_recur_SON_09 = np.mean(R_recur_SON_09).reshape(-1,1)\n",
    "R_recur_SON_10 = np.mean(R_recur_SON_10).reshape(-1,1)\n",
    "R_recur_SON_11 = np.mean(R_recur_SON_11).reshape(-1,1)\n",
    "R_recur_SON_12 = np.mean(R_recur_SON_12).reshape(-1,1)\n",
    "R_recur_SON_13 = np.mean(R_recur_SON_13).reshape(-1,1)\n",
    "R_recur_SON_14 = np.mean(R_recur_SON_14).reshape(-1,1)\n",
    "R_recur_SON_15 = np.mean(R_recur_SON_15).reshape(-1,1)\n",
    "R_recur_SON_16 = np.mean(R_recur_SON_16).reshape(-1,1)\n",
    "R_recur_SON_17 = np.mean(R_recur_SON_17).reshape(-1,1)\n",
    "R_recur_SON_18 = np.mean(R_recur_SON_18).reshape(-1,1)\n",
    "R_recur_SON_19 = np.mean(R_recur_SON_19).reshape(-1,1)"
   ]
  },
  {
   "cell_type": "code",
   "execution_count": 102,
   "id": "c7370887",
   "metadata": {},
   "outputs": [
    {
     "data": {
      "text/plain": [
       "(27, 1)"
      ]
     },
     "execution_count": 102,
     "metadata": {},
     "output_type": "execute_result"
    }
   ],
   "source": [
    "Q_net_SON_93_19 = np.concatenate((Q_net_SON_93, Q_net_SON_94, Q_net_SON_95, Q_net_SON_96,\n",
    "                                 Q_net_SON_97, Q_net_SON_98, Q_net_SON_99, Q_net_SON_00, Q_net_SON_01,\n",
    "                                 Q_net_SON_02, Q_net_SON_03, Q_net_SON_04, Q_net_SON_05, Q_net_SON_06,\n",
    "                                 Q_net_SON_07, Q_net_SON_08, Q_net_SON_09, Q_net_SON_10, Q_net_SON_11,\n",
    "                                 Q_net_SON_12, Q_net_SON_13, Q_net_SON_14, Q_net_SON_15, Q_net_SON_16,\n",
    "                                 Q_net_SON_17, Q_net_SON_18, Q_net_SON_19), axis = 0)\n",
    "Q_net_SON_93_19.shape"
   ]
  },
  {
   "cell_type": "code",
   "execution_count": 103,
   "id": "36a22be9",
   "metadata": {},
   "outputs": [
    {
     "data": {
      "text/plain": [
       "(27, 1)"
      ]
     },
     "execution_count": 103,
     "metadata": {},
     "output_type": "execute_result"
    }
   ],
   "source": [
    "ZAdv_SON_93_19 = np.concatenate((ZAdv_SON_93, ZAdv_SON_94, ZAdv_SON_95, ZAdv_SON_96,\n",
    "                                 ZAdv_SON_97, ZAdv_SON_98, ZAdv_SON_99, ZAdv_SON_00, ZAdv_SON_01,\n",
    "                                 ZAdv_SON_02, ZAdv_SON_03, ZAdv_SON_04, ZAdv_SON_05, ZAdv_SON_06,\n",
    "                                 ZAdv_SON_07, ZAdv_SON_08, ZAdv_SON_09, ZAdv_SON_10, ZAdv_SON_11,\n",
    "                                 ZAdv_SON_12, ZAdv_SON_13, ZAdv_SON_14, ZAdv_SON_15, ZAdv_SON_16,\n",
    "                                 ZAdv_SON_17, ZAdv_SON_18, ZAdv_SON_19), axis = 0)\n",
    "ZAdv_SON_93_19.shape"
   ]
  },
  {
   "cell_type": "code",
   "execution_count": 104,
   "id": "80450276",
   "metadata": {},
   "outputs": [
    {
     "data": {
      "text/plain": [
       "(27, 1)"
      ]
     },
     "execution_count": 104,
     "metadata": {},
     "output_type": "execute_result"
    }
   ],
   "source": [
    "MAdv_SON_93_19 = np.concatenate((MAdv_SON_93, MAdv_SON_94, MAdv_SON_95, MAdv_SON_96,\n",
    "                                 MAdv_SON_97, MAdv_SON_98, MAdv_SON_99, MAdv_SON_00, MAdv_SON_01,\n",
    "                                 MAdv_SON_02, MAdv_SON_03, MAdv_SON_04, MAdv_SON_05, MAdv_SON_06,\n",
    "                                 MAdv_SON_07, MAdv_SON_08, MAdv_SON_09, MAdv_SON_10, MAdv_SON_11,\n",
    "                                 MAdv_SON_12, MAdv_SON_13, MAdv_SON_14, MAdv_SON_15, MAdv_SON_16,\n",
    "                                 MAdv_SON_17, MAdv_SON_18, MAdv_SON_19), axis = 0)\n",
    "MAdv_SON_93_19.shape"
   ]
  },
  {
   "cell_type": "code",
   "execution_count": 105,
   "id": "d6a046a8",
   "metadata": {},
   "outputs": [
    {
     "data": {
      "text/plain": [
       "(27, 1)"
      ]
     },
     "execution_count": 105,
     "metadata": {},
     "output_type": "execute_result"
    }
   ],
   "source": [
    "VAdv_SON_93_19 = np.concatenate((VAdv_SON_93, VAdv_SON_94, VAdv_SON_95, VAdv_SON_96,\n",
    "                                 VAdv_SON_97, VAdv_SON_98, VAdv_SON_99, VAdv_SON_00, VAdv_SON_01,\n",
    "                                 VAdv_SON_02, VAdv_SON_03, VAdv_SON_04, VAdv_SON_05, VAdv_SON_06,\n",
    "                                 VAdv_SON_07, VAdv_SON_08, VAdv_SON_09, VAdv_SON_10, VAdv_SON_11,\n",
    "                                 VAdv_SON_12, VAdv_SON_13, VAdv_SON_14, VAdv_SON_15, VAdv_SON_16,\n",
    "                                 VAdv_SON_17, VAdv_SON_18, VAdv_SON_19), axis = 0)\n",
    "VAdv_SON_93_19.shape"
   ]
  },
  {
   "cell_type": "code",
   "execution_count": 106,
   "id": "f09df7dc",
   "metadata": {},
   "outputs": [
    {
     "data": {
      "text/plain": [
       "(27, 1)"
      ]
     },
     "execution_count": 106,
     "metadata": {},
     "output_type": "execute_result"
    }
   ],
   "source": [
    "R_origin_SON_93_19  = np.concatenate((R_origin_SON_93 , R_origin_SON_94, R_origin_SON_95, R_origin_SON_96,\n",
    "                                 R_origin_SON_97, R_origin_SON_98, R_origin_SON_99, R_origin_SON_00, R_origin_SON_01,\n",
    "                                 R_origin_SON_02, R_origin_SON_03, R_origin_SON_04, R_origin_SON_05, R_origin_SON_06,\n",
    "                                 R_origin_SON_07, R_origin_SON_08, R_origin_SON_09, R_origin_SON_10, R_origin_SON_11,\n",
    "                                 R_origin_SON_12, R_origin_SON_13, R_origin_SON_14, R_origin_SON_15, R_origin_SON_16,\n",
    "                                 R_origin_SON_17, R_origin_SON_18, R_origin_SON_19), axis = 0)\n",
    "R_origin_SON_93_19.shape"
   ]
  },
  {
   "cell_type": "code",
   "execution_count": 107,
   "id": "e74748d3",
   "metadata": {},
   "outputs": [
    {
     "data": {
      "text/plain": [
       "(27, 1)"
      ]
     },
     "execution_count": 107,
     "metadata": {},
     "output_type": "execute_result"
    }
   ],
   "source": [
    "dT_dt_SON_93_19  = np.concatenate((dT_dt_SON_93 , dT_dt_SON_94, dT_dt_SON_95, dT_dt_SON_96,\n",
    "                                 dT_dt_SON_97, dT_dt_SON_98, dT_dt_SON_99, dT_dt_SON_00, dT_dt_SON_01,\n",
    "                                 dT_dt_SON_02, dT_dt_SON_03, dT_dt_SON_04, dT_dt_SON_05, dT_dt_SON_06,\n",
    "                                 dT_dt_SON_07, dT_dt_SON_08, dT_dt_SON_09, dT_dt_SON_10, dT_dt_SON_11,\n",
    "                                 dT_dt_SON_12, dT_dt_SON_13, dT_dt_SON_14, dT_dt_SON_15, dT_dt_SON_16,\n",
    "                                 dT_dt_SON_17, dT_dt_SON_18, dT_dt_SON_19), axis = 0)\n",
    "dT_dt_SON_93_19.shape"
   ]
  },
  {
   "cell_type": "code",
   "execution_count": 108,
   "id": "7089a65b",
   "metadata": {},
   "outputs": [
    {
     "data": {
      "text/plain": [
       "(27, 1)"
      ]
     },
     "execution_count": 108,
     "metadata": {},
     "output_type": "execute_result"
    }
   ],
   "source": [
    "R_recur_SON_93_19  = np.concatenate((R_recur_SON_93 , R_recur_SON_94, R_recur_SON_95, R_recur_SON_96,\n",
    "                                 R_recur_SON_97, R_recur_SON_98, R_recur_SON_99, R_recur_SON_00, R_recur_SON_01,\n",
    "                                 R_recur_SON_02, R_recur_SON_03, R_recur_SON_04, R_recur_SON_05, R_recur_SON_06,\n",
    "                                 R_recur_SON_07, R_recur_SON_08, R_recur_SON_09, R_recur_SON_10, R_recur_SON_11,\n",
    "                                 R_recur_SON_12, R_recur_SON_13, R_recur_SON_14, R_recur_SON_15, R_recur_SON_16,\n",
    "                                 R_recur_SON_17, R_recur_SON_18, R_recur_SON_19), axis = 0)\n",
    "R_recur_SON_93_19.shape"
   ]
  },
  {
   "cell_type": "code",
   "execution_count": 109,
   "id": "c23a070f",
   "metadata": {},
   "outputs": [],
   "source": [
    "np.savez(r'D:\\heat_wave\\WEIO\\expand_WEIO\\last\\Figure1_MLD_eq\\MLD_equa_SON.npz',\n",
    "        Q_net_SON_93_19 = Q_net_SON_93_19, ZAdv_SON_93_19 = ZAdv_SON_93_19,\n",
    "        MAdv_SON_93_19 = MAdv_SON_93_19, VAdv_SON_93_19 = VAdv_SON_93_19,\n",
    "        R_origin_SON_93_19 = R_origin_SON_93_19, dT_dt_SON_93_19 = dT_dt_SON_93_19,\n",
    "        R_recur_SON_93_19 = R_recur_SON_93_19)"
   ]
  },
  {
   "cell_type": "code",
   "execution_count": null,
   "id": "e9cd791f",
   "metadata": {},
   "outputs": [],
   "source": []
  }
 ],
 "metadata": {
  "kernelspec": {
   "display_name": "Python 3 (ipykernel)",
   "language": "python",
   "name": "python3"
  },
  "language_info": {
   "codemirror_mode": {
    "name": "ipython",
    "version": 3
   },
   "file_extension": ".py",
   "mimetype": "text/x-python",
   "name": "python",
   "nbconvert_exporter": "python",
   "pygments_lexer": "ipython3",
   "version": "3.8.12"
  }
 },
 "nbformat": 4,
 "nbformat_minor": 5
}

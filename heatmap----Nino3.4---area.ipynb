{
 "cells": [
  {
   "cell_type": "code",
   "execution_count": 1,
   "id": "10b9b911",
   "metadata": {},
   "outputs": [],
   "source": [
    "import numpy as np\n",
    "import matplotlib.pyplot as plt\n",
    "import seaborn as sns"
   ]
  },
  {
   "cell_type": "code",
   "execution_count": 3,
   "id": "34b86429",
   "metadata": {},
   "outputs": [
    {
     "data": {
      "image/png": "[encoded data removed]",
      "text/plain": [
       "<Figure size 432x288 with 2 Axes>"
      ]
     },
     "metadata": {
      "needs_background": "light"
     },
     "output_type": "display_data"
    }
   ],
   "source": [
    "# 生成数据\n",
    "data = np.random.rand(10, 10)\n",
    "\n",
    "# 绘制热力图\n",
    "sns.heatmap(data, annot=False, fmt='.2f', cmap='coolwarm')\n",
    "\n",
    "# 显示图形\n",
    "plt.show()"
   ]
  },
  {
   "cell_type": "code",
   "execution_count": 47,
   "id": "2e0740b7",
   "metadata": {},
   "outputs": [
    {
     "data": {
      "text/plain": [
       "array([[0.376 , 0.    , 0.    , 0.    , 0.    , 0.    , 0.    , 0.    ,\n",
       "        0.2816],\n",
       "       [0.376 , 0.    , 0.    , 0.    , 0.    , 0.    , 0.    , 0.2808,\n",
       "        0.    ],\n",
       "       [0.376 , 0.    , 0.    , 0.    , 0.    , 0.    , 0.2876, 0.    ,\n",
       "        0.    ],\n",
       "       [0.376 , 0.    , 0.    , 0.    , 0.    , 0.3658, 0.    , 0.    ,\n",
       "        0.    ],\n",
       "       [0.376 , 0.3574, 0.2868, 0.3656, 0.3586, 0.    , 0.    , 0.    ,\n",
       "        0.    ],\n",
       "       [0.376 , 0.364 , 0.2782, 0.364 , 0.3656, 0.    , 0.    , 0.    ,\n",
       "        0.    ],\n",
       "       [0.376 , 0.285 , 0.2838, 0.2782, 0.2868, 0.    , 0.    , 0.    ,\n",
       "        0.    ],\n",
       "       [0.376 , 0.3654, 0.285 , 0.364 , 0.3574, 0.    , 0.    , 0.    ,\n",
       "        0.    ],\n",
       "       [0.376 , 0.376 , 0.376 , 0.376 , 0.376 , 0.376 , 0.376 , 0.376 ,\n",
       "        0.376 ]])"
      ]
     },
     "execution_count": 47,
     "metadata": {},
     "output_type": "execute_result"
    }
   ],
   "source": [
    "#创建Nino3.4数组  # RMSE数据\n",
    "\n",
    "Nino_3_4_arr = np.zeros((9,9))\n",
    "\n",
    "#自定义填入数据\n",
    "#1) 将最左和最下填入未优化的数据\n",
    "Nino_3_4_arr[8][0] = 0.376; Nino_3_4_arr[8][1] = 0.376; Nino_3_4_arr[8][2] = 0.376;\n",
    "Nino_3_4_arr[8][3] = 0.376; Nino_3_4_arr[8][4] = 0.376; Nino_3_4_arr[8][5] = 0.376;\n",
    "Nino_3_4_arr[8][6] = 0.376; Nino_3_4_arr[8][7] = 0.376; Nino_3_4_arr[8][8] = 0.376;\n",
    "Nino_3_4_arr[0][0] = 0.376; Nino_3_4_arr[1][0] = 0.376; Nino_3_4_arr[2][0] = 0.376;\n",
    "Nino_3_4_arr[3][0] = 0.376; Nino_3_4_arr[4][0] = 0.376; Nino_3_4_arr[5][0] = 0.376;\n",
    "Nino_3_4_arr[6][0] = 0.376; Nino_3_4_arr[7][0] = 0.376;\n",
    "\n",
    "#填入 1 1\n",
    "Nino_3_4_arr[7][1] = 0.3654;\n",
    "\n",
    "#填入 2 2\n",
    "Nino_3_4_arr[6][2] = 0.2838;\n",
    "\n",
    "#填入 3 3\n",
    "Nino_3_4_arr[5][3] = 0.364;\n",
    "\n",
    "#填入 4 4\n",
    "Nino_3_4_arr[4][4] = 0.3586;\n",
    "\n",
    "#填入 1 2   和 2  1\n",
    "Nino_3_4_arr[7][2] = 0.285; Nino_3_4_arr[6][1] = 0.285; \n",
    "\n",
    "#填入 1 3   和 3  1\n",
    "Nino_3_4_arr[7][3] = 0.364; Nino_3_4_arr[5][1] = 0.364; \n",
    "\n",
    "#填入 1 4  和 4  1\n",
    "Nino_3_4_arr[7][4] = 0.3574; Nino_3_4_arr[4][1] = 0.3574; \n",
    "\n",
    "#填入 2 3  和  3  2\n",
    "Nino_3_4_arr[6][3] = 0.2782; Nino_3_4_arr[5][2] = 0.2782; \n",
    "\n",
    "#填入 2 4  和  4  2\n",
    "Nino_3_4_arr[6][4] = 0.2868; Nino_3_4_arr[4][2] = 0.2868; \n",
    "\n",
    "#填入 3 4  和  4  3\n",
    "Nino_3_4_arr[5][4] = 0.3656; Nino_3_4_arr[4][3] = 0.3656;\n",
    "\n",
    "#填入 f(1_2_3) 和  f(1_2_3)\n",
    "Nino_3_4_arr[3][5] = 0.3658; \n",
    "\n",
    "#填入 f(1_2_4) 和  f(1_2_4)\n",
    "Nino_3_4_arr[2][6] = 0.2876; \n",
    "\n",
    "#填入 f(2_3_4) 和  f(2_3_4)\n",
    "Nino_3_4_arr[1][7] = 0.2808; \n",
    "\n",
    "#填入 f(1_2_3_4) 和  f(1_2_3_4)\n",
    "Nino_3_4_arr[0][8] = 0.2816; \n",
    "\n",
    "Nino_3_4_arr"
   ]
  },
  {
   "cell_type": "code",
   "execution_count": 56,
   "id": "af1138bf",
   "metadata": {},
   "outputs": [
    {
     "data": {
      "image/png": "[encoded data removed]",
      "text/plain": [
       "<Figure size 432x288 with 2 Axes>"
      ]
     },
     "metadata": {
      "needs_background": "light"
     },
     "output_type": "display_data"
    }
   ],
   "source": [
    "from matplotlib.colors import ListedColormap \n",
    "# 生成数据\n",
    "# data = np.random.rand(10, 10)\n",
    "\n",
    "data_no_zero = np.where(Nino_3_4_arr == 0, np.nan, Nino_3_4_arr)\n",
    "\n",
    "\n",
    "#自定义颜色映射\n",
    "colors = ['#FFCCE5', '#B2B2FF']\n",
    "cmap = ListedColormap(colors)\n",
    "\n",
    "# 绘制热力图\n",
    "sns.heatmap(data_no_zero, annot=False, fmt='.2f', cmap=cmap, vmin = 0.3, vmax = 0.33)\n",
    "\n",
    "# 显示图形\n",
    "plt.show()"
   ]
  },
  {
   "cell_type": "code",
   "execution_count": null,
   "id": "64375fa9",
   "metadata": {},
   "outputs": [],
   "source": []
  }
 ],
 "metadata": {
  "kernelspec": {
   "display_name": "Python 3 (ipykernel)",
   "language": "python",
   "name": "python3"
  },
  "language_info": {
   "codemirror_mode": {
    "name": "ipython",
    "version": 3
   },
   "file_extension": ".py",
   "mimetype": "text/x-python",
   "name": "python",
   "nbconvert_exporter": "python",
   "pygments_lexer": "ipython3",
   "version": "3.8.12"
  }
 },
 "nbformat": 4,
 "nbformat_minor": 5
}

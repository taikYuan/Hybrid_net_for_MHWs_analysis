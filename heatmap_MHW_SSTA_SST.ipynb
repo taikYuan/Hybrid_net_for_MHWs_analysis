{
 "cells": [
  {
   "cell_type": "code",
   "execution_count": 2,
   "id": "3bdcc807",
   "metadata": {},
   "outputs": [],
   "source": [
    "'''\n",
    "    A set of functions which implement the Marine Heat Wave (MHW)\n",
    "    definition of Hobday et al. (2016)\n",
    "'''\n",
    "\n",
    "\n",
    "import numpy as np\n",
    "import scipy as sp\n",
    "from scipy import linalg\n",
    "from scipy import stats\n",
    "import scipy.ndimage as ndimage\n",
    "from datetime import date\n",
    "\n",
    "\n",
    "def detect(t, temp, climatologyPeriod=[None,None], pctile=90, windowHalfWidth=5, smoothPercentile=True, smoothPercentileWidth=31, minDuration=5, joinAcrossGaps=True, maxGap=2, maxPadLength=False, coldSpells=False, alternateClimatology=False, Ly=False):\n",
    "    '''\n",
    "    Applies the Hobday et al. (2016) marine heat wave definition to an input time\n",
    "    series of temp ('temp') along with a time vector ('t'). Outputs properties of\n",
    "    all detected marine heat waves.\n",
    "    Inputs:\n",
    "      t       Time vector, in datetime format (e.g., date(1982,1,1).toordinal())\n",
    "              [1D numpy array of length T]\n",
    "      temp    Temperature vector [1D numpy array of length T]\n",
    "    Outputs:\n",
    "      mhw     Detected marine heat waves (MHWs). Each key (following list) is a\n",
    "              list of length N where N is the number of detected MHWs:\n",
    " \n",
    "        'time_start'           Start time of MHW [datetime format] # MHW开始的时间\n",
    "        'time_end'             End time of MHW [datetime format]  # MHW结束的时间\n",
    "        'time_peak'            Time of MHW peak [datetime format] # MHW的峰值时间\n",
    "        'date_start'           Start date of MHW [datetime format]  # MHW开始的日期\n",
    "        'date_end'             End date of MHW [datetime format]   # MHW结束的日期\n",
    "        'date_peak'            Date of MHW peak [datetime format] # MHW峰值的时间\n",
    "        'index_start'          Start index of MHW #MHW开始的索引\n",
    "        'index_end'            End index of MHW  #MHW结束的索引\n",
    "        'index_peak'           Index of MHW peak #MHW峰值的索引\n",
    "        'duration'             Duration of MHW [days] #MHW经历的日期\n",
    "        'intensity_max'        Maximum (peak) intensity [deg. C]  # 最大强度\n",
    "        'intensity_mean'       Mean intensity [deg. C] #平均强度\n",
    "        'intensity_var'        Intensity variability [deg. C] # \n",
    "        'intensity_cumulative' Cumulative intensity [deg. C x days] #累积强度\n",
    "        'rate_onset'           Onset rate of MHW [deg. C / days] # MHW的增长率\n",
    "        'rate_decline'         Decline rate of MHW [deg. C / days]\n",
    "        'intensity_max_relThresh', 'intensity_mean_relThresh', 'intensity_var_relThresh', \n",
    "        and 'intensity_cumulative_relThresh' are as above except relative to the\n",
    "        threshold (e.g., 90th percentile) rather than the seasonal climatology\n",
    "        'intensity_max_abs', 'intensity_mean_abs', 'intensity_var_abs', and\n",
    "        'intensity_cumulative_abs' are as above except as absolute magnitudes\n",
    "        rather than relative to the seasonal climatology or threshold\n",
    "        'category' is an integer category system (1, 2, 3, 4) based on the maximum intensity\n",
    "        in multiples of threshold exceedances, i.e., a value of 1 indicates the MHW\n",
    "        intensity (relative to the climatology) was >=1 times the value of the threshold (but\n",
    "        less than 2 times; relative to climatology, i.e., threshold - climatology).\n",
    "        Category types are defined as 1=moderate, 2=strong, 3=severe, 4=extreme. More details in\n",
    "        Hobday et al. (in prep., Oceanography). Also supplied are the duration of each of these\n",
    "        categories for each event.  #这些相对于阈值而不是相对于气候态\n",
    "        'n_events'             A scalar integer (not a list) indicating the total\n",
    "                               number of detected MHW events  # 发生了几次MHW事件\n",
    "      clim    Climatology of SST. Each key (following list) is a seasonally-varying\n",
    "              time series [1D numpy array of length T] of a particular measure:  # 海温的气候学\n",
    "        'thresh'               Seasonally varying threshold (e.g., 90th percentile) # 季节性变化的阈值 （例如 90百分位数）\n",
    "        'seas'                 Climatological seasonal cycle  # 气候季节循环\n",
    "        'missing'              A vector of TRUE/FALSE indicating which elements in \n",
    "                               temp were missing values for the MHWs detection\n",
    "    Options:\n",
    "      climatologyPeriod      Period over which climatology is calculated, specified\n",
    "                             as list of start and end years. Default is to calculate\n",
    "                             over the full range of years in the supplied time series.\n",
    "                             Alternate periods suppled as a list e.g. [1983,2012].\n",
    "      pctile                 Threshold percentile (%) for detection of extreme values\n",
    "                             (DEFAULT = 90)\n",
    "      windowHalfWidth        Width of window (one sided) about day-of-year used for\n",
    "                             the pooling of values and calculation of threshold percentile\n",
    "                             (DEFAULT = 5 [days])\n",
    "      smoothPercentile       Boolean switch indicating whether to smooth the threshold\n",
    "                             percentile timeseries with a moving average (DEFAULT = True)\n",
    "      smoothPercentileWidth  Width of moving average window for smoothing threshold\n",
    "                             (DEFAULT = 31 [days])\n",
    "      minDuration            Minimum duration for acceptance detected MHWs\n",
    "                             (DEFAULT = 5 [days])\n",
    "      joinAcrossGaps         Boolean switch indicating whether to join MHWs\n",
    "                             which occur before/after a short gap (DEFAULT = True)\n",
    "      maxGap                 Maximum length of gap allowed for the joining of MHWs\n",
    "                             (DEFAULT = 2 [days])\n",
    "      maxPadLength           Specifies the maximum length [days] over which to interpolate\n",
    "                             (pad) missing data (specified as nans) in input temp time series.\n",
    "                             i.e., any consecutive blocks of NaNs with length greater\n",
    "                             than maxPadLength will be left as NaN. Set as an integer.\n",
    "                             (DEFAULT = False, interpolates over all missing values).\n",
    "      coldSpells             Specifies if the code should detect cold events instead of\n",
    "                             heat events. (DEFAULT = False)\n",
    "      alternateClimatology   Specifies an alternate temperature time series to use for the\n",
    "                             calculation of the climatology. Format is as a list of numpy\n",
    "                             arrays: (1) the first element of the list is a time vector,\n",
    "                             in datetime format (e.g., date(1982,1,1).toordinal())\n",
    "                             [1D numpy array of length TClim] and (2) the second element of\n",
    "                             the list is a temperature vector [1D numpy array of length TClim].\n",
    "                             (DEFAULT = False)\n",
    "      Ly                     Specifies if the length of the year is < 365/366 days (e.g. a \n",
    "                             360 day year from a climate model). This affects the calculation\n",
    "                             of the climatology. (DEFAULT = False)\n",
    "    Notes:\n",
    "      1. This function assumes that the input time series consist of continuous daily values\n",
    "         with few missing values. Time ranges which start and end part-way through the calendar\n",
    "         year are supported.\n",
    "      2. This function supports leap years. This is done by ignoring Feb 29s for the initial\n",
    "         calculation of the climatology and threshold. The value of these for Feb 29 is then\n",
    "         linearly interpolated from the values for Feb 28 and Mar 1.\n",
    "      3. The calculation of onset and decline rates assumes that the heat wave started a half-day\n",
    "         before the start day and ended a half-day after the end-day. (This is consistent with the\n",
    "         duration definition as implemented, which assumes duration = end day - start day + 1.)\n",
    "      4. For the purposes of MHW detection, any missing temp values not interpolated over (through\n",
    "         optional maxPadLLength) will be set equal to the seasonal climatology. This means they will\n",
    "         trigger the end/start of any adjacent temp values which satisfy the MHW criteria.\n",
    "      5. If the code is used to detect cold events (coldSpells = True), then it works just as for heat\n",
    "         waves except that events are detected as deviations below the (100 - pctile)th percentile\n",
    "         (e.g., the 10th instead of 90th) for at least 5 days. Intensities are reported as negative\n",
    "         values and represent the temperature anomaly below climatology.\n",
    "    Written by Eric Oliver, Institue for Marine and Antarctic Studies, University of Tasmania, Feb 2015\n",
    "    '''\n",
    "\n",
    "    #\n",
    "    # Initialize MHW output variable\n",
    "    #\n",
    "\n",
    "    mhw = {}\n",
    "    mhw['time_start'] = [] # datetime format\n",
    "    mhw['time_end'] = [] # datetime format\n",
    "    mhw['time_peak'] = [] # datetime format\n",
    "    mhw['date_start'] = [] # datetime format\n",
    "    mhw['date_end'] = [] # datetime format\n",
    "    mhw['date_peak'] = [] # datetime format\n",
    "    mhw['index_start'] = []\n",
    "    mhw['index_end'] = []\n",
    "    mhw['index_peak'] = []\n",
    "    mhw['duration'] = [] # [days]\n",
    "    mhw['duration_moderate'] = [] # [days]\n",
    "    mhw['duration_strong'] = [] # [days]\n",
    "    mhw['duration_severe'] = [] # [days]\n",
    "    mhw['duration_extreme'] = [] # [days]\n",
    "    mhw['intensity_max'] = [] # [deg C]\n",
    "    mhw['intensity_mean'] = [] # [deg C]\n",
    "    mhw['intensity_var'] = [] # [deg C]\n",
    "    mhw['intensity_cumulative'] = [] # [deg C]\n",
    "    mhw['intensity_max_relThresh'] = [] # [deg C]\n",
    "    mhw['intensity_mean_relThresh'] = [] # [deg C]\n",
    "    mhw['intensity_var_relThresh'] = [] # [deg C]\n",
    "    mhw['intensity_cumulative_relThresh'] = [] # [deg C]\n",
    "    mhw['intensity_max_abs'] = [] # [deg C]\n",
    "    mhw['intensity_mean_abs'] = [] # [deg C]\n",
    "    mhw['intensity_var_abs'] = [] # [deg C]\n",
    "    mhw['intensity_cumulative_abs'] = [] # [deg C]\n",
    "    mhw['category'] = []\n",
    "    mhw['rate_onset'] = [] # [deg C / day]\n",
    "    mhw['rate_decline'] = [] # [deg C / day]\n",
    "\n",
    "    #\n",
    "    # Time and dates vectors\n",
    "    #\n",
    "\n",
    "    # Generate vectors for year, month, day-of-month, and day-of-year\n",
    "    T = len(t)\n",
    "    year = np.zeros((T))\n",
    "    month = np.zeros((T))\n",
    "    day = np.zeros((T))\n",
    "    doy = np.zeros((T))\n",
    "    for i in range(T):\n",
    "        year[i] = date.fromordinal(t[i]).year\n",
    "        month[i] = date.fromordinal(t[i]).month\n",
    "        day[i] = date.fromordinal(t[i]).day\n",
    "    # Leap-year baseline for defining day-of-year values\n",
    "    year_leapYear = 2012 # This year was a leap-year and therefore doy in range of 1 to 366\n",
    "    t_leapYear = np.arange(date(year_leapYear, 1, 1).toordinal(),date(year_leapYear, 12, 31).toordinal()+1)\n",
    "    dates_leapYear = [date.fromordinal(tt.astype(int)) for tt in t_leapYear]\n",
    "    month_leapYear = np.zeros((len(t_leapYear)))\n",
    "    day_leapYear = np.zeros((len(t_leapYear)))\n",
    "    doy_leapYear = np.zeros((len(t_leapYear)))\n",
    "    for tt in range(len(t_leapYear)):\n",
    "        month_leapYear[tt] = date.fromordinal(t_leapYear[tt]).month\n",
    "        day_leapYear[tt] = date.fromordinal(t_leapYear[tt]).day\n",
    "        doy_leapYear[tt] = t_leapYear[tt] - date(date.fromordinal(t_leapYear[tt]).year,1,1).toordinal() + 1\n",
    "        \n",
    "    # Calculate day-of-year values\n",
    "    for tt in range(T):\n",
    "        doy[tt] = doy_leapYear[(month_leapYear == month[tt]) * (day_leapYear == day[tt])]\n",
    "\n",
    "    # Constants (doy values for Feb-28 and Feb-29) for handling leap-years\n",
    "    feb28 = 59\n",
    "    feb29 = 60\n",
    "\n",
    "    # Set climatology period, if unset use full range of available data\n",
    "    if (climatologyPeriod[0] is None) or (climatologyPeriod[1] is None):\n",
    "        climatologyPeriod[0] = year[0]\n",
    "        climatologyPeriod[1] = year[-1]\n",
    "\n",
    "    #\n",
    "    # Calculate threshold and seasonal climatology (varying with day-of-year)\n",
    "    #\n",
    "\n",
    "    # if alternate temperature time series is supplied for the calculation of the climatology\n",
    "    if alternateClimatology:\n",
    "        tClim = alternateClimatology[0]\n",
    "        tempClim = alternateClimatology[1]\n",
    "        TClim = len(tClim)\n",
    "        yearClim = np.zeros((TClim))\n",
    "        monthClim = np.zeros((TClim))\n",
    "        dayClim = np.zeros((TClim))\n",
    "        doyClim = np.zeros((TClim))\n",
    "        for i in range(TClim):\n",
    "            yearClim[i] = date.fromordinal(tClim[i]).year\n",
    "            monthClim[i] = date.fromordinal(tClim[i]).month\n",
    "            dayClim[i] = date.fromordinal(tClim[i]).day\n",
    "            doyClim[i] = doy_leapYear[(month_leapYear == monthClim[i]) * (day_leapYear == dayClim[i])]\n",
    "    else:\n",
    "        tempClim = temp.copy()\n",
    "        TClim = np.array([T]).copy()[0]\n",
    "        yearClim = year.copy()\n",
    "        monthClim = month.copy()\n",
    "        dayClim = day.copy()\n",
    "        doyClim = doy.copy()\n",
    "\n",
    "    # Flip temp time series if detecting cold spells\n",
    "    if coldSpells:\n",
    "        temp = -1.*temp\n",
    "        tempClim = -1.*tempClim\n",
    "\n",
    "    # Pad missing values for all consecutive missing blocks of length <= maxPadLength\n",
    "    if maxPadLength:\n",
    "        temp = pad(temp, maxPadLength=maxPadLength)\n",
    "        tempClim = pad(tempClim, maxPadLength=maxPadLength)\n",
    "\n",
    "    # Length of climatological year\n",
    "    lenClimYear = 366\n",
    "    # Start and end indices\n",
    "    clim_start = np.where(yearClim == climatologyPeriod[0])[0][0]\n",
    "    clim_end = np.where(yearClim == climatologyPeriod[1])[0][-1]\n",
    "    # Inialize arrays\n",
    "    thresh_climYear = np.NaN*np.zeros(lenClimYear)\n",
    "    seas_climYear = np.NaN*np.zeros(lenClimYear)\n",
    "    clim = {}\n",
    "    clim['thresh'] = np.NaN*np.zeros(TClim)\n",
    "    clim['seas'] = np.NaN*np.zeros(TClim)\n",
    "    # Loop over all day-of-year values, and calculate threshold and seasonal climatology across years\n",
    "    for d in range(1,lenClimYear+1):\n",
    "        # Special case for Feb 29\n",
    "        if d == feb29:\n",
    "            continue\n",
    "        # find all indices for each day of the year +/- windowHalfWidth and from them calculate the threshold\n",
    "        tt0 = np.where(doyClim[clim_start:clim_end+1] == d)[0] \n",
    "        # If this doy value does not exist (i.e. in 360-day calendars) then skip it\n",
    "        if len(tt0) == 0:\n",
    "            continue\n",
    "        tt = np.array([])\n",
    "        for w in range(-windowHalfWidth, windowHalfWidth+1):\n",
    "            tt = np.append(tt, clim_start+tt0 + w)\n",
    "        tt = tt[tt>=0] # Reject indices \"before\" the first element\n",
    "        tt = tt[tt<TClim] # Reject indices \"after\" the last element\n",
    "        thresh_climYear[d-1] = np.nanpercentile(tempClim[tt.astype(int)], pctile)\n",
    "        seas_climYear[d-1] = np.nanmean(tempClim[tt.astype(int)])\n",
    "    # Special case for Feb 29\n",
    "    thresh_climYear[feb29-1] = 0.5*thresh_climYear[feb29-2] + 0.5*thresh_climYear[feb29]\n",
    "    seas_climYear[feb29-1] = 0.5*seas_climYear[feb29-2] + 0.5*seas_climYear[feb29]\n",
    "\n",
    "    # Smooth if desired\n",
    "    if smoothPercentile:\n",
    "        # If the length of year is < 365/366 (e.g. a 360 day year from a Climate Model)\n",
    "        if Ly:\n",
    "            valid = ~np.isnan(thresh_climYear)\n",
    "            thresh_climYear[valid] = runavg(thresh_climYear[valid], smoothPercentileWidth)\n",
    "            valid = ~np.isnan(seas_climYear)\n",
    "            seas_climYear[valid] = runavg(seas_climYear[valid], smoothPercentileWidth)\n",
    "        # >= 365-day year\n",
    "        else:\n",
    "            thresh_climYear = runavg(thresh_climYear, smoothPercentileWidth)\n",
    "            seas_climYear = runavg(seas_climYear, smoothPercentileWidth)\n",
    "\n",
    "    # Generate threshold for full time series\n",
    "    clim['thresh'] = thresh_climYear[doy.astype(int)-1]\n",
    "    clim['seas'] = seas_climYear[doy.astype(int)-1]\n",
    "\n",
    "    # Save vector indicating which points in temp are missing values\n",
    "    clim['missing'] = np.isnan(temp)\n",
    "    # Set all remaining missing temp values equal to the climatology\n",
    "    temp[np.isnan(temp)] = clim['seas'][np.isnan(temp)]\n",
    "\n",
    "    #\n",
    "    # Find MHWs as exceedances above the threshold\n",
    "    #\n",
    "\n",
    "    # Time series of \"True\" when threshold is exceeded, \"False\" otherwise\n",
    "    exceed_bool = temp - clim['thresh']\n",
    "    exceed_bool[exceed_bool<=0] = False\n",
    "    exceed_bool[exceed_bool>0] = True\n",
    "    # Fix issue where missing temp vaues (nan) are counted as True\n",
    "    exceed_bool[np.isnan(exceed_bool)] = False\n",
    "    # Find contiguous regions of exceed_bool = True\n",
    "    events, n_events = ndimage.label(exceed_bool)\n",
    "\n",
    "    # Find all MHW events of duration >= minDuration\n",
    "    for ev in range(1,n_events+1):\n",
    "        event_duration = (events == ev).sum()\n",
    "        if event_duration < minDuration:\n",
    "            continue\n",
    "        mhw['time_start'].append(t[np.where(events == ev)[0][0]])\n",
    "        mhw['time_end'].append(t[np.where(events == ev)[0][-1]])\n",
    "\n",
    "    # Link heat waves that occur before and after a short gap (gap must be no longer than maxGap)\n",
    "    if joinAcrossGaps:\n",
    "        # Calculate gap length for each consecutive pair of events\n",
    "        gaps = np.array(mhw['time_start'][1:]) - np.array(mhw['time_end'][0:-1]) - 1\n",
    "        if len(gaps) > 0:\n",
    "            while gaps.min() <= maxGap:\n",
    "                # Find first short gap\n",
    "                ev = np.where(gaps <= maxGap)[0][0]\n",
    "                # Extend first MHW to encompass second MHW (including gap)\n",
    "                mhw['time_end'][ev] = mhw['time_end'][ev+1]\n",
    "                # Remove second event from record\n",
    "                del mhw['time_start'][ev+1]\n",
    "                del mhw['time_end'][ev+1]\n",
    "                # Calculate gap length for each consecutive pair of events\n",
    "                gaps = np.array(mhw['time_start'][1:]) - np.array(mhw['time_end'][0:-1]) - 1\n",
    "                if len(gaps) == 0:\n",
    "                    break\n",
    "\n",
    "    # Calculate marine heat wave properties\n",
    "    mhw['n_events'] = len(mhw['time_start'])\n",
    "    categories = np.array(['Moderate', 'Strong', 'Severe', 'Extreme'])\n",
    "    for ev in range(mhw['n_events']):\n",
    "        mhw['date_start'].append(date.fromordinal(mhw['time_start'][ev]))\n",
    "        mhw['date_end'].append(date.fromordinal(mhw['time_end'][ev]))\n",
    "        # Get SST series during MHW event, relative to both threshold and to seasonal climatology\n",
    "        tt_start = np.where(t==mhw['time_start'][ev])[0][0]\n",
    "        tt_end = np.where(t==mhw['time_end'][ev])[0][0]\n",
    "        mhw['index_start'].append(tt_start)\n",
    "        mhw['index_end'].append(tt_end)\n",
    "        temp_mhw = temp[tt_start:tt_end+1]\n",
    "        thresh_mhw = clim['thresh'][tt_start:tt_end+1]\n",
    "        seas_mhw = clim['seas'][tt_start:tt_end+1]\n",
    "        mhw_relSeas = temp_mhw - seas_mhw\n",
    "        mhw_relThresh = temp_mhw - thresh_mhw\n",
    "        mhw_relThreshNorm = (temp_mhw - thresh_mhw) / (thresh_mhw - seas_mhw)\n",
    "        mhw_abs = temp_mhw\n",
    "        # Find peak\n",
    "        tt_peak = np.argmax(mhw_relSeas)\n",
    "        mhw['time_peak'].append(mhw['time_start'][ev] + tt_peak)\n",
    "        mhw['date_peak'].append(date.fromordinal(mhw['time_start'][ev] + tt_peak))\n",
    "        mhw['index_peak'].append(tt_start + tt_peak)\n",
    "        # MHW Duration\n",
    "        mhw['duration'].append(len(mhw_relSeas))\n",
    "        # MHW Intensity metrics\n",
    "        mhw['intensity_max'].append(mhw_relSeas[tt_peak])\n",
    "        mhw['intensity_mean'].append(mhw_relSeas.mean())\n",
    "        mhw['intensity_var'].append(np.sqrt(mhw_relSeas.var()))\n",
    "        mhw['intensity_cumulative'].append(mhw_relSeas.sum())\n",
    "        mhw['intensity_max_relThresh'].append(mhw_relThresh[tt_peak])\n",
    "        mhw['intensity_mean_relThresh'].append(mhw_relThresh.mean())\n",
    "        mhw['intensity_var_relThresh'].append(np.sqrt(mhw_relThresh.var()))\n",
    "        mhw['intensity_cumulative_relThresh'].append(mhw_relThresh.sum())\n",
    "        mhw['intensity_max_abs'].append(mhw_abs[tt_peak])\n",
    "        mhw['intensity_mean_abs'].append(mhw_abs.mean())\n",
    "        mhw['intensity_var_abs'].append(np.sqrt(mhw_abs.var()))\n",
    "        mhw['intensity_cumulative_abs'].append(mhw_abs.sum())\n",
    "        # Fix categories\n",
    "        tt_peakCat = np.argmax(mhw_relThreshNorm)\n",
    "        cats = np.floor(1. + mhw_relThreshNorm)\n",
    "        mhw['category'].append(categories[np.min([cats[tt_peakCat], 4]).astype(int) - 1])\n",
    "        mhw['duration_moderate'].append(np.sum(cats == 1.))\n",
    "        mhw['duration_strong'].append(np.sum(cats == 2.))\n",
    "        mhw['duration_severe'].append(np.sum(cats == 3.))\n",
    "        mhw['duration_extreme'].append(np.sum(cats >= 4.))\n",
    "        \n",
    "        # Rates of onset and decline\n",
    "        # Requires getting MHW strength at \"start\" and \"end\" of event (continuous: assume start/end half-day before/after first/last point)\n",
    "        if tt_start > 0:\n",
    "            mhw_relSeas_start = 0.5*(mhw_relSeas[0] + temp[tt_start-1] - clim['seas'][tt_start-1])\n",
    "            mhw['rate_onset'].append((mhw_relSeas[tt_peak] - mhw_relSeas_start) / (tt_peak+0.5))\n",
    "        else: # MHW starts at beginning of time series\n",
    "            if tt_peak == 0: # Peak is also at begining of time series, assume onset time = 1 day\n",
    "                mhw['rate_onset'].append((mhw_relSeas[tt_peak] - mhw_relSeas[0]) / 1.)\n",
    "            else:\n",
    "                mhw['rate_onset'].append((mhw_relSeas[tt_peak] - mhw_relSeas[0]) / tt_peak)\n",
    "        if tt_end < T-1:\n",
    "            mhw_relSeas_end = 0.5*(mhw_relSeas[-1] + temp[tt_end+1] - clim['seas'][tt_end+1])\n",
    "            mhw['rate_decline'].append((mhw_relSeas[tt_peak] - mhw_relSeas_end) / (tt_end-tt_start-tt_peak+0.5))\n",
    "        else: # MHW finishes at end of time series\n",
    "            if tt_peak == T-1: # Peak is also at end of time series, assume decline time = 1 day\n",
    "                mhw['rate_decline'].append((mhw_relSeas[tt_peak] - mhw_relSeas[-1]) / 1.)\n",
    "            else:\n",
    "                mhw['rate_decline'].append((mhw_relSeas[tt_peak] - mhw_relSeas[-1]) / (tt_end-tt_start-tt_peak))\n",
    "\n",
    "    # Flip climatology and intensties in case of cold spell detection\n",
    "    if coldSpells:\n",
    "        clim['seas'] = -1.*clim['seas']\n",
    "        clim['thresh'] = -1.*clim['thresh']\n",
    "        for ev in range(len(mhw['intensity_max'])):\n",
    "            mhw['intensity_max'][ev] = -1.*mhw['intensity_max'][ev]\n",
    "            mhw['intensity_mean'][ev] = -1.*mhw['intensity_mean'][ev]\n",
    "            mhw['intensity_cumulative'][ev] = -1.*mhw['intensity_cumulative'][ev]\n",
    "            mhw['intensity_max_relThresh'][ev] = -1.*mhw['intensity_max_relThresh'][ev]\n",
    "            mhw['intensity_mean_relThresh'][ev] = -1.*mhw['intensity_mean_relThresh'][ev]\n",
    "            mhw['intensity_cumulative_relThresh'][ev] = -1.*mhw['intensity_cumulative_relThresh'][ev]\n",
    "            mhw['intensity_max_abs'][ev] = -1.*mhw['intensity_max_abs'][ev]\n",
    "            mhw['intensity_mean_abs'][ev] = -1.*mhw['intensity_mean_abs'][ev]\n",
    "            mhw['intensity_cumulative_abs'][ev] = -1.*mhw['intensity_cumulative_abs'][ev]\n",
    "\n",
    "    return mhw, clim\n",
    "\n",
    "\n",
    "def blockAverage(t, mhw, clim=None, blockLength=1, removeMissing=False, temp=None):\n",
    "    '''\n",
    "    Calculate statistics of marine heatwave (MHW) properties averaged over blocks of\n",
    "    a specified length of time. Takes as input a collection of detected MHWs\n",
    "    (using the marineHeatWaves.detect function) and a time vector for the source\n",
    "    SST series.\n",
    "    Inputs:\n",
    "      t       Time vector, in datetime format (e.g., date(1982,1,1).toordinal())\n",
    "      mhw     Marine heat waves (MHWs) detected using marineHeatWaves.detect\n",
    "    Outputs:\n",
    "      mhwBlock   Time series of block-averaged MHW properties. Each key (following list)\n",
    "                 is a list of length N where N is the number of blocks:\n",
    " \n",
    "        'years_start'          Start year blocks (inclusive)\n",
    "        'years_end'            End year of blocks (inclusive)\n",
    "        'years_centre'         Decimal year at centre of blocks\n",
    "        'count'                Total MHW count in each block\n",
    "        'duration'             Average MHW duration in each block [days]\n",
    "        'intensity_max'        Average MHW \"maximum (peak) intensity\" in each block [deg. C]\n",
    "        'intensity_max_max'    Maximum MHW \"maximum (peak) intensity\" in each block [deg. C]\n",
    "        'intensity_mean'       Average MHW \"mean intensity\" in each block [deg. C]\n",
    "        'intensity_var'        Average MHW \"intensity variability\" in each block [deg. C]\n",
    "        'intensity_cumulative' Average MHW \"cumulative intensity\" in each block [deg. C x days]\n",
    "        'rate_onset'           Average MHW onset rate in each block [deg. C / days]\n",
    "        'rate_decline'         Average MHW decline rate in each block [deg. C / days]\n",
    "        'total_days'           Total number of MHW days in each block [days]\n",
    "        'total_icum'           Total cumulative intensity over all MHWs in each block [deg. C x days]\n",
    "        'intensity_max_relThresh', 'intensity_mean_relThresh', 'intensity_var_relThresh', \n",
    "        and 'intensity_cumulative_relThresh' are as above except relative to the\n",
    "        threshold (e.g., 90th percentile) rather than the seasonal climatology\n",
    "        'intensity_max_abs', 'intensity_mean_abs', 'intensity_var_abs', and\n",
    "        'intensity_cumulative_abs' are as above except as absolute magnitudes\n",
    "        rather than relative to the seasonal climatology or threshold\n",
    "    Options:\n",
    "      blockLength            Size of block (in years) over which to calculate the\n",
    "                             averaged MHW properties. Must be an integer greater than\n",
    "                             or equal to 1 (DEFAULT = 1 [year])\n",
    "      removeMissing          Boolean switch indicating whether to remove (set = NaN)\n",
    "                             statistics for any blocks in which there were missing \n",
    "                             temperature values (DEFAULT = FALSE)\n",
    "      clim                   The temperature climatology (including missing value information)\n",
    "                             as output by marineHeatWaves.detect (required if removeMissing = TRUE)\n",
    "      temp                   Temperature time series. If included mhwBlock will output block\n",
    "                             averages of mean, max, and min temperature (DEFAULT = NONE)\n",
    "                             If both clim and temp are provided, this will output annual counts\n",
    "                             of moderate, strong, severe, and extreme days.\n",
    "    Notes:\n",
    "      This function assumes that the input time vector consists of continuous daily values. Note that\n",
    "      in the case of time ranges which start and end part-way through the calendar year, the block\n",
    "      averages at the endpoints, for which there is less than a block length of data, will need to be\n",
    "      interpreted with care.\n",
    "    Written by Eric Oliver, Institue for Marine and Antarctic Studies, University of Tasmania, Feb-Mar 2015\n",
    "    '''\n",
    "\n",
    "    #\n",
    "    # Time and dates vectors, and calculate block timing\n",
    "    #\n",
    "\n",
    "    # Generate vectors for year, month, day-of-month, and day-of-year\n",
    "    T = len(t)\n",
    "    year = np.zeros((T))\n",
    "    month = np.zeros((T))\n",
    "    day = np.zeros((T))\n",
    "    for i in range(T):\n",
    "        year[i] = date.fromordinal(t[i]).year\n",
    "        month[i] = date.fromordinal(t[i]).month\n",
    "        day[i] = date.fromordinal(t[i]).day\n",
    "\n",
    "    # Number of blocks, round up to include partial blocks at end\n",
    "    years = np.unique(year)\n",
    "    nBlocks = np.ceil((years.max() - years.min() + 1) / blockLength).astype(int)\n",
    "\n",
    "    #\n",
    "    # Temperature time series included?\n",
    "    #\n",
    "\n",
    "    sw_temp = None\n",
    "    sw_cats = None\n",
    "    if temp is not None:\n",
    "        sw_temp = True\n",
    "        if clim is not None:\n",
    "            sw_cats = True\n",
    "        else:\n",
    "            sw_cats = False\n",
    "    else:\n",
    "        sw_temp = False\n",
    "\n",
    "    #\n",
    "    # Initialize MHW output variable\n",
    "    #\n",
    "\n",
    "    mhwBlock = {}\n",
    "    mhwBlock['count'] = np.zeros(nBlocks)\n",
    "    mhwBlock['count'] = np.zeros(nBlocks)\n",
    "    mhwBlock['duration'] = np.zeros(nBlocks)\n",
    "    mhwBlock['intensity_max'] = np.zeros(nBlocks)\n",
    "    mhwBlock['intensity_max_max'] = np.zeros(nBlocks)\n",
    "    mhwBlock['intensity_mean'] = np.zeros(nBlocks)\n",
    "    mhwBlock['intensity_cumulative'] = np.zeros(nBlocks)\n",
    "    mhwBlock['intensity_var'] = np.zeros(nBlocks)\n",
    "    mhwBlock['intensity_max_relThresh'] = np.zeros(nBlocks)\n",
    "    mhwBlock['intensity_mean_relThresh'] = np.zeros(nBlocks)\n",
    "    mhwBlock['intensity_cumulative_relThresh'] = np.zeros(nBlocks)\n",
    "    mhwBlock['intensity_var_relThresh'] = np.zeros(nBlocks)\n",
    "    mhwBlock['intensity_max_abs'] = np.zeros(nBlocks)\n",
    "    mhwBlock['intensity_mean_abs'] = np.zeros(nBlocks)\n",
    "    mhwBlock['intensity_cumulative_abs'] = np.zeros(nBlocks)\n",
    "    mhwBlock['intensity_var_abs'] = np.zeros(nBlocks)\n",
    "    mhwBlock['rate_onset'] = np.zeros(nBlocks)\n",
    "    mhwBlock['rate_decline'] = np.zeros(nBlocks)\n",
    "    mhwBlock['total_days'] = np.zeros(nBlocks)\n",
    "    mhwBlock['total_icum'] = np.zeros(nBlocks)\n",
    "    if sw_temp:\n",
    "        mhwBlock['temp_mean'] = np.zeros(nBlocks)\n",
    "        mhwBlock['temp_max'] = np.zeros(nBlocks)\n",
    "        mhwBlock['temp_min'] = np.zeros(nBlocks)\n",
    "\n",
    "    # Calculate category days\n",
    "    if sw_cats:\n",
    "        mhwBlock['moderate_days'] = np.zeros(nBlocks)\n",
    "        mhwBlock['strong_days'] = np.zeros(nBlocks)\n",
    "        mhwBlock['severe_days'] = np.zeros(nBlocks)\n",
    "        mhwBlock['extreme_days'] = np.zeros(nBlocks)\n",
    "        cats = np.floor(1 + (temp - clim['thresh']) / (clim['thresh'] - clim['seas']))\n",
    "        mhwIndex = np.zeros(t.shape)\n",
    "        for ev in range(mhw['n_events']):\n",
    "            mhwIndex[mhw['index_start'][ev]:mhw['index_end'][ev]+1] = 1.\n",
    "\n",
    "\n",
    "    # Start, end, and centre years for all blocks\n",
    "    mhwBlock['years_start'] = years[range(0, len(years), blockLength)]\n",
    "    mhwBlock['years_end'] = mhwBlock['years_start'] + blockLength - 1\n",
    "    mhwBlock['years_centre'] = 0.5*(mhwBlock['years_start'] + mhwBlock['years_end'])\n",
    "\n",
    "    #\n",
    "    # Calculate block averages\n",
    "    #\n",
    "\n",
    "    for i in range(mhw['n_events']):\n",
    "        # Block index for year of each MHW (MHW year defined by start year)\n",
    "        iBlock = np.where((mhwBlock['years_start'] <= mhw['date_start'][i].year) * (mhwBlock['years_end'] >= mhw['date_start'][i].year))[0][0]\n",
    "        # Add MHW properties to block count\n",
    "        mhwBlock['count'][iBlock] += 1\n",
    "        mhwBlock['duration'][iBlock] += mhw['duration'][i]\n",
    "        mhwBlock['intensity_max'][iBlock] += mhw['intensity_max'][i]\n",
    "        mhwBlock['intensity_max_max'][iBlock] = np.max([mhwBlock['intensity_max_max'][iBlock], mhw['intensity_max'][i]])\n",
    "        mhwBlock['intensity_mean'][iBlock] += mhw['intensity_mean'][i]\n",
    "        mhwBlock['intensity_cumulative'][iBlock] += mhw['intensity_cumulative'][i]\n",
    "        mhwBlock['intensity_var'][iBlock] += mhw['intensity_var'][i]\n",
    "        mhwBlock['intensity_max_relThresh'][iBlock] += mhw['intensity_max_relThresh'][i]\n",
    "        mhwBlock['intensity_mean_relThresh'][iBlock] += mhw['intensity_mean_relThresh'][i]\n",
    "        mhwBlock['intensity_cumulative_relThresh'][iBlock] += mhw['intensity_cumulative_relThresh'][i]\n",
    "        mhwBlock['intensity_var_relThresh'][iBlock] += mhw['intensity_var_relThresh'][i]\n",
    "        mhwBlock['intensity_max_abs'][iBlock] += mhw['intensity_max_abs'][i]\n",
    "        mhwBlock['intensity_mean_abs'][iBlock] += mhw['intensity_mean_abs'][i]\n",
    "        mhwBlock['intensity_cumulative_abs'][iBlock] += mhw['intensity_cumulative_abs'][i]\n",
    "        mhwBlock['intensity_var_abs'][iBlock] += mhw['intensity_var_abs'][i]\n",
    "        mhwBlock['rate_onset'][iBlock] += mhw['rate_onset'][i]\n",
    "        mhwBlock['rate_decline'][iBlock] += mhw['rate_decline'][i]\n",
    "        if mhw['date_start'][i].year == mhw['date_end'][i].year: # MHW in single year\n",
    "            mhwBlock['total_days'][iBlock] += mhw['duration'][i]\n",
    "        else: # MHW spans multiple years\n",
    "            year_mhw = year[mhw['index_start'][i]:mhw['index_end'][i]+1]\n",
    "            for yr_mhw in np.unique(year_mhw):\n",
    "                iBlock = np.where((mhwBlock['years_start'] <= yr_mhw) * (mhwBlock['years_end'] >= yr_mhw))[0][0]\n",
    "                mhwBlock['total_days'][iBlock] += np.sum(year_mhw == yr_mhw)\n",
    "        # NOTE: icum for a MHW is assigned to its start year, even if it spans mult. years\n",
    "        mhwBlock['total_icum'][iBlock] += mhw['intensity_cumulative'][i]\n",
    "\n",
    "    # Calculation of category days\n",
    "    if sw_cats:\n",
    "        for i in range(int(nBlocks)):\n",
    "            mhwBlock['moderate_days'][i] = ((year >= mhwBlock['years_start'][i]) * (year <= mhwBlock['years_end'][i]) * mhwIndex * (cats == 1)).astype(int).sum()\n",
    "            mhwBlock['strong_days'][i] = ((year >= mhwBlock['years_start'][i]) * (year <= mhwBlock['years_end'][i]) * mhwIndex * (cats == 2)).astype(int).sum()\n",
    "            mhwBlock['severe_days'][i] = ((year >= mhwBlock['years_start'][i]) * (year <= mhwBlock['years_end'][i]) * mhwIndex * (cats == 3)).astype(int).sum()\n",
    "            mhwBlock['extreme_days'][i] = ((year >= mhwBlock['years_start'][i]) * (year <= mhwBlock['years_end'][i]) * mhwIndex * (cats >= 4)).astype(int).sum()\n",
    "\n",
    "    # Calculate averages\n",
    "    count = 1.*mhwBlock['count']\n",
    "    count[count==0] = np.nan\n",
    "    mhwBlock['duration'] = mhwBlock['duration'] / count\n",
    "    mhwBlock['intensity_max'] = mhwBlock['intensity_max'] / count\n",
    "    mhwBlock['intensity_mean'] = mhwBlock['intensity_mean'] / count\n",
    "    mhwBlock['intensity_cumulative'] = mhwBlock['intensity_cumulative'] / count\n",
    "    mhwBlock['intensity_var'] = mhwBlock['intensity_var'] / count\n",
    "    mhwBlock['intensity_max_relThresh'] = mhwBlock['intensity_max_relThresh'] / count\n",
    "    mhwBlock['intensity_mean_relThresh'] = mhwBlock['intensity_mean_relThresh'] / count\n",
    "    mhwBlock['intensity_cumulative_relThresh'] = mhwBlock['intensity_cumulative_relThresh'] / count\n",
    "    mhwBlock['intensity_var_relThresh'] = mhwBlock['intensity_var_relThresh'] / count\n",
    "    mhwBlock['intensity_max_abs'] = mhwBlock['intensity_max_abs'] / count\n",
    "    mhwBlock['intensity_mean_abs'] = mhwBlock['intensity_mean_abs'] / count\n",
    "    mhwBlock['intensity_cumulative_abs'] = mhwBlock['intensity_cumulative_abs'] / count\n",
    "    mhwBlock['intensity_var_abs'] = mhwBlock['intensity_var_abs'] / count\n",
    "    mhwBlock['rate_onset'] = mhwBlock['rate_onset'] / count\n",
    "    mhwBlock['rate_decline'] = mhwBlock['rate_decline'] / count\n",
    "    # Replace empty years in intensity_max_max\n",
    "    mhwBlock['intensity_max_max'][np.isnan(mhwBlock['intensity_max'])] = np.nan\n",
    "\n",
    "    # Temperature series\n",
    "    if sw_temp:\n",
    "        for i in range(int(nBlocks)):\n",
    "            tt = (year >= mhwBlock['years_start'][i]) * (year <= mhwBlock['years_end'][i])\n",
    "            mhwBlock['temp_mean'][i] = np.nanmean(temp[tt])\n",
    "            mhwBlock['temp_max'][i] = np.nanmax(temp[tt])\n",
    "            mhwBlock['temp_min'][i] = np.nanmin(temp[tt])\n",
    "\n",
    "    #\n",
    "    # Remove years with missing values\n",
    "    #\n",
    "\n",
    "    if removeMissing:\n",
    "        missingYears = np.unique(year[np.where(clim['missing'])[0]])\n",
    "        for y in range(len(missingYears)):\n",
    "            iMissing = np.where((mhwBlock['years_start'] <= missingYears[y]) * (mhwBlock['years_end'] >= missingYears[y]))[0][0]\n",
    "            mhwBlock['count'][iMissing] = np.nan\n",
    "            mhwBlock['duration'][iMissing] = np.nan\n",
    "            mhwBlock['intensity_max'][iMissing] = np.nan\n",
    "            mhwBlock['intensity_max_max'][iMissing] = np.nan\n",
    "            mhwBlock['intensity_mean'][iMissing] = np.nan\n",
    "            mhwBlock['intensity_cumulative'][iMissing] = np.nan\n",
    "            mhwBlock['intensity_var'][iMissing] = np.nan\n",
    "            mhwBlock['intensity_max_relThresh'][iMissing] = np.nan\n",
    "            mhwBlock['intensity_mean_relThresh'][iMissing] = np.nan\n",
    "            mhwBlock['intensity_cumulative_relThresh'][iMissing] = np.nan\n",
    "            mhwBlock['intensity_var_relThresh'][iMissing] = np.nan\n",
    "            mhwBlock['intensity_max_abs'][iMissing] = np.nan\n",
    "            mhwBlock['intensity_mean_abs'][iMissing] = np.nan\n",
    "            mhwBlock['intensity_cumulative_abs'][iMissing] = np.nan\n",
    "            mhwBlock['intensity_var_abs'][iMissing] = np.nan\n",
    "            mhwBlock['rate_onset'][iMissing] = np.nan\n",
    "            mhwBlock['rate_decline'][iMissing] = np.nan\n",
    "            mhwBlock['total_days'][iMissing] = np.nan\n",
    "            if sw_cats:\n",
    "                mhwBlock['moderate_days'][iMissing] = np.nan\n",
    "                mhwBlock['strong_days'][iMissing] = np.nan\n",
    "                mhwBlock['severe_days'][iMissing] = np.nan\n",
    "                mhwBlock['extreme_days'][iMissing] = np.nan\n",
    "            mhwBlock['total_icum'][iMissing] = np.nan\n",
    "\n",
    "    return mhwBlock\n",
    "\n",
    "\n",
    "def meanTrend(mhwBlock, alpha=0.05):\n",
    "    '''\n",
    "    Calculates the mean and trend of marine heatwave (MHW) properties. Takes as input a\n",
    "    collection of block-averaged MHW properties (using the marineHeatWaves.blockAverage\n",
    "    function). Handles missing values (which should be specified by NaNs).\n",
    "    Inputs:\n",
    "      mhwBlock      Time series of block-averaged MHW statistics calculated using the\n",
    "                    marineHeatWaves.blockAverage function\n",
    "      alpha         Significance level for estimate of confidence limits on trend, e.g.,\n",
    "                    alpha = 0.05 for 5% significance (or 95% confidence) (DEFAULT = 0.05)\n",
    "    Outputs:\n",
    "      mean          Mean of all MHW properties over all block-averaged values\n",
    "      trend         Linear trend of all MHW properties over all block-averaged values\n",
    "      dtrend        One-sided width of (1-alpha)% confidence intevfal on linear trend,\n",
    "                    i.e., trend lies within (trend-dtrend, trend+dtrend) with specified\n",
    "                    level  of confidence.\n",
    "                    Both mean and trend have the following keys, the units the trend\n",
    "                    are the units of the property of interest per year:\n",
    "        'duration'             Duration of MHW [days]\n",
    "        'intensity_max'        Maximum (peak) intensity [deg. C]\n",
    "        'intensity_mean'       Mean intensity [deg. C]\n",
    "        'intensity_var'        Intensity variability [deg. C]\n",
    "        'intensity_cumulative' Cumulative intensity [deg. C x days]\n",
    "        'rate_onset'           Onset rate of MHW [deg. C / days]\n",
    "        'rate_decline'         Decline rate of MHW [deg. C / days]\n",
    "        'intensity_max_relThresh', 'intensity_mean_relThresh', 'intensity_var_relThresh', \n",
    "        and 'intensity_cumulative_relThresh' are as above except relative to the\n",
    "        threshold (e.g., 90th percentile) rather than the seasonal climatology\n",
    "        'intensity_max_abs', 'intensity_mean_abs', 'intensity_var_abs', and\n",
    "        'intensity_cumulative_abs' are as above except as absolute magnitudes\n",
    "        rather than relative to the seasonal climatology or threshold\n",
    "    Notes:\n",
    "      This calculation performs a multiple linear regression of the form\n",
    "        y ~ beta * X + eps\n",
    "      where y is the MHW property of interest and X is a matrix of predictors. The first\n",
    "      column of X is all ones to estimate the mean, the second column is the time vector\n",
    "      which is taken as mhwBlock['years_centre'] and offset to be equal to zero at its\n",
    "      mid-point.\n",
    "    Written by Eric Oliver, Institue for Marine and Antarctic Studies, University of Tasmania, Feb-Mar 2015\n",
    "    '''\n",
    "\n",
    "    # Initialize mean and trend dictionaries\n",
    "    mean = {}\n",
    "    trend = {}\n",
    "    dtrend = {}\n",
    "\n",
    "    # Construct matrix of predictors, first column is all ones to estimate the mean,\n",
    "    # second column is the time vector, equal to zero at mid-point.\n",
    "    t = mhwBlock['years_centre']\n",
    "    X = np.array([np.ones(t.shape), t-t.mean()]).T\n",
    "\n",
    "    # Loop over all keys in mhwBlock\n",
    "    for key in mhwBlock.keys():\n",
    "        # Skip time-vector keys of mhwBlock\n",
    "        if (key == 'years_centre') + (key == 'years_end') + (key == 'years_start'):\n",
    "            continue\n",
    "\n",
    "        # Predictand (MHW property of interest)\n",
    "        y = mhwBlock[key]\n",
    "        valid = ~np.isnan(y) # non-NaN indices\n",
    "\n",
    "        # Perform linear regression over valid indices\n",
    "        if np.isinf(nonans(y).sum()): # If contains Inf values\n",
    "            beta = [np.nan, np.nan]\n",
    "        elif np.sum(~np.isnan(y)) > 0: # If at least one non-NaN value\n",
    "            beta = linalg.lstsq(X[valid,:], y[valid])[0]\n",
    "        else:\n",
    "            beta = [np.nan, np.nan]\n",
    "\n",
    "        # Insert regression coefficients into mean and trend dictionaries\n",
    "        mean[key] = beta[0]\n",
    "        trend[key] = beta[1]\n",
    "\n",
    "        # Confidence limits on trend\n",
    "        yhat = np.sum(beta*X, axis=1)\n",
    "        t_stat = stats.t.isf(alpha/2, len(t[valid])-2)\n",
    "        s = np.sqrt(np.sum((y[valid] - yhat[valid])**2) / (len(t[valid])-2))\n",
    "        Sxx = np.sum(X[valid,1]**2) - (np.sum(X[valid,1])**2)/len(t[valid]) # np.var(X, axis=1)[1]\n",
    "        dbeta1 = t_stat * s / np.sqrt(Sxx)\n",
    "        dtrend[key] = dbeta1\n",
    "\n",
    "    # Return mean, trend\n",
    "    return mean, trend, dtrend\n",
    "\n",
    "\n",
    "def rank(t, mhw):\n",
    "    '''\n",
    "    Calculate the rank and return periods of marine heatwaves (MHWs) according to\n",
    "    each metric. Takes as input a collection of detected MHWs (using the\n",
    "    marineHeatWaves.detect function) and a time vector for the source SST series.\n",
    "    Inputs:\n",
    "      t       Time vector, in datetime format (e.g., date(1982,1,1).toordinal())\n",
    "      mhw     Marine heat waves (MHWs) detected using marineHeatWaves.detect\n",
    "    Outputs:\n",
    "      rank          The rank of each MHW according to each MHW property. A rank of 1 is the\n",
    "                    largest, 2 is the 2nd largest, etc. Each key (listed below) is a list\n",
    "                    of length N where N is the number of MHWs.\n",
    "      returnPeriod  The return period (in years) of each MHW according to each MHW property.\n",
    "                    The return period signifies, statistically, the recurrence interval for\n",
    "                    an event at least as large/long as the event in quetion. Each key (listed\n",
    "                    below) is a list of length N where N is the number of MHWs.\n",
    " \n",
    "        'duration'             Average MHW duration in each block [days]\n",
    "        'intensity_max'        Average MHW \"maximum (peak) intensity\" in each block [deg. C]\n",
    "        'intensity_mean'       Average MHW \"mean intensity\" in each block [deg. C]\n",
    "        'intensity_var'        Average MHW \"intensity variability\" in each block [deg. C]\n",
    "        'intensity_cumulative' Average MHW \"cumulative intensity\" in each block [deg. C x days]\n",
    "        'rate_onset'           Average MHW onset rate in each block [deg. C / days]\n",
    "        'rate_decline'         Average MHW decline rate in each block [deg. C / days]\n",
    "        'total_days'           Total number of MHW days in each block [days]\n",
    "        'total_icum'           Total cumulative intensity over all MHWs in each block [deg. C x days]\n",
    "        'intensity_max_relThresh', 'intensity_mean_relThresh', 'intensity_var_relThresh', \n",
    "        and 'intensity_cumulative_relThresh' are as above except relative to the\n",
    "        threshold (e.g., 90th percentile) rather than the seasonal climatology\n",
    "        'intensity_max_abs', 'intensity_mean_abs', 'intensity_var_abs', and\n",
    "        'intensity_cumulative_abs' are as above except as absolute magnitudes\n",
    "        rather than relative to the seasonal climatology or threshold\n",
    "    Notes:\n",
    "      This function assumes that the MHWs were calculated over a suitably long record that return\n",
    "      periods make sense. If the record length is a few years or less than this becomes meaningless.\n",
    "    Written by Eric Oliver, Institue for Marine and Antarctic Studies, University of Tasmania, Sep 2015\n",
    "    '''\n",
    "\n",
    "    # Initialize rank and return period dictionaries\n",
    "    rank = {}\n",
    "    returnPeriod = {}\n",
    "\n",
    "    # Number of years on record\n",
    "    nYears = len(t)/365.25\n",
    "\n",
    "    # Loop over all keys in mhw\n",
    "    for key in mhw.keys():\n",
    "        # Skip irrelevant keys of mhw, only calculate rank/returns for MHW properties\n",
    "        if (key == 'date_end') + (key == 'date_peak') + (key == 'date_start') + (key == 'date_end') + (key == 'date_peak') + (key == 'date_start') + (key == 'index_end') + (key == 'index_peak') + (key == 'index_start') + (key == 'n_events'):\n",
    "            continue\n",
    "\n",
    "        # Calculate ranks\n",
    "        rank[key] = mhw['n_events'] - np.array(mhw[key]).argsort().argsort()  \n",
    "        # Calculate return period as (# years on record + 1) / (# of occurrences of event)\n",
    "        # Return period is for events of at least the event magnitude/duration\n",
    "        returnPeriod[key] = (nYears + 1) / rank[key]\n",
    "\n",
    "    # Return rank, return\n",
    "    return rank, returnPeriod\n",
    "\n",
    "\n",
    "def runavg(ts, w):\n",
    "    '''\n",
    "    Performs a running average of an input time series using uniform window\n",
    "    of width w. This function assumes that the input time series is periodic.\n",
    "    Inputs:\n",
    "      ts            Time series [1D numpy array]\n",
    "      w             Integer length (must be odd) of running average window\n",
    "    Outputs:\n",
    "      ts_smooth     Smoothed time series\n",
    "    Written by Eric Oliver, Institue for Marine and Antarctic Studies, University of Tasmania, Feb-Mar 2015\n",
    "    '''\n",
    "    # Original length of ts\n",
    "    N = len(ts)\n",
    "    # make ts three-fold periodic\n",
    "    ts = np.append(ts, np.append(ts, ts))\n",
    "    # smooth by convolution with a window of equal weights\n",
    "    ts_smooth = np.convolve(ts, np.ones(w)/w, mode='same')\n",
    "    # Only output central section, of length equal to the original length of ts\n",
    "    ts = ts_smooth[N:2*N]\n",
    "\n",
    "    return ts\n",
    "\n",
    "\n",
    "def pad(data, maxPadLength=False):\n",
    "    '''\n",
    "    Linearly interpolate over missing data (NaNs) in a time series.\n",
    "    Inputs:\n",
    "      data\t     Time series [1D numpy array]\n",
    "      maxPadLength   Specifies the maximum length over which to interpolate,\n",
    "                     i.e., any consecutive blocks of NaNs with length greater\n",
    "                     than maxPadLength will be left as NaN. Set as an integer.\n",
    "                     maxPadLength=False (default) interpolates over all NaNs.\n",
    "    Written by Eric Oliver, Institue for Marine and Antarctic Studies, University of Tasmania, Jun 2015\n",
    "    '''\n",
    "    data_padded = data.copy()\n",
    "    bad_indexes = np.isnan(data)\n",
    "    good_indexes = np.logical_not(bad_indexes)\n",
    "    good_data = data[good_indexes]\n",
    "    interpolated = np.interp(bad_indexes.nonzero()[0], good_indexes.nonzero()[0], good_data)\n",
    "    data_padded[bad_indexes] = interpolated\n",
    "    if maxPadLength:\n",
    "        blocks, n_blocks = ndimage.label(np.isnan(data))\n",
    "        for bl in range(1, n_blocks+1):\n",
    "            if (blocks==bl).sum() > maxPadLength:\n",
    "                data_padded[blocks==bl] = np.nan\n",
    "\n",
    "    return data_padded\n",
    "\n",
    "\n",
    "def nonans(array):\n",
    "    '''\n",
    "    Return input array [1D numpy array] with\n",
    "    all nan values removed\n",
    "    '''\n",
    "    return array[~np.isnan(array)]"
   ]
  },
  {
   "cell_type": "code",
   "execution_count": 3,
   "id": "f02347e9",
   "metadata": {},
   "outputs": [
    {
     "data": {
      "image/png": "[encoded data removed]",
      "text/plain": [
       "<Figure size 432x288 with 2 Axes>"
      ]
     },
     "metadata": {
      "needs_background": "light"
     },
     "output_type": "display_data"
    }
   ],
   "source": [
    "import numpy as np\n",
    "import matplotlib.pyplot as plt\n",
    "\n",
    "# 定义数据\n",
    "data = np.array([[1, 2, 3, 4], [5, 6, 7, 8], [9, 10, 11, 12], [13, 14, 15, 16]])\n",
    "\n",
    "# 绘制热力图\n",
    "plt.imshow(data, cmap='coolwarm', interpolation='nearest')\n",
    "plt.colorbar()\n",
    "plt.show()"
   ]
  },
  {
   "cell_type": "code",
   "execution_count": 5,
   "id": "f4d08c36",
   "metadata": {},
   "outputs": [
    {
     "data": {
      "text/plain": [
       "['target_Nino_data_82_83',\n",
       " 'target_Nino_data_87_88',\n",
       " 'target_Nino_data_97_98',\n",
       " 'target_Nino_data_02_03',\n",
       " 'target_Nino_data_04_05',\n",
       " 'target_Nino_data_09_10',\n",
       " 'target_Nino_data_15_16',\n",
       " 'target_Nino_data_18_19']"
      ]
     },
     "execution_count": 5,
     "metadata": {},
     "output_type": "execute_result"
    }
   ],
   "source": [
    "nino_data2 = np.load(r'D:\\heat_wave\\atlantic\\EINO_NINA_plot\\Nino_data_with_MHW.npz')\n",
    "nino_data2.files"
   ]
  },
  {
   "cell_type": "code",
   "execution_count": 6,
   "id": "64c42d6c",
   "metadata": {},
   "outputs": [],
   "source": [
    "target_Nino_data_82_83 = nino_data2['target_Nino_data_82_83'][:]\n",
    "target_Nino_data_87_88 = nino_data2['target_Nino_data_87_88'][:]\n",
    "target_Nino_data_97_98 = nino_data2['target_Nino_data_97_98'][:]\n",
    "target_Nino_data_02_03 = nino_data2['target_Nino_data_02_03'][:]\n",
    "target_Nino_data_04_05 = nino_data2['target_Nino_data_04_05'][:]\n",
    "target_Nino_data_09_10 = nino_data2['target_Nino_data_09_10'][:]\n",
    "target_Nino_data_15_16 = nino_data2['target_Nino_data_15_16'][:]\n",
    "target_Nino_data_18_19 = nino_data2['target_Nino_data_18_19'][:]"
   ]
  },
  {
   "cell_type": "code",
   "execution_count": 7,
   "id": "3cc8e100",
   "metadata": {},
   "outputs": [
    {
     "data": {
      "text/plain": [
       "(730, 82, 82)"
      ]
     },
     "execution_count": 7,
     "metadata": {},
     "output_type": "execute_result"
    }
   ],
   "source": [
    "data_with_MHW_nino = np.mean([target_Nino_data_82_83, target_Nino_data_87_88,\n",
    "                              target_Nino_data_97_98, target_Nino_data_02_03, \n",
    "                              target_Nino_data_04_05, target_Nino_data_09_10,\n",
    "                              target_Nino_data_15_16,target_Nino_data_18_19], axis = 0)\n",
    "data_with_MHW_nino.shape"
   ]
  },
  {
   "cell_type": "code",
   "execution_count": 8,
   "id": "cef04a47",
   "metadata": {},
   "outputs": [
    {
     "data": {
      "text/plain": [
       "(82, 82)"
      ]
     },
     "execution_count": 8,
     "metadata": {},
     "output_type": "execute_result"
    }
   ],
   "source": [
    "data_with_MHW_nino = np.mean(data_with_MHW_nino, axis = 0)\n",
    "data_with_MHW_nino.shape"
   ]
  },
  {
   "cell_type": "code",
   "execution_count": 24,
   "id": "1d8870b6",
   "metadata": {},
   "outputs": [
    {
     "data": {
      "image/png": "[encoded data removed]",
      "text/plain": [
       "<Figure size 432x288 with 2 Axes>"
      ]
     },
     "metadata": {
      "needs_background": "light"
     },
     "output_type": "display_data"
    }
   ],
   "source": [
    "import matplotlib.colors as colors \n",
    "# cmap = colors.LinearSegmentedColormap.from_list('SST', [(0,'blue'), (0.5,'white'), (1,'red')])\n",
    "# cmap = plt.cm.get_cmap('YlGn')\n",
    "cmap = colors.LinearSegmentedColormap.from_list('SST', [(0,'white'), (0.8,'red'), (1,'orange')])\n",
    "\n",
    "plt.imshow(data_with_MHW_nino, cmap=cmap, interpolation='nearest')\n",
    "plt.colorbar()\n",
    "plt.show()"
   ]
  },
  {
   "cell_type": "code",
   "execution_count": 6,
   "id": "75e1840d",
   "metadata": {},
   "outputs": [
    {
     "name": "stdout",
     "output_type": "stream",
     "text": [
      "-5.6299996\n"
     ]
    }
   ],
   "source": [
    "t = np.arange(date(1982,1,1).toordinal(),date(2021,12,31).toordinal()+1)\n",
    "dates = [date.fromordinal(tt.astype(int)) for tt in t]\n",
    "# Generate synthetic temperature time series\n",
    "\n",
    "data = np.load(r'D:\\heat_wave\\atlantic\\SSTa_82_21_expand_atlantic_area.npz')['anom']\n",
    "# print(data.shape) #(9861, 30, 41, 201)\n",
    "# data = data[:,0,:,:]\n",
    "print(np.min(data))\n",
    "\n",
    "# sst = np.mean(data, axis=(1,2))"
   ]
  },
  {
   "cell_type": "code",
   "execution_count": 27,
   "id": "046f6a6b",
   "metadata": {},
   "outputs": [
    {
     "data": {
      "text/plain": [
       "array([24.67506796, 24.71304955, 24.75075857, ..., 24.55987124,\n",
       "       24.59842202, 24.63684353])"
      ]
     },
     "execution_count": 27,
     "metadata": {},
     "output_type": "execute_result"
    }
   ],
   "source": [
    "mhws, clim = detect(t, sst)\n",
    "clim['seas'].shape\n",
    "data1 = clim['seas']\n",
    "data1"
   ]
  },
  {
   "cell_type": "code",
   "execution_count": 30,
   "id": "94e97cf6",
   "metadata": {},
   "outputs": [
    {
     "data": {
      "text/plain": [
       "53"
      ]
     },
     "execution_count": 30,
     "metadata": {},
     "output_type": "execute_result"
    }
   ],
   "source": [
    "mhws['n_events']"
   ]
  },
  {
   "cell_type": "code",
   "execution_count": 31,
   "id": "b0c2f55a",
   "metadata": {},
   "outputs": [],
   "source": [
    "#春季"
   ]
  },
  {
   "cell_type": "code",
   "execution_count": 9,
   "id": "9b1793bd",
   "metadata": {},
   "outputs": [
    {
     "data": {
      "text/plain": [
       "(11, 82, 82)"
      ]
     },
     "execution_count": 9,
     "metadata": {},
     "output_type": "execute_result"
    }
   ],
   "source": [
    "# n_event --- > 1\n",
    "start_date = np.datetime64('1982-01-01')\n",
    "dates = start_date + np.arange(14610) * np.timedelta64(1, 'D')\n",
    "\n",
    "# 选择特定日期范围的数据\n",
    "start_date_nino_spring_1 = np.datetime64('1983-11-18')\n",
    "end_date_nino_spring_1 = np.datetime64('1983-11-28')\n",
    "start_index_nino_spring_1 = np.where(dates == start_date_nino_spring_1)[0][0]\n",
    "end_index_nino_spring_1 = np.where(dates == end_date_nino_spring_1)[0][0] + 1  # 注意要加 1，因为切片时 end_index 是开区间\n",
    "target_data_nino_spring_1 = data[start_index_nino_spring_1:end_index_nino_spring_1]\n",
    "target_data_nino_spring_1.shape"
   ]
  },
  {
   "cell_type": "code",
   "execution_count": 10,
   "id": "bbf302cb",
   "metadata": {},
   "outputs": [
    {
     "data": {
      "text/plain": [
       "(5, 82, 82)"
      ]
     },
     "execution_count": 10,
     "metadata": {},
     "output_type": "execute_result"
    }
   ],
   "source": [
    "# n_event --- > 2\n",
    "start_date = np.datetime64('1982-01-01')\n",
    "dates = start_date + np.arange(14610) * np.timedelta64(1, 'D')\n",
    "\n",
    "# 选择特定日期范围的数据\n",
    "start_date_nino_spring_2 = np.datetime64('1983-12-15')\n",
    "end_date_nino_spring_2 = np.datetime64('1983-12-19')\n",
    "start_index_nino_spring_2 = np.where(dates == start_date_nino_spring_2)[0][0]\n",
    "end_index_nino_spring_2 = np.where(dates == end_date_nino_spring_2)[0][0] + 1  # 注意要加 1，因为切片时 end_index 是开区间\n",
    "target_data_nino_spring_2 = data[start_index_nino_spring_2:end_index_nino_spring_2]\n",
    "target_data_nino_spring_2.shape"
   ]
  },
  {
   "cell_type": "code",
   "execution_count": 11,
   "id": "a3e50f51",
   "metadata": {},
   "outputs": [
    {
     "data": {
      "text/plain": [
       "(39, 82, 82)"
      ]
     },
     "execution_count": 11,
     "metadata": {},
     "output_type": "execute_result"
    }
   ],
   "source": [
    "# n_event --- > 3\n",
    "start_date = np.datetime64('1982-01-01')\n",
    "dates = start_date + np.arange(14610) * np.timedelta64(1, 'D')\n",
    "\n",
    "# 选择特定日期范围的数据\n",
    "start_date_nino_spring_3 = np.datetime64('1987-10-05')\n",
    "end_date_nino_spring_3 = np.datetime64('1987-11-12')\n",
    "start_index_nino_spring_3 = np.where(dates == start_date_nino_spring_3)[0][0]\n",
    "end_index_nino_spring_3 = np.where(dates == end_date_nino_spring_3)[0][0] + 1  # 注意要加 1，因为切片时 end_index 是开区间\n",
    "target_data_nino_spring_3 = data[start_index_nino_spring_3:end_index_nino_spring_3]\n",
    "target_data_nino_spring_3.shape"
   ]
  },
  {
   "cell_type": "code",
   "execution_count": 12,
   "id": "5337c2ba",
   "metadata": {},
   "outputs": [
    {
     "data": {
      "text/plain": [
       "(26, 82, 82)"
      ]
     },
     "execution_count": 12,
     "metadata": {},
     "output_type": "execute_result"
    }
   ],
   "source": [
    "# n_event --- > 4\n",
    "start_date = np.datetime64('1982-01-01')\n",
    "dates = start_date + np.arange(14610) * np.timedelta64(1, 'D')\n",
    "\n",
    "# 选择特定日期范围的数据\n",
    "start_date_nino_spring_4 = np.datetime64('1987-11-21')\n",
    "end_date_nino_spring_4 = np.datetime64('1987-12-16')\n",
    "start_index_nino_spring_4 = np.where(dates == start_date_nino_spring_4)[0][0]\n",
    "end_index_nino_spring_4 = np.where(dates == end_date_nino_spring_4)[0][0] + 1  # 注意要加 1，因为切片时 end_index 是开区间\n",
    "target_data_nino_spring_4 = data[start_index_nino_spring_4:end_index_nino_spring_4]\n",
    "target_data_nino_spring_4.shape"
   ]
  },
  {
   "cell_type": "code",
   "execution_count": 13,
   "id": "d0fd73b2",
   "metadata": {},
   "outputs": [
    {
     "data": {
      "text/plain": [
       "(6, 82, 82)"
      ]
     },
     "execution_count": 13,
     "metadata": {},
     "output_type": "execute_result"
    }
   ],
   "source": [
    "# n_event --- > 7\n",
    "start_date = np.datetime64('1982-01-01')\n",
    "dates = start_date + np.arange(14610) * np.timedelta64(1, 'D')\n",
    "\n",
    "# 选择特定日期范围的数据\n",
    "start_date_nino_spring_5 = np.datetime64('1989-10-09')\n",
    "end_date_nino_spring_5 = np.datetime64('1989-10-14')\n",
    "start_index_nino_spring_5 = np.where(dates == start_date_nino_spring_5)[0][0]\n",
    "end_index_nino_spring_5 = np.where(dates == end_date_nino_spring_5)[0][0] + 1  # 注意要加 1，因为切片时 end_index 是开区间\n",
    "target_data_nino_spring_5 = data[start_index_nino_spring_5 : end_index_nino_spring_5]\n",
    "target_data_nino_spring_5.shape"
   ]
  },
  {
   "cell_type": "code",
   "execution_count": 14,
   "id": "69f50381",
   "metadata": {},
   "outputs": [
    {
     "data": {
      "text/plain": [
       "(22, 82, 82)"
      ]
     },
     "execution_count": 14,
     "metadata": {},
     "output_type": "execute_result"
    }
   ],
   "source": [
    "# n_event --- > 9\n",
    "start_date = np.datetime64('1982-01-01')\n",
    "dates = start_date + np.arange(14610) * np.timedelta64(1, 'D')\n",
    "\n",
    "# 选择特定日期范围的数据\n",
    "start_date_nino_spring_6 = np.datetime64('1993-09-23')\n",
    "end_date_nino_spring_6 = np.datetime64('1993-10-14')\n",
    "start_index_nino_spring_6 = np.where(dates == start_date_nino_spring_6)[0][0]\n",
    "end_index_nino_spring_6 = np.where(dates == end_date_nino_spring_6)[0][0] + 1  # 注意要加 1，因为切片时 end_index 是开区间\n",
    "target_data_nino_spring_6 = data[start_index_nino_spring_6 : end_index_nino_spring_6]\n",
    "target_data_nino_spring_6.shape"
   ]
  },
  {
   "cell_type": "code",
   "execution_count": 15,
   "id": "645a0a98",
   "metadata": {},
   "outputs": [
    {
     "data": {
      "text/plain": [
       "(7, 82, 82)"
      ]
     },
     "execution_count": 15,
     "metadata": {},
     "output_type": "execute_result"
    }
   ],
   "source": [
    "# n_event --- > 10\n",
    "start_date = np.datetime64('1982-01-01')\n",
    "dates = start_date + np.arange(14610) * np.timedelta64(1, 'D')\n",
    "\n",
    "# 选择特定日期范围的数据\n",
    "start_date_nino_spring_7 = np.datetime64('1993-11-19')\n",
    "end_date_nino_spring_7 = np.datetime64('1993-11-25')\n",
    "start_index_nino_spring_7 = np.where(dates == start_date_nino_spring_7)[0][0]\n",
    "end_index_nino_spring_7 = np.where(dates == end_date_nino_spring_7)[0][0] + 1  # 注意要加 1，因为切片时 end_index 是开区间\n",
    "target_data_nino_spring_7 = data[start_index_nino_spring_7 : end_index_nino_spring_7]\n",
    "target_data_nino_spring_7.shape"
   ]
  },
  {
   "cell_type": "code",
   "execution_count": 16,
   "id": "f5368472",
   "metadata": {},
   "outputs": [
    {
     "data": {
      "text/plain": [
       "(6, 82, 82)"
      ]
     },
     "execution_count": 16,
     "metadata": {},
     "output_type": "execute_result"
    }
   ],
   "source": [
    "# n_event --- > 12\n",
    "start_date = np.datetime64('1982-01-01')\n",
    "dates = start_date + np.arange(14610) * np.timedelta64(1, 'D')\n",
    "\n",
    "# 选择特定日期范围的数据\n",
    "start_date_nino_spring_8 = np.datetime64('1997-11-01')\n",
    "end_date_nino_spring_8 = np.datetime64('1997-11-06')\n",
    "start_index_nino_spring_8 = np.where(dates == start_date_nino_spring_8)[0][0]\n",
    "end_index_nino_spring_8 = np.where(dates == end_date_nino_spring_8)[0][0] + 1  # 注意要加 1，因为切片时 end_index 是开区间\n",
    "target_data_nino_spring_8 = data[start_index_nino_spring_8 : end_index_nino_spring_8]\n",
    "target_data_nino_spring_8.shape"
   ]
  },
  {
   "cell_type": "code",
   "execution_count": 17,
   "id": "b9c19fb8",
   "metadata": {},
   "outputs": [
    {
     "data": {
      "text/plain": [
       "(8, 82, 82)"
      ]
     },
     "execution_count": 17,
     "metadata": {},
     "output_type": "execute_result"
    }
   ],
   "source": [
    "# n_event --- > 13\n",
    "start_date = np.datetime64('1982-01-01')\n",
    "dates = start_date + np.arange(14610) * np.timedelta64(1, 'D')\n",
    "\n",
    "# 选择特定日期范围的数据\n",
    "start_date_nino_spring_9 = np.datetime64('1998-02-25')\n",
    "end_date_nino_spring_9 = np.datetime64('1998-03-04')\n",
    "start_index_nino_spring_9 = np.where(dates == start_date_nino_spring_9)[0][0]\n",
    "end_index_nino_spring_9 = np.where(dates == end_date_nino_spring_9)[0][0] + 1  # 注意要加 1，因为切片时 end_index 是开区间\n",
    "target_data_nino_spring_9 = data[start_index_nino_spring_9 : end_index_nino_spring_9]\n",
    "target_data_nino_spring_9.shape"
   ]
  },
  {
   "cell_type": "code",
   "execution_count": 18,
   "id": "90e9e85a",
   "metadata": {},
   "outputs": [
    {
     "data": {
      "text/plain": [
       "(16, 82, 82)"
      ]
     },
     "execution_count": 18,
     "metadata": {},
     "output_type": "execute_result"
    }
   ],
   "source": [
    "# n_event --- > 17\n",
    "start_date = np.datetime64('1982-01-01')\n",
    "dates = start_date + np.arange(14610) * np.timedelta64(1, 'D')\n",
    "\n",
    "# 选择特定日期范围的数据\n",
    "start_date_nino_spring_10 = np.datetime64('2002-11-24')\n",
    "end_date_nino_spring_10 = np.datetime64('2002-12-09')\n",
    "start_index_nino_spring_10 = np.where(dates == start_date_nino_spring_10)[0][0]\n",
    "end_index_nino_spring_10 = np.where(dates == end_date_nino_spring_10)[0][0] + 1  # 注意要加 1，因为切片时 end_index 是开区间\n",
    "target_data_nino_spring_10 = data[start_index_nino_spring_10 : end_index_nino_spring_10]\n",
    "target_data_nino_spring_10.shape"
   ]
  },
  {
   "cell_type": "code",
   "execution_count": 19,
   "id": "ae4c6d2f",
   "metadata": {},
   "outputs": [
    {
     "data": {
      "text/plain": [
       "(25, 82, 82)"
      ]
     },
     "execution_count": 19,
     "metadata": {},
     "output_type": "execute_result"
    }
   ],
   "source": [
    "# n_event --- > 23\n",
    "start_date = np.datetime64('1982-01-01')\n",
    "dates = start_date + np.arange(14610) * np.timedelta64(1, 'D')\n",
    "\n",
    "# 选择特定日期范围的数据\n",
    "start_date_nino_spring_11 = np.datetime64('2003-10-13')\n",
    "end_date_nino_spring_11 = np.datetime64('2003-11-06')\n",
    "start_index_nino_spring_11 = np.where(dates == start_date_nino_spring_11)[0][0]\n",
    "end_index_nino_spring_11 = np.where(dates == end_date_nino_spring_11)[0][0] + 1  # 注意要加 1，因为切片时 end_index 是开区间\n",
    "target_data_nino_spring_11 = data[start_index_nino_spring_11 : end_index_nino_spring_11]\n",
    "target_data_nino_spring_11.shape"
   ]
  },
  {
   "cell_type": "code",
   "execution_count": 20,
   "id": "eca80628",
   "metadata": {},
   "outputs": [
    {
     "data": {
      "text/plain": [
       "(5, 82, 82)"
      ]
     },
     "execution_count": 20,
     "metadata": {},
     "output_type": "execute_result"
    }
   ],
   "source": [
    "# n_event --- > 23\n",
    "start_date = np.datetime64('1982-01-01')\n",
    "dates = start_date + np.arange(14610) * np.timedelta64(1, 'D')\n",
    "\n",
    "# 选择特定日期范围的数据\n",
    "start_date_nino_spring_12 = np.datetime64('2003-12-11')\n",
    "end_date_nino_spring_12 = np.datetime64('2003-12-15')\n",
    "start_index_nino_spring_12 = np.where(dates == start_date_nino_spring_12)[0][0]\n",
    "end_index_nino_spring_12 = np.where(dates == end_date_nino_spring_12)[0][0] + 1  # 注意要加 1，因为切片时 end_index 是开区间\n",
    "target_data_nino_spring_12 = data[start_index_nino_spring_12 : end_index_nino_spring_12]\n",
    "target_data_nino_spring_12.shape"
   ]
  },
  {
   "cell_type": "code",
   "execution_count": 21,
   "id": "8557d141",
   "metadata": {},
   "outputs": [
    {
     "data": {
      "text/plain": [
       "(81, 82, 82)"
      ]
     },
     "execution_count": 21,
     "metadata": {},
     "output_type": "execute_result"
    }
   ],
   "source": [
    "# n_event --- > 28\n",
    "start_date = np.datetime64('1982-01-01')\n",
    "dates = start_date + np.arange(14610) * np.timedelta64(1, 'D')\n",
    "\n",
    "# 选择特定日期范围的数据\n",
    "start_date_nino_spring_13 = np.datetime64('2009-09-23')\n",
    "end_date_nino_spring_13 = np.datetime64('2009-12-12')\n",
    "start_index_nino_spring_13 = np.where(dates == start_date_nino_spring_13)[0][0]\n",
    "end_index_nino_spring_13 = np.where(dates == end_date_nino_spring_13)[0][0] + 1  # 注意要加 1，因为切片时 end_index 是开区间\n",
    "target_data_nino_spring_13 = data[start_index_nino_spring_13 : end_index_nino_spring_13]\n",
    "target_data_nino_spring_13.shape"
   ]
  },
  {
   "cell_type": "code",
   "execution_count": 22,
   "id": "bb4bc351",
   "metadata": {},
   "outputs": [
    {
     "data": {
      "text/plain": [
       "(10, 82, 82)"
      ]
     },
     "execution_count": 22,
     "metadata": {},
     "output_type": "execute_result"
    }
   ],
   "source": [
    "# n_event --- > 36\n",
    "start_date = np.datetime64('1982-01-01')\n",
    "dates = start_date + np.arange(14610) * np.timedelta64(1, 'D')\n",
    "\n",
    "# 选择特定日期范围的数据\n",
    "start_date_nino_spring_14 = np.datetime64('2015-12-14')\n",
    "end_date_nino_spring_14 = np.datetime64('2015-12-23')\n",
    "start_index_nino_spring_14 = np.where(dates == start_date_nino_spring_14)[0][0]\n",
    "end_index_nino_spring_14 = np.where(dates == end_date_nino_spring_14)[0][0] + 1  # 注意要加 1，因为切片时 end_index 是开区间\n",
    "target_data_nino_spring_14 = data[start_index_nino_spring_14 : end_index_nino_spring_14]\n",
    "target_data_nino_spring_14.shape"
   ]
  },
  {
   "cell_type": "code",
   "execution_count": 23,
   "id": "1a9bfa22",
   "metadata": {},
   "outputs": [
    {
     "data": {
      "text/plain": [
       "(11, 82, 82)"
      ]
     },
     "execution_count": 23,
     "metadata": {},
     "output_type": "execute_result"
    }
   ],
   "source": [
    "# n_event --- > 38\n",
    "start_date = np.datetime64('1982-01-01')\n",
    "dates = start_date + np.arange(14610) * np.timedelta64(1, 'D')\n",
    "\n",
    "# 选择特定日期范围的数据\n",
    "start_date_nino_spring_15 = np.datetime64('2016-09-23')\n",
    "end_date_nino_spring_15 = np.datetime64('2016-10-03')\n",
    "start_index_nino_spring_15 = np.where(dates == start_date_nino_spring_15)[0][0]\n",
    "end_index_nino_spring_15 = np.where(dates == end_date_nino_spring_15)[0][0] + 1  # 注意要加 1，因为切片时 end_index 是开区间\n",
    "target_data_nino_spring_15 = data[start_index_nino_spring_15 : end_index_nino_spring_15]\n",
    "target_data_nino_spring_15.shape"
   ]
  },
  {
   "cell_type": "code",
   "execution_count": 24,
   "id": "d1efcf44",
   "metadata": {},
   "outputs": [
    {
     "data": {
      "text/plain": [
       "(6, 82, 82)"
      ]
     },
     "execution_count": 24,
     "metadata": {},
     "output_type": "execute_result"
    }
   ],
   "source": [
    "# n_event --- > 39\n",
    "start_date = np.datetime64('1982-01-01')\n",
    "dates = start_date + np.arange(14610) * np.timedelta64(1, 'D')\n",
    "\n",
    "# 选择特定日期范围的数据\n",
    "start_date_nino_spring_16 = np.datetime64('2016-10-07')\n",
    "end_date_nino_spring_16 = np.datetime64('2016-10-12')\n",
    "start_index_nino_spring_16 = np.where(dates == start_date_nino_spring_16)[0][0]\n",
    "end_index_nino_spring_16 = np.where(dates == end_date_nino_spring_16)[0][0] + 1  # 注意要加 1，因为切片时 end_index 是开区间\n",
    "target_data_nino_spring_16 = data[start_index_nino_spring_16 : end_index_nino_spring_16]\n",
    "target_data_nino_spring_16.shape"
   ]
  },
  {
   "cell_type": "code",
   "execution_count": 25,
   "id": "a8167e11",
   "metadata": {},
   "outputs": [
    {
     "data": {
      "text/plain": [
       "(7, 82, 82)"
      ]
     },
     "execution_count": 25,
     "metadata": {},
     "output_type": "execute_result"
    }
   ],
   "source": [
    "# n_event --- > 40\n",
    "start_date = np.datetime64('1982-01-01')\n",
    "dates = start_date + np.arange(14610) * np.timedelta64(1, 'D')\n",
    "\n",
    "# 选择特定日期范围的数据\n",
    "start_date_nino_spring_17 = np.datetime64('2016-12-09')\n",
    "end_date_nino_spring_17 = np.datetime64('2016-12-15')\n",
    "start_index_nino_spring_17 = np.where(dates == start_date_nino_spring_17)[0][0]\n",
    "end_index_nino_spring_17 = np.where(dates == end_date_nino_spring_17)[0][0] + 1  # 注意要加 1，因为切片时 end_index 是开区间\n",
    "target_data_nino_spring_17 = data[start_index_nino_spring_17 : end_index_nino_spring_17]\n",
    "target_data_nino_spring_17.shape"
   ]
  },
  {
   "cell_type": "code",
   "execution_count": 26,
   "id": "755e78e5",
   "metadata": {},
   "outputs": [
    {
     "data": {
      "text/plain": [
       "(7, 82, 82)"
      ]
     },
     "execution_count": 26,
     "metadata": {},
     "output_type": "execute_result"
    }
   ],
   "source": [
    "# n_event --- > 48\n",
    "start_date = np.datetime64('1982-01-01')\n",
    "dates = start_date + np.arange(14610) * np.timedelta64(1, 'D')\n",
    "\n",
    "# 选择特定日期范围的数据\n",
    "start_date_nino_spring_18 = np.datetime64('2019-11-17')\n",
    "end_date_nino_spring_18 = np.datetime64('2019-11-23')\n",
    "start_index_nino_spring_18 = np.where(dates == start_date_nino_spring_18)[0][0]\n",
    "end_index_nino_spring_18 = np.where(dates == end_date_nino_spring_18)[0][0] + 1  # 注意要加 1，因为切片时 end_index 是开区间\n",
    "target_data_nino_spring_18 = data[start_index_nino_spring_18 : end_index_nino_spring_18]\n",
    "target_data_nino_spring_18.shape"
   ]
  },
  {
   "cell_type": "code",
   "execution_count": 27,
   "id": "138d3d24",
   "metadata": {},
   "outputs": [],
   "source": [
    "#夏季"
   ]
  },
  {
   "cell_type": "code",
   "execution_count": 28,
   "id": "862b3b40",
   "metadata": {},
   "outputs": [
    {
     "data": {
      "text/plain": [
       "(8, 82, 82)"
      ]
     },
     "execution_count": 28,
     "metadata": {},
     "output_type": "execute_result"
    }
   ],
   "source": [
    "# n_event --- > 5\n",
    "start_date = np.datetime64('1982-01-01')\n",
    "dates = start_date + np.arange(14610) * np.timedelta64(1, 'D')\n",
    "\n",
    "# 选择特定日期范围的数据\n",
    "start_date_nino_summer_1 = np.datetime64('1988-02-10')\n",
    "end_date_nino_summer_1 = np.datetime64('1988-02-17')\n",
    "start_index_nino_summer_1 = np.where(dates == start_date_nino_summer_1)[0][0]\n",
    "end_index_nino_summer_1 = np.where(dates == end_date_nino_summer_1)[0][0] + 1  # 注意要加 1，因为切片时 end_index 是开区间\n",
    "target_data_nino_summer_1 = data[start_index_nino_summer_1:end_index_nino_summer_1]\n",
    "target_data_nino_summer_1.shape"
   ]
  },
  {
   "cell_type": "code",
   "execution_count": 29,
   "id": "6831ce58",
   "metadata": {},
   "outputs": [
    {
     "data": {
      "text/plain": [
       "(9, 82, 82)"
      ]
     },
     "execution_count": 29,
     "metadata": {},
     "output_type": "execute_result"
    }
   ],
   "source": [
    "# n_event --- > 18\n",
    "start_date = np.datetime64('1982-01-01')\n",
    "dates = start_date + np.arange(14610) * np.timedelta64(1, 'D')\n",
    "\n",
    "# 选择特定日期范围的数据\n",
    "start_date_nino_summer_2 = np.datetime64('2003-01-11')\n",
    "end_date_nino_summer_2 = np.datetime64('2003-01-19')\n",
    "start_index_nino_summer_2 = np.where(dates == start_date_nino_summer_2)[0][0]\n",
    "end_index_nino_summer_2 = np.where(dates == end_date_nino_summer_2)[0][0] + 1  # 注意要加 1，因为切片时 end_index 是开区间\n",
    "target_data_nino_summer_2 = data[start_index_nino_summer_2 : end_index_nino_summer_2]\n",
    "target_data_nino_summer_2.shape"
   ]
  },
  {
   "cell_type": "code",
   "execution_count": 30,
   "id": "35ea83a3",
   "metadata": {},
   "outputs": [
    {
     "data": {
      "text/plain": [
       "(43, 82, 82)"
      ]
     },
     "execution_count": 30,
     "metadata": {},
     "output_type": "execute_result"
    }
   ],
   "source": [
    "# n_event --- > 19\n",
    "start_date = np.datetime64('1982-01-01')\n",
    "dates = start_date + np.arange(14610) * np.timedelta64(1, 'D')\n",
    "\n",
    "# 选择特定日期范围的数据\n",
    "start_date_nino_summer_3 = np.datetime64('2003-02-02')\n",
    "end_date_nino_summer_3 = np.datetime64('2003-03-16')\n",
    "start_index_nino_summer_3 = np.where(dates == start_date_nino_summer_3)[0][0]\n",
    "end_index_nino_summer_3 = np.where(dates == end_date_nino_summer_3)[0][0] + 1  # 注意要加 1，因为切片时 end_index 是开区间\n",
    "target_data_nino_summer_3 = data[start_index_nino_summer_3 : end_index_nino_summer_3]\n",
    "target_data_nino_summer_3.shape"
   ]
  },
  {
   "cell_type": "code",
   "execution_count": 31,
   "id": "9631eb37",
   "metadata": {},
   "outputs": [
    {
     "data": {
      "text/plain": [
       "(88, 82, 82)"
      ]
     },
     "execution_count": 31,
     "metadata": {},
     "output_type": "execute_result"
    }
   ],
   "source": [
    "# n_event --- > 28\n",
    "start_date = np.datetime64('1982-01-01')\n",
    "dates = start_date + np.arange(14610) * np.timedelta64(1, 'D')\n",
    "\n",
    "# 选择特定日期范围的数据\n",
    "start_date_nino_summer_4 = np.datetime64('2009-12-23')\n",
    "end_date_nino_summer_4 = np.datetime64('2010-03-20')\n",
    "start_index_nino_summer_4 = np.where(dates == start_date_nino_summer_4)[0][0]\n",
    "end_index_nino_summer_4 = np.where(dates == end_date_nino_summer_4)[0][0] + 1  # 注意要加 1，因为切片时 end_index 是开区间\n",
    "target_data_nino_summer_4 = data[start_index_nino_summer_4 : end_index_nino_summer_4]\n",
    "target_data_nino_summer_4.shape"
   ]
  },
  {
   "cell_type": "code",
   "execution_count": 32,
   "id": "25d59b2d",
   "metadata": {},
   "outputs": [
    {
     "data": {
      "text/plain": [
       "(18, 82, 82)"
      ]
     },
     "execution_count": 32,
     "metadata": {},
     "output_type": "execute_result"
    }
   ],
   "source": [
    "# n_event --- > 32\n",
    "start_date = np.datetime64('1982-01-01')\n",
    "dates = start_date + np.arange(14610) * np.timedelta64(1, 'D')\n",
    "\n",
    "# 选择特定日期范围的数据\n",
    "start_date_nino_summer_5 = np.datetime64('2014-02-04')\n",
    "end_date_nino_summer_5 = np.datetime64('2014-02-21')\n",
    "start_index_nino_summer_5 = np.where(dates == start_date_nino_summer_5)[0][0]\n",
    "end_index_nino_summer_5 = np.where(dates == end_date_nino_summer_5)[0][0] + 1  # 注意要加 1，因为切片时 end_index 是开区间\n",
    "target_data_nino_summer_5 = data[start_index_nino_summer_5 : end_index_nino_summer_5]\n",
    "target_data_nino_summer_5.shape"
   ]
  },
  {
   "cell_type": "code",
   "execution_count": 33,
   "id": "1ba78462",
   "metadata": {},
   "outputs": [
    {
     "data": {
      "text/plain": [
       "(18, 82, 82)"
      ]
     },
     "execution_count": 33,
     "metadata": {},
     "output_type": "execute_result"
    }
   ],
   "source": [
    "# n_event --- > 32\n",
    "start_date = np.datetime64('1982-01-01')\n",
    "dates = start_date + np.arange(14610) * np.timedelta64(1, 'D')\n",
    "\n",
    "# 选择特定日期范围的数据\n",
    "start_date_nino_summer_6 = np.datetime64('2014-02-04')\n",
    "end_date_nino_summer_6 = np.datetime64('2014-02-21')\n",
    "start_index_nino_summer_6 = np.where(dates == start_date_nino_summer_6)[0][0]\n",
    "end_index_nino_summer_6 = np.where(dates == end_date_nino_summer_6)[0][0] + 1  # 注意要加 1，因为切片时 end_index 是开区间\n",
    "target_data_nino_summer_6 = data[start_index_nino_summer_6 : end_index_nino_summer_6]\n",
    "target_data_nino_summer_6.shape"
   ]
  },
  {
   "cell_type": "code",
   "execution_count": 34,
   "id": "a9caa0ff",
   "metadata": {},
   "outputs": [
    {
     "data": {
      "text/plain": [
       "(10, 82, 82)"
      ]
     },
     "execution_count": 34,
     "metadata": {},
     "output_type": "execute_result"
    }
   ],
   "source": [
    "# n_event --- > 33\n",
    "start_date = np.datetime64('1982-01-01')\n",
    "dates = start_date + np.arange(14610) * np.timedelta64(1, 'D')\n",
    "\n",
    "# 选择特定日期范围的数据\n",
    "start_date_nino_summer_7 = np.datetime64('2014-03-04')\n",
    "end_date_nino_summer_7 = np.datetime64('2014-03-13')\n",
    "start_index_nino_summer_7 = np.where(dates == start_date_nino_summer_7)[0][0]\n",
    "end_index_nino_summer_7 = np.where(dates == end_date_nino_summer_7)[0][0] + 1  # 注意要加 1，因为切片时 end_index 是开区间\n",
    "target_data_nino_summer_7 = data[start_index_nino_summer_7 : end_index_nino_summer_7]\n",
    "target_data_nino_summer_7.shape"
   ]
  },
  {
   "cell_type": "code",
   "execution_count": 35,
   "id": "0b67077a",
   "metadata": {},
   "outputs": [
    {
     "data": {
      "text/plain": [
       "(37, 82, 82)"
      ]
     },
     "execution_count": 35,
     "metadata": {},
     "output_type": "execute_result"
    }
   ],
   "source": [
    "# n_event --- > 34\n",
    "start_date = np.datetime64('1982-01-01')\n",
    "dates = start_date + np.arange(14610) * np.timedelta64(1, 'D')\n",
    "\n",
    "# 选择特定日期范围的数据\n",
    "start_date_nino_summer_8 = np.datetime64('2015-01-12')\n",
    "end_date_nino_summer_8 = np.datetime64('2015-02-17')\n",
    "start_index_nino_summer_8 = np.where(dates == start_date_nino_summer_8)[0][0]\n",
    "end_index_nino_summer_8 = np.where(dates == end_date_nino_summer_8)[0][0] + 1  # 注意要加 1，因为切片时 end_index 是开区间\n",
    "target_data_nino_summer_8 = data[start_index_nino_summer_8 : end_index_nino_summer_8]\n",
    "target_data_nino_summer_8.shape"
   ]
  },
  {
   "cell_type": "code",
   "execution_count": 36,
   "id": "fa188b4a",
   "metadata": {},
   "outputs": [
    {
     "data": {
      "text/plain": [
       "(6, 82, 82)"
      ]
     },
     "execution_count": 36,
     "metadata": {},
     "output_type": "execute_result"
    }
   ],
   "source": [
    "# n_event --- > 37\n",
    "start_date = np.datetime64('1982-01-01')\n",
    "dates = start_date + np.arange(14610) * np.timedelta64(1, 'D')\n",
    "\n",
    "# 选择特定日期范围的数据\n",
    "start_date_nino_summer_9= np.datetime64('2016-02-29')\n",
    "end_date_nino_summer_9 = np.datetime64('2016-03-05')\n",
    "start_index_nino_summer_9 = np.where(dates == start_date_nino_summer_9)[0][0]\n",
    "end_index_nino_summer_9 = np.where(dates == end_date_nino_summer_9)[0][0] + 1  # 注意要加 1，因为切片时 end_index 是开区间\n",
    "target_data_nino_summer_9 = data[start_index_nino_summer_9 : end_index_nino_summer_9]\n",
    "target_data_nino_summer_9.shape"
   ]
  },
  {
   "cell_type": "code",
   "execution_count": 37,
   "id": "8d505522",
   "metadata": {},
   "outputs": [
    {
     "data": {
      "text/plain": [
       "(20, 82, 82)"
      ]
     },
     "execution_count": 37,
     "metadata": {},
     "output_type": "execute_result"
    }
   ],
   "source": [
    "# n_event --- > 41\n",
    "start_date = np.datetime64('1982-01-01')\n",
    "dates = start_date + np.arange(14610) * np.timedelta64(1, 'D')\n",
    "\n",
    "# 选择特定日期范围的数据\n",
    "start_date_nino_summer_10= np.datetime64('2017-01-07')\n",
    "end_date_nino_summer_10 = np.datetime64('2017-01-26')\n",
    "start_index_nino_summer_10 = np.where(dates == start_date_nino_summer_10)[0][0]\n",
    "end_index_nino_summer_10 = np.where(dates == end_date_nino_summer_10)[0][0] + 1  # 注意要加 1，因为切片时 end_index 是开区间\n",
    "target_data_nino_summer_10 = data[start_index_nino_summer_10 : end_index_nino_summer_10]\n",
    "target_data_nino_summer_10.shape"
   ]
  },
  {
   "cell_type": "code",
   "execution_count": 38,
   "id": "53d31e06",
   "metadata": {},
   "outputs": [
    {
     "data": {
      "text/plain": [
       "(23, 82, 82)"
      ]
     },
     "execution_count": 38,
     "metadata": {},
     "output_type": "execute_result"
    }
   ],
   "source": [
    "# n_event --- > 42\n",
    "start_date = np.datetime64('1982-01-01')\n",
    "dates = start_date + np.arange(14610) * np.timedelta64(1, 'D')\n",
    "\n",
    "# 选择特定日期范围的数据\n",
    "start_date_nino_summer_11= np.datetime64('2019-01-13')\n",
    "end_date_nino_summer_11 = np.datetime64('2019-02-04')\n",
    "start_index_nino_summer_11 = np.where(dates == start_date_nino_summer_11)[0][0]\n",
    "end_index_nino_summer_11 = np.where(dates == end_date_nino_summer_11)[0][0] + 1  # 注意要加 1，因为切片时 end_index 是开区间\n",
    "target_data_nino_summer_11 = data[start_index_nino_summer_11 : end_index_nino_summer_11]\n",
    "target_data_nino_summer_11.shape"
   ]
  },
  {
   "cell_type": "code",
   "execution_count": 39,
   "id": "720a662e",
   "metadata": {},
   "outputs": [
    {
     "data": {
      "text/plain": [
       "(34, 82, 82)"
      ]
     },
     "execution_count": 39,
     "metadata": {},
     "output_type": "execute_result"
    }
   ],
   "source": [
    "# n_event --- > 43\n",
    "start_date = np.datetime64('1982-01-01')\n",
    "dates = start_date + np.arange(14610) * np.timedelta64(1, 'D')\n",
    "\n",
    "# 选择特定日期范围的数据\n",
    "start_date_nino_summer_12= np.datetime64('2019-02-15')\n",
    "end_date_nino_summer_12 = np.datetime64('2019-03-20')\n",
    "start_index_nino_summer_12 = np.where(dates == start_date_nino_summer_12)[0][0]\n",
    "end_index_nino_summer_12 = np.where(dates == end_date_nino_summer_12)[0][0] + 1  # 注意要加 1，因为切片时 end_index 是开区间\n",
    "target_data_nino_summer_12 = data[start_index_nino_summer_12 : end_index_nino_summer_12]\n",
    "target_data_nino_summer_12.shape"
   ]
  },
  {
   "cell_type": "code",
   "execution_count": 40,
   "id": "cc6ae1a3",
   "metadata": {},
   "outputs": [
    {
     "data": {
      "text/plain": [
       "(17, 82, 82)"
      ]
     },
     "execution_count": 40,
     "metadata": {},
     "output_type": "execute_result"
    }
   ],
   "source": [
    "# n_event --- > 49\n",
    "start_date = np.datetime64('1982-01-01')\n",
    "dates = start_date + np.arange(14610) * np.timedelta64(1, 'D')\n",
    "\n",
    "# 选择特定日期范围的数据\n",
    "start_date_nino_summer_13= np.datetime64('2020-01-09')\n",
    "end_date_nino_summer_13 = np.datetime64('2020-01-25')\n",
    "start_index_nino_summer_13 = np.where(dates == start_date_nino_summer_13)[0][0]\n",
    "end_index_nino_summer_13 = np.where(dates == end_date_nino_summer_13)[0][0] + 1  # 注意要加 1，因为切片时 end_index 是开区间\n",
    "target_data_nino_summer_13 = data[start_index_nino_summer_13 : end_index_nino_summer_13]\n",
    "target_data_nino_summer_13.shape"
   ]
  },
  {
   "cell_type": "code",
   "execution_count": 41,
   "id": "5ecfcbda",
   "metadata": {},
   "outputs": [
    {
     "data": {
      "text/plain": [
       "(6, 82, 82)"
      ]
     },
     "execution_count": 41,
     "metadata": {},
     "output_type": "execute_result"
    }
   ],
   "source": [
    "# n_event --- > 50\n",
    "start_date = np.datetime64('1982-01-01')\n",
    "dates = start_date + np.arange(14610) * np.timedelta64(1, 'D')\n",
    "\n",
    "# 选择特定日期范围的数据\n",
    "start_date_nino_summer_14= np.datetime64('2020-03-15')\n",
    "end_date_nino_summer_14 = np.datetime64('2020-03-20')\n",
    "start_index_nino_summer_14 = np.where(dates == start_date_nino_summer_14)[0][0]\n",
    "end_index_nino_summer_14 = np.where(dates == end_date_nino_summer_14)[0][0] + 1  # 注意要加 1，因为切片时 end_index 是开区间\n",
    "target_data_nino_summer_14 = data[start_index_nino_summer_14 : end_index_nino_summer_14]\n",
    "target_data_nino_summer_14.shape"
   ]
  },
  {
   "cell_type": "code",
   "execution_count": 42,
   "id": "a63bf434",
   "metadata": {},
   "outputs": [],
   "source": [
    "#秋季"
   ]
  },
  {
   "cell_type": "code",
   "execution_count": 43,
   "id": "fc2f018e",
   "metadata": {},
   "outputs": [
    {
     "data": {
      "text/plain": [
       "(13, 82, 82)"
      ]
     },
     "execution_count": 43,
     "metadata": {},
     "output_type": "execute_result"
    }
   ],
   "source": [
    "# n_event --- > 6\n",
    "start_date = np.datetime64('1982-01-01')\n",
    "dates = start_date + np.arange(14610) * np.timedelta64(1, 'D')\n",
    "\n",
    "# 选择特定日期范围的数据\n",
    "start_date_nino_autumn_1 = np.datetime64('1988-03-26')\n",
    "end_date_nino_autumn_1 = np.datetime64('1988-04-07')\n",
    "start_index_nino_autumn_1 = np.where(dates == start_date_nino_autumn_1)[0][0]\n",
    "end_index_nino_autumn_1 = np.where(dates == end_date_nino_autumn_1)[0][0] + 1  # 注意要加 1，因为切片时 end_index 是开区间\n",
    "target_data_nino_autumn_1 = data[start_index_nino_autumn_1:end_index_nino_autumn_1]\n",
    "target_data_nino_autumn_1.shape"
   ]
  },
  {
   "cell_type": "code",
   "execution_count": 44,
   "id": "de925b3d",
   "metadata": {},
   "outputs": [
    {
     "data": {
      "text/plain": [
       "(10, 82, 82)"
      ]
     },
     "execution_count": 44,
     "metadata": {},
     "output_type": "execute_result"
    }
   ],
   "source": [
    "# n_event --- > 11\n",
    "start_date = np.datetime64('1982-01-01')\n",
    "dates = start_date + np.arange(14610) * np.timedelta64(1, 'D')\n",
    "\n",
    "# 选择特定日期范围的数据\n",
    "start_date_nino_autumn_2 = np.datetime64('1995-04-24')\n",
    "end_date_nino_autumn_2 = np.datetime64('1995-05-03')\n",
    "start_index_nino_autumn_2 = np.where(dates == start_date_nino_autumn_2)[0][0]\n",
    "end_index_nino_autumn_2 = np.where(dates == end_date_nino_autumn_2)[0][0] + 1  # 注意要加 1，因为切片时 end_index 是开区间\n",
    "target_data_nino_autumn_2 = data[start_index_nino_autumn_2:end_index_nino_autumn_2]\n",
    "target_data_nino_autumn_2.shape"
   ]
  },
  {
   "cell_type": "code",
   "execution_count": 45,
   "id": "5de8f2f5",
   "metadata": {},
   "outputs": [
    {
     "data": {
      "text/plain": [
       "(34, 82, 82)"
      ]
     },
     "execution_count": 45,
     "metadata": {},
     "output_type": "execute_result"
    }
   ],
   "source": [
    "# n_event --- > 20\n",
    "start_date = np.datetime64('1982-01-01')\n",
    "dates = start_date + np.arange(14610) * np.timedelta64(1, 'D')\n",
    "\n",
    "# 选择特定日期范围的数据\n",
    "start_date_nino_autumn_3 = np.datetime64('2003-04-07')\n",
    "end_date_nino_autumn_3 = np.datetime64('2003-05-10')\n",
    "start_index_nino_autumn_3 = np.where(dates == start_date_nino_autumn_3)[0][0]\n",
    "end_index_nino_autumn_3 = np.where(dates == end_date_nino_autumn_3)[0][0] + 1  # 注意要加 1，因为切片时 end_index 是开区间\n",
    "target_data_nino_autumn_3 = data[start_index_nino_autumn_3:end_index_nino_autumn_3]\n",
    "target_data_nino_autumn_3.shape"
   ]
  },
  {
   "cell_type": "code",
   "execution_count": 46,
   "id": "357e1d70",
   "metadata": {},
   "outputs": [
    {
     "data": {
      "text/plain": [
       "(26, 82, 82)"
      ]
     },
     "execution_count": 46,
     "metadata": {},
     "output_type": "execute_result"
    }
   ],
   "source": [
    "# n_event --- > 20\n",
    "start_date = np.datetime64('1982-01-01')\n",
    "dates = start_date + np.arange(14610) * np.timedelta64(1, 'D')\n",
    "\n",
    "# 选择特定日期范围的数据\n",
    "start_date_nino_autumn_4 = np.datetime64('2003-05-28')\n",
    "end_date_nino_autumn_4 = np.datetime64('2003-06-22')\n",
    "start_index_nino_autumn_4 = np.where(dates == start_date_nino_autumn_4)[0][0]\n",
    "end_index_nino_autumn_4 = np.where(dates == end_date_nino_autumn_4)[0][0] + 1  # 注意要加 1，因为切片时 end_index 是开区间\n",
    "target_data_nino_autumn_4 = data[start_index_nino_autumn_4 : end_index_nino_autumn_4]\n",
    "target_data_nino_autumn_4.shape"
   ]
  },
  {
   "cell_type": "code",
   "execution_count": 47,
   "id": "6e06cabb",
   "metadata": {},
   "outputs": [
    {
     "data": {
      "text/plain": [
       "(9, 82, 82)"
      ]
     },
     "execution_count": 47,
     "metadata": {},
     "output_type": "execute_result"
    }
   ],
   "source": [
    "# n_event --- > 20\n",
    "start_date = np.datetime64('1982-01-01')\n",
    "dates = start_date + np.arange(14610) * np.timedelta64(1, 'D')\n",
    "\n",
    "# 选择特定日期范围的数据\n",
    "start_date_nino_autumn_5 = np.datetime64('2008-04-22')\n",
    "end_date_nino_autumn_5 = np.datetime64('2008-04-30')\n",
    "start_index_nino_autumn_5 = np.where(dates == start_date_nino_autumn_5)[0][0]\n",
    "end_index_nino_autumn_5 = np.where(dates == end_date_nino_autumn_5)[0][0] + 1  # 注意要加 1，因为切片时 end_index 是开区间\n",
    "target_data_nino_autumn_5 = data[start_index_nino_autumn_5 : end_index_nino_autumn_5]\n",
    "target_data_nino_autumn_5.shape"
   ]
  },
  {
   "cell_type": "code",
   "execution_count": 48,
   "id": "ea03a55b",
   "metadata": {},
   "outputs": [
    {
     "data": {
      "text/plain": [
       "(9, 82, 82)"
      ]
     },
     "execution_count": 48,
     "metadata": {},
     "output_type": "execute_result"
    }
   ],
   "source": [
    "# n_event --- > 20\n",
    "start_date = np.datetime64('1982-01-01')\n",
    "dates = start_date + np.arange(14610) * np.timedelta64(1, 'D')\n",
    "\n",
    "# 选择特定日期范围的数据\n",
    "start_date_nino_autumn_6 = np.datetime64('2008-04-22')\n",
    "end_date_nino_autumn_6 = np.datetime64('2008-04-30')\n",
    "start_index_nino_autumn_6 = np.where(dates == start_date_nino_autumn_6)[0][0]\n",
    "end_index_nino_autumn_6 = np.where(dates == end_date_nino_autumn_6)[0][0] + 1  # 注意要加 1，因为切片时 end_index 是开区间\n",
    "target_data_nino_autumn_6 = data[start_index_nino_autumn_6 : end_index_nino_autumn_6]\n",
    "target_data_nino_autumn_6.shape"
   ]
  },
  {
   "cell_type": "code",
   "execution_count": 49,
   "id": "945c6ea0",
   "metadata": {},
   "outputs": [
    {
     "data": {
      "text/plain": [
       "(29, 82, 82)"
      ]
     },
     "execution_count": 49,
     "metadata": {},
     "output_type": "execute_result"
    }
   ],
   "source": [
    "# n_event --- > 28\n",
    "start_date = np.datetime64('1982-01-01')\n",
    "dates = start_date + np.arange(14610) * np.timedelta64(1, 'D')\n",
    "\n",
    "# 选择特定日期范围的数据\n",
    "start_date_nino_autumn_7 = np.datetime64('2010-03-21')\n",
    "end_date_nino_autumn_7 = np.datetime64('2010-04-18')\n",
    "start_index_nino_autumn_7 = np.where(dates == start_date_nino_autumn_7)[0][0]\n",
    "end_index_nino_autumn_7 = np.where(dates == end_date_nino_autumn_7)[0][0] + 1  # 注意要加 1，因为切片时 end_index 是开区间\n",
    "target_data_nino_autumn_7 = data[start_index_nino_autumn_7 : end_index_nino_autumn_7]\n",
    "target_data_nino_autumn_7.shape"
   ]
  },
  {
   "cell_type": "code",
   "execution_count": 50,
   "id": "c362f9d6",
   "metadata": {},
   "outputs": [
    {
     "data": {
      "text/plain": [
       "(48, 82, 82)"
      ]
     },
     "execution_count": 50,
     "metadata": {},
     "output_type": "execute_result"
    }
   ],
   "source": [
    "# n_event --- > 29\n",
    "start_date = np.datetime64('1982-01-01')\n",
    "dates = start_date + np.arange(14610) * np.timedelta64(1, 'D')\n",
    "\n",
    "# 选择特定日期范围的数据\n",
    "start_date_nino_autumn_8 = np.datetime64('2010-05-06')\n",
    "end_date_nino_autumn_8 = np.datetime64('2010-06-22')\n",
    "start_index_nino_autumn_8 = np.where(dates == start_date_nino_autumn_8)[0][0]\n",
    "end_index_nino_autumn_8 = np.where(dates == end_date_nino_autumn_8)[0][0] + 1  # 注意要加 1，因为切片时 end_index 是开区间\n",
    "target_data_nino_autumn_8 = data[start_index_nino_autumn_8 : end_index_nino_autumn_8]\n",
    "target_data_nino_autumn_8.shape"
   ]
  },
  {
   "cell_type": "code",
   "execution_count": 51,
   "id": "6a0dca75",
   "metadata": {},
   "outputs": [
    {
     "data": {
      "text/plain": [
       "(8, 82, 82)"
      ]
     },
     "execution_count": 51,
     "metadata": {},
     "output_type": "execute_result"
    }
   ],
   "source": [
    "# n_event --- > 35\n",
    "start_date = np.datetime64('1982-01-01')\n",
    "dates = start_date + np.arange(14610) * np.timedelta64(1, 'D')\n",
    "\n",
    "# 选择特定日期范围的数据\n",
    "start_date_nino_autumn_9 = np.datetime64('2015-03-24')\n",
    "end_date_nino_autumn_9 = np.datetime64('2015-03-31')\n",
    "start_index_nino_autumn_9 = np.where(dates == start_date_nino_autumn_9)[0][0]\n",
    "end_index_nino_autumn_9 = np.where(dates == end_date_nino_autumn_9)[0][0] + 1  # 注意要加 1，因为切片时 end_index 是开区间\n",
    "target_data_nino_autumn_9 = data[start_index_nino_autumn_9 : end_index_nino_autumn_9]\n",
    "target_data_nino_autumn_9.shape"
   ]
  },
  {
   "cell_type": "code",
   "execution_count": 52,
   "id": "d68f1a7a",
   "metadata": {},
   "outputs": [
    {
     "data": {
      "text/plain": [
       "(12, 82, 82)"
      ]
     },
     "execution_count": 52,
     "metadata": {},
     "output_type": "execute_result"
    }
   ],
   "source": [
    "# n_event --- > 38\n",
    "start_date = np.datetime64('1982-01-01')\n",
    "dates = start_date + np.arange(14610) * np.timedelta64(1, 'D')\n",
    "\n",
    "# 选择特定日期范围的数据\n",
    "start_date_nino_autumn_10 = np.datetime64('2016-06-11')\n",
    "end_date_nino_autumn_10 = np.datetime64('2016-06-22')\n",
    "start_index_nino_autumn_10 = np.where(dates == start_date_nino_autumn_10)[0][0]\n",
    "end_index_nino_autumn_10 = np.where(dates == end_date_nino_autumn_10)[0][0] + 1  # 注意要加 1，因为切片时 end_index 是开区间\n",
    "target_data_nino_autumn_10 = data[start_index_nino_autumn_10 : end_index_nino_autumn_10]\n",
    "target_data_nino_autumn_10.shape"
   ]
  },
  {
   "cell_type": "code",
   "execution_count": 53,
   "id": "949ddc09",
   "metadata": {},
   "outputs": [
    {
     "data": {
      "text/plain": [
       "(94, 82, 82)"
      ]
     },
     "execution_count": 53,
     "metadata": {},
     "output_type": "execute_result"
    }
   ],
   "source": [
    "# n_event --- > 43\n",
    "start_date = np.datetime64('1982-01-01')\n",
    "dates = start_date + np.arange(14610) * np.timedelta64(1, 'D')\n",
    "\n",
    "# 选择特定日期范围的数据\n",
    "start_date_nino_autumn_11 = np.datetime64('2019-03-21')\n",
    "end_date_nino_autumn_11 = np.datetime64('2019-06-22')\n",
    "start_index_nino_autumn_11 = np.where(dates == start_date_nino_autumn_11)[0][0]\n",
    "end_index_nino_autumn_11 = np.where(dates == end_date_nino_autumn_11)[0][0] + 1  # 注意要加 1，因为切片时 end_index 是开区间\n",
    "target_data_nino_autumn_11 = data[start_index_nino_autumn_11 : end_index_nino_autumn_11]\n",
    "target_data_nino_autumn_11.shape"
   ]
  },
  {
   "cell_type": "code",
   "execution_count": 54,
   "id": "81d9aa37",
   "metadata": {},
   "outputs": [
    {
     "data": {
      "text/plain": [
       "(61, 82, 82)"
      ]
     },
     "execution_count": 54,
     "metadata": {},
     "output_type": "execute_result"
    }
   ],
   "source": [
    "# n_event --- > 50\n",
    "start_date = np.datetime64('1982-01-01')\n",
    "dates = start_date + np.arange(14610) * np.timedelta64(1, 'D')\n",
    "\n",
    "# 选择特定日期范围的数据\n",
    "start_date_nino_autumn_12 = np.datetime64('2020-03-21')\n",
    "end_date_nino_autumn_12 = np.datetime64('2020-05-20')\n",
    "start_index_nino_autumn_12 = np.where(dates == start_date_nino_autumn_12)[0][0]\n",
    "end_index_nino_autumn_12 = np.where(dates == end_date_nino_autumn_12)[0][0] + 1  # 注意要加 1，因为切片时 end_index 是开区间\n",
    "target_data_nino_autumn_12 = data[start_index_nino_autumn_12 : end_index_nino_autumn_12]\n",
    "target_data_nino_autumn_12.shape"
   ]
  },
  {
   "cell_type": "code",
   "execution_count": 55,
   "id": "382524dc",
   "metadata": {},
   "outputs": [
    {
     "data": {
      "text/plain": [
       "(6, 82, 82)"
      ]
     },
     "execution_count": 55,
     "metadata": {},
     "output_type": "execute_result"
    }
   ],
   "source": [
    "# n_event --- > 51\n",
    "start_date = np.datetime64('1982-01-01')\n",
    "dates = start_date + np.arange(14610) * np.timedelta64(1, 'D')\n",
    "\n",
    "# 选择特定日期范围的数据\n",
    "start_date_nino_autumn_13 = np.datetime64('2020-06-02')\n",
    "end_date_nino_autumn_13 = np.datetime64('2020-06-07')\n",
    "start_index_nino_autumn_13 = np.where(dates == start_date_nino_autumn_13)[0][0]\n",
    "end_index_nino_autumn_13 = np.where(dates == end_date_nino_autumn_13)[0][0] + 1  # 注意要加 1，因为切片时 end_index 是开区间\n",
    "target_data_nino_autumn_13 = data[start_index_nino_autumn_13 : end_index_nino_autumn_13]\n",
    "target_data_nino_autumn_13.shape"
   ]
  },
  {
   "cell_type": "code",
   "execution_count": 56,
   "id": "2ef485d8",
   "metadata": {},
   "outputs": [
    {
     "data": {
      "text/plain": [
       "(15, 82, 82)"
      ]
     },
     "execution_count": 56,
     "metadata": {},
     "output_type": "execute_result"
    }
   ],
   "source": [
    "# n_event --- > 53\n",
    "start_date = np.datetime64('1982-01-01')\n",
    "dates = start_date + np.arange(14610) * np.timedelta64(1, 'D')\n",
    "\n",
    "# 选择特定日期范围的数据\n",
    "start_date_nino_autumn_14 = np.datetime64('2021-05-20')\n",
    "end_date_nino_autumn_14 = np.datetime64('2021-06-03')\n",
    "start_index_nino_autumn_14 = np.where(dates == start_date_nino_autumn_14)[0][0]\n",
    "end_index_nino_autumn_14 = np.where(dates == end_date_nino_autumn_14)[0][0] + 1  # 注意要加 1，因为切片时 end_index 是开区间\n",
    "target_data_nino_autumn_14 = data[start_index_nino_autumn_14 : end_index_nino_autumn_14]\n",
    "target_data_nino_autumn_14.shape"
   ]
  },
  {
   "cell_type": "code",
   "execution_count": 57,
   "id": "7167eacd",
   "metadata": {},
   "outputs": [],
   "source": [
    "#冬季"
   ]
  },
  {
   "cell_type": "code",
   "execution_count": 58,
   "id": "d7aff60b",
   "metadata": {},
   "outputs": [
    {
     "data": {
      "text/plain": [
       "(8, 82, 82)"
      ]
     },
     "execution_count": 58,
     "metadata": {},
     "output_type": "execute_result"
    }
   ],
   "source": [
    "# n_event --- > 8\n",
    "start_date = np.datetime64('1982-01-01')\n",
    "dates = start_date + np.arange(14610) * np.timedelta64(1, 'D')\n",
    "\n",
    "# 选择特定日期范围的数据\n",
    "start_date_nino_winter_1 = np.datetime64('1993-09-05')\n",
    "end_date_nino_winter_1 = np.datetime64('1993-09-12')\n",
    "start_index_nino_winter_1 = np.where(dates == start_date_nino_winter_1)[0][0]\n",
    "end_index_nino_winter_1 = np.where(dates == end_date_nino_winter_1)[0][0] + 1  # 注意要加 1，因为切片时 end_index 是开区间\n",
    "target_data_nino_winter_1 = data[start_index_nino_winter_1:end_index_nino_winter_1]\n",
    "target_data_nino_winter_1.shape"
   ]
  },
  {
   "cell_type": "code",
   "execution_count": 59,
   "id": "2d16424e",
   "metadata": {},
   "outputs": [
    {
     "data": {
      "text/plain": [
       "(5, 82, 82)"
      ]
     },
     "execution_count": 59,
     "metadata": {},
     "output_type": "execute_result"
    }
   ],
   "source": [
    "# n_event --- > 8\n",
    "start_date = np.datetime64('1982-01-01')\n",
    "dates = start_date + np.arange(14610) * np.timedelta64(1, 'D')\n",
    "\n",
    "# 选择特定日期范围的数据\n",
    "start_date_nino_winter_2 = np.datetime64('1993-09-18')\n",
    "end_date_nino_winter_2 = np.datetime64('1993-09-22')\n",
    "start_index_nino_winter_2 = np.where(dates == start_date_nino_winter_2)[0][0]\n",
    "end_index_nino_winter_2 = np.where(dates == end_date_nino_winter_2)[0][0] + 1  # 注意要加 1，因为切片时 end_index 是开区间\n",
    "target_data_nino_winter_2 = data[start_index_nino_winter_2:end_index_nino_winter_2]\n",
    "target_data_nino_winter_2.shape"
   ]
  },
  {
   "cell_type": "code",
   "execution_count": 60,
   "id": "a7578f31",
   "metadata": {},
   "outputs": [
    {
     "data": {
      "text/plain": [
       "(16, 82, 82)"
      ]
     },
     "execution_count": 60,
     "metadata": {},
     "output_type": "execute_result"
    }
   ],
   "source": [
    "# n_event --- > 14\n",
    "start_date = np.datetime64('1982-01-01')\n",
    "dates = start_date + np.arange(14610) * np.timedelta64(1, 'D')\n",
    "\n",
    "# 选择特定日期范围的数据\n",
    "start_date_nino_winter_3 = np.datetime64('1998-07-10')\n",
    "end_date_nino_winter_3 = np.datetime64('1998-07-25')\n",
    "start_index_nino_winter_3 = np.where(dates == start_date_nino_winter_3)[0][0]\n",
    "end_index_nino_winter_3 = np.where(dates == end_date_nino_winter_3)[0][0] + 1  # 注意要加 1，因为切片时 end_index 是开区间\n",
    "target_data_nino_winter_3 = data[start_index_nino_winter_3:end_index_nino_winter_3]\n",
    "target_data_nino_winter_3.shape"
   ]
  },
  {
   "cell_type": "code",
   "execution_count": 61,
   "id": "0b7b3d19",
   "metadata": {},
   "outputs": [
    {
     "data": {
      "text/plain": [
       "(6, 82, 82)"
      ]
     },
     "execution_count": 61,
     "metadata": {},
     "output_type": "execute_result"
    }
   ],
   "source": [
    "# n_event --- > 15\n",
    "start_date = np.datetime64('1982-01-01')\n",
    "dates = start_date + np.arange(14610) * np.timedelta64(1, 'D')\n",
    "\n",
    "# 选择特定日期范围的数据\n",
    "start_date_nino_winter_4 = np.datetime64('2002-07-11')\n",
    "end_date_nino_winter_4 = np.datetime64('2002-07-16')\n",
    "start_index_nino_winter_4 = np.where(dates == start_date_nino_winter_4)[0][0]\n",
    "end_index_nino_winter_4 = np.where(dates == end_date_nino_winter_4)[0][0] + 1  # 注意要加 1，因为切片时 end_index 是开区间\n",
    "target_data_nino_winter_4 = data[start_index_nino_winter_4:end_index_nino_winter_4]\n",
    "target_data_nino_winter_4.shape"
   ]
  },
  {
   "cell_type": "code",
   "execution_count": 62,
   "id": "5533f873",
   "metadata": {},
   "outputs": [
    {
     "data": {
      "text/plain": [
       "(9, 82, 82)"
      ]
     },
     "execution_count": 62,
     "metadata": {},
     "output_type": "execute_result"
    }
   ],
   "source": [
    "# n_event --- > 16\n",
    "start_date = np.datetime64('1982-01-01')\n",
    "dates = start_date + np.arange(14610) * np.timedelta64(1, 'D')\n",
    "\n",
    "# 选择特定日期范围的数据\n",
    "start_date_nino_winter_5 = np.datetime64('2002-09-05')\n",
    "end_date_nino_winter_5 = np.datetime64('2002-09-13')\n",
    "start_index_nino_winter_5 = np.where(dates == start_date_nino_winter_5)[0][0]\n",
    "end_index_nino_winter_5 = np.where(dates == end_date_nino_winter_5)[0][0] + 1  # 注意要加 1，因为切片时 end_index 是开区间\n",
    "target_data_nino_winter_5 = data[start_index_nino_winter_5 : end_index_nino_winter_5]\n",
    "target_data_nino_winter_5.shape"
   ]
  },
  {
   "cell_type": "code",
   "execution_count": 63,
   "id": "b84cf5cc",
   "metadata": {},
   "outputs": [
    {
     "data": {
      "text/plain": [
       "(2, 82, 82)"
      ]
     },
     "execution_count": 63,
     "metadata": {},
     "output_type": "execute_result"
    }
   ],
   "source": [
    "# n_event --- > 21\n",
    "start_date = np.datetime64('1982-01-01')\n",
    "dates = start_date + np.arange(14610) * np.timedelta64(1, 'D')\n",
    "\n",
    "# 选择特定日期范围的数据\n",
    "start_date_nino_winter_6 = np.datetime64('2003-06-23')\n",
    "end_date_nino_winter_6 = np.datetime64('2003-06-24')\n",
    "start_index_nino_winter_6 = np.where(dates == start_date_nino_winter_6)[0][0]\n",
    "end_index_nino_winter_6 = np.where(dates == end_date_nino_winter_6)[0][0] + 1  # 注意要加 1，因为切片时 end_index 是开区间\n",
    "target_data_nino_winter_6 = data[start_index_nino_winter_6 : end_index_nino_winter_6]\n",
    "target_data_nino_winter_6.shape"
   ]
  },
  {
   "cell_type": "code",
   "execution_count": 64,
   "id": "37d45171",
   "metadata": {},
   "outputs": [
    {
     "data": {
      "text/plain": [
       "(27, 82, 82)"
      ]
     },
     "execution_count": 64,
     "metadata": {},
     "output_type": "execute_result"
    }
   ],
   "source": [
    "# n_event --- > 22\n",
    "start_date = np.datetime64('1982-01-01')\n",
    "dates = start_date + np.arange(14610) * np.timedelta64(1, 'D')\n",
    "\n",
    "# 选择特定日期范围的数据\n",
    "start_date_nino_winter_7 = np.datetime64('2003-08-06')\n",
    "end_date_nino_winter_7 = np.datetime64('2003-09-01')\n",
    "start_index_nino_winter_7 = np.where(dates == start_date_nino_winter_7)[0][0]\n",
    "end_index_nino_winter_7 = np.where(dates == end_date_nino_winter_7)[0][0] + 1  # 注意要加 1，因为切片时 end_index 是开区间\n",
    "target_data_nino_winter_7 = data[start_index_nino_winter_7 : end_index_nino_winter_7]\n",
    "target_data_nino_winter_7.shape"
   ]
  },
  {
   "cell_type": "code",
   "execution_count": 65,
   "id": "3cfcd64f",
   "metadata": {},
   "outputs": [
    {
     "data": {
      "text/plain": [
       "(8, 82, 82)"
      ]
     },
     "execution_count": 65,
     "metadata": {},
     "output_type": "execute_result"
    }
   ],
   "source": [
    "# n_event --- > 25\n",
    "start_date = np.datetime64('1982-01-01')\n",
    "dates = start_date + np.arange(14610) * np.timedelta64(1, 'D')\n",
    "\n",
    "# 选择特定日期范围的数据\n",
    "start_date_nino_winter_8 = np.datetime64('2004-07-28')\n",
    "end_date_nino_winter_8 = np.datetime64('2004-08-04')\n",
    "start_index_nino_winter_8 = np.where(dates == start_date_nino_winter_8)[0][0]\n",
    "end_index_nino_winter_8 = np.where(dates == end_date_nino_winter_8)[0][0] + 1  # 注意要加 1，因为切片时 end_index 是开区间\n",
    "target_data_nino_winter_8 = data[start_index_nino_winter_8 : end_index_nino_winter_8]\n",
    "target_data_nino_winter_8.shape"
   ]
  },
  {
   "cell_type": "code",
   "execution_count": 66,
   "id": "6e178615",
   "metadata": {},
   "outputs": [
    {
     "data": {
      "text/plain": [
       "(10, 82, 82)"
      ]
     },
     "execution_count": 66,
     "metadata": {},
     "output_type": "execute_result"
    }
   ],
   "source": [
    "# n_event --- > 26\n",
    "start_date = np.datetime64('1982-01-01')\n",
    "dates = start_date + np.arange(14610) * np.timedelta64(1, 'D')\n",
    "\n",
    "# 选择特定日期范围的数据\n",
    "start_date_nino_winter_9 = np.datetime64('2004-08-24')\n",
    "end_date_nino_winter_9 = np.datetime64('2004-09-02')\n",
    "start_index_nino_winter_9 = np.where(dates == start_date_nino_winter_9)[0][0]\n",
    "end_index_nino_winter_9 = np.where(dates == end_date_nino_winter_9)[0][0] + 1  # 注意要加 1，因为切片时 end_index 是开区间\n",
    "target_data_nino_winter_9 = data[start_index_nino_winter_9 : end_index_nino_winter_9]\n",
    "target_data_nino_winter_9.shape"
   ]
  },
  {
   "cell_type": "code",
   "execution_count": 67,
   "id": "2bcdfa81",
   "metadata": {},
   "outputs": [
    {
     "data": {
      "text/plain": [
       "(3, 82, 82)"
      ]
     },
     "execution_count": 67,
     "metadata": {},
     "output_type": "execute_result"
    }
   ],
   "source": [
    "# n_event --- > 28\n",
    "start_date = np.datetime64('1982-01-01')\n",
    "dates = start_date + np.arange(14610) * np.timedelta64(1, 'D')\n",
    "\n",
    "# 选择特定日期范围的数据\n",
    "start_date_nino_winter_10 = np.datetime64('2009-09-20')\n",
    "end_date_nino_winter_10 = np.datetime64('2009-09-22')\n",
    "start_index_nino_winter_10 = np.where(dates == start_date_nino_winter_10)[0][0]\n",
    "end_index_nino_winter_10 = np.where(dates == end_date_nino_winter_10)[0][0] + 1  # 注意要加 1，因为切片时 end_index 是开区间\n",
    "target_data_nino_winter_10 = data[start_index_nino_winter_10 : end_index_nino_winter_10]\n",
    "target_data_nino_winter_10.shape"
   ]
  },
  {
   "cell_type": "code",
   "execution_count": 68,
   "id": "00e108b2",
   "metadata": {},
   "outputs": [
    {
     "data": {
      "text/plain": [
       "(6, 82, 82)"
      ]
     },
     "execution_count": 68,
     "metadata": {},
     "output_type": "execute_result"
    }
   ],
   "source": [
    "# n_event --- > 29\n",
    "start_date = np.datetime64('1982-01-01')\n",
    "dates = start_date + np.arange(14610) * np.timedelta64(1, 'D')\n",
    "\n",
    "# 选择特定日期范围的数据\n",
    "start_date_nino_winter_11 = np.datetime64('2010-06-23')\n",
    "end_date_nino_winter_11 = np.datetime64('2010-06-28')\n",
    "start_index_nino_winter_11 = np.where(dates == start_date_nino_winter_11)[0][0]\n",
    "end_index_nino_winter_11 = np.where(dates == end_date_nino_winter_11)[0][0] + 1  # 注意要加 1，因为切片时 end_index 是开区间\n",
    "target_data_nino_winter_11 = data[start_index_nino_winter_11 : end_index_nino_winter_11]\n",
    "target_data_nino_winter_11.shape"
   ]
  },
  {
   "cell_type": "code",
   "execution_count": 69,
   "id": "0efdab6d",
   "metadata": {},
   "outputs": [
    {
     "data": {
      "text/plain": [
       "(9, 82, 82)"
      ]
     },
     "execution_count": 69,
     "metadata": {},
     "output_type": "execute_result"
    }
   ],
   "source": [
    "# n_event --- > 30\n",
    "start_date = np.datetime64('1982-01-01')\n",
    "dates = start_date + np.arange(14610) * np.timedelta64(1, 'D')\n",
    "\n",
    "# 选择特定日期范围的数据\n",
    "start_date_nino_winter_12 = np.datetime64('2013-08-05')\n",
    "end_date_nino_winter_12 = np.datetime64('2013-08-13')\n",
    "start_index_nino_winter_12 = np.where(dates == start_date_nino_winter_12)[0][0]\n",
    "end_index_nino_winter_12 = np.where(dates == end_date_nino_winter_12)[0][0] + 1  # 注意要加 1，因为切片时 end_index 是开区间\n",
    "target_data_nino_winter_12 = data[start_index_nino_winter_12 : end_index_nino_winter_12]\n",
    "target_data_nino_winter_12.shape"
   ]
  },
  {
   "cell_type": "code",
   "execution_count": 70,
   "id": "985f7d32",
   "metadata": {},
   "outputs": [
    {
     "data": {
      "text/plain": [
       "(6, 82, 82)"
      ]
     },
     "execution_count": 70,
     "metadata": {},
     "output_type": "execute_result"
    }
   ],
   "source": [
    "# n_event --- > 31\n",
    "start_date = np.datetime64('1982-01-01')\n",
    "dates = start_date + np.arange(14610) * np.timedelta64(1, 'D')\n",
    "\n",
    "# 选择特定日期范围的数据\n",
    "start_date_nino_winter_13 = np.datetime64('2013-08-29')\n",
    "end_date_nino_winter_13 = np.datetime64('2013-09-03')\n",
    "start_index_nino_winter_13 = np.where(dates == start_date_nino_winter_13)[0][0]\n",
    "end_index_nino_winter_13 = np.where(dates == end_date_nino_winter_13)[0][0] + 1  # 注意要加 1，因为切片时 end_index 是开区间\n",
    "target_data_nino_winter_13 = data[start_index_nino_winter_13 : end_index_nino_winter_13]\n",
    "target_data_nino_winter_13.shape"
   ]
  },
  {
   "cell_type": "code",
   "execution_count": 71,
   "id": "01e63d22",
   "metadata": {},
   "outputs": [
    {
     "data": {
      "text/plain": [
       "(92, 82, 82)"
      ]
     },
     "execution_count": 71,
     "metadata": {},
     "output_type": "execute_result"
    }
   ],
   "source": [
    "# n_event --- > 38\n",
    "start_date = np.datetime64('1982-01-01')\n",
    "dates = start_date + np.arange(14610) * np.timedelta64(1, 'D')\n",
    "\n",
    "# 选择特定日期范围的数据\n",
    "start_date_nino_winter_14 = np.datetime64('2016-06-23')\n",
    "end_date_nino_winter_14 = np.datetime64('2016-09-22')\n",
    "start_index_nino_winter_14 = np.where(dates == start_date_nino_winter_14)[0][0]\n",
    "end_index_nino_winter_14 = np.where(dates == end_date_nino_winter_14)[0][0] + 1  # 注意要加 1，因为切片时 end_index 是开区间\n",
    "target_data_nino_winter_14 = data[start_index_nino_winter_14 : end_index_nino_winter_14]\n",
    "target_data_nino_winter_14.shape"
   ]
  },
  {
   "cell_type": "code",
   "execution_count": 72,
   "id": "548677d6",
   "metadata": {},
   "outputs": [
    {
     "data": {
      "text/plain": [
       "(6, 82, 82)"
      ]
     },
     "execution_count": 72,
     "metadata": {},
     "output_type": "execute_result"
    }
   ],
   "source": [
    "# n_event --- > 43\n",
    "start_date = np.datetime64('1982-01-01')\n",
    "dates = start_date + np.arange(14610) * np.timedelta64(1, 'D')\n",
    "\n",
    "# 选择特定日期范围的数据\n",
    "start_date_nino_winter_15 = np.datetime64('2019-06-23')\n",
    "end_date_nino_winter_15 = np.datetime64('2019-06-28')\n",
    "start_index_nino_winter_15 = np.where(dates == start_date_nino_winter_15)[0][0]\n",
    "end_index_nino_winter_15 = np.where(dates == end_date_nino_winter_15)[0][0] + 1  # 注意要加 1，因为切片时 end_index 是开区间\n",
    "target_data_nino_winter_15 = data[start_index_nino_winter_15 : end_index_nino_winter_15]\n",
    "target_data_nino_winter_15.shape"
   ]
  },
  {
   "cell_type": "code",
   "execution_count": 73,
   "id": "3407ed50",
   "metadata": {},
   "outputs": [
    {
     "data": {
      "text/plain": [
       "(10, 82, 82)"
      ]
     },
     "execution_count": 73,
     "metadata": {},
     "output_type": "execute_result"
    }
   ],
   "source": [
    "# n_event --- > 44\n",
    "start_date = np.datetime64('1982-01-01')\n",
    "dates = start_date + np.arange(14610) * np.timedelta64(1, 'D')\n",
    "\n",
    "# 选择特定日期范围的数据\n",
    "start_date_nino_winter_16 = np.datetime64('2019-07-11')\n",
    "end_date_nino_winter_16 = np.datetime64('2019-07-20')\n",
    "start_index_nino_winter_16 = np.where(dates == start_date_nino_winter_16)[0][0]\n",
    "end_index_nino_winter_16 = np.where(dates == end_date_nino_winter_16)[0][0] + 1  # 注意要加 1，因为切片时 end_index 是开区间\n",
    "target_data_nino_winter_16 = data[start_index_nino_winter_16 : end_index_nino_winter_16]\n",
    "target_data_nino_winter_16.shape"
   ]
  },
  {
   "cell_type": "code",
   "execution_count": 74,
   "id": "50dd44e6",
   "metadata": {},
   "outputs": [
    {
     "data": {
      "text/plain": [
       "(5, 82, 82)"
      ]
     },
     "execution_count": 74,
     "metadata": {},
     "output_type": "execute_result"
    }
   ],
   "source": [
    "# n_event --- > 45\n",
    "start_date = np.datetime64('1982-01-01')\n",
    "dates = start_date + np.arange(14610) * np.timedelta64(1, 'D')\n",
    "\n",
    "# 选择特定日期范围的数据\n",
    "start_date_nino_winter_17 = np.datetime64('2019-07-24')\n",
    "end_date_nino_winter_17 = np.datetime64('2019-07-28')\n",
    "start_index_nino_winter_17 = np.where(dates == start_date_nino_winter_17)[0][0]\n",
    "end_index_nino_winter_17 = np.where(dates == end_date_nino_winter_17)[0][0] + 1  # 注意要加 1，因为切片时 end_index 是开区间\n",
    "target_data_nino_winter_17 = data[start_index_nino_winter_17 : end_index_nino_winter_17]\n",
    "target_data_nino_winter_17.shape"
   ]
  },
  {
   "cell_type": "code",
   "execution_count": 75,
   "id": "925fbfce",
   "metadata": {},
   "outputs": [
    {
     "data": {
      "text/plain": [
       "(8, 82, 82)"
      ]
     },
     "execution_count": 75,
     "metadata": {},
     "output_type": "execute_result"
    }
   ],
   "source": [
    "# n_event --- > 46\n",
    "start_date = np.datetime64('1982-01-01')\n",
    "dates = start_date + np.arange(14610) * np.timedelta64(1, 'D')\n",
    "\n",
    "# 选择特定日期范围的数据\n",
    "start_date_nino_winter_18 = np.datetime64('2019-08-01')\n",
    "end_date_nino_winter_18 = np.datetime64('2019-08-08')\n",
    "start_index_nino_winter_18 = np.where(dates == start_date_nino_winter_18)[0][0]\n",
    "end_index_nino_winter_18 = np.where(dates == end_date_nino_winter_18)[0][0] + 1  # 注意要加 1，因为切片时 end_index 是开区间\n",
    "target_data_nino_winter_18 = data[start_index_nino_winter_18 : end_index_nino_winter_18]\n",
    "target_data_nino_winter_18.shape"
   ]
  },
  {
   "cell_type": "code",
   "execution_count": 76,
   "id": "cdd05d70",
   "metadata": {},
   "outputs": [
    {
     "data": {
      "text/plain": [
       "(5, 82, 82)"
      ]
     },
     "execution_count": 76,
     "metadata": {},
     "output_type": "execute_result"
    }
   ],
   "source": [
    "# n_event --- > 47\n",
    "start_date = np.datetime64('1982-01-01')\n",
    "dates = start_date + np.arange(14610) * np.timedelta64(1, 'D')\n",
    "\n",
    "# 选择特定日期范围的数据\n",
    "start_date_nino_winter_19 = np.datetime64('2019-09-12')\n",
    "end_date_nino_winter_19 = np.datetime64('2019-09-16')\n",
    "start_index_nino_winter_19 = np.where(dates == start_date_nino_winter_19)[0][0]\n",
    "end_index_nino_winter_19 = np.where(dates == end_date_nino_winter_19)[0][0] + 1  # 注意要加 1，因为切片时 end_index 是开区间\n",
    "target_data_nino_winter_19 = data[start_index_nino_winter_19 : end_index_nino_winter_19]\n",
    "target_data_nino_winter_19.shape"
   ]
  },
  {
   "cell_type": "code",
   "execution_count": 77,
   "id": "f6d459a1",
   "metadata": {},
   "outputs": [
    {
     "data": {
      "text/plain": [
       "(8, 82, 82)"
      ]
     },
     "execution_count": 77,
     "metadata": {},
     "output_type": "execute_result"
    }
   ],
   "source": [
    "# n_event --- > 52\n",
    "start_date = np.datetime64('1982-01-01')\n",
    "dates = start_date + np.arange(14610) * np.timedelta64(1, 'D')\n",
    "\n",
    "# 选择特定日期范围的数据\n",
    "start_date_nino_winter_20 = np.datetime64('2020-08-03')\n",
    "end_date_nino_winter_20 = np.datetime64('2020-08-10')\n",
    "start_index_nino_winter_20 = np.where(dates == start_date_nino_winter_20)[0][0]\n",
    "end_index_nino_winter_20 = np.where(dates == end_date_nino_winter_20)[0][0] + 1  # 注意要加 1，因为切片时 end_index 是开区间\n",
    "target_data_nino_winter_20 = data[start_index_nino_winter_20 : end_index_nino_winter_20]\n",
    "target_data_nino_winter_20.shape"
   ]
  },
  {
   "cell_type": "code",
   "execution_count": 78,
   "id": "6f357093",
   "metadata": {},
   "outputs": [],
   "source": [
    "#春季 18个event"
   ]
  },
  {
   "cell_type": "code",
   "execution_count": 82,
   "id": "daf63f04",
   "metadata": {
    "scrolled": true
   },
   "outputs": [],
   "source": [
    "np.savez(r'D:\\heat_wave\\atlantic\\Nino_spring_summer_autumn_winter_imshow\\heat_wave_spring_ssta.npz',\n",
    "        target_data_nino_spring_1 = target_data_nino_spring_1, target_data_nino_spring_2 = target_data_nino_spring_2,\n",
    "        target_data_nino_spring_3 = target_data_nino_spring_3, target_data_nino_spring_4 = target_data_nino_spring_4,\n",
    "        target_data_nino_spring_5 = target_data_nino_spring_5, target_data_nino_spring_6 = target_data_nino_spring_6,\n",
    "        target_data_nino_spring_7 = target_data_nino_spring_7, target_data_nino_spring_8 = target_data_nino_spring_8,\n",
    "        target_data_nino_spring_9 = target_data_nino_spring_9, target_data_nino_spring_10 = target_data_nino_spring_10,\n",
    "        target_data_nino_spring_11 = target_data_nino_spring_11, target_data_nino_spring_12 = target_data_nino_spring_12,\n",
    "        target_data_nino_spring_13 = target_data_nino_spring_13, target_data_nino_spring_14 = target_data_nino_spring_14,\n",
    "        target_data_nino_spring_15 = target_data_nino_spring_15, target_data_nino_spring_16 = target_data_nino_spring_16,\n",
    "        target_data_nino_spring_17 = target_data_nino_spring_17, target_data_nino_spring_18 = target_data_nino_spring_18)"
   ]
  },
  {
   "cell_type": "code",
   "execution_count": 80,
   "id": "37000ba5",
   "metadata": {},
   "outputs": [],
   "source": [
    "#夏季 14个 event"
   ]
  },
  {
   "cell_type": "code",
   "execution_count": 83,
   "id": "d4c88507",
   "metadata": {},
   "outputs": [],
   "source": [
    "np.savez(r'D:\\heat_wave\\atlantic\\Nino_spring_summer_autumn_winter_imshow\\heat_wave_summer_ssta.npz',\n",
    "        target_data_nino_summer_1 = target_data_nino_summer_1, target_data_nino_summer_2 = target_data_nino_summer_2,\n",
    "        target_data_nino_summer_3 = target_data_nino_summer_3, target_data_nino_summer_4 = target_data_nino_summer_4,\n",
    "        target_data_nino_summer_5 = target_data_nino_summer_5, target_data_nino_summer_6 = target_data_nino_summer_6,\n",
    "        target_data_nino_summer_7 = target_data_nino_summer_7, target_data_nino_summer_8 = target_data_nino_summer_8,\n",
    "        target_data_nino_summer_9 = target_data_nino_summer_9, target_data_nino_summer_10 = target_data_nino_summer_10,\n",
    "        target_data_nino_summer_11 = target_data_nino_summer_11, target_data_nino_summer_12 = target_data_nino_summer_12,\n",
    "        target_data_nino_summer_13 = target_data_nino_summer_13, target_data_nino_summer_14 = target_data_nino_summer_14)"
   ]
  },
  {
   "cell_type": "code",
   "execution_count": 137,
   "id": "8d7793aa",
   "metadata": {},
   "outputs": [],
   "source": [
    "#秋季 14个 event"
   ]
  },
  {
   "cell_type": "code",
   "execution_count": 84,
   "id": "c803812d",
   "metadata": {},
   "outputs": [],
   "source": [
    "np.savez(r'D:\\heat_wave\\atlantic\\Nino_spring_summer_autumn_winter_imshow\\heat_wave_autumn_ssta.npz',\n",
    "       target_data_nino_autumn_1 = target_data_nino_autumn_1, target_data_nino_autumn_2 = target_data_nino_autumn_2,\n",
    "        target_data_nino_autumn_3 = target_data_nino_autumn_3, target_data_nino_autumn_4 = target_data_nino_autumn_4,\n",
    "        target_data_nino_autumn_5 = target_data_nino_autumn_5, target_data_nino_autumn_6 = target_data_nino_autumn_6,\n",
    "        target_data_nino_autumn_7 = target_data_nino_autumn_7, target_data_nino_autumn_8 = target_data_nino_autumn_8,\n",
    "        target_data_nino_autumn_9 = target_data_nino_autumn_9, target_data_nino_autumn_10 = target_data_nino_autumn_10,\n",
    "        target_data_nino_autumn_11 = target_data_nino_autumn_11, target_data_nino_autumn_12 = target_data_nino_autumn_12,\n",
    "        target_data_nino_autumn_13 = target_data_nino_autumn_13, target_data_nino_autumn_14 = target_data_nino_autumn_14)"
   ]
  },
  {
   "cell_type": "code",
   "execution_count": 141,
   "id": "9b00f5a1",
   "metadata": {},
   "outputs": [],
   "source": [
    "#冬季 20个 event"
   ]
  },
  {
   "cell_type": "code",
   "execution_count": 85,
   "id": "9ab58fcd",
   "metadata": {},
   "outputs": [],
   "source": [
    "np.savez(r'D:\\heat_wave\\atlantic\\Nino_spring_summer_autumn_winter_imshow\\heat_wave_winter_ssta.npz',\n",
    "        target_data_nino_winter_1 = target_data_nino_winter_1, target_data_nino_winter_2 = target_data_nino_winter_2,\n",
    "        target_data_nino_winter_3 = target_data_nino_winter_3, target_data_nino_winter_4 = target_data_nino_winter_4,\n",
    "        target_data_nino_winter_5 = target_data_nino_winter_5, target_data_nino_winter_6 = target_data_nino_winter_6,\n",
    "        target_data_nino_winter_7 = target_data_nino_winter_7, target_data_nino_winter_8 = target_data_nino_winter_8,\n",
    "        target_data_nino_winter_9 = target_data_nino_winter_9, target_data_nino_winter_10 = target_data_nino_winter_10,\n",
    "        target_data_nino_winter_11 = target_data_nino_winter_11, target_data_nino_winter_12 = target_data_nino_winter_12,\n",
    "        target_data_nino_winter_13 = target_data_nino_winter_13, target_data_nino_winter_14 = target_data_nino_winter_14,\n",
    "        target_data_nino_winter_15 = target_data_nino_winter_15, target_data_nino_winter_16 = target_data_nino_winter_16,\n",
    "        target_data_nino_winter_17 = target_data_nino_winter_17, target_data_nino_winter_18 = target_data_nino_winter_18, \n",
    "        target_data_nino_winter_19 = target_data_nino_winter_19, target_data_nino_winter_20 = target_data_nino_winter_20)"
   ]
  },
  {
   "cell_type": "code",
   "execution_count": null,
   "id": "31d76f70",
   "metadata": {},
   "outputs": [],
   "source": []
  }
 ],
 "metadata": {
  "kernelspec": {
   "display_name": "Python 3 (ipykernel)",
   "language": "python",
   "name": "python3"
  },
  "language_info": {
   "codemirror_mode": {
    "name": "ipython",
    "version": 3
   },
   "file_extension": ".py",
   "mimetype": "text/x-python",
   "name": "python",
   "nbconvert_exporter": "python",
   "pygments_lexer": "ipython3",
   "version": "3.8.12"
  }
 },
 "nbformat": 4,
 "nbformat_minor": 5
}

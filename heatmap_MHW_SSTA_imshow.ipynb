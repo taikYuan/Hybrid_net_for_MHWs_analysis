{
 "cells": [
  {
   "cell_type": "code",
   "execution_count": 1,
   "id": "fdecea3e",
   "metadata": {},
   "outputs": [],
   "source": [
    "import numpy as np\n",
    "import matplotlib.pyplot as plt"
   ]
  },
  {
   "cell_type": "code",
   "execution_count": 2,
   "id": "f4b1e478",
   "metadata": {},
   "outputs": [
    {
     "data": {
      "text/plain": [
       "['target_data_nino_spring_1',\n",
       " 'target_data_nino_spring_2',\n",
       " 'target_data_nino_spring_3',\n",
       " 'target_data_nino_spring_4',\n",
       " 'target_data_nino_spring_5',\n",
       " 'target_data_nino_spring_6',\n",
       " 'target_data_nino_spring_7',\n",
       " 'target_data_nino_spring_8',\n",
       " 'target_data_nino_spring_9',\n",
       " 'target_data_nino_spring_10',\n",
       " 'target_data_nino_spring_11',\n",
       " 'target_data_nino_spring_12',\n",
       " 'target_data_nino_spring_13',\n",
       " 'target_data_nino_spring_14',\n",
       " 'target_data_nino_spring_15',\n",
       " 'target_data_nino_spring_16',\n",
       " 'target_data_nino_spring_17',\n",
       " 'target_data_nino_spring_18']"
      ]
     },
     "execution_count": 2,
     "metadata": {},
     "output_type": "execute_result"
    }
   ],
   "source": [
    "spring_data = np.load(r'D:\\heat_wave\\atlantic\\Nino_spring_summer_autumn_winter_imshow\\heat_wave_spring_ssta.npz')\n",
    "spring_data.files"
   ]
  },
  {
   "cell_type": "code",
   "execution_count": 3,
   "id": "85db1aae",
   "metadata": {},
   "outputs": [
    {
     "data": {
      "text/plain": [
       "(11, 82, 82)"
      ]
     },
     "execution_count": 3,
     "metadata": {},
     "output_type": "execute_result"
    }
   ],
   "source": [
    "target_data_nino_spring_1 = spring_data['target_data_nino_spring_1'][:]\n",
    "target_data_nino_spring_1.shape #(11, 82, 82)"
   ]
  },
  {
   "cell_type": "code",
   "execution_count": 4,
   "id": "a47dd335",
   "metadata": {},
   "outputs": [
    {
     "data": {
      "text/plain": [
       "(5, 82, 82)"
      ]
     },
     "execution_count": 4,
     "metadata": {},
     "output_type": "execute_result"
    }
   ],
   "source": [
    "target_data_nino_spring_2 = spring_data['target_data_nino_spring_2'][:]\n",
    "target_data_nino_spring_2.shape #(11, 82, 82)"
   ]
  },
  {
   "cell_type": "code",
   "execution_count": 5,
   "id": "366cba94",
   "metadata": {},
   "outputs": [
    {
     "data": {
      "text/plain": [
       "(39, 82, 82)"
      ]
     },
     "execution_count": 5,
     "metadata": {},
     "output_type": "execute_result"
    }
   ],
   "source": [
    "target_data_nino_spring_3 = spring_data['target_data_nino_spring_3'][:]\n",
    "target_data_nino_spring_3.shape #(11, 82, 82)"
   ]
  },
  {
   "cell_type": "code",
   "execution_count": 6,
   "id": "bef9dd24",
   "metadata": {},
   "outputs": [
    {
     "data": {
      "text/plain": [
       "(26, 82, 82)"
      ]
     },
     "execution_count": 6,
     "metadata": {},
     "output_type": "execute_result"
    }
   ],
   "source": [
    "target_data_nino_spring_4 = spring_data['target_data_nino_spring_4'][:]\n",
    "target_data_nino_spring_4.shape #(11, 82, 82)"
   ]
  },
  {
   "cell_type": "code",
   "execution_count": 7,
   "id": "e6829822",
   "metadata": {},
   "outputs": [
    {
     "data": {
      "text/plain": [
       "(6, 82, 82)"
      ]
     },
     "execution_count": 7,
     "metadata": {},
     "output_type": "execute_result"
    }
   ],
   "source": [
    "target_data_nino_spring_5 = spring_data['target_data_nino_spring_5'][:]\n",
    "target_data_nino_spring_5.shape #(11, 82, 82)"
   ]
  },
  {
   "cell_type": "code",
   "execution_count": 8,
   "id": "bceb6702",
   "metadata": {},
   "outputs": [
    {
     "data": {
      "text/plain": [
       "(22, 82, 82)"
      ]
     },
     "execution_count": 8,
     "metadata": {},
     "output_type": "execute_result"
    }
   ],
   "source": [
    "target_data_nino_spring_6 = spring_data['target_data_nino_spring_6'][:]\n",
    "target_data_nino_spring_6.shape #(11, 82, 82)"
   ]
  },
  {
   "cell_type": "code",
   "execution_count": 9,
   "id": "f512f76c",
   "metadata": {},
   "outputs": [
    {
     "data": {
      "text/plain": [
       "(7, 82, 82)"
      ]
     },
     "execution_count": 9,
     "metadata": {},
     "output_type": "execute_result"
    }
   ],
   "source": [
    "target_data_nino_spring_7 = spring_data['target_data_nino_spring_7'][:]\n",
    "target_data_nino_spring_7.shape #(11, 82, 82)"
   ]
  },
  {
   "cell_type": "code",
   "execution_count": 10,
   "id": "2c160110",
   "metadata": {},
   "outputs": [
    {
     "data": {
      "text/plain": [
       "(6, 82, 82)"
      ]
     },
     "execution_count": 10,
     "metadata": {},
     "output_type": "execute_result"
    }
   ],
   "source": [
    "target_data_nino_spring_8 = spring_data['target_data_nino_spring_8'][:]\n",
    "target_data_nino_spring_8.shape #(11, 82, 82)"
   ]
  },
  {
   "cell_type": "code",
   "execution_count": 11,
   "id": "f2fb5bdb",
   "metadata": {},
   "outputs": [
    {
     "data": {
      "text/plain": [
       "(8, 82, 82)"
      ]
     },
     "execution_count": 11,
     "metadata": {},
     "output_type": "execute_result"
    }
   ],
   "source": [
    "target_data_nino_spring_9 = spring_data['target_data_nino_spring_9'][:]\n",
    "target_data_nino_spring_9.shape #(11, 82, 82)"
   ]
  },
  {
   "cell_type": "code",
   "execution_count": 12,
   "id": "6278d46e",
   "metadata": {},
   "outputs": [
    {
     "data": {
      "text/plain": [
       "(16, 82, 82)"
      ]
     },
     "execution_count": 12,
     "metadata": {},
     "output_type": "execute_result"
    }
   ],
   "source": [
    "target_data_nino_spring_10 = spring_data['target_data_nino_spring_10'][:]\n",
    "target_data_nino_spring_10.shape #(11, 82, 82)"
   ]
  },
  {
   "cell_type": "code",
   "execution_count": 13,
   "id": "9ab0c7e3",
   "metadata": {},
   "outputs": [
    {
     "data": {
      "text/plain": [
       "(25, 82, 82)"
      ]
     },
     "execution_count": 13,
     "metadata": {},
     "output_type": "execute_result"
    }
   ],
   "source": [
    "target_data_nino_spring_11 = spring_data['target_data_nino_spring_11'][:]\n",
    "target_data_nino_spring_11.shape #(11, 82, 82)"
   ]
  },
  {
   "cell_type": "code",
   "execution_count": 14,
   "id": "21966a7f",
   "metadata": {},
   "outputs": [
    {
     "data": {
      "text/plain": [
       "(5, 82, 82)"
      ]
     },
     "execution_count": 14,
     "metadata": {},
     "output_type": "execute_result"
    }
   ],
   "source": [
    "target_data_nino_spring_12 = spring_data['target_data_nino_spring_12'][:]\n",
    "target_data_nino_spring_12.shape #(11, 82, 82)"
   ]
  },
  {
   "cell_type": "code",
   "execution_count": 15,
   "id": "bb8f8e31",
   "metadata": {},
   "outputs": [
    {
     "data": {
      "text/plain": [
       "(81, 82, 82)"
      ]
     },
     "execution_count": 15,
     "metadata": {},
     "output_type": "execute_result"
    }
   ],
   "source": [
    "target_data_nino_spring_13 = spring_data['target_data_nino_spring_13'][:]\n",
    "target_data_nino_spring_13.shape #(11, 82, 82)"
   ]
  },
  {
   "cell_type": "code",
   "execution_count": 16,
   "id": "071d7bea",
   "metadata": {},
   "outputs": [
    {
     "data": {
      "text/plain": [
       "(10, 82, 82)"
      ]
     },
     "execution_count": 16,
     "metadata": {},
     "output_type": "execute_result"
    }
   ],
   "source": [
    "target_data_nino_spring_14 = spring_data['target_data_nino_spring_14'][:]\n",
    "target_data_nino_spring_14.shape #(11, 82, 82)"
   ]
  },
  {
   "cell_type": "code",
   "execution_count": 17,
   "id": "06cb4ce2",
   "metadata": {},
   "outputs": [
    {
     "data": {
      "text/plain": [
       "(11, 82, 82)"
      ]
     },
     "execution_count": 17,
     "metadata": {},
     "output_type": "execute_result"
    }
   ],
   "source": [
    "target_data_nino_spring_15 = spring_data['target_data_nino_spring_15'][:]\n",
    "target_data_nino_spring_15.shape #(11, 82, 82)"
   ]
  },
  {
   "cell_type": "code",
   "execution_count": 18,
   "id": "ebc2584d",
   "metadata": {},
   "outputs": [
    {
     "data": {
      "text/plain": [
       "(6, 82, 82)"
      ]
     },
     "execution_count": 18,
     "metadata": {},
     "output_type": "execute_result"
    }
   ],
   "source": [
    "target_data_nino_spring_16 = spring_data['target_data_nino_spring_16'][:]\n",
    "target_data_nino_spring_16.shape #(11, 82, 82)"
   ]
  },
  {
   "cell_type": "code",
   "execution_count": 19,
   "id": "5b9b4174",
   "metadata": {},
   "outputs": [
    {
     "data": {
      "text/plain": [
       "(7, 82, 82)"
      ]
     },
     "execution_count": 19,
     "metadata": {},
     "output_type": "execute_result"
    }
   ],
   "source": [
    "target_data_nino_spring_17 = spring_data['target_data_nino_spring_17'][:]\n",
    "target_data_nino_spring_17.shape #(11, 82, 82)"
   ]
  },
  {
   "cell_type": "code",
   "execution_count": 20,
   "id": "0a759e47",
   "metadata": {},
   "outputs": [
    {
     "data": {
      "text/plain": [
       "(7, 82, 82)"
      ]
     },
     "execution_count": 20,
     "metadata": {},
     "output_type": "execute_result"
    }
   ],
   "source": [
    "target_data_nino_spring_18 = spring_data['target_data_nino_spring_18'][:]\n",
    "target_data_nino_spring_18.shape #(11, 82, 82)"
   ]
  },
  {
   "cell_type": "code",
   "execution_count": 21,
   "id": "b03571d2",
   "metadata": {},
   "outputs": [
    {
     "data": {
      "text/plain": [
       "(298, 82, 82)"
      ]
     },
     "execution_count": 21,
     "metadata": {},
     "output_type": "execute_result"
    }
   ],
   "source": [
    "target_data_nino_spring = np.concatenate((target_data_nino_spring_1, target_data_nino_spring_2,\n",
    "                                         target_data_nino_spring_3, target_data_nino_spring_4,\n",
    "                                         target_data_nino_spring_5, target_data_nino_spring_6,\n",
    "                                         target_data_nino_spring_7, target_data_nino_spring_8,\n",
    "                                         target_data_nino_spring_9, target_data_nino_spring_10,\n",
    "                                         target_data_nino_spring_11, target_data_nino_spring_12,\n",
    "                                         target_data_nino_spring_13, target_data_nino_spring_14,\n",
    "                                         target_data_nino_spring_15, target_data_nino_spring_16,\n",
    "                                         target_data_nino_spring_17, target_data_nino_spring_18), axis = 0)\n",
    "target_data_nino_spring.shape"
   ]
  },
  {
   "cell_type": "code",
   "execution_count": 22,
   "id": "8aec6c7b",
   "metadata": {},
   "outputs": [
    {
     "data": {
      "text/plain": [
       "(82, 82)"
      ]
     },
     "execution_count": 22,
     "metadata": {},
     "output_type": "execute_result"
    }
   ],
   "source": [
    "target_data_nino_spring1 = np.mean(target_data_nino_spring, axis = 0)\n",
    "target_data_nino_spring1.shape"
   ]
  },
  {
   "cell_type": "code",
   "execution_count": 42,
   "id": "7b8f1d4b",
   "metadata": {},
   "outputs": [
    {
     "data": {
      "image/png": "[encoded data removed]",
      "text/plain": [
       "<Figure size 432x288 with 2 Axes>"
      ]
     },
     "metadata": {
      "needs_background": "light"
     },
     "output_type": "display_data"
    }
   ],
   "source": [
    "import matplotlib.colors as colors \n",
    "cmap = colors.LinearSegmentedColormap.from_list('SST', [(0,'blue'), (0.5,'white'), (1,'red')])\n",
    "# cmap = plt.cm.get_cmap('YlGn')\n",
    "# cmap = colors.LinearSegmentedColormap.from_list('SST', [(0,'white'), (0.8,'red'), (1,'orange')])\n",
    "\n",
    "x_ticks = [1,20,40,60,80]\n",
    "x_labels = ['30W','25W','20W','15W','10W']\n",
    "plt.xticks(x_ticks, x_labels)\n",
    "\n",
    "y_ticks = [0, 20,40, 60, 80]\n",
    "y_labels = ['10S','15S', '20S','25S','30S']\n",
    "plt.yticks(y_ticks, y_labels)\n",
    "\n",
    "plt.imshow(target_data_nino_spring1, cmap=cmap, interpolation='nearest')\n",
    "plt.colorbar()\n",
    "plt.show()"
   ]
  },
  {
   "cell_type": "code",
   "execution_count": null,
   "id": "fda960e1",
   "metadata": {},
   "outputs": [],
   "source": []
  },
  {
   "cell_type": "code",
   "execution_count": 43,
   "id": "b7a1867e",
   "metadata": {},
   "outputs": [
    {
     "data": {
      "text/plain": [
       "['target_data_nino_summer_1',\n",
       " 'target_data_nino_summer_2',\n",
       " 'target_data_nino_summer_3',\n",
       " 'target_data_nino_summer_4',\n",
       " 'target_data_nino_summer_5',\n",
       " 'target_data_nino_summer_6',\n",
       " 'target_data_nino_summer_7',\n",
       " 'target_data_nino_summer_8',\n",
       " 'target_data_nino_summer_9',\n",
       " 'target_data_nino_summer_10',\n",
       " 'target_data_nino_summer_11',\n",
       " 'target_data_nino_summer_12',\n",
       " 'target_data_nino_summer_13',\n",
       " 'target_data_nino_summer_14']"
      ]
     },
     "execution_count": 43,
     "metadata": {},
     "output_type": "execute_result"
    }
   ],
   "source": [
    "summer_data = np.load(r'D:\\heat_wave\\atlantic\\Nino_spring_summer_autumn_winter_imshow\\heat_wave_summer_ssta.npz')\n",
    "summer_data.files"
   ]
  },
  {
   "cell_type": "code",
   "execution_count": 45,
   "id": "07f62884",
   "metadata": {},
   "outputs": [
    {
     "data": {
      "text/plain": [
       "(8, 82, 82)"
      ]
     },
     "execution_count": 45,
     "metadata": {},
     "output_type": "execute_result"
    }
   ],
   "source": [
    "target_data_nino_summer_1 = summer_data['target_data_nino_summer_1'][:]\n",
    "target_data_nino_summer_1.shape #(11, 82, 82)"
   ]
  },
  {
   "cell_type": "code",
   "execution_count": 46,
   "id": "532d6c9f",
   "metadata": {},
   "outputs": [
    {
     "data": {
      "text/plain": [
       "(9, 82, 82)"
      ]
     },
     "execution_count": 46,
     "metadata": {},
     "output_type": "execute_result"
    }
   ],
   "source": [
    "target_data_nino_summer_2 = summer_data['target_data_nino_summer_2'][:]\n",
    "target_data_nino_summer_2.shape #(11, 82, 82)"
   ]
  },
  {
   "cell_type": "code",
   "execution_count": 47,
   "id": "494ded77",
   "metadata": {},
   "outputs": [
    {
     "data": {
      "text/plain": [
       "(43, 82, 82)"
      ]
     },
     "execution_count": 47,
     "metadata": {},
     "output_type": "execute_result"
    }
   ],
   "source": [
    "target_data_nino_summer_3 = summer_data['target_data_nino_summer_3'][:]\n",
    "target_data_nino_summer_3.shape #(11, 82, 82)"
   ]
  },
  {
   "cell_type": "code",
   "execution_count": 48,
   "id": "624a824a",
   "metadata": {},
   "outputs": [
    {
     "data": {
      "text/plain": [
       "(88, 82, 82)"
      ]
     },
     "execution_count": 48,
     "metadata": {},
     "output_type": "execute_result"
    }
   ],
   "source": [
    "target_data_nino_summer_4 = summer_data['target_data_nino_summer_4'][:]\n",
    "target_data_nino_summer_4.shape #(11, 82, 82)"
   ]
  },
  {
   "cell_type": "code",
   "execution_count": 49,
   "id": "919fbc19",
   "metadata": {},
   "outputs": [
    {
     "data": {
      "text/plain": [
       "(18, 82, 82)"
      ]
     },
     "execution_count": 49,
     "metadata": {},
     "output_type": "execute_result"
    }
   ],
   "source": [
    "target_data_nino_summer_5 = summer_data['target_data_nino_summer_5'][:]\n",
    "target_data_nino_summer_5.shape #(11, 82, 82)"
   ]
  },
  {
   "cell_type": "code",
   "execution_count": 50,
   "id": "be0c7546",
   "metadata": {},
   "outputs": [
    {
     "data": {
      "text/plain": [
       "(18, 82, 82)"
      ]
     },
     "execution_count": 50,
     "metadata": {},
     "output_type": "execute_result"
    }
   ],
   "source": [
    "target_data_nino_summer_6 = summer_data['target_data_nino_summer_6'][:]\n",
    "target_data_nino_summer_6.shape #(11, 82, 82)"
   ]
  },
  {
   "cell_type": "code",
   "execution_count": 51,
   "id": "e5ccc7ef",
   "metadata": {},
   "outputs": [
    {
     "data": {
      "text/plain": [
       "(10, 82, 82)"
      ]
     },
     "execution_count": 51,
     "metadata": {},
     "output_type": "execute_result"
    }
   ],
   "source": [
    "target_data_nino_summer_7 = summer_data['target_data_nino_summer_7'][:]\n",
    "target_data_nino_summer_7.shape #(11, 82, 82)"
   ]
  },
  {
   "cell_type": "code",
   "execution_count": 52,
   "id": "aa091968",
   "metadata": {},
   "outputs": [
    {
     "data": {
      "text/plain": [
       "(37, 82, 82)"
      ]
     },
     "execution_count": 52,
     "metadata": {},
     "output_type": "execute_result"
    }
   ],
   "source": [
    "target_data_nino_summer_8 = summer_data['target_data_nino_summer_8'][:]\n",
    "target_data_nino_summer_8.shape #(11, 82, 82)"
   ]
  },
  {
   "cell_type": "code",
   "execution_count": 53,
   "id": "042039ee",
   "metadata": {},
   "outputs": [
    {
     "data": {
      "text/plain": [
       "(6, 82, 82)"
      ]
     },
     "execution_count": 53,
     "metadata": {},
     "output_type": "execute_result"
    }
   ],
   "source": [
    "target_data_nino_summer_9 = summer_data['target_data_nino_summer_9'][:]\n",
    "target_data_nino_summer_9.shape #(11, 82, 82)"
   ]
  },
  {
   "cell_type": "code",
   "execution_count": 54,
   "id": "4f428f05",
   "metadata": {},
   "outputs": [
    {
     "data": {
      "text/plain": [
       "(20, 82, 82)"
      ]
     },
     "execution_count": 54,
     "metadata": {},
     "output_type": "execute_result"
    }
   ],
   "source": [
    "target_data_nino_summer_10 = summer_data['target_data_nino_summer_10'][:]\n",
    "target_data_nino_summer_10.shape #(11, 82, 82)"
   ]
  },
  {
   "cell_type": "code",
   "execution_count": 55,
   "id": "f30ced87",
   "metadata": {},
   "outputs": [
    {
     "data": {
      "text/plain": [
       "(23, 82, 82)"
      ]
     },
     "execution_count": 55,
     "metadata": {},
     "output_type": "execute_result"
    }
   ],
   "source": [
    "target_data_nino_summer_11 = summer_data['target_data_nino_summer_11'][:]\n",
    "target_data_nino_summer_11.shape #(11, 82, 82)"
   ]
  },
  {
   "cell_type": "code",
   "execution_count": 56,
   "id": "e8f416bf",
   "metadata": {},
   "outputs": [
    {
     "data": {
      "text/plain": [
       "(34, 82, 82)"
      ]
     },
     "execution_count": 56,
     "metadata": {},
     "output_type": "execute_result"
    }
   ],
   "source": [
    "target_data_nino_summer_12 = summer_data['target_data_nino_summer_12'][:]\n",
    "target_data_nino_summer_12.shape #(11, 82, 82)"
   ]
  },
  {
   "cell_type": "code",
   "execution_count": 57,
   "id": "4fd4a9d8",
   "metadata": {},
   "outputs": [
    {
     "data": {
      "text/plain": [
       "(17, 82, 82)"
      ]
     },
     "execution_count": 57,
     "metadata": {},
     "output_type": "execute_result"
    }
   ],
   "source": [
    "target_data_nino_summer_13 = summer_data['target_data_nino_summer_13'][:]\n",
    "target_data_nino_summer_13.shape #(11, 82, 82)"
   ]
  },
  {
   "cell_type": "code",
   "execution_count": 58,
   "id": "030cbb7e",
   "metadata": {},
   "outputs": [
    {
     "data": {
      "text/plain": [
       "(6, 82, 82)"
      ]
     },
     "execution_count": 58,
     "metadata": {},
     "output_type": "execute_result"
    }
   ],
   "source": [
    "target_data_nino_summer_14 = summer_data['target_data_nino_summer_14'][:]\n",
    "target_data_nino_summer_14.shape #(11, 82, 82)"
   ]
  },
  {
   "cell_type": "code",
   "execution_count": 59,
   "id": "cd9a1e0f",
   "metadata": {},
   "outputs": [
    {
     "data": {
      "text/plain": [
       "(337, 82, 82)"
      ]
     },
     "execution_count": 59,
     "metadata": {},
     "output_type": "execute_result"
    }
   ],
   "source": [
    "target_data_nino_summer = np.concatenate((target_data_nino_summer_1, target_data_nino_summer_2,\n",
    "                                         target_data_nino_summer_3, target_data_nino_summer_4, \n",
    "                                         target_data_nino_summer_5, target_data_nino_summer_6,\n",
    "                                         target_data_nino_summer_7, target_data_nino_summer_8,\n",
    "                                         target_data_nino_summer_9, target_data_nino_summer_10,\n",
    "                                         target_data_nino_summer_11, target_data_nino_summer_12,\n",
    "                                         target_data_nino_summer_13, target_data_nino_summer_14), axis = 0)\n",
    "target_data_nino_summer.shape"
   ]
  },
  {
   "cell_type": "code",
   "execution_count": 60,
   "id": "71f03f64",
   "metadata": {},
   "outputs": [
    {
     "data": {
      "text/plain": [
       "(82, 82)"
      ]
     },
     "execution_count": 60,
     "metadata": {},
     "output_type": "execute_result"
    }
   ],
   "source": [
    "target_data_nino_summer1 = np.mean(target_data_nino_summer, axis = 0)\n",
    "target_data_nino_summer1.shape"
   ]
  },
  {
   "cell_type": "code",
   "execution_count": 61,
   "id": "0557a887",
   "metadata": {},
   "outputs": [
    {
     "data": {
      "image/png": "[encoded data removed]",
      "text/plain": [
       "<Figure size 432x288 with 2 Axes>"
      ]
     },
     "metadata": {
      "needs_background": "light"
     },
     "output_type": "display_data"
    }
   ],
   "source": [
    "import matplotlib.colors as colors \n",
    "cmap = colors.LinearSegmentedColormap.from_list('SST', [(0,'blue'), (0.5,'white'), (1,'red')])\n",
    "# cmap = plt.cm.get_cmap('YlGn')\n",
    "# cmap = colors.LinearSegmentedColormap.from_list('SST', [(0,'white'), (0.8,'red'), (1,'orange')])\n",
    "\n",
    "x_ticks = [1,20,40,60,80]\n",
    "x_labels = ['30W','25W','20W','15W','10W']\n",
    "plt.xticks(x_ticks, x_labels)\n",
    "\n",
    "y_ticks = [0, 20,40, 60, 80]\n",
    "y_labels = ['10S','15S', '20S','25S','30S']\n",
    "plt.yticks(y_ticks, y_labels)\n",
    "\n",
    "plt.imshow(target_data_nino_summer1, cmap=cmap, interpolation='nearest')\n",
    "plt.colorbar()\n",
    "plt.show()"
   ]
  },
  {
   "cell_type": "code",
   "execution_count": 62,
   "id": "9de7f687",
   "metadata": {},
   "outputs": [
    {
     "data": {
      "text/plain": [
       "['target_data_nino_autumn_1',\n",
       " 'target_data_nino_autumn_2',\n",
       " 'target_data_nino_autumn_3',\n",
       " 'target_data_nino_autumn_4',\n",
       " 'target_data_nino_autumn_5',\n",
       " 'target_data_nino_autumn_6',\n",
       " 'target_data_nino_autumn_7',\n",
       " 'target_data_nino_autumn_8',\n",
       " 'target_data_nino_autumn_9',\n",
       " 'target_data_nino_autumn_10',\n",
       " 'target_data_nino_autumn_11',\n",
       " 'target_data_nino_autumn_12',\n",
       " 'target_data_nino_autumn_13',\n",
       " 'target_data_nino_autumn_14']"
      ]
     },
     "execution_count": 62,
     "metadata": {},
     "output_type": "execute_result"
    }
   ],
   "source": [
    "autumn_data = np.load(r'D:\\heat_wave\\atlantic\\Nino_spring_summer_autumn_winter_imshow\\heat_wave_autumn_ssta.npz')\n",
    "autumn_data.files"
   ]
  },
  {
   "cell_type": "code",
   "execution_count": 63,
   "id": "4b8806f1",
   "metadata": {},
   "outputs": [
    {
     "data": {
      "text/plain": [
       "(13, 82, 82)"
      ]
     },
     "execution_count": 63,
     "metadata": {},
     "output_type": "execute_result"
    }
   ],
   "source": [
    "target_data_nino_autumn_1 = autumn_data['target_data_nino_autumn_1'][:]\n",
    "target_data_nino_autumn_1.shape"
   ]
  },
  {
   "cell_type": "code",
   "execution_count": 64,
   "id": "a637b384",
   "metadata": {},
   "outputs": [
    {
     "data": {
      "text/plain": [
       "(10, 82, 82)"
      ]
     },
     "execution_count": 64,
     "metadata": {},
     "output_type": "execute_result"
    }
   ],
   "source": [
    "target_data_nino_autumn_2 = autumn_data['target_data_nino_autumn_2'][:]\n",
    "target_data_nino_autumn_2.shape"
   ]
  },
  {
   "cell_type": "code",
   "execution_count": 65,
   "id": "efd946ee",
   "metadata": {},
   "outputs": [
    {
     "data": {
      "text/plain": [
       "(34, 82, 82)"
      ]
     },
     "execution_count": 65,
     "metadata": {},
     "output_type": "execute_result"
    }
   ],
   "source": [
    "target_data_nino_autumn_3 = autumn_data['target_data_nino_autumn_3'][:]\n",
    "target_data_nino_autumn_3.shape"
   ]
  },
  {
   "cell_type": "code",
   "execution_count": 66,
   "id": "3360afe4",
   "metadata": {},
   "outputs": [
    {
     "data": {
      "text/plain": [
       "(26, 82, 82)"
      ]
     },
     "execution_count": 66,
     "metadata": {},
     "output_type": "execute_result"
    }
   ],
   "source": [
    "target_data_nino_autumn_4 = autumn_data['target_data_nino_autumn_4'][:]\n",
    "target_data_nino_autumn_4.shape"
   ]
  },
  {
   "cell_type": "code",
   "execution_count": 67,
   "id": "c497f79f",
   "metadata": {},
   "outputs": [
    {
     "data": {
      "text/plain": [
       "(9, 82, 82)"
      ]
     },
     "execution_count": 67,
     "metadata": {},
     "output_type": "execute_result"
    }
   ],
   "source": [
    "target_data_nino_autumn_5 = autumn_data['target_data_nino_autumn_5'][:]\n",
    "target_data_nino_autumn_5.shape"
   ]
  },
  {
   "cell_type": "code",
   "execution_count": 68,
   "id": "cb8b5942",
   "metadata": {},
   "outputs": [
    {
     "data": {
      "text/plain": [
       "(9, 82, 82)"
      ]
     },
     "execution_count": 68,
     "metadata": {},
     "output_type": "execute_result"
    }
   ],
   "source": [
    "target_data_nino_autumn_6 = autumn_data['target_data_nino_autumn_6'][:]\n",
    "target_data_nino_autumn_6.shape"
   ]
  },
  {
   "cell_type": "code",
   "execution_count": 69,
   "id": "404177f6",
   "metadata": {},
   "outputs": [
    {
     "data": {
      "text/plain": [
       "(29, 82, 82)"
      ]
     },
     "execution_count": 69,
     "metadata": {},
     "output_type": "execute_result"
    }
   ],
   "source": [
    "target_data_nino_autumn_7 = autumn_data['target_data_nino_autumn_7'][:]\n",
    "target_data_nino_autumn_7.shape"
   ]
  },
  {
   "cell_type": "code",
   "execution_count": 70,
   "id": "79281dc7",
   "metadata": {},
   "outputs": [
    {
     "data": {
      "text/plain": [
       "(48, 82, 82)"
      ]
     },
     "execution_count": 70,
     "metadata": {},
     "output_type": "execute_result"
    }
   ],
   "source": [
    "target_data_nino_autumn_8 = autumn_data['target_data_nino_autumn_8'][:]\n",
    "target_data_nino_autumn_8.shape"
   ]
  },
  {
   "cell_type": "code",
   "execution_count": 71,
   "id": "d2dba1da",
   "metadata": {},
   "outputs": [
    {
     "data": {
      "text/plain": [
       "(8, 82, 82)"
      ]
     },
     "execution_count": 71,
     "metadata": {},
     "output_type": "execute_result"
    }
   ],
   "source": [
    "target_data_nino_autumn_9 = autumn_data['target_data_nino_autumn_9'][:]\n",
    "target_data_nino_autumn_9.shape"
   ]
  },
  {
   "cell_type": "code",
   "execution_count": 72,
   "id": "eb24b637",
   "metadata": {},
   "outputs": [
    {
     "data": {
      "text/plain": [
       "(12, 82, 82)"
      ]
     },
     "execution_count": 72,
     "metadata": {},
     "output_type": "execute_result"
    }
   ],
   "source": [
    "target_data_nino_autumn_10 = autumn_data['target_data_nino_autumn_10'][:]\n",
    "target_data_nino_autumn_10.shape"
   ]
  },
  {
   "cell_type": "code",
   "execution_count": 73,
   "id": "2798a833",
   "metadata": {},
   "outputs": [
    {
     "data": {
      "text/plain": [
       "(94, 82, 82)"
      ]
     },
     "execution_count": 73,
     "metadata": {},
     "output_type": "execute_result"
    }
   ],
   "source": [
    "target_data_nino_autumn_11 = autumn_data['target_data_nino_autumn_11'][:]\n",
    "target_data_nino_autumn_11.shape"
   ]
  },
  {
   "cell_type": "code",
   "execution_count": 74,
   "id": "e2bafc75",
   "metadata": {},
   "outputs": [
    {
     "data": {
      "text/plain": [
       "(61, 82, 82)"
      ]
     },
     "execution_count": 74,
     "metadata": {},
     "output_type": "execute_result"
    }
   ],
   "source": [
    "target_data_nino_autumn_12 = autumn_data['target_data_nino_autumn_12'][:]\n",
    "target_data_nino_autumn_12.shape"
   ]
  },
  {
   "cell_type": "code",
   "execution_count": 75,
   "id": "e4cc6a73",
   "metadata": {},
   "outputs": [
    {
     "data": {
      "text/plain": [
       "(6, 82, 82)"
      ]
     },
     "execution_count": 75,
     "metadata": {},
     "output_type": "execute_result"
    }
   ],
   "source": [
    "target_data_nino_autumn_13 = autumn_data['target_data_nino_autumn_13'][:]\n",
    "target_data_nino_autumn_13.shape"
   ]
  },
  {
   "cell_type": "code",
   "execution_count": 76,
   "id": "fc846f8e",
   "metadata": {},
   "outputs": [
    {
     "data": {
      "text/plain": [
       "(15, 82, 82)"
      ]
     },
     "execution_count": 76,
     "metadata": {},
     "output_type": "execute_result"
    }
   ],
   "source": [
    "target_data_nino_autumn_14 = autumn_data['target_data_nino_autumn_14'][:]\n",
    "target_data_nino_autumn_14.shape"
   ]
  },
  {
   "cell_type": "code",
   "execution_count": 77,
   "id": "82bcd3e2",
   "metadata": {},
   "outputs": [
    {
     "data": {
      "text/plain": [
       "(374, 82, 82)"
      ]
     },
     "execution_count": 77,
     "metadata": {},
     "output_type": "execute_result"
    }
   ],
   "source": [
    "target_data_nino_autumn= np.concatenate((target_data_nino_autumn_1, target_data_nino_autumn_2,\n",
    "                                        target_data_nino_autumn_3, target_data_nino_autumn_4,\n",
    "                                        target_data_nino_autumn_5, target_data_nino_autumn_6,\n",
    "                                        target_data_nino_autumn_7, target_data_nino_autumn_8,\n",
    "                                        target_data_nino_autumn_9, target_data_nino_autumn_10,\n",
    "                                        target_data_nino_autumn_11, target_data_nino_autumn_12,\n",
    "                                        target_data_nino_autumn_13, target_data_nino_autumn_14), axis = 0)\n",
    "target_data_nino_autumn.shape"
   ]
  },
  {
   "cell_type": "code",
   "execution_count": 78,
   "id": "febe0e02",
   "metadata": {},
   "outputs": [
    {
     "data": {
      "text/plain": [
       "(82, 82)"
      ]
     },
     "execution_count": 78,
     "metadata": {},
     "output_type": "execute_result"
    }
   ],
   "source": [
    "target_data_nino_autumn1 = np.mean(target_data_nino_autumn, axis = 0)\n",
    "target_data_nino_autumn1.shape"
   ]
  },
  {
   "cell_type": "code",
   "execution_count": 79,
   "id": "a7161daf",
   "metadata": {},
   "outputs": [
    {
     "data": {
      "image/png": "[encoded data removed]",
      "text/plain": [
       "<Figure size 432x288 with 2 Axes>"
      ]
     },
     "metadata": {
      "needs_background": "light"
     },
     "output_type": "display_data"
    }
   ],
   "source": [
    "import matplotlib.colors as colors \n",
    "cmap = colors.LinearSegmentedColormap.from_list('SST', [(0,'blue'), (0.5,'white'), (1,'red')])\n",
    "# cmap = plt.cm.get_cmap('YlGn')\n",
    "# cmap = colors.LinearSegmentedColormap.from_list('SST', [(0,'white'), (0.8,'red'), (1,'orange')])\n",
    "\n",
    "x_ticks = [1,20,40,60,80]\n",
    "x_labels = ['30W','25W','20W','15W','10W']\n",
    "plt.xticks(x_ticks, x_labels)\n",
    "\n",
    "y_ticks = [0, 20,40, 60, 80]\n",
    "y_labels = ['10S','15S', '20S','25S','30S']\n",
    "plt.yticks(y_ticks, y_labels)\n",
    "\n",
    "plt.imshow(target_data_nino_autumn1, cmap=cmap, interpolation='nearest')\n",
    "plt.colorbar()\n",
    "plt.show()"
   ]
  },
  {
   "cell_type": "code",
   "execution_count": 81,
   "id": "7c9ed371",
   "metadata": {},
   "outputs": [
    {
     "data": {
      "text/plain": [
       "['target_data_nino_winter_1',\n",
       " 'target_data_nino_winter_2',\n",
       " 'target_data_nino_winter_3',\n",
       " 'target_data_nino_winter_4',\n",
       " 'target_data_nino_winter_5',\n",
       " 'target_data_nino_winter_6',\n",
       " 'target_data_nino_winter_7',\n",
       " 'target_data_nino_winter_8',\n",
       " 'target_data_nino_winter_9',\n",
       " 'target_data_nino_winter_10',\n",
       " 'target_data_nino_winter_11',\n",
       " 'target_data_nino_winter_12',\n",
       " 'target_data_nino_winter_13',\n",
       " 'target_data_nino_winter_14',\n",
       " 'target_data_nino_winter_15',\n",
       " 'target_data_nino_winter_16',\n",
       " 'target_data_nino_winter_17',\n",
       " 'target_data_nino_winter_18',\n",
       " 'target_data_nino_winter_19',\n",
       " 'target_data_nino_winter_20']"
      ]
     },
     "execution_count": 81,
     "metadata": {},
     "output_type": "execute_result"
    }
   ],
   "source": [
    "winter_data = np.load(r'D:\\heat_wave\\atlantic\\Nino_spring_summer_autumn_winter_imshow\\heat_wave_winter_ssta.npz')\n",
    "winter_data.files"
   ]
  },
  {
   "cell_type": "code",
   "execution_count": 82,
   "id": "e9141864",
   "metadata": {},
   "outputs": [
    {
     "data": {
      "text/plain": [
       "(8, 82, 82)"
      ]
     },
     "execution_count": 82,
     "metadata": {},
     "output_type": "execute_result"
    }
   ],
   "source": [
    "target_data_nino_winter_1 = winter_data['target_data_nino_winter_1'][:]\n",
    "target_data_nino_winter_1.shape"
   ]
  },
  {
   "cell_type": "code",
   "execution_count": 83,
   "id": "f8cf3024",
   "metadata": {},
   "outputs": [
    {
     "data": {
      "text/plain": [
       "(5, 82, 82)"
      ]
     },
     "execution_count": 83,
     "metadata": {},
     "output_type": "execute_result"
    }
   ],
   "source": [
    "target_data_nino_winter_2 = winter_data['target_data_nino_winter_2'][:]\n",
    "target_data_nino_winter_2.shape"
   ]
  },
  {
   "cell_type": "code",
   "execution_count": 84,
   "id": "1ee68f1c",
   "metadata": {},
   "outputs": [
    {
     "data": {
      "text/plain": [
       "(16, 82, 82)"
      ]
     },
     "execution_count": 84,
     "metadata": {},
     "output_type": "execute_result"
    }
   ],
   "source": [
    "target_data_nino_winter_3 = winter_data['target_data_nino_winter_3'][:]\n",
    "target_data_nino_winter_3.shape"
   ]
  },
  {
   "cell_type": "code",
   "execution_count": 85,
   "id": "3901ae22",
   "metadata": {},
   "outputs": [
    {
     "data": {
      "text/plain": [
       "(6, 82, 82)"
      ]
     },
     "execution_count": 85,
     "metadata": {},
     "output_type": "execute_result"
    }
   ],
   "source": [
    "target_data_nino_winter_4 = winter_data['target_data_nino_winter_4'][:]\n",
    "target_data_nino_winter_4.shape"
   ]
  },
  {
   "cell_type": "code",
   "execution_count": 86,
   "id": "7058fba7",
   "metadata": {},
   "outputs": [
    {
     "data": {
      "text/plain": [
       "(9, 82, 82)"
      ]
     },
     "execution_count": 86,
     "metadata": {},
     "output_type": "execute_result"
    }
   ],
   "source": [
    "target_data_nino_winter_5 = winter_data['target_data_nino_winter_5'][:]\n",
    "target_data_nino_winter_5.shape"
   ]
  },
  {
   "cell_type": "code",
   "execution_count": 87,
   "id": "269c1747",
   "metadata": {},
   "outputs": [
    {
     "data": {
      "text/plain": [
       "(2, 82, 82)"
      ]
     },
     "execution_count": 87,
     "metadata": {},
     "output_type": "execute_result"
    }
   ],
   "source": [
    "target_data_nino_winter_6 = winter_data['target_data_nino_winter_6'][:]\n",
    "target_data_nino_winter_6.shape"
   ]
  },
  {
   "cell_type": "code",
   "execution_count": 88,
   "id": "b52a9977",
   "metadata": {},
   "outputs": [
    {
     "data": {
      "text/plain": [
       "(27, 82, 82)"
      ]
     },
     "execution_count": 88,
     "metadata": {},
     "output_type": "execute_result"
    }
   ],
   "source": [
    "target_data_nino_winter_7 = winter_data['target_data_nino_winter_7'][:]\n",
    "target_data_nino_winter_7.shape"
   ]
  },
  {
   "cell_type": "code",
   "execution_count": 89,
   "id": "52ecf132",
   "metadata": {},
   "outputs": [
    {
     "data": {
      "text/plain": [
       "(8, 82, 82)"
      ]
     },
     "execution_count": 89,
     "metadata": {},
     "output_type": "execute_result"
    }
   ],
   "source": [
    "target_data_nino_winter_8 = winter_data['target_data_nino_winter_8'][:]\n",
    "target_data_nino_winter_8.shape"
   ]
  },
  {
   "cell_type": "code",
   "execution_count": 90,
   "id": "b9c67ed0",
   "metadata": {},
   "outputs": [
    {
     "data": {
      "text/plain": [
       "(10, 82, 82)"
      ]
     },
     "execution_count": 90,
     "metadata": {},
     "output_type": "execute_result"
    }
   ],
   "source": [
    "target_data_nino_winter_9 = winter_data['target_data_nino_winter_9'][:]\n",
    "target_data_nino_winter_9.shape"
   ]
  },
  {
   "cell_type": "code",
   "execution_count": 91,
   "id": "bff35836",
   "metadata": {},
   "outputs": [
    {
     "data": {
      "text/plain": [
       "(3, 82, 82)"
      ]
     },
     "execution_count": 91,
     "metadata": {},
     "output_type": "execute_result"
    }
   ],
   "source": [
    "target_data_nino_winter_10 = winter_data['target_data_nino_winter_10'][:]\n",
    "target_data_nino_winter_10.shape"
   ]
  },
  {
   "cell_type": "code",
   "execution_count": 92,
   "id": "48947e81",
   "metadata": {},
   "outputs": [
    {
     "data": {
      "text/plain": [
       "(6, 82, 82)"
      ]
     },
     "execution_count": 92,
     "metadata": {},
     "output_type": "execute_result"
    }
   ],
   "source": [
    "target_data_nino_winter_11 = winter_data['target_data_nino_winter_11'][:]\n",
    "target_data_nino_winter_11.shape"
   ]
  },
  {
   "cell_type": "code",
   "execution_count": 93,
   "id": "92b4dd2f",
   "metadata": {},
   "outputs": [
    {
     "data": {
      "text/plain": [
       "(9, 82, 82)"
      ]
     },
     "execution_count": 93,
     "metadata": {},
     "output_type": "execute_result"
    }
   ],
   "source": [
    "target_data_nino_winter_12 = winter_data['target_data_nino_winter_12'][:]\n",
    "target_data_nino_winter_12.shape"
   ]
  },
  {
   "cell_type": "code",
   "execution_count": 94,
   "id": "01d4bf26",
   "metadata": {},
   "outputs": [
    {
     "data": {
      "text/plain": [
       "(6, 82, 82)"
      ]
     },
     "execution_count": 94,
     "metadata": {},
     "output_type": "execute_result"
    }
   ],
   "source": [
    "target_data_nino_winter_13 = winter_data['target_data_nino_winter_13'][:]\n",
    "target_data_nino_winter_13.shape"
   ]
  },
  {
   "cell_type": "code",
   "execution_count": 95,
   "id": "a2f304aa",
   "metadata": {},
   "outputs": [
    {
     "data": {
      "text/plain": [
       "(92, 82, 82)"
      ]
     },
     "execution_count": 95,
     "metadata": {},
     "output_type": "execute_result"
    }
   ],
   "source": [
    "target_data_nino_winter_14 = winter_data['target_data_nino_winter_14'][:]\n",
    "target_data_nino_winter_14.shape"
   ]
  },
  {
   "cell_type": "code",
   "execution_count": 96,
   "id": "ee73018a",
   "metadata": {},
   "outputs": [
    {
     "data": {
      "text/plain": [
       "(6, 82, 82)"
      ]
     },
     "execution_count": 96,
     "metadata": {},
     "output_type": "execute_result"
    }
   ],
   "source": [
    "target_data_nino_winter_15 = winter_data['target_data_nino_winter_15'][:]\n",
    "target_data_nino_winter_15.shape"
   ]
  },
  {
   "cell_type": "code",
   "execution_count": 97,
   "id": "fa2ab715",
   "metadata": {},
   "outputs": [
    {
     "data": {
      "text/plain": [
       "(10, 82, 82)"
      ]
     },
     "execution_count": 97,
     "metadata": {},
     "output_type": "execute_result"
    }
   ],
   "source": [
    "target_data_nino_winter_16 = winter_data['target_data_nino_winter_16'][:]\n",
    "target_data_nino_winter_16.shape"
   ]
  },
  {
   "cell_type": "code",
   "execution_count": 98,
   "id": "bb869b20",
   "metadata": {},
   "outputs": [
    {
     "data": {
      "text/plain": [
       "(5, 82, 82)"
      ]
     },
     "execution_count": 98,
     "metadata": {},
     "output_type": "execute_result"
    }
   ],
   "source": [
    "target_data_nino_winter_17 = winter_data['target_data_nino_winter_17'][:]\n",
    "target_data_nino_winter_17.shape"
   ]
  },
  {
   "cell_type": "code",
   "execution_count": 99,
   "id": "e858786d",
   "metadata": {},
   "outputs": [
    {
     "data": {
      "text/plain": [
       "(8, 82, 82)"
      ]
     },
     "execution_count": 99,
     "metadata": {},
     "output_type": "execute_result"
    }
   ],
   "source": [
    "target_data_nino_winter_18 = winter_data['target_data_nino_winter_18'][:]\n",
    "target_data_nino_winter_18.shape"
   ]
  },
  {
   "cell_type": "code",
   "execution_count": 100,
   "id": "d0a74058",
   "metadata": {},
   "outputs": [
    {
     "data": {
      "text/plain": [
       "(5, 82, 82)"
      ]
     },
     "execution_count": 100,
     "metadata": {},
     "output_type": "execute_result"
    }
   ],
   "source": [
    "target_data_nino_winter_19 = winter_data['target_data_nino_winter_19'][:]\n",
    "target_data_nino_winter_19.shape"
   ]
  },
  {
   "cell_type": "code",
   "execution_count": 101,
   "id": "cce93924",
   "metadata": {},
   "outputs": [
    {
     "data": {
      "text/plain": [
       "(8, 82, 82)"
      ]
     },
     "execution_count": 101,
     "metadata": {},
     "output_type": "execute_result"
    }
   ],
   "source": [
    "target_data_nino_winter_20 = winter_data['target_data_nino_winter_20'][:]\n",
    "target_data_nino_winter_20.shape"
   ]
  },
  {
   "cell_type": "code",
   "execution_count": 103,
   "id": "40f8e4b7",
   "metadata": {},
   "outputs": [
    {
     "data": {
      "text/plain": [
       "(249, 82, 82)"
      ]
     },
     "execution_count": 103,
     "metadata": {},
     "output_type": "execute_result"
    }
   ],
   "source": [
    "target_data_nino_winter= np.concatenate((target_data_nino_winter_1, target_data_nino_winter_2,\n",
    "                                        target_data_nino_winter_3, target_data_nino_winter_4,\n",
    "                                        target_data_nino_winter_5, target_data_nino_winter_6,\n",
    "                                        target_data_nino_winter_7, target_data_nino_winter_8,\n",
    "                                        target_data_nino_winter_9, target_data_nino_winter_10,\n",
    "                                        target_data_nino_winter_11, target_data_nino_winter_12, \n",
    "                                        target_data_nino_winter_13, target_data_nino_winter_14,\n",
    "                                        target_data_nino_winter_15, target_data_nino_winter_16,\n",
    "                                        target_data_nino_winter_17, target_data_nino_winter_18,\n",
    "                                        target_data_nino_winter_19, target_data_nino_winter_20), axis = 0)\n",
    "target_data_nino_winter.shape"
   ]
  },
  {
   "cell_type": "code",
   "execution_count": 104,
   "id": "44522b81",
   "metadata": {},
   "outputs": [
    {
     "data": {
      "text/plain": [
       "(82, 82)"
      ]
     },
     "execution_count": 104,
     "metadata": {},
     "output_type": "execute_result"
    }
   ],
   "source": [
    "target_data_nino_winter1 = np.mean(target_data_nino_winter, axis = 0)\n",
    "target_data_nino_winter1.shape"
   ]
  },
  {
   "cell_type": "code",
   "execution_count": 105,
   "id": "718dcfe6",
   "metadata": {},
   "outputs": [
    {
     "data": {
      "image/png": "[encoded data removed]",
      "text/plain": [
       "<Figure size 432x288 with 2 Axes>"
      ]
     },
     "metadata": {
      "needs_background": "light"
     },
     "output_type": "display_data"
    }
   ],
   "source": [
    "import matplotlib.colors as colors \n",
    "cmap = colors.LinearSegmentedColormap.from_list('SST', [(0,'blue'), (0.5,'white'), (1,'red')])\n",
    "# cmap = plt.cm.get_cmap('YlGn')\n",
    "# cmap = colors.LinearSegmentedColormap.from_list('SST', [(0,'white'), (0.8,'red'), (1,'orange')])\n",
    "\n",
    "x_ticks = [1,20,40,60,80]\n",
    "x_labels = ['30W','25W','20W','15W','10W']\n",
    "plt.xticks(x_ticks, x_labels)\n",
    "\n",
    "y_ticks = [0, 20,40, 60, 80]\n",
    "y_labels = ['10S','15S', '20S','25S','30S']\n",
    "plt.yticks(y_ticks, y_labels)\n",
    "\n",
    "plt.imshow(target_data_nino_winter1, cmap=cmap, interpolation='nearest')\n",
    "plt.colorbar()\n",
    "plt.show()"
   ]
  },
  {
   "cell_type": "code",
   "execution_count": 176,
   "id": "64c4b925",
   "metadata": {},
   "outputs": [
    {
     "data": {
      "image/png": "[encoded data removed]",
      "text/plain": [
       "<Figure size 864x864 with 5 Axes>"
      ]
     },
     "metadata": {
      "needs_background": "light"
     },
     "output_type": "display_data"
    }
   ],
   "source": [
    "import matplotlib.colors as colors \n",
    "import matplotlib.pyplot as plt\n",
    "\n",
    "# Set up the colormap\n",
    "cmap = colors.LinearSegmentedColormap.from_list('SST', [(0,'blue'), (0.5,'white'), (1,'red')])\n",
    "\n",
    "# Set up the tick labels\n",
    "x_ticks = [1,20,40,60,80]\n",
    "x_labels = ['30W','25W','20W','15W','10W']\n",
    "y_ticks = [0, 20,40, 60, 80]\n",
    "y_labels = ['10S','15S', '20S','25S','30S']\n",
    "\n",
    "# Create the figure and subplots\n",
    "fig, axs = plt.subplots(nrows=2, ncols=2, figsize=(12,12))\n",
    "\n",
    "# Add each image to a different subplot\n",
    "im1 = axs[0,0].imshow(target_data_nino_spring1, cmap=cmap, interpolation='nearest')\n",
    "im2 = axs[0,1].imshow(target_data_nino_summer1, cmap=cmap, interpolation='nearest')\n",
    "im3 = axs[1,0].imshow(target_data_nino_autumn1, cmap=cmap, interpolation='nearest')\n",
    "im4 = axs[1,1].imshow(target_data_nino_winter1, cmap=cmap, interpolation='nearest')\n",
    "\n",
    "# Add the tick labels to the subplots\n",
    "for ax in axs.flat:\n",
    "    ax.set_xticks(x_ticks)\n",
    "    ax.set_xticklabels(x_labels)\n",
    "    ax.set_yticks(y_ticks)\n",
    "    ax.set_yticklabels(y_labels)\n",
    "\n",
    "# Add the letter labels to the subplots\n",
    "axs[0,0].text(0, -5, '(a) Spring                  SST(deg ℃)', fontsize=16, fontweight = 'normal')\n",
    "axs[0,1].text(0, -5, '(b) Summer               SST(deg ℃)', fontsize=16, fontweight='normal')\n",
    "axs[1,0].text(0, -5, '(c) Autumn                SST(deg ℃)', fontsize=16, fontweight='normal')\n",
    "axs[1,1].text(0, -5, '(d) Winter                  SST(deg ℃)', fontsize=16, fontweight='normal')\n",
    "\n",
    "#Add blank space for the colorbar\n",
    "fig.subplots_adjust(bottom = 0.2, right = 0.8)\n",
    "\n",
    "# Add a shared colorbar to the figure\n",
    "cbar_ax = fig.add_axes([0.105, 0.1, 0.7, 0.03])\n",
    "fig.colorbar(im4, cax = cbar_ax, orientation = 'horizontal')\n",
    "\n",
    "# Set the overall title for the figure\n",
    "# fig.suptitle('Nino Spring')\n",
    "\n",
    "# Show the figure\n",
    "plt.show()"
   ]
  },
  {
   "cell_type": "code",
   "execution_count": null,
   "id": "6ad8e9d3",
   "metadata": {},
   "outputs": [],
   "source": []
  }
 ],
 "metadata": {
  "kernelspec": {
   "display_name": "Python 3 (ipykernel)",
   "language": "python",
   "name": "python3"
  },
  "language_info": {
   "codemirror_mode": {
    "name": "ipython",
    "version": 3
   },
   "file_extension": ".py",
   "mimetype": "text/x-python",
   "name": "python",
   "nbconvert_exporter": "python",
   "pygments_lexer": "ipython3",
   "version": "3.8.12"
  }
 },
 "nbformat": 4,
 "nbformat_minor": 5
}

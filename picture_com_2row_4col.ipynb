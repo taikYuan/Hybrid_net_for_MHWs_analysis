{
 "cells": [
  {
   "cell_type": "code",
   "execution_count": 1,
   "id": "1b2e780f",
   "metadata": {},
   "outputs": [],
   "source": [
    "from PIL import Image"
   ]
  },
  {
   "cell_type": "code",
   "execution_count": 2,
   "id": "d7597713",
   "metadata": {},
   "outputs": [],
   "source": [
    "Origin_Tt = Image.open(r'C:\\Users\\mymylove\\Desktop\\论文相关\\第三篇论文_HeatWave\\WEIO\\figure_case1\\Origin_Tt_WEIO.png')\n",
    "Origin_Sf = Image.open(r'C:\\Users\\mymylove\\Desktop\\论文相关\\第三篇论文_HeatWave\\WEIO\\figure_case1\\Origin_Sf_WEIO.png')\n",
    "Origin_Adv = Image.open(r'C:\\Users\\mymylove\\Desktop\\论文相关\\第三篇论文_HeatWave\\WEIO\\figure_case1\\Origin_Adv_WEIO.png')\n",
    "Origin_Res = Image.open(r'C:\\Users\\mymylove\\Desktop\\论文相关\\第三篇论文_HeatWave\\WEIO\\figure_case1\\Origin_Res_WEIO.png')"
   ]
  },
  {
   "cell_type": "code",
   "execution_count": 3,
   "id": "980a6fbd",
   "metadata": {},
   "outputs": [],
   "source": [
    "Optimized_Tt = Image.open(r'C:\\Users\\mymylove\\Desktop\\论文相关\\第三篇论文_HeatWave\\WEIO\\figure_case1\\Optimized_Tt_WEIO.png')\n",
    "Optimized_Sf = Image.open(r'C:\\Users\\mymylove\\Desktop\\论文相关\\第三篇论文_HeatWave\\WEIO\\figure_case1\\Optimized_Sf_WEIO.png')\n",
    "Optimized_Adv = Image.open(r'C:\\Users\\mymylove\\Desktop\\论文相关\\第三篇论文_HeatWave\\WEIO\\figure_case1\\Optimized_Adv_WEIO.png')\n",
    "Optimized_Res = Image.open(r'C:\\Users\\mymylove\\Desktop\\论文相关\\第三篇论文_HeatWave\\WEIO\\figure_case1\\Optimized_Res_WEIO.png')"
   ]
  },
  {
   "cell_type": "code",
   "execution_count": 6,
   "id": "33fa2c15",
   "metadata": {},
   "outputs": [],
   "source": [
    "image1 = Origin_Tt"
   ]
  },
  {
   "cell_type": "code",
   "execution_count": 7,
   "id": "d539efc5",
   "metadata": {},
   "outputs": [],
   "source": [
    "new_image = Image.new('RGB', (Origin_Tt.width*4 + 50, image1.height*2 + 20), (255, 255, 255))"
   ]
  },
  {
   "cell_type": "code",
   "execution_count": 30,
   "id": "e4f2ea6a",
   "metadata": {},
   "outputs": [],
   "source": [
    "# 将12张图片按照要求合并到新图片中\n",
    "new_image.paste(Origin_Tt, (10, 10))\n",
    "new_image.paste(Origin_Sf, (image1.width + 30, 10))\n",
    "new_image.paste(Origin_Adv, (image1.width*2 + 30, 10))\n",
    "new_image.paste(Origin_Res, (image1.width*3 + 30, 10))\n",
    "\n",
    "new_image.paste(Optimized_Tt, (10, image1.height + 20))\n",
    "new_image.paste(Optimized_Sf, (Optimized_Tt.width + 30, image1.height + 20))\n",
    "new_image.paste(Optimized_Adv, (Optimized_Tt.width*2 + 30, image1.height + 20))\n",
    "new_image.paste(Optimized_Res, (Optimized_Tt.width*3 + 30, image1.height + 20))"
   ]
  },
  {
   "cell_type": "code",
   "execution_count": 31,
   "id": "f569e0a3",
   "metadata": {},
   "outputs": [],
   "source": [
    "new_image.save(r'C:\\Users\\mymylove\\Desktop\\论文相关\\第三篇论文_HeatWave\\WEIO\\figure_case1\\merged_image1.png')"
   ]
  },
  {
   "cell_type": "code",
   "execution_count": null,
   "id": "6ba05eff",
   "metadata": {},
   "outputs": [],
   "source": []
  }
 ],
 "metadata": {
  "kernelspec": {
   "display_name": "Python 3 (ipykernel)",
   "language": "python",
   "name": "python3"
  },
  "language_info": {
   "codemirror_mode": {
    "name": "ipython",
    "version": 3
   },
   "file_extension": ".py",
   "mimetype": "text/x-python",
   "name": "python",
   "nbconvert_exporter": "python",
   "pygments_lexer": "ipython3",
   "version": "3.8.18"
  }
 },
 "nbformat": 4,
 "nbformat_minor": 5
}
